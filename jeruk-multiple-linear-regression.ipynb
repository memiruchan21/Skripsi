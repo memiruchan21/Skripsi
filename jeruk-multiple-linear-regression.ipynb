{
 "cells": [
  {
   "cell_type": "markdown",
   "metadata": {
    "papermill": {
     "duration": 0.131093,
     "end_time": "2024-01-27T00:10:32.066619",
     "exception": false,
     "start_time": "2024-01-27T00:10:31.935526",
     "status": "completed"
    },
    "tags": []
   },
   "source": [
    "# Multiple Linear Regression\n",
    "## Bike Sharing Assignment\n",
    "\n",
    "#### Problem Statement:\n",
    "\n",
    "A bike-sharing system is a service in which bikes are made available for shared use to individuals on a short term basis for a price or free. Many bike share systems allow people to borrow a bike from a \"dock\" which is usually computer-controlled wherein the user enters the payment information, and the system unlocks it. This bike can then be returned to another dock belonging to the same system.\n",
    "\n",
    "\n",
    "A US bike-sharing provider BikeIndia has recently suffered considerable dips in their revenues due to the ongoing Corona pandemic. The company is finding it very difficult to sustain in the current market scenario. So, it has decided to come up with a mindful business plan to be able to accelerate its revenue as soon as the ongoing lockdown comes to an end, and the economy restores to a healthy state. \n",
    "\n",
    "\n",
    "In such an attempt, **BikeIndia** aspires to understand the demand for shared bikes among the people after this ongoing quarantine situation ends across the nation due to Covid-19. They have planned this to prepare themselves to cater to the people's needs once the situation gets better all around and stand out from other service providers and make huge profits.\n",
    "\n",
    "\n",
    "They have contracted a consulting company to understand the factors on which the demand for these shared bikes depends. Specifically, they want to understand the factors affecting the demand for these shared bikes in the American market. The company wants to know:\n",
    "\n",
    "Which variables are significant in predicting the demand for shared bikes.\n",
    "How well those variables describe the bike demands\n",
    "Based on various meteorological surveys and people's styles, the service provider firm has gathered a large dataset on daily bike demands across the American market based on some factors. \n",
    "\n",
    "#### Business Goal:\n",
    "\n",
    "We are required to model the demand for shared bikes with the available independent variables. It will be used by the management to understand how exactly the demands vary with different features. They can accordingly manipulate the business strategy to meet the demand levels and meet the customer's expectations. Further, the model will be a good way for management to understand the demand dynamics of a new market. "
   ]
  },
  {
   "cell_type": "markdown",
   "metadata": {
    "papermill": {
     "duration": 0.12858,
     "end_time": "2024-01-27T00:10:32.325608",
     "exception": false,
     "start_time": "2024-01-27T00:10:32.197028",
     "status": "completed"
    },
    "tags": []
   },
   "source": [
    "##  Reading and Understanding the Data\n"
   ]
  },
  {
   "cell_type": "code",
   "execution_count": 1,
   "metadata": {
    "execution": {
     "iopub.execute_input": "2024-01-27T00:10:32.608761Z",
     "iopub.status.busy": "2024-01-27T00:10:32.605703Z",
     "iopub.status.idle": "2024-01-27T00:10:32.612687Z",
     "shell.execute_reply": "2024-01-27T00:10:32.611964Z",
     "shell.execute_reply.started": "2024-01-26T06:59:53.073633Z"
    },
    "papermill": {
     "duration": 0.160285,
     "end_time": "2024-01-27T00:10:32.612880",
     "exception": false,
     "start_time": "2024-01-27T00:10:32.452595",
     "status": "completed"
    },
    "tags": []
   },
   "outputs": [],
   "source": [
    "# Supress Warnings\n",
    "\n",
    "import warnings\n",
    "warnings.filterwarnings('ignore')"
   ]
  },
  {
   "cell_type": "code",
   "execution_count": 2,
   "metadata": {
    "execution": {
     "iopub.execute_input": "2024-01-27T00:10:32.917898Z",
     "iopub.status.busy": "2024-01-27T00:10:32.916595Z",
     "iopub.status.idle": "2024-01-27T00:10:34.131661Z",
     "shell.execute_reply": "2024-01-27T00:10:34.130734Z",
     "shell.execute_reply.started": "2024-01-26T06:59:53.081592Z"
    },
    "papermill": {
     "duration": 1.360745,
     "end_time": "2024-01-27T00:10:34.131880",
     "exception": false,
     "start_time": "2024-01-27T00:10:32.771135",
     "status": "completed"
    },
    "tags": []
   },
   "outputs": [],
   "source": [
    "import numpy as np\n",
    "import pandas as pd\n",
    "import matplotlib.pyplot as plt\n",
    "import seaborn as sns\n",
    "%matplotlib inline"
   ]
  },
  {
   "cell_type": "code",
   "execution_count": 3,
   "metadata": {
    "execution": {
     "iopub.execute_input": "2024-01-27T00:10:34.399578Z",
     "iopub.status.busy": "2024-01-27T00:10:34.398600Z",
     "iopub.status.idle": "2024-01-27T00:10:34.429554Z",
     "shell.execute_reply": "2024-01-27T00:10:34.430234Z",
     "shell.execute_reply.started": "2024-01-26T06:59:53.450726Z"
    },
    "papermill": {
     "duration": 0.166744,
     "end_time": "2024-01-27T00:10:34.430439",
     "exception": false,
     "start_time": "2024-01-27T00:10:34.263695",
     "status": "completed"
    },
    "tags": []
   },
   "outputs": [
    {
     "name": "stdout",
     "output_type": "stream",
     "text": [
      "/kaggle/input/bismillahskripsi/Buleleng-Climate - Full (1).csv\n",
      "/kaggle/input/bike-sharing/day.csv\n"
     ]
    }
   ],
   "source": [
    "import os\n",
    "for dirname, _, filenames in os.walk('/kaggle/input'):\n",
    "    for filename in filenames:\n",
    "        print(os.path.join(dirname, filename))"
   ]
  },
  {
   "cell_type": "code",
   "execution_count": 4,
   "metadata": {
    "execution": {
     "iopub.execute_input": "2024-01-27T00:10:34.699425Z",
     "iopub.status.busy": "2024-01-27T00:10:34.698629Z",
     "iopub.status.idle": "2024-01-27T00:10:34.723048Z",
     "shell.execute_reply": "2024-01-27T00:10:34.722299Z",
     "shell.execute_reply.started": "2024-01-26T06:59:53.465014Z"
    },
    "papermill": {
     "duration": 0.160988,
     "end_time": "2024-01-27T00:10:34.723212",
     "exception": false,
     "start_time": "2024-01-27T00:10:34.562224",
     "status": "completed"
    },
    "tags": []
   },
   "outputs": [],
   "source": [
    "bike = pd.read_csv(\"/kaggle/input/bismillahskripsi/Buleleng-Climate - Full (1).csv\")"
   ]
  },
  {
   "cell_type": "code",
   "execution_count": 5,
   "metadata": {
    "execution": {
     "iopub.execute_input": "2024-01-27T00:10:35.001196Z",
     "iopub.status.busy": "2024-01-27T00:10:35.000022Z",
     "iopub.status.idle": "2024-01-27T00:10:35.015369Z",
     "shell.execute_reply": "2024-01-27T00:10:35.016010Z",
     "shell.execute_reply.started": "2024-01-26T06:59:53.479710Z"
    },
    "papermill": {
     "duration": 0.164625,
     "end_time": "2024-01-27T00:10:35.016177",
     "exception": false,
     "start_time": "2024-01-27T00:10:34.851552",
     "status": "completed"
    },
    "tags": []
   },
   "outputs": [
    {
     "data": {
      "text/html": [
       "<div>\n",
       "<style scoped>\n",
       "    .dataframe tbody tr th:only-of-type {\n",
       "        vertical-align: middle;\n",
       "    }\n",
       "\n",
       "    .dataframe tbody tr th {\n",
       "        vertical-align: top;\n",
       "    }\n",
       "\n",
       "    .dataframe thead th {\n",
       "        text-align: right;\n",
       "    }\n",
       "</style>\n",
       "<table border=\"1\" class=\"dataframe\">\n",
       "  <thead>\n",
       "    <tr style=\"text-align: right;\">\n",
       "      <th></th>\n",
       "      <th>Year</th>\n",
       "      <th>Periode</th>\n",
       "      <th>Produktivitas Mangga</th>\n",
       "      <th>Produktivitas Jeruk</th>\n",
       "      <th>Max</th>\n",
       "      <th>Min</th>\n",
       "      <th>Tavg</th>\n",
       "      <th>Sun Hour</th>\n",
       "      <th>Sun Day</th>\n",
       "      <th>Curah Hujan</th>\n",
       "      <th>Hari Hujan</th>\n",
       "      <th>Kecepatan A</th>\n",
       "      <th>Mx Kec</th>\n",
       "    </tr>\n",
       "  </thead>\n",
       "  <tbody>\n",
       "    <tr>\n",
       "      <th>0</th>\n",
       "      <td>2012</td>\n",
       "      <td>Triwulan I</td>\n",
       "      <td>0.46</td>\n",
       "      <td>0.17</td>\n",
       "      <td>28.0</td>\n",
       "      <td>25.0</td>\n",
       "      <td>26.00</td>\n",
       "      <td>78.7</td>\n",
       "      <td>8</td>\n",
       "      <td>501</td>\n",
       "      <td>83</td>\n",
       "      <td>8.17</td>\n",
       "      <td>13.4</td>\n",
       "    </tr>\n",
       "    <tr>\n",
       "      <th>1</th>\n",
       "      <td>2012</td>\n",
       "      <td>Triwulan II</td>\n",
       "      <td>0.00</td>\n",
       "      <td>0.10</td>\n",
       "      <td>28.0</td>\n",
       "      <td>24.0</td>\n",
       "      <td>26.00</td>\n",
       "      <td>237.7</td>\n",
       "      <td>49</td>\n",
       "      <td>164</td>\n",
       "      <td>42</td>\n",
       "      <td>8.93</td>\n",
       "      <td>14.0</td>\n",
       "    </tr>\n",
       "    <tr>\n",
       "      <th>2</th>\n",
       "      <td>2012</td>\n",
       "      <td>Triwulan III</td>\n",
       "      <td>0.27</td>\n",
       "      <td>0.20</td>\n",
       "      <td>28.0</td>\n",
       "      <td>22.0</td>\n",
       "      <td>24.33</td>\n",
       "      <td>336.3</td>\n",
       "      <td>88</td>\n",
       "      <td>10</td>\n",
       "      <td>4</td>\n",
       "      <td>12.20</td>\n",
       "      <td>17.2</td>\n",
       "    </tr>\n",
       "    <tr>\n",
       "      <th>3</th>\n",
       "      <td>2012</td>\n",
       "      <td>Triwulan IV</td>\n",
       "      <td>0.46</td>\n",
       "      <td>0.11</td>\n",
       "      <td>29.0</td>\n",
       "      <td>25.0</td>\n",
       "      <td>27.00</td>\n",
       "      <td>176.0</td>\n",
       "      <td>24</td>\n",
       "      <td>375</td>\n",
       "      <td>68</td>\n",
       "      <td>7.93</td>\n",
       "      <td>13.6</td>\n",
       "    </tr>\n",
       "    <tr>\n",
       "      <th>4</th>\n",
       "      <td>2013</td>\n",
       "      <td>Triwulan I</td>\n",
       "      <td>0.65</td>\n",
       "      <td>0.16</td>\n",
       "      <td>28.0</td>\n",
       "      <td>25.0</td>\n",
       "      <td>27.00</td>\n",
       "      <td>140.7</td>\n",
       "      <td>20</td>\n",
       "      <td>338</td>\n",
       "      <td>70</td>\n",
       "      <td>7.33</td>\n",
       "      <td>12.0</td>\n",
       "    </tr>\n",
       "  </tbody>\n",
       "</table>\n",
       "</div>"
      ],
      "text/plain": [
       "   Year       Periode  Produktivitas Mangga  Produktivitas Jeruk   Max   Min  \\\n",
       "0  2012    Triwulan I                  0.46                 0.17  28.0  25.0   \n",
       "1  2012   Triwulan II                  0.00                 0.10  28.0  24.0   \n",
       "2  2012  Triwulan III                  0.27                 0.20  28.0  22.0   \n",
       "3  2012   Triwulan IV                  0.46                 0.11  29.0  25.0   \n",
       "4  2013    Triwulan I                  0.65                 0.16  28.0  25.0   \n",
       "\n",
       "    Tavg  Sun Hour  Sun Day  Curah Hujan  Hari Hujan  Kecepatan A  Mx Kec  \n",
       "0  26.00      78.7        8          501          83         8.17    13.4  \n",
       "1  26.00     237.7       49          164          42         8.93    14.0  \n",
       "2  24.33     336.3       88           10           4        12.20    17.2  \n",
       "3  27.00     176.0       24          375          68         7.93    13.6  \n",
       "4  27.00     140.7       20          338          70         7.33    12.0  "
      ]
     },
     "execution_count": 5,
     "metadata": {},
     "output_type": "execute_result"
    }
   ],
   "source": [
    "# Check the head of the dataset\n",
    "bike.head()"
   ]
  },
  {
   "cell_type": "code",
   "execution_count": 6,
   "metadata": {
    "execution": {
     "iopub.execute_input": "2024-01-27T00:10:35.286267Z",
     "iopub.status.busy": "2024-01-27T00:10:35.285115Z",
     "iopub.status.idle": "2024-01-27T00:10:35.303217Z",
     "shell.execute_reply": "2024-01-27T00:10:35.304044Z",
     "shell.execute_reply.started": "2024-01-26T06:59:53.505716Z"
    },
    "papermill": {
     "duration": 0.156605,
     "end_time": "2024-01-27T00:10:35.304259",
     "exception": false,
     "start_time": "2024-01-27T00:10:35.147654",
     "status": "completed"
    },
    "tags": []
   },
   "outputs": [
    {
     "name": "stdout",
     "output_type": "stream",
     "text": [
      "<class 'pandas.core.frame.DataFrame'>\n",
      "RangeIndex: 40 entries, 0 to 39\n",
      "Data columns (total 13 columns):\n",
      " #   Column                Non-Null Count  Dtype  \n",
      "---  ------                --------------  -----  \n",
      " 0   Year                  40 non-null     int64  \n",
      " 1   Periode               40 non-null     object \n",
      " 2   Produktivitas Mangga  40 non-null     float64\n",
      " 3   Produktivitas Jeruk   40 non-null     float64\n",
      " 4   Max                   40 non-null     float64\n",
      " 5   Min                   40 non-null     float64\n",
      " 6   Tavg                  40 non-null     float64\n",
      " 7   Sun Hour              40 non-null     float64\n",
      " 8   Sun Day               40 non-null     int64  \n",
      " 9   Curah Hujan           40 non-null     int64  \n",
      " 10  Hari Hujan            40 non-null     int64  \n",
      " 11  Kecepatan A           40 non-null     float64\n",
      " 12  Mx Kec                40 non-null     float64\n",
      "dtypes: float64(8), int64(4), object(1)\n",
      "memory usage: 4.2+ KB\n"
     ]
    }
   ],
   "source": [
    "# Check the descriptive information\n",
    "bike.info()"
   ]
  },
  {
   "cell_type": "code",
   "execution_count": 7,
   "metadata": {
    "execution": {
     "iopub.execute_input": "2024-01-27T00:10:35.574246Z",
     "iopub.status.busy": "2024-01-27T00:10:35.573256Z",
     "iopub.status.idle": "2024-01-27T00:10:35.639592Z",
     "shell.execute_reply": "2024-01-27T00:10:35.638693Z",
     "shell.execute_reply.started": "2024-01-26T06:59:53.528990Z"
    },
    "papermill": {
     "duration": 0.203236,
     "end_time": "2024-01-27T00:10:35.639755",
     "exception": false,
     "start_time": "2024-01-27T00:10:35.436519",
     "status": "completed"
    },
    "tags": []
   },
   "outputs": [
    {
     "data": {
      "text/html": [
       "<div>\n",
       "<style scoped>\n",
       "    .dataframe tbody tr th:only-of-type {\n",
       "        vertical-align: middle;\n",
       "    }\n",
       "\n",
       "    .dataframe tbody tr th {\n",
       "        vertical-align: top;\n",
       "    }\n",
       "\n",
       "    .dataframe thead th {\n",
       "        text-align: right;\n",
       "    }\n",
       "</style>\n",
       "<table border=\"1\" class=\"dataframe\">\n",
       "  <thead>\n",
       "    <tr style=\"text-align: right;\">\n",
       "      <th></th>\n",
       "      <th>Year</th>\n",
       "      <th>Produktivitas Mangga</th>\n",
       "      <th>Produktivitas Jeruk</th>\n",
       "      <th>Max</th>\n",
       "      <th>Min</th>\n",
       "      <th>Tavg</th>\n",
       "      <th>Sun Hour</th>\n",
       "      <th>Sun Day</th>\n",
       "      <th>Curah Hujan</th>\n",
       "      <th>Hari Hujan</th>\n",
       "      <th>Kecepatan A</th>\n",
       "      <th>Mx Kec</th>\n",
       "    </tr>\n",
       "  </thead>\n",
       "  <tbody>\n",
       "    <tr>\n",
       "      <th>count</th>\n",
       "      <td>40.000000</td>\n",
       "      <td>40.0000</td>\n",
       "      <td>40.000000</td>\n",
       "      <td>40.000000</td>\n",
       "      <td>40.000000</td>\n",
       "      <td>40.000000</td>\n",
       "      <td>40.000000</td>\n",
       "      <td>40.00000</td>\n",
       "      <td>40.000000</td>\n",
       "      <td>40.000000</td>\n",
       "      <td>40.000000</td>\n",
       "      <td>40.00000</td>\n",
       "    </tr>\n",
       "    <tr>\n",
       "      <th>mean</th>\n",
       "      <td>2016.500000</td>\n",
       "      <td>0.4385</td>\n",
       "      <td>0.188500</td>\n",
       "      <td>29.175000</td>\n",
       "      <td>24.700000</td>\n",
       "      <td>26.683500</td>\n",
       "      <td>191.615000</td>\n",
       "      <td>40.05000</td>\n",
       "      <td>296.975000</td>\n",
       "      <td>63.725000</td>\n",
       "      <td>7.432500</td>\n",
       "      <td>11.94000</td>\n",
       "    </tr>\n",
       "    <tr>\n",
       "      <th>std</th>\n",
       "      <td>2.908872</td>\n",
       "      <td>0.2978</td>\n",
       "      <td>0.174922</td>\n",
       "      <td>0.930605</td>\n",
       "      <td>0.992278</td>\n",
       "      <td>1.010064</td>\n",
       "      <td>78.482399</td>\n",
       "      <td>25.66645</td>\n",
       "      <td>345.464421</td>\n",
       "      <td>67.614665</td>\n",
       "      <td>1.631161</td>\n",
       "      <td>2.36706</td>\n",
       "    </tr>\n",
       "    <tr>\n",
       "      <th>min</th>\n",
       "      <td>2012.000000</td>\n",
       "      <td>0.0000</td>\n",
       "      <td>0.000000</td>\n",
       "      <td>28.000000</td>\n",
       "      <td>22.000000</td>\n",
       "      <td>24.330000</td>\n",
       "      <td>30.000000</td>\n",
       "      <td>6.00000</td>\n",
       "      <td>4.000000</td>\n",
       "      <td>4.000000</td>\n",
       "      <td>5.170000</td>\n",
       "      <td>7.90000</td>\n",
       "    </tr>\n",
       "    <tr>\n",
       "      <th>25%</th>\n",
       "      <td>2014.000000</td>\n",
       "      <td>0.2550</td>\n",
       "      <td>0.100000</td>\n",
       "      <td>28.000000</td>\n",
       "      <td>24.000000</td>\n",
       "      <td>26.000000</td>\n",
       "      <td>137.025000</td>\n",
       "      <td>20.00000</td>\n",
       "      <td>93.750000</td>\n",
       "      <td>30.250000</td>\n",
       "      <td>6.322500</td>\n",
       "      <td>10.27500</td>\n",
       "    </tr>\n",
       "    <tr>\n",
       "      <th>50%</th>\n",
       "      <td>2016.500000</td>\n",
       "      <td>0.4900</td>\n",
       "      <td>0.160000</td>\n",
       "      <td>29.000000</td>\n",
       "      <td>25.000000</td>\n",
       "      <td>26.835000</td>\n",
       "      <td>182.000000</td>\n",
       "      <td>29.50000</td>\n",
       "      <td>246.500000</td>\n",
       "      <td>51.500000</td>\n",
       "      <td>7.120000</td>\n",
       "      <td>12.05000</td>\n",
       "    </tr>\n",
       "    <tr>\n",
       "      <th>75%</th>\n",
       "      <td>2019.000000</td>\n",
       "      <td>0.5900</td>\n",
       "      <td>0.242500</td>\n",
       "      <td>30.000000</td>\n",
       "      <td>25.000000</td>\n",
       "      <td>27.670000</td>\n",
       "      <td>239.450000</td>\n",
       "      <td>57.00000</td>\n",
       "      <td>385.750000</td>\n",
       "      <td>69.250000</td>\n",
       "      <td>8.117500</td>\n",
       "      <td>13.67500</td>\n",
       "    </tr>\n",
       "    <tr>\n",
       "      <th>max</th>\n",
       "      <td>2021.000000</td>\n",
       "      <td>1.3700</td>\n",
       "      <td>0.850000</td>\n",
       "      <td>31.000000</td>\n",
       "      <td>26.000000</td>\n",
       "      <td>28.330000</td>\n",
       "      <td>336.300000</td>\n",
       "      <td>88.00000</td>\n",
       "      <td>2008.000000</td>\n",
       "      <td>385.000000</td>\n",
       "      <td>12.200000</td>\n",
       "      <td>17.20000</td>\n",
       "    </tr>\n",
       "  </tbody>\n",
       "</table>\n",
       "</div>"
      ],
      "text/plain": [
       "              Year  Produktivitas Mangga  Produktivitas Jeruk        Max  \\\n",
       "count    40.000000               40.0000            40.000000  40.000000   \n",
       "mean   2016.500000                0.4385             0.188500  29.175000   \n",
       "std       2.908872                0.2978             0.174922   0.930605   \n",
       "min    2012.000000                0.0000             0.000000  28.000000   \n",
       "25%    2014.000000                0.2550             0.100000  28.000000   \n",
       "50%    2016.500000                0.4900             0.160000  29.000000   \n",
       "75%    2019.000000                0.5900             0.242500  30.000000   \n",
       "max    2021.000000                1.3700             0.850000  31.000000   \n",
       "\n",
       "             Min       Tavg    Sun Hour   Sun Day  Curah Hujan  Hari Hujan  \\\n",
       "count  40.000000  40.000000   40.000000  40.00000    40.000000   40.000000   \n",
       "mean   24.700000  26.683500  191.615000  40.05000   296.975000   63.725000   \n",
       "std     0.992278   1.010064   78.482399  25.66645   345.464421   67.614665   \n",
       "min    22.000000  24.330000   30.000000   6.00000     4.000000    4.000000   \n",
       "25%    24.000000  26.000000  137.025000  20.00000    93.750000   30.250000   \n",
       "50%    25.000000  26.835000  182.000000  29.50000   246.500000   51.500000   \n",
       "75%    25.000000  27.670000  239.450000  57.00000   385.750000   69.250000   \n",
       "max    26.000000  28.330000  336.300000  88.00000  2008.000000  385.000000   \n",
       "\n",
       "       Kecepatan A    Mx Kec  \n",
       "count    40.000000  40.00000  \n",
       "mean      7.432500  11.94000  \n",
       "std       1.631161   2.36706  \n",
       "min       5.170000   7.90000  \n",
       "25%       6.322500  10.27500  \n",
       "50%       7.120000  12.05000  \n",
       "75%       8.117500  13.67500  \n",
       "max      12.200000  17.20000  "
      ]
     },
     "execution_count": 7,
     "metadata": {},
     "output_type": "execute_result"
    }
   ],
   "source": [
    "bike.describe()"
   ]
  },
  {
   "cell_type": "code",
   "execution_count": 8,
   "metadata": {
    "execution": {
     "iopub.execute_input": "2024-01-27T00:10:35.921091Z",
     "iopub.status.busy": "2024-01-27T00:10:35.920243Z",
     "iopub.status.idle": "2024-01-27T00:10:35.925277Z",
     "shell.execute_reply": "2024-01-27T00:10:35.924460Z",
     "shell.execute_reply.started": "2024-01-26T06:59:53.599245Z"
    },
    "papermill": {
     "duration": 0.14476,
     "end_time": "2024-01-27T00:10:35.925452",
     "exception": false,
     "start_time": "2024-01-27T00:10:35.780692",
     "status": "completed"
    },
    "tags": []
   },
   "outputs": [
    {
     "name": "stdout",
     "output_type": "stream",
     "text": [
      "(40, 13)\n"
     ]
    }
   ],
   "source": [
    "# Check the shape of df\n",
    "\n",
    "print(bike.shape)"
   ]
  },
  {
   "cell_type": "markdown",
   "metadata": {
    "papermill": {
     "duration": 0.129065,
     "end_time": "2024-01-27T00:10:36.185617",
     "exception": false,
     "start_time": "2024-01-27T00:10:36.056552",
     "status": "completed"
    },
    "tags": []
   },
   "source": [
    "## Finding : \n",
    "Dataset has 730 rows and 16 columns.\n",
    "\n",
    "Except one column, all other are either float or integer type. \n",
    "\n",
    "One column is date type.\n",
    "\n",
    "Looking at the data, there seems to be some fields that are categorical in nature, but in integer/float type.\n",
    "\n",
    "We will analyse and finalize whether to convert them to categorical or treat as integer."
   ]
  },
  {
   "cell_type": "markdown",
   "metadata": {
    "papermill": {
     "duration": 0.130142,
     "end_time": "2024-01-27T00:10:36.444676",
     "exception": false,
     "start_time": "2024-01-27T00:10:36.314534",
     "status": "completed"
    },
    "tags": []
   },
   "source": [
    "# DATA QUALITY CHECK"
   ]
  },
  {
   "cell_type": "markdown",
   "metadata": {
    "papermill": {
     "duration": 0.134155,
     "end_time": "2024-01-27T00:10:36.707873",
     "exception": false,
     "start_time": "2024-01-27T00:10:36.573718",
     "status": "completed"
    },
    "tags": []
   },
   "source": [
    "## Check for NULL/MISSING values"
   ]
  },
  {
   "cell_type": "code",
   "execution_count": 9,
   "metadata": {
    "execution": {
     "iopub.execute_input": "2024-01-27T00:10:36.976881Z",
     "iopub.status.busy": "2024-01-27T00:10:36.975955Z",
     "iopub.status.idle": "2024-01-27T00:10:37.004031Z",
     "shell.execute_reply": "2024-01-27T00:10:37.004826Z",
     "shell.execute_reply.started": "2024-01-26T06:59:53.607217Z"
    },
    "papermill": {
     "duration": 0.167753,
     "end_time": "2024-01-27T00:10:37.005005",
     "exception": false,
     "start_time": "2024-01-27T00:10:36.837252",
     "status": "completed"
    },
    "tags": []
   },
   "outputs": [
    {
     "data": {
      "text/plain": [
       "Mx Kec                  0.0\n",
       "Kecepatan A             0.0\n",
       "Hari Hujan              0.0\n",
       "Curah Hujan             0.0\n",
       "Sun Day                 0.0\n",
       "Sun Hour                0.0\n",
       "Tavg                    0.0\n",
       "Min                     0.0\n",
       "Max                     0.0\n",
       "Produktivitas Jeruk     0.0\n",
       "Produktivitas Mangga    0.0\n",
       "Periode                 0.0\n",
       "Year                    0.0\n",
       "dtype: float64"
      ]
     },
     "execution_count": 9,
     "metadata": {},
     "output_type": "execute_result"
    }
   ],
   "source": [
    "# percentage of missing values in each column\n",
    "round(100*(bike.isnull().sum()/len(bike)), 2).sort_values(ascending=False)"
   ]
  },
  {
   "cell_type": "code",
   "execution_count": 10,
   "metadata": {
    "execution": {
     "iopub.execute_input": "2024-01-27T00:10:37.271117Z",
     "iopub.status.busy": "2024-01-27T00:10:37.270332Z",
     "iopub.status.idle": "2024-01-27T00:10:37.285949Z",
     "shell.execute_reply": "2024-01-27T00:10:37.285313Z",
     "shell.execute_reply.started": "2024-01-26T06:59:53.628164Z"
    },
    "papermill": {
     "duration": 0.150802,
     "end_time": "2024-01-27T00:10:37.286111",
     "exception": false,
     "start_time": "2024-01-27T00:10:37.135309",
     "status": "completed"
    },
    "tags": []
   },
   "outputs": [
    {
     "data": {
      "text/plain": [
       "39    0.0\n",
       "38    0.0\n",
       "17    0.0\n",
       "16    0.0\n",
       "15    0.0\n",
       "14    0.0\n",
       "13    0.0\n",
       "12    0.0\n",
       "11    0.0\n",
       "10    0.0\n",
       "9     0.0\n",
       "8     0.0\n",
       "7     0.0\n",
       "6     0.0\n",
       "5     0.0\n",
       "4     0.0\n",
       "3     0.0\n",
       "2     0.0\n",
       "1     0.0\n",
       "18    0.0\n",
       "19    0.0\n",
       "20    0.0\n",
       "30    0.0\n",
       "37    0.0\n",
       "36    0.0\n",
       "35    0.0\n",
       "34    0.0\n",
       "33    0.0\n",
       "32    0.0\n",
       "31    0.0\n",
       "29    0.0\n",
       "21    0.0\n",
       "28    0.0\n",
       "27    0.0\n",
       "26    0.0\n",
       "25    0.0\n",
       "24    0.0\n",
       "23    0.0\n",
       "22    0.0\n",
       "0     0.0\n",
       "dtype: float64"
      ]
     },
     "execution_count": 10,
     "metadata": {},
     "output_type": "execute_result"
    }
   ],
   "source": [
    "# row-wise null count percentage\n",
    "round((bike.isnull().sum(axis=1)/len(bike))*100,2).sort_values(ascending=False)"
   ]
  },
  {
   "cell_type": "markdown",
   "metadata": {
    "papermill": {
     "duration": 0.132174,
     "end_time": "2024-01-27T00:10:37.552451",
     "exception": false,
     "start_time": "2024-01-27T00:10:37.420277",
     "status": "completed"
    },
    "tags": []
   },
   "source": [
    "## Finding\n",
    "There are no missing / Null values either in columns or rows"
   ]
  },
  {
   "cell_type": "markdown",
   "metadata": {
    "papermill": {
     "duration": 0.191002,
     "end_time": "2024-01-27T00:10:37.879277",
     "exception": false,
     "start_time": "2024-01-27T00:10:37.688275",
     "status": "completed"
    },
    "tags": []
   },
   "source": [
    "## Duplicate Check"
   ]
  },
  {
   "cell_type": "code",
   "execution_count": 11,
   "metadata": {
    "execution": {
     "iopub.execute_input": "2024-01-27T00:10:38.150611Z",
     "iopub.status.busy": "2024-01-27T00:10:38.149774Z",
     "iopub.status.idle": "2024-01-27T00:10:38.165621Z",
     "shell.execute_reply": "2024-01-27T00:10:38.166278Z",
     "shell.execute_reply.started": "2024-01-26T06:59:53.644375Z"
    },
    "papermill": {
     "duration": 0.155197,
     "end_time": "2024-01-27T00:10:38.166481",
     "exception": false,
     "start_time": "2024-01-27T00:10:38.011284",
     "status": "completed"
    },
    "tags": []
   },
   "outputs": [],
   "source": [
    "bike_dup = bike.copy()\n",
    "\n",
    "# Checking for duplicates and dropping the entire duplicate row if any\n",
    "bike_dup.drop_duplicates(subset=None, inplace=True)"
   ]
  },
  {
   "cell_type": "code",
   "execution_count": 12,
   "metadata": {
    "execution": {
     "iopub.execute_input": "2024-01-27T00:10:38.441852Z",
     "iopub.status.busy": "2024-01-27T00:10:38.441021Z",
     "iopub.status.idle": "2024-01-27T00:10:38.445946Z",
     "shell.execute_reply": "2024-01-27T00:10:38.446526Z",
     "shell.execute_reply.started": "2024-01-26T06:59:53.661224Z"
    },
    "papermill": {
     "duration": 0.147179,
     "end_time": "2024-01-27T00:10:38.446709",
     "exception": false,
     "start_time": "2024-01-27T00:10:38.299530",
     "status": "completed"
    },
    "tags": []
   },
   "outputs": [
    {
     "data": {
      "text/plain": [
       "(40, 13)"
      ]
     },
     "execution_count": 12,
     "metadata": {},
     "output_type": "execute_result"
    }
   ],
   "source": [
    "bike_dup.shape"
   ]
  },
  {
   "cell_type": "code",
   "execution_count": 13,
   "metadata": {
    "execution": {
     "iopub.execute_input": "2024-01-27T00:10:38.720636Z",
     "iopub.status.busy": "2024-01-27T00:10:38.719689Z",
     "iopub.status.idle": "2024-01-27T00:10:38.726110Z",
     "shell.execute_reply": "2024-01-27T00:10:38.726683Z",
     "shell.execute_reply.started": "2024-01-26T06:59:53.675026Z"
    },
    "papermill": {
     "duration": 0.148164,
     "end_time": "2024-01-27T00:10:38.726881",
     "exception": false,
     "start_time": "2024-01-27T00:10:38.578717",
     "status": "completed"
    },
    "tags": []
   },
   "outputs": [
    {
     "data": {
      "text/plain": [
       "(40, 13)"
      ]
     },
     "execution_count": 13,
     "metadata": {},
     "output_type": "execute_result"
    }
   ],
   "source": [
    "bike.shape"
   ]
  },
  {
   "cell_type": "markdown",
   "metadata": {
    "papermill": {
     "duration": 0.135224,
     "end_time": "2024-01-27T00:10:38.995642",
     "exception": false,
     "start_time": "2024-01-27T00:10:38.860418",
     "status": "completed"
    },
    "tags": []
   },
   "source": [
    "### Insights \n",
    "\n",
    "The shape after running the drop duplicate command is same as the original dataframe. \n",
    "\n",
    "Hence we can conclude that there were zero duplicate values in the dataset. "
   ]
  },
  {
   "cell_type": "markdown",
   "metadata": {
    "papermill": {
     "duration": 0.134596,
     "end_time": "2024-01-27T00:10:39.261545",
     "exception": false,
     "start_time": "2024-01-27T00:10:39.126949",
     "status": "completed"
    },
    "tags": []
   },
   "source": [
    "## Data Cleaning\n",
    "\n",
    "Checking value_counts() for entire dataframe. \n",
    "\n",
    "This will help to identify any Unknow/Junk values present in the dataset."
   ]
  },
  {
   "cell_type": "code",
   "execution_count": 14,
   "metadata": {
    "execution": {
     "iopub.execute_input": "2024-01-27T00:10:39.533922Z",
     "iopub.status.busy": "2024-01-27T00:10:39.533092Z",
     "iopub.status.idle": "2024-01-27T00:10:39.539526Z",
     "shell.execute_reply": "2024-01-27T00:10:39.540173Z",
     "shell.execute_reply.started": "2024-01-26T06:59:53.688040Z"
    },
    "papermill": {
     "duration": 0.144236,
     "end_time": "2024-01-27T00:10:39.540345",
     "exception": false,
     "start_time": "2024-01-27T00:10:39.396109",
     "status": "completed"
    },
    "tags": []
   },
   "outputs": [],
   "source": [
    "#Create a copy of the  dataframe, without the 'instant' column, \n",
    "\n",
    "#as this will have unique values, and donot make sense to do a value count on it.\n",
    "\n",
    "bike_dummy=bike.iloc[:,1:16]"
   ]
  },
  {
   "cell_type": "code",
   "execution_count": 15,
   "metadata": {
    "execution": {
     "iopub.execute_input": "2024-01-27T00:10:39.812560Z",
     "iopub.status.busy": "2024-01-27T00:10:39.811707Z",
     "iopub.status.idle": "2024-01-27T00:10:39.851739Z",
     "shell.execute_reply": "2024-01-27T00:10:39.850503Z",
     "shell.execute_reply.started": "2024-01-26T06:59:53.700379Z"
    },
    "papermill": {
     "duration": 0.176845,
     "end_time": "2024-01-27T00:10:39.851997",
     "exception": false,
     "start_time": "2024-01-27T00:10:39.675152",
     "status": "completed"
    },
    "tags": []
   },
   "outputs": [
    {
     "name": "stdout",
     "output_type": "stream",
     "text": [
      "Triwulan III    10\n",
      "Triwulan II     10\n",
      "Triwulan I      10\n",
      "Triwulan IV     10\n",
      "Name: Periode, dtype: int64 \n",
      "\n",
      "\n",
      "\n",
      "0.00    8\n",
      "0.65    3\n",
      "0.50    2\n",
      "0.59    2\n",
      "0.47    2\n",
      "0.46    2\n",
      "0.53    1\n",
      "0.68    1\n",
      "0.67    1\n",
      "0.54    1\n",
      "0.52    1\n",
      "0.24    1\n",
      "0.44    1\n",
      "0.70    1\n",
      "0.55    1\n",
      "0.71    1\n",
      "1.37    1\n",
      "0.26    1\n",
      "0.58    1\n",
      "0.48    1\n",
      "0.37    1\n",
      "0.51    1\n",
      "0.23    1\n",
      "0.56    1\n",
      "0.30    1\n",
      "1.04    1\n",
      "0.27    1\n",
      "Name: Produktivitas Mangga, dtype: int64 \n",
      "\n",
      "\n",
      "\n",
      "0.00    7\n",
      "0.10    5\n",
      "0.25    3\n",
      "0.16    3\n",
      "0.26    2\n",
      "0.15    2\n",
      "0.18    2\n",
      "0.11    2\n",
      "0.13    1\n",
      "0.12    1\n",
      "0.22    1\n",
      "0.19    1\n",
      "0.31    1\n",
      "0.24    1\n",
      "0.47    1\n",
      "0.85    1\n",
      "0.50    1\n",
      "0.17    1\n",
      "0.66    1\n",
      "0.21    1\n",
      "0.14    1\n",
      "0.20    1\n",
      "Name: Produktivitas Jeruk, dtype: int64 \n",
      "\n",
      "\n",
      "\n",
      "30.0    15\n",
      "28.0    12\n",
      "29.0    11\n",
      "31.0     2\n",
      "Name: Max, dtype: int64 \n",
      "\n",
      "\n",
      "\n",
      "25.0    15\n",
      "24.0    12\n",
      "26.0     9\n",
      "23.0     3\n",
      "22.0     1\n",
      "Name: Min, dtype: int64 \n",
      "\n",
      "\n",
      "\n",
      "27.00    6\n",
      "27.67    5\n",
      "28.00    5\n",
      "26.00    5\n",
      "25.67    4\n",
      "26.33    3\n",
      "26.67    3\n",
      "27.33    3\n",
      "25.00    2\n",
      "25.33    2\n",
      "24.33    1\n",
      "28.33    1\n",
      "Name: Tavg, dtype: int64 \n",
      "\n",
      "\n",
      "\n",
      "302.0    2\n",
      "225.7    2\n",
      "179.3    1\n",
      "214.3    1\n",
      "162.3    1\n",
      "306.3    1\n",
      "30.0     1\n",
      "234.3    1\n",
      "221.0    1\n",
      "111.0    1\n",
      "47.0     1\n",
      "130.3    1\n",
      "320.0    1\n",
      "166.0    1\n",
      "297.3    1\n",
      "135.0    1\n",
      "156.0    1\n",
      "187.0    1\n",
      "237.7    1\n",
      "140.7    1\n",
      "83.7     1\n",
      "184.7    1\n",
      "336.3    1\n",
      "236.3    1\n",
      "133.7    1\n",
      "121.3    1\n",
      "141.3    1\n",
      "244.7    1\n",
      "316.3    1\n",
      "78.7     1\n",
      "254.7    1\n",
      "168.3    1\n",
      "209.7    1\n",
      "102.7    1\n",
      "269.3    1\n",
      "137.7    1\n",
      "138.3    1\n",
      "176.0    1\n",
      "Name: Sun Hour, dtype: int64 \n",
      "\n",
      "\n",
      "\n",
      "24    4\n",
      "83    3\n",
      "33    2\n",
      "46    2\n",
      "25    2\n",
      "45    2\n",
      "20    2\n",
      "10    1\n",
      "8     1\n",
      "18    1\n",
      "75    1\n",
      "7     1\n",
      "13    1\n",
      "6     1\n",
      "14    1\n",
      "79    1\n",
      "17    1\n",
      "70    1\n",
      "23    1\n",
      "19    1\n",
      "22    1\n",
      "71    1\n",
      "88    1\n",
      "26    1\n",
      "81    1\n",
      "49    1\n",
      "50    1\n",
      "53    1\n",
      "54    1\n",
      "66    1\n",
      "Name: Sun Day, dtype: int64 \n",
      "\n",
      "\n",
      "\n",
      "20      2\n",
      "319     1\n",
      "152     1\n",
      "214     1\n",
      "405     1\n",
      "84      1\n",
      "2008    1\n",
      "338     1\n",
      "640     1\n",
      "400     1\n",
      "143     1\n",
      "289     1\n",
      "268     1\n",
      "10      1\n",
      "22      1\n",
      "136     1\n",
      "74      1\n",
      "133     1\n",
      "4       1\n",
      "279     1\n",
      "391     1\n",
      "444     1\n",
      "1053    1\n",
      "375     1\n",
      "54      1\n",
      "501     1\n",
      "216     1\n",
      "177     1\n",
      "437     1\n",
      "302     1\n",
      "12      1\n",
      "300     1\n",
      "295     1\n",
      "97      1\n",
      "164     1\n",
      "46      1\n",
      "384     1\n",
      "225     1\n",
      "448     1\n",
      "Name: Curah Hujan, dtype: int64 \n",
      "\n",
      "\n",
      "\n",
      "67     4\n",
      "41     3\n",
      "45     2\n",
      "47     2\n",
      "68     2\n",
      "9      2\n",
      "25     2\n",
      "59     1\n",
      "11     1\n",
      "10     1\n",
      "69     1\n",
      "72     1\n",
      "70     1\n",
      "80     1\n",
      "4      1\n",
      "66     1\n",
      "78     1\n",
      "84     1\n",
      "17     1\n",
      "83     1\n",
      "249    1\n",
      "85     1\n",
      "22     1\n",
      "154    1\n",
      "32     1\n",
      "37     1\n",
      "42     1\n",
      "5      1\n",
      "56     1\n",
      "385    1\n",
      "Name: Hari Hujan, dtype: int64 \n",
      "\n",
      "\n",
      "\n",
      "7.57     2\n",
      "7.93     2\n",
      "7.60     2\n",
      "6.67     1\n",
      "8.57     1\n",
      "6.40     1\n",
      "12.20    1\n",
      "6.33     1\n",
      "8.83     1\n",
      "8.17     1\n",
      "6.17     1\n",
      "6.87     1\n",
      "7.07     1\n",
      "8.93     1\n",
      "7.03     1\n",
      "6.77     1\n",
      "6.47     1\n",
      "9.50     1\n",
      "10.73    1\n",
      "5.67     1\n",
      "9.77     1\n",
      "8.40     1\n",
      "6.27     1\n",
      "6.57     1\n",
      "5.30     1\n",
      "11.43    1\n",
      "6.30     1\n",
      "5.17     1\n",
      "8.10     1\n",
      "5.47     1\n",
      "7.77     1\n",
      "7.33     1\n",
      "5.53     1\n",
      "7.17     1\n",
      "5.57     1\n",
      "6.07     1\n",
      "6.50     1\n",
      "Name: Kecepatan A, dtype: int64 \n",
      "\n",
      "\n",
      "\n",
      "14.8    3\n",
      "10.8    2\n",
      "10.4    2\n",
      "10.3    2\n",
      "12.7    2\n",
      "12.9    2\n",
      "10.5    1\n",
      "16.5    1\n",
      "14.5    1\n",
      "13.9    1\n",
      "15.2    1\n",
      "12.0    1\n",
      "9.1     1\n",
      "9.8     1\n",
      "13.3    1\n",
      "8.6     1\n",
      "8.4     1\n",
      "12.3    1\n",
      "9.5     1\n",
      "14.6    1\n",
      "10.2    1\n",
      "12.6    1\n",
      "11.3    1\n",
      "11.2    1\n",
      "9.7     1\n",
      "8.2     1\n",
      "17.2    1\n",
      "13.4    1\n",
      "9.4     1\n",
      "7.9     1\n",
      "13.6    1\n",
      "12.1    1\n",
      "14.0    1\n",
      "Name: Mx Kec, dtype: int64 \n",
      "\n",
      "\n",
      "\n"
     ]
    }
   ],
   "source": [
    "for col in bike_dummy:\n",
    "    print(bike_dummy[col].value_counts(ascending=False), '\\n\\n\\n')"
   ]
  },
  {
   "cell_type": "markdown",
   "metadata": {
    "papermill": {
     "duration": 0.132362,
     "end_time": "2024-01-27T00:10:40.117225",
     "exception": false,
     "start_time": "2024-01-27T00:10:39.984863",
     "status": "completed"
    },
    "tags": []
   },
   "source": [
    "### Insights \n",
    "There seems to be no Junk/Unknown values in the entire dataset."
   ]
  },
  {
   "cell_type": "markdown",
   "metadata": {
    "papermill": {
     "duration": 0.13462,
     "end_time": "2024-01-27T00:10:40.388316",
     "exception": false,
     "start_time": "2024-01-27T00:10:40.253696",
     "status": "completed"
    },
    "tags": []
   },
   "source": [
    "# Removing redundant & unwanted columns"
   ]
  },
  {
   "cell_type": "markdown",
   "metadata": {
    "papermill": {
     "duration": 0.133554,
     "end_time": "2024-01-27T00:10:40.656815",
     "exception": false,
     "start_time": "2024-01-27T00:10:40.523261",
     "status": "completed"
    },
    "tags": []
   },
   "source": [
    "Based on the high level look at the data and the data dictionary, the following variables can be removed from further analysis:\n",
    "\n",
    "1. **instant** : Its only an index value\n",
    "\n",
    "2. **dteday** : This has the date, Since we already have seperate columns for 'year' & 'month',hence, we could live without this column. \n",
    "\n",
    "3.  **casual & registered** : Both these columns contains the count of bike booked by different categories of customers.\n",
    "Since our objective is to find the total count of bikes and not by specific category, we will ignore these two columns.\n",
    "More over, we have created a new variable to have the ratio of these customer types.\n",
    "\n",
    "4.  We will save the new dataframe as bike_new, so that the original dataset is preserved for any future analysis/validation"
   ]
  },
  {
   "cell_type": "code",
   "execution_count": 16,
   "metadata": {
    "execution": {
     "iopub.execute_input": "2024-01-27T00:10:40.935917Z",
     "iopub.status.busy": "2024-01-27T00:10:40.934841Z",
     "iopub.status.idle": "2024-01-27T00:10:40.940475Z",
     "shell.execute_reply": "2024-01-27T00:10:40.939845Z",
     "shell.execute_reply.started": "2024-01-26T06:59:53.753738Z"
    },
    "papermill": {
     "duration": 0.146129,
     "end_time": "2024-01-27T00:10:40.940627",
     "exception": false,
     "start_time": "2024-01-27T00:10:40.794498",
     "status": "completed"
    },
    "tags": []
   },
   "outputs": [
    {
     "data": {
      "text/plain": [
       "Index(['Year', 'Periode', 'Produktivitas Mangga', 'Produktivitas Jeruk', 'Max',\n",
       "       'Min', 'Tavg', 'Sun Hour', 'Sun Day', 'Curah Hujan', 'Hari Hujan',\n",
       "       'Kecepatan A', 'Mx Kec'],\n",
       "      dtype='object')"
      ]
     },
     "execution_count": 16,
     "metadata": {},
     "output_type": "execute_result"
    }
   ],
   "source": [
    "bike.columns"
   ]
  },
  {
   "cell_type": "code",
   "execution_count": 17,
   "metadata": {
    "execution": {
     "iopub.execute_input": "2024-01-27T00:10:41.217954Z",
     "iopub.status.busy": "2024-01-27T00:10:41.216870Z",
     "iopub.status.idle": "2024-01-27T00:10:41.220574Z",
     "shell.execute_reply": "2024-01-27T00:10:41.219813Z",
     "shell.execute_reply.started": "2024-01-26T06:59:53.764945Z"
    },
    "papermill": {
     "duration": 0.146665,
     "end_time": "2024-01-27T00:10:41.220720",
     "exception": false,
     "start_time": "2024-01-27T00:10:41.074055",
     "status": "completed"
    },
    "tags": []
   },
   "outputs": [],
   "source": [
    "bike_new=bike[['Year', 'Periode', 'Produktivitas Jeruk', 'Max',\n",
    "       'Min', 'Tavg', 'Sun Hour', 'Sun Day', 'Curah Hujan', 'Hari Hujan',\n",
    "       'Kecepatan A', 'Mx Kec']]"
   ]
  },
  {
   "cell_type": "code",
   "execution_count": 18,
   "metadata": {
    "execution": {
     "iopub.execute_input": "2024-01-27T00:10:41.498847Z",
     "iopub.status.busy": "2024-01-27T00:10:41.497644Z",
     "iopub.status.idle": "2024-01-27T00:10:41.502032Z",
     "shell.execute_reply": "2024-01-27T00:10:41.501258Z",
     "shell.execute_reply.started": "2024-01-26T06:59:53.777672Z"
    },
    "papermill": {
     "duration": 0.146899,
     "end_time": "2024-01-27T00:10:41.502173",
     "exception": false,
     "start_time": "2024-01-27T00:10:41.355274",
     "status": "completed"
    },
    "tags": []
   },
   "outputs": [],
   "source": [
    "bike_new_new=bike[['Produktivitas Jeruk', 'Max',\n",
    "       'Min', 'Tavg', 'Sun Hour', 'Sun Day', 'Curah Hujan', 'Hari Hujan',\n",
    "       'Kecepatan A', 'Mx Kec']]"
   ]
  },
  {
   "cell_type": "code",
   "execution_count": 19,
   "metadata": {
    "execution": {
     "iopub.execute_input": "2024-01-27T00:10:41.798248Z",
     "iopub.status.busy": "2024-01-27T00:10:41.797267Z",
     "iopub.status.idle": "2024-01-27T00:10:41.802052Z",
     "shell.execute_reply": "2024-01-27T00:10:41.802671Z",
     "shell.execute_reply.started": "2024-01-26T06:59:53.793755Z"
    },
    "papermill": {
     "duration": 0.15691,
     "end_time": "2024-01-27T00:10:41.802899",
     "exception": false,
     "start_time": "2024-01-27T00:10:41.645989",
     "status": "completed"
    },
    "tags": []
   },
   "outputs": [
    {
     "name": "stdout",
     "output_type": "stream",
     "text": [
      "<class 'pandas.core.frame.DataFrame'>\n",
      "RangeIndex: 40 entries, 0 to 39\n",
      "Data columns (total 12 columns):\n",
      " #   Column               Non-Null Count  Dtype  \n",
      "---  ------               --------------  -----  \n",
      " 0   Year                 40 non-null     int64  \n",
      " 1   Periode              40 non-null     object \n",
      " 2   Produktivitas Jeruk  40 non-null     float64\n",
      " 3   Max                  40 non-null     float64\n",
      " 4   Min                  40 non-null     float64\n",
      " 5   Tavg                 40 non-null     float64\n",
      " 6   Sun Hour             40 non-null     float64\n",
      " 7   Sun Day              40 non-null     int64  \n",
      " 8   Curah Hujan          40 non-null     int64  \n",
      " 9   Hari Hujan           40 non-null     int64  \n",
      " 10  Kecepatan A          40 non-null     float64\n",
      " 11  Mx Kec               40 non-null     float64\n",
      "dtypes: float64(7), int64(4), object(1)\n",
      "memory usage: 3.9+ KB\n"
     ]
    }
   ],
   "source": [
    "bike_new.info()"
   ]
  },
  {
   "cell_type": "markdown",
   "metadata": {
    "papermill": {
     "duration": 0.139985,
     "end_time": "2024-01-27T00:10:42.084469",
     "exception": false,
     "start_time": "2024-01-27T00:10:41.944484",
     "status": "completed"
    },
    "tags": []
   },
   "source": [
    "# Creating Dummy Variables"
   ]
  },
  {
   "cell_type": "markdown",
   "metadata": {
    "papermill": {
     "duration": 0.13594,
     "end_time": "2024-01-27T00:10:42.356056",
     "exception": false,
     "start_time": "2024-01-27T00:10:42.220116",
     "status": "completed"
    },
    "tags": []
   },
   "source": [
    "We will create DUMMY variables for 4 categorical variables 'mnth', 'weekday', 'season' & 'weathersit'. \n",
    "- Before creating dummy variables, we will have to convert them into 'category' data types."
   ]
  },
  {
   "cell_type": "code",
   "execution_count": 20,
   "metadata": {
    "execution": {
     "iopub.execute_input": "2024-01-27T00:10:42.642875Z",
     "iopub.status.busy": "2024-01-27T00:10:42.641829Z",
     "iopub.status.idle": "2024-01-27T00:10:42.646345Z",
     "shell.execute_reply": "2024-01-27T00:10:42.645551Z",
     "shell.execute_reply.started": "2024-01-26T06:59:53.816008Z"
    },
    "papermill": {
     "duration": 0.156932,
     "end_time": "2024-01-27T00:10:42.646486",
     "exception": false,
     "start_time": "2024-01-27T00:10:42.489554",
     "status": "completed"
    },
    "tags": []
   },
   "outputs": [
    {
     "name": "stdout",
     "output_type": "stream",
     "text": [
      "<class 'pandas.core.frame.DataFrame'>\n",
      "RangeIndex: 40 entries, 0 to 39\n",
      "Data columns (total 12 columns):\n",
      " #   Column               Non-Null Count  Dtype  \n",
      "---  ------               --------------  -----  \n",
      " 0   Year                 40 non-null     int64  \n",
      " 1   Periode              40 non-null     object \n",
      " 2   Produktivitas Jeruk  40 non-null     float64\n",
      " 3   Max                  40 non-null     float64\n",
      " 4   Min                  40 non-null     float64\n",
      " 5   Tavg                 40 non-null     float64\n",
      " 6   Sun Hour             40 non-null     float64\n",
      " 7   Sun Day              40 non-null     int64  \n",
      " 8   Curah Hujan          40 non-null     int64  \n",
      " 9   Hari Hujan           40 non-null     int64  \n",
      " 10  Kecepatan A          40 non-null     float64\n",
      " 11  Mx Kec               40 non-null     float64\n",
      "dtypes: float64(7), int64(4), object(1)\n",
      "memory usage: 3.9+ KB\n"
     ]
    }
   ],
   "source": [
    "# Check the datatypes before convertion\n",
    "bike_new.info()"
   ]
  },
  {
   "cell_type": "code",
   "execution_count": 21,
   "metadata": {
    "execution": {
     "iopub.execute_input": "2024-01-27T00:10:42.953407Z",
     "iopub.status.busy": "2024-01-27T00:10:42.952576Z",
     "iopub.status.idle": "2024-01-27T00:10:42.961385Z",
     "shell.execute_reply": "2024-01-27T00:10:42.961961Z",
     "shell.execute_reply.started": "2024-01-26T06:59:53.830743Z"
    },
    "papermill": {
     "duration": 0.15253,
     "end_time": "2024-01-27T00:10:42.962173",
     "exception": false,
     "start_time": "2024-01-27T00:10:42.809643",
     "status": "completed"
    },
    "tags": []
   },
   "outputs": [],
   "source": [
    "# Convert to 'category' data type\n",
    "\n",
    "bike_new['Year']=bike_new['Year'].astype('category')\n",
    "bike_new['Periode']=bike_new['Periode'].astype('category')"
   ]
  },
  {
   "cell_type": "code",
   "execution_count": 22,
   "metadata": {
    "execution": {
     "iopub.execute_input": "2024-01-27T00:10:43.242908Z",
     "iopub.status.busy": "2024-01-27T00:10:43.242102Z",
     "iopub.status.idle": "2024-01-27T00:10:43.260040Z",
     "shell.execute_reply": "2024-01-27T00:10:43.259281Z",
     "shell.execute_reply.started": "2024-01-26T06:59:53.850461Z"
    },
    "papermill": {
     "duration": 0.158456,
     "end_time": "2024-01-27T00:10:43.260195",
     "exception": false,
     "start_time": "2024-01-27T00:10:43.101739",
     "status": "completed"
    },
    "tags": []
   },
   "outputs": [
    {
     "name": "stdout",
     "output_type": "stream",
     "text": [
      "<class 'pandas.core.frame.DataFrame'>\n",
      "RangeIndex: 40 entries, 0 to 39\n",
      "Data columns (total 12 columns):\n",
      " #   Column               Non-Null Count  Dtype   \n",
      "---  ------               --------------  -----   \n",
      " 0   Year                 40 non-null     category\n",
      " 1   Periode              40 non-null     category\n",
      " 2   Produktivitas Jeruk  40 non-null     float64 \n",
      " 3   Max                  40 non-null     float64 \n",
      " 4   Min                  40 non-null     float64 \n",
      " 5   Tavg                 40 non-null     float64 \n",
      " 6   Sun Hour             40 non-null     float64 \n",
      " 7   Sun Day              40 non-null     int64   \n",
      " 8   Curah Hujan          40 non-null     int64   \n",
      " 9   Hari Hujan           40 non-null     int64   \n",
      " 10  Kecepatan A          40 non-null     float64 \n",
      " 11  Mx Kec               40 non-null     float64 \n",
      "dtypes: category(2), float64(7), int64(3)\n",
      "memory usage: 3.9 KB\n"
     ]
    }
   ],
   "source": [
    "bike_new.info()"
   ]
  },
  {
   "cell_type": "code",
   "execution_count": 23,
   "metadata": {
    "execution": {
     "iopub.execute_input": "2024-01-27T00:10:43.552642Z",
     "iopub.status.busy": "2024-01-27T00:10:43.549320Z",
     "iopub.status.idle": "2024-01-27T00:10:43.569383Z",
     "shell.execute_reply": "2024-01-27T00:10:43.570025Z",
     "shell.execute_reply.started": "2024-01-26T06:59:53.880915Z"
    },
    "papermill": {
     "duration": 0.174163,
     "end_time": "2024-01-27T00:10:43.570221",
     "exception": false,
     "start_time": "2024-01-27T00:10:43.396058",
     "status": "completed"
    },
    "tags": []
   },
   "outputs": [
    {
     "name": "stdout",
     "output_type": "stream",
     "text": [
      "<class 'pandas.core.frame.DataFrame'>\n",
      "RangeIndex: 40 entries, 0 to 39\n",
      "Data columns (total 24 columns):\n",
      " #   Column                Non-Null Count  Dtype  \n",
      "---  ------                --------------  -----  \n",
      " 0   Produktivitas Jeruk   40 non-null     float64\n",
      " 1   Max                   40 non-null     float64\n",
      " 2   Min                   40 non-null     float64\n",
      " 3   Tavg                  40 non-null     float64\n",
      " 4   Sun Hour              40 non-null     float64\n",
      " 5   Sun Day               40 non-null     int64  \n",
      " 6   Curah Hujan           40 non-null     int64  \n",
      " 7   Hari Hujan            40 non-null     int64  \n",
      " 8   Kecepatan A           40 non-null     float64\n",
      " 9   Mx Kec                40 non-null     float64\n",
      " 10  Year_2012             40 non-null     uint8  \n",
      " 11  Year_2013             40 non-null     uint8  \n",
      " 12  Year_2014             40 non-null     uint8  \n",
      " 13  Year_2015             40 non-null     uint8  \n",
      " 14  Year_2016             40 non-null     uint8  \n",
      " 15  Year_2017             40 non-null     uint8  \n",
      " 16  Year_2018             40 non-null     uint8  \n",
      " 17  Year_2019             40 non-null     uint8  \n",
      " 18  Year_2020             40 non-null     uint8  \n",
      " 19  Year_2021             40 non-null     uint8  \n",
      " 20  Periode_Triwulan I    40 non-null     uint8  \n",
      " 21  Periode_Triwulan II   40 non-null     uint8  \n",
      " 22  Periode_Triwulan III  40 non-null     uint8  \n",
      " 23  Periode_Triwulan IV   40 non-null     uint8  \n",
      "dtypes: float64(7), int64(3), uint8(14)\n",
      "memory usage: 3.8 KB\n"
     ]
    }
   ],
   "source": [
    "# This code does 3 things:\n",
    "# 1) Create Dummy variable\n",
    "# 2) Drop original variable for which the dummy was created\n",
    "# 3) Drop first dummy variable for each set of dummies created.\n",
    "\n",
    "bike_new = pd.get_dummies(bike_new)\n",
    "bike_new.info()"
   ]
  },
  {
   "cell_type": "code",
   "execution_count": 24,
   "metadata": {
    "execution": {
     "iopub.execute_input": "2024-01-27T00:10:43.854371Z",
     "iopub.status.busy": "2024-01-27T00:10:43.853561Z",
     "iopub.status.idle": "2024-01-27T00:10:43.859315Z",
     "shell.execute_reply": "2024-01-27T00:10:43.858647Z",
     "shell.execute_reply.started": "2024-01-26T06:59:53.918857Z"
    },
    "papermill": {
     "duration": 0.152419,
     "end_time": "2024-01-27T00:10:43.859453",
     "exception": false,
     "start_time": "2024-01-27T00:10:43.707034",
     "status": "completed"
    },
    "tags": []
   },
   "outputs": [
    {
     "data": {
      "text/plain": [
       "(40, 24)"
      ]
     },
     "execution_count": 24,
     "metadata": {},
     "output_type": "execute_result"
    }
   ],
   "source": [
    "bike_new.shape"
   ]
  },
  {
   "cell_type": "markdown",
   "metadata": {
    "papermill": {
     "duration": 0.134251,
     "end_time": "2024-01-27T00:10:44.131207",
     "exception": false,
     "start_time": "2024-01-27T00:10:43.996956",
     "status": "completed"
    },
    "tags": []
   },
   "source": [
    "## SPLITTING THE DATA\n",
    "- Splitting the data to Train and Test: - We will now split the data into TRAIN and TEST (70:30 ratio) \n",
    "- We will use train_test_split method from sklearn package for this"
   ]
  },
  {
   "cell_type": "code",
   "execution_count": 25,
   "metadata": {
    "execution": {
     "iopub.execute_input": "2024-01-27T00:10:44.414720Z",
     "iopub.status.busy": "2024-01-27T00:10:44.413943Z",
     "iopub.status.idle": "2024-01-27T00:10:44.420629Z",
     "shell.execute_reply": "2024-01-27T00:10:44.421473Z",
     "shell.execute_reply.started": "2024-01-26T06:59:53.928163Z"
    },
    "papermill": {
     "duration": 0.149481,
     "end_time": "2024-01-27T00:10:44.421678",
     "exception": false,
     "start_time": "2024-01-27T00:10:44.272197",
     "status": "completed"
    },
    "tags": []
   },
   "outputs": [
    {
     "data": {
      "text/plain": [
       "(40, 24)"
      ]
     },
     "execution_count": 25,
     "metadata": {},
     "output_type": "execute_result"
    }
   ],
   "source": [
    "# Check the shape before spliting\n",
    "\n",
    "bike_new.shape"
   ]
  },
  {
   "cell_type": "code",
   "execution_count": 26,
   "metadata": {
    "execution": {
     "iopub.execute_input": "2024-01-27T00:10:44.707624Z",
     "iopub.status.busy": "2024-01-27T00:10:44.706771Z",
     "iopub.status.idle": "2024-01-27T00:10:44.724370Z",
     "shell.execute_reply": "2024-01-27T00:10:44.725122Z",
     "shell.execute_reply.started": "2024-01-26T06:59:53.940270Z"
    },
    "papermill": {
     "duration": 0.165132,
     "end_time": "2024-01-27T00:10:44.725347",
     "exception": false,
     "start_time": "2024-01-27T00:10:44.560215",
     "status": "completed"
    },
    "tags": []
   },
   "outputs": [
    {
     "name": "stdout",
     "output_type": "stream",
     "text": [
      "<class 'pandas.core.frame.DataFrame'>\n",
      "RangeIndex: 40 entries, 0 to 39\n",
      "Data columns (total 24 columns):\n",
      " #   Column                Non-Null Count  Dtype  \n",
      "---  ------                --------------  -----  \n",
      " 0   Produktivitas Jeruk   40 non-null     float64\n",
      " 1   Max                   40 non-null     float64\n",
      " 2   Min                   40 non-null     float64\n",
      " 3   Tavg                  40 non-null     float64\n",
      " 4   Sun Hour              40 non-null     float64\n",
      " 5   Sun Day               40 non-null     int64  \n",
      " 6   Curah Hujan           40 non-null     int64  \n",
      " 7   Hari Hujan            40 non-null     int64  \n",
      " 8   Kecepatan A           40 non-null     float64\n",
      " 9   Mx Kec                40 non-null     float64\n",
      " 10  Year_2012             40 non-null     uint8  \n",
      " 11  Year_2013             40 non-null     uint8  \n",
      " 12  Year_2014             40 non-null     uint8  \n",
      " 13  Year_2015             40 non-null     uint8  \n",
      " 14  Year_2016             40 non-null     uint8  \n",
      " 15  Year_2017             40 non-null     uint8  \n",
      " 16  Year_2018             40 non-null     uint8  \n",
      " 17  Year_2019             40 non-null     uint8  \n",
      " 18  Year_2020             40 non-null     uint8  \n",
      " 19  Year_2021             40 non-null     uint8  \n",
      " 20  Periode_Triwulan I    40 non-null     uint8  \n",
      " 21  Periode_Triwulan II   40 non-null     uint8  \n",
      " 22  Periode_Triwulan III  40 non-null     uint8  \n",
      " 23  Periode_Triwulan IV   40 non-null     uint8  \n",
      "dtypes: float64(7), int64(3), uint8(14)\n",
      "memory usage: 3.8 KB\n"
     ]
    }
   ],
   "source": [
    "# Check the info before spliting\n",
    "\n",
    "bike_new.info()"
   ]
  },
  {
   "cell_type": "code",
   "execution_count": 27,
   "metadata": {
    "execution": {
     "iopub.execute_input": "2024-01-27T00:10:45.017869Z",
     "iopub.status.busy": "2024-01-27T00:10:45.016988Z",
     "iopub.status.idle": "2024-01-27T00:10:45.148890Z",
     "shell.execute_reply": "2024-01-27T00:10:45.148178Z",
     "shell.execute_reply.started": "2024-01-26T06:59:53.961727Z"
    },
    "papermill": {
     "duration": 0.278357,
     "end_time": "2024-01-27T00:10:45.149070",
     "exception": false,
     "start_time": "2024-01-27T00:10:44.870713",
     "status": "completed"
    },
    "tags": []
   },
   "outputs": [],
   "source": [
    "from sklearn.model_selection import train_test_split\n",
    "\n",
    "# We should specify 'random_state' so that the train and test data set always have the same rows, respectively\n",
    "\n",
    "np.random.seed(0)\n",
    "df_train, df_test = train_test_split(bike_new_new, train_size = 0.70, test_size = 0.30, random_state = 333)"
   ]
  },
  {
   "cell_type": "markdown",
   "metadata": {
    "papermill": {
     "duration": 0.136415,
     "end_time": "2024-01-27T00:10:45.422451",
     "exception": false,
     "start_time": "2024-01-27T00:10:45.286036",
     "status": "completed"
    },
    "tags": []
   },
   "source": [
    "\n",
    "- Verify the info and shape of the dataframes after split:"
   ]
  },
  {
   "cell_type": "code",
   "execution_count": 28,
   "metadata": {
    "execution": {
     "iopub.execute_input": "2024-01-27T00:10:45.711858Z",
     "iopub.status.busy": "2024-01-27T00:10:45.711087Z",
     "iopub.status.idle": "2024-01-27T00:10:45.713802Z",
     "shell.execute_reply": "2024-01-27T00:10:45.714596Z",
     "shell.execute_reply.started": "2024-01-26T06:59:53.974045Z"
    },
    "papermill": {
     "duration": 0.157026,
     "end_time": "2024-01-27T00:10:45.714760",
     "exception": false,
     "start_time": "2024-01-27T00:10:45.557734",
     "status": "completed"
    },
    "tags": []
   },
   "outputs": [
    {
     "name": "stdout",
     "output_type": "stream",
     "text": [
      "<class 'pandas.core.frame.DataFrame'>\n",
      "Int64Index: 28 entries, 1 to 12\n",
      "Data columns (total 10 columns):\n",
      " #   Column               Non-Null Count  Dtype  \n",
      "---  ------               --------------  -----  \n",
      " 0   Produktivitas Jeruk  28 non-null     float64\n",
      " 1   Max                  28 non-null     float64\n",
      " 2   Min                  28 non-null     float64\n",
      " 3   Tavg                 28 non-null     float64\n",
      " 4   Sun Hour             28 non-null     float64\n",
      " 5   Sun Day              28 non-null     int64  \n",
      " 6   Curah Hujan          28 non-null     int64  \n",
      " 7   Hari Hujan           28 non-null     int64  \n",
      " 8   Kecepatan A          28 non-null     float64\n",
      " 9   Mx Kec               28 non-null     float64\n",
      "dtypes: float64(7), int64(3)\n",
      "memory usage: 2.4 KB\n"
     ]
    }
   ],
   "source": [
    "df_train.info()"
   ]
  },
  {
   "cell_type": "code",
   "execution_count": 29,
   "metadata": {
    "execution": {
     "iopub.execute_input": "2024-01-27T00:10:45.994646Z",
     "iopub.status.busy": "2024-01-27T00:10:45.993881Z",
     "iopub.status.idle": "2024-01-27T00:10:46.001364Z",
     "shell.execute_reply": "2024-01-27T00:10:46.000594Z",
     "shell.execute_reply.started": "2024-01-26T06:59:53.999709Z"
    },
    "papermill": {
     "duration": 0.148263,
     "end_time": "2024-01-27T00:10:46.001522",
     "exception": false,
     "start_time": "2024-01-27T00:10:45.853259",
     "status": "completed"
    },
    "tags": []
   },
   "outputs": [
    {
     "data": {
      "text/plain": [
       "(28, 10)"
      ]
     },
     "execution_count": 29,
     "metadata": {},
     "output_type": "execute_result"
    }
   ],
   "source": [
    "df_train.shape"
   ]
  },
  {
   "cell_type": "code",
   "execution_count": 30,
   "metadata": {
    "execution": {
     "iopub.execute_input": "2024-01-27T00:10:46.290034Z",
     "iopub.status.busy": "2024-01-27T00:10:46.289054Z",
     "iopub.status.idle": "2024-01-27T00:10:46.293316Z",
     "shell.execute_reply": "2024-01-27T00:10:46.293877Z",
     "shell.execute_reply.started": "2024-01-26T06:59:54.013537Z"
    },
    "papermill": {
     "duration": 0.154304,
     "end_time": "2024-01-27T00:10:46.294052",
     "exception": false,
     "start_time": "2024-01-27T00:10:46.139748",
     "status": "completed"
    },
    "tags": []
   },
   "outputs": [
    {
     "name": "stdout",
     "output_type": "stream",
     "text": [
      "<class 'pandas.core.frame.DataFrame'>\n",
      "Int64Index: 12 entries, 31 to 0\n",
      "Data columns (total 10 columns):\n",
      " #   Column               Non-Null Count  Dtype  \n",
      "---  ------               --------------  -----  \n",
      " 0   Produktivitas Jeruk  12 non-null     float64\n",
      " 1   Max                  12 non-null     float64\n",
      " 2   Min                  12 non-null     float64\n",
      " 3   Tavg                 12 non-null     float64\n",
      " 4   Sun Hour             12 non-null     float64\n",
      " 5   Sun Day              12 non-null     int64  \n",
      " 6   Curah Hujan          12 non-null     int64  \n",
      " 7   Hari Hujan           12 non-null     int64  \n",
      " 8   Kecepatan A          12 non-null     float64\n",
      " 9   Mx Kec               12 non-null     float64\n",
      "dtypes: float64(7), int64(3)\n",
      "memory usage: 1.0 KB\n"
     ]
    }
   ],
   "source": [
    "df_test.info()"
   ]
  },
  {
   "cell_type": "code",
   "execution_count": 31,
   "metadata": {
    "execution": {
     "iopub.execute_input": "2024-01-27T00:10:46.577619Z",
     "iopub.status.busy": "2024-01-27T00:10:46.576489Z",
     "iopub.status.idle": "2024-01-27T00:10:46.582069Z",
     "shell.execute_reply": "2024-01-27T00:10:46.581371Z",
     "shell.execute_reply.started": "2024-01-26T06:59:54.032359Z"
    },
    "papermill": {
     "duration": 0.149078,
     "end_time": "2024-01-27T00:10:46.582211",
     "exception": false,
     "start_time": "2024-01-27T00:10:46.433133",
     "status": "completed"
    },
    "tags": []
   },
   "outputs": [
    {
     "data": {
      "text/plain": [
       "(12, 10)"
      ]
     },
     "execution_count": 31,
     "metadata": {},
     "output_type": "execute_result"
    }
   ],
   "source": [
    "df_test.shape"
   ]
  },
  {
   "cell_type": "markdown",
   "metadata": {
    "papermill": {
     "duration": 0.142315,
     "end_time": "2024-01-27T00:10:46.865944",
     "exception": false,
     "start_time": "2024-01-27T00:10:46.723629",
     "status": "completed"
    },
    "tags": []
   },
   "source": [
    "# EXPLORATORY DATA ANALYSIS"
   ]
  },
  {
   "cell_type": "markdown",
   "metadata": {
    "papermill": {
     "duration": 0.140914,
     "end_time": "2024-01-27T00:10:47.145916",
     "exception": false,
     "start_time": "2024-01-27T00:10:47.005002",
     "status": "completed"
    },
    "tags": []
   },
   "source": [
    "\n",
    "- We need to  perform the EDA on TRAINING (df_train) Dataset."
   ]
  },
  {
   "cell_type": "markdown",
   "metadata": {
    "papermill": {
     "duration": 0.142319,
     "end_time": "2024-01-27T00:10:47.430532",
     "exception": false,
     "start_time": "2024-01-27T00:10:47.288213",
     "status": "completed"
    },
    "tags": []
   },
   "source": [
    "## Visualising Numeric Variables\n",
    "Let's make a pairplot of all the numeric variables."
   ]
  },
  {
   "cell_type": "code",
   "execution_count": 32,
   "metadata": {
    "execution": {
     "iopub.execute_input": "2024-01-27T00:10:47.723327Z",
     "iopub.status.busy": "2024-01-27T00:10:47.722092Z",
     "iopub.status.idle": "2024-01-27T00:10:47.727217Z",
     "shell.execute_reply": "2024-01-27T00:10:47.727750Z",
     "shell.execute_reply.started": "2024-01-26T06:59:54.045037Z"
    },
    "papermill": {
     "duration": 0.158953,
     "end_time": "2024-01-27T00:10:47.727940",
     "exception": false,
     "start_time": "2024-01-27T00:10:47.568987",
     "status": "completed"
    },
    "tags": []
   },
   "outputs": [
    {
     "name": "stdout",
     "output_type": "stream",
     "text": [
      "<class 'pandas.core.frame.DataFrame'>\n",
      "Int64Index: 28 entries, 1 to 12\n",
      "Data columns (total 10 columns):\n",
      " #   Column               Non-Null Count  Dtype  \n",
      "---  ------               --------------  -----  \n",
      " 0   Produktivitas Jeruk  28 non-null     float64\n",
      " 1   Max                  28 non-null     float64\n",
      " 2   Min                  28 non-null     float64\n",
      " 3   Tavg                 28 non-null     float64\n",
      " 4   Sun Hour             28 non-null     float64\n",
      " 5   Sun Day              28 non-null     int64  \n",
      " 6   Curah Hujan          28 non-null     int64  \n",
      " 7   Hari Hujan           28 non-null     int64  \n",
      " 8   Kecepatan A          28 non-null     float64\n",
      " 9   Mx Kec               28 non-null     float64\n",
      "dtypes: float64(7), int64(3)\n",
      "memory usage: 2.4 KB\n"
     ]
    }
   ],
   "source": [
    "df_train.info()"
   ]
  },
  {
   "cell_type": "code",
   "execution_count": 33,
   "metadata": {
    "execution": {
     "iopub.execute_input": "2024-01-27T00:10:48.012524Z",
     "iopub.status.busy": "2024-01-27T00:10:48.011446Z",
     "iopub.status.idle": "2024-01-27T00:10:48.018061Z",
     "shell.execute_reply": "2024-01-27T00:10:48.018607Z",
     "shell.execute_reply.started": "2024-01-26T06:59:54.062302Z"
    },
    "papermill": {
     "duration": 0.152019,
     "end_time": "2024-01-27T00:10:48.018794",
     "exception": false,
     "start_time": "2024-01-27T00:10:47.866775",
     "status": "completed"
    },
    "tags": []
   },
   "outputs": [
    {
     "data": {
      "text/plain": [
       "Index(['Produktivitas Jeruk', 'Max', 'Min', 'Tavg', 'Sun Hour', 'Sun Day',\n",
       "       'Curah Hujan', 'Hari Hujan', 'Kecepatan A', 'Mx Kec'],\n",
       "      dtype='object')"
      ]
     },
     "execution_count": 33,
     "metadata": {},
     "output_type": "execute_result"
    }
   ],
   "source": [
    "df_train.columns"
   ]
  },
  {
   "cell_type": "code",
   "execution_count": 34,
   "metadata": {
    "execution": {
     "iopub.execute_input": "2024-01-27T00:10:48.306252Z",
     "iopub.status.busy": "2024-01-27T00:10:48.305127Z",
     "iopub.status.idle": "2024-01-27T00:11:20.714289Z",
     "shell.execute_reply": "2024-01-27T00:11:20.714915Z",
     "shell.execute_reply.started": "2024-01-26T06:59:54.076917Z"
    },
    "papermill": {
     "duration": 32.555824,
     "end_time": "2024-01-27T00:11:20.715100",
     "exception": false,
     "start_time": "2024-01-27T00:10:48.159276",
     "status": "completed"
    },
    "tags": []
   },
   "outputs": [
    {
     "data": {
      "image/png": "[encoded data removed]",
      "text/plain": [
       "<Figure size 1800x1800 with 110 Axes>"
      ]
     },
     "metadata": {
      "needs_background": "light"
     },
     "output_type": "display_data"
    }
   ],
   "source": [
    "# Create a new dataframe of only numeric variables:\n",
    "\n",
    "bike_num=df_train[['Produktivitas Jeruk', 'Max', 'Min', 'Tavg', 'Sun Hour', 'Sun Day',\n",
    "       'Curah Hujan','Hari Hujan', 'Kecepatan A', 'Mx Kec']]\n",
    "\n",
    "sns.pairplot(bike_num, diag_kind='kde')\n",
    "plt.show()"
   ]
  },
  {
   "cell_type": "markdown",
   "metadata": {
    "papermill": {
     "duration": 0.146168,
     "end_time": "2024-01-27T00:11:21.012496",
     "exception": false,
     "start_time": "2024-01-27T00:11:20.866328",
     "status": "completed"
    },
    "tags": []
   },
   "source": [
    "### Insights\n",
    "- The above Pair-Plot tells us that there is a LINEAR RELATION between 'temp','atemp' and 'cnt' "
   ]
  },
  {
   "cell_type": "markdown",
   "metadata": {
    "papermill": {
     "duration": 0.148971,
     "end_time": "2024-01-27T00:11:21.310037",
     "exception": false,
     "start_time": "2024-01-27T00:11:21.161066",
     "status": "completed"
    },
    "tags": []
   },
   "source": [
    "## Visualising Catagorical Variables"
   ]
  },
  {
   "cell_type": "code",
   "execution_count": 35,
   "metadata": {
    "execution": {
     "iopub.execute_input": "2024-01-27T00:11:21.615977Z",
     "iopub.status.busy": "2024-01-27T00:11:21.615194Z",
     "iopub.status.idle": "2024-01-27T00:11:21.619585Z",
     "shell.execute_reply": "2024-01-27T00:11:21.620318Z",
     "shell.execute_reply.started": "2024-01-26T07:00:26.475784Z"
    },
    "papermill": {
     "duration": 0.163051,
     "end_time": "2024-01-27T00:11:21.620531",
     "exception": false,
     "start_time": "2024-01-27T00:11:21.457480",
     "status": "completed"
    },
    "tags": []
   },
   "outputs": [
    {
     "name": "stdout",
     "output_type": "stream",
     "text": [
      "<class 'pandas.core.frame.DataFrame'>\n",
      "Int64Index: 28 entries, 1 to 12\n",
      "Data columns (total 10 columns):\n",
      " #   Column               Non-Null Count  Dtype  \n",
      "---  ------               --------------  -----  \n",
      " 0   Produktivitas Jeruk  28 non-null     float64\n",
      " 1   Max                  28 non-null     float64\n",
      " 2   Min                  28 non-null     float64\n",
      " 3   Tavg                 28 non-null     float64\n",
      " 4   Sun Hour             28 non-null     float64\n",
      " 5   Sun Day              28 non-null     int64  \n",
      " 6   Curah Hujan          28 non-null     int64  \n",
      " 7   Hari Hujan           28 non-null     int64  \n",
      " 8   Kecepatan A          28 non-null     float64\n",
      " 9   Mx Kec               28 non-null     float64\n",
      "dtypes: float64(7), int64(3)\n",
      "memory usage: 3.7 KB\n"
     ]
    }
   ],
   "source": [
    "df_train.info()"
   ]
  },
  {
   "cell_type": "code",
   "execution_count": 36,
   "metadata": {
    "execution": {
     "iopub.execute_input": "2024-01-27T00:11:21.937226Z",
     "iopub.status.busy": "2024-01-27T00:11:21.936074Z",
     "iopub.status.idle": "2024-01-27T00:11:22.461260Z",
     "shell.execute_reply": "2024-01-27T00:11:22.460473Z",
     "shell.execute_reply.started": "2024-01-26T07:00:26.494761Z"
    },
    "papermill": {
     "duration": 0.687897,
     "end_time": "2024-01-27T00:11:22.461412",
     "exception": false,
     "start_time": "2024-01-27T00:11:21.773515",
     "status": "completed"
    },
    "tags": []
   },
   "outputs": [
    {
     "data": {
      "image/png": "[encoded data removed]",
      "text/plain": [
       "<Figure size 1800x720 with 2 Axes>"
      ]
     },
     "metadata": {
      "needs_background": "light"
     },
     "output_type": "display_data"
    }
   ],
   "source": [
    "# Build boxplot of all categorical variables (before creating dummies) againt the target variable 'cnt' \n",
    "# to see how each of the predictor variable stackup against the target variable.\n",
    "\n",
    "plt.figure(figsize=(25, 10))\n",
    "plt.subplot(2,3,1)\n",
    "sns.boxplot(x = 'Year', y = 'Produktivitas Jeruk', data = bike)\n",
    "plt.subplot(2,3,2)\n",
    "sns.boxplot(x = 'Periode', y = 'Produktivitas Jeruk', data = bike)\n",
    "plt.show()"
   ]
  },
  {
   "cell_type": "markdown",
   "metadata": {
    "papermill": {
     "duration": 0.178357,
     "end_time": "2024-01-27T00:11:22.793640",
     "exception": false,
     "start_time": "2024-01-27T00:11:22.615283",
     "status": "completed"
    },
    "tags": []
   },
   "source": [
    "### Insights\n",
    "There were 6 categorical variables in the dataset. \n",
    "\n",
    "We used Box plot (refer the fig above) to study their effect on the dependent variable (‘cnt’) . \n",
    "\n",
    "The inference that We could derive were: \n",
    "- **season**: Almost 32% of the bike booking were happening in season3 with a median of over 5000 booking (for the period of 2 years). This was followed by season2 & season4 with 27% & 25% of total booking. This indicates, season can be a good predictor for the dependent variable.\n",
    "\n",
    "- **mnth**: Almost 10% of the bike booking were happening in the months 5,6,7,8 & 9 with a median of over 4000 booking per month. This indicates, mnth has some trend for bookings and can be a good predictor for the dependent variable. \n",
    "- **weathersit**: Almost 67% of the bike booking were happening during ‘weathersit1 with a median of close to 5000 booking (for the period of 2 years). This was followed by weathersit2 with 30% of total booking. This indicates, weathersit does show some trend towards the bike bookings can be a good predictor for the dependent variable.\n",
    "- **holiday**: Almost 97.6% of the bike booking were happening when it is not a holiday which means this data is clearly biased. This indicates, holiday CANNOT be a good predictor for the dependent variable. \n",
    "- **weekday**: weekday variable shows very close trend (between 13.5%-14.8% of total booking on all days of the week) having their independent medians between 4000 to 5000 bookings. This variable can have some or no influence towards the predictor. I will let the model decide if this needs to be added or not.\n",
    "- **workingday**: Almost 69% of the bike booking were happening in ‘workingday’ with a median of close to 5000 booking (for the period of 2 years). This indicates, workingday can be a good predictor for the dependent variable"
   ]
  },
  {
   "cell_type": "markdown",
   "metadata": {
    "papermill": {
     "duration": 0.149366,
     "end_time": "2024-01-27T00:11:23.095811",
     "exception": false,
     "start_time": "2024-01-27T00:11:22.946445",
     "status": "completed"
    },
    "tags": []
   },
   "source": [
    "## Correlation Matrix"
   ]
  },
  {
   "cell_type": "code",
   "execution_count": 37,
   "metadata": {
    "execution": {
     "iopub.execute_input": "2024-01-27T00:11:23.408153Z",
     "iopub.status.busy": "2024-01-27T00:11:23.406584Z",
     "iopub.status.idle": "2024-01-27T00:11:24.610716Z",
     "shell.execute_reply": "2024-01-27T00:11:24.610027Z",
     "shell.execute_reply.started": "2024-01-26T07:00:27.366201Z"
    },
    "papermill": {
     "duration": 1.367115,
     "end_time": "2024-01-27T00:11:24.610865",
     "exception": false,
     "start_time": "2024-01-27T00:11:23.243750",
     "status": "completed"
    },
    "tags": []
   },
   "outputs": [
    {
     "data": {
      "image/png": "[encoded data removed]",
      "text/plain": [
       "<Figure size 1800x1440 with 2 Axes>"
      ]
     },
     "metadata": {
      "needs_background": "light"
     },
     "output_type": "display_data"
    }
   ],
   "source": [
    "# Let's check the correlation coefficients to see which variables are highly correlated. Note:\n",
    "# here we are considering only those variables (dataframe: bike_new) that were chosen for analysis\n",
    "\n",
    "plt.figure(figsize = (25,20))\n",
    "sns.heatmap(bike_new_new.corr(), annot = True, cmap=\"RdBu\")\n",
    "plt.show()"
   ]
  },
  {
   "cell_type": "markdown",
   "metadata": {
    "papermill": {
     "duration": 0.15685,
     "end_time": "2024-01-27T00:11:24.921079",
     "exception": false,
     "start_time": "2024-01-27T00:11:24.764229",
     "status": "completed"
    },
    "tags": []
   },
   "source": [
    "### Insights:\n",
    " - The heatmap clearly shows which all variable are multicollinear in nature, and which variable have high collinearity with the target variable.\n",
    " - We will refer this map back-and-forth while building the linear model so as to validate different correlated values along with VIF & p-value, for identifying the correct variable to select/eliminate from the model."
   ]
  },
  {
   "cell_type": "markdown",
   "metadata": {
    "papermill": {
     "duration": 0.15605,
     "end_time": "2024-01-27T00:11:25.233532",
     "exception": false,
     "start_time": "2024-01-27T00:11:25.077482",
     "status": "completed"
    },
    "tags": []
   },
   "source": [
    "# RESCALING THE FEATURES"
   ]
  },
  {
   "cell_type": "code",
   "execution_count": 38,
   "metadata": {
    "execution": {
     "iopub.execute_input": "2024-01-27T00:11:25.594567Z",
     "iopub.status.busy": "2024-01-27T00:11:25.593517Z",
     "iopub.status.idle": "2024-01-27T00:11:25.596828Z",
     "shell.execute_reply": "2024-01-27T00:11:25.597453Z",
     "shell.execute_reply.started": "2024-01-26T07:00:28.100869Z"
    },
    "papermill": {
     "duration": 0.176625,
     "end_time": "2024-01-27T00:11:25.597639",
     "exception": false,
     "start_time": "2024-01-27T00:11:25.421014",
     "status": "completed"
    },
    "tags": []
   },
   "outputs": [],
   "source": [
    "from sklearn.preprocessing import MinMaxScaler"
   ]
  },
  {
   "cell_type": "code",
   "execution_count": 39,
   "metadata": {
    "execution": {
     "iopub.execute_input": "2024-01-27T00:11:25.937208Z",
     "iopub.status.busy": "2024-01-27T00:11:25.936027Z",
     "iopub.status.idle": "2024-01-27T00:11:25.938435Z",
     "shell.execute_reply": "2024-01-27T00:11:25.939354Z",
     "shell.execute_reply.started": "2024-01-26T07:00:28.106746Z"
    },
    "papermill": {
     "duration": 0.178422,
     "end_time": "2024-01-27T00:11:25.939618",
     "exception": false,
     "start_time": "2024-01-27T00:11:25.761196",
     "status": "completed"
    },
    "tags": []
   },
   "outputs": [],
   "source": [
    "scaler = MinMaxScaler()"
   ]
  },
  {
   "cell_type": "code",
   "execution_count": 40,
   "metadata": {
    "execution": {
     "iopub.execute_input": "2024-01-27T00:11:26.271536Z",
     "iopub.status.busy": "2024-01-27T00:11:26.266479Z",
     "iopub.status.idle": "2024-01-27T00:11:26.282186Z",
     "shell.execute_reply": "2024-01-27T00:11:26.283121Z",
     "shell.execute_reply.started": "2024-01-26T07:00:28.122374Z"
    },
    "papermill": {
     "duration": 0.181913,
     "end_time": "2024-01-27T00:11:26.283377",
     "exception": false,
     "start_time": "2024-01-27T00:11:26.101464",
     "status": "completed"
    },
    "scrolled": true,
    "tags": []
   },
   "outputs": [
    {
     "data": {
      "text/html": [
       "<div>\n",
       "<style scoped>\n",
       "    .dataframe tbody tr th:only-of-type {\n",
       "        vertical-align: middle;\n",
       "    }\n",
       "\n",
       "    .dataframe tbody tr th {\n",
       "        vertical-align: top;\n",
       "    }\n",
       "\n",
       "    .dataframe thead th {\n",
       "        text-align: right;\n",
       "    }\n",
       "</style>\n",
       "<table border=\"1\" class=\"dataframe\">\n",
       "  <thead>\n",
       "    <tr style=\"text-align: right;\">\n",
       "      <th></th>\n",
       "      <th>Produktivitas Jeruk</th>\n",
       "      <th>Max</th>\n",
       "      <th>Min</th>\n",
       "      <th>Tavg</th>\n",
       "      <th>Sun Hour</th>\n",
       "      <th>Sun Day</th>\n",
       "      <th>Curah Hujan</th>\n",
       "      <th>Hari Hujan</th>\n",
       "      <th>Kecepatan A</th>\n",
       "      <th>Mx Kec</th>\n",
       "    </tr>\n",
       "  </thead>\n",
       "  <tbody>\n",
       "    <tr>\n",
       "      <th>1</th>\n",
       "      <td>0.10</td>\n",
       "      <td>28.0</td>\n",
       "      <td>24.0</td>\n",
       "      <td>26.00</td>\n",
       "      <td>237.7</td>\n",
       "      <td>49</td>\n",
       "      <td>164</td>\n",
       "      <td>42</td>\n",
       "      <td>8.93</td>\n",
       "      <td>14.0</td>\n",
       "    </tr>\n",
       "    <tr>\n",
       "      <th>14</th>\n",
       "      <td>0.16</td>\n",
       "      <td>29.0</td>\n",
       "      <td>24.0</td>\n",
       "      <td>26.00</td>\n",
       "      <td>306.3</td>\n",
       "      <td>83</td>\n",
       "      <td>12</td>\n",
       "      <td>9</td>\n",
       "      <td>8.83</td>\n",
       "      <td>13.3</td>\n",
       "    </tr>\n",
       "    <tr>\n",
       "      <th>36</th>\n",
       "      <td>0.00</td>\n",
       "      <td>28.0</td>\n",
       "      <td>24.0</td>\n",
       "      <td>25.67</td>\n",
       "      <td>30.0</td>\n",
       "      <td>6</td>\n",
       "      <td>384</td>\n",
       "      <td>84</td>\n",
       "      <td>7.03</td>\n",
       "      <td>10.4</td>\n",
       "    </tr>\n",
       "    <tr>\n",
       "      <th>11</th>\n",
       "      <td>0.26</td>\n",
       "      <td>30.0</td>\n",
       "      <td>24.0</td>\n",
       "      <td>27.00</td>\n",
       "      <td>187.0</td>\n",
       "      <td>25</td>\n",
       "      <td>319</td>\n",
       "      <td>67</td>\n",
       "      <td>8.10</td>\n",
       "      <td>13.9</td>\n",
       "    </tr>\n",
       "    <tr>\n",
       "      <th>18</th>\n",
       "      <td>0.25</td>\n",
       "      <td>30.0</td>\n",
       "      <td>25.0</td>\n",
       "      <td>27.33</td>\n",
       "      <td>225.7</td>\n",
       "      <td>45</td>\n",
       "      <td>143</td>\n",
       "      <td>47</td>\n",
       "      <td>7.93</td>\n",
       "      <td>12.7</td>\n",
       "    </tr>\n",
       "  </tbody>\n",
       "</table>\n",
       "</div>"
      ],
      "text/plain": [
       "    Produktivitas Jeruk   Max   Min   Tavg  Sun Hour  Sun Day  Curah Hujan  \\\n",
       "1                  0.10  28.0  24.0  26.00     237.7       49          164   \n",
       "14                 0.16  29.0  24.0  26.00     306.3       83           12   \n",
       "36                 0.00  28.0  24.0  25.67      30.0        6          384   \n",
       "11                 0.26  30.0  24.0  27.00     187.0       25          319   \n",
       "18                 0.25  30.0  25.0  27.33     225.7       45          143   \n",
       "\n",
       "    Hari Hujan  Kecepatan A  Mx Kec  \n",
       "1           42         8.93    14.0  \n",
       "14           9         8.83    13.3  \n",
       "36          84         7.03    10.4  \n",
       "11          67         8.10    13.9  \n",
       "18          47         7.93    12.7  "
      ]
     },
     "execution_count": 40,
     "metadata": {},
     "output_type": "execute_result"
    }
   ],
   "source": [
    "# Checking the values before scaling\n",
    "df_train.head()"
   ]
  },
  {
   "cell_type": "code",
   "execution_count": 41,
   "metadata": {
    "execution": {
     "iopub.execute_input": "2024-01-27T00:11:26.605641Z",
     "iopub.status.busy": "2024-01-27T00:11:26.604741Z",
     "iopub.status.idle": "2024-01-27T00:11:26.610714Z",
     "shell.execute_reply": "2024-01-27T00:11:26.611408Z",
     "shell.execute_reply.started": "2024-01-26T07:00:28.153884Z"
    },
    "papermill": {
     "duration": 0.167871,
     "end_time": "2024-01-27T00:11:26.611604",
     "exception": false,
     "start_time": "2024-01-27T00:11:26.443733",
     "status": "completed"
    },
    "tags": []
   },
   "outputs": [
    {
     "data": {
      "text/plain": [
       "Index(['Produktivitas Jeruk', 'Max', 'Min', 'Tavg', 'Sun Hour', 'Sun Day',\n",
       "       'Curah Hujan', 'Hari Hujan', 'Kecepatan A', 'Mx Kec'],\n",
       "      dtype='object')"
      ]
     },
     "execution_count": 41,
     "metadata": {},
     "output_type": "execute_result"
    }
   ],
   "source": [
    "df_train.columns"
   ]
  },
  {
   "cell_type": "code",
   "execution_count": 42,
   "metadata": {
    "execution": {
     "iopub.execute_input": "2024-01-27T00:11:26.935449Z",
     "iopub.status.busy": "2024-01-27T00:11:26.934383Z",
     "iopub.status.idle": "2024-01-27T00:11:26.950259Z",
     "shell.execute_reply": "2024-01-27T00:11:26.950874Z",
     "shell.execute_reply.started": "2024-01-26T07:00:28.163413Z"
    },
    "papermill": {
     "duration": 0.18194,
     "end_time": "2024-01-27T00:11:26.951093",
     "exception": false,
     "start_time": "2024-01-27T00:11:26.769153",
     "status": "completed"
    },
    "tags": []
   },
   "outputs": [],
   "source": [
    "# Apply scaler() to all the numeric variables\n",
    "\n",
    "num_vars = ['Produktivitas Jeruk', 'Min', 'Max', 'Tavg', 'Sun Day', 'Sun Hour',\n",
    "       'Curah Hujan', 'Hari Hujan', 'Kecepatan A', 'Mx Kec']\n",
    "\n",
    "df_train[num_vars] = scaler.fit_transform(df_train[num_vars])"
   ]
  },
  {
   "cell_type": "code",
   "execution_count": 43,
   "metadata": {
    "execution": {
     "iopub.execute_input": "2024-01-27T00:11:27.267416Z",
     "iopub.status.busy": "2024-01-27T00:11:27.266629Z",
     "iopub.status.idle": "2024-01-27T00:11:27.286154Z",
     "shell.execute_reply": "2024-01-27T00:11:27.286808Z",
     "shell.execute_reply.started": "2024-01-26T07:00:28.184124Z"
    },
    "papermill": {
     "duration": 0.180078,
     "end_time": "2024-01-27T00:11:27.286991",
     "exception": false,
     "start_time": "2024-01-27T00:11:27.106913",
     "status": "completed"
    },
    "tags": []
   },
   "outputs": [
    {
     "data": {
      "text/html": [
       "<div>\n",
       "<style scoped>\n",
       "    .dataframe tbody tr th:only-of-type {\n",
       "        vertical-align: middle;\n",
       "    }\n",
       "\n",
       "    .dataframe tbody tr th {\n",
       "        vertical-align: top;\n",
       "    }\n",
       "\n",
       "    .dataframe thead th {\n",
       "        text-align: right;\n",
       "    }\n",
       "</style>\n",
       "<table border=\"1\" class=\"dataframe\">\n",
       "  <thead>\n",
       "    <tr style=\"text-align: right;\">\n",
       "      <th></th>\n",
       "      <th>Produktivitas Jeruk</th>\n",
       "      <th>Max</th>\n",
       "      <th>Min</th>\n",
       "      <th>Tavg</th>\n",
       "      <th>Sun Hour</th>\n",
       "      <th>Sun Day</th>\n",
       "      <th>Curah Hujan</th>\n",
       "      <th>Hari Hujan</th>\n",
       "      <th>Kecepatan A</th>\n",
       "      <th>Mx Kec</th>\n",
       "    </tr>\n",
       "  </thead>\n",
       "  <tbody>\n",
       "    <tr>\n",
       "      <th>1</th>\n",
       "      <td>0.117647</td>\n",
       "      <td>0.000000</td>\n",
       "      <td>0.333333</td>\n",
       "      <td>0.333333</td>\n",
       "      <td>0.716207</td>\n",
       "      <td>0.558442</td>\n",
       "      <td>0.079840</td>\n",
       "      <td>0.097368</td>\n",
       "      <td>0.817391</td>\n",
       "      <td>0.835616</td>\n",
       "    </tr>\n",
       "    <tr>\n",
       "      <th>14</th>\n",
       "      <td>0.188235</td>\n",
       "      <td>0.333333</td>\n",
       "      <td>0.333333</td>\n",
       "      <td>0.333333</td>\n",
       "      <td>0.952759</td>\n",
       "      <td>1.000000</td>\n",
       "      <td>0.003992</td>\n",
       "      <td>0.010526</td>\n",
       "      <td>0.795652</td>\n",
       "      <td>0.739726</td>\n",
       "    </tr>\n",
       "    <tr>\n",
       "      <th>36</th>\n",
       "      <td>0.000000</td>\n",
       "      <td>0.000000</td>\n",
       "      <td>0.333333</td>\n",
       "      <td>0.223333</td>\n",
       "      <td>0.000000</td>\n",
       "      <td>0.000000</td>\n",
       "      <td>0.189621</td>\n",
       "      <td>0.207895</td>\n",
       "      <td>0.404348</td>\n",
       "      <td>0.342466</td>\n",
       "    </tr>\n",
       "    <tr>\n",
       "      <th>11</th>\n",
       "      <td>0.305882</td>\n",
       "      <td>0.666667</td>\n",
       "      <td>0.333333</td>\n",
       "      <td>0.666667</td>\n",
       "      <td>0.541379</td>\n",
       "      <td>0.246753</td>\n",
       "      <td>0.157186</td>\n",
       "      <td>0.163158</td>\n",
       "      <td>0.636957</td>\n",
       "      <td>0.821918</td>\n",
       "    </tr>\n",
       "    <tr>\n",
       "      <th>18</th>\n",
       "      <td>0.294118</td>\n",
       "      <td>0.666667</td>\n",
       "      <td>0.666667</td>\n",
       "      <td>0.776667</td>\n",
       "      <td>0.674828</td>\n",
       "      <td>0.506494</td>\n",
       "      <td>0.069361</td>\n",
       "      <td>0.110526</td>\n",
       "      <td>0.600000</td>\n",
       "      <td>0.657534</td>\n",
       "    </tr>\n",
       "  </tbody>\n",
       "</table>\n",
       "</div>"
      ],
      "text/plain": [
       "    Produktivitas Jeruk       Max       Min      Tavg  Sun Hour   Sun Day  \\\n",
       "1              0.117647  0.000000  0.333333  0.333333  0.716207  0.558442   \n",
       "14             0.188235  0.333333  0.333333  0.333333  0.952759  1.000000   \n",
       "36             0.000000  0.000000  0.333333  0.223333  0.000000  0.000000   \n",
       "11             0.305882  0.666667  0.333333  0.666667  0.541379  0.246753   \n",
       "18             0.294118  0.666667  0.666667  0.776667  0.674828  0.506494   \n",
       "\n",
       "    Curah Hujan  Hari Hujan  Kecepatan A    Mx Kec  \n",
       "1      0.079840    0.097368     0.817391  0.835616  \n",
       "14     0.003992    0.010526     0.795652  0.739726  \n",
       "36     0.189621    0.207895     0.404348  0.342466  \n",
       "11     0.157186    0.163158     0.636957  0.821918  \n",
       "18     0.069361    0.110526     0.600000  0.657534  "
      ]
     },
     "execution_count": 43,
     "metadata": {},
     "output_type": "execute_result"
    }
   ],
   "source": [
    "# Checking values after scaling\n",
    "df_train.head()"
   ]
  },
  {
   "cell_type": "code",
   "execution_count": 44,
   "metadata": {
    "execution": {
     "iopub.execute_input": "2024-01-27T00:11:27.598948Z",
     "iopub.status.busy": "2024-01-27T00:11:27.598117Z",
     "iopub.status.idle": "2024-01-27T00:11:27.648764Z",
     "shell.execute_reply": "2024-01-27T00:11:27.648101Z",
     "shell.execute_reply.started": "2024-01-26T07:00:28.207290Z"
    },
    "papermill": {
     "duration": 0.207393,
     "end_time": "2024-01-27T00:11:27.648959",
     "exception": false,
     "start_time": "2024-01-27T00:11:27.441566",
     "status": "completed"
    },
    "tags": []
   },
   "outputs": [
    {
     "data": {
      "text/html": [
       "<div>\n",
       "<style scoped>\n",
       "    .dataframe tbody tr th:only-of-type {\n",
       "        vertical-align: middle;\n",
       "    }\n",
       "\n",
       "    .dataframe tbody tr th {\n",
       "        vertical-align: top;\n",
       "    }\n",
       "\n",
       "    .dataframe thead th {\n",
       "        text-align: right;\n",
       "    }\n",
       "</style>\n",
       "<table border=\"1\" class=\"dataframe\">\n",
       "  <thead>\n",
       "    <tr style=\"text-align: right;\">\n",
       "      <th></th>\n",
       "      <th>Produktivitas Jeruk</th>\n",
       "      <th>Max</th>\n",
       "      <th>Min</th>\n",
       "      <th>Tavg</th>\n",
       "      <th>Sun Hour</th>\n",
       "      <th>Sun Day</th>\n",
       "      <th>Curah Hujan</th>\n",
       "      <th>Hari Hujan</th>\n",
       "      <th>Kecepatan A</th>\n",
       "      <th>Mx Kec</th>\n",
       "    </tr>\n",
       "  </thead>\n",
       "  <tbody>\n",
       "    <tr>\n",
       "      <th>count</th>\n",
       "      <td>28.000000</td>\n",
       "      <td>28.000000</td>\n",
       "      <td>28.000000</td>\n",
       "      <td>28.000000</td>\n",
       "      <td>28.000000</td>\n",
       "      <td>28.000000</td>\n",
       "      <td>28.000000</td>\n",
       "      <td>28.000000</td>\n",
       "      <td>28.000000</td>\n",
       "      <td>28.000000</td>\n",
       "    </tr>\n",
       "    <tr>\n",
       "      <th>mean</th>\n",
       "      <td>0.233613</td>\n",
       "      <td>0.404762</td>\n",
       "      <td>0.559524</td>\n",
       "      <td>0.547738</td>\n",
       "      <td>0.522167</td>\n",
       "      <td>0.432746</td>\n",
       "      <td>0.165490</td>\n",
       "      <td>0.173308</td>\n",
       "      <td>0.433773</td>\n",
       "      <td>0.510274</td>\n",
       "    </tr>\n",
       "    <tr>\n",
       "      <th>std</th>\n",
       "      <td>0.232085</td>\n",
       "      <td>0.277513</td>\n",
       "      <td>0.287655</td>\n",
       "      <td>0.290092</td>\n",
       "      <td>0.258896</td>\n",
       "      <td>0.310042</td>\n",
       "      <td>0.196708</td>\n",
       "      <td>0.205274</td>\n",
       "      <td>0.267461</td>\n",
       "      <td>0.301615</td>\n",
       "    </tr>\n",
       "    <tr>\n",
       "      <th>min</th>\n",
       "      <td>0.000000</td>\n",
       "      <td>0.000000</td>\n",
       "      <td>0.000000</td>\n",
       "      <td>0.000000</td>\n",
       "      <td>0.000000</td>\n",
       "      <td>0.000000</td>\n",
       "      <td>0.000000</td>\n",
       "      <td>0.000000</td>\n",
       "      <td>0.000000</td>\n",
       "      <td>0.000000</td>\n",
       "    </tr>\n",
       "    <tr>\n",
       "      <th>25%</th>\n",
       "      <td>0.117647</td>\n",
       "      <td>0.333333</td>\n",
       "      <td>0.333333</td>\n",
       "      <td>0.333333</td>\n",
       "      <td>0.354655</td>\n",
       "      <td>0.201299</td>\n",
       "      <td>0.065494</td>\n",
       "      <td>0.080921</td>\n",
       "      <td>0.244022</td>\n",
       "      <td>0.256849</td>\n",
       "    </tr>\n",
       "    <tr>\n",
       "      <th>50%</th>\n",
       "      <td>0.182353</td>\n",
       "      <td>0.333333</td>\n",
       "      <td>0.666667</td>\n",
       "      <td>0.556667</td>\n",
       "      <td>0.509138</td>\n",
       "      <td>0.376623</td>\n",
       "      <td>0.134481</td>\n",
       "      <td>0.110526</td>\n",
       "      <td>0.408696</td>\n",
       "      <td>0.520548</td>\n",
       "    </tr>\n",
       "    <tr>\n",
       "      <th>75%</th>\n",
       "      <td>0.294118</td>\n",
       "      <td>0.666667</td>\n",
       "      <td>0.666667</td>\n",
       "      <td>0.776667</td>\n",
       "      <td>0.706207</td>\n",
       "      <td>0.613636</td>\n",
       "      <td>0.194237</td>\n",
       "      <td>0.170395</td>\n",
       "      <td>0.600000</td>\n",
       "      <td>0.750000</td>\n",
       "    </tr>\n",
       "    <tr>\n",
       "      <th>max</th>\n",
       "      <td>1.000000</td>\n",
       "      <td>1.000000</td>\n",
       "      <td>1.000000</td>\n",
       "      <td>1.000000</td>\n",
       "      <td>1.000000</td>\n",
       "      <td>1.000000</td>\n",
       "      <td>1.000000</td>\n",
       "      <td>1.000000</td>\n",
       "      <td>1.000000</td>\n",
       "      <td>1.000000</td>\n",
       "    </tr>\n",
       "  </tbody>\n",
       "</table>\n",
       "</div>"
      ],
      "text/plain": [
       "       Produktivitas Jeruk        Max        Min       Tavg   Sun Hour  \\\n",
       "count            28.000000  28.000000  28.000000  28.000000  28.000000   \n",
       "mean              0.233613   0.404762   0.559524   0.547738   0.522167   \n",
       "std               0.232085   0.277513   0.287655   0.290092   0.258896   \n",
       "min               0.000000   0.000000   0.000000   0.000000   0.000000   \n",
       "25%               0.117647   0.333333   0.333333   0.333333   0.354655   \n",
       "50%               0.182353   0.333333   0.666667   0.556667   0.509138   \n",
       "75%               0.294118   0.666667   0.666667   0.776667   0.706207   \n",
       "max               1.000000   1.000000   1.000000   1.000000   1.000000   \n",
       "\n",
       "         Sun Day  Curah Hujan  Hari Hujan  Kecepatan A     Mx Kec  \n",
       "count  28.000000    28.000000   28.000000    28.000000  28.000000  \n",
       "mean    0.432746     0.165490    0.173308     0.433773   0.510274  \n",
       "std     0.310042     0.196708    0.205274     0.267461   0.301615  \n",
       "min     0.000000     0.000000    0.000000     0.000000   0.000000  \n",
       "25%     0.201299     0.065494    0.080921     0.244022   0.256849  \n",
       "50%     0.376623     0.134481    0.110526     0.408696   0.520548  \n",
       "75%     0.613636     0.194237    0.170395     0.600000   0.750000  \n",
       "max     1.000000     1.000000    1.000000     1.000000   1.000000  "
      ]
     },
     "execution_count": 44,
     "metadata": {},
     "output_type": "execute_result"
    }
   ],
   "source": [
    "df_train.describe()"
   ]
  },
  {
   "cell_type": "markdown",
   "metadata": {
    "papermill": {
     "duration": 0.159335,
     "end_time": "2024-01-27T00:11:27.963769",
     "exception": false,
     "start_time": "2024-01-27T00:11:27.804434",
     "status": "completed"
    },
    "tags": []
   },
   "source": [
    "# BUILDING A LINEAR MODEL"
   ]
  },
  {
   "cell_type": "markdown",
   "metadata": {
    "papermill": {
     "duration": 0.160794,
     "end_time": "2024-01-27T00:11:28.281274",
     "exception": false,
     "start_time": "2024-01-27T00:11:28.120480",
     "status": "completed"
    },
    "tags": []
   },
   "source": [
    "## Dividing into X and Y sets for the model building"
   ]
  },
  {
   "cell_type": "code",
   "execution_count": 45,
   "metadata": {
    "execution": {
     "iopub.execute_input": "2024-01-27T00:11:28.602580Z",
     "iopub.status.busy": "2024-01-27T00:11:28.601271Z",
     "iopub.status.idle": "2024-01-27T00:11:28.604263Z",
     "shell.execute_reply": "2024-01-27T00:11:28.604850Z",
     "shell.execute_reply.started": "2024-01-26T07:00:28.264959Z"
    },
    "papermill": {
     "duration": 0.167634,
     "end_time": "2024-01-27T00:11:28.605053",
     "exception": false,
     "start_time": "2024-01-27T00:11:28.437419",
     "status": "completed"
    },
    "tags": []
   },
   "outputs": [],
   "source": [
    "y_train = df_train.pop('Produktivitas Jeruk')\n",
    "X_train = df_train"
   ]
  },
  {
   "cell_type": "markdown",
   "metadata": {
    "papermill": {
     "duration": 0.158649,
     "end_time": "2024-01-27T00:11:28.921675",
     "exception": false,
     "start_time": "2024-01-27T00:11:28.763026",
     "status": "completed"
    },
    "tags": []
   },
   "source": [
    "### RFE\n",
    "Recursive feature elimination: We will be using the **LinearRegression function from SciKit Learn**  for its compatibility with RFE (which is a utility from sklearn)"
   ]
  },
  {
   "cell_type": "code",
   "execution_count": 46,
   "metadata": {
    "execution": {
     "iopub.execute_input": "2024-01-27T00:11:29.239951Z",
     "iopub.status.busy": "2024-01-27T00:11:29.238739Z",
     "iopub.status.idle": "2024-01-27T00:11:29.411480Z",
     "shell.execute_reply": "2024-01-27T00:11:29.409834Z",
     "shell.execute_reply.started": "2024-01-26T07:00:28.273879Z"
    },
    "papermill": {
     "duration": 0.332786,
     "end_time": "2024-01-27T00:11:29.411644",
     "exception": false,
     "start_time": "2024-01-27T00:11:29.078858",
     "status": "completed"
    },
    "tags": []
   },
   "outputs": [],
   "source": [
    "# Importing RFE and LinearRegression\n",
    "from sklearn.feature_selection import RFE\n",
    "from sklearn.linear_model import LinearRegression"
   ]
  },
  {
   "cell_type": "code",
   "execution_count": 47,
   "metadata": {
    "execution": {
     "iopub.execute_input": "2024-01-27T00:11:29.727366Z",
     "iopub.status.busy": "2024-01-27T00:11:29.726256Z",
     "iopub.status.idle": "2024-01-27T00:11:29.767697Z",
     "shell.execute_reply": "2024-01-27T00:11:29.768339Z",
     "shell.execute_reply.started": "2024-01-26T07:00:28.287283Z"
    },
    "papermill": {
     "duration": 0.201299,
     "end_time": "2024-01-27T00:11:29.768504",
     "exception": false,
     "start_time": "2024-01-27T00:11:29.567205",
     "status": "completed"
    },
    "tags": []
   },
   "outputs": [],
   "source": [
    "# Running RFE with the output number of the variable equal to 15\n",
    "lm = LinearRegression()\n",
    "lm.fit(X_train, y_train)\n",
    "\n",
    "rfe = RFE(lm, 15)             # running RFE\n",
    "rfe = rfe.fit(X_train, y_train)"
   ]
  },
  {
   "cell_type": "code",
   "execution_count": 48,
   "metadata": {
    "execution": {
     "iopub.execute_input": "2024-01-27T00:11:30.087923Z",
     "iopub.status.busy": "2024-01-27T00:11:30.086741Z",
     "iopub.status.idle": "2024-01-27T00:11:30.095304Z",
     "shell.execute_reply": "2024-01-27T00:11:30.095971Z",
     "shell.execute_reply.started": "2024-01-26T07:00:28.312117Z"
    },
    "papermill": {
     "duration": 0.169282,
     "end_time": "2024-01-27T00:11:30.096160",
     "exception": false,
     "start_time": "2024-01-27T00:11:29.926878",
     "status": "completed"
    },
    "tags": []
   },
   "outputs": [
    {
     "data": {
      "text/plain": [
       "[('Max', True, 1),\n",
       " ('Min', True, 1),\n",
       " ('Tavg', True, 1),\n",
       " ('Sun Hour', True, 1),\n",
       " ('Sun Day', True, 1),\n",
       " ('Curah Hujan', True, 1),\n",
       " ('Hari Hujan', True, 1),\n",
       " ('Kecepatan A', True, 1),\n",
       " ('Mx Kec', True, 1)]"
      ]
     },
     "execution_count": 48,
     "metadata": {},
     "output_type": "execute_result"
    }
   ],
   "source": [
    "list(zip(X_train.columns,rfe.support_,rfe.ranking_))"
   ]
  },
  {
   "cell_type": "code",
   "execution_count": 49,
   "metadata": {
    "execution": {
     "iopub.execute_input": "2024-01-27T00:11:30.415983Z",
     "iopub.status.busy": "2024-01-27T00:11:30.414858Z",
     "iopub.status.idle": "2024-01-27T00:11:30.422585Z",
     "shell.execute_reply": "2024-01-27T00:11:30.423141Z",
     "shell.execute_reply.started": "2024-01-26T07:00:28.329153Z"
    },
    "papermill": {
     "duration": 0.172701,
     "end_time": "2024-01-27T00:11:30.423345",
     "exception": false,
     "start_time": "2024-01-27T00:11:30.250644",
     "status": "completed"
    },
    "tags": []
   },
   "outputs": [
    {
     "data": {
      "text/plain": [
       "Index(['Max', 'Min', 'Tavg', 'Sun Hour', 'Sun Day', 'Curah Hujan',\n",
       "       'Hari Hujan', 'Kecepatan A', 'Mx Kec'],\n",
       "      dtype='object')"
      ]
     },
     "execution_count": 49,
     "metadata": {},
     "output_type": "execute_result"
    }
   ],
   "source": [
    "col = X_train.columns[rfe.support_]\n",
    "col"
   ]
  },
  {
   "cell_type": "code",
   "execution_count": 50,
   "metadata": {
    "execution": {
     "iopub.execute_input": "2024-01-27T00:11:30.743365Z",
     "iopub.status.busy": "2024-01-27T00:11:30.742234Z",
     "iopub.status.idle": "2024-01-27T00:11:30.751315Z",
     "shell.execute_reply": "2024-01-27T00:11:30.751894Z",
     "shell.execute_reply.started": "2024-01-26T07:00:28.349256Z"
    },
    "papermill": {
     "duration": 0.171488,
     "end_time": "2024-01-27T00:11:30.752091",
     "exception": false,
     "start_time": "2024-01-27T00:11:30.580603",
     "status": "completed"
    },
    "tags": []
   },
   "outputs": [
    {
     "data": {
      "text/plain": [
       "Index([], dtype='object')"
      ]
     },
     "execution_count": 50,
     "metadata": {},
     "output_type": "execute_result"
    }
   ],
   "source": [
    "X_train.columns[~rfe.support_]"
   ]
  },
  {
   "cell_type": "code",
   "execution_count": 51,
   "metadata": {
    "execution": {
     "iopub.execute_input": "2024-01-27T00:11:31.080812Z",
     "iopub.status.busy": "2024-01-27T00:11:31.079980Z",
     "iopub.status.idle": "2024-01-27T00:11:31.085061Z",
     "shell.execute_reply": "2024-01-27T00:11:31.085621Z",
     "shell.execute_reply.started": "2024-01-26T07:00:28.360486Z"
    },
    "papermill": {
     "duration": 0.171027,
     "end_time": "2024-01-27T00:11:31.085840",
     "exception": false,
     "start_time": "2024-01-27T00:11:30.914813",
     "status": "completed"
    },
    "tags": []
   },
   "outputs": [],
   "source": [
    "# Creating X_test dataframe with RFE selected variables\n",
    "X_train_rfe = X_train[col]"
   ]
  },
  {
   "cell_type": "markdown",
   "metadata": {
    "papermill": {
     "duration": 0.157478,
     "end_time": "2024-01-27T00:11:31.400564",
     "exception": false,
     "start_time": "2024-01-27T00:11:31.243086",
     "status": "completed"
    },
    "tags": []
   },
   "source": [
    "# Building Linear Model using 'STATS MODEL'"
   ]
  },
  {
   "cell_type": "markdown",
   "metadata": {
    "papermill": {
     "duration": 0.157347,
     "end_time": "2024-01-27T00:11:31.713831",
     "exception": false,
     "start_time": "2024-01-27T00:11:31.556484",
     "status": "completed"
    },
    "tags": []
   },
   "source": [
    "## Model 1"
   ]
  },
  {
   "cell_type": "markdown",
   "metadata": {
    "papermill": {
     "duration": 0.159955,
     "end_time": "2024-01-27T00:11:32.032060",
     "exception": false,
     "start_time": "2024-01-27T00:11:31.872105",
     "status": "completed"
    },
    "tags": []
   },
   "source": [
    "### VIF Check"
   ]
  },
  {
   "cell_type": "code",
   "execution_count": 52,
   "metadata": {
    "execution": {
     "iopub.execute_input": "2024-01-27T00:11:32.353158Z",
     "iopub.status.busy": "2024-01-27T00:11:32.352076Z",
     "iopub.status.idle": "2024-01-27T00:11:32.487087Z",
     "shell.execute_reply": "2024-01-27T00:11:32.486183Z",
     "shell.execute_reply.started": "2024-01-26T07:00:28.375772Z"
    },
    "papermill": {
     "duration": 0.29741,
     "end_time": "2024-01-27T00:11:32.487243",
     "exception": false,
     "start_time": "2024-01-27T00:11:32.189833",
     "status": "completed"
    },
    "tags": []
   },
   "outputs": [
    {
     "data": {
      "text/html": [
       "<div>\n",
       "<style scoped>\n",
       "    .dataframe tbody tr th:only-of-type {\n",
       "        vertical-align: middle;\n",
       "    }\n",
       "\n",
       "    .dataframe tbody tr th {\n",
       "        vertical-align: top;\n",
       "    }\n",
       "\n",
       "    .dataframe thead th {\n",
       "        text-align: right;\n",
       "    }\n",
       "</style>\n",
       "<table border=\"1\" class=\"dataframe\">\n",
       "  <thead>\n",
       "    <tr style=\"text-align: right;\">\n",
       "      <th></th>\n",
       "      <th>Features</th>\n",
       "      <th>VIF</th>\n",
       "    </tr>\n",
       "  </thead>\n",
       "  <tbody>\n",
       "    <tr>\n",
       "      <th>3</th>\n",
       "      <td>Sun Hour</td>\n",
       "      <td>161.62</td>\n",
       "    </tr>\n",
       "    <tr>\n",
       "      <th>2</th>\n",
       "      <td>Tavg</td>\n",
       "      <td>75.65</td>\n",
       "    </tr>\n",
       "    <tr>\n",
       "      <th>5</th>\n",
       "      <td>Curah Hujan</td>\n",
       "      <td>65.45</td>\n",
       "    </tr>\n",
       "    <tr>\n",
       "      <th>6</th>\n",
       "      <td>Hari Hujan</td>\n",
       "      <td>65.14</td>\n",
       "    </tr>\n",
       "    <tr>\n",
       "      <th>4</th>\n",
       "      <td>Sun Day</td>\n",
       "      <td>64.18</td>\n",
       "    </tr>\n",
       "    <tr>\n",
       "      <th>8</th>\n",
       "      <td>Mx Kec</td>\n",
       "      <td>29.60</td>\n",
       "    </tr>\n",
       "    <tr>\n",
       "      <th>7</th>\n",
       "      <td>Kecepatan A</td>\n",
       "      <td>25.59</td>\n",
       "    </tr>\n",
       "    <tr>\n",
       "      <th>1</th>\n",
       "      <td>Min</td>\n",
       "      <td>19.91</td>\n",
       "    </tr>\n",
       "    <tr>\n",
       "      <th>0</th>\n",
       "      <td>Max</td>\n",
       "      <td>12.10</td>\n",
       "    </tr>\n",
       "  </tbody>\n",
       "</table>\n",
       "</div>"
      ],
      "text/plain": [
       "      Features     VIF\n",
       "3     Sun Hour  161.62\n",
       "2         Tavg   75.65\n",
       "5  Curah Hujan   65.45\n",
       "6   Hari Hujan   65.14\n",
       "4      Sun Day   64.18\n",
       "8       Mx Kec   29.60\n",
       "7  Kecepatan A   25.59\n",
       "1          Min   19.91\n",
       "0          Max   12.10"
      ]
     },
     "execution_count": 52,
     "metadata": {},
     "output_type": "execute_result"
    }
   ],
   "source": [
    "# Check for the VIF values of the feature variables. \n",
    "from statsmodels.stats.outliers_influence import variance_inflation_factor\n",
    "\n",
    "# Create a dataframe that will contain the names of all the feature variables and their respective VIFs\n",
    "vif = pd.DataFrame()\n",
    "vif['Features'] = X_train_rfe.columns\n",
    "vif['VIF'] = [variance_inflation_factor(X_train_rfe.values, i) for i in range(X_train_rfe.shape[1])]\n",
    "vif['VIF'] = round(vif['VIF'], 2)\n",
    "vif = vif.sort_values(by = \"VIF\", ascending = False)\n",
    "vif"
   ]
  },
  {
   "cell_type": "code",
   "execution_count": 53,
   "metadata": {
    "execution": {
     "iopub.execute_input": "2024-01-27T00:11:32.834829Z",
     "iopub.status.busy": "2024-01-27T00:11:32.834048Z",
     "iopub.status.idle": "2024-01-27T00:11:33.422310Z",
     "shell.execute_reply": "2024-01-27T00:11:33.421622Z",
     "shell.execute_reply.started": "2024-01-26T07:00:28.411685Z"
    },
    "papermill": {
     "duration": 0.774612,
     "end_time": "2024-01-27T00:11:33.422449",
     "exception": false,
     "start_time": "2024-01-27T00:11:32.647837",
     "status": "completed"
    },
    "tags": []
   },
   "outputs": [],
   "source": [
    "import statsmodels.api as sm\n",
    "\n",
    "# Add a constant\n",
    "X_train_lm1 = sm.add_constant(X_train_rfe)\n",
    "\n",
    "# Create a first fitted model\n",
    "lr1 = sm.OLS(y_train, X_train_lm1).fit()"
   ]
  },
  {
   "cell_type": "code",
   "execution_count": 54,
   "metadata": {
    "execution": {
     "iopub.execute_input": "2024-01-27T00:11:33.742761Z",
     "iopub.status.busy": "2024-01-27T00:11:33.741621Z",
     "iopub.status.idle": "2024-01-27T00:11:33.751589Z",
     "shell.execute_reply": "2024-01-27T00:11:33.750926Z",
     "shell.execute_reply.started": "2024-01-26T07:00:28.427617Z"
    },
    "papermill": {
     "duration": 0.171473,
     "end_time": "2024-01-27T00:11:33.751753",
     "exception": false,
     "start_time": "2024-01-27T00:11:33.580280",
     "status": "completed"
    },
    "tags": []
   },
   "outputs": [
    {
     "data": {
      "text/plain": [
       "const         -0.010968\n",
       "Max            0.456575\n",
       "Min            0.425689\n",
       "Tavg          -0.539357\n",
       "Sun Hour       0.437014\n",
       "Sun Day       -0.329026\n",
       "Curah Hujan   -1.110553\n",
       "Hari Hujan     1.219062\n",
       "Kecepatan A    0.109755\n",
       "Mx Kec        -0.086006\n",
       "dtype: float64"
      ]
     },
     "execution_count": 54,
     "metadata": {},
     "output_type": "execute_result"
    }
   ],
   "source": [
    "# Check the parameters obtained\n",
    "\n",
    "lr1.params"
   ]
  },
  {
   "cell_type": "code",
   "execution_count": 55,
   "metadata": {
    "execution": {
     "iopub.execute_input": "2024-01-27T00:11:34.091413Z",
     "iopub.status.busy": "2024-01-27T00:11:34.088412Z",
     "iopub.status.idle": "2024-01-27T00:11:34.104973Z",
     "shell.execute_reply": "2024-01-27T00:11:34.104240Z",
     "shell.execute_reply.started": "2024-01-26T07:00:28.441353Z"
    },
    "papermill": {
     "duration": 0.18932,
     "end_time": "2024-01-27T00:11:34.105142",
     "exception": false,
     "start_time": "2024-01-27T00:11:33.915822",
     "status": "completed"
    },
    "tags": []
   },
   "outputs": [
    {
     "name": "stdout",
     "output_type": "stream",
     "text": [
      "                             OLS Regression Results                            \n",
      "===============================================================================\n",
      "Dep. Variable:     Produktivitas Jeruk   R-squared:                       0.217\n",
      "Model:                             OLS   Adj. R-squared:                 -0.175\n",
      "Method:                  Least Squares   F-statistic:                    0.5527\n",
      "Date:                 Sat, 27 Jan 2024   Prob (F-statistic):              0.817\n",
      "Time:                         00:11:34   Log-Likelihood:                 5.0933\n",
      "No. Observations:                   28   AIC:                             9.813\n",
      "Df Residuals:                       18   BIC:                             23.14\n",
      "Df Model:                            9                                         \n",
      "Covariance Type:             nonrobust                                         \n",
      "===============================================================================\n",
      "                  coef    std err          t      P>|t|      [0.025      0.975]\n",
      "-------------------------------------------------------------------------------\n",
      "const          -0.0110      0.246     -0.045      0.965      -0.528       0.506\n",
      "Max             0.4566      0.342      1.337      0.198      -0.261       1.174\n",
      "Min             0.4257      0.412      1.034      0.315      -0.440       1.291\n",
      "Tavg           -0.5394      0.678     -0.796      0.436      -1.963       0.884\n",
      "Sun Hour        0.4370      1.041      0.420      0.680      -1.750       2.624\n",
      "Sun Day        -0.3290      0.742     -0.444      0.663      -1.887       1.229\n",
      "Curah Hujan    -1.1106      1.514     -0.734      0.473      -4.291       2.070\n",
      "Hari Hujan      1.2191      1.453      0.839      0.413      -1.835       4.273\n",
      "Kecepatan A     0.1098      0.476      0.231      0.820      -0.889       1.109\n",
      "Mx Kec         -0.0860      0.441     -0.195      0.848      -1.012       0.840\n",
      "==============================================================================\n",
      "Omnibus:                       12.324   Durbin-Watson:                   2.093\n",
      "Prob(Omnibus):                  0.002   Jarque-Bera (JB):               11.739\n",
      "Skew:                           1.240   Prob(JB):                      0.00282\n",
      "Kurtosis:                       4.978   Cond. No.                         74.7\n",
      "==============================================================================\n",
      "\n",
      "Warnings:\n",
      "[1] Standard Errors assume that the covariance matrix of the errors is correctly specified.\n"
     ]
    }
   ],
   "source": [
    "# Print a summary of the linear regression model obtained\n",
    "print(lr1.summary())"
   ]
  },
  {
   "cell_type": "markdown",
   "metadata": {
    "papermill": {
     "duration": 0.161494,
     "end_time": "2024-01-27T00:11:34.428711",
     "exception": false,
     "start_time": "2024-01-27T00:11:34.267217",
     "status": "completed"
    },
    "tags": []
   },
   "source": [
    "## Model 2"
   ]
  },
  {
   "cell_type": "markdown",
   "metadata": {
    "papermill": {
     "duration": 0.158879,
     "end_time": "2024-01-27T00:11:34.747252",
     "exception": false,
     "start_time": "2024-01-27T00:11:34.588373",
     "status": "completed"
    },
    "tags": []
   },
   "source": [
    "- Removing the variable 'atemp' based on its High p-value & High VIF"
   ]
  },
  {
   "cell_type": "code",
   "execution_count": 56,
   "metadata": {
    "execution": {
     "iopub.execute_input": "2024-01-27T00:11:35.072457Z",
     "iopub.status.busy": "2024-01-27T00:11:35.071611Z",
     "iopub.status.idle": "2024-01-27T00:11:35.075415Z",
     "shell.execute_reply": "2024-01-27T00:11:35.074799Z",
     "shell.execute_reply.started": "2024-01-26T07:00:28.464436Z"
    },
    "papermill": {
     "duration": 0.169095,
     "end_time": "2024-01-27T00:11:35.075547",
     "exception": false,
     "start_time": "2024-01-27T00:11:34.906452",
     "status": "completed"
    },
    "tags": []
   },
   "outputs": [],
   "source": [
    "X_train_new = X_train_rfe.drop([\"Sun Hour\"], axis = 1)"
   ]
  },
  {
   "cell_type": "markdown",
   "metadata": {
    "papermill": {
     "duration": 0.162588,
     "end_time": "2024-01-27T00:11:35.397068",
     "exception": false,
     "start_time": "2024-01-27T00:11:35.234480",
     "status": "completed"
    },
    "tags": []
   },
   "source": [
    "### VIF Check"
   ]
  },
  {
   "cell_type": "code",
   "execution_count": 57,
   "metadata": {
    "execution": {
     "iopub.execute_input": "2024-01-27T00:11:35.725152Z",
     "iopub.status.busy": "2024-01-27T00:11:35.724292Z",
     "iopub.status.idle": "2024-01-27T00:11:35.748869Z",
     "shell.execute_reply": "2024-01-27T00:11:35.749426Z",
     "shell.execute_reply.started": "2024-01-26T07:00:28.472574Z"
    },
    "papermill": {
     "duration": 0.190661,
     "end_time": "2024-01-27T00:11:35.749626",
     "exception": false,
     "start_time": "2024-01-27T00:11:35.558965",
     "status": "completed"
    },
    "tags": []
   },
   "outputs": [
    {
     "data": {
      "text/html": [
       "<div>\n",
       "<style scoped>\n",
       "    .dataframe tbody tr th:only-of-type {\n",
       "        vertical-align: middle;\n",
       "    }\n",
       "\n",
       "    .dataframe tbody tr th {\n",
       "        vertical-align: top;\n",
       "    }\n",
       "\n",
       "    .dataframe thead th {\n",
       "        text-align: right;\n",
       "    }\n",
       "</style>\n",
       "<table border=\"1\" class=\"dataframe\">\n",
       "  <thead>\n",
       "    <tr style=\"text-align: right;\">\n",
       "      <th></th>\n",
       "      <th>Features</th>\n",
       "      <th>VIF</th>\n",
       "    </tr>\n",
       "  </thead>\n",
       "  <tbody>\n",
       "    <tr>\n",
       "      <th>4</th>\n",
       "      <td>Curah Hujan</td>\n",
       "      <td>65.45</td>\n",
       "    </tr>\n",
       "    <tr>\n",
       "      <th>5</th>\n",
       "      <td>Hari Hujan</td>\n",
       "      <td>63.72</td>\n",
       "    </tr>\n",
       "    <tr>\n",
       "      <th>2</th>\n",
       "      <td>Tavg</td>\n",
       "      <td>37.17</td>\n",
       "    </tr>\n",
       "    <tr>\n",
       "      <th>7</th>\n",
       "      <td>Mx Kec</td>\n",
       "      <td>25.16</td>\n",
       "    </tr>\n",
       "    <tr>\n",
       "      <th>6</th>\n",
       "      <td>Kecepatan A</td>\n",
       "      <td>24.95</td>\n",
       "    </tr>\n",
       "    <tr>\n",
       "      <th>1</th>\n",
       "      <td>Min</td>\n",
       "      <td>19.46</td>\n",
       "    </tr>\n",
       "    <tr>\n",
       "      <th>0</th>\n",
       "      <td>Max</td>\n",
       "      <td>8.88</td>\n",
       "    </tr>\n",
       "    <tr>\n",
       "      <th>3</th>\n",
       "      <td>Sun Day</td>\n",
       "      <td>4.01</td>\n",
       "    </tr>\n",
       "  </tbody>\n",
       "</table>\n",
       "</div>"
      ],
      "text/plain": [
       "      Features    VIF\n",
       "4  Curah Hujan  65.45\n",
       "5   Hari Hujan  63.72\n",
       "2         Tavg  37.17\n",
       "7       Mx Kec  25.16\n",
       "6  Kecepatan A  24.95\n",
       "1          Min  19.46\n",
       "0          Max   8.88\n",
       "3      Sun Day   4.01"
      ]
     },
     "execution_count": 57,
     "metadata": {},
     "output_type": "execute_result"
    }
   ],
   "source": [
    "# Check for the VIF values of the feature variables. \n",
    "from statsmodels.stats.outliers_influence import variance_inflation_factor\n",
    "\n",
    "# Create a dataframe that will contain the names of all the feature variables and their respective VIFs\n",
    "vif = pd.DataFrame()\n",
    "vif['Features'] = X_train_new.columns\n",
    "vif['VIF'] = [variance_inflation_factor(X_train_new.values, i) for i in range(X_train_new.shape[1])]\n",
    "vif['VIF'] = round(vif['VIF'], 2)\n",
    "vif = vif.sort_values(by = \"VIF\", ascending = False)\n",
    "vif"
   ]
  },
  {
   "cell_type": "code",
   "execution_count": 58,
   "metadata": {
    "execution": {
     "iopub.execute_input": "2024-01-27T00:11:36.079218Z",
     "iopub.status.busy": "2024-01-27T00:11:36.078341Z",
     "iopub.status.idle": "2024-01-27T00:11:36.090366Z",
     "shell.execute_reply": "2024-01-27T00:11:36.091168Z",
     "shell.execute_reply.started": "2024-01-26T07:00:28.510396Z"
    },
    "papermill": {
     "duration": 0.179673,
     "end_time": "2024-01-27T00:11:36.091399",
     "exception": false,
     "start_time": "2024-01-27T00:11:35.911726",
     "status": "completed"
    },
    "tags": []
   },
   "outputs": [],
   "source": [
    "# Add a constant\n",
    "X_train_lm2 = sm.add_constant(X_train_new)\n",
    "\n",
    "# Create a first fitted model\n",
    "lr2 = sm.OLS(y_train, X_train_lm2).fit()"
   ]
  },
  {
   "cell_type": "code",
   "execution_count": 59,
   "metadata": {
    "execution": {
     "iopub.execute_input": "2024-01-27T00:11:36.417152Z",
     "iopub.status.busy": "2024-01-27T00:11:36.416338Z",
     "iopub.status.idle": "2024-01-27T00:11:36.426921Z",
     "shell.execute_reply": "2024-01-27T00:11:36.426271Z",
     "shell.execute_reply.started": "2024-01-26T07:00:28.525329Z"
    },
    "papermill": {
     "duration": 0.174946,
     "end_time": "2024-01-27T00:11:36.427074",
     "exception": false,
     "start_time": "2024-01-27T00:11:36.252128",
     "status": "completed"
    },
    "tags": []
   },
   "outputs": [
    {
     "data": {
      "text/plain": [
       "const         -0.013149\n",
       "Max            0.383524\n",
       "Min            0.406490\n",
       "Tavg          -0.339775\n",
       "Sun Day       -0.034909\n",
       "Curah Hujan   -1.116486\n",
       "Hari Hujan     1.131034\n",
       "Kecepatan A    0.141473\n",
       "Mx Kec        -0.014340\n",
       "dtype: float64"
      ]
     },
     "execution_count": 59,
     "metadata": {},
     "output_type": "execute_result"
    }
   ],
   "source": [
    "# Check the parameters obtained\n",
    "\n",
    "lr2.params"
   ]
  },
  {
   "cell_type": "code",
   "execution_count": 60,
   "metadata": {
    "execution": {
     "iopub.execute_input": "2024-01-27T00:11:36.759578Z",
     "iopub.status.busy": "2024-01-27T00:11:36.758796Z",
     "iopub.status.idle": "2024-01-27T00:11:36.775337Z",
     "shell.execute_reply": "2024-01-27T00:11:36.774457Z",
     "shell.execute_reply.started": "2024-01-26T07:00:28.540080Z"
    },
    "papermill": {
     "duration": 0.186805,
     "end_time": "2024-01-27T00:11:36.775482",
     "exception": false,
     "start_time": "2024-01-27T00:11:36.588677",
     "status": "completed"
    },
    "tags": []
   },
   "outputs": [
    {
     "name": "stdout",
     "output_type": "stream",
     "text": [
      "                             OLS Regression Results                            \n",
      "===============================================================================\n",
      "Dep. Variable:     Produktivitas Jeruk   R-squared:                       0.209\n",
      "Model:                             OLS   Adj. R-squared:                 -0.124\n",
      "Method:                  Least Squares   F-statistic:                    0.6270\n",
      "Date:                 Sat, 27 Jan 2024   Prob (F-statistic):              0.745\n",
      "Time:                         00:11:36   Log-Likelihood:                 4.9569\n",
      "No. Observations:                   28   AIC:                             8.086\n",
      "Df Residuals:                       19   BIC:                             20.08\n",
      "Df Model:                            8                                         \n",
      "Covariance Type:             nonrobust                                         \n",
      "===============================================================================\n",
      "                  coef    std err          t      P>|t|      [0.025      0.975]\n",
      "-------------------------------------------------------------------------------\n",
      "const          -0.0131      0.241     -0.055      0.957      -0.517       0.490\n",
      "Max             0.3835      0.288      1.334      0.198      -0.218       0.985\n",
      "Min             0.4065      0.400      1.015      0.323      -0.431       1.244\n",
      "Tavg           -0.3398      0.472     -0.719      0.481      -1.328       0.649\n",
      "Sun Day        -0.0349      0.238     -0.147      0.885      -0.533       0.463\n",
      "Curah Hujan    -1.1165      1.481     -0.754      0.460      -4.216       1.983\n",
      "Hari Hujan      1.1310      1.407      0.804      0.431      -1.813       4.075\n",
      "Kecepatan A     0.1415      0.459      0.308      0.761      -0.820       1.103\n",
      "Mx Kec         -0.0143      0.398     -0.036      0.972      -0.847       0.818\n",
      "==============================================================================\n",
      "Omnibus:                       13.464   Durbin-Watson:                   2.095\n",
      "Prob(Omnibus):                  0.001   Jarque-Bera (JB):               13.265\n",
      "Skew:                           1.346   Prob(JB):                      0.00132\n",
      "Kurtosis:                       5.031   Cond. No.                         70.4\n",
      "==============================================================================\n",
      "\n",
      "Warnings:\n",
      "[1] Standard Errors assume that the covariance matrix of the errors is correctly specified.\n"
     ]
    }
   ],
   "source": [
    "# Print a summary of the linear regression model obtained\n",
    "print(lr2.summary())"
   ]
  },
  {
   "cell_type": "markdown",
   "metadata": {
    "papermill": {
     "duration": 0.157817,
     "end_time": "2024-01-27T00:11:37.094176",
     "exception": false,
     "start_time": "2024-01-27T00:11:36.936359",
     "status": "completed"
    },
    "tags": []
   },
   "source": [
    "## Model 3"
   ]
  },
  {
   "cell_type": "markdown",
   "metadata": {
    "papermill": {
     "duration": 0.160426,
     "end_time": "2024-01-27T00:11:37.411864",
     "exception": false,
     "start_time": "2024-01-27T00:11:37.251438",
     "status": "completed"
    },
    "tags": []
   },
   "source": [
    " - Removing the variable 'hum' based on its Very High 'VIF' value.\n",
    " - Even though the VIF of hum is second highest, we decided to drop 'hum' and not 'temp' based on general knowledge that temperature can be an important factor for a business like bike rentals, and wanted to retain 'temp'."
   ]
  },
  {
   "cell_type": "code",
   "execution_count": 61,
   "metadata": {
    "execution": {
     "iopub.execute_input": "2024-01-27T00:11:37.737672Z",
     "iopub.status.busy": "2024-01-27T00:11:37.736913Z",
     "iopub.status.idle": "2024-01-27T00:11:37.742852Z",
     "shell.execute_reply": "2024-01-27T00:11:37.743562Z",
     "shell.execute_reply.started": "2024-01-26T07:00:28.574389Z"
    },
    "papermill": {
     "duration": 0.171371,
     "end_time": "2024-01-27T00:11:37.743756",
     "exception": false,
     "start_time": "2024-01-27T00:11:37.572385",
     "status": "completed"
    },
    "tags": []
   },
   "outputs": [],
   "source": [
    "X_train_new = X_train_new.drop([\"Curah Hujan\"], axis = 1)"
   ]
  },
  {
   "cell_type": "markdown",
   "metadata": {
    "papermill": {
     "duration": 0.162235,
     "end_time": "2024-01-27T00:11:38.068221",
     "exception": false,
     "start_time": "2024-01-27T00:11:37.905986",
     "status": "completed"
    },
    "tags": []
   },
   "source": [
    "### VIF Check"
   ]
  },
  {
   "cell_type": "code",
   "execution_count": 62,
   "metadata": {
    "execution": {
     "iopub.execute_input": "2024-01-27T00:11:38.401878Z",
     "iopub.status.busy": "2024-01-27T00:11:38.401002Z",
     "iopub.status.idle": "2024-01-27T00:11:38.419895Z",
     "shell.execute_reply": "2024-01-27T00:11:38.420535Z",
     "shell.execute_reply.started": "2024-01-26T07:00:28.589338Z"
    },
    "papermill": {
     "duration": 0.191913,
     "end_time": "2024-01-27T00:11:38.420742",
     "exception": false,
     "start_time": "2024-01-27T00:11:38.228829",
     "status": "completed"
    },
    "tags": []
   },
   "outputs": [
    {
     "data": {
      "text/html": [
       "<div>\n",
       "<style scoped>\n",
       "    .dataframe tbody tr th:only-of-type {\n",
       "        vertical-align: middle;\n",
       "    }\n",
       "\n",
       "    .dataframe tbody tr th {\n",
       "        vertical-align: top;\n",
       "    }\n",
       "\n",
       "    .dataframe thead th {\n",
       "        text-align: right;\n",
       "    }\n",
       "</style>\n",
       "<table border=\"1\" class=\"dataframe\">\n",
       "  <thead>\n",
       "    <tr style=\"text-align: right;\">\n",
       "      <th></th>\n",
       "      <th>Features</th>\n",
       "      <th>VIF</th>\n",
       "    </tr>\n",
       "  </thead>\n",
       "  <tbody>\n",
       "    <tr>\n",
       "      <th>2</th>\n",
       "      <td>Tavg</td>\n",
       "      <td>37.04</td>\n",
       "    </tr>\n",
       "    <tr>\n",
       "      <th>5</th>\n",
       "      <td>Kecepatan A</td>\n",
       "      <td>22.49</td>\n",
       "    </tr>\n",
       "    <tr>\n",
       "      <th>6</th>\n",
       "      <td>Mx Kec</td>\n",
       "      <td>22.05</td>\n",
       "    </tr>\n",
       "    <tr>\n",
       "      <th>1</th>\n",
       "      <td>Min</td>\n",
       "      <td>19.31</td>\n",
       "    </tr>\n",
       "    <tr>\n",
       "      <th>0</th>\n",
       "      <td>Max</td>\n",
       "      <td>8.85</td>\n",
       "    </tr>\n",
       "    <tr>\n",
       "      <th>3</th>\n",
       "      <td>Sun Day</td>\n",
       "      <td>3.93</td>\n",
       "    </tr>\n",
       "    <tr>\n",
       "      <th>4</th>\n",
       "      <td>Hari Hujan</td>\n",
       "      <td>1.53</td>\n",
       "    </tr>\n",
       "  </tbody>\n",
       "</table>\n",
       "</div>"
      ],
      "text/plain": [
       "      Features    VIF\n",
       "2         Tavg  37.04\n",
       "5  Kecepatan A  22.49\n",
       "6       Mx Kec  22.05\n",
       "1          Min  19.31\n",
       "0          Max   8.85\n",
       "3      Sun Day   3.93\n",
       "4   Hari Hujan   1.53"
      ]
     },
     "execution_count": 62,
     "metadata": {},
     "output_type": "execute_result"
    }
   ],
   "source": [
    "# Check for the VIF values of the feature variables. \n",
    "from statsmodels.stats.outliers_influence import variance_inflation_factor\n",
    "\n",
    "# Create a dataframe that will contain the names of all the feature variables and their respective VIFs\n",
    "vif = pd.DataFrame()\n",
    "vif['Features'] = X_train_new.columns\n",
    "vif['VIF'] = [variance_inflation_factor(X_train_new.values, i) for i in range(X_train_new.shape[1])]\n",
    "vif['VIF'] = round(vif['VIF'], 2)\n",
    "vif = vif.sort_values(by = \"VIF\", ascending = False)\n",
    "vif"
   ]
  },
  {
   "cell_type": "code",
   "execution_count": 63,
   "metadata": {
    "execution": {
     "iopub.execute_input": "2024-01-27T00:11:38.746594Z",
     "iopub.status.busy": "2024-01-27T00:11:38.745711Z",
     "iopub.status.idle": "2024-01-27T00:11:38.755116Z",
     "shell.execute_reply": "2024-01-27T00:11:38.755682Z",
     "shell.execute_reply.started": "2024-01-26T07:00:28.619779Z"
    },
    "papermill": {
     "duration": 0.174175,
     "end_time": "2024-01-27T00:11:38.755914",
     "exception": false,
     "start_time": "2024-01-27T00:11:38.581739",
     "status": "completed"
    },
    "tags": []
   },
   "outputs": [],
   "source": [
    "# Add a constant\n",
    "X_train_lm3 = sm.add_constant(X_train_new)\n",
    "\n",
    "# Create a first fitted model\n",
    "lr3 = sm.OLS(y_train, X_train_lm3).fit()"
   ]
  },
  {
   "cell_type": "code",
   "execution_count": 64,
   "metadata": {
    "execution": {
     "iopub.execute_input": "2024-01-27T00:11:39.089529Z",
     "iopub.status.busy": "2024-01-27T00:11:39.088733Z",
     "iopub.status.idle": "2024-01-27T00:11:39.096316Z",
     "shell.execute_reply": "2024-01-27T00:11:39.096933Z",
     "shell.execute_reply.started": "2024-01-26T07:00:28.632664Z"
    },
    "papermill": {
     "duration": 0.176312,
     "end_time": "2024-01-27T00:11:39.097121",
     "exception": false,
     "start_time": "2024-01-27T00:11:38.920809",
     "status": "completed"
    },
    "tags": []
   },
   "outputs": [
    {
     "data": {
      "text/plain": [
       "const         -0.021495\n",
       "Max            0.372584\n",
       "Min            0.392648\n",
       "Tavg          -0.323050\n",
       "Sun Day       -0.009688\n",
       "Hari Hujan     0.097722\n",
       "Kecepatan A    0.251030\n",
       "Mx Kec        -0.117744\n",
       "dtype: float64"
      ]
     },
     "execution_count": 64,
     "metadata": {},
     "output_type": "execute_result"
    }
   ],
   "source": [
    "lr3.params"
   ]
  },
  {
   "cell_type": "code",
   "execution_count": 65,
   "metadata": {
    "execution": {
     "iopub.execute_input": "2024-01-27T00:11:39.428762Z",
     "iopub.status.busy": "2024-01-27T00:11:39.427949Z",
     "iopub.status.idle": "2024-01-27T00:11:39.445544Z",
     "shell.execute_reply": "2024-01-27T00:11:39.446251Z",
     "shell.execute_reply.started": "2024-01-26T07:00:28.643360Z"
    },
    "papermill": {
     "duration": 0.184244,
     "end_time": "2024-01-27T00:11:39.446460",
     "exception": false,
     "start_time": "2024-01-27T00:11:39.262216",
     "status": "completed"
    },
    "tags": []
   },
   "outputs": [
    {
     "name": "stdout",
     "output_type": "stream",
     "text": [
      "                             OLS Regression Results                            \n",
      "===============================================================================\n",
      "Dep. Variable:     Produktivitas Jeruk   R-squared:                       0.185\n",
      "Model:                             OLS   Adj. R-squared:                 -0.100\n",
      "Method:                  Least Squares   F-statistic:                    0.6493\n",
      "Date:                 Sat, 27 Jan 2024   Prob (F-statistic):              0.711\n",
      "Time:                         00:11:39   Log-Likelihood:                 4.5441\n",
      "No. Observations:                   28   AIC:                             6.912\n",
      "Df Residuals:                       20   BIC:                             17.57\n",
      "Df Model:                            7                                         \n",
      "Covariance Type:             nonrobust                                         \n",
      "===============================================================================\n",
      "                  coef    std err          t      P>|t|      [0.025      0.975]\n",
      "-------------------------------------------------------------------------------\n",
      "const          -0.0215      0.238     -0.090      0.929      -0.517       0.474\n",
      "Max             0.3726      0.284      1.312      0.204      -0.220       0.965\n",
      "Min             0.3926      0.396      0.993      0.333      -0.432       1.218\n",
      "Tavg           -0.3231      0.467     -0.692      0.497      -1.297       0.651\n",
      "Sun Day        -0.0097      0.233     -0.042      0.967      -0.495       0.476\n",
      "Hari Hujan      0.0977      0.314      0.311      0.759      -0.558       0.753\n",
      "Kecepatan A     0.2510      0.431      0.582      0.567      -0.648       1.150\n",
      "Mx Kec         -0.1177      0.369     -0.319      0.753      -0.888       0.652\n",
      "==============================================================================\n",
      "Omnibus:                       12.605   Durbin-Watson:                   1.993\n",
      "Prob(Omnibus):                  0.002   Jarque-Bera (JB):               11.993\n",
      "Skew:                           1.285   Prob(JB):                      0.00249\n",
      "Kurtosis:                       4.916   Cond. No.                         22.2\n",
      "==============================================================================\n",
      "\n",
      "Warnings:\n",
      "[1] Standard Errors assume that the covariance matrix of the errors is correctly specified.\n"
     ]
    }
   ],
   "source": [
    "# Print a summary of the linear regression model obtained\n",
    "print(lr3.summary())"
   ]
  },
  {
   "cell_type": "markdown",
   "metadata": {
    "papermill": {
     "duration": 0.16415,
     "end_time": "2024-01-27T00:11:39.775023",
     "exception": false,
     "start_time": "2024-01-27T00:11:39.610873",
     "status": "completed"
    },
    "tags": []
   },
   "source": [
    "## Model 4"
   ]
  },
  {
   "cell_type": "markdown",
   "metadata": {
    "papermill": {
     "duration": 0.162888,
     "end_time": "2024-01-27T00:11:40.104763",
     "exception": false,
     "start_time": "2024-01-27T00:11:39.941875",
     "status": "completed"
    },
    "tags": []
   },
   "source": [
    "- Removing the variable 'season3' based on its Very High 'VIF' value.\n",
    "- Even though the VIF of season3 is second highest, we decided to drop 'season3' and not 'temp' based on general knowledge that temperature can be an important factor for a business like bike rentals, and wanted to retain 'temp'."
   ]
  },
  {
   "cell_type": "code",
   "execution_count": 66,
   "metadata": {
    "execution": {
     "iopub.execute_input": "2024-01-27T00:11:40.442810Z",
     "iopub.status.busy": "2024-01-27T00:11:40.441587Z",
     "iopub.status.idle": "2024-01-27T00:11:40.448384Z",
     "shell.execute_reply": "2024-01-27T00:11:40.448974Z",
     "shell.execute_reply.started": "2024-01-26T07:00:28.671346Z"
    },
    "papermill": {
     "duration": 0.174947,
     "end_time": "2024-01-27T00:11:40.449176",
     "exception": false,
     "start_time": "2024-01-27T00:11:40.274229",
     "status": "completed"
    },
    "tags": []
   },
   "outputs": [],
   "source": [
    "X_train_new = X_train_new.drop([\"Tavg\"], axis = 1)"
   ]
  },
  {
   "cell_type": "markdown",
   "metadata": {
    "papermill": {
     "duration": 0.161143,
     "end_time": "2024-01-27T00:11:40.771277",
     "exception": false,
     "start_time": "2024-01-27T00:11:40.610134",
     "status": "completed"
    },
    "tags": []
   },
   "source": [
    "### VIF Check"
   ]
  },
  {
   "cell_type": "code",
   "execution_count": 67,
   "metadata": {
    "execution": {
     "iopub.execute_input": "2024-01-27T00:11:41.097625Z",
     "iopub.status.busy": "2024-01-27T00:11:41.096524Z",
     "iopub.status.idle": "2024-01-27T00:11:41.123374Z",
     "shell.execute_reply": "2024-01-27T00:11:41.122411Z",
     "shell.execute_reply.started": "2024-01-26T07:00:28.681683Z"
    },
    "papermill": {
     "duration": 0.192231,
     "end_time": "2024-01-27T00:11:41.123545",
     "exception": false,
     "start_time": "2024-01-27T00:11:40.931314",
     "status": "completed"
    },
    "tags": []
   },
   "outputs": [
    {
     "data": {
      "text/html": [
       "<div>\n",
       "<style scoped>\n",
       "    .dataframe tbody tr th:only-of-type {\n",
       "        vertical-align: middle;\n",
       "    }\n",
       "\n",
       "    .dataframe tbody tr th {\n",
       "        vertical-align: top;\n",
       "    }\n",
       "\n",
       "    .dataframe thead th {\n",
       "        text-align: right;\n",
       "    }\n",
       "</style>\n",
       "<table border=\"1\" class=\"dataframe\">\n",
       "  <thead>\n",
       "    <tr style=\"text-align: right;\">\n",
       "      <th></th>\n",
       "      <th>Features</th>\n",
       "      <th>VIF</th>\n",
       "    </tr>\n",
       "  </thead>\n",
       "  <tbody>\n",
       "    <tr>\n",
       "      <th>4</th>\n",
       "      <td>Kecepatan A</td>\n",
       "      <td>22.41</td>\n",
       "    </tr>\n",
       "    <tr>\n",
       "      <th>5</th>\n",
       "      <td>Mx Kec</td>\n",
       "      <td>21.86</td>\n",
       "    </tr>\n",
       "    <tr>\n",
       "      <th>1</th>\n",
       "      <td>Min</td>\n",
       "      <td>5.18</td>\n",
       "    </tr>\n",
       "    <tr>\n",
       "      <th>0</th>\n",
       "      <td>Max</td>\n",
       "      <td>4.54</td>\n",
       "    </tr>\n",
       "    <tr>\n",
       "      <th>2</th>\n",
       "      <td>Sun Day</td>\n",
       "      <td>3.68</td>\n",
       "    </tr>\n",
       "    <tr>\n",
       "      <th>3</th>\n",
       "      <td>Hari Hujan</td>\n",
       "      <td>1.47</td>\n",
       "    </tr>\n",
       "  </tbody>\n",
       "</table>\n",
       "</div>"
      ],
      "text/plain": [
       "      Features    VIF\n",
       "4  Kecepatan A  22.41\n",
       "5       Mx Kec  21.86\n",
       "1          Min   5.18\n",
       "0          Max   4.54\n",
       "2      Sun Day   3.68\n",
       "3   Hari Hujan   1.47"
      ]
     },
     "execution_count": 67,
     "metadata": {},
     "output_type": "execute_result"
    }
   ],
   "source": [
    "# Check for the VIF values of the feature variables. \n",
    "from statsmodels.stats.outliers_influence import variance_inflation_factor\n",
    "\n",
    "# Create a dataframe that will contain the names of all the feature variables and their respective VIFs\n",
    "vif = pd.DataFrame()\n",
    "vif['Features'] = X_train_new.columns\n",
    "vif['VIF'] = [variance_inflation_factor(X_train_new.values, i) for i in range(X_train_new.shape[1])]\n",
    "vif['VIF'] = round(vif['VIF'], 2)\n",
    "vif = vif.sort_values(by = \"VIF\", ascending = False)\n",
    "vif"
   ]
  },
  {
   "cell_type": "code",
   "execution_count": 68,
   "metadata": {
    "execution": {
     "iopub.execute_input": "2024-01-27T00:11:41.460144Z",
     "iopub.status.busy": "2024-01-27T00:11:41.459318Z",
     "iopub.status.idle": "2024-01-27T00:11:41.465046Z",
     "shell.execute_reply": "2024-01-27T00:11:41.464270Z",
     "shell.execute_reply.started": "2024-01-26T07:00:28.715367Z"
    },
    "papermill": {
     "duration": 0.178687,
     "end_time": "2024-01-27T00:11:41.465206",
     "exception": false,
     "start_time": "2024-01-27T00:11:41.286519",
     "status": "completed"
    },
    "tags": []
   },
   "outputs": [],
   "source": [
    "# Add a constant\n",
    "X_train_lm4 = sm.add_constant(X_train_new)\n",
    "\n",
    "# Create a first fitted model\n",
    "lr4 = sm.OLS(y_train, X_train_lm4).fit()"
   ]
  },
  {
   "cell_type": "code",
   "execution_count": 69,
   "metadata": {
    "execution": {
     "iopub.execute_input": "2024-01-27T00:11:41.800137Z",
     "iopub.status.busy": "2024-01-27T00:11:41.799263Z",
     "iopub.status.idle": "2024-01-27T00:11:41.803999Z",
     "shell.execute_reply": "2024-01-27T00:11:41.804613Z",
     "shell.execute_reply.started": "2024-01-26T07:00:28.731274Z"
    },
    "papermill": {
     "duration": 0.176001,
     "end_time": "2024-01-27T00:11:41.804869",
     "exception": false,
     "start_time": "2024-01-27T00:11:41.628868",
     "status": "completed"
    },
    "tags": []
   },
   "outputs": [
    {
     "data": {
      "text/plain": [
       "const          0.017471\n",
       "Max            0.233632\n",
       "Min            0.169565\n",
       "Sun Day       -0.006426\n",
       "Hari Hujan     0.032194\n",
       "Kecepatan A    0.229466\n",
       "Mx Kec        -0.148221\n",
       "dtype: float64"
      ]
     },
     "execution_count": 69,
     "metadata": {},
     "output_type": "execute_result"
    }
   ],
   "source": [
    "# Check the parameters obtained\n",
    "\n",
    "lr4.params"
   ]
  },
  {
   "cell_type": "code",
   "execution_count": 70,
   "metadata": {
    "execution": {
     "iopub.execute_input": "2024-01-27T00:11:42.140887Z",
     "iopub.status.busy": "2024-01-27T00:11:42.139603Z",
     "iopub.status.idle": "2024-01-27T00:11:42.160495Z",
     "shell.execute_reply": "2024-01-27T00:11:42.161206Z",
     "shell.execute_reply.started": "2024-01-26T07:00:28.747922Z"
    },
    "papermill": {
     "duration": 0.189799,
     "end_time": "2024-01-27T00:11:42.161400",
     "exception": false,
     "start_time": "2024-01-27T00:11:41.971601",
     "status": "completed"
    },
    "tags": []
   },
   "outputs": [
    {
     "name": "stdout",
     "output_type": "stream",
     "text": [
      "                             OLS Regression Results                            \n",
      "===============================================================================\n",
      "Dep. Variable:     Produktivitas Jeruk   R-squared:                       0.166\n",
      "Model:                             OLS   Adj. R-squared:                 -0.073\n",
      "Method:                  Least Squares   F-statistic:                    0.6949\n",
      "Date:                 Sat, 27 Jan 2024   Prob (F-statistic):              0.656\n",
      "Time:                         00:11:42   Log-Likelihood:                 4.2127\n",
      "No. Observations:                   28   AIC:                             5.575\n",
      "Df Residuals:                       21   BIC:                             14.90\n",
      "Df Model:                            6                                         \n",
      "Covariance Type:             nonrobust                                         \n",
      "===============================================================================\n",
      "                  coef    std err          t      P>|t|      [0.025      0.975]\n",
      "-------------------------------------------------------------------------------\n",
      "const           0.0175      0.228      0.077      0.940      -0.457       0.492\n",
      "Max             0.2336      0.198      1.177      0.252      -0.179       0.646\n",
      "Min             0.1696      0.226      0.749      0.462      -0.301       0.641\n",
      "Sun Day        -0.0064      0.230     -0.028      0.978      -0.485       0.472\n",
      "Hari Hujan      0.0322      0.296      0.109      0.914      -0.583       0.648\n",
      "Kecepatan A     0.2295      0.424      0.541      0.594      -0.653       1.112\n",
      "Mx Kec         -0.1482      0.362     -0.410      0.686      -0.901       0.605\n",
      "==============================================================================\n",
      "Omnibus:                       12.989   Durbin-Watson:                   2.159\n",
      "Prob(Omnibus):                  0.002   Jarque-Bera (JB):               12.387\n",
      "Skew:                           1.345   Prob(JB):                      0.00204\n",
      "Kurtosis:                       4.838   Cond. No.                         17.9\n",
      "==============================================================================\n",
      "\n",
      "Warnings:\n",
      "[1] Standard Errors assume that the covariance matrix of the errors is correctly specified.\n"
     ]
    }
   ],
   "source": [
    "# Print a summary of the linear regression model obtained\n",
    "print(lr4.summary())"
   ]
  },
  {
   "cell_type": "markdown",
   "metadata": {
    "papermill": {
     "duration": 0.167975,
     "end_time": "2024-01-27T00:11:42.494819",
     "exception": false,
     "start_time": "2024-01-27T00:11:42.326844",
     "status": "completed"
    },
    "tags": []
   },
   "source": [
    "## Model 5"
   ]
  },
  {
   "cell_type": "markdown",
   "metadata": {
    "papermill": {
     "duration": 0.186638,
     "end_time": "2024-01-27T00:11:42.855676",
     "exception": false,
     "start_time": "2024-01-27T00:11:42.669038",
     "status": "completed"
    },
    "tags": []
   },
   "source": [
    "- Removing the variable 'mnth_10' based on its Very High p-value."
   ]
  },
  {
   "cell_type": "code",
   "execution_count": 71,
   "metadata": {
    "execution": {
     "iopub.execute_input": "2024-01-27T00:11:43.208585Z",
     "iopub.status.busy": "2024-01-27T00:11:43.206848Z",
     "iopub.status.idle": "2024-01-27T00:11:43.211515Z",
     "shell.execute_reply": "2024-01-27T00:11:43.210657Z",
     "shell.execute_reply.started": "2024-01-26T07:00:28.773920Z"
    },
    "papermill": {
     "duration": 0.185767,
     "end_time": "2024-01-27T00:11:43.211669",
     "exception": false,
     "start_time": "2024-01-27T00:11:43.025902",
     "status": "completed"
    },
    "tags": []
   },
   "outputs": [],
   "source": [
    "X_train_new = X_train_new.drop([\"Mx Kec\"], axis = 1)"
   ]
  },
  {
   "cell_type": "markdown",
   "metadata": {
    "papermill": {
     "duration": 0.169443,
     "end_time": "2024-01-27T00:11:43.546439",
     "exception": false,
     "start_time": "2024-01-27T00:11:43.376996",
     "status": "completed"
    },
    "tags": []
   },
   "source": [
    "### VIF Check"
   ]
  },
  {
   "cell_type": "code",
   "execution_count": 72,
   "metadata": {
    "execution": {
     "iopub.execute_input": "2024-01-27T00:11:43.891049Z",
     "iopub.status.busy": "2024-01-27T00:11:43.890253Z",
     "iopub.status.idle": "2024-01-27T00:11:43.912874Z",
     "shell.execute_reply": "2024-01-27T00:11:43.912229Z",
     "shell.execute_reply.started": "2024-01-26T07:00:28.786173Z"
    },
    "papermill": {
     "duration": 0.198927,
     "end_time": "2024-01-27T00:11:43.913026",
     "exception": false,
     "start_time": "2024-01-27T00:11:43.714099",
     "status": "completed"
    },
    "tags": []
   },
   "outputs": [
    {
     "data": {
      "text/html": [
       "<div>\n",
       "<style scoped>\n",
       "    .dataframe tbody tr th:only-of-type {\n",
       "        vertical-align: middle;\n",
       "    }\n",
       "\n",
       "    .dataframe tbody tr th {\n",
       "        vertical-align: top;\n",
       "    }\n",
       "\n",
       "    .dataframe thead th {\n",
       "        text-align: right;\n",
       "    }\n",
       "</style>\n",
       "<table border=\"1\" class=\"dataframe\">\n",
       "  <thead>\n",
       "    <tr style=\"text-align: right;\">\n",
       "      <th></th>\n",
       "      <th>Features</th>\n",
       "      <th>VIF</th>\n",
       "    </tr>\n",
       "  </thead>\n",
       "  <tbody>\n",
       "    <tr>\n",
       "      <th>4</th>\n",
       "      <td>Kecepatan A</td>\n",
       "      <td>4.95</td>\n",
       "    </tr>\n",
       "    <tr>\n",
       "      <th>1</th>\n",
       "      <td>Min</td>\n",
       "      <td>4.94</td>\n",
       "    </tr>\n",
       "    <tr>\n",
       "      <th>0</th>\n",
       "      <td>Max</td>\n",
       "      <td>4.39</td>\n",
       "    </tr>\n",
       "    <tr>\n",
       "      <th>2</th>\n",
       "      <td>Sun Day</td>\n",
       "      <td>3.49</td>\n",
       "    </tr>\n",
       "    <tr>\n",
       "      <th>3</th>\n",
       "      <td>Hari Hujan</td>\n",
       "      <td>1.47</td>\n",
       "    </tr>\n",
       "  </tbody>\n",
       "</table>\n",
       "</div>"
      ],
      "text/plain": [
       "      Features   VIF\n",
       "4  Kecepatan A  4.95\n",
       "1          Min  4.94\n",
       "0          Max  4.39\n",
       "2      Sun Day  3.49\n",
       "3   Hari Hujan  1.47"
      ]
     },
     "execution_count": 72,
     "metadata": {},
     "output_type": "execute_result"
    }
   ],
   "source": [
    "# Check for the VIF values of the feature variables. \n",
    "from statsmodels.stats.outliers_influence import variance_inflation_factor\n",
    "\n",
    "# Create a dataframe that will contain the names of all the feature variables and their respective VIFs\n",
    "vif = pd.DataFrame()\n",
    "vif['Features'] = X_train_new.columns\n",
    "vif['VIF'] = [variance_inflation_factor(X_train_new.values, i) for i in range(X_train_new.shape[1])]\n",
    "vif['VIF'] = round(vif['VIF'], 2)\n",
    "vif = vif.sort_values(by = \"VIF\", ascending = False)\n",
    "vif"
   ]
  },
  {
   "cell_type": "code",
   "execution_count": 73,
   "metadata": {
    "execution": {
     "iopub.execute_input": "2024-01-27T00:11:44.251836Z",
     "iopub.status.busy": "2024-01-27T00:11:44.251036Z",
     "iopub.status.idle": "2024-01-27T00:11:44.262920Z",
     "shell.execute_reply": "2024-01-27T00:11:44.262119Z",
     "shell.execute_reply.started": "2024-01-26T07:00:28.815017Z"
    },
    "papermill": {
     "duration": 0.181403,
     "end_time": "2024-01-27T00:11:44.263079",
     "exception": false,
     "start_time": "2024-01-27T00:11:44.081676",
     "status": "completed"
    },
    "tags": []
   },
   "outputs": [],
   "source": [
    "# Add a constant\n",
    "X_train_lm5 = sm.add_constant(X_train_new)\n",
    "\n",
    "# Create a first fitted model\n",
    "lr5 = sm.OLS(y_train, X_train_lm5).fit()"
   ]
  },
  {
   "cell_type": "code",
   "execution_count": 74,
   "metadata": {
    "execution": {
     "iopub.execute_input": "2024-01-27T00:11:44.601053Z",
     "iopub.status.busy": "2024-01-27T00:11:44.600231Z",
     "iopub.status.idle": "2024-01-27T00:11:44.605338Z",
     "shell.execute_reply": "2024-01-27T00:11:44.604663Z",
     "shell.execute_reply.started": "2024-01-26T07:00:28.827640Z"
    },
    "papermill": {
     "duration": 0.176577,
     "end_time": "2024-01-27T00:11:44.605489",
     "exception": false,
     "start_time": "2024-01-27T00:11:44.428912",
     "status": "completed"
    },
    "tags": []
   },
   "outputs": [
    {
     "data": {
      "text/plain": [
       "const          0.007707\n",
       "Max            0.218915\n",
       "Min            0.161761\n",
       "Sun Day        0.015806\n",
       "Hari Hujan     0.035737\n",
       "Kecepatan A    0.077818\n",
       "dtype: float64"
      ]
     },
     "execution_count": 74,
     "metadata": {},
     "output_type": "execute_result"
    }
   ],
   "source": [
    "# Check the parameters obtained\n",
    "\n",
    "lr5.params"
   ]
  },
  {
   "cell_type": "code",
   "execution_count": 75,
   "metadata": {
    "execution": {
     "iopub.execute_input": "2024-01-27T00:11:44.942179Z",
     "iopub.status.busy": "2024-01-27T00:11:44.941383Z",
     "iopub.status.idle": "2024-01-27T00:11:44.957135Z",
     "shell.execute_reply": "2024-01-27T00:11:44.956449Z",
     "shell.execute_reply.started": "2024-01-26T07:00:28.845073Z"
    },
    "papermill": {
     "duration": 0.186928,
     "end_time": "2024-01-27T00:11:44.957286",
     "exception": false,
     "start_time": "2024-01-27T00:11:44.770358",
     "status": "completed"
    },
    "tags": []
   },
   "outputs": [
    {
     "name": "stdout",
     "output_type": "stream",
     "text": [
      "                             OLS Regression Results                            \n",
      "===============================================================================\n",
      "Dep. Variable:     Produktivitas Jeruk   R-squared:                       0.159\n",
      "Model:                             OLS   Adj. R-squared:                 -0.032\n",
      "Method:                  Least Squares   F-statistic:                    0.8318\n",
      "Date:                 Sat, 27 Jan 2024   Prob (F-statistic):              0.541\n",
      "Time:                         00:11:44   Log-Likelihood:                 4.1013\n",
      "No. Observations:                   28   AIC:                             3.797\n",
      "Df Residuals:                       22   BIC:                             11.79\n",
      "Df Model:                            5                                         \n",
      "Covariance Type:             nonrobust                                         \n",
      "===============================================================================\n",
      "                  coef    std err          t      P>|t|      [0.025      0.975]\n",
      "-------------------------------------------------------------------------------\n",
      "const           0.0077      0.223      0.035      0.973      -0.454       0.469\n",
      "Max             0.2189      0.191      1.144      0.265      -0.178       0.616\n",
      "Min             0.1618      0.221      0.731      0.473      -0.297       0.621\n",
      "Sun Day         0.0158      0.219      0.072      0.943      -0.439       0.470\n",
      "Hari Hujan      0.0357      0.290      0.123      0.903      -0.566       0.638\n",
      "Kecepatan A     0.0778      0.203      0.382      0.706      -0.344       0.500\n",
      "==============================================================================\n",
      "Omnibus:                       14.111   Durbin-Watson:                   2.185\n",
      "Prob(Omnibus):                  0.001   Jarque-Bera (JB):               14.072\n",
      "Skew:                           1.423   Prob(JB):                     0.000879\n",
      "Kurtosis:                       4.991   Cond. No.                         12.4\n",
      "==============================================================================\n",
      "\n",
      "Warnings:\n",
      "[1] Standard Errors assume that the covariance matrix of the errors is correctly specified.\n"
     ]
    }
   ],
   "source": [
    "# Print a summary of the linear regression model obtained\n",
    "print(lr5.summary())"
   ]
  },
  {
   "cell_type": "markdown",
   "metadata": {
    "papermill": {
     "duration": 0.161606,
     "end_time": "2024-01-27T00:11:45.283365",
     "exception": false,
     "start_time": "2024-01-27T00:11:45.121759",
     "status": "completed"
    },
    "tags": []
   },
   "source": [
    "## Model 6"
   ]
  },
  {
   "cell_type": "markdown",
   "metadata": {
    "papermill": {
     "duration": 0.163751,
     "end_time": "2024-01-27T00:11:45.610403",
     "exception": false,
     "start_time": "2024-01-27T00:11:45.446652",
     "status": "completed"
    },
    "tags": []
   },
   "source": [
    "- Removing the variable 'mnth_3' based on its High 'p-value'."
   ]
  },
  {
   "cell_type": "code",
   "execution_count": 76,
   "metadata": {
    "execution": {
     "iopub.execute_input": "2024-01-27T00:11:45.950550Z",
     "iopub.status.busy": "2024-01-27T00:11:45.949726Z",
     "iopub.status.idle": "2024-01-27T00:11:45.953126Z",
     "shell.execute_reply": "2024-01-27T00:11:45.953771Z",
     "shell.execute_reply.started": "2024-01-26T07:00:28.868550Z"
    },
    "papermill": {
     "duration": 0.179426,
     "end_time": "2024-01-27T00:11:45.953960",
     "exception": false,
     "start_time": "2024-01-27T00:11:45.774534",
     "status": "completed"
    },
    "tags": []
   },
   "outputs": [],
   "source": [
    "X_train_new = X_train_new.drop([\"Sun Day\"], axis = 1)"
   ]
  },
  {
   "cell_type": "markdown",
   "metadata": {
    "papermill": {
     "duration": 0.167072,
     "end_time": "2024-01-27T00:11:46.289649",
     "exception": false,
     "start_time": "2024-01-27T00:11:46.122577",
     "status": "completed"
    },
    "tags": []
   },
   "source": [
    "### VIF Check"
   ]
  },
  {
   "cell_type": "code",
   "execution_count": 77,
   "metadata": {
    "execution": {
     "iopub.execute_input": "2024-01-27T00:11:46.631962Z",
     "iopub.status.busy": "2024-01-27T00:11:46.631173Z",
     "iopub.status.idle": "2024-01-27T00:11:46.651316Z",
     "shell.execute_reply": "2024-01-27T00:11:46.650613Z",
     "shell.execute_reply.started": "2024-01-26T07:00:28.879064Z"
    },
    "papermill": {
     "duration": 0.197903,
     "end_time": "2024-01-27T00:11:46.651471",
     "exception": false,
     "start_time": "2024-01-27T00:11:46.453568",
     "status": "completed"
    },
    "tags": []
   },
   "outputs": [
    {
     "data": {
      "text/html": [
       "<div>\n",
       "<style scoped>\n",
       "    .dataframe tbody tr th:only-of-type {\n",
       "        vertical-align: middle;\n",
       "    }\n",
       "\n",
       "    .dataframe tbody tr th {\n",
       "        vertical-align: top;\n",
       "    }\n",
       "\n",
       "    .dataframe thead th {\n",
       "        text-align: right;\n",
       "    }\n",
       "</style>\n",
       "<table border=\"1\" class=\"dataframe\">\n",
       "  <thead>\n",
       "    <tr style=\"text-align: right;\">\n",
       "      <th></th>\n",
       "      <th>Features</th>\n",
       "      <th>VIF</th>\n",
       "    </tr>\n",
       "  </thead>\n",
       "  <tbody>\n",
       "    <tr>\n",
       "      <th>1</th>\n",
       "      <td>Min</td>\n",
       "      <td>4.47</td>\n",
       "    </tr>\n",
       "    <tr>\n",
       "      <th>0</th>\n",
       "      <td>Max</td>\n",
       "      <td>3.80</td>\n",
       "    </tr>\n",
       "    <tr>\n",
       "      <th>3</th>\n",
       "      <td>Kecepatan A</td>\n",
       "      <td>3.04</td>\n",
       "    </tr>\n",
       "    <tr>\n",
       "      <th>2</th>\n",
       "      <td>Hari Hujan</td>\n",
       "      <td>1.43</td>\n",
       "    </tr>\n",
       "  </tbody>\n",
       "</table>\n",
       "</div>"
      ],
      "text/plain": [
       "      Features   VIF\n",
       "1          Min  4.47\n",
       "0          Max  3.80\n",
       "3  Kecepatan A  3.04\n",
       "2   Hari Hujan  1.43"
      ]
     },
     "execution_count": 77,
     "metadata": {},
     "output_type": "execute_result"
    }
   ],
   "source": [
    "# Check for the VIF values of the feature variables. \n",
    "from statsmodels.stats.outliers_influence import variance_inflation_factor\n",
    "\n",
    "# Create a dataframe that will contain the names of all the feature variables and their respective VIFs\n",
    "vif = pd.DataFrame()\n",
    "vif['Features'] = X_train_new.columns\n",
    "vif['VIF'] = [variance_inflation_factor(X_train_new.values, i) for i in range(X_train_new.shape[1])]\n",
    "vif['VIF'] = round(vif['VIF'], 2)\n",
    "vif = vif.sort_values(by = \"VIF\", ascending = False)\n",
    "vif"
   ]
  },
  {
   "cell_type": "code",
   "execution_count": 78,
   "metadata": {
    "execution": {
     "iopub.execute_input": "2024-01-27T00:11:46.998312Z",
     "iopub.status.busy": "2024-01-27T00:11:46.997387Z",
     "iopub.status.idle": "2024-01-27T00:11:47.002450Z",
     "shell.execute_reply": "2024-01-27T00:11:47.001650Z",
     "shell.execute_reply.started": "2024-01-26T07:00:28.908004Z"
    },
    "papermill": {
     "duration": 0.185515,
     "end_time": "2024-01-27T00:11:47.002586",
     "exception": false,
     "start_time": "2024-01-27T00:11:46.817071",
     "status": "completed"
    },
    "tags": []
   },
   "outputs": [],
   "source": [
    "# Add a constant\n",
    "X_train_lm6 = sm.add_constant(X_train_new)\n",
    "\n",
    "# Create a first fitted model\n",
    "lr6 = sm.OLS(y_train, X_train_lm6).fit()"
   ]
  },
  {
   "cell_type": "code",
   "execution_count": 79,
   "metadata": {
    "execution": {
     "iopub.execute_input": "2024-01-27T00:11:47.338963Z",
     "iopub.status.busy": "2024-01-27T00:11:47.338161Z",
     "iopub.status.idle": "2024-01-27T00:11:47.341840Z",
     "shell.execute_reply": "2024-01-27T00:11:47.342540Z",
     "shell.execute_reply.started": "2024-01-26T07:00:28.920181Z"
    },
    "papermill": {
     "duration": 0.174687,
     "end_time": "2024-01-27T00:11:47.342697",
     "exception": false,
     "start_time": "2024-01-27T00:11:47.168010",
     "status": "completed"
    },
    "tags": []
   },
   "outputs": [
    {
     "data": {
      "text/plain": [
       "const          0.018883\n",
       "Max            0.222500\n",
       "Min            0.151447\n",
       "Hari Hujan     0.026971\n",
       "Kecepatan A    0.081283\n",
       "dtype: float64"
      ]
     },
     "execution_count": 79,
     "metadata": {},
     "output_type": "execute_result"
    }
   ],
   "source": [
    "# Check the parameters obtained\n",
    "\n",
    "lr6.params"
   ]
  },
  {
   "cell_type": "code",
   "execution_count": 80,
   "metadata": {
    "execution": {
     "iopub.execute_input": "2024-01-27T00:11:47.673620Z",
     "iopub.status.busy": "2024-01-27T00:11:47.672748Z",
     "iopub.status.idle": "2024-01-27T00:11:47.690332Z",
     "shell.execute_reply": "2024-01-27T00:11:47.689646Z",
     "shell.execute_reply.started": "2024-01-26T07:00:28.936666Z"
    },
    "papermill": {
     "duration": 0.185051,
     "end_time": "2024-01-27T00:11:47.690502",
     "exception": false,
     "start_time": "2024-01-27T00:11:47.505451",
     "status": "completed"
    },
    "tags": []
   },
   "outputs": [
    {
     "name": "stdout",
     "output_type": "stream",
     "text": [
      "                             OLS Regression Results                            \n",
      "===============================================================================\n",
      "Dep. Variable:     Produktivitas Jeruk   R-squared:                       0.159\n",
      "Model:                             OLS   Adj. R-squared:                  0.013\n",
      "Method:                  Least Squares   F-statistic:                     1.085\n",
      "Date:                 Sat, 27 Jan 2024   Prob (F-statistic):              0.387\n",
      "Time:                         00:11:47   Log-Likelihood:                 4.0980\n",
      "No. Observations:                   28   AIC:                             1.804\n",
      "Df Residuals:                       23   BIC:                             8.465\n",
      "Df Model:                            4                                         \n",
      "Covariance Type:             nonrobust                                         \n",
      "===============================================================================\n",
      "                  coef    std err          t      P>|t|      [0.025      0.975]\n",
      "-------------------------------------------------------------------------------\n",
      "const           0.0189      0.156      0.121      0.905      -0.304       0.342\n",
      "Max             0.2225      0.181      1.230      0.231      -0.152       0.597\n",
      "Min             0.1514      0.165      0.916      0.369      -0.190       0.493\n",
      "Hari Hujan      0.0270      0.258      0.105      0.918      -0.506       0.560\n",
      "Kecepatan A     0.0813      0.193      0.420      0.678      -0.319       0.481\n",
      "==============================================================================\n",
      "Omnibus:                       13.994   Durbin-Watson:                   2.174\n",
      "Prob(Omnibus):                  0.001   Jarque-Bera (JB):               13.879\n",
      "Skew:                           1.417   Prob(JB):                     0.000969\n",
      "Kurtosis:                       4.965   Cond. No.                         9.35\n",
      "==============================================================================\n",
      "\n",
      "Warnings:\n",
      "[1] Standard Errors assume that the covariance matrix of the errors is correctly specified.\n"
     ]
    }
   ],
   "source": [
    "# Print a summary of the linear regression model obtained\n",
    "print(lr6.summary())"
   ]
  },
  {
   "cell_type": "markdown",
   "metadata": {
    "papermill": {
     "duration": 0.169038,
     "end_time": "2024-01-27T00:11:48.026331",
     "exception": false,
     "start_time": "2024-01-27T00:11:47.857293",
     "status": "completed"
    },
    "tags": []
   },
   "source": [
    "### Insights\n",
    "- This model looks good, as there seems to be VERY LOW Multicollinearity between the predictors and the p-values for all the predictors seems to be significant. For now, we will consider this as our final model (unless the Test data metrics are not significantly close to this number)."
   ]
  },
  {
   "cell_type": "markdown",
   "metadata": {
    "papermill": {
     "duration": 0.16702,
     "end_time": "2024-01-27T00:11:48.359118",
     "exception": false,
     "start_time": "2024-01-27T00:11:48.192098",
     "status": "completed"
    },
    "tags": []
   },
   "source": [
    "# Final Model Interpretation"
   ]
  },
  {
   "cell_type": "markdown",
   "metadata": {
    "papermill": {
     "duration": 0.165961,
     "end_time": "2024-01-27T00:11:48.690961",
     "exception": false,
     "start_time": "2024-01-27T00:11:48.525000",
     "status": "completed"
    },
    "tags": []
   },
   "source": [
    "## Hypothesis Testing:"
   ]
  },
  {
   "cell_type": "markdown",
   "metadata": {
    "papermill": {
     "duration": 0.172016,
     "end_time": "2024-01-27T00:11:49.030775",
     "exception": false,
     "start_time": "2024-01-27T00:11:48.858759",
     "status": "completed"
    },
    "tags": []
   },
   "source": [
    "Hypothesis testing states that:\n",
    "- H0:B1=B2=...=Bn=0 \n",
    "- H1:  at least one  Bi!=0"
   ]
  },
  {
   "cell_type": "markdown",
   "metadata": {
    "papermill": {
     "duration": 0.167842,
     "end_time": "2024-01-27T00:11:49.365793",
     "exception": false,
     "start_time": "2024-01-27T00:11:49.197951",
     "status": "completed"
    },
    "tags": []
   },
   "source": [
    "### lr6 model coefficient values"
   ]
  },
  {
   "cell_type": "markdown",
   "metadata": {
    "papermill": {
     "duration": 0.166632,
     "end_time": "2024-01-27T00:11:49.697676",
     "exception": false,
     "start_time": "2024-01-27T00:11:49.531044",
     "status": "completed"
    },
    "tags": []
   },
   "source": [
    "- const 0.0189      \n",
    "- max 0.2225      \n",
    "- min 0.1514      \n",
    "- Hari Hujan 0.0270            \n",
    "- Kecepatan Angin 0.0813      "
   ]
  },
  {
   "cell_type": "markdown",
   "metadata": {
    "papermill": {
     "duration": 0.166006,
     "end_time": "2024-01-27T00:11:50.032414",
     "exception": false,
     "start_time": "2024-01-27T00:11:49.866408",
     "status": "completed"
    },
    "tags": []
   },
   "source": [
    "### Insights\n",
    "- From the lr6 model summary, it is evident that all our coefficients are not equal to zerowhich means **We REJECT the NULL HYPOTHESIS**\n",
    "    "
   ]
  },
  {
   "cell_type": "markdown",
   "metadata": {
    "papermill": {
     "duration": 0.170876,
     "end_time": "2024-01-27T00:11:50.367724",
     "exception": false,
     "start_time": "2024-01-27T00:11:50.196848",
     "status": "completed"
    },
    "tags": []
   },
   "source": [
    "### F Statistics"
   ]
  },
  {
   "cell_type": "markdown",
   "metadata": {
    "papermill": {
     "duration": 0.165122,
     "end_time": "2024-01-27T00:11:50.697718",
     "exception": false,
     "start_time": "2024-01-27T00:11:50.532596",
     "status": "completed"
    },
    "tags": []
   },
   "source": [
    "F-Statistics is used for testing the overall significance of the Model: Higher the F-Statistics, more significant the Model is.\n",
    "\n",
    "- F-statistic: 1.085\n",
    "- Prob (F-statistic): 0.387\n",
    "\n",
    "The F-Statistics value of 1.085 (which is greater than 1) and the p-value is not'~0.0000' states that the overall model is ***not significant***"
   ]
  },
  {
   "cell_type": "markdown",
   "metadata": {
    "papermill": {
     "duration": 0.167282,
     "end_time": "2024-01-27T00:11:51.031336",
     "exception": false,
     "start_time": "2024-01-27T00:11:50.864054",
     "status": "completed"
    },
    "tags": []
   },
   "source": [
    "## The equation of best fitted surface based on model lr6:"
   ]
  },
  {
   "cell_type": "markdown",
   "metadata": {
    "papermill": {
     "duration": 0.163127,
     "end_time": "2024-01-27T00:11:51.358268",
     "exception": false,
     "start_time": "2024-01-27T00:11:51.195141",
     "status": "completed"
    },
    "tags": []
   },
   "source": [
    "cnt = 0.0189 + (**Max** × 0.2225) + (**Min** × 0.1514) + (**Hari Hujan** × 0.0270) − (**Kecepatan A** × 0.0813)"
   ]
  },
  {
   "cell_type": "markdown",
   "metadata": {
    "papermill": {
     "duration": 0.164163,
     "end_time": "2024-01-27T00:11:51.686384",
     "exception": false,
     "start_time": "2024-01-27T00:11:51.522221",
     "status": "completed"
    },
    "tags": []
   },
   "source": [
    "## Interpretation of Coefficients:\n",
    "**Max:** A coefficient value of ‘0.2225’ Menandakan bahwa setiap suhu maksimum yang bertambah akan berpengaruh positive kepada produktivitas jeruk sebesar 22% namun tidak secara langsung.\n",
    "\n",
    "**Min:** A coefficient value of ‘0.1514’ Menandakan bahwa setiap rata-rata suhu yang bertambah akan berpengaruh kepada produktivitas jeruk sebesar 90% namun tidak secara langsung.indicated that, w.r.t Weathersit1, a unit increase in Weathersit3 variable, decreases the bike hire numbers by 0.3070 units.\n",
    "\n",
    "**Hari Hujan:** A coefficient value of ‘0.0270’ indicated that a unit increase in yr variable, increases the bike hire numbers by 0.2308 units.\n",
    "\n",
    "**Kecepatan A:** A coefficient value of ‘0.0813’ indicated that w.r.t season_1, a unit increase in season_4 variable increases the bike hire numbers by 0.128744 units."
   ]
  },
  {
   "cell_type": "markdown",
   "metadata": {
    "papermill": {
     "duration": 0.171074,
     "end_time": "2024-01-27T00:11:52.025410",
     "exception": false,
     "start_time": "2024-01-27T00:11:51.854336",
     "status": "completed"
    },
    "tags": []
   },
   "source": [
    "# ASSUMPTIONS "
   ]
  },
  {
   "cell_type": "markdown",
   "metadata": {
    "papermill": {
     "duration": 0.16442,
     "end_time": "2024-01-27T00:11:52.354816",
     "exception": false,
     "start_time": "2024-01-27T00:11:52.190396",
     "status": "completed"
    },
    "tags": []
   },
   "source": [
    "## Error terms are normally distributed with mean zero (not X, Y)\n",
    "- Residual Analysis Of Training Data"
   ]
  },
  {
   "cell_type": "code",
   "execution_count": 81,
   "metadata": {
    "execution": {
     "iopub.execute_input": "2024-01-27T00:11:52.707626Z",
     "iopub.status.busy": "2024-01-27T00:11:52.706400Z",
     "iopub.status.idle": "2024-01-27T00:11:52.711437Z",
     "shell.execute_reply": "2024-01-27T00:11:52.712597Z",
     "shell.execute_reply.started": "2024-01-26T07:00:28.961695Z"
    },
    "papermill": {
     "duration": 0.189474,
     "end_time": "2024-01-27T00:11:52.713033",
     "exception": false,
     "start_time": "2024-01-27T00:11:52.523559",
     "status": "completed"
    },
    "tags": []
   },
   "outputs": [],
   "source": [
    "y_train_pred = lr6.predict(X_train_lm6)"
   ]
  },
  {
   "cell_type": "code",
   "execution_count": 82,
   "metadata": {
    "execution": {
     "iopub.execute_input": "2024-01-27T00:11:53.066960Z",
     "iopub.status.busy": "2024-01-27T00:11:53.066054Z",
     "iopub.status.idle": "2024-01-27T00:11:53.305286Z",
     "shell.execute_reply": "2024-01-27T00:11:53.304611Z",
     "shell.execute_reply.started": "2024-01-26T07:00:28.970680Z"
    },
    "papermill": {
     "duration": 0.415458,
     "end_time": "2024-01-27T00:11:53.305447",
     "exception": false,
     "start_time": "2024-01-27T00:11:52.889989",
     "status": "completed"
    },
    "tags": []
   },
   "outputs": [
    {
     "data": {
      "text/plain": [
       "Text(0.5, 0, 'Errors')"
      ]
     },
     "execution_count": 82,
     "metadata": {},
     "output_type": "execute_result"
    },
    {
     "data": {
      "image/png": "[encoded data removed]",
      "text/plain": [
       "<Figure size 432x288 with 1 Axes>"
      ]
     },
     "metadata": {
      "needs_background": "light"
     },
     "output_type": "display_data"
    }
   ],
   "source": [
    "res = y_train-y_train_pred\n",
    "# Plot the histogram of the error terms\n",
    "fig = plt.figure()\n",
    "sns.distplot((res), bins = 20)\n",
    "fig.suptitle('Error Terms', fontsize = 20)                  # Plot heading \n",
    "plt.xlabel('Errors', fontsize = 18)                         # X-label"
   ]
  },
  {
   "cell_type": "markdown",
   "metadata": {
    "papermill": {
     "duration": 0.238524,
     "end_time": "2024-01-27T00:11:53.713110",
     "exception": false,
     "start_time": "2024-01-27T00:11:53.474586",
     "status": "completed"
    },
    "tags": []
   },
   "source": [
    "### Insights\n",
    "- From the above histogram, we could see that the Residuals are not normaly distributed"
   ]
  },
  {
   "cell_type": "markdown",
   "metadata": {
    "papermill": {
     "duration": 0.171647,
     "end_time": "2024-01-27T00:11:54.052608",
     "exception": false,
     "start_time": "2024-01-27T00:11:53.880961",
     "status": "completed"
    },
    "tags": []
   },
   "source": [
    "## There is a linear relationship between X and Y"
   ]
  },
  {
   "cell_type": "code",
   "execution_count": 83,
   "metadata": {
    "execution": {
     "iopub.execute_input": "2024-01-27T00:11:54.394022Z",
     "iopub.status.busy": "2024-01-27T00:11:54.392864Z",
     "iopub.status.idle": "2024-01-27T00:12:27.065416Z",
     "shell.execute_reply": "2024-01-27T00:12:27.066034Z",
     "shell.execute_reply.started": "2024-01-26T07:00:29.230275Z"
    },
    "papermill": {
     "duration": 32.845534,
     "end_time": "2024-01-27T00:12:27.066215",
     "exception": false,
     "start_time": "2024-01-27T00:11:54.220681",
     "status": "completed"
    },
    "tags": []
   },
   "outputs": [
    {
     "data": {
      "image/png": "[encoded data removed]",
      "text/plain": [
       "<Figure size 1800x1800 with 110 Axes>"
      ]
     },
     "metadata": {
      "needs_background": "light"
     },
     "output_type": "display_data"
    }
   ],
   "source": [
    "bike_new=bike_new[['Produktivitas Jeruk', 'Min', 'Max', 'Tavg', 'Sun Day', 'Sun Hour',\n",
    "       'Curah Hujan', 'Hari Hujan', 'Kecepatan A', 'Mx Kec']]\n",
    "\n",
    "sns.pairplot(bike_num, diag_kind='kde')\n",
    "plt.show()"
   ]
  },
  {
   "cell_type": "markdown",
   "metadata": {
    "papermill": {
     "duration": 0.176463,
     "end_time": "2024-01-27T00:12:27.419999",
     "exception": false,
     "start_time": "2024-01-27T00:12:27.243536",
     "status": "completed"
    },
    "tags": []
   },
   "source": [
    "## Insight\n",
    "- Using the pair plot, we could see there is a linear relation between temp and atemp variable with the predictor ‘cnt’."
   ]
  },
  {
   "cell_type": "markdown",
   "metadata": {
    "papermill": {
     "duration": 0.177188,
     "end_time": "2024-01-27T00:12:27.772372",
     "exception": false,
     "start_time": "2024-01-27T00:12:27.595184",
     "status": "completed"
    },
    "tags": []
   },
   "source": [
    "## There is No Multicollinearity between the predictor variables"
   ]
  },
  {
   "cell_type": "code",
   "execution_count": 84,
   "metadata": {
    "execution": {
     "iopub.execute_input": "2024-01-27T00:12:28.167678Z",
     "iopub.status.busy": "2024-01-27T00:12:28.161727Z",
     "iopub.status.idle": "2024-01-27T00:12:28.184878Z",
     "shell.execute_reply": "2024-01-27T00:12:28.185460Z",
     "shell.execute_reply.started": "2024-01-26T07:01:01.620577Z"
    },
    "papermill": {
     "duration": 0.224548,
     "end_time": "2024-01-27T00:12:28.185663",
     "exception": false,
     "start_time": "2024-01-27T00:12:27.961115",
     "status": "completed"
    },
    "tags": []
   },
   "outputs": [
    {
     "data": {
      "text/html": [
       "<div>\n",
       "<style scoped>\n",
       "    .dataframe tbody tr th:only-of-type {\n",
       "        vertical-align: middle;\n",
       "    }\n",
       "\n",
       "    .dataframe tbody tr th {\n",
       "        vertical-align: top;\n",
       "    }\n",
       "\n",
       "    .dataframe thead th {\n",
       "        text-align: right;\n",
       "    }\n",
       "</style>\n",
       "<table border=\"1\" class=\"dataframe\">\n",
       "  <thead>\n",
       "    <tr style=\"text-align: right;\">\n",
       "      <th></th>\n",
       "      <th>Features</th>\n",
       "      <th>VIF</th>\n",
       "    </tr>\n",
       "  </thead>\n",
       "  <tbody>\n",
       "    <tr>\n",
       "      <th>1</th>\n",
       "      <td>Min</td>\n",
       "      <td>4.47</td>\n",
       "    </tr>\n",
       "    <tr>\n",
       "      <th>0</th>\n",
       "      <td>Max</td>\n",
       "      <td>3.80</td>\n",
       "    </tr>\n",
       "    <tr>\n",
       "      <th>3</th>\n",
       "      <td>Kecepatan A</td>\n",
       "      <td>3.04</td>\n",
       "    </tr>\n",
       "    <tr>\n",
       "      <th>2</th>\n",
       "      <td>Hari Hujan</td>\n",
       "      <td>1.43</td>\n",
       "    </tr>\n",
       "  </tbody>\n",
       "</table>\n",
       "</div>"
      ],
      "text/plain": [
       "      Features   VIF\n",
       "1          Min  4.47\n",
       "0          Max  3.80\n",
       "3  Kecepatan A  3.04\n",
       "2   Hari Hujan  1.43"
      ]
     },
     "execution_count": 84,
     "metadata": {},
     "output_type": "execute_result"
    }
   ],
   "source": [
    "# Check for the VIF values of the feature variables. \n",
    "from statsmodels.stats.outliers_influence import variance_inflation_factor\n",
    "\n",
    "# Create a dataframe that will contain the names of all the feature variables and their respective VIFs\n",
    "vif = pd.DataFrame()\n",
    "vif['Features'] = X_train_new.columns\n",
    "vif['VIF'] = [variance_inflation_factor(X_train_new.values, i) for i in range(X_train_new.shape[1])]\n",
    "vif['VIF'] = round(vif['VIF'], 2)\n",
    "vif = vif.sort_values(by = \"VIF\", ascending = False)\n",
    "vif"
   ]
  },
  {
   "cell_type": "markdown",
   "metadata": {
    "papermill": {
     "duration": 0.181868,
     "end_time": "2024-01-27T00:12:28.557525",
     "exception": false,
     "start_time": "2024-01-27T00:12:28.375657",
     "status": "completed"
    },
    "tags": []
   },
   "source": [
    "## Insight\n",
    "\n",
    " - From the VIF calculation we could find that there is no multicollinearity existing between the predictor variables, as all the values are within permissible range of below 5"
   ]
  },
  {
   "cell_type": "markdown",
   "metadata": {
    "papermill": {
     "duration": 0.178681,
     "end_time": "2024-01-27T00:12:28.917513",
     "exception": false,
     "start_time": "2024-01-27T00:12:28.738832",
     "status": "completed"
    },
    "tags": []
   },
   "source": [
    "# MAKING PREDICTION USING FINAL MODEL\n",
    "\n",
    "Now that we have fitted the model and checked the assumptions, it's time to go ahead and make predictions using the final model (lr6)\n",
    "\n",
    "### Applying the scaling on the test sets"
   ]
  },
  {
   "cell_type": "code",
   "execution_count": 85,
   "metadata": {
    "execution": {
     "iopub.execute_input": "2024-01-27T00:12:29.299057Z",
     "iopub.status.busy": "2024-01-27T00:12:29.298147Z",
     "iopub.status.idle": "2024-01-27T00:12:29.301577Z",
     "shell.execute_reply": "2024-01-27T00:12:29.302174Z",
     "shell.execute_reply.started": "2024-01-26T07:01:01.647621Z"
    },
    "papermill": {
     "duration": 0.201102,
     "end_time": "2024-01-27T00:12:29.302359",
     "exception": false,
     "start_time": "2024-01-27T00:12:29.101257",
     "status": "completed"
    },
    "tags": []
   },
   "outputs": [],
   "source": [
    "# Apply scaler() to all numeric variables in test dataset. Note: we will only use scaler.transform, \n",
    "# as we want to use the metrics that the model learned from the training data to be applied on the test data. \n",
    "# In other words, we want to prevent the information leak from train to test dataset.\n",
    "\n",
    "num_vars = ['Produktivitas Jeruk', 'Min', 'Max', 'Tavg', 'Sun Day', 'Sun Hour',\n",
    "       'Curah Hujan', 'Hari Hujan', 'Kecepatan A', 'Mx Kec']\n",
    "\n",
    "df_test[num_vars] = scaler.transform(df_test[num_vars])"
   ]
  },
  {
   "cell_type": "code",
   "execution_count": 86,
   "metadata": {
    "execution": {
     "iopub.execute_input": "2024-01-27T00:12:29.680946Z",
     "iopub.status.busy": "2024-01-27T00:12:29.679750Z",
     "iopub.status.idle": "2024-01-27T00:12:29.686061Z",
     "shell.execute_reply": "2024-01-27T00:12:29.686615Z",
     "shell.execute_reply.started": "2024-01-26T07:01:01.664811Z"
    },
    "papermill": {
     "duration": 0.20475,
     "end_time": "2024-01-27T00:12:29.686816",
     "exception": false,
     "start_time": "2024-01-27T00:12:29.482066",
     "status": "completed"
    },
    "tags": []
   },
   "outputs": [
    {
     "data": {
      "text/html": [
       "<div>\n",
       "<style scoped>\n",
       "    .dataframe tbody tr th:only-of-type {\n",
       "        vertical-align: middle;\n",
       "    }\n",
       "\n",
       "    .dataframe tbody tr th {\n",
       "        vertical-align: top;\n",
       "    }\n",
       "\n",
       "    .dataframe thead th {\n",
       "        text-align: right;\n",
       "    }\n",
       "</style>\n",
       "<table border=\"1\" class=\"dataframe\">\n",
       "  <thead>\n",
       "    <tr style=\"text-align: right;\">\n",
       "      <th></th>\n",
       "      <th>Produktivitas Jeruk</th>\n",
       "      <th>Max</th>\n",
       "      <th>Min</th>\n",
       "      <th>Tavg</th>\n",
       "      <th>Sun Hour</th>\n",
       "      <th>Sun Day</th>\n",
       "      <th>Curah Hujan</th>\n",
       "      <th>Hari Hujan</th>\n",
       "      <th>Kecepatan A</th>\n",
       "      <th>Mx Kec</th>\n",
       "    </tr>\n",
       "  </thead>\n",
       "  <tbody>\n",
       "    <tr>\n",
       "      <th>31</th>\n",
       "      <td>0.552941</td>\n",
       "      <td>0.666667</td>\n",
       "      <td>0.666667</td>\n",
       "      <td>0.890000</td>\n",
       "      <td>0.740345</td>\n",
       "      <td>0.350649</td>\n",
       "      <td>0.086327</td>\n",
       "      <td>0.142105</td>\n",
       "      <td>0.078261</td>\n",
       "      <td>0.164384</td>\n",
       "    </tr>\n",
       "    <tr>\n",
       "      <th>4</th>\n",
       "      <td>0.188235</td>\n",
       "      <td>0.000000</td>\n",
       "      <td>0.666667</td>\n",
       "      <td>0.666667</td>\n",
       "      <td>0.381724</td>\n",
       "      <td>0.181818</td>\n",
       "      <td>0.166667</td>\n",
       "      <td>0.171053</td>\n",
       "      <td>0.469565</td>\n",
       "      <td>0.561644</td>\n",
       "    </tr>\n",
       "    <tr>\n",
       "      <th>6</th>\n",
       "      <td>0.141176</td>\n",
       "      <td>0.000000</td>\n",
       "      <td>0.333333</td>\n",
       "      <td>0.223333</td>\n",
       "      <td>0.921724</td>\n",
       "      <td>0.896104</td>\n",
       "      <td>0.039920</td>\n",
       "      <td>0.031579</td>\n",
       "      <td>1.360870</td>\n",
       "      <td>1.178082</td>\n",
       "    </tr>\n",
       "    <tr>\n",
       "      <th>16</th>\n",
       "      <td>0.000000</td>\n",
       "      <td>0.666667</td>\n",
       "      <td>1.000000</td>\n",
       "      <td>1.000000</td>\n",
       "      <td>0.362069</td>\n",
       "      <td>0.090909</td>\n",
       "      <td>0.221557</td>\n",
       "      <td>0.192105</td>\n",
       "      <td>0.108696</td>\n",
       "      <td>0.328767</td>\n",
       "    </tr>\n",
       "    <tr>\n",
       "      <th>30</th>\n",
       "      <td>0.164706</td>\n",
       "      <td>0.000000</td>\n",
       "      <td>0.333333</td>\n",
       "      <td>0.223333</td>\n",
       "      <td>0.987241</td>\n",
       "      <td>0.974026</td>\n",
       "      <td>0.008982</td>\n",
       "      <td>0.015789</td>\n",
       "      <td>0.326087</td>\n",
       "      <td>0.342466</td>\n",
       "    </tr>\n",
       "  </tbody>\n",
       "</table>\n",
       "</div>"
      ],
      "text/plain": [
       "    Produktivitas Jeruk       Max       Min      Tavg  Sun Hour   Sun Day  \\\n",
       "31             0.552941  0.666667  0.666667  0.890000  0.740345  0.350649   \n",
       "4              0.188235  0.000000  0.666667  0.666667  0.381724  0.181818   \n",
       "6              0.141176  0.000000  0.333333  0.223333  0.921724  0.896104   \n",
       "16             0.000000  0.666667  1.000000  1.000000  0.362069  0.090909   \n",
       "30             0.164706  0.000000  0.333333  0.223333  0.987241  0.974026   \n",
       "\n",
       "    Curah Hujan  Hari Hujan  Kecepatan A    Mx Kec  \n",
       "31     0.086327    0.142105     0.078261  0.164384  \n",
       "4      0.166667    0.171053     0.469565  0.561644  \n",
       "6      0.039920    0.031579     1.360870  1.178082  \n",
       "16     0.221557    0.192105     0.108696  0.328767  \n",
       "30     0.008982    0.015789     0.326087  0.342466  "
      ]
     },
     "execution_count": 86,
     "metadata": {},
     "output_type": "execute_result"
    }
   ],
   "source": [
    "df_test.head()"
   ]
  },
  {
   "cell_type": "code",
   "execution_count": 87,
   "metadata": {
    "execution": {
     "iopub.execute_input": "2024-01-27T00:12:30.047587Z",
     "iopub.status.busy": "2024-01-27T00:12:30.046823Z",
     "iopub.status.idle": "2024-01-27T00:12:30.099996Z",
     "shell.execute_reply": "2024-01-27T00:12:30.099386Z",
     "shell.execute_reply.started": "2024-01-26T07:01:01.690783Z"
    },
    "papermill": {
     "duration": 0.232591,
     "end_time": "2024-01-27T00:12:30.100169",
     "exception": false,
     "start_time": "2024-01-27T00:12:29.867578",
     "status": "completed"
    },
    "tags": []
   },
   "outputs": [
    {
     "data": {
      "text/html": [
       "<div>\n",
       "<style scoped>\n",
       "    .dataframe tbody tr th:only-of-type {\n",
       "        vertical-align: middle;\n",
       "    }\n",
       "\n",
       "    .dataframe tbody tr th {\n",
       "        vertical-align: top;\n",
       "    }\n",
       "\n",
       "    .dataframe thead th {\n",
       "        text-align: right;\n",
       "    }\n",
       "</style>\n",
       "<table border=\"1\" class=\"dataframe\">\n",
       "  <thead>\n",
       "    <tr style=\"text-align: right;\">\n",
       "      <th></th>\n",
       "      <th>Produktivitas Jeruk</th>\n",
       "      <th>Max</th>\n",
       "      <th>Min</th>\n",
       "      <th>Tavg</th>\n",
       "      <th>Sun Hour</th>\n",
       "      <th>Sun Day</th>\n",
       "      <th>Curah Hujan</th>\n",
       "      <th>Hari Hujan</th>\n",
       "      <th>Kecepatan A</th>\n",
       "      <th>Mx Kec</th>\n",
       "    </tr>\n",
       "  </thead>\n",
       "  <tbody>\n",
       "    <tr>\n",
       "      <th>count</th>\n",
       "      <td>12.000000</td>\n",
       "      <td>12.000000</td>\n",
       "      <td>12.000000</td>\n",
       "      <td>12.000000</td>\n",
       "      <td>12.000000</td>\n",
       "      <td>12.000000</td>\n",
       "      <td>12.000000</td>\n",
       "      <td>12.000000</td>\n",
       "      <td>12.000000</td>\n",
       "      <td>12.000000</td>\n",
       "    </tr>\n",
       "    <tr>\n",
       "      <th>mean</th>\n",
       "      <td>0.194118</td>\n",
       "      <td>0.361111</td>\n",
       "      <td>0.583333</td>\n",
       "      <td>0.592500</td>\n",
       "      <td>0.639253</td>\n",
       "      <td>0.464286</td>\n",
       "      <td>0.101173</td>\n",
       "      <td>0.110746</td>\n",
       "      <td>0.627355</td>\n",
       "      <td>0.654110</td>\n",
       "    </tr>\n",
       "    <tr>\n",
       "      <th>std</th>\n",
       "      <td>0.129412</td>\n",
       "      <td>0.388167</td>\n",
       "      <td>0.429352</td>\n",
       "      <td>0.440250</td>\n",
       "      <td>0.290998</td>\n",
       "      <td>0.396520</td>\n",
       "      <td>0.085007</td>\n",
       "      <td>0.076373</td>\n",
       "      <td>0.491536</td>\n",
       "      <td>0.365624</td>\n",
       "    </tr>\n",
       "    <tr>\n",
       "      <th>min</th>\n",
       "      <td>0.000000</td>\n",
       "      <td>0.000000</td>\n",
       "      <td>-0.333333</td>\n",
       "      <td>-0.223333</td>\n",
       "      <td>0.167931</td>\n",
       "      <td>0.025974</td>\n",
       "      <td>0.002994</td>\n",
       "      <td>-0.002632</td>\n",
       "      <td>0.078261</td>\n",
       "      <td>0.164384</td>\n",
       "    </tr>\n",
       "    <tr>\n",
       "      <th>25%</th>\n",
       "      <td>0.135294</td>\n",
       "      <td>0.000000</td>\n",
       "      <td>0.333333</td>\n",
       "      <td>0.223333</td>\n",
       "      <td>0.383276</td>\n",
       "      <td>0.172078</td>\n",
       "      <td>0.028443</td>\n",
       "      <td>0.027632</td>\n",
       "      <td>0.275000</td>\n",
       "      <td>0.339041</td>\n",
       "    </tr>\n",
       "    <tr>\n",
       "      <th>50%</th>\n",
       "      <td>0.188235</td>\n",
       "      <td>0.333333</td>\n",
       "      <td>0.666667</td>\n",
       "      <td>0.721667</td>\n",
       "      <td>0.627586</td>\n",
       "      <td>0.305195</td>\n",
       "      <td>0.096058</td>\n",
       "      <td>0.138158</td>\n",
       "      <td>0.495652</td>\n",
       "      <td>0.602740</td>\n",
       "    </tr>\n",
       "    <tr>\n",
       "      <th>75%</th>\n",
       "      <td>0.211765</td>\n",
       "      <td>0.666667</td>\n",
       "      <td>1.000000</td>\n",
       "      <td>1.000000</td>\n",
       "      <td>0.925776</td>\n",
       "      <td>0.915584</td>\n",
       "      <td>0.153194</td>\n",
       "      <td>0.165132</td>\n",
       "      <td>0.856522</td>\n",
       "      <td>0.945205</td>\n",
       "    </tr>\n",
       "    <tr>\n",
       "      <th>max</th>\n",
       "      <td>0.552941</td>\n",
       "      <td>1.000000</td>\n",
       "      <td>1.000000</td>\n",
       "      <td>1.110000</td>\n",
       "      <td>1.056207</td>\n",
       "      <td>1.064935</td>\n",
       "      <td>0.248004</td>\n",
       "      <td>0.205263</td>\n",
       "      <td>1.528261</td>\n",
       "      <td>1.273973</td>\n",
       "    </tr>\n",
       "  </tbody>\n",
       "</table>\n",
       "</div>"
      ],
      "text/plain": [
       "       Produktivitas Jeruk        Max        Min       Tavg   Sun Hour  \\\n",
       "count            12.000000  12.000000  12.000000  12.000000  12.000000   \n",
       "mean              0.194118   0.361111   0.583333   0.592500   0.639253   \n",
       "std               0.129412   0.388167   0.429352   0.440250   0.290998   \n",
       "min               0.000000   0.000000  -0.333333  -0.223333   0.167931   \n",
       "25%               0.135294   0.000000   0.333333   0.223333   0.383276   \n",
       "50%               0.188235   0.333333   0.666667   0.721667   0.627586   \n",
       "75%               0.211765   0.666667   1.000000   1.000000   0.925776   \n",
       "max               0.552941   1.000000   1.000000   1.110000   1.056207   \n",
       "\n",
       "         Sun Day  Curah Hujan  Hari Hujan  Kecepatan A     Mx Kec  \n",
       "count  12.000000    12.000000   12.000000    12.000000  12.000000  \n",
       "mean    0.464286     0.101173    0.110746     0.627355   0.654110  \n",
       "std     0.396520     0.085007    0.076373     0.491536   0.365624  \n",
       "min     0.025974     0.002994   -0.002632     0.078261   0.164384  \n",
       "25%     0.172078     0.028443    0.027632     0.275000   0.339041  \n",
       "50%     0.305195     0.096058    0.138158     0.495652   0.602740  \n",
       "75%     0.915584     0.153194    0.165132     0.856522   0.945205  \n",
       "max     1.064935     0.248004    0.205263     1.528261   1.273973  "
      ]
     },
     "execution_count": 87,
     "metadata": {},
     "output_type": "execute_result"
    }
   ],
   "source": [
    "df_test.describe()"
   ]
  },
  {
   "cell_type": "markdown",
   "metadata": {
    "papermill": {
     "duration": 0.177479,
     "end_time": "2024-01-27T00:12:30.457510",
     "exception": false,
     "start_time": "2024-01-27T00:12:30.280031",
     "status": "completed"
    },
    "tags": []
   },
   "source": [
    "### Dividing into X_test and y_test"
   ]
  },
  {
   "cell_type": "code",
   "execution_count": 88,
   "metadata": {
    "execution": {
     "iopub.execute_input": "2024-01-27T00:12:30.827472Z",
     "iopub.status.busy": "2024-01-27T00:12:30.826591Z",
     "iopub.status.idle": "2024-01-27T00:12:30.830628Z",
     "shell.execute_reply": "2024-01-27T00:12:30.829840Z",
     "shell.execute_reply.started": "2024-01-26T07:01:01.749168Z"
    },
    "papermill": {
     "duration": 0.197999,
     "end_time": "2024-01-27T00:12:30.830762",
     "exception": false,
     "start_time": "2024-01-27T00:12:30.632763",
     "status": "completed"
    },
    "tags": []
   },
   "outputs": [
    {
     "name": "stdout",
     "output_type": "stream",
     "text": [
      "<class 'pandas.core.frame.DataFrame'>\n",
      "Int64Index: 12 entries, 31 to 0\n",
      "Data columns (total 9 columns):\n",
      " #   Column       Non-Null Count  Dtype  \n",
      "---  ------       --------------  -----  \n",
      " 0   Max          12 non-null     float64\n",
      " 1   Min          12 non-null     float64\n",
      " 2   Tavg         12 non-null     float64\n",
      " 3   Sun Hour     12 non-null     float64\n",
      " 4   Sun Day      12 non-null     float64\n",
      " 5   Curah Hujan  12 non-null     float64\n",
      " 6   Hari Hujan   12 non-null     float64\n",
      " 7   Kecepatan A  12 non-null     float64\n",
      " 8   Mx Kec       12 non-null     float64\n",
      "dtypes: float64(9)\n",
      "memory usage: 960.0 bytes\n"
     ]
    }
   ],
   "source": [
    "y_test = df_test.pop('Produktivitas Jeruk')\n",
    "X_test = df_test\n",
    "X_test.info()"
   ]
  },
  {
   "cell_type": "code",
   "execution_count": 89,
   "metadata": {
    "execution": {
     "iopub.execute_input": "2024-01-27T00:12:31.208820Z",
     "iopub.status.busy": "2024-01-27T00:12:31.208022Z",
     "iopub.status.idle": "2024-01-27T00:12:31.213731Z",
     "shell.execute_reply": "2024-01-27T00:12:31.213048Z",
     "shell.execute_reply.started": "2024-01-26T07:01:01.765575Z"
    },
    "papermill": {
     "duration": 0.206424,
     "end_time": "2024-01-27T00:12:31.213913",
     "exception": false,
     "start_time": "2024-01-27T00:12:31.007489",
     "status": "completed"
    },
    "tags": []
   },
   "outputs": [
    {
     "name": "stdout",
     "output_type": "stream",
     "text": [
      "<class 'pandas.core.frame.DataFrame'>\n",
      "Int64Index: 12 entries, 31 to 0\n",
      "Data columns (total 5 columns):\n",
      " #   Column       Non-Null Count  Dtype  \n",
      "---  ------       --------------  -----  \n",
      " 0   const        12 non-null     float64\n",
      " 1   Max          12 non-null     float64\n",
      " 2   Min          12 non-null     float64\n",
      " 3   Hari Hujan   12 non-null     float64\n",
      " 4   Kecepatan A  12 non-null     float64\n",
      "dtypes: float64(5)\n",
      "memory usage: 576.0 bytes\n"
     ]
    }
   ],
   "source": [
    "#Selecting the variables that were part of final model.\n",
    "col1=X_train_new.columns\n",
    "X_test=X_test[col1]\n",
    "# Adding constant variable to test dataframe\n",
    "X_test_lm6 = sm.add_constant(X_test)\n",
    "X_test_lm6.info()"
   ]
  },
  {
   "cell_type": "code",
   "execution_count": 90,
   "metadata": {
    "execution": {
     "iopub.execute_input": "2024-01-27T00:12:31.595727Z",
     "iopub.status.busy": "2024-01-27T00:12:31.594503Z",
     "iopub.status.idle": "2024-01-27T00:12:31.597202Z",
     "shell.execute_reply": "2024-01-27T00:12:31.597727Z",
     "shell.execute_reply.started": "2024-01-26T07:01:01.786133Z"
    },
    "papermill": {
     "duration": 0.198591,
     "end_time": "2024-01-27T00:12:31.597943",
     "exception": false,
     "start_time": "2024-01-27T00:12:31.399352",
     "status": "completed"
    },
    "tags": []
   },
   "outputs": [],
   "source": [
    "# Making predictions using the final model (lr6)\n",
    "\n",
    "y_pred = lr6.predict(X_test_lm6)"
   ]
  },
  {
   "cell_type": "markdown",
   "metadata": {
    "papermill": {
     "duration": 0.185888,
     "end_time": "2024-01-27T00:12:31.968706",
     "exception": false,
     "start_time": "2024-01-27T00:12:31.782818",
     "status": "completed"
    },
    "tags": []
   },
   "source": [
    "# MODEL EVALUATION"
   ]
  },
  {
   "cell_type": "code",
   "execution_count": 91,
   "metadata": {
    "execution": {
     "iopub.execute_input": "2024-01-27T00:12:32.363225Z",
     "iopub.status.busy": "2024-01-27T00:12:32.362434Z",
     "iopub.status.idle": "2024-01-27T00:12:32.568259Z",
     "shell.execute_reply": "2024-01-27T00:12:32.567446Z",
     "shell.execute_reply.started": "2024-01-26T07:01:01.795878Z"
    },
    "papermill": {
     "duration": 0.409586,
     "end_time": "2024-01-27T00:12:32.568424",
     "exception": false,
     "start_time": "2024-01-27T00:12:32.158838",
     "status": "completed"
    },
    "tags": []
   },
   "outputs": [
    {
     "data": {
      "image/png": "[encoded data removed]",
      "text/plain": [
       "<Figure size 432x288 with 1 Axes>"
      ]
     },
     "metadata": {
      "needs_background": "light"
     },
     "output_type": "display_data"
    }
   ],
   "source": [
    "# Plotting y_test and y_pred to understand the spread\n",
    "\n",
    "fig = plt.figure()\n",
    "plt.scatter(y_test, y_pred, alpha=.5)\n",
    "fig.suptitle('y_test vs y_pred', fontsize = 20)              # Plot heading \n",
    "plt.xlabel('y_test', fontsize = 18)                          # X-label\n",
    "plt.ylabel('y_pred', fontsize = 16) \n",
    "plt.show()"
   ]
  },
  {
   "cell_type": "markdown",
   "metadata": {
    "papermill": {
     "duration": 0.178837,
     "end_time": "2024-01-27T00:12:32.953956",
     "exception": false,
     "start_time": "2024-01-27T00:12:32.775119",
     "status": "completed"
    },
    "tags": []
   },
   "source": [
    " # R^2 Value for TEST"
   ]
  },
  {
   "cell_type": "code",
   "execution_count": 92,
   "metadata": {
    "execution": {
     "iopub.execute_input": "2024-01-27T00:12:33.324662Z",
     "iopub.status.busy": "2024-01-27T00:12:33.323528Z",
     "iopub.status.idle": "2024-01-27T00:12:33.329119Z",
     "shell.execute_reply": "2024-01-27T00:12:33.328365Z",
     "shell.execute_reply.started": "2024-01-26T07:01:01.992909Z"
    },
    "papermill": {
     "duration": 0.193638,
     "end_time": "2024-01-27T00:12:33.329253",
     "exception": false,
     "start_time": "2024-01-27T00:12:33.135615",
     "status": "completed"
    },
    "tags": []
   },
   "outputs": [
    {
     "data": {
      "text/plain": [
       "-1.2984867261257924"
      ]
     },
     "execution_count": 92,
     "metadata": {},
     "output_type": "execute_result"
    }
   ],
   "source": [
    "from sklearn.metrics import r2_score\n",
    "r2_score(y_test, y_pred)"
   ]
  },
  {
   "cell_type": "markdown",
   "metadata": {
    "papermill": {
     "duration": 0.179568,
     "end_time": "2024-01-27T00:12:33.688694",
     "exception": false,
     "start_time": "2024-01-27T00:12:33.509126",
     "status": "completed"
    },
    "tags": []
   },
   "source": [
    "## Adjusted R^2 Value for TEST"
   ]
  },
  {
   "cell_type": "code",
   "execution_count": 93,
   "metadata": {
    "execution": {
     "iopub.execute_input": "2024-01-27T00:12:34.057708Z",
     "iopub.status.busy": "2024-01-27T00:12:34.056862Z",
     "iopub.status.idle": "2024-01-27T00:12:34.060844Z",
     "shell.execute_reply": "2024-01-27T00:12:34.060055Z",
     "shell.execute_reply.started": "2024-01-26T07:01:02.003407Z"
    },
    "papermill": {
     "duration": 0.191477,
     "end_time": "2024-01-27T00:12:34.060982",
     "exception": false,
     "start_time": "2024-01-27T00:12:33.869505",
     "status": "completed"
    },
    "tags": []
   },
   "outputs": [],
   "source": [
    "# We already have the value of R^2 (calculated in above step)\n",
    "\n",
    "r2=-1.2984867261257924"
   ]
  },
  {
   "cell_type": "code",
   "execution_count": 94,
   "metadata": {
    "execution": {
     "iopub.execute_input": "2024-01-27T00:12:34.436328Z",
     "iopub.status.busy": "2024-01-27T00:12:34.435176Z",
     "iopub.status.idle": "2024-01-27T00:12:34.439980Z",
     "shell.execute_reply": "2024-01-27T00:12:34.440530Z",
     "shell.execute_reply.started": "2024-01-26T07:01:02.016616Z"
    },
    "papermill": {
     "duration": 0.195552,
     "end_time": "2024-01-27T00:12:34.440707",
     "exception": false,
     "start_time": "2024-01-27T00:12:34.245155",
     "status": "completed"
    },
    "tags": []
   },
   "outputs": [
    {
     "data": {
      "text/plain": [
       "(12, 4)"
      ]
     },
     "execution_count": 94,
     "metadata": {},
     "output_type": "execute_result"
    }
   ],
   "source": [
    "# Get the shape of X_test\n",
    "X_test.shape"
   ]
  },
  {
   "cell_type": "code",
   "execution_count": 95,
   "metadata": {
    "execution": {
     "iopub.execute_input": "2024-01-27T00:12:34.812032Z",
     "iopub.status.busy": "2024-01-27T00:12:34.811010Z",
     "iopub.status.idle": "2024-01-27T00:12:34.815907Z",
     "shell.execute_reply": "2024-01-27T00:12:34.815279Z",
     "shell.execute_reply.started": "2024-01-26T07:01:02.035777Z"
    },
    "papermill": {
     "duration": 0.193521,
     "end_time": "2024-01-27T00:12:34.816040",
     "exception": false,
     "start_time": "2024-01-27T00:12:34.622519",
     "status": "completed"
    },
    "tags": []
   },
   "outputs": [
    {
     "data": {
      "text/plain": [
       "-2.611907712483388"
      ]
     },
     "execution_count": 95,
     "metadata": {},
     "output_type": "execute_result"
    }
   ],
   "source": [
    "# n is number of rows in X\n",
    "\n",
    "n = X_test.shape[0]\n",
    "\n",
    "\n",
    "# Number of features (predictors, p) is the shape along axis 1\n",
    "p = X_test.shape[1]\n",
    "\n",
    "# We find the Adjusted R-squared using the formula\n",
    "\n",
    "adjusted_r2 = 1-(1-r2)*(n-1)/(n-p-1)\n",
    "adjusted_r2"
   ]
  },
  {
   "cell_type": "markdown",
   "metadata": {
    "papermill": {
     "duration": 0.186264,
     "end_time": "2024-01-27T00:12:35.182448",
     "exception": false,
     "start_time": "2024-01-27T00:12:34.996184",
     "status": "completed"
    },
    "tags": []
   },
   "source": [
    "# Final Result Comparison"
   ]
  },
  {
   "cell_type": "markdown",
   "metadata": {
    "papermill": {
     "duration": 0.183206,
     "end_time": "2024-01-27T00:12:35.555100",
     "exception": false,
     "start_time": "2024-01-27T00:12:35.371894",
     "status": "completed"
    },
    "tags": []
   },
   "source": [
    "- Train R^2 :0.159\n",
    "- Train Adjusted R^2 :0.013 \n",
    "- Test R^2 :-1.2984867261257924\n",
    "- Test Adjusted R^2 :-2.611907712483388 \n",
    "- Model ini belum bisa dikatakan cocok dengan data yang ada. Data yang sedikit juga mempengaruhi hasil dari nilai yang didapat diatas."
   ]
  }
 ],
 "metadata": {
  "kaggle": {
   "accelerator": "none",
   "dataSources": [
    {
     "datasetId": 789011,
     "sourceId": 1355226,
     "sourceType": "datasetVersion"
    },
    {
     "datasetId": 4246041,
     "sourceId": 7327627,
     "sourceType": "datasetVersion"
    }
   ],
   "dockerImageVersionId": 29981,
   "isGpuEnabled": false,
   "isInternetEnabled": true,
   "language": "python",
   "sourceType": "notebook"
  },
  "kernelspec": {
   "display_name": "Python 3",
   "language": "python",
   "name": "python3"
  },
  "language_info": {
   "codemirror_mode": {
    "name": "ipython",
    "version": 3
   },
   "file_extension": ".py",
   "mimetype": "text/x-python",
   "name": "python",
   "nbconvert_exporter": "python",
   "pygments_lexer": "ipython3",
   "version": "3.7.6"
  },
  "papermill": {
   "duration": 129.271332,
   "end_time": "2024-01-27T00:12:35.847925",
   "environment_variables": {},
   "exception": null,
   "input_path": "__notebook__.ipynb",
   "output_path": "__notebook__.ipynb",
   "parameters": {},
   "start_time": "2024-01-27T00:10:26.576593",
   "version": "2.1.0"
  }
 },
 "nbformat": 4,
 "nbformat_minor": 4
}
