{
 "cells": [
  {
   "cell_type": "markdown",
   "metadata": {
    "papermill": {
     "duration": 0.107632,
     "end_time": "2024-01-26T06:27:05.200752",
     "exception": false,
     "start_time": "2024-01-26T06:27:05.093120",
     "status": "completed"
    },
    "tags": []
   },
   "source": [
    "##  Reading and Understanding the Data\n"
   ]
  },
  {
   "cell_type": "code",
   "execution_count": 1,
   "metadata": {
    "execution": {
     "iopub.execute_input": "2024-01-26T06:27:05.417249Z",
     "iopub.status.busy": "2024-01-26T06:27:05.416099Z",
     "iopub.status.idle": "2024-01-26T06:27:05.421744Z",
     "shell.execute_reply": "2024-01-26T06:27:05.422340Z",
     "shell.execute_reply.started": "2024-01-26T05:54:19.670701Z"
    },
    "papermill": {
     "duration": 0.113809,
     "end_time": "2024-01-26T06:27:05.422576",
     "exception": false,
     "start_time": "2024-01-26T06:27:05.308767",
     "status": "completed"
    },
    "tags": []
   },
   "outputs": [],
   "source": [
    "# Supress Warnings\n",
    "\n",
    "import warnings\n",
    "warnings.filterwarnings('ignore')"
   ]
  },
  {
   "cell_type": "code",
   "execution_count": 2,
   "metadata": {
    "execution": {
     "iopub.execute_input": "2024-01-26T06:27:05.634068Z",
     "iopub.status.busy": "2024-01-26T06:27:05.633248Z",
     "iopub.status.idle": "2024-01-26T06:27:06.782598Z",
     "shell.execute_reply": "2024-01-26T06:27:06.781908Z",
     "shell.execute_reply.started": "2024-01-26T05:54:19.680073Z"
    },
    "papermill": {
     "duration": 1.256691,
     "end_time": "2024-01-26T06:27:06.782758",
     "exception": false,
     "start_time": "2024-01-26T06:27:05.526067",
     "status": "completed"
    },
    "tags": []
   },
   "outputs": [],
   "source": [
    "import numpy as np\n",
    "import pandas as pd\n",
    "import matplotlib.pyplot as plt\n",
    "import seaborn as sns\n",
    "%matplotlib inline"
   ]
  },
  {
   "cell_type": "code",
   "execution_count": 3,
   "metadata": {
    "execution": {
     "iopub.execute_input": "2024-01-26T06:27:07.004867Z",
     "iopub.status.busy": "2024-01-26T06:27:07.004054Z",
     "iopub.status.idle": "2024-01-26T06:27:07.021768Z",
     "shell.execute_reply": "2024-01-26T06:27:07.022687Z",
     "shell.execute_reply.started": "2024-01-26T05:54:19.698808Z"
    },
    "papermill": {
     "duration": 0.131737,
     "end_time": "2024-01-26T06:27:07.022877",
     "exception": false,
     "start_time": "2024-01-26T06:27:06.891140",
     "status": "completed"
    },
    "tags": []
   },
   "outputs": [
    {
     "name": "stdout",
     "output_type": "stream",
     "text": [
      "/kaggle/input/bismillahskripsi/Buleleng-Climate - Full (1).csv\n",
      "/kaggle/input/bike-sharing/day.csv\n"
     ]
    }
   ],
   "source": [
    "import os\n",
    "for dirname, _, filenames in os.walk('/kaggle/input'):\n",
    "    for filename in filenames:\n",
    "        print(os.path.join(dirname, filename))"
   ]
  },
  {
   "cell_type": "code",
   "execution_count": 4,
   "metadata": {
    "execution": {
     "iopub.execute_input": "2024-01-26T06:27:07.237809Z",
     "iopub.status.busy": "2024-01-26T06:27:07.236978Z",
     "iopub.status.idle": "2024-01-26T06:27:07.263238Z",
     "shell.execute_reply": "2024-01-26T06:27:07.263875Z",
     "shell.execute_reply.started": "2024-01-26T05:54:19.717060Z"
    },
    "papermill": {
     "duration": 0.135067,
     "end_time": "2024-01-26T06:27:07.264069",
     "exception": false,
     "start_time": "2024-01-26T06:27:07.129002",
     "status": "completed"
    },
    "tags": []
   },
   "outputs": [],
   "source": [
    "bike = pd.read_csv(\"/kaggle/input/bismillahskripsi/Buleleng-Climate - Full (1).csv\")"
   ]
  },
  {
   "cell_type": "code",
   "execution_count": 5,
   "metadata": {
    "execution": {
     "iopub.execute_input": "2024-01-26T06:27:07.483800Z",
     "iopub.status.busy": "2024-01-26T06:27:07.482835Z",
     "iopub.status.idle": "2024-01-26T06:27:07.507734Z",
     "shell.execute_reply": "2024-01-26T06:27:07.506981Z",
     "shell.execute_reply.started": "2024-01-26T05:54:19.733291Z"
    },
    "papermill": {
     "duration": 0.138924,
     "end_time": "2024-01-26T06:27:07.507903",
     "exception": false,
     "start_time": "2024-01-26T06:27:07.368979",
     "status": "completed"
    },
    "tags": []
   },
   "outputs": [
    {
     "data": {
      "text/html": [
       "<div>\n",
       "<style scoped>\n",
       "    .dataframe tbody tr th:only-of-type {\n",
       "        vertical-align: middle;\n",
       "    }\n",
       "\n",
       "    .dataframe tbody tr th {\n",
       "        vertical-align: top;\n",
       "    }\n",
       "\n",
       "    .dataframe thead th {\n",
       "        text-align: right;\n",
       "    }\n",
       "</style>\n",
       "<table border=\"1\" class=\"dataframe\">\n",
       "  <thead>\n",
       "    <tr style=\"text-align: right;\">\n",
       "      <th></th>\n",
       "      <th>Year</th>\n",
       "      <th>Periode</th>\n",
       "      <th>Produktivitas Mangga</th>\n",
       "      <th>Produktivitas Jeruk</th>\n",
       "      <th>Max</th>\n",
       "      <th>Min</th>\n",
       "      <th>Tavg</th>\n",
       "      <th>Sun Hour</th>\n",
       "      <th>Sun Day</th>\n",
       "      <th>Curah Hujan</th>\n",
       "      <th>Hari Hujan</th>\n",
       "      <th>Kecepatan A</th>\n",
       "      <th>Mx Kec</th>\n",
       "    </tr>\n",
       "  </thead>\n",
       "  <tbody>\n",
       "    <tr>\n",
       "      <th>0</th>\n",
       "      <td>2012</td>\n",
       "      <td>Triwulan I</td>\n",
       "      <td>0.46</td>\n",
       "      <td>0.17</td>\n",
       "      <td>28.0</td>\n",
       "      <td>25.0</td>\n",
       "      <td>26.00</td>\n",
       "      <td>78.7</td>\n",
       "      <td>8</td>\n",
       "      <td>501</td>\n",
       "      <td>83</td>\n",
       "      <td>8.17</td>\n",
       "      <td>13.4</td>\n",
       "    </tr>\n",
       "    <tr>\n",
       "      <th>1</th>\n",
       "      <td>2012</td>\n",
       "      <td>Triwulan II</td>\n",
       "      <td>0.00</td>\n",
       "      <td>0.10</td>\n",
       "      <td>28.0</td>\n",
       "      <td>24.0</td>\n",
       "      <td>26.00</td>\n",
       "      <td>237.7</td>\n",
       "      <td>49</td>\n",
       "      <td>164</td>\n",
       "      <td>42</td>\n",
       "      <td>8.93</td>\n",
       "      <td>14.0</td>\n",
       "    </tr>\n",
       "    <tr>\n",
       "      <th>2</th>\n",
       "      <td>2012</td>\n",
       "      <td>Triwulan III</td>\n",
       "      <td>0.27</td>\n",
       "      <td>0.20</td>\n",
       "      <td>28.0</td>\n",
       "      <td>22.0</td>\n",
       "      <td>24.33</td>\n",
       "      <td>336.3</td>\n",
       "      <td>88</td>\n",
       "      <td>10</td>\n",
       "      <td>4</td>\n",
       "      <td>12.20</td>\n",
       "      <td>17.2</td>\n",
       "    </tr>\n",
       "    <tr>\n",
       "      <th>3</th>\n",
       "      <td>2012</td>\n",
       "      <td>Triwulan IV</td>\n",
       "      <td>0.46</td>\n",
       "      <td>0.11</td>\n",
       "      <td>29.0</td>\n",
       "      <td>25.0</td>\n",
       "      <td>27.00</td>\n",
       "      <td>176.0</td>\n",
       "      <td>24</td>\n",
       "      <td>375</td>\n",
       "      <td>68</td>\n",
       "      <td>7.93</td>\n",
       "      <td>13.6</td>\n",
       "    </tr>\n",
       "    <tr>\n",
       "      <th>4</th>\n",
       "      <td>2013</td>\n",
       "      <td>Triwulan I</td>\n",
       "      <td>0.65</td>\n",
       "      <td>0.16</td>\n",
       "      <td>28.0</td>\n",
       "      <td>25.0</td>\n",
       "      <td>27.00</td>\n",
       "      <td>140.7</td>\n",
       "      <td>20</td>\n",
       "      <td>338</td>\n",
       "      <td>70</td>\n",
       "      <td>7.33</td>\n",
       "      <td>12.0</td>\n",
       "    </tr>\n",
       "  </tbody>\n",
       "</table>\n",
       "</div>"
      ],
      "text/plain": [
       "   Year       Periode  Produktivitas Mangga  Produktivitas Jeruk   Max   Min  \\\n",
       "0  2012    Triwulan I                  0.46                 0.17  28.0  25.0   \n",
       "1  2012   Triwulan II                  0.00                 0.10  28.0  24.0   \n",
       "2  2012  Triwulan III                  0.27                 0.20  28.0  22.0   \n",
       "3  2012   Triwulan IV                  0.46                 0.11  29.0  25.0   \n",
       "4  2013    Triwulan I                  0.65                 0.16  28.0  25.0   \n",
       "\n",
       "    Tavg  Sun Hour  Sun Day  Curah Hujan  Hari Hujan  Kecepatan A  Mx Kec  \n",
       "0  26.00      78.7        8          501          83         8.17    13.4  \n",
       "1  26.00     237.7       49          164          42         8.93    14.0  \n",
       "2  24.33     336.3       88           10           4        12.20    17.2  \n",
       "3  27.00     176.0       24          375          68         7.93    13.6  \n",
       "4  27.00     140.7       20          338          70         7.33    12.0  "
      ]
     },
     "execution_count": 5,
     "metadata": {},
     "output_type": "execute_result"
    }
   ],
   "source": [
    "# Check the head of the dataset\n",
    "bike.head()"
   ]
  },
  {
   "cell_type": "code",
   "execution_count": 6,
   "metadata": {
    "execution": {
     "iopub.execute_input": "2024-01-26T06:27:07.731127Z",
     "iopub.status.busy": "2024-01-26T06:27:07.730239Z",
     "iopub.status.idle": "2024-01-26T06:27:07.740574Z",
     "shell.execute_reply": "2024-01-26T06:27:07.739867Z",
     "shell.execute_reply.started": "2024-01-26T05:54:19.759469Z"
    },
    "papermill": {
     "duration": 0.12757,
     "end_time": "2024-01-26T06:27:07.740737",
     "exception": false,
     "start_time": "2024-01-26T06:27:07.613167",
     "status": "completed"
    },
    "tags": []
   },
   "outputs": [
    {
     "name": "stdout",
     "output_type": "stream",
     "text": [
      "<class 'pandas.core.frame.DataFrame'>\n",
      "RangeIndex: 40 entries, 0 to 39\n",
      "Data columns (total 13 columns):\n",
      " #   Column                Non-Null Count  Dtype  \n",
      "---  ------                --------------  -----  \n",
      " 0   Year                  40 non-null     int64  \n",
      " 1   Periode               40 non-null     object \n",
      " 2   Produktivitas Mangga  40 non-null     float64\n",
      " 3   Produktivitas Jeruk   40 non-null     float64\n",
      " 4   Max                   40 non-null     float64\n",
      " 5   Min                   40 non-null     float64\n",
      " 6   Tavg                  40 non-null     float64\n",
      " 7   Sun Hour              40 non-null     float64\n",
      " 8   Sun Day               40 non-null     int64  \n",
      " 9   Curah Hujan           40 non-null     int64  \n",
      " 10  Hari Hujan            40 non-null     int64  \n",
      " 11  Kecepatan A           40 non-null     float64\n",
      " 12  Mx Kec                40 non-null     float64\n",
      "dtypes: float64(8), int64(4), object(1)\n",
      "memory usage: 4.2+ KB\n"
     ]
    }
   ],
   "source": [
    "# Check the descriptive information\n",
    "bike.info()"
   ]
  },
  {
   "cell_type": "code",
   "execution_count": 7,
   "metadata": {
    "execution": {
     "iopub.execute_input": "2024-01-26T06:27:07.967623Z",
     "iopub.status.busy": "2024-01-26T06:27:07.958647Z",
     "iopub.status.idle": "2024-01-26T06:27:08.021151Z",
     "shell.execute_reply": "2024-01-26T06:27:08.020389Z",
     "shell.execute_reply.started": "2024-01-26T05:54:19.786049Z"
    },
    "papermill": {
     "duration": 0.172675,
     "end_time": "2024-01-26T06:27:08.021291",
     "exception": false,
     "start_time": "2024-01-26T06:27:07.848616",
     "status": "completed"
    },
    "tags": []
   },
   "outputs": [
    {
     "data": {
      "text/html": [
       "<div>\n",
       "<style scoped>\n",
       "    .dataframe tbody tr th:only-of-type {\n",
       "        vertical-align: middle;\n",
       "    }\n",
       "\n",
       "    .dataframe tbody tr th {\n",
       "        vertical-align: top;\n",
       "    }\n",
       "\n",
       "    .dataframe thead th {\n",
       "        text-align: right;\n",
       "    }\n",
       "</style>\n",
       "<table border=\"1\" class=\"dataframe\">\n",
       "  <thead>\n",
       "    <tr style=\"text-align: right;\">\n",
       "      <th></th>\n",
       "      <th>Year</th>\n",
       "      <th>Produktivitas Mangga</th>\n",
       "      <th>Produktivitas Jeruk</th>\n",
       "      <th>Max</th>\n",
       "      <th>Min</th>\n",
       "      <th>Tavg</th>\n",
       "      <th>Sun Hour</th>\n",
       "      <th>Sun Day</th>\n",
       "      <th>Curah Hujan</th>\n",
       "      <th>Hari Hujan</th>\n",
       "      <th>Kecepatan A</th>\n",
       "      <th>Mx Kec</th>\n",
       "    </tr>\n",
       "  </thead>\n",
       "  <tbody>\n",
       "    <tr>\n",
       "      <th>count</th>\n",
       "      <td>40.000000</td>\n",
       "      <td>40.0000</td>\n",
       "      <td>40.000000</td>\n",
       "      <td>40.000000</td>\n",
       "      <td>40.000000</td>\n",
       "      <td>40.000000</td>\n",
       "      <td>40.000000</td>\n",
       "      <td>40.00000</td>\n",
       "      <td>40.000000</td>\n",
       "      <td>40.000000</td>\n",
       "      <td>40.000000</td>\n",
       "      <td>40.00000</td>\n",
       "    </tr>\n",
       "    <tr>\n",
       "      <th>mean</th>\n",
       "      <td>2016.500000</td>\n",
       "      <td>0.4385</td>\n",
       "      <td>0.188500</td>\n",
       "      <td>29.175000</td>\n",
       "      <td>24.700000</td>\n",
       "      <td>26.683500</td>\n",
       "      <td>191.615000</td>\n",
       "      <td>40.05000</td>\n",
       "      <td>296.975000</td>\n",
       "      <td>63.725000</td>\n",
       "      <td>7.432500</td>\n",
       "      <td>11.94000</td>\n",
       "    </tr>\n",
       "    <tr>\n",
       "      <th>std</th>\n",
       "      <td>2.908872</td>\n",
       "      <td>0.2978</td>\n",
       "      <td>0.174922</td>\n",
       "      <td>0.930605</td>\n",
       "      <td>0.992278</td>\n",
       "      <td>1.010064</td>\n",
       "      <td>78.482399</td>\n",
       "      <td>25.66645</td>\n",
       "      <td>345.464421</td>\n",
       "      <td>67.614665</td>\n",
       "      <td>1.631161</td>\n",
       "      <td>2.36706</td>\n",
       "    </tr>\n",
       "    <tr>\n",
       "      <th>min</th>\n",
       "      <td>2012.000000</td>\n",
       "      <td>0.0000</td>\n",
       "      <td>0.000000</td>\n",
       "      <td>28.000000</td>\n",
       "      <td>22.000000</td>\n",
       "      <td>24.330000</td>\n",
       "      <td>30.000000</td>\n",
       "      <td>6.00000</td>\n",
       "      <td>4.000000</td>\n",
       "      <td>4.000000</td>\n",
       "      <td>5.170000</td>\n",
       "      <td>7.90000</td>\n",
       "    </tr>\n",
       "    <tr>\n",
       "      <th>25%</th>\n",
       "      <td>2014.000000</td>\n",
       "      <td>0.2550</td>\n",
       "      <td>0.100000</td>\n",
       "      <td>28.000000</td>\n",
       "      <td>24.000000</td>\n",
       "      <td>26.000000</td>\n",
       "      <td>137.025000</td>\n",
       "      <td>20.00000</td>\n",
       "      <td>93.750000</td>\n",
       "      <td>30.250000</td>\n",
       "      <td>6.322500</td>\n",
       "      <td>10.27500</td>\n",
       "    </tr>\n",
       "    <tr>\n",
       "      <th>50%</th>\n",
       "      <td>2016.500000</td>\n",
       "      <td>0.4900</td>\n",
       "      <td>0.160000</td>\n",
       "      <td>29.000000</td>\n",
       "      <td>25.000000</td>\n",
       "      <td>26.835000</td>\n",
       "      <td>182.000000</td>\n",
       "      <td>29.50000</td>\n",
       "      <td>246.500000</td>\n",
       "      <td>51.500000</td>\n",
       "      <td>7.120000</td>\n",
       "      <td>12.05000</td>\n",
       "    </tr>\n",
       "    <tr>\n",
       "      <th>75%</th>\n",
       "      <td>2019.000000</td>\n",
       "      <td>0.5900</td>\n",
       "      <td>0.242500</td>\n",
       "      <td>30.000000</td>\n",
       "      <td>25.000000</td>\n",
       "      <td>27.670000</td>\n",
       "      <td>239.450000</td>\n",
       "      <td>57.00000</td>\n",
       "      <td>385.750000</td>\n",
       "      <td>69.250000</td>\n",
       "      <td>8.117500</td>\n",
       "      <td>13.67500</td>\n",
       "    </tr>\n",
       "    <tr>\n",
       "      <th>max</th>\n",
       "      <td>2021.000000</td>\n",
       "      <td>1.3700</td>\n",
       "      <td>0.850000</td>\n",
       "      <td>31.000000</td>\n",
       "      <td>26.000000</td>\n",
       "      <td>28.330000</td>\n",
       "      <td>336.300000</td>\n",
       "      <td>88.00000</td>\n",
       "      <td>2008.000000</td>\n",
       "      <td>385.000000</td>\n",
       "      <td>12.200000</td>\n",
       "      <td>17.20000</td>\n",
       "    </tr>\n",
       "  </tbody>\n",
       "</table>\n",
       "</div>"
      ],
      "text/plain": [
       "              Year  Produktivitas Mangga  Produktivitas Jeruk        Max  \\\n",
       "count    40.000000               40.0000            40.000000  40.000000   \n",
       "mean   2016.500000                0.4385             0.188500  29.175000   \n",
       "std       2.908872                0.2978             0.174922   0.930605   \n",
       "min    2012.000000                0.0000             0.000000  28.000000   \n",
       "25%    2014.000000                0.2550             0.100000  28.000000   \n",
       "50%    2016.500000                0.4900             0.160000  29.000000   \n",
       "75%    2019.000000                0.5900             0.242500  30.000000   \n",
       "max    2021.000000                1.3700             0.850000  31.000000   \n",
       "\n",
       "             Min       Tavg    Sun Hour   Sun Day  Curah Hujan  Hari Hujan  \\\n",
       "count  40.000000  40.000000   40.000000  40.00000    40.000000   40.000000   \n",
       "mean   24.700000  26.683500  191.615000  40.05000   296.975000   63.725000   \n",
       "std     0.992278   1.010064   78.482399  25.66645   345.464421   67.614665   \n",
       "min    22.000000  24.330000   30.000000   6.00000     4.000000    4.000000   \n",
       "25%    24.000000  26.000000  137.025000  20.00000    93.750000   30.250000   \n",
       "50%    25.000000  26.835000  182.000000  29.50000   246.500000   51.500000   \n",
       "75%    25.000000  27.670000  239.450000  57.00000   385.750000   69.250000   \n",
       "max    26.000000  28.330000  336.300000  88.00000  2008.000000  385.000000   \n",
       "\n",
       "       Kecepatan A    Mx Kec  \n",
       "count    40.000000  40.00000  \n",
       "mean      7.432500  11.94000  \n",
       "std       1.631161   2.36706  \n",
       "min       5.170000   7.90000  \n",
       "25%       6.322500  10.27500  \n",
       "50%       7.120000  12.05000  \n",
       "75%       8.117500  13.67500  \n",
       "max      12.200000  17.20000  "
      ]
     },
     "execution_count": 7,
     "metadata": {},
     "output_type": "execute_result"
    }
   ],
   "source": [
    "bike.describe()"
   ]
  },
  {
   "cell_type": "code",
   "execution_count": 8,
   "metadata": {
    "execution": {
     "iopub.execute_input": "2024-01-26T06:27:08.237677Z",
     "iopub.status.busy": "2024-01-26T06:27:08.236835Z",
     "iopub.status.idle": "2024-01-26T06:27:08.241174Z",
     "shell.execute_reply": "2024-01-26T06:27:08.241863Z",
     "shell.execute_reply.started": "2024-01-26T05:54:19.846575Z"
    },
    "papermill": {
     "duration": 0.115206,
     "end_time": "2024-01-26T06:27:08.242045",
     "exception": false,
     "start_time": "2024-01-26T06:27:08.126839",
     "status": "completed"
    },
    "tags": []
   },
   "outputs": [
    {
     "name": "stdout",
     "output_type": "stream",
     "text": [
      "(40, 13)\n"
     ]
    }
   ],
   "source": [
    "# Check the shape of df\n",
    "\n",
    "print(bike.shape)"
   ]
  },
  {
   "cell_type": "markdown",
   "metadata": {
    "papermill": {
     "duration": 0.106633,
     "end_time": "2024-01-26T06:27:08.459008",
     "exception": false,
     "start_time": "2024-01-26T06:27:08.352375",
     "status": "completed"
    },
    "tags": []
   },
   "source": [
    "## Finding : \n",
    "Dataset has 40 rows and 13 columns.\n",
    "\n",
    "variable 'Sun day', 'Curah Hujan', 'Hari hujan' berbentuk *int* untuk variable 'Periode' berupa *string*\n",
    "\n",
    "Selain itu, semua variable berupa *float*"
   ]
  },
  {
   "cell_type": "markdown",
   "metadata": {
    "papermill": {
     "duration": 0.105088,
     "end_time": "2024-01-26T06:27:08.670812",
     "exception": false,
     "start_time": "2024-01-26T06:27:08.565724",
     "status": "completed"
    },
    "tags": []
   },
   "source": [
    "# DATA QUALITY CHECK"
   ]
  },
  {
   "cell_type": "markdown",
   "metadata": {
    "papermill": {
     "duration": 0.105627,
     "end_time": "2024-01-26T06:27:08.882742",
     "exception": false,
     "start_time": "2024-01-26T06:27:08.777115",
     "status": "completed"
    },
    "tags": []
   },
   "source": [
    "## Check for NULL/MISSING values"
   ]
  },
  {
   "cell_type": "code",
   "execution_count": 9,
   "metadata": {
    "execution": {
     "iopub.execute_input": "2024-01-26T06:27:09.102868Z",
     "iopub.status.busy": "2024-01-26T06:27:09.102040Z",
     "iopub.status.idle": "2024-01-26T06:27:09.127635Z",
     "shell.execute_reply": "2024-01-26T06:27:09.128341Z",
     "shell.execute_reply.started": "2024-01-26T05:54:19.854451Z"
    },
    "papermill": {
     "duration": 0.140536,
     "end_time": "2024-01-26T06:27:09.128529",
     "exception": false,
     "start_time": "2024-01-26T06:27:08.987993",
     "status": "completed"
    },
    "tags": []
   },
   "outputs": [
    {
     "data": {
      "text/plain": [
       "Mx Kec                  0.0\n",
       "Kecepatan A             0.0\n",
       "Hari Hujan              0.0\n",
       "Curah Hujan             0.0\n",
       "Sun Day                 0.0\n",
       "Sun Hour                0.0\n",
       "Tavg                    0.0\n",
       "Min                     0.0\n",
       "Max                     0.0\n",
       "Produktivitas Jeruk     0.0\n",
       "Produktivitas Mangga    0.0\n",
       "Periode                 0.0\n",
       "Year                    0.0\n",
       "dtype: float64"
      ]
     },
     "execution_count": 9,
     "metadata": {},
     "output_type": "execute_result"
    }
   ],
   "source": [
    "# percentage of missing values in each column\n",
    "round(100*(bike.isnull().sum()/len(bike)), 2).sort_values(ascending=False)"
   ]
  },
  {
   "cell_type": "code",
   "execution_count": 10,
   "metadata": {
    "execution": {
     "iopub.execute_input": "2024-01-26T06:27:09.355320Z",
     "iopub.status.busy": "2024-01-26T06:27:09.354096Z",
     "iopub.status.idle": "2024-01-26T06:27:09.359401Z",
     "shell.execute_reply": "2024-01-26T06:27:09.358702Z",
     "shell.execute_reply.started": "2024-01-26T05:54:19.874460Z"
    },
    "papermill": {
     "duration": 0.124746,
     "end_time": "2024-01-26T06:27:09.359556",
     "exception": false,
     "start_time": "2024-01-26T06:27:09.234810",
     "status": "completed"
    },
    "tags": []
   },
   "outputs": [
    {
     "data": {
      "text/plain": [
       "39    0.0\n",
       "38    0.0\n",
       "17    0.0\n",
       "16    0.0\n",
       "15    0.0\n",
       "14    0.0\n",
       "13    0.0\n",
       "12    0.0\n",
       "11    0.0\n",
       "10    0.0\n",
       "9     0.0\n",
       "8     0.0\n",
       "7     0.0\n",
       "6     0.0\n",
       "5     0.0\n",
       "4     0.0\n",
       "3     0.0\n",
       "2     0.0\n",
       "1     0.0\n",
       "18    0.0\n",
       "19    0.0\n",
       "20    0.0\n",
       "30    0.0\n",
       "37    0.0\n",
       "36    0.0\n",
       "35    0.0\n",
       "34    0.0\n",
       "33    0.0\n",
       "32    0.0\n",
       "31    0.0\n",
       "29    0.0\n",
       "21    0.0\n",
       "28    0.0\n",
       "27    0.0\n",
       "26    0.0\n",
       "25    0.0\n",
       "24    0.0\n",
       "23    0.0\n",
       "22    0.0\n",
       "0     0.0\n",
       "dtype: float64"
      ]
     },
     "execution_count": 10,
     "metadata": {},
     "output_type": "execute_result"
    }
   ],
   "source": [
    "# row-wise null count percentage\n",
    "round((bike.isnull().sum(axis=1)/len(bike))*100,2).sort_values(ascending=False)"
   ]
  },
  {
   "cell_type": "markdown",
   "metadata": {
    "papermill": {
     "duration": 0.10651,
     "end_time": "2024-01-26T06:27:09.574049",
     "exception": false,
     "start_time": "2024-01-26T06:27:09.467539",
     "status": "completed"
    },
    "tags": []
   },
   "source": [
    "## Finding\n",
    "There are no missing / Null values either in columns or rows"
   ]
  },
  {
   "cell_type": "markdown",
   "metadata": {
    "papermill": {
     "duration": 0.106482,
     "end_time": "2024-01-26T06:27:09.790830",
     "exception": false,
     "start_time": "2024-01-26T06:27:09.684348",
     "status": "completed"
    },
    "tags": []
   },
   "source": [
    "## Duplicate Check"
   ]
  },
  {
   "cell_type": "code",
   "execution_count": 11,
   "metadata": {
    "execution": {
     "iopub.execute_input": "2024-01-26T06:27:10.011839Z",
     "iopub.status.busy": "2024-01-26T06:27:10.010947Z",
     "iopub.status.idle": "2024-01-26T06:27:10.023337Z",
     "shell.execute_reply": "2024-01-26T06:27:10.023923Z",
     "shell.execute_reply.started": "2024-01-26T05:54:19.893966Z"
    },
    "papermill": {
     "duration": 0.125821,
     "end_time": "2024-01-26T06:27:10.024107",
     "exception": false,
     "start_time": "2024-01-26T06:27:09.898286",
     "status": "completed"
    },
    "tags": []
   },
   "outputs": [],
   "source": [
    "bike_dup = bike.copy()\n",
    "\n",
    "# Checking for duplicates and dropping the entire duplicate row if any\n",
    "bike_dup.drop_duplicates(subset=None, inplace=True)"
   ]
  },
  {
   "cell_type": "code",
   "execution_count": 12,
   "metadata": {
    "execution": {
     "iopub.execute_input": "2024-01-26T06:27:10.302162Z",
     "iopub.status.busy": "2024-01-26T06:27:10.300965Z",
     "iopub.status.idle": "2024-01-26T06:27:10.305629Z",
     "shell.execute_reply": "2024-01-26T06:27:10.306404Z",
     "shell.execute_reply.started": "2024-01-26T05:54:19.914811Z"
    },
    "papermill": {
     "duration": 0.121595,
     "end_time": "2024-01-26T06:27:10.306614",
     "exception": false,
     "start_time": "2024-01-26T06:27:10.185019",
     "status": "completed"
    },
    "tags": []
   },
   "outputs": [
    {
     "data": {
      "text/plain": [
       "(40, 13)"
      ]
     },
     "execution_count": 12,
     "metadata": {},
     "output_type": "execute_result"
    }
   ],
   "source": [
    "bike_dup.shape"
   ]
  },
  {
   "cell_type": "code",
   "execution_count": 13,
   "metadata": {
    "execution": {
     "iopub.execute_input": "2024-01-26T06:27:10.526975Z",
     "iopub.status.busy": "2024-01-26T06:27:10.526200Z",
     "iopub.status.idle": "2024-01-26T06:27:10.532900Z",
     "shell.execute_reply": "2024-01-26T06:27:10.533513Z",
     "shell.execute_reply.started": "2024-01-26T05:54:19.932806Z"
    },
    "papermill": {
     "duration": 0.118727,
     "end_time": "2024-01-26T06:27:10.533683",
     "exception": false,
     "start_time": "2024-01-26T06:27:10.414956",
     "status": "completed"
    },
    "tags": []
   },
   "outputs": [
    {
     "data": {
      "text/plain": [
       "(40, 13)"
      ]
     },
     "execution_count": 13,
     "metadata": {},
     "output_type": "execute_result"
    }
   ],
   "source": [
    "bike.shape"
   ]
  },
  {
   "cell_type": "markdown",
   "metadata": {
    "papermill": {
     "duration": 0.105851,
     "end_time": "2024-01-26T06:27:10.746006",
     "exception": false,
     "start_time": "2024-01-26T06:27:10.640155",
     "status": "completed"
    },
    "tags": []
   },
   "source": [
    "### Insights \n",
    "\n",
    "The shape after running the drop duplicate command is same as the original dataframe. \n",
    "\n",
    "Hence we can conclude that there were zero duplicate values in the dataset. "
   ]
  },
  {
   "cell_type": "markdown",
   "metadata": {
    "papermill": {
     "duration": 0.10625,
     "end_time": "2024-01-26T06:27:10.960023",
     "exception": false,
     "start_time": "2024-01-26T06:27:10.853773",
     "status": "completed"
    },
    "tags": []
   },
   "source": [
    "## Data Cleaning\n",
    "\n",
    "Checking value_counts() for entire dataframe. \n",
    "\n",
    "This will help to identify any Unknow/Junk values present in the dataset."
   ]
  },
  {
   "cell_type": "code",
   "execution_count": 14,
   "metadata": {
    "execution": {
     "iopub.execute_input": "2024-01-26T06:27:11.177529Z",
     "iopub.status.busy": "2024-01-26T06:27:11.176723Z",
     "iopub.status.idle": "2024-01-26T06:27:11.183306Z",
     "shell.execute_reply": "2024-01-26T06:27:11.182665Z",
     "shell.execute_reply.started": "2024-01-26T05:54:19.946323Z"
    },
    "papermill": {
     "duration": 0.116654,
     "end_time": "2024-01-26T06:27:11.183456",
     "exception": false,
     "start_time": "2024-01-26T06:27:11.066802",
     "status": "completed"
    },
    "tags": []
   },
   "outputs": [],
   "source": [
    "#Create a copy of the  dataframe, without the 'instant' column, \n",
    "\n",
    "#as this will have unique values, and donot make sense to do a value count on it.\n",
    "\n",
    "bike_dummy=bike.iloc[:,1:16]"
   ]
  },
  {
   "cell_type": "code",
   "execution_count": 15,
   "metadata": {
    "execution": {
     "iopub.execute_input": "2024-01-26T06:27:11.406174Z",
     "iopub.status.busy": "2024-01-26T06:27:11.405362Z",
     "iopub.status.idle": "2024-01-26T06:27:11.440823Z",
     "shell.execute_reply": "2024-01-26T06:27:11.441618Z",
     "shell.execute_reply.started": "2024-01-26T05:54:19.956634Z"
    },
    "papermill": {
     "duration": 0.148576,
     "end_time": "2024-01-26T06:27:11.441804",
     "exception": false,
     "start_time": "2024-01-26T06:27:11.293228",
     "status": "completed"
    },
    "tags": []
   },
   "outputs": [
    {
     "name": "stdout",
     "output_type": "stream",
     "text": [
      "Triwulan IV     10\n",
      "Triwulan II     10\n",
      "Triwulan I      10\n",
      "Triwulan III    10\n",
      "Name: Periode, dtype: int64 \n",
      "\n",
      "\n",
      "\n",
      "0.00    8\n",
      "0.65    3\n",
      "0.50    2\n",
      "0.59    2\n",
      "0.47    2\n",
      "0.46    2\n",
      "0.53    1\n",
      "0.68    1\n",
      "0.67    1\n",
      "0.54    1\n",
      "0.52    1\n",
      "0.24    1\n",
      "0.44    1\n",
      "0.70    1\n",
      "0.55    1\n",
      "0.71    1\n",
      "1.37    1\n",
      "0.26    1\n",
      "0.58    1\n",
      "0.48    1\n",
      "0.37    1\n",
      "0.51    1\n",
      "0.23    1\n",
      "0.56    1\n",
      "0.30    1\n",
      "1.04    1\n",
      "0.27    1\n",
      "Name: Produktivitas Mangga, dtype: int64 \n",
      "\n",
      "\n",
      "\n",
      "0.00    7\n",
      "0.10    5\n",
      "0.25    3\n",
      "0.16    3\n",
      "0.26    2\n",
      "0.15    2\n",
      "0.18    2\n",
      "0.11    2\n",
      "0.13    1\n",
      "0.12    1\n",
      "0.22    1\n",
      "0.19    1\n",
      "0.31    1\n",
      "0.24    1\n",
      "0.47    1\n",
      "0.85    1\n",
      "0.50    1\n",
      "0.17    1\n",
      "0.66    1\n",
      "0.21    1\n",
      "0.14    1\n",
      "0.20    1\n",
      "Name: Produktivitas Jeruk, dtype: int64 \n",
      "\n",
      "\n",
      "\n",
      "30.0    15\n",
      "28.0    12\n",
      "29.0    11\n",
      "31.0     2\n",
      "Name: Max, dtype: int64 \n",
      "\n",
      "\n",
      "\n",
      "25.0    15\n",
      "24.0    12\n",
      "26.0     9\n",
      "23.0     3\n",
      "22.0     1\n",
      "Name: Min, dtype: int64 \n",
      "\n",
      "\n",
      "\n",
      "27.00    6\n",
      "27.67    5\n",
      "28.00    5\n",
      "26.00    5\n",
      "25.67    4\n",
      "26.33    3\n",
      "26.67    3\n",
      "27.33    3\n",
      "25.00    2\n",
      "25.33    2\n",
      "24.33    1\n",
      "28.33    1\n",
      "Name: Tavg, dtype: int64 \n",
      "\n",
      "\n",
      "\n",
      "302.0    2\n",
      "225.7    2\n",
      "179.3    1\n",
      "214.3    1\n",
      "162.3    1\n",
      "306.3    1\n",
      "30.0     1\n",
      "234.3    1\n",
      "221.0    1\n",
      "111.0    1\n",
      "47.0     1\n",
      "130.3    1\n",
      "320.0    1\n",
      "166.0    1\n",
      "297.3    1\n",
      "135.0    1\n",
      "156.0    1\n",
      "187.0    1\n",
      "237.7    1\n",
      "140.7    1\n",
      "83.7     1\n",
      "184.7    1\n",
      "336.3    1\n",
      "236.3    1\n",
      "133.7    1\n",
      "121.3    1\n",
      "141.3    1\n",
      "244.7    1\n",
      "316.3    1\n",
      "78.7     1\n",
      "254.7    1\n",
      "168.3    1\n",
      "209.7    1\n",
      "102.7    1\n",
      "269.3    1\n",
      "137.7    1\n",
      "138.3    1\n",
      "176.0    1\n",
      "Name: Sun Hour, dtype: int64 \n",
      "\n",
      "\n",
      "\n",
      "24    4\n",
      "83    3\n",
      "33    2\n",
      "46    2\n",
      "25    2\n",
      "45    2\n",
      "20    2\n",
      "10    1\n",
      "8     1\n",
      "18    1\n",
      "75    1\n",
      "7     1\n",
      "13    1\n",
      "6     1\n",
      "14    1\n",
      "79    1\n",
      "17    1\n",
      "70    1\n",
      "23    1\n",
      "19    1\n",
      "22    1\n",
      "71    1\n",
      "88    1\n",
      "26    1\n",
      "81    1\n",
      "49    1\n",
      "50    1\n",
      "53    1\n",
      "54    1\n",
      "66    1\n",
      "Name: Sun Day, dtype: int64 \n",
      "\n",
      "\n",
      "\n",
      "20      2\n",
      "319     1\n",
      "152     1\n",
      "214     1\n",
      "405     1\n",
      "84      1\n",
      "2008    1\n",
      "338     1\n",
      "640     1\n",
      "400     1\n",
      "143     1\n",
      "289     1\n",
      "268     1\n",
      "10      1\n",
      "22      1\n",
      "136     1\n",
      "74      1\n",
      "133     1\n",
      "4       1\n",
      "279     1\n",
      "391     1\n",
      "444     1\n",
      "1053    1\n",
      "375     1\n",
      "54      1\n",
      "501     1\n",
      "216     1\n",
      "177     1\n",
      "437     1\n",
      "302     1\n",
      "12      1\n",
      "300     1\n",
      "295     1\n",
      "97      1\n",
      "164     1\n",
      "46      1\n",
      "384     1\n",
      "225     1\n",
      "448     1\n",
      "Name: Curah Hujan, dtype: int64 \n",
      "\n",
      "\n",
      "\n",
      "67     4\n",
      "41     3\n",
      "45     2\n",
      "47     2\n",
      "68     2\n",
      "9      2\n",
      "25     2\n",
      "59     1\n",
      "11     1\n",
      "10     1\n",
      "69     1\n",
      "72     1\n",
      "70     1\n",
      "80     1\n",
      "4      1\n",
      "66     1\n",
      "78     1\n",
      "84     1\n",
      "17     1\n",
      "83     1\n",
      "249    1\n",
      "85     1\n",
      "22     1\n",
      "154    1\n",
      "32     1\n",
      "37     1\n",
      "42     1\n",
      "5      1\n",
      "56     1\n",
      "385    1\n",
      "Name: Hari Hujan, dtype: int64 \n",
      "\n",
      "\n",
      "\n",
      "7.57     2\n",
      "7.93     2\n",
      "7.60     2\n",
      "6.67     1\n",
      "8.57     1\n",
      "6.40     1\n",
      "12.20    1\n",
      "6.33     1\n",
      "8.83     1\n",
      "8.17     1\n",
      "6.17     1\n",
      "6.87     1\n",
      "7.07     1\n",
      "8.93     1\n",
      "7.03     1\n",
      "6.77     1\n",
      "6.47     1\n",
      "9.50     1\n",
      "10.73    1\n",
      "5.67     1\n",
      "9.77     1\n",
      "8.40     1\n",
      "6.27     1\n",
      "6.57     1\n",
      "5.30     1\n",
      "11.43    1\n",
      "6.30     1\n",
      "5.17     1\n",
      "8.10     1\n",
      "5.47     1\n",
      "7.77     1\n",
      "7.33     1\n",
      "5.53     1\n",
      "7.17     1\n",
      "5.57     1\n",
      "6.07     1\n",
      "6.50     1\n",
      "Name: Kecepatan A, dtype: int64 \n",
      "\n",
      "\n",
      "\n",
      "14.8    3\n",
      "10.8    2\n",
      "10.4    2\n",
      "10.3    2\n",
      "12.7    2\n",
      "12.9    2\n",
      "10.5    1\n",
      "16.5    1\n",
      "14.5    1\n",
      "13.9    1\n",
      "15.2    1\n",
      "12.0    1\n",
      "9.1     1\n",
      "9.8     1\n",
      "13.3    1\n",
      "8.6     1\n",
      "8.4     1\n",
      "12.3    1\n",
      "9.5     1\n",
      "14.6    1\n",
      "10.2    1\n",
      "12.6    1\n",
      "11.3    1\n",
      "11.2    1\n",
      "9.7     1\n",
      "8.2     1\n",
      "17.2    1\n",
      "13.4    1\n",
      "9.4     1\n",
      "7.9     1\n",
      "13.6    1\n",
      "12.1    1\n",
      "14.0    1\n",
      "Name: Mx Kec, dtype: int64 \n",
      "\n",
      "\n",
      "\n"
     ]
    }
   ],
   "source": [
    "for col in bike_dummy:\n",
    "    print(bike_dummy[col].value_counts(ascending=False), '\\n\\n\\n')"
   ]
  },
  {
   "cell_type": "markdown",
   "metadata": {
    "papermill": {
     "duration": 0.107229,
     "end_time": "2024-01-26T06:27:11.663191",
     "exception": false,
     "start_time": "2024-01-26T06:27:11.555962",
     "status": "completed"
    },
    "tags": []
   },
   "source": [
    "### Insights \n",
    "There seems to be no Junk/Unknown values in the entire dataset."
   ]
  },
  {
   "cell_type": "markdown",
   "metadata": {
    "papermill": {
     "duration": 0.107857,
     "end_time": "2024-01-26T06:27:11.878684",
     "exception": false,
     "start_time": "2024-01-26T06:27:11.770827",
     "status": "completed"
    },
    "tags": []
   },
   "source": [
    "# Removing redundant & unwanted columns"
   ]
  },
  {
   "cell_type": "code",
   "execution_count": 16,
   "metadata": {
    "execution": {
     "iopub.execute_input": "2024-01-26T06:27:12.101679Z",
     "iopub.status.busy": "2024-01-26T06:27:12.100873Z",
     "iopub.status.idle": "2024-01-26T06:27:12.106176Z",
     "shell.execute_reply": "2024-01-26T06:27:12.105584Z",
     "shell.execute_reply.started": "2024-01-26T05:54:20.004054Z"
    },
    "papermill": {
     "duration": 0.120158,
     "end_time": "2024-01-26T06:27:12.106311",
     "exception": false,
     "start_time": "2024-01-26T06:27:11.986153",
     "status": "completed"
    },
    "tags": []
   },
   "outputs": [
    {
     "data": {
      "text/plain": [
       "Index(['Year', 'Periode', 'Produktivitas Mangga', 'Produktivitas Jeruk', 'Max',\n",
       "       'Min', 'Tavg', 'Sun Hour', 'Sun Day', 'Curah Hujan', 'Hari Hujan',\n",
       "       'Kecepatan A', 'Mx Kec'],\n",
       "      dtype='object')"
      ]
     },
     "execution_count": 16,
     "metadata": {},
     "output_type": "execute_result"
    }
   ],
   "source": [
    "bike.columns"
   ]
  },
  {
   "cell_type": "code",
   "execution_count": 17,
   "metadata": {
    "execution": {
     "iopub.execute_input": "2024-01-26T06:27:12.332094Z",
     "iopub.status.busy": "2024-01-26T06:27:12.330969Z",
     "iopub.status.idle": "2024-01-26T06:27:12.334836Z",
     "shell.execute_reply": "2024-01-26T06:27:12.334206Z",
     "shell.execute_reply.started": "2024-01-26T05:54:20.014614Z"
    },
    "papermill": {
     "duration": 0.119956,
     "end_time": "2024-01-26T06:27:12.334985",
     "exception": false,
     "start_time": "2024-01-26T06:27:12.215029",
     "status": "completed"
    },
    "tags": []
   },
   "outputs": [],
   "source": [
    "bike_new=bike[['Year', 'Periode','Produktivitas Mangga', 'Max',\n",
    "       'Min', 'Tavg']]\n"
   ]
  },
  {
   "cell_type": "code",
   "execution_count": 18,
   "metadata": {
    "execution": {
     "iopub.execute_input": "2024-01-26T06:27:12.571226Z",
     "iopub.status.busy": "2024-01-26T06:27:12.570091Z",
     "iopub.status.idle": "2024-01-26T06:27:12.576876Z",
     "shell.execute_reply": "2024-01-26T06:27:12.577874Z",
     "shell.execute_reply.started": "2024-01-26T05:54:20.026260Z"
    },
    "papermill": {
     "duration": 0.132064,
     "end_time": "2024-01-26T06:27:12.578089",
     "exception": false,
     "start_time": "2024-01-26T06:27:12.446025",
     "status": "completed"
    },
    "tags": []
   },
   "outputs": [],
   "source": [
    "bike_new_new=bike[['Produktivitas Mangga', 'Max',\n",
    "       'Min', 'Tavg']]"
   ]
  },
  {
   "cell_type": "code",
   "execution_count": 19,
   "metadata": {
    "execution": {
     "iopub.execute_input": "2024-01-26T06:27:12.812815Z",
     "iopub.status.busy": "2024-01-26T06:27:12.811634Z",
     "iopub.status.idle": "2024-01-26T06:27:12.823450Z",
     "shell.execute_reply": "2024-01-26T06:27:12.824131Z",
     "shell.execute_reply.started": "2024-01-26T05:54:20.040026Z"
    },
    "papermill": {
     "duration": 0.132812,
     "end_time": "2024-01-26T06:27:12.824312",
     "exception": false,
     "start_time": "2024-01-26T06:27:12.691500",
     "status": "completed"
    },
    "tags": []
   },
   "outputs": [
    {
     "name": "stdout",
     "output_type": "stream",
     "text": [
      "<class 'pandas.core.frame.DataFrame'>\n",
      "RangeIndex: 40 entries, 0 to 39\n",
      "Data columns (total 6 columns):\n",
      " #   Column                Non-Null Count  Dtype  \n",
      "---  ------                --------------  -----  \n",
      " 0   Year                  40 non-null     int64  \n",
      " 1   Periode               40 non-null     object \n",
      " 2   Produktivitas Mangga  40 non-null     float64\n",
      " 3   Max                   40 non-null     float64\n",
      " 4   Min                   40 non-null     float64\n",
      " 5   Tavg                  40 non-null     float64\n",
      "dtypes: float64(4), int64(1), object(1)\n",
      "memory usage: 2.0+ KB\n"
     ]
    }
   ],
   "source": [
    "bike_new.info()"
   ]
  },
  {
   "cell_type": "code",
   "execution_count": 20,
   "metadata": {
    "execution": {
     "iopub.execute_input": "2024-01-26T06:27:13.065153Z",
     "iopub.status.busy": "2024-01-26T06:27:13.063927Z",
     "iopub.status.idle": "2024-01-26T06:27:13.068636Z",
     "shell.execute_reply": "2024-01-26T06:27:13.069640Z",
     "shell.execute_reply.started": "2024-01-26T05:54:20.060815Z"
    },
    "papermill": {
     "duration": 0.127982,
     "end_time": "2024-01-26T06:27:13.070043",
     "exception": false,
     "start_time": "2024-01-26T06:27:12.942061",
     "status": "completed"
    },
    "tags": []
   },
   "outputs": [
    {
     "name": "stdout",
     "output_type": "stream",
     "text": [
      "<class 'pandas.core.frame.DataFrame'>\n",
      "RangeIndex: 40 entries, 0 to 39\n",
      "Data columns (total 4 columns):\n",
      " #   Column                Non-Null Count  Dtype  \n",
      "---  ------                --------------  -----  \n",
      " 0   Produktivitas Mangga  40 non-null     float64\n",
      " 1   Max                   40 non-null     float64\n",
      " 2   Min                   40 non-null     float64\n",
      " 3   Tavg                  40 non-null     float64\n",
      "dtypes: float64(4)\n",
      "memory usage: 1.4 KB\n"
     ]
    }
   ],
   "source": [
    "bike_new_new.info()"
   ]
  },
  {
   "cell_type": "markdown",
   "metadata": {
    "papermill": {
     "duration": 0.114472,
     "end_time": "2024-01-26T06:27:13.298370",
     "exception": false,
     "start_time": "2024-01-26T06:27:13.183898",
     "status": "completed"
    },
    "tags": []
   },
   "source": [
    "# Creating Dummy Variables"
   ]
  },
  {
   "cell_type": "markdown",
   "metadata": {
    "papermill": {
     "duration": 0.110682,
     "end_time": "2024-01-26T06:27:13.519348",
     "exception": false,
     "start_time": "2024-01-26T06:27:13.408666",
     "status": "completed"
    },
    "tags": []
   },
   "source": [
    "We will create DUMMY variables for 2 categorical variables 'Year', 'Periode'. \n",
    "- Before creating dummy variables, we will have to convert them into 'category' data types."
   ]
  },
  {
   "cell_type": "code",
   "execution_count": 21,
   "metadata": {
    "execution": {
     "iopub.execute_input": "2024-01-26T06:27:13.748731Z",
     "iopub.status.busy": "2024-01-26T06:27:13.747587Z",
     "iopub.status.idle": "2024-01-26T06:27:13.758623Z",
     "shell.execute_reply": "2024-01-26T06:27:13.759220Z",
     "shell.execute_reply.started": "2024-01-26T05:54:20.073480Z"
    },
    "papermill": {
     "duration": 0.125821,
     "end_time": "2024-01-26T06:27:13.759391",
     "exception": false,
     "start_time": "2024-01-26T06:27:13.633570",
     "status": "completed"
    },
    "tags": []
   },
   "outputs": [
    {
     "name": "stdout",
     "output_type": "stream",
     "text": [
      "<class 'pandas.core.frame.DataFrame'>\n",
      "RangeIndex: 40 entries, 0 to 39\n",
      "Data columns (total 6 columns):\n",
      " #   Column                Non-Null Count  Dtype  \n",
      "---  ------                --------------  -----  \n",
      " 0   Year                  40 non-null     int64  \n",
      " 1   Periode               40 non-null     object \n",
      " 2   Produktivitas Mangga  40 non-null     float64\n",
      " 3   Max                   40 non-null     float64\n",
      " 4   Min                   40 non-null     float64\n",
      " 5   Tavg                  40 non-null     float64\n",
      "dtypes: float64(4), int64(1), object(1)\n",
      "memory usage: 2.0+ KB\n"
     ]
    }
   ],
   "source": [
    "# Check the datatypes before convertion\n",
    "bike_new.info()"
   ]
  },
  {
   "cell_type": "code",
   "execution_count": 22,
   "metadata": {
    "execution": {
     "iopub.execute_input": "2024-01-26T06:27:13.987038Z",
     "iopub.status.busy": "2024-01-26T06:27:13.986216Z",
     "iopub.status.idle": "2024-01-26T06:27:13.994486Z",
     "shell.execute_reply": "2024-01-26T06:27:13.995145Z",
     "shell.execute_reply.started": "2024-01-26T05:54:20.096628Z"
    },
    "papermill": {
     "duration": 0.123542,
     "end_time": "2024-01-26T06:27:13.995338",
     "exception": false,
     "start_time": "2024-01-26T06:27:13.871796",
     "status": "completed"
    },
    "tags": []
   },
   "outputs": [],
   "source": [
    "# Convert to 'category' data type\n",
    "\n",
    "bike_new['Year']=bike_new['Year'].astype('category')\n",
    "bike_new['Periode']=bike_new['Periode'].astype('category')"
   ]
  },
  {
   "cell_type": "code",
   "execution_count": 23,
   "metadata": {
    "execution": {
     "iopub.execute_input": "2024-01-26T06:27:14.220295Z",
     "iopub.status.busy": "2024-01-26T06:27:14.219488Z",
     "iopub.status.idle": "2024-01-26T06:27:14.234427Z",
     "shell.execute_reply": "2024-01-26T06:27:14.235158Z",
     "shell.execute_reply.started": "2024-01-26T05:54:20.114602Z"
    },
    "papermill": {
     "duration": 0.128846,
     "end_time": "2024-01-26T06:27:14.235342",
     "exception": false,
     "start_time": "2024-01-26T06:27:14.106496",
     "status": "completed"
    },
    "tags": []
   },
   "outputs": [
    {
     "name": "stdout",
     "output_type": "stream",
     "text": [
      "<class 'pandas.core.frame.DataFrame'>\n",
      "RangeIndex: 40 entries, 0 to 39\n",
      "Data columns (total 6 columns):\n",
      " #   Column                Non-Null Count  Dtype   \n",
      "---  ------                --------------  -----   \n",
      " 0   Year                  40 non-null     category\n",
      " 1   Periode               40 non-null     category\n",
      " 2   Produktivitas Mangga  40 non-null     float64 \n",
      " 3   Max                   40 non-null     float64 \n",
      " 4   Min                   40 non-null     float64 \n",
      " 5   Tavg                  40 non-null     float64 \n",
      "dtypes: category(2), float64(4)\n",
      "memory usage: 2.0 KB\n"
     ]
    }
   ],
   "source": [
    "bike_new.info()"
   ]
  },
  {
   "cell_type": "code",
   "execution_count": 24,
   "metadata": {
    "execution": {
     "iopub.execute_input": "2024-01-26T06:27:14.464760Z",
     "iopub.status.busy": "2024-01-26T06:27:14.463307Z",
     "iopub.status.idle": "2024-01-26T06:27:14.488898Z",
     "shell.execute_reply": "2024-01-26T06:27:14.489750Z",
     "shell.execute_reply.started": "2024-01-26T05:54:20.130460Z"
    },
    "papermill": {
     "duration": 0.140915,
     "end_time": "2024-01-26T06:27:14.489933",
     "exception": false,
     "start_time": "2024-01-26T06:27:14.349018",
     "status": "completed"
    },
    "tags": []
   },
   "outputs": [
    {
     "name": "stdout",
     "output_type": "stream",
     "text": [
      "<class 'pandas.core.frame.DataFrame'>\n",
      "RangeIndex: 40 entries, 0 to 39\n",
      "Data columns (total 18 columns):\n",
      " #   Column                Non-Null Count  Dtype  \n",
      "---  ------                --------------  -----  \n",
      " 0   Produktivitas Mangga  40 non-null     float64\n",
      " 1   Max                   40 non-null     float64\n",
      " 2   Min                   40 non-null     float64\n",
      " 3   Tavg                  40 non-null     float64\n",
      " 4   Year_2012             40 non-null     uint8  \n",
      " 5   Year_2013             40 non-null     uint8  \n",
      " 6   Year_2014             40 non-null     uint8  \n",
      " 7   Year_2015             40 non-null     uint8  \n",
      " 8   Year_2016             40 non-null     uint8  \n",
      " 9   Year_2017             40 non-null     uint8  \n",
      " 10  Year_2018             40 non-null     uint8  \n",
      " 11  Year_2019             40 non-null     uint8  \n",
      " 12  Year_2020             40 non-null     uint8  \n",
      " 13  Year_2021             40 non-null     uint8  \n",
      " 14  Periode_Triwulan I    40 non-null     uint8  \n",
      " 15  Periode_Triwulan II   40 non-null     uint8  \n",
      " 16  Periode_Triwulan III  40 non-null     uint8  \n",
      " 17  Periode_Triwulan IV   40 non-null     uint8  \n",
      "dtypes: float64(4), uint8(14)\n",
      "memory usage: 1.9 KB\n"
     ]
    }
   ],
   "source": [
    "# This code does 3 things:\n",
    "# 1) Create Dummy variable\n",
    "# 2) Drop original variable for which the dummy was created\n",
    "# 3) Drop first dummy variable for each set of dummies created.\n",
    "\n",
    "bike_new = pd.get_dummies(bike_new)\n",
    "bike_new.info()"
   ]
  },
  {
   "cell_type": "code",
   "execution_count": 25,
   "metadata": {
    "execution": {
     "iopub.execute_input": "2024-01-26T06:27:14.717582Z",
     "iopub.status.busy": "2024-01-26T06:27:14.716637Z",
     "iopub.status.idle": "2024-01-26T06:27:14.720231Z",
     "shell.execute_reply": "2024-01-26T06:27:14.720827Z",
     "shell.execute_reply.started": "2024-01-26T05:54:20.163558Z"
    },
    "papermill": {
     "duration": 0.120165,
     "end_time": "2024-01-26T06:27:14.721001",
     "exception": false,
     "start_time": "2024-01-26T06:27:14.600836",
     "status": "completed"
    },
    "tags": []
   },
   "outputs": [
    {
     "data": {
      "text/plain": [
       "(40, 18)"
      ]
     },
     "execution_count": 25,
     "metadata": {},
     "output_type": "execute_result"
    }
   ],
   "source": [
    "bike_new.shape"
   ]
  },
  {
   "cell_type": "markdown",
   "metadata": {
    "papermill": {
     "duration": 0.114092,
     "end_time": "2024-01-26T06:27:14.946578",
     "exception": false,
     "start_time": "2024-01-26T06:27:14.832486",
     "status": "completed"
    },
    "tags": []
   },
   "source": [
    "## SPLITTING THE DATA\n",
    "- Splitting the data to Train and Test: - We will now split the data into TRAIN and TEST (70:30 ratio) \n",
    "- We will use train_test_split method from sklearn package for this"
   ]
  },
  {
   "cell_type": "code",
   "execution_count": 26,
   "metadata": {
    "execution": {
     "iopub.execute_input": "2024-01-26T06:27:15.175954Z",
     "iopub.status.busy": "2024-01-26T06:27:15.175109Z",
     "iopub.status.idle": "2024-01-26T06:27:15.182454Z",
     "shell.execute_reply": "2024-01-26T06:27:15.181625Z",
     "shell.execute_reply.started": "2024-01-26T05:54:20.171164Z"
    },
    "papermill": {
     "duration": 0.124258,
     "end_time": "2024-01-26T06:27:15.182648",
     "exception": false,
     "start_time": "2024-01-26T06:27:15.058390",
     "status": "completed"
    },
    "tags": []
   },
   "outputs": [
    {
     "data": {
      "text/plain": [
       "(40, 4)"
      ]
     },
     "execution_count": 26,
     "metadata": {},
     "output_type": "execute_result"
    }
   ],
   "source": [
    "# Check the shape before spliting\n",
    "\n",
    "bike_new_new.shape"
   ]
  },
  {
   "cell_type": "code",
   "execution_count": 27,
   "metadata": {
    "execution": {
     "iopub.execute_input": "2024-01-26T06:27:15.421185Z",
     "iopub.status.busy": "2024-01-26T06:27:15.419973Z",
     "iopub.status.idle": "2024-01-26T06:27:15.423734Z",
     "shell.execute_reply": "2024-01-26T06:27:15.424331Z",
     "shell.execute_reply.started": "2024-01-26T05:54:20.193115Z"
    },
    "papermill": {
     "duration": 0.127957,
     "end_time": "2024-01-26T06:27:15.424514",
     "exception": false,
     "start_time": "2024-01-26T06:27:15.296557",
     "status": "completed"
    },
    "tags": []
   },
   "outputs": [
    {
     "name": "stdout",
     "output_type": "stream",
     "text": [
      "<class 'pandas.core.frame.DataFrame'>\n",
      "RangeIndex: 40 entries, 0 to 39\n",
      "Data columns (total 4 columns):\n",
      " #   Column                Non-Null Count  Dtype  \n",
      "---  ------                --------------  -----  \n",
      " 0   Produktivitas Mangga  40 non-null     float64\n",
      " 1   Max                   40 non-null     float64\n",
      " 2   Min                   40 non-null     float64\n",
      " 3   Tavg                  40 non-null     float64\n",
      "dtypes: float64(4)\n",
      "memory usage: 1.4 KB\n"
     ]
    }
   ],
   "source": [
    "# Check the info before spliting\n",
    "\n",
    "bike_new_new.info()"
   ]
  },
  {
   "cell_type": "code",
   "execution_count": 28,
   "metadata": {
    "execution": {
     "iopub.execute_input": "2024-01-26T06:27:15.653108Z",
     "iopub.status.busy": "2024-01-26T06:27:15.652187Z",
     "iopub.status.idle": "2024-01-26T06:27:15.786327Z",
     "shell.execute_reply": "2024-01-26T06:27:15.785665Z",
     "shell.execute_reply.started": "2024-01-26T05:54:20.207844Z"
    },
    "papermill": {
     "duration": 0.250677,
     "end_time": "2024-01-26T06:27:15.786568",
     "exception": false,
     "start_time": "2024-01-26T06:27:15.535891",
     "status": "completed"
    },
    "tags": []
   },
   "outputs": [],
   "source": [
    "from sklearn.model_selection import train_test_split\n",
    "\n",
    "# We should specify 'random_state' so that the train and test data set always have the same rows, respectively\n",
    "\n",
    "np.random.seed(0)\n",
    "df_train, df_test = train_test_split(bike_new_new, train_size = 0.70, test_size = 0.30, random_state = 333)"
   ]
  },
  {
   "cell_type": "markdown",
   "metadata": {
    "papermill": {
     "duration": 0.11254,
     "end_time": "2024-01-26T06:27:16.013527",
     "exception": false,
     "start_time": "2024-01-26T06:27:15.900987",
     "status": "completed"
    },
    "tags": []
   },
   "source": [
    "\n",
    "- Verify the info and shape of the dataframes after split:"
   ]
  },
  {
   "cell_type": "code",
   "execution_count": 29,
   "metadata": {
    "execution": {
     "iopub.execute_input": "2024-01-26T06:27:16.247799Z",
     "iopub.status.busy": "2024-01-26T06:27:16.246584Z",
     "iopub.status.idle": "2024-01-26T06:27:16.258962Z",
     "shell.execute_reply": "2024-01-26T06:27:16.258039Z",
     "shell.execute_reply.started": "2024-01-26T05:54:20.221432Z"
    },
    "papermill": {
     "duration": 0.134614,
     "end_time": "2024-01-26T06:27:16.259125",
     "exception": false,
     "start_time": "2024-01-26T06:27:16.124511",
     "status": "completed"
    },
    "tags": []
   },
   "outputs": [
    {
     "name": "stdout",
     "output_type": "stream",
     "text": [
      "<class 'pandas.core.frame.DataFrame'>\n",
      "Int64Index: 28 entries, 1 to 12\n",
      "Data columns (total 4 columns):\n",
      " #   Column                Non-Null Count  Dtype  \n",
      "---  ------                --------------  -----  \n",
      " 0   Produktivitas Mangga  28 non-null     float64\n",
      " 1   Max                   28 non-null     float64\n",
      " 2   Min                   28 non-null     float64\n",
      " 3   Tavg                  28 non-null     float64\n",
      "dtypes: float64(4)\n",
      "memory usage: 1.1 KB\n"
     ]
    }
   ],
   "source": [
    "df_train.info()"
   ]
  },
  {
   "cell_type": "code",
   "execution_count": 30,
   "metadata": {
    "execution": {
     "iopub.execute_input": "2024-01-26T06:27:16.520676Z",
     "iopub.status.busy": "2024-01-26T06:27:16.519526Z",
     "iopub.status.idle": "2024-01-26T06:27:16.524752Z",
     "shell.execute_reply": "2024-01-26T06:27:16.524088Z",
     "shell.execute_reply.started": "2024-01-26T05:54:20.239713Z"
    },
    "papermill": {
     "duration": 0.126573,
     "end_time": "2024-01-26T06:27:16.524907",
     "exception": false,
     "start_time": "2024-01-26T06:27:16.398334",
     "status": "completed"
    },
    "tags": []
   },
   "outputs": [
    {
     "data": {
      "text/plain": [
       "(28, 4)"
      ]
     },
     "execution_count": 30,
     "metadata": {},
     "output_type": "execute_result"
    }
   ],
   "source": [
    "df_train.shape"
   ]
  },
  {
   "cell_type": "code",
   "execution_count": 31,
   "metadata": {
    "execution": {
     "iopub.execute_input": "2024-01-26T06:27:16.760123Z",
     "iopub.status.busy": "2024-01-26T06:27:16.759193Z",
     "iopub.status.idle": "2024-01-26T06:27:16.770091Z",
     "shell.execute_reply": "2024-01-26T06:27:16.770783Z",
     "shell.execute_reply.started": "2024-01-26T05:54:20.248948Z"
    },
    "papermill": {
     "duration": 0.129325,
     "end_time": "2024-01-26T06:27:16.770970",
     "exception": false,
     "start_time": "2024-01-26T06:27:16.641645",
     "status": "completed"
    },
    "tags": []
   },
   "outputs": [
    {
     "name": "stdout",
     "output_type": "stream",
     "text": [
      "<class 'pandas.core.frame.DataFrame'>\n",
      "Int64Index: 12 entries, 31 to 0\n",
      "Data columns (total 4 columns):\n",
      " #   Column                Non-Null Count  Dtype  \n",
      "---  ------                --------------  -----  \n",
      " 0   Produktivitas Mangga  12 non-null     float64\n",
      " 1   Max                   12 non-null     float64\n",
      " 2   Min                   12 non-null     float64\n",
      " 3   Tavg                  12 non-null     float64\n",
      "dtypes: float64(4)\n",
      "memory usage: 480.0 bytes\n"
     ]
    }
   ],
   "source": [
    "df_test.info()"
   ]
  },
  {
   "cell_type": "code",
   "execution_count": 32,
   "metadata": {
    "execution": {
     "iopub.execute_input": "2024-01-26T06:27:17.012652Z",
     "iopub.status.busy": "2024-01-26T06:27:17.011624Z",
     "iopub.status.idle": "2024-01-26T06:27:17.016947Z",
     "shell.execute_reply": "2024-01-26T06:27:17.016142Z",
     "shell.execute_reply.started": "2024-01-26T05:54:20.265968Z"
    },
    "papermill": {
     "duration": 0.128677,
     "end_time": "2024-01-26T06:27:17.017095",
     "exception": false,
     "start_time": "2024-01-26T06:27:16.888418",
     "status": "completed"
    },
    "tags": []
   },
   "outputs": [
    {
     "data": {
      "text/plain": [
       "(12, 4)"
      ]
     },
     "execution_count": 32,
     "metadata": {},
     "output_type": "execute_result"
    }
   ],
   "source": [
    "df_test.shape"
   ]
  },
  {
   "cell_type": "markdown",
   "metadata": {
    "papermill": {
     "duration": 0.113271,
     "end_time": "2024-01-26T06:27:17.249799",
     "exception": false,
     "start_time": "2024-01-26T06:27:17.136528",
     "status": "completed"
    },
    "tags": []
   },
   "source": [
    "# EXPLORATORY DATA ANALYSIS"
   ]
  },
  {
   "cell_type": "markdown",
   "metadata": {
    "papermill": {
     "duration": 0.113175,
     "end_time": "2024-01-26T06:27:17.478290",
     "exception": false,
     "start_time": "2024-01-26T06:27:17.365115",
     "status": "completed"
    },
    "tags": []
   },
   "source": [
    "\n",
    "- We need to  perform the EDA on TRAINING (df_train) Dataset."
   ]
  },
  {
   "cell_type": "markdown",
   "metadata": {
    "papermill": {
     "duration": 0.113656,
     "end_time": "2024-01-26T06:27:17.705735",
     "exception": false,
     "start_time": "2024-01-26T06:27:17.592079",
     "status": "completed"
    },
    "tags": []
   },
   "source": [
    "## Visualising Numeric Variables\n",
    "Let's make a pairplot of all the numeric variables."
   ]
  },
  {
   "cell_type": "code",
   "execution_count": 33,
   "metadata": {
    "execution": {
     "iopub.execute_input": "2024-01-26T06:27:17.959142Z",
     "iopub.status.busy": "2024-01-26T06:27:17.957913Z",
     "iopub.status.idle": "2024-01-26T06:27:17.963360Z",
     "shell.execute_reply": "2024-01-26T06:27:17.962189Z",
     "shell.execute_reply.started": "2024-01-26T05:54:20.281076Z"
    },
    "papermill": {
     "duration": 0.143468,
     "end_time": "2024-01-26T06:27:17.963589",
     "exception": false,
     "start_time": "2024-01-26T06:27:17.820121",
     "status": "completed"
    },
    "tags": []
   },
   "outputs": [
    {
     "name": "stdout",
     "output_type": "stream",
     "text": [
      "<class 'pandas.core.frame.DataFrame'>\n",
      "Int64Index: 28 entries, 1 to 12\n",
      "Data columns (total 4 columns):\n",
      " #   Column                Non-Null Count  Dtype  \n",
      "---  ------                --------------  -----  \n",
      " 0   Produktivitas Mangga  28 non-null     float64\n",
      " 1   Max                   28 non-null     float64\n",
      " 2   Min                   28 non-null     float64\n",
      " 3   Tavg                  28 non-null     float64\n",
      "dtypes: float64(4)\n",
      "memory usage: 1.1 KB\n"
     ]
    }
   ],
   "source": [
    "df_train.info()"
   ]
  },
  {
   "cell_type": "code",
   "execution_count": 34,
   "metadata": {
    "execution": {
     "iopub.execute_input": "2024-01-26T06:27:18.216968Z",
     "iopub.status.busy": "2024-01-26T06:27:18.216106Z",
     "iopub.status.idle": "2024-01-26T06:27:18.225275Z",
     "shell.execute_reply": "2024-01-26T06:27:18.224578Z",
     "shell.execute_reply.started": "2024-01-26T05:54:20.299678Z"
    },
    "papermill": {
     "duration": 0.135123,
     "end_time": "2024-01-26T06:27:18.225445",
     "exception": false,
     "start_time": "2024-01-26T06:27:18.090322",
     "status": "completed"
    },
    "tags": []
   },
   "outputs": [
    {
     "data": {
      "text/plain": [
       "Index(['Produktivitas Mangga', 'Max', 'Min', 'Tavg'], dtype='object')"
      ]
     },
     "execution_count": 34,
     "metadata": {},
     "output_type": "execute_result"
    }
   ],
   "source": [
    "df_train.columns"
   ]
  },
  {
   "cell_type": "code",
   "execution_count": 35,
   "metadata": {
    "execution": {
     "iopub.execute_input": "2024-01-26T06:27:18.477374Z",
     "iopub.status.busy": "2024-01-26T06:27:18.476535Z",
     "iopub.status.idle": "2024-01-26T06:27:23.401230Z",
     "shell.execute_reply": "2024-01-26T06:27:23.400434Z",
     "shell.execute_reply.started": "2024-01-26T05:54:20.310189Z"
    },
    "papermill": {
     "duration": 5.05613,
     "end_time": "2024-01-26T06:27:23.401376",
     "exception": false,
     "start_time": "2024-01-26T06:27:18.345246",
     "status": "completed"
    },
    "tags": []
   },
   "outputs": [
    {
     "data": {
      "image/png": "[encoded data removed]",
      "text/plain": [
       "<Figure size 720x720 with 20 Axes>"
      ]
     },
     "metadata": {
      "needs_background": "light"
     },
     "output_type": "display_data"
    }
   ],
   "source": [
    "# Create a new dataframe of only numeric variables:\n",
    "\n",
    "bike_num=df_train[['Produktivitas Mangga', 'Max', 'Min', 'Tavg']]\n",
    "\n",
    "sns.pairplot(bike_num, diag_kind='kde')\n",
    "plt.show()"
   ]
  },
  {
   "cell_type": "markdown",
   "metadata": {
    "papermill": {
     "duration": 0.117001,
     "end_time": "2024-01-26T06:27:23.636298",
     "exception": false,
     "start_time": "2024-01-26T06:27:23.519297",
     "status": "completed"
    },
    "tags": []
   },
   "source": [
    "### Insights\n",
    "- The above Pair-Plot tells us that there is a LINEAR RELATION between 'temp','atemp' and 'cnt' "
   ]
  },
  {
   "cell_type": "markdown",
   "metadata": {
    "papermill": {
     "duration": 0.123038,
     "end_time": "2024-01-26T06:27:23.876885",
     "exception": false,
     "start_time": "2024-01-26T06:27:23.753847",
     "status": "completed"
    },
    "tags": []
   },
   "source": [
    "## Visualising Catagorical Variables"
   ]
  },
  {
   "cell_type": "code",
   "execution_count": 36,
   "metadata": {
    "execution": {
     "iopub.execute_input": "2024-01-26T06:27:24.126939Z",
     "iopub.status.busy": "2024-01-26T06:27:24.125975Z",
     "iopub.status.idle": "2024-01-26T06:27:24.129722Z",
     "shell.execute_reply": "2024-01-26T06:27:24.130338Z",
     "shell.execute_reply.started": "2024-01-26T05:54:25.095435Z"
    },
    "papermill": {
     "duration": 0.132148,
     "end_time": "2024-01-26T06:27:24.130560",
     "exception": false,
     "start_time": "2024-01-26T06:27:23.998412",
     "status": "completed"
    },
    "tags": []
   },
   "outputs": [
    {
     "name": "stdout",
     "output_type": "stream",
     "text": [
      "<class 'pandas.core.frame.DataFrame'>\n",
      "Int64Index: 28 entries, 1 to 12\n",
      "Data columns (total 4 columns):\n",
      " #   Column                Non-Null Count  Dtype  \n",
      "---  ------                --------------  -----  \n",
      " 0   Produktivitas Mangga  28 non-null     float64\n",
      " 1   Max                   28 non-null     float64\n",
      " 2   Min                   28 non-null     float64\n",
      " 3   Tavg                  28 non-null     float64\n",
      "dtypes: float64(4)\n",
      "memory usage: 2.3 KB\n"
     ]
    }
   ],
   "source": [
    "df_train.info()"
   ]
  },
  {
   "cell_type": "code",
   "execution_count": 37,
   "metadata": {
    "execution": {
     "iopub.execute_input": "2024-01-26T06:27:24.385697Z",
     "iopub.status.busy": "2024-01-26T06:27:24.384883Z",
     "iopub.status.idle": "2024-01-26T06:27:24.902034Z",
     "shell.execute_reply": "2024-01-26T06:27:24.902713Z",
     "shell.execute_reply.started": "2024-01-26T05:54:25.109204Z"
    },
    "papermill": {
     "duration": 0.651917,
     "end_time": "2024-01-26T06:27:24.902898",
     "exception": false,
     "start_time": "2024-01-26T06:27:24.250981",
     "status": "completed"
    },
    "tags": []
   },
   "outputs": [
    {
     "data": {
      "image/png": "[encoded data removed]",
      "text/plain": [
       "<Figure size 1800x720 with 2 Axes>"
      ]
     },
     "metadata": {
      "needs_background": "light"
     },
     "output_type": "display_data"
    }
   ],
   "source": [
    "# Build boxplot of all categorical variables (before creating dummies) againt the target variable 'cnt' \n",
    "# to see how each of the predictor variable stackup against the target variable.\n",
    "\n",
    "plt.figure(figsize=(25, 10))\n",
    "plt.subplot(2,3,1)\n",
    "sns.boxplot(x = 'Year', y = 'Produktivitas Mangga', data = bike)\n",
    "plt.subplot(2,3,2)\n",
    "sns.boxplot(x = 'Periode', y = 'Produktivitas Mangga', data = bike)\n",
    "plt.show()"
   ]
  },
  {
   "cell_type": "markdown",
   "metadata": {
    "papermill": {
     "duration": 0.125927,
     "end_time": "2024-01-26T06:27:25.165164",
     "exception": false,
     "start_time": "2024-01-26T06:27:25.039237",
     "status": "completed"
    },
    "tags": []
   },
   "source": [
    "## Correlation Matrix"
   ]
  },
  {
   "cell_type": "code",
   "execution_count": 38,
   "metadata": {
    "execution": {
     "iopub.execute_input": "2024-01-26T06:27:25.413598Z",
     "iopub.status.busy": "2024-01-26T06:27:25.412731Z",
     "iopub.status.idle": "2024-01-26T06:27:25.797171Z",
     "shell.execute_reply": "2024-01-26T06:27:25.796462Z",
     "shell.execute_reply.started": "2024-01-26T05:54:25.636947Z"
    },
    "papermill": {
     "duration": 0.508745,
     "end_time": "2024-01-26T06:27:25.797311",
     "exception": false,
     "start_time": "2024-01-26T06:27:25.288566",
     "status": "completed"
    },
    "tags": []
   },
   "outputs": [
    {
     "data": {
      "image/png": "[encoded data removed]",
      "text/plain": [
       "<Figure size 1800x1440 with 2 Axes>"
      ]
     },
     "metadata": {
      "needs_background": "light"
     },
     "output_type": "display_data"
    }
   ],
   "source": [
    "# Let's check the correlation coefficients to see which variables are highly correlated. Note:\n",
    "# here we are considering only those variables (dataframe: bike_new) that were chosen for analysis\n",
    "\n",
    "plt.figure(figsize = (25,20))\n",
    "sns.heatmap(bike_new_new.corr(), annot = True, cmap=\"RdBu\")\n",
    "plt.show()"
   ]
  },
  {
   "cell_type": "markdown",
   "metadata": {
    "papermill": {
     "duration": 0.122107,
     "end_time": "2024-01-26T06:27:26.044655",
     "exception": false,
     "start_time": "2024-01-26T06:27:25.922548",
     "status": "completed"
    },
    "tags": []
   },
   "source": [
    "### Insights:\n",
    " - The heatmap clearly shows which all variable are multicollinear in nature, and which variable have high collinearity with the target variable.\n",
    " - We will refer this map back-and-forth while building the linear model so as to validate different correlated values along with VIF & p-value, for identifying the correct variable to select/eliminate from the model."
   ]
  },
  {
   "cell_type": "markdown",
   "metadata": {
    "papermill": {
     "duration": 0.130499,
     "end_time": "2024-01-26T06:27:26.296446",
     "exception": false,
     "start_time": "2024-01-26T06:27:26.165947",
     "status": "completed"
    },
    "tags": []
   },
   "source": [
    "# RESCALING THE FEATURES"
   ]
  },
  {
   "cell_type": "code",
   "execution_count": 39,
   "metadata": {
    "execution": {
     "iopub.execute_input": "2024-01-26T06:27:26.559567Z",
     "iopub.status.busy": "2024-01-26T06:27:26.557101Z",
     "iopub.status.idle": "2024-01-26T06:27:26.562689Z",
     "shell.execute_reply": "2024-01-26T06:27:26.563556Z",
     "shell.execute_reply.started": "2024-01-26T05:54:26.006550Z"
    },
    "papermill": {
     "duration": 0.130027,
     "end_time": "2024-01-26T06:27:26.563746",
     "exception": false,
     "start_time": "2024-01-26T06:27:26.433719",
     "status": "completed"
    },
    "tags": []
   },
   "outputs": [],
   "source": [
    "from sklearn.preprocessing import MinMaxScaler"
   ]
  },
  {
   "cell_type": "code",
   "execution_count": 40,
   "metadata": {
    "execution": {
     "iopub.execute_input": "2024-01-26T06:27:26.816972Z",
     "iopub.status.busy": "2024-01-26T06:27:26.816081Z",
     "iopub.status.idle": "2024-01-26T06:27:26.820898Z",
     "shell.execute_reply": "2024-01-26T06:27:26.821509Z",
     "shell.execute_reply.started": "2024-01-26T05:54:26.013760Z"
    },
    "papermill": {
     "duration": 0.134755,
     "end_time": "2024-01-26T06:27:26.821697",
     "exception": false,
     "start_time": "2024-01-26T06:27:26.686942",
     "status": "completed"
    },
    "tags": []
   },
   "outputs": [],
   "source": [
    "scaler = MinMaxScaler()"
   ]
  },
  {
   "cell_type": "code",
   "execution_count": 41,
   "metadata": {
    "execution": {
     "iopub.execute_input": "2024-01-26T06:27:27.072767Z",
     "iopub.status.busy": "2024-01-26T06:27:27.071552Z",
     "iopub.status.idle": "2024-01-26T06:27:27.085772Z",
     "shell.execute_reply": "2024-01-26T06:27:27.086329Z",
     "shell.execute_reply.started": "2024-01-26T05:54:26.025236Z"
    },
    "papermill": {
     "duration": 0.142676,
     "end_time": "2024-01-26T06:27:27.086523",
     "exception": false,
     "start_time": "2024-01-26T06:27:26.943847",
     "status": "completed"
    },
    "scrolled": true,
    "tags": []
   },
   "outputs": [
    {
     "data": {
      "text/html": [
       "<div>\n",
       "<style scoped>\n",
       "    .dataframe tbody tr th:only-of-type {\n",
       "        vertical-align: middle;\n",
       "    }\n",
       "\n",
       "    .dataframe tbody tr th {\n",
       "        vertical-align: top;\n",
       "    }\n",
       "\n",
       "    .dataframe thead th {\n",
       "        text-align: right;\n",
       "    }\n",
       "</style>\n",
       "<table border=\"1\" class=\"dataframe\">\n",
       "  <thead>\n",
       "    <tr style=\"text-align: right;\">\n",
       "      <th></th>\n",
       "      <th>Produktivitas Mangga</th>\n",
       "      <th>Max</th>\n",
       "      <th>Min</th>\n",
       "      <th>Tavg</th>\n",
       "    </tr>\n",
       "  </thead>\n",
       "  <tbody>\n",
       "    <tr>\n",
       "      <th>1</th>\n",
       "      <td>0.00</td>\n",
       "      <td>28.0</td>\n",
       "      <td>24.0</td>\n",
       "      <td>26.00</td>\n",
       "    </tr>\n",
       "    <tr>\n",
       "      <th>14</th>\n",
       "      <td>0.56</td>\n",
       "      <td>29.0</td>\n",
       "      <td>24.0</td>\n",
       "      <td>26.00</td>\n",
       "    </tr>\n",
       "    <tr>\n",
       "      <th>36</th>\n",
       "      <td>0.26</td>\n",
       "      <td>28.0</td>\n",
       "      <td>24.0</td>\n",
       "      <td>25.67</td>\n",
       "    </tr>\n",
       "    <tr>\n",
       "      <th>11</th>\n",
       "      <td>0.53</td>\n",
       "      <td>30.0</td>\n",
       "      <td>24.0</td>\n",
       "      <td>27.00</td>\n",
       "    </tr>\n",
       "    <tr>\n",
       "      <th>18</th>\n",
       "      <td>0.54</td>\n",
       "      <td>30.0</td>\n",
       "      <td>25.0</td>\n",
       "      <td>27.33</td>\n",
       "    </tr>\n",
       "  </tbody>\n",
       "</table>\n",
       "</div>"
      ],
      "text/plain": [
       "    Produktivitas Mangga   Max   Min   Tavg\n",
       "1                   0.00  28.0  24.0  26.00\n",
       "14                  0.56  29.0  24.0  26.00\n",
       "36                  0.26  28.0  24.0  25.67\n",
       "11                  0.53  30.0  24.0  27.00\n",
       "18                  0.54  30.0  25.0  27.33"
      ]
     },
     "execution_count": 41,
     "metadata": {},
     "output_type": "execute_result"
    }
   ],
   "source": [
    "# Checking the values before scaling\n",
    "df_train.head()"
   ]
  },
  {
   "cell_type": "code",
   "execution_count": 42,
   "metadata": {
    "execution": {
     "iopub.execute_input": "2024-01-26T06:27:27.335277Z",
     "iopub.status.busy": "2024-01-26T06:27:27.334140Z",
     "iopub.status.idle": "2024-01-26T06:27:27.341267Z",
     "shell.execute_reply": "2024-01-26T06:27:27.342436Z",
     "shell.execute_reply.started": "2024-01-26T05:54:26.051124Z"
    },
    "papermill": {
     "duration": 0.135118,
     "end_time": "2024-01-26T06:27:27.342719",
     "exception": false,
     "start_time": "2024-01-26T06:27:27.207601",
     "status": "completed"
    },
    "tags": []
   },
   "outputs": [
    {
     "data": {
      "text/plain": [
       "Index(['Produktivitas Mangga', 'Max', 'Min', 'Tavg'], dtype='object')"
      ]
     },
     "execution_count": 42,
     "metadata": {},
     "output_type": "execute_result"
    }
   ],
   "source": [
    "df_train.columns"
   ]
  },
  {
   "cell_type": "code",
   "execution_count": 43,
   "metadata": {
    "execution": {
     "iopub.execute_input": "2024-01-26T06:27:27.600001Z",
     "iopub.status.busy": "2024-01-26T06:27:27.598813Z",
     "iopub.status.idle": "2024-01-26T06:27:27.611799Z",
     "shell.execute_reply": "2024-01-26T06:27:27.612380Z",
     "shell.execute_reply.started": "2024-01-26T05:54:26.060500Z"
    },
    "papermill": {
     "duration": 0.143182,
     "end_time": "2024-01-26T06:27:27.612594",
     "exception": false,
     "start_time": "2024-01-26T06:27:27.469412",
     "status": "completed"
    },
    "tags": []
   },
   "outputs": [],
   "source": [
    "# Apply scaler() to all the numeric variables\n",
    "\n",
    "num_vars = ['Produktivitas Mangga', 'Min', 'Max', 'Tavg']\n",
    "\n",
    "df_train[num_vars] = scaler.fit_transform(df_train[num_vars])"
   ]
  },
  {
   "cell_type": "code",
   "execution_count": 44,
   "metadata": {
    "execution": {
     "iopub.execute_input": "2024-01-26T06:27:27.877805Z",
     "iopub.status.busy": "2024-01-26T06:27:27.876716Z",
     "iopub.status.idle": "2024-01-26T06:27:27.892568Z",
     "shell.execute_reply": "2024-01-26T06:27:27.891728Z",
     "shell.execute_reply.started": "2024-01-26T05:54:26.078563Z"
    },
    "papermill": {
     "duration": 0.143373,
     "end_time": "2024-01-26T06:27:27.892710",
     "exception": false,
     "start_time": "2024-01-26T06:27:27.749337",
     "status": "completed"
    },
    "tags": []
   },
   "outputs": [
    {
     "data": {
      "text/html": [
       "<div>\n",
       "<style scoped>\n",
       "    .dataframe tbody tr th:only-of-type {\n",
       "        vertical-align: middle;\n",
       "    }\n",
       "\n",
       "    .dataframe tbody tr th {\n",
       "        vertical-align: top;\n",
       "    }\n",
       "\n",
       "    .dataframe thead th {\n",
       "        text-align: right;\n",
       "    }\n",
       "</style>\n",
       "<table border=\"1\" class=\"dataframe\">\n",
       "  <thead>\n",
       "    <tr style=\"text-align: right;\">\n",
       "      <th></th>\n",
       "      <th>Produktivitas Mangga</th>\n",
       "      <th>Max</th>\n",
       "      <th>Min</th>\n",
       "      <th>Tavg</th>\n",
       "    </tr>\n",
       "  </thead>\n",
       "  <tbody>\n",
       "    <tr>\n",
       "      <th>1</th>\n",
       "      <td>0.000000</td>\n",
       "      <td>0.000000</td>\n",
       "      <td>0.333333</td>\n",
       "      <td>0.333333</td>\n",
       "    </tr>\n",
       "    <tr>\n",
       "      <th>14</th>\n",
       "      <td>0.823529</td>\n",
       "      <td>0.333333</td>\n",
       "      <td>0.333333</td>\n",
       "      <td>0.333333</td>\n",
       "    </tr>\n",
       "    <tr>\n",
       "      <th>36</th>\n",
       "      <td>0.382353</td>\n",
       "      <td>0.000000</td>\n",
       "      <td>0.333333</td>\n",
       "      <td>0.223333</td>\n",
       "    </tr>\n",
       "    <tr>\n",
       "      <th>11</th>\n",
       "      <td>0.779412</td>\n",
       "      <td>0.666667</td>\n",
       "      <td>0.333333</td>\n",
       "      <td>0.666667</td>\n",
       "    </tr>\n",
       "    <tr>\n",
       "      <th>18</th>\n",
       "      <td>0.794118</td>\n",
       "      <td>0.666667</td>\n",
       "      <td>0.666667</td>\n",
       "      <td>0.776667</td>\n",
       "    </tr>\n",
       "  </tbody>\n",
       "</table>\n",
       "</div>"
      ],
      "text/plain": [
       "    Produktivitas Mangga       Max       Min      Tavg\n",
       "1               0.000000  0.000000  0.333333  0.333333\n",
       "14              0.823529  0.333333  0.333333  0.333333\n",
       "36              0.382353  0.000000  0.333333  0.223333\n",
       "11              0.779412  0.666667  0.333333  0.666667\n",
       "18              0.794118  0.666667  0.666667  0.776667"
      ]
     },
     "execution_count": 44,
     "metadata": {},
     "output_type": "execute_result"
    }
   ],
   "source": [
    "# Checking values after scaling\n",
    "df_train.head()"
   ]
  },
  {
   "cell_type": "code",
   "execution_count": 45,
   "metadata": {
    "execution": {
     "iopub.execute_input": "2024-01-26T06:27:28.150947Z",
     "iopub.status.busy": "2024-01-26T06:27:28.149767Z",
     "iopub.status.idle": "2024-01-26T06:27:28.173729Z",
     "shell.execute_reply": "2024-01-26T06:27:28.174416Z",
     "shell.execute_reply.started": "2024-01-26T05:54:26.095303Z"
    },
    "papermill": {
     "duration": 0.156169,
     "end_time": "2024-01-26T06:27:28.174612",
     "exception": false,
     "start_time": "2024-01-26T06:27:28.018443",
     "status": "completed"
    },
    "tags": []
   },
   "outputs": [
    {
     "data": {
      "text/html": [
       "<div>\n",
       "<style scoped>\n",
       "    .dataframe tbody tr th:only-of-type {\n",
       "        vertical-align: middle;\n",
       "    }\n",
       "\n",
       "    .dataframe tbody tr th {\n",
       "        vertical-align: top;\n",
       "    }\n",
       "\n",
       "    .dataframe thead th {\n",
       "        text-align: right;\n",
       "    }\n",
       "</style>\n",
       "<table border=\"1\" class=\"dataframe\">\n",
       "  <thead>\n",
       "    <tr style=\"text-align: right;\">\n",
       "      <th></th>\n",
       "      <th>Produktivitas Mangga</th>\n",
       "      <th>Max</th>\n",
       "      <th>Min</th>\n",
       "      <th>Tavg</th>\n",
       "    </tr>\n",
       "  </thead>\n",
       "  <tbody>\n",
       "    <tr>\n",
       "      <th>count</th>\n",
       "      <td>28.000000</td>\n",
       "      <td>28.000000</td>\n",
       "      <td>28.000000</td>\n",
       "      <td>28.000000</td>\n",
       "    </tr>\n",
       "    <tr>\n",
       "      <th>mean</th>\n",
       "      <td>0.526786</td>\n",
       "      <td>0.404762</td>\n",
       "      <td>0.559524</td>\n",
       "      <td>0.547738</td>\n",
       "    </tr>\n",
       "    <tr>\n",
       "      <th>std</th>\n",
       "      <td>0.376528</td>\n",
       "      <td>0.277513</td>\n",
       "      <td>0.287655</td>\n",
       "      <td>0.290092</td>\n",
       "    </tr>\n",
       "    <tr>\n",
       "      <th>min</th>\n",
       "      <td>0.000000</td>\n",
       "      <td>0.000000</td>\n",
       "      <td>0.000000</td>\n",
       "      <td>0.000000</td>\n",
       "    </tr>\n",
       "    <tr>\n",
       "      <th>25%</th>\n",
       "      <td>0.000000</td>\n",
       "      <td>0.333333</td>\n",
       "      <td>0.333333</td>\n",
       "      <td>0.333333</td>\n",
       "    </tr>\n",
       "    <tr>\n",
       "      <th>50%</th>\n",
       "      <td>0.691176</td>\n",
       "      <td>0.333333</td>\n",
       "      <td>0.666667</td>\n",
       "      <td>0.556667</td>\n",
       "    </tr>\n",
       "    <tr>\n",
       "      <th>75%</th>\n",
       "      <td>0.801471</td>\n",
       "      <td>0.666667</td>\n",
       "      <td>0.666667</td>\n",
       "      <td>0.776667</td>\n",
       "    </tr>\n",
       "    <tr>\n",
       "      <th>max</th>\n",
       "      <td>1.000000</td>\n",
       "      <td>1.000000</td>\n",
       "      <td>1.000000</td>\n",
       "      <td>1.000000</td>\n",
       "    </tr>\n",
       "  </tbody>\n",
       "</table>\n",
       "</div>"
      ],
      "text/plain": [
       "       Produktivitas Mangga        Max        Min       Tavg\n",
       "count             28.000000  28.000000  28.000000  28.000000\n",
       "mean               0.526786   0.404762   0.559524   0.547738\n",
       "std                0.376528   0.277513   0.287655   0.290092\n",
       "min                0.000000   0.000000   0.000000   0.000000\n",
       "25%                0.000000   0.333333   0.333333   0.333333\n",
       "50%                0.691176   0.333333   0.666667   0.556667\n",
       "75%                0.801471   0.666667   0.666667   0.776667\n",
       "max                1.000000   1.000000   1.000000   1.000000"
      ]
     },
     "execution_count": 45,
     "metadata": {},
     "output_type": "execute_result"
    }
   ],
   "source": [
    "df_train.describe()"
   ]
  },
  {
   "cell_type": "markdown",
   "metadata": {
    "papermill": {
     "duration": 0.123483,
     "end_time": "2024-01-26T06:27:28.421363",
     "exception": false,
     "start_time": "2024-01-26T06:27:28.297880",
     "status": "completed"
    },
    "tags": []
   },
   "source": [
    "# BUILDING A LINEAR MODEL"
   ]
  },
  {
   "cell_type": "markdown",
   "metadata": {
    "papermill": {
     "duration": 0.123633,
     "end_time": "2024-01-26T06:27:28.667121",
     "exception": false,
     "start_time": "2024-01-26T06:27:28.543488",
     "status": "completed"
    },
    "tags": []
   },
   "source": [
    "## Dividing into X and Y sets for the model building"
   ]
  },
  {
   "cell_type": "code",
   "execution_count": 46,
   "metadata": {
    "execution": {
     "iopub.execute_input": "2024-01-26T06:27:28.918388Z",
     "iopub.status.busy": "2024-01-26T06:27:28.917606Z",
     "iopub.status.idle": "2024-01-26T06:27:28.923736Z",
     "shell.execute_reply": "2024-01-26T06:27:28.924377Z",
     "shell.execute_reply.started": "2024-01-26T05:54:26.124525Z"
    },
    "papermill": {
     "duration": 0.133865,
     "end_time": "2024-01-26T06:27:28.924559",
     "exception": false,
     "start_time": "2024-01-26T06:27:28.790694",
     "status": "completed"
    },
    "tags": []
   },
   "outputs": [],
   "source": [
    "y_train = df_train.pop('Produktivitas Mangga')\n",
    "X_train = df_train"
   ]
  },
  {
   "cell_type": "markdown",
   "metadata": {
    "papermill": {
     "duration": 0.122294,
     "end_time": "2024-01-26T06:27:29.171977",
     "exception": false,
     "start_time": "2024-01-26T06:27:29.049683",
     "status": "completed"
    },
    "tags": []
   },
   "source": [
    "### RFE\n",
    "Recursive feature elimination: We will be using the **LinearRegression function from SciKit Learn**  for its compatibility with RFE (which is a utility from sklearn)"
   ]
  },
  {
   "cell_type": "code",
   "execution_count": 47,
   "metadata": {
    "execution": {
     "iopub.execute_input": "2024-01-26T06:27:29.429254Z",
     "iopub.status.busy": "2024-01-26T06:27:29.428493Z",
     "iopub.status.idle": "2024-01-26T06:27:29.623635Z",
     "shell.execute_reply": "2024-01-26T06:27:29.622785Z",
     "shell.execute_reply.started": "2024-01-26T05:54:26.131853Z"
    },
    "papermill": {
     "duration": 0.328165,
     "end_time": "2024-01-26T06:27:29.623778",
     "exception": false,
     "start_time": "2024-01-26T06:27:29.295613",
     "status": "completed"
    },
    "tags": []
   },
   "outputs": [],
   "source": [
    "# Importing RFE and LinearRegression\n",
    "from sklearn.feature_selection import RFE\n",
    "from sklearn.linear_model import LinearRegression"
   ]
  },
  {
   "cell_type": "code",
   "execution_count": 48,
   "metadata": {
    "execution": {
     "iopub.execute_input": "2024-01-26T06:27:29.888406Z",
     "iopub.status.busy": "2024-01-26T06:27:29.887566Z",
     "iopub.status.idle": "2024-01-26T06:27:29.917234Z",
     "shell.execute_reply": "2024-01-26T06:27:29.916546Z",
     "shell.execute_reply.started": "2024-01-26T05:54:26.144271Z"
    },
    "papermill": {
     "duration": 0.170747,
     "end_time": "2024-01-26T06:27:29.917371",
     "exception": false,
     "start_time": "2024-01-26T06:27:29.746624",
     "status": "completed"
    },
    "tags": []
   },
   "outputs": [],
   "source": [
    "# Running RFE with the output number of the variable equal to 15\n",
    "lm = LinearRegression()\n",
    "lm.fit(X_train, y_train)\n",
    "\n",
    "rfe = RFE(lm, 15)             # running RFE\n",
    "rfe = rfe.fit(X_train, y_train)"
   ]
  },
  {
   "cell_type": "code",
   "execution_count": 49,
   "metadata": {
    "execution": {
     "iopub.execute_input": "2024-01-26T06:27:30.172851Z",
     "iopub.status.busy": "2024-01-26T06:27:30.171909Z",
     "iopub.status.idle": "2024-01-26T06:27:30.175632Z",
     "shell.execute_reply": "2024-01-26T06:27:30.176174Z",
     "shell.execute_reply.started": "2024-01-26T05:54:26.162029Z"
    },
    "papermill": {
     "duration": 0.133125,
     "end_time": "2024-01-26T06:27:30.176375",
     "exception": false,
     "start_time": "2024-01-26T06:27:30.043250",
     "status": "completed"
    },
    "tags": []
   },
   "outputs": [
    {
     "data": {
      "text/plain": [
       "[('Max', True, 1), ('Min', True, 1), ('Tavg', True, 1)]"
      ]
     },
     "execution_count": 49,
     "metadata": {},
     "output_type": "execute_result"
    }
   ],
   "source": [
    "list(zip(X_train.columns,rfe.support_,rfe.ranking_))"
   ]
  },
  {
   "cell_type": "code",
   "execution_count": 50,
   "metadata": {
    "execution": {
     "iopub.execute_input": "2024-01-26T06:27:30.428411Z",
     "iopub.status.busy": "2024-01-26T06:27:30.427268Z",
     "iopub.status.idle": "2024-01-26T06:27:30.434495Z",
     "shell.execute_reply": "2024-01-26T06:27:30.435193Z",
     "shell.execute_reply.started": "2024-01-26T05:54:26.386906Z"
    },
    "papermill": {
     "duration": 0.136421,
     "end_time": "2024-01-26T06:27:30.435370",
     "exception": false,
     "start_time": "2024-01-26T06:27:30.298949",
     "status": "completed"
    },
    "tags": []
   },
   "outputs": [
    {
     "data": {
      "text/plain": [
       "Index(['Max', 'Min', 'Tavg'], dtype='object')"
      ]
     },
     "execution_count": 50,
     "metadata": {},
     "output_type": "execute_result"
    }
   ],
   "source": [
    "col = X_train.columns[rfe.support_]\n",
    "col"
   ]
  },
  {
   "cell_type": "code",
   "execution_count": 51,
   "metadata": {
    "execution": {
     "iopub.execute_input": "2024-01-26T06:27:30.689811Z",
     "iopub.status.busy": "2024-01-26T06:27:30.688631Z",
     "iopub.status.idle": "2024-01-26T06:27:30.695945Z",
     "shell.execute_reply": "2024-01-26T06:27:30.696610Z",
     "shell.execute_reply.started": "2024-01-26T05:54:26.401653Z"
    },
    "papermill": {
     "duration": 0.134886,
     "end_time": "2024-01-26T06:27:30.696782",
     "exception": false,
     "start_time": "2024-01-26T06:27:30.561896",
     "status": "completed"
    },
    "tags": []
   },
   "outputs": [
    {
     "data": {
      "text/plain": [
       "Index([], dtype='object')"
      ]
     },
     "execution_count": 51,
     "metadata": {},
     "output_type": "execute_result"
    }
   ],
   "source": [
    "X_train.columns[~rfe.support_]"
   ]
  },
  {
   "cell_type": "code",
   "execution_count": 52,
   "metadata": {
    "execution": {
     "iopub.execute_input": "2024-01-26T06:27:30.952070Z",
     "iopub.status.busy": "2024-01-26T06:27:30.950959Z",
     "iopub.status.idle": "2024-01-26T06:27:30.958117Z",
     "shell.execute_reply": "2024-01-26T06:27:30.957423Z",
     "shell.execute_reply.started": "2024-01-26T05:54:26.416653Z"
    },
    "papermill": {
     "duration": 0.136046,
     "end_time": "2024-01-26T06:27:30.958255",
     "exception": false,
     "start_time": "2024-01-26T06:27:30.822209",
     "status": "completed"
    },
    "tags": []
   },
   "outputs": [],
   "source": [
    "# Creating X_test dataframe with RFE selected variables\n",
    "X_train_rfe = X_train[col]"
   ]
  },
  {
   "cell_type": "code",
   "execution_count": 53,
   "metadata": {
    "execution": {
     "iopub.execute_input": "2024-01-26T06:27:31.216406Z",
     "iopub.status.busy": "2024-01-26T06:27:31.215618Z",
     "iopub.status.idle": "2024-01-26T06:27:31.218034Z",
     "shell.execute_reply": "2024-01-26T06:27:31.218662Z",
     "shell.execute_reply.started": "2024-01-26T05:54:26.429041Z"
    },
    "papermill": {
     "duration": 0.134001,
     "end_time": "2024-01-26T06:27:31.219041",
     "exception": false,
     "start_time": "2024-01-26T06:27:31.085040",
     "status": "completed"
    },
    "tags": []
   },
   "outputs": [],
   "source": [
    "from scipy import stats\n",
    "import matplotlib.pyplot as plt"
   ]
  },
  {
   "cell_type": "code",
   "execution_count": 54,
   "metadata": {
    "execution": {
     "iopub.execute_input": "2024-01-26T06:27:31.474527Z",
     "iopub.status.busy": "2024-01-26T06:27:31.473697Z",
     "iopub.status.idle": "2024-01-26T06:27:31.481392Z",
     "shell.execute_reply": "2024-01-26T06:27:31.482400Z",
     "shell.execute_reply.started": "2024-01-26T05:54:26.441696Z"
    },
    "papermill": {
     "duration": 0.138105,
     "end_time": "2024-01-26T06:27:31.482628",
     "exception": false,
     "start_time": "2024-01-26T06:27:31.344523",
     "status": "completed"
    },
    "tags": []
   },
   "outputs": [
    {
     "name": "stdout",
     "output_type": "stream",
     "text": [
      "Shapiro-Wilk test statistic: 0.9167323708534241\n",
      "Shapiro-Wilk test p-value: 4.463293953449465e-05\n"
     ]
    }
   ],
   "source": [
    "statistic, pvalue = stats.shapiro(X_train_rfe)\n",
    "\n",
    "print(\"Shapiro-Wilk test statistic:\", statistic)\n",
    "print(\"Shapiro-Wilk test p-value:\", pvalue)"
   ]
  },
  {
   "cell_type": "markdown",
   "metadata": {
    "papermill": {
     "duration": 0.123837,
     "end_time": "2024-01-26T06:27:31.734226",
     "exception": false,
     "start_time": "2024-01-26T06:27:31.610389",
     "status": "completed"
    },
    "tags": []
   },
   "source": [
    "# Building Linear Model using 'STATS MODEL'"
   ]
  },
  {
   "cell_type": "markdown",
   "metadata": {
    "papermill": {
     "duration": 0.126244,
     "end_time": "2024-01-26T06:27:31.987971",
     "exception": false,
     "start_time": "2024-01-26T06:27:31.861727",
     "status": "completed"
    },
    "tags": []
   },
   "source": [
    "## Model 1"
   ]
  },
  {
   "cell_type": "markdown",
   "metadata": {
    "papermill": {
     "duration": 0.124096,
     "end_time": "2024-01-26T06:27:32.236522",
     "exception": false,
     "start_time": "2024-01-26T06:27:32.112426",
     "status": "completed"
    },
    "tags": []
   },
   "source": [
    "### VIF Check"
   ]
  },
  {
   "cell_type": "code",
   "execution_count": 55,
   "metadata": {
    "execution": {
     "iopub.execute_input": "2024-01-26T06:27:32.495753Z",
     "iopub.status.busy": "2024-01-26T06:27:32.494964Z",
     "iopub.status.idle": "2024-01-26T06:27:32.635807Z",
     "shell.execute_reply": "2024-01-26T06:27:32.636537Z",
     "shell.execute_reply.started": "2024-01-26T05:54:26.456459Z"
    },
    "papermill": {
     "duration": 0.270559,
     "end_time": "2024-01-26T06:27:32.636709",
     "exception": false,
     "start_time": "2024-01-26T06:27:32.366150",
     "status": "completed"
    },
    "tags": []
   },
   "outputs": [
    {
     "data": {
      "text/html": [
       "<div>\n",
       "<style scoped>\n",
       "    .dataframe tbody tr th:only-of-type {\n",
       "        vertical-align: middle;\n",
       "    }\n",
       "\n",
       "    .dataframe tbody tr th {\n",
       "        vertical-align: top;\n",
       "    }\n",
       "\n",
       "    .dataframe thead th {\n",
       "        text-align: right;\n",
       "    }\n",
       "</style>\n",
       "<table border=\"1\" class=\"dataframe\">\n",
       "  <thead>\n",
       "    <tr style=\"text-align: right;\">\n",
       "      <th></th>\n",
       "      <th>Features</th>\n",
       "      <th>VIF</th>\n",
       "    </tr>\n",
       "  </thead>\n",
       "  <tbody>\n",
       "    <tr>\n",
       "      <th>2</th>\n",
       "      <td>Tavg</td>\n",
       "      <td>32.56</td>\n",
       "    </tr>\n",
       "    <tr>\n",
       "      <th>1</th>\n",
       "      <td>Min</td>\n",
       "      <td>19.04</td>\n",
       "    </tr>\n",
       "    <tr>\n",
       "      <th>0</th>\n",
       "      <td>Max</td>\n",
       "      <td>6.68</td>\n",
       "    </tr>\n",
       "  </tbody>\n",
       "</table>\n",
       "</div>"
      ],
      "text/plain": [
       "  Features    VIF\n",
       "2     Tavg  32.56\n",
       "1      Min  19.04\n",
       "0      Max   6.68"
      ]
     },
     "execution_count": 55,
     "metadata": {},
     "output_type": "execute_result"
    }
   ],
   "source": [
    "# Check for the VIF values of the feature variables. \n",
    "from statsmodels.stats.outliers_influence import variance_inflation_factor\n",
    "\n",
    "# Create a dataframe that will contain the names of all the feature variables and their respective VIFs\n",
    "vif = pd.DataFrame()\n",
    "vif['Features'] = X_train_rfe.columns\n",
    "vif['VIF'] = [variance_inflation_factor(X_train_rfe.values, i) for i in range(X_train_rfe.shape[1])]\n",
    "vif['VIF'] = round(vif['VIF'], 2)\n",
    "vif = vif.sort_values(by = \"VIF\", ascending = False)\n",
    "vif"
   ]
  },
  {
   "cell_type": "code",
   "execution_count": 56,
   "metadata": {
    "execution": {
     "iopub.execute_input": "2024-01-26T06:27:32.894737Z",
     "iopub.status.busy": "2024-01-26T06:27:32.893877Z",
     "iopub.status.idle": "2024-01-26T06:27:33.672723Z",
     "shell.execute_reply": "2024-01-26T06:27:33.673323Z",
     "shell.execute_reply.started": "2024-01-26T05:54:26.485809Z"
    },
    "papermill": {
     "duration": 0.911336,
     "end_time": "2024-01-26T06:27:33.673532",
     "exception": false,
     "start_time": "2024-01-26T06:27:32.762196",
     "status": "completed"
    },
    "tags": []
   },
   "outputs": [],
   "source": [
    "import statsmodels.api as sm\n",
    "\n",
    "# Add a constant\n",
    "X_train_lm1 = sm.add_constant(X_train_rfe)\n",
    "\n",
    "# Create a first fitted model\n",
    "lr1 = sm.OLS(y_train, X_train_lm1).fit()"
   ]
  },
  {
   "cell_type": "code",
   "execution_count": 57,
   "metadata": {
    "execution": {
     "iopub.execute_input": "2024-01-26T06:27:33.933635Z",
     "iopub.status.busy": "2024-01-26T06:27:33.932811Z",
     "iopub.status.idle": "2024-01-26T06:27:33.941059Z",
     "shell.execute_reply": "2024-01-26T06:27:33.941817Z",
     "shell.execute_reply.started": "2024-01-26T05:54:26.498149Z"
    },
    "papermill": {
     "duration": 0.139003,
     "end_time": "2024-01-26T06:27:33.942222",
     "exception": false,
     "start_time": "2024-01-26T06:27:33.803219",
     "status": "completed"
    },
    "tags": []
   },
   "outputs": [
    {
     "data": {
      "text/plain": [
       "const    0.438056\n",
       "Max      1.094072\n",
       "Min      1.040985\n",
       "Tavg    -1.709878\n",
       "dtype: float64"
      ]
     },
     "execution_count": 57,
     "metadata": {},
     "output_type": "execute_result"
    }
   ],
   "source": [
    "# Check the parameters obtained\n",
    "\n",
    "lr1.params"
   ]
  },
  {
   "cell_type": "code",
   "execution_count": 58,
   "metadata": {
    "execution": {
     "iopub.execute_input": "2024-01-26T06:27:34.199296Z",
     "iopub.status.busy": "2024-01-26T06:27:34.198463Z",
     "iopub.status.idle": "2024-01-26T06:27:34.218071Z",
     "shell.execute_reply": "2024-01-26T06:27:34.218740Z",
     "shell.execute_reply.started": "2024-01-26T05:54:26.516059Z"
    },
    "papermill": {
     "duration": 0.149844,
     "end_time": "2024-01-26T06:27:34.218917",
     "exception": false,
     "start_time": "2024-01-26T06:27:34.069073",
     "status": "completed"
    },
    "tags": []
   },
   "outputs": [
    {
     "name": "stdout",
     "output_type": "stream",
     "text": [
      "                             OLS Regression Results                             \n",
      "================================================================================\n",
      "Dep. Variable:     Produktivitas Mangga   R-squared:                       0.315\n",
      "Model:                              OLS   Adj. R-squared:                  0.229\n",
      "Method:                   Least Squares   F-statistic:                     3.678\n",
      "Date:                  Fri, 26 Jan 2024   Prob (F-statistic):             0.0260\n",
      "Time:                          06:27:34   Log-Likelihood:                -6.5758\n",
      "No. Observations:                    28   AIC:                             21.15\n",
      "Df Residuals:                        24   BIC:                             26.48\n",
      "Df Model:                             3                                         \n",
      "Covariance Type:              nonrobust                                         \n",
      "==============================================================================\n",
      "                 coef    std err          t      P>|t|      [0.025      0.975]\n",
      "------------------------------------------------------------------------------\n",
      "const          0.4381      0.148      2.951      0.007       0.132       0.744\n",
      "Max            1.0941      0.347      3.155      0.004       0.378       1.810\n",
      "Min            1.0410      0.472      2.204      0.037       0.066       2.016\n",
      "Tavg          -1.7099      0.579     -2.954      0.007      -2.905      -0.515\n",
      "==============================================================================\n",
      "Omnibus:                        1.375   Durbin-Watson:                   2.277\n",
      "Prob(Omnibus):                  0.503   Jarque-Bera (JB):                1.225\n",
      "Skew:                          -0.471   Prob(JB):                        0.542\n",
      "Kurtosis:                       2.596   Cond. No.                         16.6\n",
      "==============================================================================\n",
      "\n",
      "Warnings:\n",
      "[1] Standard Errors assume that the covariance matrix of the errors is correctly specified.\n"
     ]
    }
   ],
   "source": [
    "# Print a summary of the linear regression model obtained\n",
    "print(lr1.summary())"
   ]
  },
  {
   "cell_type": "markdown",
   "metadata": {
    "papermill": {
     "duration": 0.127664,
     "end_time": "2024-01-26T06:27:34.473540",
     "exception": false,
     "start_time": "2024-01-26T06:27:34.345876",
     "status": "completed"
    },
    "tags": []
   },
   "source": [
    "## Model 2"
   ]
  },
  {
   "cell_type": "markdown",
   "metadata": {
    "papermill": {
     "duration": 0.124536,
     "end_time": "2024-01-26T06:27:34.724591",
     "exception": false,
     "start_time": "2024-01-26T06:27:34.600055",
     "status": "completed"
    },
    "tags": []
   },
   "source": [
    "- Removing the variable 'atemp' based on its High p-value & High VIF"
   ]
  },
  {
   "cell_type": "code",
   "execution_count": 59,
   "metadata": {
    "execution": {
     "iopub.execute_input": "2024-01-26T06:27:34.980281Z",
     "iopub.status.busy": "2024-01-26T06:27:34.979484Z",
     "iopub.status.idle": "2024-01-26T06:27:34.985598Z",
     "shell.execute_reply": "2024-01-26T06:27:34.986177Z",
     "shell.execute_reply.started": "2024-01-26T05:54:26.538928Z"
    },
    "papermill": {
     "duration": 0.136231,
     "end_time": "2024-01-26T06:27:34.986362",
     "exception": false,
     "start_time": "2024-01-26T06:27:34.850131",
     "status": "completed"
    },
    "tags": []
   },
   "outputs": [],
   "source": [
    "X_train_new = X_train_rfe.drop([\"Min\"], axis = 1)"
   ]
  },
  {
   "cell_type": "markdown",
   "metadata": {
    "papermill": {
     "duration": 0.128344,
     "end_time": "2024-01-26T06:27:35.242166",
     "exception": false,
     "start_time": "2024-01-26T06:27:35.113822",
     "status": "completed"
    },
    "tags": []
   },
   "source": [
    "### VIF Check"
   ]
  },
  {
   "cell_type": "code",
   "execution_count": 60,
   "metadata": {
    "execution": {
     "iopub.execute_input": "2024-01-26T06:27:35.503891Z",
     "iopub.status.busy": "2024-01-26T06:27:35.502996Z",
     "iopub.status.idle": "2024-01-26T06:27:35.523500Z",
     "shell.execute_reply": "2024-01-26T06:27:35.524171Z",
     "shell.execute_reply.started": "2024-01-26T05:54:26.546797Z"
    },
    "papermill": {
     "duration": 0.151796,
     "end_time": "2024-01-26T06:27:35.524350",
     "exception": false,
     "start_time": "2024-01-26T06:27:35.372554",
     "status": "completed"
    },
    "tags": []
   },
   "outputs": [
    {
     "data": {
      "text/html": [
       "<div>\n",
       "<style scoped>\n",
       "    .dataframe tbody tr th:only-of-type {\n",
       "        vertical-align: middle;\n",
       "    }\n",
       "\n",
       "    .dataframe tbody tr th {\n",
       "        vertical-align: top;\n",
       "    }\n",
       "\n",
       "    .dataframe thead th {\n",
       "        text-align: right;\n",
       "    }\n",
       "</style>\n",
       "<table border=\"1\" class=\"dataframe\">\n",
       "  <thead>\n",
       "    <tr style=\"text-align: right;\">\n",
       "      <th></th>\n",
       "      <th>Features</th>\n",
       "      <th>VIF</th>\n",
       "    </tr>\n",
       "  </thead>\n",
       "  <tbody>\n",
       "    <tr>\n",
       "      <th>0</th>\n",
       "      <td>Max</td>\n",
       "      <td>5.51</td>\n",
       "    </tr>\n",
       "    <tr>\n",
       "      <th>1</th>\n",
       "      <td>Tavg</td>\n",
       "      <td>5.51</td>\n",
       "    </tr>\n",
       "  </tbody>\n",
       "</table>\n",
       "</div>"
      ],
      "text/plain": [
       "  Features   VIF\n",
       "0      Max  5.51\n",
       "1     Tavg  5.51"
      ]
     },
     "execution_count": 60,
     "metadata": {},
     "output_type": "execute_result"
    }
   ],
   "source": [
    "# Check for the VIF values of the feature variables. \n",
    "from statsmodels.stats.outliers_influence import variance_inflation_factor\n",
    "\n",
    "# Create a dataframe that will contain the names of all the feature variables and their respective VIFs\n",
    "vif = pd.DataFrame()\n",
    "vif['Features'] = X_train_new.columns\n",
    "vif['VIF'] = [variance_inflation_factor(X_train_new.values, i) for i in range(X_train_new.shape[1])]\n",
    "vif['VIF'] = round(vif['VIF'], 2)\n",
    "vif = vif.sort_values(by = \"VIF\", ascending = False)\n",
    "vif"
   ]
  },
  {
   "cell_type": "code",
   "execution_count": 61,
   "metadata": {
    "execution": {
     "iopub.execute_input": "2024-01-26T06:27:35.787295Z",
     "iopub.status.busy": "2024-01-26T06:27:35.786405Z",
     "iopub.status.idle": "2024-01-26T06:27:35.796061Z",
     "shell.execute_reply": "2024-01-26T06:27:35.796752Z",
     "shell.execute_reply.started": "2024-01-26T05:54:26.579249Z"
    },
    "papermill": {
     "duration": 0.143951,
     "end_time": "2024-01-26T06:27:35.796939",
     "exception": false,
     "start_time": "2024-01-26T06:27:35.652988",
     "status": "completed"
    },
    "tags": []
   },
   "outputs": [],
   "source": [
    "# Add a constant\n",
    "X_train_lm2 = sm.add_constant(X_train_new)\n",
    "\n",
    "# Create a first fitted model\n",
    "lr2 = sm.OLS(y_train, X_train_lm2).fit()"
   ]
  },
  {
   "cell_type": "code",
   "execution_count": 62,
   "metadata": {
    "execution": {
     "iopub.execute_input": "2024-01-26T06:27:36.056411Z",
     "iopub.status.busy": "2024-01-26T06:27:36.055592Z",
     "iopub.status.idle": "2024-01-26T06:27:36.063358Z",
     "shell.execute_reply": "2024-01-26T06:27:36.064005Z",
     "shell.execute_reply.started": "2024-01-26T05:54:26.590795Z"
    },
    "papermill": {
     "duration": 0.140618,
     "end_time": "2024-01-26T06:27:36.064176",
     "exception": false,
     "start_time": "2024-01-26T06:27:35.923558",
     "status": "completed"
    },
    "tags": []
   },
   "outputs": [
    {
     "data": {
      "text/plain": [
       "const    0.565723\n",
       "Max      0.723785\n",
       "Tavg    -0.605943\n",
       "dtype: float64"
      ]
     },
     "execution_count": 62,
     "metadata": {},
     "output_type": "execute_result"
    }
   ],
   "source": [
    "# Check the parameters obtained\n",
    "\n",
    "lr2.params"
   ]
  },
  {
   "cell_type": "code",
   "execution_count": 63,
   "metadata": {
    "execution": {
     "iopub.execute_input": "2024-01-26T06:27:36.335439Z",
     "iopub.status.busy": "2024-01-26T06:27:36.334133Z",
     "iopub.status.idle": "2024-01-26T06:27:36.354708Z",
     "shell.execute_reply": "2024-01-26T06:27:36.355931Z",
     "shell.execute_reply.started": "2024-01-26T05:54:26.609794Z"
    },
    "papermill": {
     "duration": 0.165487,
     "end_time": "2024-01-26T06:27:36.356223",
     "exception": false,
     "start_time": "2024-01-26T06:27:36.190736",
     "status": "completed"
    },
    "tags": []
   },
   "outputs": [
    {
     "name": "stdout",
     "output_type": "stream",
     "text": [
      "                             OLS Regression Results                             \n",
      "================================================================================\n",
      "Dep. Variable:     Produktivitas Mangga   R-squared:                       0.176\n",
      "Model:                              OLS   Adj. R-squared:                  0.110\n",
      "Method:                   Least Squares   F-statistic:                     2.676\n",
      "Date:                  Fri, 26 Jan 2024   Prob (F-statistic):             0.0885\n",
      "Time:                          06:27:36   Log-Likelihood:                -9.1557\n",
      "No. Observations:                    28   AIC:                             24.31\n",
      "Df Residuals:                        25   BIC:                             28.31\n",
      "Df Model:                             2                                         \n",
      "Covariance Type:              nonrobust                                         \n",
      "==============================================================================\n",
      "                 coef    std err          t      P>|t|      [0.025      0.975]\n",
      "------------------------------------------------------------------------------\n",
      "const          0.5657      0.147      3.853      0.001       0.263       0.868\n",
      "Max            0.7238      0.326      2.221      0.036       0.053       1.395\n",
      "Tavg          -0.6059      0.312     -1.944      0.063      -1.248       0.036\n",
      "==============================================================================\n",
      "Omnibus:                        4.547   Durbin-Watson:                   2.526\n",
      "Prob(Omnibus):                  0.103   Jarque-Bera (JB):                2.197\n",
      "Skew:                          -0.396   Prob(JB):                        0.333\n",
      "Kurtosis:                       1.880   Cond. No.                         7.53\n",
      "==============================================================================\n",
      "\n",
      "Warnings:\n",
      "[1] Standard Errors assume that the covariance matrix of the errors is correctly specified.\n"
     ]
    }
   ],
   "source": [
    "# Print a summary of the linear regression model obtained\n",
    "print(lr2.summary())"
   ]
  },
  {
   "cell_type": "markdown",
   "metadata": {
    "papermill": {
     "duration": 0.127299,
     "end_time": "2024-01-26T06:27:36.616638",
     "exception": false,
     "start_time": "2024-01-26T06:27:36.489339",
     "status": "completed"
    },
    "tags": []
   },
   "source": [
    "- Removing the variable 'mnth_3' based on its High 'p-value'."
   ]
  },
  {
   "cell_type": "markdown",
   "metadata": {
    "papermill": {
     "duration": 0.128286,
     "end_time": "2024-01-26T06:27:36.873287",
     "exception": false,
     "start_time": "2024-01-26T06:27:36.745001",
     "status": "completed"
    },
    "tags": []
   },
   "source": [
    "# Final Model Interpretation"
   ]
  },
  {
   "cell_type": "markdown",
   "metadata": {
    "papermill": {
     "duration": 0.128085,
     "end_time": "2024-01-26T06:27:37.129301",
     "exception": false,
     "start_time": "2024-01-26T06:27:37.001216",
     "status": "completed"
    },
    "tags": []
   },
   "source": [
    "## Hypothesis Testing:"
   ]
  },
  {
   "cell_type": "markdown",
   "metadata": {
    "papermill": {
     "duration": 0.134145,
     "end_time": "2024-01-26T06:27:37.395340",
     "exception": false,
     "start_time": "2024-01-26T06:27:37.261195",
     "status": "completed"
    },
    "tags": []
   },
   "source": [
    "Hypothesis testing states that:\n",
    "- H0:B1=B2=...=Bn=0 \n",
    "- H1:  at least one  Bi!=0"
   ]
  },
  {
   "cell_type": "markdown",
   "metadata": {
    "papermill": {
     "duration": 0.127363,
     "end_time": "2024-01-26T06:27:37.653040",
     "exception": false,
     "start_time": "2024-01-26T06:27:37.525677",
     "status": "completed"
    },
    "tags": []
   },
   "source": [
    "### lr6 model coefficient values"
   ]
  },
  {
   "cell_type": "markdown",
   "metadata": {
    "papermill": {
     "duration": 0.126723,
     "end_time": "2024-01-26T06:27:37.907455",
     "exception": false,
     "start_time": "2024-01-26T06:27:37.780732",
     "status": "completed"
    },
    "tags": []
   },
   "source": [
    "- const 0.5657\n",
    "- Tavg 0.7238      \n",
    "- Max -0.6059"
   ]
  },
  {
   "cell_type": "markdown",
   "metadata": {
    "papermill": {
     "duration": 0.126692,
     "end_time": "2024-01-26T06:27:38.162664",
     "exception": false,
     "start_time": "2024-01-26T06:27:38.035972",
     "status": "completed"
    },
    "tags": []
   },
   "source": [
    "### Insights\n",
    "- From the lr model summary, it is evident that all our coefficients are not equal to zerowhich means **We REJECT the NULL HYPOTHESIS**\n",
    "    "
   ]
  },
  {
   "cell_type": "markdown",
   "metadata": {
    "papermill": {
     "duration": 0.13035,
     "end_time": "2024-01-26T06:27:38.420096",
     "exception": false,
     "start_time": "2024-01-26T06:27:38.289746",
     "status": "completed"
    },
    "tags": []
   },
   "source": [
    "### F Statistics"
   ]
  },
  {
   "cell_type": "markdown",
   "metadata": {
    "papermill": {
     "duration": 0.129889,
     "end_time": "2024-01-26T06:27:38.679037",
     "exception": false,
     "start_time": "2024-01-26T06:27:38.549148",
     "status": "completed"
    },
    "tags": []
   },
   "source": [
    "F-Statistics is used for testing the overall significance of the Model: Higher the F-Statistics, more significant the Model is.\n",
    "\n",
    "- F-statistic: 2.676\n",
    "- Prob (F-statistic): 0.0885\n",
    "\n",
    "The F-Statistics value of 2.676 (which is greater than 1) and the p-value are not '~0.0000' states that the overall model is ***not significant***"
   ]
  },
  {
   "cell_type": "markdown",
   "metadata": {
    "papermill": {
     "duration": 0.130168,
     "end_time": "2024-01-26T06:27:38.936599",
     "exception": false,
     "start_time": "2024-01-26T06:27:38.806431",
     "status": "completed"
    },
    "tags": []
   },
   "source": [
    "## The equation of best fitted surface based on model lr6:"
   ]
  },
  {
   "cell_type": "markdown",
   "metadata": {
    "papermill": {
     "duration": 0.131344,
     "end_time": "2024-01-26T06:27:39.197373",
     "exception": false,
     "start_time": "2024-01-26T06:27:39.066029",
     "status": "completed"
    },
    "tags": []
   },
   "source": [
    "cnt = 0.5657 + (**Tavg** × 0.7238) - (**Max** × -0.6059)"
   ]
  },
  {
   "cell_type": "markdown",
   "metadata": {
    "papermill": {
     "duration": 0.128564,
     "end_time": "2024-01-26T06:27:39.453918",
     "exception": false,
     "start_time": "2024-01-26T06:27:39.325354",
     "status": "completed"
    },
    "tags": []
   },
   "source": [
    "## Interpretation of Coefficients:\n",
    "**Tavg:** A coefficient value of ‘ 0.7238’ menunjukkan bahwa setiap nilai variable yang bertambah akan berdampak positive sebesar 72% terhadap produktivitas mangga secara tidak langsung.\n",
    "\n",
    "**Min:** A coefficient value of ‘-0.6059’ menunjukkan bahwa setiap nilai variable yang bertambah akan berdampak negative sebesar 60% terhadap produktivitas mangga secara tidak langsung."
   ]
  },
  {
   "cell_type": "markdown",
   "metadata": {
    "papermill": {
     "duration": 0.132926,
     "end_time": "2024-01-26T06:27:39.713828",
     "exception": false,
     "start_time": "2024-01-26T06:27:39.580902",
     "status": "completed"
    },
    "tags": []
   },
   "source": [
    "# ASSUMPTIONS "
   ]
  },
  {
   "cell_type": "markdown",
   "metadata": {
    "papermill": {
     "duration": 0.128189,
     "end_time": "2024-01-26T06:27:39.970680",
     "exception": false,
     "start_time": "2024-01-26T06:27:39.842491",
     "status": "completed"
    },
    "tags": []
   },
   "source": [
    "## Error terms are normally distributed with mean zero (not X, Y)\n",
    "- Residual Analysis Of Training Data"
   ]
  },
  {
   "cell_type": "code",
   "execution_count": 64,
   "metadata": {
    "execution": {
     "iopub.execute_input": "2024-01-26T06:27:40.234818Z",
     "iopub.status.busy": "2024-01-26T06:27:40.233851Z",
     "iopub.status.idle": "2024-01-26T06:27:40.237454Z",
     "shell.execute_reply": "2024-01-26T06:27:40.236681Z",
     "shell.execute_reply.started": "2024-01-26T05:54:26.635615Z"
    },
    "papermill": {
     "duration": 0.136731,
     "end_time": "2024-01-26T06:27:40.237612",
     "exception": false,
     "start_time": "2024-01-26T06:27:40.100881",
     "status": "completed"
    },
    "tags": []
   },
   "outputs": [],
   "source": [
    "y_train_pred = lr2.predict(X_train_lm2)"
   ]
  },
  {
   "cell_type": "code",
   "execution_count": 65,
   "metadata": {
    "execution": {
     "iopub.execute_input": "2024-01-26T06:27:40.504243Z",
     "iopub.status.busy": "2024-01-26T06:27:40.503026Z",
     "iopub.status.idle": "2024-01-26T06:27:40.738450Z",
     "shell.execute_reply": "2024-01-26T06:27:40.737539Z",
     "shell.execute_reply.started": "2024-01-26T05:54:26.642640Z"
    },
    "papermill": {
     "duration": 0.372579,
     "end_time": "2024-01-26T06:27:40.738619",
     "exception": false,
     "start_time": "2024-01-26T06:27:40.366040",
     "status": "completed"
    },
    "tags": []
   },
   "outputs": [
    {
     "data": {
      "text/plain": [
       "Text(0.5, 0, 'Errors')"
      ]
     },
     "execution_count": 65,
     "metadata": {},
     "output_type": "execute_result"
    },
    {
     "data": {
      "image/png": "[encoded data removed]",
      "text/plain": [
       "<Figure size 432x288 with 1 Axes>"
      ]
     },
     "metadata": {
      "needs_background": "light"
     },
     "output_type": "display_data"
    }
   ],
   "source": [
    "res = y_train-y_train_pred\n",
    "# Plot the histogram of the error terms\n",
    "fig = plt.figure()\n",
    "sns.distplot((res), bins = 20)\n",
    "fig.suptitle('Error Terms', fontsize = 20)                  # Plot heading \n",
    "plt.xlabel('Errors', fontsize = 18)                         # X-label"
   ]
  },
  {
   "cell_type": "markdown",
   "metadata": {
    "papermill": {
     "duration": 0.131547,
     "end_time": "2024-01-26T06:27:40.998795",
     "exception": false,
     "start_time": "2024-01-26T06:27:40.867248",
     "status": "completed"
    },
    "tags": []
   },
   "source": [
    "### Insights\n",
    "- From the above histogram, we could see that the Residuals are normally distributed. Hence our assumption for Linear Regression is valid."
   ]
  },
  {
   "cell_type": "markdown",
   "metadata": {
    "papermill": {
     "duration": 0.133599,
     "end_time": "2024-01-26T06:27:41.264859",
     "exception": false,
     "start_time": "2024-01-26T06:27:41.131260",
     "status": "completed"
    },
    "tags": []
   },
   "source": [
    "## There is a linear relationship between X and Y"
   ]
  },
  {
   "cell_type": "code",
   "execution_count": 66,
   "metadata": {
    "execution": {
     "iopub.execute_input": "2024-01-26T06:27:41.541357Z",
     "iopub.status.busy": "2024-01-26T06:27:41.539951Z",
     "iopub.status.idle": "2024-01-26T06:27:46.495703Z",
     "shell.execute_reply": "2024-01-26T06:27:46.496262Z",
     "shell.execute_reply.started": "2024-01-26T05:54:26.870684Z"
    },
    "papermill": {
     "duration": 5.101844,
     "end_time": "2024-01-26T06:27:46.496454",
     "exception": false,
     "start_time": "2024-01-26T06:27:41.394610",
     "status": "completed"
    },
    "tags": []
   },
   "outputs": [
    {
     "data": {
      "image/png": "[encoded data removed]",
      "text/plain": [
       "<Figure size 720x720 with 20 Axes>"
      ]
     },
     "metadata": {
      "needs_background": "light"
     },
     "output_type": "display_data"
    }
   ],
   "source": [
    "bike_new=bike_new[['Produktivitas Mangga', 'Max', 'Tavg']]\n",
    "\n",
    "sns.pairplot(bike_num, diag_kind='kde')\n",
    "plt.show()"
   ]
  },
  {
   "cell_type": "markdown",
   "metadata": {
    "papermill": {
     "duration": 0.132134,
     "end_time": "2024-01-26T06:27:46.761676",
     "exception": false,
     "start_time": "2024-01-26T06:27:46.629542",
     "status": "completed"
    },
    "tags": []
   },
   "source": [
    "## Insight\n",
    "- Using the pair plot, we could see there is a linear relation between temp and atemp variable with the predictor ‘cnt’."
   ]
  },
  {
   "cell_type": "markdown",
   "metadata": {
    "papermill": {
     "duration": 0.13532,
     "end_time": "2024-01-26T06:27:47.029124",
     "exception": false,
     "start_time": "2024-01-26T06:27:46.893804",
     "status": "completed"
    },
    "tags": []
   },
   "source": [
    "## There is No Multicollinearity between the predictor variables"
   ]
  },
  {
   "cell_type": "code",
   "execution_count": 67,
   "metadata": {
    "execution": {
     "iopub.execute_input": "2024-01-26T06:27:47.300743Z",
     "iopub.status.busy": "2024-01-26T06:27:47.299894Z",
     "iopub.status.idle": "2024-01-26T06:27:47.319001Z",
     "shell.execute_reply": "2024-01-26T06:27:47.319606Z",
     "shell.execute_reply.started": "2024-01-26T05:54:31.585812Z"
    },
    "papermill": {
     "duration": 0.156525,
     "end_time": "2024-01-26T06:27:47.319778",
     "exception": false,
     "start_time": "2024-01-26T06:27:47.163253",
     "status": "completed"
    },
    "tags": []
   },
   "outputs": [
    {
     "data": {
      "text/html": [
       "<div>\n",
       "<style scoped>\n",
       "    .dataframe tbody tr th:only-of-type {\n",
       "        vertical-align: middle;\n",
       "    }\n",
       "\n",
       "    .dataframe tbody tr th {\n",
       "        vertical-align: top;\n",
       "    }\n",
       "\n",
       "    .dataframe thead th {\n",
       "        text-align: right;\n",
       "    }\n",
       "</style>\n",
       "<table border=\"1\" class=\"dataframe\">\n",
       "  <thead>\n",
       "    <tr style=\"text-align: right;\">\n",
       "      <th></th>\n",
       "      <th>Features</th>\n",
       "      <th>VIF</th>\n",
       "    </tr>\n",
       "  </thead>\n",
       "  <tbody>\n",
       "    <tr>\n",
       "      <th>0</th>\n",
       "      <td>Max</td>\n",
       "      <td>5.51</td>\n",
       "    </tr>\n",
       "    <tr>\n",
       "      <th>1</th>\n",
       "      <td>Tavg</td>\n",
       "      <td>5.51</td>\n",
       "    </tr>\n",
       "  </tbody>\n",
       "</table>\n",
       "</div>"
      ],
      "text/plain": [
       "  Features   VIF\n",
       "0      Max  5.51\n",
       "1     Tavg  5.51"
      ]
     },
     "execution_count": 67,
     "metadata": {},
     "output_type": "execute_result"
    }
   ],
   "source": [
    "# Check for the VIF values of the feature variables. \n",
    "from statsmodels.stats.outliers_influence import variance_inflation_factor\n",
    "\n",
    "# Create a dataframe that will contain the names of all the feature variables and their respective VIFs\n",
    "vif = pd.DataFrame()\n",
    "vif['Features'] = X_train_new.columns\n",
    "vif['VIF'] = [variance_inflation_factor(X_train_new.values, i) for i in range(X_train_new.shape[1])]\n",
    "vif['VIF'] = round(vif['VIF'], 2)\n",
    "vif = vif.sort_values(by = \"VIF\", ascending = False)\n",
    "vif"
   ]
  },
  {
   "cell_type": "markdown",
   "metadata": {
    "papermill": {
     "duration": 0.131612,
     "end_time": "2024-01-26T06:27:47.587407",
     "exception": false,
     "start_time": "2024-01-26T06:27:47.455795",
     "status": "completed"
    },
    "tags": []
   },
   "source": [
    "## Insight\n",
    "\n",
    " - From the VIF calculation we could find that there is no multicollinearity existing between the predictor variables, as all the values are within permissible range of below 5"
   ]
  },
  {
   "cell_type": "markdown",
   "metadata": {
    "papermill": {
     "duration": 0.131929,
     "end_time": "2024-01-26T06:27:47.850759",
     "exception": false,
     "start_time": "2024-01-26T06:27:47.718830",
     "status": "completed"
    },
    "tags": []
   },
   "source": [
    "# MAKING PREDICTION USING FINAL MODEL\n",
    "\n",
    "Now that we have fitted the model and checked the assumptions, it's time to go ahead and make predictions using the final model (lr6)\n",
    "\n",
    "### Applying the scaling on the test sets"
   ]
  },
  {
   "cell_type": "code",
   "execution_count": 68,
   "metadata": {
    "execution": {
     "iopub.execute_input": "2024-01-26T06:27:48.123053Z",
     "iopub.status.busy": "2024-01-26T06:27:48.122135Z",
     "iopub.status.idle": "2024-01-26T06:27:48.133847Z",
     "shell.execute_reply": "2024-01-26T06:27:48.133161Z",
     "shell.execute_reply.started": "2024-01-26T05:54:31.608867Z"
    },
    "papermill": {
     "duration": 0.150619,
     "end_time": "2024-01-26T06:27:48.134004",
     "exception": false,
     "start_time": "2024-01-26T06:27:47.983385",
     "status": "completed"
    },
    "tags": []
   },
   "outputs": [],
   "source": [
    "# Apply scaler() to all numeric variables in test dataset. Note: we will only use scaler.transform, \n",
    "# as we want to use the metrics that the model learned from the training data to be applied on the test data. \n",
    "# In other words, we want to prevent the information leak from train to test dataset.\n",
    "\n",
    "num_vars = ['Produktivitas Mangga', 'Min', 'Max', 'Tavg']\n",
    "\n",
    "df_test[num_vars] = scaler.transform(df_test[num_vars])"
   ]
  },
  {
   "cell_type": "code",
   "execution_count": 69,
   "metadata": {
    "execution": {
     "iopub.execute_input": "2024-01-26T06:27:48.417920Z",
     "iopub.status.busy": "2024-01-26T06:27:48.416728Z",
     "iopub.status.idle": "2024-01-26T06:27:48.421147Z",
     "shell.execute_reply": "2024-01-26T06:27:48.420567Z",
     "shell.execute_reply.started": "2024-01-26T05:54:31.629864Z"
    },
    "papermill": {
     "duration": 0.151111,
     "end_time": "2024-01-26T06:27:48.421284",
     "exception": false,
     "start_time": "2024-01-26T06:27:48.270173",
     "status": "completed"
    },
    "tags": []
   },
   "outputs": [
    {
     "data": {
      "text/html": [
       "<div>\n",
       "<style scoped>\n",
       "    .dataframe tbody tr th:only-of-type {\n",
       "        vertical-align: middle;\n",
       "    }\n",
       "\n",
       "    .dataframe tbody tr th {\n",
       "        vertical-align: top;\n",
       "    }\n",
       "\n",
       "    .dataframe thead th {\n",
       "        text-align: right;\n",
       "    }\n",
       "</style>\n",
       "<table border=\"1\" class=\"dataframe\">\n",
       "  <thead>\n",
       "    <tr style=\"text-align: right;\">\n",
       "      <th></th>\n",
       "      <th>Produktivitas Mangga</th>\n",
       "      <th>Max</th>\n",
       "      <th>Min</th>\n",
       "      <th>Tavg</th>\n",
       "    </tr>\n",
       "  </thead>\n",
       "  <tbody>\n",
       "    <tr>\n",
       "      <th>31</th>\n",
       "      <td>0.867647</td>\n",
       "      <td>0.666667</td>\n",
       "      <td>0.666667</td>\n",
       "      <td>0.890000</td>\n",
       "    </tr>\n",
       "    <tr>\n",
       "      <th>4</th>\n",
       "      <td>0.955882</td>\n",
       "      <td>0.000000</td>\n",
       "      <td>0.666667</td>\n",
       "      <td>0.666667</td>\n",
       "    </tr>\n",
       "    <tr>\n",
       "      <th>6</th>\n",
       "      <td>0.544118</td>\n",
       "      <td>0.000000</td>\n",
       "      <td>0.333333</td>\n",
       "      <td>0.223333</td>\n",
       "    </tr>\n",
       "    <tr>\n",
       "      <th>16</th>\n",
       "      <td>0.441176</td>\n",
       "      <td>0.666667</td>\n",
       "      <td>1.000000</td>\n",
       "      <td>1.000000</td>\n",
       "    </tr>\n",
       "    <tr>\n",
       "      <th>30</th>\n",
       "      <td>1.029412</td>\n",
       "      <td>0.000000</td>\n",
       "      <td>0.333333</td>\n",
       "      <td>0.223333</td>\n",
       "    </tr>\n",
       "  </tbody>\n",
       "</table>\n",
       "</div>"
      ],
      "text/plain": [
       "    Produktivitas Mangga       Max       Min      Tavg\n",
       "31              0.867647  0.666667  0.666667  0.890000\n",
       "4               0.955882  0.000000  0.666667  0.666667\n",
       "6               0.544118  0.000000  0.333333  0.223333\n",
       "16              0.441176  0.666667  1.000000  1.000000\n",
       "30              1.029412  0.000000  0.333333  0.223333"
      ]
     },
     "execution_count": 69,
     "metadata": {},
     "output_type": "execute_result"
    }
   ],
   "source": [
    "df_test.head()"
   ]
  },
  {
   "cell_type": "code",
   "execution_count": 70,
   "metadata": {
    "execution": {
     "iopub.execute_input": "2024-01-26T06:27:48.698282Z",
     "iopub.status.busy": "2024-01-26T06:27:48.697411Z",
     "iopub.status.idle": "2024-01-26T06:27:48.722319Z",
     "shell.execute_reply": "2024-01-26T06:27:48.722972Z",
     "shell.execute_reply.started": "2024-01-26T05:54:31.652909Z"
    },
    "papermill": {
     "duration": 0.166745,
     "end_time": "2024-01-26T06:27:48.723161",
     "exception": false,
     "start_time": "2024-01-26T06:27:48.556416",
     "status": "completed"
    },
    "tags": []
   },
   "outputs": [
    {
     "data": {
      "text/html": [
       "<div>\n",
       "<style scoped>\n",
       "    .dataframe tbody tr th:only-of-type {\n",
       "        vertical-align: middle;\n",
       "    }\n",
       "\n",
       "    .dataframe tbody tr th {\n",
       "        vertical-align: top;\n",
       "    }\n",
       "\n",
       "    .dataframe thead th {\n",
       "        text-align: right;\n",
       "    }\n",
       "</style>\n",
       "<table border=\"1\" class=\"dataframe\">\n",
       "  <thead>\n",
       "    <tr style=\"text-align: right;\">\n",
       "      <th></th>\n",
       "      <th>Produktivitas Mangga</th>\n",
       "      <th>Max</th>\n",
       "      <th>Min</th>\n",
       "      <th>Tavg</th>\n",
       "    </tr>\n",
       "  </thead>\n",
       "  <tbody>\n",
       "    <tr>\n",
       "      <th>count</th>\n",
       "      <td>12.000000</td>\n",
       "      <td>12.000000</td>\n",
       "      <td>12.000000</td>\n",
       "      <td>12.000000</td>\n",
       "    </tr>\n",
       "    <tr>\n",
       "      <th>mean</th>\n",
       "      <td>0.920343</td>\n",
       "      <td>0.361111</td>\n",
       "      <td>0.583333</td>\n",
       "      <td>0.592500</td>\n",
       "    </tr>\n",
       "    <tr>\n",
       "      <th>std</th>\n",
       "      <td>0.462304</td>\n",
       "      <td>0.388167</td>\n",
       "      <td>0.429352</td>\n",
       "      <td>0.440250</td>\n",
       "    </tr>\n",
       "    <tr>\n",
       "      <th>min</th>\n",
       "      <td>0.397059</td>\n",
       "      <td>0.000000</td>\n",
       "      <td>-0.333333</td>\n",
       "      <td>-0.223333</td>\n",
       "    </tr>\n",
       "    <tr>\n",
       "      <th>25%</th>\n",
       "      <td>0.643382</td>\n",
       "      <td>0.000000</td>\n",
       "      <td>0.333333</td>\n",
       "      <td>0.223333</td>\n",
       "    </tr>\n",
       "    <tr>\n",
       "      <th>50%</th>\n",
       "      <td>0.838235</td>\n",
       "      <td>0.333333</td>\n",
       "      <td>0.666667</td>\n",
       "      <td>0.721667</td>\n",
       "    </tr>\n",
       "    <tr>\n",
       "      <th>75%</th>\n",
       "      <td>1.033088</td>\n",
       "      <td>0.666667</td>\n",
       "      <td>1.000000</td>\n",
       "      <td>1.000000</td>\n",
       "    </tr>\n",
       "    <tr>\n",
       "      <th>max</th>\n",
       "      <td>2.014706</td>\n",
       "      <td>1.000000</td>\n",
       "      <td>1.000000</td>\n",
       "      <td>1.110000</td>\n",
       "    </tr>\n",
       "  </tbody>\n",
       "</table>\n",
       "</div>"
      ],
      "text/plain": [
       "       Produktivitas Mangga        Max        Min       Tavg\n",
       "count             12.000000  12.000000  12.000000  12.000000\n",
       "mean               0.920343   0.361111   0.583333   0.592500\n",
       "std                0.462304   0.388167   0.429352   0.440250\n",
       "min                0.397059   0.000000  -0.333333  -0.223333\n",
       "25%                0.643382   0.000000   0.333333   0.223333\n",
       "50%                0.838235   0.333333   0.666667   0.721667\n",
       "75%                1.033088   0.666667   1.000000   1.000000\n",
       "max                2.014706   1.000000   1.000000   1.110000"
      ]
     },
     "execution_count": 70,
     "metadata": {},
     "output_type": "execute_result"
    }
   ],
   "source": [
    "df_test.describe()"
   ]
  },
  {
   "cell_type": "markdown",
   "metadata": {
    "papermill": {
     "duration": 0.136229,
     "end_time": "2024-01-26T06:27:48.992348",
     "exception": false,
     "start_time": "2024-01-26T06:27:48.856119",
     "status": "completed"
    },
    "tags": []
   },
   "source": [
    "### Dividing into X_test and y_test"
   ]
  },
  {
   "cell_type": "code",
   "execution_count": 71,
   "metadata": {
    "execution": {
     "iopub.execute_input": "2024-01-26T06:27:49.268041Z",
     "iopub.status.busy": "2024-01-26T06:27:49.267215Z",
     "iopub.status.idle": "2024-01-26T06:27:49.280417Z",
     "shell.execute_reply": "2024-01-26T06:27:49.279766Z",
     "shell.execute_reply.started": "2024-01-26T05:54:31.687633Z"
    },
    "papermill": {
     "duration": 0.152681,
     "end_time": "2024-01-26T06:27:49.280586",
     "exception": false,
     "start_time": "2024-01-26T06:27:49.127905",
     "status": "completed"
    },
    "tags": []
   },
   "outputs": [
    {
     "name": "stdout",
     "output_type": "stream",
     "text": [
      "<class 'pandas.core.frame.DataFrame'>\n",
      "Int64Index: 12 entries, 31 to 0\n",
      "Data columns (total 3 columns):\n",
      " #   Column  Non-Null Count  Dtype  \n",
      "---  ------  --------------  -----  \n",
      " 0   Max     12 non-null     float64\n",
      " 1   Min     12 non-null     float64\n",
      " 2   Tavg    12 non-null     float64\n",
      "dtypes: float64(3)\n",
      "memory usage: 384.0 bytes\n"
     ]
    }
   ],
   "source": [
    "y_test = df_test.pop('Produktivitas Mangga')\n",
    "X_test = df_test\n",
    "X_test.info()"
   ]
  },
  {
   "cell_type": "code",
   "execution_count": 72,
   "metadata": {
    "execution": {
     "iopub.execute_input": "2024-01-26T06:27:49.567518Z",
     "iopub.status.busy": "2024-01-26T06:27:49.566377Z",
     "iopub.status.idle": "2024-01-26T06:27:49.571399Z",
     "shell.execute_reply": "2024-01-26T06:27:49.570724Z",
     "shell.execute_reply.started": "2024-01-26T05:54:31.699706Z"
    },
    "papermill": {
     "duration": 0.155204,
     "end_time": "2024-01-26T06:27:49.571572",
     "exception": false,
     "start_time": "2024-01-26T06:27:49.416368",
     "status": "completed"
    },
    "tags": []
   },
   "outputs": [
    {
     "name": "stdout",
     "output_type": "stream",
     "text": [
      "<class 'pandas.core.frame.DataFrame'>\n",
      "Int64Index: 12 entries, 31 to 0\n",
      "Data columns (total 3 columns):\n",
      " #   Column  Non-Null Count  Dtype  \n",
      "---  ------  --------------  -----  \n",
      " 0   const   12 non-null     float64\n",
      " 1   Max     12 non-null     float64\n",
      " 2   Tavg    12 non-null     float64\n",
      "dtypes: float64(3)\n",
      "memory usage: 384.0 bytes\n"
     ]
    }
   ],
   "source": [
    "#Selecting the variables that were part of final model.\n",
    "col1=X_train_new.columns\n",
    "X_test=X_test[col1]\n",
    "# Adding constant variable to test dataframe\n",
    "X_test_lm2 = sm.add_constant(X_test)\n",
    "X_test_lm2.info()"
   ]
  },
  {
   "cell_type": "code",
   "execution_count": 73,
   "metadata": {
    "execution": {
     "iopub.execute_input": "2024-01-26T06:27:49.850922Z",
     "iopub.status.busy": "2024-01-26T06:27:49.849825Z",
     "iopub.status.idle": "2024-01-26T06:27:49.852924Z",
     "shell.execute_reply": "2024-01-26T06:27:49.852114Z",
     "shell.execute_reply.started": "2024-01-26T05:54:31.725044Z"
    },
    "papermill": {
     "duration": 0.146725,
     "end_time": "2024-01-26T06:27:49.853067",
     "exception": false,
     "start_time": "2024-01-26T06:27:49.706342",
     "status": "completed"
    },
    "tags": []
   },
   "outputs": [],
   "source": [
    "# Making predictions using the final model (lr6)\n",
    "\n",
    "y_pred = lr2.predict(X_test_lm2)"
   ]
  },
  {
   "cell_type": "markdown",
   "metadata": {
    "papermill": {
     "duration": 0.135416,
     "end_time": "2024-01-26T06:27:50.124198",
     "exception": false,
     "start_time": "2024-01-26T06:27:49.988782",
     "status": "completed"
    },
    "tags": []
   },
   "source": [
    "# MODEL EVALUATION"
   ]
  },
  {
   "cell_type": "code",
   "execution_count": 74,
   "metadata": {
    "execution": {
     "iopub.execute_input": "2024-01-26T06:27:50.403269Z",
     "iopub.status.busy": "2024-01-26T06:27:50.402306Z",
     "iopub.status.idle": "2024-01-26T06:27:50.604677Z",
     "shell.execute_reply": "2024-01-26T06:27:50.605318Z",
     "shell.execute_reply.started": "2024-01-26T05:54:31.740022Z"
    },
    "papermill": {
     "duration": 0.345571,
     "end_time": "2024-01-26T06:27:50.605503",
     "exception": false,
     "start_time": "2024-01-26T06:27:50.259932",
     "status": "completed"
    },
    "tags": []
   },
   "outputs": [
    {
     "data": {
      "image/png": "[encoded data removed]",
      "text/plain": [
       "<Figure size 432x288 with 1 Axes>"
      ]
     },
     "metadata": {
      "needs_background": "light"
     },
     "output_type": "display_data"
    }
   ],
   "source": [
    "# Plotting y_test and y_pred to understand the spread\n",
    "\n",
    "fig = plt.figure()\n",
    "plt.scatter(y_test, y_pred, alpha=.5)\n",
    "fig.suptitle('y_test vs y_pred', fontsize = 20)              # Plot heading \n",
    "plt.xlabel('y_test', fontsize = 18)                          # X-label\n",
    "plt.ylabel('y_pred', fontsize = 16) \n",
    "plt.show()"
   ]
  },
  {
   "cell_type": "markdown",
   "metadata": {
    "papermill": {
     "duration": 0.135009,
     "end_time": "2024-01-26T06:27:50.879797",
     "exception": false,
     "start_time": "2024-01-26T06:27:50.744788",
     "status": "completed"
    },
    "tags": []
   },
   "source": [
    " # R^2 Value for TEST"
   ]
  },
  {
   "cell_type": "code",
   "execution_count": 75,
   "metadata": {
    "execution": {
     "iopub.execute_input": "2024-01-26T06:27:51.154729Z",
     "iopub.status.busy": "2024-01-26T06:27:51.153864Z",
     "iopub.status.idle": "2024-01-26T06:27:51.161563Z",
     "shell.execute_reply": "2024-01-26T06:27:51.162268Z",
     "shell.execute_reply.started": "2024-01-26T05:54:31.939683Z"
    },
    "papermill": {
     "duration": 0.147749,
     "end_time": "2024-01-26T06:27:51.162443",
     "exception": false,
     "start_time": "2024-01-26T06:27:51.014694",
     "status": "completed"
    },
    "tags": []
   },
   "outputs": [
    {
     "data": {
      "text/plain": [
       "-1.2194723226718893"
      ]
     },
     "execution_count": 75,
     "metadata": {},
     "output_type": "execute_result"
    }
   ],
   "source": [
    "from sklearn.metrics import r2_score\n",
    "r2_score(y_test, y_pred)"
   ]
  },
  {
   "cell_type": "markdown",
   "metadata": {
    "papermill": {
     "duration": 0.139776,
     "end_time": "2024-01-26T06:27:51.438232",
     "exception": false,
     "start_time": "2024-01-26T06:27:51.298456",
     "status": "completed"
    },
    "tags": []
   },
   "source": [
    "## Adjusted R^2 Value for TEST"
   ]
  },
  {
   "cell_type": "code",
   "execution_count": 76,
   "metadata": {
    "execution": {
     "iopub.execute_input": "2024-01-26T06:27:51.716618Z",
     "iopub.status.busy": "2024-01-26T06:27:51.714447Z",
     "iopub.status.idle": "2024-01-26T06:27:51.719344Z",
     "shell.execute_reply": "2024-01-26T06:27:51.720124Z",
     "shell.execute_reply.started": "2024-01-26T05:54:31.950730Z"
    },
    "papermill": {
     "duration": 0.146861,
     "end_time": "2024-01-26T06:27:51.720306",
     "exception": false,
     "start_time": "2024-01-26T06:27:51.573445",
     "status": "completed"
    },
    "tags": []
   },
   "outputs": [],
   "source": [
    "# We already have the value of R^2 (calculated in above step)\n",
    "\n",
    "r2=-1.2194723226718893"
   ]
  },
  {
   "cell_type": "code",
   "execution_count": 77,
   "metadata": {
    "execution": {
     "iopub.execute_input": "2024-01-26T06:27:51.997634Z",
     "iopub.status.busy": "2024-01-26T06:27:51.996774Z",
     "iopub.status.idle": "2024-01-26T06:27:52.004392Z",
     "shell.execute_reply": "2024-01-26T06:27:52.003592Z",
     "shell.execute_reply.started": "2024-01-26T05:54:31.963764Z"
    },
    "papermill": {
     "duration": 0.148719,
     "end_time": "2024-01-26T06:27:52.004551",
     "exception": false,
     "start_time": "2024-01-26T06:27:51.855832",
     "status": "completed"
    },
    "tags": []
   },
   "outputs": [
    {
     "data": {
      "text/plain": [
       "(12, 2)"
      ]
     },
     "execution_count": 77,
     "metadata": {},
     "output_type": "execute_result"
    }
   ],
   "source": [
    "# Get the shape of X_test\n",
    "X_test.shape\n"
   ]
  },
  {
   "cell_type": "code",
   "execution_count": 78,
   "metadata": {
    "execution": {
     "iopub.execute_input": "2024-01-26T06:27:52.294412Z",
     "iopub.status.busy": "2024-01-26T06:27:52.293360Z",
     "iopub.status.idle": "2024-01-26T06:27:52.297741Z",
     "shell.execute_reply": "2024-01-26T06:27:52.297152Z",
     "shell.execute_reply.started": "2024-01-26T05:54:31.980463Z"
    },
    "papermill": {
     "duration": 0.151059,
     "end_time": "2024-01-26T06:27:52.297878",
     "exception": false,
     "start_time": "2024-01-26T06:27:52.146819",
     "status": "completed"
    },
    "tags": []
   },
   "outputs": [
    {
     "data": {
      "text/plain": [
       "-1.7126883943767535"
      ]
     },
     "execution_count": 78,
     "metadata": {},
     "output_type": "execute_result"
    }
   ],
   "source": [
    "# n is number of rows in X\n",
    "\n",
    "n = X_test.shape[0]\n",
    "\n",
    "\n",
    "# Number of features (predictors, p) is the shape along axis 1\n",
    "p = X_test.shape[1]\n",
    "\n",
    "# We find the Adjusted R-squared using the formula\n",
    "\n",
    "adjusted_r2 = 1-(1-r2)*(n-1)/(n-p-1)\n",
    "adjusted_r2"
   ]
  },
  {
   "cell_type": "markdown",
   "metadata": {
    "papermill": {
     "duration": 0.138314,
     "end_time": "2024-01-26T06:27:52.578628",
     "exception": false,
     "start_time": "2024-01-26T06:27:52.440314",
     "status": "completed"
    },
    "tags": []
   },
   "source": [
    "# Final Result Comparison"
   ]
  },
  {
   "cell_type": "markdown",
   "metadata": {
    "papermill": {
     "duration": 0.137527,
     "end_time": "2024-01-26T06:27:52.853794",
     "exception": false,
     "start_time": "2024-01-26T06:27:52.716267",
     "status": "completed"
    },
    "tags": []
   },
   "source": [
    "- Train R^2 :0.176\n",
    "- Train Adjusted R^2 :0.110\n",
    "- Test R^2 :-1.2194723226718893\n",
    "- Test Adjusted R^2 :-1.7126883943767535 \n",
    "Model ini belum bisa dikatakan cocok dengan data yang ada. Data yang sedikit juga mempengaruhi hasil dari nilai yang didapat diatas."
   ]
  }
 ],
 "metadata": {
  "kaggle": {
   "accelerator": "none",
   "dataSources": [
    {
     "datasetId": 789011,
     "sourceId": 1355226,
     "sourceType": "datasetVersion"
    },
    {
     "datasetId": 4246041,
     "sourceId": 7327627,
     "sourceType": "datasetVersion"
    }
   ],
   "dockerImageVersionId": 29981,
   "isGpuEnabled": false,
   "isInternetEnabled": true,
   "language": "python",
   "sourceType": "notebook"
  },
  "kernelspec": {
   "display_name": "Python 3",
   "language": "python",
   "name": "python3"
  },
  "language_info": {
   "codemirror_mode": {
    "name": "ipython",
    "version": 3
   },
   "file_extension": ".py",
   "mimetype": "text/x-python",
   "name": "python",
   "nbconvert_exporter": "python",
   "pygments_lexer": "ipython3",
   "version": "3.7.6"
  },
  "papermill": {
   "duration": 54.475872,
   "end_time": "2024-01-26T06:27:54.052511",
   "environment_variables": {},
   "exception": null,
   "input_path": "__notebook__.ipynb",
   "output_path": "__notebook__.ipynb",
   "parameters": {},
   "start_time": "2024-01-26T06:26:59.576639",
   "version": "2.1.0"
  }
 },
 "nbformat": 4,
 "nbformat_minor": 4
}
