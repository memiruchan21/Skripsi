{
 "cells": [
  {
   "cell_type": "markdown",
   "metadata": {
    "papermill": {
     "duration": 0.099869,
     "end_time": "2024-01-25T16:19:04.535440",
     "exception": false,
     "start_time": "2024-01-25T16:19:04.435571",
     "status": "completed"
    },
    "tags": []
   },
   "source": [
    "##  Reading and Understanding the Data\n"
   ]
  },
  {
   "cell_type": "code",
   "execution_count": 1,
   "metadata": {
    "execution": {
     "iopub.execute_input": "2024-01-25T16:19:04.735513Z",
     "iopub.status.busy": "2024-01-25T16:19:04.734593Z",
     "iopub.status.idle": "2024-01-25T16:19:04.739325Z",
     "shell.execute_reply": "2024-01-25T16:19:04.739956Z",
     "shell.execute_reply.started": "2024-01-25T16:16:08.987276Z"
    },
    "papermill": {
     "duration": 0.105135,
     "end_time": "2024-01-25T16:19:04.740158",
     "exception": false,
     "start_time": "2024-01-25T16:19:04.635023",
     "status": "completed"
    },
    "tags": []
   },
   "outputs": [],
   "source": [
    "# Supress Warnings\n",
    "\n",
    "import warnings\n",
    "warnings.filterwarnings('ignore')"
   ]
  },
  {
   "cell_type": "code",
   "execution_count": 2,
   "metadata": {
    "execution": {
     "iopub.execute_input": "2024-01-25T16:19:04.944178Z",
     "iopub.status.busy": "2024-01-25T16:19:04.943137Z",
     "iopub.status.idle": "2024-01-25T16:19:06.065259Z",
     "shell.execute_reply": "2024-01-25T16:19:06.064488Z",
     "shell.execute_reply.started": "2024-01-25T16:16:08.996831Z"
    },
    "papermill": {
     "duration": 1.228927,
     "end_time": "2024-01-25T16:19:06.065448",
     "exception": false,
     "start_time": "2024-01-25T16:19:04.836521",
     "status": "completed"
    },
    "tags": []
   },
   "outputs": [],
   "source": [
    "import numpy as np\n",
    "import pandas as pd\n",
    "import matplotlib.pyplot as plt\n",
    "import seaborn as sns\n",
    "%matplotlib inline"
   ]
  },
  {
   "cell_type": "code",
   "execution_count": 3,
   "metadata": {
    "execution": {
     "iopub.execute_input": "2024-01-25T16:19:06.271612Z",
     "iopub.status.busy": "2024-01-25T16:19:06.270815Z",
     "iopub.status.idle": "2024-01-25T16:19:06.289336Z",
     "shell.execute_reply": "2024-01-25T16:19:06.288508Z",
     "shell.execute_reply.started": "2024-01-25T16:16:09.008805Z"
    },
    "papermill": {
     "duration": 0.121839,
     "end_time": "2024-01-25T16:19:06.289480",
     "exception": false,
     "start_time": "2024-01-25T16:19:06.167641",
     "status": "completed"
    },
    "tags": []
   },
   "outputs": [
    {
     "name": "stdout",
     "output_type": "stream",
     "text": [
      "/kaggle/input/bismillahskripsi/Buleleng-Climate - Full (1).csv\n",
      "/kaggle/input/bike-sharing/day.csv\n"
     ]
    }
   ],
   "source": [
    "import os\n",
    "for dirname, _, filenames in os.walk('/kaggle/input'):\n",
    "    for filename in filenames:\n",
    "        print(os.path.join(dirname, filename))"
   ]
  },
  {
   "cell_type": "code",
   "execution_count": 4,
   "metadata": {
    "execution": {
     "iopub.execute_input": "2024-01-25T16:19:06.507372Z",
     "iopub.status.busy": "2024-01-25T16:19:06.506535Z",
     "iopub.status.idle": "2024-01-25T16:19:06.520394Z",
     "shell.execute_reply": "2024-01-25T16:19:06.521242Z",
     "shell.execute_reply.started": "2024-01-25T16:16:09.026020Z"
    },
    "papermill": {
     "duration": 0.131178,
     "end_time": "2024-01-25T16:19:06.521646",
     "exception": false,
     "start_time": "2024-01-25T16:19:06.390468",
     "status": "completed"
    },
    "tags": []
   },
   "outputs": [],
   "source": [
    "bike = pd.read_csv(\"/kaggle/input/bismillahskripsi/Buleleng-Climate - Full (1).csv\")"
   ]
  },
  {
   "cell_type": "code",
   "execution_count": 5,
   "metadata": {
    "execution": {
     "iopub.execute_input": "2024-01-25T16:19:06.728606Z",
     "iopub.status.busy": "2024-01-25T16:19:06.727460Z",
     "iopub.status.idle": "2024-01-25T16:19:06.758408Z",
     "shell.execute_reply": "2024-01-25T16:19:06.757749Z",
     "shell.execute_reply.started": "2024-01-25T16:16:09.043161Z"
    },
    "papermill": {
     "duration": 0.133949,
     "end_time": "2024-01-25T16:19:06.758570",
     "exception": false,
     "start_time": "2024-01-25T16:19:06.624621",
     "status": "completed"
    },
    "tags": []
   },
   "outputs": [
    {
     "data": {
      "text/html": [
       "<div>\n",
       "<style scoped>\n",
       "    .dataframe tbody tr th:only-of-type {\n",
       "        vertical-align: middle;\n",
       "    }\n",
       "\n",
       "    .dataframe tbody tr th {\n",
       "        vertical-align: top;\n",
       "    }\n",
       "\n",
       "    .dataframe thead th {\n",
       "        text-align: right;\n",
       "    }\n",
       "</style>\n",
       "<table border=\"1\" class=\"dataframe\">\n",
       "  <thead>\n",
       "    <tr style=\"text-align: right;\">\n",
       "      <th></th>\n",
       "      <th>Year</th>\n",
       "      <th>Periode</th>\n",
       "      <th>Produktivitas Mangga</th>\n",
       "      <th>Produktivitas Jeruk</th>\n",
       "      <th>Max</th>\n",
       "      <th>Min</th>\n",
       "      <th>Tavg</th>\n",
       "      <th>Sun Hour</th>\n",
       "      <th>Sun Day</th>\n",
       "      <th>Curah Hujan</th>\n",
       "      <th>Hari Hujan</th>\n",
       "      <th>Kecepatan A</th>\n",
       "      <th>Mx Kec</th>\n",
       "    </tr>\n",
       "  </thead>\n",
       "  <tbody>\n",
       "    <tr>\n",
       "      <th>0</th>\n",
       "      <td>2012</td>\n",
       "      <td>Triwulan I</td>\n",
       "      <td>0.46</td>\n",
       "      <td>0.17</td>\n",
       "      <td>28.0</td>\n",
       "      <td>25.0</td>\n",
       "      <td>26.00</td>\n",
       "      <td>78.7</td>\n",
       "      <td>8</td>\n",
       "      <td>501</td>\n",
       "      <td>83</td>\n",
       "      <td>8.17</td>\n",
       "      <td>13.4</td>\n",
       "    </tr>\n",
       "    <tr>\n",
       "      <th>1</th>\n",
       "      <td>2012</td>\n",
       "      <td>Triwulan II</td>\n",
       "      <td>0.00</td>\n",
       "      <td>0.10</td>\n",
       "      <td>28.0</td>\n",
       "      <td>24.0</td>\n",
       "      <td>26.00</td>\n",
       "      <td>237.7</td>\n",
       "      <td>49</td>\n",
       "      <td>164</td>\n",
       "      <td>42</td>\n",
       "      <td>8.93</td>\n",
       "      <td>14.0</td>\n",
       "    </tr>\n",
       "    <tr>\n",
       "      <th>2</th>\n",
       "      <td>2012</td>\n",
       "      <td>Triwulan III</td>\n",
       "      <td>0.27</td>\n",
       "      <td>0.20</td>\n",
       "      <td>28.0</td>\n",
       "      <td>22.0</td>\n",
       "      <td>24.33</td>\n",
       "      <td>336.3</td>\n",
       "      <td>88</td>\n",
       "      <td>10</td>\n",
       "      <td>4</td>\n",
       "      <td>12.20</td>\n",
       "      <td>17.2</td>\n",
       "    </tr>\n",
       "    <tr>\n",
       "      <th>3</th>\n",
       "      <td>2012</td>\n",
       "      <td>Triwulan IV</td>\n",
       "      <td>0.46</td>\n",
       "      <td>0.11</td>\n",
       "      <td>29.0</td>\n",
       "      <td>25.0</td>\n",
       "      <td>27.00</td>\n",
       "      <td>176.0</td>\n",
       "      <td>24</td>\n",
       "      <td>375</td>\n",
       "      <td>68</td>\n",
       "      <td>7.93</td>\n",
       "      <td>13.6</td>\n",
       "    </tr>\n",
       "    <tr>\n",
       "      <th>4</th>\n",
       "      <td>2013</td>\n",
       "      <td>Triwulan I</td>\n",
       "      <td>0.65</td>\n",
       "      <td>0.16</td>\n",
       "      <td>28.0</td>\n",
       "      <td>25.0</td>\n",
       "      <td>27.00</td>\n",
       "      <td>140.7</td>\n",
       "      <td>20</td>\n",
       "      <td>338</td>\n",
       "      <td>70</td>\n",
       "      <td>7.33</td>\n",
       "      <td>12.0</td>\n",
       "    </tr>\n",
       "  </tbody>\n",
       "</table>\n",
       "</div>"
      ],
      "text/plain": [
       "   Year       Periode  Produktivitas Mangga  Produktivitas Jeruk   Max   Min  \\\n",
       "0  2012    Triwulan I                  0.46                 0.17  28.0  25.0   \n",
       "1  2012   Triwulan II                  0.00                 0.10  28.0  24.0   \n",
       "2  2012  Triwulan III                  0.27                 0.20  28.0  22.0   \n",
       "3  2012   Triwulan IV                  0.46                 0.11  29.0  25.0   \n",
       "4  2013    Triwulan I                  0.65                 0.16  28.0  25.0   \n",
       "\n",
       "    Tavg  Sun Hour  Sun Day  Curah Hujan  Hari Hujan  Kecepatan A  Mx Kec  \n",
       "0  26.00      78.7        8          501          83         8.17    13.4  \n",
       "1  26.00     237.7       49          164          42         8.93    14.0  \n",
       "2  24.33     336.3       88           10           4        12.20    17.2  \n",
       "3  27.00     176.0       24          375          68         7.93    13.6  \n",
       "4  27.00     140.7       20          338          70         7.33    12.0  "
      ]
     },
     "execution_count": 5,
     "metadata": {},
     "output_type": "execute_result"
    }
   ],
   "source": [
    "# Check the head of the dataset\n",
    "bike.head()"
   ]
  },
  {
   "cell_type": "code",
   "execution_count": 6,
   "metadata": {
    "execution": {
     "iopub.execute_input": "2024-01-25T16:19:06.974816Z",
     "iopub.status.busy": "2024-01-25T16:19:06.973816Z",
     "iopub.status.idle": "2024-01-25T16:19:06.984283Z",
     "shell.execute_reply": "2024-01-25T16:19:06.984982Z",
     "shell.execute_reply.started": "2024-01-25T16:16:09.069237Z"
    },
    "papermill": {
     "duration": 0.125232,
     "end_time": "2024-01-25T16:19:06.985158",
     "exception": false,
     "start_time": "2024-01-25T16:19:06.859926",
     "status": "completed"
    },
    "tags": []
   },
   "outputs": [
    {
     "name": "stdout",
     "output_type": "stream",
     "text": [
      "<class 'pandas.core.frame.DataFrame'>\n",
      "RangeIndex: 40 entries, 0 to 39\n",
      "Data columns (total 13 columns):\n",
      " #   Column                Non-Null Count  Dtype  \n",
      "---  ------                --------------  -----  \n",
      " 0   Year                  40 non-null     int64  \n",
      " 1   Periode               40 non-null     object \n",
      " 2   Produktivitas Mangga  40 non-null     float64\n",
      " 3   Produktivitas Jeruk   40 non-null     float64\n",
      " 4   Max                   40 non-null     float64\n",
      " 5   Min                   40 non-null     float64\n",
      " 6   Tavg                  40 non-null     float64\n",
      " 7   Sun Hour              40 non-null     float64\n",
      " 8   Sun Day               40 non-null     int64  \n",
      " 9   Curah Hujan           40 non-null     int64  \n",
      " 10  Hari Hujan            40 non-null     int64  \n",
      " 11  Kecepatan A           40 non-null     float64\n",
      " 12  Mx Kec                40 non-null     float64\n",
      "dtypes: float64(8), int64(4), object(1)\n",
      "memory usage: 4.2+ KB\n"
     ]
    }
   ],
   "source": [
    "# Check the descriptive information\n",
    "bike.info()"
   ]
  },
  {
   "cell_type": "code",
   "execution_count": 7,
   "metadata": {
    "execution": {
     "iopub.execute_input": "2024-01-25T16:19:07.197274Z",
     "iopub.status.busy": "2024-01-25T16:19:07.196194Z",
     "iopub.status.idle": "2024-01-25T16:19:07.257663Z",
     "shell.execute_reply": "2024-01-25T16:19:07.256957Z",
     "shell.execute_reply.started": "2024-01-25T16:16:09.089278Z"
    },
    "papermill": {
     "duration": 0.172326,
     "end_time": "2024-01-25T16:19:07.257802",
     "exception": false,
     "start_time": "2024-01-25T16:19:07.085476",
     "status": "completed"
    },
    "tags": []
   },
   "outputs": [
    {
     "data": {
      "text/html": [
       "<div>\n",
       "<style scoped>\n",
       "    .dataframe tbody tr th:only-of-type {\n",
       "        vertical-align: middle;\n",
       "    }\n",
       "\n",
       "    .dataframe tbody tr th {\n",
       "        vertical-align: top;\n",
       "    }\n",
       "\n",
       "    .dataframe thead th {\n",
       "        text-align: right;\n",
       "    }\n",
       "</style>\n",
       "<table border=\"1\" class=\"dataframe\">\n",
       "  <thead>\n",
       "    <tr style=\"text-align: right;\">\n",
       "      <th></th>\n",
       "      <th>Year</th>\n",
       "      <th>Produktivitas Mangga</th>\n",
       "      <th>Produktivitas Jeruk</th>\n",
       "      <th>Max</th>\n",
       "      <th>Min</th>\n",
       "      <th>Tavg</th>\n",
       "      <th>Sun Hour</th>\n",
       "      <th>Sun Day</th>\n",
       "      <th>Curah Hujan</th>\n",
       "      <th>Hari Hujan</th>\n",
       "      <th>Kecepatan A</th>\n",
       "      <th>Mx Kec</th>\n",
       "    </tr>\n",
       "  </thead>\n",
       "  <tbody>\n",
       "    <tr>\n",
       "      <th>count</th>\n",
       "      <td>40.000000</td>\n",
       "      <td>40.0000</td>\n",
       "      <td>40.000000</td>\n",
       "      <td>40.000000</td>\n",
       "      <td>40.000000</td>\n",
       "      <td>40.000000</td>\n",
       "      <td>40.000000</td>\n",
       "      <td>40.00000</td>\n",
       "      <td>40.000000</td>\n",
       "      <td>40.000000</td>\n",
       "      <td>40.000000</td>\n",
       "      <td>40.00000</td>\n",
       "    </tr>\n",
       "    <tr>\n",
       "      <th>mean</th>\n",
       "      <td>2016.500000</td>\n",
       "      <td>0.4385</td>\n",
       "      <td>0.188500</td>\n",
       "      <td>29.175000</td>\n",
       "      <td>24.700000</td>\n",
       "      <td>26.683500</td>\n",
       "      <td>191.615000</td>\n",
       "      <td>40.05000</td>\n",
       "      <td>296.975000</td>\n",
       "      <td>63.725000</td>\n",
       "      <td>7.432500</td>\n",
       "      <td>11.94000</td>\n",
       "    </tr>\n",
       "    <tr>\n",
       "      <th>std</th>\n",
       "      <td>2.908872</td>\n",
       "      <td>0.2978</td>\n",
       "      <td>0.174922</td>\n",
       "      <td>0.930605</td>\n",
       "      <td>0.992278</td>\n",
       "      <td>1.010064</td>\n",
       "      <td>78.482399</td>\n",
       "      <td>25.66645</td>\n",
       "      <td>345.464421</td>\n",
       "      <td>67.614665</td>\n",
       "      <td>1.631161</td>\n",
       "      <td>2.36706</td>\n",
       "    </tr>\n",
       "    <tr>\n",
       "      <th>min</th>\n",
       "      <td>2012.000000</td>\n",
       "      <td>0.0000</td>\n",
       "      <td>0.000000</td>\n",
       "      <td>28.000000</td>\n",
       "      <td>22.000000</td>\n",
       "      <td>24.330000</td>\n",
       "      <td>30.000000</td>\n",
       "      <td>6.00000</td>\n",
       "      <td>4.000000</td>\n",
       "      <td>4.000000</td>\n",
       "      <td>5.170000</td>\n",
       "      <td>7.90000</td>\n",
       "    </tr>\n",
       "    <tr>\n",
       "      <th>25%</th>\n",
       "      <td>2014.000000</td>\n",
       "      <td>0.2550</td>\n",
       "      <td>0.100000</td>\n",
       "      <td>28.000000</td>\n",
       "      <td>24.000000</td>\n",
       "      <td>26.000000</td>\n",
       "      <td>137.025000</td>\n",
       "      <td>20.00000</td>\n",
       "      <td>93.750000</td>\n",
       "      <td>30.250000</td>\n",
       "      <td>6.322500</td>\n",
       "      <td>10.27500</td>\n",
       "    </tr>\n",
       "    <tr>\n",
       "      <th>50%</th>\n",
       "      <td>2016.500000</td>\n",
       "      <td>0.4900</td>\n",
       "      <td>0.160000</td>\n",
       "      <td>29.000000</td>\n",
       "      <td>25.000000</td>\n",
       "      <td>26.835000</td>\n",
       "      <td>182.000000</td>\n",
       "      <td>29.50000</td>\n",
       "      <td>246.500000</td>\n",
       "      <td>51.500000</td>\n",
       "      <td>7.120000</td>\n",
       "      <td>12.05000</td>\n",
       "    </tr>\n",
       "    <tr>\n",
       "      <th>75%</th>\n",
       "      <td>2019.000000</td>\n",
       "      <td>0.5900</td>\n",
       "      <td>0.242500</td>\n",
       "      <td>30.000000</td>\n",
       "      <td>25.000000</td>\n",
       "      <td>27.670000</td>\n",
       "      <td>239.450000</td>\n",
       "      <td>57.00000</td>\n",
       "      <td>385.750000</td>\n",
       "      <td>69.250000</td>\n",
       "      <td>8.117500</td>\n",
       "      <td>13.67500</td>\n",
       "    </tr>\n",
       "    <tr>\n",
       "      <th>max</th>\n",
       "      <td>2021.000000</td>\n",
       "      <td>1.3700</td>\n",
       "      <td>0.850000</td>\n",
       "      <td>31.000000</td>\n",
       "      <td>26.000000</td>\n",
       "      <td>28.330000</td>\n",
       "      <td>336.300000</td>\n",
       "      <td>88.00000</td>\n",
       "      <td>2008.000000</td>\n",
       "      <td>385.000000</td>\n",
       "      <td>12.200000</td>\n",
       "      <td>17.20000</td>\n",
       "    </tr>\n",
       "  </tbody>\n",
       "</table>\n",
       "</div>"
      ],
      "text/plain": [
       "              Year  Produktivitas Mangga  Produktivitas Jeruk        Max  \\\n",
       "count    40.000000               40.0000            40.000000  40.000000   \n",
       "mean   2016.500000                0.4385             0.188500  29.175000   \n",
       "std       2.908872                0.2978             0.174922   0.930605   \n",
       "min    2012.000000                0.0000             0.000000  28.000000   \n",
       "25%    2014.000000                0.2550             0.100000  28.000000   \n",
       "50%    2016.500000                0.4900             0.160000  29.000000   \n",
       "75%    2019.000000                0.5900             0.242500  30.000000   \n",
       "max    2021.000000                1.3700             0.850000  31.000000   \n",
       "\n",
       "             Min       Tavg    Sun Hour   Sun Day  Curah Hujan  Hari Hujan  \\\n",
       "count  40.000000  40.000000   40.000000  40.00000    40.000000   40.000000   \n",
       "mean   24.700000  26.683500  191.615000  40.05000   296.975000   63.725000   \n",
       "std     0.992278   1.010064   78.482399  25.66645   345.464421   67.614665   \n",
       "min    22.000000  24.330000   30.000000   6.00000     4.000000    4.000000   \n",
       "25%    24.000000  26.000000  137.025000  20.00000    93.750000   30.250000   \n",
       "50%    25.000000  26.835000  182.000000  29.50000   246.500000   51.500000   \n",
       "75%    25.000000  27.670000  239.450000  57.00000   385.750000   69.250000   \n",
       "max    26.000000  28.330000  336.300000  88.00000  2008.000000  385.000000   \n",
       "\n",
       "       Kecepatan A    Mx Kec  \n",
       "count    40.000000  40.00000  \n",
       "mean      7.432500  11.94000  \n",
       "std       1.631161   2.36706  \n",
       "min       5.170000   7.90000  \n",
       "25%       6.322500  10.27500  \n",
       "50%       7.120000  12.05000  \n",
       "75%       8.117500  13.67500  \n",
       "max      12.200000  17.20000  "
      ]
     },
     "execution_count": 7,
     "metadata": {},
     "output_type": "execute_result"
    }
   ],
   "source": [
    "bike.describe()"
   ]
  },
  {
   "cell_type": "code",
   "execution_count": 8,
   "metadata": {
    "execution": {
     "iopub.execute_input": "2024-01-25T16:19:07.469845Z",
     "iopub.status.busy": "2024-01-25T16:19:07.468972Z",
     "iopub.status.idle": "2024-01-25T16:19:07.473283Z",
     "shell.execute_reply": "2024-01-25T16:19:07.474088Z",
     "shell.execute_reply.started": "2024-01-25T16:16:09.156186Z"
    },
    "papermill": {
     "duration": 0.114771,
     "end_time": "2024-01-25T16:19:07.474275",
     "exception": false,
     "start_time": "2024-01-25T16:19:07.359504",
     "status": "completed"
    },
    "tags": []
   },
   "outputs": [
    {
     "name": "stdout",
     "output_type": "stream",
     "text": [
      "(40, 13)\n"
     ]
    }
   ],
   "source": [
    "# Check the shape of df\n",
    "\n",
    "print(bike.shape)"
   ]
  },
  {
   "cell_type": "markdown",
   "metadata": {
    "papermill": {
     "duration": 0.101706,
     "end_time": "2024-01-25T16:19:07.679215",
     "exception": false,
     "start_time": "2024-01-25T16:19:07.577509",
     "status": "completed"
    },
    "tags": []
   },
   "source": [
    "## Finding : \n",
    "Dataset has 40 rows and 13 columns.\n",
    "\n",
    "variable 'Sun day', 'Curah Hujan', 'Hari hujan' berbentuk *int* untuk variable 'Periode' berupa *string*\n",
    "\n",
    "Selain itu, semua variable berupa **float***"
   ]
  },
  {
   "cell_type": "markdown",
   "metadata": {
    "papermill": {
     "duration": 0.098345,
     "end_time": "2024-01-25T16:19:07.878382",
     "exception": false,
     "start_time": "2024-01-25T16:19:07.780037",
     "status": "completed"
    },
    "tags": []
   },
   "source": [
    "# DATA QUALITY CHECK"
   ]
  },
  {
   "cell_type": "markdown",
   "metadata": {
    "papermill": {
     "duration": 0.101901,
     "end_time": "2024-01-25T16:19:08.081006",
     "exception": false,
     "start_time": "2024-01-25T16:19:07.979105",
     "status": "completed"
    },
    "tags": []
   },
   "source": [
    "## Check for NULL/MISSING values"
   ]
  },
  {
   "cell_type": "code",
   "execution_count": 9,
   "metadata": {
    "execution": {
     "iopub.execute_input": "2024-01-25T16:19:08.292100Z",
     "iopub.status.busy": "2024-01-25T16:19:08.291113Z",
     "iopub.status.idle": "2024-01-25T16:19:08.317574Z",
     "shell.execute_reply": "2024-01-25T16:19:08.318378Z",
     "shell.execute_reply.started": "2024-01-25T16:16:09.163982Z"
    },
    "papermill": {
     "duration": 0.13798,
     "end_time": "2024-01-25T16:19:08.318649",
     "exception": false,
     "start_time": "2024-01-25T16:19:08.180669",
     "status": "completed"
    },
    "tags": []
   },
   "outputs": [
    {
     "data": {
      "text/plain": [
       "Mx Kec                  0.0\n",
       "Kecepatan A             0.0\n",
       "Hari Hujan              0.0\n",
       "Curah Hujan             0.0\n",
       "Sun Day                 0.0\n",
       "Sun Hour                0.0\n",
       "Tavg                    0.0\n",
       "Min                     0.0\n",
       "Max                     0.0\n",
       "Produktivitas Jeruk     0.0\n",
       "Produktivitas Mangga    0.0\n",
       "Periode                 0.0\n",
       "Year                    0.0\n",
       "dtype: float64"
      ]
     },
     "execution_count": 9,
     "metadata": {},
     "output_type": "execute_result"
    }
   ],
   "source": [
    "# percentage of missing values in each column\n",
    "round(100*(bike.isnull().sum()/len(bike)), 2).sort_values(ascending=False)"
   ]
  },
  {
   "cell_type": "code",
   "execution_count": 10,
   "metadata": {
    "execution": {
     "iopub.execute_input": "2024-01-25T16:19:08.528168Z",
     "iopub.status.busy": "2024-01-25T16:19:08.527266Z",
     "iopub.status.idle": "2024-01-25T16:19:08.540867Z",
     "shell.execute_reply": "2024-01-25T16:19:08.540210Z",
     "shell.execute_reply.started": "2024-01-25T16:16:09.180847Z"
    },
    "papermill": {
     "duration": 0.12065,
     "end_time": "2024-01-25T16:19:08.541012",
     "exception": false,
     "start_time": "2024-01-25T16:19:08.420362",
     "status": "completed"
    },
    "tags": []
   },
   "outputs": [
    {
     "data": {
      "text/plain": [
       "39    0.0\n",
       "38    0.0\n",
       "17    0.0\n",
       "16    0.0\n",
       "15    0.0\n",
       "14    0.0\n",
       "13    0.0\n",
       "12    0.0\n",
       "11    0.0\n",
       "10    0.0\n",
       "9     0.0\n",
       "8     0.0\n",
       "7     0.0\n",
       "6     0.0\n",
       "5     0.0\n",
       "4     0.0\n",
       "3     0.0\n",
       "2     0.0\n",
       "1     0.0\n",
       "18    0.0\n",
       "19    0.0\n",
       "20    0.0\n",
       "30    0.0\n",
       "37    0.0\n",
       "36    0.0\n",
       "35    0.0\n",
       "34    0.0\n",
       "33    0.0\n",
       "32    0.0\n",
       "31    0.0\n",
       "29    0.0\n",
       "21    0.0\n",
       "28    0.0\n",
       "27    0.0\n",
       "26    0.0\n",
       "25    0.0\n",
       "24    0.0\n",
       "23    0.0\n",
       "22    0.0\n",
       "0     0.0\n",
       "dtype: float64"
      ]
     },
     "execution_count": 10,
     "metadata": {},
     "output_type": "execute_result"
    }
   ],
   "source": [
    "# row-wise null count percentage\n",
    "round((bike.isnull().sum(axis=1)/len(bike))*100,2).sort_values(ascending=False)"
   ]
  },
  {
   "cell_type": "markdown",
   "metadata": {
    "papermill": {
     "duration": 0.100034,
     "end_time": "2024-01-25T16:19:08.743826",
     "exception": false,
     "start_time": "2024-01-25T16:19:08.643792",
     "status": "completed"
    },
    "tags": []
   },
   "source": [
    "## Finding\n",
    "There are no missing / Null values either in columns or rows"
   ]
  },
  {
   "cell_type": "markdown",
   "metadata": {
    "papermill": {
     "duration": 0.099339,
     "end_time": "2024-01-25T16:19:08.946042",
     "exception": false,
     "start_time": "2024-01-25T16:19:08.846703",
     "status": "completed"
    },
    "tags": []
   },
   "source": [
    "## Duplicate Check"
   ]
  },
  {
   "cell_type": "code",
   "execution_count": 11,
   "metadata": {
    "execution": {
     "iopub.execute_input": "2024-01-25T16:19:09.164422Z",
     "iopub.status.busy": "2024-01-25T16:19:09.163602Z",
     "iopub.status.idle": "2024-01-25T16:19:09.170746Z",
     "shell.execute_reply": "2024-01-25T16:19:09.169879Z",
     "shell.execute_reply.started": "2024-01-25T16:16:09.198610Z"
    },
    "papermill": {
     "duration": 0.12433,
     "end_time": "2024-01-25T16:19:09.170889",
     "exception": false,
     "start_time": "2024-01-25T16:19:09.046559",
     "status": "completed"
    },
    "tags": []
   },
   "outputs": [],
   "source": [
    "bike_dup = bike.copy()\n",
    "\n",
    "# Checking for duplicates and dropping the entire duplicate row if any\n",
    "bike_dup.drop_duplicates(subset=None, inplace=True)"
   ]
  },
  {
   "cell_type": "code",
   "execution_count": 12,
   "metadata": {
    "execution": {
     "iopub.execute_input": "2024-01-25T16:19:09.442227Z",
     "iopub.status.busy": "2024-01-25T16:19:09.441382Z",
     "iopub.status.idle": "2024-01-25T16:19:09.444847Z",
     "shell.execute_reply": "2024-01-25T16:19:09.445467Z",
     "shell.execute_reply.started": "2024-01-25T16:16:09.217208Z"
    },
    "papermill": {
     "duration": 0.169953,
     "end_time": "2024-01-25T16:19:09.445642",
     "exception": false,
     "start_time": "2024-01-25T16:19:09.275689",
     "status": "completed"
    },
    "tags": []
   },
   "outputs": [
    {
     "data": {
      "text/plain": [
       "(40, 13)"
      ]
     },
     "execution_count": 12,
     "metadata": {},
     "output_type": "execute_result"
    }
   ],
   "source": [
    "bike_dup.shape"
   ]
  },
  {
   "cell_type": "code",
   "execution_count": 13,
   "metadata": {
    "execution": {
     "iopub.execute_input": "2024-01-25T16:19:09.659923Z",
     "iopub.status.busy": "2024-01-25T16:19:09.658781Z",
     "iopub.status.idle": "2024-01-25T16:19:09.665195Z",
     "shell.execute_reply": "2024-01-25T16:19:09.665880Z",
     "shell.execute_reply.started": "2024-01-25T16:16:09.226488Z"
    },
    "papermill": {
     "duration": 0.114824,
     "end_time": "2024-01-25T16:19:09.666044",
     "exception": false,
     "start_time": "2024-01-25T16:19:09.551220",
     "status": "completed"
    },
    "tags": []
   },
   "outputs": [
    {
     "data": {
      "text/plain": [
       "(40, 13)"
      ]
     },
     "execution_count": 13,
     "metadata": {},
     "output_type": "execute_result"
    }
   ],
   "source": [
    "bike.shape"
   ]
  },
  {
   "cell_type": "markdown",
   "metadata": {
    "papermill": {
     "duration": 0.101612,
     "end_time": "2024-01-25T16:19:09.868409",
     "exception": false,
     "start_time": "2024-01-25T16:19:09.766797",
     "status": "completed"
    },
    "tags": []
   },
   "source": [
    "### Insights \n",
    "\n",
    "The shape after running the drop duplicate command is same as the original dataframe. \n",
    "\n",
    "Hence we can conclude that there were zero duplicate values in the dataset. "
   ]
  },
  {
   "cell_type": "markdown",
   "metadata": {
    "papermill": {
     "duration": 0.101959,
     "end_time": "2024-01-25T16:19:10.071986",
     "exception": false,
     "start_time": "2024-01-25T16:19:09.970027",
     "status": "completed"
    },
    "tags": []
   },
   "source": [
    "## Data Cleaning\n",
    "\n",
    "Checking value_counts() for entire dataframe. \n",
    "\n",
    "This will help to identify any Unknow/Junk values present in the dataset."
   ]
  },
  {
   "cell_type": "code",
   "execution_count": 14,
   "metadata": {
    "execution": {
     "iopub.execute_input": "2024-01-25T16:19:10.279773Z",
     "iopub.status.busy": "2024-01-25T16:19:10.278624Z",
     "iopub.status.idle": "2024-01-25T16:19:10.285990Z",
     "shell.execute_reply": "2024-01-25T16:19:10.285030Z",
     "shell.execute_reply.started": "2024-01-25T16:16:09.238667Z"
    },
    "papermill": {
     "duration": 0.11326,
     "end_time": "2024-01-25T16:19:10.286164",
     "exception": false,
     "start_time": "2024-01-25T16:19:10.172904",
     "status": "completed"
    },
    "tags": []
   },
   "outputs": [],
   "source": [
    "#Create a copy of the  dataframe, without the 'instant' column, \n",
    "\n",
    "#as this will have unique values, and donot make sense to do a value count on it.\n",
    "\n",
    "bike_dummy=bike.iloc[:,1:16]"
   ]
  },
  {
   "cell_type": "code",
   "execution_count": 15,
   "metadata": {
    "execution": {
     "iopub.execute_input": "2024-01-25T16:19:10.533729Z",
     "iopub.status.busy": "2024-01-25T16:19:10.529949Z",
     "iopub.status.idle": "2024-01-25T16:19:10.540987Z",
     "shell.execute_reply": "2024-01-25T16:19:10.540132Z",
     "shell.execute_reply.started": "2024-01-25T16:16:09.250671Z"
    },
    "papermill": {
     "duration": 0.148326,
     "end_time": "2024-01-25T16:19:10.541137",
     "exception": false,
     "start_time": "2024-01-25T16:19:10.392811",
     "status": "completed"
    },
    "tags": []
   },
   "outputs": [
    {
     "name": "stdout",
     "output_type": "stream",
     "text": [
      "Triwulan III    10\n",
      "Triwulan I      10\n",
      "Triwulan IV     10\n",
      "Triwulan II     10\n",
      "Name: Periode, dtype: int64 \n",
      "\n",
      "\n",
      "\n",
      "0.00    8\n",
      "0.65    3\n",
      "0.50    2\n",
      "0.59    2\n",
      "0.47    2\n",
      "0.46    2\n",
      "0.53    1\n",
      "0.68    1\n",
      "0.67    1\n",
      "0.54    1\n",
      "0.52    1\n",
      "0.24    1\n",
      "0.44    1\n",
      "0.70    1\n",
      "0.55    1\n",
      "0.71    1\n",
      "1.37    1\n",
      "0.26    1\n",
      "0.58    1\n",
      "0.48    1\n",
      "0.37    1\n",
      "0.51    1\n",
      "0.23    1\n",
      "0.56    1\n",
      "0.30    1\n",
      "1.04    1\n",
      "0.27    1\n",
      "Name: Produktivitas Mangga, dtype: int64 \n",
      "\n",
      "\n",
      "\n",
      "0.00    7\n",
      "0.10    5\n",
      "0.25    3\n",
      "0.16    3\n",
      "0.26    2\n",
      "0.15    2\n",
      "0.18    2\n",
      "0.11    2\n",
      "0.13    1\n",
      "0.12    1\n",
      "0.22    1\n",
      "0.19    1\n",
      "0.31    1\n",
      "0.24    1\n",
      "0.47    1\n",
      "0.85    1\n",
      "0.50    1\n",
      "0.17    1\n",
      "0.66    1\n",
      "0.21    1\n",
      "0.14    1\n",
      "0.20    1\n",
      "Name: Produktivitas Jeruk, dtype: int64 \n",
      "\n",
      "\n",
      "\n",
      "30.0    15\n",
      "28.0    12\n",
      "29.0    11\n",
      "31.0     2\n",
      "Name: Max, dtype: int64 \n",
      "\n",
      "\n",
      "\n",
      "25.0    15\n",
      "24.0    12\n",
      "26.0     9\n",
      "23.0     3\n",
      "22.0     1\n",
      "Name: Min, dtype: int64 \n",
      "\n",
      "\n",
      "\n",
      "27.00    6\n",
      "27.67    5\n",
      "28.00    5\n",
      "26.00    5\n",
      "25.67    4\n",
      "26.33    3\n",
      "26.67    3\n",
      "27.33    3\n",
      "25.00    2\n",
      "25.33    2\n",
      "24.33    1\n",
      "28.33    1\n",
      "Name: Tavg, dtype: int64 \n",
      "\n",
      "\n",
      "\n",
      "302.0    2\n",
      "225.7    2\n",
      "179.3    1\n",
      "214.3    1\n",
      "162.3    1\n",
      "306.3    1\n",
      "30.0     1\n",
      "234.3    1\n",
      "221.0    1\n",
      "111.0    1\n",
      "47.0     1\n",
      "130.3    1\n",
      "320.0    1\n",
      "166.0    1\n",
      "297.3    1\n",
      "135.0    1\n",
      "156.0    1\n",
      "187.0    1\n",
      "237.7    1\n",
      "140.7    1\n",
      "83.7     1\n",
      "184.7    1\n",
      "336.3    1\n",
      "236.3    1\n",
      "133.7    1\n",
      "121.3    1\n",
      "141.3    1\n",
      "244.7    1\n",
      "316.3    1\n",
      "78.7     1\n",
      "254.7    1\n",
      "168.3    1\n",
      "209.7    1\n",
      "102.7    1\n",
      "269.3    1\n",
      "137.7    1\n",
      "138.3    1\n",
      "176.0    1\n",
      "Name: Sun Hour, dtype: int64 \n",
      "\n",
      "\n",
      "\n",
      "24    4\n",
      "83    3\n",
      "33    2\n",
      "46    2\n",
      "25    2\n",
      "45    2\n",
      "20    2\n",
      "10    1\n",
      "8     1\n",
      "18    1\n",
      "75    1\n",
      "7     1\n",
      "13    1\n",
      "6     1\n",
      "14    1\n",
      "79    1\n",
      "17    1\n",
      "70    1\n",
      "23    1\n",
      "19    1\n",
      "22    1\n",
      "71    1\n",
      "88    1\n",
      "26    1\n",
      "81    1\n",
      "49    1\n",
      "50    1\n",
      "53    1\n",
      "54    1\n",
      "66    1\n",
      "Name: Sun Day, dtype: int64 \n",
      "\n",
      "\n",
      "\n",
      "20      2\n",
      "319     1\n",
      "152     1\n",
      "214     1\n",
      "405     1\n",
      "84      1\n",
      "2008    1\n",
      "338     1\n",
      "640     1\n",
      "400     1\n",
      "143     1\n",
      "289     1\n",
      "268     1\n",
      "10      1\n",
      "22      1\n",
      "136     1\n",
      "74      1\n",
      "133     1\n",
      "4       1\n",
      "279     1\n",
      "391     1\n",
      "444     1\n",
      "1053    1\n",
      "375     1\n",
      "54      1\n",
      "501     1\n",
      "216     1\n",
      "177     1\n",
      "437     1\n",
      "302     1\n",
      "12      1\n",
      "300     1\n",
      "295     1\n",
      "97      1\n",
      "164     1\n",
      "46      1\n",
      "384     1\n",
      "225     1\n",
      "448     1\n",
      "Name: Curah Hujan, dtype: int64 \n",
      "\n",
      "\n",
      "\n",
      "67     4\n",
      "41     3\n",
      "45     2\n",
      "47     2\n",
      "68     2\n",
      "9      2\n",
      "25     2\n",
      "59     1\n",
      "11     1\n",
      "10     1\n",
      "69     1\n",
      "72     1\n",
      "70     1\n",
      "80     1\n",
      "4      1\n",
      "66     1\n",
      "78     1\n",
      "84     1\n",
      "17     1\n",
      "83     1\n",
      "249    1\n",
      "85     1\n",
      "22     1\n",
      "154    1\n",
      "32     1\n",
      "37     1\n",
      "42     1\n",
      "5      1\n",
      "56     1\n",
      "385    1\n",
      "Name: Hari Hujan, dtype: int64 \n",
      "\n",
      "\n",
      "\n",
      "7.57     2\n",
      "7.93     2\n",
      "7.60     2\n",
      "6.67     1\n",
      "8.57     1\n",
      "6.40     1\n",
      "12.20    1\n",
      "6.33     1\n",
      "8.83     1\n",
      "8.17     1\n",
      "6.17     1\n",
      "6.87     1\n",
      "7.07     1\n",
      "8.93     1\n",
      "7.03     1\n",
      "6.77     1\n",
      "6.47     1\n",
      "9.50     1\n",
      "10.73    1\n",
      "5.67     1\n",
      "9.77     1\n",
      "8.40     1\n",
      "6.27     1\n",
      "6.57     1\n",
      "5.30     1\n",
      "11.43    1\n",
      "6.30     1\n",
      "5.17     1\n",
      "8.10     1\n",
      "5.47     1\n",
      "7.77     1\n",
      "7.33     1\n",
      "5.53     1\n",
      "7.17     1\n",
      "5.57     1\n",
      "6.07     1\n",
      "6.50     1\n",
      "Name: Kecepatan A, dtype: int64 \n",
      "\n",
      "\n",
      "\n",
      "14.8    3\n",
      "10.8    2\n",
      "10.4    2\n",
      "10.3    2\n",
      "12.7    2\n",
      "12.9    2\n",
      "10.5    1\n",
      "16.5    1\n",
      "14.5    1\n",
      "13.9    1\n",
      "15.2    1\n",
      "12.0    1\n",
      "9.1     1\n",
      "9.8     1\n",
      "13.3    1\n",
      "8.6     1\n",
      "8.4     1\n",
      "12.3    1\n",
      "9.5     1\n",
      "14.6    1\n",
      "10.2    1\n",
      "12.6    1\n",
      "11.3    1\n",
      "11.2    1\n",
      "9.7     1\n",
      "8.2     1\n",
      "17.2    1\n",
      "13.4    1\n",
      "9.4     1\n",
      "7.9     1\n",
      "13.6    1\n",
      "12.1    1\n",
      "14.0    1\n",
      "Name: Mx Kec, dtype: int64 \n",
      "\n",
      "\n",
      "\n"
     ]
    }
   ],
   "source": [
    "for col in bike_dummy:\n",
    "    print(bike_dummy[col].value_counts(ascending=False), '\\n\\n\\n')"
   ]
  },
  {
   "cell_type": "markdown",
   "metadata": {
    "papermill": {
     "duration": 0.101473,
     "end_time": "2024-01-25T16:19:10.747517",
     "exception": false,
     "start_time": "2024-01-25T16:19:10.646044",
     "status": "completed"
    },
    "tags": []
   },
   "source": [
    "### Insights \n",
    "There seems to be no Junk/Unknown values in the entire dataset."
   ]
  },
  {
   "cell_type": "markdown",
   "metadata": {
    "papermill": {
     "duration": 0.101828,
     "end_time": "2024-01-25T16:19:10.951601",
     "exception": false,
     "start_time": "2024-01-25T16:19:10.849773",
     "status": "completed"
    },
    "tags": []
   },
   "source": [
    "# Removing redundant & unwanted columns"
   ]
  },
  {
   "cell_type": "code",
   "execution_count": 16,
   "metadata": {
    "execution": {
     "iopub.execute_input": "2024-01-25T16:19:11.168130Z",
     "iopub.status.busy": "2024-01-25T16:19:11.167150Z",
     "iopub.status.idle": "2024-01-25T16:19:11.172439Z",
     "shell.execute_reply": "2024-01-25T16:19:11.171591Z",
     "shell.execute_reply.started": "2024-01-25T16:16:09.298200Z"
    },
    "papermill": {
     "duration": 0.11896,
     "end_time": "2024-01-25T16:19:11.172597",
     "exception": false,
     "start_time": "2024-01-25T16:19:11.053637",
     "status": "completed"
    },
    "tags": []
   },
   "outputs": [
    {
     "data": {
      "text/plain": [
       "Index(['Year', 'Periode', 'Produktivitas Mangga', 'Produktivitas Jeruk', 'Max',\n",
       "       'Min', 'Tavg', 'Sun Hour', 'Sun Day', 'Curah Hujan', 'Hari Hujan',\n",
       "       'Kecepatan A', 'Mx Kec'],\n",
       "      dtype='object')"
      ]
     },
     "execution_count": 16,
     "metadata": {},
     "output_type": "execute_result"
    }
   ],
   "source": [
    "bike.columns"
   ]
  },
  {
   "cell_type": "code",
   "execution_count": 17,
   "metadata": {
    "execution": {
     "iopub.execute_input": "2024-01-25T16:19:11.388418Z",
     "iopub.status.busy": "2024-01-25T16:19:11.387371Z",
     "iopub.status.idle": "2024-01-25T16:19:11.391238Z",
     "shell.execute_reply": "2024-01-25T16:19:11.390557Z",
     "shell.execute_reply.started": "2024-01-25T16:16:09.308559Z"
    },
    "papermill": {
     "duration": 0.114448,
     "end_time": "2024-01-25T16:19:11.391392",
     "exception": false,
     "start_time": "2024-01-25T16:19:11.276944",
     "status": "completed"
    },
    "tags": []
   },
   "outputs": [],
   "source": [
    "bike_new=bike[['Year', 'Periode','Produktivitas Jeruk', 'Kecepatan A',\n",
    "       'Mx Kec']]\n"
   ]
  },
  {
   "cell_type": "code",
   "execution_count": 18,
   "metadata": {
    "execution": {
     "iopub.execute_input": "2024-01-25T16:19:11.616520Z",
     "iopub.status.busy": "2024-01-25T16:19:11.615225Z",
     "iopub.status.idle": "2024-01-25T16:19:11.619726Z",
     "shell.execute_reply": "2024-01-25T16:19:11.618967Z",
     "shell.execute_reply.started": "2024-01-25T16:16:09.320790Z"
    },
    "papermill": {
     "duration": 0.116383,
     "end_time": "2024-01-25T16:19:11.619866",
     "exception": false,
     "start_time": "2024-01-25T16:19:11.503483",
     "status": "completed"
    },
    "tags": []
   },
   "outputs": [],
   "source": [
    "bike_new_new=bike[['Produktivitas Jeruk', 'Kecepatan A',\n",
    "       'Mx Kec']]"
   ]
  },
  {
   "cell_type": "code",
   "execution_count": 19,
   "metadata": {
    "execution": {
     "iopub.execute_input": "2024-01-25T16:19:11.838764Z",
     "iopub.status.busy": "2024-01-25T16:19:11.837889Z",
     "iopub.status.idle": "2024-01-25T16:19:11.842056Z",
     "shell.execute_reply": "2024-01-25T16:19:11.841229Z",
     "shell.execute_reply.started": "2024-01-25T16:16:09.333380Z"
    },
    "papermill": {
     "duration": 0.118821,
     "end_time": "2024-01-25T16:19:11.842193",
     "exception": false,
     "start_time": "2024-01-25T16:19:11.723372",
     "status": "completed"
    },
    "tags": []
   },
   "outputs": [
    {
     "name": "stdout",
     "output_type": "stream",
     "text": [
      "<class 'pandas.core.frame.DataFrame'>\n",
      "RangeIndex: 40 entries, 0 to 39\n",
      "Data columns (total 5 columns):\n",
      " #   Column               Non-Null Count  Dtype  \n",
      "---  ------               --------------  -----  \n",
      " 0   Year                 40 non-null     int64  \n",
      " 1   Periode              40 non-null     object \n",
      " 2   Produktivitas Jeruk  40 non-null     float64\n",
      " 3   Kecepatan A          40 non-null     float64\n",
      " 4   Mx Kec               40 non-null     float64\n",
      "dtypes: float64(3), int64(1), object(1)\n",
      "memory usage: 1.7+ KB\n"
     ]
    }
   ],
   "source": [
    "bike_new.info()"
   ]
  },
  {
   "cell_type": "code",
   "execution_count": 20,
   "metadata": {
    "execution": {
     "iopub.execute_input": "2024-01-25T16:19:12.066684Z",
     "iopub.status.busy": "2024-01-25T16:19:12.065773Z",
     "iopub.status.idle": "2024-01-25T16:19:12.069504Z",
     "shell.execute_reply": "2024-01-25T16:19:12.070128Z",
     "shell.execute_reply.started": "2024-01-25T16:16:09.354676Z"
    },
    "papermill": {
     "duration": 0.121341,
     "end_time": "2024-01-25T16:19:12.070300",
     "exception": false,
     "start_time": "2024-01-25T16:19:11.948959",
     "status": "completed"
    },
    "tags": []
   },
   "outputs": [
    {
     "name": "stdout",
     "output_type": "stream",
     "text": [
      "<class 'pandas.core.frame.DataFrame'>\n",
      "RangeIndex: 40 entries, 0 to 39\n",
      "Data columns (total 3 columns):\n",
      " #   Column               Non-Null Count  Dtype  \n",
      "---  ------               --------------  -----  \n",
      " 0   Produktivitas Jeruk  40 non-null     float64\n",
      " 1   Kecepatan A          40 non-null     float64\n",
      " 2   Mx Kec               40 non-null     float64\n",
      "dtypes: float64(3)\n",
      "memory usage: 1.1 KB\n"
     ]
    }
   ],
   "source": [
    "bike_new_new.info()"
   ]
  },
  {
   "cell_type": "markdown",
   "metadata": {
    "papermill": {
     "duration": 0.10816,
     "end_time": "2024-01-25T16:19:12.282570",
     "exception": false,
     "start_time": "2024-01-25T16:19:12.174410",
     "status": "completed"
    },
    "tags": []
   },
   "source": [
    "# Creating Dummy Variables"
   ]
  },
  {
   "cell_type": "markdown",
   "metadata": {
    "papermill": {
     "duration": 0.107884,
     "end_time": "2024-01-25T16:19:12.496939",
     "exception": false,
     "start_time": "2024-01-25T16:19:12.389055",
     "status": "completed"
    },
    "tags": []
   },
   "source": [
    "We will create DUMMY variables for 4 categorical variables 'mnth', 'weekday', 'season' & 'weathersit'. \n",
    "- Before creating dummy variables, we will have to convert them into 'category' data types."
   ]
  },
  {
   "cell_type": "code",
   "execution_count": 21,
   "metadata": {
    "execution": {
     "iopub.execute_input": "2024-01-25T16:19:12.709178Z",
     "iopub.status.busy": "2024-01-25T16:19:12.708273Z",
     "iopub.status.idle": "2024-01-25T16:19:12.719253Z",
     "shell.execute_reply": "2024-01-25T16:19:12.719994Z",
     "shell.execute_reply.started": "2024-01-25T16:16:09.369860Z"
    },
    "papermill": {
     "duration": 0.119983,
     "end_time": "2024-01-25T16:19:12.720172",
     "exception": false,
     "start_time": "2024-01-25T16:19:12.600189",
     "status": "completed"
    },
    "tags": []
   },
   "outputs": [
    {
     "name": "stdout",
     "output_type": "stream",
     "text": [
      "<class 'pandas.core.frame.DataFrame'>\n",
      "RangeIndex: 40 entries, 0 to 39\n",
      "Data columns (total 5 columns):\n",
      " #   Column               Non-Null Count  Dtype  \n",
      "---  ------               --------------  -----  \n",
      " 0   Year                 40 non-null     int64  \n",
      " 1   Periode              40 non-null     object \n",
      " 2   Produktivitas Jeruk  40 non-null     float64\n",
      " 3   Kecepatan A          40 non-null     float64\n",
      " 4   Mx Kec               40 non-null     float64\n",
      "dtypes: float64(3), int64(1), object(1)\n",
      "memory usage: 1.7+ KB\n"
     ]
    }
   ],
   "source": [
    "# Check the datatypes before convertion\n",
    "bike_new.info()"
   ]
  },
  {
   "cell_type": "code",
   "execution_count": 22,
   "metadata": {
    "execution": {
     "iopub.execute_input": "2024-01-25T16:19:12.940140Z",
     "iopub.status.busy": "2024-01-25T16:19:12.939268Z",
     "iopub.status.idle": "2024-01-25T16:19:12.948107Z",
     "shell.execute_reply": "2024-01-25T16:19:12.948899Z",
     "shell.execute_reply.started": "2024-01-25T16:16:09.389804Z"
    },
    "papermill": {
     "duration": 0.120678,
     "end_time": "2024-01-25T16:19:12.949098",
     "exception": false,
     "start_time": "2024-01-25T16:19:12.828420",
     "status": "completed"
    },
    "tags": []
   },
   "outputs": [],
   "source": [
    "# Convert to 'category' data type\n",
    "\n",
    "bike_new['Year']=bike_new['Year'].astype('category')\n",
    "bike_new['Periode']=bike_new['Periode'].astype('category')"
   ]
  },
  {
   "cell_type": "code",
   "execution_count": 23,
   "metadata": {
    "execution": {
     "iopub.execute_input": "2024-01-25T16:19:13.168760Z",
     "iopub.status.busy": "2024-01-25T16:19:13.167876Z",
     "iopub.status.idle": "2024-01-25T16:19:13.178039Z",
     "shell.execute_reply": "2024-01-25T16:19:13.177402Z",
     "shell.execute_reply.started": "2024-01-25T16:16:09.400795Z"
    },
    "papermill": {
     "duration": 0.121951,
     "end_time": "2024-01-25T16:19:13.178187",
     "exception": false,
     "start_time": "2024-01-25T16:19:13.056236",
     "status": "completed"
    },
    "tags": []
   },
   "outputs": [
    {
     "name": "stdout",
     "output_type": "stream",
     "text": [
      "<class 'pandas.core.frame.DataFrame'>\n",
      "RangeIndex: 40 entries, 0 to 39\n",
      "Data columns (total 5 columns):\n",
      " #   Column               Non-Null Count  Dtype   \n",
      "---  ------               --------------  -----   \n",
      " 0   Year                 40 non-null     category\n",
      " 1   Periode              40 non-null     category\n",
      " 2   Produktivitas Jeruk  40 non-null     float64 \n",
      " 3   Kecepatan A          40 non-null     float64 \n",
      " 4   Mx Kec               40 non-null     float64 \n",
      "dtypes: category(2), float64(3)\n",
      "memory usage: 1.7 KB\n"
     ]
    }
   ],
   "source": [
    "bike_new.info()"
   ]
  },
  {
   "cell_type": "code",
   "execution_count": 24,
   "metadata": {
    "execution": {
     "iopub.execute_input": "2024-01-25T16:19:13.411494Z",
     "iopub.status.busy": "2024-01-25T16:19:13.400142Z",
     "iopub.status.idle": "2024-01-25T16:19:13.425693Z",
     "shell.execute_reply": "2024-01-25T16:19:13.426335Z",
     "shell.execute_reply.started": "2024-01-25T16:16:09.421894Z"
    },
    "papermill": {
     "duration": 0.139028,
     "end_time": "2024-01-25T16:19:13.426509",
     "exception": false,
     "start_time": "2024-01-25T16:19:13.287481",
     "status": "completed"
    },
    "tags": []
   },
   "outputs": [
    {
     "name": "stdout",
     "output_type": "stream",
     "text": [
      "<class 'pandas.core.frame.DataFrame'>\n",
      "RangeIndex: 40 entries, 0 to 39\n",
      "Data columns (total 17 columns):\n",
      " #   Column                Non-Null Count  Dtype  \n",
      "---  ------                --------------  -----  \n",
      " 0   Produktivitas Jeruk   40 non-null     float64\n",
      " 1   Kecepatan A           40 non-null     float64\n",
      " 2   Mx Kec                40 non-null     float64\n",
      " 3   Year_2012             40 non-null     uint8  \n",
      " 4   Year_2013             40 non-null     uint8  \n",
      " 5   Year_2014             40 non-null     uint8  \n",
      " 6   Year_2015             40 non-null     uint8  \n",
      " 7   Year_2016             40 non-null     uint8  \n",
      " 8   Year_2017             40 non-null     uint8  \n",
      " 9   Year_2018             40 non-null     uint8  \n",
      " 10  Year_2019             40 non-null     uint8  \n",
      " 11  Year_2020             40 non-null     uint8  \n",
      " 12  Year_2021             40 non-null     uint8  \n",
      " 13  Periode_Triwulan I    40 non-null     uint8  \n",
      " 14  Periode_Triwulan II   40 non-null     uint8  \n",
      " 15  Periode_Triwulan III  40 non-null     uint8  \n",
      " 16  Periode_Triwulan IV   40 non-null     uint8  \n",
      "dtypes: float64(3), uint8(14)\n",
      "memory usage: 1.6 KB\n"
     ]
    }
   ],
   "source": [
    "# This code does 3 things:\n",
    "# 1) Create Dummy variable\n",
    "# 2) Drop original variable for which the dummy was created\n",
    "# 3) Drop first dummy variable for each set of dummies created.\n",
    "\n",
    "bike_new = pd.get_dummies(bike_new)\n",
    "bike_new.info()"
   ]
  },
  {
   "cell_type": "code",
   "execution_count": 25,
   "metadata": {
    "execution": {
     "iopub.execute_input": "2024-01-25T16:19:13.646524Z",
     "iopub.status.busy": "2024-01-25T16:19:13.645187Z",
     "iopub.status.idle": "2024-01-25T16:19:13.650187Z",
     "shell.execute_reply": "2024-01-25T16:19:13.649579Z",
     "shell.execute_reply.started": "2024-01-25T16:16:09.449475Z"
    },
    "papermill": {
     "duration": 0.117366,
     "end_time": "2024-01-25T16:19:13.650356",
     "exception": false,
     "start_time": "2024-01-25T16:19:13.532990",
     "status": "completed"
    },
    "tags": []
   },
   "outputs": [
    {
     "data": {
      "text/plain": [
       "(40, 17)"
      ]
     },
     "execution_count": 25,
     "metadata": {},
     "output_type": "execute_result"
    }
   ],
   "source": [
    "bike_new.shape"
   ]
  },
  {
   "cell_type": "markdown",
   "metadata": {
    "papermill": {
     "duration": 0.106317,
     "end_time": "2024-01-25T16:19:13.862512",
     "exception": false,
     "start_time": "2024-01-25T16:19:13.756195",
     "status": "completed"
    },
    "tags": []
   },
   "source": [
    "## SPLITTING THE DATA\n",
    "- Splitting the data to Train and Test: - We will now split the data into TRAIN and TEST (70:30 ratio) \n",
    "- We will use train_test_split method from sklearn package for this"
   ]
  },
  {
   "cell_type": "code",
   "execution_count": 26,
   "metadata": {
    "execution": {
     "iopub.execute_input": "2024-01-25T16:19:14.081375Z",
     "iopub.status.busy": "2024-01-25T16:19:14.080010Z",
     "iopub.status.idle": "2024-01-25T16:19:14.084733Z",
     "shell.execute_reply": "2024-01-25T16:19:14.083944Z",
     "shell.execute_reply.started": "2024-01-25T16:16:09.463206Z"
    },
    "papermill": {
     "duration": 0.11801,
     "end_time": "2024-01-25T16:19:14.084874",
     "exception": false,
     "start_time": "2024-01-25T16:19:13.966864",
     "status": "completed"
    },
    "tags": []
   },
   "outputs": [
    {
     "data": {
      "text/plain": [
       "(40, 3)"
      ]
     },
     "execution_count": 26,
     "metadata": {},
     "output_type": "execute_result"
    }
   ],
   "source": [
    "# Check the shape before spliting\n",
    "\n",
    "bike_new_new.shape"
   ]
  },
  {
   "cell_type": "code",
   "execution_count": 27,
   "metadata": {
    "execution": {
     "iopub.execute_input": "2024-01-25T16:19:14.305163Z",
     "iopub.status.busy": "2024-01-25T16:19:14.304256Z",
     "iopub.status.idle": "2024-01-25T16:19:14.309381Z",
     "shell.execute_reply": "2024-01-25T16:19:14.310015Z",
     "shell.execute_reply.started": "2024-01-25T16:16:09.480986Z"
    },
    "papermill": {
     "duration": 0.120431,
     "end_time": "2024-01-25T16:19:14.310209",
     "exception": false,
     "start_time": "2024-01-25T16:19:14.189778",
     "status": "completed"
    },
    "tags": []
   },
   "outputs": [
    {
     "name": "stdout",
     "output_type": "stream",
     "text": [
      "<class 'pandas.core.frame.DataFrame'>\n",
      "RangeIndex: 40 entries, 0 to 39\n",
      "Data columns (total 3 columns):\n",
      " #   Column               Non-Null Count  Dtype  \n",
      "---  ------               --------------  -----  \n",
      " 0   Produktivitas Jeruk  40 non-null     float64\n",
      " 1   Kecepatan A          40 non-null     float64\n",
      " 2   Mx Kec               40 non-null     float64\n",
      "dtypes: float64(3)\n",
      "memory usage: 1.1 KB\n"
     ]
    }
   ],
   "source": [
    "# Check the info before spliting\n",
    "\n",
    "bike_new_new.info()"
   ]
  },
  {
   "cell_type": "code",
   "execution_count": 28,
   "metadata": {
    "execution": {
     "iopub.execute_input": "2024-01-25T16:19:14.535197Z",
     "iopub.status.busy": "2024-01-25T16:19:14.534021Z",
     "iopub.status.idle": "2024-01-25T16:19:14.667530Z",
     "shell.execute_reply": "2024-01-25T16:19:14.666649Z",
     "shell.execute_reply.started": "2024-01-25T16:16:09.495899Z"
    },
    "papermill": {
     "duration": 0.249655,
     "end_time": "2024-01-25T16:19:14.667677",
     "exception": false,
     "start_time": "2024-01-25T16:19:14.418022",
     "status": "completed"
    },
    "tags": []
   },
   "outputs": [],
   "source": [
    "from sklearn.model_selection import train_test_split\n",
    "\n",
    "# We should specify 'random_state' so that the train and test data set always have the same rows, respectively\n",
    "\n",
    "np.random.seed(0)\n",
    "df_train, df_test = train_test_split(bike_new_new, train_size = 0.70, test_size = 0.30, random_state = 333)"
   ]
  },
  {
   "cell_type": "markdown",
   "metadata": {
    "papermill": {
     "duration": 0.115205,
     "end_time": "2024-01-25T16:19:14.891884",
     "exception": false,
     "start_time": "2024-01-25T16:19:14.776679",
     "status": "completed"
    },
    "tags": []
   },
   "source": [
    "\n",
    "- Verify the info and shape of the dataframes after split:"
   ]
  },
  {
   "cell_type": "code",
   "execution_count": 29,
   "metadata": {
    "execution": {
     "iopub.execute_input": "2024-01-25T16:19:15.122791Z",
     "iopub.status.busy": "2024-01-25T16:19:15.121578Z",
     "iopub.status.idle": "2024-01-25T16:19:15.126837Z",
     "shell.execute_reply": "2024-01-25T16:19:15.125990Z",
     "shell.execute_reply.started": "2024-01-25T16:16:09.513703Z"
    },
    "papermill": {
     "duration": 0.124112,
     "end_time": "2024-01-25T16:19:15.126991",
     "exception": false,
     "start_time": "2024-01-25T16:19:15.002879",
     "status": "completed"
    },
    "tags": []
   },
   "outputs": [
    {
     "name": "stdout",
     "output_type": "stream",
     "text": [
      "<class 'pandas.core.frame.DataFrame'>\n",
      "Int64Index: 28 entries, 1 to 12\n",
      "Data columns (total 3 columns):\n",
      " #   Column               Non-Null Count  Dtype  \n",
      "---  ------               --------------  -----  \n",
      " 0   Produktivitas Jeruk  28 non-null     float64\n",
      " 1   Kecepatan A          28 non-null     float64\n",
      " 2   Mx Kec               28 non-null     float64\n",
      "dtypes: float64(3)\n",
      "memory usage: 896.0 bytes\n"
     ]
    }
   ],
   "source": [
    "df_train.info()"
   ]
  },
  {
   "cell_type": "code",
   "execution_count": 30,
   "metadata": {
    "execution": {
     "iopub.execute_input": "2024-01-25T16:19:15.354513Z",
     "iopub.status.busy": "2024-01-25T16:19:15.353569Z",
     "iopub.status.idle": "2024-01-25T16:19:15.358157Z",
     "shell.execute_reply": "2024-01-25T16:19:15.357386Z",
     "shell.execute_reply.started": "2024-01-25T16:16:09.531952Z"
    },
    "papermill": {
     "duration": 0.122665,
     "end_time": "2024-01-25T16:19:15.358320",
     "exception": false,
     "start_time": "2024-01-25T16:19:15.235655",
     "status": "completed"
    },
    "tags": []
   },
   "outputs": [
    {
     "data": {
      "text/plain": [
       "(28, 3)"
      ]
     },
     "execution_count": 30,
     "metadata": {},
     "output_type": "execute_result"
    }
   ],
   "source": [
    "df_train.shape"
   ]
  },
  {
   "cell_type": "code",
   "execution_count": 31,
   "metadata": {
    "execution": {
     "iopub.execute_input": "2024-01-25T16:19:15.611218Z",
     "iopub.status.busy": "2024-01-25T16:19:15.609843Z",
     "iopub.status.idle": "2024-01-25T16:19:15.614616Z",
     "shell.execute_reply": "2024-01-25T16:19:15.615266Z",
     "shell.execute_reply.started": "2024-01-25T16:16:09.542035Z"
    },
    "papermill": {
     "duration": 0.143593,
     "end_time": "2024-01-25T16:19:15.615494",
     "exception": false,
     "start_time": "2024-01-25T16:19:15.471901",
     "status": "completed"
    },
    "tags": []
   },
   "outputs": [
    {
     "name": "stdout",
     "output_type": "stream",
     "text": [
      "<class 'pandas.core.frame.DataFrame'>\n",
      "Int64Index: 12 entries, 31 to 0\n",
      "Data columns (total 3 columns):\n",
      " #   Column               Non-Null Count  Dtype  \n",
      "---  ------               --------------  -----  \n",
      " 0   Produktivitas Jeruk  12 non-null     float64\n",
      " 1   Kecepatan A          12 non-null     float64\n",
      " 2   Mx Kec               12 non-null     float64\n",
      "dtypes: float64(3)\n",
      "memory usage: 384.0 bytes\n"
     ]
    }
   ],
   "source": [
    "df_test.info()"
   ]
  },
  {
   "cell_type": "code",
   "execution_count": 32,
   "metadata": {
    "execution": {
     "iopub.execute_input": "2024-01-25T16:19:15.846751Z",
     "iopub.status.busy": "2024-01-25T16:19:15.845846Z",
     "iopub.status.idle": "2024-01-25T16:19:15.851702Z",
     "shell.execute_reply": "2024-01-25T16:19:15.850356Z",
     "shell.execute_reply.started": "2024-01-25T16:16:09.556262Z"
    },
    "papermill": {
     "duration": 0.122665,
     "end_time": "2024-01-25T16:19:15.851864",
     "exception": false,
     "start_time": "2024-01-25T16:19:15.729199",
     "status": "completed"
    },
    "tags": []
   },
   "outputs": [
    {
     "data": {
      "text/plain": [
       "(12, 3)"
      ]
     },
     "execution_count": 32,
     "metadata": {},
     "output_type": "execute_result"
    }
   ],
   "source": [
    "df_test.shape"
   ]
  },
  {
   "cell_type": "markdown",
   "metadata": {
    "papermill": {
     "duration": 0.109791,
     "end_time": "2024-01-25T16:19:16.073821",
     "exception": false,
     "start_time": "2024-01-25T16:19:15.964030",
     "status": "completed"
    },
    "tags": []
   },
   "source": [
    "# EXPLORATORY DATA ANALYSIS"
   ]
  },
  {
   "cell_type": "markdown",
   "metadata": {
    "papermill": {
     "duration": 0.113415,
     "end_time": "2024-01-25T16:19:16.296081",
     "exception": false,
     "start_time": "2024-01-25T16:19:16.182666",
     "status": "completed"
    },
    "tags": []
   },
   "source": [
    "\n",
    "- We need to  perform the EDA on TRAINING (df_train) Dataset."
   ]
  },
  {
   "cell_type": "markdown",
   "metadata": {
    "papermill": {
     "duration": 0.111294,
     "end_time": "2024-01-25T16:19:16.518984",
     "exception": false,
     "start_time": "2024-01-25T16:19:16.407690",
     "status": "completed"
    },
    "tags": []
   },
   "source": [
    "## Visualising Numeric Variables\n",
    "Let's make a pairplot of all the numeric variables."
   ]
  },
  {
   "cell_type": "code",
   "execution_count": 33,
   "metadata": {
    "execution": {
     "iopub.execute_input": "2024-01-25T16:19:16.744700Z",
     "iopub.status.busy": "2024-01-25T16:19:16.743882Z",
     "iopub.status.idle": "2024-01-25T16:19:16.753857Z",
     "shell.execute_reply": "2024-01-25T16:19:16.754592Z",
     "shell.execute_reply.started": "2024-01-25T16:16:09.564902Z"
    },
    "papermill": {
     "duration": 0.122898,
     "end_time": "2024-01-25T16:19:16.754775",
     "exception": false,
     "start_time": "2024-01-25T16:19:16.631877",
     "status": "completed"
    },
    "tags": []
   },
   "outputs": [
    {
     "name": "stdout",
     "output_type": "stream",
     "text": [
      "<class 'pandas.core.frame.DataFrame'>\n",
      "Int64Index: 28 entries, 1 to 12\n",
      "Data columns (total 3 columns):\n",
      " #   Column               Non-Null Count  Dtype  \n",
      "---  ------               --------------  -----  \n",
      " 0   Produktivitas Jeruk  28 non-null     float64\n",
      " 1   Kecepatan A          28 non-null     float64\n",
      " 2   Mx Kec               28 non-null     float64\n",
      "dtypes: float64(3)\n",
      "memory usage: 896.0 bytes\n"
     ]
    }
   ],
   "source": [
    "df_train.info()"
   ]
  },
  {
   "cell_type": "code",
   "execution_count": 34,
   "metadata": {
    "execution": {
     "iopub.execute_input": "2024-01-25T16:19:16.980073Z",
     "iopub.status.busy": "2024-01-25T16:19:16.979054Z",
     "iopub.status.idle": "2024-01-25T16:19:16.985987Z",
     "shell.execute_reply": "2024-01-25T16:19:16.987249Z",
     "shell.execute_reply.started": "2024-01-25T16:16:09.589185Z"
    },
    "papermill": {
     "duration": 0.121722,
     "end_time": "2024-01-25T16:19:16.987661",
     "exception": false,
     "start_time": "2024-01-25T16:19:16.865939",
     "status": "completed"
    },
    "tags": []
   },
   "outputs": [
    {
     "data": {
      "text/plain": [
       "Index(['Produktivitas Jeruk', 'Kecepatan A', 'Mx Kec'], dtype='object')"
      ]
     },
     "execution_count": 34,
     "metadata": {},
     "output_type": "execute_result"
    }
   ],
   "source": [
    "df_train.columns"
   ]
  },
  {
   "cell_type": "code",
   "execution_count": 35,
   "metadata": {
    "execution": {
     "iopub.execute_input": "2024-01-25T16:19:17.214843Z",
     "iopub.status.busy": "2024-01-25T16:19:17.213999Z",
     "iopub.status.idle": "2024-01-25T16:19:20.066184Z",
     "shell.execute_reply": "2024-01-25T16:19:20.065460Z",
     "shell.execute_reply.started": "2024-01-25T16:16:09.599936Z"
    },
    "papermill": {
     "duration": 2.966555,
     "end_time": "2024-01-25T16:19:20.066342",
     "exception": false,
     "start_time": "2024-01-25T16:19:17.099787",
     "status": "completed"
    },
    "tags": []
   },
   "outputs": [
    {
     "data": {
      "image/png": "[encoded data removed]",
      "text/plain": [
       "<Figure size 540x540 with 12 Axes>"
      ]
     },
     "metadata": {
      "needs_background": "light"
     },
     "output_type": "display_data"
    }
   ],
   "source": [
    "# Create a new dataframe of only numeric variables:\n",
    "\n",
    "bike_num=df_train[['Produktivitas Jeruk', 'Kecepatan A',\n",
    "       'Mx Kec']]\n",
    "\n",
    "sns.pairplot(bike_num, diag_kind='kde')\n",
    "plt.show()"
   ]
  },
  {
   "cell_type": "markdown",
   "metadata": {
    "papermill": {
     "duration": 0.110716,
     "end_time": "2024-01-25T16:19:20.289501",
     "exception": false,
     "start_time": "2024-01-25T16:19:20.178785",
     "status": "completed"
    },
    "tags": []
   },
   "source": [
    "### Insights\n",
    "- The above Pair-Plot tells us that there is a LINEAR RELATION between 'temp','atemp' and 'cnt' "
   ]
  },
  {
   "cell_type": "markdown",
   "metadata": {
    "papermill": {
     "duration": 0.112095,
     "end_time": "2024-01-25T16:19:20.511987",
     "exception": false,
     "start_time": "2024-01-25T16:19:20.399892",
     "status": "completed"
    },
    "tags": []
   },
   "source": [
    "## Visualising Catagorical Variables"
   ]
  },
  {
   "cell_type": "code",
   "execution_count": 36,
   "metadata": {
    "execution": {
     "iopub.execute_input": "2024-01-25T16:19:20.742127Z",
     "iopub.status.busy": "2024-01-25T16:19:20.741348Z",
     "iopub.status.idle": "2024-01-25T16:19:20.744505Z",
     "shell.execute_reply": "2024-01-25T16:19:20.745113Z",
     "shell.execute_reply.started": "2024-01-25T16:16:12.357225Z"
    },
    "papermill": {
     "duration": 0.122991,
     "end_time": "2024-01-25T16:19:20.745281",
     "exception": false,
     "start_time": "2024-01-25T16:19:20.622290",
     "status": "completed"
    },
    "tags": []
   },
   "outputs": [
    {
     "name": "stdout",
     "output_type": "stream",
     "text": [
      "<class 'pandas.core.frame.DataFrame'>\n",
      "Int64Index: 28 entries, 1 to 12\n",
      "Data columns (total 3 columns):\n",
      " #   Column               Non-Null Count  Dtype  \n",
      "---  ------               --------------  -----  \n",
      " 0   Produktivitas Jeruk  28 non-null     float64\n",
      " 1   Kecepatan A          28 non-null     float64\n",
      " 2   Mx Kec               28 non-null     float64\n",
      "dtypes: float64(3)\n",
      "memory usage: 2.1 KB\n"
     ]
    }
   ],
   "source": [
    "df_train.info()"
   ]
  },
  {
   "cell_type": "code",
   "execution_count": 37,
   "metadata": {
    "execution": {
     "iopub.execute_input": "2024-01-25T16:19:20.975612Z",
     "iopub.status.busy": "2024-01-25T16:19:20.974730Z",
     "iopub.status.idle": "2024-01-25T16:19:21.485170Z",
     "shell.execute_reply": "2024-01-25T16:19:21.484508Z",
     "shell.execute_reply.started": "2024-01-25T16:16:12.371600Z"
    },
    "papermill": {
     "duration": 0.626352,
     "end_time": "2024-01-25T16:19:21.485327",
     "exception": false,
     "start_time": "2024-01-25T16:19:20.858975",
     "status": "completed"
    },
    "tags": []
   },
   "outputs": [
    {
     "data": {
      "image/png": "[encoded data removed]",
      "text/plain": [
       "<Figure size 1800x720 with 2 Axes>"
      ]
     },
     "metadata": {
      "needs_background": "light"
     },
     "output_type": "display_data"
    }
   ],
   "source": [
    "# Build boxplot of all categorical variables (before creating dummies) againt the target variable 'cnt' \n",
    "# to see how each of the predictor variable stackup against the target variable.\n",
    "\n",
    "plt.figure(figsize=(25, 10))\n",
    "plt.subplot(2,3,1)\n",
    "sns.boxplot(x = 'Year', y = 'Produktivitas Jeruk', data = bike)\n",
    "plt.subplot(2,3,2)\n",
    "sns.boxplot(x = 'Periode', y = 'Produktivitas Jeruk', data = bike)\n",
    "plt.show()"
   ]
  },
  {
   "cell_type": "markdown",
   "metadata": {
    "papermill": {
     "duration": 0.115652,
     "end_time": "2024-01-25T16:19:21.711930",
     "exception": false,
     "start_time": "2024-01-25T16:19:21.596278",
     "status": "completed"
    },
    "tags": []
   },
   "source": [
    "## Correlation Matrix"
   ]
  },
  {
   "cell_type": "code",
   "execution_count": 38,
   "metadata": {
    "execution": {
     "iopub.execute_input": "2024-01-25T16:19:21.981523Z",
     "iopub.status.busy": "2024-01-25T16:19:21.980327Z",
     "iopub.status.idle": "2024-01-25T16:19:22.338955Z",
     "shell.execute_reply": "2024-01-25T16:19:22.339708Z",
     "shell.execute_reply.started": "2024-01-25T16:16:12.882877Z"
    },
    "papermill": {
     "duration": 0.493909,
     "end_time": "2024-01-25T16:19:22.339901",
     "exception": false,
     "start_time": "2024-01-25T16:19:21.845992",
     "status": "completed"
    },
    "tags": []
   },
   "outputs": [
    {
     "data": {
      "image/png": "[encoded data removed]",
      "text/plain": [
       "<Figure size 1800x1440 with 2 Axes>"
      ]
     },
     "metadata": {
      "needs_background": "light"
     },
     "output_type": "display_data"
    }
   ],
   "source": [
    "# Let's check the correlation coefficients to see which variables are highly correlated. Note:\n",
    "# here we are considering only those variables (dataframe: bike_new) that were chosen for analysis\n",
    "\n",
    "plt.figure(figsize = (25,20))\n",
    "sns.heatmap(bike_new_new.corr(), annot = True, cmap=\"RdBu\")\n",
    "plt.show()"
   ]
  },
  {
   "cell_type": "markdown",
   "metadata": {
    "papermill": {
     "duration": 0.116214,
     "end_time": "2024-01-25T16:19:22.572128",
     "exception": false,
     "start_time": "2024-01-25T16:19:22.455914",
     "status": "completed"
    },
    "tags": []
   },
   "source": [
    "### Insights:\n",
    " - The heatmap clearly shows which all variable are multicollinear in nature, and which variable have high collinearity with the target variable.\n",
    " - We will refer this map back-and-forth while building the linear model so as to validate different correlated values along with VIF & p-value, for identifying the correct variable to select/eliminate from the model."
   ]
  },
  {
   "cell_type": "markdown",
   "metadata": {
    "papermill": {
     "duration": 0.115713,
     "end_time": "2024-01-25T16:19:22.802669",
     "exception": false,
     "start_time": "2024-01-25T16:19:22.686956",
     "status": "completed"
    },
    "tags": []
   },
   "source": [
    "# RESCALING THE FEATURES"
   ]
  },
  {
   "cell_type": "code",
   "execution_count": 39,
   "metadata": {
    "execution": {
     "iopub.execute_input": "2024-01-25T16:19:23.037650Z",
     "iopub.status.busy": "2024-01-25T16:19:23.036878Z",
     "iopub.status.idle": "2024-01-25T16:19:23.042220Z",
     "shell.execute_reply": "2024-01-25T16:19:23.041434Z",
     "shell.execute_reply.started": "2024-01-25T16:16:13.235337Z"
    },
    "papermill": {
     "duration": 0.124209,
     "end_time": "2024-01-25T16:19:23.042383",
     "exception": false,
     "start_time": "2024-01-25T16:19:22.918174",
     "status": "completed"
    },
    "tags": []
   },
   "outputs": [],
   "source": [
    "from sklearn.preprocessing import MinMaxScaler"
   ]
  },
  {
   "cell_type": "code",
   "execution_count": 40,
   "metadata": {
    "execution": {
     "iopub.execute_input": "2024-01-25T16:19:23.284017Z",
     "iopub.status.busy": "2024-01-25T16:19:23.283194Z",
     "iopub.status.idle": "2024-01-25T16:19:23.286945Z",
     "shell.execute_reply": "2024-01-25T16:19:23.286024Z",
     "shell.execute_reply.started": "2024-01-25T16:16:13.246408Z"
    },
    "papermill": {
     "duration": 0.128766,
     "end_time": "2024-01-25T16:19:23.287106",
     "exception": false,
     "start_time": "2024-01-25T16:19:23.158340",
     "status": "completed"
    },
    "tags": []
   },
   "outputs": [],
   "source": [
    "scaler = MinMaxScaler()"
   ]
  },
  {
   "cell_type": "code",
   "execution_count": 41,
   "metadata": {
    "execution": {
     "iopub.execute_input": "2024-01-25T16:19:23.533048Z",
     "iopub.status.busy": "2024-01-25T16:19:23.532240Z",
     "iopub.status.idle": "2024-01-25T16:19:23.537614Z",
     "shell.execute_reply": "2024-01-25T16:19:23.536838Z",
     "shell.execute_reply.started": "2024-01-25T16:16:13.254639Z"
    },
    "papermill": {
     "duration": 0.13267,
     "end_time": "2024-01-25T16:19:23.537752",
     "exception": false,
     "start_time": "2024-01-25T16:19:23.405082",
     "status": "completed"
    },
    "scrolled": true,
    "tags": []
   },
   "outputs": [
    {
     "data": {
      "text/html": [
       "<div>\n",
       "<style scoped>\n",
       "    .dataframe tbody tr th:only-of-type {\n",
       "        vertical-align: middle;\n",
       "    }\n",
       "\n",
       "    .dataframe tbody tr th {\n",
       "        vertical-align: top;\n",
       "    }\n",
       "\n",
       "    .dataframe thead th {\n",
       "        text-align: right;\n",
       "    }\n",
       "</style>\n",
       "<table border=\"1\" class=\"dataframe\">\n",
       "  <thead>\n",
       "    <tr style=\"text-align: right;\">\n",
       "      <th></th>\n",
       "      <th>Produktivitas Jeruk</th>\n",
       "      <th>Kecepatan A</th>\n",
       "      <th>Mx Kec</th>\n",
       "    </tr>\n",
       "  </thead>\n",
       "  <tbody>\n",
       "    <tr>\n",
       "      <th>1</th>\n",
       "      <td>0.10</td>\n",
       "      <td>8.93</td>\n",
       "      <td>14.0</td>\n",
       "    </tr>\n",
       "    <tr>\n",
       "      <th>14</th>\n",
       "      <td>0.16</td>\n",
       "      <td>8.83</td>\n",
       "      <td>13.3</td>\n",
       "    </tr>\n",
       "    <tr>\n",
       "      <th>36</th>\n",
       "      <td>0.00</td>\n",
       "      <td>7.03</td>\n",
       "      <td>10.4</td>\n",
       "    </tr>\n",
       "    <tr>\n",
       "      <th>11</th>\n",
       "      <td>0.26</td>\n",
       "      <td>8.10</td>\n",
       "      <td>13.9</td>\n",
       "    </tr>\n",
       "    <tr>\n",
       "      <th>18</th>\n",
       "      <td>0.25</td>\n",
       "      <td>7.93</td>\n",
       "      <td>12.7</td>\n",
       "    </tr>\n",
       "  </tbody>\n",
       "</table>\n",
       "</div>"
      ],
      "text/plain": [
       "    Produktivitas Jeruk  Kecepatan A  Mx Kec\n",
       "1                  0.10         8.93    14.0\n",
       "14                 0.16         8.83    13.3\n",
       "36                 0.00         7.03    10.4\n",
       "11                 0.26         8.10    13.9\n",
       "18                 0.25         7.93    12.7"
      ]
     },
     "execution_count": 41,
     "metadata": {},
     "output_type": "execute_result"
    }
   ],
   "source": [
    "# Checking the values before scaling\n",
    "df_train.head()"
   ]
  },
  {
   "cell_type": "code",
   "execution_count": 42,
   "metadata": {
    "execution": {
     "iopub.execute_input": "2024-01-25T16:19:23.771871Z",
     "iopub.status.busy": "2024-01-25T16:19:23.770937Z",
     "iopub.status.idle": "2024-01-25T16:19:23.777247Z",
     "shell.execute_reply": "2024-01-25T16:19:23.778014Z",
     "shell.execute_reply.started": "2024-01-25T16:16:13.279812Z"
    },
    "papermill": {
     "duration": 0.124254,
     "end_time": "2024-01-25T16:19:23.778196",
     "exception": false,
     "start_time": "2024-01-25T16:19:23.653942",
     "status": "completed"
    },
    "tags": []
   },
   "outputs": [
    {
     "data": {
      "text/plain": [
       "Index(['Produktivitas Jeruk', 'Kecepatan A', 'Mx Kec'], dtype='object')"
      ]
     },
     "execution_count": 42,
     "metadata": {},
     "output_type": "execute_result"
    }
   ],
   "source": [
    "df_train.columns"
   ]
  },
  {
   "cell_type": "code",
   "execution_count": 43,
   "metadata": {
    "execution": {
     "iopub.execute_input": "2024-01-25T16:19:24.015548Z",
     "iopub.status.busy": "2024-01-25T16:19:24.014657Z",
     "iopub.status.idle": "2024-01-25T16:19:24.027944Z",
     "shell.execute_reply": "2024-01-25T16:19:24.028556Z",
     "shell.execute_reply.started": "2024-01-25T16:16:13.292322Z"
    },
    "papermill": {
     "duration": 0.133455,
     "end_time": "2024-01-25T16:19:24.028743",
     "exception": false,
     "start_time": "2024-01-25T16:19:23.895288",
     "status": "completed"
    },
    "tags": []
   },
   "outputs": [],
   "source": [
    "# Apply scaler() to all the numeric variables\n",
    "\n",
    "num_vars = ['Produktivitas Jeruk', 'Kecepatan A',\n",
    "       'Mx Kec']\n",
    "\n",
    "df_train[num_vars] = scaler.fit_transform(df_train[num_vars])"
   ]
  },
  {
   "cell_type": "code",
   "execution_count": 44,
   "metadata": {
    "execution": {
     "iopub.execute_input": "2024-01-25T16:19:24.268696Z",
     "iopub.status.busy": "2024-01-25T16:19:24.267752Z",
     "iopub.status.idle": "2024-01-25T16:19:24.281942Z",
     "shell.execute_reply": "2024-01-25T16:19:24.281252Z",
     "shell.execute_reply.started": "2024-01-25T16:16:13.309937Z"
    },
    "papermill": {
     "duration": 0.135604,
     "end_time": "2024-01-25T16:19:24.282103",
     "exception": false,
     "start_time": "2024-01-25T16:19:24.146499",
     "status": "completed"
    },
    "tags": []
   },
   "outputs": [
    {
     "data": {
      "text/html": [
       "<div>\n",
       "<style scoped>\n",
       "    .dataframe tbody tr th:only-of-type {\n",
       "        vertical-align: middle;\n",
       "    }\n",
       "\n",
       "    .dataframe tbody tr th {\n",
       "        vertical-align: top;\n",
       "    }\n",
       "\n",
       "    .dataframe thead th {\n",
       "        text-align: right;\n",
       "    }\n",
       "</style>\n",
       "<table border=\"1\" class=\"dataframe\">\n",
       "  <thead>\n",
       "    <tr style=\"text-align: right;\">\n",
       "      <th></th>\n",
       "      <th>Produktivitas Jeruk</th>\n",
       "      <th>Kecepatan A</th>\n",
       "      <th>Mx Kec</th>\n",
       "    </tr>\n",
       "  </thead>\n",
       "  <tbody>\n",
       "    <tr>\n",
       "      <th>1</th>\n",
       "      <td>0.117647</td>\n",
       "      <td>0.817391</td>\n",
       "      <td>0.835616</td>\n",
       "    </tr>\n",
       "    <tr>\n",
       "      <th>14</th>\n",
       "      <td>0.188235</td>\n",
       "      <td>0.795652</td>\n",
       "      <td>0.739726</td>\n",
       "    </tr>\n",
       "    <tr>\n",
       "      <th>36</th>\n",
       "      <td>0.000000</td>\n",
       "      <td>0.404348</td>\n",
       "      <td>0.342466</td>\n",
       "    </tr>\n",
       "    <tr>\n",
       "      <th>11</th>\n",
       "      <td>0.305882</td>\n",
       "      <td>0.636957</td>\n",
       "      <td>0.821918</td>\n",
       "    </tr>\n",
       "    <tr>\n",
       "      <th>18</th>\n",
       "      <td>0.294118</td>\n",
       "      <td>0.600000</td>\n",
       "      <td>0.657534</td>\n",
       "    </tr>\n",
       "  </tbody>\n",
       "</table>\n",
       "</div>"
      ],
      "text/plain": [
       "    Produktivitas Jeruk  Kecepatan A    Mx Kec\n",
       "1              0.117647     0.817391  0.835616\n",
       "14             0.188235     0.795652  0.739726\n",
       "36             0.000000     0.404348  0.342466\n",
       "11             0.305882     0.636957  0.821918\n",
       "18             0.294118     0.600000  0.657534"
      ]
     },
     "execution_count": 44,
     "metadata": {},
     "output_type": "execute_result"
    }
   ],
   "source": [
    "# Checking values after scaling\n",
    "df_train.head()"
   ]
  },
  {
   "cell_type": "code",
   "execution_count": 45,
   "metadata": {
    "execution": {
     "iopub.execute_input": "2024-01-25T16:19:24.528373Z",
     "iopub.status.busy": "2024-01-25T16:19:24.527559Z",
     "iopub.status.idle": "2024-01-25T16:19:24.548398Z",
     "shell.execute_reply": "2024-01-25T16:19:24.547432Z",
     "shell.execute_reply.started": "2024-01-25T16:16:13.332975Z"
    },
    "papermill": {
     "duration": 0.147974,
     "end_time": "2024-01-25T16:19:24.548563",
     "exception": false,
     "start_time": "2024-01-25T16:19:24.400589",
     "status": "completed"
    },
    "tags": []
   },
   "outputs": [
    {
     "data": {
      "text/html": [
       "<div>\n",
       "<style scoped>\n",
       "    .dataframe tbody tr th:only-of-type {\n",
       "        vertical-align: middle;\n",
       "    }\n",
       "\n",
       "    .dataframe tbody tr th {\n",
       "        vertical-align: top;\n",
       "    }\n",
       "\n",
       "    .dataframe thead th {\n",
       "        text-align: right;\n",
       "    }\n",
       "</style>\n",
       "<table border=\"1\" class=\"dataframe\">\n",
       "  <thead>\n",
       "    <tr style=\"text-align: right;\">\n",
       "      <th></th>\n",
       "      <th>Produktivitas Jeruk</th>\n",
       "      <th>Kecepatan A</th>\n",
       "      <th>Mx Kec</th>\n",
       "    </tr>\n",
       "  </thead>\n",
       "  <tbody>\n",
       "    <tr>\n",
       "      <th>count</th>\n",
       "      <td>28.000000</td>\n",
       "      <td>28.000000</td>\n",
       "      <td>28.000000</td>\n",
       "    </tr>\n",
       "    <tr>\n",
       "      <th>mean</th>\n",
       "      <td>0.233613</td>\n",
       "      <td>0.433773</td>\n",
       "      <td>0.510274</td>\n",
       "    </tr>\n",
       "    <tr>\n",
       "      <th>std</th>\n",
       "      <td>0.232085</td>\n",
       "      <td>0.267461</td>\n",
       "      <td>0.301615</td>\n",
       "    </tr>\n",
       "    <tr>\n",
       "      <th>min</th>\n",
       "      <td>0.000000</td>\n",
       "      <td>0.000000</td>\n",
       "      <td>0.000000</td>\n",
       "    </tr>\n",
       "    <tr>\n",
       "      <th>25%</th>\n",
       "      <td>0.117647</td>\n",
       "      <td>0.244022</td>\n",
       "      <td>0.256849</td>\n",
       "    </tr>\n",
       "    <tr>\n",
       "      <th>50%</th>\n",
       "      <td>0.182353</td>\n",
       "      <td>0.408696</td>\n",
       "      <td>0.520548</td>\n",
       "    </tr>\n",
       "    <tr>\n",
       "      <th>75%</th>\n",
       "      <td>0.294118</td>\n",
       "      <td>0.600000</td>\n",
       "      <td>0.750000</td>\n",
       "    </tr>\n",
       "    <tr>\n",
       "      <th>max</th>\n",
       "      <td>1.000000</td>\n",
       "      <td>1.000000</td>\n",
       "      <td>1.000000</td>\n",
       "    </tr>\n",
       "  </tbody>\n",
       "</table>\n",
       "</div>"
      ],
      "text/plain": [
       "       Produktivitas Jeruk  Kecepatan A     Mx Kec\n",
       "count            28.000000    28.000000  28.000000\n",
       "mean              0.233613     0.433773   0.510274\n",
       "std               0.232085     0.267461   0.301615\n",
       "min               0.000000     0.000000   0.000000\n",
       "25%               0.117647     0.244022   0.256849\n",
       "50%               0.182353     0.408696   0.520548\n",
       "75%               0.294118     0.600000   0.750000\n",
       "max               1.000000     1.000000   1.000000"
      ]
     },
     "execution_count": 45,
     "metadata": {},
     "output_type": "execute_result"
    }
   ],
   "source": [
    "df_train.describe()"
   ]
  },
  {
   "cell_type": "markdown",
   "metadata": {
    "papermill": {
     "duration": 0.119504,
     "end_time": "2024-01-25T16:19:24.784907",
     "exception": false,
     "start_time": "2024-01-25T16:19:24.665403",
     "status": "completed"
    },
    "tags": []
   },
   "source": [
    "# BUILDING A LINEAR MODEL"
   ]
  },
  {
   "cell_type": "markdown",
   "metadata": {
    "papermill": {
     "duration": 0.120497,
     "end_time": "2024-01-25T16:19:25.024381",
     "exception": false,
     "start_time": "2024-01-25T16:19:24.903884",
     "status": "completed"
    },
    "tags": []
   },
   "source": [
    "## Dividing into X and Y sets for the model building"
   ]
  },
  {
   "cell_type": "code",
   "execution_count": 46,
   "metadata": {
    "execution": {
     "iopub.execute_input": "2024-01-25T16:19:25.266421Z",
     "iopub.status.busy": "2024-01-25T16:19:25.265562Z",
     "iopub.status.idle": "2024-01-25T16:19:25.269036Z",
     "shell.execute_reply": "2024-01-25T16:19:25.269682Z",
     "shell.execute_reply.started": "2024-01-25T16:16:13.362061Z"
    },
    "papermill": {
     "duration": 0.126428,
     "end_time": "2024-01-25T16:19:25.269853",
     "exception": false,
     "start_time": "2024-01-25T16:19:25.143425",
     "status": "completed"
    },
    "tags": []
   },
   "outputs": [],
   "source": [
    "y_train = df_train.pop('Produktivitas Jeruk')\n",
    "X_train = df_train"
   ]
  },
  {
   "cell_type": "markdown",
   "metadata": {
    "papermill": {
     "duration": 0.118788,
     "end_time": "2024-01-25T16:19:25.507673",
     "exception": false,
     "start_time": "2024-01-25T16:19:25.388885",
     "status": "completed"
    },
    "tags": []
   },
   "source": [
    "### RFE\n",
    "Recursive feature elimination: We will be using the **LinearRegression function from SciKit Learn**  for its compatibility with RFE (which is a utility from sklearn)"
   ]
  },
  {
   "cell_type": "code",
   "execution_count": 47,
   "metadata": {
    "execution": {
     "iopub.execute_input": "2024-01-25T16:19:25.770536Z",
     "iopub.status.busy": "2024-01-25T16:19:25.769340Z",
     "iopub.status.idle": "2024-01-25T16:19:25.962536Z",
     "shell.execute_reply": "2024-01-25T16:19:25.961654Z",
     "shell.execute_reply.started": "2024-01-25T16:16:13.370991Z"
    },
    "papermill": {
     "duration": 0.313917,
     "end_time": "2024-01-25T16:19:25.962687",
     "exception": false,
     "start_time": "2024-01-25T16:19:25.648770",
     "status": "completed"
    },
    "tags": []
   },
   "outputs": [],
   "source": [
    "# Importing RFE and LinearRegression\n",
    "from sklearn.feature_selection import RFE\n",
    "from sklearn.linear_model import LinearRegression"
   ]
  },
  {
   "cell_type": "code",
   "execution_count": 48,
   "metadata": {
    "execution": {
     "iopub.execute_input": "2024-01-25T16:19:26.208632Z",
     "iopub.status.busy": "2024-01-25T16:19:26.207713Z",
     "iopub.status.idle": "2024-01-25T16:19:26.241996Z",
     "shell.execute_reply": "2024-01-25T16:19:26.242557Z",
     "shell.execute_reply.started": "2024-01-25T16:16:13.380191Z"
    },
    "papermill": {
     "duration": 0.163259,
     "end_time": "2024-01-25T16:19:26.242744",
     "exception": false,
     "start_time": "2024-01-25T16:19:26.079485",
     "status": "completed"
    },
    "tags": []
   },
   "outputs": [],
   "source": [
    "# Running RFE with the output number of the variable equal to 15\n",
    "lm = LinearRegression()\n",
    "lm.fit(X_train, y_train)\n",
    "\n",
    "rfe = RFE(lm, 15)             # running RFE\n",
    "rfe = rfe.fit(X_train, y_train)"
   ]
  },
  {
   "cell_type": "code",
   "execution_count": 49,
   "metadata": {
    "execution": {
     "iopub.execute_input": "2024-01-25T16:19:26.491676Z",
     "iopub.status.busy": "2024-01-25T16:19:26.490441Z",
     "iopub.status.idle": "2024-01-25T16:19:26.494898Z",
     "shell.execute_reply": "2024-01-25T16:19:26.495588Z",
     "shell.execute_reply.started": "2024-01-25T16:16:13.398677Z"
    },
    "papermill": {
     "duration": 0.13365,
     "end_time": "2024-01-25T16:19:26.495805",
     "exception": false,
     "start_time": "2024-01-25T16:19:26.362155",
     "status": "completed"
    },
    "tags": []
   },
   "outputs": [
    {
     "data": {
      "text/plain": [
       "[('Kecepatan A', True, 1), ('Mx Kec', True, 1)]"
      ]
     },
     "execution_count": 49,
     "metadata": {},
     "output_type": "execute_result"
    }
   ],
   "source": [
    "list(zip(X_train.columns,rfe.support_,rfe.ranking_))"
   ]
  },
  {
   "cell_type": "code",
   "execution_count": 50,
   "metadata": {
    "execution": {
     "iopub.execute_input": "2024-01-25T16:19:26.741032Z",
     "iopub.status.busy": "2024-01-25T16:19:26.739928Z",
     "iopub.status.idle": "2024-01-25T16:19:26.748533Z",
     "shell.execute_reply": "2024-01-25T16:19:26.747677Z",
     "shell.execute_reply.started": "2024-01-25T16:16:13.412504Z"
    },
    "papermill": {
     "duration": 0.130002,
     "end_time": "2024-01-25T16:19:26.748685",
     "exception": false,
     "start_time": "2024-01-25T16:19:26.618683",
     "status": "completed"
    },
    "tags": []
   },
   "outputs": [
    {
     "data": {
      "text/plain": [
       "Index(['Kecepatan A', 'Mx Kec'], dtype='object')"
      ]
     },
     "execution_count": 50,
     "metadata": {},
     "output_type": "execute_result"
    }
   ],
   "source": [
    "col = X_train.columns[rfe.support_]\n",
    "col"
   ]
  },
  {
   "cell_type": "code",
   "execution_count": 51,
   "metadata": {
    "execution": {
     "iopub.execute_input": "2024-01-25T16:19:27.012687Z",
     "iopub.status.busy": "2024-01-25T16:19:27.011835Z",
     "iopub.status.idle": "2024-01-25T16:19:27.018498Z",
     "shell.execute_reply": "2024-01-25T16:19:27.019142Z",
     "shell.execute_reply.started": "2024-01-25T16:16:13.423106Z"
    },
    "papermill": {
     "duration": 0.147075,
     "end_time": "2024-01-25T16:19:27.019349",
     "exception": false,
     "start_time": "2024-01-25T16:19:26.872274",
     "status": "completed"
    },
    "tags": []
   },
   "outputs": [
    {
     "data": {
      "text/plain": [
       "Index([], dtype='object')"
      ]
     },
     "execution_count": 51,
     "metadata": {},
     "output_type": "execute_result"
    }
   ],
   "source": [
    "X_train.columns[~rfe.support_]"
   ]
  },
  {
   "cell_type": "code",
   "execution_count": 52,
   "metadata": {
    "execution": {
     "iopub.execute_input": "2024-01-25T16:19:27.260704Z",
     "iopub.status.busy": "2024-01-25T16:19:27.259794Z",
     "iopub.status.idle": "2024-01-25T16:19:27.265232Z",
     "shell.execute_reply": "2024-01-25T16:19:27.265918Z",
     "shell.execute_reply.started": "2024-01-25T16:16:13.438021Z"
    },
    "papermill": {
     "duration": 0.127246,
     "end_time": "2024-01-25T16:19:27.266120",
     "exception": false,
     "start_time": "2024-01-25T16:19:27.138874",
     "status": "completed"
    },
    "tags": []
   },
   "outputs": [],
   "source": [
    "# Creating X_test dataframe with RFE selected variables\n",
    "X_train_rfe = X_train[col]"
   ]
  },
  {
   "cell_type": "code",
   "execution_count": 53,
   "metadata": {
    "execution": {
     "iopub.execute_input": "2024-01-25T16:19:27.518646Z",
     "iopub.status.busy": "2024-01-25T16:19:27.517724Z",
     "iopub.status.idle": "2024-01-25T16:19:27.522101Z",
     "shell.execute_reply": "2024-01-25T16:19:27.522804Z",
     "shell.execute_reply.started": "2024-01-25T16:16:13.448241Z"
    },
    "papermill": {
     "duration": 0.13315,
     "end_time": "2024-01-25T16:19:27.522988",
     "exception": false,
     "start_time": "2024-01-25T16:19:27.389838",
     "status": "completed"
    },
    "tags": []
   },
   "outputs": [],
   "source": [
    "from scipy import stats\n",
    "import matplotlib.pyplot as plt"
   ]
  },
  {
   "cell_type": "code",
   "execution_count": 54,
   "metadata": {
    "execution": {
     "iopub.execute_input": "2024-01-25T16:19:27.763401Z",
     "iopub.status.busy": "2024-01-25T16:19:27.762417Z",
     "iopub.status.idle": "2024-01-25T16:19:27.770663Z",
     "shell.execute_reply": "2024-01-25T16:19:27.769911Z",
     "shell.execute_reply.started": "2024-01-25T16:16:13.457044Z"
    },
    "papermill": {
     "duration": 0.128754,
     "end_time": "2024-01-25T16:19:27.770810",
     "exception": false,
     "start_time": "2024-01-25T16:19:27.642056",
     "status": "completed"
    },
    "tags": []
   },
   "outputs": [
    {
     "name": "stdout",
     "output_type": "stream",
     "text": [
      "Shapiro-Wilk test statistic: 0.9643611311912537\n",
      "Shapiro-Wilk test p-value: 0.09656678885221481\n"
     ]
    }
   ],
   "source": [
    "statistic, pvalue = stats.shapiro(X_train_rfe)\n",
    "\n",
    "print(\"Shapiro-Wilk test statistic:\", statistic)\n",
    "print(\"Shapiro-Wilk test p-value:\", pvalue)"
   ]
  },
  {
   "cell_type": "markdown",
   "metadata": {
    "papermill": {
     "duration": 0.122757,
     "end_time": "2024-01-25T16:19:28.013640",
     "exception": false,
     "start_time": "2024-01-25T16:19:27.890883",
     "status": "completed"
    },
    "tags": []
   },
   "source": [
    "# Building Linear Model using 'STATS MODEL'"
   ]
  },
  {
   "cell_type": "markdown",
   "metadata": {
    "papermill": {
     "duration": 0.117948,
     "end_time": "2024-01-25T16:19:28.251362",
     "exception": false,
     "start_time": "2024-01-25T16:19:28.133414",
     "status": "completed"
    },
    "tags": []
   },
   "source": [
    "## Model 1"
   ]
  },
  {
   "cell_type": "markdown",
   "metadata": {
    "papermill": {
     "duration": 0.120636,
     "end_time": "2024-01-25T16:19:28.489690",
     "exception": false,
     "start_time": "2024-01-25T16:19:28.369054",
     "status": "completed"
    },
    "tags": []
   },
   "source": [
    "### VIF Check"
   ]
  },
  {
   "cell_type": "code",
   "execution_count": 55,
   "metadata": {
    "execution": {
     "iopub.execute_input": "2024-01-25T16:19:28.746232Z",
     "iopub.status.busy": "2024-01-25T16:19:28.745275Z",
     "iopub.status.idle": "2024-01-25T16:19:28.878478Z",
     "shell.execute_reply": "2024-01-25T16:19:28.877710Z",
     "shell.execute_reply.started": "2024-01-25T16:16:13.470207Z"
    },
    "papermill": {
     "duration": 0.265535,
     "end_time": "2024-01-25T16:19:28.878620",
     "exception": false,
     "start_time": "2024-01-25T16:19:28.613085",
     "status": "completed"
    },
    "tags": []
   },
   "outputs": [
    {
     "data": {
      "text/html": [
       "<div>\n",
       "<style scoped>\n",
       "    .dataframe tbody tr th:only-of-type {\n",
       "        vertical-align: middle;\n",
       "    }\n",
       "\n",
       "    .dataframe tbody tr th {\n",
       "        vertical-align: top;\n",
       "    }\n",
       "\n",
       "    .dataframe thead th {\n",
       "        text-align: right;\n",
       "    }\n",
       "</style>\n",
       "<table border=\"1\" class=\"dataframe\">\n",
       "  <thead>\n",
       "    <tr style=\"text-align: right;\">\n",
       "      <th></th>\n",
       "      <th>Features</th>\n",
       "      <th>VIF</th>\n",
       "    </tr>\n",
       "  </thead>\n",
       "  <tbody>\n",
       "    <tr>\n",
       "      <th>0</th>\n",
       "      <td>Kecepatan A</td>\n",
       "      <td>16.7</td>\n",
       "    </tr>\n",
       "    <tr>\n",
       "      <th>1</th>\n",
       "      <td>Mx Kec</td>\n",
       "      <td>16.7</td>\n",
       "    </tr>\n",
       "  </tbody>\n",
       "</table>\n",
       "</div>"
      ],
      "text/plain": [
       "      Features   VIF\n",
       "0  Kecepatan A  16.7\n",
       "1       Mx Kec  16.7"
      ]
     },
     "execution_count": 55,
     "metadata": {},
     "output_type": "execute_result"
    }
   ],
   "source": [
    "# Check for the VIF values of the feature variables. \n",
    "from statsmodels.stats.outliers_influence import variance_inflation_factor\n",
    "\n",
    "# Create a dataframe that will contain the names of all the feature variables and their respective VIFs\n",
    "vif = pd.DataFrame()\n",
    "vif['Features'] = X_train_rfe.columns\n",
    "vif['VIF'] = [variance_inflation_factor(X_train_rfe.values, i) for i in range(X_train_rfe.shape[1])]\n",
    "vif['VIF'] = round(vif['VIF'], 2)\n",
    "vif = vif.sort_values(by = \"VIF\", ascending = False)\n",
    "vif"
   ]
  },
  {
   "cell_type": "code",
   "execution_count": 56,
   "metadata": {
    "execution": {
     "iopub.execute_input": "2024-01-25T16:19:29.126285Z",
     "iopub.status.busy": "2024-01-25T16:19:29.125480Z",
     "iopub.status.idle": "2024-01-25T16:19:29.746679Z",
     "shell.execute_reply": "2024-01-25T16:19:29.747415Z",
     "shell.execute_reply.started": "2024-01-25T16:16:13.494516Z"
    },
    "papermill": {
     "duration": 0.748101,
     "end_time": "2024-01-25T16:19:29.747632",
     "exception": false,
     "start_time": "2024-01-25T16:19:28.999531",
     "status": "completed"
    },
    "tags": []
   },
   "outputs": [],
   "source": [
    "import statsmodels.api as sm\n",
    "\n",
    "# Add a constant\n",
    "X_train_lm1 = sm.add_constant(X_train_rfe)\n",
    "\n",
    "# Create a first fitted model\n",
    "lr1 = sm.OLS(y_train, X_train_lm1).fit()"
   ]
  },
  {
   "cell_type": "code",
   "execution_count": 57,
   "metadata": {
    "execution": {
     "iopub.execute_input": "2024-01-25T16:19:29.996620Z",
     "iopub.status.busy": "2024-01-25T16:19:29.995731Z",
     "iopub.status.idle": "2024-01-25T16:19:30.003199Z",
     "shell.execute_reply": "2024-01-25T16:19:30.003921Z",
     "shell.execute_reply.started": "2024-01-25T16:16:13.506590Z"
    },
    "papermill": {
     "duration": 0.134635,
     "end_time": "2024-01-25T16:19:30.004105",
     "exception": false,
     "start_time": "2024-01-25T16:19:29.869470",
     "status": "completed"
    },
    "tags": []
   },
   "outputs": [
    {
     "data": {
      "text/plain": [
       "const          0.166697\n",
       "Kecepatan A    0.072747\n",
       "Mx Kec         0.069297\n",
       "dtype: float64"
      ]
     },
     "execution_count": 57,
     "metadata": {},
     "output_type": "execute_result"
    }
   ],
   "source": [
    "# Check the parameters obtained\n",
    "\n",
    "lr1.params"
   ]
  },
  {
   "cell_type": "code",
   "execution_count": 58,
   "metadata": {
    "execution": {
     "iopub.execute_input": "2024-01-25T16:19:30.254386Z",
     "iopub.status.busy": "2024-01-25T16:19:30.253535Z",
     "iopub.status.idle": "2024-01-25T16:19:30.272515Z",
     "shell.execute_reply": "2024-01-25T16:19:30.273293Z",
     "shell.execute_reply.started": "2024-01-25T16:16:13.516220Z"
    },
    "papermill": {
     "duration": 0.14669,
     "end_time": "2024-01-25T16:19:30.273487",
     "exception": false,
     "start_time": "2024-01-25T16:19:30.126797",
     "status": "completed"
    },
    "tags": []
   },
   "outputs": [
    {
     "name": "stdout",
     "output_type": "stream",
     "text": [
      "                             OLS Regression Results                            \n",
      "===============================================================================\n",
      "Dep. Variable:     Produktivitas Jeruk   R-squared:                       0.028\n",
      "Model:                             OLS   Adj. R-squared:                 -0.049\n",
      "Method:                  Least Squares   F-statistic:                    0.3665\n",
      "Date:                 Thu, 25 Jan 2024   Prob (F-statistic):              0.697\n",
      "Time:                         16:19:30   Log-Likelihood:                 2.0816\n",
      "No. Observations:                   28   AIC:                             1.837\n",
      "Df Residuals:                       25   BIC:                             5.833\n",
      "Df Model:                            2                                         \n",
      "Covariance Type:             nonrobust                                         \n",
      "===============================================================================\n",
      "                  coef    std err          t      P>|t|      [0.025      0.975]\n",
      "-------------------------------------------------------------------------------\n",
      "const           0.1667      0.090      1.845      0.077      -0.019       0.353\n",
      "Kecepatan A     0.0727      0.365      0.199      0.844      -0.680       0.825\n",
      "Mx Kec          0.0693      0.324      0.214      0.832      -0.598       0.737\n",
      "==============================================================================\n",
      "Omnibus:                       22.606   Durbin-Watson:                   1.970\n",
      "Prob(Omnibus):                  0.000   Jarque-Bera (JB):               33.333\n",
      "Skew:                           1.879   Prob(JB):                     5.78e-08\n",
      "Kurtosis:                       6.800   Cond. No.                         12.9\n",
      "==============================================================================\n",
      "\n",
      "Warnings:\n",
      "[1] Standard Errors assume that the covariance matrix of the errors is correctly specified.\n"
     ]
    }
   ],
   "source": [
    "# Print a summary of the linear regression model obtained\n",
    "print(lr1.summary())"
   ]
  },
  {
   "cell_type": "markdown",
   "metadata": {
    "papermill": {
     "duration": 0.127337,
     "end_time": "2024-01-25T16:19:30.525609",
     "exception": false,
     "start_time": "2024-01-25T16:19:30.398272",
     "status": "completed"
    },
    "tags": []
   },
   "source": [
    "# Final Model Interpretation"
   ]
  },
  {
   "cell_type": "markdown",
   "metadata": {
    "papermill": {
     "duration": 0.125739,
     "end_time": "2024-01-25T16:19:30.772869",
     "exception": false,
     "start_time": "2024-01-25T16:19:30.647130",
     "status": "completed"
    },
    "tags": []
   },
   "source": [
    "## Hypothesis Testing:"
   ]
  },
  {
   "cell_type": "markdown",
   "metadata": {
    "papermill": {
     "duration": 0.119431,
     "end_time": "2024-01-25T16:19:31.016561",
     "exception": false,
     "start_time": "2024-01-25T16:19:30.897130",
     "status": "completed"
    },
    "tags": []
   },
   "source": [
    "Hypothesis testing states that:\n",
    "- H0:B1=B2=...=Bn=0 \n",
    "- H1:  at least one  Bi!=0"
   ]
  },
  {
   "cell_type": "markdown",
   "metadata": {
    "papermill": {
     "duration": 0.118122,
     "end_time": "2024-01-25T16:19:31.254972",
     "exception": false,
     "start_time": "2024-01-25T16:19:31.136850",
     "status": "completed"
    },
    "tags": []
   },
   "source": [
    "### lr6 model coefficient values"
   ]
  },
  {
   "cell_type": "markdown",
   "metadata": {
    "papermill": {
     "duration": 0.124522,
     "end_time": "2024-01-25T16:19:31.502741",
     "exception": false,
     "start_time": "2024-01-25T16:19:31.378219",
     "status": "completed"
    },
    "tags": []
   },
   "source": [
    "- const 0.1667\n",
    "- Kecepatan Angin rata-rata 0.0727\n",
    "- Mx Kecepatan 0.0693\n"
   ]
  },
  {
   "cell_type": "markdown",
   "metadata": {
    "papermill": {
     "duration": 0.12301,
     "end_time": "2024-01-25T16:19:31.749524",
     "exception": false,
     "start_time": "2024-01-25T16:19:31.626514",
     "status": "completed"
    },
    "tags": []
   },
   "source": [
    "### Insights\n",
    "- From the lr1 model summary, it is evident that all our coefficients are not equal to zerowhich means **We REJECT the NULL HYPOTHESIS**\n",
    "    "
   ]
  },
  {
   "cell_type": "markdown",
   "metadata": {
    "papermill": {
     "duration": 0.1223,
     "end_time": "2024-01-25T16:19:31.996909",
     "exception": false,
     "start_time": "2024-01-25T16:19:31.874609",
     "status": "completed"
    },
    "tags": []
   },
   "source": [
    "### F Statistics"
   ]
  },
  {
   "cell_type": "markdown",
   "metadata": {
    "papermill": {
     "duration": 0.118504,
     "end_time": "2024-01-25T16:19:32.244118",
     "exception": false,
     "start_time": "2024-01-25T16:19:32.125614",
     "status": "completed"
    },
    "tags": []
   },
   "source": [
    "F-Statistics is used for testing the overall significance of the Model: Higher the F-Statistics, more significant the Model is.\n",
    "\n",
    "- F-statistic: 0.3665\n",
    "- Prob (F-statistic): 0.697\n",
    "\n",
    "The F-Statistics value of 0.3665 and the p-value is not '~0.0000' states that the overall model is not significant"
   ]
  },
  {
   "cell_type": "markdown",
   "metadata": {
    "papermill": {
     "duration": 0.120033,
     "end_time": "2024-01-25T16:19:32.488474",
     "exception": false,
     "start_time": "2024-01-25T16:19:32.368441",
     "status": "completed"
    },
    "tags": []
   },
   "source": [
    "## The equation of best fitted surface based on model lr1:"
   ]
  },
  {
   "cell_type": "markdown",
   "metadata": {
    "papermill": {
     "duration": 0.12014,
     "end_time": "2024-01-25T16:19:32.730707",
     "exception": false,
     "start_time": "2024-01-25T16:19:32.610567",
     "status": "completed"
    },
    "tags": []
   },
   "source": [
    "cnt = 0.1667 + (**Kecepatan A** × 0.3665) + (**Mx Kecepatan** × 0.697)"
   ]
  },
  {
   "cell_type": "markdown",
   "metadata": {
    "papermill": {
     "duration": 0.117769,
     "end_time": "2024-01-25T16:19:32.967392",
     "exception": false,
     "start_time": "2024-01-25T16:19:32.849623",
     "status": "completed"
    },
    "tags": []
   },
   "source": [
    "## Interpretation of Coefficients:\n",
    "**Kecepatan Angin rata2:** A coefficient value of ‘0.3665’ Menunjukkan bahwa setiap rata-rata kecepatan angin yang bertambah akan memberikan pengaruh positive sebesar 36% terhadap produktivitas jeruk secara tidak langsung.\n",
    "\n",
    "**Kecepatan maksimum:** A coefficient value of ‘0.0693’ indicated that, Menunjukkan bahwa setiap kecepatan angin maksimum yang bertambah akan memberikan pengaruh positive sebesar 6% terhadap produktivitas jeruk secara tidak langsung."
   ]
  },
  {
   "cell_type": "markdown",
   "metadata": {
    "papermill": {
     "duration": 0.117751,
     "end_time": "2024-01-25T16:19:33.204978",
     "exception": false,
     "start_time": "2024-01-25T16:19:33.087227",
     "status": "completed"
    },
    "tags": []
   },
   "source": [
    "# ASSUMPTIONS "
   ]
  },
  {
   "cell_type": "markdown",
   "metadata": {
    "papermill": {
     "duration": 0.12087,
     "end_time": "2024-01-25T16:19:33.447755",
     "exception": false,
     "start_time": "2024-01-25T16:19:33.326885",
     "status": "completed"
    },
    "tags": []
   },
   "source": [
    "## Error terms are normally distributed with mean zero (not X, Y)\n",
    "- Residual Analysis Of Training Data"
   ]
  },
  {
   "cell_type": "code",
   "execution_count": 59,
   "metadata": {
    "execution": {
     "iopub.execute_input": "2024-01-25T16:19:33.694982Z",
     "iopub.status.busy": "2024-01-25T16:19:33.693852Z",
     "iopub.status.idle": "2024-01-25T16:19:33.697789Z",
     "shell.execute_reply": "2024-01-25T16:19:33.696988Z",
     "shell.execute_reply.started": "2024-01-25T16:16:13.535320Z"
    },
    "papermill": {
     "duration": 0.130423,
     "end_time": "2024-01-25T16:19:33.697945",
     "exception": false,
     "start_time": "2024-01-25T16:19:33.567522",
     "status": "completed"
    },
    "tags": []
   },
   "outputs": [],
   "source": [
    "y_train_pred = lr1.predict(X_train_lm1)"
   ]
  },
  {
   "cell_type": "code",
   "execution_count": 60,
   "metadata": {
    "execution": {
     "iopub.execute_input": "2024-01-25T16:19:33.945716Z",
     "iopub.status.busy": "2024-01-25T16:19:33.944504Z",
     "iopub.status.idle": "2024-01-25T16:19:34.192808Z",
     "shell.execute_reply": "2024-01-25T16:19:34.191701Z",
     "shell.execute_reply.started": "2024-01-25T16:16:13.542065Z"
    },
    "papermill": {
     "duration": 0.374415,
     "end_time": "2024-01-25T16:19:34.193023",
     "exception": false,
     "start_time": "2024-01-25T16:19:33.818608",
     "status": "completed"
    },
    "tags": []
   },
   "outputs": [
    {
     "data": {
      "text/plain": [
       "Text(0.5, 0, 'Errors')"
      ]
     },
     "execution_count": 60,
     "metadata": {},
     "output_type": "execute_result"
    },
    {
     "data": {
      "image/png": "[encoded data removed]",
      "text/plain": [
       "<Figure size 432x288 with 1 Axes>"
      ]
     },
     "metadata": {
      "needs_background": "light"
     },
     "output_type": "display_data"
    }
   ],
   "source": [
    "res = y_train-y_train_pred\n",
    "# Plot the histogram of the error terms\n",
    "fig = plt.figure()\n",
    "sns.distplot((res), bins = 20)\n",
    "fig.suptitle('Error Terms', fontsize = 20)                  # Plot heading \n",
    "plt.xlabel('Errors', fontsize = 18)                         # X-label"
   ]
  },
  {
   "cell_type": "markdown",
   "metadata": {
    "papermill": {
     "duration": 0.123492,
     "end_time": "2024-01-25T16:19:34.441833",
     "exception": false,
     "start_time": "2024-01-25T16:19:34.318341",
     "status": "completed"
    },
    "tags": []
   },
   "source": [
    "### Insights\n",
    "- From the above histogram, we could see that the Residuals are normally distributed. Hence our assumption for Linear Regression is valid."
   ]
  },
  {
   "cell_type": "markdown",
   "metadata": {
    "papermill": {
     "duration": 0.121889,
     "end_time": "2024-01-25T16:19:34.687988",
     "exception": false,
     "start_time": "2024-01-25T16:19:34.566099",
     "status": "completed"
    },
    "tags": []
   },
   "source": [
    "## There is a linear relationship between X and Y"
   ]
  },
  {
   "cell_type": "code",
   "execution_count": 61,
   "metadata": {
    "execution": {
     "iopub.execute_input": "2024-01-25T16:19:34.935105Z",
     "iopub.status.busy": "2024-01-25T16:19:34.934364Z",
     "iopub.status.idle": "2024-01-25T16:19:37.725993Z",
     "shell.execute_reply": "2024-01-25T16:19:37.726635Z",
     "shell.execute_reply.started": "2024-01-25T16:16:13.783243Z"
    },
    "papermill": {
     "duration": 2.91742,
     "end_time": "2024-01-25T16:19:37.726807",
     "exception": false,
     "start_time": "2024-01-25T16:19:34.809387",
     "status": "completed"
    },
    "tags": []
   },
   "outputs": [
    {
     "data": {
      "image/png": "[encoded data removed]",
      "text/plain": [
       "<Figure size 540x540 with 12 Axes>"
      ]
     },
     "metadata": {
      "needs_background": "light"
     },
     "output_type": "display_data"
    }
   ],
   "source": [
    "bike_new=bike_new[['Produktivitas Jeruk', 'Kecepatan A',\n",
    "       'Mx Kec']]\n",
    "\n",
    "sns.pairplot(bike_num, diag_kind='kde')\n",
    "plt.show()"
   ]
  },
  {
   "cell_type": "markdown",
   "metadata": {
    "papermill": {
     "duration": 0.123146,
     "end_time": "2024-01-25T16:19:37.975961",
     "exception": false,
     "start_time": "2024-01-25T16:19:37.852815",
     "status": "completed"
    },
    "tags": []
   },
   "source": [
    "## Insight\n",
    "- Using the pair plot, we could see there is a linear relation between temp and atemp variable with the predictor ‘cnt’."
   ]
  },
  {
   "cell_type": "markdown",
   "metadata": {
    "papermill": {
     "duration": 0.124038,
     "end_time": "2024-01-25T16:19:38.223386",
     "exception": false,
     "start_time": "2024-01-25T16:19:38.099348",
     "status": "completed"
    },
    "tags": []
   },
   "source": [
    "## There is No Multicollinearity between the predictor variables"
   ]
  },
  {
   "cell_type": "code",
   "execution_count": 62,
   "metadata": {
    "execution": {
     "iopub.execute_input": "2024-01-25T16:19:38.478284Z",
     "iopub.status.busy": "2024-01-25T16:19:38.477492Z",
     "iopub.status.idle": "2024-01-25T16:19:38.497656Z",
     "shell.execute_reply": "2024-01-25T16:19:38.498254Z",
     "shell.execute_reply.started": "2024-01-25T16:16:16.385775Z"
    },
    "papermill": {
     "duration": 0.150156,
     "end_time": "2024-01-25T16:19:38.498438",
     "exception": false,
     "start_time": "2024-01-25T16:19:38.348282",
     "status": "completed"
    },
    "tags": []
   },
   "outputs": [
    {
     "data": {
      "text/html": [
       "<div>\n",
       "<style scoped>\n",
       "    .dataframe tbody tr th:only-of-type {\n",
       "        vertical-align: middle;\n",
       "    }\n",
       "\n",
       "    .dataframe tbody tr th {\n",
       "        vertical-align: top;\n",
       "    }\n",
       "\n",
       "    .dataframe thead th {\n",
       "        text-align: right;\n",
       "    }\n",
       "</style>\n",
       "<table border=\"1\" class=\"dataframe\">\n",
       "  <thead>\n",
       "    <tr style=\"text-align: right;\">\n",
       "      <th></th>\n",
       "      <th>Features</th>\n",
       "      <th>VIF</th>\n",
       "    </tr>\n",
       "  </thead>\n",
       "  <tbody>\n",
       "    <tr>\n",
       "      <th>0</th>\n",
       "      <td>Kecepatan A</td>\n",
       "      <td>16.7</td>\n",
       "    </tr>\n",
       "    <tr>\n",
       "      <th>1</th>\n",
       "      <td>Mx Kec</td>\n",
       "      <td>16.7</td>\n",
       "    </tr>\n",
       "  </tbody>\n",
       "</table>\n",
       "</div>"
      ],
      "text/plain": [
       "      Features   VIF\n",
       "0  Kecepatan A  16.7\n",
       "1       Mx Kec  16.7"
      ]
     },
     "execution_count": 62,
     "metadata": {},
     "output_type": "execute_result"
    }
   ],
   "source": [
    "# Check for the VIF values of the feature variables. \n",
    "from statsmodels.stats.outliers_influence import variance_inflation_factor\n",
    "\n",
    "# Create a dataframe that will contain the names of all the feature variables and their respective VIFs\n",
    "vif = pd.DataFrame()\n",
    "vif['Features'] = X_train_rfe.columns\n",
    "vif['VIF'] = [variance_inflation_factor(X_train_rfe.values, i) for i in range(X_train_rfe.shape[1])]\n",
    "vif['VIF'] = round(vif['VIF'], 2)\n",
    "vif = vif.sort_values(by = \"VIF\", ascending = False)\n",
    "vif"
   ]
  },
  {
   "cell_type": "markdown",
   "metadata": {
    "papermill": {
     "duration": 0.124244,
     "end_time": "2024-01-25T16:19:38.748993",
     "exception": false,
     "start_time": "2024-01-25T16:19:38.624749",
     "status": "completed"
    },
    "tags": []
   },
   "source": [
    "## Insight\n",
    "\n",
    " - From the VIF calculation we could find that there is no multicollinearity existing between the predictor variables, as all the values are within permissible range of below 5"
   ]
  },
  {
   "cell_type": "markdown",
   "metadata": {
    "papermill": {
     "duration": 0.129763,
     "end_time": "2024-01-25T16:19:39.007633",
     "exception": false,
     "start_time": "2024-01-25T16:19:38.877870",
     "status": "completed"
    },
    "tags": []
   },
   "source": [
    "# MAKING PREDICTION USING FINAL MODEL\n",
    "\n",
    "Now that we have fitted the model and checked the assumptions, it's time to go ahead and make predictions using the final model (lr6)\n",
    "\n",
    "### Applying the scaling on the test sets"
   ]
  },
  {
   "cell_type": "code",
   "execution_count": 63,
   "metadata": {
    "execution": {
     "iopub.execute_input": "2024-01-25T16:19:39.259359Z",
     "iopub.status.busy": "2024-01-25T16:19:39.258475Z",
     "iopub.status.idle": "2024-01-25T16:19:39.269376Z",
     "shell.execute_reply": "2024-01-25T16:19:39.270062Z",
     "shell.execute_reply.started": "2024-01-25T16:16:16.411251Z"
    },
    "papermill": {
     "duration": 0.139066,
     "end_time": "2024-01-25T16:19:39.270248",
     "exception": false,
     "start_time": "2024-01-25T16:19:39.131182",
     "status": "completed"
    },
    "tags": []
   },
   "outputs": [],
   "source": [
    "# Apply scaler() to all numeric variables in test dataset. Note: we will only use scaler.transform, \n",
    "# as we want to use the metrics that the model learned from the training data to be applied on the test data. \n",
    "# In other words, we want to prevent the information leak from train to test dataset.\n",
    "\n",
    "num_vars = ['Produktivitas Jeruk', 'Kecepatan A',\n",
    "       'Mx Kec']\n",
    "\n",
    "df_test[num_vars] = scaler.transform(df_test[num_vars])"
   ]
  },
  {
   "cell_type": "code",
   "execution_count": 64,
   "metadata": {
    "execution": {
     "iopub.execute_input": "2024-01-25T16:19:39.528156Z",
     "iopub.status.busy": "2024-01-25T16:19:39.527362Z",
     "iopub.status.idle": "2024-01-25T16:19:39.541116Z",
     "shell.execute_reply": "2024-01-25T16:19:39.540396Z",
     "shell.execute_reply.started": "2024-01-25T16:16:16.424968Z"
    },
    "papermill": {
     "duration": 0.142799,
     "end_time": "2024-01-25T16:19:39.541252",
     "exception": false,
     "start_time": "2024-01-25T16:19:39.398453",
     "status": "completed"
    },
    "tags": []
   },
   "outputs": [
    {
     "data": {
      "text/html": [
       "<div>\n",
       "<style scoped>\n",
       "    .dataframe tbody tr th:only-of-type {\n",
       "        vertical-align: middle;\n",
       "    }\n",
       "\n",
       "    .dataframe tbody tr th {\n",
       "        vertical-align: top;\n",
       "    }\n",
       "\n",
       "    .dataframe thead th {\n",
       "        text-align: right;\n",
       "    }\n",
       "</style>\n",
       "<table border=\"1\" class=\"dataframe\">\n",
       "  <thead>\n",
       "    <tr style=\"text-align: right;\">\n",
       "      <th></th>\n",
       "      <th>Produktivitas Jeruk</th>\n",
       "      <th>Kecepatan A</th>\n",
       "      <th>Mx Kec</th>\n",
       "    </tr>\n",
       "  </thead>\n",
       "  <tbody>\n",
       "    <tr>\n",
       "      <th>31</th>\n",
       "      <td>0.552941</td>\n",
       "      <td>0.078261</td>\n",
       "      <td>0.164384</td>\n",
       "    </tr>\n",
       "    <tr>\n",
       "      <th>4</th>\n",
       "      <td>0.188235</td>\n",
       "      <td>0.469565</td>\n",
       "      <td>0.561644</td>\n",
       "    </tr>\n",
       "    <tr>\n",
       "      <th>6</th>\n",
       "      <td>0.141176</td>\n",
       "      <td>1.360870</td>\n",
       "      <td>1.178082</td>\n",
       "    </tr>\n",
       "    <tr>\n",
       "      <th>16</th>\n",
       "      <td>0.000000</td>\n",
       "      <td>0.108696</td>\n",
       "      <td>0.328767</td>\n",
       "    </tr>\n",
       "    <tr>\n",
       "      <th>30</th>\n",
       "      <td>0.164706</td>\n",
       "      <td>0.326087</td>\n",
       "      <td>0.342466</td>\n",
       "    </tr>\n",
       "  </tbody>\n",
       "</table>\n",
       "</div>"
      ],
      "text/plain": [
       "    Produktivitas Jeruk  Kecepatan A    Mx Kec\n",
       "31             0.552941     0.078261  0.164384\n",
       "4              0.188235     0.469565  0.561644\n",
       "6              0.141176     1.360870  1.178082\n",
       "16             0.000000     0.108696  0.328767\n",
       "30             0.164706     0.326087  0.342466"
      ]
     },
     "execution_count": 64,
     "metadata": {},
     "output_type": "execute_result"
    }
   ],
   "source": [
    "df_test.head()"
   ]
  },
  {
   "cell_type": "code",
   "execution_count": 65,
   "metadata": {
    "execution": {
     "iopub.execute_input": "2024-01-25T16:19:39.815594Z",
     "iopub.status.busy": "2024-01-25T16:19:39.814667Z",
     "iopub.status.idle": "2024-01-25T16:19:39.836887Z",
     "shell.execute_reply": "2024-01-25T16:19:39.837600Z",
     "shell.execute_reply.started": "2024-01-25T16:16:16.445836Z"
    },
    "papermill": {
     "duration": 0.164512,
     "end_time": "2024-01-25T16:19:39.837773",
     "exception": false,
     "start_time": "2024-01-25T16:19:39.673261",
     "status": "completed"
    },
    "tags": []
   },
   "outputs": [
    {
     "data": {
      "text/html": [
       "<div>\n",
       "<style scoped>\n",
       "    .dataframe tbody tr th:only-of-type {\n",
       "        vertical-align: middle;\n",
       "    }\n",
       "\n",
       "    .dataframe tbody tr th {\n",
       "        vertical-align: top;\n",
       "    }\n",
       "\n",
       "    .dataframe thead th {\n",
       "        text-align: right;\n",
       "    }\n",
       "</style>\n",
       "<table border=\"1\" class=\"dataframe\">\n",
       "  <thead>\n",
       "    <tr style=\"text-align: right;\">\n",
       "      <th></th>\n",
       "      <th>Produktivitas Jeruk</th>\n",
       "      <th>Kecepatan A</th>\n",
       "      <th>Mx Kec</th>\n",
       "    </tr>\n",
       "  </thead>\n",
       "  <tbody>\n",
       "    <tr>\n",
       "      <th>count</th>\n",
       "      <td>12.000000</td>\n",
       "      <td>12.000000</td>\n",
       "      <td>12.000000</td>\n",
       "    </tr>\n",
       "    <tr>\n",
       "      <th>mean</th>\n",
       "      <td>0.194118</td>\n",
       "      <td>0.627355</td>\n",
       "      <td>0.654110</td>\n",
       "    </tr>\n",
       "    <tr>\n",
       "      <th>std</th>\n",
       "      <td>0.129412</td>\n",
       "      <td>0.491536</td>\n",
       "      <td>0.365624</td>\n",
       "    </tr>\n",
       "    <tr>\n",
       "      <th>min</th>\n",
       "      <td>0.000000</td>\n",
       "      <td>0.078261</td>\n",
       "      <td>0.164384</td>\n",
       "    </tr>\n",
       "    <tr>\n",
       "      <th>25%</th>\n",
       "      <td>0.135294</td>\n",
       "      <td>0.275000</td>\n",
       "      <td>0.339041</td>\n",
       "    </tr>\n",
       "    <tr>\n",
       "      <th>50%</th>\n",
       "      <td>0.188235</td>\n",
       "      <td>0.495652</td>\n",
       "      <td>0.602740</td>\n",
       "    </tr>\n",
       "    <tr>\n",
       "      <th>75%</th>\n",
       "      <td>0.211765</td>\n",
       "      <td>0.856522</td>\n",
       "      <td>0.945205</td>\n",
       "    </tr>\n",
       "    <tr>\n",
       "      <th>max</th>\n",
       "      <td>0.552941</td>\n",
       "      <td>1.528261</td>\n",
       "      <td>1.273973</td>\n",
       "    </tr>\n",
       "  </tbody>\n",
       "</table>\n",
       "</div>"
      ],
      "text/plain": [
       "       Produktivitas Jeruk  Kecepatan A     Mx Kec\n",
       "count            12.000000    12.000000  12.000000\n",
       "mean              0.194118     0.627355   0.654110\n",
       "std               0.129412     0.491536   0.365624\n",
       "min               0.000000     0.078261   0.164384\n",
       "25%               0.135294     0.275000   0.339041\n",
       "50%               0.188235     0.495652   0.602740\n",
       "75%               0.211765     0.856522   0.945205\n",
       "max               0.552941     1.528261   1.273973"
      ]
     },
     "execution_count": 65,
     "metadata": {},
     "output_type": "execute_result"
    }
   ],
   "source": [
    "df_test.describe()"
   ]
  },
  {
   "cell_type": "markdown",
   "metadata": {
    "papermill": {
     "duration": 0.127892,
     "end_time": "2024-01-25T16:19:40.092837",
     "exception": false,
     "start_time": "2024-01-25T16:19:39.964945",
     "status": "completed"
    },
    "tags": []
   },
   "source": [
    "### Dividing into X_test and y_test"
   ]
  },
  {
   "cell_type": "code",
   "execution_count": 66,
   "metadata": {
    "execution": {
     "iopub.execute_input": "2024-01-25T16:19:40.349387Z",
     "iopub.status.busy": "2024-01-25T16:19:40.348192Z",
     "iopub.status.idle": "2024-01-25T16:19:40.360385Z",
     "shell.execute_reply": "2024-01-25T16:19:40.359688Z",
     "shell.execute_reply.started": "2024-01-25T16:16:16.476593Z"
    },
    "papermill": {
     "duration": 0.142141,
     "end_time": "2024-01-25T16:19:40.360536",
     "exception": false,
     "start_time": "2024-01-25T16:19:40.218395",
     "status": "completed"
    },
    "tags": []
   },
   "outputs": [
    {
     "name": "stdout",
     "output_type": "stream",
     "text": [
      "<class 'pandas.core.frame.DataFrame'>\n",
      "Int64Index: 12 entries, 31 to 0\n",
      "Data columns (total 2 columns):\n",
      " #   Column       Non-Null Count  Dtype  \n",
      "---  ------       --------------  -----  \n",
      " 0   Kecepatan A  12 non-null     float64\n",
      " 1   Mx Kec       12 non-null     float64\n",
      "dtypes: float64(2)\n",
      "memory usage: 288.0 bytes\n"
     ]
    }
   ],
   "source": [
    "y_test = df_test.pop('Produktivitas Jeruk')\n",
    "X_test = df_test\n",
    "X_test.info()"
   ]
  },
  {
   "cell_type": "code",
   "execution_count": 67,
   "metadata": {
    "execution": {
     "iopub.execute_input": "2024-01-25T16:19:40.631996Z",
     "iopub.status.busy": "2024-01-25T16:19:40.631030Z",
     "iopub.status.idle": "2024-01-25T16:19:40.646137Z",
     "shell.execute_reply": "2024-01-25T16:19:40.646732Z",
     "shell.execute_reply.started": "2024-01-25T16:16:16.490615Z"
    },
    "papermill": {
     "duration": 0.154271,
     "end_time": "2024-01-25T16:19:40.646913",
     "exception": false,
     "start_time": "2024-01-25T16:19:40.492642",
     "status": "completed"
    },
    "tags": []
   },
   "outputs": [
    {
     "name": "stdout",
     "output_type": "stream",
     "text": [
      "<class 'pandas.core.frame.DataFrame'>\n",
      "Int64Index: 12 entries, 31 to 0\n",
      "Data columns (total 3 columns):\n",
      " #   Column       Non-Null Count  Dtype  \n",
      "---  ------       --------------  -----  \n",
      " 0   const        12 non-null     float64\n",
      " 1   Kecepatan A  12 non-null     float64\n",
      " 2   Mx Kec       12 non-null     float64\n",
      "dtypes: float64(3)\n",
      "memory usage: 384.0 bytes\n"
     ]
    }
   ],
   "source": [
    "#Selecting the variables that were part of final model.\n",
    "col1=X_train_rfe.columns\n",
    "X_test=X_test[col1]\n",
    "# Adding constant variable to test dataframe\n",
    "X_test_lm1 = sm.add_constant(X_test)\n",
    "X_test_lm1.info()"
   ]
  },
  {
   "cell_type": "code",
   "execution_count": 68,
   "metadata": {
    "execution": {
     "iopub.execute_input": "2024-01-25T16:19:40.917023Z",
     "iopub.status.busy": "2024-01-25T16:19:40.916077Z",
     "iopub.status.idle": "2024-01-25T16:19:40.919782Z",
     "shell.execute_reply": "2024-01-25T16:19:40.919066Z",
     "shell.execute_reply.started": "2024-01-25T16:16:16.511378Z"
    },
    "papermill": {
     "duration": 0.140947,
     "end_time": "2024-01-25T16:19:40.919923",
     "exception": false,
     "start_time": "2024-01-25T16:19:40.778976",
     "status": "completed"
    },
    "tags": []
   },
   "outputs": [],
   "source": [
    "# Making predictions using the final model (lr1)\n",
    "\n",
    "y_pred = lr1.predict(X_test_lm1)"
   ]
  },
  {
   "cell_type": "markdown",
   "metadata": {
    "papermill": {
     "duration": 0.131059,
     "end_time": "2024-01-25T16:19:41.177658",
     "exception": false,
     "start_time": "2024-01-25T16:19:41.046599",
     "status": "completed"
    },
    "tags": []
   },
   "source": [
    "# MODEL EVALUATION"
   ]
  },
  {
   "cell_type": "code",
   "execution_count": 69,
   "metadata": {
    "execution": {
     "iopub.execute_input": "2024-01-25T16:19:41.447654Z",
     "iopub.status.busy": "2024-01-25T16:19:41.446479Z",
     "iopub.status.idle": "2024-01-25T16:19:41.639186Z",
     "shell.execute_reply": "2024-01-25T16:19:41.638419Z",
     "shell.execute_reply.started": "2024-01-25T16:16:16.519843Z"
    },
    "papermill": {
     "duration": 0.334101,
     "end_time": "2024-01-25T16:19:41.639344",
     "exception": false,
     "start_time": "2024-01-25T16:19:41.305243",
     "status": "completed"
    },
    "tags": []
   },
   "outputs": [
    {
     "data": {
      "image/png": "[encoded data removed]",
      "text/plain": [
       "<Figure size 432x288 with 1 Axes>"
      ]
     },
     "metadata": {
      "needs_background": "light"
     },
     "output_type": "display_data"
    }
   ],
   "source": [
    "# Plotting y_test and y_pred to understand the spread\n",
    "\n",
    "fig = plt.figure()\n",
    "plt.scatter(y_test, y_pred, alpha=.5)\n",
    "fig.suptitle('y_test vs y_pred', fontsize = 20)              # Plot heading \n",
    "plt.xlabel('y_test', fontsize = 18)                          # X-label\n",
    "plt.ylabel('y_pred', fontsize = 16) \n",
    "plt.show()"
   ]
  },
  {
   "cell_type": "markdown",
   "metadata": {
    "papermill": {
     "duration": 0.127701,
     "end_time": "2024-01-25T16:19:41.901814",
     "exception": false,
     "start_time": "2024-01-25T16:19:41.774113",
     "status": "completed"
    },
    "tags": []
   },
   "source": [
    " # R^2 Value for TEST"
   ]
  },
  {
   "cell_type": "code",
   "execution_count": 70,
   "metadata": {
    "execution": {
     "iopub.execute_input": "2024-01-25T16:19:42.170268Z",
     "iopub.status.busy": "2024-01-25T16:19:42.169486Z",
     "iopub.status.idle": "2024-01-25T16:19:42.174101Z",
     "shell.execute_reply": "2024-01-25T16:19:42.173356Z",
     "shell.execute_reply.started": "2024-01-25T16:16:16.723349Z"
    },
    "papermill": {
     "duration": 0.141791,
     "end_time": "2024-01-25T16:19:42.174231",
     "exception": false,
     "start_time": "2024-01-25T16:19:42.032440",
     "status": "completed"
    },
    "tags": []
   },
   "outputs": [
    {
     "data": {
      "text/plain": [
       "-0.6029388703233771"
      ]
     },
     "execution_count": 70,
     "metadata": {},
     "output_type": "execute_result"
    }
   ],
   "source": [
    "from sklearn.metrics import r2_score\n",
    "r2_score(y_test, y_pred)"
   ]
  },
  {
   "cell_type": "markdown",
   "metadata": {
    "papermill": {
     "duration": 0.133438,
     "end_time": "2024-01-25T16:19:42.437179",
     "exception": false,
     "start_time": "2024-01-25T16:19:42.303741",
     "status": "completed"
    },
    "tags": []
   },
   "source": [
    "## Adjusted R^2 Value for TEST"
   ]
  },
  {
   "cell_type": "code",
   "execution_count": 71,
   "metadata": {
    "execution": {
     "iopub.execute_input": "2024-01-25T16:19:42.700477Z",
     "iopub.status.busy": "2024-01-25T16:19:42.699682Z",
     "iopub.status.idle": "2024-01-25T16:19:42.702132Z",
     "shell.execute_reply": "2024-01-25T16:19:42.702876Z",
     "shell.execute_reply.started": "2024-01-25T16:16:16.734676Z"
    },
    "papermill": {
     "duration": 0.137409,
     "end_time": "2024-01-25T16:19:42.703046",
     "exception": false,
     "start_time": "2024-01-25T16:19:42.565637",
     "status": "completed"
    },
    "tags": []
   },
   "outputs": [],
   "source": [
    "# We already have the value of R^2 (calculated in above step)\n",
    "\n",
    "r2=-0.6029388703233771"
   ]
  },
  {
   "cell_type": "code",
   "execution_count": 72,
   "metadata": {
    "execution": {
     "iopub.execute_input": "2024-01-25T16:19:42.963974Z",
     "iopub.status.busy": "2024-01-25T16:19:42.962606Z",
     "iopub.status.idle": "2024-01-25T16:19:42.966705Z",
     "shell.execute_reply": "2024-01-25T16:19:42.967369Z",
     "shell.execute_reply.started": "2024-01-25T16:16:16.745203Z"
    },
    "papermill": {
     "duration": 0.139012,
     "end_time": "2024-01-25T16:19:42.967553",
     "exception": false,
     "start_time": "2024-01-25T16:19:42.828541",
     "status": "completed"
    },
    "tags": []
   },
   "outputs": [
    {
     "data": {
      "text/plain": [
       "(12, 2)"
      ]
     },
     "execution_count": 72,
     "metadata": {},
     "output_type": "execute_result"
    }
   ],
   "source": [
    "# Get the shape of X_test\n",
    "X_test.shape\n"
   ]
  },
  {
   "cell_type": "code",
   "execution_count": 73,
   "metadata": {
    "execution": {
     "iopub.execute_input": "2024-01-25T16:19:43.276301Z",
     "iopub.status.busy": "2024-01-25T16:19:43.275425Z",
     "iopub.status.idle": "2024-01-25T16:19:43.283007Z",
     "shell.execute_reply": "2024-01-25T16:19:43.283746Z",
     "shell.execute_reply.started": "2024-01-25T16:16:16.754475Z"
    },
    "papermill": {
     "duration": 0.13854,
     "end_time": "2024-01-25T16:19:43.283927",
     "exception": false,
     "start_time": "2024-01-25T16:19:43.145387",
     "status": "completed"
    },
    "tags": []
   },
   "outputs": [
    {
     "data": {
      "text/plain": [
       "-0.9591475081730165"
      ]
     },
     "execution_count": 73,
     "metadata": {},
     "output_type": "execute_result"
    }
   ],
   "source": [
    "# n is number of rows in X\n",
    "\n",
    "n = X_test.shape[0]\n",
    "\n",
    "\n",
    "# Number of features (predictors, p) is the shape along axis 1\n",
    "p = X_test.shape[1]\n",
    "\n",
    "# We find the Adjusted R-squared using the formula\n",
    "\n",
    "adjusted_r2 = 1-(1-r2)*(n-1)/(n-p-1)\n",
    "adjusted_r2"
   ]
  },
  {
   "cell_type": "markdown",
   "metadata": {
    "papermill": {
     "duration": 0.131412,
     "end_time": "2024-01-25T16:19:43.543958",
     "exception": false,
     "start_time": "2024-01-25T16:19:43.412546",
     "status": "completed"
    },
    "tags": []
   },
   "source": [
    "# Final Result Comparison"
   ]
  },
  {
   "cell_type": "markdown",
   "metadata": {
    "papermill": {
     "duration": 0.135013,
     "end_time": "2024-01-25T16:19:43.809217",
     "exception": false,
     "start_time": "2024-01-25T16:19:43.674204",
     "status": "completed"
    },
    "tags": []
   },
   "source": [
    "- Train R^2 :0.028\n",
    "- Train Adjusted R^2 :-0.049 \n",
    "- Test R^2 :0.6029\n",
    "- Test Adjusted R^2 :-0.9591 \n",
    "Model ini belum bisa dikatakan cocok dengan data yang ada. Data yang sedikit juga mempengaruhi hasil dari nilai yang didapat diatas."
   ]
  },
  {
   "cell_type": "markdown",
   "metadata": {
    "papermill": {
     "duration": 0.131378,
     "end_time": "2024-01-25T16:19:44.069999",
     "exception": false,
     "start_time": "2024-01-25T16:19:43.938621",
     "status": "completed"
    },
    "tags": []
   },
   "source": [
    "# FINAL REPORT"
   ]
  }
 ],
 "metadata": {
  "kaggle": {
   "accelerator": "none",
   "dataSources": [
    {
     "datasetId": 789011,
     "sourceId": 1355226,
     "sourceType": "datasetVersion"
    },
    {
     "datasetId": 4246041,
     "sourceId": 7327627,
     "sourceType": "datasetVersion"
    }
   ],
   "dockerImageVersionId": 29981,
   "isGpuEnabled": false,
   "isInternetEnabled": true,
   "language": "python",
   "sourceType": "notebook"
  },
  "kernelspec": {
   "display_name": "Python 3",
   "language": "python",
   "name": "python3"
  },
  "language_info": {
   "codemirror_mode": {
    "name": "ipython",
    "version": 3
   },
   "file_extension": ".py",
   "mimetype": "text/x-python",
   "name": "python",
   "nbconvert_exporter": "python",
   "pygments_lexer": "ipython3",
   "version": "3.7.6"
  },
  "papermill": {
   "duration": 45.143797,
   "end_time": "2024-01-25T16:19:44.305972",
   "environment_variables": {},
   "exception": null,
   "input_path": "__notebook__.ipynb",
   "output_path": "__notebook__.ipynb",
   "parameters": {},
   "start_time": "2024-01-25T16:18:59.162175",
   "version": "2.1.0"
  }
 },
 "nbformat": 4,
 "nbformat_minor": 4
}
