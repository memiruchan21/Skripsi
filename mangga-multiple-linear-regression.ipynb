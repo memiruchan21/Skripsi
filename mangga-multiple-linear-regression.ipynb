{
 "cells": [
  {
   "cell_type": "markdown",
   "metadata": {
    "papermill": {
     "duration": 0.127698,
     "end_time": "2024-01-27T03:57:54.073163",
     "exception": false,
     "start_time": "2024-01-27T03:57:53.945465",
     "status": "completed"
    },
    "tags": []
   },
   "source": [
    "##  Reading and Understanding the Data\n"
   ]
  },
  {
   "cell_type": "code",
   "execution_count": 1,
   "metadata": {
    "execution": {
     "iopub.execute_input": "2024-01-27T03:57:54.326079Z",
     "iopub.status.busy": "2024-01-27T03:57:54.325261Z",
     "iopub.status.idle": "2024-01-27T03:57:54.331555Z",
     "shell.execute_reply": "2024-01-27T03:57:54.330755Z",
     "shell.execute_reply.started": "2024-01-27T03:40:00.517062Z"
    },
    "papermill": {
     "duration": 0.135046,
     "end_time": "2024-01-27T03:57:54.331689",
     "exception": false,
     "start_time": "2024-01-27T03:57:54.196643",
     "status": "completed"
    },
    "tags": []
   },
   "outputs": [],
   "source": [
    "# Supress Warnings\n",
    "\n",
    "import warnings\n",
    "warnings.filterwarnings('ignore')"
   ]
  },
  {
   "cell_type": "code",
   "execution_count": 2,
   "metadata": {
    "execution": {
     "iopub.execute_input": "2024-01-27T03:57:54.589030Z",
     "iopub.status.busy": "2024-01-27T03:57:54.587910Z",
     "iopub.status.idle": "2024-01-27T03:57:55.560170Z",
     "shell.execute_reply": "2024-01-27T03:57:55.561021Z",
     "shell.execute_reply.started": "2024-01-27T03:40:00.522151Z"
    },
    "papermill": {
     "duration": 1.105329,
     "end_time": "2024-01-27T03:57:55.561200",
     "exception": false,
     "start_time": "2024-01-27T03:57:54.455871",
     "status": "completed"
    },
    "tags": []
   },
   "outputs": [],
   "source": [
    "import numpy as np\n",
    "import pandas as pd\n",
    "import matplotlib.pyplot as plt\n",
    "import seaborn as sns\n",
    "%matplotlib inline"
   ]
  },
  {
   "cell_type": "code",
   "execution_count": 3,
   "metadata": {
    "execution": {
     "iopub.execute_input": "2024-01-27T03:57:55.811121Z",
     "iopub.status.busy": "2024-01-27T03:57:55.810360Z",
     "iopub.status.idle": "2024-01-27T03:57:55.834307Z",
     "shell.execute_reply": "2024-01-27T03:57:55.833510Z",
     "shell.execute_reply.started": "2024-01-27T03:40:00.539781Z"
    },
    "papermill": {
     "duration": 0.150421,
     "end_time": "2024-01-27T03:57:55.834437",
     "exception": false,
     "start_time": "2024-01-27T03:57:55.684016",
     "status": "completed"
    },
    "tags": []
   },
   "outputs": [
    {
     "name": "stdout",
     "output_type": "stream",
     "text": [
      "/kaggle/input/bike-sharing/day.csv\n",
      "/kaggle/input/bismillahskripsi/Buleleng-Climate - Full (1).csv\n"
     ]
    }
   ],
   "source": [
    "import os\n",
    "for dirname, _, filenames in os.walk('/kaggle/input'):\n",
    "    for filename in filenames:\n",
    "        print(os.path.join(dirname, filename))"
   ]
  },
  {
   "cell_type": "code",
   "execution_count": 4,
   "metadata": {
    "execution": {
     "iopub.execute_input": "2024-01-27T03:57:56.090861Z",
     "iopub.status.busy": "2024-01-27T03:57:56.090053Z",
     "iopub.status.idle": "2024-01-27T03:57:56.104328Z",
     "shell.execute_reply": "2024-01-27T03:57:56.104999Z",
     "shell.execute_reply.started": "2024-01-27T03:40:00.557672Z"
    },
    "papermill": {
     "duration": 0.145455,
     "end_time": "2024-01-27T03:57:56.105198",
     "exception": false,
     "start_time": "2024-01-27T03:57:55.959743",
     "status": "completed"
    },
    "tags": []
   },
   "outputs": [],
   "source": [
    "bike = pd.read_csv(\"/kaggle/input/bismillahskripsi/Buleleng-Climate - Full (1).csv\")"
   ]
  },
  {
   "cell_type": "code",
   "execution_count": 5,
   "metadata": {
    "execution": {
     "iopub.execute_input": "2024-01-27T03:57:56.356588Z",
     "iopub.status.busy": "2024-01-27T03:57:56.355898Z",
     "iopub.status.idle": "2024-01-27T03:57:56.385477Z",
     "shell.execute_reply": "2024-01-27T03:57:56.384885Z",
     "shell.execute_reply.started": "2024-01-27T03:40:00.568995Z"
    },
    "papermill": {
     "duration": 0.156633,
     "end_time": "2024-01-27T03:57:56.385605",
     "exception": false,
     "start_time": "2024-01-27T03:57:56.228972",
     "status": "completed"
    },
    "tags": []
   },
   "outputs": [
    {
     "data": {
      "text/html": [
       "<div>\n",
       "<style scoped>\n",
       "    .dataframe tbody tr th:only-of-type {\n",
       "        vertical-align: middle;\n",
       "    }\n",
       "\n",
       "    .dataframe tbody tr th {\n",
       "        vertical-align: top;\n",
       "    }\n",
       "\n",
       "    .dataframe thead th {\n",
       "        text-align: right;\n",
       "    }\n",
       "</style>\n",
       "<table border=\"1\" class=\"dataframe\">\n",
       "  <thead>\n",
       "    <tr style=\"text-align: right;\">\n",
       "      <th></th>\n",
       "      <th>Year</th>\n",
       "      <th>Periode</th>\n",
       "      <th>Produktivitas Mangga</th>\n",
       "      <th>Produktivitas Jeruk</th>\n",
       "      <th>Max</th>\n",
       "      <th>Min</th>\n",
       "      <th>Tavg</th>\n",
       "      <th>Sun Hour</th>\n",
       "      <th>Sun Day</th>\n",
       "      <th>Curah Hujan</th>\n",
       "      <th>Hari Hujan</th>\n",
       "      <th>Kecepatan A</th>\n",
       "      <th>Mx Kec</th>\n",
       "    </tr>\n",
       "  </thead>\n",
       "  <tbody>\n",
       "    <tr>\n",
       "      <th>0</th>\n",
       "      <td>2012</td>\n",
       "      <td>Triwulan I</td>\n",
       "      <td>0.46</td>\n",
       "      <td>0.17</td>\n",
       "      <td>28.0</td>\n",
       "      <td>25.0</td>\n",
       "      <td>26.00</td>\n",
       "      <td>78.7</td>\n",
       "      <td>8</td>\n",
       "      <td>501</td>\n",
       "      <td>83</td>\n",
       "      <td>8.17</td>\n",
       "      <td>13.4</td>\n",
       "    </tr>\n",
       "    <tr>\n",
       "      <th>1</th>\n",
       "      <td>2012</td>\n",
       "      <td>Triwulan II</td>\n",
       "      <td>0.00</td>\n",
       "      <td>0.10</td>\n",
       "      <td>28.0</td>\n",
       "      <td>24.0</td>\n",
       "      <td>26.00</td>\n",
       "      <td>237.7</td>\n",
       "      <td>49</td>\n",
       "      <td>164</td>\n",
       "      <td>42</td>\n",
       "      <td>8.93</td>\n",
       "      <td>14.0</td>\n",
       "    </tr>\n",
       "    <tr>\n",
       "      <th>2</th>\n",
       "      <td>2012</td>\n",
       "      <td>Triwulan III</td>\n",
       "      <td>0.27</td>\n",
       "      <td>0.20</td>\n",
       "      <td>28.0</td>\n",
       "      <td>22.0</td>\n",
       "      <td>24.33</td>\n",
       "      <td>336.3</td>\n",
       "      <td>88</td>\n",
       "      <td>10</td>\n",
       "      <td>4</td>\n",
       "      <td>12.20</td>\n",
       "      <td>17.2</td>\n",
       "    </tr>\n",
       "    <tr>\n",
       "      <th>3</th>\n",
       "      <td>2012</td>\n",
       "      <td>Triwulan IV</td>\n",
       "      <td>0.46</td>\n",
       "      <td>0.11</td>\n",
       "      <td>29.0</td>\n",
       "      <td>25.0</td>\n",
       "      <td>27.00</td>\n",
       "      <td>176.0</td>\n",
       "      <td>24</td>\n",
       "      <td>375</td>\n",
       "      <td>68</td>\n",
       "      <td>7.93</td>\n",
       "      <td>13.6</td>\n",
       "    </tr>\n",
       "    <tr>\n",
       "      <th>4</th>\n",
       "      <td>2013</td>\n",
       "      <td>Triwulan I</td>\n",
       "      <td>0.65</td>\n",
       "      <td>0.16</td>\n",
       "      <td>28.0</td>\n",
       "      <td>25.0</td>\n",
       "      <td>27.00</td>\n",
       "      <td>140.7</td>\n",
       "      <td>20</td>\n",
       "      <td>338</td>\n",
       "      <td>70</td>\n",
       "      <td>7.33</td>\n",
       "      <td>12.0</td>\n",
       "    </tr>\n",
       "  </tbody>\n",
       "</table>\n",
       "</div>"
      ],
      "text/plain": [
       "   Year       Periode  Produktivitas Mangga  Produktivitas Jeruk   Max   Min  \\\n",
       "0  2012    Triwulan I                  0.46                 0.17  28.0  25.0   \n",
       "1  2012   Triwulan II                  0.00                 0.10  28.0  24.0   \n",
       "2  2012  Triwulan III                  0.27                 0.20  28.0  22.0   \n",
       "3  2012   Triwulan IV                  0.46                 0.11  29.0  25.0   \n",
       "4  2013    Triwulan I                  0.65                 0.16  28.0  25.0   \n",
       "\n",
       "    Tavg  Sun Hour  Sun Day  Curah Hujan  Hari Hujan  Kecepatan A  Mx Kec  \n",
       "0  26.00      78.7        8          501          83         8.17    13.4  \n",
       "1  26.00     237.7       49          164          42         8.93    14.0  \n",
       "2  24.33     336.3       88           10           4        12.20    17.2  \n",
       "3  27.00     176.0       24          375          68         7.93    13.6  \n",
       "4  27.00     140.7       20          338          70         7.33    12.0  "
      ]
     },
     "execution_count": 5,
     "metadata": {},
     "output_type": "execute_result"
    }
   ],
   "source": [
    "# Check the head of the dataset\n",
    "bike.head()"
   ]
  },
  {
   "cell_type": "code",
   "execution_count": 6,
   "metadata": {
    "execution": {
     "iopub.execute_input": "2024-01-27T03:57:56.672026Z",
     "iopub.status.busy": "2024-01-27T03:57:56.671228Z",
     "iopub.status.idle": "2024-01-27T03:57:56.688855Z",
     "shell.execute_reply": "2024-01-27T03:57:56.688171Z",
     "shell.execute_reply.started": "2024-01-27T03:40:00.598433Z"
    },
    "papermill": {
     "duration": 0.158136,
     "end_time": "2024-01-27T03:57:56.689002",
     "exception": false,
     "start_time": "2024-01-27T03:57:56.530866",
     "status": "completed"
    },
    "tags": []
   },
   "outputs": [
    {
     "name": "stdout",
     "output_type": "stream",
     "text": [
      "<class 'pandas.core.frame.DataFrame'>\n",
      "RangeIndex: 40 entries, 0 to 39\n",
      "Data columns (total 13 columns):\n",
      " #   Column                Non-Null Count  Dtype  \n",
      "---  ------                --------------  -----  \n",
      " 0   Year                  40 non-null     int64  \n",
      " 1   Periode               40 non-null     object \n",
      " 2   Produktivitas Mangga  40 non-null     float64\n",
      " 3   Produktivitas Jeruk   40 non-null     float64\n",
      " 4   Max                   40 non-null     float64\n",
      " 5   Min                   40 non-null     float64\n",
      " 6   Tavg                  40 non-null     float64\n",
      " 7   Sun Hour              40 non-null     float64\n",
      " 8   Sun Day               40 non-null     int64  \n",
      " 9   Curah Hujan           40 non-null     int64  \n",
      " 10  Hari Hujan            40 non-null     int64  \n",
      " 11  Kecepatan A           40 non-null     float64\n",
      " 12  Mx Kec                40 non-null     float64\n",
      "dtypes: float64(8), int64(4), object(1)\n",
      "memory usage: 4.2+ KB\n"
     ]
    }
   ],
   "source": [
    "# Check the descriptive information\n",
    "bike.info()"
   ]
  },
  {
   "cell_type": "code",
   "execution_count": 7,
   "metadata": {
    "execution": {
     "iopub.execute_input": "2024-01-27T03:57:56.961649Z",
     "iopub.status.busy": "2024-01-27T03:57:56.960561Z",
     "iopub.status.idle": "2024-01-27T03:57:57.023433Z",
     "shell.execute_reply": "2024-01-27T03:57:57.022784Z",
     "shell.execute_reply.started": "2024-01-27T03:40:00.614797Z"
    },
    "papermill": {
     "duration": 0.192587,
     "end_time": "2024-01-27T03:57:57.023575",
     "exception": false,
     "start_time": "2024-01-27T03:57:56.830988",
     "status": "completed"
    },
    "tags": []
   },
   "outputs": [
    {
     "data": {
      "text/html": [
       "<div>\n",
       "<style scoped>\n",
       "    .dataframe tbody tr th:only-of-type {\n",
       "        vertical-align: middle;\n",
       "    }\n",
       "\n",
       "    .dataframe tbody tr th {\n",
       "        vertical-align: top;\n",
       "    }\n",
       "\n",
       "    .dataframe thead th {\n",
       "        text-align: right;\n",
       "    }\n",
       "</style>\n",
       "<table border=\"1\" class=\"dataframe\">\n",
       "  <thead>\n",
       "    <tr style=\"text-align: right;\">\n",
       "      <th></th>\n",
       "      <th>Year</th>\n",
       "      <th>Produktivitas Mangga</th>\n",
       "      <th>Produktivitas Jeruk</th>\n",
       "      <th>Max</th>\n",
       "      <th>Min</th>\n",
       "      <th>Tavg</th>\n",
       "      <th>Sun Hour</th>\n",
       "      <th>Sun Day</th>\n",
       "      <th>Curah Hujan</th>\n",
       "      <th>Hari Hujan</th>\n",
       "      <th>Kecepatan A</th>\n",
       "      <th>Mx Kec</th>\n",
       "    </tr>\n",
       "  </thead>\n",
       "  <tbody>\n",
       "    <tr>\n",
       "      <th>count</th>\n",
       "      <td>40.000000</td>\n",
       "      <td>40.0000</td>\n",
       "      <td>40.000000</td>\n",
       "      <td>40.000000</td>\n",
       "      <td>40.000000</td>\n",
       "      <td>40.000000</td>\n",
       "      <td>40.000000</td>\n",
       "      <td>40.00000</td>\n",
       "      <td>40.000000</td>\n",
       "      <td>40.000000</td>\n",
       "      <td>40.000000</td>\n",
       "      <td>40.00000</td>\n",
       "    </tr>\n",
       "    <tr>\n",
       "      <th>mean</th>\n",
       "      <td>2016.500000</td>\n",
       "      <td>0.4385</td>\n",
       "      <td>0.188500</td>\n",
       "      <td>29.175000</td>\n",
       "      <td>24.700000</td>\n",
       "      <td>26.683500</td>\n",
       "      <td>191.615000</td>\n",
       "      <td>40.05000</td>\n",
       "      <td>296.975000</td>\n",
       "      <td>63.725000</td>\n",
       "      <td>7.432500</td>\n",
       "      <td>11.94000</td>\n",
       "    </tr>\n",
       "    <tr>\n",
       "      <th>std</th>\n",
       "      <td>2.908872</td>\n",
       "      <td>0.2978</td>\n",
       "      <td>0.174922</td>\n",
       "      <td>0.930605</td>\n",
       "      <td>0.992278</td>\n",
       "      <td>1.010064</td>\n",
       "      <td>78.482399</td>\n",
       "      <td>25.66645</td>\n",
       "      <td>345.464421</td>\n",
       "      <td>67.614665</td>\n",
       "      <td>1.631161</td>\n",
       "      <td>2.36706</td>\n",
       "    </tr>\n",
       "    <tr>\n",
       "      <th>min</th>\n",
       "      <td>2012.000000</td>\n",
       "      <td>0.0000</td>\n",
       "      <td>0.000000</td>\n",
       "      <td>28.000000</td>\n",
       "      <td>22.000000</td>\n",
       "      <td>24.330000</td>\n",
       "      <td>30.000000</td>\n",
       "      <td>6.00000</td>\n",
       "      <td>4.000000</td>\n",
       "      <td>4.000000</td>\n",
       "      <td>5.170000</td>\n",
       "      <td>7.90000</td>\n",
       "    </tr>\n",
       "    <tr>\n",
       "      <th>25%</th>\n",
       "      <td>2014.000000</td>\n",
       "      <td>0.2550</td>\n",
       "      <td>0.100000</td>\n",
       "      <td>28.000000</td>\n",
       "      <td>24.000000</td>\n",
       "      <td>26.000000</td>\n",
       "      <td>137.025000</td>\n",
       "      <td>20.00000</td>\n",
       "      <td>93.750000</td>\n",
       "      <td>30.250000</td>\n",
       "      <td>6.322500</td>\n",
       "      <td>10.27500</td>\n",
       "    </tr>\n",
       "    <tr>\n",
       "      <th>50%</th>\n",
       "      <td>2016.500000</td>\n",
       "      <td>0.4900</td>\n",
       "      <td>0.160000</td>\n",
       "      <td>29.000000</td>\n",
       "      <td>25.000000</td>\n",
       "      <td>26.835000</td>\n",
       "      <td>182.000000</td>\n",
       "      <td>29.50000</td>\n",
       "      <td>246.500000</td>\n",
       "      <td>51.500000</td>\n",
       "      <td>7.120000</td>\n",
       "      <td>12.05000</td>\n",
       "    </tr>\n",
       "    <tr>\n",
       "      <th>75%</th>\n",
       "      <td>2019.000000</td>\n",
       "      <td>0.5900</td>\n",
       "      <td>0.242500</td>\n",
       "      <td>30.000000</td>\n",
       "      <td>25.000000</td>\n",
       "      <td>27.670000</td>\n",
       "      <td>239.450000</td>\n",
       "      <td>57.00000</td>\n",
       "      <td>385.750000</td>\n",
       "      <td>69.250000</td>\n",
       "      <td>8.117500</td>\n",
       "      <td>13.67500</td>\n",
       "    </tr>\n",
       "    <tr>\n",
       "      <th>max</th>\n",
       "      <td>2021.000000</td>\n",
       "      <td>1.3700</td>\n",
       "      <td>0.850000</td>\n",
       "      <td>31.000000</td>\n",
       "      <td>26.000000</td>\n",
       "      <td>28.330000</td>\n",
       "      <td>336.300000</td>\n",
       "      <td>88.00000</td>\n",
       "      <td>2008.000000</td>\n",
       "      <td>385.000000</td>\n",
       "      <td>12.200000</td>\n",
       "      <td>17.20000</td>\n",
       "    </tr>\n",
       "  </tbody>\n",
       "</table>\n",
       "</div>"
      ],
      "text/plain": [
       "              Year  Produktivitas Mangga  Produktivitas Jeruk        Max  \\\n",
       "count    40.000000               40.0000            40.000000  40.000000   \n",
       "mean   2016.500000                0.4385             0.188500  29.175000   \n",
       "std       2.908872                0.2978             0.174922   0.930605   \n",
       "min    2012.000000                0.0000             0.000000  28.000000   \n",
       "25%    2014.000000                0.2550             0.100000  28.000000   \n",
       "50%    2016.500000                0.4900             0.160000  29.000000   \n",
       "75%    2019.000000                0.5900             0.242500  30.000000   \n",
       "max    2021.000000                1.3700             0.850000  31.000000   \n",
       "\n",
       "             Min       Tavg    Sun Hour   Sun Day  Curah Hujan  Hari Hujan  \\\n",
       "count  40.000000  40.000000   40.000000  40.00000    40.000000   40.000000   \n",
       "mean   24.700000  26.683500  191.615000  40.05000   296.975000   63.725000   \n",
       "std     0.992278   1.010064   78.482399  25.66645   345.464421   67.614665   \n",
       "min    22.000000  24.330000   30.000000   6.00000     4.000000    4.000000   \n",
       "25%    24.000000  26.000000  137.025000  20.00000    93.750000   30.250000   \n",
       "50%    25.000000  26.835000  182.000000  29.50000   246.500000   51.500000   \n",
       "75%    25.000000  27.670000  239.450000  57.00000   385.750000   69.250000   \n",
       "max    26.000000  28.330000  336.300000  88.00000  2008.000000  385.000000   \n",
       "\n",
       "       Kecepatan A    Mx Kec  \n",
       "count    40.000000  40.00000  \n",
       "mean      7.432500  11.94000  \n",
       "std       1.631161   2.36706  \n",
       "min       5.170000   7.90000  \n",
       "25%       6.322500  10.27500  \n",
       "50%       7.120000  12.05000  \n",
       "75%       8.117500  13.67500  \n",
       "max      12.200000  17.20000  "
      ]
     },
     "execution_count": 7,
     "metadata": {},
     "output_type": "execute_result"
    }
   ],
   "source": [
    "bike.describe()"
   ]
  },
  {
   "cell_type": "code",
   "execution_count": 8,
   "metadata": {
    "execution": {
     "iopub.execute_input": "2024-01-27T03:57:57.292894Z",
     "iopub.status.busy": "2024-01-27T03:57:57.292137Z",
     "iopub.status.idle": "2024-01-27T03:57:57.295678Z",
     "shell.execute_reply": "2024-01-27T03:57:57.294987Z",
     "shell.execute_reply.started": "2024-01-27T03:40:00.669274Z"
    },
    "papermill": {
     "duration": 0.135494,
     "end_time": "2024-01-27T03:57:57.295819",
     "exception": false,
     "start_time": "2024-01-27T03:57:57.160325",
     "status": "completed"
    },
    "tags": []
   },
   "outputs": [
    {
     "name": "stdout",
     "output_type": "stream",
     "text": [
      "(40, 13)\n"
     ]
    }
   ],
   "source": [
    "# Check the shape of df\n",
    "\n",
    "print(bike.shape)"
   ]
  },
  {
   "cell_type": "markdown",
   "metadata": {
    "papermill": {
     "duration": 0.127269,
     "end_time": "2024-01-27T03:57:57.549459",
     "exception": false,
     "start_time": "2024-01-27T03:57:57.422190",
     "status": "completed"
    },
    "tags": []
   },
   "source": [
    "## Finding : \n",
    "Dataset has 40 rows and 13 columns.\n",
    "\n",
    "variable 'Sun day', 'Curah Hujan', 'Hari hujan' berbentuk int untuk variable 'Periode' berupa string\n",
    "\n",
    "Selain itu, semua variable berupa **float**"
   ]
  },
  {
   "cell_type": "markdown",
   "metadata": {
    "papermill": {
     "duration": 0.125135,
     "end_time": "2024-01-27T03:57:57.800543",
     "exception": false,
     "start_time": "2024-01-27T03:57:57.675408",
     "status": "completed"
    },
    "tags": []
   },
   "source": [
    "# DATA QUALITY CHECK"
   ]
  },
  {
   "cell_type": "markdown",
   "metadata": {
    "papermill": {
     "duration": 0.126805,
     "end_time": "2024-01-27T03:57:58.055059",
     "exception": false,
     "start_time": "2024-01-27T03:57:57.928254",
     "status": "completed"
    },
    "tags": []
   },
   "source": [
    "## Check for NULL/MISSING values"
   ]
  },
  {
   "cell_type": "code",
   "execution_count": 9,
   "metadata": {
    "execution": {
     "iopub.execute_input": "2024-01-27T03:57:58.315839Z",
     "iopub.status.busy": "2024-01-27T03:57:58.315056Z",
     "iopub.status.idle": "2024-01-27T03:57:58.340751Z",
     "shell.execute_reply": "2024-01-27T03:57:58.341453Z",
     "shell.execute_reply.started": "2024-01-27T03:40:00.676421Z"
    },
    "papermill": {
     "duration": 0.158225,
     "end_time": "2024-01-27T03:57:58.341613",
     "exception": false,
     "start_time": "2024-01-27T03:57:58.183388",
     "status": "completed"
    },
    "tags": []
   },
   "outputs": [
    {
     "data": {
      "text/plain": [
       "Mx Kec                  0.0\n",
       "Kecepatan A             0.0\n",
       "Hari Hujan              0.0\n",
       "Curah Hujan             0.0\n",
       "Sun Day                 0.0\n",
       "Sun Hour                0.0\n",
       "Tavg                    0.0\n",
       "Min                     0.0\n",
       "Max                     0.0\n",
       "Produktivitas Jeruk     0.0\n",
       "Produktivitas Mangga    0.0\n",
       "Periode                 0.0\n",
       "Year                    0.0\n",
       "dtype: float64"
      ]
     },
     "execution_count": 9,
     "metadata": {},
     "output_type": "execute_result"
    }
   ],
   "source": [
    "# percentage of missing values in each column\n",
    "round(100*(bike.isnull().sum()/len(bike)), 2).sort_values(ascending=False)"
   ]
  },
  {
   "cell_type": "code",
   "execution_count": 10,
   "metadata": {
    "execution": {
     "iopub.execute_input": "2024-01-27T03:57:58.598061Z",
     "iopub.status.busy": "2024-01-27T03:57:58.597349Z",
     "iopub.status.idle": "2024-01-27T03:57:58.610110Z",
     "shell.execute_reply": "2024-01-27T03:57:58.609509Z",
     "shell.execute_reply.started": "2024-01-27T03:40:00.697041Z"
    },
    "papermill": {
     "duration": 0.142916,
     "end_time": "2024-01-27T03:57:58.610264",
     "exception": false,
     "start_time": "2024-01-27T03:57:58.467348",
     "status": "completed"
    },
    "tags": []
   },
   "outputs": [
    {
     "data": {
      "text/plain": [
       "39    0.0\n",
       "38    0.0\n",
       "17    0.0\n",
       "16    0.0\n",
       "15    0.0\n",
       "14    0.0\n",
       "13    0.0\n",
       "12    0.0\n",
       "11    0.0\n",
       "10    0.0\n",
       "9     0.0\n",
       "8     0.0\n",
       "7     0.0\n",
       "6     0.0\n",
       "5     0.0\n",
       "4     0.0\n",
       "3     0.0\n",
       "2     0.0\n",
       "1     0.0\n",
       "18    0.0\n",
       "19    0.0\n",
       "20    0.0\n",
       "30    0.0\n",
       "37    0.0\n",
       "36    0.0\n",
       "35    0.0\n",
       "34    0.0\n",
       "33    0.0\n",
       "32    0.0\n",
       "31    0.0\n",
       "29    0.0\n",
       "21    0.0\n",
       "28    0.0\n",
       "27    0.0\n",
       "26    0.0\n",
       "25    0.0\n",
       "24    0.0\n",
       "23    0.0\n",
       "22    0.0\n",
       "0     0.0\n",
       "dtype: float64"
      ]
     },
     "execution_count": 10,
     "metadata": {},
     "output_type": "execute_result"
    }
   ],
   "source": [
    "# row-wise null count percentage\n",
    "round((bike.isnull().sum(axis=1)/len(bike))*100,2).sort_values(ascending=False)"
   ]
  },
  {
   "cell_type": "markdown",
   "metadata": {
    "papermill": {
     "duration": 0.125793,
     "end_time": "2024-01-27T03:57:58.862406",
     "exception": false,
     "start_time": "2024-01-27T03:57:58.736613",
     "status": "completed"
    },
    "tags": []
   },
   "source": [
    "## Finding\n",
    "There are no missing / Null values either in columns or rows"
   ]
  },
  {
   "cell_type": "markdown",
   "metadata": {
    "papermill": {
     "duration": 0.12721,
     "end_time": "2024-01-27T03:57:59.116634",
     "exception": false,
     "start_time": "2024-01-27T03:57:58.989424",
     "status": "completed"
    },
    "tags": []
   },
   "source": [
    "## Duplicate Check"
   ]
  },
  {
   "cell_type": "code",
   "execution_count": 11,
   "metadata": {
    "execution": {
     "iopub.execute_input": "2024-01-27T03:57:59.425987Z",
     "iopub.status.busy": "2024-01-27T03:57:59.425271Z",
     "iopub.status.idle": "2024-01-27T03:57:59.441379Z",
     "shell.execute_reply": "2024-01-27T03:57:59.441986Z",
     "shell.execute_reply.started": "2024-01-27T03:40:00.714079Z"
    },
    "papermill": {
     "duration": 0.197728,
     "end_time": "2024-01-27T03:57:59.442148",
     "exception": false,
     "start_time": "2024-01-27T03:57:59.244420",
     "status": "completed"
    },
    "tags": []
   },
   "outputs": [],
   "source": [
    "bike_dup = bike.copy()\n",
    "\n",
    "# Checking for duplicates and dropping the entire duplicate row if any\n",
    "bike_dup.drop_duplicates(subset=None, inplace=True)"
   ]
  },
  {
   "cell_type": "code",
   "execution_count": 12,
   "metadata": {
    "execution": {
     "iopub.execute_input": "2024-01-27T03:57:59.700319Z",
     "iopub.status.busy": "2024-01-27T03:57:59.699584Z",
     "iopub.status.idle": "2024-01-27T03:57:59.704888Z",
     "shell.execute_reply": "2024-01-27T03:57:59.705570Z",
     "shell.execute_reply.started": "2024-01-27T03:40:00.731303Z"
    },
    "papermill": {
     "duration": 0.135496,
     "end_time": "2024-01-27T03:57:59.705742",
     "exception": false,
     "start_time": "2024-01-27T03:57:59.570246",
     "status": "completed"
    },
    "tags": []
   },
   "outputs": [
    {
     "data": {
      "text/plain": [
       "(40, 13)"
      ]
     },
     "execution_count": 12,
     "metadata": {},
     "output_type": "execute_result"
    }
   ],
   "source": [
    "bike_dup.shape"
   ]
  },
  {
   "cell_type": "code",
   "execution_count": 13,
   "metadata": {
    "execution": {
     "iopub.execute_input": "2024-01-27T03:57:59.966333Z",
     "iopub.status.busy": "2024-01-27T03:57:59.965579Z",
     "iopub.status.idle": "2024-01-27T03:57:59.970890Z",
     "shell.execute_reply": "2024-01-27T03:57:59.971577Z",
     "shell.execute_reply.started": "2024-01-27T03:40:00.739737Z"
    },
    "papermill": {
     "duration": 0.137895,
     "end_time": "2024-01-27T03:57:59.971758",
     "exception": false,
     "start_time": "2024-01-27T03:57:59.833863",
     "status": "completed"
    },
    "tags": []
   },
   "outputs": [
    {
     "data": {
      "text/plain": [
       "(40, 13)"
      ]
     },
     "execution_count": 13,
     "metadata": {},
     "output_type": "execute_result"
    }
   ],
   "source": [
    "bike.shape"
   ]
  },
  {
   "cell_type": "markdown",
   "metadata": {
    "papermill": {
     "duration": 0.129904,
     "end_time": "2024-01-27T03:58:00.231140",
     "exception": false,
     "start_time": "2024-01-27T03:58:00.101236",
     "status": "completed"
    },
    "tags": []
   },
   "source": [
    "### Insights \n",
    "\n",
    "The shape after running the drop duplicate command is same as the original dataframe. \n",
    "\n",
    "Hence we can conclude that there were zero duplicate values in the dataset. "
   ]
  },
  {
   "cell_type": "markdown",
   "metadata": {
    "papermill": {
     "duration": 0.12938,
     "end_time": "2024-01-27T03:58:00.490379",
     "exception": false,
     "start_time": "2024-01-27T03:58:00.360999",
     "status": "completed"
    },
    "tags": []
   },
   "source": [
    "## Data Cleaning\n",
    "\n",
    "Checking value_counts() for entire dataframe. \n",
    "\n",
    "This will help to identify any Unknow/Junk values present in the dataset."
   ]
  },
  {
   "cell_type": "code",
   "execution_count": 14,
   "metadata": {
    "execution": {
     "iopub.execute_input": "2024-01-27T03:58:00.752048Z",
     "iopub.status.busy": "2024-01-27T03:58:00.751309Z",
     "iopub.status.idle": "2024-01-27T03:58:00.756457Z",
     "shell.execute_reply": "2024-01-27T03:58:00.757204Z",
     "shell.execute_reply.started": "2024-01-27T03:40:00.754768Z"
    },
    "papermill": {
     "duration": 0.138946,
     "end_time": "2024-01-27T03:58:00.757366",
     "exception": false,
     "start_time": "2024-01-27T03:58:00.618420",
     "status": "completed"
    },
    "tags": []
   },
   "outputs": [],
   "source": [
    "#Create a copy of the  dataframe, without the 'instant' column, \n",
    "\n",
    "#as this will have unique values, and donot make sense to do a value count on it.\n",
    "\n",
    "bike_dummy=bike.iloc[:,1:16]"
   ]
  },
  {
   "cell_type": "code",
   "execution_count": 15,
   "metadata": {
    "execution": {
     "iopub.execute_input": "2024-01-27T03:58:01.044042Z",
     "iopub.status.busy": "2024-01-27T03:58:01.040432Z",
     "iopub.status.idle": "2024-01-27T03:58:01.049189Z",
     "shell.execute_reply": "2024-01-27T03:58:01.049923Z",
     "shell.execute_reply.started": "2024-01-27T03:40:00.766439Z"
    },
    "papermill": {
     "duration": 0.165548,
     "end_time": "2024-01-27T03:58:01.050085",
     "exception": false,
     "start_time": "2024-01-27T03:58:00.884537",
     "status": "completed"
    },
    "tags": []
   },
   "outputs": [
    {
     "name": "stdout",
     "output_type": "stream",
     "text": [
      "Triwulan I      10\n",
      "Triwulan III    10\n",
      "Triwulan IV     10\n",
      "Triwulan II     10\n",
      "Name: Periode, dtype: int64 \n",
      "\n",
      "\n",
      "\n",
      "0.00    8\n",
      "0.65    3\n",
      "0.50    2\n",
      "0.59    2\n",
      "0.47    2\n",
      "0.46    2\n",
      "0.53    1\n",
      "0.68    1\n",
      "0.67    1\n",
      "0.54    1\n",
      "0.52    1\n",
      "0.24    1\n",
      "0.44    1\n",
      "0.70    1\n",
      "0.55    1\n",
      "0.71    1\n",
      "1.37    1\n",
      "0.26    1\n",
      "0.58    1\n",
      "0.48    1\n",
      "0.37    1\n",
      "0.51    1\n",
      "0.23    1\n",
      "0.56    1\n",
      "0.30    1\n",
      "1.04    1\n",
      "0.27    1\n",
      "Name: Produktivitas Mangga, dtype: int64 \n",
      "\n",
      "\n",
      "\n",
      "0.00    7\n",
      "0.10    5\n",
      "0.25    3\n",
      "0.16    3\n",
      "0.26    2\n",
      "0.15    2\n",
      "0.18    2\n",
      "0.11    2\n",
      "0.13    1\n",
      "0.12    1\n",
      "0.22    1\n",
      "0.19    1\n",
      "0.31    1\n",
      "0.24    1\n",
      "0.47    1\n",
      "0.85    1\n",
      "0.50    1\n",
      "0.17    1\n",
      "0.66    1\n",
      "0.21    1\n",
      "0.14    1\n",
      "0.20    1\n",
      "Name: Produktivitas Jeruk, dtype: int64 \n",
      "\n",
      "\n",
      "\n",
      "30.0    15\n",
      "28.0    12\n",
      "29.0    11\n",
      "31.0     2\n",
      "Name: Max, dtype: int64 \n",
      "\n",
      "\n",
      "\n",
      "25.0    15\n",
      "24.0    12\n",
      "26.0     9\n",
      "23.0     3\n",
      "22.0     1\n",
      "Name: Min, dtype: int64 \n",
      "\n",
      "\n",
      "\n",
      "27.00    6\n",
      "27.67    5\n",
      "28.00    5\n",
      "26.00    5\n",
      "25.67    4\n",
      "26.33    3\n",
      "26.67    3\n",
      "27.33    3\n",
      "25.00    2\n",
      "25.33    2\n",
      "24.33    1\n",
      "28.33    1\n",
      "Name: Tavg, dtype: int64 \n",
      "\n",
      "\n",
      "\n",
      "302.0    2\n",
      "225.7    2\n",
      "179.3    1\n",
      "214.3    1\n",
      "162.3    1\n",
      "306.3    1\n",
      "30.0     1\n",
      "234.3    1\n",
      "221.0    1\n",
      "111.0    1\n",
      "47.0     1\n",
      "130.3    1\n",
      "320.0    1\n",
      "166.0    1\n",
      "297.3    1\n",
      "135.0    1\n",
      "156.0    1\n",
      "187.0    1\n",
      "237.7    1\n",
      "140.7    1\n",
      "83.7     1\n",
      "184.7    1\n",
      "336.3    1\n",
      "236.3    1\n",
      "133.7    1\n",
      "121.3    1\n",
      "141.3    1\n",
      "244.7    1\n",
      "316.3    1\n",
      "78.7     1\n",
      "254.7    1\n",
      "168.3    1\n",
      "209.7    1\n",
      "102.7    1\n",
      "269.3    1\n",
      "137.7    1\n",
      "138.3    1\n",
      "176.0    1\n",
      "Name: Sun Hour, dtype: int64 \n",
      "\n",
      "\n",
      "\n",
      "24    4\n",
      "83    3\n",
      "33    2\n",
      "46    2\n",
      "25    2\n",
      "45    2\n",
      "20    2\n",
      "10    1\n",
      "8     1\n",
      "18    1\n",
      "75    1\n",
      "7     1\n",
      "13    1\n",
      "6     1\n",
      "14    1\n",
      "79    1\n",
      "17    1\n",
      "70    1\n",
      "23    1\n",
      "19    1\n",
      "22    1\n",
      "71    1\n",
      "88    1\n",
      "26    1\n",
      "81    1\n",
      "49    1\n",
      "50    1\n",
      "53    1\n",
      "54    1\n",
      "66    1\n",
      "Name: Sun Day, dtype: int64 \n",
      "\n",
      "\n",
      "\n",
      "20      2\n",
      "319     1\n",
      "152     1\n",
      "214     1\n",
      "405     1\n",
      "84      1\n",
      "2008    1\n",
      "338     1\n",
      "640     1\n",
      "400     1\n",
      "143     1\n",
      "289     1\n",
      "268     1\n",
      "10      1\n",
      "22      1\n",
      "136     1\n",
      "74      1\n",
      "133     1\n",
      "4       1\n",
      "279     1\n",
      "391     1\n",
      "444     1\n",
      "1053    1\n",
      "375     1\n",
      "54      1\n",
      "501     1\n",
      "216     1\n",
      "177     1\n",
      "437     1\n",
      "302     1\n",
      "12      1\n",
      "300     1\n",
      "295     1\n",
      "97      1\n",
      "164     1\n",
      "46      1\n",
      "384     1\n",
      "225     1\n",
      "448     1\n",
      "Name: Curah Hujan, dtype: int64 \n",
      "\n",
      "\n",
      "\n",
      "67     4\n",
      "41     3\n",
      "45     2\n",
      "47     2\n",
      "68     2\n",
      "9      2\n",
      "25     2\n",
      "59     1\n",
      "11     1\n",
      "10     1\n",
      "69     1\n",
      "72     1\n",
      "70     1\n",
      "80     1\n",
      "4      1\n",
      "66     1\n",
      "78     1\n",
      "84     1\n",
      "17     1\n",
      "83     1\n",
      "249    1\n",
      "85     1\n",
      "22     1\n",
      "154    1\n",
      "32     1\n",
      "37     1\n",
      "42     1\n",
      "5      1\n",
      "56     1\n",
      "385    1\n",
      "Name: Hari Hujan, dtype: int64 \n",
      "\n",
      "\n",
      "\n",
      "7.57     2\n",
      "7.93     2\n",
      "7.60     2\n",
      "6.67     1\n",
      "8.57     1\n",
      "6.40     1\n",
      "12.20    1\n",
      "6.33     1\n",
      "8.83     1\n",
      "8.17     1\n",
      "6.17     1\n",
      "6.87     1\n",
      "7.07     1\n",
      "8.93     1\n",
      "7.03     1\n",
      "6.77     1\n",
      "6.47     1\n",
      "9.50     1\n",
      "10.73    1\n",
      "5.67     1\n",
      "9.77     1\n",
      "8.40     1\n",
      "6.27     1\n",
      "6.57     1\n",
      "5.30     1\n",
      "11.43    1\n",
      "6.30     1\n",
      "5.17     1\n",
      "8.10     1\n",
      "5.47     1\n",
      "7.77     1\n",
      "7.33     1\n",
      "5.53     1\n",
      "7.17     1\n",
      "5.57     1\n",
      "6.07     1\n",
      "6.50     1\n",
      "Name: Kecepatan A, dtype: int64 \n",
      "\n",
      "\n",
      "\n",
      "14.8    3\n",
      "10.8    2\n",
      "10.4    2\n",
      "10.3    2\n",
      "12.7    2\n",
      "12.9    2\n",
      "10.5    1\n",
      "16.5    1\n",
      "14.5    1\n",
      "13.9    1\n",
      "15.2    1\n",
      "12.0    1\n",
      "9.1     1\n",
      "9.8     1\n",
      "13.3    1\n",
      "8.6     1\n",
      "8.4     1\n",
      "12.3    1\n",
      "9.5     1\n",
      "14.6    1\n",
      "10.2    1\n",
      "12.6    1\n",
      "11.3    1\n",
      "11.2    1\n",
      "9.7     1\n",
      "8.2     1\n",
      "17.2    1\n",
      "13.4    1\n",
      "9.4     1\n",
      "7.9     1\n",
      "13.6    1\n",
      "12.1    1\n",
      "14.0    1\n",
      "Name: Mx Kec, dtype: int64 \n",
      "\n",
      "\n",
      "\n"
     ]
    }
   ],
   "source": [
    "for col in bike_dummy:\n",
    "    print(bike_dummy[col].value_counts(ascending=False), '\\n\\n\\n')"
   ]
  },
  {
   "cell_type": "markdown",
   "metadata": {
    "papermill": {
     "duration": 0.129118,
     "end_time": "2024-01-27T03:58:01.308005",
     "exception": false,
     "start_time": "2024-01-27T03:58:01.178887",
     "status": "completed"
    },
    "tags": []
   },
   "source": [
    "### Insights \n",
    "There seems to be no Junk/Unknown values in the entire dataset."
   ]
  },
  {
   "cell_type": "markdown",
   "metadata": {
    "papermill": {
     "duration": 0.13013,
     "end_time": "2024-01-27T03:58:01.566359",
     "exception": false,
     "start_time": "2024-01-27T03:58:01.436229",
     "status": "completed"
    },
    "tags": []
   },
   "source": [
    "# Removing redundant & unwanted columns"
   ]
  },
  {
   "cell_type": "code",
   "execution_count": 16,
   "metadata": {
    "execution": {
     "iopub.execute_input": "2024-01-27T03:58:01.830409Z",
     "iopub.status.busy": "2024-01-27T03:58:01.829199Z",
     "iopub.status.idle": "2024-01-27T03:58:01.833778Z",
     "shell.execute_reply": "2024-01-27T03:58:01.833035Z",
     "shell.execute_reply.started": "2024-01-27T03:40:00.803933Z"
    },
    "papermill": {
     "duration": 0.139461,
     "end_time": "2024-01-27T03:58:01.833910",
     "exception": false,
     "start_time": "2024-01-27T03:58:01.694449",
     "status": "completed"
    },
    "tags": []
   },
   "outputs": [
    {
     "data": {
      "text/plain": [
       "Index(['Year', 'Periode', 'Produktivitas Mangga', 'Produktivitas Jeruk', 'Max',\n",
       "       'Min', 'Tavg', 'Sun Hour', 'Sun Day', 'Curah Hujan', 'Hari Hujan',\n",
       "       'Kecepatan A', 'Mx Kec'],\n",
       "      dtype='object')"
      ]
     },
     "execution_count": 16,
     "metadata": {},
     "output_type": "execute_result"
    }
   ],
   "source": [
    "bike.columns"
   ]
  },
  {
   "cell_type": "code",
   "execution_count": 17,
   "metadata": {
    "execution": {
     "iopub.execute_input": "2024-01-27T03:58:02.101785Z",
     "iopub.status.busy": "2024-01-27T03:58:02.100774Z",
     "iopub.status.idle": "2024-01-27T03:58:02.103999Z",
     "shell.execute_reply": "2024-01-27T03:58:02.103262Z",
     "shell.execute_reply.started": "2024-01-27T03:40:00.812207Z"
    },
    "papermill": {
     "duration": 0.140776,
     "end_time": "2024-01-27T03:58:02.104135",
     "exception": false,
     "start_time": "2024-01-27T03:58:01.963359",
     "status": "completed"
    },
    "tags": []
   },
   "outputs": [],
   "source": [
    "bike_new=bike[['Year', 'Periode', 'Produktivitas Mangga', 'Max',\n",
    "       'Min', 'Tavg', 'Sun Hour', 'Sun Day', 'Curah Hujan', 'Hari Hujan',\n",
    "       'Kecepatan A', 'Mx Kec']]"
   ]
  },
  {
   "cell_type": "code",
   "execution_count": 18,
   "metadata": {
    "execution": {
     "iopub.execute_input": "2024-01-27T03:58:02.372477Z",
     "iopub.status.busy": "2024-01-27T03:58:02.371416Z",
     "iopub.status.idle": "2024-01-27T03:58:02.374713Z",
     "shell.execute_reply": "2024-01-27T03:58:02.373942Z",
     "shell.execute_reply.started": "2024-01-27T03:40:00.823256Z"
    },
    "papermill": {
     "duration": 0.140415,
     "end_time": "2024-01-27T03:58:02.374848",
     "exception": false,
     "start_time": "2024-01-27T03:58:02.234433",
     "status": "completed"
    },
    "tags": []
   },
   "outputs": [],
   "source": [
    "bike_new_new=bike[['Produktivitas Mangga', 'Max',\n",
    "       'Min', 'Tavg', 'Sun Hour', 'Sun Day', 'Curah Hujan', 'Hari Hujan',\n",
    "       'Kecepatan A', 'Mx Kec']]"
   ]
  },
  {
   "cell_type": "code",
   "execution_count": 19,
   "metadata": {
    "execution": {
     "iopub.execute_input": "2024-01-27T03:58:02.646994Z",
     "iopub.status.busy": "2024-01-27T03:58:02.646028Z",
     "iopub.status.idle": "2024-01-27T03:58:02.649604Z",
     "shell.execute_reply": "2024-01-27T03:58:02.650193Z",
     "shell.execute_reply.started": "2024-01-27T03:40:00.836263Z"
    },
    "papermill": {
     "duration": 0.145406,
     "end_time": "2024-01-27T03:58:02.650351",
     "exception": false,
     "start_time": "2024-01-27T03:58:02.504945",
     "status": "completed"
    },
    "tags": []
   },
   "outputs": [
    {
     "name": "stdout",
     "output_type": "stream",
     "text": [
      "<class 'pandas.core.frame.DataFrame'>\n",
      "RangeIndex: 40 entries, 0 to 39\n",
      "Data columns (total 12 columns):\n",
      " #   Column                Non-Null Count  Dtype  \n",
      "---  ------                --------------  -----  \n",
      " 0   Year                  40 non-null     int64  \n",
      " 1   Periode               40 non-null     object \n",
      " 2   Produktivitas Mangga  40 non-null     float64\n",
      " 3   Max                   40 non-null     float64\n",
      " 4   Min                   40 non-null     float64\n",
      " 5   Tavg                  40 non-null     float64\n",
      " 6   Sun Hour              40 non-null     float64\n",
      " 7   Sun Day               40 non-null     int64  \n",
      " 8   Curah Hujan           40 non-null     int64  \n",
      " 9   Hari Hujan            40 non-null     int64  \n",
      " 10  Kecepatan A           40 non-null     float64\n",
      " 11  Mx Kec                40 non-null     float64\n",
      "dtypes: float64(7), int64(4), object(1)\n",
      "memory usage: 3.9+ KB\n"
     ]
    }
   ],
   "source": [
    "bike_new.info()"
   ]
  },
  {
   "cell_type": "markdown",
   "metadata": {
    "papermill": {
     "duration": 0.128617,
     "end_time": "2024-01-27T03:58:02.908492",
     "exception": false,
     "start_time": "2024-01-27T03:58:02.779875",
     "status": "completed"
    },
    "tags": []
   },
   "source": [
    "# Creating Dummy Variables"
   ]
  },
  {
   "cell_type": "markdown",
   "metadata": {
    "papermill": {
     "duration": 0.129585,
     "end_time": "2024-01-27T03:58:03.167031",
     "exception": false,
     "start_time": "2024-01-27T03:58:03.037446",
     "status": "completed"
    },
    "tags": []
   },
   "source": [
    "We will create DUMMY variables for 4 categorical variables 'mnth', 'weekday', 'season' & 'weathersit'. \n",
    "- Before creating dummy variables, we will have to convert them into 'category' data types."
   ]
  },
  {
   "cell_type": "code",
   "execution_count": 20,
   "metadata": {
    "execution": {
     "iopub.execute_input": "2024-01-27T03:58:03.430034Z",
     "iopub.status.busy": "2024-01-27T03:58:03.429242Z",
     "iopub.status.idle": "2024-01-27T03:58:03.441020Z",
     "shell.execute_reply": "2024-01-27T03:58:03.441603Z",
     "shell.execute_reply.started": "2024-01-27T03:40:00.855846Z"
    },
    "papermill": {
     "duration": 0.145428,
     "end_time": "2024-01-27T03:58:03.441783",
     "exception": false,
     "start_time": "2024-01-27T03:58:03.296355",
     "status": "completed"
    },
    "tags": []
   },
   "outputs": [
    {
     "name": "stdout",
     "output_type": "stream",
     "text": [
      "<class 'pandas.core.frame.DataFrame'>\n",
      "RangeIndex: 40 entries, 0 to 39\n",
      "Data columns (total 12 columns):\n",
      " #   Column                Non-Null Count  Dtype  \n",
      "---  ------                --------------  -----  \n",
      " 0   Year                  40 non-null     int64  \n",
      " 1   Periode               40 non-null     object \n",
      " 2   Produktivitas Mangga  40 non-null     float64\n",
      " 3   Max                   40 non-null     float64\n",
      " 4   Min                   40 non-null     float64\n",
      " 5   Tavg                  40 non-null     float64\n",
      " 6   Sun Hour              40 non-null     float64\n",
      " 7   Sun Day               40 non-null     int64  \n",
      " 8   Curah Hujan           40 non-null     int64  \n",
      " 9   Hari Hujan            40 non-null     int64  \n",
      " 10  Kecepatan A           40 non-null     float64\n",
      " 11  Mx Kec                40 non-null     float64\n",
      "dtypes: float64(7), int64(4), object(1)\n",
      "memory usage: 3.9+ KB\n"
     ]
    }
   ],
   "source": [
    "# Check the datatypes before convertion\n",
    "bike_new.info()"
   ]
  },
  {
   "cell_type": "code",
   "execution_count": 21,
   "metadata": {
    "execution": {
     "iopub.execute_input": "2024-01-27T03:58:03.708211Z",
     "iopub.status.busy": "2024-01-27T03:58:03.707124Z",
     "iopub.status.idle": "2024-01-27T03:58:03.715105Z",
     "shell.execute_reply": "2024-01-27T03:58:03.715642Z",
     "shell.execute_reply.started": "2024-01-27T03:40:00.874555Z"
    },
    "papermill": {
     "duration": 0.141598,
     "end_time": "2024-01-27T03:58:03.715827",
     "exception": false,
     "start_time": "2024-01-27T03:58:03.574229",
     "status": "completed"
    },
    "tags": []
   },
   "outputs": [],
   "source": [
    "# Convert to 'category' data type\n",
    "\n",
    "bike_new['Year']=bike_new['Year'].astype('category')\n",
    "bike_new['Periode']=bike_new['Periode'].astype('category')"
   ]
  },
  {
   "cell_type": "code",
   "execution_count": 22,
   "metadata": {
    "execution": {
     "iopub.execute_input": "2024-01-27T03:58:03.980534Z",
     "iopub.status.busy": "2024-01-27T03:58:03.979446Z",
     "iopub.status.idle": "2024-01-27T03:58:03.994262Z",
     "shell.execute_reply": "2024-01-27T03:58:03.994867Z",
     "shell.execute_reply.started": "2024-01-27T03:40:00.886083Z"
    },
    "papermill": {
     "duration": 0.148644,
     "end_time": "2024-01-27T03:58:03.995031",
     "exception": false,
     "start_time": "2024-01-27T03:58:03.846387",
     "status": "completed"
    },
    "tags": []
   },
   "outputs": [
    {
     "name": "stdout",
     "output_type": "stream",
     "text": [
      "<class 'pandas.core.frame.DataFrame'>\n",
      "RangeIndex: 40 entries, 0 to 39\n",
      "Data columns (total 12 columns):\n",
      " #   Column                Non-Null Count  Dtype   \n",
      "---  ------                --------------  -----   \n",
      " 0   Year                  40 non-null     category\n",
      " 1   Periode               40 non-null     category\n",
      " 2   Produktivitas Mangga  40 non-null     float64 \n",
      " 3   Max                   40 non-null     float64 \n",
      " 4   Min                   40 non-null     float64 \n",
      " 5   Tavg                  40 non-null     float64 \n",
      " 6   Sun Hour              40 non-null     float64 \n",
      " 7   Sun Day               40 non-null     int64   \n",
      " 8   Curah Hujan           40 non-null     int64   \n",
      " 9   Hari Hujan            40 non-null     int64   \n",
      " 10  Kecepatan A           40 non-null     float64 \n",
      " 11  Mx Kec                40 non-null     float64 \n",
      "dtypes: category(2), float64(7), int64(3)\n",
      "memory usage: 3.9 KB\n"
     ]
    }
   ],
   "source": [
    "bike_new.info()"
   ]
  },
  {
   "cell_type": "code",
   "execution_count": 23,
   "metadata": {
    "execution": {
     "iopub.execute_input": "2024-01-27T03:58:04.261144Z",
     "iopub.status.busy": "2024-01-27T03:58:04.260062Z",
     "iopub.status.idle": "2024-01-27T03:58:04.286564Z",
     "shell.execute_reply": "2024-01-27T03:58:04.287209Z",
     "shell.execute_reply.started": "2024-01-27T03:40:00.906306Z"
    },
    "papermill": {
     "duration": 0.162106,
     "end_time": "2024-01-27T03:58:04.287372",
     "exception": false,
     "start_time": "2024-01-27T03:58:04.125266",
     "status": "completed"
    },
    "tags": []
   },
   "outputs": [
    {
     "name": "stdout",
     "output_type": "stream",
     "text": [
      "<class 'pandas.core.frame.DataFrame'>\n",
      "RangeIndex: 40 entries, 0 to 39\n",
      "Data columns (total 24 columns):\n",
      " #   Column                Non-Null Count  Dtype  \n",
      "---  ------                --------------  -----  \n",
      " 0   Produktivitas Mangga  40 non-null     float64\n",
      " 1   Max                   40 non-null     float64\n",
      " 2   Min                   40 non-null     float64\n",
      " 3   Tavg                  40 non-null     float64\n",
      " 4   Sun Hour              40 non-null     float64\n",
      " 5   Sun Day               40 non-null     int64  \n",
      " 6   Curah Hujan           40 non-null     int64  \n",
      " 7   Hari Hujan            40 non-null     int64  \n",
      " 8   Kecepatan A           40 non-null     float64\n",
      " 9   Mx Kec                40 non-null     float64\n",
      " 10  Year_2012             40 non-null     uint8  \n",
      " 11  Year_2013             40 non-null     uint8  \n",
      " 12  Year_2014             40 non-null     uint8  \n",
      " 13  Year_2015             40 non-null     uint8  \n",
      " 14  Year_2016             40 non-null     uint8  \n",
      " 15  Year_2017             40 non-null     uint8  \n",
      " 16  Year_2018             40 non-null     uint8  \n",
      " 17  Year_2019             40 non-null     uint8  \n",
      " 18  Year_2020             40 non-null     uint8  \n",
      " 19  Year_2021             40 non-null     uint8  \n",
      " 20  Periode_Triwulan I    40 non-null     uint8  \n",
      " 21  Periode_Triwulan II   40 non-null     uint8  \n",
      " 22  Periode_Triwulan III  40 non-null     uint8  \n",
      " 23  Periode_Triwulan IV   40 non-null     uint8  \n",
      "dtypes: float64(7), int64(3), uint8(14)\n",
      "memory usage: 3.8 KB\n"
     ]
    }
   ],
   "source": [
    "# This code does 3 things:\n",
    "# 1) Create Dummy variable\n",
    "# 2) Drop original variable for which the dummy was created\n",
    "# 3) Drop first dummy variable for each set of dummies created.\n",
    "\n",
    "bike_new = pd.get_dummies(bike_new)\n",
    "bike_new.info()"
   ]
  },
  {
   "cell_type": "code",
   "execution_count": 24,
   "metadata": {
    "execution": {
     "iopub.execute_input": "2024-01-27T03:58:04.554526Z",
     "iopub.status.busy": "2024-01-27T03:58:04.553734Z",
     "iopub.status.idle": "2024-01-27T03:58:04.559370Z",
     "shell.execute_reply": "2024-01-27T03:58:04.560322Z",
     "shell.execute_reply.started": "2024-01-27T03:40:00.935787Z"
    },
    "papermill": {
     "duration": 0.142569,
     "end_time": "2024-01-27T03:58:04.560495",
     "exception": false,
     "start_time": "2024-01-27T03:58:04.417926",
     "status": "completed"
    },
    "tags": []
   },
   "outputs": [
    {
     "data": {
      "text/plain": [
       "(40, 24)"
      ]
     },
     "execution_count": 24,
     "metadata": {},
     "output_type": "execute_result"
    }
   ],
   "source": [
    "bike_new.shape"
   ]
  },
  {
   "cell_type": "markdown",
   "metadata": {
    "papermill": {
     "duration": 0.130007,
     "end_time": "2024-01-27T03:58:04.822086",
     "exception": false,
     "start_time": "2024-01-27T03:58:04.692079",
     "status": "completed"
    },
    "tags": []
   },
   "source": [
    "## SPLITTING THE DATA\n",
    "- Splitting the data to Train and Test: - We will now split the data into TRAIN and TEST (70:30 ratio) \n",
    "- We will use train_test_split method from sklearn package for this"
   ]
  },
  {
   "cell_type": "code",
   "execution_count": 25,
   "metadata": {
    "execution": {
     "iopub.execute_input": "2024-01-27T03:58:05.091176Z",
     "iopub.status.busy": "2024-01-27T03:58:05.090408Z",
     "iopub.status.idle": "2024-01-27T03:58:05.097252Z",
     "shell.execute_reply": "2024-01-27T03:58:05.096433Z",
     "shell.execute_reply.started": "2024-01-27T03:40:00.941276Z"
    },
    "papermill": {
     "duration": 0.14249,
     "end_time": "2024-01-27T03:58:05.097392",
     "exception": false,
     "start_time": "2024-01-27T03:58:04.954902",
     "status": "completed"
    },
    "tags": []
   },
   "outputs": [
    {
     "data": {
      "text/plain": [
       "(40, 24)"
      ]
     },
     "execution_count": 25,
     "metadata": {},
     "output_type": "execute_result"
    }
   ],
   "source": [
    "# Check the shape before spliting\n",
    "\n",
    "bike_new.shape"
   ]
  },
  {
   "cell_type": "code",
   "execution_count": 26,
   "metadata": {
    "execution": {
     "iopub.execute_input": "2024-01-27T03:58:05.365600Z",
     "iopub.status.busy": "2024-01-27T03:58:05.364862Z",
     "iopub.status.idle": "2024-01-27T03:58:05.378169Z",
     "shell.execute_reply": "2024-01-27T03:58:05.378762Z",
     "shell.execute_reply.started": "2024-01-27T03:40:00.954072Z"
    },
    "papermill": {
     "duration": 0.149768,
     "end_time": "2024-01-27T03:58:05.378924",
     "exception": false,
     "start_time": "2024-01-27T03:58:05.229156",
     "status": "completed"
    },
    "tags": []
   },
   "outputs": [
    {
     "name": "stdout",
     "output_type": "stream",
     "text": [
      "<class 'pandas.core.frame.DataFrame'>\n",
      "RangeIndex: 40 entries, 0 to 39\n",
      "Data columns (total 24 columns):\n",
      " #   Column                Non-Null Count  Dtype  \n",
      "---  ------                --------------  -----  \n",
      " 0   Produktivitas Mangga  40 non-null     float64\n",
      " 1   Max                   40 non-null     float64\n",
      " 2   Min                   40 non-null     float64\n",
      " 3   Tavg                  40 non-null     float64\n",
      " 4   Sun Hour              40 non-null     float64\n",
      " 5   Sun Day               40 non-null     int64  \n",
      " 6   Curah Hujan           40 non-null     int64  \n",
      " 7   Hari Hujan            40 non-null     int64  \n",
      " 8   Kecepatan A           40 non-null     float64\n",
      " 9   Mx Kec                40 non-null     float64\n",
      " 10  Year_2012             40 non-null     uint8  \n",
      " 11  Year_2013             40 non-null     uint8  \n",
      " 12  Year_2014             40 non-null     uint8  \n",
      " 13  Year_2015             40 non-null     uint8  \n",
      " 14  Year_2016             40 non-null     uint8  \n",
      " 15  Year_2017             40 non-null     uint8  \n",
      " 16  Year_2018             40 non-null     uint8  \n",
      " 17  Year_2019             40 non-null     uint8  \n",
      " 18  Year_2020             40 non-null     uint8  \n",
      " 19  Year_2021             40 non-null     uint8  \n",
      " 20  Periode_Triwulan I    40 non-null     uint8  \n",
      " 21  Periode_Triwulan II   40 non-null     uint8  \n",
      " 22  Periode_Triwulan III  40 non-null     uint8  \n",
      " 23  Periode_Triwulan IV   40 non-null     uint8  \n",
      "dtypes: float64(7), int64(3), uint8(14)\n",
      "memory usage: 3.8 KB\n"
     ]
    }
   ],
   "source": [
    "# Check the info before spliting\n",
    "\n",
    "bike_new.info()"
   ]
  },
  {
   "cell_type": "code",
   "execution_count": 27,
   "metadata": {
    "execution": {
     "iopub.execute_input": "2024-01-27T03:58:05.647026Z",
     "iopub.status.busy": "2024-01-27T03:58:05.646309Z",
     "iopub.status.idle": "2024-01-27T03:58:05.760537Z",
     "shell.execute_reply": "2024-01-27T03:58:05.761181Z",
     "shell.execute_reply.started": "2024-01-27T03:40:00.975527Z"
    },
    "papermill": {
     "duration": 0.249604,
     "end_time": "2024-01-27T03:58:05.761362",
     "exception": false,
     "start_time": "2024-01-27T03:58:05.511758",
     "status": "completed"
    },
    "tags": []
   },
   "outputs": [],
   "source": [
    "from sklearn.model_selection import train_test_split\n",
    "\n",
    "# We should specify 'random_state' so that the train and test data set always have the same rows, respectively\n",
    "\n",
    "np.random.seed(0)\n",
    "df_train, df_test = train_test_split(bike_new_new, train_size = 0.70, test_size = 0.30, random_state = 333)"
   ]
  },
  {
   "cell_type": "markdown",
   "metadata": {
    "papermill": {
     "duration": 0.130819,
     "end_time": "2024-01-27T03:58:06.025079",
     "exception": false,
     "start_time": "2024-01-27T03:58:05.894260",
     "status": "completed"
    },
    "tags": []
   },
   "source": [
    "\n",
    "- Verify the info and shape of the dataframes after split:"
   ]
  },
  {
   "cell_type": "code",
   "execution_count": 28,
   "metadata": {
    "execution": {
     "iopub.execute_input": "2024-01-27T03:58:06.304037Z",
     "iopub.status.busy": "2024-01-27T03:58:06.303309Z",
     "iopub.status.idle": "2024-01-27T03:58:06.307395Z",
     "shell.execute_reply": "2024-01-27T03:58:06.306790Z",
     "shell.execute_reply.started": "2024-01-27T03:40:00.984529Z"
    },
    "papermill": {
     "duration": 0.148989,
     "end_time": "2024-01-27T03:58:06.307537",
     "exception": false,
     "start_time": "2024-01-27T03:58:06.158548",
     "status": "completed"
    },
    "tags": []
   },
   "outputs": [
    {
     "name": "stdout",
     "output_type": "stream",
     "text": [
      "<class 'pandas.core.frame.DataFrame'>\n",
      "Int64Index: 28 entries, 1 to 12\n",
      "Data columns (total 10 columns):\n",
      " #   Column                Non-Null Count  Dtype  \n",
      "---  ------                --------------  -----  \n",
      " 0   Produktivitas Mangga  28 non-null     float64\n",
      " 1   Max                   28 non-null     float64\n",
      " 2   Min                   28 non-null     float64\n",
      " 3   Tavg                  28 non-null     float64\n",
      " 4   Sun Hour              28 non-null     float64\n",
      " 5   Sun Day               28 non-null     int64  \n",
      " 6   Curah Hujan           28 non-null     int64  \n",
      " 7   Hari Hujan            28 non-null     int64  \n",
      " 8   Kecepatan A           28 non-null     float64\n",
      " 9   Mx Kec                28 non-null     float64\n",
      "dtypes: float64(7), int64(3)\n",
      "memory usage: 2.4 KB\n"
     ]
    }
   ],
   "source": [
    "df_train.info()"
   ]
  },
  {
   "cell_type": "code",
   "execution_count": 29,
   "metadata": {
    "execution": {
     "iopub.execute_input": "2024-01-27T03:58:06.601624Z",
     "iopub.status.busy": "2024-01-27T03:58:06.600609Z",
     "iopub.status.idle": "2024-01-27T03:58:06.604474Z",
     "shell.execute_reply": "2024-01-27T03:58:06.605111Z",
     "shell.execute_reply.started": "2024-01-27T03:40:01.005653Z"
    },
    "papermill": {
     "duration": 0.162129,
     "end_time": "2024-01-27T03:58:06.605280",
     "exception": false,
     "start_time": "2024-01-27T03:58:06.443151",
     "status": "completed"
    },
    "tags": []
   },
   "outputs": [
    {
     "data": {
      "text/plain": [
       "(28, 10)"
      ]
     },
     "execution_count": 29,
     "metadata": {},
     "output_type": "execute_result"
    }
   ],
   "source": [
    "df_train.shape"
   ]
  },
  {
   "cell_type": "code",
   "execution_count": 30,
   "metadata": {
    "execution": {
     "iopub.execute_input": "2024-01-27T03:58:06.876599Z",
     "iopub.status.busy": "2024-01-27T03:58:06.875487Z",
     "iopub.status.idle": "2024-01-27T03:58:06.887336Z",
     "shell.execute_reply": "2024-01-27T03:58:06.887929Z",
     "shell.execute_reply.started": "2024-01-27T03:40:01.013859Z"
    },
    "papermill": {
     "duration": 0.148531,
     "end_time": "2024-01-27T03:58:06.888101",
     "exception": false,
     "start_time": "2024-01-27T03:58:06.739570",
     "status": "completed"
    },
    "tags": []
   },
   "outputs": [
    {
     "name": "stdout",
     "output_type": "stream",
     "text": [
      "<class 'pandas.core.frame.DataFrame'>\n",
      "Int64Index: 12 entries, 31 to 0\n",
      "Data columns (total 10 columns):\n",
      " #   Column                Non-Null Count  Dtype  \n",
      "---  ------                --------------  -----  \n",
      " 0   Produktivitas Mangga  12 non-null     float64\n",
      " 1   Max                   12 non-null     float64\n",
      " 2   Min                   12 non-null     float64\n",
      " 3   Tavg                  12 non-null     float64\n",
      " 4   Sun Hour              12 non-null     float64\n",
      " 5   Sun Day               12 non-null     int64  \n",
      " 6   Curah Hujan           12 non-null     int64  \n",
      " 7   Hari Hujan            12 non-null     int64  \n",
      " 8   Kecepatan A           12 non-null     float64\n",
      " 9   Mx Kec                12 non-null     float64\n",
      "dtypes: float64(7), int64(3)\n",
      "memory usage: 1.0 KB\n"
     ]
    }
   ],
   "source": [
    "df_test.info()"
   ]
  },
  {
   "cell_type": "code",
   "execution_count": 31,
   "metadata": {
    "execution": {
     "iopub.execute_input": "2024-01-27T03:58:07.161506Z",
     "iopub.status.busy": "2024-01-27T03:58:07.160316Z",
     "iopub.status.idle": "2024-01-27T03:58:07.166497Z",
     "shell.execute_reply": "2024-01-27T03:58:07.167148Z",
     "shell.execute_reply.started": "2024-01-27T03:40:01.031644Z"
    },
    "papermill": {
     "duration": 0.14568,
     "end_time": "2024-01-27T03:58:07.167305",
     "exception": false,
     "start_time": "2024-01-27T03:58:07.021625",
     "status": "completed"
    },
    "tags": []
   },
   "outputs": [
    {
     "data": {
      "text/plain": [
       "(12, 10)"
      ]
     },
     "execution_count": 31,
     "metadata": {},
     "output_type": "execute_result"
    }
   ],
   "source": [
    "df_test.shape"
   ]
  },
  {
   "cell_type": "markdown",
   "metadata": {
    "papermill": {
     "duration": 0.134498,
     "end_time": "2024-01-27T03:58:07.436495",
     "exception": false,
     "start_time": "2024-01-27T03:58:07.301997",
     "status": "completed"
    },
    "tags": []
   },
   "source": [
    "# EXPLORATORY DATA ANALYSIS"
   ]
  },
  {
   "cell_type": "markdown",
   "metadata": {
    "papermill": {
     "duration": 0.133592,
     "end_time": "2024-01-27T03:58:07.705398",
     "exception": false,
     "start_time": "2024-01-27T03:58:07.571806",
     "status": "completed"
    },
    "tags": []
   },
   "source": [
    "\n",
    "- We need to  perform the EDA on TRAINING (df_train) Dataset."
   ]
  },
  {
   "cell_type": "markdown",
   "metadata": {
    "papermill": {
     "duration": 0.135489,
     "end_time": "2024-01-27T03:58:07.974739",
     "exception": false,
     "start_time": "2024-01-27T03:58:07.839250",
     "status": "completed"
    },
    "tags": []
   },
   "source": [
    "## Visualising Numeric Variables\n",
    "Let's make a pairplot of all the numeric variables."
   ]
  },
  {
   "cell_type": "code",
   "execution_count": 32,
   "metadata": {
    "execution": {
     "iopub.execute_input": "2024-01-27T03:58:08.258107Z",
     "iopub.status.busy": "2024-01-27T03:58:08.257275Z",
     "iopub.status.idle": "2024-01-27T03:58:08.261401Z",
     "shell.execute_reply": "2024-01-27T03:58:08.260637Z",
     "shell.execute_reply.started": "2024-01-27T03:40:01.046754Z"
    },
    "papermill": {
     "duration": 0.15089,
     "end_time": "2024-01-27T03:58:08.261537",
     "exception": false,
     "start_time": "2024-01-27T03:58:08.110647",
     "status": "completed"
    },
    "tags": []
   },
   "outputs": [
    {
     "name": "stdout",
     "output_type": "stream",
     "text": [
      "<class 'pandas.core.frame.DataFrame'>\n",
      "Int64Index: 28 entries, 1 to 12\n",
      "Data columns (total 10 columns):\n",
      " #   Column                Non-Null Count  Dtype  \n",
      "---  ------                --------------  -----  \n",
      " 0   Produktivitas Mangga  28 non-null     float64\n",
      " 1   Max                   28 non-null     float64\n",
      " 2   Min                   28 non-null     float64\n",
      " 3   Tavg                  28 non-null     float64\n",
      " 4   Sun Hour              28 non-null     float64\n",
      " 5   Sun Day               28 non-null     int64  \n",
      " 6   Curah Hujan           28 non-null     int64  \n",
      " 7   Hari Hujan            28 non-null     int64  \n",
      " 8   Kecepatan A           28 non-null     float64\n",
      " 9   Mx Kec                28 non-null     float64\n",
      "dtypes: float64(7), int64(3)\n",
      "memory usage: 2.4 KB\n"
     ]
    }
   ],
   "source": [
    "df_train.info()"
   ]
  },
  {
   "cell_type": "code",
   "execution_count": 33,
   "metadata": {
    "execution": {
     "iopub.execute_input": "2024-01-27T03:58:08.538168Z",
     "iopub.status.busy": "2024-01-27T03:58:08.537371Z",
     "iopub.status.idle": "2024-01-27T03:58:08.541884Z",
     "shell.execute_reply": "2024-01-27T03:58:08.541236Z",
     "shell.execute_reply.started": "2024-01-27T03:40:01.067148Z"
    },
    "papermill": {
     "duration": 0.14595,
     "end_time": "2024-01-27T03:58:08.542017",
     "exception": false,
     "start_time": "2024-01-27T03:58:08.396067",
     "status": "completed"
    },
    "tags": []
   },
   "outputs": [
    {
     "data": {
      "text/plain": [
       "Index(['Produktivitas Mangga', 'Max', 'Min', 'Tavg', 'Sun Hour', 'Sun Day',\n",
       "       'Curah Hujan', 'Hari Hujan', 'Kecepatan A', 'Mx Kec'],\n",
       "      dtype='object')"
      ]
     },
     "execution_count": 33,
     "metadata": {},
     "output_type": "execute_result"
    }
   ],
   "source": [
    "df_train.columns"
   ]
  },
  {
   "cell_type": "code",
   "execution_count": 34,
   "metadata": {
    "execution": {
     "iopub.execute_input": "2024-01-27T03:58:08.815955Z",
     "iopub.status.busy": "2024-01-27T03:58:08.815223Z",
     "iopub.status.idle": "2024-01-27T03:58:39.770226Z",
     "shell.execute_reply": "2024-01-27T03:58:39.770851Z",
     "shell.execute_reply.started": "2024-01-27T03:40:01.306098Z"
    },
    "papermill": {
     "duration": 31.093567,
     "end_time": "2024-01-27T03:58:39.771024",
     "exception": false,
     "start_time": "2024-01-27T03:58:08.677457",
     "status": "completed"
    },
    "tags": []
   },
   "outputs": [
    {
     "data": {
      "image/png": "[encoded data removed]",
      "text/plain": [
       "<Figure size 1800x1800 with 110 Axes>"
      ]
     },
     "metadata": {
      "needs_background": "light"
     },
     "output_type": "display_data"
    }
   ],
   "source": [
    "# Create a new dataframe of only numeric variables:\n",
    "\n",
    "bike_num=df_train[['Produktivitas Mangga', 'Max', 'Min', 'Tavg', 'Sun Hour', 'Sun Day',\n",
    "       'Curah Hujan','Hari Hujan', 'Kecepatan A', 'Mx Kec']]\n",
    "\n",
    "sns.pairplot(bike_num, diag_kind='kde')\n",
    "plt.show()"
   ]
  },
  {
   "cell_type": "markdown",
   "metadata": {
    "papermill": {
     "duration": 0.143107,
     "end_time": "2024-01-27T03:58:40.057896",
     "exception": false,
     "start_time": "2024-01-27T03:58:39.914789",
     "status": "completed"
    },
    "tags": []
   },
   "source": [
    "### Insights\n",
    "- The above Pair-Plot tells us that there is a LINEAR RELATION between 'temp','atemp' and 'cnt' "
   ]
  },
  {
   "cell_type": "markdown",
   "metadata": {
    "papermill": {
     "duration": 0.144738,
     "end_time": "2024-01-27T03:58:40.349647",
     "exception": false,
     "start_time": "2024-01-27T03:58:40.204909",
     "status": "completed"
    },
    "tags": []
   },
   "source": [
    "## Visualising Catagorical Variables"
   ]
  },
  {
   "cell_type": "code",
   "execution_count": 35,
   "metadata": {
    "execution": {
     "iopub.execute_input": "2024-01-27T03:58:40.656388Z",
     "iopub.status.busy": "2024-01-27T03:58:40.655331Z",
     "iopub.status.idle": "2024-01-27T03:58:40.659890Z",
     "shell.execute_reply": "2024-01-27T03:58:40.660562Z",
     "shell.execute_reply.started": "2024-01-27T03:40:23.786650Z"
    },
    "papermill": {
     "duration": 0.161608,
     "end_time": "2024-01-27T03:58:40.660819",
     "exception": false,
     "start_time": "2024-01-27T03:58:40.499211",
     "status": "completed"
    },
    "tags": []
   },
   "outputs": [
    {
     "name": "stdout",
     "output_type": "stream",
     "text": [
      "<class 'pandas.core.frame.DataFrame'>\n",
      "Int64Index: 28 entries, 1 to 12\n",
      "Data columns (total 10 columns):\n",
      " #   Column                Non-Null Count  Dtype  \n",
      "---  ------                --------------  -----  \n",
      " 0   Produktivitas Mangga  28 non-null     float64\n",
      " 1   Max                   28 non-null     float64\n",
      " 2   Min                   28 non-null     float64\n",
      " 3   Tavg                  28 non-null     float64\n",
      " 4   Sun Hour              28 non-null     float64\n",
      " 5   Sun Day               28 non-null     int64  \n",
      " 6   Curah Hujan           28 non-null     int64  \n",
      " 7   Hari Hujan            28 non-null     int64  \n",
      " 8   Kecepatan A           28 non-null     float64\n",
      " 9   Mx Kec                28 non-null     float64\n",
      "dtypes: float64(7), int64(3)\n",
      "memory usage: 3.7 KB\n"
     ]
    }
   ],
   "source": [
    "df_train.info()"
   ]
  },
  {
   "cell_type": "code",
   "execution_count": 36,
   "metadata": {
    "execution": {
     "iopub.execute_input": "2024-01-27T03:58:40.960561Z",
     "iopub.status.busy": "2024-01-27T03:58:40.955415Z",
     "iopub.status.idle": "2024-01-27T03:58:41.475384Z",
     "shell.execute_reply": "2024-01-27T03:58:41.475948Z",
     "shell.execute_reply.started": "2024-01-27T03:40:23.796653Z"
    },
    "papermill": {
     "duration": 0.669519,
     "end_time": "2024-01-27T03:58:41.476120",
     "exception": false,
     "start_time": "2024-01-27T03:58:40.806601",
     "status": "completed"
    },
    "tags": []
   },
   "outputs": [
    {
     "data": {
      "image/png": "[encoded data removed]",
      "text/plain": [
       "<Figure size 1800x720 with 2 Axes>"
      ]
     },
     "metadata": {
      "needs_background": "light"
     },
     "output_type": "display_data"
    }
   ],
   "source": [
    "# Build boxplot of all categorical variables (before creating dummies) againt the target variable 'cnt' \n",
    "# to see how each of the predictor variable stackup against the target variable.\n",
    "\n",
    "plt.figure(figsize=(25, 10))\n",
    "plt.subplot(2,3,1)\n",
    "sns.boxplot(x = 'Year', y = 'Produktivitas Mangga', data = bike)\n",
    "plt.subplot(2,3,2)\n",
    "sns.boxplot(x = 'Periode', y = 'Produktivitas Mangga', data = bike)\n",
    "plt.show()"
   ]
  },
  {
   "cell_type": "markdown",
   "metadata": {
    "papermill": {
     "duration": 0.145713,
     "end_time": "2024-01-27T03:58:41.767138",
     "exception": false,
     "start_time": "2024-01-27T03:58:41.621425",
     "status": "completed"
    },
    "tags": []
   },
   "source": [
    "## Correlation Matrix"
   ]
  },
  {
   "cell_type": "code",
   "execution_count": 37,
   "metadata": {
    "execution": {
     "iopub.execute_input": "2024-01-27T03:58:42.062667Z",
     "iopub.status.busy": "2024-01-27T03:58:42.061889Z",
     "iopub.status.idle": "2024-01-27T03:58:43.113527Z",
     "shell.execute_reply": "2024-01-27T03:58:43.114178Z",
     "shell.execute_reply.started": "2024-01-27T03:40:24.162271Z"
    },
    "papermill": {
     "duration": 1.201749,
     "end_time": "2024-01-27T03:58:43.114350",
     "exception": false,
     "start_time": "2024-01-27T03:58:41.912601",
     "status": "completed"
    },
    "tags": []
   },
   "outputs": [
    {
     "data": {
      "image/png": "[encoded data removed]",
      "text/plain": [
       "<Figure size 1800x1440 with 2 Axes>"
      ]
     },
     "metadata": {
      "needs_background": "light"
     },
     "output_type": "display_data"
    }
   ],
   "source": [
    "# Let's check the correlation coefficients to see which variables are highly correlated. Note:\n",
    "# here we are considering only those variables (dataframe: bike_new) that were chosen for analysis\n",
    "\n",
    "plt.figure(figsize = (25,20))\n",
    "sns.heatmap(bike_new_new.corr(), annot = True, cmap=\"RdBu\")\n",
    "plt.show()"
   ]
  },
  {
   "cell_type": "markdown",
   "metadata": {
    "papermill": {
     "duration": 0.155057,
     "end_time": "2024-01-27T03:58:43.420000",
     "exception": false,
     "start_time": "2024-01-27T03:58:43.264943",
     "status": "completed"
    },
    "tags": []
   },
   "source": [
    "### Insights:\n",
    " - The heatmap clearly shows which all variable are multicollinear in nature, and which variable have high collinearity with the target variable.\n",
    " - We will refer this map back-and-forth while building the linear model so as to validate different correlated values along with VIF & p-value, for identifying the correct variable to select/eliminate from the model."
   ]
  },
  {
   "cell_type": "markdown",
   "metadata": {
    "papermill": {
     "duration": 0.150132,
     "end_time": "2024-01-27T03:58:43.729507",
     "exception": false,
     "start_time": "2024-01-27T03:58:43.579375",
     "status": "completed"
    },
    "tags": []
   },
   "source": [
    "# RESCALING THE FEATURES"
   ]
  },
  {
   "cell_type": "code",
   "execution_count": 38,
   "metadata": {
    "execution": {
     "iopub.execute_input": "2024-01-27T03:58:44.034443Z",
     "iopub.status.busy": "2024-01-27T03:58:44.033285Z",
     "iopub.status.idle": "2024-01-27T03:58:44.036824Z",
     "shell.execute_reply": "2024-01-27T03:58:44.036161Z",
     "shell.execute_reply.started": "2024-01-27T03:40:24.666356Z"
    },
    "papermill": {
     "duration": 0.159215,
     "end_time": "2024-01-27T03:58:44.036978",
     "exception": false,
     "start_time": "2024-01-27T03:58:43.877763",
     "status": "completed"
    },
    "tags": []
   },
   "outputs": [],
   "source": [
    "from sklearn.preprocessing import MinMaxScaler"
   ]
  },
  {
   "cell_type": "code",
   "execution_count": 39,
   "metadata": {
    "execution": {
     "iopub.execute_input": "2024-01-27T03:58:44.343650Z",
     "iopub.status.busy": "2024-01-27T03:58:44.342459Z",
     "iopub.status.idle": "2024-01-27T03:58:44.345814Z",
     "shell.execute_reply": "2024-01-27T03:58:44.345149Z",
     "shell.execute_reply.started": "2024-01-27T03:40:24.673968Z"
    },
    "papermill": {
     "duration": 0.159696,
     "end_time": "2024-01-27T03:58:44.345952",
     "exception": false,
     "start_time": "2024-01-27T03:58:44.186256",
     "status": "completed"
    },
    "tags": []
   },
   "outputs": [],
   "source": [
    "scaler = MinMaxScaler()"
   ]
  },
  {
   "cell_type": "code",
   "execution_count": 40,
   "metadata": {
    "execution": {
     "iopub.execute_input": "2024-01-27T03:58:44.661763Z",
     "iopub.status.busy": "2024-01-27T03:58:44.661003Z",
     "iopub.status.idle": "2024-01-27T03:58:44.665947Z",
     "shell.execute_reply": "2024-01-27T03:58:44.665317Z",
     "shell.execute_reply.started": "2024-01-27T03:40:24.685951Z"
    },
    "papermill": {
     "duration": 0.17033,
     "end_time": "2024-01-27T03:58:44.666073",
     "exception": false,
     "start_time": "2024-01-27T03:58:44.495743",
     "status": "completed"
    },
    "scrolled": true,
    "tags": []
   },
   "outputs": [
    {
     "data": {
      "text/html": [
       "<div>\n",
       "<style scoped>\n",
       "    .dataframe tbody tr th:only-of-type {\n",
       "        vertical-align: middle;\n",
       "    }\n",
       "\n",
       "    .dataframe tbody tr th {\n",
       "        vertical-align: top;\n",
       "    }\n",
       "\n",
       "    .dataframe thead th {\n",
       "        text-align: right;\n",
       "    }\n",
       "</style>\n",
       "<table border=\"1\" class=\"dataframe\">\n",
       "  <thead>\n",
       "    <tr style=\"text-align: right;\">\n",
       "      <th></th>\n",
       "      <th>Produktivitas Mangga</th>\n",
       "      <th>Max</th>\n",
       "      <th>Min</th>\n",
       "      <th>Tavg</th>\n",
       "      <th>Sun Hour</th>\n",
       "      <th>Sun Day</th>\n",
       "      <th>Curah Hujan</th>\n",
       "      <th>Hari Hujan</th>\n",
       "      <th>Kecepatan A</th>\n",
       "      <th>Mx Kec</th>\n",
       "    </tr>\n",
       "  </thead>\n",
       "  <tbody>\n",
       "    <tr>\n",
       "      <th>1</th>\n",
       "      <td>0.00</td>\n",
       "      <td>28.0</td>\n",
       "      <td>24.0</td>\n",
       "      <td>26.00</td>\n",
       "      <td>237.7</td>\n",
       "      <td>49</td>\n",
       "      <td>164</td>\n",
       "      <td>42</td>\n",
       "      <td>8.93</td>\n",
       "      <td>14.0</td>\n",
       "    </tr>\n",
       "    <tr>\n",
       "      <th>14</th>\n",
       "      <td>0.56</td>\n",
       "      <td>29.0</td>\n",
       "      <td>24.0</td>\n",
       "      <td>26.00</td>\n",
       "      <td>306.3</td>\n",
       "      <td>83</td>\n",
       "      <td>12</td>\n",
       "      <td>9</td>\n",
       "      <td>8.83</td>\n",
       "      <td>13.3</td>\n",
       "    </tr>\n",
       "    <tr>\n",
       "      <th>36</th>\n",
       "      <td>0.26</td>\n",
       "      <td>28.0</td>\n",
       "      <td>24.0</td>\n",
       "      <td>25.67</td>\n",
       "      <td>30.0</td>\n",
       "      <td>6</td>\n",
       "      <td>384</td>\n",
       "      <td>84</td>\n",
       "      <td>7.03</td>\n",
       "      <td>10.4</td>\n",
       "    </tr>\n",
       "    <tr>\n",
       "      <th>11</th>\n",
       "      <td>0.53</td>\n",
       "      <td>30.0</td>\n",
       "      <td>24.0</td>\n",
       "      <td>27.00</td>\n",
       "      <td>187.0</td>\n",
       "      <td>25</td>\n",
       "      <td>319</td>\n",
       "      <td>67</td>\n",
       "      <td>8.10</td>\n",
       "      <td>13.9</td>\n",
       "    </tr>\n",
       "    <tr>\n",
       "      <th>18</th>\n",
       "      <td>0.54</td>\n",
       "      <td>30.0</td>\n",
       "      <td>25.0</td>\n",
       "      <td>27.33</td>\n",
       "      <td>225.7</td>\n",
       "      <td>45</td>\n",
       "      <td>143</td>\n",
       "      <td>47</td>\n",
       "      <td>7.93</td>\n",
       "      <td>12.7</td>\n",
       "    </tr>\n",
       "  </tbody>\n",
       "</table>\n",
       "</div>"
      ],
      "text/plain": [
       "    Produktivitas Mangga   Max   Min   Tavg  Sun Hour  Sun Day  Curah Hujan  \\\n",
       "1                   0.00  28.0  24.0  26.00     237.7       49          164   \n",
       "14                  0.56  29.0  24.0  26.00     306.3       83           12   \n",
       "36                  0.26  28.0  24.0  25.67      30.0        6          384   \n",
       "11                  0.53  30.0  24.0  27.00     187.0       25          319   \n",
       "18                  0.54  30.0  25.0  27.33     225.7       45          143   \n",
       "\n",
       "    Hari Hujan  Kecepatan A  Mx Kec  \n",
       "1           42         8.93    14.0  \n",
       "14           9         8.83    13.3  \n",
       "36          84         7.03    10.4  \n",
       "11          67         8.10    13.9  \n",
       "18          47         7.93    12.7  "
      ]
     },
     "execution_count": 40,
     "metadata": {},
     "output_type": "execute_result"
    }
   ],
   "source": [
    "# Checking the values before scaling\n",
    "df_train.head()"
   ]
  },
  {
   "cell_type": "code",
   "execution_count": 41,
   "metadata": {
    "execution": {
     "iopub.execute_input": "2024-01-27T03:58:44.969628Z",
     "iopub.status.busy": "2024-01-27T03:58:44.968914Z",
     "iopub.status.idle": "2024-01-27T03:58:44.975301Z",
     "shell.execute_reply": "2024-01-27T03:58:44.975954Z",
     "shell.execute_reply.started": "2024-01-27T03:40:24.709796Z"
    },
    "papermill": {
     "duration": 0.162238,
     "end_time": "2024-01-27T03:58:44.976154",
     "exception": false,
     "start_time": "2024-01-27T03:58:44.813916",
     "status": "completed"
    },
    "tags": []
   },
   "outputs": [
    {
     "data": {
      "text/plain": [
       "Index(['Produktivitas Mangga', 'Max', 'Min', 'Tavg', 'Sun Hour', 'Sun Day',\n",
       "       'Curah Hujan', 'Hari Hujan', 'Kecepatan A', 'Mx Kec'],\n",
       "      dtype='object')"
      ]
     },
     "execution_count": 41,
     "metadata": {},
     "output_type": "execute_result"
    }
   ],
   "source": [
    "df_train.columns"
   ]
  },
  {
   "cell_type": "code",
   "execution_count": 42,
   "metadata": {
    "execution": {
     "iopub.execute_input": "2024-01-27T03:58:45.280913Z",
     "iopub.status.busy": "2024-01-27T03:58:45.280188Z",
     "iopub.status.idle": "2024-01-27T03:58:45.296071Z",
     "shell.execute_reply": "2024-01-27T03:58:45.296769Z",
     "shell.execute_reply.started": "2024-01-27T03:40:24.723470Z"
    },
    "papermill": {
     "duration": 0.169991,
     "end_time": "2024-01-27T03:58:45.296952",
     "exception": false,
     "start_time": "2024-01-27T03:58:45.126961",
     "status": "completed"
    },
    "tags": []
   },
   "outputs": [],
   "source": [
    "# Apply scaler() to all the numeric variables\n",
    "\n",
    "num_vars = ['Produktivitas Mangga', 'Min', 'Max', 'Tavg', 'Sun Day', 'Sun Hour',\n",
    "       'Curah Hujan', 'Hari Hujan', 'Kecepatan A', 'Mx Kec']\n",
    "\n",
    "df_train[num_vars] = scaler.fit_transform(df_train[num_vars])"
   ]
  },
  {
   "cell_type": "code",
   "execution_count": 43,
   "metadata": {
    "execution": {
     "iopub.execute_input": "2024-01-27T03:58:45.599268Z",
     "iopub.status.busy": "2024-01-27T03:58:45.598503Z",
     "iopub.status.idle": "2024-01-27T03:58:45.617434Z",
     "shell.execute_reply": "2024-01-27T03:58:45.616682Z",
     "shell.execute_reply.started": "2024-01-27T03:40:24.744760Z"
    },
    "papermill": {
     "duration": 0.170346,
     "end_time": "2024-01-27T03:58:45.617565",
     "exception": false,
     "start_time": "2024-01-27T03:58:45.447219",
     "status": "completed"
    },
    "tags": []
   },
   "outputs": [
    {
     "data": {
      "text/html": [
       "<div>\n",
       "<style scoped>\n",
       "    .dataframe tbody tr th:only-of-type {\n",
       "        vertical-align: middle;\n",
       "    }\n",
       "\n",
       "    .dataframe tbody tr th {\n",
       "        vertical-align: top;\n",
       "    }\n",
       "\n",
       "    .dataframe thead th {\n",
       "        text-align: right;\n",
       "    }\n",
       "</style>\n",
       "<table border=\"1\" class=\"dataframe\">\n",
       "  <thead>\n",
       "    <tr style=\"text-align: right;\">\n",
       "      <th></th>\n",
       "      <th>Produktivitas Mangga</th>\n",
       "      <th>Max</th>\n",
       "      <th>Min</th>\n",
       "      <th>Tavg</th>\n",
       "      <th>Sun Hour</th>\n",
       "      <th>Sun Day</th>\n",
       "      <th>Curah Hujan</th>\n",
       "      <th>Hari Hujan</th>\n",
       "      <th>Kecepatan A</th>\n",
       "      <th>Mx Kec</th>\n",
       "    </tr>\n",
       "  </thead>\n",
       "  <tbody>\n",
       "    <tr>\n",
       "      <th>1</th>\n",
       "      <td>0.000000</td>\n",
       "      <td>0.000000</td>\n",
       "      <td>0.333333</td>\n",
       "      <td>0.333333</td>\n",
       "      <td>0.716207</td>\n",
       "      <td>0.558442</td>\n",
       "      <td>0.079840</td>\n",
       "      <td>0.097368</td>\n",
       "      <td>0.817391</td>\n",
       "      <td>0.835616</td>\n",
       "    </tr>\n",
       "    <tr>\n",
       "      <th>14</th>\n",
       "      <td>0.823529</td>\n",
       "      <td>0.333333</td>\n",
       "      <td>0.333333</td>\n",
       "      <td>0.333333</td>\n",
       "      <td>0.952759</td>\n",
       "      <td>1.000000</td>\n",
       "      <td>0.003992</td>\n",
       "      <td>0.010526</td>\n",
       "      <td>0.795652</td>\n",
       "      <td>0.739726</td>\n",
       "    </tr>\n",
       "    <tr>\n",
       "      <th>36</th>\n",
       "      <td>0.382353</td>\n",
       "      <td>0.000000</td>\n",
       "      <td>0.333333</td>\n",
       "      <td>0.223333</td>\n",
       "      <td>0.000000</td>\n",
       "      <td>0.000000</td>\n",
       "      <td>0.189621</td>\n",
       "      <td>0.207895</td>\n",
       "      <td>0.404348</td>\n",
       "      <td>0.342466</td>\n",
       "    </tr>\n",
       "    <tr>\n",
       "      <th>11</th>\n",
       "      <td>0.779412</td>\n",
       "      <td>0.666667</td>\n",
       "      <td>0.333333</td>\n",
       "      <td>0.666667</td>\n",
       "      <td>0.541379</td>\n",
       "      <td>0.246753</td>\n",
       "      <td>0.157186</td>\n",
       "      <td>0.163158</td>\n",
       "      <td>0.636957</td>\n",
       "      <td>0.821918</td>\n",
       "    </tr>\n",
       "    <tr>\n",
       "      <th>18</th>\n",
       "      <td>0.794118</td>\n",
       "      <td>0.666667</td>\n",
       "      <td>0.666667</td>\n",
       "      <td>0.776667</td>\n",
       "      <td>0.674828</td>\n",
       "      <td>0.506494</td>\n",
       "      <td>0.069361</td>\n",
       "      <td>0.110526</td>\n",
       "      <td>0.600000</td>\n",
       "      <td>0.657534</td>\n",
       "    </tr>\n",
       "  </tbody>\n",
       "</table>\n",
       "</div>"
      ],
      "text/plain": [
       "    Produktivitas Mangga       Max       Min      Tavg  Sun Hour   Sun Day  \\\n",
       "1               0.000000  0.000000  0.333333  0.333333  0.716207  0.558442   \n",
       "14              0.823529  0.333333  0.333333  0.333333  0.952759  1.000000   \n",
       "36              0.382353  0.000000  0.333333  0.223333  0.000000  0.000000   \n",
       "11              0.779412  0.666667  0.333333  0.666667  0.541379  0.246753   \n",
       "18              0.794118  0.666667  0.666667  0.776667  0.674828  0.506494   \n",
       "\n",
       "    Curah Hujan  Hari Hujan  Kecepatan A    Mx Kec  \n",
       "1      0.079840    0.097368     0.817391  0.835616  \n",
       "14     0.003992    0.010526     0.795652  0.739726  \n",
       "36     0.189621    0.207895     0.404348  0.342466  \n",
       "11     0.157186    0.163158     0.636957  0.821918  \n",
       "18     0.069361    0.110526     0.600000  0.657534  "
      ]
     },
     "execution_count": 43,
     "metadata": {},
     "output_type": "execute_result"
    }
   ],
   "source": [
    "# Checking values after scaling\n",
    "df_train.head()"
   ]
  },
  {
   "cell_type": "code",
   "execution_count": 44,
   "metadata": {
    "execution": {
     "iopub.execute_input": "2024-01-27T03:58:45.923380Z",
     "iopub.status.busy": "2024-01-27T03:58:45.922532Z",
     "iopub.status.idle": "2024-01-27T03:58:45.968088Z",
     "shell.execute_reply": "2024-01-27T03:58:45.968720Z",
     "shell.execute_reply.started": "2024-01-27T03:40:24.763788Z"
    },
    "papermill": {
     "duration": 0.200532,
     "end_time": "2024-01-27T03:58:45.968886",
     "exception": false,
     "start_time": "2024-01-27T03:58:45.768354",
     "status": "completed"
    },
    "tags": []
   },
   "outputs": [
    {
     "data": {
      "text/html": [
       "<div>\n",
       "<style scoped>\n",
       "    .dataframe tbody tr th:only-of-type {\n",
       "        vertical-align: middle;\n",
       "    }\n",
       "\n",
       "    .dataframe tbody tr th {\n",
       "        vertical-align: top;\n",
       "    }\n",
       "\n",
       "    .dataframe thead th {\n",
       "        text-align: right;\n",
       "    }\n",
       "</style>\n",
       "<table border=\"1\" class=\"dataframe\">\n",
       "  <thead>\n",
       "    <tr style=\"text-align: right;\">\n",
       "      <th></th>\n",
       "      <th>Produktivitas Mangga</th>\n",
       "      <th>Max</th>\n",
       "      <th>Min</th>\n",
       "      <th>Tavg</th>\n",
       "      <th>Sun Hour</th>\n",
       "      <th>Sun Day</th>\n",
       "      <th>Curah Hujan</th>\n",
       "      <th>Hari Hujan</th>\n",
       "      <th>Kecepatan A</th>\n",
       "      <th>Mx Kec</th>\n",
       "    </tr>\n",
       "  </thead>\n",
       "  <tbody>\n",
       "    <tr>\n",
       "      <th>count</th>\n",
       "      <td>28.000000</td>\n",
       "      <td>28.000000</td>\n",
       "      <td>28.000000</td>\n",
       "      <td>28.000000</td>\n",
       "      <td>28.000000</td>\n",
       "      <td>28.000000</td>\n",
       "      <td>28.000000</td>\n",
       "      <td>28.000000</td>\n",
       "      <td>28.000000</td>\n",
       "      <td>28.000000</td>\n",
       "    </tr>\n",
       "    <tr>\n",
       "      <th>mean</th>\n",
       "      <td>0.526786</td>\n",
       "      <td>0.404762</td>\n",
       "      <td>0.559524</td>\n",
       "      <td>0.547738</td>\n",
       "      <td>0.522167</td>\n",
       "      <td>0.432746</td>\n",
       "      <td>0.165490</td>\n",
       "      <td>0.173308</td>\n",
       "      <td>0.433773</td>\n",
       "      <td>0.510274</td>\n",
       "    </tr>\n",
       "    <tr>\n",
       "      <th>std</th>\n",
       "      <td>0.376528</td>\n",
       "      <td>0.277513</td>\n",
       "      <td>0.287655</td>\n",
       "      <td>0.290092</td>\n",
       "      <td>0.258896</td>\n",
       "      <td>0.310042</td>\n",
       "      <td>0.196708</td>\n",
       "      <td>0.205274</td>\n",
       "      <td>0.267461</td>\n",
       "      <td>0.301615</td>\n",
       "    </tr>\n",
       "    <tr>\n",
       "      <th>min</th>\n",
       "      <td>0.000000</td>\n",
       "      <td>0.000000</td>\n",
       "      <td>0.000000</td>\n",
       "      <td>0.000000</td>\n",
       "      <td>0.000000</td>\n",
       "      <td>0.000000</td>\n",
       "      <td>0.000000</td>\n",
       "      <td>0.000000</td>\n",
       "      <td>0.000000</td>\n",
       "      <td>0.000000</td>\n",
       "    </tr>\n",
       "    <tr>\n",
       "      <th>25%</th>\n",
       "      <td>0.000000</td>\n",
       "      <td>0.333333</td>\n",
       "      <td>0.333333</td>\n",
       "      <td>0.333333</td>\n",
       "      <td>0.354655</td>\n",
       "      <td>0.201299</td>\n",
       "      <td>0.065494</td>\n",
       "      <td>0.080921</td>\n",
       "      <td>0.244022</td>\n",
       "      <td>0.256849</td>\n",
       "    </tr>\n",
       "    <tr>\n",
       "      <th>50%</th>\n",
       "      <td>0.691176</td>\n",
       "      <td>0.333333</td>\n",
       "      <td>0.666667</td>\n",
       "      <td>0.556667</td>\n",
       "      <td>0.509138</td>\n",
       "      <td>0.376623</td>\n",
       "      <td>0.134481</td>\n",
       "      <td>0.110526</td>\n",
       "      <td>0.408696</td>\n",
       "      <td>0.520548</td>\n",
       "    </tr>\n",
       "    <tr>\n",
       "      <th>75%</th>\n",
       "      <td>0.801471</td>\n",
       "      <td>0.666667</td>\n",
       "      <td>0.666667</td>\n",
       "      <td>0.776667</td>\n",
       "      <td>0.706207</td>\n",
       "      <td>0.613636</td>\n",
       "      <td>0.194237</td>\n",
       "      <td>0.170395</td>\n",
       "      <td>0.600000</td>\n",
       "      <td>0.750000</td>\n",
       "    </tr>\n",
       "    <tr>\n",
       "      <th>max</th>\n",
       "      <td>1.000000</td>\n",
       "      <td>1.000000</td>\n",
       "      <td>1.000000</td>\n",
       "      <td>1.000000</td>\n",
       "      <td>1.000000</td>\n",
       "      <td>1.000000</td>\n",
       "      <td>1.000000</td>\n",
       "      <td>1.000000</td>\n",
       "      <td>1.000000</td>\n",
       "      <td>1.000000</td>\n",
       "    </tr>\n",
       "  </tbody>\n",
       "</table>\n",
       "</div>"
      ],
      "text/plain": [
       "       Produktivitas Mangga        Max        Min       Tavg   Sun Hour  \\\n",
       "count             28.000000  28.000000  28.000000  28.000000  28.000000   \n",
       "mean               0.526786   0.404762   0.559524   0.547738   0.522167   \n",
       "std                0.376528   0.277513   0.287655   0.290092   0.258896   \n",
       "min                0.000000   0.000000   0.000000   0.000000   0.000000   \n",
       "25%                0.000000   0.333333   0.333333   0.333333   0.354655   \n",
       "50%                0.691176   0.333333   0.666667   0.556667   0.509138   \n",
       "75%                0.801471   0.666667   0.666667   0.776667   0.706207   \n",
       "max                1.000000   1.000000   1.000000   1.000000   1.000000   \n",
       "\n",
       "         Sun Day  Curah Hujan  Hari Hujan  Kecepatan A     Mx Kec  \n",
       "count  28.000000    28.000000   28.000000    28.000000  28.000000  \n",
       "mean    0.432746     0.165490    0.173308     0.433773   0.510274  \n",
       "std     0.310042     0.196708    0.205274     0.267461   0.301615  \n",
       "min     0.000000     0.000000    0.000000     0.000000   0.000000  \n",
       "25%     0.201299     0.065494    0.080921     0.244022   0.256849  \n",
       "50%     0.376623     0.134481    0.110526     0.408696   0.520548  \n",
       "75%     0.613636     0.194237    0.170395     0.600000   0.750000  \n",
       "max     1.000000     1.000000    1.000000     1.000000   1.000000  "
      ]
     },
     "execution_count": 44,
     "metadata": {},
     "output_type": "execute_result"
    }
   ],
   "source": [
    "df_train.describe()"
   ]
  },
  {
   "cell_type": "markdown",
   "metadata": {
    "papermill": {
     "duration": 0.15306,
     "end_time": "2024-01-27T03:58:46.273292",
     "exception": false,
     "start_time": "2024-01-27T03:58:46.120232",
     "status": "completed"
    },
    "tags": []
   },
   "source": [
    "# BUILDING A LINEAR MODEL"
   ]
  },
  {
   "cell_type": "markdown",
   "metadata": {
    "papermill": {
     "duration": 0.177899,
     "end_time": "2024-01-27T03:58:46.602915",
     "exception": false,
     "start_time": "2024-01-27T03:58:46.425016",
     "status": "completed"
    },
    "tags": []
   },
   "source": [
    "## Dividing into X and Y sets for the model building"
   ]
  },
  {
   "cell_type": "code",
   "execution_count": 45,
   "metadata": {
    "execution": {
     "iopub.execute_input": "2024-01-27T03:58:46.912529Z",
     "iopub.status.busy": "2024-01-27T03:58:46.911783Z",
     "iopub.status.idle": "2024-01-27T03:58:46.918182Z",
     "shell.execute_reply": "2024-01-27T03:58:46.917422Z",
     "shell.execute_reply.started": "2024-01-27T03:40:24.809067Z"
    },
    "papermill": {
     "duration": 0.160729,
     "end_time": "2024-01-27T03:58:46.918315",
     "exception": false,
     "start_time": "2024-01-27T03:58:46.757586",
     "status": "completed"
    },
    "tags": []
   },
   "outputs": [],
   "source": [
    "y_train = df_train.pop('Produktivitas Mangga')\n",
    "X_train = df_train"
   ]
  },
  {
   "cell_type": "markdown",
   "metadata": {
    "papermill": {
     "duration": 0.152864,
     "end_time": "2024-01-27T03:58:47.222207",
     "exception": false,
     "start_time": "2024-01-27T03:58:47.069343",
     "status": "completed"
    },
    "tags": []
   },
   "source": [
    "### RFE\n",
    "Recursive feature elimination: We will be using the **LinearRegression function from SciKit Learn**  for its compatibility with RFE (which is a utility from sklearn)"
   ]
  },
  {
   "cell_type": "code",
   "execution_count": 46,
   "metadata": {
    "execution": {
     "iopub.execute_input": "2024-01-27T03:58:47.532659Z",
     "iopub.status.busy": "2024-01-27T03:58:47.531802Z",
     "iopub.status.idle": "2024-01-27T03:58:47.691405Z",
     "shell.execute_reply": "2024-01-27T03:58:47.690672Z",
     "shell.execute_reply.started": "2024-01-27T03:40:24.816739Z"
    },
    "papermill": {
     "duration": 0.316321,
     "end_time": "2024-01-27T03:58:47.691541",
     "exception": false,
     "start_time": "2024-01-27T03:58:47.375220",
     "status": "completed"
    },
    "tags": []
   },
   "outputs": [],
   "source": [
    "# Importing RFE and LinearRegression\n",
    "from sklearn.feature_selection import RFE\n",
    "from sklearn.linear_model import LinearRegression"
   ]
  },
  {
   "cell_type": "code",
   "execution_count": 47,
   "metadata": {
    "execution": {
     "iopub.execute_input": "2024-01-27T03:58:48.005712Z",
     "iopub.status.busy": "2024-01-27T03:58:48.004928Z",
     "iopub.status.idle": "2024-01-27T03:58:48.038181Z",
     "shell.execute_reply": "2024-01-27T03:58:48.038835Z",
     "shell.execute_reply.started": "2024-01-27T03:40:24.828776Z"
    },
    "papermill": {
     "duration": 0.193202,
     "end_time": "2024-01-27T03:58:48.039013",
     "exception": false,
     "start_time": "2024-01-27T03:58:47.845811",
     "status": "completed"
    },
    "tags": []
   },
   "outputs": [],
   "source": [
    "# Running RFE with the output number of the variable equal to 15\n",
    "lm = LinearRegression()\n",
    "lm.fit(X_train, y_train)\n",
    "\n",
    "rfe = RFE(lm, 15)             # running RFE\n",
    "rfe = rfe.fit(X_train, y_train)"
   ]
  },
  {
   "cell_type": "code",
   "execution_count": 48,
   "metadata": {
    "execution": {
     "iopub.execute_input": "2024-01-27T03:58:48.347200Z",
     "iopub.status.busy": "2024-01-27T03:58:48.346396Z",
     "iopub.status.idle": "2024-01-27T03:58:48.355268Z",
     "shell.execute_reply": "2024-01-27T03:58:48.356029Z",
     "shell.execute_reply.started": "2024-01-27T03:40:24.845013Z"
    },
    "papermill": {
     "duration": 0.164945,
     "end_time": "2024-01-27T03:58:48.356192",
     "exception": false,
     "start_time": "2024-01-27T03:58:48.191247",
     "status": "completed"
    },
    "tags": []
   },
   "outputs": [
    {
     "data": {
      "text/plain": [
       "[('Max', True, 1),\n",
       " ('Min', True, 1),\n",
       " ('Tavg', True, 1),\n",
       " ('Sun Hour', True, 1),\n",
       " ('Sun Day', True, 1),\n",
       " ('Curah Hujan', True, 1),\n",
       " ('Hari Hujan', True, 1),\n",
       " ('Kecepatan A', True, 1),\n",
       " ('Mx Kec', True, 1)]"
      ]
     },
     "execution_count": 48,
     "metadata": {},
     "output_type": "execute_result"
    }
   ],
   "source": [
    "list(zip(X_train.columns,rfe.support_,rfe.ranking_))"
   ]
  },
  {
   "cell_type": "code",
   "execution_count": 49,
   "metadata": {
    "execution": {
     "iopub.execute_input": "2024-01-27T03:58:48.666382Z",
     "iopub.status.busy": "2024-01-27T03:58:48.665303Z",
     "iopub.status.idle": "2024-01-27T03:58:48.672631Z",
     "shell.execute_reply": "2024-01-27T03:58:48.673617Z",
     "shell.execute_reply.started": "2024-01-27T03:40:24.853788Z"
    },
    "papermill": {
     "duration": 0.165319,
     "end_time": "2024-01-27T03:58:48.673892",
     "exception": false,
     "start_time": "2024-01-27T03:58:48.508573",
     "status": "completed"
    },
    "tags": []
   },
   "outputs": [
    {
     "data": {
      "text/plain": [
       "Index(['Max', 'Min', 'Tavg', 'Sun Hour', 'Sun Day', 'Curah Hujan',\n",
       "       'Hari Hujan', 'Kecepatan A', 'Mx Kec'],\n",
       "      dtype='object')"
      ]
     },
     "execution_count": 49,
     "metadata": {},
     "output_type": "execute_result"
    }
   ],
   "source": [
    "col = X_train.columns[rfe.support_]\n",
    "col"
   ]
  },
  {
   "cell_type": "code",
   "execution_count": 50,
   "metadata": {
    "execution": {
     "iopub.execute_input": "2024-01-27T03:58:48.984055Z",
     "iopub.status.busy": "2024-01-27T03:58:48.982953Z",
     "iopub.status.idle": "2024-01-27T03:58:48.990010Z",
     "shell.execute_reply": "2024-01-27T03:58:48.990656Z",
     "shell.execute_reply.started": "2024-01-27T03:40:24.865392Z"
    },
    "papermill": {
     "duration": 0.164793,
     "end_time": "2024-01-27T03:58:48.990841",
     "exception": false,
     "start_time": "2024-01-27T03:58:48.826048",
     "status": "completed"
    },
    "tags": []
   },
   "outputs": [
    {
     "data": {
      "text/plain": [
       "Index([], dtype='object')"
      ]
     },
     "execution_count": 50,
     "metadata": {},
     "output_type": "execute_result"
    }
   ],
   "source": [
    "X_train.columns[~rfe.support_]"
   ]
  },
  {
   "cell_type": "code",
   "execution_count": 51,
   "metadata": {
    "execution": {
     "iopub.execute_input": "2024-01-27T03:58:49.305450Z",
     "iopub.status.busy": "2024-01-27T03:58:49.304303Z",
     "iopub.status.idle": "2024-01-27T03:58:49.306990Z",
     "shell.execute_reply": "2024-01-27T03:58:49.307714Z",
     "shell.execute_reply.started": "2024-01-27T03:40:24.875965Z"
    },
    "papermill": {
     "duration": 0.16283,
     "end_time": "2024-01-27T03:58:49.307880",
     "exception": false,
     "start_time": "2024-01-27T03:58:49.145050",
     "status": "completed"
    },
    "tags": []
   },
   "outputs": [],
   "source": [
    "# Creating X_test dataframe with RFE selected variables\n",
    "X_train_rfe = X_train[col]"
   ]
  },
  {
   "cell_type": "markdown",
   "metadata": {
    "papermill": {
     "duration": 0.151666,
     "end_time": "2024-01-27T03:58:49.613485",
     "exception": false,
     "start_time": "2024-01-27T03:58:49.461819",
     "status": "completed"
    },
    "tags": []
   },
   "source": [
    "# Building Linear Model using 'STATS MODEL'"
   ]
  },
  {
   "cell_type": "markdown",
   "metadata": {
    "papermill": {
     "duration": 0.150618,
     "end_time": "2024-01-27T03:58:49.917727",
     "exception": false,
     "start_time": "2024-01-27T03:58:49.767109",
     "status": "completed"
    },
    "tags": []
   },
   "source": [
    "## Model 1"
   ]
  },
  {
   "cell_type": "markdown",
   "metadata": {
    "papermill": {
     "duration": 0.152516,
     "end_time": "2024-01-27T03:58:50.222143",
     "exception": false,
     "start_time": "2024-01-27T03:58:50.069627",
     "status": "completed"
    },
    "tags": []
   },
   "source": [
    "### VIF Check"
   ]
  },
  {
   "cell_type": "code",
   "execution_count": 52,
   "metadata": {
    "execution": {
     "iopub.execute_input": "2024-01-27T03:58:50.532021Z",
     "iopub.status.busy": "2024-01-27T03:58:50.531252Z",
     "iopub.status.idle": "2024-01-27T03:58:50.660937Z",
     "shell.execute_reply": "2024-01-27T03:58:50.661514Z",
     "shell.execute_reply.started": "2024-01-27T03:40:24.886554Z"
    },
    "papermill": {
     "duration": 0.285457,
     "end_time": "2024-01-27T03:58:50.661713",
     "exception": false,
     "start_time": "2024-01-27T03:58:50.376256",
     "status": "completed"
    },
    "tags": []
   },
   "outputs": [
    {
     "data": {
      "text/html": [
       "<div>\n",
       "<style scoped>\n",
       "    .dataframe tbody tr th:only-of-type {\n",
       "        vertical-align: middle;\n",
       "    }\n",
       "\n",
       "    .dataframe tbody tr th {\n",
       "        vertical-align: top;\n",
       "    }\n",
       "\n",
       "    .dataframe thead th {\n",
       "        text-align: right;\n",
       "    }\n",
       "</style>\n",
       "<table border=\"1\" class=\"dataframe\">\n",
       "  <thead>\n",
       "    <tr style=\"text-align: right;\">\n",
       "      <th></th>\n",
       "      <th>Features</th>\n",
       "      <th>VIF</th>\n",
       "    </tr>\n",
       "  </thead>\n",
       "  <tbody>\n",
       "    <tr>\n",
       "      <th>3</th>\n",
       "      <td>Sun Hour</td>\n",
       "      <td>161.62</td>\n",
       "    </tr>\n",
       "    <tr>\n",
       "      <th>2</th>\n",
       "      <td>Tavg</td>\n",
       "      <td>75.65</td>\n",
       "    </tr>\n",
       "    <tr>\n",
       "      <th>5</th>\n",
       "      <td>Curah Hujan</td>\n",
       "      <td>65.45</td>\n",
       "    </tr>\n",
       "    <tr>\n",
       "      <th>6</th>\n",
       "      <td>Hari Hujan</td>\n",
       "      <td>65.14</td>\n",
       "    </tr>\n",
       "    <tr>\n",
       "      <th>4</th>\n",
       "      <td>Sun Day</td>\n",
       "      <td>64.18</td>\n",
       "    </tr>\n",
       "    <tr>\n",
       "      <th>8</th>\n",
       "      <td>Mx Kec</td>\n",
       "      <td>29.60</td>\n",
       "    </tr>\n",
       "    <tr>\n",
       "      <th>7</th>\n",
       "      <td>Kecepatan A</td>\n",
       "      <td>25.59</td>\n",
       "    </tr>\n",
       "    <tr>\n",
       "      <th>1</th>\n",
       "      <td>Min</td>\n",
       "      <td>19.91</td>\n",
       "    </tr>\n",
       "    <tr>\n",
       "      <th>0</th>\n",
       "      <td>Max</td>\n",
       "      <td>12.10</td>\n",
       "    </tr>\n",
       "  </tbody>\n",
       "</table>\n",
       "</div>"
      ],
      "text/plain": [
       "      Features     VIF\n",
       "3     Sun Hour  161.62\n",
       "2         Tavg   75.65\n",
       "5  Curah Hujan   65.45\n",
       "6   Hari Hujan   65.14\n",
       "4      Sun Day   64.18\n",
       "8       Mx Kec   29.60\n",
       "7  Kecepatan A   25.59\n",
       "1          Min   19.91\n",
       "0          Max   12.10"
      ]
     },
     "execution_count": 52,
     "metadata": {},
     "output_type": "execute_result"
    }
   ],
   "source": [
    "# Check for the VIF values of the feature variables. \n",
    "from statsmodels.stats.outliers_influence import variance_inflation_factor\n",
    "\n",
    "# Create a dataframe that will contain the names of all the feature variables and their respective VIFs\n",
    "vif = pd.DataFrame()\n",
    "vif['Features'] = X_train_rfe.columns\n",
    "vif['VIF'] = [variance_inflation_factor(X_train_rfe.values, i) for i in range(X_train_rfe.shape[1])]\n",
    "vif['VIF'] = round(vif['VIF'], 2)\n",
    "vif = vif.sort_values(by = \"VIF\", ascending = False)\n",
    "vif"
   ]
  },
  {
   "cell_type": "code",
   "execution_count": 53,
   "metadata": {
    "execution": {
     "iopub.execute_input": "2024-01-27T03:58:50.973459Z",
     "iopub.status.busy": "2024-01-27T03:58:50.972671Z",
     "iopub.status.idle": "2024-01-27T03:58:51.521011Z",
     "shell.execute_reply": "2024-01-27T03:58:51.520279Z",
     "shell.execute_reply.started": "2024-01-27T03:40:24.911326Z"
    },
    "papermill": {
     "duration": 0.70394,
     "end_time": "2024-01-27T03:58:51.521153",
     "exception": false,
     "start_time": "2024-01-27T03:58:50.817213",
     "status": "completed"
    },
    "tags": []
   },
   "outputs": [],
   "source": [
    "import statsmodels.api as sm\n",
    "\n",
    "# Add a constant\n",
    "X_train_lm1 = sm.add_constant(X_train_rfe)\n",
    "\n",
    "# Create a first fitted model\n",
    "lr1 = sm.OLS(y_train, X_train_lm1).fit()"
   ]
  },
  {
   "cell_type": "code",
   "execution_count": 54,
   "metadata": {
    "execution": {
     "iopub.execute_input": "2024-01-27T03:58:51.832626Z",
     "iopub.status.busy": "2024-01-27T03:58:51.831494Z",
     "iopub.status.idle": "2024-01-27T03:58:51.839675Z",
     "shell.execute_reply": "2024-01-27T03:58:51.840293Z",
     "shell.execute_reply.started": "2024-01-27T03:40:24.919941Z"
    },
    "papermill": {
     "duration": 0.165555,
     "end_time": "2024-01-27T03:58:51.840462",
     "exception": false,
     "start_time": "2024-01-27T03:58:51.674907",
     "status": "completed"
    },
    "tags": []
   },
   "outputs": [
    {
     "data": {
      "text/plain": [
       "const          0.550074\n",
       "Max            1.320193\n",
       "Min            0.990158\n",
       "Tavg          -2.051485\n",
       "Sun Hour      -0.214860\n",
       "Sun Day       -0.435200\n",
       "Curah Hujan   -0.723630\n",
       "Hari Hujan     0.661628\n",
       "Kecepatan A    0.617354\n",
       "Mx Kec         0.097650\n",
       "dtype: float64"
      ]
     },
     "execution_count": 54,
     "metadata": {},
     "output_type": "execute_result"
    }
   ],
   "source": [
    "# Check the parameters obtained\n",
    "\n",
    "lr1.params"
   ]
  },
  {
   "cell_type": "code",
   "execution_count": 55,
   "metadata": {
    "execution": {
     "iopub.execute_input": "2024-01-27T03:58:52.149438Z",
     "iopub.status.busy": "2024-01-27T03:58:52.148359Z",
     "iopub.status.idle": "2024-01-27T03:58:52.170234Z",
     "shell.execute_reply": "2024-01-27T03:58:52.169571Z",
     "shell.execute_reply.started": "2024-01-27T03:40:24.931008Z"
    },
    "papermill": {
     "duration": 0.176896,
     "end_time": "2024-01-27T03:58:52.170381",
     "exception": false,
     "start_time": "2024-01-27T03:58:51.993485",
     "status": "completed"
    },
    "tags": []
   },
   "outputs": [
    {
     "name": "stdout",
     "output_type": "stream",
     "text": [
      "                             OLS Regression Results                             \n",
      "================================================================================\n",
      "Dep. Variable:     Produktivitas Mangga   R-squared:                       0.510\n",
      "Model:                              OLS   Adj. R-squared:                  0.265\n",
      "Method:                   Least Squares   F-statistic:                     2.080\n",
      "Date:                  Sat, 27 Jan 2024   Prob (F-statistic):             0.0889\n",
      "Time:                          03:58:52   Log-Likelihood:                -1.8899\n",
      "No. Observations:                    28   AIC:                             23.78\n",
      "Df Residuals:                        18   BIC:                             37.10\n",
      "Df Model:                             9                                         \n",
      "Covariance Type:              nonrobust                                         \n",
      "===============================================================================\n",
      "                  coef    std err          t      P>|t|      [0.025      0.975]\n",
      "-------------------------------------------------------------------------------\n",
      "const           0.5501      0.316      1.742      0.099      -0.113       1.213\n",
      "Max             1.3202      0.438      3.012      0.007       0.399       2.241\n",
      "Min             0.9902      0.528      1.874      0.077      -0.120       2.100\n",
      "Tavg           -2.0515      0.870     -2.359      0.030      -3.879      -0.224\n",
      "Sun Hour       -0.2149      1.336     -0.161      0.874      -3.022       2.592\n",
      "Sun Day        -0.4352      0.952     -0.457      0.653      -2.435       1.564\n",
      "Curah Hujan    -0.7236      1.943     -0.372      0.714      -4.805       3.358\n",
      "Hari Hujan      0.6616      1.865      0.355      0.727      -3.257       4.580\n",
      "Kecepatan A     0.6174      0.610      1.012      0.325      -0.665       1.900\n",
      "Mx Kec          0.0977      0.566      0.173      0.865      -1.091       1.286\n",
      "==============================================================================\n",
      "Omnibus:                        2.022   Durbin-Watson:                   2.163\n",
      "Prob(Omnibus):                  0.364   Jarque-Bera (JB):                1.789\n",
      "Skew:                          -0.574   Prob(JB):                        0.409\n",
      "Kurtosis:                       2.537   Cond. No.                         74.7\n",
      "==============================================================================\n",
      "\n",
      "Warnings:\n",
      "[1] Standard Errors assume that the covariance matrix of the errors is correctly specified.\n"
     ]
    }
   ],
   "source": [
    "# Print a summary of the linear regression model obtained\n",
    "print(lr1.summary())"
   ]
  },
  {
   "cell_type": "markdown",
   "metadata": {
    "papermill": {
     "duration": 0.152991,
     "end_time": "2024-01-27T03:58:52.479408",
     "exception": false,
     "start_time": "2024-01-27T03:58:52.326417",
     "status": "completed"
    },
    "tags": []
   },
   "source": [
    "## Model 2"
   ]
  },
  {
   "cell_type": "markdown",
   "metadata": {
    "papermill": {
     "duration": 0.153845,
     "end_time": "2024-01-27T03:58:52.785784",
     "exception": false,
     "start_time": "2024-01-27T03:58:52.631939",
     "status": "completed"
    },
    "tags": []
   },
   "source": [
    "- Removing the variable 'atemp' based on its High p-value & High VIF"
   ]
  },
  {
   "cell_type": "code",
   "execution_count": 56,
   "metadata": {
    "execution": {
     "iopub.execute_input": "2024-01-27T03:58:53.099242Z",
     "iopub.status.busy": "2024-01-27T03:58:53.098402Z",
     "iopub.status.idle": "2024-01-27T03:58:53.104122Z",
     "shell.execute_reply": "2024-01-27T03:58:53.104788Z",
     "shell.execute_reply.started": "2024-01-27T03:40:24.951178Z"
    },
    "papermill": {
     "duration": 0.165505,
     "end_time": "2024-01-27T03:58:53.104953",
     "exception": false,
     "start_time": "2024-01-27T03:58:52.939448",
     "status": "completed"
    },
    "tags": []
   },
   "outputs": [],
   "source": [
    "X_train_new = X_train_rfe.drop([\"Sun Hour\"], axis = 1)"
   ]
  },
  {
   "cell_type": "markdown",
   "metadata": {
    "papermill": {
     "duration": 0.155849,
     "end_time": "2024-01-27T03:58:53.417666",
     "exception": false,
     "start_time": "2024-01-27T03:58:53.261817",
     "status": "completed"
    },
    "tags": []
   },
   "source": [
    "### VIF Check"
   ]
  },
  {
   "cell_type": "code",
   "execution_count": 57,
   "metadata": {
    "execution": {
     "iopub.execute_input": "2024-01-27T03:58:53.732803Z",
     "iopub.status.busy": "2024-01-27T03:58:53.731940Z",
     "iopub.status.idle": "2024-01-27T03:58:53.757158Z",
     "shell.execute_reply": "2024-01-27T03:58:53.757686Z",
     "shell.execute_reply.started": "2024-01-27T03:40:24.962551Z"
    },
    "papermill": {
     "duration": 0.185445,
     "end_time": "2024-01-27T03:58:53.757873",
     "exception": false,
     "start_time": "2024-01-27T03:58:53.572428",
     "status": "completed"
    },
    "tags": []
   },
   "outputs": [
    {
     "data": {
      "text/html": [
       "<div>\n",
       "<style scoped>\n",
       "    .dataframe tbody tr th:only-of-type {\n",
       "        vertical-align: middle;\n",
       "    }\n",
       "\n",
       "    .dataframe tbody tr th {\n",
       "        vertical-align: top;\n",
       "    }\n",
       "\n",
       "    .dataframe thead th {\n",
       "        text-align: right;\n",
       "    }\n",
       "</style>\n",
       "<table border=\"1\" class=\"dataframe\">\n",
       "  <thead>\n",
       "    <tr style=\"text-align: right;\">\n",
       "      <th></th>\n",
       "      <th>Features</th>\n",
       "      <th>VIF</th>\n",
       "    </tr>\n",
       "  </thead>\n",
       "  <tbody>\n",
       "    <tr>\n",
       "      <th>4</th>\n",
       "      <td>Curah Hujan</td>\n",
       "      <td>65.45</td>\n",
       "    </tr>\n",
       "    <tr>\n",
       "      <th>5</th>\n",
       "      <td>Hari Hujan</td>\n",
       "      <td>63.72</td>\n",
       "    </tr>\n",
       "    <tr>\n",
       "      <th>2</th>\n",
       "      <td>Tavg</td>\n",
       "      <td>37.17</td>\n",
       "    </tr>\n",
       "    <tr>\n",
       "      <th>7</th>\n",
       "      <td>Mx Kec</td>\n",
       "      <td>25.16</td>\n",
       "    </tr>\n",
       "    <tr>\n",
       "      <th>6</th>\n",
       "      <td>Kecepatan A</td>\n",
       "      <td>24.95</td>\n",
       "    </tr>\n",
       "    <tr>\n",
       "      <th>1</th>\n",
       "      <td>Min</td>\n",
       "      <td>19.46</td>\n",
       "    </tr>\n",
       "    <tr>\n",
       "      <th>0</th>\n",
       "      <td>Max</td>\n",
       "      <td>8.88</td>\n",
       "    </tr>\n",
       "    <tr>\n",
       "      <th>3</th>\n",
       "      <td>Sun Day</td>\n",
       "      <td>4.01</td>\n",
       "    </tr>\n",
       "  </tbody>\n",
       "</table>\n",
       "</div>"
      ],
      "text/plain": [
       "      Features    VIF\n",
       "4  Curah Hujan  65.45\n",
       "5   Hari Hujan  63.72\n",
       "2         Tavg  37.17\n",
       "7       Mx Kec  25.16\n",
       "6  Kecepatan A  24.95\n",
       "1          Min  19.46\n",
       "0          Max   8.88\n",
       "3      Sun Day   4.01"
      ]
     },
     "execution_count": 57,
     "metadata": {},
     "output_type": "execute_result"
    }
   ],
   "source": [
    "# Check for the VIF values of the feature variables. \n",
    "from statsmodels.stats.outliers_influence import variance_inflation_factor\n",
    "\n",
    "# Create a dataframe that will contain the names of all the feature variables and their respective VIFs\n",
    "vif = pd.DataFrame()\n",
    "vif['Features'] = X_train_new.columns\n",
    "vif['VIF'] = [variance_inflation_factor(X_train_new.values, i) for i in range(X_train_new.shape[1])]\n",
    "vif['VIF'] = round(vif['VIF'], 2)\n",
    "vif = vif.sort_values(by = \"VIF\", ascending = False)\n",
    "vif"
   ]
  },
  {
   "cell_type": "code",
   "execution_count": 58,
   "metadata": {
    "execution": {
     "iopub.execute_input": "2024-01-27T03:58:54.080482Z",
     "iopub.status.busy": "2024-01-27T03:58:54.079651Z",
     "iopub.status.idle": "2024-01-27T03:58:54.083562Z",
     "shell.execute_reply": "2024-01-27T03:58:54.084140Z",
     "shell.execute_reply.started": "2024-01-27T03:40:24.986762Z"
    },
    "papermill": {
     "duration": 0.171876,
     "end_time": "2024-01-27T03:58:54.084312",
     "exception": false,
     "start_time": "2024-01-27T03:58:53.912436",
     "status": "completed"
    },
    "tags": []
   },
   "outputs": [],
   "source": [
    "# Add a constant\n",
    "X_train_lm2 = sm.add_constant(X_train_new)\n",
    "\n",
    "# Create a first fitted model\n",
    "lr2 = sm.OLS(y_train, X_train_lm2).fit()"
   ]
  },
  {
   "cell_type": "code",
   "execution_count": 59,
   "metadata": {
    "execution": {
     "iopub.execute_input": "2024-01-27T03:58:54.400253Z",
     "iopub.status.busy": "2024-01-27T03:58:54.399502Z",
     "iopub.status.idle": "2024-01-27T03:58:54.403107Z",
     "shell.execute_reply": "2024-01-27T03:58:54.403854Z",
     "shell.execute_reply.started": "2024-01-27T03:40:24.996301Z"
    },
    "papermill": {
     "duration": 0.164819,
     "end_time": "2024-01-27T03:58:54.404018",
     "exception": false,
     "start_time": "2024-01-27T03:58:54.239199",
     "status": "completed"
    },
    "tags": []
   },
   "outputs": [
    {
     "data": {
      "text/plain": [
       "const          0.551146\n",
       "Max            1.356109\n",
       "Min            0.999597\n",
       "Tavg          -2.149611\n",
       "Sun Day       -0.579804\n",
       "Curah Hujan   -0.720713\n",
       "Hari Hujan     0.704907\n",
       "Kecepatan A    0.601760\n",
       "Mx Kec         0.062415\n",
       "dtype: float64"
      ]
     },
     "execution_count": 59,
     "metadata": {},
     "output_type": "execute_result"
    }
   ],
   "source": [
    "# Check the parameters obtained\n",
    "\n",
    "lr2.params"
   ]
  },
  {
   "cell_type": "code",
   "execution_count": 60,
   "metadata": {
    "execution": {
     "iopub.execute_input": "2024-01-27T03:58:54.721192Z",
     "iopub.status.busy": "2024-01-27T03:58:54.716397Z",
     "iopub.status.idle": "2024-01-27T03:58:54.735592Z",
     "shell.execute_reply": "2024-01-27T03:58:54.734828Z",
     "shell.execute_reply.started": "2024-01-27T03:40:25.016207Z"
    },
    "papermill": {
     "duration": 0.177377,
     "end_time": "2024-01-27T03:58:54.735782",
     "exception": false,
     "start_time": "2024-01-27T03:58:54.558405",
     "status": "completed"
    },
    "tags": []
   },
   "outputs": [
    {
     "name": "stdout",
     "output_type": "stream",
     "text": [
      "                             OLS Regression Results                             \n",
      "================================================================================\n",
      "Dep. Variable:     Produktivitas Mangga   R-squared:                       0.509\n",
      "Model:                              OLS   Adj. R-squared:                  0.302\n",
      "Method:                   Least Squares   F-statistic:                     2.463\n",
      "Date:                  Sat, 27 Jan 2024   Prob (F-statistic):             0.0510\n",
      "Time:                          03:58:54   Log-Likelihood:                -1.9100\n",
      "No. Observations:                    28   AIC:                             21.82\n",
      "Df Residuals:                        19   BIC:                             33.81\n",
      "Df Model:                             8                                         \n",
      "Covariance Type:              nonrobust                                         \n",
      "===============================================================================\n",
      "                  coef    std err          t      P>|t|      [0.025      0.975]\n",
      "-------------------------------------------------------------------------------\n",
      "const           0.5511      0.307      1.792      0.089      -0.092       1.195\n",
      "Max             1.3561      0.367      3.691      0.002       0.587       2.125\n",
      "Min             0.9996      0.512      1.954      0.066      -0.071       2.070\n",
      "Tavg           -2.1496      0.604     -3.561      0.002      -3.413      -0.886\n",
      "Sun Day        -0.5798      0.304     -1.908      0.072      -1.216       0.056\n",
      "Curah Hujan    -0.7207      1.892     -0.381      0.708      -4.681       3.240\n",
      "Hari Hujan      0.7049      1.798      0.392      0.699      -3.058       4.468\n",
      "Kecepatan A     0.6018      0.587      1.025      0.318      -0.627       1.830\n",
      "Mx Kec          0.0624      0.508      0.123      0.904      -1.001       1.126\n",
      "==============================================================================\n",
      "Omnibus:                        1.983   Durbin-Watson:                   2.138\n",
      "Prob(Omnibus):                  0.371   Jarque-Bera (JB):                1.758\n",
      "Skew:                          -0.568   Prob(JB):                        0.415\n",
      "Kurtosis:                       2.533   Cond. No.                         70.4\n",
      "==============================================================================\n",
      "\n",
      "Warnings:\n",
      "[1] Standard Errors assume that the covariance matrix of the errors is correctly specified.\n"
     ]
    }
   ],
   "source": [
    "# Print a summary of the linear regression model obtained\n",
    "print(lr2.summary())"
   ]
  },
  {
   "cell_type": "markdown",
   "metadata": {
    "papermill": {
     "duration": 0.15721,
     "end_time": "2024-01-27T03:58:55.048569",
     "exception": false,
     "start_time": "2024-01-27T03:58:54.891359",
     "status": "completed"
    },
    "tags": []
   },
   "source": [
    "## Model 3"
   ]
  },
  {
   "cell_type": "markdown",
   "metadata": {
    "papermill": {
     "duration": 0.155611,
     "end_time": "2024-01-27T03:58:55.360893",
     "exception": false,
     "start_time": "2024-01-27T03:58:55.205282",
     "status": "completed"
    },
    "tags": []
   },
   "source": [
    " - Removing the variable 'hum' based on its Very High 'VIF' value.\n",
    " - Even though the VIF of hum is second highest, we decided to drop 'hum' and not 'temp' based on general knowledge that temperature can be an important factor for a business like bike rentals, and wanted to retain 'temp'."
   ]
  },
  {
   "cell_type": "code",
   "execution_count": 61,
   "metadata": {
    "execution": {
     "iopub.execute_input": "2024-01-27T03:58:55.681315Z",
     "iopub.status.busy": "2024-01-27T03:58:55.680549Z",
     "iopub.status.idle": "2024-01-27T03:58:55.682425Z",
     "shell.execute_reply": "2024-01-27T03:58:55.683129Z",
     "shell.execute_reply.started": "2024-01-27T03:40:25.041610Z"
    },
    "papermill": {
     "duration": 0.164327,
     "end_time": "2024-01-27T03:58:55.683286",
     "exception": false,
     "start_time": "2024-01-27T03:58:55.518959",
     "status": "completed"
    },
    "tags": []
   },
   "outputs": [],
   "source": [
    "X_train_new = X_train_new.drop([\"Hari Hujan\"], axis = 1)"
   ]
  },
  {
   "cell_type": "markdown",
   "metadata": {
    "papermill": {
     "duration": 0.155337,
     "end_time": "2024-01-27T03:58:55.996512",
     "exception": false,
     "start_time": "2024-01-27T03:58:55.841175",
     "status": "completed"
    },
    "tags": []
   },
   "source": [
    "### VIF Check"
   ]
  },
  {
   "cell_type": "code",
   "execution_count": 62,
   "metadata": {
    "execution": {
     "iopub.execute_input": "2024-01-27T03:58:56.316157Z",
     "iopub.status.busy": "2024-01-27T03:58:56.310294Z",
     "iopub.status.idle": "2024-01-27T03:58:56.333951Z",
     "shell.execute_reply": "2024-01-27T03:58:56.334563Z",
     "shell.execute_reply.started": "2024-01-27T03:40:25.048909Z"
    },
    "papermill": {
     "duration": 0.182346,
     "end_time": "2024-01-27T03:58:56.334744",
     "exception": false,
     "start_time": "2024-01-27T03:58:56.152398",
     "status": "completed"
    },
    "tags": []
   },
   "outputs": [
    {
     "data": {
      "text/html": [
       "<div>\n",
       "<style scoped>\n",
       "    .dataframe tbody tr th:only-of-type {\n",
       "        vertical-align: middle;\n",
       "    }\n",
       "\n",
       "    .dataframe tbody tr th {\n",
       "        vertical-align: top;\n",
       "    }\n",
       "\n",
       "    .dataframe thead th {\n",
       "        text-align: right;\n",
       "    }\n",
       "</style>\n",
       "<table border=\"1\" class=\"dataframe\">\n",
       "  <thead>\n",
       "    <tr style=\"text-align: right;\">\n",
       "      <th></th>\n",
       "      <th>Features</th>\n",
       "      <th>VIF</th>\n",
       "    </tr>\n",
       "  </thead>\n",
       "  <tbody>\n",
       "    <tr>\n",
       "      <th>2</th>\n",
       "      <td>Tavg</td>\n",
       "      <td>36.88</td>\n",
       "    </tr>\n",
       "    <tr>\n",
       "      <th>5</th>\n",
       "      <td>Kecepatan A</td>\n",
       "      <td>22.86</td>\n",
       "    </tr>\n",
       "    <tr>\n",
       "      <th>6</th>\n",
       "      <td>Mx Kec</td>\n",
       "      <td>22.24</td>\n",
       "    </tr>\n",
       "    <tr>\n",
       "      <th>1</th>\n",
       "      <td>Min</td>\n",
       "      <td>19.33</td>\n",
       "    </tr>\n",
       "    <tr>\n",
       "      <th>0</th>\n",
       "      <td>Max</td>\n",
       "      <td>8.81</td>\n",
       "    </tr>\n",
       "    <tr>\n",
       "      <th>3</th>\n",
       "      <td>Sun Day</td>\n",
       "      <td>3.89</td>\n",
       "    </tr>\n",
       "    <tr>\n",
       "      <th>4</th>\n",
       "      <td>Curah Hujan</td>\n",
       "      <td>1.57</td>\n",
       "    </tr>\n",
       "  </tbody>\n",
       "</table>\n",
       "</div>"
      ],
      "text/plain": [
       "      Features    VIF\n",
       "2         Tavg  36.88\n",
       "5  Kecepatan A  22.86\n",
       "6       Mx Kec  22.24\n",
       "1          Min  19.33\n",
       "0          Max   8.81\n",
       "3      Sun Day   3.89\n",
       "4  Curah Hujan   1.57"
      ]
     },
     "execution_count": 62,
     "metadata": {},
     "output_type": "execute_result"
    }
   ],
   "source": [
    "# Check for the VIF values of the feature variables. \n",
    "from statsmodels.stats.outliers_influence import variance_inflation_factor\n",
    "\n",
    "# Create a dataframe that will contain the names of all the feature variables and their respective VIFs\n",
    "vif = pd.DataFrame()\n",
    "vif['Features'] = X_train_new.columns\n",
    "vif['VIF'] = [variance_inflation_factor(X_train_new.values, i) for i in range(X_train_new.shape[1])]\n",
    "vif['VIF'] = round(vif['VIF'], 2)\n",
    "vif = vif.sort_values(by = \"VIF\", ascending = False)\n",
    "vif"
   ]
  },
  {
   "cell_type": "code",
   "execution_count": 63,
   "metadata": {
    "execution": {
     "iopub.execute_input": "2024-01-27T03:58:56.669397Z",
     "iopub.status.busy": "2024-01-27T03:58:56.668630Z",
     "iopub.status.idle": "2024-01-27T03:58:56.677865Z",
     "shell.execute_reply": "2024-01-27T03:58:56.678466Z",
     "shell.execute_reply.started": "2024-01-27T03:40:25.076765Z"
    },
    "papermill": {
     "duration": 0.185038,
     "end_time": "2024-01-27T03:58:56.678629",
     "exception": false,
     "start_time": "2024-01-27T03:58:56.493591",
     "status": "completed"
    },
    "tags": []
   },
   "outputs": [],
   "source": [
    "# Add a constant\n",
    "X_train_lm3 = sm.add_constant(X_train_new)\n",
    "\n",
    "# Create a first fitted model\n",
    "lr3 = sm.OLS(y_train, X_train_lm3).fit()"
   ]
  },
  {
   "cell_type": "code",
   "execution_count": 64,
   "metadata": {
    "execution": {
     "iopub.execute_input": "2024-01-27T03:58:56.996225Z",
     "iopub.status.busy": "2024-01-27T03:58:56.991348Z",
     "iopub.status.idle": "2024-01-27T03:58:57.001316Z",
     "shell.execute_reply": "2024-01-27T03:58:57.000733Z",
     "shell.execute_reply.started": "2024-01-27T03:40:25.086013Z"
    },
    "papermill": {
     "duration": 0.1674,
     "end_time": "2024-01-27T03:58:57.001450",
     "exception": false,
     "start_time": "2024-01-27T03:58:56.834050",
     "status": "completed"
    },
    "tags": []
   },
   "outputs": [
    {
     "data": {
      "text/plain": [
       "const          0.565672\n",
       "Max            1.340528\n",
       "Min            0.972377\n",
       "Tavg          -2.122697\n",
       "Sun Day       -0.573824\n",
       "Curah Hujan    0.002078\n",
       "Kecepatan A    0.665762\n",
       "Mx Kec        -0.007213\n",
       "dtype: float64"
      ]
     },
     "execution_count": 64,
     "metadata": {},
     "output_type": "execute_result"
    }
   ],
   "source": [
    "lr3.params"
   ]
  },
  {
   "cell_type": "code",
   "execution_count": 65,
   "metadata": {
    "execution": {
     "iopub.execute_input": "2024-01-27T03:58:57.328311Z",
     "iopub.status.busy": "2024-01-27T03:58:57.321479Z",
     "iopub.status.idle": "2024-01-27T03:58:57.335554Z",
     "shell.execute_reply": "2024-01-27T03:58:57.336279Z",
     "shell.execute_reply.started": "2024-01-27T03:40:25.100898Z"
    },
    "papermill": {
     "duration": 0.179075,
     "end_time": "2024-01-27T03:58:57.336444",
     "exception": false,
     "start_time": "2024-01-27T03:58:57.157369",
     "status": "completed"
    },
    "tags": []
   },
   "outputs": [
    {
     "name": "stdout",
     "output_type": "stream",
     "text": [
      "                             OLS Regression Results                             \n",
      "================================================================================\n",
      "Dep. Variable:     Produktivitas Mangga   R-squared:                       0.505\n",
      "Model:                              OLS   Adj. R-squared:                  0.332\n",
      "Method:                   Least Squares   F-statistic:                     2.917\n",
      "Date:                  Sat, 27 Jan 2024   Prob (F-statistic):             0.0283\n",
      "Time:                          03:58:57   Log-Likelihood:                -2.0228\n",
      "No. Observations:                    28   AIC:                             20.05\n",
      "Df Residuals:                        20   BIC:                             30.70\n",
      "Df Model:                             7                                         \n",
      "Covariance Type:              nonrobust                                         \n",
      "===============================================================================\n",
      "                  coef    std err          t      P>|t|      [0.025      0.975]\n",
      "-------------------------------------------------------------------------------\n",
      "const           0.5657      0.299      1.894      0.073      -0.057       1.189\n",
      "Max             1.3405      0.357      3.750      0.001       0.595       2.086\n",
      "Min             0.9724      0.496      1.960      0.064      -0.062       2.007\n",
      "Tavg           -2.1227      0.587     -3.617      0.002      -3.347      -0.898\n",
      "Sun Day        -0.5738      0.297     -1.932      0.068      -1.193       0.046\n",
      "Curah Hujan     0.0021      0.418      0.005      0.996      -0.870       0.875\n",
      "Kecepatan A     0.6658      0.552      1.207      0.242      -0.485       1.817\n",
      "Mx Kec         -0.0072      0.466     -0.015      0.988      -0.979       0.965\n",
      "==============================================================================\n",
      "Omnibus:                        1.289   Durbin-Watson:                   2.147\n",
      "Prob(Omnibus):                  0.525   Jarque-Bera (JB):                1.224\n",
      "Skew:                          -0.423   Prob(JB):                        0.542\n",
      "Kurtosis:                       2.423   Cond. No.                         22.2\n",
      "==============================================================================\n",
      "\n",
      "Warnings:\n",
      "[1] Standard Errors assume that the covariance matrix of the errors is correctly specified.\n"
     ]
    }
   ],
   "source": [
    "# Print a summary of the linear regression model obtained\n",
    "print(lr3.summary())"
   ]
  },
  {
   "cell_type": "markdown",
   "metadata": {
    "papermill": {
     "duration": 0.156713,
     "end_time": "2024-01-27T03:58:57.652535",
     "exception": false,
     "start_time": "2024-01-27T03:58:57.495822",
     "status": "completed"
    },
    "tags": []
   },
   "source": [
    "## Model 4"
   ]
  },
  {
   "cell_type": "markdown",
   "metadata": {
    "papermill": {
     "duration": 0.154949,
     "end_time": "2024-01-27T03:58:57.966076",
     "exception": false,
     "start_time": "2024-01-27T03:58:57.811127",
     "status": "completed"
    },
    "tags": []
   },
   "source": [
    "- Removing the variable 'season3' based on its Very High 'VIF' value.\n",
    "- Even though the VIF of season3 is second highest, we decided to drop 'season3' and not 'temp' based on general knowledge that temperature can be an important factor for a business like bike rentals, and wanted to retain 'temp'."
   ]
  },
  {
   "cell_type": "code",
   "execution_count": 66,
   "metadata": {
    "execution": {
     "iopub.execute_input": "2024-01-27T03:58:58.281270Z",
     "iopub.status.busy": "2024-01-27T03:58:58.280512Z",
     "iopub.status.idle": "2024-01-27T03:58:58.286511Z",
     "shell.execute_reply": "2024-01-27T03:58:58.287128Z",
     "shell.execute_reply.started": "2024-01-27T03:40:25.118976Z"
    },
    "papermill": {
     "duration": 0.165862,
     "end_time": "2024-01-27T03:58:58.287297",
     "exception": false,
     "start_time": "2024-01-27T03:58:58.121435",
     "status": "completed"
    },
    "tags": []
   },
   "outputs": [],
   "source": [
    "X_train_new = X_train_new.drop([\"Tavg\"], axis = 1)"
   ]
  },
  {
   "cell_type": "markdown",
   "metadata": {
    "papermill": {
     "duration": 0.157442,
     "end_time": "2024-01-27T03:58:58.601954",
     "exception": false,
     "start_time": "2024-01-27T03:58:58.444512",
     "status": "completed"
    },
    "tags": []
   },
   "source": [
    "### VIF Check"
   ]
  },
  {
   "cell_type": "code",
   "execution_count": 67,
   "metadata": {
    "execution": {
     "iopub.execute_input": "2024-01-27T03:58:58.920531Z",
     "iopub.status.busy": "2024-01-27T03:58:58.919743Z",
     "iopub.status.idle": "2024-01-27T03:58:58.943828Z",
     "shell.execute_reply": "2024-01-27T03:58:58.944492Z",
     "shell.execute_reply.started": "2024-01-27T03:40:25.124331Z"
    },
    "papermill": {
     "duration": 0.184106,
     "end_time": "2024-01-27T03:58:58.944669",
     "exception": false,
     "start_time": "2024-01-27T03:58:58.760563",
     "status": "completed"
    },
    "tags": []
   },
   "outputs": [
    {
     "data": {
      "text/html": [
       "<div>\n",
       "<style scoped>\n",
       "    .dataframe tbody tr th:only-of-type {\n",
       "        vertical-align: middle;\n",
       "    }\n",
       "\n",
       "    .dataframe tbody tr th {\n",
       "        vertical-align: top;\n",
       "    }\n",
       "\n",
       "    .dataframe thead th {\n",
       "        text-align: right;\n",
       "    }\n",
       "</style>\n",
       "<table border=\"1\" class=\"dataframe\">\n",
       "  <thead>\n",
       "    <tr style=\"text-align: right;\">\n",
       "      <th></th>\n",
       "      <th>Features</th>\n",
       "      <th>VIF</th>\n",
       "    </tr>\n",
       "  </thead>\n",
       "  <tbody>\n",
       "    <tr>\n",
       "      <th>4</th>\n",
       "      <td>Kecepatan A</td>\n",
       "      <td>22.76</td>\n",
       "    </tr>\n",
       "    <tr>\n",
       "      <th>5</th>\n",
       "      <td>Mx Kec</td>\n",
       "      <td>22.09</td>\n",
       "    </tr>\n",
       "    <tr>\n",
       "      <th>1</th>\n",
       "      <td>Min</td>\n",
       "      <td>5.20</td>\n",
       "    </tr>\n",
       "    <tr>\n",
       "      <th>0</th>\n",
       "      <td>Max</td>\n",
       "      <td>4.54</td>\n",
       "    </tr>\n",
       "    <tr>\n",
       "      <th>2</th>\n",
       "      <td>Sun Day</td>\n",
       "      <td>3.65</td>\n",
       "    </tr>\n",
       "    <tr>\n",
       "      <th>3</th>\n",
       "      <td>Curah Hujan</td>\n",
       "      <td>1.52</td>\n",
       "    </tr>\n",
       "  </tbody>\n",
       "</table>\n",
       "</div>"
      ],
      "text/plain": [
       "      Features    VIF\n",
       "4  Kecepatan A  22.76\n",
       "5       Mx Kec  22.09\n",
       "1          Min   5.20\n",
       "0          Max   4.54\n",
       "2      Sun Day   3.65\n",
       "3  Curah Hujan   1.52"
      ]
     },
     "execution_count": 67,
     "metadata": {},
     "output_type": "execute_result"
    }
   ],
   "source": [
    "# Check for the VIF values of the feature variables. \n",
    "from statsmodels.stats.outliers_influence import variance_inflation_factor\n",
    "\n",
    "# Create a dataframe that will contain the names of all the feature variables and their respective VIFs\n",
    "vif = pd.DataFrame()\n",
    "vif['Features'] = X_train_new.columns\n",
    "vif['VIF'] = [variance_inflation_factor(X_train_new.values, i) for i in range(X_train_new.shape[1])]\n",
    "vif['VIF'] = round(vif['VIF'], 2)\n",
    "vif = vif.sort_values(by = \"VIF\", ascending = False)\n",
    "vif"
   ]
  },
  {
   "cell_type": "code",
   "execution_count": 68,
   "metadata": {
    "execution": {
     "iopub.execute_input": "2024-01-27T03:58:59.265917Z",
     "iopub.status.busy": "2024-01-27T03:58:59.265119Z",
     "iopub.status.idle": "2024-01-27T03:58:59.274285Z",
     "shell.execute_reply": "2024-01-27T03:58:59.274895Z",
     "shell.execute_reply.started": "2024-01-27T03:40:25.149546Z"
    },
    "papermill": {
     "duration": 0.17047,
     "end_time": "2024-01-27T03:58:59.275057",
     "exception": false,
     "start_time": "2024-01-27T03:58:59.104587",
     "status": "completed"
    },
    "tags": []
   },
   "outputs": [],
   "source": [
    "# Add a constant\n",
    "X_train_lm4 = sm.add_constant(X_train_new)\n",
    "\n",
    "# Create a first fitted model\n",
    "lr4 = sm.OLS(y_train, X_train_lm4).fit()"
   ]
  },
  {
   "cell_type": "code",
   "execution_count": 69,
   "metadata": {
    "execution": {
     "iopub.execute_input": "2024-01-27T03:58:59.596567Z",
     "iopub.status.busy": "2024-01-27T03:58:59.595827Z",
     "iopub.status.idle": "2024-01-27T03:58:59.598950Z",
     "shell.execute_reply": "2024-01-27T03:58:59.599640Z",
     "shell.execute_reply.started": "2024-01-27T03:40:25.157330Z"
    },
    "papermill": {
     "duration": 0.167204,
     "end_time": "2024-01-27T03:58:59.599814",
     "exception": false,
     "start_time": "2024-01-27T03:58:59.432610",
     "status": "completed"
    },
    "tags": []
   },
   "outputs": [
    {
     "data": {
      "text/plain": [
       "const          0.807115\n",
       "Max            0.430581\n",
       "Min           -0.485183\n",
       "Sun Day       -0.551181\n",
       "Curah Hujan   -0.428066\n",
       "Kecepatan A    0.487477\n",
       "Mx Kec        -0.167034\n",
       "dtype: float64"
      ]
     },
     "execution_count": 69,
     "metadata": {},
     "output_type": "execute_result"
    }
   ],
   "source": [
    "# Check the parameters obtained\n",
    "\n",
    "lr4.params"
   ]
  },
  {
   "cell_type": "code",
   "execution_count": 70,
   "metadata": {
    "execution": {
     "iopub.execute_input": "2024-01-27T03:58:59.917836Z",
     "iopub.status.busy": "2024-01-27T03:58:59.916953Z",
     "iopub.status.idle": "2024-01-27T03:58:59.936261Z",
     "shell.execute_reply": "2024-01-27T03:58:59.936867Z",
     "shell.execute_reply.started": "2024-01-27T03:40:25.169825Z"
    },
    "papermill": {
     "duration": 0.180512,
     "end_time": "2024-01-27T03:58:59.937107",
     "exception": false,
     "start_time": "2024-01-27T03:58:59.756595",
     "status": "completed"
    },
    "tags": []
   },
   "outputs": [
    {
     "name": "stdout",
     "output_type": "stream",
     "text": [
      "                             OLS Regression Results                             \n",
      "================================================================================\n",
      "Dep. Variable:     Produktivitas Mangga   R-squared:                       0.181\n",
      "Model:                              OLS   Adj. R-squared:                 -0.052\n",
      "Method:                   Least Squares   F-statistic:                    0.7761\n",
      "Date:                  Sat, 27 Jan 2024   Prob (F-statistic):              0.598\n",
      "Time:                          03:58:59   Log-Likelihood:                -9.0680\n",
      "No. Observations:                    28   AIC:                             32.14\n",
      "Df Residuals:                        21   BIC:                             41.46\n",
      "Df Model:                             6                                         \n",
      "Covariance Type:              nonrobust                                         \n",
      "===============================================================================\n",
      "                  coef    std err          t      P>|t|      [0.025      0.975]\n",
      "-------------------------------------------------------------------------------\n",
      "const           0.8071      0.365      2.209      0.038       0.047       1.567\n",
      "Max             0.4306      0.319      1.351      0.191      -0.232       1.093\n",
      "Min            -0.4852      0.363     -1.337      0.196      -1.240       0.270\n",
      "Sun Day        -0.5512      0.373     -1.479      0.154      -1.326       0.224\n",
      "Curah Hujan    -0.4281      0.503     -0.851      0.405      -1.475       0.619\n",
      "Kecepatan A     0.4875      0.690      0.707      0.487      -0.947       1.922\n",
      "Mx Kec         -0.1670      0.582     -0.287      0.777      -1.378       1.044\n",
      "==============================================================================\n",
      "Omnibus:                        1.767   Durbin-Watson:                   2.426\n",
      "Prob(Omnibus):                  0.413   Jarque-Bera (JB):                1.105\n",
      "Skew:                          -0.137   Prob(JB):                        0.576\n",
      "Kurtosis:                       2.066   Cond. No.                         18.1\n",
      "==============================================================================\n",
      "\n",
      "Warnings:\n",
      "[1] Standard Errors assume that the covariance matrix of the errors is correctly specified.\n"
     ]
    }
   ],
   "source": [
    "# Print a summary of the linear regression model obtained\n",
    "print(lr4.summary())"
   ]
  },
  {
   "cell_type": "markdown",
   "metadata": {
    "papermill": {
     "duration": 0.15956,
     "end_time": "2024-01-27T03:59:00.256924",
     "exception": false,
     "start_time": "2024-01-27T03:59:00.097364",
     "status": "completed"
    },
    "tags": []
   },
   "source": [
    "## Model 5"
   ]
  },
  {
   "cell_type": "markdown",
   "metadata": {
    "papermill": {
     "duration": 0.15657,
     "end_time": "2024-01-27T03:59:00.571458",
     "exception": false,
     "start_time": "2024-01-27T03:59:00.414888",
     "status": "completed"
    },
    "tags": []
   },
   "source": [
    "- Removing the variable 'mnth_10' based on its Very High p-value."
   ]
  },
  {
   "cell_type": "code",
   "execution_count": 71,
   "metadata": {
    "execution": {
     "iopub.execute_input": "2024-01-27T03:59:00.893556Z",
     "iopub.status.busy": "2024-01-27T03:59:00.892793Z",
     "iopub.status.idle": "2024-01-27T03:59:00.895591Z",
     "shell.execute_reply": "2024-01-27T03:59:00.896223Z",
     "shell.execute_reply.started": "2024-01-27T03:40:25.189712Z"
    },
    "papermill": {
     "duration": 0.167668,
     "end_time": "2024-01-27T03:59:00.896388",
     "exception": false,
     "start_time": "2024-01-27T03:59:00.728720",
     "status": "completed"
    },
    "tags": []
   },
   "outputs": [],
   "source": [
    "X_train_new = X_train_new.drop([\"Mx Kec\"], axis = 1)"
   ]
  },
  {
   "cell_type": "markdown",
   "metadata": {
    "papermill": {
     "duration": 0.157974,
     "end_time": "2024-01-27T03:59:01.258838",
     "exception": false,
     "start_time": "2024-01-27T03:59:01.100864",
     "status": "completed"
    },
    "tags": []
   },
   "source": [
    "### VIF Check"
   ]
  },
  {
   "cell_type": "code",
   "execution_count": 72,
   "metadata": {
    "execution": {
     "iopub.execute_input": "2024-01-27T03:59:01.578345Z",
     "iopub.status.busy": "2024-01-27T03:59:01.577249Z",
     "iopub.status.idle": "2024-01-27T03:59:01.600363Z",
     "shell.execute_reply": "2024-01-27T03:59:01.599565Z",
     "shell.execute_reply.started": "2024-01-27T03:40:25.197457Z"
    },
    "papermill": {
     "duration": 0.183914,
     "end_time": "2024-01-27T03:59:01.600496",
     "exception": false,
     "start_time": "2024-01-27T03:59:01.416582",
     "status": "completed"
    },
    "tags": []
   },
   "outputs": [
    {
     "data": {
      "text/html": [
       "<div>\n",
       "<style scoped>\n",
       "    .dataframe tbody tr th:only-of-type {\n",
       "        vertical-align: middle;\n",
       "    }\n",
       "\n",
       "    .dataframe tbody tr th {\n",
       "        vertical-align: top;\n",
       "    }\n",
       "\n",
       "    .dataframe thead th {\n",
       "        text-align: right;\n",
       "    }\n",
       "</style>\n",
       "<table border=\"1\" class=\"dataframe\">\n",
       "  <thead>\n",
       "    <tr style=\"text-align: right;\">\n",
       "      <th></th>\n",
       "      <th>Features</th>\n",
       "      <th>VIF</th>\n",
       "    </tr>\n",
       "  </thead>\n",
       "  <tbody>\n",
       "    <tr>\n",
       "      <th>1</th>\n",
       "      <td>Min</td>\n",
       "      <td>5.01</td>\n",
       "    </tr>\n",
       "    <tr>\n",
       "      <th>4</th>\n",
       "      <td>Kecepatan A</td>\n",
       "      <td>4.95</td>\n",
       "    </tr>\n",
       "    <tr>\n",
       "      <th>0</th>\n",
       "      <td>Max</td>\n",
       "      <td>4.38</td>\n",
       "    </tr>\n",
       "    <tr>\n",
       "      <th>2</th>\n",
       "      <td>Sun Day</td>\n",
       "      <td>3.45</td>\n",
       "    </tr>\n",
       "    <tr>\n",
       "      <th>3</th>\n",
       "      <td>Curah Hujan</td>\n",
       "      <td>1.50</td>\n",
       "    </tr>\n",
       "  </tbody>\n",
       "</table>\n",
       "</div>"
      ],
      "text/plain": [
       "      Features   VIF\n",
       "1          Min  5.01\n",
       "4  Kecepatan A  4.95\n",
       "0          Max  4.38\n",
       "2      Sun Day  3.45\n",
       "3  Curah Hujan  1.50"
      ]
     },
     "execution_count": 72,
     "metadata": {},
     "output_type": "execute_result"
    }
   ],
   "source": [
    "# Check for the VIF values of the feature variables. \n",
    "from statsmodels.stats.outliers_influence import variance_inflation_factor\n",
    "\n",
    "# Create a dataframe that will contain the names of all the feature variables and their respective VIFs\n",
    "vif = pd.DataFrame()\n",
    "vif['Features'] = X_train_new.columns\n",
    "vif['VIF'] = [variance_inflation_factor(X_train_new.values, i) for i in range(X_train_new.shape[1])]\n",
    "vif['VIF'] = round(vif['VIF'], 2)\n",
    "vif = vif.sort_values(by = \"VIF\", ascending = False)\n",
    "vif"
   ]
  },
  {
   "cell_type": "code",
   "execution_count": 73,
   "metadata": {
    "execution": {
     "iopub.execute_input": "2024-01-27T03:59:01.920508Z",
     "iopub.status.busy": "2024-01-27T03:59:01.919154Z",
     "iopub.status.idle": "2024-01-27T03:59:01.929393Z",
     "shell.execute_reply": "2024-01-27T03:59:01.929960Z",
     "shell.execute_reply.started": "2024-01-27T03:40:25.221441Z"
    },
    "papermill": {
     "duration": 0.171561,
     "end_time": "2024-01-27T03:59:01.930150",
     "exception": false,
     "start_time": "2024-01-27T03:59:01.758589",
     "status": "completed"
    },
    "tags": []
   },
   "outputs": [],
   "source": [
    "# Add a constant\n",
    "X_train_lm5 = sm.add_constant(X_train_new)\n",
    "\n",
    "# Create a first fitted model\n",
    "lr5 = sm.OLS(y_train, X_train_lm5).fit()"
   ]
  },
  {
   "cell_type": "code",
   "execution_count": 74,
   "metadata": {
    "execution": {
     "iopub.execute_input": "2024-01-27T03:59:02.251661Z",
     "iopub.status.busy": "2024-01-27T03:59:02.250468Z",
     "iopub.status.idle": "2024-01-27T03:59:02.259668Z",
     "shell.execute_reply": "2024-01-27T03:59:02.259021Z",
     "shell.execute_reply.started": "2024-01-27T03:40:25.231435Z"
    },
    "papermill": {
     "duration": 0.172257,
     "end_time": "2024-01-27T03:59:02.259842",
     "exception": false,
     "start_time": "2024-01-27T03:59:02.087585",
     "status": "completed"
    },
    "tags": []
   },
   "outputs": [
    {
     "data": {
      "text/plain": [
       "const          0.802080\n",
       "Max            0.413532\n",
       "Min           -0.496285\n",
       "Sun Day       -0.529769\n",
       "Curah Hujan   -0.435336\n",
       "Kecepatan A    0.314234\n",
       "dtype: float64"
      ]
     },
     "execution_count": 74,
     "metadata": {},
     "output_type": "execute_result"
    }
   ],
   "source": [
    "# Check the parameters obtained\n",
    "\n",
    "lr5.params"
   ]
  },
  {
   "cell_type": "code",
   "execution_count": 75,
   "metadata": {
    "execution": {
     "iopub.execute_input": "2024-01-27T03:59:02.587681Z",
     "iopub.status.busy": "2024-01-27T03:59:02.586552Z",
     "iopub.status.idle": "2024-01-27T03:59:02.600393Z",
     "shell.execute_reply": "2024-01-27T03:59:02.600993Z",
     "shell.execute_reply.started": "2024-01-27T03:40:25.245273Z"
    },
    "papermill": {
     "duration": 0.180446,
     "end_time": "2024-01-27T03:59:02.601167",
     "exception": false,
     "start_time": "2024-01-27T03:59:02.420721",
     "status": "completed"
    },
    "tags": []
   },
   "outputs": [
    {
     "name": "stdout",
     "output_type": "stream",
     "text": [
      "                             OLS Regression Results                             \n",
      "================================================================================\n",
      "Dep. Variable:     Produktivitas Mangga   R-squared:                       0.178\n",
      "Model:                              OLS   Adj. R-squared:                 -0.008\n",
      "Method:                   Least Squares   F-statistic:                    0.9546\n",
      "Date:                  Sat, 27 Jan 2024   Prob (F-statistic):              0.466\n",
      "Time:                          03:59:02   Log-Likelihood:                -9.1228\n",
      "No. Observations:                    28   AIC:                             30.25\n",
      "Df Residuals:                        22   BIC:                             38.24\n",
      "Df Model:                             5                                         \n",
      "Covariance Type:              nonrobust                                         \n",
      "===============================================================================\n",
      "                  coef    std err          t      P>|t|      [0.025      0.975]\n",
      "-------------------------------------------------------------------------------\n",
      "const           0.8021      0.357      2.245      0.035       0.061       1.543\n",
      "Max             0.4135      0.307      1.349      0.191      -0.222       1.049\n",
      "Min            -0.4963      0.353     -1.405      0.174      -1.229       0.236\n",
      "Sun Day        -0.5298      0.357     -1.482      0.153      -1.271       0.212\n",
      "Curah Hujan    -0.4353      0.492     -0.885      0.386      -1.456       0.585\n",
      "Kecepatan A     0.3142      0.326      0.963      0.346      -0.363       0.991\n",
      "==============================================================================\n",
      "Omnibus:                        1.856   Durbin-Watson:                   2.428\n",
      "Prob(Omnibus):                  0.395   Jarque-Bera (JB):                1.168\n",
      "Skew:                          -0.180   Prob(JB):                        0.558\n",
      "Kurtosis:                       2.066   Cond. No.                         12.7\n",
      "==============================================================================\n",
      "\n",
      "Warnings:\n",
      "[1] Standard Errors assume that the covariance matrix of the errors is correctly specified.\n"
     ]
    }
   ],
   "source": [
    "# Print a summary of the linear regression model obtained\n",
    "print(lr5.summary())"
   ]
  },
  {
   "cell_type": "markdown",
   "metadata": {
    "papermill": {
     "duration": 0.160825,
     "end_time": "2024-01-27T03:59:02.922049",
     "exception": false,
     "start_time": "2024-01-27T03:59:02.761224",
     "status": "completed"
    },
    "tags": []
   },
   "source": [
    "## Model 6"
   ]
  },
  {
   "cell_type": "code",
   "execution_count": 76,
   "metadata": {
    "execution": {
     "iopub.execute_input": "2024-01-27T03:59:03.245682Z",
     "iopub.status.busy": "2024-01-27T03:59:03.244582Z",
     "iopub.status.idle": "2024-01-27T03:59:03.250976Z",
     "shell.execute_reply": "2024-01-27T03:59:03.251584Z",
     "shell.execute_reply.started": "2024-01-27T03:40:25.263624Z"
    },
    "papermill": {
     "duration": 0.170129,
     "end_time": "2024-01-27T03:59:03.251777",
     "exception": false,
     "start_time": "2024-01-27T03:59:03.081648",
     "status": "completed"
    },
    "tags": []
   },
   "outputs": [],
   "source": [
    "X_train_new = X_train_new.drop([\"Curah Hujan\"], axis = 1)"
   ]
  },
  {
   "cell_type": "markdown",
   "metadata": {
    "papermill": {
     "duration": 0.159594,
     "end_time": "2024-01-27T03:59:03.571278",
     "exception": false,
     "start_time": "2024-01-27T03:59:03.411684",
     "status": "completed"
    },
    "tags": []
   },
   "source": [
    "### VIF Check"
   ]
  },
  {
   "cell_type": "code",
   "execution_count": 77,
   "metadata": {
    "execution": {
     "iopub.execute_input": "2024-01-27T03:59:03.897524Z",
     "iopub.status.busy": "2024-01-27T03:59:03.896398Z",
     "iopub.status.idle": "2024-01-27T03:59:03.920652Z",
     "shell.execute_reply": "2024-01-27T03:59:03.921204Z",
     "shell.execute_reply.started": "2024-01-27T03:40:25.271139Z"
    },
    "papermill": {
     "duration": 0.19139,
     "end_time": "2024-01-27T03:59:03.921368",
     "exception": false,
     "start_time": "2024-01-27T03:59:03.729978",
     "status": "completed"
    },
    "tags": []
   },
   "outputs": [
    {
     "data": {
      "text/html": [
       "<div>\n",
       "<style scoped>\n",
       "    .dataframe tbody tr th:only-of-type {\n",
       "        vertical-align: middle;\n",
       "    }\n",
       "\n",
       "    .dataframe tbody tr th {\n",
       "        vertical-align: top;\n",
       "    }\n",
       "\n",
       "    .dataframe thead th {\n",
       "        text-align: right;\n",
       "    }\n",
       "</style>\n",
       "<table border=\"1\" class=\"dataframe\">\n",
       "  <thead>\n",
       "    <tr style=\"text-align: right;\">\n",
       "      <th></th>\n",
       "      <th>Features</th>\n",
       "      <th>VIF</th>\n",
       "    </tr>\n",
       "  </thead>\n",
       "  <tbody>\n",
       "    <tr>\n",
       "      <th>3</th>\n",
       "      <td>Kecepatan A</td>\n",
       "      <td>4.82</td>\n",
       "    </tr>\n",
       "    <tr>\n",
       "      <th>0</th>\n",
       "      <td>Max</td>\n",
       "      <td>4.34</td>\n",
       "    </tr>\n",
       "    <tr>\n",
       "      <th>1</th>\n",
       "      <td>Min</td>\n",
       "      <td>4.05</td>\n",
       "    </tr>\n",
       "    <tr>\n",
       "      <th>2</th>\n",
       "      <td>Sun Day</td>\n",
       "      <td>3.40</td>\n",
       "    </tr>\n",
       "  </tbody>\n",
       "</table>\n",
       "</div>"
      ],
      "text/plain": [
       "      Features   VIF\n",
       "3  Kecepatan A  4.82\n",
       "0          Max  4.34\n",
       "1          Min  4.05\n",
       "2      Sun Day  3.40"
      ]
     },
     "execution_count": 77,
     "metadata": {},
     "output_type": "execute_result"
    }
   ],
   "source": [
    "# Check for the VIF values of the feature variables. \n",
    "from statsmodels.stats.outliers_influence import variance_inflation_factor\n",
    "\n",
    "# Create a dataframe that will contain the names of all the feature variables and their respective VIFs\n",
    "vif = pd.DataFrame()\n",
    "vif['Features'] = X_train_new.columns\n",
    "vif['VIF'] = [variance_inflation_factor(X_train_new.values, i) for i in range(X_train_new.shape[1])]\n",
    "vif['VIF'] = round(vif['VIF'], 2)\n",
    "vif = vif.sort_values(by = \"VIF\", ascending = False)\n",
    "vif"
   ]
  },
  {
   "cell_type": "code",
   "execution_count": 78,
   "metadata": {
    "execution": {
     "iopub.execute_input": "2024-01-27T03:59:04.246740Z",
     "iopub.status.busy": "2024-01-27T03:59:04.245955Z",
     "iopub.status.idle": "2024-01-27T03:59:04.254906Z",
     "shell.execute_reply": "2024-01-27T03:59:04.255462Z",
     "shell.execute_reply.started": "2024-01-27T03:40:25.296387Z"
    },
    "papermill": {
     "duration": 0.173266,
     "end_time": "2024-01-27T03:59:04.255638",
     "exception": false,
     "start_time": "2024-01-27T03:59:04.082372",
     "status": "completed"
    },
    "tags": []
   },
   "outputs": [],
   "source": [
    "# Add a constant\n",
    "X_train_lm6 = sm.add_constant(X_train_new)\n",
    "\n",
    "# Create a first fitted model\n",
    "lr6 = sm.OLS(y_train, X_train_lm6).fit()"
   ]
  },
  {
   "cell_type": "code",
   "execution_count": 79,
   "metadata": {
    "execution": {
     "iopub.execute_input": "2024-01-27T03:59:04.582994Z",
     "iopub.status.busy": "2024-01-27T03:59:04.581948Z",
     "iopub.status.idle": "2024-01-27T03:59:04.589593Z",
     "shell.execute_reply": "2024-01-27T03:59:04.590129Z",
     "shell.execute_reply.started": "2024-01-27T03:40:25.305432Z"
    },
    "papermill": {
     "duration": 0.171217,
     "end_time": "2024-01-27T03:59:04.590306",
     "exception": false,
     "start_time": "2024-01-27T03:59:04.419089",
     "status": "completed"
    },
    "tags": []
   },
   "outputs": [
    {
     "data": {
      "text/plain": [
       "const          0.575780\n",
       "Max            0.428921\n",
       "Min           -0.410840\n",
       "Sun Day       -0.387318\n",
       "Kecepatan A    0.403160\n",
       "dtype: float64"
      ]
     },
     "execution_count": 79,
     "metadata": {},
     "output_type": "execute_result"
    }
   ],
   "source": [
    "# Check the parameters obtained\n",
    "\n",
    "lr6.params"
   ]
  },
  {
   "cell_type": "code",
   "execution_count": 80,
   "metadata": {
    "execution": {
     "iopub.execute_input": "2024-01-27T03:59:04.915453Z",
     "iopub.status.busy": "2024-01-27T03:59:04.914404Z",
     "iopub.status.idle": "2024-01-27T03:59:04.931511Z",
     "shell.execute_reply": "2024-01-27T03:59:04.930837Z",
     "shell.execute_reply.started": "2024-01-27T03:40:25.321204Z"
    },
    "papermill": {
     "duration": 0.180718,
     "end_time": "2024-01-27T03:59:04.931651",
     "exception": false,
     "start_time": "2024-01-27T03:59:04.750933",
     "status": "completed"
    },
    "tags": []
   },
   "outputs": [
    {
     "name": "stdout",
     "output_type": "stream",
     "text": [
      "                             OLS Regression Results                             \n",
      "================================================================================\n",
      "Dep. Variable:     Produktivitas Mangga   R-squared:                       0.149\n",
      "Model:                              OLS   Adj. R-squared:                  0.001\n",
      "Method:                   Least Squares   F-statistic:                     1.007\n",
      "Date:                  Sat, 27 Jan 2024   Prob (F-statistic):              0.424\n",
      "Time:                          03:59:04   Log-Likelihood:                -9.6123\n",
      "No. Observations:                    28   AIC:                             29.22\n",
      "Df Residuals:                        23   BIC:                             35.89\n",
      "Df Model:                             4                                         \n",
      "Covariance Type:              nonrobust                                         \n",
      "===============================================================================\n",
      "                  coef    std err          t      P>|t|      [0.025      0.975]\n",
      "-------------------------------------------------------------------------------\n",
      "const           0.5758      0.248      2.318      0.030       0.062       1.090\n",
      "Max             0.4289      0.305      1.408      0.172      -0.201       1.059\n",
      "Min            -0.4108      0.338     -1.215      0.237      -1.110       0.289\n",
      "Sun Day        -0.3873      0.318     -1.219      0.235      -1.044       0.270\n",
      "Kecepatan A     0.4032      0.309      1.305      0.205      -0.236       1.042\n",
      "==============================================================================\n",
      "Omnibus:                        1.258   Durbin-Watson:                   2.476\n",
      "Prob(Omnibus):                  0.533   Jarque-Bera (JB):                0.921\n",
      "Skew:                          -0.100   Prob(JB):                        0.631\n",
      "Kurtosis:                       2.135   Cond. No.                         9.53\n",
      "==============================================================================\n",
      "\n",
      "Warnings:\n",
      "[1] Standard Errors assume that the covariance matrix of the errors is correctly specified.\n"
     ]
    }
   ],
   "source": [
    "# Print a summary of the linear regression model obtained\n",
    "print(lr6.summary())"
   ]
  },
  {
   "cell_type": "markdown",
   "metadata": {
    "papermill": {
     "duration": 0.167374,
     "end_time": "2024-01-27T03:59:05.260311",
     "exception": false,
     "start_time": "2024-01-27T03:59:05.092937",
     "status": "completed"
    },
    "tags": []
   },
   "source": [
    "# Final Model Interpretation"
   ]
  },
  {
   "cell_type": "markdown",
   "metadata": {
    "papermill": {
     "duration": 0.160607,
     "end_time": "2024-01-27T03:59:05.585131",
     "exception": false,
     "start_time": "2024-01-27T03:59:05.424524",
     "status": "completed"
    },
    "tags": []
   },
   "source": [
    "## Hypothesis Testing:"
   ]
  },
  {
   "cell_type": "markdown",
   "metadata": {
    "papermill": {
     "duration": 0.160605,
     "end_time": "2024-01-27T03:59:05.907119",
     "exception": false,
     "start_time": "2024-01-27T03:59:05.746514",
     "status": "completed"
    },
    "tags": []
   },
   "source": [
    "Hypothesis testing states that:\n",
    "- H0:B1=B2=...=Bn=0 \n",
    "- H1:  at least one  Bi!=0"
   ]
  },
  {
   "cell_type": "markdown",
   "metadata": {
    "papermill": {
     "duration": 0.162123,
     "end_time": "2024-01-27T03:59:06.231602",
     "exception": false,
     "start_time": "2024-01-27T03:59:06.069479",
     "status": "completed"
    },
    "tags": []
   },
   "source": [
    "### lr5 model coefficient values"
   ]
  },
  {
   "cell_type": "markdown",
   "metadata": {
    "papermill": {
     "duration": 0.184616,
     "end_time": "2024-01-27T03:59:06.579092",
     "exception": false,
     "start_time": "2024-01-27T03:59:06.394476",
     "status": "completed"
    },
    "tags": []
   },
   "source": [
    "- const 0.0189      \n",
    "- max 0.2225      \n",
    "- Tavg 0.1514      \n",
    "- Sun Day 0.0270            \n",
    "- Hari Hujan 0.0813\n",
    "- Mx Kecepatam "
   ]
  },
  {
   "cell_type": "markdown",
   "metadata": {
    "papermill": {
     "duration": 0.162564,
     "end_time": "2024-01-27T03:59:06.905038",
     "exception": false,
     "start_time": "2024-01-27T03:59:06.742474",
     "status": "completed"
    },
    "tags": []
   },
   "source": [
    "### Insights\n",
    "- From the lr6 model summary, it is evident that all our coefficients are not equal to zerowhich means **We REJECT the NULL HYPOTHESIS**\n",
    "    "
   ]
  },
  {
   "cell_type": "markdown",
   "metadata": {
    "papermill": {
     "duration": 0.161933,
     "end_time": "2024-01-27T03:59:07.227544",
     "exception": false,
     "start_time": "2024-01-27T03:59:07.065611",
     "status": "completed"
    },
    "tags": []
   },
   "source": [
    "### F Statistics"
   ]
  },
  {
   "cell_type": "markdown",
   "metadata": {
    "papermill": {
     "duration": 0.160751,
     "end_time": "2024-01-27T03:59:07.551579",
     "exception": false,
     "start_time": "2024-01-27T03:59:07.390828",
     "status": "completed"
    },
    "tags": []
   },
   "source": [
    "F-Statistics is used for testing the overall significance of the Model: Higher the F-Statistics, more significant the Model is.\n",
    "\n",
    "- F-statistic: 2.673\n",
    "- Prob (F-statistic): 0.0493\n",
    "\n",
    "The F-Statistics value of 2.673 (which is greater than 1) and the p-value is not'~0.0000' states that the overall model is ***not significant***"
   ]
  },
  {
   "cell_type": "markdown",
   "metadata": {
    "papermill": {
     "duration": 0.162113,
     "end_time": "2024-01-27T03:59:07.874548",
     "exception": false,
     "start_time": "2024-01-27T03:59:07.712435",
     "status": "completed"
    },
    "tags": []
   },
   "source": [
    "## The equation of best fitted surface based on model lr6:"
   ]
  },
  {
   "cell_type": "markdown",
   "metadata": {
    "papermill": {
     "duration": 0.162142,
     "end_time": "2024-01-27T03:59:08.199610",
     "exception": false,
     "start_time": "2024-01-27T03:59:08.037468",
     "status": "completed"
    },
    "tags": []
   },
   "source": [
    "cnt = 0.0189 + (**Max** × 0.2225) - (**Tavg** × 0.1514) - (**Sun Day** × 0.0270) − (**Hari Hujan** × 0.0813) + (**Mx Kecepatan** × 0.0813)"
   ]
  },
  {
   "cell_type": "markdown",
   "metadata": {
    "papermill": {
     "duration": 0.163983,
     "end_time": "2024-01-27T03:59:08.525242",
     "exception": false,
     "start_time": "2024-01-27T03:59:08.361259",
     "status": "completed"
    },
    "tags": []
   },
   "source": [
    "## Interpretation of Coefficients:\n",
    "**Max:** A coefficient value of ‘0.2225’ Menandakan bahwa setiap suhu maksimum yang bertambah akan berpengaruh positive kepada produktivitas jeruk sebesar 22% namun tidak secara langsung.\n",
    "\n",
    "**Min:** A coefficient value of ‘0.1514’ Menandakan bahwa setiap rata-rata suhu yang bertambah akan berpengaruh kepada produktivitas jeruk sebesar 90% namun tidak secara langsung.indicated that, w.r.t Weathersit1, a unit increase in Weathersit3 variable, decreases the bike hire numbers by 0.3070 units.\n",
    "\n",
    "**Hari Hujan:** A coefficient value of ‘0.0270’ indicated that a unit increase in yr variable, increases the bike hire numbers by 0.2308 units.\n",
    "\n",
    "**Kecepatan A:** A coefficient value of ‘0.0813’ indicated that w.r.t season_1, a unit increase in season_4 variable increases the bike hire numbers by 0.128744 units."
   ]
  },
  {
   "cell_type": "markdown",
   "metadata": {
    "papermill": {
     "duration": 0.162589,
     "end_time": "2024-01-27T03:59:08.849240",
     "exception": false,
     "start_time": "2024-01-27T03:59:08.686651",
     "status": "completed"
    },
    "tags": []
   },
   "source": [
    "# ASSUMPTIONS "
   ]
  },
  {
   "cell_type": "markdown",
   "metadata": {
    "papermill": {
     "duration": 0.162142,
     "end_time": "2024-01-27T03:59:09.172634",
     "exception": false,
     "start_time": "2024-01-27T03:59:09.010492",
     "status": "completed"
    },
    "tags": []
   },
   "source": [
    "## Error terms are normally distributed with mean zero (not X, Y)\n",
    "- Residual Analysis Of Training Data"
   ]
  },
  {
   "cell_type": "code",
   "execution_count": 81,
   "metadata": {
    "execution": {
     "iopub.execute_input": "2024-01-27T03:59:09.500301Z",
     "iopub.status.busy": "2024-01-27T03:59:09.499240Z",
     "iopub.status.idle": "2024-01-27T03:59:09.503987Z",
     "shell.execute_reply": "2024-01-27T03:59:09.504526Z",
     "shell.execute_reply.started": "2024-01-27T03:40:25.340300Z"
    },
    "papermill": {
     "duration": 0.170217,
     "end_time": "2024-01-27T03:59:09.504717",
     "exception": false,
     "start_time": "2024-01-27T03:59:09.334500",
     "status": "completed"
    },
    "tags": []
   },
   "outputs": [],
   "source": [
    "y_train_pred = lr6.predict(X_train_lm6)"
   ]
  },
  {
   "cell_type": "code",
   "execution_count": 82,
   "metadata": {
    "execution": {
     "iopub.execute_input": "2024-01-27T03:59:09.843132Z",
     "iopub.status.busy": "2024-01-27T03:59:09.839542Z",
     "iopub.status.idle": "2024-01-27T03:59:10.042808Z",
     "shell.execute_reply": "2024-01-27T03:59:10.042130Z",
     "shell.execute_reply.started": "2024-01-27T03:40:25.346906Z"
    },
    "papermill": {
     "duration": 0.378284,
     "end_time": "2024-01-27T03:59:10.042949",
     "exception": false,
     "start_time": "2024-01-27T03:59:09.664665",
     "status": "completed"
    },
    "tags": []
   },
   "outputs": [
    {
     "data": {
      "text/plain": [
       "Text(0.5, 0, 'Errors')"
      ]
     },
     "execution_count": 82,
     "metadata": {},
     "output_type": "execute_result"
    },
    {
     "data": {
      "image/png": "[encoded data removed]",
      "text/plain": [
       "<Figure size 432x288 with 1 Axes>"
      ]
     },
     "metadata": {
      "needs_background": "light"
     },
     "output_type": "display_data"
    }
   ],
   "source": [
    "res = y_train-y_train_pred\n",
    "# Plot the histogram of the error terms\n",
    "fig = plt.figure()\n",
    "sns.distplot((res), bins = 20)\n",
    "fig.suptitle('Error Terms', fontsize = 20)                  # Plot heading \n",
    "plt.xlabel('Errors', fontsize = 18)                         # X-label"
   ]
  },
  {
   "cell_type": "markdown",
   "metadata": {
    "papermill": {
     "duration": 0.163003,
     "end_time": "2024-01-27T03:59:10.368712",
     "exception": false,
     "start_time": "2024-01-27T03:59:10.205709",
     "status": "completed"
    },
    "tags": []
   },
   "source": [
    "### Insights\n",
    "- From the above histogram, we could see that the Residuals are not normaly distributed"
   ]
  },
  {
   "cell_type": "markdown",
   "metadata": {
    "papermill": {
     "duration": 0.163063,
     "end_time": "2024-01-27T03:59:10.696254",
     "exception": false,
     "start_time": "2024-01-27T03:59:10.533191",
     "status": "completed"
    },
    "tags": []
   },
   "source": [
    "## There is a linear relationship between X and Y"
   ]
  },
  {
   "cell_type": "code",
   "execution_count": 83,
   "metadata": {
    "execution": {
     "iopub.execute_input": "2024-01-27T03:59:11.029670Z",
     "iopub.status.busy": "2024-01-27T03:59:11.028541Z",
     "iopub.status.idle": "2024-01-27T03:59:42.085196Z",
     "shell.execute_reply": "2024-01-27T03:59:42.085830Z",
     "shell.execute_reply.started": "2024-01-27T03:40:25.501490Z"
    },
    "papermill": {
     "duration": 31.224666,
     "end_time": "2024-01-27T03:59:42.085995",
     "exception": false,
     "start_time": "2024-01-27T03:59:10.861329",
     "status": "completed"
    },
    "tags": []
   },
   "outputs": [
    {
     "data": {
      "image/png": "[encoded data removed]",
      "text/plain": [
       "<Figure size 1800x1800 with 110 Axes>"
      ]
     },
     "metadata": {
      "needs_background": "light"
     },
     "output_type": "display_data"
    }
   ],
   "source": [
    "bike_new=bike_new[['Produktivitas Mangga', 'Min', 'Max', 'Tavg', 'Sun Day', 'Sun Hour',\n",
    "       'Curah Hujan', 'Hari Hujan', 'Kecepatan A', 'Mx Kec']]\n",
    "\n",
    "sns.pairplot(bike_num, diag_kind='kde')\n",
    "plt.show()"
   ]
  },
  {
   "cell_type": "markdown",
   "metadata": {
    "papermill": {
     "duration": 0.169445,
     "end_time": "2024-01-27T03:59:42.425628",
     "exception": false,
     "start_time": "2024-01-27T03:59:42.256183",
     "status": "completed"
    },
    "tags": []
   },
   "source": [
    "## Insight\n",
    "- Using the pair plot, we could see there is a linear relation between temp and atemp variable with the predictor ‘cnt’."
   ]
  },
  {
   "cell_type": "markdown",
   "metadata": {
    "papermill": {
     "duration": 0.170501,
     "end_time": "2024-01-27T03:59:42.767184",
     "exception": false,
     "start_time": "2024-01-27T03:59:42.596683",
     "status": "completed"
    },
    "tags": []
   },
   "source": [
    "## There is No Multicollinearity between the predictor variables"
   ]
  },
  {
   "cell_type": "code",
   "execution_count": 84,
   "metadata": {
    "execution": {
     "iopub.execute_input": "2024-01-27T03:59:43.120967Z",
     "iopub.status.busy": "2024-01-27T03:59:43.120161Z",
     "iopub.status.idle": "2024-01-27T03:59:43.136879Z",
     "shell.execute_reply": "2024-01-27T03:59:43.137474Z",
     "shell.execute_reply.started": "2024-01-27T03:40:48.061834Z"
    },
    "papermill": {
     "duration": 0.196377,
     "end_time": "2024-01-27T03:59:43.137635",
     "exception": false,
     "start_time": "2024-01-27T03:59:42.941258",
     "status": "completed"
    },
    "tags": []
   },
   "outputs": [
    {
     "data": {
      "text/html": [
       "<div>\n",
       "<style scoped>\n",
       "    .dataframe tbody tr th:only-of-type {\n",
       "        vertical-align: middle;\n",
       "    }\n",
       "\n",
       "    .dataframe tbody tr th {\n",
       "        vertical-align: top;\n",
       "    }\n",
       "\n",
       "    .dataframe thead th {\n",
       "        text-align: right;\n",
       "    }\n",
       "</style>\n",
       "<table border=\"1\" class=\"dataframe\">\n",
       "  <thead>\n",
       "    <tr style=\"text-align: right;\">\n",
       "      <th></th>\n",
       "      <th>Features</th>\n",
       "      <th>VIF</th>\n",
       "    </tr>\n",
       "  </thead>\n",
       "  <tbody>\n",
       "    <tr>\n",
       "      <th>3</th>\n",
       "      <td>Kecepatan A</td>\n",
       "      <td>4.82</td>\n",
       "    </tr>\n",
       "    <tr>\n",
       "      <th>0</th>\n",
       "      <td>Max</td>\n",
       "      <td>4.34</td>\n",
       "    </tr>\n",
       "    <tr>\n",
       "      <th>1</th>\n",
       "      <td>Min</td>\n",
       "      <td>4.05</td>\n",
       "    </tr>\n",
       "    <tr>\n",
       "      <th>2</th>\n",
       "      <td>Sun Day</td>\n",
       "      <td>3.40</td>\n",
       "    </tr>\n",
       "  </tbody>\n",
       "</table>\n",
       "</div>"
      ],
      "text/plain": [
       "      Features   VIF\n",
       "3  Kecepatan A  4.82\n",
       "0          Max  4.34\n",
       "1          Min  4.05\n",
       "2      Sun Day  3.40"
      ]
     },
     "execution_count": 84,
     "metadata": {},
     "output_type": "execute_result"
    }
   ],
   "source": [
    "# Check for the VIF values of the feature variables. \n",
    "from statsmodels.stats.outliers_influence import variance_inflation_factor\n",
    "\n",
    "# Create a dataframe that will contain the names of all the feature variables and their respective VIFs\n",
    "vif = pd.DataFrame()\n",
    "vif['Features'] = X_train_new.columns\n",
    "vif['VIF'] = [variance_inflation_factor(X_train_new.values, i) for i in range(X_train_new.shape[1])]\n",
    "vif['VIF'] = round(vif['VIF'], 2)\n",
    "vif = vif.sort_values(by = \"VIF\", ascending = False)\n",
    "vif"
   ]
  },
  {
   "cell_type": "markdown",
   "metadata": {
    "papermill": {
     "duration": 0.171399,
     "end_time": "2024-01-27T03:59:43.482728",
     "exception": false,
     "start_time": "2024-01-27T03:59:43.311329",
     "status": "completed"
    },
    "tags": []
   },
   "source": [
    "## Insight\n",
    "\n",
    " - From the VIF calculation we could find that there is no multicollinearity existing between the predictor variables, as all the values are within permissible range of below 5"
   ]
  },
  {
   "cell_type": "markdown",
   "metadata": {
    "papermill": {
     "duration": 0.170568,
     "end_time": "2024-01-27T03:59:43.824814",
     "exception": false,
     "start_time": "2024-01-27T03:59:43.654246",
     "status": "completed"
    },
    "tags": []
   },
   "source": [
    "# MAKING PREDICTION USING FINAL MODEL\n",
    "\n",
    "Now that we have fitted the model and checked the assumptions, it's time to go ahead and make predictions using the final model (lr6)\n",
    "\n",
    "### Applying the scaling on the test sets"
   ]
  },
  {
   "cell_type": "code",
   "execution_count": 85,
   "metadata": {
    "execution": {
     "iopub.execute_input": "2024-01-27T03:59:44.175076Z",
     "iopub.status.busy": "2024-01-27T03:59:44.174004Z",
     "iopub.status.idle": "2024-01-27T03:59:44.188133Z",
     "shell.execute_reply": "2024-01-27T03:59:44.188685Z",
     "shell.execute_reply.started": "2024-01-27T03:40:48.082708Z"
    },
    "papermill": {
     "duration": 0.190243,
     "end_time": "2024-01-27T03:59:44.188880",
     "exception": false,
     "start_time": "2024-01-27T03:59:43.998637",
     "status": "completed"
    },
    "tags": []
   },
   "outputs": [],
   "source": [
    "# Apply scaler() to all numeric variables in test dataset. Note: we will only use scaler.transform, \n",
    "# as we want to use the metrics that the model learned from the training data to be applied on the test data. \n",
    "# In other words, we want to prevent the information leak from train to test dataset.\n",
    "\n",
    "num_vars = ['Produktivitas Mangga', 'Min', 'Max', 'Tavg', 'Sun Day', 'Sun Hour',\n",
    "       'Curah Hujan', 'Hari Hujan', 'Kecepatan A', 'Mx Kec']\n",
    "\n",
    "df_test[num_vars] = scaler.transform(df_test[num_vars])"
   ]
  },
  {
   "cell_type": "code",
   "execution_count": 86,
   "metadata": {
    "execution": {
     "iopub.execute_input": "2024-01-27T03:59:44.537344Z",
     "iopub.status.busy": "2024-01-27T03:59:44.536233Z",
     "iopub.status.idle": "2024-01-27T03:59:44.554992Z",
     "shell.execute_reply": "2024-01-27T03:59:44.555525Z",
     "shell.execute_reply.started": "2024-01-27T03:40:48.095981Z"
    },
    "papermill": {
     "duration": 0.193845,
     "end_time": "2024-01-27T03:59:44.555706",
     "exception": false,
     "start_time": "2024-01-27T03:59:44.361861",
     "status": "completed"
    },
    "tags": []
   },
   "outputs": [
    {
     "data": {
      "text/html": [
       "<div>\n",
       "<style scoped>\n",
       "    .dataframe tbody tr th:only-of-type {\n",
       "        vertical-align: middle;\n",
       "    }\n",
       "\n",
       "    .dataframe tbody tr th {\n",
       "        vertical-align: top;\n",
       "    }\n",
       "\n",
       "    .dataframe thead th {\n",
       "        text-align: right;\n",
       "    }\n",
       "</style>\n",
       "<table border=\"1\" class=\"dataframe\">\n",
       "  <thead>\n",
       "    <tr style=\"text-align: right;\">\n",
       "      <th></th>\n",
       "      <th>Produktivitas Mangga</th>\n",
       "      <th>Max</th>\n",
       "      <th>Min</th>\n",
       "      <th>Tavg</th>\n",
       "      <th>Sun Hour</th>\n",
       "      <th>Sun Day</th>\n",
       "      <th>Curah Hujan</th>\n",
       "      <th>Hari Hujan</th>\n",
       "      <th>Kecepatan A</th>\n",
       "      <th>Mx Kec</th>\n",
       "    </tr>\n",
       "  </thead>\n",
       "  <tbody>\n",
       "    <tr>\n",
       "      <th>31</th>\n",
       "      <td>0.867647</td>\n",
       "      <td>0.666667</td>\n",
       "      <td>0.666667</td>\n",
       "      <td>0.890000</td>\n",
       "      <td>0.740345</td>\n",
       "      <td>0.350649</td>\n",
       "      <td>0.086327</td>\n",
       "      <td>0.142105</td>\n",
       "      <td>0.078261</td>\n",
       "      <td>0.164384</td>\n",
       "    </tr>\n",
       "    <tr>\n",
       "      <th>4</th>\n",
       "      <td>0.955882</td>\n",
       "      <td>0.000000</td>\n",
       "      <td>0.666667</td>\n",
       "      <td>0.666667</td>\n",
       "      <td>0.381724</td>\n",
       "      <td>0.181818</td>\n",
       "      <td>0.166667</td>\n",
       "      <td>0.171053</td>\n",
       "      <td>0.469565</td>\n",
       "      <td>0.561644</td>\n",
       "    </tr>\n",
       "    <tr>\n",
       "      <th>6</th>\n",
       "      <td>0.544118</td>\n",
       "      <td>0.000000</td>\n",
       "      <td>0.333333</td>\n",
       "      <td>0.223333</td>\n",
       "      <td>0.921724</td>\n",
       "      <td>0.896104</td>\n",
       "      <td>0.039920</td>\n",
       "      <td>0.031579</td>\n",
       "      <td>1.360870</td>\n",
       "      <td>1.178082</td>\n",
       "    </tr>\n",
       "    <tr>\n",
       "      <th>16</th>\n",
       "      <td>0.441176</td>\n",
       "      <td>0.666667</td>\n",
       "      <td>1.000000</td>\n",
       "      <td>1.000000</td>\n",
       "      <td>0.362069</td>\n",
       "      <td>0.090909</td>\n",
       "      <td>0.221557</td>\n",
       "      <td>0.192105</td>\n",
       "      <td>0.108696</td>\n",
       "      <td>0.328767</td>\n",
       "    </tr>\n",
       "    <tr>\n",
       "      <th>30</th>\n",
       "      <td>1.029412</td>\n",
       "      <td>0.000000</td>\n",
       "      <td>0.333333</td>\n",
       "      <td>0.223333</td>\n",
       "      <td>0.987241</td>\n",
       "      <td>0.974026</td>\n",
       "      <td>0.008982</td>\n",
       "      <td>0.015789</td>\n",
       "      <td>0.326087</td>\n",
       "      <td>0.342466</td>\n",
       "    </tr>\n",
       "  </tbody>\n",
       "</table>\n",
       "</div>"
      ],
      "text/plain": [
       "    Produktivitas Mangga       Max       Min      Tavg  Sun Hour   Sun Day  \\\n",
       "31              0.867647  0.666667  0.666667  0.890000  0.740345  0.350649   \n",
       "4               0.955882  0.000000  0.666667  0.666667  0.381724  0.181818   \n",
       "6               0.544118  0.000000  0.333333  0.223333  0.921724  0.896104   \n",
       "16              0.441176  0.666667  1.000000  1.000000  0.362069  0.090909   \n",
       "30              1.029412  0.000000  0.333333  0.223333  0.987241  0.974026   \n",
       "\n",
       "    Curah Hujan  Hari Hujan  Kecepatan A    Mx Kec  \n",
       "31     0.086327    0.142105     0.078261  0.164384  \n",
       "4      0.166667    0.171053     0.469565  0.561644  \n",
       "6      0.039920    0.031579     1.360870  1.178082  \n",
       "16     0.221557    0.192105     0.108696  0.328767  \n",
       "30     0.008982    0.015789     0.326087  0.342466  "
      ]
     },
     "execution_count": 86,
     "metadata": {},
     "output_type": "execute_result"
    }
   ],
   "source": [
    "df_test.head()"
   ]
  },
  {
   "cell_type": "code",
   "execution_count": 87,
   "metadata": {
    "execution": {
     "iopub.execute_input": "2024-01-27T03:59:44.910618Z",
     "iopub.status.busy": "2024-01-27T03:59:44.909592Z",
     "iopub.status.idle": "2024-01-27T03:59:44.952361Z",
     "shell.execute_reply": "2024-01-27T03:59:44.951768Z",
     "shell.execute_reply.started": "2024-01-27T03:40:48.121676Z"
    },
    "papermill": {
     "duration": 0.225577,
     "end_time": "2024-01-27T03:59:44.952492",
     "exception": false,
     "start_time": "2024-01-27T03:59:44.726915",
     "status": "completed"
    },
    "tags": []
   },
   "outputs": [
    {
     "data": {
      "text/html": [
       "<div>\n",
       "<style scoped>\n",
       "    .dataframe tbody tr th:only-of-type {\n",
       "        vertical-align: middle;\n",
       "    }\n",
       "\n",
       "    .dataframe tbody tr th {\n",
       "        vertical-align: top;\n",
       "    }\n",
       "\n",
       "    .dataframe thead th {\n",
       "        text-align: right;\n",
       "    }\n",
       "</style>\n",
       "<table border=\"1\" class=\"dataframe\">\n",
       "  <thead>\n",
       "    <tr style=\"text-align: right;\">\n",
       "      <th></th>\n",
       "      <th>Produktivitas Mangga</th>\n",
       "      <th>Max</th>\n",
       "      <th>Min</th>\n",
       "      <th>Tavg</th>\n",
       "      <th>Sun Hour</th>\n",
       "      <th>Sun Day</th>\n",
       "      <th>Curah Hujan</th>\n",
       "      <th>Hari Hujan</th>\n",
       "      <th>Kecepatan A</th>\n",
       "      <th>Mx Kec</th>\n",
       "    </tr>\n",
       "  </thead>\n",
       "  <tbody>\n",
       "    <tr>\n",
       "      <th>count</th>\n",
       "      <td>12.000000</td>\n",
       "      <td>12.000000</td>\n",
       "      <td>12.000000</td>\n",
       "      <td>12.000000</td>\n",
       "      <td>12.000000</td>\n",
       "      <td>12.000000</td>\n",
       "      <td>12.000000</td>\n",
       "      <td>12.000000</td>\n",
       "      <td>12.000000</td>\n",
       "      <td>12.000000</td>\n",
       "    </tr>\n",
       "    <tr>\n",
       "      <th>mean</th>\n",
       "      <td>0.920343</td>\n",
       "      <td>0.361111</td>\n",
       "      <td>0.583333</td>\n",
       "      <td>0.592500</td>\n",
       "      <td>0.639253</td>\n",
       "      <td>0.464286</td>\n",
       "      <td>0.101173</td>\n",
       "      <td>0.110746</td>\n",
       "      <td>0.627355</td>\n",
       "      <td>0.654110</td>\n",
       "    </tr>\n",
       "    <tr>\n",
       "      <th>std</th>\n",
       "      <td>0.462304</td>\n",
       "      <td>0.388167</td>\n",
       "      <td>0.429352</td>\n",
       "      <td>0.440250</td>\n",
       "      <td>0.290998</td>\n",
       "      <td>0.396520</td>\n",
       "      <td>0.085007</td>\n",
       "      <td>0.076373</td>\n",
       "      <td>0.491536</td>\n",
       "      <td>0.365624</td>\n",
       "    </tr>\n",
       "    <tr>\n",
       "      <th>min</th>\n",
       "      <td>0.397059</td>\n",
       "      <td>0.000000</td>\n",
       "      <td>-0.333333</td>\n",
       "      <td>-0.223333</td>\n",
       "      <td>0.167931</td>\n",
       "      <td>0.025974</td>\n",
       "      <td>0.002994</td>\n",
       "      <td>-0.002632</td>\n",
       "      <td>0.078261</td>\n",
       "      <td>0.164384</td>\n",
       "    </tr>\n",
       "    <tr>\n",
       "      <th>25%</th>\n",
       "      <td>0.643382</td>\n",
       "      <td>0.000000</td>\n",
       "      <td>0.333333</td>\n",
       "      <td>0.223333</td>\n",
       "      <td>0.383276</td>\n",
       "      <td>0.172078</td>\n",
       "      <td>0.028443</td>\n",
       "      <td>0.027632</td>\n",
       "      <td>0.275000</td>\n",
       "      <td>0.339041</td>\n",
       "    </tr>\n",
       "    <tr>\n",
       "      <th>50%</th>\n",
       "      <td>0.838235</td>\n",
       "      <td>0.333333</td>\n",
       "      <td>0.666667</td>\n",
       "      <td>0.721667</td>\n",
       "      <td>0.627586</td>\n",
       "      <td>0.305195</td>\n",
       "      <td>0.096058</td>\n",
       "      <td>0.138158</td>\n",
       "      <td>0.495652</td>\n",
       "      <td>0.602740</td>\n",
       "    </tr>\n",
       "    <tr>\n",
       "      <th>75%</th>\n",
       "      <td>1.033088</td>\n",
       "      <td>0.666667</td>\n",
       "      <td>1.000000</td>\n",
       "      <td>1.000000</td>\n",
       "      <td>0.925776</td>\n",
       "      <td>0.915584</td>\n",
       "      <td>0.153194</td>\n",
       "      <td>0.165132</td>\n",
       "      <td>0.856522</td>\n",
       "      <td>0.945205</td>\n",
       "    </tr>\n",
       "    <tr>\n",
       "      <th>max</th>\n",
       "      <td>2.014706</td>\n",
       "      <td>1.000000</td>\n",
       "      <td>1.000000</td>\n",
       "      <td>1.110000</td>\n",
       "      <td>1.056207</td>\n",
       "      <td>1.064935</td>\n",
       "      <td>0.248004</td>\n",
       "      <td>0.205263</td>\n",
       "      <td>1.528261</td>\n",
       "      <td>1.273973</td>\n",
       "    </tr>\n",
       "  </tbody>\n",
       "</table>\n",
       "</div>"
      ],
      "text/plain": [
       "       Produktivitas Mangga        Max        Min       Tavg   Sun Hour  \\\n",
       "count             12.000000  12.000000  12.000000  12.000000  12.000000   \n",
       "mean               0.920343   0.361111   0.583333   0.592500   0.639253   \n",
       "std                0.462304   0.388167   0.429352   0.440250   0.290998   \n",
       "min                0.397059   0.000000  -0.333333  -0.223333   0.167931   \n",
       "25%                0.643382   0.000000   0.333333   0.223333   0.383276   \n",
       "50%                0.838235   0.333333   0.666667   0.721667   0.627586   \n",
       "75%                1.033088   0.666667   1.000000   1.000000   0.925776   \n",
       "max                2.014706   1.000000   1.000000   1.110000   1.056207   \n",
       "\n",
       "         Sun Day  Curah Hujan  Hari Hujan  Kecepatan A     Mx Kec  \n",
       "count  12.000000    12.000000   12.000000    12.000000  12.000000  \n",
       "mean    0.464286     0.101173    0.110746     0.627355   0.654110  \n",
       "std     0.396520     0.085007    0.076373     0.491536   0.365624  \n",
       "min     0.025974     0.002994   -0.002632     0.078261   0.164384  \n",
       "25%     0.172078     0.028443    0.027632     0.275000   0.339041  \n",
       "50%     0.305195     0.096058    0.138158     0.495652   0.602740  \n",
       "75%     0.915584     0.153194    0.165132     0.856522   0.945205  \n",
       "max     1.064935     0.248004    0.205263     1.528261   1.273973  "
      ]
     },
     "execution_count": 87,
     "metadata": {},
     "output_type": "execute_result"
    }
   ],
   "source": [
    "df_test.describe()"
   ]
  },
  {
   "cell_type": "markdown",
   "metadata": {
    "papermill": {
     "duration": 0.173347,
     "end_time": "2024-01-27T03:59:45.298610",
     "exception": false,
     "start_time": "2024-01-27T03:59:45.125263",
     "status": "completed"
    },
    "tags": []
   },
   "source": [
    "### Dividing into X_test and y_test"
   ]
  },
  {
   "cell_type": "code",
   "execution_count": 88,
   "metadata": {
    "execution": {
     "iopub.execute_input": "2024-01-27T03:59:45.657050Z",
     "iopub.status.busy": "2024-01-27T03:59:45.656018Z",
     "iopub.status.idle": "2024-01-27T03:59:45.660385Z",
     "shell.execute_reply": "2024-01-27T03:59:45.659772Z",
     "shell.execute_reply.started": "2024-01-27T03:40:48.164981Z"
    },
    "papermill": {
     "duration": 0.18834,
     "end_time": "2024-01-27T03:59:45.660513",
     "exception": false,
     "start_time": "2024-01-27T03:59:45.472173",
     "status": "completed"
    },
    "tags": []
   },
   "outputs": [
    {
     "name": "stdout",
     "output_type": "stream",
     "text": [
      "<class 'pandas.core.frame.DataFrame'>\n",
      "Int64Index: 12 entries, 31 to 0\n",
      "Data columns (total 9 columns):\n",
      " #   Column       Non-Null Count  Dtype  \n",
      "---  ------       --------------  -----  \n",
      " 0   Max          12 non-null     float64\n",
      " 1   Min          12 non-null     float64\n",
      " 2   Tavg         12 non-null     float64\n",
      " 3   Sun Hour     12 non-null     float64\n",
      " 4   Sun Day      12 non-null     float64\n",
      " 5   Curah Hujan  12 non-null     float64\n",
      " 6   Hari Hujan   12 non-null     float64\n",
      " 7   Kecepatan A  12 non-null     float64\n",
      " 8   Mx Kec       12 non-null     float64\n",
      "dtypes: float64(9)\n",
      "memory usage: 960.0 bytes\n"
     ]
    }
   ],
   "source": [
    "y_test = df_test.pop('Produktivitas Mangga')\n",
    "X_test = df_test\n",
    "X_test.info()"
   ]
  },
  {
   "cell_type": "code",
   "execution_count": 89,
   "metadata": {
    "execution": {
     "iopub.execute_input": "2024-01-27T03:59:46.024551Z",
     "iopub.status.busy": "2024-01-27T03:59:46.023537Z",
     "iopub.status.idle": "2024-01-27T03:59:46.027163Z",
     "shell.execute_reply": "2024-01-27T03:59:46.027797Z",
     "shell.execute_reply.started": "2024-01-27T03:40:48.177936Z"
    },
    "papermill": {
     "duration": 0.195126,
     "end_time": "2024-01-27T03:59:46.027969",
     "exception": false,
     "start_time": "2024-01-27T03:59:45.832843",
     "status": "completed"
    },
    "tags": []
   },
   "outputs": [
    {
     "name": "stdout",
     "output_type": "stream",
     "text": [
      "<class 'pandas.core.frame.DataFrame'>\n",
      "Int64Index: 12 entries, 31 to 0\n",
      "Data columns (total 5 columns):\n",
      " #   Column       Non-Null Count  Dtype  \n",
      "---  ------       --------------  -----  \n",
      " 0   const        12 non-null     float64\n",
      " 1   Max          12 non-null     float64\n",
      " 2   Min          12 non-null     float64\n",
      " 3   Sun Day      12 non-null     float64\n",
      " 4   Kecepatan A  12 non-null     float64\n",
      "dtypes: float64(5)\n",
      "memory usage: 576.0 bytes\n"
     ]
    }
   ],
   "source": [
    "#Selecting the variables that were part of final model.\n",
    "col1=X_train_new.columns\n",
    "X_test=X_test[col1]\n",
    "# Adding constant variable to test dataframe\n",
    "X_test_lm6 = sm.add_constant(X_test)\n",
    "X_test_lm6.info()"
   ]
  },
  {
   "cell_type": "code",
   "execution_count": 90,
   "metadata": {
    "execution": {
     "iopub.execute_input": "2024-01-27T03:59:46.388162Z",
     "iopub.status.busy": "2024-01-27T03:59:46.387366Z",
     "iopub.status.idle": "2024-01-27T03:59:46.393427Z",
     "shell.execute_reply": "2024-01-27T03:59:46.394161Z",
     "shell.execute_reply.started": "2024-01-27T03:40:48.196544Z"
    },
    "papermill": {
     "duration": 0.193355,
     "end_time": "2024-01-27T03:59:46.394319",
     "exception": false,
     "start_time": "2024-01-27T03:59:46.200964",
     "status": "completed"
    },
    "tags": []
   },
   "outputs": [],
   "source": [
    "# Making predictions using the final model (lr6)\n",
    "\n",
    "y_pred = lr6.predict(X_test_lm6)"
   ]
  },
  {
   "cell_type": "markdown",
   "metadata": {
    "papermill": {
     "duration": 0.197509,
     "end_time": "2024-01-27T03:59:46.804684",
     "exception": false,
     "start_time": "2024-01-27T03:59:46.607175",
     "status": "completed"
    },
    "tags": []
   },
   "source": [
    "# MODEL EVALUATION"
   ]
  },
  {
   "cell_type": "code",
   "execution_count": 91,
   "metadata": {
    "execution": {
     "iopub.execute_input": "2024-01-27T03:59:47.173169Z",
     "iopub.status.busy": "2024-01-27T03:59:47.172291Z",
     "iopub.status.idle": "2024-01-27T03:59:47.374477Z",
     "shell.execute_reply": "2024-01-27T03:59:47.373104Z",
     "shell.execute_reply.started": "2024-01-27T03:40:48.210807Z"
    },
    "papermill": {
     "duration": 0.38919,
     "end_time": "2024-01-27T03:59:47.374668",
     "exception": false,
     "start_time": "2024-01-27T03:59:46.985478",
     "status": "completed"
    },
    "tags": []
   },
   "outputs": [
    {
     "data": {
      "image/png": "[encoded data removed]",
      "text/plain": [
       "<Figure size 432x288 with 1 Axes>"
      ]
     },
     "metadata": {
      "needs_background": "light"
     },
     "output_type": "display_data"
    }
   ],
   "source": [
    "# Plotting y_test and y_pred to understand the spread\n",
    "\n",
    "fig = plt.figure()\n",
    "plt.scatter(y_test, y_pred, alpha=.5)\n",
    "fig.suptitle('y_test vs y_pred', fontsize = 20)              # Plot heading \n",
    "plt.xlabel('y_test', fontsize = 18)                          # X-label\n",
    "plt.ylabel('y_pred', fontsize = 16) \n",
    "plt.show()"
   ]
  },
  {
   "cell_type": "markdown",
   "metadata": {
    "papermill": {
     "duration": 0.174668,
     "end_time": "2024-01-27T03:59:47.733786",
     "exception": false,
     "start_time": "2024-01-27T03:59:47.559118",
     "status": "completed"
    },
    "tags": []
   },
   "source": [
    " # R^2 Value for TEST"
   ]
  },
  {
   "cell_type": "code",
   "execution_count": 92,
   "metadata": {
    "execution": {
     "iopub.execute_input": "2024-01-27T03:59:48.092416Z",
     "iopub.status.busy": "2024-01-27T03:59:48.091640Z",
     "iopub.status.idle": "2024-01-27T03:59:48.094781Z",
     "shell.execute_reply": "2024-01-27T03:59:48.095456Z",
     "shell.execute_reply.started": "2024-01-27T03:40:48.351718Z"
    },
    "papermill": {
     "duration": 0.186097,
     "end_time": "2024-01-27T03:59:48.095615",
     "exception": false,
     "start_time": "2024-01-27T03:59:47.909518",
     "status": "completed"
    },
    "tags": []
   },
   "outputs": [
    {
     "data": {
      "text/plain": [
       "-1.123475350882142"
      ]
     },
     "execution_count": 92,
     "metadata": {},
     "output_type": "execute_result"
    }
   ],
   "source": [
    "from sklearn.metrics import r2_score\n",
    "r2_score(y_test, y_pred)"
   ]
  },
  {
   "cell_type": "markdown",
   "metadata": {
    "papermill": {
     "duration": 0.174279,
     "end_time": "2024-01-27T03:59:48.444118",
     "exception": false,
     "start_time": "2024-01-27T03:59:48.269839",
     "status": "completed"
    },
    "tags": []
   },
   "source": [
    "## Adjusted R^2 Value for TEST"
   ]
  },
  {
   "cell_type": "code",
   "execution_count": 93,
   "metadata": {
    "execution": {
     "iopub.execute_input": "2024-01-27T03:59:48.798117Z",
     "iopub.status.busy": "2024-01-27T03:59:48.797375Z",
     "iopub.status.idle": "2024-01-27T03:59:48.801665Z",
     "shell.execute_reply": "2024-01-27T03:59:48.802316Z",
     "shell.execute_reply.started": "2024-01-27T03:40:48.359490Z"
    },
    "papermill": {
     "duration": 0.182379,
     "end_time": "2024-01-27T03:59:48.802473",
     "exception": false,
     "start_time": "2024-01-27T03:59:48.620094",
     "status": "completed"
    },
    "tags": []
   },
   "outputs": [],
   "source": [
    "# We already have the value of R^2 (calculated in above step)\n",
    "\n",
    "r2=1.1234753508821407"
   ]
  },
  {
   "cell_type": "code",
   "execution_count": 94,
   "metadata": {
    "execution": {
     "iopub.execute_input": "2024-01-27T03:59:49.160095Z",
     "iopub.status.busy": "2024-01-27T03:59:49.159338Z",
     "iopub.status.idle": "2024-01-27T03:59:49.164450Z",
     "shell.execute_reply": "2024-01-27T03:59:49.165184Z",
     "shell.execute_reply.started": "2024-01-27T03:40:48.367979Z"
    },
    "papermill": {
     "duration": 0.187145,
     "end_time": "2024-01-27T03:59:49.165347",
     "exception": false,
     "start_time": "2024-01-27T03:59:48.978202",
     "status": "completed"
    },
    "tags": []
   },
   "outputs": [
    {
     "data": {
      "text/plain": [
       "(12, 4)"
      ]
     },
     "execution_count": 94,
     "metadata": {},
     "output_type": "execute_result"
    }
   ],
   "source": [
    "# Get the shape of X_test\n",
    "X_test.shape"
   ]
  },
  {
   "cell_type": "code",
   "execution_count": 95,
   "metadata": {
    "execution": {
     "iopub.execute_input": "2024-01-27T03:59:49.568132Z",
     "iopub.status.busy": "2024-01-27T03:59:49.567120Z",
     "iopub.status.idle": "2024-01-27T03:59:49.571090Z",
     "shell.execute_reply": "2024-01-27T03:59:49.571677Z",
     "shell.execute_reply.started": "2024-01-27T03:40:48.387689Z"
    },
    "papermill": {
     "duration": 0.229943,
     "end_time": "2024-01-27T03:59:49.571855",
     "exception": false,
     "start_time": "2024-01-27T03:59:49.341912",
     "status": "completed"
    },
    "tags": []
   },
   "outputs": [
    {
     "data": {
      "text/plain": [
       "1.194032694243364"
      ]
     },
     "execution_count": 95,
     "metadata": {},
     "output_type": "execute_result"
    }
   ],
   "source": [
    "# n is number of rows in X\n",
    "\n",
    "n = X_test.shape[0]\n",
    "\n",
    "\n",
    "# Number of features (predictors, p) is the shape along axis 1\n",
    "p = X_test.shape[1]\n",
    "\n",
    "# We find the Adjusted R-squared using the formula\n",
    "\n",
    "adjusted_r2 = 1-(1-r2)*(n-1)/(n-p-1)\n",
    "adjusted_r2"
   ]
  },
  {
   "cell_type": "markdown",
   "metadata": {
    "papermill": {
     "duration": 0.176745,
     "end_time": "2024-01-27T03:59:49.922931",
     "exception": false,
     "start_time": "2024-01-27T03:59:49.746186",
     "status": "completed"
    },
    "tags": []
   },
   "source": [
    "# Final Result Comparison"
   ]
  },
  {
   "cell_type": "markdown",
   "metadata": {
    "papermill": {
     "duration": 0.175847,
     "end_time": "2024-01-27T03:59:50.274359",
     "exception": false,
     "start_time": "2024-01-27T03:59:50.098512",
     "status": "completed"
    },
    "tags": []
   },
   "source": [
    "- Train R^2 :0.149\n",
    "- Train Adjusted R^2 :0.001\n",
    "- Test R^2 :-1.1234753508821407\n",
    "- Test Adjusted R^2 :2.056240359944438 \n",
    "- Model ini belum bisa dikatakan cocok dengan data yang ada. Data yang sedikit juga mempengaruhi hasil dari nilai yang didapat diatas."
   ]
  }
 ],
 "metadata": {
  "kaggle": {
   "accelerator": "none",
   "dataSources": [
    {
     "datasetId": 789011,
     "sourceId": 1355226,
     "sourceType": "datasetVersion"
    },
    {
     "datasetId": 4246041,
     "sourceId": 7327627,
     "sourceType": "datasetVersion"
    }
   ],
   "dockerImageVersionId": 29980,
   "isGpuEnabled": false,
   "isInternetEnabled": true,
   "language": "python",
   "sourceType": "notebook"
  },
  "kernelspec": {
   "display_name": "Python 3",
   "language": "python",
   "name": "python3"
  },
  "language_info": {
   "codemirror_mode": {
    "name": "ipython",
    "version": 3
   },
   "file_extension": ".py",
   "mimetype": "text/x-python",
   "name": "python",
   "nbconvert_exporter": "python",
   "pygments_lexer": "ipython3",
   "version": "3.7.6"
  },
  "papermill": {
   "duration": 122.404899,
   "end_time": "2024-01-27T03:59:51.521370",
   "environment_variables": {},
   "exception": null,
   "input_path": "__notebook__.ipynb",
   "output_path": "__notebook__.ipynb",
   "parameters": {},
   "start_time": "2024-01-27T03:57:49.116471",
   "version": "2.1.0"
  }
 },
 "nbformat": 4,
 "nbformat_minor": 4
}
