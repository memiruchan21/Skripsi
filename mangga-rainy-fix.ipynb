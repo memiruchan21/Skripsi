{
 "cells": [
  {
   "cell_type": "markdown",
   "metadata": {
    "papermill": {
     "duration": 0.097622,
     "end_time": "2024-01-26T03:32:13.403033",
     "exception": false,
     "start_time": "2024-01-26T03:32:13.305411",
     "status": "completed"
    },
    "tags": []
   },
   "source": [
    "##  Reading and Understanding the Data\n"
   ]
  },
  {
   "cell_type": "code",
   "execution_count": 1,
   "metadata": {
    "execution": {
     "iopub.execute_input": "2024-01-26T03:32:13.601318Z",
     "iopub.status.busy": "2024-01-26T03:32:13.600479Z",
     "iopub.status.idle": "2024-01-26T03:32:13.604158Z",
     "shell.execute_reply": "2024-01-26T03:32:13.604855Z",
     "shell.execute_reply.started": "2024-01-26T03:21:38.475864Z"
    },
    "papermill": {
     "duration": 0.105311,
     "end_time": "2024-01-26T03:32:13.605047",
     "exception": false,
     "start_time": "2024-01-26T03:32:13.499736",
     "status": "completed"
    },
    "tags": []
   },
   "outputs": [],
   "source": [
    "# Supress Warnings\n",
    "\n",
    "import warnings\n",
    "warnings.filterwarnings('ignore')"
   ]
  },
  {
   "cell_type": "code",
   "execution_count": 2,
   "metadata": {
    "execution": {
     "iopub.execute_input": "2024-01-26T03:32:13.803566Z",
     "iopub.status.busy": "2024-01-26T03:32:13.799224Z",
     "iopub.status.idle": "2024-01-26T03:32:14.708137Z",
     "shell.execute_reply": "2024-01-26T03:32:14.707381Z",
     "shell.execute_reply.started": "2024-01-26T03:21:38.492754Z"
    },
    "papermill": {
     "duration": 1.007251,
     "end_time": "2024-01-26T03:32:14.708273",
     "exception": false,
     "start_time": "2024-01-26T03:32:13.701022",
     "status": "completed"
    },
    "tags": []
   },
   "outputs": [],
   "source": [
    "import numpy as np\n",
    "import pandas as pd\n",
    "import matplotlib.pyplot as plt\n",
    "import seaborn as sns\n",
    "%matplotlib inline"
   ]
  },
  {
   "cell_type": "code",
   "execution_count": 3,
   "metadata": {
    "execution": {
     "iopub.execute_input": "2024-01-26T03:32:14.905457Z",
     "iopub.status.busy": "2024-01-26T03:32:14.904613Z",
     "iopub.status.idle": "2024-01-26T03:32:14.924058Z",
     "shell.execute_reply": "2024-01-26T03:32:14.923025Z",
     "shell.execute_reply.started": "2024-01-26T03:21:38.500625Z"
    },
    "papermill": {
     "duration": 0.120182,
     "end_time": "2024-01-26T03:32:14.924252",
     "exception": false,
     "start_time": "2024-01-26T03:32:14.804070",
     "status": "completed"
    },
    "tags": []
   },
   "outputs": [
    {
     "name": "stdout",
     "output_type": "stream",
     "text": [
      "/kaggle/input/bismillahskripsi/Buleleng-Climate - Full (1).csv\n",
      "/kaggle/input/bike-sharing/day.csv\n"
     ]
    }
   ],
   "source": [
    "import os\n",
    "for dirname, _, filenames in os.walk('/kaggle/input'):\n",
    "    for filename in filenames:\n",
    "        print(os.path.join(dirname, filename))"
   ]
  },
  {
   "cell_type": "code",
   "execution_count": 4,
   "metadata": {
    "execution": {
     "iopub.execute_input": "2024-01-26T03:32:15.122943Z",
     "iopub.status.busy": "2024-01-26T03:32:15.122139Z",
     "iopub.status.idle": "2024-01-26T03:32:15.139218Z",
     "shell.execute_reply": "2024-01-26T03:32:15.138560Z",
     "shell.execute_reply.started": "2024-01-26T03:21:38.521772Z"
    },
    "papermill": {
     "duration": 0.11693,
     "end_time": "2024-01-26T03:32:15.139357",
     "exception": false,
     "start_time": "2024-01-26T03:32:15.022427",
     "status": "completed"
    },
    "tags": []
   },
   "outputs": [],
   "source": [
    "bike = pd.read_csv(\"/kaggle/input/bismillahskripsi/Buleleng-Climate - Full (1).csv\")"
   ]
  },
  {
   "cell_type": "code",
   "execution_count": 5,
   "metadata": {
    "execution": {
     "iopub.execute_input": "2024-01-26T03:32:15.338252Z",
     "iopub.status.busy": "2024-01-26T03:32:15.337463Z",
     "iopub.status.idle": "2024-01-26T03:32:15.365350Z",
     "shell.execute_reply": "2024-01-26T03:32:15.364585Z",
     "shell.execute_reply.started": "2024-01-26T03:21:38.543123Z"
    },
    "papermill": {
     "duration": 0.12826,
     "end_time": "2024-01-26T03:32:15.365484",
     "exception": false,
     "start_time": "2024-01-26T03:32:15.237224",
     "status": "completed"
    },
    "tags": []
   },
   "outputs": [
    {
     "data": {
      "text/html": [
       "<div>\n",
       "<style scoped>\n",
       "    .dataframe tbody tr th:only-of-type {\n",
       "        vertical-align: middle;\n",
       "    }\n",
       "\n",
       "    .dataframe tbody tr th {\n",
       "        vertical-align: top;\n",
       "    }\n",
       "\n",
       "    .dataframe thead th {\n",
       "        text-align: right;\n",
       "    }\n",
       "</style>\n",
       "<table border=\"1\" class=\"dataframe\">\n",
       "  <thead>\n",
       "    <tr style=\"text-align: right;\">\n",
       "      <th></th>\n",
       "      <th>Year</th>\n",
       "      <th>Periode</th>\n",
       "      <th>Produktivitas Mangga</th>\n",
       "      <th>Produktivitas Jeruk</th>\n",
       "      <th>Max</th>\n",
       "      <th>Min</th>\n",
       "      <th>Tavg</th>\n",
       "      <th>Sun Hour</th>\n",
       "      <th>Sun Day</th>\n",
       "      <th>Curah Hujan</th>\n",
       "      <th>Hari Hujan</th>\n",
       "      <th>Kecepatan A</th>\n",
       "      <th>Mx Kec</th>\n",
       "    </tr>\n",
       "  </thead>\n",
       "  <tbody>\n",
       "    <tr>\n",
       "      <th>0</th>\n",
       "      <td>2012</td>\n",
       "      <td>Triwulan I</td>\n",
       "      <td>0.46</td>\n",
       "      <td>0.17</td>\n",
       "      <td>28.0</td>\n",
       "      <td>25.0</td>\n",
       "      <td>26.00</td>\n",
       "      <td>78.7</td>\n",
       "      <td>8</td>\n",
       "      <td>501</td>\n",
       "      <td>83</td>\n",
       "      <td>8.17</td>\n",
       "      <td>13.4</td>\n",
       "    </tr>\n",
       "    <tr>\n",
       "      <th>1</th>\n",
       "      <td>2012</td>\n",
       "      <td>Triwulan II</td>\n",
       "      <td>0.00</td>\n",
       "      <td>0.10</td>\n",
       "      <td>28.0</td>\n",
       "      <td>24.0</td>\n",
       "      <td>26.00</td>\n",
       "      <td>237.7</td>\n",
       "      <td>49</td>\n",
       "      <td>164</td>\n",
       "      <td>42</td>\n",
       "      <td>8.93</td>\n",
       "      <td>14.0</td>\n",
       "    </tr>\n",
       "    <tr>\n",
       "      <th>2</th>\n",
       "      <td>2012</td>\n",
       "      <td>Triwulan III</td>\n",
       "      <td>0.27</td>\n",
       "      <td>0.20</td>\n",
       "      <td>28.0</td>\n",
       "      <td>22.0</td>\n",
       "      <td>24.33</td>\n",
       "      <td>336.3</td>\n",
       "      <td>88</td>\n",
       "      <td>10</td>\n",
       "      <td>4</td>\n",
       "      <td>12.20</td>\n",
       "      <td>17.2</td>\n",
       "    </tr>\n",
       "    <tr>\n",
       "      <th>3</th>\n",
       "      <td>2012</td>\n",
       "      <td>Triwulan IV</td>\n",
       "      <td>0.46</td>\n",
       "      <td>0.11</td>\n",
       "      <td>29.0</td>\n",
       "      <td>25.0</td>\n",
       "      <td>27.00</td>\n",
       "      <td>176.0</td>\n",
       "      <td>24</td>\n",
       "      <td>375</td>\n",
       "      <td>68</td>\n",
       "      <td>7.93</td>\n",
       "      <td>13.6</td>\n",
       "    </tr>\n",
       "    <tr>\n",
       "      <th>4</th>\n",
       "      <td>2013</td>\n",
       "      <td>Triwulan I</td>\n",
       "      <td>0.65</td>\n",
       "      <td>0.16</td>\n",
       "      <td>28.0</td>\n",
       "      <td>25.0</td>\n",
       "      <td>27.00</td>\n",
       "      <td>140.7</td>\n",
       "      <td>20</td>\n",
       "      <td>338</td>\n",
       "      <td>70</td>\n",
       "      <td>7.33</td>\n",
       "      <td>12.0</td>\n",
       "    </tr>\n",
       "  </tbody>\n",
       "</table>\n",
       "</div>"
      ],
      "text/plain": [
       "   Year       Periode  Produktivitas Mangga  Produktivitas Jeruk   Max   Min  \\\n",
       "0  2012    Triwulan I                  0.46                 0.17  28.0  25.0   \n",
       "1  2012   Triwulan II                  0.00                 0.10  28.0  24.0   \n",
       "2  2012  Triwulan III                  0.27                 0.20  28.0  22.0   \n",
       "3  2012   Triwulan IV                  0.46                 0.11  29.0  25.0   \n",
       "4  2013    Triwulan I                  0.65                 0.16  28.0  25.0   \n",
       "\n",
       "    Tavg  Sun Hour  Sun Day  Curah Hujan  Hari Hujan  Kecepatan A  Mx Kec  \n",
       "0  26.00      78.7        8          501          83         8.17    13.4  \n",
       "1  26.00     237.7       49          164          42         8.93    14.0  \n",
       "2  24.33     336.3       88           10           4        12.20    17.2  \n",
       "3  27.00     176.0       24          375          68         7.93    13.6  \n",
       "4  27.00     140.7       20          338          70         7.33    12.0  "
      ]
     },
     "execution_count": 5,
     "metadata": {},
     "output_type": "execute_result"
    }
   ],
   "source": [
    "# Check the head of the dataset\n",
    "bike.head()"
   ]
  },
  {
   "cell_type": "code",
   "execution_count": 6,
   "metadata": {
    "execution": {
     "iopub.execute_input": "2024-01-26T03:32:15.579102Z",
     "iopub.status.busy": "2024-01-26T03:32:15.576626Z",
     "iopub.status.idle": "2024-01-26T03:32:15.584215Z",
     "shell.execute_reply": "2024-01-26T03:32:15.583610Z",
     "shell.execute_reply.started": "2024-01-26T03:21:38.575096Z"
    },
    "papermill": {
     "duration": 0.120134,
     "end_time": "2024-01-26T03:32:15.584348",
     "exception": false,
     "start_time": "2024-01-26T03:32:15.464214",
     "status": "completed"
    },
    "tags": []
   },
   "outputs": [
    {
     "name": "stdout",
     "output_type": "stream",
     "text": [
      "<class 'pandas.core.frame.DataFrame'>\n",
      "RangeIndex: 40 entries, 0 to 39\n",
      "Data columns (total 13 columns):\n",
      " #   Column                Non-Null Count  Dtype  \n",
      "---  ------                --------------  -----  \n",
      " 0   Year                  40 non-null     int64  \n",
      " 1   Periode               40 non-null     object \n",
      " 2   Produktivitas Mangga  40 non-null     float64\n",
      " 3   Produktivitas Jeruk   40 non-null     float64\n",
      " 4   Max                   40 non-null     float64\n",
      " 5   Min                   40 non-null     float64\n",
      " 6   Tavg                  40 non-null     float64\n",
      " 7   Sun Hour              40 non-null     float64\n",
      " 8   Sun Day               40 non-null     int64  \n",
      " 9   Curah Hujan           40 non-null     int64  \n",
      " 10  Hari Hujan            40 non-null     int64  \n",
      " 11  Kecepatan A           40 non-null     float64\n",
      " 12  Mx Kec                40 non-null     float64\n",
      "dtypes: float64(8), int64(4), object(1)\n",
      "memory usage: 4.2+ KB\n"
     ]
    }
   ],
   "source": [
    "# Check the descriptive information\n",
    "bike.info()"
   ]
  },
  {
   "cell_type": "code",
   "execution_count": 7,
   "metadata": {
    "execution": {
     "iopub.execute_input": "2024-01-26T03:32:15.794705Z",
     "iopub.status.busy": "2024-01-26T03:32:15.793530Z",
     "iopub.status.idle": "2024-01-26T03:32:15.844611Z",
     "shell.execute_reply": "2024-01-26T03:32:15.843868Z",
     "shell.execute_reply.started": "2024-01-26T03:21:38.591878Z"
    },
    "papermill": {
     "duration": 0.163537,
     "end_time": "2024-01-26T03:32:15.844738",
     "exception": false,
     "start_time": "2024-01-26T03:32:15.681201",
     "status": "completed"
    },
    "tags": []
   },
   "outputs": [
    {
     "data": {
      "text/html": [
       "<div>\n",
       "<style scoped>\n",
       "    .dataframe tbody tr th:only-of-type {\n",
       "        vertical-align: middle;\n",
       "    }\n",
       "\n",
       "    .dataframe tbody tr th {\n",
       "        vertical-align: top;\n",
       "    }\n",
       "\n",
       "    .dataframe thead th {\n",
       "        text-align: right;\n",
       "    }\n",
       "</style>\n",
       "<table border=\"1\" class=\"dataframe\">\n",
       "  <thead>\n",
       "    <tr style=\"text-align: right;\">\n",
       "      <th></th>\n",
       "      <th>Year</th>\n",
       "      <th>Produktivitas Mangga</th>\n",
       "      <th>Produktivitas Jeruk</th>\n",
       "      <th>Max</th>\n",
       "      <th>Min</th>\n",
       "      <th>Tavg</th>\n",
       "      <th>Sun Hour</th>\n",
       "      <th>Sun Day</th>\n",
       "      <th>Curah Hujan</th>\n",
       "      <th>Hari Hujan</th>\n",
       "      <th>Kecepatan A</th>\n",
       "      <th>Mx Kec</th>\n",
       "    </tr>\n",
       "  </thead>\n",
       "  <tbody>\n",
       "    <tr>\n",
       "      <th>count</th>\n",
       "      <td>40.000000</td>\n",
       "      <td>40.0000</td>\n",
       "      <td>40.000000</td>\n",
       "      <td>40.000000</td>\n",
       "      <td>40.000000</td>\n",
       "      <td>40.000000</td>\n",
       "      <td>40.000000</td>\n",
       "      <td>40.00000</td>\n",
       "      <td>40.000000</td>\n",
       "      <td>40.000000</td>\n",
       "      <td>40.000000</td>\n",
       "      <td>40.00000</td>\n",
       "    </tr>\n",
       "    <tr>\n",
       "      <th>mean</th>\n",
       "      <td>2016.500000</td>\n",
       "      <td>0.4385</td>\n",
       "      <td>0.188500</td>\n",
       "      <td>29.175000</td>\n",
       "      <td>24.700000</td>\n",
       "      <td>26.683500</td>\n",
       "      <td>191.615000</td>\n",
       "      <td>40.05000</td>\n",
       "      <td>296.975000</td>\n",
       "      <td>63.725000</td>\n",
       "      <td>7.432500</td>\n",
       "      <td>11.94000</td>\n",
       "    </tr>\n",
       "    <tr>\n",
       "      <th>std</th>\n",
       "      <td>2.908872</td>\n",
       "      <td>0.2978</td>\n",
       "      <td>0.174922</td>\n",
       "      <td>0.930605</td>\n",
       "      <td>0.992278</td>\n",
       "      <td>1.010064</td>\n",
       "      <td>78.482399</td>\n",
       "      <td>25.66645</td>\n",
       "      <td>345.464421</td>\n",
       "      <td>67.614665</td>\n",
       "      <td>1.631161</td>\n",
       "      <td>2.36706</td>\n",
       "    </tr>\n",
       "    <tr>\n",
       "      <th>min</th>\n",
       "      <td>2012.000000</td>\n",
       "      <td>0.0000</td>\n",
       "      <td>0.000000</td>\n",
       "      <td>28.000000</td>\n",
       "      <td>22.000000</td>\n",
       "      <td>24.330000</td>\n",
       "      <td>30.000000</td>\n",
       "      <td>6.00000</td>\n",
       "      <td>4.000000</td>\n",
       "      <td>4.000000</td>\n",
       "      <td>5.170000</td>\n",
       "      <td>7.90000</td>\n",
       "    </tr>\n",
       "    <tr>\n",
       "      <th>25%</th>\n",
       "      <td>2014.000000</td>\n",
       "      <td>0.2550</td>\n",
       "      <td>0.100000</td>\n",
       "      <td>28.000000</td>\n",
       "      <td>24.000000</td>\n",
       "      <td>26.000000</td>\n",
       "      <td>137.025000</td>\n",
       "      <td>20.00000</td>\n",
       "      <td>93.750000</td>\n",
       "      <td>30.250000</td>\n",
       "      <td>6.322500</td>\n",
       "      <td>10.27500</td>\n",
       "    </tr>\n",
       "    <tr>\n",
       "      <th>50%</th>\n",
       "      <td>2016.500000</td>\n",
       "      <td>0.4900</td>\n",
       "      <td>0.160000</td>\n",
       "      <td>29.000000</td>\n",
       "      <td>25.000000</td>\n",
       "      <td>26.835000</td>\n",
       "      <td>182.000000</td>\n",
       "      <td>29.50000</td>\n",
       "      <td>246.500000</td>\n",
       "      <td>51.500000</td>\n",
       "      <td>7.120000</td>\n",
       "      <td>12.05000</td>\n",
       "    </tr>\n",
       "    <tr>\n",
       "      <th>75%</th>\n",
       "      <td>2019.000000</td>\n",
       "      <td>0.5900</td>\n",
       "      <td>0.242500</td>\n",
       "      <td>30.000000</td>\n",
       "      <td>25.000000</td>\n",
       "      <td>27.670000</td>\n",
       "      <td>239.450000</td>\n",
       "      <td>57.00000</td>\n",
       "      <td>385.750000</td>\n",
       "      <td>69.250000</td>\n",
       "      <td>8.117500</td>\n",
       "      <td>13.67500</td>\n",
       "    </tr>\n",
       "    <tr>\n",
       "      <th>max</th>\n",
       "      <td>2021.000000</td>\n",
       "      <td>1.3700</td>\n",
       "      <td>0.850000</td>\n",
       "      <td>31.000000</td>\n",
       "      <td>26.000000</td>\n",
       "      <td>28.330000</td>\n",
       "      <td>336.300000</td>\n",
       "      <td>88.00000</td>\n",
       "      <td>2008.000000</td>\n",
       "      <td>385.000000</td>\n",
       "      <td>12.200000</td>\n",
       "      <td>17.20000</td>\n",
       "    </tr>\n",
       "  </tbody>\n",
       "</table>\n",
       "</div>"
      ],
      "text/plain": [
       "              Year  Produktivitas Mangga  Produktivitas Jeruk        Max  \\\n",
       "count    40.000000               40.0000            40.000000  40.000000   \n",
       "mean   2016.500000                0.4385             0.188500  29.175000   \n",
       "std       2.908872                0.2978             0.174922   0.930605   \n",
       "min    2012.000000                0.0000             0.000000  28.000000   \n",
       "25%    2014.000000                0.2550             0.100000  28.000000   \n",
       "50%    2016.500000                0.4900             0.160000  29.000000   \n",
       "75%    2019.000000                0.5900             0.242500  30.000000   \n",
       "max    2021.000000                1.3700             0.850000  31.000000   \n",
       "\n",
       "             Min       Tavg    Sun Hour   Sun Day  Curah Hujan  Hari Hujan  \\\n",
       "count  40.000000  40.000000   40.000000  40.00000    40.000000   40.000000   \n",
       "mean   24.700000  26.683500  191.615000  40.05000   296.975000   63.725000   \n",
       "std     0.992278   1.010064   78.482399  25.66645   345.464421   67.614665   \n",
       "min    22.000000  24.330000   30.000000   6.00000     4.000000    4.000000   \n",
       "25%    24.000000  26.000000  137.025000  20.00000    93.750000   30.250000   \n",
       "50%    25.000000  26.835000  182.000000  29.50000   246.500000   51.500000   \n",
       "75%    25.000000  27.670000  239.450000  57.00000   385.750000   69.250000   \n",
       "max    26.000000  28.330000  336.300000  88.00000  2008.000000  385.000000   \n",
       "\n",
       "       Kecepatan A    Mx Kec  \n",
       "count    40.000000  40.00000  \n",
       "mean      7.432500  11.94000  \n",
       "std       1.631161   2.36706  \n",
       "min       5.170000   7.90000  \n",
       "25%       6.322500  10.27500  \n",
       "50%       7.120000  12.05000  \n",
       "75%       8.117500  13.67500  \n",
       "max      12.200000  17.20000  "
      ]
     },
     "execution_count": 7,
     "metadata": {},
     "output_type": "execute_result"
    }
   ],
   "source": [
    "bike.describe()"
   ]
  },
  {
   "cell_type": "code",
   "execution_count": 8,
   "metadata": {
    "execution": {
     "iopub.execute_input": "2024-01-26T03:32:16.049918Z",
     "iopub.status.busy": "2024-01-26T03:32:16.048871Z",
     "iopub.status.idle": "2024-01-26T03:32:16.052490Z",
     "shell.execute_reply": "2024-01-26T03:32:16.053134Z",
     "shell.execute_reply.started": "2024-01-26T03:21:38.643607Z"
    },
    "papermill": {
     "duration": 0.108857,
     "end_time": "2024-01-26T03:32:16.053298",
     "exception": false,
     "start_time": "2024-01-26T03:32:15.944441",
     "status": "completed"
    },
    "tags": []
   },
   "outputs": [
    {
     "name": "stdout",
     "output_type": "stream",
     "text": [
      "(40, 13)\n"
     ]
    }
   ],
   "source": [
    "# Check the shape of df\n",
    "\n",
    "print(bike.shape)"
   ]
  },
  {
   "cell_type": "markdown",
   "metadata": {
    "papermill": {
     "duration": 0.097566,
     "end_time": "2024-01-26T03:32:16.249608",
     "exception": false,
     "start_time": "2024-01-26T03:32:16.152042",
     "status": "completed"
    },
    "tags": []
   },
   "source": [
    "## Finding :\n",
    "Dataset has 40 rows and 13 columns.\n",
    "\n",
    "variable 'Sun day', 'Curah Hujan', 'Hari hujan' berbentuk *int* untuk variable 'Periode' berupa *string*\n",
    "\n",
    "Selain itu, semua variable berupa ***float***"
   ]
  },
  {
   "cell_type": "markdown",
   "metadata": {
    "papermill": {
     "duration": 0.108718,
     "end_time": "2024-01-26T03:32:16.457477",
     "exception": false,
     "start_time": "2024-01-26T03:32:16.348759",
     "status": "completed"
    },
    "tags": []
   },
   "source": [
    "# DATA QUALITY CHECK"
   ]
  },
  {
   "cell_type": "markdown",
   "metadata": {
    "papermill": {
     "duration": 0.097761,
     "end_time": "2024-01-26T03:32:16.682082",
     "exception": false,
     "start_time": "2024-01-26T03:32:16.584321",
     "status": "completed"
    },
    "tags": []
   },
   "source": [
    "## Check for NULL/MISSING values"
   ]
  },
  {
   "cell_type": "code",
   "execution_count": 9,
   "metadata": {
    "execution": {
     "iopub.execute_input": "2024-01-26T03:32:16.889473Z",
     "iopub.status.busy": "2024-01-26T03:32:16.888397Z",
     "iopub.status.idle": "2024-01-26T03:32:16.912750Z",
     "shell.execute_reply": "2024-01-26T03:32:16.913640Z",
     "shell.execute_reply.started": "2024-01-26T03:21:38.651459Z"
    },
    "papermill": {
     "duration": 0.131074,
     "end_time": "2024-01-26T03:32:16.913856",
     "exception": false,
     "start_time": "2024-01-26T03:32:16.782782",
     "status": "completed"
    },
    "tags": []
   },
   "outputs": [
    {
     "data": {
      "text/plain": [
       "Mx Kec                  0.0\n",
       "Kecepatan A             0.0\n",
       "Hari Hujan              0.0\n",
       "Curah Hujan             0.0\n",
       "Sun Day                 0.0\n",
       "Sun Hour                0.0\n",
       "Tavg                    0.0\n",
       "Min                     0.0\n",
       "Max                     0.0\n",
       "Produktivitas Jeruk     0.0\n",
       "Produktivitas Mangga    0.0\n",
       "Periode                 0.0\n",
       "Year                    0.0\n",
       "dtype: float64"
      ]
     },
     "execution_count": 9,
     "metadata": {},
     "output_type": "execute_result"
    }
   ],
   "source": [
    "# percentage of missing values in each column\n",
    "round(100*(bike.isnull().sum()/len(bike)), 2).sort_values(ascending=False)"
   ]
  },
  {
   "cell_type": "code",
   "execution_count": 10,
   "metadata": {
    "execution": {
     "iopub.execute_input": "2024-01-26T03:32:17.136679Z",
     "iopub.status.busy": "2024-01-26T03:32:17.135559Z",
     "iopub.status.idle": "2024-01-26T03:32:17.149382Z",
     "shell.execute_reply": "2024-01-26T03:32:17.148725Z",
     "shell.execute_reply.started": "2024-01-26T03:21:38.669383Z"
    },
    "papermill": {
     "duration": 0.128378,
     "end_time": "2024-01-26T03:32:17.149531",
     "exception": false,
     "start_time": "2024-01-26T03:32:17.021153",
     "status": "completed"
    },
    "tags": []
   },
   "outputs": [
    {
     "data": {
      "text/plain": [
       "39    0.0\n",
       "38    0.0\n",
       "17    0.0\n",
       "16    0.0\n",
       "15    0.0\n",
       "14    0.0\n",
       "13    0.0\n",
       "12    0.0\n",
       "11    0.0\n",
       "10    0.0\n",
       "9     0.0\n",
       "8     0.0\n",
       "7     0.0\n",
       "6     0.0\n",
       "5     0.0\n",
       "4     0.0\n",
       "3     0.0\n",
       "2     0.0\n",
       "1     0.0\n",
       "18    0.0\n",
       "19    0.0\n",
       "20    0.0\n",
       "30    0.0\n",
       "37    0.0\n",
       "36    0.0\n",
       "35    0.0\n",
       "34    0.0\n",
       "33    0.0\n",
       "32    0.0\n",
       "31    0.0\n",
       "29    0.0\n",
       "21    0.0\n",
       "28    0.0\n",
       "27    0.0\n",
       "26    0.0\n",
       "25    0.0\n",
       "24    0.0\n",
       "23    0.0\n",
       "22    0.0\n",
       "0     0.0\n",
       "dtype: float64"
      ]
     },
     "execution_count": 10,
     "metadata": {},
     "output_type": "execute_result"
    }
   ],
   "source": [
    "# row-wise null count percentage\n",
    "round((bike.isnull().sum(axis=1)/len(bike))*100,2).sort_values(ascending=False)"
   ]
  },
  {
   "cell_type": "markdown",
   "metadata": {
    "papermill": {
     "duration": 0.098885,
     "end_time": "2024-01-26T03:32:17.348936",
     "exception": false,
     "start_time": "2024-01-26T03:32:17.250051",
     "status": "completed"
    },
    "tags": []
   },
   "source": [
    "## Finding\n",
    "There are no missing / Null values either in columns or rows"
   ]
  },
  {
   "cell_type": "markdown",
   "metadata": {
    "papermill": {
     "duration": 0.101432,
     "end_time": "2024-01-26T03:32:17.557752",
     "exception": false,
     "start_time": "2024-01-26T03:32:17.456320",
     "status": "completed"
    },
    "tags": []
   },
   "source": [
    "## Duplicate Check"
   ]
  },
  {
   "cell_type": "code",
   "execution_count": 11,
   "metadata": {
    "execution": {
     "iopub.execute_input": "2024-01-26T03:32:17.772309Z",
     "iopub.status.busy": "2024-01-26T03:32:17.771152Z",
     "iopub.status.idle": "2024-01-26T03:32:17.774413Z",
     "shell.execute_reply": "2024-01-26T03:32:17.773786Z",
     "shell.execute_reply.started": "2024-01-26T03:21:38.682742Z"
    },
    "papermill": {
     "duration": 0.117349,
     "end_time": "2024-01-26T03:32:17.774545",
     "exception": false,
     "start_time": "2024-01-26T03:32:17.657196",
     "status": "completed"
    },
    "tags": []
   },
   "outputs": [],
   "source": [
    "bike_dup = bike.copy()\n",
    "\n",
    "# Checking for duplicates and dropping the entire duplicate row if any\n",
    "bike_dup.drop_duplicates(subset=None, inplace=True)"
   ]
  },
  {
   "cell_type": "code",
   "execution_count": 12,
   "metadata": {
    "execution": {
     "iopub.execute_input": "2024-01-26T03:32:18.030026Z",
     "iopub.status.busy": "2024-01-26T03:32:18.028912Z",
     "iopub.status.idle": "2024-01-26T03:32:18.033733Z",
     "shell.execute_reply": "2024-01-26T03:32:18.033141Z",
     "shell.execute_reply.started": "2024-01-26T03:21:38.700655Z"
    },
    "papermill": {
     "duration": 0.159886,
     "end_time": "2024-01-26T03:32:18.033880",
     "exception": false,
     "start_time": "2024-01-26T03:32:17.873994",
     "status": "completed"
    },
    "tags": []
   },
   "outputs": [
    {
     "data": {
      "text/plain": [
       "(40, 13)"
      ]
     },
     "execution_count": 12,
     "metadata": {},
     "output_type": "execute_result"
    }
   ],
   "source": [
    "bike_dup.shape"
   ]
  },
  {
   "cell_type": "code",
   "execution_count": 13,
   "metadata": {
    "execution": {
     "iopub.execute_input": "2024-01-26T03:32:18.239363Z",
     "iopub.status.busy": "2024-01-26T03:32:18.238586Z",
     "iopub.status.idle": "2024-01-26T03:32:18.243381Z",
     "shell.execute_reply": "2024-01-26T03:32:18.242637Z",
     "shell.execute_reply.started": "2024-01-26T03:21:38.714144Z"
    },
    "papermill": {
     "duration": 0.109537,
     "end_time": "2024-01-26T03:32:18.243525",
     "exception": false,
     "start_time": "2024-01-26T03:32:18.133988",
     "status": "completed"
    },
    "tags": []
   },
   "outputs": [
    {
     "data": {
      "text/plain": [
       "(40, 13)"
      ]
     },
     "execution_count": 13,
     "metadata": {},
     "output_type": "execute_result"
    }
   ],
   "source": [
    "bike.shape"
   ]
  },
  {
   "cell_type": "markdown",
   "metadata": {
    "papermill": {
     "duration": 0.100942,
     "end_time": "2024-01-26T03:32:18.444915",
     "exception": false,
     "start_time": "2024-01-26T03:32:18.343973",
     "status": "completed"
    },
    "tags": []
   },
   "source": [
    "### Insights \n",
    "\n",
    "The shape after running the drop duplicate command is same as the original dataframe. \n",
    "\n",
    "Hence we can conclude that there were zero duplicate values in the dataset. "
   ]
  },
  {
   "cell_type": "markdown",
   "metadata": {
    "papermill": {
     "duration": 0.101288,
     "end_time": "2024-01-26T03:32:18.650299",
     "exception": false,
     "start_time": "2024-01-26T03:32:18.549011",
     "status": "completed"
    },
    "tags": []
   },
   "source": [
    "## Data Cleaning\n",
    "\n",
    "Checking value_counts() for entire dataframe. \n",
    "\n",
    "This will help to identify any Unknow/Junk values present in the dataset."
   ]
  },
  {
   "cell_type": "code",
   "execution_count": 14,
   "metadata": {
    "execution": {
     "iopub.execute_input": "2024-01-26T03:32:18.859889Z",
     "iopub.status.busy": "2024-01-26T03:32:18.858907Z",
     "iopub.status.idle": "2024-01-26T03:32:18.861715Z",
     "shell.execute_reply": "2024-01-26T03:32:18.860871Z",
     "shell.execute_reply.started": "2024-01-26T03:21:38.727982Z"
    },
    "papermill": {
     "duration": 0.109777,
     "end_time": "2024-01-26T03:32:18.861870",
     "exception": false,
     "start_time": "2024-01-26T03:32:18.752093",
     "status": "completed"
    },
    "tags": []
   },
   "outputs": [],
   "source": [
    "#Create a copy of the  dataframe, without the 'instant' column, \n",
    "\n",
    "#as this will have unique values, and donot make sense to do a value count on it.\n",
    "\n",
    "bike_dummy=bike.iloc[:,1:16]"
   ]
  },
  {
   "cell_type": "code",
   "execution_count": 15,
   "metadata": {
    "execution": {
     "iopub.execute_input": "2024-01-26T03:32:19.082617Z",
     "iopub.status.busy": "2024-01-26T03:32:19.081865Z",
     "iopub.status.idle": "2024-01-26T03:32:19.108282Z",
     "shell.execute_reply": "2024-01-26T03:32:19.107410Z",
     "shell.execute_reply.started": "2024-01-26T03:21:38.740484Z"
    },
    "papermill": {
     "duration": 0.145685,
     "end_time": "2024-01-26T03:32:19.108429",
     "exception": false,
     "start_time": "2024-01-26T03:32:18.962744",
     "status": "completed"
    },
    "tags": []
   },
   "outputs": [
    {
     "name": "stdout",
     "output_type": "stream",
     "text": [
      "Triwulan I      10\n",
      "Triwulan IV     10\n",
      "Triwulan II     10\n",
      "Triwulan III    10\n",
      "Name: Periode, dtype: int64 \n",
      "\n",
      "\n",
      "\n",
      "0.00    8\n",
      "0.65    3\n",
      "0.50    2\n",
      "0.59    2\n",
      "0.47    2\n",
      "0.46    2\n",
      "0.53    1\n",
      "0.68    1\n",
      "0.67    1\n",
      "0.54    1\n",
      "0.52    1\n",
      "0.24    1\n",
      "0.44    1\n",
      "0.70    1\n",
      "0.55    1\n",
      "0.71    1\n",
      "1.37    1\n",
      "0.26    1\n",
      "0.58    1\n",
      "0.48    1\n",
      "0.37    1\n",
      "0.51    1\n",
      "0.23    1\n",
      "0.56    1\n",
      "0.30    1\n",
      "1.04    1\n",
      "0.27    1\n",
      "Name: Produktivitas Mangga, dtype: int64 \n",
      "\n",
      "\n",
      "\n",
      "0.00    7\n",
      "0.10    5\n",
      "0.25    3\n",
      "0.16    3\n",
      "0.26    2\n",
      "0.15    2\n",
      "0.18    2\n",
      "0.11    2\n",
      "0.13    1\n",
      "0.12    1\n",
      "0.22    1\n",
      "0.19    1\n",
      "0.31    1\n",
      "0.24    1\n",
      "0.47    1\n",
      "0.85    1\n",
      "0.50    1\n",
      "0.17    1\n",
      "0.66    1\n",
      "0.21    1\n",
      "0.14    1\n",
      "0.20    1\n",
      "Name: Produktivitas Jeruk, dtype: int64 \n",
      "\n",
      "\n",
      "\n",
      "30.0    15\n",
      "28.0    12\n",
      "29.0    11\n",
      "31.0     2\n",
      "Name: Max, dtype: int64 \n",
      "\n",
      "\n",
      "\n",
      "25.0    15\n",
      "24.0    12\n",
      "26.0     9\n",
      "23.0     3\n",
      "22.0     1\n",
      "Name: Min, dtype: int64 \n",
      "\n",
      "\n",
      "\n",
      "27.00    6\n",
      "27.67    5\n",
      "28.00    5\n",
      "26.00    5\n",
      "25.67    4\n",
      "26.33    3\n",
      "26.67    3\n",
      "27.33    3\n",
      "25.00    2\n",
      "25.33    2\n",
      "24.33    1\n",
      "28.33    1\n",
      "Name: Tavg, dtype: int64 \n",
      "\n",
      "\n",
      "\n",
      "302.0    2\n",
      "225.7    2\n",
      "179.3    1\n",
      "214.3    1\n",
      "162.3    1\n",
      "306.3    1\n",
      "30.0     1\n",
      "234.3    1\n",
      "221.0    1\n",
      "111.0    1\n",
      "47.0     1\n",
      "130.3    1\n",
      "320.0    1\n",
      "166.0    1\n",
      "297.3    1\n",
      "135.0    1\n",
      "156.0    1\n",
      "187.0    1\n",
      "237.7    1\n",
      "140.7    1\n",
      "83.7     1\n",
      "184.7    1\n",
      "336.3    1\n",
      "236.3    1\n",
      "133.7    1\n",
      "121.3    1\n",
      "141.3    1\n",
      "244.7    1\n",
      "316.3    1\n",
      "78.7     1\n",
      "254.7    1\n",
      "168.3    1\n",
      "209.7    1\n",
      "102.7    1\n",
      "269.3    1\n",
      "137.7    1\n",
      "138.3    1\n",
      "176.0    1\n",
      "Name: Sun Hour, dtype: int64 \n",
      "\n",
      "\n",
      "\n",
      "24    4\n",
      "83    3\n",
      "33    2\n",
      "46    2\n",
      "25    2\n",
      "45    2\n",
      "20    2\n",
      "10    1\n",
      "8     1\n",
      "18    1\n",
      "75    1\n",
      "7     1\n",
      "13    1\n",
      "6     1\n",
      "14    1\n",
      "79    1\n",
      "17    1\n",
      "70    1\n",
      "23    1\n",
      "19    1\n",
      "22    1\n",
      "71    1\n",
      "88    1\n",
      "26    1\n",
      "81    1\n",
      "49    1\n",
      "50    1\n",
      "53    1\n",
      "54    1\n",
      "66    1\n",
      "Name: Sun Day, dtype: int64 \n",
      "\n",
      "\n",
      "\n",
      "20      2\n",
      "319     1\n",
      "152     1\n",
      "214     1\n",
      "405     1\n",
      "84      1\n",
      "2008    1\n",
      "338     1\n",
      "640     1\n",
      "400     1\n",
      "143     1\n",
      "289     1\n",
      "268     1\n",
      "10      1\n",
      "22      1\n",
      "136     1\n",
      "74      1\n",
      "133     1\n",
      "4       1\n",
      "279     1\n",
      "391     1\n",
      "444     1\n",
      "1053    1\n",
      "375     1\n",
      "54      1\n",
      "501     1\n",
      "216     1\n",
      "177     1\n",
      "437     1\n",
      "302     1\n",
      "12      1\n",
      "300     1\n",
      "295     1\n",
      "97      1\n",
      "164     1\n",
      "46      1\n",
      "384     1\n",
      "225     1\n",
      "448     1\n",
      "Name: Curah Hujan, dtype: int64 \n",
      "\n",
      "\n",
      "\n",
      "67     4\n",
      "41     3\n",
      "45     2\n",
      "47     2\n",
      "68     2\n",
      "9      2\n",
      "25     2\n",
      "59     1\n",
      "11     1\n",
      "10     1\n",
      "69     1\n",
      "72     1\n",
      "70     1\n",
      "80     1\n",
      "4      1\n",
      "66     1\n",
      "78     1\n",
      "84     1\n",
      "17     1\n",
      "83     1\n",
      "249    1\n",
      "85     1\n",
      "22     1\n",
      "154    1\n",
      "32     1\n",
      "37     1\n",
      "42     1\n",
      "5      1\n",
      "56     1\n",
      "385    1\n",
      "Name: Hari Hujan, dtype: int64 \n",
      "\n",
      "\n",
      "\n",
      "7.57     2\n",
      "7.93     2\n",
      "7.60     2\n",
      "6.67     1\n",
      "8.57     1\n",
      "6.40     1\n",
      "12.20    1\n",
      "6.33     1\n",
      "8.83     1\n",
      "8.17     1\n",
      "6.17     1\n",
      "6.87     1\n",
      "7.07     1\n",
      "8.93     1\n",
      "7.03     1\n",
      "6.77     1\n",
      "6.47     1\n",
      "9.50     1\n",
      "10.73    1\n",
      "5.67     1\n",
      "9.77     1\n",
      "8.40     1\n",
      "6.27     1\n",
      "6.57     1\n",
      "5.30     1\n",
      "11.43    1\n",
      "6.30     1\n",
      "5.17     1\n",
      "8.10     1\n",
      "5.47     1\n",
      "7.77     1\n",
      "7.33     1\n",
      "5.53     1\n",
      "7.17     1\n",
      "5.57     1\n",
      "6.07     1\n",
      "6.50     1\n",
      "Name: Kecepatan A, dtype: int64 \n",
      "\n",
      "\n",
      "\n",
      "14.8    3\n",
      "10.8    2\n",
      "10.4    2\n",
      "10.3    2\n",
      "12.7    2\n",
      "12.9    2\n",
      "10.5    1\n",
      "16.5    1\n",
      "14.5    1\n",
      "13.9    1\n",
      "15.2    1\n",
      "12.0    1\n",
      "9.1     1\n",
      "9.8     1\n",
      "13.3    1\n",
      "8.6     1\n",
      "8.4     1\n",
      "12.3    1\n",
      "9.5     1\n",
      "14.6    1\n",
      "10.2    1\n",
      "12.6    1\n",
      "11.3    1\n",
      "11.2    1\n",
      "9.7     1\n",
      "8.2     1\n",
      "17.2    1\n",
      "13.4    1\n",
      "9.4     1\n",
      "7.9     1\n",
      "13.6    1\n",
      "12.1    1\n",
      "14.0    1\n",
      "Name: Mx Kec, dtype: int64 \n",
      "\n",
      "\n",
      "\n"
     ]
    }
   ],
   "source": [
    "for col in bike_dummy:\n",
    "    print(bike_dummy[col].value_counts(ascending=False), '\\n\\n\\n')"
   ]
  },
  {
   "cell_type": "markdown",
   "metadata": {
    "papermill": {
     "duration": 0.101286,
     "end_time": "2024-01-26T03:32:19.310556",
     "exception": false,
     "start_time": "2024-01-26T03:32:19.209270",
     "status": "completed"
    },
    "tags": []
   },
   "source": [
    "### Insights \n",
    "There seems to be no Junk/Unknown values in the entire dataset."
   ]
  },
  {
   "cell_type": "markdown",
   "metadata": {
    "papermill": {
     "duration": 0.103075,
     "end_time": "2024-01-26T03:32:19.515350",
     "exception": false,
     "start_time": "2024-01-26T03:32:19.412275",
     "status": "completed"
    },
    "tags": []
   },
   "source": [
    "# Removing redundant & unwanted columns"
   ]
  },
  {
   "cell_type": "code",
   "execution_count": 16,
   "metadata": {
    "execution": {
     "iopub.execute_input": "2024-01-26T03:32:19.726175Z",
     "iopub.status.busy": "2024-01-26T03:32:19.725130Z",
     "iopub.status.idle": "2024-01-26T03:32:19.729253Z",
     "shell.execute_reply": "2024-01-26T03:32:19.729894Z",
     "shell.execute_reply.started": "2024-01-26T03:21:38.778855Z"
    },
    "papermill": {
     "duration": 0.111498,
     "end_time": "2024-01-26T03:32:19.730062",
     "exception": false,
     "start_time": "2024-01-26T03:32:19.618564",
     "status": "completed"
    },
    "tags": []
   },
   "outputs": [
    {
     "data": {
      "text/plain": [
       "Index(['Year', 'Periode', 'Produktivitas Mangga', 'Produktivitas Jeruk', 'Max',\n",
       "       'Min', 'Tavg', 'Sun Hour', 'Sun Day', 'Curah Hujan', 'Hari Hujan',\n",
       "       'Kecepatan A', 'Mx Kec'],\n",
       "      dtype='object')"
      ]
     },
     "execution_count": 16,
     "metadata": {},
     "output_type": "execute_result"
    }
   ],
   "source": [
    "bike.columns"
   ]
  },
  {
   "cell_type": "code",
   "execution_count": 17,
   "metadata": {
    "execution": {
     "iopub.execute_input": "2024-01-26T03:32:19.938383Z",
     "iopub.status.busy": "2024-01-26T03:32:19.937558Z",
     "iopub.status.idle": "2024-01-26T03:32:19.943154Z",
     "shell.execute_reply": "2024-01-26T03:32:19.943696Z",
     "shell.execute_reply.started": "2024-01-26T03:21:38.786032Z"
    },
    "papermill": {
     "duration": 0.111509,
     "end_time": "2024-01-26T03:32:19.943881",
     "exception": false,
     "start_time": "2024-01-26T03:32:19.832372",
     "status": "completed"
    },
    "tags": []
   },
   "outputs": [],
   "source": [
    "bike_new=bike[['Year', 'Periode','Produktivitas Mangga', 'Curah Hujan',\n",
    "       'Hari Hujan']]\n"
   ]
  },
  {
   "cell_type": "code",
   "execution_count": 18,
   "metadata": {
    "execution": {
     "iopub.execute_input": "2024-01-26T03:32:20.153165Z",
     "iopub.status.busy": "2024-01-26T03:32:20.152355Z",
     "iopub.status.idle": "2024-01-26T03:32:20.157546Z",
     "shell.execute_reply": "2024-01-26T03:32:20.158130Z",
     "shell.execute_reply.started": "2024-01-26T03:21:38.800646Z"
    },
    "papermill": {
     "duration": 0.110694,
     "end_time": "2024-01-26T03:32:20.158306",
     "exception": false,
     "start_time": "2024-01-26T03:32:20.047612",
     "status": "completed"
    },
    "tags": []
   },
   "outputs": [],
   "source": [
    "bike_new_new=bike[['Produktivitas Mangga', 'Curah Hujan',\n",
    "       'Hari Hujan']]"
   ]
  },
  {
   "cell_type": "code",
   "execution_count": 19,
   "metadata": {
    "execution": {
     "iopub.execute_input": "2024-01-26T03:32:20.365109Z",
     "iopub.status.busy": "2024-01-26T03:32:20.364317Z",
     "iopub.status.idle": "2024-01-26T03:32:20.375470Z",
     "shell.execute_reply": "2024-01-26T03:32:20.374637Z",
     "shell.execute_reply.started": "2024-01-26T03:21:38.813287Z"
    },
    "papermill": {
     "duration": 0.11457,
     "end_time": "2024-01-26T03:32:20.375608",
     "exception": false,
     "start_time": "2024-01-26T03:32:20.261038",
     "status": "completed"
    },
    "tags": []
   },
   "outputs": [
    {
     "name": "stdout",
     "output_type": "stream",
     "text": [
      "<class 'pandas.core.frame.DataFrame'>\n",
      "RangeIndex: 40 entries, 0 to 39\n",
      "Data columns (total 5 columns):\n",
      " #   Column                Non-Null Count  Dtype  \n",
      "---  ------                --------------  -----  \n",
      " 0   Year                  40 non-null     int64  \n",
      " 1   Periode               40 non-null     object \n",
      " 2   Produktivitas Mangga  40 non-null     float64\n",
      " 3   Curah Hujan           40 non-null     int64  \n",
      " 4   Hari Hujan            40 non-null     int64  \n",
      "dtypes: float64(1), int64(3), object(1)\n",
      "memory usage: 1.7+ KB\n"
     ]
    }
   ],
   "source": [
    "bike_new.info()"
   ]
  },
  {
   "cell_type": "code",
   "execution_count": 20,
   "metadata": {
    "execution": {
     "iopub.execute_input": "2024-01-26T03:32:20.591886Z",
     "iopub.status.busy": "2024-01-26T03:32:20.586983Z",
     "iopub.status.idle": "2024-01-26T03:32:20.595233Z",
     "shell.execute_reply": "2024-01-26T03:32:20.595777Z",
     "shell.execute_reply.started": "2024-01-26T03:21:38.829333Z"
    },
    "papermill": {
     "duration": 0.117708,
     "end_time": "2024-01-26T03:32:20.595962",
     "exception": false,
     "start_time": "2024-01-26T03:32:20.478254",
     "status": "completed"
    },
    "tags": []
   },
   "outputs": [
    {
     "name": "stdout",
     "output_type": "stream",
     "text": [
      "<class 'pandas.core.frame.DataFrame'>\n",
      "RangeIndex: 40 entries, 0 to 39\n",
      "Data columns (total 3 columns):\n",
      " #   Column                Non-Null Count  Dtype  \n",
      "---  ------                --------------  -----  \n",
      " 0   Produktivitas Mangga  40 non-null     float64\n",
      " 1   Curah Hujan           40 non-null     int64  \n",
      " 2   Hari Hujan            40 non-null     int64  \n",
      "dtypes: float64(1), int64(2)\n",
      "memory usage: 1.1 KB\n"
     ]
    }
   ],
   "source": [
    "bike_new_new.info()"
   ]
  },
  {
   "cell_type": "markdown",
   "metadata": {
    "papermill": {
     "duration": 0.102124,
     "end_time": "2024-01-26T03:32:20.800610",
     "exception": false,
     "start_time": "2024-01-26T03:32:20.698486",
     "status": "completed"
    },
    "tags": []
   },
   "source": [
    "# Creating Dummy Variables"
   ]
  },
  {
   "cell_type": "markdown",
   "metadata": {
    "papermill": {
     "duration": 0.101863,
     "end_time": "2024-01-26T03:32:21.004924",
     "exception": false,
     "start_time": "2024-01-26T03:32:20.903061",
     "status": "completed"
    },
    "tags": []
   },
   "source": [
    "We will create DUMMY variables for 4 categorical variables 'mnth', 'weekday', 'season' & 'weathersit'. \n",
    "- Before creating dummy variables, we will have to convert them into 'category' data types."
   ]
  },
  {
   "cell_type": "code",
   "execution_count": 21,
   "metadata": {
    "execution": {
     "iopub.execute_input": "2024-01-26T03:32:21.218996Z",
     "iopub.status.busy": "2024-01-26T03:32:21.218010Z",
     "iopub.status.idle": "2024-01-26T03:32:21.221770Z",
     "shell.execute_reply": "2024-01-26T03:32:21.222422Z",
     "shell.execute_reply.started": "2024-01-26T03:21:38.843762Z"
    },
    "papermill": {
     "duration": 0.116662,
     "end_time": "2024-01-26T03:32:21.222587",
     "exception": false,
     "start_time": "2024-01-26T03:32:21.105925",
     "status": "completed"
    },
    "tags": []
   },
   "outputs": [
    {
     "name": "stdout",
     "output_type": "stream",
     "text": [
      "<class 'pandas.core.frame.DataFrame'>\n",
      "RangeIndex: 40 entries, 0 to 39\n",
      "Data columns (total 5 columns):\n",
      " #   Column                Non-Null Count  Dtype  \n",
      "---  ------                --------------  -----  \n",
      " 0   Year                  40 non-null     int64  \n",
      " 1   Periode               40 non-null     object \n",
      " 2   Produktivitas Mangga  40 non-null     float64\n",
      " 3   Curah Hujan           40 non-null     int64  \n",
      " 4   Hari Hujan            40 non-null     int64  \n",
      "dtypes: float64(1), int64(3), object(1)\n",
      "memory usage: 1.7+ KB\n"
     ]
    }
   ],
   "source": [
    "# Check the datatypes before convertion\n",
    "bike_new.info()"
   ]
  },
  {
   "cell_type": "code",
   "execution_count": 22,
   "metadata": {
    "execution": {
     "iopub.execute_input": "2024-01-26T03:32:21.437998Z",
     "iopub.status.busy": "2024-01-26T03:32:21.437013Z",
     "iopub.status.idle": "2024-01-26T03:32:21.440761Z",
     "shell.execute_reply": "2024-01-26T03:32:21.440040Z",
     "shell.execute_reply.started": "2024-01-26T03:21:38.859917Z"
    },
    "papermill": {
     "duration": 0.114504,
     "end_time": "2024-01-26T03:32:21.440901",
     "exception": false,
     "start_time": "2024-01-26T03:32:21.326397",
     "status": "completed"
    },
    "tags": []
   },
   "outputs": [],
   "source": [
    "# Convert to 'category' data type\n",
    "\n",
    "bike_new['Year']=bike_new['Year'].astype('category')\n",
    "bike_new['Periode']=bike_new['Periode'].astype('category')"
   ]
  },
  {
   "cell_type": "code",
   "execution_count": 23,
   "metadata": {
    "execution": {
     "iopub.execute_input": "2024-01-26T03:32:21.656668Z",
     "iopub.status.busy": "2024-01-26T03:32:21.655913Z",
     "iopub.status.idle": "2024-01-26T03:32:21.665516Z",
     "shell.execute_reply": "2024-01-26T03:32:21.664916Z",
     "shell.execute_reply.started": "2024-01-26T03:21:38.875703Z"
    },
    "papermill": {
     "duration": 0.119904,
     "end_time": "2024-01-26T03:32:21.665657",
     "exception": false,
     "start_time": "2024-01-26T03:32:21.545753",
     "status": "completed"
    },
    "tags": []
   },
   "outputs": [
    {
     "name": "stdout",
     "output_type": "stream",
     "text": [
      "<class 'pandas.core.frame.DataFrame'>\n",
      "RangeIndex: 40 entries, 0 to 39\n",
      "Data columns (total 5 columns):\n",
      " #   Column                Non-Null Count  Dtype   \n",
      "---  ------                --------------  -----   \n",
      " 0   Year                  40 non-null     category\n",
      " 1   Periode               40 non-null     category\n",
      " 2   Produktivitas Mangga  40 non-null     float64 \n",
      " 3   Curah Hujan           40 non-null     int64   \n",
      " 4   Hari Hujan            40 non-null     int64   \n",
      "dtypes: category(2), float64(1), int64(2)\n",
      "memory usage: 1.7 KB\n"
     ]
    }
   ],
   "source": [
    "bike_new.info()"
   ]
  },
  {
   "cell_type": "code",
   "execution_count": 24,
   "metadata": {
    "execution": {
     "iopub.execute_input": "2024-01-26T03:32:21.879642Z",
     "iopub.status.busy": "2024-01-26T03:32:21.878472Z",
     "iopub.status.idle": "2024-01-26T03:32:21.900185Z",
     "shell.execute_reply": "2024-01-26T03:32:21.899386Z",
     "shell.execute_reply.started": "2024-01-26T03:21:38.893968Z"
    },
    "papermill": {
     "duration": 0.132788,
     "end_time": "2024-01-26T03:32:21.900322",
     "exception": false,
     "start_time": "2024-01-26T03:32:21.767534",
     "status": "completed"
    },
    "tags": []
   },
   "outputs": [
    {
     "name": "stdout",
     "output_type": "stream",
     "text": [
      "<class 'pandas.core.frame.DataFrame'>\n",
      "RangeIndex: 40 entries, 0 to 39\n",
      "Data columns (total 17 columns):\n",
      " #   Column                Non-Null Count  Dtype  \n",
      "---  ------                --------------  -----  \n",
      " 0   Produktivitas Mangga  40 non-null     float64\n",
      " 1   Curah Hujan           40 non-null     int64  \n",
      " 2   Hari Hujan            40 non-null     int64  \n",
      " 3   Year_2012             40 non-null     uint8  \n",
      " 4   Year_2013             40 non-null     uint8  \n",
      " 5   Year_2014             40 non-null     uint8  \n",
      " 6   Year_2015             40 non-null     uint8  \n",
      " 7   Year_2016             40 non-null     uint8  \n",
      " 8   Year_2017             40 non-null     uint8  \n",
      " 9   Year_2018             40 non-null     uint8  \n",
      " 10  Year_2019             40 non-null     uint8  \n",
      " 11  Year_2020             40 non-null     uint8  \n",
      " 12  Year_2021             40 non-null     uint8  \n",
      " 13  Periode_Triwulan I    40 non-null     uint8  \n",
      " 14  Periode_Triwulan II   40 non-null     uint8  \n",
      " 15  Periode_Triwulan III  40 non-null     uint8  \n",
      " 16  Periode_Triwulan IV   40 non-null     uint8  \n",
      "dtypes: float64(1), int64(2), uint8(14)\n",
      "memory usage: 1.6 KB\n"
     ]
    }
   ],
   "source": [
    "# This code does 3 things:\n",
    "# 1) Create Dummy variable\n",
    "# 2) Drop original variable for which the dummy was created\n",
    "# 3) Drop first dummy variable for each set of dummies created.\n",
    "\n",
    "bike_new = pd.get_dummies(bike_new)\n",
    "bike_new.info()"
   ]
  },
  {
   "cell_type": "code",
   "execution_count": 25,
   "metadata": {
    "execution": {
     "iopub.execute_input": "2024-01-26T03:32:22.112122Z",
     "iopub.status.busy": "2024-01-26T03:32:22.110995Z",
     "iopub.status.idle": "2024-01-26T03:32:22.117518Z",
     "shell.execute_reply": "2024-01-26T03:32:22.118136Z",
     "shell.execute_reply.started": "2024-01-26T03:21:38.920703Z"
    },
    "papermill": {
     "duration": 0.113979,
     "end_time": "2024-01-26T03:32:22.118297",
     "exception": false,
     "start_time": "2024-01-26T03:32:22.004318",
     "status": "completed"
    },
    "tags": []
   },
   "outputs": [
    {
     "data": {
      "text/plain": [
       "(40, 17)"
      ]
     },
     "execution_count": 25,
     "metadata": {},
     "output_type": "execute_result"
    }
   ],
   "source": [
    "bike_new.shape"
   ]
  },
  {
   "cell_type": "markdown",
   "metadata": {
    "papermill": {
     "duration": 0.103386,
     "end_time": "2024-01-26T03:32:22.325288",
     "exception": false,
     "start_time": "2024-01-26T03:32:22.221902",
     "status": "completed"
    },
    "tags": []
   },
   "source": [
    "## SPLITTING THE DATA\n",
    "- Splitting the data to Train and Test: - We will now split the data into TRAIN and TEST (70:30 ratio) \n",
    "- We will use train_test_split method from sklearn package for this"
   ]
  },
  {
   "cell_type": "code",
   "execution_count": 26,
   "metadata": {
    "execution": {
     "iopub.execute_input": "2024-01-26T03:32:22.539503Z",
     "iopub.status.busy": "2024-01-26T03:32:22.538416Z",
     "iopub.status.idle": "2024-01-26T03:32:22.544176Z",
     "shell.execute_reply": "2024-01-26T03:32:22.544799Z",
     "shell.execute_reply.started": "2024-01-26T03:21:38.932979Z"
    },
    "papermill": {
     "duration": 0.114654,
     "end_time": "2024-01-26T03:32:22.544973",
     "exception": false,
     "start_time": "2024-01-26T03:32:22.430319",
     "status": "completed"
    },
    "tags": []
   },
   "outputs": [
    {
     "data": {
      "text/plain": [
       "(40, 3)"
      ]
     },
     "execution_count": 26,
     "metadata": {},
     "output_type": "execute_result"
    }
   ],
   "source": [
    "# Check the shape before spliting\n",
    "\n",
    "bike_new_new.shape"
   ]
  },
  {
   "cell_type": "code",
   "execution_count": 27,
   "metadata": {
    "execution": {
     "iopub.execute_input": "2024-01-26T03:32:22.761812Z",
     "iopub.status.busy": "2024-01-26T03:32:22.760763Z",
     "iopub.status.idle": "2024-01-26T03:32:22.771432Z",
     "shell.execute_reply": "2024-01-26T03:32:22.770778Z",
     "shell.execute_reply.started": "2024-01-26T03:21:38.943169Z"
    },
    "papermill": {
     "duration": 0.118607,
     "end_time": "2024-01-26T03:32:22.771569",
     "exception": false,
     "start_time": "2024-01-26T03:32:22.652962",
     "status": "completed"
    },
    "tags": []
   },
   "outputs": [
    {
     "name": "stdout",
     "output_type": "stream",
     "text": [
      "<class 'pandas.core.frame.DataFrame'>\n",
      "RangeIndex: 40 entries, 0 to 39\n",
      "Data columns (total 3 columns):\n",
      " #   Column                Non-Null Count  Dtype  \n",
      "---  ------                --------------  -----  \n",
      " 0   Produktivitas Mangga  40 non-null     float64\n",
      " 1   Curah Hujan           40 non-null     int64  \n",
      " 2   Hari Hujan            40 non-null     int64  \n",
      "dtypes: float64(1), int64(2)\n",
      "memory usage: 1.1 KB\n"
     ]
    }
   ],
   "source": [
    "# Check the info before spliting\n",
    "\n",
    "bike_new_new.info()"
   ]
  },
  {
   "cell_type": "code",
   "execution_count": 28,
   "metadata": {
    "execution": {
     "iopub.execute_input": "2024-01-26T03:32:22.990655Z",
     "iopub.status.busy": "2024-01-26T03:32:22.989513Z",
     "iopub.status.idle": "2024-01-26T03:32:23.102368Z",
     "shell.execute_reply": "2024-01-26T03:32:23.100487Z",
     "shell.execute_reply.started": "2024-01-26T03:21:38.958554Z"
    },
    "papermill": {
     "duration": 0.225159,
     "end_time": "2024-01-26T03:32:23.102528",
     "exception": false,
     "start_time": "2024-01-26T03:32:22.877369",
     "status": "completed"
    },
    "tags": []
   },
   "outputs": [],
   "source": [
    "from sklearn.model_selection import train_test_split\n",
    "\n",
    "# We should specify 'random_state' so that the train and test data set always have the same rows, respectively\n",
    "\n",
    "np.random.seed(0)\n",
    "df_train, df_test = train_test_split(bike_new_new, train_size = 0.70, test_size = 0.30, random_state = 333)"
   ]
  },
  {
   "cell_type": "markdown",
   "metadata": {
    "papermill": {
     "duration": 0.104233,
     "end_time": "2024-01-26T03:32:23.311343",
     "exception": false,
     "start_time": "2024-01-26T03:32:23.207110",
     "status": "completed"
    },
    "tags": []
   },
   "source": [
    "\n",
    "- Verify the info and shape of the dataframes after split:"
   ]
  },
  {
   "cell_type": "code",
   "execution_count": 29,
   "metadata": {
    "execution": {
     "iopub.execute_input": "2024-01-26T03:32:23.529897Z",
     "iopub.status.busy": "2024-01-26T03:32:23.528762Z",
     "iopub.status.idle": "2024-01-26T03:32:23.539814Z",
     "shell.execute_reply": "2024-01-26T03:32:23.539175Z",
     "shell.execute_reply.started": "2024-01-26T03:21:38.973606Z"
    },
    "papermill": {
     "duration": 0.12161,
     "end_time": "2024-01-26T03:32:23.539971",
     "exception": false,
     "start_time": "2024-01-26T03:32:23.418361",
     "status": "completed"
    },
    "tags": []
   },
   "outputs": [
    {
     "name": "stdout",
     "output_type": "stream",
     "text": [
      "<class 'pandas.core.frame.DataFrame'>\n",
      "Int64Index: 28 entries, 1 to 12\n",
      "Data columns (total 3 columns):\n",
      " #   Column                Non-Null Count  Dtype  \n",
      "---  ------                --------------  -----  \n",
      " 0   Produktivitas Mangga  28 non-null     float64\n",
      " 1   Curah Hujan           28 non-null     int64  \n",
      " 2   Hari Hujan            28 non-null     int64  \n",
      "dtypes: float64(1), int64(2)\n",
      "memory usage: 896.0 bytes\n"
     ]
    }
   ],
   "source": [
    "df_train.info()"
   ]
  },
  {
   "cell_type": "code",
   "execution_count": 30,
   "metadata": {
    "execution": {
     "iopub.execute_input": "2024-01-26T03:32:23.759879Z",
     "iopub.status.busy": "2024-01-26T03:32:23.758826Z",
     "iopub.status.idle": "2024-01-26T03:32:23.763675Z",
     "shell.execute_reply": "2024-01-26T03:32:23.763063Z",
     "shell.execute_reply.started": "2024-01-26T03:21:38.990462Z"
    },
    "papermill": {
     "duration": 0.115767,
     "end_time": "2024-01-26T03:32:23.763812",
     "exception": false,
     "start_time": "2024-01-26T03:32:23.648045",
     "status": "completed"
    },
    "tags": []
   },
   "outputs": [
    {
     "data": {
      "text/plain": [
       "(28, 3)"
      ]
     },
     "execution_count": 30,
     "metadata": {},
     "output_type": "execute_result"
    }
   ],
   "source": [
    "df_train.shape"
   ]
  },
  {
   "cell_type": "code",
   "execution_count": 31,
   "metadata": {
    "execution": {
     "iopub.execute_input": "2024-01-26T03:32:23.980070Z",
     "iopub.status.busy": "2024-01-26T03:32:23.978926Z",
     "iopub.status.idle": "2024-01-26T03:32:23.988931Z",
     "shell.execute_reply": "2024-01-26T03:32:23.989524Z",
     "shell.execute_reply.started": "2024-01-26T03:21:39.001612Z"
    },
    "papermill": {
     "duration": 0.120169,
     "end_time": "2024-01-26T03:32:23.989711",
     "exception": false,
     "start_time": "2024-01-26T03:32:23.869542",
     "status": "completed"
    },
    "tags": []
   },
   "outputs": [
    {
     "name": "stdout",
     "output_type": "stream",
     "text": [
      "<class 'pandas.core.frame.DataFrame'>\n",
      "Int64Index: 12 entries, 31 to 0\n",
      "Data columns (total 3 columns):\n",
      " #   Column                Non-Null Count  Dtype  \n",
      "---  ------                --------------  -----  \n",
      " 0   Produktivitas Mangga  12 non-null     float64\n",
      " 1   Curah Hujan           12 non-null     int64  \n",
      " 2   Hari Hujan            12 non-null     int64  \n",
      "dtypes: float64(1), int64(2)\n",
      "memory usage: 384.0 bytes\n"
     ]
    }
   ],
   "source": [
    "df_test.info()"
   ]
  },
  {
   "cell_type": "code",
   "execution_count": 32,
   "metadata": {
    "execution": {
     "iopub.execute_input": "2024-01-26T03:32:24.205465Z",
     "iopub.status.busy": "2024-01-26T03:32:24.204366Z",
     "iopub.status.idle": "2024-01-26T03:32:24.210344Z",
     "shell.execute_reply": "2024-01-26T03:32:24.210884Z",
     "shell.execute_reply.started": "2024-01-26T03:21:39.018082Z"
    },
    "papermill": {
     "duration": 0.115741,
     "end_time": "2024-01-26T03:32:24.211083",
     "exception": false,
     "start_time": "2024-01-26T03:32:24.095342",
     "status": "completed"
    },
    "tags": []
   },
   "outputs": [
    {
     "data": {
      "text/plain": [
       "(12, 3)"
      ]
     },
     "execution_count": 32,
     "metadata": {},
     "output_type": "execute_result"
    }
   ],
   "source": [
    "df_test.shape"
   ]
  },
  {
   "cell_type": "markdown",
   "metadata": {
    "papermill": {
     "duration": 0.105489,
     "end_time": "2024-01-26T03:32:24.422746",
     "exception": false,
     "start_time": "2024-01-26T03:32:24.317257",
     "status": "completed"
    },
    "tags": []
   },
   "source": [
    "# EXPLORATORY DATA ANALYSIS"
   ]
  },
  {
   "cell_type": "markdown",
   "metadata": {
    "papermill": {
     "duration": 0.107295,
     "end_time": "2024-01-26T03:32:24.637764",
     "exception": false,
     "start_time": "2024-01-26T03:32:24.530469",
     "status": "completed"
    },
    "tags": []
   },
   "source": [
    "\n",
    "- We need to  perform the EDA on TRAINING (df_train) Dataset."
   ]
  },
  {
   "cell_type": "markdown",
   "metadata": {
    "papermill": {
     "duration": 0.106267,
     "end_time": "2024-01-26T03:32:24.850289",
     "exception": false,
     "start_time": "2024-01-26T03:32:24.744022",
     "status": "completed"
    },
    "tags": []
   },
   "source": [
    "## Visualising Numeric Variables\n",
    "Let's make a pairplot of all the numeric variables."
   ]
  },
  {
   "cell_type": "code",
   "execution_count": 33,
   "metadata": {
    "execution": {
     "iopub.execute_input": "2024-01-26T03:32:25.066046Z",
     "iopub.status.busy": "2024-01-26T03:32:25.064962Z",
     "iopub.status.idle": "2024-01-26T03:32:25.075142Z",
     "shell.execute_reply": "2024-01-26T03:32:25.075690Z",
     "shell.execute_reply.started": "2024-01-26T03:21:39.029943Z"
    },
    "papermill": {
     "duration": 0.119631,
     "end_time": "2024-01-26T03:32:25.075875",
     "exception": false,
     "start_time": "2024-01-26T03:32:24.956244",
     "status": "completed"
    },
    "tags": []
   },
   "outputs": [
    {
     "name": "stdout",
     "output_type": "stream",
     "text": [
      "<class 'pandas.core.frame.DataFrame'>\n",
      "Int64Index: 28 entries, 1 to 12\n",
      "Data columns (total 3 columns):\n",
      " #   Column                Non-Null Count  Dtype  \n",
      "---  ------                --------------  -----  \n",
      " 0   Produktivitas Mangga  28 non-null     float64\n",
      " 1   Curah Hujan           28 non-null     int64  \n",
      " 2   Hari Hujan            28 non-null     int64  \n",
      "dtypes: float64(1), int64(2)\n",
      "memory usage: 896.0 bytes\n"
     ]
    }
   ],
   "source": [
    "df_train.info()"
   ]
  },
  {
   "cell_type": "code",
   "execution_count": 34,
   "metadata": {
    "execution": {
     "iopub.execute_input": "2024-01-26T03:32:25.295799Z",
     "iopub.status.busy": "2024-01-26T03:32:25.295021Z",
     "iopub.status.idle": "2024-01-26T03:32:25.298025Z",
     "shell.execute_reply": "2024-01-26T03:32:25.298658Z",
     "shell.execute_reply.started": "2024-01-26T03:21:39.048053Z"
    },
    "papermill": {
     "duration": 0.116058,
     "end_time": "2024-01-26T03:32:25.298813",
     "exception": false,
     "start_time": "2024-01-26T03:32:25.182755",
     "status": "completed"
    },
    "tags": []
   },
   "outputs": [
    {
     "data": {
      "text/plain": [
       "Index(['Produktivitas Mangga', 'Curah Hujan', 'Hari Hujan'], dtype='object')"
      ]
     },
     "execution_count": 34,
     "metadata": {},
     "output_type": "execute_result"
    }
   ],
   "source": [
    "df_train.columns"
   ]
  },
  {
   "cell_type": "code",
   "execution_count": 35,
   "metadata": {
    "execution": {
     "iopub.execute_input": "2024-01-26T03:32:25.518895Z",
     "iopub.status.busy": "2024-01-26T03:32:25.518125Z",
     "iopub.status.idle": "2024-01-26T03:32:28.204668Z",
     "shell.execute_reply": "2024-01-26T03:32:28.205318Z",
     "shell.execute_reply.started": "2024-01-26T03:21:39.058387Z"
    },
    "papermill": {
     "duration": 2.798528,
     "end_time": "2024-01-26T03:32:28.205485",
     "exception": false,
     "start_time": "2024-01-26T03:32:25.406957",
     "status": "completed"
    },
    "tags": []
   },
   "outputs": [
    {
     "data": {
      "image/png": "[encoded data removed]",
      "text/plain": [
       "<Figure size 540x540 with 12 Axes>"
      ]
     },
     "metadata": {
      "needs_background": "light"
     },
     "output_type": "display_data"
    }
   ],
   "source": [
    "# Create a new dataframe of only numeric variables:\n",
    "\n",
    "bike_num=df_train[['Produktivitas Mangga', 'Curah Hujan',\n",
    "       'Hari Hujan']]\n",
    "\n",
    "sns.pairplot(bike_num, diag_kind='kde')\n",
    "plt.show()"
   ]
  },
  {
   "cell_type": "markdown",
   "metadata": {
    "papermill": {
     "duration": 0.122596,
     "end_time": "2024-01-26T03:32:28.453114",
     "exception": false,
     "start_time": "2024-01-26T03:32:28.330518",
     "status": "completed"
    },
    "tags": []
   },
   "source": [
    "### Insights\n",
    "- The above Pair-Plot tells us that there is a LINEAR RELATION between 'temp','atemp' and 'cnt' "
   ]
  },
  {
   "cell_type": "markdown",
   "metadata": {
    "papermill": {
     "duration": 0.111739,
     "end_time": "2024-01-26T03:32:28.676355",
     "exception": false,
     "start_time": "2024-01-26T03:32:28.564616",
     "status": "completed"
    },
    "tags": []
   },
   "source": [
    "## Visualising Catagorical Variables"
   ]
  },
  {
   "cell_type": "code",
   "execution_count": 36,
   "metadata": {
    "execution": {
     "iopub.execute_input": "2024-01-26T03:32:28.906417Z",
     "iopub.status.busy": "2024-01-26T03:32:28.905227Z",
     "iopub.status.idle": "2024-01-26T03:32:28.910912Z",
     "shell.execute_reply": "2024-01-26T03:32:28.910244Z",
     "shell.execute_reply.started": "2024-01-26T03:21:40.973967Z"
    },
    "papermill": {
     "duration": 0.125354,
     "end_time": "2024-01-26T03:32:28.911071",
     "exception": false,
     "start_time": "2024-01-26T03:32:28.785717",
     "status": "completed"
    },
    "tags": []
   },
   "outputs": [
    {
     "name": "stdout",
     "output_type": "stream",
     "text": [
      "<class 'pandas.core.frame.DataFrame'>\n",
      "Int64Index: 28 entries, 1 to 12\n",
      "Data columns (total 3 columns):\n",
      " #   Column                Non-Null Count  Dtype  \n",
      "---  ------                --------------  -----  \n",
      " 0   Produktivitas Mangga  28 non-null     float64\n",
      " 1   Curah Hujan           28 non-null     int64  \n",
      " 2   Hari Hujan            28 non-null     int64  \n",
      "dtypes: float64(1), int64(2)\n",
      "memory usage: 2.1 KB\n"
     ]
    }
   ],
   "source": [
    "df_train.info()"
   ]
  },
  {
   "cell_type": "code",
   "execution_count": 37,
   "metadata": {
    "execution": {
     "iopub.execute_input": "2024-01-26T03:32:29.147422Z",
     "iopub.status.busy": "2024-01-26T03:32:29.146615Z",
     "iopub.status.idle": "2024-01-26T03:32:29.643279Z",
     "shell.execute_reply": "2024-01-26T03:32:29.642592Z",
     "shell.execute_reply.started": "2024-01-26T03:21:40.987197Z"
    },
    "papermill": {
     "duration": 0.621073,
     "end_time": "2024-01-26T03:32:29.643432",
     "exception": false,
     "start_time": "2024-01-26T03:32:29.022359",
     "status": "completed"
    },
    "tags": []
   },
   "outputs": [
    {
     "data": {
      "image/png": "[encoded data removed]",
      "text/plain": [
       "<Figure size 1800x720 with 2 Axes>"
      ]
     },
     "metadata": {
      "needs_background": "light"
     },
     "output_type": "display_data"
    }
   ],
   "source": [
    "# Build boxplot of all categorical variables (before creating dummies) againt the target variable 'cnt' \n",
    "# to see how each of the predictor variable stackup against the target variable.\n",
    "\n",
    "plt.figure(figsize=(25, 10))\n",
    "plt.subplot(2,3,1)\n",
    "sns.boxplot(x = 'Year', y = 'Produktivitas Mangga', data = bike)\n",
    "plt.subplot(2,3,2)\n",
    "sns.boxplot(x = 'Periode', y = 'Produktivitas Mangga', data = bike)\n",
    "plt.show()"
   ]
  },
  {
   "cell_type": "markdown",
   "metadata": {
    "papermill": {
     "duration": 0.112602,
     "end_time": "2024-01-26T03:32:29.868720",
     "exception": false,
     "start_time": "2024-01-26T03:32:29.756118",
     "status": "completed"
    },
    "tags": []
   },
   "source": [
    "## Correlation Matrix"
   ]
  },
  {
   "cell_type": "code",
   "execution_count": 38,
   "metadata": {
    "execution": {
     "iopub.execute_input": "2024-01-26T03:32:30.113354Z",
     "iopub.status.busy": "2024-01-26T03:32:30.112526Z",
     "iopub.status.idle": "2024-01-26T03:32:30.425086Z",
     "shell.execute_reply": "2024-01-26T03:32:30.424327Z",
     "shell.execute_reply.started": "2024-01-26T03:21:41.342878Z"
    },
    "papermill": {
     "duration": 0.444991,
     "end_time": "2024-01-26T03:32:30.425221",
     "exception": false,
     "start_time": "2024-01-26T03:32:29.980230",
     "status": "completed"
    },
    "tags": []
   },
   "outputs": [
    {
     "data": {
      "image/png": "[encoded data removed]",
      "text/plain": [
       "<Figure size 1800x1440 with 2 Axes>"
      ]
     },
     "metadata": {
      "needs_background": "light"
     },
     "output_type": "display_data"
    }
   ],
   "source": [
    "# Let's check the correlation coefficients to see which variables are highly correlated. Note:\n",
    "# here we are considering only those variables (dataframe: bike_new) that were chosen for analysis\n",
    "\n",
    "plt.figure(figsize = (25,20))\n",
    "sns.heatmap(bike_new_new.corr(), annot = True, cmap=\"RdBu\")\n",
    "plt.show()"
   ]
  },
  {
   "cell_type": "markdown",
   "metadata": {
    "papermill": {
     "duration": 0.114107,
     "end_time": "2024-01-26T03:32:30.653540",
     "exception": false,
     "start_time": "2024-01-26T03:32:30.539433",
     "status": "completed"
    },
    "tags": []
   },
   "source": [
    "### Insights:\n",
    " - The heatmap clearly shows which all variable are multicollinear in nature, and which variable have high collinearity with the target variable.\n",
    " - We will refer this map back-and-forth while building the linear model so as to validate different correlated values along with VIF & p-value, for identifying the correct variable to select/eliminate from the model."
   ]
  },
  {
   "cell_type": "markdown",
   "metadata": {
    "papermill": {
     "duration": 0.111067,
     "end_time": "2024-01-26T03:32:30.878608",
     "exception": false,
     "start_time": "2024-01-26T03:32:30.767541",
     "status": "completed"
    },
    "tags": []
   },
   "source": [
    "# RESCALING THE FEATURES"
   ]
  },
  {
   "cell_type": "code",
   "execution_count": 39,
   "metadata": {
    "execution": {
     "iopub.execute_input": "2024-01-26T03:32:31.109668Z",
     "iopub.status.busy": "2024-01-26T03:32:31.108478Z",
     "iopub.status.idle": "2024-01-26T03:32:31.111587Z",
     "shell.execute_reply": "2024-01-26T03:32:31.110859Z",
     "shell.execute_reply.started": "2024-01-26T03:21:41.567282Z"
    },
    "papermill": {
     "duration": 0.120502,
     "end_time": "2024-01-26T03:32:31.111715",
     "exception": false,
     "start_time": "2024-01-26T03:32:30.991213",
     "status": "completed"
    },
    "tags": []
   },
   "outputs": [],
   "source": [
    "from sklearn.preprocessing import MinMaxScaler"
   ]
  },
  {
   "cell_type": "code",
   "execution_count": 40,
   "metadata": {
    "execution": {
     "iopub.execute_input": "2024-01-26T03:32:31.340651Z",
     "iopub.status.busy": "2024-01-26T03:32:31.339941Z",
     "iopub.status.idle": "2024-01-26T03:32:31.343735Z",
     "shell.execute_reply": "2024-01-26T03:32:31.344428Z",
     "shell.execute_reply.started": "2024-01-26T03:21:41.571449Z"
    },
    "papermill": {
     "duration": 0.119152,
     "end_time": "2024-01-26T03:32:31.344566",
     "exception": false,
     "start_time": "2024-01-26T03:32:31.225414",
     "status": "completed"
    },
    "tags": []
   },
   "outputs": [],
   "source": [
    "scaler = MinMaxScaler()"
   ]
  },
  {
   "cell_type": "code",
   "execution_count": 41,
   "metadata": {
    "execution": {
     "iopub.execute_input": "2024-01-26T03:32:31.576357Z",
     "iopub.status.busy": "2024-01-26T03:32:31.575625Z",
     "iopub.status.idle": "2024-01-26T03:32:31.586911Z",
     "shell.execute_reply": "2024-01-26T03:32:31.587524Z",
     "shell.execute_reply.started": "2024-01-26T03:21:41.585095Z"
    },
    "papermill": {
     "duration": 0.129978,
     "end_time": "2024-01-26T03:32:31.587683",
     "exception": false,
     "start_time": "2024-01-26T03:32:31.457705",
     "status": "completed"
    },
    "scrolled": true,
    "tags": []
   },
   "outputs": [
    {
     "data": {
      "text/html": [
       "<div>\n",
       "<style scoped>\n",
       "    .dataframe tbody tr th:only-of-type {\n",
       "        vertical-align: middle;\n",
       "    }\n",
       "\n",
       "    .dataframe tbody tr th {\n",
       "        vertical-align: top;\n",
       "    }\n",
       "\n",
       "    .dataframe thead th {\n",
       "        text-align: right;\n",
       "    }\n",
       "</style>\n",
       "<table border=\"1\" class=\"dataframe\">\n",
       "  <thead>\n",
       "    <tr style=\"text-align: right;\">\n",
       "      <th></th>\n",
       "      <th>Produktivitas Mangga</th>\n",
       "      <th>Curah Hujan</th>\n",
       "      <th>Hari Hujan</th>\n",
       "    </tr>\n",
       "  </thead>\n",
       "  <tbody>\n",
       "    <tr>\n",
       "      <th>1</th>\n",
       "      <td>0.00</td>\n",
       "      <td>164</td>\n",
       "      <td>42</td>\n",
       "    </tr>\n",
       "    <tr>\n",
       "      <th>14</th>\n",
       "      <td>0.56</td>\n",
       "      <td>12</td>\n",
       "      <td>9</td>\n",
       "    </tr>\n",
       "    <tr>\n",
       "      <th>36</th>\n",
       "      <td>0.26</td>\n",
       "      <td>384</td>\n",
       "      <td>84</td>\n",
       "    </tr>\n",
       "    <tr>\n",
       "      <th>11</th>\n",
       "      <td>0.53</td>\n",
       "      <td>319</td>\n",
       "      <td>67</td>\n",
       "    </tr>\n",
       "    <tr>\n",
       "      <th>18</th>\n",
       "      <td>0.54</td>\n",
       "      <td>143</td>\n",
       "      <td>47</td>\n",
       "    </tr>\n",
       "  </tbody>\n",
       "</table>\n",
       "</div>"
      ],
      "text/plain": [
       "    Produktivitas Mangga  Curah Hujan  Hari Hujan\n",
       "1                   0.00          164          42\n",
       "14                  0.56           12           9\n",
       "36                  0.26          384          84\n",
       "11                  0.53          319          67\n",
       "18                  0.54          143          47"
      ]
     },
     "execution_count": 41,
     "metadata": {},
     "output_type": "execute_result"
    }
   ],
   "source": [
    "# Checking the values before scaling\n",
    "df_train.head()"
   ]
  },
  {
   "cell_type": "code",
   "execution_count": 42,
   "metadata": {
    "execution": {
     "iopub.execute_input": "2024-01-26T03:32:31.821626Z",
     "iopub.status.busy": "2024-01-26T03:32:31.820855Z",
     "iopub.status.idle": "2024-01-26T03:32:31.825900Z",
     "shell.execute_reply": "2024-01-26T03:32:31.825264Z",
     "shell.execute_reply.started": "2024-01-26T03:21:41.605240Z"
    },
    "papermill": {
     "duration": 0.124266,
     "end_time": "2024-01-26T03:32:31.826038",
     "exception": false,
     "start_time": "2024-01-26T03:32:31.701772",
     "status": "completed"
    },
    "tags": []
   },
   "outputs": [
    {
     "data": {
      "text/plain": [
       "Index(['Produktivitas Mangga', 'Curah Hujan', 'Hari Hujan'], dtype='object')"
      ]
     },
     "execution_count": 42,
     "metadata": {},
     "output_type": "execute_result"
    }
   ],
   "source": [
    "df_train.columns"
   ]
  },
  {
   "cell_type": "code",
   "execution_count": 43,
   "metadata": {
    "execution": {
     "iopub.execute_input": "2024-01-26T03:32:32.068552Z",
     "iopub.status.busy": "2024-01-26T03:32:32.067730Z",
     "iopub.status.idle": "2024-01-26T03:32:32.071867Z",
     "shell.execute_reply": "2024-01-26T03:32:32.071098Z",
     "shell.execute_reply.started": "2024-01-26T03:21:41.618638Z"
    },
    "papermill": {
     "duration": 0.131052,
     "end_time": "2024-01-26T03:32:32.071998",
     "exception": false,
     "start_time": "2024-01-26T03:32:31.940946",
     "status": "completed"
    },
    "tags": []
   },
   "outputs": [],
   "source": [
    "# Apply scaler() to all the numeric variables\n",
    "\n",
    "num_vars = ['Produktivitas Mangga', 'Curah Hujan',\n",
    "       'Hari Hujan']\n",
    "\n",
    "df_train[num_vars] = scaler.fit_transform(df_train[num_vars])"
   ]
  },
  {
   "cell_type": "code",
   "execution_count": 44,
   "metadata": {
    "execution": {
     "iopub.execute_input": "2024-01-26T03:32:32.310260Z",
     "iopub.status.busy": "2024-01-26T03:32:32.309457Z",
     "iopub.status.idle": "2024-01-26T03:32:32.314546Z",
     "shell.execute_reply": "2024-01-26T03:32:32.313933Z",
     "shell.execute_reply.started": "2024-01-26T03:21:41.638129Z"
    },
    "papermill": {
     "duration": 0.129584,
     "end_time": "2024-01-26T03:32:32.314668",
     "exception": false,
     "start_time": "2024-01-26T03:32:32.185084",
     "status": "completed"
    },
    "tags": []
   },
   "outputs": [
    {
     "data": {
      "text/html": [
       "<div>\n",
       "<style scoped>\n",
       "    .dataframe tbody tr th:only-of-type {\n",
       "        vertical-align: middle;\n",
       "    }\n",
       "\n",
       "    .dataframe tbody tr th {\n",
       "        vertical-align: top;\n",
       "    }\n",
       "\n",
       "    .dataframe thead th {\n",
       "        text-align: right;\n",
       "    }\n",
       "</style>\n",
       "<table border=\"1\" class=\"dataframe\">\n",
       "  <thead>\n",
       "    <tr style=\"text-align: right;\">\n",
       "      <th></th>\n",
       "      <th>Produktivitas Mangga</th>\n",
       "      <th>Curah Hujan</th>\n",
       "      <th>Hari Hujan</th>\n",
       "    </tr>\n",
       "  </thead>\n",
       "  <tbody>\n",
       "    <tr>\n",
       "      <th>1</th>\n",
       "      <td>0.000000</td>\n",
       "      <td>0.079840</td>\n",
       "      <td>0.097368</td>\n",
       "    </tr>\n",
       "    <tr>\n",
       "      <th>14</th>\n",
       "      <td>0.823529</td>\n",
       "      <td>0.003992</td>\n",
       "      <td>0.010526</td>\n",
       "    </tr>\n",
       "    <tr>\n",
       "      <th>36</th>\n",
       "      <td>0.382353</td>\n",
       "      <td>0.189621</td>\n",
       "      <td>0.207895</td>\n",
       "    </tr>\n",
       "    <tr>\n",
       "      <th>11</th>\n",
       "      <td>0.779412</td>\n",
       "      <td>0.157186</td>\n",
       "      <td>0.163158</td>\n",
       "    </tr>\n",
       "    <tr>\n",
       "      <th>18</th>\n",
       "      <td>0.794118</td>\n",
       "      <td>0.069361</td>\n",
       "      <td>0.110526</td>\n",
       "    </tr>\n",
       "  </tbody>\n",
       "</table>\n",
       "</div>"
      ],
      "text/plain": [
       "    Produktivitas Mangga  Curah Hujan  Hari Hujan\n",
       "1               0.000000     0.079840    0.097368\n",
       "14              0.823529     0.003992    0.010526\n",
       "36              0.382353     0.189621    0.207895\n",
       "11              0.779412     0.157186    0.163158\n",
       "18              0.794118     0.069361    0.110526"
      ]
     },
     "execution_count": 44,
     "metadata": {},
     "output_type": "execute_result"
    }
   ],
   "source": [
    "# Checking values after scaling\n",
    "df_train.head()"
   ]
  },
  {
   "cell_type": "code",
   "execution_count": 45,
   "metadata": {
    "execution": {
     "iopub.execute_input": "2024-01-26T03:32:32.572410Z",
     "iopub.status.busy": "2024-01-26T03:32:32.557608Z",
     "iopub.status.idle": "2024-01-26T03:32:32.577448Z",
     "shell.execute_reply": "2024-01-26T03:32:32.576768Z",
     "shell.execute_reply.started": "2024-01-26T03:21:41.657208Z"
    },
    "papermill": {
     "duration": 0.14931,
     "end_time": "2024-01-26T03:32:32.577579",
     "exception": false,
     "start_time": "2024-01-26T03:32:32.428269",
     "status": "completed"
    },
    "tags": []
   },
   "outputs": [
    {
     "data": {
      "text/html": [
       "<div>\n",
       "<style scoped>\n",
       "    .dataframe tbody tr th:only-of-type {\n",
       "        vertical-align: middle;\n",
       "    }\n",
       "\n",
       "    .dataframe tbody tr th {\n",
       "        vertical-align: top;\n",
       "    }\n",
       "\n",
       "    .dataframe thead th {\n",
       "        text-align: right;\n",
       "    }\n",
       "</style>\n",
       "<table border=\"1\" class=\"dataframe\">\n",
       "  <thead>\n",
       "    <tr style=\"text-align: right;\">\n",
       "      <th></th>\n",
       "      <th>Produktivitas Mangga</th>\n",
       "      <th>Curah Hujan</th>\n",
       "      <th>Hari Hujan</th>\n",
       "    </tr>\n",
       "  </thead>\n",
       "  <tbody>\n",
       "    <tr>\n",
       "      <th>count</th>\n",
       "      <td>28.000000</td>\n",
       "      <td>28.000000</td>\n",
       "      <td>28.000000</td>\n",
       "    </tr>\n",
       "    <tr>\n",
       "      <th>mean</th>\n",
       "      <td>0.526786</td>\n",
       "      <td>0.165490</td>\n",
       "      <td>0.173308</td>\n",
       "    </tr>\n",
       "    <tr>\n",
       "      <th>std</th>\n",
       "      <td>0.376528</td>\n",
       "      <td>0.196708</td>\n",
       "      <td>0.205274</td>\n",
       "    </tr>\n",
       "    <tr>\n",
       "      <th>min</th>\n",
       "      <td>0.000000</td>\n",
       "      <td>0.000000</td>\n",
       "      <td>0.000000</td>\n",
       "    </tr>\n",
       "    <tr>\n",
       "      <th>25%</th>\n",
       "      <td>0.000000</td>\n",
       "      <td>0.065494</td>\n",
       "      <td>0.080921</td>\n",
       "    </tr>\n",
       "    <tr>\n",
       "      <th>50%</th>\n",
       "      <td>0.691176</td>\n",
       "      <td>0.134481</td>\n",
       "      <td>0.110526</td>\n",
       "    </tr>\n",
       "    <tr>\n",
       "      <th>75%</th>\n",
       "      <td>0.801471</td>\n",
       "      <td>0.194237</td>\n",
       "      <td>0.170395</td>\n",
       "    </tr>\n",
       "    <tr>\n",
       "      <th>max</th>\n",
       "      <td>1.000000</td>\n",
       "      <td>1.000000</td>\n",
       "      <td>1.000000</td>\n",
       "    </tr>\n",
       "  </tbody>\n",
       "</table>\n",
       "</div>"
      ],
      "text/plain": [
       "       Produktivitas Mangga  Curah Hujan  Hari Hujan\n",
       "count             28.000000    28.000000   28.000000\n",
       "mean               0.526786     0.165490    0.173308\n",
       "std                0.376528     0.196708    0.205274\n",
       "min                0.000000     0.000000    0.000000\n",
       "25%                0.000000     0.065494    0.080921\n",
       "50%                0.691176     0.134481    0.110526\n",
       "75%                0.801471     0.194237    0.170395\n",
       "max                1.000000     1.000000    1.000000"
      ]
     },
     "execution_count": 45,
     "metadata": {},
     "output_type": "execute_result"
    }
   ],
   "source": [
    "df_train.describe()"
   ]
  },
  {
   "cell_type": "markdown",
   "metadata": {
    "papermill": {
     "duration": 0.116949,
     "end_time": "2024-01-26T03:32:32.814789",
     "exception": false,
     "start_time": "2024-01-26T03:32:32.697840",
     "status": "completed"
    },
    "tags": []
   },
   "source": [
    "# BUILDING A LINEAR MODEL"
   ]
  },
  {
   "cell_type": "markdown",
   "metadata": {
    "papermill": {
     "duration": 0.114309,
     "end_time": "2024-01-26T03:32:33.049055",
     "exception": false,
     "start_time": "2024-01-26T03:32:32.934746",
     "status": "completed"
    },
    "tags": []
   },
   "source": [
    "## Dividing into X and Y sets for the model building"
   ]
  },
  {
   "cell_type": "code",
   "execution_count": 46,
   "metadata": {
    "execution": {
     "iopub.execute_input": "2024-01-26T03:32:33.286137Z",
     "iopub.status.busy": "2024-01-26T03:32:33.285122Z",
     "iopub.status.idle": "2024-01-26T03:32:33.288192Z",
     "shell.execute_reply": "2024-01-26T03:32:33.287596Z",
     "shell.execute_reply.started": "2024-01-26T03:21:41.680635Z"
    },
    "papermill": {
     "duration": 0.124158,
     "end_time": "2024-01-26T03:32:33.288313",
     "exception": false,
     "start_time": "2024-01-26T03:32:33.164155",
     "status": "completed"
    },
    "tags": []
   },
   "outputs": [],
   "source": [
    "y_train = df_train.pop('Produktivitas Mangga')\n",
    "X_train = df_train"
   ]
  },
  {
   "cell_type": "markdown",
   "metadata": {
    "papermill": {
     "duration": 0.115786,
     "end_time": "2024-01-26T03:32:33.519945",
     "exception": false,
     "start_time": "2024-01-26T03:32:33.404159",
     "status": "completed"
    },
    "tags": []
   },
   "source": [
    "### RFE\n",
    "Recursive feature elimination: We will be using the **LinearRegression function from SciKit Learn**  for its compatibility with RFE (which is a utility from sklearn)"
   ]
  },
  {
   "cell_type": "code",
   "execution_count": 47,
   "metadata": {
    "execution": {
     "iopub.execute_input": "2024-01-26T03:32:33.758514Z",
     "iopub.status.busy": "2024-01-26T03:32:33.757744Z",
     "iopub.status.idle": "2024-01-26T03:32:33.892252Z",
     "shell.execute_reply": "2024-01-26T03:32:33.891546Z",
     "shell.execute_reply.started": "2024-01-26T03:21:41.688934Z"
    },
    "papermill": {
     "duration": 0.253903,
     "end_time": "2024-01-26T03:32:33.892386",
     "exception": false,
     "start_time": "2024-01-26T03:32:33.638483",
     "status": "completed"
    },
    "tags": []
   },
   "outputs": [],
   "source": [
    "# Importing RFE and LinearRegression\n",
    "from sklearn.feature_selection import RFE\n",
    "from sklearn.linear_model import LinearRegression"
   ]
  },
  {
   "cell_type": "code",
   "execution_count": 48,
   "metadata": {
    "execution": {
     "iopub.execute_input": "2024-01-26T03:32:34.130035Z",
     "iopub.status.busy": "2024-01-26T03:32:34.129178Z",
     "iopub.status.idle": "2024-01-26T03:32:34.159833Z",
     "shell.execute_reply": "2024-01-26T03:32:34.159022Z",
     "shell.execute_reply.started": "2024-01-26T03:21:41.701721Z"
    },
    "papermill": {
     "duration": 0.152912,
     "end_time": "2024-01-26T03:32:34.159965",
     "exception": false,
     "start_time": "2024-01-26T03:32:34.007053",
     "status": "completed"
    },
    "tags": []
   },
   "outputs": [],
   "source": [
    "# Running RFE with the output number of the variable equal to 15\n",
    "lm = LinearRegression()\n",
    "lm.fit(X_train, y_train)\n",
    "\n",
    "rfe = RFE(lm, 15)             # running RFE\n",
    "rfe = rfe.fit(X_train, y_train)"
   ]
  },
  {
   "cell_type": "code",
   "execution_count": 49,
   "metadata": {
    "execution": {
     "iopub.execute_input": "2024-01-26T03:32:34.396761Z",
     "iopub.status.busy": "2024-01-26T03:32:34.395978Z",
     "iopub.status.idle": "2024-01-26T03:32:34.400212Z",
     "shell.execute_reply": "2024-01-26T03:32:34.399476Z",
     "shell.execute_reply.started": "2024-01-26T03:21:41.717274Z"
    },
    "papermill": {
     "duration": 0.124625,
     "end_time": "2024-01-26T03:32:34.400336",
     "exception": false,
     "start_time": "2024-01-26T03:32:34.275711",
     "status": "completed"
    },
    "tags": []
   },
   "outputs": [
    {
     "data": {
      "text/plain": [
       "[('Curah Hujan', True, 1), ('Hari Hujan', True, 1)]"
      ]
     },
     "execution_count": 49,
     "metadata": {},
     "output_type": "execute_result"
    }
   ],
   "source": [
    "list(zip(X_train.columns,rfe.support_,rfe.ranking_))"
   ]
  },
  {
   "cell_type": "code",
   "execution_count": 50,
   "metadata": {
    "execution": {
     "iopub.execute_input": "2024-01-26T03:32:34.644120Z",
     "iopub.status.busy": "2024-01-26T03:32:34.643135Z",
     "iopub.status.idle": "2024-01-26T03:32:34.648226Z",
     "shell.execute_reply": "2024-01-26T03:32:34.647571Z",
     "shell.execute_reply.started": "2024-01-26T03:21:41.732501Z"
    },
    "papermill": {
     "duration": 0.132815,
     "end_time": "2024-01-26T03:32:34.648354",
     "exception": false,
     "start_time": "2024-01-26T03:32:34.515539",
     "status": "completed"
    },
    "tags": []
   },
   "outputs": [
    {
     "data": {
      "text/plain": [
       "Index(['Curah Hujan', 'Hari Hujan'], dtype='object')"
      ]
     },
     "execution_count": 50,
     "metadata": {},
     "output_type": "execute_result"
    }
   ],
   "source": [
    "col = X_train.columns[rfe.support_]\n",
    "col"
   ]
  },
  {
   "cell_type": "code",
   "execution_count": 51,
   "metadata": {
    "execution": {
     "iopub.execute_input": "2024-01-26T03:32:34.886559Z",
     "iopub.status.busy": "2024-01-26T03:32:34.885448Z",
     "iopub.status.idle": "2024-01-26T03:32:34.890565Z",
     "shell.execute_reply": "2024-01-26T03:32:34.889932Z",
     "shell.execute_reply.started": "2024-01-26T03:21:41.745685Z"
    },
    "papermill": {
     "duration": 0.126889,
     "end_time": "2024-01-26T03:32:34.890690",
     "exception": false,
     "start_time": "2024-01-26T03:32:34.763801",
     "status": "completed"
    },
    "tags": []
   },
   "outputs": [
    {
     "data": {
      "text/plain": [
       "Index([], dtype='object')"
      ]
     },
     "execution_count": 51,
     "metadata": {},
     "output_type": "execute_result"
    }
   ],
   "source": [
    "X_train.columns[~rfe.support_]"
   ]
  },
  {
   "cell_type": "code",
   "execution_count": 52,
   "metadata": {
    "execution": {
     "iopub.execute_input": "2024-01-26T03:32:35.131198Z",
     "iopub.status.busy": "2024-01-26T03:32:35.130174Z",
     "iopub.status.idle": "2024-01-26T03:32:35.133140Z",
     "shell.execute_reply": "2024-01-26T03:32:35.132348Z",
     "shell.execute_reply.started": "2024-01-26T03:21:41.759125Z"
    },
    "papermill": {
     "duration": 0.125152,
     "end_time": "2024-01-26T03:32:35.133272",
     "exception": false,
     "start_time": "2024-01-26T03:32:35.008120",
     "status": "completed"
    },
    "tags": []
   },
   "outputs": [],
   "source": [
    "# Creating X_test dataframe with RFE selected variables\n",
    "X_train_rfe = X_train[col]"
   ]
  },
  {
   "cell_type": "code",
   "execution_count": 53,
   "metadata": {
    "execution": {
     "iopub.execute_input": "2024-01-26T03:32:35.371690Z",
     "iopub.status.busy": "2024-01-26T03:32:35.370656Z",
     "iopub.status.idle": "2024-01-26T03:32:35.373865Z",
     "shell.execute_reply": "2024-01-26T03:32:35.373113Z",
     "shell.execute_reply.started": "2024-01-26T03:21:41.773842Z"
    },
    "papermill": {
     "duration": 0.124693,
     "end_time": "2024-01-26T03:32:35.374002",
     "exception": false,
     "start_time": "2024-01-26T03:32:35.249309",
     "status": "completed"
    },
    "tags": []
   },
   "outputs": [],
   "source": [
    "from scipy import stats\n",
    "import matplotlib.pyplot as plt"
   ]
  },
  {
   "cell_type": "code",
   "execution_count": 54,
   "metadata": {
    "execution": {
     "iopub.execute_input": "2024-01-26T03:32:35.619768Z",
     "iopub.status.busy": "2024-01-26T03:32:35.618487Z",
     "iopub.status.idle": "2024-01-26T03:32:35.622463Z",
     "shell.execute_reply": "2024-01-26T03:32:35.623195Z",
     "shell.execute_reply.started": "2024-01-26T03:21:41.784946Z"
    },
    "papermill": {
     "duration": 0.130264,
     "end_time": "2024-01-26T03:32:35.623361",
     "exception": false,
     "start_time": "2024-01-26T03:32:35.493097",
     "status": "completed"
    },
    "tags": []
   },
   "outputs": [
    {
     "name": "stdout",
     "output_type": "stream",
     "text": [
      "Shapiro-Wilk test statistic: 0.6396863460540771\n",
      "Shapiro-Wilk test p-value: 1.8264911805232487e-10\n"
     ]
    }
   ],
   "source": [
    "statistic, pvalue = stats.shapiro(X_train_rfe)\n",
    "\n",
    "print(\"Shapiro-Wilk test statistic:\", statistic)\n",
    "print(\"Shapiro-Wilk test p-value:\", pvalue)"
   ]
  },
  {
   "cell_type": "markdown",
   "metadata": {
    "papermill": {
     "duration": 0.116173,
     "end_time": "2024-01-26T03:32:35.857370",
     "exception": false,
     "start_time": "2024-01-26T03:32:35.741197",
     "status": "completed"
    },
    "tags": []
   },
   "source": [
    "# Building Linear Model using 'STATS MODEL'"
   ]
  },
  {
   "cell_type": "markdown",
   "metadata": {
    "papermill": {
     "duration": 0.115328,
     "end_time": "2024-01-26T03:32:36.088771",
     "exception": false,
     "start_time": "2024-01-26T03:32:35.973443",
     "status": "completed"
    },
    "tags": []
   },
   "source": [
    "## Model 1"
   ]
  },
  {
   "cell_type": "markdown",
   "metadata": {
    "papermill": {
     "duration": 0.115361,
     "end_time": "2024-01-26T03:32:36.319730",
     "exception": false,
     "start_time": "2024-01-26T03:32:36.204369",
     "status": "completed"
    },
    "tags": []
   },
   "source": [
    "### VIF Check"
   ]
  },
  {
   "cell_type": "code",
   "execution_count": 55,
   "metadata": {
    "execution": {
     "iopub.execute_input": "2024-01-26T03:32:36.581859Z",
     "iopub.status.busy": "2024-01-26T03:32:36.580451Z",
     "iopub.status.idle": "2024-01-26T03:32:36.692975Z",
     "shell.execute_reply": "2024-01-26T03:32:36.692358Z",
     "shell.execute_reply.started": "2024-01-26T03:21:41.798055Z"
    },
    "papermill": {
     "duration": 0.254698,
     "end_time": "2024-01-26T03:32:36.693107",
     "exception": false,
     "start_time": "2024-01-26T03:32:36.438409",
     "status": "completed"
    },
    "tags": []
   },
   "outputs": [
    {
     "data": {
      "text/html": [
       "<div>\n",
       "<style scoped>\n",
       "    .dataframe tbody tr th:only-of-type {\n",
       "        vertical-align: middle;\n",
       "    }\n",
       "\n",
       "    .dataframe tbody tr th {\n",
       "        vertical-align: top;\n",
       "    }\n",
       "\n",
       "    .dataframe thead th {\n",
       "        text-align: right;\n",
       "    }\n",
       "</style>\n",
       "<table border=\"1\" class=\"dataframe\">\n",
       "  <thead>\n",
       "    <tr style=\"text-align: right;\">\n",
       "      <th></th>\n",
       "      <th>Features</th>\n",
       "      <th>VIF</th>\n",
       "    </tr>\n",
       "  </thead>\n",
       "  <tbody>\n",
       "    <tr>\n",
       "      <th>0</th>\n",
       "      <td>Curah Hujan</td>\n",
       "      <td>51.15</td>\n",
       "    </tr>\n",
       "    <tr>\n",
       "      <th>1</th>\n",
       "      <td>Hari Hujan</td>\n",
       "      <td>51.15</td>\n",
       "    </tr>\n",
       "  </tbody>\n",
       "</table>\n",
       "</div>"
      ],
      "text/plain": [
       "      Features    VIF\n",
       "0  Curah Hujan  51.15\n",
       "1   Hari Hujan  51.15"
      ]
     },
     "execution_count": 55,
     "metadata": {},
     "output_type": "execute_result"
    }
   ],
   "source": [
    "# Check for the VIF values of the feature variables. \n",
    "from statsmodels.stats.outliers_influence import variance_inflation_factor\n",
    "\n",
    "# Create a dataframe that will contain the names of all the feature variables and their respective VIFs\n",
    "vif = pd.DataFrame()\n",
    "vif['Features'] = X_train_rfe.columns\n",
    "vif['VIF'] = [variance_inflation_factor(X_train_rfe.values, i) for i in range(X_train_rfe.shape[1])]\n",
    "vif['VIF'] = round(vif['VIF'], 2)\n",
    "vif = vif.sort_values(by = \"VIF\", ascending = False)\n",
    "vif"
   ]
  },
  {
   "cell_type": "code",
   "execution_count": 56,
   "metadata": {
    "execution": {
     "iopub.execute_input": "2024-01-26T03:32:36.934515Z",
     "iopub.status.busy": "2024-01-26T03:32:36.933707Z",
     "iopub.status.idle": "2024-01-26T03:32:37.434210Z",
     "shell.execute_reply": "2024-01-26T03:32:37.433368Z",
     "shell.execute_reply.started": "2024-01-26T03:21:41.819493Z"
    },
    "papermill": {
     "duration": 0.623742,
     "end_time": "2024-01-26T03:32:37.434403",
     "exception": false,
     "start_time": "2024-01-26T03:32:36.810661",
     "status": "completed"
    },
    "tags": []
   },
   "outputs": [],
   "source": [
    "import statsmodels.api as sm\n",
    "\n",
    "# Add a constant\n",
    "X_train_lm1 = sm.add_constant(X_train_rfe)\n",
    "\n",
    "# Create a first fitted model\n",
    "lr1 = sm.OLS(y_train, X_train_lm1).fit()"
   ]
  },
  {
   "cell_type": "code",
   "execution_count": 57,
   "metadata": {
    "execution": {
     "iopub.execute_input": "2024-01-26T03:32:37.681679Z",
     "iopub.status.busy": "2024-01-26T03:32:37.680913Z",
     "iopub.status.idle": "2024-01-26T03:32:37.685680Z",
     "shell.execute_reply": "2024-01-26T03:32:37.684935Z",
     "shell.execute_reply.started": "2024-01-26T03:21:41.828821Z"
    },
    "papermill": {
     "duration": 0.130275,
     "end_time": "2024-01-26T03:32:37.685813",
     "exception": false,
     "start_time": "2024-01-26T03:32:37.555538",
     "status": "completed"
    },
    "tags": []
   },
   "outputs": [
    {
     "data": {
      "text/plain": [
       "const          0.586546\n",
       "Curah Hujan   -0.161455\n",
       "Hari Hujan    -0.190651\n",
       "dtype: float64"
      ]
     },
     "execution_count": 57,
     "metadata": {},
     "output_type": "execute_result"
    }
   ],
   "source": [
    "# Check the parameters obtained\n",
    "\n",
    "lr1.params"
   ]
  },
  {
   "cell_type": "code",
   "execution_count": 58,
   "metadata": {
    "execution": {
     "iopub.execute_input": "2024-01-26T03:32:37.938458Z",
     "iopub.status.busy": "2024-01-26T03:32:37.930021Z",
     "iopub.status.idle": "2024-01-26T03:32:37.942183Z",
     "shell.execute_reply": "2024-01-26T03:32:37.943011Z",
     "shell.execute_reply.started": "2024-01-26T03:21:41.844292Z"
    },
    "papermill": {
     "duration": 0.13959,
     "end_time": "2024-01-26T03:32:37.943199",
     "exception": false,
     "start_time": "2024-01-26T03:32:37.803609",
     "status": "completed"
    },
    "tags": []
   },
   "outputs": [
    {
     "name": "stdout",
     "output_type": "stream",
     "text": [
      "                             OLS Regression Results                             \n",
      "================================================================================\n",
      "Dep. Variable:     Produktivitas Mangga   R-squared:                       0.035\n",
      "Model:                              OLS   Adj. R-squared:                 -0.042\n",
      "Method:                   Least Squares   F-statistic:                    0.4554\n",
      "Date:                  Fri, 26 Jan 2024   Prob (F-statistic):              0.639\n",
      "Time:                          03:32:37   Log-Likelihood:                -11.371\n",
      "No. Observations:                    28   AIC:                             28.74\n",
      "Df Residuals:                        25   BIC:                             32.74\n",
      "Df Model:                             2                                         \n",
      "Covariance Type:              nonrobust                                         \n",
      "===============================================================================\n",
      "                  coef    std err          t      P>|t|      [0.025      0.975]\n",
      "-------------------------------------------------------------------------------\n",
      "const           0.5865      0.096      6.116      0.000       0.389       0.784\n",
      "Curah Hujan    -0.1615      2.045     -0.079      0.938      -4.373       4.050\n",
      "Hari Hujan     -0.1907      1.959     -0.097      0.923      -4.226       3.845\n",
      "==============================================================================\n",
      "Omnibus:                        7.399   Durbin-Watson:                   2.363\n",
      "Prob(Omnibus):                  0.025   Jarque-Bera (JB):                2.833\n",
      "Skew:                          -0.455   Prob(JB):                        0.243\n",
      "Kurtosis:                       1.735   Cond. No.                         40.0\n",
      "==============================================================================\n",
      "\n",
      "Warnings:\n",
      "[1] Standard Errors assume that the covariance matrix of the errors is correctly specified.\n"
     ]
    }
   ],
   "source": [
    "# Print a summary of the linear regression model obtained\n",
    "print(lr1.summary())"
   ]
  },
  {
   "cell_type": "markdown",
   "metadata": {
    "papermill": {
     "duration": 0.118284,
     "end_time": "2024-01-26T03:32:38.180168",
     "exception": false,
     "start_time": "2024-01-26T03:32:38.061884",
     "status": "completed"
    },
    "tags": []
   },
   "source": [
    "# Final Model Interpretation"
   ]
  },
  {
   "cell_type": "markdown",
   "metadata": {
    "papermill": {
     "duration": 0.117281,
     "end_time": "2024-01-26T03:32:38.414938",
     "exception": false,
     "start_time": "2024-01-26T03:32:38.297657",
     "status": "completed"
    },
    "tags": []
   },
   "source": [
    "## Hypothesis Testing:"
   ]
  },
  {
   "cell_type": "markdown",
   "metadata": {
    "papermill": {
     "duration": 0.120098,
     "end_time": "2024-01-26T03:32:38.652282",
     "exception": false,
     "start_time": "2024-01-26T03:32:38.532184",
     "status": "completed"
    },
    "tags": []
   },
   "source": [
    "Hypothesis testing states that:\n",
    "- H0:B1=B2=...=Bn=0 \n",
    "- H1:  at least one  Bi!=0"
   ]
  },
  {
   "cell_type": "markdown",
   "metadata": {
    "papermill": {
     "duration": 0.117304,
     "end_time": "2024-01-26T03:32:38.888097",
     "exception": false,
     "start_time": "2024-01-26T03:32:38.770793",
     "status": "completed"
    },
    "tags": []
   },
   "source": [
    "### lr6 model coefficient values"
   ]
  },
  {
   "cell_type": "markdown",
   "metadata": {
    "papermill": {
     "duration": 0.117305,
     "end_time": "2024-01-26T03:32:39.122538",
     "exception": false,
     "start_time": "2024-01-26T03:32:39.005233",
     "status": "completed"
    },
    "tags": []
   },
   "source": [
    "- const 0.5865\n",
    "- Hari Hujan -0.1907\n",
    "- Curah Hujan -0.1615"
   ]
  },
  {
   "cell_type": "markdown",
   "metadata": {
    "papermill": {
     "duration": 0.116516,
     "end_time": "2024-01-26T03:32:39.356611",
     "exception": false,
     "start_time": "2024-01-26T03:32:39.240095",
     "status": "completed"
    },
    "tags": []
   },
   "source": [
    "### Insights\n",
    "- From the lr6 model summary, it is evident that all our coefficients are not equal to zerowhich means **We REJECT the NULL HYPOTHESIS**\n",
    "    "
   ]
  },
  {
   "cell_type": "markdown",
   "metadata": {
    "papermill": {
     "duration": 0.119079,
     "end_time": "2024-01-26T03:32:39.593068",
     "exception": false,
     "start_time": "2024-01-26T03:32:39.473989",
     "status": "completed"
    },
    "tags": []
   },
   "source": [
    "### F Statistics"
   ]
  },
  {
   "cell_type": "markdown",
   "metadata": {
    "papermill": {
     "duration": 0.127348,
     "end_time": "2024-01-26T03:32:39.840051",
     "exception": false,
     "start_time": "2024-01-26T03:32:39.712703",
     "status": "completed"
    },
    "tags": []
   },
   "source": [
    "F-Statistics is used for testing the overall significance of the Model: Higher the F-Statistics, more significant the Model is.\n",
    "\n",
    "- F-statistic: 0.4554\n",
    "- Prob (F-statistic): 0.639\n",
    "\n",
    "The F-Statistics value of 0.4554 is not greater than 1 and the p-value is not '~0.0000' states that the overall model is ***not significant***"
   ]
  },
  {
   "cell_type": "markdown",
   "metadata": {
    "papermill": {
     "duration": 0.117485,
     "end_time": "2024-01-26T03:32:40.075420",
     "exception": false,
     "start_time": "2024-01-26T03:32:39.957935",
     "status": "completed"
    },
    "tags": []
   },
   "source": [
    "## The equation of best fitted surface based on model lr6:"
   ]
  },
  {
   "cell_type": "markdown",
   "metadata": {
    "papermill": {
     "duration": 0.116974,
     "end_time": "2024-01-26T03:32:40.310073",
     "exception": false,
     "start_time": "2024-01-26T03:32:40.193099",
     "status": "completed"
    },
    "tags": []
   },
   "source": [
    "cnt = 0.084143 - (**Hari Hujan** × -0.1907) - (**Curah Hujan** × -0.1615)"
   ]
  },
  {
   "cell_type": "markdown",
   "metadata": {
    "papermill": {
     "duration": 0.118148,
     "end_time": "2024-01-26T03:32:40.545593",
     "exception": false,
     "start_time": "2024-01-26T03:32:40.427445",
     "status": "completed"
    },
    "tags": []
   },
   "source": [
    "## Interpretation of Coefficients:\n",
    "**Curah Hujan:** A coefficient value of ‘0.5636’ indicated that a unit increase in temp variable, increases the bike hire numbers by 0.5636 units.\n",
    "\n",
    "**Hari Hujan:** A coefficient value of ‘-0.3070’ indicated that, w.r.t Weathersit1, a unit increase in Weathersit3 variable, decreases the bike hire numbers by 0.3070 units."
   ]
  },
  {
   "cell_type": "markdown",
   "metadata": {
    "papermill": {
     "duration": 0.121822,
     "end_time": "2024-01-26T03:32:40.786627",
     "exception": false,
     "start_time": "2024-01-26T03:32:40.664805",
     "status": "completed"
    },
    "tags": []
   },
   "source": [
    "# ASSUMPTIONS "
   ]
  },
  {
   "cell_type": "markdown",
   "metadata": {
    "papermill": {
     "duration": 0.117448,
     "end_time": "2024-01-26T03:32:41.025312",
     "exception": false,
     "start_time": "2024-01-26T03:32:40.907864",
     "status": "completed"
    },
    "tags": []
   },
   "source": [
    "## Error terms are normally distributed with mean zero (not X, Y)\n",
    "- Residual Analysis Of Training Data"
   ]
  },
  {
   "cell_type": "code",
   "execution_count": 59,
   "metadata": {
    "execution": {
     "iopub.execute_input": "2024-01-26T03:32:41.266666Z",
     "iopub.status.busy": "2024-01-26T03:32:41.265841Z",
     "iopub.status.idle": "2024-01-26T03:32:41.269072Z",
     "shell.execute_reply": "2024-01-26T03:32:41.268432Z",
     "shell.execute_reply.started": "2024-01-26T03:21:41.867232Z"
    },
    "papermill": {
     "duration": 0.126256,
     "end_time": "2024-01-26T03:32:41.269210",
     "exception": false,
     "start_time": "2024-01-26T03:32:41.142954",
     "status": "completed"
    },
    "tags": []
   },
   "outputs": [],
   "source": [
    "y_train_pred = lr1.predict(X_train_lm1)"
   ]
  },
  {
   "cell_type": "code",
   "execution_count": 60,
   "metadata": {
    "execution": {
     "iopub.execute_input": "2024-01-26T03:32:41.519936Z",
     "iopub.status.busy": "2024-01-26T03:32:41.518736Z",
     "iopub.status.idle": "2024-01-26T03:32:41.749206Z",
     "shell.execute_reply": "2024-01-26T03:32:41.748581Z",
     "shell.execute_reply.started": "2024-01-26T03:21:41.872540Z"
    },
    "papermill": {
     "duration": 0.359071,
     "end_time": "2024-01-26T03:32:41.749344",
     "exception": false,
     "start_time": "2024-01-26T03:32:41.390273",
     "status": "completed"
    },
    "tags": []
   },
   "outputs": [
    {
     "data": {
      "text/plain": [
       "Text(0.5, 0, 'Errors')"
      ]
     },
     "execution_count": 60,
     "metadata": {},
     "output_type": "execute_result"
    },
    {
     "data": {
      "image/png": "[encoded data removed]",
      "text/plain": [
       "<Figure size 432x288 with 1 Axes>"
      ]
     },
     "metadata": {
      "needs_background": "light"
     },
     "output_type": "display_data"
    }
   ],
   "source": [
    "res = y_train-y_train_pred\n",
    "# Plot the histogram of the error terms\n",
    "fig = plt.figure()\n",
    "sns.distplot((res), bins = 20)\n",
    "fig.suptitle('Error Terms', fontsize = 20)                  # Plot heading \n",
    "plt.xlabel('Errors', fontsize = 18)                         # X-label"
   ]
  },
  {
   "cell_type": "markdown",
   "metadata": {
    "papermill": {
     "duration": 0.120622,
     "end_time": "2024-01-26T03:32:41.992145",
     "exception": false,
     "start_time": "2024-01-26T03:32:41.871523",
     "status": "completed"
    },
    "tags": []
   },
   "source": [
    "### Insights\n",
    "- From the above histogram, we could see that the Residuals are normally distributed. Hence our assumption for Linear Regression is valid."
   ]
  },
  {
   "cell_type": "markdown",
   "metadata": {
    "papermill": {
     "duration": 0.120084,
     "end_time": "2024-01-26T03:32:42.232887",
     "exception": false,
     "start_time": "2024-01-26T03:32:42.112803",
     "status": "completed"
    },
    "tags": []
   },
   "source": [
    "## There is a linear relationship between X and Y"
   ]
  },
  {
   "cell_type": "code",
   "execution_count": 61,
   "metadata": {
    "execution": {
     "iopub.execute_input": "2024-01-26T03:32:42.481003Z",
     "iopub.status.busy": "2024-01-26T03:32:42.479793Z",
     "iopub.status.idle": "2024-01-26T03:32:45.043227Z",
     "shell.execute_reply": "2024-01-26T03:32:45.043806Z",
     "shell.execute_reply.started": "2024-01-26T03:21:42.043645Z"
    },
    "papermill": {
     "duration": 2.691781,
     "end_time": "2024-01-26T03:32:45.043976",
     "exception": false,
     "start_time": "2024-01-26T03:32:42.352195",
     "status": "completed"
    },
    "tags": []
   },
   "outputs": [
    {
     "data": {
      "image/png": "[encoded data removed]",
      "text/plain": [
       "<Figure size 540x540 with 12 Axes>"
      ]
     },
     "metadata": {
      "needs_background": "light"
     },
     "output_type": "display_data"
    }
   ],
   "source": [
    "bike_new=bike_new[['Produktivitas Mangga', 'Curah Hujan',\n",
    "       'Hari Hujan']]\n",
    "\n",
    "sns.pairplot(bike_num, diag_kind='kde')\n",
    "plt.show()"
   ]
  },
  {
   "cell_type": "markdown",
   "metadata": {
    "papermill": {
     "duration": 0.120829,
     "end_time": "2024-01-26T03:32:45.285671",
     "exception": false,
     "start_time": "2024-01-26T03:32:45.164842",
     "status": "completed"
    },
    "tags": []
   },
   "source": [
    "## Insight\n",
    "- Using the pair plot, we could see there is a linear relation between temp and atemp variable with the predictor ‘cnt’."
   ]
  },
  {
   "cell_type": "markdown",
   "metadata": {
    "papermill": {
     "duration": 0.120532,
     "end_time": "2024-01-26T03:32:45.525705",
     "exception": false,
     "start_time": "2024-01-26T03:32:45.405173",
     "status": "completed"
    },
    "tags": []
   },
   "source": [
    "## There is No Multicollinearity between the predictor variables"
   ]
  },
  {
   "cell_type": "code",
   "execution_count": 62,
   "metadata": {
    "execution": {
     "iopub.execute_input": "2024-01-26T03:32:45.775469Z",
     "iopub.status.busy": "2024-01-26T03:32:45.774389Z",
     "iopub.status.idle": "2024-01-26T03:32:45.794332Z",
     "shell.execute_reply": "2024-01-26T03:32:45.794894Z",
     "shell.execute_reply.started": "2024-01-26T03:21:43.782171Z"
    },
    "papermill": {
     "duration": 0.148191,
     "end_time": "2024-01-26T03:32:45.795059",
     "exception": false,
     "start_time": "2024-01-26T03:32:45.646868",
     "status": "completed"
    },
    "tags": []
   },
   "outputs": [
    {
     "data": {
      "text/html": [
       "<div>\n",
       "<style scoped>\n",
       "    .dataframe tbody tr th:only-of-type {\n",
       "        vertical-align: middle;\n",
       "    }\n",
       "\n",
       "    .dataframe tbody tr th {\n",
       "        vertical-align: top;\n",
       "    }\n",
       "\n",
       "    .dataframe thead th {\n",
       "        text-align: right;\n",
       "    }\n",
       "</style>\n",
       "<table border=\"1\" class=\"dataframe\">\n",
       "  <thead>\n",
       "    <tr style=\"text-align: right;\">\n",
       "      <th></th>\n",
       "      <th>Features</th>\n",
       "      <th>VIF</th>\n",
       "    </tr>\n",
       "  </thead>\n",
       "  <tbody>\n",
       "    <tr>\n",
       "      <th>0</th>\n",
       "      <td>Curah Hujan</td>\n",
       "      <td>51.15</td>\n",
       "    </tr>\n",
       "    <tr>\n",
       "      <th>1</th>\n",
       "      <td>Hari Hujan</td>\n",
       "      <td>51.15</td>\n",
       "    </tr>\n",
       "  </tbody>\n",
       "</table>\n",
       "</div>"
      ],
      "text/plain": [
       "      Features    VIF\n",
       "0  Curah Hujan  51.15\n",
       "1   Hari Hujan  51.15"
      ]
     },
     "execution_count": 62,
     "metadata": {},
     "output_type": "execute_result"
    }
   ],
   "source": [
    "# Check for the VIF values of the feature variables. \n",
    "from statsmodels.stats.outliers_influence import variance_inflation_factor\n",
    "\n",
    "# Create a dataframe that will contain the names of all the feature variables and their respective VIFs\n",
    "vif = pd.DataFrame()\n",
    "vif['Features'] = X_train_rfe.columns\n",
    "vif['VIF'] = [variance_inflation_factor(X_train_rfe.values, i) for i in range(X_train_rfe.shape[1])]\n",
    "vif['VIF'] = round(vif['VIF'], 2)\n",
    "vif = vif.sort_values(by = \"VIF\", ascending = False)\n",
    "vif"
   ]
  },
  {
   "cell_type": "markdown",
   "metadata": {
    "papermill": {
     "duration": 0.121593,
     "end_time": "2024-01-26T03:32:46.038198",
     "exception": false,
     "start_time": "2024-01-26T03:32:45.916605",
     "status": "completed"
    },
    "tags": []
   },
   "source": [
    "## Insight\n",
    "\n",
    " - From the VIF calculation we could find that there is no multicollinearity existing between the predictor variables, as all the values are within permissible range of below 5"
   ]
  },
  {
   "cell_type": "markdown",
   "metadata": {
    "papermill": {
     "duration": 0.121587,
     "end_time": "2024-01-26T03:32:46.281160",
     "exception": false,
     "start_time": "2024-01-26T03:32:46.159573",
     "status": "completed"
    },
    "tags": []
   },
   "source": [
    "# MAKING PREDICTION USING FINAL MODEL\n",
    "\n",
    "Now that we have fitted the model and checked the assumptions, it's time to go ahead and make predictions using the final model (lr6)\n",
    "\n",
    "### Applying the scaling on the test sets"
   ]
  },
  {
   "cell_type": "code",
   "execution_count": 63,
   "metadata": {
    "execution": {
     "iopub.execute_input": "2024-01-26T03:32:46.551514Z",
     "iopub.status.busy": "2024-01-26T03:32:46.550229Z",
     "iopub.status.idle": "2024-01-26T03:32:46.559610Z",
     "shell.execute_reply": "2024-01-26T03:32:46.560811Z",
     "shell.execute_reply.started": "2024-01-26T03:21:43.802330Z"
    },
    "papermill": {
     "duration": 0.156537,
     "end_time": "2024-01-26T03:32:46.561103",
     "exception": false,
     "start_time": "2024-01-26T03:32:46.404566",
     "status": "completed"
    },
    "tags": []
   },
   "outputs": [],
   "source": [
    "# Apply scaler() to all numeric variables in test dataset. Note: we will only use scaler.transform, \n",
    "# as we want to use the metrics that the model learned from the training data to be applied on the test data. \n",
    "# In other words, we want to prevent the information leak from train to test dataset.\n",
    "\n",
    "num_vars = ['Produktivitas Mangga', 'Curah Hujan',\n",
    "       'Hari Hujan']\n",
    "\n",
    "df_test[num_vars] = scaler.transform(df_test[num_vars])"
   ]
  },
  {
   "cell_type": "code",
   "execution_count": 64,
   "metadata": {
    "execution": {
     "iopub.execute_input": "2024-01-26T03:32:46.819791Z",
     "iopub.status.busy": "2024-01-26T03:32:46.818716Z",
     "iopub.status.idle": "2024-01-26T03:32:46.831305Z",
     "shell.execute_reply": "2024-01-26T03:32:46.831966Z",
     "shell.execute_reply.started": "2024-01-26T03:21:43.821803Z"
    },
    "papermill": {
     "duration": 0.141476,
     "end_time": "2024-01-26T03:32:46.832166",
     "exception": false,
     "start_time": "2024-01-26T03:32:46.690690",
     "status": "completed"
    },
    "tags": []
   },
   "outputs": [
    {
     "data": {
      "text/html": [
       "<div>\n",
       "<style scoped>\n",
       "    .dataframe tbody tr th:only-of-type {\n",
       "        vertical-align: middle;\n",
       "    }\n",
       "\n",
       "    .dataframe tbody tr th {\n",
       "        vertical-align: top;\n",
       "    }\n",
       "\n",
       "    .dataframe thead th {\n",
       "        text-align: right;\n",
       "    }\n",
       "</style>\n",
       "<table border=\"1\" class=\"dataframe\">\n",
       "  <thead>\n",
       "    <tr style=\"text-align: right;\">\n",
       "      <th></th>\n",
       "      <th>Produktivitas Mangga</th>\n",
       "      <th>Curah Hujan</th>\n",
       "      <th>Hari Hujan</th>\n",
       "    </tr>\n",
       "  </thead>\n",
       "  <tbody>\n",
       "    <tr>\n",
       "      <th>31</th>\n",
       "      <td>0.867647</td>\n",
       "      <td>0.086327</td>\n",
       "      <td>0.142105</td>\n",
       "    </tr>\n",
       "    <tr>\n",
       "      <th>4</th>\n",
       "      <td>0.955882</td>\n",
       "      <td>0.166667</td>\n",
       "      <td>0.171053</td>\n",
       "    </tr>\n",
       "    <tr>\n",
       "      <th>6</th>\n",
       "      <td>0.544118</td>\n",
       "      <td>0.039920</td>\n",
       "      <td>0.031579</td>\n",
       "    </tr>\n",
       "    <tr>\n",
       "      <th>16</th>\n",
       "      <td>0.441176</td>\n",
       "      <td>0.221557</td>\n",
       "      <td>0.192105</td>\n",
       "    </tr>\n",
       "    <tr>\n",
       "      <th>30</th>\n",
       "      <td>1.029412</td>\n",
       "      <td>0.008982</td>\n",
       "      <td>0.015789</td>\n",
       "    </tr>\n",
       "  </tbody>\n",
       "</table>\n",
       "</div>"
      ],
      "text/plain": [
       "    Produktivitas Mangga  Curah Hujan  Hari Hujan\n",
       "31              0.867647     0.086327    0.142105\n",
       "4               0.955882     0.166667    0.171053\n",
       "6               0.544118     0.039920    0.031579\n",
       "16              0.441176     0.221557    0.192105\n",
       "30              1.029412     0.008982    0.015789"
      ]
     },
     "execution_count": 64,
     "metadata": {},
     "output_type": "execute_result"
    }
   ],
   "source": [
    "df_test.head()"
   ]
  },
  {
   "cell_type": "code",
   "execution_count": 65,
   "metadata": {
    "execution": {
     "iopub.execute_input": "2024-01-26T03:32:47.081783Z",
     "iopub.status.busy": "2024-01-26T03:32:47.081037Z",
     "iopub.status.idle": "2024-01-26T03:32:47.103330Z",
     "shell.execute_reply": "2024-01-26T03:32:47.104064Z",
     "shell.execute_reply.started": "2024-01-26T03:21:43.843345Z"
    },
    "papermill": {
     "duration": 0.149177,
     "end_time": "2024-01-26T03:32:47.104252",
     "exception": false,
     "start_time": "2024-01-26T03:32:46.955075",
     "status": "completed"
    },
    "tags": []
   },
   "outputs": [
    {
     "data": {
      "text/html": [
       "<div>\n",
       "<style scoped>\n",
       "    .dataframe tbody tr th:only-of-type {\n",
       "        vertical-align: middle;\n",
       "    }\n",
       "\n",
       "    .dataframe tbody tr th {\n",
       "        vertical-align: top;\n",
       "    }\n",
       "\n",
       "    .dataframe thead th {\n",
       "        text-align: right;\n",
       "    }\n",
       "</style>\n",
       "<table border=\"1\" class=\"dataframe\">\n",
       "  <thead>\n",
       "    <tr style=\"text-align: right;\">\n",
       "      <th></th>\n",
       "      <th>Produktivitas Mangga</th>\n",
       "      <th>Curah Hujan</th>\n",
       "      <th>Hari Hujan</th>\n",
       "    </tr>\n",
       "  </thead>\n",
       "  <tbody>\n",
       "    <tr>\n",
       "      <th>count</th>\n",
       "      <td>12.000000</td>\n",
       "      <td>12.000000</td>\n",
       "      <td>12.000000</td>\n",
       "    </tr>\n",
       "    <tr>\n",
       "      <th>mean</th>\n",
       "      <td>0.920343</td>\n",
       "      <td>0.101173</td>\n",
       "      <td>0.110746</td>\n",
       "    </tr>\n",
       "    <tr>\n",
       "      <th>std</th>\n",
       "      <td>0.462304</td>\n",
       "      <td>0.085007</td>\n",
       "      <td>0.076373</td>\n",
       "    </tr>\n",
       "    <tr>\n",
       "      <th>min</th>\n",
       "      <td>0.397059</td>\n",
       "      <td>0.002994</td>\n",
       "      <td>-0.002632</td>\n",
       "    </tr>\n",
       "    <tr>\n",
       "      <th>25%</th>\n",
       "      <td>0.643382</td>\n",
       "      <td>0.028443</td>\n",
       "      <td>0.027632</td>\n",
       "    </tr>\n",
       "    <tr>\n",
       "      <th>50%</th>\n",
       "      <td>0.838235</td>\n",
       "      <td>0.096058</td>\n",
       "      <td>0.138158</td>\n",
       "    </tr>\n",
       "    <tr>\n",
       "      <th>75%</th>\n",
       "      <td>1.033088</td>\n",
       "      <td>0.153194</td>\n",
       "      <td>0.165132</td>\n",
       "    </tr>\n",
       "    <tr>\n",
       "      <th>max</th>\n",
       "      <td>2.014706</td>\n",
       "      <td>0.248004</td>\n",
       "      <td>0.205263</td>\n",
       "    </tr>\n",
       "  </tbody>\n",
       "</table>\n",
       "</div>"
      ],
      "text/plain": [
       "       Produktivitas Mangga  Curah Hujan  Hari Hujan\n",
       "count             12.000000    12.000000   12.000000\n",
       "mean               0.920343     0.101173    0.110746\n",
       "std                0.462304     0.085007    0.076373\n",
       "min                0.397059     0.002994   -0.002632\n",
       "25%                0.643382     0.028443    0.027632\n",
       "50%                0.838235     0.096058    0.138158\n",
       "75%                1.033088     0.153194    0.165132\n",
       "max                2.014706     0.248004    0.205263"
      ]
     },
     "execution_count": 65,
     "metadata": {},
     "output_type": "execute_result"
    }
   ],
   "source": [
    "df_test.describe()"
   ]
  },
  {
   "cell_type": "markdown",
   "metadata": {
    "papermill": {
     "duration": 0.122535,
     "end_time": "2024-01-26T03:32:47.349492",
     "exception": false,
     "start_time": "2024-01-26T03:32:47.226957",
     "status": "completed"
    },
    "tags": []
   },
   "source": [
    "### Dividing into X_test and y_test"
   ]
  },
  {
   "cell_type": "code",
   "execution_count": 66,
   "metadata": {
    "execution": {
     "iopub.execute_input": "2024-01-26T03:32:47.600565Z",
     "iopub.status.busy": "2024-01-26T03:32:47.599711Z",
     "iopub.status.idle": "2024-01-26T03:32:47.608997Z",
     "shell.execute_reply": "2024-01-26T03:32:47.609655Z",
     "shell.execute_reply.started": "2024-01-26T03:21:43.870780Z"
    },
    "papermill": {
     "duration": 0.137365,
     "end_time": "2024-01-26T03:32:47.609814",
     "exception": false,
     "start_time": "2024-01-26T03:32:47.472449",
     "status": "completed"
    },
    "tags": []
   },
   "outputs": [
    {
     "name": "stdout",
     "output_type": "stream",
     "text": [
      "<class 'pandas.core.frame.DataFrame'>\n",
      "Int64Index: 12 entries, 31 to 0\n",
      "Data columns (total 2 columns):\n",
      " #   Column       Non-Null Count  Dtype  \n",
      "---  ------       --------------  -----  \n",
      " 0   Curah Hujan  12 non-null     float64\n",
      " 1   Hari Hujan   12 non-null     float64\n",
      "dtypes: float64(2)\n",
      "memory usage: 288.0 bytes\n"
     ]
    }
   ],
   "source": [
    "y_test = df_test.pop('Produktivitas Mangga')\n",
    "X_test = df_test\n",
    "X_test.info()"
   ]
  },
  {
   "cell_type": "code",
   "execution_count": 67,
   "metadata": {
    "execution": {
     "iopub.execute_input": "2024-01-26T03:32:47.871589Z",
     "iopub.status.busy": "2024-01-26T03:32:47.870717Z",
     "iopub.status.idle": "2024-01-26T03:32:47.879675Z",
     "shell.execute_reply": "2024-01-26T03:32:47.878882Z",
     "shell.execute_reply.started": "2024-01-26T03:21:43.887608Z"
    },
    "papermill": {
     "duration": 0.143931,
     "end_time": "2024-01-26T03:32:47.879810",
     "exception": false,
     "start_time": "2024-01-26T03:32:47.735879",
     "status": "completed"
    },
    "tags": []
   },
   "outputs": [
    {
     "name": "stdout",
     "output_type": "stream",
     "text": [
      "<class 'pandas.core.frame.DataFrame'>\n",
      "Int64Index: 12 entries, 31 to 0\n",
      "Data columns (total 3 columns):\n",
      " #   Column       Non-Null Count  Dtype  \n",
      "---  ------       --------------  -----  \n",
      " 0   const        12 non-null     float64\n",
      " 1   Curah Hujan  12 non-null     float64\n",
      " 2   Hari Hujan   12 non-null     float64\n",
      "dtypes: float64(3)\n",
      "memory usage: 384.0 bytes\n"
     ]
    }
   ],
   "source": [
    "#Selecting the variables that were part of final model.\n",
    "col1=X_train_rfe.columns\n",
    "X_test=X_test[col1]\n",
    "# Adding constant variable to test dataframe\n",
    "X_test_lm1 = sm.add_constant(X_test)\n",
    "X_test_lm1.info()"
   ]
  },
  {
   "cell_type": "code",
   "execution_count": 68,
   "metadata": {
    "execution": {
     "iopub.execute_input": "2024-01-26T03:32:48.134946Z",
     "iopub.status.busy": "2024-01-26T03:32:48.133873Z",
     "iopub.status.idle": "2024-01-26T03:32:48.136996Z",
     "shell.execute_reply": "2024-01-26T03:32:48.136380Z",
     "shell.execute_reply.started": "2024-01-26T03:21:43.903041Z"
    },
    "papermill": {
     "duration": 0.132474,
     "end_time": "2024-01-26T03:32:48.137133",
     "exception": false,
     "start_time": "2024-01-26T03:32:48.004659",
     "status": "completed"
    },
    "tags": []
   },
   "outputs": [],
   "source": [
    "# Making predictions using the final model (lr1)\n",
    "\n",
    "y_pred = lr1.predict(X_test_lm1)"
   ]
  },
  {
   "cell_type": "markdown",
   "metadata": {
    "papermill": {
     "duration": 0.123242,
     "end_time": "2024-01-26T03:32:48.384278",
     "exception": false,
     "start_time": "2024-01-26T03:32:48.261036",
     "status": "completed"
    },
    "tags": []
   },
   "source": [
    "# MODEL EVALUATION"
   ]
  },
  {
   "cell_type": "code",
   "execution_count": 69,
   "metadata": {
    "execution": {
     "iopub.execute_input": "2024-01-26T03:32:48.652691Z",
     "iopub.status.busy": "2024-01-26T03:32:48.642162Z",
     "iopub.status.idle": "2024-01-26T03:32:48.836863Z",
     "shell.execute_reply": "2024-01-26T03:32:48.836187Z",
     "shell.execute_reply.started": "2024-01-26T03:21:43.910454Z"
    },
    "papermill": {
     "duration": 0.327953,
     "end_time": "2024-01-26T03:32:48.837055",
     "exception": false,
     "start_time": "2024-01-26T03:32:48.509102",
     "status": "completed"
    },
    "tags": []
   },
   "outputs": [
    {
     "data": {
      "image/png": "[encoded data removed]",
      "text/plain": [
       "<Figure size 432x288 with 1 Axes>"
      ]
     },
     "metadata": {
      "needs_background": "light"
     },
     "output_type": "display_data"
    }
   ],
   "source": [
    "# Plotting y_test and y_pred to understand the spread\n",
    "\n",
    "fig = plt.figure()\n",
    "plt.scatter(y_test, y_pred, alpha=.5)\n",
    "fig.suptitle('y_test vs y_pred', fontsize = 20)              # Plot heading \n",
    "plt.xlabel('y_test', fontsize = 18)                          # X-label\n",
    "plt.ylabel('y_pred', fontsize = 16) \n",
    "plt.show()"
   ]
  },
  {
   "cell_type": "markdown",
   "metadata": {
    "papermill": {
     "duration": 0.123882,
     "end_time": "2024-01-26T03:32:49.085357",
     "exception": false,
     "start_time": "2024-01-26T03:32:48.961475",
     "status": "completed"
    },
    "tags": []
   },
   "source": [
    " # R^2 Value for TEST"
   ]
  },
  {
   "cell_type": "code",
   "execution_count": 70,
   "metadata": {
    "execution": {
     "iopub.execute_input": "2024-01-26T03:32:49.343485Z",
     "iopub.status.busy": "2024-01-26T03:32:49.342709Z",
     "iopub.status.idle": "2024-01-26T03:32:49.347938Z",
     "shell.execute_reply": "2024-01-26T03:32:49.347284Z",
     "shell.execute_reply.started": "2024-01-26T03:21:44.065711Z"
    },
    "papermill": {
     "duration": 0.136998,
     "end_time": "2024-01-26T03:32:49.348076",
     "exception": false,
     "start_time": "2024-01-26T03:32:49.211078",
     "status": "completed"
    },
    "tags": []
   },
   "outputs": [
    {
     "data": {
      "text/plain": [
       "-0.7325882613241759"
      ]
     },
     "execution_count": 70,
     "metadata": {},
     "output_type": "execute_result"
    }
   ],
   "source": [
    "from sklearn.metrics import r2_score\n",
    "r2_score(y_test, y_pred)"
   ]
  },
  {
   "cell_type": "markdown",
   "metadata": {
    "papermill": {
     "duration": 0.1255,
     "end_time": "2024-01-26T03:32:49.598128",
     "exception": false,
     "start_time": "2024-01-26T03:32:49.472628",
     "status": "completed"
    },
    "tags": []
   },
   "source": [
    "## Adjusted R^2 Value for TEST"
   ]
  },
  {
   "cell_type": "code",
   "execution_count": 71,
   "metadata": {
    "execution": {
     "iopub.execute_input": "2024-01-26T03:32:49.857341Z",
     "iopub.status.busy": "2024-01-26T03:32:49.856603Z",
     "iopub.status.idle": "2024-01-26T03:32:49.859866Z",
     "shell.execute_reply": "2024-01-26T03:32:49.860387Z",
     "shell.execute_reply.started": "2024-01-26T03:21:44.076707Z"
    },
    "papermill": {
     "duration": 0.134529,
     "end_time": "2024-01-26T03:32:49.860540",
     "exception": false,
     "start_time": "2024-01-26T03:32:49.726011",
     "status": "completed"
    },
    "tags": []
   },
   "outputs": [],
   "source": [
    "# We already have the value of R^2 (calculated in above step)\n",
    "\n",
    "r2=-0.7325882613241748"
   ]
  },
  {
   "cell_type": "code",
   "execution_count": 72,
   "metadata": {
    "execution": {
     "iopub.execute_input": "2024-01-26T03:32:50.117153Z",
     "iopub.status.busy": "2024-01-26T03:32:50.116355Z",
     "iopub.status.idle": "2024-01-26T03:32:50.121661Z",
     "shell.execute_reply": "2024-01-26T03:32:50.120992Z",
     "shell.execute_reply.started": "2024-01-26T03:21:44.086978Z"
    },
    "papermill": {
     "duration": 0.136311,
     "end_time": "2024-01-26T03:32:50.121783",
     "exception": false,
     "start_time": "2024-01-26T03:32:49.985472",
     "status": "completed"
    },
    "tags": []
   },
   "outputs": [
    {
     "data": {
      "text/plain": [
       "(12, 2)"
      ]
     },
     "execution_count": 72,
     "metadata": {},
     "output_type": "execute_result"
    }
   ],
   "source": [
    "# Get the shape of X_test\n",
    "X_test.shape\n"
   ]
  },
  {
   "cell_type": "code",
   "execution_count": 73,
   "metadata": {
    "execution": {
     "iopub.execute_input": "2024-01-26T03:32:50.386029Z",
     "iopub.status.busy": "2024-01-26T03:32:50.385219Z",
     "iopub.status.idle": "2024-01-26T03:32:50.390154Z",
     "shell.execute_reply": "2024-01-26T03:32:50.389491Z",
     "shell.execute_reply.started": "2024-01-26T03:21:44.101612Z"
    },
    "papermill": {
     "duration": 0.141147,
     "end_time": "2024-01-26T03:32:50.390291",
     "exception": false,
     "start_time": "2024-01-26T03:32:50.249144",
     "status": "completed"
    },
    "tags": []
   },
   "outputs": [
    {
     "data": {
      "text/plain": [
       "-1.1176078749517693"
      ]
     },
     "execution_count": 73,
     "metadata": {},
     "output_type": "execute_result"
    }
   ],
   "source": [
    "# n is number of rows in X\n",
    "\n",
    "n = X_test.shape[0]\n",
    "\n",
    "\n",
    "# Number of features (predictors, p) is the shape along axis 1\n",
    "p = X_test.shape[1]\n",
    "\n",
    "# We find the Adjusted R-squared using the formula\n",
    "\n",
    "adjusted_r2 = 1-(1-r2)*(n-1)/(n-p-1)\n",
    "adjusted_r2"
   ]
  },
  {
   "cell_type": "markdown",
   "metadata": {
    "papermill": {
     "duration": 0.1288,
     "end_time": "2024-01-26T03:32:50.645305",
     "exception": false,
     "start_time": "2024-01-26T03:32:50.516505",
     "status": "completed"
    },
    "tags": []
   },
   "source": [
    "# Final Result Comparison"
   ]
  },
  {
   "cell_type": "markdown",
   "metadata": {
    "papermill": {
     "duration": 0.125731,
     "end_time": "2024-01-26T03:32:50.898076",
     "exception": false,
     "start_time": "2024-01-26T03:32:50.772345",
     "status": "completed"
    },
    "tags": []
   },
   "source": [
    "- Train R^2 :0.035\n",
    "- Train Adjusted R^2 :-0.042 \n",
    "- Test R^2 :-0.7325882613241748\n",
    "- Test Adjusted R^2 :-1.1176078749517693 \n",
    "- Model ini belum bisa dikatakan cocok dengan data yang ada. Data yang sedikit juga mempengaruhi hasil dari nilai yang didapat diatas."
   ]
  }
 ],
 "metadata": {
  "kaggle": {
   "accelerator": "none",
   "dataSources": [
    {
     "datasetId": 789011,
     "sourceId": 1355226,
     "sourceType": "datasetVersion"
    },
    {
     "datasetId": 4246041,
     "sourceId": 7327627,
     "sourceType": "datasetVersion"
    }
   ],
   "dockerImageVersionId": 29981,
   "isGpuEnabled": false,
   "isInternetEnabled": true,
   "language": "python",
   "sourceType": "notebook"
  },
  "kernelspec": {
   "display_name": "Python 3",
   "language": "python",
   "name": "python3"
  },
  "language_info": {
   "codemirror_mode": {
    "name": "ipython",
    "version": 3
   },
   "file_extension": ".py",
   "mimetype": "text/x-python",
   "name": "python",
   "nbconvert_exporter": "python",
   "pygments_lexer": "ipython3",
   "version": "3.7.6"
  },
  "papermill": {
   "duration": 42.492835,
   "end_time": "2024-01-26T03:32:51.131693",
   "environment_variables": {},
   "exception": null,
   "input_path": "__notebook__.ipynb",
   "output_path": "__notebook__.ipynb",
   "parameters": {},
   "start_time": "2024-01-26T03:32:08.638858",
   "version": "2.1.0"
  }
 },
 "nbformat": 4,
 "nbformat_minor": 4
}
