{
 "cells": [
  {
   "cell_type": "markdown",
   "metadata": {
    "papermill": {
     "duration": 0.100519,
     "end_time": "2024-01-25T14:29:18.092740",
     "exception": false,
     "start_time": "2024-01-25T14:29:17.992221",
     "status": "completed"
    },
    "tags": []
   },
   "source": [
    "##  Reading and Understanding the Data\n"
   ]
  },
  {
   "cell_type": "code",
   "execution_count": 1,
   "metadata": {
    "execution": {
     "iopub.execute_input": "2024-01-25T14:29:18.296459Z",
     "iopub.status.busy": "2024-01-25T14:29:18.295315Z",
     "iopub.status.idle": "2024-01-25T14:29:18.300425Z",
     "shell.execute_reply": "2024-01-25T14:29:18.301128Z",
     "shell.execute_reply.started": "2024-01-25T14:21:40.967935Z"
    },
    "papermill": {
     "duration": 0.110458,
     "end_time": "2024-01-25T14:29:18.301343",
     "exception": false,
     "start_time": "2024-01-25T14:29:18.190885",
     "status": "completed"
    },
    "tags": []
   },
   "outputs": [],
   "source": [
    "# Supress Warnings\n",
    "\n",
    "import warnings\n",
    "warnings.filterwarnings('ignore')"
   ]
  },
  {
   "cell_type": "code",
   "execution_count": 2,
   "metadata": {
    "execution": {
     "iopub.execute_input": "2024-01-25T14:29:18.497841Z",
     "iopub.status.busy": "2024-01-25T14:29:18.496771Z",
     "iopub.status.idle": "2024-01-25T14:29:19.549360Z",
     "shell.execute_reply": "2024-01-25T14:29:19.547495Z",
     "shell.execute_reply.started": "2024-01-25T14:21:40.978002Z"
    },
    "papermill": {
     "duration": 1.151817,
     "end_time": "2024-01-25T14:29:19.549510",
     "exception": false,
     "start_time": "2024-01-25T14:29:18.397693",
     "status": "completed"
    },
    "tags": []
   },
   "outputs": [],
   "source": [
    "import numpy as np\n",
    "import pandas as pd\n",
    "import matplotlib.pyplot as plt\n",
    "import seaborn as sns\n",
    "%matplotlib inline"
   ]
  },
  {
   "cell_type": "code",
   "execution_count": 3,
   "metadata": {
    "execution": {
     "iopub.execute_input": "2024-01-25T14:29:19.758873Z",
     "iopub.status.busy": "2024-01-25T14:29:19.757790Z",
     "iopub.status.idle": "2024-01-25T14:29:19.779463Z",
     "shell.execute_reply": "2024-01-25T14:29:19.778663Z",
     "shell.execute_reply.started": "2024-01-25T14:21:40.990886Z"
    },
    "papermill": {
     "duration": 0.120193,
     "end_time": "2024-01-25T14:29:19.779595",
     "exception": false,
     "start_time": "2024-01-25T14:29:19.659402",
     "status": "completed"
    },
    "tags": []
   },
   "outputs": [
    {
     "name": "stdout",
     "output_type": "stream",
     "text": [
      "/kaggle/input/bike-sharing/day.csv\n",
      "/kaggle/input/bismillahskripsi/Buleleng-Climate - Full (1).csv\n"
     ]
    }
   ],
   "source": [
    "import os\n",
    "for dirname, _, filenames in os.walk('/kaggle/input'):\n",
    "    for filename in filenames:\n",
    "        print(os.path.join(dirname, filename))"
   ]
  },
  {
   "cell_type": "code",
   "execution_count": 4,
   "metadata": {
    "execution": {
     "iopub.execute_input": "2024-01-25T14:29:19.980544Z",
     "iopub.status.busy": "2024-01-25T14:29:19.979610Z",
     "iopub.status.idle": "2024-01-25T14:29:19.993494Z",
     "shell.execute_reply": "2024-01-25T14:29:19.994197Z",
     "shell.execute_reply.started": "2024-01-25T14:21:41.005721Z"
    },
    "papermill": {
     "duration": 0.117841,
     "end_time": "2024-01-25T14:29:19.994374",
     "exception": false,
     "start_time": "2024-01-25T14:29:19.876533",
     "status": "completed"
    },
    "tags": []
   },
   "outputs": [],
   "source": [
    "bike = pd.read_csv(\"/kaggle/input/bismillahskripsi/Buleleng-Climate - Full (1).csv\")"
   ]
  },
  {
   "cell_type": "code",
   "execution_count": 5,
   "metadata": {
    "execution": {
     "iopub.execute_input": "2024-01-25T14:29:20.214927Z",
     "iopub.status.busy": "2024-01-25T14:29:20.213734Z",
     "iopub.status.idle": "2024-01-25T14:29:20.230254Z",
     "shell.execute_reply": "2024-01-25T14:29:20.229595Z",
     "shell.execute_reply.started": "2024-01-25T14:21:41.019965Z"
    },
    "papermill": {
     "duration": 0.132878,
     "end_time": "2024-01-25T14:29:20.230389",
     "exception": false,
     "start_time": "2024-01-25T14:29:20.097511",
     "status": "completed"
    },
    "tags": []
   },
   "outputs": [
    {
     "data": {
      "text/html": [
       "<div>\n",
       "<style scoped>\n",
       "    .dataframe tbody tr th:only-of-type {\n",
       "        vertical-align: middle;\n",
       "    }\n",
       "\n",
       "    .dataframe tbody tr th {\n",
       "        vertical-align: top;\n",
       "    }\n",
       "\n",
       "    .dataframe thead th {\n",
       "        text-align: right;\n",
       "    }\n",
       "</style>\n",
       "<table border=\"1\" class=\"dataframe\">\n",
       "  <thead>\n",
       "    <tr style=\"text-align: right;\">\n",
       "      <th></th>\n",
       "      <th>Year</th>\n",
       "      <th>Periode</th>\n",
       "      <th>Produktivitas Mangga</th>\n",
       "      <th>Produktivitas Jeruk</th>\n",
       "      <th>Max</th>\n",
       "      <th>Min</th>\n",
       "      <th>Tavg</th>\n",
       "      <th>Sun Hour</th>\n",
       "      <th>Sun Day</th>\n",
       "      <th>Curah Hujan</th>\n",
       "      <th>Hari Hujan</th>\n",
       "      <th>Kecepatan A</th>\n",
       "      <th>Mx Kec</th>\n",
       "    </tr>\n",
       "  </thead>\n",
       "  <tbody>\n",
       "    <tr>\n",
       "      <th>0</th>\n",
       "      <td>2012</td>\n",
       "      <td>Triwulan I</td>\n",
       "      <td>0.46</td>\n",
       "      <td>0.17</td>\n",
       "      <td>28.0</td>\n",
       "      <td>25.0</td>\n",
       "      <td>26.00</td>\n",
       "      <td>78.7</td>\n",
       "      <td>8</td>\n",
       "      <td>501</td>\n",
       "      <td>83</td>\n",
       "      <td>8.17</td>\n",
       "      <td>13.4</td>\n",
       "    </tr>\n",
       "    <tr>\n",
       "      <th>1</th>\n",
       "      <td>2012</td>\n",
       "      <td>Triwulan II</td>\n",
       "      <td>0.00</td>\n",
       "      <td>0.10</td>\n",
       "      <td>28.0</td>\n",
       "      <td>24.0</td>\n",
       "      <td>26.00</td>\n",
       "      <td>237.7</td>\n",
       "      <td>49</td>\n",
       "      <td>164</td>\n",
       "      <td>42</td>\n",
       "      <td>8.93</td>\n",
       "      <td>14.0</td>\n",
       "    </tr>\n",
       "    <tr>\n",
       "      <th>2</th>\n",
       "      <td>2012</td>\n",
       "      <td>Triwulan III</td>\n",
       "      <td>0.27</td>\n",
       "      <td>0.20</td>\n",
       "      <td>28.0</td>\n",
       "      <td>22.0</td>\n",
       "      <td>24.33</td>\n",
       "      <td>336.3</td>\n",
       "      <td>88</td>\n",
       "      <td>10</td>\n",
       "      <td>4</td>\n",
       "      <td>12.20</td>\n",
       "      <td>17.2</td>\n",
       "    </tr>\n",
       "    <tr>\n",
       "      <th>3</th>\n",
       "      <td>2012</td>\n",
       "      <td>Triwulan IV</td>\n",
       "      <td>0.46</td>\n",
       "      <td>0.11</td>\n",
       "      <td>29.0</td>\n",
       "      <td>25.0</td>\n",
       "      <td>27.00</td>\n",
       "      <td>176.0</td>\n",
       "      <td>24</td>\n",
       "      <td>375</td>\n",
       "      <td>68</td>\n",
       "      <td>7.93</td>\n",
       "      <td>13.6</td>\n",
       "    </tr>\n",
       "    <tr>\n",
       "      <th>4</th>\n",
       "      <td>2013</td>\n",
       "      <td>Triwulan I</td>\n",
       "      <td>0.65</td>\n",
       "      <td>0.16</td>\n",
       "      <td>28.0</td>\n",
       "      <td>25.0</td>\n",
       "      <td>27.00</td>\n",
       "      <td>140.7</td>\n",
       "      <td>20</td>\n",
       "      <td>338</td>\n",
       "      <td>70</td>\n",
       "      <td>7.33</td>\n",
       "      <td>12.0</td>\n",
       "    </tr>\n",
       "  </tbody>\n",
       "</table>\n",
       "</div>"
      ],
      "text/plain": [
       "   Year       Periode  Produktivitas Mangga  Produktivitas Jeruk   Max   Min  \\\n",
       "0  2012    Triwulan I                  0.46                 0.17  28.0  25.0   \n",
       "1  2012   Triwulan II                  0.00                 0.10  28.0  24.0   \n",
       "2  2012  Triwulan III                  0.27                 0.20  28.0  22.0   \n",
       "3  2012   Triwulan IV                  0.46                 0.11  29.0  25.0   \n",
       "4  2013    Triwulan I                  0.65                 0.16  28.0  25.0   \n",
       "\n",
       "    Tavg  Sun Hour  Sun Day  Curah Hujan  Hari Hujan  Kecepatan A  Mx Kec  \n",
       "0  26.00      78.7        8          501          83         8.17    13.4  \n",
       "1  26.00     237.7       49          164          42         8.93    14.0  \n",
       "2  24.33     336.3       88           10           4        12.20    17.2  \n",
       "3  27.00     176.0       24          375          68         7.93    13.6  \n",
       "4  27.00     140.7       20          338          70         7.33    12.0  "
      ]
     },
     "execution_count": 5,
     "metadata": {},
     "output_type": "execute_result"
    }
   ],
   "source": [
    "# Check the head of the dataset\n",
    "bike.head()"
   ]
  },
  {
   "cell_type": "code",
   "execution_count": 6,
   "metadata": {
    "execution": {
     "iopub.execute_input": "2024-01-25T14:29:20.447506Z",
     "iopub.status.busy": "2024-01-25T14:29:20.435670Z",
     "iopub.status.idle": "2024-01-25T14:29:20.452358Z",
     "shell.execute_reply": "2024-01-25T14:29:20.451586Z",
     "shell.execute_reply.started": "2024-01-25T14:21:41.047354Z"
    },
    "papermill": {
     "duration": 0.123044,
     "end_time": "2024-01-25T14:29:20.452509",
     "exception": false,
     "start_time": "2024-01-25T14:29:20.329465",
     "status": "completed"
    },
    "tags": []
   },
   "outputs": [
    {
     "name": "stdout",
     "output_type": "stream",
     "text": [
      "<class 'pandas.core.frame.DataFrame'>\n",
      "RangeIndex: 40 entries, 0 to 39\n",
      "Data columns (total 13 columns):\n",
      " #   Column                Non-Null Count  Dtype  \n",
      "---  ------                --------------  -----  \n",
      " 0   Year                  40 non-null     int64  \n",
      " 1   Periode               40 non-null     object \n",
      " 2   Produktivitas Mangga  40 non-null     float64\n",
      " 3   Produktivitas Jeruk   40 non-null     float64\n",
      " 4   Max                   40 non-null     float64\n",
      " 5   Min                   40 non-null     float64\n",
      " 6   Tavg                  40 non-null     float64\n",
      " 7   Sun Hour              40 non-null     float64\n",
      " 8   Sun Day               40 non-null     int64  \n",
      " 9   Curah Hujan           40 non-null     int64  \n",
      " 10  Hari Hujan            40 non-null     int64  \n",
      " 11  Kecepatan A           40 non-null     float64\n",
      " 12  Mx Kec                40 non-null     float64\n",
      "dtypes: float64(8), int64(4), object(1)\n",
      "memory usage: 4.2+ KB\n"
     ]
    }
   ],
   "source": [
    "# Check the descriptive information\n",
    "bike.info()"
   ]
  },
  {
   "cell_type": "code",
   "execution_count": 7,
   "metadata": {
    "execution": {
     "iopub.execute_input": "2024-01-25T14:29:20.665126Z",
     "iopub.status.busy": "2024-01-25T14:29:20.663769Z",
     "iopub.status.idle": "2024-01-25T14:29:20.716415Z",
     "shell.execute_reply": "2024-01-25T14:29:20.715706Z",
     "shell.execute_reply.started": "2024-01-25T14:21:41.064158Z"
    },
    "papermill": {
     "duration": 0.166066,
     "end_time": "2024-01-25T14:29:20.716580",
     "exception": false,
     "start_time": "2024-01-25T14:29:20.550514",
     "status": "completed"
    },
    "tags": []
   },
   "outputs": [
    {
     "data": {
      "text/html": [
       "<div>\n",
       "<style scoped>\n",
       "    .dataframe tbody tr th:only-of-type {\n",
       "        vertical-align: middle;\n",
       "    }\n",
       "\n",
       "    .dataframe tbody tr th {\n",
       "        vertical-align: top;\n",
       "    }\n",
       "\n",
       "    .dataframe thead th {\n",
       "        text-align: right;\n",
       "    }\n",
       "</style>\n",
       "<table border=\"1\" class=\"dataframe\">\n",
       "  <thead>\n",
       "    <tr style=\"text-align: right;\">\n",
       "      <th></th>\n",
       "      <th>Year</th>\n",
       "      <th>Produktivitas Mangga</th>\n",
       "      <th>Produktivitas Jeruk</th>\n",
       "      <th>Max</th>\n",
       "      <th>Min</th>\n",
       "      <th>Tavg</th>\n",
       "      <th>Sun Hour</th>\n",
       "      <th>Sun Day</th>\n",
       "      <th>Curah Hujan</th>\n",
       "      <th>Hari Hujan</th>\n",
       "      <th>Kecepatan A</th>\n",
       "      <th>Mx Kec</th>\n",
       "    </tr>\n",
       "  </thead>\n",
       "  <tbody>\n",
       "    <tr>\n",
       "      <th>count</th>\n",
       "      <td>40.000000</td>\n",
       "      <td>40.0000</td>\n",
       "      <td>40.000000</td>\n",
       "      <td>40.000000</td>\n",
       "      <td>40.000000</td>\n",
       "      <td>40.000000</td>\n",
       "      <td>40.000000</td>\n",
       "      <td>40.00000</td>\n",
       "      <td>40.000000</td>\n",
       "      <td>40.000000</td>\n",
       "      <td>40.000000</td>\n",
       "      <td>40.00000</td>\n",
       "    </tr>\n",
       "    <tr>\n",
       "      <th>mean</th>\n",
       "      <td>2016.500000</td>\n",
       "      <td>0.4385</td>\n",
       "      <td>0.188500</td>\n",
       "      <td>29.175000</td>\n",
       "      <td>24.700000</td>\n",
       "      <td>26.683500</td>\n",
       "      <td>191.615000</td>\n",
       "      <td>40.05000</td>\n",
       "      <td>296.975000</td>\n",
       "      <td>63.725000</td>\n",
       "      <td>7.432500</td>\n",
       "      <td>11.94000</td>\n",
       "    </tr>\n",
       "    <tr>\n",
       "      <th>std</th>\n",
       "      <td>2.908872</td>\n",
       "      <td>0.2978</td>\n",
       "      <td>0.174922</td>\n",
       "      <td>0.930605</td>\n",
       "      <td>0.992278</td>\n",
       "      <td>1.010064</td>\n",
       "      <td>78.482399</td>\n",
       "      <td>25.66645</td>\n",
       "      <td>345.464421</td>\n",
       "      <td>67.614665</td>\n",
       "      <td>1.631161</td>\n",
       "      <td>2.36706</td>\n",
       "    </tr>\n",
       "    <tr>\n",
       "      <th>min</th>\n",
       "      <td>2012.000000</td>\n",
       "      <td>0.0000</td>\n",
       "      <td>0.000000</td>\n",
       "      <td>28.000000</td>\n",
       "      <td>22.000000</td>\n",
       "      <td>24.330000</td>\n",
       "      <td>30.000000</td>\n",
       "      <td>6.00000</td>\n",
       "      <td>4.000000</td>\n",
       "      <td>4.000000</td>\n",
       "      <td>5.170000</td>\n",
       "      <td>7.90000</td>\n",
       "    </tr>\n",
       "    <tr>\n",
       "      <th>25%</th>\n",
       "      <td>2014.000000</td>\n",
       "      <td>0.2550</td>\n",
       "      <td>0.100000</td>\n",
       "      <td>28.000000</td>\n",
       "      <td>24.000000</td>\n",
       "      <td>26.000000</td>\n",
       "      <td>137.025000</td>\n",
       "      <td>20.00000</td>\n",
       "      <td>93.750000</td>\n",
       "      <td>30.250000</td>\n",
       "      <td>6.322500</td>\n",
       "      <td>10.27500</td>\n",
       "    </tr>\n",
       "    <tr>\n",
       "      <th>50%</th>\n",
       "      <td>2016.500000</td>\n",
       "      <td>0.4900</td>\n",
       "      <td>0.160000</td>\n",
       "      <td>29.000000</td>\n",
       "      <td>25.000000</td>\n",
       "      <td>26.835000</td>\n",
       "      <td>182.000000</td>\n",
       "      <td>29.50000</td>\n",
       "      <td>246.500000</td>\n",
       "      <td>51.500000</td>\n",
       "      <td>7.120000</td>\n",
       "      <td>12.05000</td>\n",
       "    </tr>\n",
       "    <tr>\n",
       "      <th>75%</th>\n",
       "      <td>2019.000000</td>\n",
       "      <td>0.5900</td>\n",
       "      <td>0.242500</td>\n",
       "      <td>30.000000</td>\n",
       "      <td>25.000000</td>\n",
       "      <td>27.670000</td>\n",
       "      <td>239.450000</td>\n",
       "      <td>57.00000</td>\n",
       "      <td>385.750000</td>\n",
       "      <td>69.250000</td>\n",
       "      <td>8.117500</td>\n",
       "      <td>13.67500</td>\n",
       "    </tr>\n",
       "    <tr>\n",
       "      <th>max</th>\n",
       "      <td>2021.000000</td>\n",
       "      <td>1.3700</td>\n",
       "      <td>0.850000</td>\n",
       "      <td>31.000000</td>\n",
       "      <td>26.000000</td>\n",
       "      <td>28.330000</td>\n",
       "      <td>336.300000</td>\n",
       "      <td>88.00000</td>\n",
       "      <td>2008.000000</td>\n",
       "      <td>385.000000</td>\n",
       "      <td>12.200000</td>\n",
       "      <td>17.20000</td>\n",
       "    </tr>\n",
       "  </tbody>\n",
       "</table>\n",
       "</div>"
      ],
      "text/plain": [
       "              Year  Produktivitas Mangga  Produktivitas Jeruk        Max  \\\n",
       "count    40.000000               40.0000            40.000000  40.000000   \n",
       "mean   2016.500000                0.4385             0.188500  29.175000   \n",
       "std       2.908872                0.2978             0.174922   0.930605   \n",
       "min    2012.000000                0.0000             0.000000  28.000000   \n",
       "25%    2014.000000                0.2550             0.100000  28.000000   \n",
       "50%    2016.500000                0.4900             0.160000  29.000000   \n",
       "75%    2019.000000                0.5900             0.242500  30.000000   \n",
       "max    2021.000000                1.3700             0.850000  31.000000   \n",
       "\n",
       "             Min       Tavg    Sun Hour   Sun Day  Curah Hujan  Hari Hujan  \\\n",
       "count  40.000000  40.000000   40.000000  40.00000    40.000000   40.000000   \n",
       "mean   24.700000  26.683500  191.615000  40.05000   296.975000   63.725000   \n",
       "std     0.992278   1.010064   78.482399  25.66645   345.464421   67.614665   \n",
       "min    22.000000  24.330000   30.000000   6.00000     4.000000    4.000000   \n",
       "25%    24.000000  26.000000  137.025000  20.00000    93.750000   30.250000   \n",
       "50%    25.000000  26.835000  182.000000  29.50000   246.500000   51.500000   \n",
       "75%    25.000000  27.670000  239.450000  57.00000   385.750000   69.250000   \n",
       "max    26.000000  28.330000  336.300000  88.00000  2008.000000  385.000000   \n",
       "\n",
       "       Kecepatan A    Mx Kec  \n",
       "count    40.000000  40.00000  \n",
       "mean      7.432500  11.94000  \n",
       "std       1.631161   2.36706  \n",
       "min       5.170000   7.90000  \n",
       "25%       6.322500  10.27500  \n",
       "50%       7.120000  12.05000  \n",
       "75%       8.117500  13.67500  \n",
       "max      12.200000  17.20000  "
      ]
     },
     "execution_count": 7,
     "metadata": {},
     "output_type": "execute_result"
    }
   ],
   "source": [
    "bike.describe()"
   ]
  },
  {
   "cell_type": "code",
   "execution_count": 8,
   "metadata": {
    "execution": {
     "iopub.execute_input": "2024-01-25T14:29:20.924227Z",
     "iopub.status.busy": "2024-01-25T14:29:20.923102Z",
     "iopub.status.idle": "2024-01-25T14:29:20.926920Z",
     "shell.execute_reply": "2024-01-25T14:29:20.927493Z",
     "shell.execute_reply.started": "2024-01-25T14:21:41.301738Z"
    },
    "papermill": {
     "duration": 0.109741,
     "end_time": "2024-01-25T14:29:20.927669",
     "exception": false,
     "start_time": "2024-01-25T14:29:20.817928",
     "status": "completed"
    },
    "tags": []
   },
   "outputs": [
    {
     "name": "stdout",
     "output_type": "stream",
     "text": [
      "(40, 13)\n"
     ]
    }
   ],
   "source": [
    "# Check the shape of df\n",
    "\n",
    "print(bike.shape)"
   ]
  },
  {
   "cell_type": "markdown",
   "metadata": {
    "papermill": {
     "duration": 0.098641,
     "end_time": "2024-01-25T14:29:21.128473",
     "exception": false,
     "start_time": "2024-01-25T14:29:21.029832",
     "status": "completed"
    },
    "tags": []
   },
   "source": [
    "## Finding : \n",
    "Dataset has 40 rows and 13 columns.\n",
    "\n",
    "variable 'Sun day', 'Curah Hujan', 'Hari hujan' berbentuk *int* untuk variable 'Periode' berupa ***string***\n",
    "\n",
    "Selain itu, semua variable berupa ***float***"
   ]
  },
  {
   "cell_type": "markdown",
   "metadata": {
    "papermill": {
     "duration": 0.103503,
     "end_time": "2024-01-25T14:29:21.331830",
     "exception": false,
     "start_time": "2024-01-25T14:29:21.228327",
     "status": "completed"
    },
    "tags": []
   },
   "source": [
    "# DATA QUALITY CHECK"
   ]
  },
  {
   "cell_type": "markdown",
   "metadata": {
    "papermill": {
     "duration": 0.09904,
     "end_time": "2024-01-25T14:29:21.530598",
     "exception": false,
     "start_time": "2024-01-25T14:29:21.431558",
     "status": "completed"
    },
    "tags": []
   },
   "source": [
    "## Check for NULL/MISSING values"
   ]
  },
  {
   "cell_type": "code",
   "execution_count": 9,
   "metadata": {
    "execution": {
     "iopub.execute_input": "2024-01-25T14:29:21.738324Z",
     "iopub.status.busy": "2024-01-25T14:29:21.737454Z",
     "iopub.status.idle": "2024-01-25T14:29:21.767650Z",
     "shell.execute_reply": "2024-01-25T14:29:21.766931Z",
     "shell.execute_reply.started": "2024-01-25T14:21:41.308876Z"
    },
    "papermill": {
     "duration": 0.137675,
     "end_time": "2024-01-25T14:29:21.767801",
     "exception": false,
     "start_time": "2024-01-25T14:29:21.630126",
     "status": "completed"
    },
    "tags": []
   },
   "outputs": [
    {
     "data": {
      "text/plain": [
       "Mx Kec                  0.0\n",
       "Kecepatan A             0.0\n",
       "Hari Hujan              0.0\n",
       "Curah Hujan             0.0\n",
       "Sun Day                 0.0\n",
       "Sun Hour                0.0\n",
       "Tavg                    0.0\n",
       "Min                     0.0\n",
       "Max                     0.0\n",
       "Produktivitas Jeruk     0.0\n",
       "Produktivitas Mangga    0.0\n",
       "Periode                 0.0\n",
       "Year                    0.0\n",
       "dtype: float64"
      ]
     },
     "execution_count": 9,
     "metadata": {},
     "output_type": "execute_result"
    }
   ],
   "source": [
    "# percentage of missing values in each column\n",
    "round(100*(bike.isnull().sum()/len(bike)), 2).sort_values(ascending=False)"
   ]
  },
  {
   "cell_type": "code",
   "execution_count": 10,
   "metadata": {
    "execution": {
     "iopub.execute_input": "2024-01-25T14:29:21.982463Z",
     "iopub.status.busy": "2024-01-25T14:29:21.981611Z",
     "iopub.status.idle": "2024-01-25T14:29:21.985724Z",
     "shell.execute_reply": "2024-01-25T14:29:21.986297Z",
     "shell.execute_reply.started": "2024-01-25T14:21:41.328365Z"
    },
    "papermill": {
     "duration": 0.118305,
     "end_time": "2024-01-25T14:29:21.986524",
     "exception": false,
     "start_time": "2024-01-25T14:29:21.868219",
     "status": "completed"
    },
    "tags": []
   },
   "outputs": [
    {
     "data": {
      "text/plain": [
       "39    0.0\n",
       "38    0.0\n",
       "17    0.0\n",
       "16    0.0\n",
       "15    0.0\n",
       "14    0.0\n",
       "13    0.0\n",
       "12    0.0\n",
       "11    0.0\n",
       "10    0.0\n",
       "9     0.0\n",
       "8     0.0\n",
       "7     0.0\n",
       "6     0.0\n",
       "5     0.0\n",
       "4     0.0\n",
       "3     0.0\n",
       "2     0.0\n",
       "1     0.0\n",
       "18    0.0\n",
       "19    0.0\n",
       "20    0.0\n",
       "30    0.0\n",
       "37    0.0\n",
       "36    0.0\n",
       "35    0.0\n",
       "34    0.0\n",
       "33    0.0\n",
       "32    0.0\n",
       "31    0.0\n",
       "29    0.0\n",
       "21    0.0\n",
       "28    0.0\n",
       "27    0.0\n",
       "26    0.0\n",
       "25    0.0\n",
       "24    0.0\n",
       "23    0.0\n",
       "22    0.0\n",
       "0     0.0\n",
       "dtype: float64"
      ]
     },
     "execution_count": 10,
     "metadata": {},
     "output_type": "execute_result"
    }
   ],
   "source": [
    "# row-wise null count percentage\n",
    "round((bike.isnull().sum(axis=1)/len(bike))*100,2).sort_values(ascending=False)"
   ]
  },
  {
   "cell_type": "markdown",
   "metadata": {
    "papermill": {
     "duration": 0.103048,
     "end_time": "2024-01-25T14:29:22.218394",
     "exception": false,
     "start_time": "2024-01-25T14:29:22.115346",
     "status": "completed"
    },
    "tags": []
   },
   "source": [
    "## Finding\n",
    "There are no missing / Null values either in columns or rows"
   ]
  },
  {
   "cell_type": "markdown",
   "metadata": {
    "papermill": {
     "duration": 0.102747,
     "end_time": "2024-01-25T14:29:22.424479",
     "exception": false,
     "start_time": "2024-01-25T14:29:22.321732",
     "status": "completed"
    },
    "tags": []
   },
   "source": [
    "## Duplicate Check"
   ]
  },
  {
   "cell_type": "code",
   "execution_count": 11,
   "metadata": {
    "execution": {
     "iopub.execute_input": "2024-01-25T14:29:22.641933Z",
     "iopub.status.busy": "2024-01-25T14:29:22.640729Z",
     "iopub.status.idle": "2024-01-25T14:29:22.644303Z",
     "shell.execute_reply": "2024-01-25T14:29:22.643654Z",
     "shell.execute_reply.started": "2024-01-25T14:21:41.347920Z"
    },
    "papermill": {
     "duration": 0.11997,
     "end_time": "2024-01-25T14:29:22.644456",
     "exception": false,
     "start_time": "2024-01-25T14:29:22.524486",
     "status": "completed"
    },
    "tags": []
   },
   "outputs": [],
   "source": [
    "bike_dup = bike.copy()\n",
    "\n",
    "# Checking for duplicates and dropping the entire duplicate row if any\n",
    "bike_dup.drop_duplicates(subset=None, inplace=True)"
   ]
  },
  {
   "cell_type": "code",
   "execution_count": 12,
   "metadata": {
    "execution": {
     "iopub.execute_input": "2024-01-25T14:29:22.922029Z",
     "iopub.status.busy": "2024-01-25T14:29:22.921245Z",
     "iopub.status.idle": "2024-01-25T14:29:22.926644Z",
     "shell.execute_reply": "2024-01-25T14:29:22.927283Z",
     "shell.execute_reply.started": "2024-01-25T14:21:41.363185Z"
    },
    "papermill": {
     "duration": 0.183313,
     "end_time": "2024-01-25T14:29:22.927475",
     "exception": false,
     "start_time": "2024-01-25T14:29:22.744162",
     "status": "completed"
    },
    "tags": []
   },
   "outputs": [
    {
     "data": {
      "text/plain": [
       "(40, 13)"
      ]
     },
     "execution_count": 12,
     "metadata": {},
     "output_type": "execute_result"
    }
   ],
   "source": [
    "bike_dup.shape"
   ]
  },
  {
   "cell_type": "code",
   "execution_count": 13,
   "metadata": {
    "execution": {
     "iopub.execute_input": "2024-01-25T14:29:23.137797Z",
     "iopub.status.busy": "2024-01-25T14:29:23.136758Z",
     "iopub.status.idle": "2024-01-25T14:29:23.141312Z",
     "shell.execute_reply": "2024-01-25T14:29:23.141887Z",
     "shell.execute_reply.started": "2024-01-25T14:21:41.376095Z"
    },
    "papermill": {
     "duration": 0.112969,
     "end_time": "2024-01-25T14:29:23.142087",
     "exception": false,
     "start_time": "2024-01-25T14:29:23.029118",
     "status": "completed"
    },
    "tags": []
   },
   "outputs": [
    {
     "data": {
      "text/plain": [
       "(40, 13)"
      ]
     },
     "execution_count": 13,
     "metadata": {},
     "output_type": "execute_result"
    }
   ],
   "source": [
    "bike.shape"
   ]
  },
  {
   "cell_type": "markdown",
   "metadata": {
    "papermill": {
     "duration": 0.100711,
     "end_time": "2024-01-25T14:29:23.343001",
     "exception": false,
     "start_time": "2024-01-25T14:29:23.242290",
     "status": "completed"
    },
    "tags": []
   },
   "source": [
    "### Insights \n",
    "\n",
    "The shape after running the drop duplicate command is same as the original dataframe. \n",
    "\n",
    "Hence we can conclude that there were zero duplicate values in the dataset. "
   ]
  },
  {
   "cell_type": "markdown",
   "metadata": {
    "papermill": {
     "duration": 0.100482,
     "end_time": "2024-01-25T14:29:23.545280",
     "exception": false,
     "start_time": "2024-01-25T14:29:23.444798",
     "status": "completed"
    },
    "tags": []
   },
   "source": [
    "## Data Cleaning\n",
    "\n",
    "Checking value_counts() for entire dataframe. \n",
    "\n",
    "This will help to identify any Unknow/Junk values present in the dataset."
   ]
  },
  {
   "cell_type": "code",
   "execution_count": 14,
   "metadata": {
    "execution": {
     "iopub.execute_input": "2024-01-25T14:29:23.753539Z",
     "iopub.status.busy": "2024-01-25T14:29:23.752709Z",
     "iopub.status.idle": "2024-01-25T14:29:23.757383Z",
     "shell.execute_reply": "2024-01-25T14:29:23.757931Z",
     "shell.execute_reply.started": "2024-01-25T14:21:41.385834Z"
    },
    "papermill": {
     "duration": 0.11076,
     "end_time": "2024-01-25T14:29:23.758133",
     "exception": false,
     "start_time": "2024-01-25T14:29:23.647373",
     "status": "completed"
    },
    "tags": []
   },
   "outputs": [],
   "source": [
    "#Create a copy of the  dataframe, without the 'instant' column, \n",
    "\n",
    "#as this will have unique values, and donot make sense to do a value count on it.\n",
    "\n",
    "bike_dummy=bike.iloc[:,1:16]"
   ]
  },
  {
   "cell_type": "code",
   "execution_count": 15,
   "metadata": {
    "execution": {
     "iopub.execute_input": "2024-01-25T14:29:23.979768Z",
     "iopub.status.busy": "2024-01-25T14:29:23.978543Z",
     "iopub.status.idle": "2024-01-25T14:29:24.005920Z",
     "shell.execute_reply": "2024-01-25T14:29:24.006934Z",
     "shell.execute_reply.started": "2024-01-25T14:21:41.394371Z"
    },
    "papermill": {
     "duration": 0.146905,
     "end_time": "2024-01-25T14:29:24.007160",
     "exception": false,
     "start_time": "2024-01-25T14:29:23.860255",
     "status": "completed"
    },
    "tags": []
   },
   "outputs": [
    {
     "name": "stdout",
     "output_type": "stream",
     "text": [
      "Triwulan I      10\n",
      "Triwulan III    10\n",
      "Triwulan IV     10\n",
      "Triwulan II     10\n",
      "Name: Periode, dtype: int64 \n",
      "\n",
      "\n",
      "\n",
      "0.00    8\n",
      "0.65    3\n",
      "0.50    2\n",
      "0.59    2\n",
      "0.47    2\n",
      "0.46    2\n",
      "0.53    1\n",
      "0.68    1\n",
      "0.67    1\n",
      "0.54    1\n",
      "0.52    1\n",
      "0.24    1\n",
      "0.44    1\n",
      "0.70    1\n",
      "0.55    1\n",
      "0.71    1\n",
      "1.37    1\n",
      "0.26    1\n",
      "0.58    1\n",
      "0.48    1\n",
      "0.37    1\n",
      "0.51    1\n",
      "0.23    1\n",
      "0.56    1\n",
      "0.30    1\n",
      "1.04    1\n",
      "0.27    1\n",
      "Name: Produktivitas Mangga, dtype: int64 \n",
      "\n",
      "\n",
      "\n",
      "0.00    7\n",
      "0.10    5\n",
      "0.25    3\n",
      "0.16    3\n",
      "0.26    2\n",
      "0.15    2\n",
      "0.18    2\n",
      "0.11    2\n",
      "0.13    1\n",
      "0.12    1\n",
      "0.22    1\n",
      "0.19    1\n",
      "0.31    1\n",
      "0.24    1\n",
      "0.47    1\n",
      "0.85    1\n",
      "0.50    1\n",
      "0.17    1\n",
      "0.66    1\n",
      "0.21    1\n",
      "0.14    1\n",
      "0.20    1\n",
      "Name: Produktivitas Jeruk, dtype: int64 \n",
      "\n",
      "\n",
      "\n",
      "30.0    15\n",
      "28.0    12\n",
      "29.0    11\n",
      "31.0     2\n",
      "Name: Max, dtype: int64 \n",
      "\n",
      "\n",
      "\n",
      "25.0    15\n",
      "24.0    12\n",
      "26.0     9\n",
      "23.0     3\n",
      "22.0     1\n",
      "Name: Min, dtype: int64 \n",
      "\n",
      "\n",
      "\n",
      "27.00    6\n",
      "27.67    5\n",
      "28.00    5\n",
      "26.00    5\n",
      "25.67    4\n",
      "26.33    3\n",
      "26.67    3\n",
      "27.33    3\n",
      "25.00    2\n",
      "25.33    2\n",
      "24.33    1\n",
      "28.33    1\n",
      "Name: Tavg, dtype: int64 \n",
      "\n",
      "\n",
      "\n",
      "302.0    2\n",
      "225.7    2\n",
      "179.3    1\n",
      "214.3    1\n",
      "162.3    1\n",
      "306.3    1\n",
      "30.0     1\n",
      "234.3    1\n",
      "221.0    1\n",
      "111.0    1\n",
      "47.0     1\n",
      "130.3    1\n",
      "320.0    1\n",
      "166.0    1\n",
      "297.3    1\n",
      "135.0    1\n",
      "156.0    1\n",
      "187.0    1\n",
      "237.7    1\n",
      "140.7    1\n",
      "83.7     1\n",
      "184.7    1\n",
      "336.3    1\n",
      "236.3    1\n",
      "133.7    1\n",
      "121.3    1\n",
      "141.3    1\n",
      "244.7    1\n",
      "316.3    1\n",
      "78.7     1\n",
      "254.7    1\n",
      "168.3    1\n",
      "209.7    1\n",
      "102.7    1\n",
      "269.3    1\n",
      "137.7    1\n",
      "138.3    1\n",
      "176.0    1\n",
      "Name: Sun Hour, dtype: int64 \n",
      "\n",
      "\n",
      "\n",
      "24    4\n",
      "83    3\n",
      "33    2\n",
      "46    2\n",
      "25    2\n",
      "45    2\n",
      "20    2\n",
      "10    1\n",
      "8     1\n",
      "18    1\n",
      "75    1\n",
      "7     1\n",
      "13    1\n",
      "6     1\n",
      "14    1\n",
      "79    1\n",
      "17    1\n",
      "70    1\n",
      "23    1\n",
      "19    1\n",
      "22    1\n",
      "71    1\n",
      "88    1\n",
      "26    1\n",
      "81    1\n",
      "49    1\n",
      "50    1\n",
      "53    1\n",
      "54    1\n",
      "66    1\n",
      "Name: Sun Day, dtype: int64 \n",
      "\n",
      "\n",
      "\n",
      "20      2\n",
      "319     1\n",
      "152     1\n",
      "214     1\n",
      "405     1\n",
      "84      1\n",
      "2008    1\n",
      "338     1\n",
      "640     1\n",
      "400     1\n",
      "143     1\n",
      "289     1\n",
      "268     1\n",
      "10      1\n",
      "22      1\n",
      "136     1\n",
      "74      1\n",
      "133     1\n",
      "4       1\n",
      "279     1\n",
      "391     1\n",
      "444     1\n",
      "1053    1\n",
      "375     1\n",
      "54      1\n",
      "501     1\n",
      "216     1\n",
      "177     1\n",
      "437     1\n",
      "302     1\n",
      "12      1\n",
      "300     1\n",
      "295     1\n",
      "97      1\n",
      "164     1\n",
      "46      1\n",
      "384     1\n",
      "225     1\n",
      "448     1\n",
      "Name: Curah Hujan, dtype: int64 \n",
      "\n",
      "\n",
      "\n",
      "67     4\n",
      "41     3\n",
      "45     2\n",
      "47     2\n",
      "68     2\n",
      "9      2\n",
      "25     2\n",
      "59     1\n",
      "11     1\n",
      "10     1\n",
      "69     1\n",
      "72     1\n",
      "70     1\n",
      "80     1\n",
      "4      1\n",
      "66     1\n",
      "78     1\n",
      "84     1\n",
      "17     1\n",
      "83     1\n",
      "249    1\n",
      "85     1\n",
      "22     1\n",
      "154    1\n",
      "32     1\n",
      "37     1\n",
      "42     1\n",
      "5      1\n",
      "56     1\n",
      "385    1\n",
      "Name: Hari Hujan, dtype: int64 \n",
      "\n",
      "\n",
      "\n",
      "7.57     2\n",
      "7.93     2\n",
      "7.60     2\n",
      "6.67     1\n",
      "8.57     1\n",
      "6.40     1\n",
      "12.20    1\n",
      "6.33     1\n",
      "8.83     1\n",
      "8.17     1\n",
      "6.17     1\n",
      "6.87     1\n",
      "7.07     1\n",
      "8.93     1\n",
      "7.03     1\n",
      "6.77     1\n",
      "6.47     1\n",
      "9.50     1\n",
      "10.73    1\n",
      "5.67     1\n",
      "9.77     1\n",
      "8.40     1\n",
      "6.27     1\n",
      "6.57     1\n",
      "5.30     1\n",
      "11.43    1\n",
      "6.30     1\n",
      "5.17     1\n",
      "8.10     1\n",
      "5.47     1\n",
      "7.77     1\n",
      "7.33     1\n",
      "5.53     1\n",
      "7.17     1\n",
      "5.57     1\n",
      "6.07     1\n",
      "6.50     1\n",
      "Name: Kecepatan A, dtype: int64 \n",
      "\n",
      "\n",
      "\n",
      "14.8    3\n",
      "10.8    2\n",
      "10.4    2\n",
      "10.3    2\n",
      "12.7    2\n",
      "12.9    2\n",
      "10.5    1\n",
      "16.5    1\n",
      "14.5    1\n",
      "13.9    1\n",
      "15.2    1\n",
      "12.0    1\n",
      "9.1     1\n",
      "9.8     1\n",
      "13.3    1\n",
      "8.6     1\n",
      "8.4     1\n",
      "12.3    1\n",
      "9.5     1\n",
      "14.6    1\n",
      "10.2    1\n",
      "12.6    1\n",
      "11.3    1\n",
      "11.2    1\n",
      "9.7     1\n",
      "8.2     1\n",
      "17.2    1\n",
      "13.4    1\n",
      "9.4     1\n",
      "7.9     1\n",
      "13.6    1\n",
      "12.1    1\n",
      "14.0    1\n",
      "Name: Mx Kec, dtype: int64 \n",
      "\n",
      "\n",
      "\n"
     ]
    }
   ],
   "source": [
    "for col in bike_dummy:\n",
    "    print(bike_dummy[col].value_counts(ascending=False), '\\n\\n\\n')"
   ]
  },
  {
   "cell_type": "markdown",
   "metadata": {
    "papermill": {
     "duration": 0.103308,
     "end_time": "2024-01-25T14:29:24.213886",
     "exception": false,
     "start_time": "2024-01-25T14:29:24.110578",
     "status": "completed"
    },
    "tags": []
   },
   "source": [
    "### Insights \n",
    "There seems to be no Junk/Unknown values in the entire dataset."
   ]
  },
  {
   "cell_type": "markdown",
   "metadata": {
    "papermill": {
     "duration": 0.100839,
     "end_time": "2024-01-25T14:29:24.418091",
     "exception": false,
     "start_time": "2024-01-25T14:29:24.317252",
     "status": "completed"
    },
    "tags": []
   },
   "source": [
    "# Removing redundant & unwanted columns"
   ]
  },
  {
   "cell_type": "code",
   "execution_count": 16,
   "metadata": {
    "execution": {
     "iopub.execute_input": "2024-01-25T14:29:24.624783Z",
     "iopub.status.busy": "2024-01-25T14:29:24.624060Z",
     "iopub.status.idle": "2024-01-25T14:29:24.632399Z",
     "shell.execute_reply": "2024-01-25T14:29:24.633080Z",
     "shell.execute_reply.started": "2024-01-25T14:21:41.434368Z"
    },
    "papermill": {
     "duration": 0.113778,
     "end_time": "2024-01-25T14:29:24.633269",
     "exception": false,
     "start_time": "2024-01-25T14:29:24.519491",
     "status": "completed"
    },
    "tags": []
   },
   "outputs": [
    {
     "data": {
      "text/plain": [
       "Index(['Year', 'Periode', 'Produktivitas Mangga', 'Produktivitas Jeruk', 'Max',\n",
       "       'Min', 'Tavg', 'Sun Hour', 'Sun Day', 'Curah Hujan', 'Hari Hujan',\n",
       "       'Kecepatan A', 'Mx Kec'],\n",
       "      dtype='object')"
      ]
     },
     "execution_count": 16,
     "metadata": {},
     "output_type": "execute_result"
    }
   ],
   "source": [
    "bike.columns"
   ]
  },
  {
   "cell_type": "code",
   "execution_count": 17,
   "metadata": {
    "execution": {
     "iopub.execute_input": "2024-01-25T14:29:24.850508Z",
     "iopub.status.busy": "2024-01-25T14:29:24.845663Z",
     "iopub.status.idle": "2024-01-25T14:29:24.852804Z",
     "shell.execute_reply": "2024-01-25T14:29:24.853496Z",
     "shell.execute_reply.started": "2024-01-25T14:21:41.442942Z"
    },
    "papermill": {
     "duration": 0.116263,
     "end_time": "2024-01-25T14:29:24.853693",
     "exception": false,
     "start_time": "2024-01-25T14:29:24.737430",
     "status": "completed"
    },
    "tags": []
   },
   "outputs": [],
   "source": [
    "bike_new=bike[['Year', 'Periode','Produktivitas Jeruk', 'Sun Day',\n",
    "       'Sun Hour']]\n"
   ]
  },
  {
   "cell_type": "code",
   "execution_count": 18,
   "metadata": {
    "execution": {
     "iopub.execute_input": "2024-01-25T14:29:25.064301Z",
     "iopub.status.busy": "2024-01-25T14:29:25.063473Z",
     "iopub.status.idle": "2024-01-25T14:29:25.069348Z",
     "shell.execute_reply": "2024-01-25T14:29:25.070050Z",
     "shell.execute_reply.started": "2024-01-25T14:21:41.456576Z"
    },
    "papermill": {
     "duration": 0.11355,
     "end_time": "2024-01-25T14:29:25.070303",
     "exception": false,
     "start_time": "2024-01-25T14:29:24.956753",
     "status": "completed"
    },
    "tags": []
   },
   "outputs": [],
   "source": [
    "bike_new_new=bike[['Produktivitas Jeruk', 'Sun Day',\n",
    "       'Sun Hour']]"
   ]
  },
  {
   "cell_type": "code",
   "execution_count": 19,
   "metadata": {
    "execution": {
     "iopub.execute_input": "2024-01-25T14:29:25.283599Z",
     "iopub.status.busy": "2024-01-25T14:29:25.282763Z",
     "iopub.status.idle": "2024-01-25T14:29:25.294863Z",
     "shell.execute_reply": "2024-01-25T14:29:25.294067Z",
     "shell.execute_reply.started": "2024-01-25T14:21:41.466679Z"
    },
    "papermill": {
     "duration": 0.11943,
     "end_time": "2024-01-25T14:29:25.295023",
     "exception": false,
     "start_time": "2024-01-25T14:29:25.175593",
     "status": "completed"
    },
    "tags": []
   },
   "outputs": [
    {
     "name": "stdout",
     "output_type": "stream",
     "text": [
      "<class 'pandas.core.frame.DataFrame'>\n",
      "RangeIndex: 40 entries, 0 to 39\n",
      "Data columns (total 5 columns):\n",
      " #   Column               Non-Null Count  Dtype  \n",
      "---  ------               --------------  -----  \n",
      " 0   Year                 40 non-null     int64  \n",
      " 1   Periode              40 non-null     object \n",
      " 2   Produktivitas Jeruk  40 non-null     float64\n",
      " 3   Sun Day              40 non-null     int64  \n",
      " 4   Sun Hour             40 non-null     float64\n",
      "dtypes: float64(2), int64(2), object(1)\n",
      "memory usage: 1.7+ KB\n"
     ]
    }
   ],
   "source": [
    "bike_new.info()"
   ]
  },
  {
   "cell_type": "code",
   "execution_count": 20,
   "metadata": {
    "execution": {
     "iopub.execute_input": "2024-01-25T14:29:25.514552Z",
     "iopub.status.busy": "2024-01-25T14:29:25.513262Z",
     "iopub.status.idle": "2024-01-25T14:29:25.518366Z",
     "shell.execute_reply": "2024-01-25T14:29:25.517549Z",
     "shell.execute_reply.started": "2024-01-25T14:21:41.487356Z"
    },
    "papermill": {
     "duration": 0.117804,
     "end_time": "2024-01-25T14:29:25.518526",
     "exception": false,
     "start_time": "2024-01-25T14:29:25.400722",
     "status": "completed"
    },
    "tags": []
   },
   "outputs": [
    {
     "name": "stdout",
     "output_type": "stream",
     "text": [
      "<class 'pandas.core.frame.DataFrame'>\n",
      "RangeIndex: 40 entries, 0 to 39\n",
      "Data columns (total 3 columns):\n",
      " #   Column               Non-Null Count  Dtype  \n",
      "---  ------               --------------  -----  \n",
      " 0   Produktivitas Jeruk  40 non-null     float64\n",
      " 1   Sun Day              40 non-null     int64  \n",
      " 2   Sun Hour             40 non-null     float64\n",
      "dtypes: float64(2), int64(1)\n",
      "memory usage: 1.1 KB\n"
     ]
    }
   ],
   "source": [
    "bike_new_new.info()"
   ]
  },
  {
   "cell_type": "markdown",
   "metadata": {
    "papermill": {
     "duration": 0.102822,
     "end_time": "2024-01-25T14:29:25.725794",
     "exception": false,
     "start_time": "2024-01-25T14:29:25.622972",
     "status": "completed"
    },
    "tags": []
   },
   "source": [
    "# Creating Dummy Variables"
   ]
  },
  {
   "cell_type": "markdown",
   "metadata": {
    "papermill": {
     "duration": 0.103398,
     "end_time": "2024-01-25T14:29:25.932622",
     "exception": false,
     "start_time": "2024-01-25T14:29:25.829224",
     "status": "completed"
    },
    "tags": []
   },
   "source": [
    "We will create DUMMY variables for 4 categorical variables 'mnth', 'weekday', 'season' & 'weathersit'. \n",
    "- Before creating dummy variables, we will have to convert them into 'category' data types."
   ]
  },
  {
   "cell_type": "code",
   "execution_count": 21,
   "metadata": {
    "execution": {
     "iopub.execute_input": "2024-01-25T14:29:26.150825Z",
     "iopub.status.busy": "2024-01-25T14:29:26.150026Z",
     "iopub.status.idle": "2024-01-25T14:29:26.156943Z",
     "shell.execute_reply": "2024-01-25T14:29:26.157504Z",
     "shell.execute_reply.started": "2024-01-25T14:21:41.501070Z"
    },
    "papermill": {
     "duration": 0.117896,
     "end_time": "2024-01-25T14:29:26.157705",
     "exception": false,
     "start_time": "2024-01-25T14:29:26.039809",
     "status": "completed"
    },
    "tags": []
   },
   "outputs": [
    {
     "name": "stdout",
     "output_type": "stream",
     "text": [
      "<class 'pandas.core.frame.DataFrame'>\n",
      "RangeIndex: 40 entries, 0 to 39\n",
      "Data columns (total 5 columns):\n",
      " #   Column               Non-Null Count  Dtype  \n",
      "---  ------               --------------  -----  \n",
      " 0   Year                 40 non-null     int64  \n",
      " 1   Periode              40 non-null     object \n",
      " 2   Produktivitas Jeruk  40 non-null     float64\n",
      " 3   Sun Day              40 non-null     int64  \n",
      " 4   Sun Hour             40 non-null     float64\n",
      "dtypes: float64(2), int64(2), object(1)\n",
      "memory usage: 1.7+ KB\n"
     ]
    }
   ],
   "source": [
    "# Check the datatypes before convertion\n",
    "bike_new.info()"
   ]
  },
  {
   "cell_type": "code",
   "execution_count": 22,
   "metadata": {
    "execution": {
     "iopub.execute_input": "2024-01-25T14:29:26.373574Z",
     "iopub.status.busy": "2024-01-25T14:29:26.372780Z",
     "iopub.status.idle": "2024-01-25T14:29:26.381266Z",
     "shell.execute_reply": "2024-01-25T14:29:26.381904Z",
     "shell.execute_reply.started": "2024-01-25T14:21:41.515445Z"
    },
    "papermill": {
     "duration": 0.120255,
     "end_time": "2024-01-25T14:29:26.382099",
     "exception": false,
     "start_time": "2024-01-25T14:29:26.261844",
     "status": "completed"
    },
    "tags": []
   },
   "outputs": [],
   "source": [
    "# Convert to 'category' data type\n",
    "\n",
    "bike_new['Year']=bike_new['Year'].astype('category')\n",
    "bike_new['Periode']=bike_new['Periode'].astype('category')"
   ]
  },
  {
   "cell_type": "code",
   "execution_count": 23,
   "metadata": {
    "execution": {
     "iopub.execute_input": "2024-01-25T14:29:26.592415Z",
     "iopub.status.busy": "2024-01-25T14:29:26.591689Z",
     "iopub.status.idle": "2024-01-25T14:29:26.605506Z",
     "shell.execute_reply": "2024-01-25T14:29:26.606262Z",
     "shell.execute_reply.started": "2024-01-25T14:21:41.527134Z"
    },
    "papermill": {
     "duration": 0.120802,
     "end_time": "2024-01-25T14:29:26.606491",
     "exception": false,
     "start_time": "2024-01-25T14:29:26.485689",
     "status": "completed"
    },
    "tags": []
   },
   "outputs": [
    {
     "name": "stdout",
     "output_type": "stream",
     "text": [
      "<class 'pandas.core.frame.DataFrame'>\n",
      "RangeIndex: 40 entries, 0 to 39\n",
      "Data columns (total 5 columns):\n",
      " #   Column               Non-Null Count  Dtype   \n",
      "---  ------               --------------  -----   \n",
      " 0   Year                 40 non-null     category\n",
      " 1   Periode              40 non-null     category\n",
      " 2   Produktivitas Jeruk  40 non-null     float64 \n",
      " 3   Sun Day              40 non-null     int64   \n",
      " 4   Sun Hour             40 non-null     float64 \n",
      "dtypes: category(2), float64(2), int64(1)\n",
      "memory usage: 1.7 KB\n"
     ]
    }
   ],
   "source": [
    "bike_new.info()"
   ]
  },
  {
   "cell_type": "code",
   "execution_count": 24,
   "metadata": {
    "execution": {
     "iopub.execute_input": "2024-01-25T14:29:26.831604Z",
     "iopub.status.busy": "2024-01-25T14:29:26.827476Z",
     "iopub.status.idle": "2024-01-25T14:29:26.849444Z",
     "shell.execute_reply": "2024-01-25T14:29:26.850239Z",
     "shell.execute_reply.started": "2024-01-25T14:21:41.543483Z"
    },
    "papermill": {
     "duration": 0.139951,
     "end_time": "2024-01-25T14:29:26.850441",
     "exception": false,
     "start_time": "2024-01-25T14:29:26.710490",
     "status": "completed"
    },
    "tags": []
   },
   "outputs": [
    {
     "name": "stdout",
     "output_type": "stream",
     "text": [
      "<class 'pandas.core.frame.DataFrame'>\n",
      "RangeIndex: 40 entries, 0 to 39\n",
      "Data columns (total 17 columns):\n",
      " #   Column                Non-Null Count  Dtype  \n",
      "---  ------                --------------  -----  \n",
      " 0   Produktivitas Jeruk   40 non-null     float64\n",
      " 1   Sun Day               40 non-null     int64  \n",
      " 2   Sun Hour              40 non-null     float64\n",
      " 3   Year_2012             40 non-null     uint8  \n",
      " 4   Year_2013             40 non-null     uint8  \n",
      " 5   Year_2014             40 non-null     uint8  \n",
      " 6   Year_2015             40 non-null     uint8  \n",
      " 7   Year_2016             40 non-null     uint8  \n",
      " 8   Year_2017             40 non-null     uint8  \n",
      " 9   Year_2018             40 non-null     uint8  \n",
      " 10  Year_2019             40 non-null     uint8  \n",
      " 11  Year_2020             40 non-null     uint8  \n",
      " 12  Year_2021             40 non-null     uint8  \n",
      " 13  Periode_Triwulan I    40 non-null     uint8  \n",
      " 14  Periode_Triwulan II   40 non-null     uint8  \n",
      " 15  Periode_Triwulan III  40 non-null     uint8  \n",
      " 16  Periode_Triwulan IV   40 non-null     uint8  \n",
      "dtypes: float64(2), int64(1), uint8(14)\n",
      "memory usage: 1.6 KB\n"
     ]
    }
   ],
   "source": [
    "# This code does 3 things:\n",
    "# 1) Create Dummy variable\n",
    "# 2) Drop original variable for which the dummy was created\n",
    "# 3) Drop first dummy variable for each set of dummies created.\n",
    "\n",
    "bike_new = pd.get_dummies(bike_new)\n",
    "bike_new.info()"
   ]
  },
  {
   "cell_type": "code",
   "execution_count": 25,
   "metadata": {
    "execution": {
     "iopub.execute_input": "2024-01-25T14:29:27.069888Z",
     "iopub.status.busy": "2024-01-25T14:29:27.068643Z",
     "iopub.status.idle": "2024-01-25T14:29:27.074009Z",
     "shell.execute_reply": "2024-01-25T14:29:27.073154Z",
     "shell.execute_reply.started": "2024-01-25T14:21:41.576828Z"
    },
    "papermill": {
     "duration": 0.118632,
     "end_time": "2024-01-25T14:29:27.074167",
     "exception": false,
     "start_time": "2024-01-25T14:29:26.955535",
     "status": "completed"
    },
    "tags": []
   },
   "outputs": [
    {
     "data": {
      "text/plain": [
       "(40, 17)"
      ]
     },
     "execution_count": 25,
     "metadata": {},
     "output_type": "execute_result"
    }
   ],
   "source": [
    "bike_new.shape"
   ]
  },
  {
   "cell_type": "markdown",
   "metadata": {
    "papermill": {
     "duration": 0.106175,
     "end_time": "2024-01-25T14:29:27.286639",
     "exception": false,
     "start_time": "2024-01-25T14:29:27.180464",
     "status": "completed"
    },
    "tags": []
   },
   "source": [
    "## SPLITTING THE DATA\n",
    "- Splitting the data to Train and Test: - We will now split the data into TRAIN and TEST (70:30 ratio) \n",
    "- We will use train_test_split method from sklearn package for this"
   ]
  },
  {
   "cell_type": "code",
   "execution_count": 26,
   "metadata": {
    "execution": {
     "iopub.execute_input": "2024-01-25T14:29:27.506962Z",
     "iopub.status.busy": "2024-01-25T14:29:27.506225Z",
     "iopub.status.idle": "2024-01-25T14:29:27.511108Z",
     "shell.execute_reply": "2024-01-25T14:29:27.510411Z",
     "shell.execute_reply.started": "2024-01-25T14:21:41.585818Z"
    },
    "papermill": {
     "duration": 0.115886,
     "end_time": "2024-01-25T14:29:27.511243",
     "exception": false,
     "start_time": "2024-01-25T14:29:27.395357",
     "status": "completed"
    },
    "tags": []
   },
   "outputs": [
    {
     "data": {
      "text/plain": [
       "(40, 3)"
      ]
     },
     "execution_count": 26,
     "metadata": {},
     "output_type": "execute_result"
    }
   ],
   "source": [
    "# Check the shape before spliting\n",
    "\n",
    "bike_new_new.shape"
   ]
  },
  {
   "cell_type": "code",
   "execution_count": 27,
   "metadata": {
    "execution": {
     "iopub.execute_input": "2024-01-25T14:29:27.729297Z",
     "iopub.status.busy": "2024-01-25T14:29:27.728532Z",
     "iopub.status.idle": "2024-01-25T14:29:27.733518Z",
     "shell.execute_reply": "2024-01-25T14:29:27.732750Z",
     "shell.execute_reply.started": "2024-01-25T14:21:41.596815Z"
    },
    "papermill": {
     "duration": 0.118043,
     "end_time": "2024-01-25T14:29:27.733645",
     "exception": false,
     "start_time": "2024-01-25T14:29:27.615602",
     "status": "completed"
    },
    "tags": []
   },
   "outputs": [
    {
     "name": "stdout",
     "output_type": "stream",
     "text": [
      "<class 'pandas.core.frame.DataFrame'>\n",
      "RangeIndex: 40 entries, 0 to 39\n",
      "Data columns (total 3 columns):\n",
      " #   Column               Non-Null Count  Dtype  \n",
      "---  ------               --------------  -----  \n",
      " 0   Produktivitas Jeruk  40 non-null     float64\n",
      " 1   Sun Day              40 non-null     int64  \n",
      " 2   Sun Hour             40 non-null     float64\n",
      "dtypes: float64(2), int64(1)\n",
      "memory usage: 1.1 KB\n"
     ]
    }
   ],
   "source": [
    "# Check the info before spliting\n",
    "\n",
    "bike_new_new.info()"
   ]
  },
  {
   "cell_type": "code",
   "execution_count": 28,
   "metadata": {
    "execution": {
     "iopub.execute_input": "2024-01-25T14:29:27.949549Z",
     "iopub.status.busy": "2024-01-25T14:29:27.948663Z",
     "iopub.status.idle": "2024-01-25T14:29:28.072560Z",
     "shell.execute_reply": "2024-01-25T14:29:28.071661Z",
     "shell.execute_reply.started": "2024-01-25T14:21:41.612366Z"
    },
    "papermill": {
     "duration": 0.234694,
     "end_time": "2024-01-25T14:29:28.072714",
     "exception": false,
     "start_time": "2024-01-25T14:29:27.838020",
     "status": "completed"
    },
    "tags": []
   },
   "outputs": [],
   "source": [
    "from sklearn.model_selection import train_test_split\n",
    "\n",
    "# We should specify 'random_state' so that the train and test data set always have the same rows, respectively\n",
    "\n",
    "np.random.seed(0)\n",
    "df_train, df_test = train_test_split(bike_new_new, train_size = 0.70, test_size = 0.30, random_state = 333)"
   ]
  },
  {
   "cell_type": "markdown",
   "metadata": {
    "papermill": {
     "duration": 0.109609,
     "end_time": "2024-01-25T14:29:28.289497",
     "exception": false,
     "start_time": "2024-01-25T14:29:28.179888",
     "status": "completed"
    },
    "tags": []
   },
   "source": [
    "\n",
    "- Verify the info and shape of the dataframes after split:"
   ]
  },
  {
   "cell_type": "code",
   "execution_count": 29,
   "metadata": {
    "execution": {
     "iopub.execute_input": "2024-01-25T14:29:28.516029Z",
     "iopub.status.busy": "2024-01-25T14:29:28.515034Z",
     "iopub.status.idle": "2024-01-25T14:29:28.519905Z",
     "shell.execute_reply": "2024-01-25T14:29:28.519112Z",
     "shell.execute_reply.started": "2024-01-25T14:21:41.626984Z"
    },
    "papermill": {
     "duration": 0.12108,
     "end_time": "2024-01-25T14:29:28.520044",
     "exception": false,
     "start_time": "2024-01-25T14:29:28.398964",
     "status": "completed"
    },
    "tags": []
   },
   "outputs": [
    {
     "name": "stdout",
     "output_type": "stream",
     "text": [
      "<class 'pandas.core.frame.DataFrame'>\n",
      "Int64Index: 28 entries, 1 to 12\n",
      "Data columns (total 3 columns):\n",
      " #   Column               Non-Null Count  Dtype  \n",
      "---  ------               --------------  -----  \n",
      " 0   Produktivitas Jeruk  28 non-null     float64\n",
      " 1   Sun Day              28 non-null     int64  \n",
      " 2   Sun Hour             28 non-null     float64\n",
      "dtypes: float64(2), int64(1)\n",
      "memory usage: 896.0 bytes\n"
     ]
    }
   ],
   "source": [
    "df_train.info()"
   ]
  },
  {
   "cell_type": "code",
   "execution_count": 30,
   "metadata": {
    "execution": {
     "iopub.execute_input": "2024-01-25T14:29:28.739327Z",
     "iopub.status.busy": "2024-01-25T14:29:28.738234Z",
     "iopub.status.idle": "2024-01-25T14:29:28.743670Z",
     "shell.execute_reply": "2024-01-25T14:29:28.742915Z",
     "shell.execute_reply.started": "2024-01-25T14:21:41.643463Z"
    },
    "papermill": {
     "duration": 0.118066,
     "end_time": "2024-01-25T14:29:28.743801",
     "exception": false,
     "start_time": "2024-01-25T14:29:28.625735",
     "status": "completed"
    },
    "tags": []
   },
   "outputs": [
    {
     "data": {
      "text/plain": [
       "(28, 3)"
      ]
     },
     "execution_count": 30,
     "metadata": {},
     "output_type": "execute_result"
    }
   ],
   "source": [
    "df_train.shape"
   ]
  },
  {
   "cell_type": "code",
   "execution_count": 31,
   "metadata": {
    "execution": {
     "iopub.execute_input": "2024-01-25T14:29:28.969406Z",
     "iopub.status.busy": "2024-01-25T14:29:28.968420Z",
     "iopub.status.idle": "2024-01-25T14:29:28.972067Z",
     "shell.execute_reply": "2024-01-25T14:29:28.972674Z",
     "shell.execute_reply.started": "2024-01-25T14:21:41.657083Z"
    },
    "papermill": {
     "duration": 0.122073,
     "end_time": "2024-01-25T14:29:28.972839",
     "exception": false,
     "start_time": "2024-01-25T14:29:28.850766",
     "status": "completed"
    },
    "tags": []
   },
   "outputs": [
    {
     "name": "stdout",
     "output_type": "stream",
     "text": [
      "<class 'pandas.core.frame.DataFrame'>\n",
      "Int64Index: 12 entries, 31 to 0\n",
      "Data columns (total 3 columns):\n",
      " #   Column               Non-Null Count  Dtype  \n",
      "---  ------               --------------  -----  \n",
      " 0   Produktivitas Jeruk  12 non-null     float64\n",
      " 1   Sun Day              12 non-null     int64  \n",
      " 2   Sun Hour             12 non-null     float64\n",
      "dtypes: float64(2), int64(1)\n",
      "memory usage: 384.0 bytes\n"
     ]
    }
   ],
   "source": [
    "df_test.info()"
   ]
  },
  {
   "cell_type": "code",
   "execution_count": 32,
   "metadata": {
    "execution": {
     "iopub.execute_input": "2024-01-25T14:29:29.196868Z",
     "iopub.status.busy": "2024-01-25T14:29:29.195641Z",
     "iopub.status.idle": "2024-01-25T14:29:29.200376Z",
     "shell.execute_reply": "2024-01-25T14:29:29.201094Z",
     "shell.execute_reply.started": "2024-01-25T14:21:41.670476Z"
    },
    "papermill": {
     "duration": 0.118494,
     "end_time": "2024-01-25T14:29:29.201294",
     "exception": false,
     "start_time": "2024-01-25T14:29:29.082800",
     "status": "completed"
    },
    "tags": []
   },
   "outputs": [
    {
     "data": {
      "text/plain": [
       "(12, 3)"
      ]
     },
     "execution_count": 32,
     "metadata": {},
     "output_type": "execute_result"
    }
   ],
   "source": [
    "df_test.shape"
   ]
  },
  {
   "cell_type": "markdown",
   "metadata": {
    "papermill": {
     "duration": 0.122604,
     "end_time": "2024-01-25T14:29:29.437716",
     "exception": false,
     "start_time": "2024-01-25T14:29:29.315112",
     "status": "completed"
    },
    "tags": []
   },
   "source": [
    "# EXPLORATORY DATA ANALYSIS"
   ]
  },
  {
   "cell_type": "markdown",
   "metadata": {
    "papermill": {
     "duration": 0.107527,
     "end_time": "2024-01-25T14:29:29.664631",
     "exception": false,
     "start_time": "2024-01-25T14:29:29.557104",
     "status": "completed"
    },
    "tags": []
   },
   "source": [
    "\n",
    "- We need to  perform the EDA on TRAINING (df_train) Dataset."
   ]
  },
  {
   "cell_type": "markdown",
   "metadata": {
    "papermill": {
     "duration": 0.107693,
     "end_time": "2024-01-25T14:29:29.882612",
     "exception": false,
     "start_time": "2024-01-25T14:29:29.774919",
     "status": "completed"
    },
    "tags": []
   },
   "source": [
    "## Visualising Numeric Variables\n",
    "Let's make a pairplot of all the numeric variables."
   ]
  },
  {
   "cell_type": "code",
   "execution_count": 33,
   "metadata": {
    "execution": {
     "iopub.execute_input": "2024-01-25T14:29:30.112333Z",
     "iopub.status.busy": "2024-01-25T14:29:30.111504Z",
     "iopub.status.idle": "2024-01-25T14:29:30.115352Z",
     "shell.execute_reply": "2024-01-25T14:29:30.114728Z",
     "shell.execute_reply.started": "2024-01-25T14:21:41.684444Z"
    },
    "papermill": {
     "duration": 0.123362,
     "end_time": "2024-01-25T14:29:30.115498",
     "exception": false,
     "start_time": "2024-01-25T14:29:29.992136",
     "status": "completed"
    },
    "tags": []
   },
   "outputs": [
    {
     "name": "stdout",
     "output_type": "stream",
     "text": [
      "<class 'pandas.core.frame.DataFrame'>\n",
      "Int64Index: 28 entries, 1 to 12\n",
      "Data columns (total 3 columns):\n",
      " #   Column               Non-Null Count  Dtype  \n",
      "---  ------               --------------  -----  \n",
      " 0   Produktivitas Jeruk  28 non-null     float64\n",
      " 1   Sun Day              28 non-null     int64  \n",
      " 2   Sun Hour             28 non-null     float64\n",
      "dtypes: float64(2), int64(1)\n",
      "memory usage: 896.0 bytes\n"
     ]
    }
   ],
   "source": [
    "df_train.info()"
   ]
  },
  {
   "cell_type": "code",
   "execution_count": 34,
   "metadata": {
    "execution": {
     "iopub.execute_input": "2024-01-25T14:29:30.345187Z",
     "iopub.status.busy": "2024-01-25T14:29:30.344311Z",
     "iopub.status.idle": "2024-01-25T14:29:30.348905Z",
     "shell.execute_reply": "2024-01-25T14:29:30.348114Z",
     "shell.execute_reply.started": "2024-01-25T14:21:41.702077Z"
    },
    "papermill": {
     "duration": 0.124552,
     "end_time": "2024-01-25T14:29:30.349057",
     "exception": false,
     "start_time": "2024-01-25T14:29:30.224505",
     "status": "completed"
    },
    "tags": []
   },
   "outputs": [
    {
     "data": {
      "text/plain": [
       "Index(['Produktivitas Jeruk', 'Sun Day', 'Sun Hour'], dtype='object')"
      ]
     },
     "execution_count": 34,
     "metadata": {},
     "output_type": "execute_result"
    }
   ],
   "source": [
    "df_train.columns"
   ]
  },
  {
   "cell_type": "code",
   "execution_count": 35,
   "metadata": {
    "execution": {
     "iopub.execute_input": "2024-01-25T14:29:30.580555Z",
     "iopub.status.busy": "2024-01-25T14:29:30.579784Z",
     "iopub.status.idle": "2024-01-25T14:29:33.330234Z",
     "shell.execute_reply": "2024-01-25T14:29:33.329455Z",
     "shell.execute_reply.started": "2024-01-25T14:21:41.711968Z"
    },
    "papermill": {
     "duration": 2.870498,
     "end_time": "2024-01-25T14:29:33.330388",
     "exception": false,
     "start_time": "2024-01-25T14:29:30.459890",
     "status": "completed"
    },
    "tags": []
   },
   "outputs": [
    {
     "data": {
      "image/png": "[encoded data removed]",
      "text/plain": [
       "<Figure size 540x540 with 12 Axes>"
      ]
     },
     "metadata": {
      "needs_background": "light"
     },
     "output_type": "display_data"
    }
   ],
   "source": [
    "# Create a new dataframe of only numeric variables:\n",
    "\n",
    "bike_num=df_train[['Produktivitas Jeruk', 'Sun Day',\n",
    "       'Sun Hour']]\n",
    "\n",
    "sns.pairplot(bike_num, diag_kind='kde')\n",
    "plt.show()"
   ]
  },
  {
   "cell_type": "markdown",
   "metadata": {
    "papermill": {
     "duration": 0.111171,
     "end_time": "2024-01-25T14:29:33.555797",
     "exception": false,
     "start_time": "2024-01-25T14:29:33.444626",
     "status": "completed"
    },
    "tags": []
   },
   "source": [
    "### Insights\n",
    "- The above Pair-Plot tells us that there is a LINEAR RELATION between 'temp','atemp' and 'cnt' "
   ]
  },
  {
   "cell_type": "markdown",
   "metadata": {
    "papermill": {
     "duration": 0.112154,
     "end_time": "2024-01-25T14:29:33.782137",
     "exception": false,
     "start_time": "2024-01-25T14:29:33.669983",
     "status": "completed"
    },
    "tags": []
   },
   "source": [
    "## Visualising Catagorical Variables"
   ]
  },
  {
   "cell_type": "code",
   "execution_count": 36,
   "metadata": {
    "execution": {
     "iopub.execute_input": "2024-01-25T14:29:34.017883Z",
     "iopub.status.busy": "2024-01-25T14:29:34.017049Z",
     "iopub.status.idle": "2024-01-25T14:29:34.021510Z",
     "shell.execute_reply": "2024-01-25T14:29:34.020530Z",
     "shell.execute_reply.started": "2024-01-25T14:21:44.213538Z"
    },
    "papermill": {
     "duration": 0.127909,
     "end_time": "2024-01-25T14:29:34.021703",
     "exception": false,
     "start_time": "2024-01-25T14:29:33.893794",
     "status": "completed"
    },
    "tags": []
   },
   "outputs": [
    {
     "name": "stdout",
     "output_type": "stream",
     "text": [
      "<class 'pandas.core.frame.DataFrame'>\n",
      "Int64Index: 28 entries, 1 to 12\n",
      "Data columns (total 3 columns):\n",
      " #   Column               Non-Null Count  Dtype  \n",
      "---  ------               --------------  -----  \n",
      " 0   Produktivitas Jeruk  28 non-null     float64\n",
      " 1   Sun Day              28 non-null     int64  \n",
      " 2   Sun Hour             28 non-null     float64\n",
      "dtypes: float64(2), int64(1)\n",
      "memory usage: 2.1 KB\n"
     ]
    }
   ],
   "source": [
    "df_train.info()"
   ]
  },
  {
   "cell_type": "code",
   "execution_count": 37,
   "metadata": {
    "execution": {
     "iopub.execute_input": "2024-01-25T14:29:34.265230Z",
     "iopub.status.busy": "2024-01-25T14:29:34.264379Z",
     "iopub.status.idle": "2024-01-25T14:29:34.753467Z",
     "shell.execute_reply": "2024-01-25T14:29:34.752122Z",
     "shell.execute_reply.started": "2024-01-25T14:21:44.224918Z"
    },
    "papermill": {
     "duration": 0.617964,
     "end_time": "2024-01-25T14:29:34.753637",
     "exception": false,
     "start_time": "2024-01-25T14:29:34.135673",
     "status": "completed"
    },
    "tags": []
   },
   "outputs": [
    {
     "data": {
      "image/png": "[encoded data removed]",
      "text/plain": [
       "<Figure size 1800x720 with 2 Axes>"
      ]
     },
     "metadata": {
      "needs_background": "light"
     },
     "output_type": "display_data"
    }
   ],
   "source": [
    "# Build boxplot of all categorical variables (before creating dummies) againt the target variable 'cnt' \n",
    "# to see how each of the predictor variable stackup against the target variable.\n",
    "\n",
    "plt.figure(figsize=(25, 10))\n",
    "plt.subplot(2,3,1)\n",
    "sns.boxplot(x = 'Year', y = 'Produktivitas Jeruk', data = bike)\n",
    "plt.subplot(2,3,2)\n",
    "sns.boxplot(x = 'Periode', y = 'Produktivitas Jeruk', data = bike)\n",
    "plt.show()"
   ]
  },
  {
   "cell_type": "markdown",
   "metadata": {
    "papermill": {
     "duration": 0.111805,
     "end_time": "2024-01-25T14:29:34.977133",
     "exception": false,
     "start_time": "2024-01-25T14:29:34.865328",
     "status": "completed"
    },
    "tags": []
   },
   "source": [
    "### Insights\n",
    "There were 6 categorical variables in the dataset. \n",
    "\n",
    "We used Box plot (refer the fig above) to study their effect on the dependent variable (‘cnt’) . \n",
    "\n",
    "The inference that We could derive were: \n",
    "- **season**: Almost 32% of the bike booking were happening in season3 with a median of over 5000 booking (for the period of 2 years). This was followed by season2 & season4 with 27% & 25% of total booking. This indicates, season can be a good predictor for the dependent variable.\n",
    "\n",
    "- **mnth**: Almost 10% of the bike booking were happening in the months 5,6,7,8 & 9 with a median of over 4000 booking per month. This indicates, mnth has some trend for bookings and can be a good predictor for the dependent variable. \n",
    "- **weathersit**: Almost 67% of the bike booking were happening during ‘weathersit1 with a median of close to 5000 booking (for the period of 2 years). This was followed by weathersit2 with 30% of total booking. This indicates, weathersit does show some trend towards the bike bookings can be a good predictor for the dependent variable.\n",
    "- **holiday**: Almost 97.6% of the bike booking were happening when it is not a holiday which means this data is clearly biased. This indicates, holiday CANNOT be a good predictor for the dependent variable. \n",
    "- **weekday**: weekday variable shows very close trend (between 13.5%-14.8% of total booking on all days of the week) having their independent medians between 4000 to 5000 bookings. This variable can have some or no influence towards the predictor. I will let the model decide if this needs to be added or not.\n",
    "- **workingday**: Almost 69% of the bike booking were happening in ‘workingday’ with a median of close to 5000 booking (for the period of 2 years). This indicates, workingday can be a good predictor for the dependent variable"
   ]
  },
  {
   "cell_type": "markdown",
   "metadata": {
    "papermill": {
     "duration": 0.112049,
     "end_time": "2024-01-25T14:29:35.202285",
     "exception": false,
     "start_time": "2024-01-25T14:29:35.090236",
     "status": "completed"
    },
    "tags": []
   },
   "source": [
    "## Correlation Matrix"
   ]
  },
  {
   "cell_type": "code",
   "execution_count": 38,
   "metadata": {
    "execution": {
     "iopub.execute_input": "2024-01-25T14:29:35.450919Z",
     "iopub.status.busy": "2024-01-25T14:29:35.449744Z",
     "iopub.status.idle": "2024-01-25T14:29:35.768645Z",
     "shell.execute_reply": "2024-01-25T14:29:35.767886Z",
     "shell.execute_reply.started": "2024-01-25T14:21:44.714382Z"
    },
    "papermill": {
     "duration": 0.454799,
     "end_time": "2024-01-25T14:29:35.768784",
     "exception": false,
     "start_time": "2024-01-25T14:29:35.313985",
     "status": "completed"
    },
    "tags": []
   },
   "outputs": [
    {
     "data": {
      "image/png": "[encoded data removed]",
      "text/plain": [
       "<Figure size 1800x1440 with 2 Axes>"
      ]
     },
     "metadata": {
      "needs_background": "light"
     },
     "output_type": "display_data"
    }
   ],
   "source": [
    "# Let's check the correlation coefficients to see which variables are highly correlated. Note:\n",
    "# here we are considering only those variables (dataframe: bike_new) that were chosen for analysis\n",
    "\n",
    "plt.figure(figsize = (25,20))\n",
    "sns.heatmap(bike_new_new.corr(), annot = True, cmap=\"RdBu\")\n",
    "plt.show()"
   ]
  },
  {
   "cell_type": "markdown",
   "metadata": {
    "papermill": {
     "duration": 0.112052,
     "end_time": "2024-01-25T14:29:35.993544",
     "exception": false,
     "start_time": "2024-01-25T14:29:35.881492",
     "status": "completed"
    },
    "tags": []
   },
   "source": [
    "### Insights:\n",
    " - The heatmap clearly shows which all variable are multicollinear in nature, and which variable have high collinearity with the target variable.\n",
    " - We will refer this map back-and-forth while building the linear model so as to validate different correlated values along with VIF & p-value, for identifying the correct variable to select/eliminate from the model."
   ]
  },
  {
   "cell_type": "markdown",
   "metadata": {
    "papermill": {
     "duration": 0.113557,
     "end_time": "2024-01-25T14:29:36.223160",
     "exception": false,
     "start_time": "2024-01-25T14:29:36.109603",
     "status": "completed"
    },
    "tags": []
   },
   "source": [
    "# RESCALING THE FEATURES"
   ]
  },
  {
   "cell_type": "code",
   "execution_count": 39,
   "metadata": {
    "execution": {
     "iopub.execute_input": "2024-01-25T14:29:36.458133Z",
     "iopub.status.busy": "2024-01-25T14:29:36.457216Z",
     "iopub.status.idle": "2024-01-25T14:29:36.462104Z",
     "shell.execute_reply": "2024-01-25T14:29:36.461354Z",
     "shell.execute_reply.started": "2024-01-25T14:21:45.030945Z"
    },
    "papermill": {
     "duration": 0.124716,
     "end_time": "2024-01-25T14:29:36.462245",
     "exception": false,
     "start_time": "2024-01-25T14:29:36.337529",
     "status": "completed"
    },
    "tags": []
   },
   "outputs": [],
   "source": [
    "from sklearn.preprocessing import MinMaxScaler"
   ]
  },
  {
   "cell_type": "code",
   "execution_count": 40,
   "metadata": {
    "execution": {
     "iopub.execute_input": "2024-01-25T14:29:36.696051Z",
     "iopub.status.busy": "2024-01-25T14:29:36.694912Z",
     "iopub.status.idle": "2024-01-25T14:29:36.699211Z",
     "shell.execute_reply": "2024-01-25T14:29:36.698551Z",
     "shell.execute_reply.started": "2024-01-25T14:21:45.037601Z"
    },
    "papermill": {
     "duration": 0.125019,
     "end_time": "2024-01-25T14:29:36.699380",
     "exception": false,
     "start_time": "2024-01-25T14:29:36.574361",
     "status": "completed"
    },
    "tags": []
   },
   "outputs": [],
   "source": [
    "scaler = MinMaxScaler()"
   ]
  },
  {
   "cell_type": "code",
   "execution_count": 41,
   "metadata": {
    "execution": {
     "iopub.execute_input": "2024-01-25T14:29:36.940947Z",
     "iopub.status.busy": "2024-01-25T14:29:36.939906Z",
     "iopub.status.idle": "2024-01-25T14:29:36.945022Z",
     "shell.execute_reply": "2024-01-25T14:29:36.944381Z",
     "shell.execute_reply.started": "2024-01-25T14:21:45.057785Z"
    },
    "papermill": {
     "duration": 0.131857,
     "end_time": "2024-01-25T14:29:36.945174",
     "exception": false,
     "start_time": "2024-01-25T14:29:36.813317",
     "status": "completed"
    },
    "scrolled": true,
    "tags": []
   },
   "outputs": [
    {
     "data": {
      "text/html": [
       "<div>\n",
       "<style scoped>\n",
       "    .dataframe tbody tr th:only-of-type {\n",
       "        vertical-align: middle;\n",
       "    }\n",
       "\n",
       "    .dataframe tbody tr th {\n",
       "        vertical-align: top;\n",
       "    }\n",
       "\n",
       "    .dataframe thead th {\n",
       "        text-align: right;\n",
       "    }\n",
       "</style>\n",
       "<table border=\"1\" class=\"dataframe\">\n",
       "  <thead>\n",
       "    <tr style=\"text-align: right;\">\n",
       "      <th></th>\n",
       "      <th>Produktivitas Jeruk</th>\n",
       "      <th>Sun Day</th>\n",
       "      <th>Sun Hour</th>\n",
       "    </tr>\n",
       "  </thead>\n",
       "  <tbody>\n",
       "    <tr>\n",
       "      <th>1</th>\n",
       "      <td>0.10</td>\n",
       "      <td>49</td>\n",
       "      <td>237.7</td>\n",
       "    </tr>\n",
       "    <tr>\n",
       "      <th>14</th>\n",
       "      <td>0.16</td>\n",
       "      <td>83</td>\n",
       "      <td>306.3</td>\n",
       "    </tr>\n",
       "    <tr>\n",
       "      <th>36</th>\n",
       "      <td>0.00</td>\n",
       "      <td>6</td>\n",
       "      <td>30.0</td>\n",
       "    </tr>\n",
       "    <tr>\n",
       "      <th>11</th>\n",
       "      <td>0.26</td>\n",
       "      <td>25</td>\n",
       "      <td>187.0</td>\n",
       "    </tr>\n",
       "    <tr>\n",
       "      <th>18</th>\n",
       "      <td>0.25</td>\n",
       "      <td>45</td>\n",
       "      <td>225.7</td>\n",
       "    </tr>\n",
       "  </tbody>\n",
       "</table>\n",
       "</div>"
      ],
      "text/plain": [
       "    Produktivitas Jeruk  Sun Day  Sun Hour\n",
       "1                  0.10       49     237.7\n",
       "14                 0.16       83     306.3\n",
       "36                 0.00        6      30.0\n",
       "11                 0.26       25     187.0\n",
       "18                 0.25       45     225.7"
      ]
     },
     "execution_count": 41,
     "metadata": {},
     "output_type": "execute_result"
    }
   ],
   "source": [
    "# Checking the values before scaling\n",
    "df_train.head()"
   ]
  },
  {
   "cell_type": "code",
   "execution_count": 42,
   "metadata": {
    "execution": {
     "iopub.execute_input": "2024-01-25T14:29:37.181284Z",
     "iopub.status.busy": "2024-01-25T14:29:37.179909Z",
     "iopub.status.idle": "2024-01-25T14:29:37.184632Z",
     "shell.execute_reply": "2024-01-25T14:29:37.185287Z",
     "shell.execute_reply.started": "2024-01-25T14:21:45.074276Z"
    },
    "papermill": {
     "duration": 0.126926,
     "end_time": "2024-01-25T14:29:37.185494",
     "exception": false,
     "start_time": "2024-01-25T14:29:37.058568",
     "status": "completed"
    },
    "tags": []
   },
   "outputs": [
    {
     "data": {
      "text/plain": [
       "Index(['Produktivitas Jeruk', 'Sun Day', 'Sun Hour'], dtype='object')"
      ]
     },
     "execution_count": 42,
     "metadata": {},
     "output_type": "execute_result"
    }
   ],
   "source": [
    "df_train.columns"
   ]
  },
  {
   "cell_type": "code",
   "execution_count": 43,
   "metadata": {
    "execution": {
     "iopub.execute_input": "2024-01-25T14:29:37.433406Z",
     "iopub.status.busy": "2024-01-25T14:29:37.432297Z",
     "iopub.status.idle": "2024-01-25T14:29:37.436474Z",
     "shell.execute_reply": "2024-01-25T14:29:37.435805Z",
     "shell.execute_reply.started": "2024-01-25T14:21:45.085108Z"
    },
    "papermill": {
     "duration": 0.137183,
     "end_time": "2024-01-25T14:29:37.436623",
     "exception": false,
     "start_time": "2024-01-25T14:29:37.299440",
     "status": "completed"
    },
    "tags": []
   },
   "outputs": [],
   "source": [
    "# Apply scaler() to all the numeric variables\n",
    "\n",
    "num_vars = ['Produktivitas Jeruk', 'Sun Day',\n",
    "       'Sun Hour']\n",
    "\n",
    "df_train[num_vars] = scaler.fit_transform(df_train[num_vars])"
   ]
  },
  {
   "cell_type": "code",
   "execution_count": 44,
   "metadata": {
    "execution": {
     "iopub.execute_input": "2024-01-25T14:29:37.683530Z",
     "iopub.status.busy": "2024-01-25T14:29:37.682463Z",
     "iopub.status.idle": "2024-01-25T14:29:37.687376Z",
     "shell.execute_reply": "2024-01-25T14:29:37.686586Z",
     "shell.execute_reply.started": "2024-01-25T14:21:45.105885Z"
    },
    "papermill": {
     "duration": 0.134144,
     "end_time": "2024-01-25T14:29:37.687516",
     "exception": false,
     "start_time": "2024-01-25T14:29:37.553372",
     "status": "completed"
    },
    "tags": []
   },
   "outputs": [
    {
     "data": {
      "text/html": [
       "<div>\n",
       "<style scoped>\n",
       "    .dataframe tbody tr th:only-of-type {\n",
       "        vertical-align: middle;\n",
       "    }\n",
       "\n",
       "    .dataframe tbody tr th {\n",
       "        vertical-align: top;\n",
       "    }\n",
       "\n",
       "    .dataframe thead th {\n",
       "        text-align: right;\n",
       "    }\n",
       "</style>\n",
       "<table border=\"1\" class=\"dataframe\">\n",
       "  <thead>\n",
       "    <tr style=\"text-align: right;\">\n",
       "      <th></th>\n",
       "      <th>Produktivitas Jeruk</th>\n",
       "      <th>Sun Day</th>\n",
       "      <th>Sun Hour</th>\n",
       "    </tr>\n",
       "  </thead>\n",
       "  <tbody>\n",
       "    <tr>\n",
       "      <th>1</th>\n",
       "      <td>0.117647</td>\n",
       "      <td>0.558442</td>\n",
       "      <td>0.716207</td>\n",
       "    </tr>\n",
       "    <tr>\n",
       "      <th>14</th>\n",
       "      <td>0.188235</td>\n",
       "      <td>1.000000</td>\n",
       "      <td>0.952759</td>\n",
       "    </tr>\n",
       "    <tr>\n",
       "      <th>36</th>\n",
       "      <td>0.000000</td>\n",
       "      <td>0.000000</td>\n",
       "      <td>0.000000</td>\n",
       "    </tr>\n",
       "    <tr>\n",
       "      <th>11</th>\n",
       "      <td>0.305882</td>\n",
       "      <td>0.246753</td>\n",
       "      <td>0.541379</td>\n",
       "    </tr>\n",
       "    <tr>\n",
       "      <th>18</th>\n",
       "      <td>0.294118</td>\n",
       "      <td>0.506494</td>\n",
       "      <td>0.674828</td>\n",
       "    </tr>\n",
       "  </tbody>\n",
       "</table>\n",
       "</div>"
      ],
      "text/plain": [
       "    Produktivitas Jeruk   Sun Day  Sun Hour\n",
       "1              0.117647  0.558442  0.716207\n",
       "14             0.188235  1.000000  0.952759\n",
       "36             0.000000  0.000000  0.000000\n",
       "11             0.305882  0.246753  0.541379\n",
       "18             0.294118  0.506494  0.674828"
      ]
     },
     "execution_count": 44,
     "metadata": {},
     "output_type": "execute_result"
    }
   ],
   "source": [
    "# Checking values after scaling\n",
    "df_train.head()"
   ]
  },
  {
   "cell_type": "code",
   "execution_count": 45,
   "metadata": {
    "execution": {
     "iopub.execute_input": "2024-01-25T14:29:37.927328Z",
     "iopub.status.busy": "2024-01-25T14:29:37.926198Z",
     "iopub.status.idle": "2024-01-25T14:29:37.949105Z",
     "shell.execute_reply": "2024-01-25T14:29:37.948470Z",
     "shell.execute_reply.started": "2024-01-25T14:21:45.125427Z"
    },
    "papermill": {
     "duration": 0.145568,
     "end_time": "2024-01-25T14:29:37.949272",
     "exception": false,
     "start_time": "2024-01-25T14:29:37.803704",
     "status": "completed"
    },
    "tags": []
   },
   "outputs": [
    {
     "data": {
      "text/html": [
       "<div>\n",
       "<style scoped>\n",
       "    .dataframe tbody tr th:only-of-type {\n",
       "        vertical-align: middle;\n",
       "    }\n",
       "\n",
       "    .dataframe tbody tr th {\n",
       "        vertical-align: top;\n",
       "    }\n",
       "\n",
       "    .dataframe thead th {\n",
       "        text-align: right;\n",
       "    }\n",
       "</style>\n",
       "<table border=\"1\" class=\"dataframe\">\n",
       "  <thead>\n",
       "    <tr style=\"text-align: right;\">\n",
       "      <th></th>\n",
       "      <th>Produktivitas Jeruk</th>\n",
       "      <th>Sun Day</th>\n",
       "      <th>Sun Hour</th>\n",
       "    </tr>\n",
       "  </thead>\n",
       "  <tbody>\n",
       "    <tr>\n",
       "      <th>count</th>\n",
       "      <td>28.000000</td>\n",
       "      <td>28.000000</td>\n",
       "      <td>28.000000</td>\n",
       "    </tr>\n",
       "    <tr>\n",
       "      <th>mean</th>\n",
       "      <td>0.233613</td>\n",
       "      <td>0.432746</td>\n",
       "      <td>0.522167</td>\n",
       "    </tr>\n",
       "    <tr>\n",
       "      <th>std</th>\n",
       "      <td>0.232085</td>\n",
       "      <td>0.310042</td>\n",
       "      <td>0.258896</td>\n",
       "    </tr>\n",
       "    <tr>\n",
       "      <th>min</th>\n",
       "      <td>0.000000</td>\n",
       "      <td>0.000000</td>\n",
       "      <td>0.000000</td>\n",
       "    </tr>\n",
       "    <tr>\n",
       "      <th>25%</th>\n",
       "      <td>0.117647</td>\n",
       "      <td>0.201299</td>\n",
       "      <td>0.354655</td>\n",
       "    </tr>\n",
       "    <tr>\n",
       "      <th>50%</th>\n",
       "      <td>0.182353</td>\n",
       "      <td>0.376623</td>\n",
       "      <td>0.509138</td>\n",
       "    </tr>\n",
       "    <tr>\n",
       "      <th>75%</th>\n",
       "      <td>0.294118</td>\n",
       "      <td>0.613636</td>\n",
       "      <td>0.706207</td>\n",
       "    </tr>\n",
       "    <tr>\n",
       "      <th>max</th>\n",
       "      <td>1.000000</td>\n",
       "      <td>1.000000</td>\n",
       "      <td>1.000000</td>\n",
       "    </tr>\n",
       "  </tbody>\n",
       "</table>\n",
       "</div>"
      ],
      "text/plain": [
       "       Produktivitas Jeruk    Sun Day   Sun Hour\n",
       "count            28.000000  28.000000  28.000000\n",
       "mean              0.233613   0.432746   0.522167\n",
       "std               0.232085   0.310042   0.258896\n",
       "min               0.000000   0.000000   0.000000\n",
       "25%               0.117647   0.201299   0.354655\n",
       "50%               0.182353   0.376623   0.509138\n",
       "75%               0.294118   0.613636   0.706207\n",
       "max               1.000000   1.000000   1.000000"
      ]
     },
     "execution_count": 45,
     "metadata": {},
     "output_type": "execute_result"
    }
   ],
   "source": [
    "df_train.describe()"
   ]
  },
  {
   "cell_type": "markdown",
   "metadata": {
    "papermill": {
     "duration": 0.117319,
     "end_time": "2024-01-25T14:29:38.182598",
     "exception": false,
     "start_time": "2024-01-25T14:29:38.065279",
     "status": "completed"
    },
    "tags": []
   },
   "source": [
    "# BUILDING A LINEAR MODEL"
   ]
  },
  {
   "cell_type": "markdown",
   "metadata": {
    "papermill": {
     "duration": 0.118051,
     "end_time": "2024-01-25T14:29:38.417994",
     "exception": false,
     "start_time": "2024-01-25T14:29:38.299943",
     "status": "completed"
    },
    "tags": []
   },
   "source": [
    "## Dividing into X and Y sets for the model building"
   ]
  },
  {
   "cell_type": "code",
   "execution_count": 46,
   "metadata": {
    "execution": {
     "iopub.execute_input": "2024-01-25T14:29:38.661499Z",
     "iopub.status.busy": "2024-01-25T14:29:38.660656Z",
     "iopub.status.idle": "2024-01-25T14:29:38.662319Z",
     "shell.execute_reply": "2024-01-25T14:29:38.663034Z",
     "shell.execute_reply.started": "2024-01-25T14:21:45.153353Z"
    },
    "papermill": {
     "duration": 0.126954,
     "end_time": "2024-01-25T14:29:38.663226",
     "exception": false,
     "start_time": "2024-01-25T14:29:38.536272",
     "status": "completed"
    },
    "tags": []
   },
   "outputs": [],
   "source": [
    "y_train = df_train.pop('Produktivitas Jeruk')\n",
    "X_train = df_train"
   ]
  },
  {
   "cell_type": "markdown",
   "metadata": {
    "papermill": {
     "duration": 0.114955,
     "end_time": "2024-01-25T14:29:38.896329",
     "exception": false,
     "start_time": "2024-01-25T14:29:38.781374",
     "status": "completed"
    },
    "tags": []
   },
   "source": [
    "### RFE\n",
    "Recursive feature elimination: We will be using the **LinearRegression function from SciKit Learn**  for its compatibility with RFE (which is a utility from sklearn)"
   ]
  },
  {
   "cell_type": "code",
   "execution_count": 47,
   "metadata": {
    "execution": {
     "iopub.execute_input": "2024-01-25T14:29:39.130377Z",
     "iopub.status.busy": "2024-01-25T14:29:39.129604Z",
     "iopub.status.idle": "2024-01-25T14:29:39.297617Z",
     "shell.execute_reply": "2024-01-25T14:29:39.296915Z",
     "shell.execute_reply.started": "2024-01-25T14:21:45.160643Z"
    },
    "papermill": {
     "duration": 0.28665,
     "end_time": "2024-01-25T14:29:39.297767",
     "exception": false,
     "start_time": "2024-01-25T14:29:39.011117",
     "status": "completed"
    },
    "tags": []
   },
   "outputs": [],
   "source": [
    "# Importing RFE and LinearRegression\n",
    "from sklearn.feature_selection import RFE\n",
    "from sklearn.linear_model import LinearRegression"
   ]
  },
  {
   "cell_type": "code",
   "execution_count": 48,
   "metadata": {
    "execution": {
     "iopub.execute_input": "2024-01-25T14:29:39.576965Z",
     "iopub.status.busy": "2024-01-25T14:29:39.576093Z",
     "iopub.status.idle": "2024-01-25T14:29:39.601932Z",
     "shell.execute_reply": "2024-01-25T14:29:39.602520Z",
     "shell.execute_reply.started": "2024-01-25T14:21:45.171810Z"
    },
    "papermill": {
     "duration": 0.173343,
     "end_time": "2024-01-25T14:29:39.602730",
     "exception": false,
     "start_time": "2024-01-25T14:29:39.429387",
     "status": "completed"
    },
    "tags": []
   },
   "outputs": [],
   "source": [
    "# Running RFE with the output number of the variable equal to 15\n",
    "lm = LinearRegression()\n",
    "lm.fit(X_train, y_train)\n",
    "\n",
    "rfe = RFE(lm, 15)             # running RFE\n",
    "rfe = rfe.fit(X_train, y_train)"
   ]
  },
  {
   "cell_type": "code",
   "execution_count": 49,
   "metadata": {
    "execution": {
     "iopub.execute_input": "2024-01-25T14:29:39.839104Z",
     "iopub.status.busy": "2024-01-25T14:29:39.838022Z",
     "iopub.status.idle": "2024-01-25T14:29:39.845084Z",
     "shell.execute_reply": "2024-01-25T14:29:39.845648Z",
     "shell.execute_reply.started": "2024-01-25T14:21:45.191872Z"
    },
    "papermill": {
     "duration": 0.1275,
     "end_time": "2024-01-25T14:29:39.845821",
     "exception": false,
     "start_time": "2024-01-25T14:29:39.718321",
     "status": "completed"
    },
    "tags": []
   },
   "outputs": [
    {
     "data": {
      "text/plain": [
       "[('Sun Day', True, 1), ('Sun Hour', True, 1)]"
      ]
     },
     "execution_count": 49,
     "metadata": {},
     "output_type": "execute_result"
    }
   ],
   "source": [
    "list(zip(X_train.columns,rfe.support_,rfe.ranking_))"
   ]
  },
  {
   "cell_type": "code",
   "execution_count": 50,
   "metadata": {
    "execution": {
     "iopub.execute_input": "2024-01-25T14:29:40.080729Z",
     "iopub.status.busy": "2024-01-25T14:29:40.079664Z",
     "iopub.status.idle": "2024-01-25T14:29:40.086317Z",
     "shell.execute_reply": "2024-01-25T14:29:40.086865Z",
     "shell.execute_reply.started": "2024-01-25T14:21:45.206265Z"
    },
    "papermill": {
     "duration": 0.126105,
     "end_time": "2024-01-25T14:29:40.087026",
     "exception": false,
     "start_time": "2024-01-25T14:29:39.960921",
     "status": "completed"
    },
    "tags": []
   },
   "outputs": [
    {
     "data": {
      "text/plain": [
       "Index(['Sun Day', 'Sun Hour'], dtype='object')"
      ]
     },
     "execution_count": 50,
     "metadata": {},
     "output_type": "execute_result"
    }
   ],
   "source": [
    "col = X_train.columns[rfe.support_]\n",
    "col"
   ]
  },
  {
   "cell_type": "code",
   "execution_count": 51,
   "metadata": {
    "execution": {
     "iopub.execute_input": "2024-01-25T14:29:40.328269Z",
     "iopub.status.busy": "2024-01-25T14:29:40.327188Z",
     "iopub.status.idle": "2024-01-25T14:29:40.331678Z",
     "shell.execute_reply": "2024-01-25T14:29:40.332223Z",
     "shell.execute_reply.started": "2024-01-25T14:21:45.218147Z"
    },
    "papermill": {
     "duration": 0.127503,
     "end_time": "2024-01-25T14:29:40.332389",
     "exception": false,
     "start_time": "2024-01-25T14:29:40.204886",
     "status": "completed"
    },
    "tags": []
   },
   "outputs": [
    {
     "data": {
      "text/plain": [
       "Index([], dtype='object')"
      ]
     },
     "execution_count": 51,
     "metadata": {},
     "output_type": "execute_result"
    }
   ],
   "source": [
    "X_train.columns[~rfe.support_]"
   ]
  },
  {
   "cell_type": "code",
   "execution_count": 52,
   "metadata": {
    "execution": {
     "iopub.execute_input": "2024-01-25T14:29:40.570066Z",
     "iopub.status.busy": "2024-01-25T14:29:40.568971Z",
     "iopub.status.idle": "2024-01-25T14:29:40.574313Z",
     "shell.execute_reply": "2024-01-25T14:29:40.574874Z",
     "shell.execute_reply.started": "2024-01-25T14:21:45.232934Z"
    },
    "papermill": {
     "duration": 0.125578,
     "end_time": "2024-01-25T14:29:40.575044",
     "exception": false,
     "start_time": "2024-01-25T14:29:40.449466",
     "status": "completed"
    },
    "tags": []
   },
   "outputs": [],
   "source": [
    "# Creating X_test dataframe with RFE selected variables\n",
    "X_train_rfe = X_train[col]"
   ]
  },
  {
   "cell_type": "code",
   "execution_count": 53,
   "metadata": {
    "execution": {
     "iopub.execute_input": "2024-01-25T14:29:40.813094Z",
     "iopub.status.busy": "2024-01-25T14:29:40.811986Z",
     "iopub.status.idle": "2024-01-25T14:29:40.816700Z",
     "shell.execute_reply": "2024-01-25T14:29:40.817332Z",
     "shell.execute_reply.started": "2024-01-25T14:21:45.244639Z"
    },
    "papermill": {
     "duration": 0.125175,
     "end_time": "2024-01-25T14:29:40.817492",
     "exception": false,
     "start_time": "2024-01-25T14:29:40.692317",
     "status": "completed"
    },
    "tags": []
   },
   "outputs": [],
   "source": [
    "from scipy import stats\n",
    "import matplotlib.pyplot as plt"
   ]
  },
  {
   "cell_type": "code",
   "execution_count": 54,
   "metadata": {
    "execution": {
     "iopub.execute_input": "2024-01-25T14:29:41.070182Z",
     "iopub.status.busy": "2024-01-25T14:29:41.069093Z",
     "iopub.status.idle": "2024-01-25T14:29:41.077161Z",
     "shell.execute_reply": "2024-01-25T14:29:41.077712Z",
     "shell.execute_reply.started": "2024-01-25T14:21:45.254220Z"
    },
    "papermill": {
     "duration": 0.144271,
     "end_time": "2024-01-25T14:29:41.077909",
     "exception": false,
     "start_time": "2024-01-25T14:29:40.933638",
     "status": "completed"
    },
    "tags": []
   },
   "outputs": [
    {
     "name": "stdout",
     "output_type": "stream",
     "text": [
      "Shapiro-Wilk test statistic: 0.961925745010376\n",
      "Shapiro-Wilk test p-value: 0.07447139918804169\n"
     ]
    }
   ],
   "source": [
    "statistic, pvalue = stats.shapiro(X_train_rfe)\n",
    "\n",
    "print(\"Shapiro-Wilk test statistic:\", statistic)\n",
    "print(\"Shapiro-Wilk test p-value:\", pvalue)"
   ]
  },
  {
   "cell_type": "markdown",
   "metadata": {
    "papermill": {
     "duration": 0.115899,
     "end_time": "2024-01-25T14:29:41.312070",
     "exception": false,
     "start_time": "2024-01-25T14:29:41.196171",
     "status": "completed"
    },
    "tags": []
   },
   "source": [
    "# Building Linear Model using 'STATS MODEL'"
   ]
  },
  {
   "cell_type": "markdown",
   "metadata": {
    "papermill": {
     "duration": 0.116143,
     "end_time": "2024-01-25T14:29:41.547105",
     "exception": false,
     "start_time": "2024-01-25T14:29:41.430962",
     "status": "completed"
    },
    "tags": []
   },
   "source": [
    "## Model 1"
   ]
  },
  {
   "cell_type": "markdown",
   "metadata": {
    "papermill": {
     "duration": 0.116955,
     "end_time": "2024-01-25T14:29:41.779980",
     "exception": false,
     "start_time": "2024-01-25T14:29:41.663025",
     "status": "completed"
    },
    "tags": []
   },
   "source": [
    "### VIF Check"
   ]
  },
  {
   "cell_type": "code",
   "execution_count": 55,
   "metadata": {
    "execution": {
     "iopub.execute_input": "2024-01-25T14:29:42.022108Z",
     "iopub.status.busy": "2024-01-25T14:29:42.021172Z",
     "iopub.status.idle": "2024-01-25T14:29:42.143954Z",
     "shell.execute_reply": "2024-01-25T14:29:42.143165Z",
     "shell.execute_reply.started": "2024-01-25T14:21:45.267187Z"
    },
    "papermill": {
     "duration": 0.248026,
     "end_time": "2024-01-25T14:29:42.144091",
     "exception": false,
     "start_time": "2024-01-25T14:29:41.896065",
     "status": "completed"
    },
    "tags": []
   },
   "outputs": [
    {
     "data": {
      "text/html": [
       "<div>\n",
       "<style scoped>\n",
       "    .dataframe tbody tr th:only-of-type {\n",
       "        vertical-align: middle;\n",
       "    }\n",
       "\n",
       "    .dataframe tbody tr th {\n",
       "        vertical-align: top;\n",
       "    }\n",
       "\n",
       "    .dataframe thead th {\n",
       "        text-align: right;\n",
       "    }\n",
       "</style>\n",
       "<table border=\"1\" class=\"dataframe\">\n",
       "  <thead>\n",
       "    <tr style=\"text-align: right;\">\n",
       "      <th></th>\n",
       "      <th>Features</th>\n",
       "      <th>VIF</th>\n",
       "    </tr>\n",
       "  </thead>\n",
       "  <tbody>\n",
       "    <tr>\n",
       "      <th>0</th>\n",
       "      <td>Sun Day</td>\n",
       "      <td>7.97</td>\n",
       "    </tr>\n",
       "    <tr>\n",
       "      <th>1</th>\n",
       "      <td>Sun Hour</td>\n",
       "      <td>7.97</td>\n",
       "    </tr>\n",
       "  </tbody>\n",
       "</table>\n",
       "</div>"
      ],
      "text/plain": [
       "   Features   VIF\n",
       "0   Sun Day  7.97\n",
       "1  Sun Hour  7.97"
      ]
     },
     "execution_count": 55,
     "metadata": {},
     "output_type": "execute_result"
    }
   ],
   "source": [
    "# Check for the VIF values of the feature variables. \n",
    "from statsmodels.stats.outliers_influence import variance_inflation_factor\n",
    "\n",
    "# Create a dataframe that will contain the names of all the feature variables and their respective VIFs\n",
    "vif = pd.DataFrame()\n",
    "vif['Features'] = X_train_rfe.columns\n",
    "vif['VIF'] = [variance_inflation_factor(X_train_rfe.values, i) for i in range(X_train_rfe.shape[1])]\n",
    "vif['VIF'] = round(vif['VIF'], 2)\n",
    "vif = vif.sort_values(by = \"VIF\", ascending = False)\n",
    "vif"
   ]
  },
  {
   "cell_type": "code",
   "execution_count": 56,
   "metadata": {
    "execution": {
     "iopub.execute_input": "2024-01-25T14:29:42.384337Z",
     "iopub.status.busy": "2024-01-25T14:29:42.382868Z",
     "iopub.status.idle": "2024-01-25T14:29:42.990762Z",
     "shell.execute_reply": "2024-01-25T14:29:42.989413Z",
     "shell.execute_reply.started": "2024-01-25T14:21:45.290193Z"
    },
    "papermill": {
     "duration": 0.729016,
     "end_time": "2024-01-25T14:29:42.990938",
     "exception": false,
     "start_time": "2024-01-25T14:29:42.261922",
     "status": "completed"
    },
    "tags": []
   },
   "outputs": [],
   "source": [
    "import statsmodels.api as sm\n",
    "\n",
    "# Add a constant\n",
    "X_train_lm1 = sm.add_constant(X_train_rfe)\n",
    "\n",
    "# Create a first fitted model\n",
    "lr1 = sm.OLS(y_train, X_train_lm1).fit()"
   ]
  },
  {
   "cell_type": "code",
   "execution_count": 57,
   "metadata": {
    "execution": {
     "iopub.execute_input": "2024-01-25T14:29:43.257514Z",
     "iopub.status.busy": "2024-01-25T14:29:43.256505Z",
     "iopub.status.idle": "2024-01-25T14:29:43.260536Z",
     "shell.execute_reply": "2024-01-25T14:29:43.261332Z",
     "shell.execute_reply.started": "2024-01-25T14:21:45.301922Z"
    },
    "papermill": {
     "duration": 0.13121,
     "end_time": "2024-01-25T14:29:43.261499",
     "exception": false,
     "start_time": "2024-01-25T14:29:43.130289",
     "status": "completed"
    },
    "tags": []
   },
   "outputs": [
    {
     "data": {
      "text/plain": [
       "const       0.147524\n",
       "Sun Day    -0.263595\n",
       "Sun Hour    0.383324\n",
       "dtype: float64"
      ]
     },
     "execution_count": 57,
     "metadata": {},
     "output_type": "execute_result"
    }
   ],
   "source": [
    "# Check the parameters obtained\n",
    "\n",
    "lr1.params"
   ]
  },
  {
   "cell_type": "code",
   "execution_count": 58,
   "metadata": {
    "execution": {
     "iopub.execute_input": "2024-01-25T14:29:43.506292Z",
     "iopub.status.busy": "2024-01-25T14:29:43.505181Z",
     "iopub.status.idle": "2024-01-25T14:29:43.522966Z",
     "shell.execute_reply": "2024-01-25T14:29:43.523606Z",
     "shell.execute_reply.started": "2024-01-25T14:21:45.315796Z"
    },
    "papermill": {
     "duration": 0.142526,
     "end_time": "2024-01-25T14:29:43.523767",
     "exception": false,
     "start_time": "2024-01-25T14:29:43.381241",
     "status": "completed"
    },
    "tags": []
   },
   "outputs": [
    {
     "name": "stdout",
     "output_type": "stream",
     "text": [
      "                             OLS Regression Results                            \n",
      "===============================================================================\n",
      "Dep. Variable:     Produktivitas Jeruk   R-squared:                       0.068\n",
      "Model:                             OLS   Adj. R-squared:                 -0.007\n",
      "Method:                  Least Squares   F-statistic:                    0.9108\n",
      "Date:                 Thu, 25 Jan 2024   Prob (F-statistic):              0.415\n",
      "Time:                         14:29:43   Log-Likelihood:                 2.6617\n",
      "No. Observations:                   28   AIC:                            0.6766\n",
      "Df Residuals:                       25   BIC:                             4.673\n",
      "Df Model:                            2                                         \n",
      "Covariance Type:             nonrobust                                         \n",
      "==============================================================================\n",
      "                 coef    std err          t      P>|t|      [0.025      0.975]\n",
      "------------------------------------------------------------------------------\n",
      "const          0.1475      0.102      1.451      0.159      -0.062       0.357\n",
      "Sun Day       -0.2636      0.237     -1.110      0.278      -0.753       0.225\n",
      "Sun Hour       0.3833      0.284      1.348      0.190      -0.202       0.969\n",
      "==============================================================================\n",
      "Omnibus:                       16.362   Durbin-Watson:                   2.120\n",
      "Prob(Omnibus):                  0.000   Jarque-Bera (JB):               18.324\n",
      "Skew:                           1.520   Prob(JB):                     0.000105\n",
      "Kurtosis:                       5.543   Cond. No.                         9.90\n",
      "==============================================================================\n",
      "\n",
      "Warnings:\n",
      "[1] Standard Errors assume that the covariance matrix of the errors is correctly specified.\n"
     ]
    }
   ],
   "source": [
    "# Print a summary of the linear regression model obtained\n",
    "print(lr1.summary())"
   ]
  },
  {
   "cell_type": "markdown",
   "metadata": {
    "papermill": {
     "duration": 0.119756,
     "end_time": "2024-01-25T14:29:43.762672",
     "exception": false,
     "start_time": "2024-01-25T14:29:43.642916",
     "status": "completed"
    },
    "tags": []
   },
   "source": [
    "# Final Model Interpretation"
   ]
  },
  {
   "cell_type": "markdown",
   "metadata": {
    "papermill": {
     "duration": 0.118063,
     "end_time": "2024-01-25T14:29:44.003274",
     "exception": false,
     "start_time": "2024-01-25T14:29:43.885211",
     "status": "completed"
    },
    "tags": []
   },
   "source": [
    "## Hypothesis Testing:"
   ]
  },
  {
   "cell_type": "markdown",
   "metadata": {
    "papermill": {
     "duration": 0.120016,
     "end_time": "2024-01-25T14:29:44.241198",
     "exception": false,
     "start_time": "2024-01-25T14:29:44.121182",
     "status": "completed"
    },
    "tags": []
   },
   "source": [
    "Hypothesis testing states that:\n",
    "- H0:B1=B2=...=Bn=0 \n",
    "- H1:  at least one  Bi!=0"
   ]
  },
  {
   "cell_type": "markdown",
   "metadata": {
    "papermill": {
     "duration": 0.119177,
     "end_time": "2024-01-25T14:29:44.479206",
     "exception": false,
     "start_time": "2024-01-25T14:29:44.360029",
     "status": "completed"
    },
    "tags": []
   },
   "source": [
    "### lr1 model coefficient values"
   ]
  },
  {
   "cell_type": "markdown",
   "metadata": {
    "papermill": {
     "duration": 0.1165,
     "end_time": "2024-01-25T14:29:44.712793",
     "exception": false,
     "start_time": "2024-01-25T14:29:44.596293",
     "status": "completed"
    },
    "tags": []
   },
   "source": [
    "- const 0.147\n",
    "- Sun Day -0.2636\n",
    "- Sun Hour 0.3833"
   ]
  },
  {
   "cell_type": "markdown",
   "metadata": {
    "papermill": {
     "duration": 0.118408,
     "end_time": "2024-01-25T14:29:44.948060",
     "exception": false,
     "start_time": "2024-01-25T14:29:44.829652",
     "status": "completed"
    },
    "tags": []
   },
   "source": [
    "### Insights\n",
    "- From the lr1 model summary, it is evident that all our coefficients are not equal to zerowhich means **We REJECT the NULL HYPOTHESIS**\n",
    "    "
   ]
  },
  {
   "cell_type": "markdown",
   "metadata": {
    "papermill": {
     "duration": 0.120641,
     "end_time": "2024-01-25T14:29:45.187426",
     "exception": false,
     "start_time": "2024-01-25T14:29:45.066785",
     "status": "completed"
    },
    "tags": []
   },
   "source": [
    "### F Statistics"
   ]
  },
  {
   "cell_type": "markdown",
   "metadata": {
    "papermill": {
     "duration": 0.121587,
     "end_time": "2024-01-25T14:29:45.430162",
     "exception": false,
     "start_time": "2024-01-25T14:29:45.308575",
     "status": "completed"
    },
    "tags": []
   },
   "source": [
    "F-Statistics is used for testing the overall significance of the Model: Higher the F-Statistics, more significant the Model is.\n",
    "\n",
    "- F-statistic: 0.9108\n",
    "- Prob (F-statistic): 0.415\n",
    "\n",
    "The F-Statistics value of 233 (which is greater than 1) and the p-value of '~0.0000' states that the overall model is significant"
   ]
  },
  {
   "cell_type": "markdown",
   "metadata": {
    "papermill": {
     "duration": 0.117877,
     "end_time": "2024-01-25T14:29:45.668522",
     "exception": false,
     "start_time": "2024-01-25T14:29:45.550645",
     "status": "completed"
    },
    "tags": []
   },
   "source": [
    "## The equation of best fitted surface based on model lr1:"
   ]
  },
  {
   "cell_type": "markdown",
   "metadata": {
    "papermill": {
     "duration": 0.117986,
     "end_time": "2024-01-25T14:29:45.905020",
     "exception": false,
     "start_time": "2024-01-25T14:29:45.787034",
     "status": "completed"
    },
    "tags": []
   },
   "source": [
    "cnt = 0.1475 + (**Sun Day** × 0.2636) + (**Sun Hour** × 0.3833) "
   ]
  },
  {
   "cell_type": "markdown",
   "metadata": {
    "papermill": {
     "duration": 0.116809,
     "end_time": "2024-01-25T14:29:46.139609",
     "exception": false,
     "start_time": "2024-01-25T14:29:46.022800",
     "status": "completed"
    },
    "tags": []
   },
   "source": [
    "## Interpretation of Coefficients:\n",
    "**Sunny Day:** A coefficient value of ‘-0.2636’ Menunjukkan bahwa jika nilai pada variable 'Hari cerah' bertambah maka akan memberi dampak negative sebesar 26% secara tidak langsung kepada produktivitas mangga.\n",
    "\n",
    "**Sun Hours:** A coefficient value of ‘0.3833’ Menunjukkan bahwa jika nilai pada variable 'Lama penyinaran' bertambah maka akan memberi dampak positive sebesar 38% secara tidak langsung kepada produktivitas jeruk.\n"
   ]
  },
  {
   "cell_type": "markdown",
   "metadata": {
    "papermill": {
     "duration": 0.117056,
     "end_time": "2024-01-25T14:29:46.376091",
     "exception": false,
     "start_time": "2024-01-25T14:29:46.259035",
     "status": "completed"
    },
    "tags": []
   },
   "source": [
    "# ASSUMPTIONS "
   ]
  },
  {
   "cell_type": "markdown",
   "metadata": {
    "papermill": {
     "duration": 0.116039,
     "end_time": "2024-01-25T14:29:46.613087",
     "exception": false,
     "start_time": "2024-01-25T14:29:46.497048",
     "status": "completed"
    },
    "tags": []
   },
   "source": [
    "## Error terms are normally distributed with mean zero (not X, Y)\n",
    "- Residual Analysis Of Training Data"
   ]
  },
  {
   "cell_type": "code",
   "execution_count": 59,
   "metadata": {
    "execution": {
     "iopub.execute_input": "2024-01-25T14:29:46.851157Z",
     "iopub.status.busy": "2024-01-25T14:29:46.850098Z",
     "iopub.status.idle": "2024-01-25T14:29:46.855052Z",
     "shell.execute_reply": "2024-01-25T14:29:46.855591Z",
     "shell.execute_reply.started": "2024-01-25T14:21:45.337718Z"
    },
    "papermill": {
     "duration": 0.125722,
     "end_time": "2024-01-25T14:29:46.855765",
     "exception": false,
     "start_time": "2024-01-25T14:29:46.730043",
     "status": "completed"
    },
    "tags": []
   },
   "outputs": [],
   "source": [
    "y_train_pred = lr1.predict(X_train_lm1)"
   ]
  },
  {
   "cell_type": "code",
   "execution_count": 60,
   "metadata": {
    "execution": {
     "iopub.execute_input": "2024-01-25T14:29:47.101696Z",
     "iopub.status.busy": "2024-01-25T14:29:47.100584Z",
     "iopub.status.idle": "2024-01-25T14:29:47.344468Z",
     "shell.execute_reply": "2024-01-25T14:29:47.343653Z",
     "shell.execute_reply.started": "2024-01-25T14:21:45.345552Z"
    },
    "papermill": {
     "duration": 0.371682,
     "end_time": "2024-01-25T14:29:47.344767",
     "exception": false,
     "start_time": "2024-01-25T14:29:46.973085",
     "status": "completed"
    },
    "tags": []
   },
   "outputs": [
    {
     "data": {
      "text/plain": [
       "Text(0.5, 0, 'Errors')"
      ]
     },
     "execution_count": 60,
     "metadata": {},
     "output_type": "execute_result"
    },
    {
     "data": {
      "image/png": "[encoded data removed]",
      "text/plain": [
       "<Figure size 432x288 with 1 Axes>"
      ]
     },
     "metadata": {
      "needs_background": "light"
     },
     "output_type": "display_data"
    }
   ],
   "source": [
    "res = y_train-y_train_pred\n",
    "# Plot the histogram of the error terms\n",
    "fig = plt.figure()\n",
    "sns.distplot((res), bins = 20)\n",
    "fig.suptitle('Error Terms', fontsize = 20)                  # Plot heading \n",
    "plt.xlabel('Errors', fontsize = 18)                         # X-label"
   ]
  },
  {
   "cell_type": "markdown",
   "metadata": {
    "papermill": {
     "duration": 0.119972,
     "end_time": "2024-01-25T14:29:47.589648",
     "exception": false,
     "start_time": "2024-01-25T14:29:47.469676",
     "status": "completed"
    },
    "tags": []
   },
   "source": [
    "### Insights\n",
    "- From the above histogram, we could see that the Residuals are normally distributed. Hence our assumption for Linear Regression is valid."
   ]
  },
  {
   "cell_type": "markdown",
   "metadata": {
    "papermill": {
     "duration": 0.120317,
     "end_time": "2024-01-25T14:29:47.829481",
     "exception": false,
     "start_time": "2024-01-25T14:29:47.709164",
     "status": "completed"
    },
    "tags": []
   },
   "source": [
    "## There is a linear relationship between X and Y"
   ]
  },
  {
   "cell_type": "code",
   "execution_count": 61,
   "metadata": {
    "execution": {
     "iopub.execute_input": "2024-01-25T14:29:48.080558Z",
     "iopub.status.busy": "2024-01-25T14:29:48.079436Z",
     "iopub.status.idle": "2024-01-25T14:29:50.786866Z",
     "shell.execute_reply": "2024-01-25T14:29:50.786081Z",
     "shell.execute_reply.started": "2024-01-25T14:21:45.594034Z"
    },
    "papermill": {
     "duration": 2.83629,
     "end_time": "2024-01-25T14:29:50.787037",
     "exception": false,
     "start_time": "2024-01-25T14:29:47.950747",
     "status": "completed"
    },
    "tags": []
   },
   "outputs": [
    {
     "data": {
      "image/png": "[encoded data removed]",
      "text/plain": [
       "<Figure size 540x540 with 12 Axes>"
      ]
     },
     "metadata": {
      "needs_background": "light"
     },
     "output_type": "display_data"
    }
   ],
   "source": [
    "bike_new=bike_new[['Produktivitas Jeruk', 'Sun Day','Sun Hour']]\n",
    "\n",
    "sns.pairplot(bike_num, diag_kind='kde')\n",
    "plt.show()"
   ]
  },
  {
   "cell_type": "markdown",
   "metadata": {
    "papermill": {
     "duration": 0.121061,
     "end_time": "2024-01-25T14:29:51.030306",
     "exception": false,
     "start_time": "2024-01-25T14:29:50.909245",
     "status": "completed"
    },
    "tags": []
   },
   "source": [
    "## Insight\n",
    "- Using the pair plot, we could see there is a linear relation between temp and atemp variable with the predictor ‘cnt’."
   ]
  },
  {
   "cell_type": "markdown",
   "metadata": {
    "papermill": {
     "duration": 0.121807,
     "end_time": "2024-01-25T14:29:51.273908",
     "exception": false,
     "start_time": "2024-01-25T14:29:51.152101",
     "status": "completed"
    },
    "tags": []
   },
   "source": [
    "## There is No Multicollinearity between the predictor variables"
   ]
  },
  {
   "cell_type": "code",
   "execution_count": 62,
   "metadata": {
    "execution": {
     "iopub.execute_input": "2024-01-25T14:29:51.529466Z",
     "iopub.status.busy": "2024-01-25T14:29:51.528404Z",
     "iopub.status.idle": "2024-01-25T14:29:51.551149Z",
     "shell.execute_reply": "2024-01-25T14:29:51.550486Z",
     "shell.execute_reply.started": "2024-01-25T14:21:48.253773Z"
    },
    "papermill": {
     "duration": 0.152305,
     "end_time": "2024-01-25T14:29:51.551290",
     "exception": false,
     "start_time": "2024-01-25T14:29:51.398985",
     "status": "completed"
    },
    "tags": []
   },
   "outputs": [
    {
     "data": {
      "text/html": [
       "<div>\n",
       "<style scoped>\n",
       "    .dataframe tbody tr th:only-of-type {\n",
       "        vertical-align: middle;\n",
       "    }\n",
       "\n",
       "    .dataframe tbody tr th {\n",
       "        vertical-align: top;\n",
       "    }\n",
       "\n",
       "    .dataframe thead th {\n",
       "        text-align: right;\n",
       "    }\n",
       "</style>\n",
       "<table border=\"1\" class=\"dataframe\">\n",
       "  <thead>\n",
       "    <tr style=\"text-align: right;\">\n",
       "      <th></th>\n",
       "      <th>Features</th>\n",
       "      <th>VIF</th>\n",
       "    </tr>\n",
       "  </thead>\n",
       "  <tbody>\n",
       "    <tr>\n",
       "      <th>0</th>\n",
       "      <td>Sun Day</td>\n",
       "      <td>7.97</td>\n",
       "    </tr>\n",
       "    <tr>\n",
       "      <th>1</th>\n",
       "      <td>Sun Hour</td>\n",
       "      <td>7.97</td>\n",
       "    </tr>\n",
       "  </tbody>\n",
       "</table>\n",
       "</div>"
      ],
      "text/plain": [
       "   Features   VIF\n",
       "0   Sun Day  7.97\n",
       "1  Sun Hour  7.97"
      ]
     },
     "execution_count": 62,
     "metadata": {},
     "output_type": "execute_result"
    }
   ],
   "source": [
    "# Check for the VIF values of the feature variables. \n",
    "from statsmodels.stats.outliers_influence import variance_inflation_factor\n",
    "\n",
    "# Create a dataframe that will contain the names of all the feature variables and their respective VIFs\n",
    "vif = pd.DataFrame()\n",
    "vif['Features'] = X_train_rfe.columns\n",
    "vif['VIF'] = [variance_inflation_factor(X_train_rfe.values, i) for i in range(X_train_rfe.shape[1])]\n",
    "vif['VIF'] = round(vif['VIF'], 2)\n",
    "vif = vif.sort_values(by = \"VIF\", ascending = False)\n",
    "vif"
   ]
  },
  {
   "cell_type": "markdown",
   "metadata": {
    "papermill": {
     "duration": 0.122191,
     "end_time": "2024-01-25T14:29:51.795839",
     "exception": false,
     "start_time": "2024-01-25T14:29:51.673648",
     "status": "completed"
    },
    "tags": []
   },
   "source": [
    "## Insight\n",
    "\n",
    " - From the VIF calculation we could find that there is no multicollinearity existing between the predictor variables, as all the values are within permissible range of below 5"
   ]
  },
  {
   "cell_type": "markdown",
   "metadata": {
    "papermill": {
     "duration": 0.122032,
     "end_time": "2024-01-25T14:29:52.040465",
     "exception": false,
     "start_time": "2024-01-25T14:29:51.918433",
     "status": "completed"
    },
    "tags": []
   },
   "source": [
    "# MAKING PREDICTION USING FINAL MODEL\n",
    "\n",
    "Now that we have fitted the model and checked the assumptions, it's time to go ahead and make predictions using the final model (lr6)\n",
    "\n",
    "### Applying the scaling on the test sets"
   ]
  },
  {
   "cell_type": "code",
   "execution_count": 63,
   "metadata": {
    "execution": {
     "iopub.execute_input": "2024-01-25T14:29:52.301648Z",
     "iopub.status.busy": "2024-01-25T14:29:52.300842Z",
     "iopub.status.idle": "2024-01-25T14:29:52.303435Z",
     "shell.execute_reply": "2024-01-25T14:29:52.304098Z",
     "shell.execute_reply.started": "2024-01-25T14:21:48.279971Z"
    },
    "papermill": {
     "duration": 0.140995,
     "end_time": "2024-01-25T14:29:52.304294",
     "exception": false,
     "start_time": "2024-01-25T14:29:52.163299",
     "status": "completed"
    },
    "tags": []
   },
   "outputs": [],
   "source": [
    "# Apply scaler() to all numeric variables in test dataset. Note: we will only use scaler.transform, \n",
    "# as we want to use the metrics that the model learned from the training data to be applied on the test data. \n",
    "# In other words, we want to prevent the information leak from train to test dataset.\n",
    "\n",
    "num_vars = ['Produktivitas Jeruk', 'Sun Day','Sun Hour']\n",
    "\n",
    "df_test[num_vars] = scaler.transform(df_test[num_vars])"
   ]
  },
  {
   "cell_type": "code",
   "execution_count": 64,
   "metadata": {
    "execution": {
     "iopub.execute_input": "2024-01-25T14:29:52.557222Z",
     "iopub.status.busy": "2024-01-25T14:29:52.556425Z",
     "iopub.status.idle": "2024-01-25T14:29:52.569608Z",
     "shell.execute_reply": "2024-01-25T14:29:52.568809Z",
     "shell.execute_reply.started": "2024-01-25T14:21:48.294786Z"
    },
    "papermill": {
     "duration": 0.140158,
     "end_time": "2024-01-25T14:29:52.569755",
     "exception": false,
     "start_time": "2024-01-25T14:29:52.429597",
     "status": "completed"
    },
    "tags": []
   },
   "outputs": [
    {
     "data": {
      "text/html": [
       "<div>\n",
       "<style scoped>\n",
       "    .dataframe tbody tr th:only-of-type {\n",
       "        vertical-align: middle;\n",
       "    }\n",
       "\n",
       "    .dataframe tbody tr th {\n",
       "        vertical-align: top;\n",
       "    }\n",
       "\n",
       "    .dataframe thead th {\n",
       "        text-align: right;\n",
       "    }\n",
       "</style>\n",
       "<table border=\"1\" class=\"dataframe\">\n",
       "  <thead>\n",
       "    <tr style=\"text-align: right;\">\n",
       "      <th></th>\n",
       "      <th>Produktivitas Jeruk</th>\n",
       "      <th>Sun Day</th>\n",
       "      <th>Sun Hour</th>\n",
       "    </tr>\n",
       "  </thead>\n",
       "  <tbody>\n",
       "    <tr>\n",
       "      <th>31</th>\n",
       "      <td>0.552941</td>\n",
       "      <td>0.350649</td>\n",
       "      <td>0.740345</td>\n",
       "    </tr>\n",
       "    <tr>\n",
       "      <th>4</th>\n",
       "      <td>0.188235</td>\n",
       "      <td>0.181818</td>\n",
       "      <td>0.381724</td>\n",
       "    </tr>\n",
       "    <tr>\n",
       "      <th>6</th>\n",
       "      <td>0.141176</td>\n",
       "      <td>0.896104</td>\n",
       "      <td>0.921724</td>\n",
       "    </tr>\n",
       "    <tr>\n",
       "      <th>16</th>\n",
       "      <td>0.000000</td>\n",
       "      <td>0.090909</td>\n",
       "      <td>0.362069</td>\n",
       "    </tr>\n",
       "    <tr>\n",
       "      <th>30</th>\n",
       "      <td>0.164706</td>\n",
       "      <td>0.974026</td>\n",
       "      <td>0.987241</td>\n",
       "    </tr>\n",
       "  </tbody>\n",
       "</table>\n",
       "</div>"
      ],
      "text/plain": [
       "    Produktivitas Jeruk   Sun Day  Sun Hour\n",
       "31             0.552941  0.350649  0.740345\n",
       "4              0.188235  0.181818  0.381724\n",
       "6              0.141176  0.896104  0.921724\n",
       "16             0.000000  0.090909  0.362069\n",
       "30             0.164706  0.974026  0.987241"
      ]
     },
     "execution_count": 64,
     "metadata": {},
     "output_type": "execute_result"
    }
   ],
   "source": [
    "df_test.head()"
   ]
  },
  {
   "cell_type": "code",
   "execution_count": 65,
   "metadata": {
    "execution": {
     "iopub.execute_input": "2024-01-25T14:29:52.846048Z",
     "iopub.status.busy": "2024-01-25T14:29:52.831506Z",
     "iopub.status.idle": "2024-01-25T14:29:52.851691Z",
     "shell.execute_reply": "2024-01-25T14:29:52.850982Z",
     "shell.execute_reply.started": "2024-01-25T14:21:48.315159Z"
    },
    "papermill": {
     "duration": 0.157596,
     "end_time": "2024-01-25T14:29:52.851830",
     "exception": false,
     "start_time": "2024-01-25T14:29:52.694234",
     "status": "completed"
    },
    "tags": []
   },
   "outputs": [
    {
     "data": {
      "text/html": [
       "<div>\n",
       "<style scoped>\n",
       "    .dataframe tbody tr th:only-of-type {\n",
       "        vertical-align: middle;\n",
       "    }\n",
       "\n",
       "    .dataframe tbody tr th {\n",
       "        vertical-align: top;\n",
       "    }\n",
       "\n",
       "    .dataframe thead th {\n",
       "        text-align: right;\n",
       "    }\n",
       "</style>\n",
       "<table border=\"1\" class=\"dataframe\">\n",
       "  <thead>\n",
       "    <tr style=\"text-align: right;\">\n",
       "      <th></th>\n",
       "      <th>Produktivitas Jeruk</th>\n",
       "      <th>Sun Day</th>\n",
       "      <th>Sun Hour</th>\n",
       "    </tr>\n",
       "  </thead>\n",
       "  <tbody>\n",
       "    <tr>\n",
       "      <th>count</th>\n",
       "      <td>12.000000</td>\n",
       "      <td>12.000000</td>\n",
       "      <td>12.000000</td>\n",
       "    </tr>\n",
       "    <tr>\n",
       "      <th>mean</th>\n",
       "      <td>0.194118</td>\n",
       "      <td>0.464286</td>\n",
       "      <td>0.639253</td>\n",
       "    </tr>\n",
       "    <tr>\n",
       "      <th>std</th>\n",
       "      <td>0.129412</td>\n",
       "      <td>0.396520</td>\n",
       "      <td>0.290998</td>\n",
       "    </tr>\n",
       "    <tr>\n",
       "      <th>min</th>\n",
       "      <td>0.000000</td>\n",
       "      <td>0.025974</td>\n",
       "      <td>0.167931</td>\n",
       "    </tr>\n",
       "    <tr>\n",
       "      <th>25%</th>\n",
       "      <td>0.135294</td>\n",
       "      <td>0.172078</td>\n",
       "      <td>0.383276</td>\n",
       "    </tr>\n",
       "    <tr>\n",
       "      <th>50%</th>\n",
       "      <td>0.188235</td>\n",
       "      <td>0.305195</td>\n",
       "      <td>0.627586</td>\n",
       "    </tr>\n",
       "    <tr>\n",
       "      <th>75%</th>\n",
       "      <td>0.211765</td>\n",
       "      <td>0.915584</td>\n",
       "      <td>0.925776</td>\n",
       "    </tr>\n",
       "    <tr>\n",
       "      <th>max</th>\n",
       "      <td>0.552941</td>\n",
       "      <td>1.064935</td>\n",
       "      <td>1.056207</td>\n",
       "    </tr>\n",
       "  </tbody>\n",
       "</table>\n",
       "</div>"
      ],
      "text/plain": [
       "       Produktivitas Jeruk    Sun Day   Sun Hour\n",
       "count            12.000000  12.000000  12.000000\n",
       "mean              0.194118   0.464286   0.639253\n",
       "std               0.129412   0.396520   0.290998\n",
       "min               0.000000   0.025974   0.167931\n",
       "25%               0.135294   0.172078   0.383276\n",
       "50%               0.188235   0.305195   0.627586\n",
       "75%               0.211765   0.915584   0.925776\n",
       "max               0.552941   1.064935   1.056207"
      ]
     },
     "execution_count": 65,
     "metadata": {},
     "output_type": "execute_result"
    }
   ],
   "source": [
    "df_test.describe()"
   ]
  },
  {
   "cell_type": "markdown",
   "metadata": {
    "papermill": {
     "duration": 0.125432,
     "end_time": "2024-01-25T14:29:53.102532",
     "exception": false,
     "start_time": "2024-01-25T14:29:52.977100",
     "status": "completed"
    },
    "tags": []
   },
   "source": [
    "### Dividing into X_test and y_test"
   ]
  },
  {
   "cell_type": "code",
   "execution_count": 66,
   "metadata": {
    "execution": {
     "iopub.execute_input": "2024-01-25T14:29:53.358869Z",
     "iopub.status.busy": "2024-01-25T14:29:53.357714Z",
     "iopub.status.idle": "2024-01-25T14:29:53.372062Z",
     "shell.execute_reply": "2024-01-25T14:29:53.371413Z",
     "shell.execute_reply.started": "2024-01-25T14:21:48.346902Z"
    },
    "papermill": {
     "duration": 0.144305,
     "end_time": "2024-01-25T14:29:53.372193",
     "exception": false,
     "start_time": "2024-01-25T14:29:53.227888",
     "status": "completed"
    },
    "tags": []
   },
   "outputs": [
    {
     "name": "stdout",
     "output_type": "stream",
     "text": [
      "<class 'pandas.core.frame.DataFrame'>\n",
      "Int64Index: 12 entries, 31 to 0\n",
      "Data columns (total 2 columns):\n",
      " #   Column    Non-Null Count  Dtype  \n",
      "---  ------    --------------  -----  \n",
      " 0   Sun Day   12 non-null     float64\n",
      " 1   Sun Hour  12 non-null     float64\n",
      "dtypes: float64(2)\n",
      "memory usage: 288.0 bytes\n"
     ]
    }
   ],
   "source": [
    "y_test = df_test.pop('Produktivitas Jeruk')\n",
    "X_test = df_test\n",
    "X_test.info()"
   ]
  },
  {
   "cell_type": "code",
   "execution_count": 67,
   "metadata": {
    "execution": {
     "iopub.execute_input": "2024-01-25T14:29:53.625917Z",
     "iopub.status.busy": "2024-01-25T14:29:53.624845Z",
     "iopub.status.idle": "2024-01-25T14:29:53.640333Z",
     "shell.execute_reply": "2024-01-25T14:29:53.639563Z",
     "shell.execute_reply.started": "2024-01-25T14:21:48.361246Z"
    },
    "papermill": {
     "duration": 0.14199,
     "end_time": "2024-01-25T14:29:53.640462",
     "exception": false,
     "start_time": "2024-01-25T14:29:53.498472",
     "status": "completed"
    },
    "tags": []
   },
   "outputs": [
    {
     "name": "stdout",
     "output_type": "stream",
     "text": [
      "<class 'pandas.core.frame.DataFrame'>\n",
      "Int64Index: 12 entries, 31 to 0\n",
      "Data columns (total 3 columns):\n",
      " #   Column    Non-Null Count  Dtype  \n",
      "---  ------    --------------  -----  \n",
      " 0   const     12 non-null     float64\n",
      " 1   Sun Day   12 non-null     float64\n",
      " 2   Sun Hour  12 non-null     float64\n",
      "dtypes: float64(3)\n",
      "memory usage: 384.0 bytes\n"
     ]
    }
   ],
   "source": [
    "#Selecting the variables that were part of final model.\n",
    "col1=X_train_rfe.columns\n",
    "X_test=X_test[col1]\n",
    "# Adding constant variable to test dataframe\n",
    "X_test_lm1 = sm.add_constant(X_test)\n",
    "X_test_lm1.info()"
   ]
  },
  {
   "cell_type": "code",
   "execution_count": 68,
   "metadata": {
    "execution": {
     "iopub.execute_input": "2024-01-25T14:29:53.901198Z",
     "iopub.status.busy": "2024-01-25T14:29:53.900399Z",
     "iopub.status.idle": "2024-01-25T14:29:53.903529Z",
     "shell.execute_reply": "2024-01-25T14:29:53.902841Z",
     "shell.execute_reply.started": "2024-01-25T14:21:48.384249Z"
    },
    "papermill": {
     "duration": 0.13635,
     "end_time": "2024-01-25T14:29:53.903682",
     "exception": false,
     "start_time": "2024-01-25T14:29:53.767332",
     "status": "completed"
    },
    "tags": []
   },
   "outputs": [],
   "source": [
    "# Making predictions using the final model (lr6)\n",
    "\n",
    "y_pred = lr1.predict(X_test_lm1)"
   ]
  },
  {
   "cell_type": "markdown",
   "metadata": {
    "papermill": {
     "duration": 0.124948,
     "end_time": "2024-01-25T14:29:54.154355",
     "exception": false,
     "start_time": "2024-01-25T14:29:54.029407",
     "status": "completed"
    },
    "tags": []
   },
   "source": [
    "# MODEL EVALUATION"
   ]
  },
  {
   "cell_type": "code",
   "execution_count": 69,
   "metadata": {
    "execution": {
     "iopub.execute_input": "2024-01-25T14:29:54.420605Z",
     "iopub.status.busy": "2024-01-25T14:29:54.419872Z",
     "iopub.status.idle": "2024-01-25T14:29:54.603049Z",
     "shell.execute_reply": "2024-01-25T14:29:54.603595Z",
     "shell.execute_reply.started": "2024-01-25T14:21:48.392850Z"
    },
    "papermill": {
     "duration": 0.324294,
     "end_time": "2024-01-25T14:29:54.603762",
     "exception": false,
     "start_time": "2024-01-25T14:29:54.279468",
     "status": "completed"
    },
    "tags": []
   },
   "outputs": [
    {
     "data": {
      "image/png": "[encoded data removed]",
      "text/plain": [
       "<Figure size 432x288 with 1 Axes>"
      ]
     },
     "metadata": {
      "needs_background": "light"
     },
     "output_type": "display_data"
    }
   ],
   "source": [
    "# Plotting y_test and y_pred to understand the spread\n",
    "\n",
    "fig = plt.figure()\n",
    "plt.scatter(y_test, y_pred, alpha=.5)\n",
    "fig.suptitle('y_test vs y_pred', fontsize = 20)              # Plot heading \n",
    "plt.xlabel('y_test', fontsize = 18)                          # X-label\n",
    "plt.ylabel('y_pred', fontsize = 16) \n",
    "plt.show()"
   ]
  },
  {
   "cell_type": "markdown",
   "metadata": {
    "papermill": {
     "duration": 0.124979,
     "end_time": "2024-01-25T14:29:54.854589",
     "exception": false,
     "start_time": "2024-01-25T14:29:54.729610",
     "status": "completed"
    },
    "tags": []
   },
   "source": [
    " # R^2 Value for TEST"
   ]
  },
  {
   "cell_type": "code",
   "execution_count": 70,
   "metadata": {
    "execution": {
     "iopub.execute_input": "2024-01-25T14:29:55.115700Z",
     "iopub.status.busy": "2024-01-25T14:29:55.114448Z",
     "iopub.status.idle": "2024-01-25T14:29:55.119926Z",
     "shell.execute_reply": "2024-01-25T14:29:55.120606Z",
     "shell.execute_reply.started": "2024-01-25T14:21:48.599246Z"
    },
    "papermill": {
     "duration": 0.140955,
     "end_time": "2024-01-25T14:29:55.120797",
     "exception": false,
     "start_time": "2024-01-25T14:29:54.979842",
     "status": "completed"
    },
    "tags": []
   },
   "outputs": [
    {
     "data": {
      "text/plain": [
       "-0.1733250469814036"
      ]
     },
     "execution_count": 70,
     "metadata": {},
     "output_type": "execute_result"
    }
   ],
   "source": [
    "from sklearn.metrics import r2_score\n",
    "r2_score(y_test, y_pred)"
   ]
  },
  {
   "cell_type": "markdown",
   "metadata": {
    "papermill": {
     "duration": 0.126369,
     "end_time": "2024-01-25T14:29:55.376785",
     "exception": false,
     "start_time": "2024-01-25T14:29:55.250416",
     "status": "completed"
    },
    "tags": []
   },
   "source": [
    "## Adjusted R^2 Value for TEST"
   ]
  },
  {
   "cell_type": "code",
   "execution_count": 71,
   "metadata": {
    "execution": {
     "iopub.execute_input": "2024-01-25T14:29:55.638158Z",
     "iopub.status.busy": "2024-01-25T14:29:55.637360Z",
     "iopub.status.idle": "2024-01-25T14:29:55.640350Z",
     "shell.execute_reply": "2024-01-25T14:29:55.639613Z",
     "shell.execute_reply.started": "2024-01-25T14:21:48.610161Z"
    },
    "papermill": {
     "duration": 0.135333,
     "end_time": "2024-01-25T14:29:55.640488",
     "exception": false,
     "start_time": "2024-01-25T14:29:55.505155",
     "status": "completed"
    },
    "tags": []
   },
   "outputs": [],
   "source": [
    "# We already have the value of R^2 (calculated in above step)\n",
    "\n",
    "r2=-0.1733250469814036"
   ]
  },
  {
   "cell_type": "code",
   "execution_count": 72,
   "metadata": {
    "execution": {
     "iopub.execute_input": "2024-01-25T14:29:55.969723Z",
     "iopub.status.busy": "2024-01-25T14:29:55.968953Z",
     "iopub.status.idle": "2024-01-25T14:29:55.973728Z",
     "shell.execute_reply": "2024-01-25T14:29:55.973073Z",
     "shell.execute_reply.started": "2024-01-25T14:21:48.620424Z"
    },
    "papermill": {
     "duration": 0.138354,
     "end_time": "2024-01-25T14:29:55.973888",
     "exception": false,
     "start_time": "2024-01-25T14:29:55.835534",
     "status": "completed"
    },
    "tags": []
   },
   "outputs": [
    {
     "data": {
      "text/plain": [
       "(12, 2)"
      ]
     },
     "execution_count": 72,
     "metadata": {},
     "output_type": "execute_result"
    }
   ],
   "source": [
    "# Get the shape of X_test\n",
    "X_test.shape\n"
   ]
  },
  {
   "cell_type": "code",
   "execution_count": 73,
   "metadata": {
    "execution": {
     "iopub.execute_input": "2024-01-25T14:29:56.240555Z",
     "iopub.status.busy": "2024-01-25T14:29:56.239357Z",
     "iopub.status.idle": "2024-01-25T14:29:56.244428Z",
     "shell.execute_reply": "2024-01-25T14:29:56.243802Z",
     "shell.execute_reply.started": "2024-01-25T14:21:48.633827Z"
    },
    "papermill": {
     "duration": 0.141892,
     "end_time": "2024-01-25T14:29:56.244576",
     "exception": false,
     "start_time": "2024-01-25T14:29:56.102684",
     "status": "completed"
    },
    "tags": []
   },
   "outputs": [
    {
     "data": {
      "text/plain": [
       "-0.4340639463106044"
      ]
     },
     "execution_count": 73,
     "metadata": {},
     "output_type": "execute_result"
    }
   ],
   "source": [
    "# n is number of rows in X\n",
    "\n",
    "n = X_test.shape[0]\n",
    "\n",
    "\n",
    "# Number of features (predictors, p) is the shape along axis 1\n",
    "p = X_test.shape[1]\n",
    "\n",
    "# We find the Adjusted R-squared using the formula\n",
    "\n",
    "adjusted_r2 = 1-(1-r2)*(n-1)/(n-p-1)\n",
    "adjusted_r2"
   ]
  },
  {
   "cell_type": "markdown",
   "metadata": {
    "papermill": {
     "duration": 0.126997,
     "end_time": "2024-01-25T14:29:56.499682",
     "exception": false,
     "start_time": "2024-01-25T14:29:56.372685",
     "status": "completed"
    },
    "tags": []
   },
   "source": [
    "# Final Result Comparison"
   ]
  },
  {
   "cell_type": "markdown",
   "metadata": {
    "papermill": {
     "duration": 0.126869,
     "end_time": "2024-01-25T14:29:56.753964",
     "exception": false,
     "start_time": "2024-01-25T14:29:56.627095",
     "status": "completed"
    },
    "tags": []
   },
   "source": [
    "- Train R^2 :0.068\n",
    "- Train Adjusted R^2 :-0.007\n",
    "- Test R^2 :-0.1733250469814036\n",
    "- Test Adjusted R^2 :-0.4340639463106044 \n",
    "- This seems to be a really good model that can very well 'Generalize' various datasets."
   ]
  }
 ],
 "metadata": {
  "kaggle": {
   "accelerator": "none",
   "dataSources": [
    {
     "datasetId": 789011,
     "sourceId": 1355226,
     "sourceType": "datasetVersion"
    },
    {
     "datasetId": 4246041,
     "sourceId": 7327627,
     "sourceType": "datasetVersion"
    }
   ],
   "dockerImageVersionId": 29981,
   "isGpuEnabled": false,
   "isInternetEnabled": true,
   "language": "python",
   "sourceType": "notebook"
  },
  "kernelspec": {
   "display_name": "Python 3",
   "language": "python",
   "name": "python3"
  },
  "language_info": {
   "codemirror_mode": {
    "name": "ipython",
    "version": 3
   },
   "file_extension": ".py",
   "mimetype": "text/x-python",
   "name": "python",
   "nbconvert_exporter": "python",
   "pygments_lexer": "ipython3",
   "version": "3.7.6"
  },
  "papermill": {
   "duration": 44.01932,
   "end_time": "2024-01-25T14:29:56.990447",
   "environment_variables": {},
   "exception": null,
   "input_path": "__notebook__.ipynb",
   "output_path": "__notebook__.ipynb",
   "parameters": {},
   "start_time": "2024-01-25T14:29:12.971127",
   "version": "2.1.0"
  }
 },
 "nbformat": 4,
 "nbformat_minor": 4
}
