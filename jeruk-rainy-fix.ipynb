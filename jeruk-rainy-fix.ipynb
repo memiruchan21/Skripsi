{
 "cells": [
  {
   "cell_type": "markdown",
   "metadata": {
    "papermill": {
     "duration": 0.072158,
     "end_time": "2024-01-25T15:26:53.790954",
     "exception": false,
     "start_time": "2024-01-25T15:26:53.718796",
     "status": "completed"
    },
    "tags": []
   },
   "source": [
    "# Multiple Linear Regression\n",
    "## Bike Sharing Assignment\n",
    "\n",
    "#### Problem Statement:\n",
    "\n",
    "A bike-sharing system is a service in which bikes are made available for shared use to individuals on a short term basis for a price or free. Many bike share systems allow people to borrow a bike from a \"dock\" which is usually computer-controlled wherein the user enters the payment information, and the system unlocks it. This bike can then be returned to another dock belonging to the same system.\n",
    "\n",
    "\n",
    "A US bike-sharing provider BikeIndia has recently suffered considerable dips in their revenues due to the ongoing Corona pandemic. The company is finding it very difficult to sustain in the current market scenario. So, it has decided to come up with a mindful business plan to be able to accelerate its revenue as soon as the ongoing lockdown comes to an end, and the economy restores to a healthy state. \n",
    "\n",
    "\n",
    "In such an attempt, **BikeIndia** aspires to understand the demand for shared bikes among the people after this ongoing quarantine situation ends across the nation due to Covid-19. They have planned this to prepare themselves to cater to the people's needs once the situation gets better all around and stand out from other service providers and make huge profits.\n",
    "\n",
    "\n",
    "They have contracted a consulting company to understand the factors on which the demand for these shared bikes depends. Specifically, they want to understand the factors affecting the demand for these shared bikes in the American market. The company wants to know:\n",
    "\n",
    "Which variables are significant in predicting the demand for shared bikes.\n",
    "How well those variables describe the bike demands\n",
    "Based on various meteorological surveys and people's styles, the service provider firm has gathered a large dataset on daily bike demands across the American market based on some factors. \n",
    "\n",
    "#### Business Goal:\n",
    "\n",
    "We are required to model the demand for shared bikes with the available independent variables. It will be used by the management to understand how exactly the demands vary with different features. They can accordingly manipulate the business strategy to meet the demand levels and meet the customer's expectations. Further, the model will be a good way for management to understand the demand dynamics of a new market. "
   ]
  },
  {
   "cell_type": "markdown",
   "metadata": {
    "papermill": {
     "duration": 0.071555,
     "end_time": "2024-01-25T15:26:53.933484",
     "exception": false,
     "start_time": "2024-01-25T15:26:53.861929",
     "status": "completed"
    },
    "tags": []
   },
   "source": [
    "##  Reading and Understanding the Data\n"
   ]
  },
  {
   "cell_type": "code",
   "execution_count": 1,
   "metadata": {
    "execution": {
     "iopub.execute_input": "2024-01-25T15:26:54.080876Z",
     "iopub.status.busy": "2024-01-25T15:26:54.079827Z",
     "iopub.status.idle": "2024-01-25T15:26:54.084098Z",
     "shell.execute_reply": "2024-01-25T15:26:54.084642Z",
     "shell.execute_reply.started": "2024-01-25T15:09:27.256438Z"
    },
    "papermill": {
     "duration": 0.079348,
     "end_time": "2024-01-25T15:26:54.084836",
     "exception": false,
     "start_time": "2024-01-25T15:26:54.005488",
     "status": "completed"
    },
    "tags": []
   },
   "outputs": [],
   "source": [
    "# Supress Warnings\n",
    "\n",
    "import warnings\n",
    "warnings.filterwarnings('ignore')"
   ]
  },
  {
   "cell_type": "code",
   "execution_count": 2,
   "metadata": {
    "execution": {
     "iopub.execute_input": "2024-01-25T15:26:54.232881Z",
     "iopub.status.busy": "2024-01-25T15:26:54.231782Z",
     "iopub.status.idle": "2024-01-25T15:26:55.239303Z",
     "shell.execute_reply": "2024-01-25T15:26:55.238575Z",
     "shell.execute_reply.started": "2024-01-25T15:09:27.267454Z"
    },
    "papermill": {
     "duration": 1.082008,
     "end_time": "2024-01-25T15:26:55.239448",
     "exception": false,
     "start_time": "2024-01-25T15:26:54.157440",
     "status": "completed"
    },
    "tags": []
   },
   "outputs": [],
   "source": [
    "import numpy as np\n",
    "import pandas as pd\n",
    "import matplotlib.pyplot as plt\n",
    "import seaborn as sns\n",
    "%matplotlib inline"
   ]
  },
  {
   "cell_type": "code",
   "execution_count": 3,
   "metadata": {
    "execution": {
     "iopub.execute_input": "2024-01-25T15:26:55.389471Z",
     "iopub.status.busy": "2024-01-25T15:26:55.388602Z",
     "iopub.status.idle": "2024-01-25T15:26:55.407292Z",
     "shell.execute_reply": "2024-01-25T15:26:55.407855Z",
     "shell.execute_reply.started": "2024-01-25T15:09:27.278345Z"
    },
    "papermill": {
     "duration": 0.097209,
     "end_time": "2024-01-25T15:26:55.408093",
     "exception": false,
     "start_time": "2024-01-25T15:26:55.310884",
     "status": "completed"
    },
    "tags": []
   },
   "outputs": [
    {
     "name": "stdout",
     "output_type": "stream",
     "text": [
      "/kaggle/input/bismillahskripsi/Buleleng-Climate - Full (1).csv\n",
      "/kaggle/input/bike-sharing/day.csv\n"
     ]
    }
   ],
   "source": [
    "import os\n",
    "for dirname, _, filenames in os.walk('/kaggle/input'):\n",
    "    for filename in filenames:\n",
    "        print(os.path.join(dirname, filename))"
   ]
  },
  {
   "cell_type": "code",
   "execution_count": 4,
   "metadata": {
    "execution": {
     "iopub.execute_input": "2024-01-25T15:26:55.554386Z",
     "iopub.status.busy": "2024-01-25T15:26:55.553695Z",
     "iopub.status.idle": "2024-01-25T15:26:55.573334Z",
     "shell.execute_reply": "2024-01-25T15:26:55.572648Z",
     "shell.execute_reply.started": "2024-01-25T15:09:27.291440Z"
    },
    "papermill": {
     "duration": 0.093839,
     "end_time": "2024-01-25T15:26:55.573519",
     "exception": false,
     "start_time": "2024-01-25T15:26:55.479680",
     "status": "completed"
    },
    "tags": []
   },
   "outputs": [],
   "source": [
    "bike = pd.read_csv(\"/kaggle/input/bismillahskripsi/Buleleng-Climate - Full (1).csv\")"
   ]
  },
  {
   "cell_type": "code",
   "execution_count": 5,
   "metadata": {
    "execution": {
     "iopub.execute_input": "2024-01-25T15:26:55.733498Z",
     "iopub.status.busy": "2024-01-25T15:26:55.732603Z",
     "iopub.status.idle": "2024-01-25T15:26:55.762852Z",
     "shell.execute_reply": "2024-01-25T15:26:55.762080Z",
     "shell.execute_reply.started": "2024-01-25T15:09:27.304929Z"
    },
    "papermill": {
     "duration": 0.109599,
     "end_time": "2024-01-25T15:26:55.763039",
     "exception": false,
     "start_time": "2024-01-25T15:26:55.653440",
     "status": "completed"
    },
    "tags": []
   },
   "outputs": [
    {
     "data": {
      "text/html": [
       "<div>\n",
       "<style scoped>\n",
       "    .dataframe tbody tr th:only-of-type {\n",
       "        vertical-align: middle;\n",
       "    }\n",
       "\n",
       "    .dataframe tbody tr th {\n",
       "        vertical-align: top;\n",
       "    }\n",
       "\n",
       "    .dataframe thead th {\n",
       "        text-align: right;\n",
       "    }\n",
       "</style>\n",
       "<table border=\"1\" class=\"dataframe\">\n",
       "  <thead>\n",
       "    <tr style=\"text-align: right;\">\n",
       "      <th></th>\n",
       "      <th>Year</th>\n",
       "      <th>Periode</th>\n",
       "      <th>Produktivitas Mangga</th>\n",
       "      <th>Produktivitas Jeruk</th>\n",
       "      <th>Max</th>\n",
       "      <th>Min</th>\n",
       "      <th>Tavg</th>\n",
       "      <th>Sun Hour</th>\n",
       "      <th>Sun Day</th>\n",
       "      <th>Curah Hujan</th>\n",
       "      <th>Hari Hujan</th>\n",
       "      <th>Kecepatan A</th>\n",
       "      <th>Mx Kec</th>\n",
       "    </tr>\n",
       "  </thead>\n",
       "  <tbody>\n",
       "    <tr>\n",
       "      <th>0</th>\n",
       "      <td>2012</td>\n",
       "      <td>Triwulan I</td>\n",
       "      <td>0.46</td>\n",
       "      <td>0.17</td>\n",
       "      <td>28.0</td>\n",
       "      <td>25.0</td>\n",
       "      <td>26.00</td>\n",
       "      <td>78.7</td>\n",
       "      <td>8</td>\n",
       "      <td>501</td>\n",
       "      <td>83</td>\n",
       "      <td>8.17</td>\n",
       "      <td>13.4</td>\n",
       "    </tr>\n",
       "    <tr>\n",
       "      <th>1</th>\n",
       "      <td>2012</td>\n",
       "      <td>Triwulan II</td>\n",
       "      <td>0.00</td>\n",
       "      <td>0.10</td>\n",
       "      <td>28.0</td>\n",
       "      <td>24.0</td>\n",
       "      <td>26.00</td>\n",
       "      <td>237.7</td>\n",
       "      <td>49</td>\n",
       "      <td>164</td>\n",
       "      <td>42</td>\n",
       "      <td>8.93</td>\n",
       "      <td>14.0</td>\n",
       "    </tr>\n",
       "    <tr>\n",
       "      <th>2</th>\n",
       "      <td>2012</td>\n",
       "      <td>Triwulan III</td>\n",
       "      <td>0.27</td>\n",
       "      <td>0.20</td>\n",
       "      <td>28.0</td>\n",
       "      <td>22.0</td>\n",
       "      <td>24.33</td>\n",
       "      <td>336.3</td>\n",
       "      <td>88</td>\n",
       "      <td>10</td>\n",
       "      <td>4</td>\n",
       "      <td>12.20</td>\n",
       "      <td>17.2</td>\n",
       "    </tr>\n",
       "    <tr>\n",
       "      <th>3</th>\n",
       "      <td>2012</td>\n",
       "      <td>Triwulan IV</td>\n",
       "      <td>0.46</td>\n",
       "      <td>0.11</td>\n",
       "      <td>29.0</td>\n",
       "      <td>25.0</td>\n",
       "      <td>27.00</td>\n",
       "      <td>176.0</td>\n",
       "      <td>24</td>\n",
       "      <td>375</td>\n",
       "      <td>68</td>\n",
       "      <td>7.93</td>\n",
       "      <td>13.6</td>\n",
       "    </tr>\n",
       "    <tr>\n",
       "      <th>4</th>\n",
       "      <td>2013</td>\n",
       "      <td>Triwulan I</td>\n",
       "      <td>0.65</td>\n",
       "      <td>0.16</td>\n",
       "      <td>28.0</td>\n",
       "      <td>25.0</td>\n",
       "      <td>27.00</td>\n",
       "      <td>140.7</td>\n",
       "      <td>20</td>\n",
       "      <td>338</td>\n",
       "      <td>70</td>\n",
       "      <td>7.33</td>\n",
       "      <td>12.0</td>\n",
       "    </tr>\n",
       "  </tbody>\n",
       "</table>\n",
       "</div>"
      ],
      "text/plain": [
       "   Year       Periode  Produktivitas Mangga  Produktivitas Jeruk   Max   Min  \\\n",
       "0  2012    Triwulan I                  0.46                 0.17  28.0  25.0   \n",
       "1  2012   Triwulan II                  0.00                 0.10  28.0  24.0   \n",
       "2  2012  Triwulan III                  0.27                 0.20  28.0  22.0   \n",
       "3  2012   Triwulan IV                  0.46                 0.11  29.0  25.0   \n",
       "4  2013    Triwulan I                  0.65                 0.16  28.0  25.0   \n",
       "\n",
       "    Tavg  Sun Hour  Sun Day  Curah Hujan  Hari Hujan  Kecepatan A  Mx Kec  \n",
       "0  26.00      78.7        8          501          83         8.17    13.4  \n",
       "1  26.00     237.7       49          164          42         8.93    14.0  \n",
       "2  24.33     336.3       88           10           4        12.20    17.2  \n",
       "3  27.00     176.0       24          375          68         7.93    13.6  \n",
       "4  27.00     140.7       20          338          70         7.33    12.0  "
      ]
     },
     "execution_count": 5,
     "metadata": {},
     "output_type": "execute_result"
    }
   ],
   "source": [
    "# Check the head of the dataset\n",
    "bike.head()"
   ]
  },
  {
   "cell_type": "code",
   "execution_count": 6,
   "metadata": {
    "execution": {
     "iopub.execute_input": "2024-01-25T15:26:55.918583Z",
     "iopub.status.busy": "2024-01-25T15:26:55.917848Z",
     "iopub.status.idle": "2024-01-25T15:26:55.928751Z",
     "shell.execute_reply": "2024-01-25T15:26:55.928187Z",
     "shell.execute_reply.started": "2024-01-25T15:09:27.332127Z"
    },
    "papermill": {
     "duration": 0.094178,
     "end_time": "2024-01-25T15:26:55.928885",
     "exception": false,
     "start_time": "2024-01-25T15:26:55.834707",
     "status": "completed"
    },
    "tags": []
   },
   "outputs": [
    {
     "name": "stdout",
     "output_type": "stream",
     "text": [
      "<class 'pandas.core.frame.DataFrame'>\n",
      "RangeIndex: 40 entries, 0 to 39\n",
      "Data columns (total 13 columns):\n",
      " #   Column                Non-Null Count  Dtype  \n",
      "---  ------                --------------  -----  \n",
      " 0   Year                  40 non-null     int64  \n",
      " 1   Periode               40 non-null     object \n",
      " 2   Produktivitas Mangga  40 non-null     float64\n",
      " 3   Produktivitas Jeruk   40 non-null     float64\n",
      " 4   Max                   40 non-null     float64\n",
      " 5   Min                   40 non-null     float64\n",
      " 6   Tavg                  40 non-null     float64\n",
      " 7   Sun Hour              40 non-null     float64\n",
      " 8   Sun Day               40 non-null     int64  \n",
      " 9   Curah Hujan           40 non-null     int64  \n",
      " 10  Hari Hujan            40 non-null     int64  \n",
      " 11  Kecepatan A           40 non-null     float64\n",
      " 12  Mx Kec                40 non-null     float64\n",
      "dtypes: float64(8), int64(4), object(1)\n",
      "memory usage: 4.2+ KB\n"
     ]
    }
   ],
   "source": [
    "# Check the descriptive information\n",
    "bike.info()"
   ]
  },
  {
   "cell_type": "code",
   "execution_count": 7,
   "metadata": {
    "execution": {
     "iopub.execute_input": "2024-01-25T15:26:56.094871Z",
     "iopub.status.busy": "2024-01-25T15:26:56.094129Z",
     "iopub.status.idle": "2024-01-25T15:26:56.145948Z",
     "shell.execute_reply": "2024-01-25T15:26:56.145320Z",
     "shell.execute_reply.started": "2024-01-25T15:09:27.347376Z"
    },
    "papermill": {
     "duration": 0.142974,
     "end_time": "2024-01-25T15:26:56.146142",
     "exception": false,
     "start_time": "2024-01-25T15:26:56.003168",
     "status": "completed"
    },
    "tags": []
   },
   "outputs": [
    {
     "data": {
      "text/html": [
       "<div>\n",
       "<style scoped>\n",
       "    .dataframe tbody tr th:only-of-type {\n",
       "        vertical-align: middle;\n",
       "    }\n",
       "\n",
       "    .dataframe tbody tr th {\n",
       "        vertical-align: top;\n",
       "    }\n",
       "\n",
       "    .dataframe thead th {\n",
       "        text-align: right;\n",
       "    }\n",
       "</style>\n",
       "<table border=\"1\" class=\"dataframe\">\n",
       "  <thead>\n",
       "    <tr style=\"text-align: right;\">\n",
       "      <th></th>\n",
       "      <th>Year</th>\n",
       "      <th>Produktivitas Mangga</th>\n",
       "      <th>Produktivitas Jeruk</th>\n",
       "      <th>Max</th>\n",
       "      <th>Min</th>\n",
       "      <th>Tavg</th>\n",
       "      <th>Sun Hour</th>\n",
       "      <th>Sun Day</th>\n",
       "      <th>Curah Hujan</th>\n",
       "      <th>Hari Hujan</th>\n",
       "      <th>Kecepatan A</th>\n",
       "      <th>Mx Kec</th>\n",
       "    </tr>\n",
       "  </thead>\n",
       "  <tbody>\n",
       "    <tr>\n",
       "      <th>count</th>\n",
       "      <td>40.000000</td>\n",
       "      <td>40.0000</td>\n",
       "      <td>40.000000</td>\n",
       "      <td>40.000000</td>\n",
       "      <td>40.000000</td>\n",
       "      <td>40.000000</td>\n",
       "      <td>40.000000</td>\n",
       "      <td>40.00000</td>\n",
       "      <td>40.000000</td>\n",
       "      <td>40.000000</td>\n",
       "      <td>40.000000</td>\n",
       "      <td>40.00000</td>\n",
       "    </tr>\n",
       "    <tr>\n",
       "      <th>mean</th>\n",
       "      <td>2016.500000</td>\n",
       "      <td>0.4385</td>\n",
       "      <td>0.188500</td>\n",
       "      <td>29.175000</td>\n",
       "      <td>24.700000</td>\n",
       "      <td>26.683500</td>\n",
       "      <td>191.615000</td>\n",
       "      <td>40.05000</td>\n",
       "      <td>296.975000</td>\n",
       "      <td>63.725000</td>\n",
       "      <td>7.432500</td>\n",
       "      <td>11.94000</td>\n",
       "    </tr>\n",
       "    <tr>\n",
       "      <th>std</th>\n",
       "      <td>2.908872</td>\n",
       "      <td>0.2978</td>\n",
       "      <td>0.174922</td>\n",
       "      <td>0.930605</td>\n",
       "      <td>0.992278</td>\n",
       "      <td>1.010064</td>\n",
       "      <td>78.482399</td>\n",
       "      <td>25.66645</td>\n",
       "      <td>345.464421</td>\n",
       "      <td>67.614665</td>\n",
       "      <td>1.631161</td>\n",
       "      <td>2.36706</td>\n",
       "    </tr>\n",
       "    <tr>\n",
       "      <th>min</th>\n",
       "      <td>2012.000000</td>\n",
       "      <td>0.0000</td>\n",
       "      <td>0.000000</td>\n",
       "      <td>28.000000</td>\n",
       "      <td>22.000000</td>\n",
       "      <td>24.330000</td>\n",
       "      <td>30.000000</td>\n",
       "      <td>6.00000</td>\n",
       "      <td>4.000000</td>\n",
       "      <td>4.000000</td>\n",
       "      <td>5.170000</td>\n",
       "      <td>7.90000</td>\n",
       "    </tr>\n",
       "    <tr>\n",
       "      <th>25%</th>\n",
       "      <td>2014.000000</td>\n",
       "      <td>0.2550</td>\n",
       "      <td>0.100000</td>\n",
       "      <td>28.000000</td>\n",
       "      <td>24.000000</td>\n",
       "      <td>26.000000</td>\n",
       "      <td>137.025000</td>\n",
       "      <td>20.00000</td>\n",
       "      <td>93.750000</td>\n",
       "      <td>30.250000</td>\n",
       "      <td>6.322500</td>\n",
       "      <td>10.27500</td>\n",
       "    </tr>\n",
       "    <tr>\n",
       "      <th>50%</th>\n",
       "      <td>2016.500000</td>\n",
       "      <td>0.4900</td>\n",
       "      <td>0.160000</td>\n",
       "      <td>29.000000</td>\n",
       "      <td>25.000000</td>\n",
       "      <td>26.835000</td>\n",
       "      <td>182.000000</td>\n",
       "      <td>29.50000</td>\n",
       "      <td>246.500000</td>\n",
       "      <td>51.500000</td>\n",
       "      <td>7.120000</td>\n",
       "      <td>12.05000</td>\n",
       "    </tr>\n",
       "    <tr>\n",
       "      <th>75%</th>\n",
       "      <td>2019.000000</td>\n",
       "      <td>0.5900</td>\n",
       "      <td>0.242500</td>\n",
       "      <td>30.000000</td>\n",
       "      <td>25.000000</td>\n",
       "      <td>27.670000</td>\n",
       "      <td>239.450000</td>\n",
       "      <td>57.00000</td>\n",
       "      <td>385.750000</td>\n",
       "      <td>69.250000</td>\n",
       "      <td>8.117500</td>\n",
       "      <td>13.67500</td>\n",
       "    </tr>\n",
       "    <tr>\n",
       "      <th>max</th>\n",
       "      <td>2021.000000</td>\n",
       "      <td>1.3700</td>\n",
       "      <td>0.850000</td>\n",
       "      <td>31.000000</td>\n",
       "      <td>26.000000</td>\n",
       "      <td>28.330000</td>\n",
       "      <td>336.300000</td>\n",
       "      <td>88.00000</td>\n",
       "      <td>2008.000000</td>\n",
       "      <td>385.000000</td>\n",
       "      <td>12.200000</td>\n",
       "      <td>17.20000</td>\n",
       "    </tr>\n",
       "  </tbody>\n",
       "</table>\n",
       "</div>"
      ],
      "text/plain": [
       "              Year  Produktivitas Mangga  Produktivitas Jeruk        Max  \\\n",
       "count    40.000000               40.0000            40.000000  40.000000   \n",
       "mean   2016.500000                0.4385             0.188500  29.175000   \n",
       "std       2.908872                0.2978             0.174922   0.930605   \n",
       "min    2012.000000                0.0000             0.000000  28.000000   \n",
       "25%    2014.000000                0.2550             0.100000  28.000000   \n",
       "50%    2016.500000                0.4900             0.160000  29.000000   \n",
       "75%    2019.000000                0.5900             0.242500  30.000000   \n",
       "max    2021.000000                1.3700             0.850000  31.000000   \n",
       "\n",
       "             Min       Tavg    Sun Hour   Sun Day  Curah Hujan  Hari Hujan  \\\n",
       "count  40.000000  40.000000   40.000000  40.00000    40.000000   40.000000   \n",
       "mean   24.700000  26.683500  191.615000  40.05000   296.975000   63.725000   \n",
       "std     0.992278   1.010064   78.482399  25.66645   345.464421   67.614665   \n",
       "min    22.000000  24.330000   30.000000   6.00000     4.000000    4.000000   \n",
       "25%    24.000000  26.000000  137.025000  20.00000    93.750000   30.250000   \n",
       "50%    25.000000  26.835000  182.000000  29.50000   246.500000   51.500000   \n",
       "75%    25.000000  27.670000  239.450000  57.00000   385.750000   69.250000   \n",
       "max    26.000000  28.330000  336.300000  88.00000  2008.000000  385.000000   \n",
       "\n",
       "       Kecepatan A    Mx Kec  \n",
       "count    40.000000  40.00000  \n",
       "mean      7.432500  11.94000  \n",
       "std       1.631161   2.36706  \n",
       "min       5.170000   7.90000  \n",
       "25%       6.322500  10.27500  \n",
       "50%       7.120000  12.05000  \n",
       "75%       8.117500  13.67500  \n",
       "max      12.200000  17.20000  "
      ]
     },
     "execution_count": 7,
     "metadata": {},
     "output_type": "execute_result"
    }
   ],
   "source": [
    "bike.describe()"
   ]
  },
  {
   "cell_type": "code",
   "execution_count": 8,
   "metadata": {
    "execution": {
     "iopub.execute_input": "2024-01-25T15:26:56.311166Z",
     "iopub.status.busy": "2024-01-25T15:26:56.310171Z",
     "iopub.status.idle": "2024-01-25T15:26:56.313507Z",
     "shell.execute_reply": "2024-01-25T15:26:56.314095Z",
     "shell.execute_reply.started": "2024-01-25T15:09:27.405256Z"
    },
    "papermill": {
     "duration": 0.090655,
     "end_time": "2024-01-25T15:26:56.314297",
     "exception": false,
     "start_time": "2024-01-25T15:26:56.223642",
     "status": "completed"
    },
    "tags": []
   },
   "outputs": [
    {
     "name": "stdout",
     "output_type": "stream",
     "text": [
      "(40, 13)\n"
     ]
    }
   ],
   "source": [
    "# Check the shape of df\n",
    "\n",
    "print(bike.shape)"
   ]
  },
  {
   "cell_type": "markdown",
   "metadata": {
    "papermill": {
     "duration": 0.074606,
     "end_time": "2024-01-25T15:26:56.475927",
     "exception": false,
     "start_time": "2024-01-25T15:26:56.401321",
     "status": "completed"
    },
    "tags": []
   },
   "source": [
    "## Finding : \n",
    "Dataset has 40 rows and 13 columns.\n",
    "\n",
    "variable 'Sun day', 'Curah Hujan', 'Hari hujan' berbentuk *int* untuk variable 'Periode' berupa **string**\n",
    "\n",
    "Selain itu, semua variable berupa **float**"
   ]
  },
  {
   "cell_type": "markdown",
   "metadata": {
    "papermill": {
     "duration": 0.095819,
     "end_time": "2024-01-25T15:26:56.648581",
     "exception": false,
     "start_time": "2024-01-25T15:26:56.552762",
     "status": "completed"
    },
    "tags": []
   },
   "source": [
    "# DATA QUALITY CHECK"
   ]
  },
  {
   "cell_type": "markdown",
   "metadata": {
    "papermill": {
     "duration": 0.073399,
     "end_time": "2024-01-25T15:26:56.817481",
     "exception": false,
     "start_time": "2024-01-25T15:26:56.744082",
     "status": "completed"
    },
    "tags": []
   },
   "source": [
    "## Check for NULL/MISSING values"
   ]
  },
  {
   "cell_type": "code",
   "execution_count": 9,
   "metadata": {
    "execution": {
     "iopub.execute_input": "2024-01-25T15:26:56.979888Z",
     "iopub.status.busy": "2024-01-25T15:26:56.978679Z",
     "iopub.status.idle": "2024-01-25T15:26:57.012135Z",
     "shell.execute_reply": "2024-01-25T15:26:57.012962Z",
     "shell.execute_reply.started": "2024-01-25T15:09:27.412970Z"
    },
    "papermill": {
     "duration": 0.121126,
     "end_time": "2024-01-25T15:26:57.013205",
     "exception": false,
     "start_time": "2024-01-25T15:26:56.892079",
     "status": "completed"
    },
    "tags": []
   },
   "outputs": [
    {
     "data": {
      "text/plain": [
       "Mx Kec                  0.0\n",
       "Kecepatan A             0.0\n",
       "Hari Hujan              0.0\n",
       "Curah Hujan             0.0\n",
       "Sun Day                 0.0\n",
       "Sun Hour                0.0\n",
       "Tavg                    0.0\n",
       "Min                     0.0\n",
       "Max                     0.0\n",
       "Produktivitas Jeruk     0.0\n",
       "Produktivitas Mangga    0.0\n",
       "Periode                 0.0\n",
       "Year                    0.0\n",
       "dtype: float64"
      ]
     },
     "execution_count": 9,
     "metadata": {},
     "output_type": "execute_result"
    }
   ],
   "source": [
    "# percentage of missing values in each column\n",
    "round(100*(bike.isnull().sum()/len(bike)), 2).sort_values(ascending=False)"
   ]
  },
  {
   "cell_type": "code",
   "execution_count": 10,
   "metadata": {
    "execution": {
     "iopub.execute_input": "2024-01-25T15:26:57.173420Z",
     "iopub.status.busy": "2024-01-25T15:26:57.172373Z",
     "iopub.status.idle": "2024-01-25T15:26:57.183858Z",
     "shell.execute_reply": "2024-01-25T15:26:57.184484Z",
     "shell.execute_reply.started": "2024-01-25T15:09:27.433356Z"
    },
    "papermill": {
     "duration": 0.091198,
     "end_time": "2024-01-25T15:26:57.184644",
     "exception": false,
     "start_time": "2024-01-25T15:26:57.093446",
     "status": "completed"
    },
    "tags": []
   },
   "outputs": [
    {
     "data": {
      "text/plain": [
       "39    0.0\n",
       "38    0.0\n",
       "17    0.0\n",
       "16    0.0\n",
       "15    0.0\n",
       "14    0.0\n",
       "13    0.0\n",
       "12    0.0\n",
       "11    0.0\n",
       "10    0.0\n",
       "9     0.0\n",
       "8     0.0\n",
       "7     0.0\n",
       "6     0.0\n",
       "5     0.0\n",
       "4     0.0\n",
       "3     0.0\n",
       "2     0.0\n",
       "1     0.0\n",
       "18    0.0\n",
       "19    0.0\n",
       "20    0.0\n",
       "30    0.0\n",
       "37    0.0\n",
       "36    0.0\n",
       "35    0.0\n",
       "34    0.0\n",
       "33    0.0\n",
       "32    0.0\n",
       "31    0.0\n",
       "29    0.0\n",
       "21    0.0\n",
       "28    0.0\n",
       "27    0.0\n",
       "26    0.0\n",
       "25    0.0\n",
       "24    0.0\n",
       "23    0.0\n",
       "22    0.0\n",
       "0     0.0\n",
       "dtype: float64"
      ]
     },
     "execution_count": 10,
     "metadata": {},
     "output_type": "execute_result"
    }
   ],
   "source": [
    "# row-wise null count percentage\n",
    "round((bike.isnull().sum(axis=1)/len(bike))*100,2).sort_values(ascending=False)"
   ]
  },
  {
   "cell_type": "markdown",
   "metadata": {
    "papermill": {
     "duration": 0.074977,
     "end_time": "2024-01-25T15:26:57.333500",
     "exception": false,
     "start_time": "2024-01-25T15:26:57.258523",
     "status": "completed"
    },
    "tags": []
   },
   "source": [
    "## Finding\n",
    "There are no missing / Null values either in columns or rows"
   ]
  },
  {
   "cell_type": "markdown",
   "metadata": {
    "papermill": {
     "duration": 0.073746,
     "end_time": "2024-01-25T15:26:57.494583",
     "exception": false,
     "start_time": "2024-01-25T15:26:57.420837",
     "status": "completed"
    },
    "tags": []
   },
   "source": [
    "## Duplicate Check"
   ]
  },
  {
   "cell_type": "code",
   "execution_count": 11,
   "metadata": {
    "execution": {
     "iopub.execute_input": "2024-01-25T15:26:57.703932Z",
     "iopub.status.busy": "2024-01-25T15:26:57.702563Z",
     "iopub.status.idle": "2024-01-25T15:26:57.716908Z",
     "shell.execute_reply": "2024-01-25T15:26:57.717549Z",
     "shell.execute_reply.started": "2024-01-25T15:09:27.450737Z"
    },
    "papermill": {
     "duration": 0.148304,
     "end_time": "2024-01-25T15:26:57.717712",
     "exception": false,
     "start_time": "2024-01-25T15:26:57.569408",
     "status": "completed"
    },
    "tags": []
   },
   "outputs": [],
   "source": [
    "bike_dup = bike.copy()\n",
    "\n",
    "# Checking for duplicates and dropping the entire duplicate row if any\n",
    "bike_dup.drop_duplicates(subset=None, inplace=True)"
   ]
  },
  {
   "cell_type": "code",
   "execution_count": 12,
   "metadata": {
    "execution": {
     "iopub.execute_input": "2024-01-25T15:26:57.872659Z",
     "iopub.status.busy": "2024-01-25T15:26:57.871605Z",
     "iopub.status.idle": "2024-01-25T15:26:57.879165Z",
     "shell.execute_reply": "2024-01-25T15:26:57.878500Z",
     "shell.execute_reply.started": "2024-01-25T15:09:27.467766Z"
    },
    "papermill": {
     "duration": 0.086779,
     "end_time": "2024-01-25T15:26:57.879319",
     "exception": false,
     "start_time": "2024-01-25T15:26:57.792540",
     "status": "completed"
    },
    "tags": []
   },
   "outputs": [
    {
     "data": {
      "text/plain": [
       "(40, 13)"
      ]
     },
     "execution_count": 12,
     "metadata": {},
     "output_type": "execute_result"
    }
   ],
   "source": [
    "bike_dup.shape"
   ]
  },
  {
   "cell_type": "code",
   "execution_count": 13,
   "metadata": {
    "execution": {
     "iopub.execute_input": "2024-01-25T15:26:58.035728Z",
     "iopub.status.busy": "2024-01-25T15:26:58.034898Z",
     "iopub.status.idle": "2024-01-25T15:26:58.038394Z",
     "shell.execute_reply": "2024-01-25T15:26:58.038968Z",
     "shell.execute_reply.started": "2024-01-25T15:09:27.479858Z"
    },
    "papermill": {
     "duration": 0.084004,
     "end_time": "2024-01-25T15:26:58.039149",
     "exception": false,
     "start_time": "2024-01-25T15:26:57.955145",
     "status": "completed"
    },
    "tags": []
   },
   "outputs": [
    {
     "data": {
      "text/plain": [
       "(40, 13)"
      ]
     },
     "execution_count": 13,
     "metadata": {},
     "output_type": "execute_result"
    }
   ],
   "source": [
    "bike.shape"
   ]
  },
  {
   "cell_type": "markdown",
   "metadata": {
    "papermill": {
     "duration": 0.076895,
     "end_time": "2024-01-25T15:26:58.194142",
     "exception": false,
     "start_time": "2024-01-25T15:26:58.117247",
     "status": "completed"
    },
    "tags": []
   },
   "source": [
    "### Insights \n",
    "\n",
    "The shape after running the drop duplicate command is same as the original dataframe. \n",
    "\n",
    "Hence we can conclude that there were zero duplicate values in the dataset. "
   ]
  },
  {
   "cell_type": "markdown",
   "metadata": {
    "papermill": {
     "duration": 0.073991,
     "end_time": "2024-01-25T15:26:58.342543",
     "exception": false,
     "start_time": "2024-01-25T15:26:58.268552",
     "status": "completed"
    },
    "tags": []
   },
   "source": [
    "## Data Cleaning\n",
    "\n",
    "Checking value_counts() for entire dataframe. \n",
    "\n",
    "This will help to identify any Unknow/Junk values present in the dataset."
   ]
  },
  {
   "cell_type": "code",
   "execution_count": 14,
   "metadata": {
    "execution": {
     "iopub.execute_input": "2024-01-25T15:26:58.499048Z",
     "iopub.status.busy": "2024-01-25T15:26:58.498312Z",
     "iopub.status.idle": "2024-01-25T15:26:58.501576Z",
     "shell.execute_reply": "2024-01-25T15:26:58.502067Z",
     "shell.execute_reply.started": "2024-01-25T15:09:27.492099Z"
    },
    "papermill": {
     "duration": 0.08536,
     "end_time": "2024-01-25T15:26:58.502232",
     "exception": false,
     "start_time": "2024-01-25T15:26:58.416872",
     "status": "completed"
    },
    "tags": []
   },
   "outputs": [],
   "source": [
    "#Create a copy of the  dataframe, without the 'instant' column, \n",
    "\n",
    "#as this will have unique values, and donot make sense to do a value count on it.\n",
    "\n",
    "bike_dummy=bike.iloc[:,1:16]"
   ]
  },
  {
   "cell_type": "code",
   "execution_count": 15,
   "metadata": {
    "execution": {
     "iopub.execute_input": "2024-01-25T15:26:58.656498Z",
     "iopub.status.busy": "2024-01-25T15:26:58.655705Z",
     "iopub.status.idle": "2024-01-25T15:26:58.694529Z",
     "shell.execute_reply": "2024-01-25T15:26:58.693715Z",
     "shell.execute_reply.started": "2024-01-25T15:09:27.504016Z"
    },
    "papermill": {
     "duration": 0.117285,
     "end_time": "2024-01-25T15:26:58.694673",
     "exception": false,
     "start_time": "2024-01-25T15:26:58.577388",
     "status": "completed"
    },
    "tags": []
   },
   "outputs": [
    {
     "name": "stdout",
     "output_type": "stream",
     "text": [
      "Triwulan IV     10\n",
      "Triwulan III    10\n",
      "Triwulan II     10\n",
      "Triwulan I      10\n",
      "Name: Periode, dtype: int64 \n",
      "\n",
      "\n",
      "\n",
      "0.00    8\n",
      "0.65    3\n",
      "0.50    2\n",
      "0.59    2\n",
      "0.47    2\n",
      "0.46    2\n",
      "0.53    1\n",
      "0.68    1\n",
      "0.67    1\n",
      "0.54    1\n",
      "0.52    1\n",
      "0.24    1\n",
      "0.44    1\n",
      "0.70    1\n",
      "0.55    1\n",
      "0.71    1\n",
      "1.37    1\n",
      "0.26    1\n",
      "0.58    1\n",
      "0.48    1\n",
      "0.37    1\n",
      "0.51    1\n",
      "0.23    1\n",
      "0.56    1\n",
      "0.30    1\n",
      "1.04    1\n",
      "0.27    1\n",
      "Name: Produktivitas Mangga, dtype: int64 \n",
      "\n",
      "\n",
      "\n",
      "0.00    7\n",
      "0.10    5\n",
      "0.25    3\n",
      "0.16    3\n",
      "0.26    2\n",
      "0.15    2\n",
      "0.18    2\n",
      "0.11    2\n",
      "0.13    1\n",
      "0.12    1\n",
      "0.22    1\n",
      "0.19    1\n",
      "0.31    1\n",
      "0.24    1\n",
      "0.47    1\n",
      "0.85    1\n",
      "0.50    1\n",
      "0.17    1\n",
      "0.66    1\n",
      "0.21    1\n",
      "0.14    1\n",
      "0.20    1\n",
      "Name: Produktivitas Jeruk, dtype: int64 \n",
      "\n",
      "\n",
      "\n",
      "30.0    15\n",
      "28.0    12\n",
      "29.0    11\n",
      "31.0     2\n",
      "Name: Max, dtype: int64 \n",
      "\n",
      "\n",
      "\n",
      "25.0    15\n",
      "24.0    12\n",
      "26.0     9\n",
      "23.0     3\n",
      "22.0     1\n",
      "Name: Min, dtype: int64 \n",
      "\n",
      "\n",
      "\n",
      "27.00    6\n",
      "27.67    5\n",
      "28.00    5\n",
      "26.00    5\n",
      "25.67    4\n",
      "26.33    3\n",
      "26.67    3\n",
      "27.33    3\n",
      "25.00    2\n",
      "25.33    2\n",
      "24.33    1\n",
      "28.33    1\n",
      "Name: Tavg, dtype: int64 \n",
      "\n",
      "\n",
      "\n",
      "302.0    2\n",
      "225.7    2\n",
      "179.3    1\n",
      "214.3    1\n",
      "162.3    1\n",
      "306.3    1\n",
      "30.0     1\n",
      "234.3    1\n",
      "221.0    1\n",
      "111.0    1\n",
      "47.0     1\n",
      "130.3    1\n",
      "320.0    1\n",
      "166.0    1\n",
      "297.3    1\n",
      "135.0    1\n",
      "156.0    1\n",
      "187.0    1\n",
      "237.7    1\n",
      "140.7    1\n",
      "83.7     1\n",
      "184.7    1\n",
      "336.3    1\n",
      "236.3    1\n",
      "133.7    1\n",
      "121.3    1\n",
      "141.3    1\n",
      "244.7    1\n",
      "316.3    1\n",
      "78.7     1\n",
      "254.7    1\n",
      "168.3    1\n",
      "209.7    1\n",
      "102.7    1\n",
      "269.3    1\n",
      "137.7    1\n",
      "138.3    1\n",
      "176.0    1\n",
      "Name: Sun Hour, dtype: int64 \n",
      "\n",
      "\n",
      "\n",
      "24    4\n",
      "83    3\n",
      "33    2\n",
      "46    2\n",
      "25    2\n",
      "45    2\n",
      "20    2\n",
      "10    1\n",
      "8     1\n",
      "18    1\n",
      "75    1\n",
      "7     1\n",
      "13    1\n",
      "6     1\n",
      "14    1\n",
      "79    1\n",
      "17    1\n",
      "70    1\n",
      "23    1\n",
      "19    1\n",
      "22    1\n",
      "71    1\n",
      "88    1\n",
      "26    1\n",
      "81    1\n",
      "49    1\n",
      "50    1\n",
      "53    1\n",
      "54    1\n",
      "66    1\n",
      "Name: Sun Day, dtype: int64 \n",
      "\n",
      "\n",
      "\n",
      "20      2\n",
      "319     1\n",
      "152     1\n",
      "214     1\n",
      "405     1\n",
      "84      1\n",
      "2008    1\n",
      "338     1\n",
      "640     1\n",
      "400     1\n",
      "143     1\n",
      "289     1\n",
      "268     1\n",
      "10      1\n",
      "22      1\n",
      "136     1\n",
      "74      1\n",
      "133     1\n",
      "4       1\n",
      "279     1\n",
      "391     1\n",
      "444     1\n",
      "1053    1\n",
      "375     1\n",
      "54      1\n",
      "501     1\n",
      "216     1\n",
      "177     1\n",
      "437     1\n",
      "302     1\n",
      "12      1\n",
      "300     1\n",
      "295     1\n",
      "97      1\n",
      "164     1\n",
      "46      1\n",
      "384     1\n",
      "225     1\n",
      "448     1\n",
      "Name: Curah Hujan, dtype: int64 \n",
      "\n",
      "\n",
      "\n",
      "67     4\n",
      "41     3\n",
      "45     2\n",
      "47     2\n",
      "68     2\n",
      "9      2\n",
      "25     2\n",
      "59     1\n",
      "11     1\n",
      "10     1\n",
      "69     1\n",
      "72     1\n",
      "70     1\n",
      "80     1\n",
      "4      1\n",
      "66     1\n",
      "78     1\n",
      "84     1\n",
      "17     1\n",
      "83     1\n",
      "249    1\n",
      "85     1\n",
      "22     1\n",
      "154    1\n",
      "32     1\n",
      "37     1\n",
      "42     1\n",
      "5      1\n",
      "56     1\n",
      "385    1\n",
      "Name: Hari Hujan, dtype: int64 \n",
      "\n",
      "\n",
      "\n",
      "7.57     2\n",
      "7.93     2\n",
      "7.60     2\n",
      "6.67     1\n",
      "8.57     1\n",
      "6.40     1\n",
      "12.20    1\n",
      "6.33     1\n",
      "8.83     1\n",
      "8.17     1\n",
      "6.17     1\n",
      "6.87     1\n",
      "7.07     1\n",
      "8.93     1\n",
      "7.03     1\n",
      "6.77     1\n",
      "6.47     1\n",
      "9.50     1\n",
      "10.73    1\n",
      "5.67     1\n",
      "9.77     1\n",
      "8.40     1\n",
      "6.27     1\n",
      "6.57     1\n",
      "5.30     1\n",
      "11.43    1\n",
      "6.30     1\n",
      "5.17     1\n",
      "8.10     1\n",
      "5.47     1\n",
      "7.77     1\n",
      "7.33     1\n",
      "5.53     1\n",
      "7.17     1\n",
      "5.57     1\n",
      "6.07     1\n",
      "6.50     1\n",
      "Name: Kecepatan A, dtype: int64 \n",
      "\n",
      "\n",
      "\n",
      "14.8    3\n",
      "10.8    2\n",
      "10.4    2\n",
      "10.3    2\n",
      "12.7    2\n",
      "12.9    2\n",
      "10.5    1\n",
      "16.5    1\n",
      "14.5    1\n",
      "13.9    1\n",
      "15.2    1\n",
      "12.0    1\n",
      "9.1     1\n",
      "9.8     1\n",
      "13.3    1\n",
      "8.6     1\n",
      "8.4     1\n",
      "12.3    1\n",
      "9.5     1\n",
      "14.6    1\n",
      "10.2    1\n",
      "12.6    1\n",
      "11.3    1\n",
      "11.2    1\n",
      "9.7     1\n",
      "8.2     1\n",
      "17.2    1\n",
      "13.4    1\n",
      "9.4     1\n",
      "7.9     1\n",
      "13.6    1\n",
      "12.1    1\n",
      "14.0    1\n",
      "Name: Mx Kec, dtype: int64 \n",
      "\n",
      "\n",
      "\n"
     ]
    }
   ],
   "source": [
    "for col in bike_dummy:\n",
    "    print(bike_dummy[col].value_counts(ascending=False), '\\n\\n\\n')"
   ]
  },
  {
   "cell_type": "markdown",
   "metadata": {
    "papermill": {
     "duration": 0.075033,
     "end_time": "2024-01-25T15:26:58.845425",
     "exception": false,
     "start_time": "2024-01-25T15:26:58.770392",
     "status": "completed"
    },
    "tags": []
   },
   "source": [
    "### Insights \n",
    "There seems to be no Junk/Unknown values in the entire dataset."
   ]
  },
  {
   "cell_type": "markdown",
   "metadata": {
    "papermill": {
     "duration": 0.075263,
     "end_time": "2024-01-25T15:26:58.996471",
     "exception": false,
     "start_time": "2024-01-25T15:26:58.921208",
     "status": "completed"
    },
    "tags": []
   },
   "source": [
    "# Removing redundant & unwanted columns"
   ]
  },
  {
   "cell_type": "markdown",
   "metadata": {
    "papermill": {
     "duration": 0.074655,
     "end_time": "2024-01-25T15:26:59.146676",
     "exception": false,
     "start_time": "2024-01-25T15:26:59.072021",
     "status": "completed"
    },
    "tags": []
   },
   "source": [
    "Based on the high level look at the data and the data dictionary, the following variables can be removed from further analysis:\n",
    "\n",
    "1. **instant** : Its only an index value\n",
    "\n",
    "2. **dteday** : This has the date, Since we already have seperate columns for 'year' & 'month',hence, we could live without this column. \n",
    "\n",
    "3.  **casual & registered** : Both these columns contains the count of bike booked by different categories of customers.\n",
    "Since our objective is to find the total count of bikes and not by specific category, we will ignore these two columns.\n",
    "More over, we have created a new variable to have the ratio of these customer types.\n",
    "\n",
    "4.  We will save the new dataframe as bike_new, so that the original dataset is preserved for any future analysis/validation"
   ]
  },
  {
   "cell_type": "code",
   "execution_count": 16,
   "metadata": {
    "execution": {
     "iopub.execute_input": "2024-01-25T15:26:59.304118Z",
     "iopub.status.busy": "2024-01-25T15:26:59.303363Z",
     "iopub.status.idle": "2024-01-25T15:26:59.309971Z",
     "shell.execute_reply": "2024-01-25T15:26:59.309342Z",
     "shell.execute_reply.started": "2024-01-25T15:09:27.547388Z"
    },
    "papermill": {
     "duration": 0.087639,
     "end_time": "2024-01-25T15:26:59.310139",
     "exception": false,
     "start_time": "2024-01-25T15:26:59.222500",
     "status": "completed"
    },
    "tags": []
   },
   "outputs": [
    {
     "data": {
      "text/plain": [
       "Index(['Year', 'Periode', 'Produktivitas Mangga', 'Produktivitas Jeruk', 'Max',\n",
       "       'Min', 'Tavg', 'Sun Hour', 'Sun Day', 'Curah Hujan', 'Hari Hujan',\n",
       "       'Kecepatan A', 'Mx Kec'],\n",
       "      dtype='object')"
      ]
     },
     "execution_count": 16,
     "metadata": {},
     "output_type": "execute_result"
    }
   ],
   "source": [
    "bike.columns"
   ]
  },
  {
   "cell_type": "code",
   "execution_count": 17,
   "metadata": {
    "execution": {
     "iopub.execute_input": "2024-01-25T15:26:59.471420Z",
     "iopub.status.busy": "2024-01-25T15:26:59.470692Z",
     "iopub.status.idle": "2024-01-25T15:26:59.473593Z",
     "shell.execute_reply": "2024-01-25T15:26:59.474118Z",
     "shell.execute_reply.started": "2024-01-25T15:09:27.556107Z"
    },
    "papermill": {
     "duration": 0.087579,
     "end_time": "2024-01-25T15:26:59.474280",
     "exception": false,
     "start_time": "2024-01-25T15:26:59.386701",
     "status": "completed"
    },
    "tags": []
   },
   "outputs": [],
   "source": [
    "bike_new=bike[['Year', 'Periode','Produktivitas Jeruk', 'Curah Hujan',\n",
    "       'Hari Hujan']]\n"
   ]
  },
  {
   "cell_type": "code",
   "execution_count": 18,
   "metadata": {
    "execution": {
     "iopub.execute_input": "2024-01-25T15:26:59.638306Z",
     "iopub.status.busy": "2024-01-25T15:26:59.637272Z",
     "iopub.status.idle": "2024-01-25T15:26:59.641241Z",
     "shell.execute_reply": "2024-01-25T15:26:59.640590Z",
     "shell.execute_reply.started": "2024-01-25T15:09:27.567585Z"
    },
    "papermill": {
     "duration": 0.089963,
     "end_time": "2024-01-25T15:26:59.641370",
     "exception": false,
     "start_time": "2024-01-25T15:26:59.551407",
     "status": "completed"
    },
    "tags": []
   },
   "outputs": [],
   "source": [
    "bike_new_new=bike[['Produktivitas Jeruk', 'Curah Hujan',\n",
    "       'Hari Hujan']]"
   ]
  },
  {
   "cell_type": "code",
   "execution_count": 19,
   "metadata": {
    "execution": {
     "iopub.execute_input": "2024-01-25T15:26:59.804750Z",
     "iopub.status.busy": "2024-01-25T15:26:59.803892Z",
     "iopub.status.idle": "2024-01-25T15:26:59.809453Z",
     "shell.execute_reply": "2024-01-25T15:26:59.808802Z",
     "shell.execute_reply.started": "2024-01-25T15:09:27.581188Z"
    },
    "papermill": {
     "duration": 0.090875,
     "end_time": "2024-01-25T15:26:59.809624",
     "exception": false,
     "start_time": "2024-01-25T15:26:59.718749",
     "status": "completed"
    },
    "tags": []
   },
   "outputs": [
    {
     "name": "stdout",
     "output_type": "stream",
     "text": [
      "<class 'pandas.core.frame.DataFrame'>\n",
      "RangeIndex: 40 entries, 0 to 39\n",
      "Data columns (total 5 columns):\n",
      " #   Column               Non-Null Count  Dtype  \n",
      "---  ------               --------------  -----  \n",
      " 0   Year                 40 non-null     int64  \n",
      " 1   Periode              40 non-null     object \n",
      " 2   Produktivitas Jeruk  40 non-null     float64\n",
      " 3   Curah Hujan          40 non-null     int64  \n",
      " 4   Hari Hujan           40 non-null     int64  \n",
      "dtypes: float64(1), int64(3), object(1)\n",
      "memory usage: 1.7+ KB\n"
     ]
    }
   ],
   "source": [
    "bike_new.info()"
   ]
  },
  {
   "cell_type": "code",
   "execution_count": 20,
   "metadata": {
    "execution": {
     "iopub.execute_input": "2024-01-25T15:26:59.972634Z",
     "iopub.status.busy": "2024-01-25T15:26:59.971893Z",
     "iopub.status.idle": "2024-01-25T15:26:59.980869Z",
     "shell.execute_reply": "2024-01-25T15:26:59.981430Z",
     "shell.execute_reply.started": "2024-01-25T15:09:27.598167Z"
    },
    "papermill": {
     "duration": 0.091989,
     "end_time": "2024-01-25T15:26:59.981651",
     "exception": false,
     "start_time": "2024-01-25T15:26:59.889662",
     "status": "completed"
    },
    "tags": []
   },
   "outputs": [
    {
     "name": "stdout",
     "output_type": "stream",
     "text": [
      "<class 'pandas.core.frame.DataFrame'>\n",
      "RangeIndex: 40 entries, 0 to 39\n",
      "Data columns (total 3 columns):\n",
      " #   Column               Non-Null Count  Dtype  \n",
      "---  ------               --------------  -----  \n",
      " 0   Produktivitas Jeruk  40 non-null     float64\n",
      " 1   Curah Hujan          40 non-null     int64  \n",
      " 2   Hari Hujan           40 non-null     int64  \n",
      "dtypes: float64(1), int64(2)\n",
      "memory usage: 1.1 KB\n"
     ]
    }
   ],
   "source": [
    "bike_new_new.info()"
   ]
  },
  {
   "cell_type": "markdown",
   "metadata": {
    "papermill": {
     "duration": 0.081862,
     "end_time": "2024-01-25T15:27:00.144170",
     "exception": false,
     "start_time": "2024-01-25T15:27:00.062308",
     "status": "completed"
    },
    "tags": []
   },
   "source": [
    "# Creating Dummy Variables"
   ]
  },
  {
   "cell_type": "markdown",
   "metadata": {
    "papermill": {
     "duration": 0.083759,
     "end_time": "2024-01-25T15:27:00.309465",
     "exception": false,
     "start_time": "2024-01-25T15:27:00.225706",
     "status": "completed"
    },
    "tags": []
   },
   "source": [
    "We will create DUMMY variables for 4 categorical variables 'mnth', 'weekday', 'season' & 'weathersit'. \n",
    "- Before creating dummy variables, we will have to convert them into 'category' data types."
   ]
  },
  {
   "cell_type": "code",
   "execution_count": 21,
   "metadata": {
    "execution": {
     "iopub.execute_input": "2024-01-25T15:27:00.475942Z",
     "iopub.status.busy": "2024-01-25T15:27:00.475216Z",
     "iopub.status.idle": "2024-01-25T15:27:00.484746Z",
     "shell.execute_reply": "2024-01-25T15:27:00.485330Z",
     "shell.execute_reply.started": "2024-01-25T15:09:27.612643Z"
    },
    "papermill": {
     "duration": 0.095801,
     "end_time": "2024-01-25T15:27:00.485520",
     "exception": false,
     "start_time": "2024-01-25T15:27:00.389719",
     "status": "completed"
    },
    "tags": []
   },
   "outputs": [
    {
     "name": "stdout",
     "output_type": "stream",
     "text": [
      "<class 'pandas.core.frame.DataFrame'>\n",
      "RangeIndex: 40 entries, 0 to 39\n",
      "Data columns (total 5 columns):\n",
      " #   Column               Non-Null Count  Dtype  \n",
      "---  ------               --------------  -----  \n",
      " 0   Year                 40 non-null     int64  \n",
      " 1   Periode              40 non-null     object \n",
      " 2   Produktivitas Jeruk  40 non-null     float64\n",
      " 3   Curah Hujan          40 non-null     int64  \n",
      " 4   Hari Hujan           40 non-null     int64  \n",
      "dtypes: float64(1), int64(3), object(1)\n",
      "memory usage: 1.7+ KB\n"
     ]
    }
   ],
   "source": [
    "# Check the datatypes before convertion\n",
    "bike_new.info()"
   ]
  },
  {
   "cell_type": "code",
   "execution_count": 22,
   "metadata": {
    "execution": {
     "iopub.execute_input": "2024-01-25T15:27:00.661686Z",
     "iopub.status.busy": "2024-01-25T15:27:00.660626Z",
     "iopub.status.idle": "2024-01-25T15:27:00.664133Z",
     "shell.execute_reply": "2024-01-25T15:27:00.663360Z",
     "shell.execute_reply.started": "2024-01-25T15:09:27.627590Z"
    },
    "papermill": {
     "duration": 0.09652,
     "end_time": "2024-01-25T15:27:00.664292",
     "exception": false,
     "start_time": "2024-01-25T15:27:00.567772",
     "status": "completed"
    },
    "tags": []
   },
   "outputs": [],
   "source": [
    "# Convert to 'category' data type\n",
    "\n",
    "bike_new['Year']=bike_new['Year'].astype('category')\n",
    "bike_new['Periode']=bike_new['Periode'].astype('category')"
   ]
  },
  {
   "cell_type": "code",
   "execution_count": 23,
   "metadata": {
    "execution": {
     "iopub.execute_input": "2024-01-25T15:27:00.844641Z",
     "iopub.status.busy": "2024-01-25T15:27:00.843682Z",
     "iopub.status.idle": "2024-01-25T15:27:00.847929Z",
     "shell.execute_reply": "2024-01-25T15:27:00.847060Z",
     "shell.execute_reply.started": "2024-01-25T15:09:27.637590Z"
    },
    "papermill": {
     "duration": 0.099796,
     "end_time": "2024-01-25T15:27:00.848110",
     "exception": false,
     "start_time": "2024-01-25T15:27:00.748314",
     "status": "completed"
    },
    "tags": []
   },
   "outputs": [
    {
     "name": "stdout",
     "output_type": "stream",
     "text": [
      "<class 'pandas.core.frame.DataFrame'>\n",
      "RangeIndex: 40 entries, 0 to 39\n",
      "Data columns (total 5 columns):\n",
      " #   Column               Non-Null Count  Dtype   \n",
      "---  ------               --------------  -----   \n",
      " 0   Year                 40 non-null     category\n",
      " 1   Periode              40 non-null     category\n",
      " 2   Produktivitas Jeruk  40 non-null     float64 \n",
      " 3   Curah Hujan          40 non-null     int64   \n",
      " 4   Hari Hujan           40 non-null     int64   \n",
      "dtypes: category(2), float64(1), int64(2)\n",
      "memory usage: 1.7 KB\n"
     ]
    }
   ],
   "source": [
    "bike_new.info()"
   ]
  },
  {
   "cell_type": "code",
   "execution_count": 24,
   "metadata": {
    "execution": {
     "iopub.execute_input": "2024-01-25T15:27:01.019547Z",
     "iopub.status.busy": "2024-01-25T15:27:01.018839Z",
     "iopub.status.idle": "2024-01-25T15:27:01.033766Z",
     "shell.execute_reply": "2024-01-25T15:27:01.034380Z",
     "shell.execute_reply.started": "2024-01-25T15:09:27.655334Z"
    },
    "papermill": {
     "duration": 0.108377,
     "end_time": "2024-01-25T15:27:01.034603",
     "exception": false,
     "start_time": "2024-01-25T15:27:00.926226",
     "status": "completed"
    },
    "tags": []
   },
   "outputs": [
    {
     "name": "stdout",
     "output_type": "stream",
     "text": [
      "<class 'pandas.core.frame.DataFrame'>\n",
      "RangeIndex: 40 entries, 0 to 39\n",
      "Data columns (total 17 columns):\n",
      " #   Column                Non-Null Count  Dtype  \n",
      "---  ------                --------------  -----  \n",
      " 0   Produktivitas Jeruk   40 non-null     float64\n",
      " 1   Curah Hujan           40 non-null     int64  \n",
      " 2   Hari Hujan            40 non-null     int64  \n",
      " 3   Year_2012             40 non-null     uint8  \n",
      " 4   Year_2013             40 non-null     uint8  \n",
      " 5   Year_2014             40 non-null     uint8  \n",
      " 6   Year_2015             40 non-null     uint8  \n",
      " 7   Year_2016             40 non-null     uint8  \n",
      " 8   Year_2017             40 non-null     uint8  \n",
      " 9   Year_2018             40 non-null     uint8  \n",
      " 10  Year_2019             40 non-null     uint8  \n",
      " 11  Year_2020             40 non-null     uint8  \n",
      " 12  Year_2021             40 non-null     uint8  \n",
      " 13  Periode_Triwulan I    40 non-null     uint8  \n",
      " 14  Periode_Triwulan II   40 non-null     uint8  \n",
      " 15  Periode_Triwulan III  40 non-null     uint8  \n",
      " 16  Periode_Triwulan IV   40 non-null     uint8  \n",
      "dtypes: float64(1), int64(2), uint8(14)\n",
      "memory usage: 1.6 KB\n"
     ]
    }
   ],
   "source": [
    "# This code does 3 things:\n",
    "# 1) Create Dummy variable\n",
    "# 2) Drop original variable for which the dummy was created\n",
    "# 3) Drop first dummy variable for each set of dummies created.\n",
    "\n",
    "bike_new = pd.get_dummies(bike_new)\n",
    "bike_new.info()"
   ]
  },
  {
   "cell_type": "code",
   "execution_count": 25,
   "metadata": {
    "execution": {
     "iopub.execute_input": "2024-01-25T15:27:01.210908Z",
     "iopub.status.busy": "2024-01-25T15:27:01.210000Z",
     "iopub.status.idle": "2024-01-25T15:27:01.213810Z",
     "shell.execute_reply": "2024-01-25T15:27:01.214306Z",
     "shell.execute_reply.started": "2024-01-25T15:09:27.682479Z"
    },
    "papermill": {
     "duration": 0.094056,
     "end_time": "2024-01-25T15:27:01.214498",
     "exception": false,
     "start_time": "2024-01-25T15:27:01.120442",
     "status": "completed"
    },
    "tags": []
   },
   "outputs": [
    {
     "data": {
      "text/plain": [
       "(40, 17)"
      ]
     },
     "execution_count": 25,
     "metadata": {},
     "output_type": "execute_result"
    }
   ],
   "source": [
    "bike_new.shape"
   ]
  },
  {
   "cell_type": "markdown",
   "metadata": {
    "papermill": {
     "duration": 0.083575,
     "end_time": "2024-01-25T15:27:01.377673",
     "exception": false,
     "start_time": "2024-01-25T15:27:01.294098",
     "status": "completed"
    },
    "tags": []
   },
   "source": [
    "## SPLITTING THE DATA\n",
    "- Splitting the data to Train and Test: - We will now split the data into TRAIN and TEST (70:30 ratio) \n",
    "- We will use train_test_split method from sklearn package for this"
   ]
  },
  {
   "cell_type": "code",
   "execution_count": 26,
   "metadata": {
    "execution": {
     "iopub.execute_input": "2024-01-25T15:27:01.545624Z",
     "iopub.status.busy": "2024-01-25T15:27:01.544572Z",
     "iopub.status.idle": "2024-01-25T15:27:01.550447Z",
     "shell.execute_reply": "2024-01-25T15:27:01.550906Z",
     "shell.execute_reply.started": "2024-01-25T15:09:27.690479Z"
    },
    "papermill": {
     "duration": 0.092784,
     "end_time": "2024-01-25T15:27:01.551119",
     "exception": false,
     "start_time": "2024-01-25T15:27:01.458335",
     "status": "completed"
    },
    "tags": []
   },
   "outputs": [
    {
     "data": {
      "text/plain": [
       "(40, 3)"
      ]
     },
     "execution_count": 26,
     "metadata": {},
     "output_type": "execute_result"
    }
   ],
   "source": [
    "# Check the shape before spliting\n",
    "\n",
    "bike_new_new.shape"
   ]
  },
  {
   "cell_type": "code",
   "execution_count": 27,
   "metadata": {
    "execution": {
     "iopub.execute_input": "2024-01-25T15:27:01.723736Z",
     "iopub.status.busy": "2024-01-25T15:27:01.722683Z",
     "iopub.status.idle": "2024-01-25T15:27:01.733542Z",
     "shell.execute_reply": "2024-01-25T15:27:01.734103Z",
     "shell.execute_reply.started": "2024-01-25T15:09:27.704821Z"
    },
    "papermill": {
     "duration": 0.100401,
     "end_time": "2024-01-25T15:27:01.734315",
     "exception": false,
     "start_time": "2024-01-25T15:27:01.633914",
     "status": "completed"
    },
    "tags": []
   },
   "outputs": [
    {
     "name": "stdout",
     "output_type": "stream",
     "text": [
      "<class 'pandas.core.frame.DataFrame'>\n",
      "RangeIndex: 40 entries, 0 to 39\n",
      "Data columns (total 3 columns):\n",
      " #   Column               Non-Null Count  Dtype  \n",
      "---  ------               --------------  -----  \n",
      " 0   Produktivitas Jeruk  40 non-null     float64\n",
      " 1   Curah Hujan          40 non-null     int64  \n",
      " 2   Hari Hujan           40 non-null     int64  \n",
      "dtypes: float64(1), int64(2)\n",
      "memory usage: 1.1 KB\n"
     ]
    }
   ],
   "source": [
    "# Check the info before spliting\n",
    "\n",
    "bike_new_new.info()"
   ]
  },
  {
   "cell_type": "code",
   "execution_count": 28,
   "metadata": {
    "execution": {
     "iopub.execute_input": "2024-01-25T15:27:01.912302Z",
     "iopub.status.busy": "2024-01-25T15:27:01.911536Z",
     "iopub.status.idle": "2024-01-25T15:27:02.041614Z",
     "shell.execute_reply": "2024-01-25T15:27:02.042156Z",
     "shell.execute_reply.started": "2024-01-25T15:09:27.721113Z"
    },
    "papermill": {
     "duration": 0.219841,
     "end_time": "2024-01-25T15:27:02.042367",
     "exception": false,
     "start_time": "2024-01-25T15:27:01.822526",
     "status": "completed"
    },
    "tags": []
   },
   "outputs": [],
   "source": [
    "from sklearn.model_selection import train_test_split\n",
    "\n",
    "# We should specify 'random_state' so that the train and test data set always have the same rows, respectively\n",
    "\n",
    "np.random.seed(0)\n",
    "df_train, df_test = train_test_split(bike_new_new, train_size = 0.70, test_size = 0.30, random_state = 333)"
   ]
  },
  {
   "cell_type": "markdown",
   "metadata": {
    "papermill": {
     "duration": 0.080465,
     "end_time": "2024-01-25T15:27:02.207678",
     "exception": false,
     "start_time": "2024-01-25T15:27:02.127213",
     "status": "completed"
    },
    "tags": []
   },
   "source": [
    "\n",
    "- Verify the info and shape of the dataframes after split:"
   ]
  },
  {
   "cell_type": "code",
   "execution_count": 29,
   "metadata": {
    "execution": {
     "iopub.execute_input": "2024-01-25T15:27:02.377728Z",
     "iopub.status.busy": "2024-01-25T15:27:02.373888Z",
     "iopub.status.idle": "2024-01-25T15:27:02.383236Z",
     "shell.execute_reply": "2024-01-25T15:27:02.382586Z",
     "shell.execute_reply.started": "2024-01-25T15:09:27.734520Z"
    },
    "papermill": {
     "duration": 0.095035,
     "end_time": "2024-01-25T15:27:02.383396",
     "exception": false,
     "start_time": "2024-01-25T15:27:02.288361",
     "status": "completed"
    },
    "tags": []
   },
   "outputs": [
    {
     "name": "stdout",
     "output_type": "stream",
     "text": [
      "<class 'pandas.core.frame.DataFrame'>\n",
      "Int64Index: 28 entries, 1 to 12\n",
      "Data columns (total 3 columns):\n",
      " #   Column               Non-Null Count  Dtype  \n",
      "---  ------               --------------  -----  \n",
      " 0   Produktivitas Jeruk  28 non-null     float64\n",
      " 1   Curah Hujan          28 non-null     int64  \n",
      " 2   Hari Hujan           28 non-null     int64  \n",
      "dtypes: float64(1), int64(2)\n",
      "memory usage: 896.0 bytes\n"
     ]
    }
   ],
   "source": [
    "df_train.info()"
   ]
  },
  {
   "cell_type": "code",
   "execution_count": 30,
   "metadata": {
    "execution": {
     "iopub.execute_input": "2024-01-25T15:27:02.549493Z",
     "iopub.status.busy": "2024-01-25T15:27:02.548759Z",
     "iopub.status.idle": "2024-01-25T15:27:02.552264Z",
     "shell.execute_reply": "2024-01-25T15:27:02.552824Z",
     "shell.execute_reply.started": "2024-01-25T15:09:27.748751Z"
    },
    "papermill": {
     "duration": 0.088893,
     "end_time": "2024-01-25T15:27:02.553033",
     "exception": false,
     "start_time": "2024-01-25T15:27:02.464140",
     "status": "completed"
    },
    "tags": []
   },
   "outputs": [
    {
     "data": {
      "text/plain": [
       "(28, 3)"
      ]
     },
     "execution_count": 30,
     "metadata": {},
     "output_type": "execute_result"
    }
   ],
   "source": [
    "df_train.shape"
   ]
  },
  {
   "cell_type": "code",
   "execution_count": 31,
   "metadata": {
    "execution": {
     "iopub.execute_input": "2024-01-25T15:27:02.727284Z",
     "iopub.status.busy": "2024-01-25T15:27:02.726487Z",
     "iopub.status.idle": "2024-01-25T15:27:02.729426Z",
     "shell.execute_reply": "2024-01-25T15:27:02.729961Z",
     "shell.execute_reply.started": "2024-01-25T15:09:27.761457Z"
    },
    "papermill": {
     "duration": 0.093943,
     "end_time": "2024-01-25T15:27:02.730175",
     "exception": false,
     "start_time": "2024-01-25T15:27:02.636232",
     "status": "completed"
    },
    "tags": []
   },
   "outputs": [
    {
     "name": "stdout",
     "output_type": "stream",
     "text": [
      "<class 'pandas.core.frame.DataFrame'>\n",
      "Int64Index: 12 entries, 31 to 0\n",
      "Data columns (total 3 columns):\n",
      " #   Column               Non-Null Count  Dtype  \n",
      "---  ------               --------------  -----  \n",
      " 0   Produktivitas Jeruk  12 non-null     float64\n",
      " 1   Curah Hujan          12 non-null     int64  \n",
      " 2   Hari Hujan           12 non-null     int64  \n",
      "dtypes: float64(1), int64(2)\n",
      "memory usage: 384.0 bytes\n"
     ]
    }
   ],
   "source": [
    "df_test.info()"
   ]
  },
  {
   "cell_type": "code",
   "execution_count": 32,
   "metadata": {
    "execution": {
     "iopub.execute_input": "2024-01-25T15:27:02.901752Z",
     "iopub.status.busy": "2024-01-25T15:27:02.901041Z",
     "iopub.status.idle": "2024-01-25T15:27:02.906370Z",
     "shell.execute_reply": "2024-01-25T15:27:02.905642Z",
     "shell.execute_reply.started": "2024-01-25T15:09:27.784483Z"
    },
    "papermill": {
     "duration": 0.092955,
     "end_time": "2024-01-25T15:27:02.906511",
     "exception": false,
     "start_time": "2024-01-25T15:27:02.813556",
     "status": "completed"
    },
    "tags": []
   },
   "outputs": [
    {
     "data": {
      "text/plain": [
       "(12, 3)"
      ]
     },
     "execution_count": 32,
     "metadata": {},
     "output_type": "execute_result"
    }
   ],
   "source": [
    "df_test.shape"
   ]
  },
  {
   "cell_type": "markdown",
   "metadata": {
    "papermill": {
     "duration": 0.079449,
     "end_time": "2024-01-25T15:27:03.066129",
     "exception": false,
     "start_time": "2024-01-25T15:27:02.986680",
     "status": "completed"
    },
    "tags": []
   },
   "source": [
    "# EXPLORATORY DATA ANALYSIS"
   ]
  },
  {
   "cell_type": "markdown",
   "metadata": {
    "papermill": {
     "duration": 0.081834,
     "end_time": "2024-01-25T15:27:03.227212",
     "exception": false,
     "start_time": "2024-01-25T15:27:03.145378",
     "status": "completed"
    },
    "tags": []
   },
   "source": [
    "\n",
    "- We need to  perform the EDA on TRAINING (df_train) Dataset."
   ]
  },
  {
   "cell_type": "markdown",
   "metadata": {
    "papermill": {
     "duration": 0.079406,
     "end_time": "2024-01-25T15:27:03.389068",
     "exception": false,
     "start_time": "2024-01-25T15:27:03.309662",
     "status": "completed"
    },
    "tags": []
   },
   "source": [
    "## Visualising Numeric Variables\n",
    "Let's make a pairplot of all the numeric variables."
   ]
  },
  {
   "cell_type": "code",
   "execution_count": 33,
   "metadata": {
    "execution": {
     "iopub.execute_input": "2024-01-25T15:27:03.562022Z",
     "iopub.status.busy": "2024-01-25T15:27:03.561156Z",
     "iopub.status.idle": "2024-01-25T15:27:03.565124Z",
     "shell.execute_reply": "2024-01-25T15:27:03.565639Z",
     "shell.execute_reply.started": "2024-01-25T15:09:27.793762Z"
    },
    "papermill": {
     "duration": 0.097093,
     "end_time": "2024-01-25T15:27:03.565807",
     "exception": false,
     "start_time": "2024-01-25T15:27:03.468714",
     "status": "completed"
    },
    "tags": []
   },
   "outputs": [
    {
     "name": "stdout",
     "output_type": "stream",
     "text": [
      "<class 'pandas.core.frame.DataFrame'>\n",
      "Int64Index: 28 entries, 1 to 12\n",
      "Data columns (total 3 columns):\n",
      " #   Column               Non-Null Count  Dtype  \n",
      "---  ------               --------------  -----  \n",
      " 0   Produktivitas Jeruk  28 non-null     float64\n",
      " 1   Curah Hujan          28 non-null     int64  \n",
      " 2   Hari Hujan           28 non-null     int64  \n",
      "dtypes: float64(1), int64(2)\n",
      "memory usage: 896.0 bytes\n"
     ]
    }
   ],
   "source": [
    "df_train.info()"
   ]
  },
  {
   "cell_type": "code",
   "execution_count": 34,
   "metadata": {
    "execution": {
     "iopub.execute_input": "2024-01-25T15:27:03.739668Z",
     "iopub.status.busy": "2024-01-25T15:27:03.738629Z",
     "iopub.status.idle": "2024-01-25T15:27:03.743965Z",
     "shell.execute_reply": "2024-01-25T15:27:03.742867Z",
     "shell.execute_reply.started": "2024-01-25T15:09:27.809913Z"
    },
    "papermill": {
     "duration": 0.095539,
     "end_time": "2024-01-25T15:27:03.744124",
     "exception": false,
     "start_time": "2024-01-25T15:27:03.648585",
     "status": "completed"
    },
    "tags": []
   },
   "outputs": [
    {
     "data": {
      "text/plain": [
       "Index(['Produktivitas Jeruk', 'Curah Hujan', 'Hari Hujan'], dtype='object')"
      ]
     },
     "execution_count": 34,
     "metadata": {},
     "output_type": "execute_result"
    }
   ],
   "source": [
    "df_train.columns"
   ]
  },
  {
   "cell_type": "code",
   "execution_count": 35,
   "metadata": {
    "execution": {
     "iopub.execute_input": "2024-01-25T15:27:03.912934Z",
     "iopub.status.busy": "2024-01-25T15:27:03.912268Z",
     "iopub.status.idle": "2024-01-25T15:27:06.359043Z",
     "shell.execute_reply": "2024-01-25T15:27:06.358424Z",
     "shell.execute_reply.started": "2024-01-25T15:09:27.819967Z"
    },
    "papermill": {
     "duration": 2.531806,
     "end_time": "2024-01-25T15:27:06.359192",
     "exception": false,
     "start_time": "2024-01-25T15:27:03.827386",
     "status": "completed"
    },
    "tags": []
   },
   "outputs": [
    {
     "data": {
      "image/png": "[encoded data removed]",
      "text/plain": [
       "<Figure size 540x540 with 12 Axes>"
      ]
     },
     "metadata": {
      "needs_background": "light"
     },
     "output_type": "display_data"
    }
   ],
   "source": [
    "# Create a new dataframe of only numeric variables:\n",
    "\n",
    "bike_num=df_train[['Produktivitas Jeruk', 'Curah Hujan',\n",
    "       'Hari Hujan']]\n",
    "\n",
    "sns.pairplot(bike_num, diag_kind='kde')\n",
    "plt.show()"
   ]
  },
  {
   "cell_type": "markdown",
   "metadata": {
    "papermill": {
     "duration": 0.082223,
     "end_time": "2024-01-25T15:27:06.526642",
     "exception": false,
     "start_time": "2024-01-25T15:27:06.444419",
     "status": "completed"
    },
    "tags": []
   },
   "source": [
    "### Insights\n",
    "- The above Pair-Plot tells us that there is a LINEAR RELATION between 'temp','atemp' and 'cnt' "
   ]
  },
  {
   "cell_type": "markdown",
   "metadata": {
    "papermill": {
     "duration": 0.105915,
     "end_time": "2024-01-25T15:27:06.721789",
     "exception": false,
     "start_time": "2024-01-25T15:27:06.615874",
     "status": "completed"
    },
    "tags": []
   },
   "source": [
    "## Visualising Catagorical Variables"
   ]
  },
  {
   "cell_type": "code",
   "execution_count": 36,
   "metadata": {
    "execution": {
     "iopub.execute_input": "2024-01-25T15:27:06.904225Z",
     "iopub.status.busy": "2024-01-25T15:27:06.903449Z",
     "iopub.status.idle": "2024-01-25T15:27:06.906516Z",
     "shell.execute_reply": "2024-01-25T15:27:06.907107Z",
     "shell.execute_reply.started": "2024-01-25T15:09:30.440415Z"
    },
    "papermill": {
     "duration": 0.097655,
     "end_time": "2024-01-25T15:27:06.907311",
     "exception": false,
     "start_time": "2024-01-25T15:27:06.809656",
     "status": "completed"
    },
    "tags": []
   },
   "outputs": [
    {
     "name": "stdout",
     "output_type": "stream",
     "text": [
      "<class 'pandas.core.frame.DataFrame'>\n",
      "Int64Index: 28 entries, 1 to 12\n",
      "Data columns (total 3 columns):\n",
      " #   Column               Non-Null Count  Dtype  \n",
      "---  ------               --------------  -----  \n",
      " 0   Produktivitas Jeruk  28 non-null     float64\n",
      " 1   Curah Hujan          28 non-null     int64  \n",
      " 2   Hari Hujan           28 non-null     int64  \n",
      "dtypes: float64(1), int64(2)\n",
      "memory usage: 2.1 KB\n"
     ]
    }
   ],
   "source": [
    "df_train.info()"
   ]
  },
  {
   "cell_type": "code",
   "execution_count": 37,
   "metadata": {
    "execution": {
     "iopub.execute_input": "2024-01-25T15:27:07.081098Z",
     "iopub.status.busy": "2024-01-25T15:27:07.080231Z",
     "iopub.status.idle": "2024-01-25T15:27:07.496085Z",
     "shell.execute_reply": "2024-01-25T15:27:07.496644Z",
     "shell.execute_reply.started": "2024-01-25T15:09:30.454270Z"
    },
    "papermill": {
     "duration": 0.50636,
     "end_time": "2024-01-25T15:27:07.496825",
     "exception": false,
     "start_time": "2024-01-25T15:27:06.990465",
     "status": "completed"
    },
    "tags": []
   },
   "outputs": [
    {
     "data": {
      "image/png": "[encoded data removed]",
      "text/plain": [
       "<Figure size 1800x720 with 2 Axes>"
      ]
     },
     "metadata": {
      "needs_background": "light"
     },
     "output_type": "display_data"
    }
   ],
   "source": [
    "# Build boxplot of all categorical variables (before creating dummies) againt the target variable 'cnt' \n",
    "# to see how each of the predictor variable stackup against the target variable.\n",
    "\n",
    "plt.figure(figsize=(25, 10))\n",
    "plt.subplot(2,3,1)\n",
    "sns.boxplot(x = 'Year', y = 'Produktivitas Jeruk', data = bike)\n",
    "plt.subplot(2,3,2)\n",
    "sns.boxplot(x = 'Periode', y = 'Produktivitas Jeruk', data = bike)\n",
    "plt.show()"
   ]
  },
  {
   "cell_type": "markdown",
   "metadata": {
    "papermill": {
     "duration": 0.086556,
     "end_time": "2024-01-25T15:27:07.672758",
     "exception": false,
     "start_time": "2024-01-25T15:27:07.586202",
     "status": "completed"
    },
    "tags": []
   },
   "source": [
    "### Insights\n",
    "There were 6 categorical variables in the dataset. \n",
    "\n",
    "We used Box plot (refer the fig above) to study their effect on the dependent variable (‘cnt’) . \n",
    "\n",
    "The inference that We could derive were: \n",
    "- **season**: Almost 32% of the bike booking were happening in season3 with a median of over 5000 booking (for the period of 2 years). This was followed by season2 & season4 with 27% & 25% of total booking. This indicates, season can be a good predictor for the dependent variable.\n",
    "\n",
    "- **mnth**: Almost 10% of the bike booking were happening in the months 5,6,7,8 & 9 with a median of over 4000 booking per month. This indicates, mnth has some trend for bookings and can be a good predictor for the dependent variable. \n",
    "- **weathersit**: Almost 67% of the bike booking were happening during ‘weathersit1 with a median of close to 5000 booking (for the period of 2 years). This was followed by weathersit2 with 30% of total booking. This indicates, weathersit does show some trend towards the bike bookings can be a good predictor for the dependent variable.\n",
    "- **holiday**: Almost 97.6% of the bike booking were happening when it is not a holiday which means this data is clearly biased. This indicates, holiday CANNOT be a good predictor for the dependent variable. \n",
    "- **weekday**: weekday variable shows very close trend (between 13.5%-14.8% of total booking on all days of the week) having their independent medians between 4000 to 5000 bookings. This variable can have some or no influence towards the predictor. I will let the model decide if this needs to be added or not.\n",
    "- **workingday**: Almost 69% of the bike booking were happening in ‘workingday’ with a median of close to 5000 booking (for the period of 2 years). This indicates, workingday can be a good predictor for the dependent variable"
   ]
  },
  {
   "cell_type": "markdown",
   "metadata": {
    "papermill": {
     "duration": 0.084678,
     "end_time": "2024-01-25T15:27:07.844258",
     "exception": false,
     "start_time": "2024-01-25T15:27:07.759580",
     "status": "completed"
    },
    "tags": []
   },
   "source": [
    "## Correlation Matrix"
   ]
  },
  {
   "cell_type": "code",
   "execution_count": 38,
   "metadata": {
    "execution": {
     "iopub.execute_input": "2024-01-25T15:27:08.016323Z",
     "iopub.status.busy": "2024-01-25T15:27:08.015603Z",
     "iopub.status.idle": "2024-01-25T15:27:08.338408Z",
     "shell.execute_reply": "2024-01-25T15:27:08.337669Z",
     "shell.execute_reply.started": "2024-01-25T15:09:30.941444Z"
    },
    "papermill": {
     "duration": 0.410267,
     "end_time": "2024-01-25T15:27:08.338547",
     "exception": false,
     "start_time": "2024-01-25T15:27:07.928280",
     "status": "completed"
    },
    "tags": []
   },
   "outputs": [
    {
     "data": {
      "image/png": "[encoded data removed]",
      "text/plain": [
       "<Figure size 1800x1440 with 2 Axes>"
      ]
     },
     "metadata": {
      "needs_background": "light"
     },
     "output_type": "display_data"
    }
   ],
   "source": [
    "# Let's check the correlation coefficients to see which variables are highly correlated. Note:\n",
    "# here we are considering only those variables (dataframe: bike_new) that were chosen for analysis\n",
    "\n",
    "plt.figure(figsize = (25,20))\n",
    "sns.heatmap(bike_new_new.corr(), annot = True, cmap=\"RdBu\")\n",
    "plt.show()"
   ]
  },
  {
   "cell_type": "markdown",
   "metadata": {
    "papermill": {
     "duration": 0.086213,
     "end_time": "2024-01-25T15:27:08.510898",
     "exception": false,
     "start_time": "2024-01-25T15:27:08.424685",
     "status": "completed"
    },
    "tags": []
   },
   "source": [
    "### Insights:\n",
    " - The heatmap clearly shows which all variable are multicollinear in nature, and which variable have high collinearity with the target variable.\n",
    " - We will refer this map back-and-forth while building the linear model so as to validate different correlated values along with VIF & p-value, for identifying the correct variable to select/eliminate from the model."
   ]
  },
  {
   "cell_type": "markdown",
   "metadata": {
    "papermill": {
     "duration": 0.087616,
     "end_time": "2024-01-25T15:27:08.682964",
     "exception": false,
     "start_time": "2024-01-25T15:27:08.595348",
     "status": "completed"
    },
    "tags": []
   },
   "source": [
    "# RESCALING THE FEATURES"
   ]
  },
  {
   "cell_type": "code",
   "execution_count": 39,
   "metadata": {
    "execution": {
     "iopub.execute_input": "2024-01-25T15:27:08.858952Z",
     "iopub.status.busy": "2024-01-25T15:27:08.858244Z",
     "iopub.status.idle": "2024-01-25T15:27:08.860188Z",
     "shell.execute_reply": "2024-01-25T15:27:08.860769Z",
     "shell.execute_reply.started": "2024-01-25T15:09:31.267616Z"
    },
    "papermill": {
     "duration": 0.093148,
     "end_time": "2024-01-25T15:27:08.860952",
     "exception": false,
     "start_time": "2024-01-25T15:27:08.767804",
     "status": "completed"
    },
    "tags": []
   },
   "outputs": [],
   "source": [
    "from sklearn.preprocessing import MinMaxScaler"
   ]
  },
  {
   "cell_type": "code",
   "execution_count": 40,
   "metadata": {
    "execution": {
     "iopub.execute_input": "2024-01-25T15:27:09.038148Z",
     "iopub.status.busy": "2024-01-25T15:27:09.037487Z",
     "iopub.status.idle": "2024-01-25T15:27:09.041763Z",
     "shell.execute_reply": "2024-01-25T15:27:09.042421Z",
     "shell.execute_reply.started": "2024-01-25T15:09:31.273982Z"
    },
    "papermill": {
     "duration": 0.094856,
     "end_time": "2024-01-25T15:27:09.042578",
     "exception": false,
     "start_time": "2024-01-25T15:27:08.947722",
     "status": "completed"
    },
    "tags": []
   },
   "outputs": [],
   "source": [
    "scaler = MinMaxScaler()"
   ]
  },
  {
   "cell_type": "code",
   "execution_count": 41,
   "metadata": {
    "execution": {
     "iopub.execute_input": "2024-01-25T15:27:09.218011Z",
     "iopub.status.busy": "2024-01-25T15:27:09.217234Z",
     "iopub.status.idle": "2024-01-25T15:27:09.227686Z",
     "shell.execute_reply": "2024-01-25T15:27:09.228260Z",
     "shell.execute_reply.started": "2024-01-25T15:09:31.284631Z"
    },
    "papermill": {
     "duration": 0.1018,
     "end_time": "2024-01-25T15:27:09.228441",
     "exception": false,
     "start_time": "2024-01-25T15:27:09.126641",
     "status": "completed"
    },
    "scrolled": true,
    "tags": []
   },
   "outputs": [
    {
     "data": {
      "text/html": [
       "<div>\n",
       "<style scoped>\n",
       "    .dataframe tbody tr th:only-of-type {\n",
       "        vertical-align: middle;\n",
       "    }\n",
       "\n",
       "    .dataframe tbody tr th {\n",
       "        vertical-align: top;\n",
       "    }\n",
       "\n",
       "    .dataframe thead th {\n",
       "        text-align: right;\n",
       "    }\n",
       "</style>\n",
       "<table border=\"1\" class=\"dataframe\">\n",
       "  <thead>\n",
       "    <tr style=\"text-align: right;\">\n",
       "      <th></th>\n",
       "      <th>Produktivitas Jeruk</th>\n",
       "      <th>Curah Hujan</th>\n",
       "      <th>Hari Hujan</th>\n",
       "    </tr>\n",
       "  </thead>\n",
       "  <tbody>\n",
       "    <tr>\n",
       "      <th>1</th>\n",
       "      <td>0.10</td>\n",
       "      <td>164</td>\n",
       "      <td>42</td>\n",
       "    </tr>\n",
       "    <tr>\n",
       "      <th>14</th>\n",
       "      <td>0.16</td>\n",
       "      <td>12</td>\n",
       "      <td>9</td>\n",
       "    </tr>\n",
       "    <tr>\n",
       "      <th>36</th>\n",
       "      <td>0.00</td>\n",
       "      <td>384</td>\n",
       "      <td>84</td>\n",
       "    </tr>\n",
       "    <tr>\n",
       "      <th>11</th>\n",
       "      <td>0.26</td>\n",
       "      <td>319</td>\n",
       "      <td>67</td>\n",
       "    </tr>\n",
       "    <tr>\n",
       "      <th>18</th>\n",
       "      <td>0.25</td>\n",
       "      <td>143</td>\n",
       "      <td>47</td>\n",
       "    </tr>\n",
       "  </tbody>\n",
       "</table>\n",
       "</div>"
      ],
      "text/plain": [
       "    Produktivitas Jeruk  Curah Hujan  Hari Hujan\n",
       "1                  0.10          164          42\n",
       "14                 0.16           12           9\n",
       "36                 0.00          384          84\n",
       "11                 0.26          319          67\n",
       "18                 0.25          143          47"
      ]
     },
     "execution_count": 41,
     "metadata": {},
     "output_type": "execute_result"
    }
   ],
   "source": [
    "# Checking the values before scaling\n",
    "df_train.head()"
   ]
  },
  {
   "cell_type": "code",
   "execution_count": 42,
   "metadata": {
    "execution": {
     "iopub.execute_input": "2024-01-25T15:27:09.402948Z",
     "iopub.status.busy": "2024-01-25T15:27:09.402220Z",
     "iopub.status.idle": "2024-01-25T15:27:09.407762Z",
     "shell.execute_reply": "2024-01-25T15:27:09.408322Z",
     "shell.execute_reply.started": "2024-01-25T15:09:31.303912Z"
    },
    "papermill": {
     "duration": 0.093943,
     "end_time": "2024-01-25T15:27:09.408485",
     "exception": false,
     "start_time": "2024-01-25T15:27:09.314542",
     "status": "completed"
    },
    "tags": []
   },
   "outputs": [
    {
     "data": {
      "text/plain": [
       "Index(['Produktivitas Jeruk', 'Curah Hujan', 'Hari Hujan'], dtype='object')"
      ]
     },
     "execution_count": 42,
     "metadata": {},
     "output_type": "execute_result"
    }
   ],
   "source": [
    "df_train.columns"
   ]
  },
  {
   "cell_type": "code",
   "execution_count": 43,
   "metadata": {
    "execution": {
     "iopub.execute_input": "2024-01-25T15:27:09.586677Z",
     "iopub.status.busy": "2024-01-25T15:27:09.585958Z",
     "iopub.status.idle": "2024-01-25T15:27:09.599699Z",
     "shell.execute_reply": "2024-01-25T15:27:09.599003Z",
     "shell.execute_reply.started": "2024-01-25T15:09:31.313150Z"
    },
    "papermill": {
     "duration": 0.103761,
     "end_time": "2024-01-25T15:27:09.599839",
     "exception": false,
     "start_time": "2024-01-25T15:27:09.496078",
     "status": "completed"
    },
    "tags": []
   },
   "outputs": [],
   "source": [
    "# Apply scaler() to all the numeric variables\n",
    "\n",
    "num_vars = ['Produktivitas Jeruk', 'Curah Hujan',\n",
    "       'Hari Hujan']\n",
    "\n",
    "df_train[num_vars] = scaler.fit_transform(df_train[num_vars])"
   ]
  },
  {
   "cell_type": "code",
   "execution_count": 44,
   "metadata": {
    "execution": {
     "iopub.execute_input": "2024-01-25T15:27:09.788859Z",
     "iopub.status.busy": "2024-01-25T15:27:09.788132Z",
     "iopub.status.idle": "2024-01-25T15:27:09.791797Z",
     "shell.execute_reply": "2024-01-25T15:27:09.792361Z",
     "shell.execute_reply.started": "2024-01-25T15:09:31.332248Z"
    },
    "papermill": {
     "duration": 0.103935,
     "end_time": "2024-01-25T15:27:09.792528",
     "exception": false,
     "start_time": "2024-01-25T15:27:09.688593",
     "status": "completed"
    },
    "tags": []
   },
   "outputs": [
    {
     "data": {
      "text/html": [
       "<div>\n",
       "<style scoped>\n",
       "    .dataframe tbody tr th:only-of-type {\n",
       "        vertical-align: middle;\n",
       "    }\n",
       "\n",
       "    .dataframe tbody tr th {\n",
       "        vertical-align: top;\n",
       "    }\n",
       "\n",
       "    .dataframe thead th {\n",
       "        text-align: right;\n",
       "    }\n",
       "</style>\n",
       "<table border=\"1\" class=\"dataframe\">\n",
       "  <thead>\n",
       "    <tr style=\"text-align: right;\">\n",
       "      <th></th>\n",
       "      <th>Produktivitas Jeruk</th>\n",
       "      <th>Curah Hujan</th>\n",
       "      <th>Hari Hujan</th>\n",
       "    </tr>\n",
       "  </thead>\n",
       "  <tbody>\n",
       "    <tr>\n",
       "      <th>1</th>\n",
       "      <td>0.117647</td>\n",
       "      <td>0.079840</td>\n",
       "      <td>0.097368</td>\n",
       "    </tr>\n",
       "    <tr>\n",
       "      <th>14</th>\n",
       "      <td>0.188235</td>\n",
       "      <td>0.003992</td>\n",
       "      <td>0.010526</td>\n",
       "    </tr>\n",
       "    <tr>\n",
       "      <th>36</th>\n",
       "      <td>0.000000</td>\n",
       "      <td>0.189621</td>\n",
       "      <td>0.207895</td>\n",
       "    </tr>\n",
       "    <tr>\n",
       "      <th>11</th>\n",
       "      <td>0.305882</td>\n",
       "      <td>0.157186</td>\n",
       "      <td>0.163158</td>\n",
       "    </tr>\n",
       "    <tr>\n",
       "      <th>18</th>\n",
       "      <td>0.294118</td>\n",
       "      <td>0.069361</td>\n",
       "      <td>0.110526</td>\n",
       "    </tr>\n",
       "  </tbody>\n",
       "</table>\n",
       "</div>"
      ],
      "text/plain": [
       "    Produktivitas Jeruk  Curah Hujan  Hari Hujan\n",
       "1              0.117647     0.079840    0.097368\n",
       "14             0.188235     0.003992    0.010526\n",
       "36             0.000000     0.189621    0.207895\n",
       "11             0.305882     0.157186    0.163158\n",
       "18             0.294118     0.069361    0.110526"
      ]
     },
     "execution_count": 44,
     "metadata": {},
     "output_type": "execute_result"
    }
   ],
   "source": [
    "# Checking values after scaling\n",
    "df_train.head()"
   ]
  },
  {
   "cell_type": "code",
   "execution_count": 45,
   "metadata": {
    "execution": {
     "iopub.execute_input": "2024-01-25T15:27:09.970392Z",
     "iopub.status.busy": "2024-01-25T15:27:09.969684Z",
     "iopub.status.idle": "2024-01-25T15:27:09.995781Z",
     "shell.execute_reply": "2024-01-25T15:27:09.994809Z",
     "shell.execute_reply.started": "2024-01-25T15:09:31.346300Z"
    },
    "papermill": {
     "duration": 0.11634,
     "end_time": "2024-01-25T15:27:09.996012",
     "exception": false,
     "start_time": "2024-01-25T15:27:09.879672",
     "status": "completed"
    },
    "tags": []
   },
   "outputs": [
    {
     "data": {
      "text/html": [
       "<div>\n",
       "<style scoped>\n",
       "    .dataframe tbody tr th:only-of-type {\n",
       "        vertical-align: middle;\n",
       "    }\n",
       "\n",
       "    .dataframe tbody tr th {\n",
       "        vertical-align: top;\n",
       "    }\n",
       "\n",
       "    .dataframe thead th {\n",
       "        text-align: right;\n",
       "    }\n",
       "</style>\n",
       "<table border=\"1\" class=\"dataframe\">\n",
       "  <thead>\n",
       "    <tr style=\"text-align: right;\">\n",
       "      <th></th>\n",
       "      <th>Produktivitas Jeruk</th>\n",
       "      <th>Curah Hujan</th>\n",
       "      <th>Hari Hujan</th>\n",
       "    </tr>\n",
       "  </thead>\n",
       "  <tbody>\n",
       "    <tr>\n",
       "      <th>count</th>\n",
       "      <td>28.000000</td>\n",
       "      <td>28.000000</td>\n",
       "      <td>28.000000</td>\n",
       "    </tr>\n",
       "    <tr>\n",
       "      <th>mean</th>\n",
       "      <td>0.233613</td>\n",
       "      <td>0.165490</td>\n",
       "      <td>0.173308</td>\n",
       "    </tr>\n",
       "    <tr>\n",
       "      <th>std</th>\n",
       "      <td>0.232085</td>\n",
       "      <td>0.196708</td>\n",
       "      <td>0.205274</td>\n",
       "    </tr>\n",
       "    <tr>\n",
       "      <th>min</th>\n",
       "      <td>0.000000</td>\n",
       "      <td>0.000000</td>\n",
       "      <td>0.000000</td>\n",
       "    </tr>\n",
       "    <tr>\n",
       "      <th>25%</th>\n",
       "      <td>0.117647</td>\n",
       "      <td>0.065494</td>\n",
       "      <td>0.080921</td>\n",
       "    </tr>\n",
       "    <tr>\n",
       "      <th>50%</th>\n",
       "      <td>0.182353</td>\n",
       "      <td>0.134481</td>\n",
       "      <td>0.110526</td>\n",
       "    </tr>\n",
       "    <tr>\n",
       "      <th>75%</th>\n",
       "      <td>0.294118</td>\n",
       "      <td>0.194237</td>\n",
       "      <td>0.170395</td>\n",
       "    </tr>\n",
       "    <tr>\n",
       "      <th>max</th>\n",
       "      <td>1.000000</td>\n",
       "      <td>1.000000</td>\n",
       "      <td>1.000000</td>\n",
       "    </tr>\n",
       "  </tbody>\n",
       "</table>\n",
       "</div>"
      ],
      "text/plain": [
       "       Produktivitas Jeruk  Curah Hujan  Hari Hujan\n",
       "count            28.000000    28.000000   28.000000\n",
       "mean              0.233613     0.165490    0.173308\n",
       "std               0.232085     0.196708    0.205274\n",
       "min               0.000000     0.000000    0.000000\n",
       "25%               0.117647     0.065494    0.080921\n",
       "50%               0.182353     0.134481    0.110526\n",
       "75%               0.294118     0.194237    0.170395\n",
       "max               1.000000     1.000000    1.000000"
      ]
     },
     "execution_count": 45,
     "metadata": {},
     "output_type": "execute_result"
    }
   ],
   "source": [
    "df_train.describe()"
   ]
  },
  {
   "cell_type": "markdown",
   "metadata": {
    "papermill": {
     "duration": 0.085494,
     "end_time": "2024-01-25T15:27:10.166878",
     "exception": false,
     "start_time": "2024-01-25T15:27:10.081384",
     "status": "completed"
    },
    "tags": []
   },
   "source": [
    "# BUILDING A LINEAR MODEL"
   ]
  },
  {
   "cell_type": "markdown",
   "metadata": {
    "papermill": {
     "duration": 0.084764,
     "end_time": "2024-01-25T15:27:10.339506",
     "exception": false,
     "start_time": "2024-01-25T15:27:10.254742",
     "status": "completed"
    },
    "tags": []
   },
   "source": [
    "## Dividing into X and Y sets for the model building"
   ]
  },
  {
   "cell_type": "code",
   "execution_count": 46,
   "metadata": {
    "execution": {
     "iopub.execute_input": "2024-01-25T15:27:10.530863Z",
     "iopub.status.busy": "2024-01-25T15:27:10.529864Z",
     "iopub.status.idle": "2024-01-25T15:27:10.535464Z",
     "shell.execute_reply": "2024-01-25T15:27:10.536073Z",
     "shell.execute_reply.started": "2024-01-25T15:09:31.377775Z"
    },
    "papermill": {
     "duration": 0.11109,
     "end_time": "2024-01-25T15:27:10.536254",
     "exception": false,
     "start_time": "2024-01-25T15:27:10.425164",
     "status": "completed"
    },
    "tags": []
   },
   "outputs": [],
   "source": [
    "y_train = df_train.pop('Produktivitas Jeruk')\n",
    "X_train = df_train"
   ]
  },
  {
   "cell_type": "markdown",
   "metadata": {
    "papermill": {
     "duration": 0.091958,
     "end_time": "2024-01-25T15:27:10.727800",
     "exception": false,
     "start_time": "2024-01-25T15:27:10.635842",
     "status": "completed"
    },
    "tags": []
   },
   "source": [
    "### RFE\n",
    "Recursive feature elimination: We will be using the **LinearRegression function from SciKit Learn**  for its compatibility with RFE (which is a utility from sklearn)"
   ]
  },
  {
   "cell_type": "code",
   "execution_count": 47,
   "metadata": {
    "execution": {
     "iopub.execute_input": "2024-01-25T15:27:10.926710Z",
     "iopub.status.busy": "2024-01-25T15:27:10.925943Z",
     "iopub.status.idle": "2024-01-25T15:27:11.107289Z",
     "shell.execute_reply": "2024-01-25T15:27:11.106480Z",
     "shell.execute_reply.started": "2024-01-25T15:09:31.386573Z"
    },
    "papermill": {
     "duration": 0.284296,
     "end_time": "2024-01-25T15:27:11.107453",
     "exception": false,
     "start_time": "2024-01-25T15:27:10.823157",
     "status": "completed"
    },
    "tags": []
   },
   "outputs": [],
   "source": [
    "# Importing RFE and LinearRegression\n",
    "from sklearn.feature_selection import RFE\n",
    "from sklearn.linear_model import LinearRegression"
   ]
  },
  {
   "cell_type": "code",
   "execution_count": 48,
   "metadata": {
    "execution": {
     "iopub.execute_input": "2024-01-25T15:27:11.302328Z",
     "iopub.status.busy": "2024-01-25T15:27:11.301522Z",
     "iopub.status.idle": "2024-01-25T15:27:11.354910Z",
     "shell.execute_reply": "2024-01-25T15:27:11.354292Z",
     "shell.execute_reply.started": "2024-01-25T15:09:31.395747Z"
    },
    "papermill": {
     "duration": 0.155994,
     "end_time": "2024-01-25T15:27:11.355362",
     "exception": false,
     "start_time": "2024-01-25T15:27:11.199368",
     "status": "completed"
    },
    "tags": []
   },
   "outputs": [],
   "source": [
    "# Running RFE with the output number of the variable equal to 15\n",
    "lm = LinearRegression()\n",
    "lm.fit(X_train, y_train)\n",
    "\n",
    "rfe = RFE(lm, 15)             # running RFE\n",
    "rfe = rfe.fit(X_train, y_train)"
   ]
  },
  {
   "cell_type": "code",
   "execution_count": 49,
   "metadata": {
    "execution": {
     "iopub.execute_input": "2024-01-25T15:27:11.557870Z",
     "iopub.status.busy": "2024-01-25T15:27:11.556546Z",
     "iopub.status.idle": "2024-01-25T15:27:11.566483Z",
     "shell.execute_reply": "2024-01-25T15:27:11.567214Z",
     "shell.execute_reply.started": "2024-01-25T15:09:31.416838Z"
    },
    "papermill": {
     "duration": 0.114478,
     "end_time": "2024-01-25T15:27:11.567428",
     "exception": false,
     "start_time": "2024-01-25T15:27:11.452950",
     "status": "completed"
    },
    "tags": []
   },
   "outputs": [
    {
     "data": {
      "text/plain": [
       "[('Curah Hujan', True, 1), ('Hari Hujan', True, 1)]"
      ]
     },
     "execution_count": 49,
     "metadata": {},
     "output_type": "execute_result"
    }
   ],
   "source": [
    "list(zip(X_train.columns,rfe.support_,rfe.ranking_))"
   ]
  },
  {
   "cell_type": "code",
   "execution_count": 50,
   "metadata": {
    "execution": {
     "iopub.execute_input": "2024-01-25T15:27:11.765864Z",
     "iopub.status.busy": "2024-01-25T15:27:11.764613Z",
     "iopub.status.idle": "2024-01-25T15:27:11.769923Z",
     "shell.execute_reply": "2024-01-25T15:27:11.769337Z",
     "shell.execute_reply.started": "2024-01-25T15:09:31.426311Z"
    },
    "papermill": {
     "duration": 0.108045,
     "end_time": "2024-01-25T15:27:11.770372",
     "exception": false,
     "start_time": "2024-01-25T15:27:11.662327",
     "status": "completed"
    },
    "tags": []
   },
   "outputs": [
    {
     "data": {
      "text/plain": [
       "Index(['Curah Hujan', 'Hari Hujan'], dtype='object')"
      ]
     },
     "execution_count": 50,
     "metadata": {},
     "output_type": "execute_result"
    }
   ],
   "source": [
    "col = X_train.columns[rfe.support_]\n",
    "col"
   ]
  },
  {
   "cell_type": "code",
   "execution_count": 51,
   "metadata": {
    "execution": {
     "iopub.execute_input": "2024-01-25T15:27:11.978615Z",
     "iopub.status.busy": "2024-01-25T15:27:11.977438Z",
     "iopub.status.idle": "2024-01-25T15:27:11.982936Z",
     "shell.execute_reply": "2024-01-25T15:27:11.981923Z",
     "shell.execute_reply.started": "2024-01-25T15:09:31.440312Z"
    },
    "papermill": {
     "duration": 0.106667,
     "end_time": "2024-01-25T15:27:11.983123",
     "exception": false,
     "start_time": "2024-01-25T15:27:11.876456",
     "status": "completed"
    },
    "tags": []
   },
   "outputs": [
    {
     "data": {
      "text/plain": [
       "Index([], dtype='object')"
      ]
     },
     "execution_count": 51,
     "metadata": {},
     "output_type": "execute_result"
    }
   ],
   "source": [
    "X_train.columns[~rfe.support_]"
   ]
  },
  {
   "cell_type": "code",
   "execution_count": 52,
   "metadata": {
    "execution": {
     "iopub.execute_input": "2024-01-25T15:27:12.164881Z",
     "iopub.status.busy": "2024-01-25T15:27:12.163841Z",
     "iopub.status.idle": "2024-01-25T15:27:12.167255Z",
     "shell.execute_reply": "2024-01-25T15:27:12.166591Z",
     "shell.execute_reply.started": "2024-01-25T15:09:31.453957Z"
    },
    "papermill": {
     "duration": 0.095787,
     "end_time": "2024-01-25T15:27:12.167385",
     "exception": false,
     "start_time": "2024-01-25T15:27:12.071598",
     "status": "completed"
    },
    "tags": []
   },
   "outputs": [],
   "source": [
    "# Creating X_test dataframe with RFE selected variables\n",
    "X_train_rfe = X_train[col]"
   ]
  },
  {
   "cell_type": "code",
   "execution_count": 53,
   "metadata": {
    "execution": {
     "iopub.execute_input": "2024-01-25T15:27:12.345852Z",
     "iopub.status.busy": "2024-01-25T15:27:12.344843Z",
     "iopub.status.idle": "2024-01-25T15:27:12.349437Z",
     "shell.execute_reply": "2024-01-25T15:27:12.350057Z",
     "shell.execute_reply.started": "2024-01-25T15:09:31.464321Z"
    },
    "papermill": {
     "duration": 0.095306,
     "end_time": "2024-01-25T15:27:12.350228",
     "exception": false,
     "start_time": "2024-01-25T15:27:12.254922",
     "status": "completed"
    },
    "tags": []
   },
   "outputs": [],
   "source": [
    "from scipy import stats\n",
    "import matplotlib.pyplot as plt"
   ]
  },
  {
   "cell_type": "code",
   "execution_count": 54,
   "metadata": {
    "execution": {
     "iopub.execute_input": "2024-01-25T15:27:12.538845Z",
     "iopub.status.busy": "2024-01-25T15:27:12.537775Z",
     "iopub.status.idle": "2024-01-25T15:27:12.545469Z",
     "shell.execute_reply": "2024-01-25T15:27:12.546065Z",
     "shell.execute_reply.started": "2024-01-25T15:09:31.472563Z"
    },
    "papermill": {
     "duration": 0.106395,
     "end_time": "2024-01-25T15:27:12.546233",
     "exception": false,
     "start_time": "2024-01-25T15:27:12.439838",
     "status": "completed"
    },
    "tags": []
   },
   "outputs": [
    {
     "name": "stdout",
     "output_type": "stream",
     "text": [
      "Shapiro-Wilk test statistic: 0.6396863460540771\n",
      "Shapiro-Wilk test p-value: 1.8264911805232487e-10\n"
     ]
    }
   ],
   "source": [
    "statistic, pvalue = stats.shapiro(X_train_rfe)\n",
    "\n",
    "print(\"Shapiro-Wilk test statistic:\", statistic)\n",
    "print(\"Shapiro-Wilk test p-value:\", pvalue)"
   ]
  },
  {
   "cell_type": "markdown",
   "metadata": {
    "papermill": {
     "duration": 0.091824,
     "end_time": "2024-01-25T15:27:12.726755",
     "exception": false,
     "start_time": "2024-01-25T15:27:12.634931",
     "status": "completed"
    },
    "tags": []
   },
   "source": [
    "# Building Linear Model using 'STATS MODEL'"
   ]
  },
  {
   "cell_type": "markdown",
   "metadata": {
    "papermill": {
     "duration": 0.087502,
     "end_time": "2024-01-25T15:27:12.903296",
     "exception": false,
     "start_time": "2024-01-25T15:27:12.815794",
     "status": "completed"
    },
    "tags": []
   },
   "source": [
    "## Model 1"
   ]
  },
  {
   "cell_type": "markdown",
   "metadata": {
    "papermill": {
     "duration": 0.08901,
     "end_time": "2024-01-25T15:27:13.082312",
     "exception": false,
     "start_time": "2024-01-25T15:27:12.993302",
     "status": "completed"
    },
    "tags": []
   },
   "source": [
    "### VIF Check"
   ]
  },
  {
   "cell_type": "code",
   "execution_count": 55,
   "metadata": {
    "execution": {
     "iopub.execute_input": "2024-01-25T15:27:13.264674Z",
     "iopub.status.busy": "2024-01-25T15:27:13.263965Z",
     "iopub.status.idle": "2024-01-25T15:27:13.407544Z",
     "shell.execute_reply": "2024-01-25T15:27:13.406834Z",
     "shell.execute_reply.started": "2024-01-25T15:09:31.485316Z"
    },
    "papermill": {
     "duration": 0.237989,
     "end_time": "2024-01-25T15:27:13.407694",
     "exception": false,
     "start_time": "2024-01-25T15:27:13.169705",
     "status": "completed"
    },
    "tags": []
   },
   "outputs": [
    {
     "data": {
      "text/html": [
       "<div>\n",
       "<style scoped>\n",
       "    .dataframe tbody tr th:only-of-type {\n",
       "        vertical-align: middle;\n",
       "    }\n",
       "\n",
       "    .dataframe tbody tr th {\n",
       "        vertical-align: top;\n",
       "    }\n",
       "\n",
       "    .dataframe thead th {\n",
       "        text-align: right;\n",
       "    }\n",
       "</style>\n",
       "<table border=\"1\" class=\"dataframe\">\n",
       "  <thead>\n",
       "    <tr style=\"text-align: right;\">\n",
       "      <th></th>\n",
       "      <th>Features</th>\n",
       "      <th>VIF</th>\n",
       "    </tr>\n",
       "  </thead>\n",
       "  <tbody>\n",
       "    <tr>\n",
       "      <th>0</th>\n",
       "      <td>Curah Hujan</td>\n",
       "      <td>51.15</td>\n",
       "    </tr>\n",
       "    <tr>\n",
       "      <th>1</th>\n",
       "      <td>Hari Hujan</td>\n",
       "      <td>51.15</td>\n",
       "    </tr>\n",
       "  </tbody>\n",
       "</table>\n",
       "</div>"
      ],
      "text/plain": [
       "      Features    VIF\n",
       "0  Curah Hujan  51.15\n",
       "1   Hari Hujan  51.15"
      ]
     },
     "execution_count": 55,
     "metadata": {},
     "output_type": "execute_result"
    }
   ],
   "source": [
    "# Check for the VIF values of the feature variables. \n",
    "from statsmodels.stats.outliers_influence import variance_inflation_factor\n",
    "\n",
    "# Create a dataframe that will contain the names of all the feature variables and their respective VIFs\n",
    "vif = pd.DataFrame()\n",
    "vif['Features'] = X_train_rfe.columns\n",
    "vif['VIF'] = [variance_inflation_factor(X_train_rfe.values, i) for i in range(X_train_rfe.shape[1])]\n",
    "vif['VIF'] = round(vif['VIF'], 2)\n",
    "vif = vif.sort_values(by = \"VIF\", ascending = False)\n",
    "vif"
   ]
  },
  {
   "cell_type": "code",
   "execution_count": 56,
   "metadata": {
    "execution": {
     "iopub.execute_input": "2024-01-25T15:27:13.599142Z",
     "iopub.status.busy": "2024-01-25T15:27:13.598366Z",
     "iopub.status.idle": "2024-01-25T15:27:14.261886Z",
     "shell.execute_reply": "2024-01-25T15:27:14.261131Z",
     "shell.execute_reply.started": "2024-01-25T15:09:31.509772Z"
    },
    "papermill": {
     "duration": 0.762613,
     "end_time": "2024-01-25T15:27:14.262053",
     "exception": false,
     "start_time": "2024-01-25T15:27:13.499440",
     "status": "completed"
    },
    "tags": []
   },
   "outputs": [],
   "source": [
    "import statsmodels.api as sm\n",
    "\n",
    "# Add a constant\n",
    "X_train_lm1 = sm.add_constant(X_train_rfe)\n",
    "\n",
    "# Create a first fitted model\n",
    "lr1 = sm.OLS(y_train, X_train_lm1).fit()"
   ]
  },
  {
   "cell_type": "code",
   "execution_count": 57,
   "metadata": {
    "execution": {
     "iopub.execute_input": "2024-01-25T15:27:14.451308Z",
     "iopub.status.busy": "2024-01-25T15:27:14.450587Z",
     "iopub.status.idle": "2024-01-25T15:27:14.454420Z",
     "shell.execute_reply": "2024-01-25T15:27:14.454998Z",
     "shell.execute_reply.started": "2024-01-25T15:09:31.529289Z"
    },
    "papermill": {
     "duration": 0.104569,
     "end_time": "2024-01-25T15:27:14.455187",
     "exception": false,
     "start_time": "2024-01-25T15:27:14.350618",
     "status": "completed"
    },
    "tags": []
   },
   "outputs": [
    {
     "data": {
      "text/plain": [
       "const          0.261337\n",
       "Curah Hujan   -0.604167\n",
       "Hari Hujan     0.416948\n",
       "dtype: float64"
      ]
     },
     "execution_count": 57,
     "metadata": {},
     "output_type": "execute_result"
    }
   ],
   "source": [
    "# Check the parameters obtained\n",
    "\n",
    "lr1.params"
   ]
  },
  {
   "cell_type": "code",
   "execution_count": 58,
   "metadata": {
    "execution": {
     "iopub.execute_input": "2024-01-25T15:27:14.637348Z",
     "iopub.status.busy": "2024-01-25T15:27:14.636643Z",
     "iopub.status.idle": "2024-01-25T15:27:14.656525Z",
     "shell.execute_reply": "2024-01-25T15:27:14.655753Z",
     "shell.execute_reply.started": "2024-01-25T15:09:31.540474Z"
    },
    "papermill": {
     "duration": 0.112247,
     "end_time": "2024-01-25T15:27:14.656708",
     "exception": false,
     "start_time": "2024-01-25T15:27:14.544461",
     "status": "completed"
    },
    "tags": []
   },
   "outputs": [
    {
     "name": "stdout",
     "output_type": "stream",
     "text": [
      "                             OLS Regression Results                            \n",
      "===============================================================================\n",
      "Dep. Variable:     Produktivitas Jeruk   R-squared:                       0.027\n",
      "Model:                             OLS   Adj. R-squared:                 -0.051\n",
      "Method:                  Least Squares   F-statistic:                    0.3465\n",
      "Date:                 Thu, 25 Jan 2024   Prob (F-statistic):              0.710\n",
      "Time:                         15:27:14   Log-Likelihood:                 2.0599\n",
      "No. Observations:                   28   AIC:                             1.880\n",
      "Df Residuals:                       25   BIC:                             5.877\n",
      "Df Model:                            2                                         \n",
      "Covariance Type:             nonrobust                                         \n",
      "===============================================================================\n",
      "                  coef    std err          t      P>|t|      [0.025      0.975]\n",
      "-------------------------------------------------------------------------------\n",
      "const           0.2613      0.059      4.402      0.000       0.139       0.384\n",
      "Curah Hujan    -0.6042      1.266     -0.477      0.637      -3.211       2.002\n",
      "Hari Hujan      0.4169      1.213      0.344      0.734      -2.081       2.915\n",
      "==============================================================================\n",
      "Omnibus:                       22.402   Durbin-Watson:                   2.022\n",
      "Prob(Omnibus):                  0.000   Jarque-Bera (JB):               32.577\n",
      "Skew:                           1.874   Prob(JB):                     8.43e-08\n",
      "Kurtosis:                       6.724   Cond. No.                         40.0\n",
      "==============================================================================\n",
      "\n",
      "Warnings:\n",
      "[1] Standard Errors assume that the covariance matrix of the errors is correctly specified.\n"
     ]
    }
   ],
   "source": [
    "# Print a summary of the linear regression model obtained\n",
    "print(lr1.summary())"
   ]
  },
  {
   "cell_type": "markdown",
   "metadata": {
    "papermill": {
     "duration": 0.094677,
     "end_time": "2024-01-25T15:27:14.843245",
     "exception": false,
     "start_time": "2024-01-25T15:27:14.748568",
     "status": "completed"
    },
    "tags": []
   },
   "source": [
    "- Removing the variable 'mnth_3' based on its High 'p-value'."
   ]
  },
  {
   "cell_type": "markdown",
   "metadata": {
    "papermill": {
     "duration": 0.092928,
     "end_time": "2024-01-25T15:27:15.027336",
     "exception": false,
     "start_time": "2024-01-25T15:27:14.934408",
     "status": "completed"
    },
    "tags": []
   },
   "source": [
    "# Final Model Interpretation"
   ]
  },
  {
   "cell_type": "markdown",
   "metadata": {
    "papermill": {
     "duration": 0.090259,
     "end_time": "2024-01-25T15:27:15.207481",
     "exception": false,
     "start_time": "2024-01-25T15:27:15.117222",
     "status": "completed"
    },
    "tags": []
   },
   "source": [
    "## Hypothesis Testing:"
   ]
  },
  {
   "cell_type": "markdown",
   "metadata": {
    "papermill": {
     "duration": 0.090283,
     "end_time": "2024-01-25T15:27:15.388296",
     "exception": false,
     "start_time": "2024-01-25T15:27:15.298013",
     "status": "completed"
    },
    "tags": []
   },
   "source": [
    "Hypothesis testing states that:\n",
    "- H0:B1=B2=...=Bn=0 \n",
    "- H1:  at least one  Bi!=0"
   ]
  },
  {
   "cell_type": "markdown",
   "metadata": {
    "papermill": {
     "duration": 0.090358,
     "end_time": "2024-01-25T15:27:15.570167",
     "exception": false,
     "start_time": "2024-01-25T15:27:15.479809",
     "status": "completed"
    },
    "tags": []
   },
   "source": [
    "### lr1 model coefficient values"
   ]
  },
  {
   "cell_type": "markdown",
   "metadata": {
    "papermill": {
     "duration": 0.090855,
     "end_time": "2024-01-25T15:27:15.751201",
     "exception": false,
     "start_time": "2024-01-25T15:27:15.660346",
     "status": "completed"
    },
    "tags": []
   },
   "source": [
    "- const 0.2613\n",
    "- Curah Hujan -0.6042\n",
    "- Hari Hujan 0.4169 "
   ]
  },
  {
   "cell_type": "markdown",
   "metadata": {
    "papermill": {
     "duration": 0.090442,
     "end_time": "2024-01-25T15:27:15.934013",
     "exception": false,
     "start_time": "2024-01-25T15:27:15.843571",
     "status": "completed"
    },
    "tags": []
   },
   "source": [
    "### Insights\n",
    "- From the lr1 model summary, it is evident that all our coefficients are not equal to zerowhich means **We REJECT the NULL HYPOTHESIS**\n",
    "    "
   ]
  },
  {
   "cell_type": "markdown",
   "metadata": {
    "papermill": {
     "duration": 0.088972,
     "end_time": "2024-01-25T15:27:16.112749",
     "exception": false,
     "start_time": "2024-01-25T15:27:16.023777",
     "status": "completed"
    },
    "tags": []
   },
   "source": [
    "### F Statistics"
   ]
  },
  {
   "cell_type": "markdown",
   "metadata": {
    "papermill": {
     "duration": 0.090636,
     "end_time": "2024-01-25T15:27:16.292298",
     "exception": false,
     "start_time": "2024-01-25T15:27:16.201662",
     "status": "completed"
    },
    "tags": []
   },
   "source": [
    "F-Statistics is used for testing the overall significance of the Model: Higher the F-Statistics, more significant the Model is.\n",
    "\n",
    "- F-statistic: 0.3465\n",
    "- Prob (F-statistic): 0.710\n",
    "\n",
    "The F-Statistics value of 0.3465 and is not the p-value of '~0.0000' states that the overall model is ***not significant"
   ]
  },
  {
   "cell_type": "markdown",
   "metadata": {
    "papermill": {
     "duration": 0.09071,
     "end_time": "2024-01-25T15:27:16.475971",
     "exception": false,
     "start_time": "2024-01-25T15:27:16.385261",
     "status": "completed"
    },
    "tags": []
   },
   "source": [
    "## The equation of best fitted surface based on model lr6:"
   ]
  },
  {
   "cell_type": "markdown",
   "metadata": {
    "papermill": {
     "duration": 0.095895,
     "end_time": "2024-01-25T15:27:16.666799",
     "exception": false,
     "start_time": "2024-01-25T15:27:16.570904",
     "status": "completed"
    },
    "tags": []
   },
   "source": [
    "cnt = 0.2613 - (**Curah Hujan** × -0.6042) + (**Hari Hujan** × 0.4169)"
   ]
  },
  {
   "cell_type": "markdown",
   "metadata": {
    "papermill": {
     "duration": 0.092324,
     "end_time": "2024-01-25T15:27:16.871712",
     "exception": false,
     "start_time": "2024-01-25T15:27:16.779388",
     "status": "completed"
    },
    "tags": []
   },
   "source": [
    "## Interpretation of Coefficients:\n",
    "**Curah Hujan:** A coefficient value of ‘-0.6042’ menunjukkan bahwa setiap nilai dari variable 'curah hujan' yang bertambah maka akan memberikan dampak negative kepada produktivitas jeruk sebesar 60% secara tidak langsung.\n",
    "\n",
    "**Hari Hujan:** A coefficient value of ‘0.4169’ menunjukkan bahwa setiap nilai dari variable 'curah hujan' yang bertambah maka akan memberikan dampak positive kepada produktivitas jeruk sebesar 41% secara tidak langsung.."
   ]
  },
  {
   "cell_type": "markdown",
   "metadata": {
    "papermill": {
     "duration": 0.089701,
     "end_time": "2024-01-25T15:27:17.053887",
     "exception": false,
     "start_time": "2024-01-25T15:27:16.964186",
     "status": "completed"
    },
    "tags": []
   },
   "source": [
    "# ASSUMPTIONS "
   ]
  },
  {
   "cell_type": "markdown",
   "metadata": {
    "papermill": {
     "duration": 0.090668,
     "end_time": "2024-01-25T15:27:17.234508",
     "exception": false,
     "start_time": "2024-01-25T15:27:17.143840",
     "status": "completed"
    },
    "tags": []
   },
   "source": [
    "## Error terms are normally distributed with mean zero (not X, Y)\n",
    "- Residual Analysis Of Training Data"
   ]
  },
  {
   "cell_type": "code",
   "execution_count": 59,
   "metadata": {
    "execution": {
     "iopub.execute_input": "2024-01-25T15:27:17.424291Z",
     "iopub.status.busy": "2024-01-25T15:27:17.423342Z",
     "iopub.status.idle": "2024-01-25T15:27:17.427258Z",
     "shell.execute_reply": "2024-01-25T15:27:17.426547Z",
     "shell.execute_reply.started": "2024-01-25T15:09:31.560075Z"
    },
    "papermill": {
     "duration": 0.10018,
     "end_time": "2024-01-25T15:27:17.427392",
     "exception": false,
     "start_time": "2024-01-25T15:27:17.327212",
     "status": "completed"
    },
    "tags": []
   },
   "outputs": [],
   "source": [
    "y_train_pred = lr1.predict(X_train_lm1)"
   ]
  },
  {
   "cell_type": "code",
   "execution_count": 60,
   "metadata": {
    "execution": {
     "iopub.execute_input": "2024-01-25T15:27:17.623266Z",
     "iopub.status.busy": "2024-01-25T15:27:17.619281Z",
     "iopub.status.idle": "2024-01-25T15:27:17.827090Z",
     "shell.execute_reply": "2024-01-25T15:27:17.827716Z",
     "shell.execute_reply.started": "2024-01-25T15:09:31.568414Z"
    },
    "papermill": {
     "duration": 0.312361,
     "end_time": "2024-01-25T15:27:17.827921",
     "exception": false,
     "start_time": "2024-01-25T15:27:17.515560",
     "status": "completed"
    },
    "tags": []
   },
   "outputs": [
    {
     "data": {
      "text/plain": [
       "Text(0.5, 0, 'Errors')"
      ]
     },
     "execution_count": 60,
     "metadata": {},
     "output_type": "execute_result"
    },
    {
     "data": {
      "image/png": "[encoded data removed]",
      "text/plain": [
       "<Figure size 432x288 with 1 Axes>"
      ]
     },
     "metadata": {
      "needs_background": "light"
     },
     "output_type": "display_data"
    }
   ],
   "source": [
    "res = y_train-y_train_pred\n",
    "# Plot the histogram of the error terms\n",
    "fig = plt.figure()\n",
    "sns.distplot((res), bins = 20)\n",
    "fig.suptitle('Error Terms', fontsize = 20)                  # Plot heading \n",
    "plt.xlabel('Errors', fontsize = 18)                         # X-label"
   ]
  },
  {
   "cell_type": "markdown",
   "metadata": {
    "papermill": {
     "duration": 0.09297,
     "end_time": "2024-01-25T15:27:18.017432",
     "exception": false,
     "start_time": "2024-01-25T15:27:17.924462",
     "status": "completed"
    },
    "tags": []
   },
   "source": [
    "### Insights\n",
    "- From the above histogram, we could see that the Residuals are normally distributed. Hence our assumption for Linear Regression is valid."
   ]
  },
  {
   "cell_type": "markdown",
   "metadata": {
    "papermill": {
     "duration": 0.099633,
     "end_time": "2024-01-25T15:27:18.213518",
     "exception": false,
     "start_time": "2024-01-25T15:27:18.113885",
     "status": "completed"
    },
    "tags": []
   },
   "source": [
    "## There is a linear relationship between X and Y"
   ]
  },
  {
   "cell_type": "code",
   "execution_count": 61,
   "metadata": {
    "execution": {
     "iopub.execute_input": "2024-01-25T15:27:18.404867Z",
     "iopub.status.busy": "2024-01-25T15:27:18.404123Z",
     "iopub.status.idle": "2024-01-25T15:27:20.765541Z",
     "shell.execute_reply": "2024-01-25T15:27:20.764866Z",
     "shell.execute_reply.started": "2024-01-25T15:09:31.806799Z"
    },
    "papermill": {
     "duration": 2.456143,
     "end_time": "2024-01-25T15:27:20.765692",
     "exception": false,
     "start_time": "2024-01-25T15:27:18.309549",
     "status": "completed"
    },
    "tags": []
   },
   "outputs": [
    {
     "data": {
      "image/png": "[encoded data removed]",
      "text/plain": [
       "<Figure size 540x540 with 12 Axes>"
      ]
     },
     "metadata": {
      "needs_background": "light"
     },
     "output_type": "display_data"
    }
   ],
   "source": [
    "bike_new=bike_new[['Produktivitas Jeruk', 'Curah Hujan',\n",
    "       'Hari Hujan']]\n",
    "\n",
    "sns.pairplot(bike_num, diag_kind='kde')\n",
    "plt.show()"
   ]
  },
  {
   "cell_type": "markdown",
   "metadata": {
    "papermill": {
     "duration": 0.094594,
     "end_time": "2024-01-25T15:27:20.956409",
     "exception": false,
     "start_time": "2024-01-25T15:27:20.861815",
     "status": "completed"
    },
    "tags": []
   },
   "source": [
    "## Insight\n",
    "- Using the pair plot, we could see there is a linear relation between temp and atemp variable with the predictor ‘cnt’."
   ]
  },
  {
   "cell_type": "markdown",
   "metadata": {
    "papermill": {
     "duration": 0.096462,
     "end_time": "2024-01-25T15:27:21.153067",
     "exception": false,
     "start_time": "2024-01-25T15:27:21.056605",
     "status": "completed"
    },
    "tags": []
   },
   "source": [
    "## There is No Multicollinearity between the predictor variables"
   ]
  },
  {
   "cell_type": "code",
   "execution_count": 62,
   "metadata": {
    "execution": {
     "iopub.execute_input": "2024-01-25T15:27:21.349852Z",
     "iopub.status.busy": "2024-01-25T15:27:21.349176Z",
     "iopub.status.idle": "2024-01-25T15:27:21.367902Z",
     "shell.execute_reply": "2024-01-25T15:27:21.368468Z",
     "shell.execute_reply.started": "2024-01-25T15:09:34.466480Z"
    },
    "papermill": {
     "duration": 0.118166,
     "end_time": "2024-01-25T15:27:21.368670",
     "exception": false,
     "start_time": "2024-01-25T15:27:21.250504",
     "status": "completed"
    },
    "tags": []
   },
   "outputs": [
    {
     "data": {
      "text/html": [
       "<div>\n",
       "<style scoped>\n",
       "    .dataframe tbody tr th:only-of-type {\n",
       "        vertical-align: middle;\n",
       "    }\n",
       "\n",
       "    .dataframe tbody tr th {\n",
       "        vertical-align: top;\n",
       "    }\n",
       "\n",
       "    .dataframe thead th {\n",
       "        text-align: right;\n",
       "    }\n",
       "</style>\n",
       "<table border=\"1\" class=\"dataframe\">\n",
       "  <thead>\n",
       "    <tr style=\"text-align: right;\">\n",
       "      <th></th>\n",
       "      <th>Features</th>\n",
       "      <th>VIF</th>\n",
       "    </tr>\n",
       "  </thead>\n",
       "  <tbody>\n",
       "    <tr>\n",
       "      <th>0</th>\n",
       "      <td>Curah Hujan</td>\n",
       "      <td>51.15</td>\n",
       "    </tr>\n",
       "    <tr>\n",
       "      <th>1</th>\n",
       "      <td>Hari Hujan</td>\n",
       "      <td>51.15</td>\n",
       "    </tr>\n",
       "  </tbody>\n",
       "</table>\n",
       "</div>"
      ],
      "text/plain": [
       "      Features    VIF\n",
       "0  Curah Hujan  51.15\n",
       "1   Hari Hujan  51.15"
      ]
     },
     "execution_count": 62,
     "metadata": {},
     "output_type": "execute_result"
    }
   ],
   "source": [
    "# Check for the VIF values of the feature variables. \n",
    "from statsmodels.stats.outliers_influence import variance_inflation_factor\n",
    "\n",
    "# Create a dataframe that will contain the names of all the feature variables and their respective VIFs\n",
    "vif = pd.DataFrame()\n",
    "vif['Features'] = X_train_rfe.columns\n",
    "vif['VIF'] = [variance_inflation_factor(X_train_rfe.values, i) for i in range(X_train_rfe.shape[1])]\n",
    "vif['VIF'] = round(vif['VIF'], 2)\n",
    "vif = vif.sort_values(by = \"VIF\", ascending = False)\n",
    "vif"
   ]
  },
  {
   "cell_type": "markdown",
   "metadata": {
    "papermill": {
     "duration": 0.0944,
     "end_time": "2024-01-25T15:27:21.558313",
     "exception": false,
     "start_time": "2024-01-25T15:27:21.463913",
     "status": "completed"
    },
    "tags": []
   },
   "source": [
    "## Insight\n",
    "\n",
    " - From the VIF calculation we could find that there is no multicollinearity existing between the predictor variables, as all the values are within permissible range of below 5"
   ]
  },
  {
   "cell_type": "markdown",
   "metadata": {
    "papermill": {
     "duration": 0.098011,
     "end_time": "2024-01-25T15:27:21.751725",
     "exception": false,
     "start_time": "2024-01-25T15:27:21.653714",
     "status": "completed"
    },
    "tags": []
   },
   "source": [
    "# MAKING PREDICTION USING FINAL MODEL\n",
    "\n",
    "Now that we have fitted the model and checked the assumptions, it's time to go ahead and make predictions using the final model (lr6)\n",
    "\n",
    "### Applying the scaling on the test sets"
   ]
  },
  {
   "cell_type": "code",
   "execution_count": 63,
   "metadata": {
    "execution": {
     "iopub.execute_input": "2024-01-25T15:27:21.942589Z",
     "iopub.status.busy": "2024-01-25T15:27:21.941872Z",
     "iopub.status.idle": "2024-01-25T15:27:21.953542Z",
     "shell.execute_reply": "2024-01-25T15:27:21.954237Z",
     "shell.execute_reply.started": "2024-01-25T15:09:34.491147Z"
    },
    "papermill": {
     "duration": 0.108409,
     "end_time": "2024-01-25T15:27:21.954412",
     "exception": false,
     "start_time": "2024-01-25T15:27:21.846003",
     "status": "completed"
    },
    "tags": []
   },
   "outputs": [],
   "source": [
    "# Apply scaler() to all numeric variables in test dataset. Note: we will only use scaler.transform, \n",
    "# as we want to use the metrics that the model learned from the training data to be applied on the test data. \n",
    "# In other words, we want to prevent the information leak from train to test dataset.\n",
    "\n",
    "num_vars = ['Produktivitas Jeruk', 'Curah Hujan',\n",
    "       'Hari Hujan']\n",
    "\n",
    "df_test[num_vars] = scaler.transform(df_test[num_vars])"
   ]
  },
  {
   "cell_type": "code",
   "execution_count": 64,
   "metadata": {
    "execution": {
     "iopub.execute_input": "2024-01-25T15:27:22.148499Z",
     "iopub.status.busy": "2024-01-25T15:27:22.147743Z",
     "iopub.status.idle": "2024-01-25T15:27:22.155285Z",
     "shell.execute_reply": "2024-01-25T15:27:22.155960Z",
     "shell.execute_reply.started": "2024-01-25T15:09:34.507456Z"
    },
    "papermill": {
     "duration": 0.108836,
     "end_time": "2024-01-25T15:27:22.156146",
     "exception": false,
     "start_time": "2024-01-25T15:27:22.047310",
     "status": "completed"
    },
    "tags": []
   },
   "outputs": [
    {
     "data": {
      "text/html": [
       "<div>\n",
       "<style scoped>\n",
       "    .dataframe tbody tr th:only-of-type {\n",
       "        vertical-align: middle;\n",
       "    }\n",
       "\n",
       "    .dataframe tbody tr th {\n",
       "        vertical-align: top;\n",
       "    }\n",
       "\n",
       "    .dataframe thead th {\n",
       "        text-align: right;\n",
       "    }\n",
       "</style>\n",
       "<table border=\"1\" class=\"dataframe\">\n",
       "  <thead>\n",
       "    <tr style=\"text-align: right;\">\n",
       "      <th></th>\n",
       "      <th>Produktivitas Jeruk</th>\n",
       "      <th>Curah Hujan</th>\n",
       "      <th>Hari Hujan</th>\n",
       "    </tr>\n",
       "  </thead>\n",
       "  <tbody>\n",
       "    <tr>\n",
       "      <th>31</th>\n",
       "      <td>0.552941</td>\n",
       "      <td>0.086327</td>\n",
       "      <td>0.142105</td>\n",
       "    </tr>\n",
       "    <tr>\n",
       "      <th>4</th>\n",
       "      <td>0.188235</td>\n",
       "      <td>0.166667</td>\n",
       "      <td>0.171053</td>\n",
       "    </tr>\n",
       "    <tr>\n",
       "      <th>6</th>\n",
       "      <td>0.141176</td>\n",
       "      <td>0.039920</td>\n",
       "      <td>0.031579</td>\n",
       "    </tr>\n",
       "    <tr>\n",
       "      <th>16</th>\n",
       "      <td>0.000000</td>\n",
       "      <td>0.221557</td>\n",
       "      <td>0.192105</td>\n",
       "    </tr>\n",
       "    <tr>\n",
       "      <th>30</th>\n",
       "      <td>0.164706</td>\n",
       "      <td>0.008982</td>\n",
       "      <td>0.015789</td>\n",
       "    </tr>\n",
       "  </tbody>\n",
       "</table>\n",
       "</div>"
      ],
      "text/plain": [
       "    Produktivitas Jeruk  Curah Hujan  Hari Hujan\n",
       "31             0.552941     0.086327    0.142105\n",
       "4              0.188235     0.166667    0.171053\n",
       "6              0.141176     0.039920    0.031579\n",
       "16             0.000000     0.221557    0.192105\n",
       "30             0.164706     0.008982    0.015789"
      ]
     },
     "execution_count": 64,
     "metadata": {},
     "output_type": "execute_result"
    }
   ],
   "source": [
    "df_test.head()"
   ]
  },
  {
   "cell_type": "code",
   "execution_count": 65,
   "metadata": {
    "execution": {
     "iopub.execute_input": "2024-01-25T15:27:22.347594Z",
     "iopub.status.busy": "2024-01-25T15:27:22.346822Z",
     "iopub.status.idle": "2024-01-25T15:27:22.371182Z",
     "shell.execute_reply": "2024-01-25T15:27:22.370476Z",
     "shell.execute_reply.started": "2024-01-25T15:09:34.531794Z"
    },
    "papermill": {
     "duration": 0.12279,
     "end_time": "2024-01-25T15:27:22.371315",
     "exception": false,
     "start_time": "2024-01-25T15:27:22.248525",
     "status": "completed"
    },
    "tags": []
   },
   "outputs": [
    {
     "data": {
      "text/html": [
       "<div>\n",
       "<style scoped>\n",
       "    .dataframe tbody tr th:only-of-type {\n",
       "        vertical-align: middle;\n",
       "    }\n",
       "\n",
       "    .dataframe tbody tr th {\n",
       "        vertical-align: top;\n",
       "    }\n",
       "\n",
       "    .dataframe thead th {\n",
       "        text-align: right;\n",
       "    }\n",
       "</style>\n",
       "<table border=\"1\" class=\"dataframe\">\n",
       "  <thead>\n",
       "    <tr style=\"text-align: right;\">\n",
       "      <th></th>\n",
       "      <th>Produktivitas Jeruk</th>\n",
       "      <th>Curah Hujan</th>\n",
       "      <th>Hari Hujan</th>\n",
       "    </tr>\n",
       "  </thead>\n",
       "  <tbody>\n",
       "    <tr>\n",
       "      <th>count</th>\n",
       "      <td>12.000000</td>\n",
       "      <td>12.000000</td>\n",
       "      <td>12.000000</td>\n",
       "    </tr>\n",
       "    <tr>\n",
       "      <th>mean</th>\n",
       "      <td>0.194118</td>\n",
       "      <td>0.101173</td>\n",
       "      <td>0.110746</td>\n",
       "    </tr>\n",
       "    <tr>\n",
       "      <th>std</th>\n",
       "      <td>0.129412</td>\n",
       "      <td>0.085007</td>\n",
       "      <td>0.076373</td>\n",
       "    </tr>\n",
       "    <tr>\n",
       "      <th>min</th>\n",
       "      <td>0.000000</td>\n",
       "      <td>0.002994</td>\n",
       "      <td>-0.002632</td>\n",
       "    </tr>\n",
       "    <tr>\n",
       "      <th>25%</th>\n",
       "      <td>0.135294</td>\n",
       "      <td>0.028443</td>\n",
       "      <td>0.027632</td>\n",
       "    </tr>\n",
       "    <tr>\n",
       "      <th>50%</th>\n",
       "      <td>0.188235</td>\n",
       "      <td>0.096058</td>\n",
       "      <td>0.138158</td>\n",
       "    </tr>\n",
       "    <tr>\n",
       "      <th>75%</th>\n",
       "      <td>0.211765</td>\n",
       "      <td>0.153194</td>\n",
       "      <td>0.165132</td>\n",
       "    </tr>\n",
       "    <tr>\n",
       "      <th>max</th>\n",
       "      <td>0.552941</td>\n",
       "      <td>0.248004</td>\n",
       "      <td>0.205263</td>\n",
       "    </tr>\n",
       "  </tbody>\n",
       "</table>\n",
       "</div>"
      ],
      "text/plain": [
       "       Produktivitas Jeruk  Curah Hujan  Hari Hujan\n",
       "count            12.000000    12.000000   12.000000\n",
       "mean              0.194118     0.101173    0.110746\n",
       "std               0.129412     0.085007    0.076373\n",
       "min               0.000000     0.002994   -0.002632\n",
       "25%               0.135294     0.028443    0.027632\n",
       "50%               0.188235     0.096058    0.138158\n",
       "75%               0.211765     0.153194    0.165132\n",
       "max               0.552941     0.248004    0.205263"
      ]
     },
     "execution_count": 65,
     "metadata": {},
     "output_type": "execute_result"
    }
   ],
   "source": [
    "df_test.describe()"
   ]
  },
  {
   "cell_type": "markdown",
   "metadata": {
    "papermill": {
     "duration": 0.094427,
     "end_time": "2024-01-25T15:27:22.559161",
     "exception": false,
     "start_time": "2024-01-25T15:27:22.464734",
     "status": "completed"
    },
    "tags": []
   },
   "source": [
    "### Dividing into X_test and y_test"
   ]
  },
  {
   "cell_type": "code",
   "execution_count": 66,
   "metadata": {
    "execution": {
     "iopub.execute_input": "2024-01-25T15:27:22.760810Z",
     "iopub.status.busy": "2024-01-25T15:27:22.760114Z",
     "iopub.status.idle": "2024-01-25T15:27:22.763666Z",
     "shell.execute_reply": "2024-01-25T15:27:22.764258Z",
     "shell.execute_reply.started": "2024-01-25T15:09:34.562535Z"
    },
    "papermill": {
     "duration": 0.109788,
     "end_time": "2024-01-25T15:27:22.764445",
     "exception": false,
     "start_time": "2024-01-25T15:27:22.654657",
     "status": "completed"
    },
    "tags": []
   },
   "outputs": [
    {
     "name": "stdout",
     "output_type": "stream",
     "text": [
      "<class 'pandas.core.frame.DataFrame'>\n",
      "Int64Index: 12 entries, 31 to 0\n",
      "Data columns (total 2 columns):\n",
      " #   Column       Non-Null Count  Dtype  \n",
      "---  ------       --------------  -----  \n",
      " 0   Curah Hujan  12 non-null     float64\n",
      " 1   Hari Hujan   12 non-null     float64\n",
      "dtypes: float64(2)\n",
      "memory usage: 288.0 bytes\n"
     ]
    }
   ],
   "source": [
    "y_test = df_test.pop('Produktivitas Jeruk')\n",
    "X_test = df_test\n",
    "X_test.info()"
   ]
  },
  {
   "cell_type": "code",
   "execution_count": 67,
   "metadata": {
    "execution": {
     "iopub.execute_input": "2024-01-25T15:27:22.972282Z",
     "iopub.status.busy": "2024-01-25T15:27:22.971520Z",
     "iopub.status.idle": "2024-01-25T15:27:22.974298Z",
     "shell.execute_reply": "2024-01-25T15:27:22.974827Z",
     "shell.execute_reply.started": "2024-01-25T15:09:34.581152Z"
    },
    "papermill": {
     "duration": 0.114683,
     "end_time": "2024-01-25T15:27:22.975039",
     "exception": false,
     "start_time": "2024-01-25T15:27:22.860356",
     "status": "completed"
    },
    "tags": []
   },
   "outputs": [
    {
     "name": "stdout",
     "output_type": "stream",
     "text": [
      "<class 'pandas.core.frame.DataFrame'>\n",
      "Int64Index: 12 entries, 31 to 0\n",
      "Data columns (total 3 columns):\n",
      " #   Column       Non-Null Count  Dtype  \n",
      "---  ------       --------------  -----  \n",
      " 0   const        12 non-null     float64\n",
      " 1   Curah Hujan  12 non-null     float64\n",
      " 2   Hari Hujan   12 non-null     float64\n",
      "dtypes: float64(3)\n",
      "memory usage: 384.0 bytes\n"
     ]
    }
   ],
   "source": [
    "#Selecting the variables that were part of final model.\n",
    "col1=X_train_rfe.columns\n",
    "X_test=X_test[col1]\n",
    "# Adding constant variable to test dataframe\n",
    "X_test_lm1 = sm.add_constant(X_test)\n",
    "X_test_lm1.info()"
   ]
  },
  {
   "cell_type": "code",
   "execution_count": 68,
   "metadata": {
    "execution": {
     "iopub.execute_input": "2024-01-25T15:27:23.174679Z",
     "iopub.status.busy": "2024-01-25T15:27:23.173905Z",
     "iopub.status.idle": "2024-01-25T15:27:23.177241Z",
     "shell.execute_reply": "2024-01-25T15:27:23.176615Z",
     "shell.execute_reply.started": "2024-01-25T15:09:34.600168Z"
    },
    "papermill": {
     "duration": 0.105844,
     "end_time": "2024-01-25T15:27:23.177391",
     "exception": false,
     "start_time": "2024-01-25T15:27:23.071547",
     "status": "completed"
    },
    "tags": []
   },
   "outputs": [],
   "source": [
    "# Making predictions using the final model (lr6)\n",
    "\n",
    "y_pred = lr1.predict(X_test_lm1)"
   ]
  },
  {
   "cell_type": "markdown",
   "metadata": {
    "papermill": {
     "duration": 0.101901,
     "end_time": "2024-01-25T15:27:23.378489",
     "exception": false,
     "start_time": "2024-01-25T15:27:23.276588",
     "status": "completed"
    },
    "tags": []
   },
   "source": [
    "# MODEL EVALUATION"
   ]
  },
  {
   "cell_type": "code",
   "execution_count": 69,
   "metadata": {
    "execution": {
     "iopub.execute_input": "2024-01-25T15:27:23.578873Z",
     "iopub.status.busy": "2024-01-25T15:27:23.572236Z",
     "iopub.status.idle": "2024-01-25T15:27:23.740180Z",
     "shell.execute_reply": "2024-01-25T15:27:23.740652Z",
     "shell.execute_reply.started": "2024-01-25T15:09:34.607821Z"
    },
    "papermill": {
     "duration": 0.269239,
     "end_time": "2024-01-25T15:27:23.740903",
     "exception": false,
     "start_time": "2024-01-25T15:27:23.471664",
     "status": "completed"
    },
    "tags": []
   },
   "outputs": [
    {
     "data": {
      "image/png": "[encoded data removed]",
      "text/plain": [
       "<Figure size 432x288 with 1 Axes>"
      ]
     },
     "metadata": {
      "needs_background": "light"
     },
     "output_type": "display_data"
    }
   ],
   "source": [
    "# Plotting y_test and y_pred to understand the spread\n",
    "\n",
    "fig = plt.figure()\n",
    "plt.scatter(y_test, y_pred, alpha=.5)\n",
    "fig.suptitle('y_test vs y_pred', fontsize = 20)              # Plot heading \n",
    "plt.xlabel('y_test', fontsize = 18)                          # X-label\n",
    "plt.ylabel('y_pred', fontsize = 16) \n",
    "plt.show()"
   ]
  },
  {
   "cell_type": "markdown",
   "metadata": {
    "papermill": {
     "duration": 0.096733,
     "end_time": "2024-01-25T15:27:23.932911",
     "exception": false,
     "start_time": "2024-01-25T15:27:23.836178",
     "status": "completed"
    },
    "tags": []
   },
   "source": [
    " # R^2 Value for TEST"
   ]
  },
  {
   "cell_type": "code",
   "execution_count": 70,
   "metadata": {
    "execution": {
     "iopub.execute_input": "2024-01-25T15:27:24.132405Z",
     "iopub.status.busy": "2024-01-25T15:27:24.131662Z",
     "iopub.status.idle": "2024-01-25T15:27:24.138829Z",
     "shell.execute_reply": "2024-01-25T15:27:24.139404Z",
     "shell.execute_reply.started": "2024-01-25T15:09:34.788388Z"
    },
    "papermill": {
     "duration": 0.109225,
     "end_time": "2024-01-25T15:27:24.139568",
     "exception": false,
     "start_time": "2024-01-25T15:27:24.030343",
     "status": "completed"
    },
    "tags": []
   },
   "outputs": [
    {
     "data": {
      "text/plain": [
       "-0.07480513719202886"
      ]
     },
     "execution_count": 70,
     "metadata": {},
     "output_type": "execute_result"
    }
   ],
   "source": [
    "from sklearn.metrics import r2_score\n",
    "r2_score(y_test, y_pred)"
   ]
  },
  {
   "cell_type": "markdown",
   "metadata": {
    "papermill": {
     "duration": 0.100817,
     "end_time": "2024-01-25T15:27:24.338188",
     "exception": false,
     "start_time": "2024-01-25T15:27:24.237371",
     "status": "completed"
    },
    "tags": []
   },
   "source": [
    "## Adjusted R^2 Value for TEST"
   ]
  },
  {
   "cell_type": "code",
   "execution_count": 71,
   "metadata": {
    "execution": {
     "iopub.execute_input": "2024-01-25T15:27:24.536076Z",
     "iopub.status.busy": "2024-01-25T15:27:24.535392Z",
     "iopub.status.idle": "2024-01-25T15:27:24.539634Z",
     "shell.execute_reply": "2024-01-25T15:27:24.540214Z",
     "shell.execute_reply.started": "2024-01-25T15:09:34.799866Z"
    },
    "papermill": {
     "duration": 0.105024,
     "end_time": "2024-01-25T15:27:24.540370",
     "exception": false,
     "start_time": "2024-01-25T15:27:24.435346",
     "status": "completed"
    },
    "tags": []
   },
   "outputs": [],
   "source": [
    "# We already have the value of R^2 (calculated in above step)\n",
    "\n",
    "r2=-0.07480513719202886"
   ]
  },
  {
   "cell_type": "code",
   "execution_count": 72,
   "metadata": {
    "execution": {
     "iopub.execute_input": "2024-01-25T15:27:24.737775Z",
     "iopub.status.busy": "2024-01-25T15:27:24.737042Z",
     "iopub.status.idle": "2024-01-25T15:27:24.742678Z",
     "shell.execute_reply": "2024-01-25T15:27:24.743260Z",
     "shell.execute_reply.started": "2024-01-25T15:09:34.809011Z"
    },
    "papermill": {
     "duration": 0.108515,
     "end_time": "2024-01-25T15:27:24.743434",
     "exception": false,
     "start_time": "2024-01-25T15:27:24.634919",
     "status": "completed"
    },
    "tags": []
   },
   "outputs": [
    {
     "data": {
      "text/plain": [
       "(12, 2)"
      ]
     },
     "execution_count": 72,
     "metadata": {},
     "output_type": "execute_result"
    }
   ],
   "source": [
    "# Get the shape of X_test\n",
    "X_test.shape\n"
   ]
  },
  {
   "cell_type": "code",
   "execution_count": 73,
   "metadata": {
    "execution": {
     "iopub.execute_input": "2024-01-25T15:27:24.939292Z",
     "iopub.status.busy": "2024-01-25T15:27:24.938269Z",
     "iopub.status.idle": "2024-01-25T15:27:24.945856Z",
     "shell.execute_reply": "2024-01-25T15:27:24.946445Z",
     "shell.execute_reply.started": "2024-01-25T15:09:34.823244Z"
    },
    "papermill": {
     "duration": 0.106985,
     "end_time": "2024-01-25T15:27:24.946601",
     "exception": false,
     "start_time": "2024-01-25T15:27:24.839616",
     "status": "completed"
    },
    "tags": []
   },
   "outputs": [
    {
     "data": {
      "text/plain": [
       "-0.3136507232347019"
      ]
     },
     "execution_count": 73,
     "metadata": {},
     "output_type": "execute_result"
    }
   ],
   "source": [
    "# n is number of rows in X\n",
    "\n",
    "n = X_test.shape[0]\n",
    "\n",
    "\n",
    "# Number of features (predictors, p) is the shape along axis 1\n",
    "p = X_test.shape[1]\n",
    "\n",
    "# We find the Adjusted R-squared using the formula\n",
    "\n",
    "adjusted_r2 = 1-(1-r2)*(n-1)/(n-p-1)\n",
    "adjusted_r2"
   ]
  },
  {
   "cell_type": "markdown",
   "metadata": {
    "papermill": {
     "duration": 0.09691,
     "end_time": "2024-01-25T15:27:25.139376",
     "exception": false,
     "start_time": "2024-01-25T15:27:25.042466",
     "status": "completed"
    },
    "tags": []
   },
   "source": [
    "# Final Result Comparison"
   ]
  },
  {
   "cell_type": "markdown",
   "metadata": {
    "papermill": {
     "duration": 0.095924,
     "end_time": "2024-01-25T15:27:25.334638",
     "exception": false,
     "start_time": "2024-01-25T15:27:25.238714",
     "status": "completed"
    },
    "tags": []
   },
   "source": [
    "- Train R^2 :0.027\n",
    "- Train Adjusted R^2 :-0.051\n",
    "- Test R^2 :-0.0748\n",
    "- Test Adjusted R^2 :-0.3136 \n",
    "- Model ini belum bisa dikatakan cocok dengan data yang ada. Data yang sedikit juga mempengaruhi hasil dari nilai yang didapat diatas."
   ]
  }
 ],
 "metadata": {
  "kaggle": {
   "accelerator": "none",
   "dataSources": [
    {
     "datasetId": 789011,
     "sourceId": 1355226,
     "sourceType": "datasetVersion"
    },
    {
     "datasetId": 4246041,
     "sourceId": 7327627,
     "sourceType": "datasetVersion"
    }
   ],
   "dockerImageVersionId": 29981,
   "isGpuEnabled": false,
   "isInternetEnabled": true,
   "language": "python",
   "sourceType": "notebook"
  },
  "kernelspec": {
   "display_name": "Python 3",
   "language": "python",
   "name": "python3"
  },
  "language_info": {
   "codemirror_mode": {
    "name": "ipython",
    "version": 3
   },
   "file_extension": ".py",
   "mimetype": "text/x-python",
   "name": "python",
   "nbconvert_exporter": "python",
   "pygments_lexer": "ipython3",
   "version": "3.7.6"
  },
  "papermill": {
   "duration": 36.389927,
   "end_time": "2024-01-25T15:27:25.537420",
   "environment_variables": {},
   "exception": null,
   "input_path": "__notebook__.ipynb",
   "output_path": "__notebook__.ipynb",
   "parameters": {},
   "start_time": "2024-01-25T15:26:49.147493",
   "version": "2.1.0"
  }
 },
 "nbformat": 4,
 "nbformat_minor": 4
}
