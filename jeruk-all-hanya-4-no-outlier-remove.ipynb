{
 "cells": [
  {
   "cell_type": "code",
   "execution_count": 1,
   "id": "5e54a274",
   "metadata": {
    "_cell_guid": "b1076dfc-b9ad-4769-8c92-a6c4dae69d19",
    "_uuid": "8f2839f25d086af736a60e9eeb907d3b93b6e0e5",
    "execution": {
     "iopub.execute_input": "2024-01-25T09:49:13.674405Z",
     "iopub.status.busy": "2024-01-25T09:49:13.673849Z",
     "iopub.status.idle": "2024-01-25T09:49:13.698456Z",
     "shell.execute_reply": "2024-01-25T09:49:13.696205Z"
    },
    "papermill": {
     "duration": 0.045259,
     "end_time": "2024-01-25T09:49:13.702015",
     "exception": false,
     "start_time": "2024-01-25T09:49:13.656756",
     "status": "completed"
    },
    "tags": []
   },
   "outputs": [
    {
     "name": "stdout",
     "output_type": "stream",
     "text": [
      "/kaggle/input/cardataset/data.csv\n",
      "/kaggle/input/bismillahskripsi/Buleleng-Climate - Full (1).csv\n"
     ]
    }
   ],
   "source": [
    "# This Python 3 environment comes with many helpful analytics libraries installed\n",
    "# It is defined by the kaggle/python Docker image: https://github.com/kaggle/docker-python\n",
    "# For example, here's several helpful packages to load\n",
    "\n",
    "import numpy as np # linear algebra\n",
    "import pandas as pd # data processing, CSV file I/O (e.g. pd.read_csv)\n",
    "\n",
    "# Input data files are available in the read-only \"../input/\" directory\n",
    "# For example, running this (by clicking run or pressing Shift+Enter) will list all files under the input directory\n",
    "\n",
    "import os\n",
    "for dirname, _, filenames in os.walk('/kaggle/input'):\n",
    "    for filename in filenames:\n",
    "        print(os.path.join(dirname, filename))\n",
    "\n",
    "# You can write up to 20GB to the current directory (/kaggle/working/) that gets preserved as output when you create a version using \"Save & Run All\" \n",
    "# You can also write temporary files to /kaggle/temp/, but they won't be saved outside of the current session"
   ]
  },
  {
   "cell_type": "markdown",
   "id": "0192d886",
   "metadata": {
    "papermill": {
     "duration": 0.012322,
     "end_time": "2024-01-25T09:49:13.727820",
     "exception": false,
     "start_time": "2024-01-25T09:49:13.715498",
     "status": "completed"
    },
    "tags": []
   },
   "source": [
    "# **Linear Regression:**\n",
    "\n",
    "Linear regression is a statistical method used to analyze the relationship between a dependent variable and one or more independent variables. In linear regression, the relationship between the variables is modeled using a linear equation. This equation can be used to predict the value of the dependent variable based on the values of the independent variables.\n",
    "\n",
    "There are several types of linear regression, including simple linear regression, multiple linear regression, and polynomial regression.\n",
    "\n",
    "* **Simple linear regression:** This type of linear regression models the relationship between a dependent variable and a single independent variable. It is used to identify the strength of the relationship between the two variables and to predict the value of the dependent variable based on the value of the independent variable.\n",
    "\n",
    "* **Multiple linear regression:** This type of linear regression models the relationship between a dependent variable and two or more independent variables. It is used to identify the strength of the relationship between the variables and to predict the value of the dependent variable based on the values of the independent variables.\n",
    "\n",
    "* **Polynomial regression:** This type of linear regression is used to model relationships between the dependent and independent variables that are not linear. It can be used to fit a curve to the data and make predictions based on the curve.\n",
    "\n",
    "You can find my project about simple linear regression [here](http://www.kaggle.com/code/emineyetm/simple-linear-regression-using-python).\n",
    "\n",
    "*Multiple regression* is a statistical method used to model the relationship between multiple independent variables and a dependent variable. In Python, this can be performed using the sklearn library. To use multiple regression with this library, you will first need to create a LinearRegression object, then train the model on your data using the fit() method. Once the model is trained, you can use the predict() method to make predictions on new data.\n",
    "\n",
    "* Here : Y = b0 + b1 * x1 + b2 * x2 + b3 * x3 + …… bn * xn \n",
    "* Y = Dependent variable and x1, x2, x3, …… xn = multiple independent variables "
   ]
  },
  {
   "cell_type": "markdown",
   "id": "f9c3bf73",
   "metadata": {
    "papermill": {
     "duration": 0.011885,
     "end_time": "2024-01-25T09:49:13.754149",
     "exception": false,
     "start_time": "2024-01-25T09:49:13.742264",
     "status": "completed"
    },
    "tags": []
   },
   "source": [
    "**Assumption of Regression Model :** \n",
    "* Linearity: The relationship between dependent and independent variables should be linear.\n",
    "* Homoscedasticity: Constant variance of the errors should be maintained.\n",
    "* Multivariate normality: Multiple Regression assumes that the residuals are normally distributed.\n",
    "* Lack of Multicollinearity: It is assumed that there is little or no multicollinearity in the data."
   ]
  },
  {
   "cell_type": "code",
   "execution_count": 2,
   "id": "c82bd90b",
   "metadata": {
    "execution": {
     "iopub.execute_input": "2024-01-25T09:49:13.779847Z",
     "iopub.status.busy": "2024-01-25T09:49:13.779408Z",
     "iopub.status.idle": "2024-01-25T09:49:15.426957Z",
     "shell.execute_reply": "2024-01-25T09:49:15.425459Z"
    },
    "papermill": {
     "duration": 1.664391,
     "end_time": "2024-01-25T09:49:15.430417",
     "exception": false,
     "start_time": "2024-01-25T09:49:13.766026",
     "status": "completed"
    },
    "tags": []
   },
   "outputs": [],
   "source": [
    "#Importing the libraries\n",
    "import pandas as pd\n",
    "import numpy as np\n",
    "import matplotlib.pyplot as plt\n",
    "import seaborn as sns\n",
    "\n",
    "# import warnings\n",
    "import warnings\n",
    "warnings.filterwarnings(\"ignore\")\n",
    "\n",
    "# We will use some methods from the sklearn module\n",
    "from sklearn import linear_model\n",
    "from sklearn.linear_model import LinearRegression\n",
    "from sklearn import metrics\n",
    "from sklearn.metrics import mean_squared_error, mean_absolute_error\n",
    "from sklearn.model_selection import train_test_split, cross_val_score"
   ]
  },
  {
   "cell_type": "code",
   "execution_count": 3,
   "id": "50b625c7",
   "metadata": {
    "execution": {
     "iopub.execute_input": "2024-01-25T09:49:15.457575Z",
     "iopub.status.busy": "2024-01-25T09:49:15.456884Z",
     "iopub.status.idle": "2024-01-25T09:49:15.474091Z",
     "shell.execute_reply": "2024-01-25T09:49:15.472857Z"
    },
    "papermill": {
     "duration": 0.034468,
     "end_time": "2024-01-25T09:49:15.477604",
     "exception": false,
     "start_time": "2024-01-25T09:49:15.443136",
     "status": "completed"
    },
    "tags": []
   },
   "outputs": [],
   "source": [
    "# Reading the Dataset\n",
    "df = pd.read_csv(\"/kaggle/input/bismillahskripsi/Buleleng-Climate - Full (1).csv\")"
   ]
  },
  {
   "cell_type": "code",
   "execution_count": 4,
   "id": "8652ffd9",
   "metadata": {
    "execution": {
     "iopub.execute_input": "2024-01-25T09:49:15.507568Z",
     "iopub.status.busy": "2024-01-25T09:49:15.507111Z",
     "iopub.status.idle": "2024-01-25T09:49:15.543647Z",
     "shell.execute_reply": "2024-01-25T09:49:15.542213Z"
    },
    "papermill": {
     "duration": 0.055071,
     "end_time": "2024-01-25T09:49:15.546686",
     "exception": false,
     "start_time": "2024-01-25T09:49:15.491615",
     "status": "completed"
    },
    "tags": []
   },
   "outputs": [
    {
     "data": {
      "text/html": [
       "<div>\n",
       "<style scoped>\n",
       "    .dataframe tbody tr th:only-of-type {\n",
       "        vertical-align: middle;\n",
       "    }\n",
       "\n",
       "    .dataframe tbody tr th {\n",
       "        vertical-align: top;\n",
       "    }\n",
       "\n",
       "    .dataframe thead th {\n",
       "        text-align: right;\n",
       "    }\n",
       "</style>\n",
       "<table border=\"1\" class=\"dataframe\">\n",
       "  <thead>\n",
       "    <tr style=\"text-align: right;\">\n",
       "      <th></th>\n",
       "      <th>Year</th>\n",
       "      <th>Periode</th>\n",
       "      <th>Produktivitas Mangga</th>\n",
       "      <th>Produktivitas Jeruk</th>\n",
       "      <th>Max</th>\n",
       "      <th>Min</th>\n",
       "      <th>Tavg</th>\n",
       "      <th>Sun Hour</th>\n",
       "      <th>Sun Day</th>\n",
       "      <th>Curah Hujan</th>\n",
       "      <th>Hari Hujan</th>\n",
       "      <th>Kecepatan A</th>\n",
       "      <th>Mx Kec</th>\n",
       "    </tr>\n",
       "  </thead>\n",
       "  <tbody>\n",
       "    <tr>\n",
       "      <th>0</th>\n",
       "      <td>2012</td>\n",
       "      <td>Triwulan I</td>\n",
       "      <td>0.46</td>\n",
       "      <td>0.17</td>\n",
       "      <td>28.0</td>\n",
       "      <td>25.0</td>\n",
       "      <td>26.00</td>\n",
       "      <td>78.7</td>\n",
       "      <td>8</td>\n",
       "      <td>501</td>\n",
       "      <td>83</td>\n",
       "      <td>8.17</td>\n",
       "      <td>13.4</td>\n",
       "    </tr>\n",
       "    <tr>\n",
       "      <th>1</th>\n",
       "      <td>2012</td>\n",
       "      <td>Triwulan II</td>\n",
       "      <td>0.00</td>\n",
       "      <td>0.10</td>\n",
       "      <td>28.0</td>\n",
       "      <td>24.0</td>\n",
       "      <td>26.00</td>\n",
       "      <td>237.7</td>\n",
       "      <td>49</td>\n",
       "      <td>164</td>\n",
       "      <td>42</td>\n",
       "      <td>8.93</td>\n",
       "      <td>14.0</td>\n",
       "    </tr>\n",
       "    <tr>\n",
       "      <th>2</th>\n",
       "      <td>2012</td>\n",
       "      <td>Triwulan III</td>\n",
       "      <td>0.27</td>\n",
       "      <td>0.20</td>\n",
       "      <td>28.0</td>\n",
       "      <td>22.0</td>\n",
       "      <td>24.33</td>\n",
       "      <td>336.3</td>\n",
       "      <td>88</td>\n",
       "      <td>10</td>\n",
       "      <td>4</td>\n",
       "      <td>12.20</td>\n",
       "      <td>17.2</td>\n",
       "    </tr>\n",
       "    <tr>\n",
       "      <th>3</th>\n",
       "      <td>2012</td>\n",
       "      <td>Triwulan IV</td>\n",
       "      <td>0.46</td>\n",
       "      <td>0.11</td>\n",
       "      <td>29.0</td>\n",
       "      <td>25.0</td>\n",
       "      <td>27.00</td>\n",
       "      <td>176.0</td>\n",
       "      <td>24</td>\n",
       "      <td>375</td>\n",
       "      <td>68</td>\n",
       "      <td>7.93</td>\n",
       "      <td>13.6</td>\n",
       "    </tr>\n",
       "    <tr>\n",
       "      <th>4</th>\n",
       "      <td>2013</td>\n",
       "      <td>Triwulan I</td>\n",
       "      <td>0.65</td>\n",
       "      <td>0.16</td>\n",
       "      <td>28.0</td>\n",
       "      <td>25.0</td>\n",
       "      <td>27.00</td>\n",
       "      <td>140.7</td>\n",
       "      <td>20</td>\n",
       "      <td>338</td>\n",
       "      <td>70</td>\n",
       "      <td>7.33</td>\n",
       "      <td>12.0</td>\n",
       "    </tr>\n",
       "  </tbody>\n",
       "</table>\n",
       "</div>"
      ],
      "text/plain": [
       "   Year       Periode  Produktivitas Mangga  Produktivitas Jeruk   Max   Min  \\\n",
       "0  2012    Triwulan I                  0.46                 0.17  28.0  25.0   \n",
       "1  2012   Triwulan II                  0.00                 0.10  28.0  24.0   \n",
       "2  2012  Triwulan III                  0.27                 0.20  28.0  22.0   \n",
       "3  2012   Triwulan IV                  0.46                 0.11  29.0  25.0   \n",
       "4  2013    Triwulan I                  0.65                 0.16  28.0  25.0   \n",
       "\n",
       "    Tavg  Sun Hour  Sun Day  Curah Hujan  Hari Hujan  Kecepatan A  Mx Kec  \n",
       "0  26.00      78.7        8          501          83         8.17    13.4  \n",
       "1  26.00     237.7       49          164          42         8.93    14.0  \n",
       "2  24.33     336.3       88           10           4        12.20    17.2  \n",
       "3  27.00     176.0       24          375          68         7.93    13.6  \n",
       "4  27.00     140.7       20          338          70         7.33    12.0  "
      ]
     },
     "execution_count": 4,
     "metadata": {},
     "output_type": "execute_result"
    }
   ],
   "source": [
    "df.head()"
   ]
  },
  {
   "cell_type": "code",
   "execution_count": 5,
   "id": "a4b094c5",
   "metadata": {
    "execution": {
     "iopub.execute_input": "2024-01-25T09:49:15.573747Z",
     "iopub.status.busy": "2024-01-25T09:49:15.573316Z",
     "iopub.status.idle": "2024-01-25T09:49:15.581138Z",
     "shell.execute_reply": "2024-01-25T09:49:15.579657Z"
    },
    "papermill": {
     "duration": 0.024801,
     "end_time": "2024-01-25T09:49:15.583744",
     "exception": false,
     "start_time": "2024-01-25T09:49:15.558943",
     "status": "completed"
    },
    "tags": []
   },
   "outputs": [
    {
     "data": {
      "text/plain": [
       "(40, 13)"
      ]
     },
     "execution_count": 5,
     "metadata": {},
     "output_type": "execute_result"
    }
   ],
   "source": [
    "df.shape"
   ]
  },
  {
   "cell_type": "code",
   "execution_count": 6,
   "id": "ca7b8c1c",
   "metadata": {
    "execution": {
     "iopub.execute_input": "2024-01-25T09:49:15.609471Z",
     "iopub.status.busy": "2024-01-25T09:49:15.609033Z",
     "iopub.status.idle": "2024-01-25T09:49:15.630765Z",
     "shell.execute_reply": "2024-01-25T09:49:15.629511Z"
    },
    "papermill": {
     "duration": 0.03829,
     "end_time": "2024-01-25T09:49:15.633933",
     "exception": false,
     "start_time": "2024-01-25T09:49:15.595643",
     "status": "completed"
    },
    "tags": []
   },
   "outputs": [
    {
     "name": "stdout",
     "output_type": "stream",
     "text": [
      "                          Year  Produktivitas Mangga  Produktivitas Jeruk  \\\n",
      "Year                  1.000000              0.010064            -0.070046   \n",
      "Produktivitas Mangga  0.010064              1.000000             0.228743   \n",
      "Produktivitas Jeruk  -0.070046              0.228743             1.000000   \n",
      "Max                   0.279426              0.235977             0.245804   \n",
      "Min                  -0.088834              0.194542             0.137681   \n",
      "Tavg                 -0.066674              0.147447             0.186269   \n",
      "Sun Hour             -0.268175             -0.028627             0.141859   \n",
      "Sun Day               0.030909             -0.111666             0.008470   \n",
      "Curah Hujan           0.204291             -0.173016            -0.136795   \n",
      "Hari Hujan            0.254543             -0.165654            -0.109886   \n",
      "Kecepatan A          -0.603841             -0.001481             0.053439   \n",
      "Mx Kec               -0.687437              0.011073             0.062386   \n",
      "\n",
      "                           Max       Min      Tavg  Sun Hour   Sun Day  \\\n",
      "Year                  0.279426 -0.088834 -0.066674 -0.268175  0.030909   \n",
      "Produktivitas Mangga  0.235977  0.194542  0.147447 -0.028627 -0.111666   \n",
      "Produktivitas Jeruk   0.245804  0.137681  0.186269  0.141859  0.008470   \n",
      "Max                   1.000000  0.530359  0.742399  0.097351 -0.147446   \n",
      "Min                   0.530359  1.000000  0.866807 -0.291066 -0.638704   \n",
      "Tavg                  0.742399  0.866807  1.000000 -0.087068 -0.500964   \n",
      "Sun Hour              0.097351 -0.291066 -0.087068  1.000000  0.840108   \n",
      "Sun Day              -0.147446 -0.638704 -0.500964  0.840108  1.000000   \n",
      "Curah Hujan          -0.171144  0.054132  0.001760 -0.689054 -0.516138   \n",
      "Hari Hujan           -0.146731  0.030077  0.008571 -0.658835 -0.479767   \n",
      "Kecepatan A          -0.165496 -0.353273 -0.265760  0.648865  0.524796   \n",
      "Mx Kec                0.004889 -0.129036 -0.040105  0.567946  0.332497   \n",
      "\n",
      "                      Curah Hujan  Hari Hujan  Kecepatan A    Mx Kec  \n",
      "Year                     0.204291    0.254543    -0.603841 -0.687437  \n",
      "Produktivitas Mangga    -0.173016   -0.165654    -0.001481  0.011073  \n",
      "Produktivitas Jeruk     -0.136795   -0.109886     0.053439  0.062386  \n",
      "Max                     -0.171144   -0.146731    -0.165496  0.004889  \n",
      "Min                      0.054132    0.030077    -0.353273 -0.129036  \n",
      "Tavg                     0.001760    0.008571    -0.265760 -0.040105  \n",
      "Sun Hour                -0.689054   -0.658835     0.648865  0.567946  \n",
      "Sun Day                 -0.516138   -0.479767     0.524796  0.332497  \n",
      "Curah Hujan              1.000000    0.976047    -0.455966 -0.408924  \n",
      "Hari Hujan               0.976047    1.000000    -0.456667 -0.431579  \n",
      "Kecepatan A             -0.455966   -0.456667     1.000000  0.906767  \n",
      "Mx Kec                  -0.408924   -0.431579     0.906767  1.000000  \n"
     ]
    }
   ],
   "source": [
    "print(df.corr())"
   ]
  },
  {
   "cell_type": "code",
   "execution_count": 7,
   "id": "dfc72917",
   "metadata": {
    "execution": {
     "iopub.execute_input": "2024-01-25T09:49:15.660517Z",
     "iopub.status.busy": "2024-01-25T09:49:15.660111Z",
     "iopub.status.idle": "2024-01-25T09:49:16.828180Z",
     "shell.execute_reply": "2024-01-25T09:49:16.826749Z"
    },
    "papermill": {
     "duration": 1.187775,
     "end_time": "2024-01-25T09:49:16.833769",
     "exception": false,
     "start_time": "2024-01-25T09:49:15.645994",
     "status": "completed"
    },
    "tags": []
   },
   "outputs": [
    {
     "data": {
      "image/png": "[encoded data removed]",
      "text/plain": [
       "<Figure size 1800x1440 with 2 Axes>"
      ]
     },
     "metadata": {
      "needs_background": "light"
     },
     "output_type": "display_data"
    }
   ],
   "source": [
    "# Let's check the correlation coefficients to see which variables are highly correlated. Note:\n",
    "# here we are considering only those variables (dataframe: bike_new) that were chosen for analysis\n",
    "\n",
    "plt.figure(figsize = (25,20))\n",
    "sns.heatmap(df.corr(), annot = True, cmap=\"RdBu\")\n",
    "plt.show()"
   ]
  },
  {
   "cell_type": "code",
   "execution_count": 8,
   "id": "08a4fe29",
   "metadata": {
    "execution": {
     "iopub.execute_input": "2024-01-25T09:49:16.873480Z",
     "iopub.status.busy": "2024-01-25T09:49:16.872273Z",
     "iopub.status.idle": "2024-01-25T09:49:16.946100Z",
     "shell.execute_reply": "2024-01-25T09:49:16.944247Z"
    },
    "papermill": {
     "duration": 0.099949,
     "end_time": "2024-01-25T09:49:16.949358",
     "exception": false,
     "start_time": "2024-01-25T09:49:16.849409",
     "status": "completed"
    },
    "tags": []
   },
   "outputs": [
    {
     "name": "stdout",
     "output_type": "stream",
     "text": [
      "              Year  Produktivitas Mangga  Produktivitas Jeruk        Max  \\\n",
      "count    40.000000               40.0000            40.000000  40.000000   \n",
      "mean   2016.500000                0.4385             0.188500  29.175000   \n",
      "std       2.908872                0.2978             0.174922   0.930605   \n",
      "min    2012.000000                0.0000             0.000000  28.000000   \n",
      "25%    2014.000000                0.2550             0.100000  28.000000   \n",
      "50%    2016.500000                0.4900             0.160000  29.000000   \n",
      "75%    2019.000000                0.5900             0.242500  30.000000   \n",
      "max    2021.000000                1.3700             0.850000  31.000000   \n",
      "\n",
      "             Min       Tavg    Sun Hour   Sun Day  Curah Hujan  Hari Hujan  \\\n",
      "count  40.000000  40.000000   40.000000  40.00000    40.000000   40.000000   \n",
      "mean   24.700000  26.683500  191.615000  40.05000   296.975000   63.725000   \n",
      "std     0.992278   1.010064   78.482399  25.66645   345.464421   67.614665   \n",
      "min    22.000000  24.330000   30.000000   6.00000     4.000000    4.000000   \n",
      "25%    24.000000  26.000000  137.025000  20.00000    93.750000   30.250000   \n",
      "50%    25.000000  26.835000  182.000000  29.50000   246.500000   51.500000   \n",
      "75%    25.000000  27.670000  239.450000  57.00000   385.750000   69.250000   \n",
      "max    26.000000  28.330000  336.300000  88.00000  2008.000000  385.000000   \n",
      "\n",
      "       Kecepatan A    Mx Kec  \n",
      "count    40.000000  40.00000  \n",
      "mean      7.432500  11.94000  \n",
      "std       1.631161   2.36706  \n",
      "min       5.170000   7.90000  \n",
      "25%       6.322500  10.27500  \n",
      "50%       7.120000  12.05000  \n",
      "75%       8.117500  13.67500  \n",
      "max      12.200000  17.20000  \n"
     ]
    }
   ],
   "source": [
    "print(df.describe())"
   ]
  },
  {
   "cell_type": "code",
   "execution_count": 9,
   "id": "b7334069",
   "metadata": {
    "execution": {
     "iopub.execute_input": "2024-01-25T09:49:16.983394Z",
     "iopub.status.busy": "2024-01-25T09:49:16.982072Z",
     "iopub.status.idle": "2024-01-25T09:49:16.991285Z",
     "shell.execute_reply": "2024-01-25T09:49:16.989683Z"
    },
    "papermill": {
     "duration": 0.029775,
     "end_time": "2024-01-25T09:49:16.994308",
     "exception": false,
     "start_time": "2024-01-25T09:49:16.964533",
     "status": "completed"
    },
    "tags": []
   },
   "outputs": [],
   "source": [
    "#Setting the value for X and Y\n",
    "X = df[['Tavg', 'Sun Hour','Curah Hujan', 'Kecepatan A']]\n",
    "y = df['Produktivitas Jeruk']"
   ]
  },
  {
   "cell_type": "markdown",
   "id": "547a01a8",
   "metadata": {
    "papermill": {
     "duration": 0.016993,
     "end_time": "2024-01-25T09:49:17.027053",
     "exception": false,
     "start_time": "2024-01-25T09:49:17.010060",
     "status": "completed"
    },
    "tags": []
   },
   "source": [
    "**Then make a list of the independent values and call this variable X. Put the dependent values in a variable called y.**\n",
    "\n",
    "It is common to name the list of independent values with an uppercase X and the list of dependent values with a lowercase y.\n",
    "* **Equation:** Sales = β0 + (β1 * Curah Hujan) + (β2 * Tavg) + (β3 * Sun Hour) + (β4 * CUrah Hujan) + e\n",
    "* Setting the values for independent **(X)** variable and dependent **(Y)** variable"
   ]
  },
  {
   "cell_type": "markdown",
   "id": "ba45d494",
   "metadata": {
    "papermill": {
     "duration": 0.016488,
     "end_time": "2024-01-25T09:49:17.059290",
     "exception": false,
     "start_time": "2024-01-25T09:49:17.042802",
     "status": "completed"
    },
    "tags": []
   },
   "source": [
    "**Checking for outliers**"
   ]
  },
  {
   "cell_type": "code",
   "execution_count": 10,
   "id": "91a63d3a",
   "metadata": {
    "execution": {
     "iopub.execute_input": "2024-01-25T09:49:17.092372Z",
     "iopub.status.busy": "2024-01-25T09:49:17.091929Z",
     "iopub.status.idle": "2024-01-25T09:49:17.836062Z",
     "shell.execute_reply": "2024-01-25T09:49:17.834447Z"
    },
    "papermill": {
     "duration": 0.7645,
     "end_time": "2024-01-25T09:49:17.839213",
     "exception": false,
     "start_time": "2024-01-25T09:49:17.074713",
     "status": "completed"
    },
    "tags": []
   },
   "outputs": [
    {
     "data": {
      "image/png": "[encoded data removed]",
      "text/plain": [
       "<Figure size 1800x720 with 4 Axes>"
      ]
     },
     "metadata": {
      "needs_background": "light"
     },
     "output_type": "display_data"
    }
   ],
   "source": [
    "fig, axs = plt.subplots(4, figsize = (25,10))\n",
    "plt1 = sns.boxplot(df['Tavg'], ax = axs[0])\n",
    "plt2 = sns.boxplot(df['Curah Hujan'], ax = axs[1])\n",
    "plt3 = sns.boxplot(df['Sun Hour'], ax = axs[2])\n",
    "plt4 = sns.boxplot(df['Kecepatan A'], ax = axs[3])\n",
    "plt.tight_layout()"
   ]
  },
  {
   "cell_type": "markdown",
   "id": "8455559a",
   "metadata": {
    "papermill": {
     "duration": 0.015744,
     "end_time": "2024-01-25T09:49:17.870344",
     "exception": false,
     "start_time": "2024-01-25T09:49:17.854600",
     "status": "completed"
    },
    "tags": []
   },
   "source": [
    "# Exploratory Data Analysis\n",
    "\n",
    "**Distribution of the target variable**"
   ]
  },
  {
   "cell_type": "code",
   "execution_count": 11,
   "id": "f2375f9f",
   "metadata": {
    "execution": {
     "iopub.execute_input": "2024-01-25T09:49:17.904882Z",
     "iopub.status.busy": "2024-01-25T09:49:17.904425Z",
     "iopub.status.idle": "2024-01-25T09:49:18.228255Z",
     "shell.execute_reply": "2024-01-25T09:49:18.226674Z"
    },
    "papermill": {
     "duration": 0.345089,
     "end_time": "2024-01-25T09:49:18.231449",
     "exception": false,
     "start_time": "2024-01-25T09:49:17.886360",
     "status": "completed"
    },
    "tags": []
   },
   "outputs": [
    {
     "data": {
      "image/png": "[encoded data removed]",
      "text/plain": [
       "<Figure size 432x288 with 1 Axes>"
      ]
     },
     "metadata": {
      "needs_background": "light"
     },
     "output_type": "display_data"
    }
   ],
   "source": [
    "sns.distplot(df['Produktivitas Jeruk']);"
   ]
  },
  {
   "cell_type": "markdown",
   "id": "b0d62c07",
   "metadata": {
    "papermill": {
     "duration": 0.016706,
     "end_time": "2024-01-25T09:49:18.264867",
     "exception": false,
     "start_time": "2024-01-25T09:49:18.248161",
     "status": "completed"
    },
    "tags": []
   },
   "source": [
    "**Conclusion:** It is normally not normal distributed, but symmetrical"
   ]
  },
  {
   "cell_type": "markdown",
   "id": "21766105",
   "metadata": {
    "papermill": {
     "duration": 0.015001,
     "end_time": "2024-01-25T09:49:18.296941",
     "exception": false,
     "start_time": "2024-01-25T09:49:18.281940",
     "status": "completed"
    },
    "tags": []
   },
   "source": [
    "**Relationship of Mangga with other variables**"
   ]
  },
  {
   "cell_type": "code",
   "execution_count": 12,
   "id": "26719a96",
   "metadata": {
    "execution": {
     "iopub.execute_input": "2024-01-25T09:49:18.330354Z",
     "iopub.status.busy": "2024-01-25T09:49:18.329644Z",
     "iopub.status.idle": "2024-01-25T09:49:19.339102Z",
     "shell.execute_reply": "2024-01-25T09:49:19.337290Z"
    },
    "papermill": {
     "duration": 1.031286,
     "end_time": "2024-01-25T09:49:19.343591",
     "exception": false,
     "start_time": "2024-01-25T09:49:18.312305",
     "status": "completed"
    },
    "tags": []
   },
   "outputs": [
    {
     "data": {
      "image/png": "[encoded data removed]",
      "text/plain": [
       "<Figure size 1152x288 with 4 Axes>"
      ]
     },
     "metadata": {
      "needs_background": "light"
     },
     "output_type": "display_data"
    }
   ],
   "source": [
    "sns.pairplot(df, x_vars=['Tavg', 'Sun Hour','Curah Hujan', 'Kecepatan A'], y_vars='Produktivitas Jeruk', height=4, aspect=1, kind='scatter')\n",
    "plt.show()"
   ]
  },
  {
   "cell_type": "markdown",
   "id": "d9f44ea9",
   "metadata": {
    "papermill": {
     "duration": 0.01661,
     "end_time": "2024-01-25T09:49:19.379389",
     "exception": false,
     "start_time": "2024-01-25T09:49:19.362779",
     "status": "completed"
    },
    "tags": []
   },
   "source": [
    "**Heatmap**\n",
    "The sns.heatmap() function creates a visualization that shows the correlation matrix of a dataset as a heatmap. The annot parameter of this function shows or does not show correlation values in the cells of the heatmap. If this parameter is set to True, correlation values in cells are displayed."
   ]
  },
  {
   "cell_type": "code",
   "execution_count": 13,
   "id": "a7eec301",
   "metadata": {
    "execution": {
     "iopub.execute_input": "2024-01-25T09:49:19.414908Z",
     "iopub.status.busy": "2024-01-25T09:49:19.414129Z",
     "iopub.status.idle": "2024-01-25T09:49:19.813179Z",
     "shell.execute_reply": "2024-01-25T09:49:19.811722Z"
    },
    "papermill": {
     "duration": 0.4207,
     "end_time": "2024-01-25T09:49:19.816498",
     "exception": false,
     "start_time": "2024-01-25T09:49:19.395798",
     "status": "completed"
    },
    "tags": []
   },
   "outputs": [
    {
     "data": {
      "image/png": "[encoded data removed]",
      "text/plain": [
       "<Figure size 432x288 with 2 Axes>"
      ]
     },
     "metadata": {
      "needs_background": "light"
     },
     "output_type": "display_data"
    }
   ],
   "source": [
    "# Create the correlation matrix and represent it as a heatmap.\n",
    "sns.heatmap(X.corr(), annot = True, cmap = 'coolwarm')\n",
    "plt.show()"
   ]
  },
  {
   "cell_type": "markdown",
   "id": "a5dffabf",
   "metadata": {
    "papermill": {
     "duration": 0.017473,
     "end_time": "2024-01-25T09:49:19.853175",
     "exception": false,
     "start_time": "2024-01-25T09:49:19.835702",
     "status": "completed"
    },
    "tags": []
   },
   "source": [
    "# Model Building\n",
    "\n",
    "**Splitting the dataset into train and test set**"
   ]
  },
  {
   "cell_type": "markdown",
   "id": "1b4d887c",
   "metadata": {
    "papermill": {
     "duration": 0.016599,
     "end_time": "2024-01-25T09:49:19.888131",
     "exception": false,
     "start_time": "2024-01-25T09:49:19.871532",
     "status": "completed"
    },
    "tags": []
   },
   "source": [
    "We need to split our dataset into training and testing sets. We’ll perform this by importing train_test_split from sklearn.model_selection library. It is usually good to keep 70% of the data in your train dataset and the rest 30% in your test dataset."
   ]
  },
  {
   "cell_type": "code",
   "execution_count": 14,
   "id": "72e0433d",
   "metadata": {
    "execution": {
     "iopub.execute_input": "2024-01-25T09:49:19.928890Z",
     "iopub.status.busy": "2024-01-25T09:49:19.927279Z",
     "iopub.status.idle": "2024-01-25T09:49:19.938143Z",
     "shell.execute_reply": "2024-01-25T09:49:19.936820Z"
    },
    "papermill": {
     "duration": 0.035262,
     "end_time": "2024-01-25T09:49:19.942317",
     "exception": false,
     "start_time": "2024-01-25T09:49:19.907055",
     "status": "completed"
    },
    "tags": []
   },
   "outputs": [],
   "source": [
    "X_train,X_test, y_train, y_test = train_test_split(X, y, test_size = 0.3, random_state = 100)"
   ]
  },
  {
   "cell_type": "code",
   "execution_count": 15,
   "id": "82a166e2",
   "metadata": {
    "execution": {
     "iopub.execute_input": "2024-01-25T09:49:19.978533Z",
     "iopub.status.busy": "2024-01-25T09:49:19.977973Z",
     "iopub.status.idle": "2024-01-25T09:49:19.987197Z",
     "shell.execute_reply": "2024-01-25T09:49:19.985864Z"
    },
    "papermill": {
     "duration": 0.032752,
     "end_time": "2024-01-25T09:49:19.992264",
     "exception": false,
     "start_time": "2024-01-25T09:49:19.959512",
     "status": "completed"
    },
    "tags": []
   },
   "outputs": [
    {
     "data": {
      "text/plain": [
       "(28,)"
      ]
     },
     "execution_count": 15,
     "metadata": {},
     "output_type": "execute_result"
    }
   ],
   "source": [
    "y_train.shape"
   ]
  },
  {
   "cell_type": "code",
   "execution_count": 16,
   "id": "f9665ab5",
   "metadata": {
    "execution": {
     "iopub.execute_input": "2024-01-25T09:49:20.033301Z",
     "iopub.status.busy": "2024-01-25T09:49:20.032729Z",
     "iopub.status.idle": "2024-01-25T09:49:20.042971Z",
     "shell.execute_reply": "2024-01-25T09:49:20.041157Z"
    },
    "papermill": {
     "duration": 0.035067,
     "end_time": "2024-01-25T09:49:20.046405",
     "exception": false,
     "start_time": "2024-01-25T09:49:20.011338",
     "status": "completed"
    },
    "tags": []
   },
   "outputs": [
    {
     "data": {
      "text/plain": [
       "(12,)"
      ]
     },
     "execution_count": 16,
     "metadata": {},
     "output_type": "execute_result"
    }
   ],
   "source": [
    "y_test.shape"
   ]
  },
  {
   "cell_type": "code",
   "execution_count": 17,
   "id": "9e2cb8ff",
   "metadata": {
    "execution": {
     "iopub.execute_input": "2024-01-25T09:49:20.085466Z",
     "iopub.status.busy": "2024-01-25T09:49:20.083995Z",
     "iopub.status.idle": "2024-01-25T09:49:20.091321Z",
     "shell.execute_reply": "2024-01-25T09:49:20.090028Z"
    },
    "papermill": {
     "duration": 0.030614,
     "end_time": "2024-01-25T09:49:20.094642",
     "exception": false,
     "start_time": "2024-01-25T09:49:20.064028",
     "status": "completed"
    },
    "tags": []
   },
   "outputs": [],
   "source": [
    "reg_model = linear_model.LinearRegression()"
   ]
  },
  {
   "cell_type": "code",
   "execution_count": 18,
   "id": "49db34d5",
   "metadata": {
    "execution": {
     "iopub.execute_input": "2024-01-25T09:49:20.136577Z",
     "iopub.status.busy": "2024-01-25T09:49:20.135976Z",
     "iopub.status.idle": "2024-01-25T09:49:20.158312Z",
     "shell.execute_reply": "2024-01-25T09:49:20.157097Z"
    },
    "papermill": {
     "duration": 0.048721,
     "end_time": "2024-01-25T09:49:20.161616",
     "exception": false,
     "start_time": "2024-01-25T09:49:20.112895",
     "status": "completed"
    },
    "tags": []
   },
   "outputs": [],
   "source": [
    "#Fitting the Multiple Linear Regression model\n",
    "reg_model = LinearRegression().fit(X_train, y_train)"
   ]
  },
  {
   "cell_type": "code",
   "execution_count": 19,
   "id": "0935b5bf",
   "metadata": {
    "execution": {
     "iopub.execute_input": "2024-01-25T09:49:20.199268Z",
     "iopub.status.busy": "2024-01-25T09:49:20.198713Z",
     "iopub.status.idle": "2024-01-25T09:49:20.210316Z",
     "shell.execute_reply": "2024-01-25T09:49:20.208878Z"
    },
    "papermill": {
     "duration": 0.034908,
     "end_time": "2024-01-25T09:49:20.213442",
     "exception": false,
     "start_time": "2024-01-25T09:49:20.178534",
     "status": "completed"
    },
    "tags": []
   },
   "outputs": [
    {
     "name": "stdout",
     "output_type": "stream",
     "text": [
      "Intercept:  -0.01746557554282238\n"
     ]
    },
    {
     "data": {
      "text/plain": [
       "[('Tavg', 0.008828351299585533),\n",
       " ('Sun Hour', 0.00020729124176514327),\n",
       " ('Curah Hujan', -7.005891386759188e-05),\n",
       " ('Kecepatan A', -0.006926465051380888)]"
      ]
     },
     "execution_count": 19,
     "metadata": {},
     "output_type": "execute_result"
    }
   ],
   "source": [
    "#Printing the model coefficients\n",
    "print('Intercept: ',reg_model.intercept_)\n",
    "# pair the feature names with the coefficients\n",
    "list(zip(X, reg_model.coef_))"
   ]
  },
  {
   "cell_type": "code",
   "execution_count": 20,
   "id": "6488ef09",
   "metadata": {
    "execution": {
     "iopub.execute_input": "2024-01-25T09:49:20.251548Z",
     "iopub.status.busy": "2024-01-25T09:49:20.250584Z",
     "iopub.status.idle": "2024-01-25T09:49:20.256625Z",
     "shell.execute_reply": "2024-01-25T09:49:20.255442Z"
    },
    "papermill": {
     "duration": 0.029129,
     "end_time": "2024-01-25T09:49:20.259711",
     "exception": false,
     "start_time": "2024-01-25T09:49:20.230582",
     "status": "completed"
    },
    "tags": []
   },
   "outputs": [],
   "source": [
    "from scipy import stats\n",
    "import matplotlib.pyplot as plt"
   ]
  },
  {
   "cell_type": "code",
   "execution_count": 21,
   "id": "f74cfcc0",
   "metadata": {
    "execution": {
     "iopub.execute_input": "2024-01-25T09:49:20.297557Z",
     "iopub.status.busy": "2024-01-25T09:49:20.296546Z",
     "iopub.status.idle": "2024-01-25T09:49:20.305672Z",
     "shell.execute_reply": "2024-01-25T09:49:20.303693Z"
    },
    "papermill": {
     "duration": 0.031699,
     "end_time": "2024-01-25T09:49:20.308667",
     "exception": false,
     "start_time": "2024-01-25T09:49:20.276968",
     "status": "completed"
    },
    "tags": []
   },
   "outputs": [
    {
     "name": "stdout",
     "output_type": "stream",
     "text": [
      "Shapiro-Wilk test statistic: 0.49502629041671753\n",
      "Shapiro-Wilk test p-value: 6.8035497849006894e-18\n"
     ]
    }
   ],
   "source": [
    "statistic, pvalue = stats.shapiro(X_train)\n",
    "\n",
    "print(\"Shapiro-Wilk test statistic:\", statistic)\n",
    "print(\"Shapiro-Wilk test p-value:\", pvalue)"
   ]
  },
  {
   "cell_type": "code",
   "execution_count": 22,
   "id": "7b0e4f02",
   "metadata": {
    "execution": {
     "iopub.execute_input": "2024-01-25T09:49:20.348100Z",
     "iopub.status.busy": "2024-01-25T09:49:20.347087Z",
     "iopub.status.idle": "2024-01-25T09:49:20.358297Z",
     "shell.execute_reply": "2024-01-25T09:49:20.357123Z"
    },
    "papermill": {
     "duration": 0.034559,
     "end_time": "2024-01-25T09:49:20.361517",
     "exception": false,
     "start_time": "2024-01-25T09:49:20.326958",
     "status": "completed"
    },
    "tags": []
   },
   "outputs": [],
   "source": [
    "#Predicting the Test and Train set result \n",
    "y_pred= reg_model.predict(X_test)  \n",
    "x_pred= reg_model.predict(X_train) "
   ]
  },
  {
   "cell_type": "code",
   "execution_count": 23,
   "id": "12829eee",
   "metadata": {
    "execution": {
     "iopub.execute_input": "2024-01-25T09:49:20.399893Z",
     "iopub.status.busy": "2024-01-25T09:49:20.398869Z",
     "iopub.status.idle": "2024-01-25T09:49:20.408206Z",
     "shell.execute_reply": "2024-01-25T09:49:20.406790Z"
    },
    "papermill": {
     "duration": 0.031497,
     "end_time": "2024-01-25T09:49:20.411131",
     "exception": false,
     "start_time": "2024-01-25T09:49:20.379634",
     "status": "completed"
    },
    "tags": []
   },
   "outputs": [
    {
     "name": "stdout",
     "output_type": "stream",
     "text": [
      "Prediction for test set: [0.17970567 0.18573144 0.19301002 0.13669664 0.20267787 0.22374814\n",
      " 0.16416421 0.20886717 0.17767413 0.17006737 0.14944206 0.13978127]\n"
     ]
    }
   ],
   "source": [
    "print(\"Prediction for test set: {}\".format(y_pred))"
   ]
  },
  {
   "cell_type": "code",
   "execution_count": 24,
   "id": "d5804f55",
   "metadata": {
    "execution": {
     "iopub.execute_input": "2024-01-25T09:49:20.453007Z",
     "iopub.status.busy": "2024-01-25T09:49:20.452189Z",
     "iopub.status.idle": "2024-01-25T09:49:20.467511Z",
     "shell.execute_reply": "2024-01-25T09:49:20.466252Z"
    },
    "papermill": {
     "duration": 0.041273,
     "end_time": "2024-01-25T09:49:20.470354",
     "exception": false,
     "start_time": "2024-01-25T09:49:20.429081",
     "status": "completed"
    },
    "tags": []
   },
   "outputs": [
    {
     "data": {
      "text/html": [
       "<div>\n",
       "<style scoped>\n",
       "    .dataframe tbody tr th:only-of-type {\n",
       "        vertical-align: middle;\n",
       "    }\n",
       "\n",
       "    .dataframe tbody tr th {\n",
       "        vertical-align: top;\n",
       "    }\n",
       "\n",
       "    .dataframe thead th {\n",
       "        text-align: right;\n",
       "    }\n",
       "</style>\n",
       "<table border=\"1\" class=\"dataframe\">\n",
       "  <thead>\n",
       "    <tr style=\"text-align: right;\">\n",
       "      <th></th>\n",
       "      <th>Actual value</th>\n",
       "      <th>Predicted value</th>\n",
       "    </tr>\n",
       "  </thead>\n",
       "  <tbody>\n",
       "    <tr>\n",
       "      <th>19</th>\n",
       "      <td>0.85</td>\n",
       "      <td>0.179706</td>\n",
       "    </tr>\n",
       "    <tr>\n",
       "      <th>6</th>\n",
       "      <td>0.12</td>\n",
       "      <td>0.185731</td>\n",
       "    </tr>\n",
       "    <tr>\n",
       "      <th>20</th>\n",
       "      <td>0.00</td>\n",
       "      <td>0.193010</td>\n",
       "    </tr>\n",
       "    <tr>\n",
       "      <th>0</th>\n",
       "      <td>0.17</td>\n",
       "      <td>0.136697</td>\n",
       "    </tr>\n",
       "    <tr>\n",
       "      <th>34</th>\n",
       "      <td>0.25</td>\n",
       "      <td>0.202678</td>\n",
       "    </tr>\n",
       "    <tr>\n",
       "      <th>25</th>\n",
       "      <td>0.15</td>\n",
       "      <td>0.223748</td>\n",
       "    </tr>\n",
       "    <tr>\n",
       "      <th>39</th>\n",
       "      <td>0.00</td>\n",
       "      <td>0.164164</td>\n",
       "    </tr>\n",
       "    <tr>\n",
       "      <th>21</th>\n",
       "      <td>0.22</td>\n",
       "      <td>0.208867</td>\n",
       "    </tr>\n",
       "    <tr>\n",
       "      <th>28</th>\n",
       "      <td>0.10</td>\n",
       "      <td>0.177674</td>\n",
       "    </tr>\n",
       "    <tr>\n",
       "      <th>7</th>\n",
       "      <td>0.26</td>\n",
       "      <td>0.170067</td>\n",
       "    </tr>\n",
       "    <tr>\n",
       "      <th>33</th>\n",
       "      <td>0.13</td>\n",
       "      <td>0.149442</td>\n",
       "    </tr>\n",
       "    <tr>\n",
       "      <th>36</th>\n",
       "      <td>0.00</td>\n",
       "      <td>0.139781</td>\n",
       "    </tr>\n",
       "  </tbody>\n",
       "</table>\n",
       "</div>"
      ],
      "text/plain": [
       "    Actual value  Predicted value\n",
       "19          0.85         0.179706\n",
       "6           0.12         0.185731\n",
       "20          0.00         0.193010\n",
       "0           0.17         0.136697\n",
       "34          0.25         0.202678\n",
       "25          0.15         0.223748\n",
       "39          0.00         0.164164\n",
       "21          0.22         0.208867\n",
       "28          0.10         0.177674\n",
       "7           0.26         0.170067\n",
       "33          0.13         0.149442\n",
       "36          0.00         0.139781"
      ]
     },
     "execution_count": 24,
     "metadata": {},
     "output_type": "execute_result"
    }
   ],
   "source": [
    "#Actual value and the predicted value\n",
    "reg_model_diff = pd.DataFrame({'Actual value': y_test, 'Predicted value': y_pred})\n",
    "reg_model_diff"
   ]
  },
  {
   "cell_type": "code",
   "execution_count": 25,
   "id": "a23b1ba9",
   "metadata": {
    "execution": {
     "iopub.execute_input": "2024-01-25T09:49:20.507084Z",
     "iopub.status.busy": "2024-01-25T09:49:20.506410Z",
     "iopub.status.idle": "2024-01-25T09:49:20.517183Z",
     "shell.execute_reply": "2024-01-25T09:49:20.515352Z"
    },
    "papermill": {
     "duration": 0.032353,
     "end_time": "2024-01-25T09:49:20.519813",
     "exception": false,
     "start_time": "2024-01-25T09:49:20.487460",
     "status": "completed"
    },
    "tags": []
   },
   "outputs": [
    {
     "name": "stdout",
     "output_type": "stream",
     "text": [
      "Mean Absolute Error: 0.13212804573612172\n",
      "Mean Square Error: 0.046730586940207146\n",
      "Root Mean Square Error: 0.21617258600527298\n"
     ]
    }
   ],
   "source": [
    "mae = metrics.mean_absolute_error(y_test, y_pred)\n",
    "mse = metrics.mean_squared_error(y_test, y_pred)\n",
    "r2 = np.sqrt(metrics.mean_squared_error(y_test, y_pred))\n",
    "\n",
    "print('Mean Absolute Error:', mae)\n",
    "print('Mean Square Error:', mse)\n",
    "print('Root Mean Square Error:', r2)"
   ]
  }
 ],
 "metadata": {
  "kaggle": {
   "accelerator": "none",
   "dataSources": [
    {
     "datasetId": 2702246,
     "sourceId": 4651306,
     "sourceType": "datasetVersion"
    },
    {
     "datasetId": 4246041,
     "sourceId": 7327627,
     "sourceType": "datasetVersion"
    }
   ],
   "dockerImageVersionId": 30301,
   "isGpuEnabled": false,
   "isInternetEnabled": true,
   "language": "python",
   "sourceType": "notebook"
  },
  "kernelspec": {
   "display_name": "Python 3",
   "language": "python",
   "name": "python3"
  },
  "language_info": {
   "codemirror_mode": {
    "name": "ipython",
    "version": 3
   },
   "file_extension": ".py",
   "mimetype": "text/x-python",
   "name": "python",
   "nbconvert_exporter": "python",
   "pygments_lexer": "ipython3",
   "version": "3.7.12"
  },
  "papermill": {
   "default_parameters": {},
   "duration": 20.713825,
   "end_time": "2024-01-25T09:49:21.662420",
   "environment_variables": {},
   "exception": null,
   "input_path": "__notebook__.ipynb",
   "output_path": "__notebook__.ipynb",
   "parameters": {},
   "start_time": "2024-01-25T09:49:00.948595",
   "version": "2.3.4"
  }
 },
 "nbformat": 4,
 "nbformat_minor": 5
}
