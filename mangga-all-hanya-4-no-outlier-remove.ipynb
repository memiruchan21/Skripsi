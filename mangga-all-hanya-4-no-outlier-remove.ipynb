{
 "cells": [
  {
   "cell_type": "code",
   "execution_count": 1,
   "id": "3333c67d",
   "metadata": {
    "_cell_guid": "b1076dfc-b9ad-4769-8c92-a6c4dae69d19",
    "_uuid": "8f2839f25d086af736a60e9eeb907d3b93b6e0e5",
    "execution": {
     "iopub.execute_input": "2024-01-25T10:33:40.596185Z",
     "iopub.status.busy": "2024-01-25T10:33:40.595526Z",
     "iopub.status.idle": "2024-01-25T10:33:40.629172Z",
     "shell.execute_reply": "2024-01-25T10:33:40.627952Z"
    },
    "papermill": {
     "duration": 0.048524,
     "end_time": "2024-01-25T10:33:40.632280",
     "exception": false,
     "start_time": "2024-01-25T10:33:40.583756",
     "status": "completed"
    },
    "tags": []
   },
   "outputs": [
    {
     "name": "stdout",
     "output_type": "stream",
     "text": [
      "/kaggle/input/bismillahskripsi/Buleleng-Climate - Full (1).csv\n",
      "/kaggle/input/cardataset/data.csv\n"
     ]
    }
   ],
   "source": [
    "# This Python 3 environment comes with many helpful analytics libraries installed\n",
    "# It is defined by the kaggle/python Docker image: https://github.com/kaggle/docker-python\n",
    "# For example, here's several helpful packages to load\n",
    "\n",
    "import numpy as np # linear algebra\n",
    "import pandas as pd # data processing, CSV file I/O (e.g. pd.read_csv)\n",
    "\n",
    "# Input data files are available in the read-only \"../input/\" directory\n",
    "# For example, running this (by clicking run or pressing Shift+Enter) will list all files under the input directory\n",
    "\n",
    "import os\n",
    "for dirname, _, filenames in os.walk('/kaggle/input'):\n",
    "    for filename in filenames:\n",
    "        print(os.path.join(dirname, filename))\n",
    "\n",
    "# You can write up to 20GB to the current directory (/kaggle/working/) that gets preserved as output when you create a version using \"Save & Run All\" \n",
    "# You can also write temporary files to /kaggle/temp/, but they won't be saved outside of the current session"
   ]
  },
  {
   "cell_type": "markdown",
   "id": "1a00ba57",
   "metadata": {
    "papermill": {
     "duration": 0.008357,
     "end_time": "2024-01-25T10:33:40.649415",
     "exception": false,
     "start_time": "2024-01-25T10:33:40.641058",
     "status": "completed"
    },
    "tags": []
   },
   "source": [
    "# **Linear Regression:**\n",
    "\n",
    "Linear regression is a statistical method used to analyze the relationship between a dependent variable and one or more independent variables. In linear regression, the relationship between the variables is modeled using a linear equation. This equation can be used to predict the value of the dependent variable based on the values of the independent variables.\n",
    "\n",
    "There are several types of linear regression, including simple linear regression, multiple linear regression, and polynomial regression.\n",
    "\n",
    "* **Simple linear regression:** This type of linear regression models the relationship between a dependent variable and a single independent variable. It is used to identify the strength of the relationship between the two variables and to predict the value of the dependent variable based on the value of the independent variable.\n",
    "\n",
    "* **Multiple linear regression:** This type of linear regression models the relationship between a dependent variable and two or more independent variables. It is used to identify the strength of the relationship between the variables and to predict the value of the dependent variable based on the values of the independent variables.\n",
    "\n",
    "* **Polynomial regression:** This type of linear regression is used to model relationships between the dependent and independent variables that are not linear. It can be used to fit a curve to the data and make predictions based on the curve.\n",
    "\n",
    "You can find my project about simple linear regression [here](http://www.kaggle.com/code/emineyetm/simple-linear-regression-using-python).\n",
    "\n",
    "*Multiple regression* is a statistical method used to model the relationship between multiple independent variables and a dependent variable. In Python, this can be performed using the sklearn library. To use multiple regression with this library, you will first need to create a LinearRegression object, then train the model on your data using the fit() method. Once the model is trained, you can use the predict() method to make predictions on new data.\n",
    "\n",
    "* Here : Y = b0 + b1 * x1 + b2 * x2 + b3 * x3 + …… bn * xn \n",
    "* Y = Dependent variable and x1, x2, x3, …… xn = multiple independent variables "
   ]
  },
  {
   "cell_type": "markdown",
   "id": "75ab5294",
   "metadata": {
    "papermill": {
     "duration": 0.0078,
     "end_time": "2024-01-25T10:33:40.665432",
     "exception": false,
     "start_time": "2024-01-25T10:33:40.657632",
     "status": "completed"
    },
    "tags": []
   },
   "source": [
    "**Assumption of Regression Model :** \n",
    "* Linearity: The relationship between dependent and independent variables should be linear.\n",
    "* Homoscedasticity: Constant variance of the errors should be maintained.\n",
    "* Multivariate normality: Multiple Regression assumes that the residuals are normally distributed.\n",
    "* Lack of Multicollinearity: It is assumed that there is little or no multicollinearity in the data."
   ]
  },
  {
   "cell_type": "code",
   "execution_count": 2,
   "id": "9fded28f",
   "metadata": {
    "execution": {
     "iopub.execute_input": "2024-01-25T10:33:40.684154Z",
     "iopub.status.busy": "2024-01-25T10:33:40.683317Z",
     "iopub.status.idle": "2024-01-25T10:33:42.013127Z",
     "shell.execute_reply": "2024-01-25T10:33:42.011770Z"
    },
    "papermill": {
     "duration": 1.342624,
     "end_time": "2024-01-25T10:33:42.016299",
     "exception": false,
     "start_time": "2024-01-25T10:33:40.673675",
     "status": "completed"
    },
    "tags": []
   },
   "outputs": [],
   "source": [
    "#Importing the libraries\n",
    "import pandas as pd\n",
    "import numpy as np\n",
    "import matplotlib.pyplot as plt\n",
    "import seaborn as sns\n",
    "\n",
    "# import warnings\n",
    "import warnings\n",
    "warnings.filterwarnings(\"ignore\")\n",
    "\n",
    "# We will use some methods from the sklearn module\n",
    "from sklearn import linear_model\n",
    "from sklearn.linear_model import LinearRegression\n",
    "from sklearn import metrics\n",
    "from sklearn.metrics import mean_squared_error, mean_absolute_error\n",
    "from sklearn.model_selection import train_test_split, cross_val_score"
   ]
  },
  {
   "cell_type": "code",
   "execution_count": 3,
   "id": "8c36b839",
   "metadata": {
    "execution": {
     "iopub.execute_input": "2024-01-25T10:33:42.034988Z",
     "iopub.status.busy": "2024-01-25T10:33:42.034538Z",
     "iopub.status.idle": "2024-01-25T10:33:42.050927Z",
     "shell.execute_reply": "2024-01-25T10:33:42.049689Z"
    },
    "papermill": {
     "duration": 0.028685,
     "end_time": "2024-01-25T10:33:42.053513",
     "exception": false,
     "start_time": "2024-01-25T10:33:42.024828",
     "status": "completed"
    },
    "tags": []
   },
   "outputs": [],
   "source": [
    "# Reading the Dataset\n",
    "df = pd.read_csv(\"/kaggle/input/bismillahskripsi/Buleleng-Climate - Full (1).csv\")"
   ]
  },
  {
   "cell_type": "code",
   "execution_count": 4,
   "id": "8506fb29",
   "metadata": {
    "execution": {
     "iopub.execute_input": "2024-01-25T10:33:42.073426Z",
     "iopub.status.busy": "2024-01-25T10:33:42.072989Z",
     "iopub.status.idle": "2024-01-25T10:33:42.101606Z",
     "shell.execute_reply": "2024-01-25T10:33:42.100534Z"
    },
    "papermill": {
     "duration": 0.04057,
     "end_time": "2024-01-25T10:33:42.103939",
     "exception": false,
     "start_time": "2024-01-25T10:33:42.063369",
     "status": "completed"
    },
    "tags": []
   },
   "outputs": [
    {
     "data": {
      "text/html": [
       "<div>\n",
       "<style scoped>\n",
       "    .dataframe tbody tr th:only-of-type {\n",
       "        vertical-align: middle;\n",
       "    }\n",
       "\n",
       "    .dataframe tbody tr th {\n",
       "        vertical-align: top;\n",
       "    }\n",
       "\n",
       "    .dataframe thead th {\n",
       "        text-align: right;\n",
       "    }\n",
       "</style>\n",
       "<table border=\"1\" class=\"dataframe\">\n",
       "  <thead>\n",
       "    <tr style=\"text-align: right;\">\n",
       "      <th></th>\n",
       "      <th>Year</th>\n",
       "      <th>Periode</th>\n",
       "      <th>Produktivitas Mangga</th>\n",
       "      <th>Produktivitas Jeruk</th>\n",
       "      <th>Max</th>\n",
       "      <th>Min</th>\n",
       "      <th>Tavg</th>\n",
       "      <th>Sun Hour</th>\n",
       "      <th>Sun Day</th>\n",
       "      <th>Curah Hujan</th>\n",
       "      <th>Hari Hujan</th>\n",
       "      <th>Kecepatan A</th>\n",
       "      <th>Mx Kec</th>\n",
       "    </tr>\n",
       "  </thead>\n",
       "  <tbody>\n",
       "    <tr>\n",
       "      <th>0</th>\n",
       "      <td>2012</td>\n",
       "      <td>Triwulan I</td>\n",
       "      <td>0.46</td>\n",
       "      <td>0.17</td>\n",
       "      <td>28.0</td>\n",
       "      <td>25.0</td>\n",
       "      <td>26.00</td>\n",
       "      <td>78.7</td>\n",
       "      <td>8</td>\n",
       "      <td>501</td>\n",
       "      <td>83</td>\n",
       "      <td>8.17</td>\n",
       "      <td>13.4</td>\n",
       "    </tr>\n",
       "    <tr>\n",
       "      <th>1</th>\n",
       "      <td>2012</td>\n",
       "      <td>Triwulan II</td>\n",
       "      <td>0.00</td>\n",
       "      <td>0.10</td>\n",
       "      <td>28.0</td>\n",
       "      <td>24.0</td>\n",
       "      <td>26.00</td>\n",
       "      <td>237.7</td>\n",
       "      <td>49</td>\n",
       "      <td>164</td>\n",
       "      <td>42</td>\n",
       "      <td>8.93</td>\n",
       "      <td>14.0</td>\n",
       "    </tr>\n",
       "    <tr>\n",
       "      <th>2</th>\n",
       "      <td>2012</td>\n",
       "      <td>Triwulan III</td>\n",
       "      <td>0.27</td>\n",
       "      <td>0.20</td>\n",
       "      <td>28.0</td>\n",
       "      <td>22.0</td>\n",
       "      <td>24.33</td>\n",
       "      <td>336.3</td>\n",
       "      <td>88</td>\n",
       "      <td>10</td>\n",
       "      <td>4</td>\n",
       "      <td>12.20</td>\n",
       "      <td>17.2</td>\n",
       "    </tr>\n",
       "    <tr>\n",
       "      <th>3</th>\n",
       "      <td>2012</td>\n",
       "      <td>Triwulan IV</td>\n",
       "      <td>0.46</td>\n",
       "      <td>0.11</td>\n",
       "      <td>29.0</td>\n",
       "      <td>25.0</td>\n",
       "      <td>27.00</td>\n",
       "      <td>176.0</td>\n",
       "      <td>24</td>\n",
       "      <td>375</td>\n",
       "      <td>68</td>\n",
       "      <td>7.93</td>\n",
       "      <td>13.6</td>\n",
       "    </tr>\n",
       "    <tr>\n",
       "      <th>4</th>\n",
       "      <td>2013</td>\n",
       "      <td>Triwulan I</td>\n",
       "      <td>0.65</td>\n",
       "      <td>0.16</td>\n",
       "      <td>28.0</td>\n",
       "      <td>25.0</td>\n",
       "      <td>27.00</td>\n",
       "      <td>140.7</td>\n",
       "      <td>20</td>\n",
       "      <td>338</td>\n",
       "      <td>70</td>\n",
       "      <td>7.33</td>\n",
       "      <td>12.0</td>\n",
       "    </tr>\n",
       "  </tbody>\n",
       "</table>\n",
       "</div>"
      ],
      "text/plain": [
       "   Year       Periode  Produktivitas Mangga  Produktivitas Jeruk   Max   Min  \\\n",
       "0  2012    Triwulan I                  0.46                 0.17  28.0  25.0   \n",
       "1  2012   Triwulan II                  0.00                 0.10  28.0  24.0   \n",
       "2  2012  Triwulan III                  0.27                 0.20  28.0  22.0   \n",
       "3  2012   Triwulan IV                  0.46                 0.11  29.0  25.0   \n",
       "4  2013    Triwulan I                  0.65                 0.16  28.0  25.0   \n",
       "\n",
       "    Tavg  Sun Hour  Sun Day  Curah Hujan  Hari Hujan  Kecepatan A  Mx Kec  \n",
       "0  26.00      78.7        8          501          83         8.17    13.4  \n",
       "1  26.00     237.7       49          164          42         8.93    14.0  \n",
       "2  24.33     336.3       88           10           4        12.20    17.2  \n",
       "3  27.00     176.0       24          375          68         7.93    13.6  \n",
       "4  27.00     140.7       20          338          70         7.33    12.0  "
      ]
     },
     "execution_count": 4,
     "metadata": {},
     "output_type": "execute_result"
    }
   ],
   "source": [
    "df.head()"
   ]
  },
  {
   "cell_type": "code",
   "execution_count": 5,
   "id": "31eefd51",
   "metadata": {
    "execution": {
     "iopub.execute_input": "2024-01-25T10:33:42.123491Z",
     "iopub.status.busy": "2024-01-25T10:33:42.123025Z",
     "iopub.status.idle": "2024-01-25T10:33:42.130705Z",
     "shell.execute_reply": "2024-01-25T10:33:42.129563Z"
    },
    "papermill": {
     "duration": 0.020543,
     "end_time": "2024-01-25T10:33:42.133081",
     "exception": false,
     "start_time": "2024-01-25T10:33:42.112538",
     "status": "completed"
    },
    "tags": []
   },
   "outputs": [
    {
     "data": {
      "text/plain": [
       "(40, 13)"
      ]
     },
     "execution_count": 5,
     "metadata": {},
     "output_type": "execute_result"
    }
   ],
   "source": [
    "df.shape"
   ]
  },
  {
   "cell_type": "code",
   "execution_count": 6,
   "id": "ea1aee2a",
   "metadata": {
    "execution": {
     "iopub.execute_input": "2024-01-25T10:33:42.152703Z",
     "iopub.status.busy": "2024-01-25T10:33:42.151616Z",
     "iopub.status.idle": "2024-01-25T10:33:42.172073Z",
     "shell.execute_reply": "2024-01-25T10:33:42.169545Z"
    },
    "papermill": {
     "duration": 0.032792,
     "end_time": "2024-01-25T10:33:42.174512",
     "exception": false,
     "start_time": "2024-01-25T10:33:42.141720",
     "status": "completed"
    },
    "tags": []
   },
   "outputs": [
    {
     "name": "stdout",
     "output_type": "stream",
     "text": [
      "                          Year  Produktivitas Mangga  Produktivitas Jeruk  \\\n",
      "Year                  1.000000              0.010064            -0.070046   \n",
      "Produktivitas Mangga  0.010064              1.000000             0.228743   \n",
      "Produktivitas Jeruk  -0.070046              0.228743             1.000000   \n",
      "Max                   0.279426              0.235977             0.245804   \n",
      "Min                  -0.088834              0.194542             0.137681   \n",
      "Tavg                 -0.066674              0.147447             0.186269   \n",
      "Sun Hour             -0.268175             -0.028627             0.141859   \n",
      "Sun Day               0.030909             -0.111666             0.008470   \n",
      "Curah Hujan           0.204291             -0.173016            -0.136795   \n",
      "Hari Hujan            0.254543             -0.165654            -0.109886   \n",
      "Kecepatan A          -0.603841             -0.001481             0.053439   \n",
      "Mx Kec               -0.687437              0.011073             0.062386   \n",
      "\n",
      "                           Max       Min      Tavg  Sun Hour   Sun Day  \\\n",
      "Year                  0.279426 -0.088834 -0.066674 -0.268175  0.030909   \n",
      "Produktivitas Mangga  0.235977  0.194542  0.147447 -0.028627 -0.111666   \n",
      "Produktivitas Jeruk   0.245804  0.137681  0.186269  0.141859  0.008470   \n",
      "Max                   1.000000  0.530359  0.742399  0.097351 -0.147446   \n",
      "Min                   0.530359  1.000000  0.866807 -0.291066 -0.638704   \n",
      "Tavg                  0.742399  0.866807  1.000000 -0.087068 -0.500964   \n",
      "Sun Hour              0.097351 -0.291066 -0.087068  1.000000  0.840108   \n",
      "Sun Day              -0.147446 -0.638704 -0.500964  0.840108  1.000000   \n",
      "Curah Hujan          -0.171144  0.054132  0.001760 -0.689054 -0.516138   \n",
      "Hari Hujan           -0.146731  0.030077  0.008571 -0.658835 -0.479767   \n",
      "Kecepatan A          -0.165496 -0.353273 -0.265760  0.648865  0.524796   \n",
      "Mx Kec                0.004889 -0.129036 -0.040105  0.567946  0.332497   \n",
      "\n",
      "                      Curah Hujan  Hari Hujan  Kecepatan A    Mx Kec  \n",
      "Year                     0.204291    0.254543    -0.603841 -0.687437  \n",
      "Produktivitas Mangga    -0.173016   -0.165654    -0.001481  0.011073  \n",
      "Produktivitas Jeruk     -0.136795   -0.109886     0.053439  0.062386  \n",
      "Max                     -0.171144   -0.146731    -0.165496  0.004889  \n",
      "Min                      0.054132    0.030077    -0.353273 -0.129036  \n",
      "Tavg                     0.001760    0.008571    -0.265760 -0.040105  \n",
      "Sun Hour                -0.689054   -0.658835     0.648865  0.567946  \n",
      "Sun Day                 -0.516138   -0.479767     0.524796  0.332497  \n",
      "Curah Hujan              1.000000    0.976047    -0.455966 -0.408924  \n",
      "Hari Hujan               0.976047    1.000000    -0.456667 -0.431579  \n",
      "Kecepatan A             -0.455966   -0.456667     1.000000  0.906767  \n",
      "Mx Kec                  -0.408924   -0.431579     0.906767  1.000000  \n"
     ]
    }
   ],
   "source": [
    "print(df.corr())"
   ]
  },
  {
   "cell_type": "code",
   "execution_count": 7,
   "id": "5c431cbf",
   "metadata": {
    "execution": {
     "iopub.execute_input": "2024-01-25T10:33:42.194823Z",
     "iopub.status.busy": "2024-01-25T10:33:42.193625Z",
     "iopub.status.idle": "2024-01-25T10:33:43.211194Z",
     "shell.execute_reply": "2024-01-25T10:33:43.209914Z"
    },
    "papermill": {
     "duration": 1.032871,
     "end_time": "2024-01-25T10:33:43.216308",
     "exception": false,
     "start_time": "2024-01-25T10:33:42.183437",
     "status": "completed"
    },
    "tags": []
   },
   "outputs": [
    {
     "data": {
      "image/png": "[encoded data removed]",
      "text/plain": [
       "<Figure size 1800x1440 with 2 Axes>"
      ]
     },
     "metadata": {
      "needs_background": "light"
     },
     "output_type": "display_data"
    }
   ],
   "source": [
    "# Let's check the correlation coefficients to see which variables are highly correlated. Note:\n",
    "# here we are considering only those variables (dataframe: bike_new) that were chosen for analysis\n",
    "\n",
    "plt.figure(figsize = (25,20))\n",
    "sns.heatmap(df.corr(), annot = True, cmap=\"RdBu\")\n",
    "plt.show()"
   ]
  },
  {
   "cell_type": "code",
   "execution_count": 8,
   "id": "290b2267",
   "metadata": {
    "execution": {
     "iopub.execute_input": "2024-01-25T10:33:43.240607Z",
     "iopub.status.busy": "2024-01-25T10:33:43.240178Z",
     "iopub.status.idle": "2024-01-25T10:33:43.286175Z",
     "shell.execute_reply": "2024-01-25T10:33:43.284881Z"
    },
    "papermill": {
     "duration": 0.060742,
     "end_time": "2024-01-25T10:33:43.288923",
     "exception": false,
     "start_time": "2024-01-25T10:33:43.228181",
     "status": "completed"
    },
    "tags": []
   },
   "outputs": [
    {
     "name": "stdout",
     "output_type": "stream",
     "text": [
      "              Year  Produktivitas Mangga  Produktivitas Jeruk        Max  \\\n",
      "count    40.000000               40.0000            40.000000  40.000000   \n",
      "mean   2016.500000                0.4385             0.188500  29.175000   \n",
      "std       2.908872                0.2978             0.174922   0.930605   \n",
      "min    2012.000000                0.0000             0.000000  28.000000   \n",
      "25%    2014.000000                0.2550             0.100000  28.000000   \n",
      "50%    2016.500000                0.4900             0.160000  29.000000   \n",
      "75%    2019.000000                0.5900             0.242500  30.000000   \n",
      "max    2021.000000                1.3700             0.850000  31.000000   \n",
      "\n",
      "             Min       Tavg    Sun Hour   Sun Day  Curah Hujan  Hari Hujan  \\\n",
      "count  40.000000  40.000000   40.000000  40.00000    40.000000   40.000000   \n",
      "mean   24.700000  26.683500  191.615000  40.05000   296.975000   63.725000   \n",
      "std     0.992278   1.010064   78.482399  25.66645   345.464421   67.614665   \n",
      "min    22.000000  24.330000   30.000000   6.00000     4.000000    4.000000   \n",
      "25%    24.000000  26.000000  137.025000  20.00000    93.750000   30.250000   \n",
      "50%    25.000000  26.835000  182.000000  29.50000   246.500000   51.500000   \n",
      "75%    25.000000  27.670000  239.450000  57.00000   385.750000   69.250000   \n",
      "max    26.000000  28.330000  336.300000  88.00000  2008.000000  385.000000   \n",
      "\n",
      "       Kecepatan A    Mx Kec  \n",
      "count    40.000000  40.00000  \n",
      "mean      7.432500  11.94000  \n",
      "std       1.631161   2.36706  \n",
      "min       5.170000   7.90000  \n",
      "25%       6.322500  10.27500  \n",
      "50%       7.120000  12.05000  \n",
      "75%       8.117500  13.67500  \n",
      "max      12.200000  17.20000  \n"
     ]
    }
   ],
   "source": [
    "print(df.describe())"
   ]
  },
  {
   "cell_type": "code",
   "execution_count": 9,
   "id": "5428ad72",
   "metadata": {
    "execution": {
     "iopub.execute_input": "2024-01-25T10:33:43.312797Z",
     "iopub.status.busy": "2024-01-25T10:33:43.312350Z",
     "iopub.status.idle": "2024-01-25T10:33:43.319136Z",
     "shell.execute_reply": "2024-01-25T10:33:43.317850Z"
    },
    "papermill": {
     "duration": 0.021335,
     "end_time": "2024-01-25T10:33:43.321464",
     "exception": false,
     "start_time": "2024-01-25T10:33:43.300129",
     "status": "completed"
    },
    "tags": []
   },
   "outputs": [],
   "source": [
    "#Setting the value for X and Y\n",
    "X = df[['Tavg', 'Sun Hour','Curah Hujan', 'Kecepatan A']]\n",
    "y = df['Produktivitas Mangga']"
   ]
  },
  {
   "cell_type": "markdown",
   "id": "cfcdebbd",
   "metadata": {
    "papermill": {
     "duration": 0.01128,
     "end_time": "2024-01-25T10:33:43.343502",
     "exception": false,
     "start_time": "2024-01-25T10:33:43.332222",
     "status": "completed"
    },
    "tags": []
   },
   "source": [
    "**Then make a list of the independent values and call this variable X. Put the dependent values in a variable called y.**\n",
    "\n",
    "It is common to name the list of independent values with an uppercase X and the list of dependent values with a lowercase y.\n",
    "* **Equation:** Sales = β0 + (β1 * Curah Hujan) + (β2 * Tavg) + (β3 * Sun Hour) + (β4 * CUrah Hujan) + e\n",
    "* Setting the values for independent **(X)** variable and dependent **(Y)** variable"
   ]
  },
  {
   "cell_type": "markdown",
   "id": "cbef3ff5",
   "metadata": {
    "papermill": {
     "duration": 0.010612,
     "end_time": "2024-01-25T10:33:43.365332",
     "exception": false,
     "start_time": "2024-01-25T10:33:43.354720",
     "status": "completed"
    },
    "tags": []
   },
   "source": [
    "**Checking for outliers**"
   ]
  },
  {
   "cell_type": "code",
   "execution_count": 10,
   "id": "7ce454c2",
   "metadata": {
    "execution": {
     "iopub.execute_input": "2024-01-25T10:33:43.389534Z",
     "iopub.status.busy": "2024-01-25T10:33:43.388684Z",
     "iopub.status.idle": "2024-01-25T10:33:44.017970Z",
     "shell.execute_reply": "2024-01-25T10:33:44.016718Z"
    },
    "papermill": {
     "duration": 0.644214,
     "end_time": "2024-01-25T10:33:44.020529",
     "exception": false,
     "start_time": "2024-01-25T10:33:43.376315",
     "status": "completed"
    },
    "tags": []
   },
   "outputs": [
    {
     "data": {
      "image/png": "[encoded data removed]",
      "text/plain": [
       "<Figure size 1800x720 with 4 Axes>"
      ]
     },
     "metadata": {
      "needs_background": "light"
     },
     "output_type": "display_data"
    }
   ],
   "source": [
    "fig, axs = plt.subplots(4, figsize = (25,10))\n",
    "plt1 = sns.boxplot(df['Tavg'], ax = axs[0])\n",
    "plt2 = sns.boxplot(df['Curah Hujan'], ax = axs[1])\n",
    "plt3 = sns.boxplot(df['Sun Hour'], ax = axs[2])\n",
    "plt4 = sns.boxplot(df['Kecepatan A'], ax = axs[3])\n",
    "plt.tight_layout()"
   ]
  },
  {
   "cell_type": "markdown",
   "id": "ce6c74f7",
   "metadata": {
    "papermill": {
     "duration": 0.011124,
     "end_time": "2024-01-25T10:33:44.043090",
     "exception": false,
     "start_time": "2024-01-25T10:33:44.031966",
     "status": "completed"
    },
    "tags": []
   },
   "source": [
    "# Exploratory Data Analysis\n",
    "\n",
    "**Distribution of the target variable**"
   ]
  },
  {
   "cell_type": "code",
   "execution_count": 11,
   "id": "32b85a24",
   "metadata": {
    "execution": {
     "iopub.execute_input": "2024-01-25T10:33:44.068602Z",
     "iopub.status.busy": "2024-01-25T10:33:44.067264Z",
     "iopub.status.idle": "2024-01-25T10:33:44.301440Z",
     "shell.execute_reply": "2024-01-25T10:33:44.300574Z"
    },
    "papermill": {
     "duration": 0.249225,
     "end_time": "2024-01-25T10:33:44.303758",
     "exception": false,
     "start_time": "2024-01-25T10:33:44.054533",
     "status": "completed"
    },
    "tags": []
   },
   "outputs": [
    {
     "data": {
      "image/png": "[encoded data removed]",
      "text/plain": [
       "<Figure size 432x288 with 1 Axes>"
      ]
     },
     "metadata": {
      "needs_background": "light"
     },
     "output_type": "display_data"
    }
   ],
   "source": [
    "sns.distplot(df['Produktivitas Mangga']);"
   ]
  },
  {
   "cell_type": "markdown",
   "id": "1e1fb49c",
   "metadata": {
    "papermill": {
     "duration": 0.011298,
     "end_time": "2024-01-25T10:33:44.327267",
     "exception": false,
     "start_time": "2024-01-25T10:33:44.315969",
     "status": "completed"
    },
    "tags": []
   },
   "source": [
    "**Conclusion:** It is normally not normal distributed, but symmetrical"
   ]
  },
  {
   "cell_type": "markdown",
   "id": "b9e83f86",
   "metadata": {
    "papermill": {
     "duration": 0.011485,
     "end_time": "2024-01-25T10:33:44.350442",
     "exception": false,
     "start_time": "2024-01-25T10:33:44.338957",
     "status": "completed"
    },
    "tags": []
   },
   "source": [
    "**Relationship of Mangga with other variables**"
   ]
  },
  {
   "cell_type": "code",
   "execution_count": 12,
   "id": "68e8f1c8",
   "metadata": {
    "execution": {
     "iopub.execute_input": "2024-01-25T10:33:44.376674Z",
     "iopub.status.busy": "2024-01-25T10:33:44.375912Z",
     "iopub.status.idle": "2024-01-25T10:33:45.125027Z",
     "shell.execute_reply": "2024-01-25T10:33:45.123660Z"
    },
    "papermill": {
     "duration": 0.76542,
     "end_time": "2024-01-25T10:33:45.127684",
     "exception": false,
     "start_time": "2024-01-25T10:33:44.362264",
     "status": "completed"
    },
    "tags": []
   },
   "outputs": [
    {
     "data": {
      "image/png": "[encoded data removed]",
      "text/plain": [
       "<Figure size 1152x288 with 4 Axes>"
      ]
     },
     "metadata": {
      "needs_background": "light"
     },
     "output_type": "display_data"
    }
   ],
   "source": [
    "sns.pairplot(df, x_vars=['Tavg', 'Sun Hour','Curah Hujan', 'Kecepatan A'], y_vars='Produktivitas Mangga', height=4, aspect=1, kind='scatter')\n",
    "plt.show()"
   ]
  },
  {
   "cell_type": "markdown",
   "id": "966c8af4",
   "metadata": {
    "papermill": {
     "duration": 0.012252,
     "end_time": "2024-01-25T10:33:45.152624",
     "exception": false,
     "start_time": "2024-01-25T10:33:45.140372",
     "status": "completed"
    },
    "tags": []
   },
   "source": [
    "**Heatmap**\n",
    "The sns.heatmap() function creates a visualization that shows the correlation matrix of a dataset as a heatmap. The annot parameter of this function shows or does not show correlation values in the cells of the heatmap. If this parameter is set to True, correlation values in cells are displayed."
   ]
  },
  {
   "cell_type": "code",
   "execution_count": 13,
   "id": "f4dea245",
   "metadata": {
    "execution": {
     "iopub.execute_input": "2024-01-25T10:33:45.178891Z",
     "iopub.status.busy": "2024-01-25T10:33:45.178377Z",
     "iopub.status.idle": "2024-01-25T10:33:45.462286Z",
     "shell.execute_reply": "2024-01-25T10:33:45.461107Z"
    },
    "papermill": {
     "duration": 0.299845,
     "end_time": "2024-01-25T10:33:45.464583",
     "exception": false,
     "start_time": "2024-01-25T10:33:45.164738",
     "status": "completed"
    },
    "tags": []
   },
   "outputs": [
    {
     "data": {
      "image/png": "[encoded data removed]",
      "text/plain": [
       "<Figure size 432x288 with 2 Axes>"
      ]
     },
     "metadata": {
      "needs_background": "light"
     },
     "output_type": "display_data"
    }
   ],
   "source": [
    "# Create the correlation matrix and represent it as a heatmap.\n",
    "sns.heatmap(X.corr(), annot = True, cmap = 'coolwarm')\n",
    "plt.show()"
   ]
  },
  {
   "cell_type": "markdown",
   "id": "3842cfe9",
   "metadata": {
    "papermill": {
     "duration": 0.011951,
     "end_time": "2024-01-25T10:33:45.488853",
     "exception": false,
     "start_time": "2024-01-25T10:33:45.476902",
     "status": "completed"
    },
    "tags": []
   },
   "source": [
    "# Model Building\n",
    "\n",
    "**Splitting the dataset into train and test set**"
   ]
  },
  {
   "cell_type": "markdown",
   "id": "b632a300",
   "metadata": {
    "papermill": {
     "duration": 0.012098,
     "end_time": "2024-01-25T10:33:45.513417",
     "exception": false,
     "start_time": "2024-01-25T10:33:45.501319",
     "status": "completed"
    },
    "tags": []
   },
   "source": [
    "We need to split our dataset into training and testing sets. We’ll perform this by importing train_test_split from sklearn.model_selection library. It is usually good to keep 70% of the data in your train dataset and the rest 30% in your test dataset."
   ]
  },
  {
   "cell_type": "code",
   "execution_count": 14,
   "id": "71cb9e79",
   "metadata": {
    "execution": {
     "iopub.execute_input": "2024-01-25T10:33:45.540257Z",
     "iopub.status.busy": "2024-01-25T10:33:45.539799Z",
     "iopub.status.idle": "2024-01-25T10:33:45.547098Z",
     "shell.execute_reply": "2024-01-25T10:33:45.546112Z"
    },
    "papermill": {
     "duration": 0.024033,
     "end_time": "2024-01-25T10:33:45.549721",
     "exception": false,
     "start_time": "2024-01-25T10:33:45.525688",
     "status": "completed"
    },
    "tags": []
   },
   "outputs": [],
   "source": [
    "X_train,X_test, y_train, y_test = train_test_split(X, y, test_size = 0.3, random_state = 100)"
   ]
  },
  {
   "cell_type": "code",
   "execution_count": 15,
   "id": "c1975088",
   "metadata": {
    "execution": {
     "iopub.execute_input": "2024-01-25T10:33:45.577028Z",
     "iopub.status.busy": "2024-01-25T10:33:45.576310Z",
     "iopub.status.idle": "2024-01-25T10:33:45.583055Z",
     "shell.execute_reply": "2024-01-25T10:33:45.582147Z"
    },
    "papermill": {
     "duration": 0.022668,
     "end_time": "2024-01-25T10:33:45.585172",
     "exception": false,
     "start_time": "2024-01-25T10:33:45.562504",
     "status": "completed"
    },
    "tags": []
   },
   "outputs": [
    {
     "data": {
      "text/plain": [
       "(28,)"
      ]
     },
     "execution_count": 15,
     "metadata": {},
     "output_type": "execute_result"
    }
   ],
   "source": [
    "y_train.shape"
   ]
  },
  {
   "cell_type": "code",
   "execution_count": 16,
   "id": "0ed5874d",
   "metadata": {
    "execution": {
     "iopub.execute_input": "2024-01-25T10:33:45.612912Z",
     "iopub.status.busy": "2024-01-25T10:33:45.612110Z",
     "iopub.status.idle": "2024-01-25T10:33:45.619236Z",
     "shell.execute_reply": "2024-01-25T10:33:45.618167Z"
    },
    "papermill": {
     "duration": 0.023982,
     "end_time": "2024-01-25T10:33:45.621694",
     "exception": false,
     "start_time": "2024-01-25T10:33:45.597712",
     "status": "completed"
    },
    "tags": []
   },
   "outputs": [
    {
     "data": {
      "text/plain": [
       "(12,)"
      ]
     },
     "execution_count": 16,
     "metadata": {},
     "output_type": "execute_result"
    }
   ],
   "source": [
    "y_test.shape"
   ]
  },
  {
   "cell_type": "code",
   "execution_count": 17,
   "id": "2cde72c7",
   "metadata": {
    "execution": {
     "iopub.execute_input": "2024-01-25T10:33:45.648975Z",
     "iopub.status.busy": "2024-01-25T10:33:45.648214Z",
     "iopub.status.idle": "2024-01-25T10:33:45.653477Z",
     "shell.execute_reply": "2024-01-25T10:33:45.652611Z"
    },
    "papermill": {
     "duration": 0.021492,
     "end_time": "2024-01-25T10:33:45.655668",
     "exception": false,
     "start_time": "2024-01-25T10:33:45.634176",
     "status": "completed"
    },
    "tags": []
   },
   "outputs": [],
   "source": [
    "reg_model = linear_model.LinearRegression()"
   ]
  },
  {
   "cell_type": "code",
   "execution_count": 18,
   "id": "d00525ac",
   "metadata": {
    "execution": {
     "iopub.execute_input": "2024-01-25T10:33:45.683462Z",
     "iopub.status.busy": "2024-01-25T10:33:45.682734Z",
     "iopub.status.idle": "2024-01-25T10:33:45.699601Z",
     "shell.execute_reply": "2024-01-25T10:33:45.698695Z"
    },
    "papermill": {
     "duration": 0.033571,
     "end_time": "2024-01-25T10:33:45.702237",
     "exception": false,
     "start_time": "2024-01-25T10:33:45.668666",
     "status": "completed"
    },
    "tags": []
   },
   "outputs": [],
   "source": [
    "#Fitting the Multiple Linear Regression model\n",
    "reg_model = LinearRegression().fit(X_train, y_train)"
   ]
  },
  {
   "cell_type": "code",
   "execution_count": 19,
   "id": "0be55705",
   "metadata": {
    "execution": {
     "iopub.execute_input": "2024-01-25T10:33:45.729728Z",
     "iopub.status.busy": "2024-01-25T10:33:45.728425Z",
     "iopub.status.idle": "2024-01-25T10:33:45.738299Z",
     "shell.execute_reply": "2024-01-25T10:33:45.737401Z"
    },
    "papermill": {
     "duration": 0.025738,
     "end_time": "2024-01-25T10:33:45.740477",
     "exception": false,
     "start_time": "2024-01-25T10:33:45.714739",
     "status": "completed"
    },
    "tags": []
   },
   "outputs": [
    {
     "name": "stdout",
     "output_type": "stream",
     "text": [
      "Intercept:  -0.46043761414889717\n"
     ]
    },
    {
     "data": {
      "text/plain": [
       "[('Tavg', 0.0521391157540907),\n",
       " ('Sun Hour', -0.0017343965180605608),\n",
       " ('Curah Hujan', -0.000402566667628506),\n",
       " ('Kecepatan A', 0.003772084104772123)]"
      ]
     },
     "execution_count": 19,
     "metadata": {},
     "output_type": "execute_result"
    }
   ],
   "source": [
    "#Printing the model coefficients\n",
    "print('Intercept: ',reg_model.intercept_)\n",
    "# pair the feature names with the coefficients\n",
    "list(zip(X, reg_model.coef_))"
   ]
  },
  {
   "cell_type": "code",
   "execution_count": 20,
   "id": "b626f0bc",
   "metadata": {
    "execution": {
     "iopub.execute_input": "2024-01-25T10:33:45.768104Z",
     "iopub.status.busy": "2024-01-25T10:33:45.767388Z",
     "iopub.status.idle": "2024-01-25T10:33:45.772747Z",
     "shell.execute_reply": "2024-01-25T10:33:45.771873Z"
    },
    "papermill": {
     "duration": 0.021902,
     "end_time": "2024-01-25T10:33:45.775046",
     "exception": false,
     "start_time": "2024-01-25T10:33:45.753144",
     "status": "completed"
    },
    "tags": []
   },
   "outputs": [],
   "source": [
    "from scipy import stats\n",
    "import matplotlib.pyplot as plt"
   ]
  },
  {
   "cell_type": "code",
   "execution_count": 21,
   "id": "a59934ef",
   "metadata": {
    "execution": {
     "iopub.execute_input": "2024-01-25T10:33:45.802462Z",
     "iopub.status.busy": "2024-01-25T10:33:45.801731Z",
     "iopub.status.idle": "2024-01-25T10:33:45.809019Z",
     "shell.execute_reply": "2024-01-25T10:33:45.807559Z"
    },
    "papermill": {
     "duration": 0.023586,
     "end_time": "2024-01-25T10:33:45.811311",
     "exception": false,
     "start_time": "2024-01-25T10:33:45.787725",
     "status": "completed"
    },
    "tags": []
   },
   "outputs": [
    {
     "name": "stdout",
     "output_type": "stream",
     "text": [
      "Shapiro-Wilk test statistic: 0.49502629041671753\n",
      "Shapiro-Wilk test p-value: 6.8035497849006894e-18\n"
     ]
    }
   ],
   "source": [
    "statistic, pvalue = stats.shapiro(X_train)\n",
    "\n",
    "print(\"Shapiro-Wilk test statistic:\", statistic)\n",
    "print(\"Shapiro-Wilk test p-value:\", pvalue)"
   ]
  },
  {
   "cell_type": "code",
   "execution_count": 22,
   "id": "fe39d6bd",
   "metadata": {
    "execution": {
     "iopub.execute_input": "2024-01-25T10:33:45.839052Z",
     "iopub.status.busy": "2024-01-25T10:33:45.838293Z",
     "iopub.status.idle": "2024-01-25T10:33:45.847106Z",
     "shell.execute_reply": "2024-01-25T10:33:45.846055Z"
    },
    "papermill": {
     "duration": 0.025628,
     "end_time": "2024-01-25T10:33:45.849581",
     "exception": false,
     "start_time": "2024-01-25T10:33:45.823953",
     "status": "completed"
    },
    "tags": []
   },
   "outputs": [],
   "source": [
    "#Predicting the Test and Train set result \n",
    "y_pred= reg_model.predict(X_test)  \n",
    "x_pred= reg_model.predict(X_train) "
   ]
  },
  {
   "cell_type": "code",
   "execution_count": 23,
   "id": "7e7898ce",
   "metadata": {
    "execution": {
     "iopub.execute_input": "2024-01-25T10:33:45.877411Z",
     "iopub.status.busy": "2024-01-25T10:33:45.876696Z",
     "iopub.status.idle": "2024-01-25T10:33:45.883441Z",
     "shell.execute_reply": "2024-01-25T10:33:45.882103Z"
    },
    "papermill": {
     "duration": 0.023288,
     "end_time": "2024-01-25T10:33:45.885610",
     "exception": false,
     "start_time": "2024-01-25T10:33:45.862322",
     "status": "completed"
    },
    "tags": []
   },
   "outputs": [
    {
     "name": "stdout",
     "output_type": "stream",
     "text": [
      "Prediction for test set: [0.60676521 0.37163672 0.58591283 0.58781442 0.47998855 0.5506507\n",
      " 0.56214575 0.52688956 0.64000286 0.48042841 0.44844611 0.69787374]\n"
     ]
    }
   ],
   "source": [
    "print(\"Prediction for test set: {}\".format(y_pred))"
   ]
  },
  {
   "cell_type": "code",
   "execution_count": 24,
   "id": "1ed0be37",
   "metadata": {
    "execution": {
     "iopub.execute_input": "2024-01-25T10:33:45.914466Z",
     "iopub.status.busy": "2024-01-25T10:33:45.913731Z",
     "iopub.status.idle": "2024-01-25T10:33:45.926444Z",
     "shell.execute_reply": "2024-01-25T10:33:45.925337Z"
    },
    "papermill": {
     "duration": 0.029621,
     "end_time": "2024-01-25T10:33:45.928606",
     "exception": false,
     "start_time": "2024-01-25T10:33:45.898985",
     "status": "completed"
    },
    "tags": []
   },
   "outputs": [
    {
     "data": {
      "text/html": [
       "<div>\n",
       "<style scoped>\n",
       "    .dataframe tbody tr th:only-of-type {\n",
       "        vertical-align: middle;\n",
       "    }\n",
       "\n",
       "    .dataframe tbody tr th {\n",
       "        vertical-align: top;\n",
       "    }\n",
       "\n",
       "    .dataframe thead th {\n",
       "        text-align: right;\n",
       "    }\n",
       "</style>\n",
       "<table border=\"1\" class=\"dataframe\">\n",
       "  <thead>\n",
       "    <tr style=\"text-align: right;\">\n",
       "      <th></th>\n",
       "      <th>Actual value</th>\n",
       "      <th>Predicted value</th>\n",
       "    </tr>\n",
       "  </thead>\n",
       "  <tbody>\n",
       "    <tr>\n",
       "      <th>19</th>\n",
       "      <td>0.52</td>\n",
       "      <td>0.606765</td>\n",
       "    </tr>\n",
       "    <tr>\n",
       "      <th>6</th>\n",
       "      <td>0.37</td>\n",
       "      <td>0.371637</td>\n",
       "    </tr>\n",
       "    <tr>\n",
       "      <th>20</th>\n",
       "      <td>0.00</td>\n",
       "      <td>0.585913</td>\n",
       "    </tr>\n",
       "    <tr>\n",
       "      <th>0</th>\n",
       "      <td>0.46</td>\n",
       "      <td>0.587814</td>\n",
       "    </tr>\n",
       "    <tr>\n",
       "      <th>34</th>\n",
       "      <td>0.47</td>\n",
       "      <td>0.479989</td>\n",
       "    </tr>\n",
       "    <tr>\n",
       "      <th>25</th>\n",
       "      <td>0.00</td>\n",
       "      <td>0.550651</td>\n",
       "    </tr>\n",
       "    <tr>\n",
       "      <th>39</th>\n",
       "      <td>0.58</td>\n",
       "      <td>0.562146</td>\n",
       "    </tr>\n",
       "    <tr>\n",
       "      <th>21</th>\n",
       "      <td>0.00</td>\n",
       "      <td>0.526890</td>\n",
       "    </tr>\n",
       "    <tr>\n",
       "      <th>28</th>\n",
       "      <td>0.47</td>\n",
       "      <td>0.640003</td>\n",
       "    </tr>\n",
       "    <tr>\n",
       "      <th>7</th>\n",
       "      <td>0.67</td>\n",
       "      <td>0.480428</td>\n",
       "    </tr>\n",
       "    <tr>\n",
       "      <th>33</th>\n",
       "      <td>0.00</td>\n",
       "      <td>0.448446</td>\n",
       "    </tr>\n",
       "    <tr>\n",
       "      <th>36</th>\n",
       "      <td>0.26</td>\n",
       "      <td>0.697874</td>\n",
       "    </tr>\n",
       "  </tbody>\n",
       "</table>\n",
       "</div>"
      ],
      "text/plain": [
       "    Actual value  Predicted value\n",
       "19          0.52         0.606765\n",
       "6           0.37         0.371637\n",
       "20          0.00         0.585913\n",
       "0           0.46         0.587814\n",
       "34          0.47         0.479989\n",
       "25          0.00         0.550651\n",
       "39          0.58         0.562146\n",
       "21          0.00         0.526890\n",
       "28          0.47         0.640003\n",
       "7           0.67         0.480428\n",
       "33          0.00         0.448446\n",
       "36          0.26         0.697874"
      ]
     },
     "execution_count": 24,
     "metadata": {},
     "output_type": "execute_result"
    }
   ],
   "source": [
    "#Actual value and the predicted value\n",
    "reg_model_diff = pd.DataFrame({'Actual value': y_test, 'Predicted value': y_pred})\n",
    "reg_model_diff"
   ]
  },
  {
   "cell_type": "code",
   "execution_count": 25,
   "id": "443fc5a7",
   "metadata": {
    "execution": {
     "iopub.execute_input": "2024-01-25T10:33:45.956675Z",
     "iopub.status.busy": "2024-01-25T10:33:45.956013Z",
     "iopub.status.idle": "2024-01-25T10:33:45.964696Z",
     "shell.execute_reply": "2024-01-25T10:33:45.963205Z"
    },
    "papermill": {
     "duration": 0.02542,
     "end_time": "2024-01-25T10:33:45.966995",
     "exception": false,
     "start_time": "2024-01-25T10:33:45.941575",
     "status": "completed"
    },
    "tags": []
   },
   "outputs": [
    {
     "name": "stdout",
     "output_type": "stream",
     "text": [
      "Mean Absolute Error: 0.262783878636809\n",
      "Mean Square Error: 0.11717369026082146\n",
      "Root Mean Square Error: 0.34230642743136075\n"
     ]
    }
   ],
   "source": [
    "mae = metrics.mean_absolute_error(y_test, y_pred)\n",
    "mse = metrics.mean_squared_error(y_test, y_pred)\n",
    "r2 = np.sqrt(metrics.mean_squared_error(y_test, y_pred))\n",
    "\n",
    "print('Mean Absolute Error:', mae)\n",
    "print('Mean Square Error:', mse)\n",
    "print('Root Mean Square Error:', r2)"
   ]
  }
 ],
 "metadata": {
  "kaggle": {
   "accelerator": "none",
   "dataSources": [
    {
     "datasetId": 2702246,
     "sourceId": 4651306,
     "sourceType": "datasetVersion"
    },
    {
     "datasetId": 4246041,
     "sourceId": 7327627,
     "sourceType": "datasetVersion"
    }
   ],
   "dockerImageVersionId": 30301,
   "isGpuEnabled": false,
   "isInternetEnabled": true,
   "language": "python",
   "sourceType": "notebook"
  },
  "kernelspec": {
   "display_name": "Python 3",
   "language": "python",
   "name": "python3"
  },
  "language_info": {
   "codemirror_mode": {
    "name": "ipython",
    "version": 3
   },
   "file_extension": ".py",
   "mimetype": "text/x-python",
   "name": "python",
   "nbconvert_exporter": "python",
   "pygments_lexer": "ipython3",
   "version": "3.7.12"
  },
  "papermill": {
   "default_parameters": {},
   "duration": 15.805281,
   "end_time": "2024-01-25T10:33:46.701273",
   "environment_variables": {},
   "exception": null,
   "input_path": "__notebook__.ipynb",
   "output_path": "__notebook__.ipynb",
   "parameters": {},
   "start_time": "2024-01-25T10:33:30.895992",
   "version": "2.3.4"
  }
 },
 "nbformat": 4,
 "nbformat_minor": 5
}
