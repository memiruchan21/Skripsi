{
 "cells": [
  {
   "cell_type": "markdown",
   "metadata": {
    "papermill": {
     "duration": 0.099183,
     "end_time": "2024-01-26T02:51:18.467456",
     "exception": false,
     "start_time": "2024-01-26T02:51:18.368273",
     "status": "completed"
    },
    "tags": []
   },
   "source": [
    "##  Reading and Understanding the Data\n"
   ]
  },
  {
   "cell_type": "code",
   "execution_count": 1,
   "metadata": {
    "execution": {
     "iopub.execute_input": "2024-01-26T02:51:18.670091Z",
     "iopub.status.busy": "2024-01-26T02:51:18.668938Z",
     "iopub.status.idle": "2024-01-26T02:51:18.674580Z",
     "shell.execute_reply": "2024-01-26T02:51:18.675423Z",
     "shell.execute_reply.started": "2024-01-26T02:28:51.325157Z"
    },
    "papermill": {
     "duration": 0.108723,
     "end_time": "2024-01-26T02:51:18.675658",
     "exception": false,
     "start_time": "2024-01-26T02:51:18.566935",
     "status": "completed"
    },
    "tags": []
   },
   "outputs": [],
   "source": [
    "# Supress Warnings\n",
    "\n",
    "import warnings\n",
    "warnings.filterwarnings('ignore')"
   ]
  },
  {
   "cell_type": "code",
   "execution_count": 2,
   "metadata": {
    "execution": {
     "iopub.execute_input": "2024-01-26T02:51:18.878549Z",
     "iopub.status.busy": "2024-01-26T02:51:18.877364Z",
     "iopub.status.idle": "2024-01-26T02:51:20.083633Z",
     "shell.execute_reply": "2024-01-26T02:51:20.081604Z",
     "shell.execute_reply.started": "2024-01-26T02:28:51.331658Z"
    },
    "papermill": {
     "duration": 1.306708,
     "end_time": "2024-01-26T02:51:20.083879",
     "exception": false,
     "start_time": "2024-01-26T02:51:18.777171",
     "status": "completed"
    },
    "tags": []
   },
   "outputs": [],
   "source": [
    "import numpy as np\n",
    "import pandas as pd\n",
    "import matplotlib.pyplot as plt\n",
    "import seaborn as sns\n",
    "%matplotlib inline"
   ]
  },
  {
   "cell_type": "code",
   "execution_count": 3,
   "metadata": {
    "execution": {
     "iopub.execute_input": "2024-01-26T02:51:20.301957Z",
     "iopub.status.busy": "2024-01-26T02:51:20.300715Z",
     "iopub.status.idle": "2024-01-26T02:51:20.327986Z",
     "shell.execute_reply": "2024-01-26T02:51:20.326984Z",
     "shell.execute_reply.started": "2024-01-26T02:28:51.345762Z"
    },
    "papermill": {
     "duration": 0.140575,
     "end_time": "2024-01-26T02:51:20.328248",
     "exception": false,
     "start_time": "2024-01-26T02:51:20.187673",
     "status": "completed"
    },
    "tags": []
   },
   "outputs": [
    {
     "name": "stdout",
     "output_type": "stream",
     "text": [
      "/kaggle/input/bismillahskripsi/Buleleng-Climate - Full (1).csv\n",
      "/kaggle/input/bike-sharing/day.csv\n"
     ]
    }
   ],
   "source": [
    "import os\n",
    "for dirname, _, filenames in os.walk('/kaggle/input'):\n",
    "    for filename in filenames:\n",
    "        print(os.path.join(dirname, filename))"
   ]
  },
  {
   "cell_type": "code",
   "execution_count": 4,
   "metadata": {
    "execution": {
     "iopub.execute_input": "2024-01-26T02:51:20.537712Z",
     "iopub.status.busy": "2024-01-26T02:51:20.536887Z",
     "iopub.status.idle": "2024-01-26T02:51:20.551904Z",
     "shell.execute_reply": "2024-01-26T02:51:20.552714Z",
     "shell.execute_reply.started": "2024-01-26T02:28:51.358986Z"
    },
    "papermill": {
     "duration": 0.122832,
     "end_time": "2024-01-26T02:51:20.552909",
     "exception": false,
     "start_time": "2024-01-26T02:51:20.430077",
     "status": "completed"
    },
    "tags": []
   },
   "outputs": [],
   "source": [
    "bike = pd.read_csv(\"/kaggle/input/bismillahskripsi/Buleleng-Climate - Full (1).csv\")"
   ]
  },
  {
   "cell_type": "code",
   "execution_count": 5,
   "metadata": {
    "execution": {
     "iopub.execute_input": "2024-01-26T02:51:20.780284Z",
     "iopub.status.busy": "2024-01-26T02:51:20.779097Z",
     "iopub.status.idle": "2024-01-26T02:51:20.795026Z",
     "shell.execute_reply": "2024-01-26T02:51:20.794377Z",
     "shell.execute_reply.started": "2024-01-26T02:28:51.369411Z"
    },
    "papermill": {
     "duration": 0.139125,
     "end_time": "2024-01-26T02:51:20.795156",
     "exception": false,
     "start_time": "2024-01-26T02:51:20.656031",
     "status": "completed"
    },
    "tags": []
   },
   "outputs": [
    {
     "data": {
      "text/html": [
       "<div>\n",
       "<style scoped>\n",
       "    .dataframe tbody tr th:only-of-type {\n",
       "        vertical-align: middle;\n",
       "    }\n",
       "\n",
       "    .dataframe tbody tr th {\n",
       "        vertical-align: top;\n",
       "    }\n",
       "\n",
       "    .dataframe thead th {\n",
       "        text-align: right;\n",
       "    }\n",
       "</style>\n",
       "<table border=\"1\" class=\"dataframe\">\n",
       "  <thead>\n",
       "    <tr style=\"text-align: right;\">\n",
       "      <th></th>\n",
       "      <th>Year</th>\n",
       "      <th>Periode</th>\n",
       "      <th>Produktivitas Mangga</th>\n",
       "      <th>Produktivitas Jeruk</th>\n",
       "      <th>Max</th>\n",
       "      <th>Min</th>\n",
       "      <th>Tavg</th>\n",
       "      <th>Sun Hour</th>\n",
       "      <th>Sun Day</th>\n",
       "      <th>Curah Hujan</th>\n",
       "      <th>Hari Hujan</th>\n",
       "      <th>Kecepatan A</th>\n",
       "      <th>Mx Kec</th>\n",
       "    </tr>\n",
       "  </thead>\n",
       "  <tbody>\n",
       "    <tr>\n",
       "      <th>0</th>\n",
       "      <td>2012</td>\n",
       "      <td>Triwulan I</td>\n",
       "      <td>0.46</td>\n",
       "      <td>0.17</td>\n",
       "      <td>28.0</td>\n",
       "      <td>25.0</td>\n",
       "      <td>26.00</td>\n",
       "      <td>78.7</td>\n",
       "      <td>8</td>\n",
       "      <td>501</td>\n",
       "      <td>83</td>\n",
       "      <td>8.17</td>\n",
       "      <td>13.4</td>\n",
       "    </tr>\n",
       "    <tr>\n",
       "      <th>1</th>\n",
       "      <td>2012</td>\n",
       "      <td>Triwulan II</td>\n",
       "      <td>0.00</td>\n",
       "      <td>0.10</td>\n",
       "      <td>28.0</td>\n",
       "      <td>24.0</td>\n",
       "      <td>26.00</td>\n",
       "      <td>237.7</td>\n",
       "      <td>49</td>\n",
       "      <td>164</td>\n",
       "      <td>42</td>\n",
       "      <td>8.93</td>\n",
       "      <td>14.0</td>\n",
       "    </tr>\n",
       "    <tr>\n",
       "      <th>2</th>\n",
       "      <td>2012</td>\n",
       "      <td>Triwulan III</td>\n",
       "      <td>0.27</td>\n",
       "      <td>0.20</td>\n",
       "      <td>28.0</td>\n",
       "      <td>22.0</td>\n",
       "      <td>24.33</td>\n",
       "      <td>336.3</td>\n",
       "      <td>88</td>\n",
       "      <td>10</td>\n",
       "      <td>4</td>\n",
       "      <td>12.20</td>\n",
       "      <td>17.2</td>\n",
       "    </tr>\n",
       "    <tr>\n",
       "      <th>3</th>\n",
       "      <td>2012</td>\n",
       "      <td>Triwulan IV</td>\n",
       "      <td>0.46</td>\n",
       "      <td>0.11</td>\n",
       "      <td>29.0</td>\n",
       "      <td>25.0</td>\n",
       "      <td>27.00</td>\n",
       "      <td>176.0</td>\n",
       "      <td>24</td>\n",
       "      <td>375</td>\n",
       "      <td>68</td>\n",
       "      <td>7.93</td>\n",
       "      <td>13.6</td>\n",
       "    </tr>\n",
       "    <tr>\n",
       "      <th>4</th>\n",
       "      <td>2013</td>\n",
       "      <td>Triwulan I</td>\n",
       "      <td>0.65</td>\n",
       "      <td>0.16</td>\n",
       "      <td>28.0</td>\n",
       "      <td>25.0</td>\n",
       "      <td>27.00</td>\n",
       "      <td>140.7</td>\n",
       "      <td>20</td>\n",
       "      <td>338</td>\n",
       "      <td>70</td>\n",
       "      <td>7.33</td>\n",
       "      <td>12.0</td>\n",
       "    </tr>\n",
       "  </tbody>\n",
       "</table>\n",
       "</div>"
      ],
      "text/plain": [
       "   Year       Periode  Produktivitas Mangga  Produktivitas Jeruk   Max   Min  \\\n",
       "0  2012    Triwulan I                  0.46                 0.17  28.0  25.0   \n",
       "1  2012   Triwulan II                  0.00                 0.10  28.0  24.0   \n",
       "2  2012  Triwulan III                  0.27                 0.20  28.0  22.0   \n",
       "3  2012   Triwulan IV                  0.46                 0.11  29.0  25.0   \n",
       "4  2013    Triwulan I                  0.65                 0.16  28.0  25.0   \n",
       "\n",
       "    Tavg  Sun Hour  Sun Day  Curah Hujan  Hari Hujan  Kecepatan A  Mx Kec  \n",
       "0  26.00      78.7        8          501          83         8.17    13.4  \n",
       "1  26.00     237.7       49          164          42         8.93    14.0  \n",
       "2  24.33     336.3       88           10           4        12.20    17.2  \n",
       "3  27.00     176.0       24          375          68         7.93    13.6  \n",
       "4  27.00     140.7       20          338          70         7.33    12.0  "
      ]
     },
     "execution_count": 5,
     "metadata": {},
     "output_type": "execute_result"
    }
   ],
   "source": [
    "# Check the head of the dataset\n",
    "bike.head()"
   ]
  },
  {
   "cell_type": "code",
   "execution_count": 6,
   "metadata": {
    "execution": {
     "iopub.execute_input": "2024-01-26T02:51:21.016511Z",
     "iopub.status.busy": "2024-01-26T02:51:21.011128Z",
     "iopub.status.idle": "2024-01-26T02:51:21.023095Z",
     "shell.execute_reply": "2024-01-26T02:51:21.022407Z",
     "shell.execute_reply.started": "2024-01-26T02:28:51.395805Z"
    },
    "papermill": {
     "duration": 0.12772,
     "end_time": "2024-01-26T02:51:21.023265",
     "exception": false,
     "start_time": "2024-01-26T02:51:20.895545",
     "status": "completed"
    },
    "tags": []
   },
   "outputs": [
    {
     "name": "stdout",
     "output_type": "stream",
     "text": [
      "<class 'pandas.core.frame.DataFrame'>\n",
      "RangeIndex: 40 entries, 0 to 39\n",
      "Data columns (total 13 columns):\n",
      " #   Column                Non-Null Count  Dtype  \n",
      "---  ------                --------------  -----  \n",
      " 0   Year                  40 non-null     int64  \n",
      " 1   Periode               40 non-null     object \n",
      " 2   Produktivitas Mangga  40 non-null     float64\n",
      " 3   Produktivitas Jeruk   40 non-null     float64\n",
      " 4   Max                   40 non-null     float64\n",
      " 5   Min                   40 non-null     float64\n",
      " 6   Tavg                  40 non-null     float64\n",
      " 7   Sun Hour              40 non-null     float64\n",
      " 8   Sun Day               40 non-null     int64  \n",
      " 9   Curah Hujan           40 non-null     int64  \n",
      " 10  Hari Hujan            40 non-null     int64  \n",
      " 11  Kecepatan A           40 non-null     float64\n",
      " 12  Mx Kec                40 non-null     float64\n",
      "dtypes: float64(8), int64(4), object(1)\n",
      "memory usage: 4.2+ KB\n"
     ]
    }
   ],
   "source": [
    "# Check the descriptive information\n",
    "bike.info()"
   ]
  },
  {
   "cell_type": "code",
   "execution_count": 7,
   "metadata": {
    "execution": {
     "iopub.execute_input": "2024-01-26T02:51:21.235077Z",
     "iopub.status.busy": "2024-01-26T02:51:21.233871Z",
     "iopub.status.idle": "2024-01-26T02:51:21.291520Z",
     "shell.execute_reply": "2024-01-26T02:51:21.290631Z",
     "shell.execute_reply.started": "2024-01-26T02:28:51.411115Z"
    },
    "papermill": {
     "duration": 0.169839,
     "end_time": "2024-01-26T02:51:21.291666",
     "exception": false,
     "start_time": "2024-01-26T02:51:21.121827",
     "status": "completed"
    },
    "tags": []
   },
   "outputs": [
    {
     "data": {
      "text/html": [
       "<div>\n",
       "<style scoped>\n",
       "    .dataframe tbody tr th:only-of-type {\n",
       "        vertical-align: middle;\n",
       "    }\n",
       "\n",
       "    .dataframe tbody tr th {\n",
       "        vertical-align: top;\n",
       "    }\n",
       "\n",
       "    .dataframe thead th {\n",
       "        text-align: right;\n",
       "    }\n",
       "</style>\n",
       "<table border=\"1\" class=\"dataframe\">\n",
       "  <thead>\n",
       "    <tr style=\"text-align: right;\">\n",
       "      <th></th>\n",
       "      <th>Year</th>\n",
       "      <th>Produktivitas Mangga</th>\n",
       "      <th>Produktivitas Jeruk</th>\n",
       "      <th>Max</th>\n",
       "      <th>Min</th>\n",
       "      <th>Tavg</th>\n",
       "      <th>Sun Hour</th>\n",
       "      <th>Sun Day</th>\n",
       "      <th>Curah Hujan</th>\n",
       "      <th>Hari Hujan</th>\n",
       "      <th>Kecepatan A</th>\n",
       "      <th>Mx Kec</th>\n",
       "    </tr>\n",
       "  </thead>\n",
       "  <tbody>\n",
       "    <tr>\n",
       "      <th>count</th>\n",
       "      <td>40.000000</td>\n",
       "      <td>40.0000</td>\n",
       "      <td>40.000000</td>\n",
       "      <td>40.000000</td>\n",
       "      <td>40.000000</td>\n",
       "      <td>40.000000</td>\n",
       "      <td>40.000000</td>\n",
       "      <td>40.00000</td>\n",
       "      <td>40.000000</td>\n",
       "      <td>40.000000</td>\n",
       "      <td>40.000000</td>\n",
       "      <td>40.00000</td>\n",
       "    </tr>\n",
       "    <tr>\n",
       "      <th>mean</th>\n",
       "      <td>2016.500000</td>\n",
       "      <td>0.4385</td>\n",
       "      <td>0.188500</td>\n",
       "      <td>29.175000</td>\n",
       "      <td>24.700000</td>\n",
       "      <td>26.683500</td>\n",
       "      <td>191.615000</td>\n",
       "      <td>40.05000</td>\n",
       "      <td>296.975000</td>\n",
       "      <td>63.725000</td>\n",
       "      <td>7.432500</td>\n",
       "      <td>11.94000</td>\n",
       "    </tr>\n",
       "    <tr>\n",
       "      <th>std</th>\n",
       "      <td>2.908872</td>\n",
       "      <td>0.2978</td>\n",
       "      <td>0.174922</td>\n",
       "      <td>0.930605</td>\n",
       "      <td>0.992278</td>\n",
       "      <td>1.010064</td>\n",
       "      <td>78.482399</td>\n",
       "      <td>25.66645</td>\n",
       "      <td>345.464421</td>\n",
       "      <td>67.614665</td>\n",
       "      <td>1.631161</td>\n",
       "      <td>2.36706</td>\n",
       "    </tr>\n",
       "    <tr>\n",
       "      <th>min</th>\n",
       "      <td>2012.000000</td>\n",
       "      <td>0.0000</td>\n",
       "      <td>0.000000</td>\n",
       "      <td>28.000000</td>\n",
       "      <td>22.000000</td>\n",
       "      <td>24.330000</td>\n",
       "      <td>30.000000</td>\n",
       "      <td>6.00000</td>\n",
       "      <td>4.000000</td>\n",
       "      <td>4.000000</td>\n",
       "      <td>5.170000</td>\n",
       "      <td>7.90000</td>\n",
       "    </tr>\n",
       "    <tr>\n",
       "      <th>25%</th>\n",
       "      <td>2014.000000</td>\n",
       "      <td>0.2550</td>\n",
       "      <td>0.100000</td>\n",
       "      <td>28.000000</td>\n",
       "      <td>24.000000</td>\n",
       "      <td>26.000000</td>\n",
       "      <td>137.025000</td>\n",
       "      <td>20.00000</td>\n",
       "      <td>93.750000</td>\n",
       "      <td>30.250000</td>\n",
       "      <td>6.322500</td>\n",
       "      <td>10.27500</td>\n",
       "    </tr>\n",
       "    <tr>\n",
       "      <th>50%</th>\n",
       "      <td>2016.500000</td>\n",
       "      <td>0.4900</td>\n",
       "      <td>0.160000</td>\n",
       "      <td>29.000000</td>\n",
       "      <td>25.000000</td>\n",
       "      <td>26.835000</td>\n",
       "      <td>182.000000</td>\n",
       "      <td>29.50000</td>\n",
       "      <td>246.500000</td>\n",
       "      <td>51.500000</td>\n",
       "      <td>7.120000</td>\n",
       "      <td>12.05000</td>\n",
       "    </tr>\n",
       "    <tr>\n",
       "      <th>75%</th>\n",
       "      <td>2019.000000</td>\n",
       "      <td>0.5900</td>\n",
       "      <td>0.242500</td>\n",
       "      <td>30.000000</td>\n",
       "      <td>25.000000</td>\n",
       "      <td>27.670000</td>\n",
       "      <td>239.450000</td>\n",
       "      <td>57.00000</td>\n",
       "      <td>385.750000</td>\n",
       "      <td>69.250000</td>\n",
       "      <td>8.117500</td>\n",
       "      <td>13.67500</td>\n",
       "    </tr>\n",
       "    <tr>\n",
       "      <th>max</th>\n",
       "      <td>2021.000000</td>\n",
       "      <td>1.3700</td>\n",
       "      <td>0.850000</td>\n",
       "      <td>31.000000</td>\n",
       "      <td>26.000000</td>\n",
       "      <td>28.330000</td>\n",
       "      <td>336.300000</td>\n",
       "      <td>88.00000</td>\n",
       "      <td>2008.000000</td>\n",
       "      <td>385.000000</td>\n",
       "      <td>12.200000</td>\n",
       "      <td>17.20000</td>\n",
       "    </tr>\n",
       "  </tbody>\n",
       "</table>\n",
       "</div>"
      ],
      "text/plain": [
       "              Year  Produktivitas Mangga  Produktivitas Jeruk        Max  \\\n",
       "count    40.000000               40.0000            40.000000  40.000000   \n",
       "mean   2016.500000                0.4385             0.188500  29.175000   \n",
       "std       2.908872                0.2978             0.174922   0.930605   \n",
       "min    2012.000000                0.0000             0.000000  28.000000   \n",
       "25%    2014.000000                0.2550             0.100000  28.000000   \n",
       "50%    2016.500000                0.4900             0.160000  29.000000   \n",
       "75%    2019.000000                0.5900             0.242500  30.000000   \n",
       "max    2021.000000                1.3700             0.850000  31.000000   \n",
       "\n",
       "             Min       Tavg    Sun Hour   Sun Day  Curah Hujan  Hari Hujan  \\\n",
       "count  40.000000  40.000000   40.000000  40.00000    40.000000   40.000000   \n",
       "mean   24.700000  26.683500  191.615000  40.05000   296.975000   63.725000   \n",
       "std     0.992278   1.010064   78.482399  25.66645   345.464421   67.614665   \n",
       "min    22.000000  24.330000   30.000000   6.00000     4.000000    4.000000   \n",
       "25%    24.000000  26.000000  137.025000  20.00000    93.750000   30.250000   \n",
       "50%    25.000000  26.835000  182.000000  29.50000   246.500000   51.500000   \n",
       "75%    25.000000  27.670000  239.450000  57.00000   385.750000   69.250000   \n",
       "max    26.000000  28.330000  336.300000  88.00000  2008.000000  385.000000   \n",
       "\n",
       "       Kecepatan A    Mx Kec  \n",
       "count    40.000000  40.00000  \n",
       "mean      7.432500  11.94000  \n",
       "std       1.631161   2.36706  \n",
       "min       5.170000   7.90000  \n",
       "25%       6.322500  10.27500  \n",
       "50%       7.120000  12.05000  \n",
       "75%       8.117500  13.67500  \n",
       "max      12.200000  17.20000  "
      ]
     },
     "execution_count": 7,
     "metadata": {},
     "output_type": "execute_result"
    }
   ],
   "source": [
    "bike.describe()"
   ]
  },
  {
   "cell_type": "code",
   "execution_count": 8,
   "metadata": {
    "execution": {
     "iopub.execute_input": "2024-01-26T02:51:21.506110Z",
     "iopub.status.busy": "2024-01-26T02:51:21.505024Z",
     "iopub.status.idle": "2024-01-26T02:51:21.508966Z",
     "shell.execute_reply": "2024-01-26T02:51:21.509582Z",
     "shell.execute_reply.started": "2024-01-26T02:28:51.469051Z"
    },
    "papermill": {
     "duration": 0.113992,
     "end_time": "2024-01-26T02:51:21.509750",
     "exception": false,
     "start_time": "2024-01-26T02:51:21.395758",
     "status": "completed"
    },
    "tags": []
   },
   "outputs": [
    {
     "name": "stdout",
     "output_type": "stream",
     "text": [
      "(40, 13)\n"
     ]
    }
   ],
   "source": [
    "# Check the shape of df\n",
    "\n",
    "print(bike.shape)"
   ]
  },
  {
   "cell_type": "markdown",
   "metadata": {
    "papermill": {
     "duration": 0.107088,
     "end_time": "2024-01-26T02:51:21.716952",
     "exception": false,
     "start_time": "2024-01-26T02:51:21.609864",
     "status": "completed"
    },
    "tags": []
   },
   "source": [
    "## Finding : \n",
    "Dataset has 40 rows and 13 columns.\n",
    "\n",
    "variable 'Sun day', 'Curah Hujan', 'Hari hujan' berbentuk ***int* untuk variable 'Periode' berupa ***string*\n",
    "\n",
    "Selain itu, semua variable berupa ***float***"
   ]
  },
  {
   "cell_type": "markdown",
   "metadata": {
    "papermill": {
     "duration": 0.101828,
     "end_time": "2024-01-26T02:51:21.930695",
     "exception": false,
     "start_time": "2024-01-26T02:51:21.828867",
     "status": "completed"
    },
    "tags": []
   },
   "source": [
    "# DATA QUALITY CHECK"
   ]
  },
  {
   "cell_type": "markdown",
   "metadata": {
    "papermill": {
     "duration": 0.098588,
     "end_time": "2024-01-26T02:51:22.133781",
     "exception": false,
     "start_time": "2024-01-26T02:51:22.035193",
     "status": "completed"
    },
    "tags": []
   },
   "source": [
    "## Check for NULL/MISSING values"
   ]
  },
  {
   "cell_type": "code",
   "execution_count": 9,
   "metadata": {
    "execution": {
     "iopub.execute_input": "2024-01-26T02:51:22.339589Z",
     "iopub.status.busy": "2024-01-26T02:51:22.338689Z",
     "iopub.status.idle": "2024-01-26T02:51:22.368645Z",
     "shell.execute_reply": "2024-01-26T02:51:22.369299Z",
     "shell.execute_reply.started": "2024-01-26T02:28:51.474991Z"
    },
    "papermill": {
     "duration": 0.135543,
     "end_time": "2024-01-26T02:51:22.369488",
     "exception": false,
     "start_time": "2024-01-26T02:51:22.233945",
     "status": "completed"
    },
    "tags": []
   },
   "outputs": [
    {
     "data": {
      "text/plain": [
       "Mx Kec                  0.0\n",
       "Kecepatan A             0.0\n",
       "Hari Hujan              0.0\n",
       "Curah Hujan             0.0\n",
       "Sun Day                 0.0\n",
       "Sun Hour                0.0\n",
       "Tavg                    0.0\n",
       "Min                     0.0\n",
       "Max                     0.0\n",
       "Produktivitas Jeruk     0.0\n",
       "Produktivitas Mangga    0.0\n",
       "Periode                 0.0\n",
       "Year                    0.0\n",
       "dtype: float64"
      ]
     },
     "execution_count": 9,
     "metadata": {},
     "output_type": "execute_result"
    }
   ],
   "source": [
    "# percentage of missing values in each column\n",
    "round(100*(bike.isnull().sum()/len(bike)), 2).sort_values(ascending=False)"
   ]
  },
  {
   "cell_type": "code",
   "execution_count": 10,
   "metadata": {
    "execution": {
     "iopub.execute_input": "2024-01-26T02:51:22.574975Z",
     "iopub.status.busy": "2024-01-26T02:51:22.574232Z",
     "iopub.status.idle": "2024-01-26T02:51:22.588189Z",
     "shell.execute_reply": "2024-01-26T02:51:22.587580Z",
     "shell.execute_reply.started": "2024-01-26T02:28:51.490246Z"
    },
    "papermill": {
     "duration": 0.116612,
     "end_time": "2024-01-26T02:51:22.588457",
     "exception": false,
     "start_time": "2024-01-26T02:51:22.471845",
     "status": "completed"
    },
    "tags": []
   },
   "outputs": [
    {
     "data": {
      "text/plain": [
       "39    0.0\n",
       "38    0.0\n",
       "17    0.0\n",
       "16    0.0\n",
       "15    0.0\n",
       "14    0.0\n",
       "13    0.0\n",
       "12    0.0\n",
       "11    0.0\n",
       "10    0.0\n",
       "9     0.0\n",
       "8     0.0\n",
       "7     0.0\n",
       "6     0.0\n",
       "5     0.0\n",
       "4     0.0\n",
       "3     0.0\n",
       "2     0.0\n",
       "1     0.0\n",
       "18    0.0\n",
       "19    0.0\n",
       "20    0.0\n",
       "30    0.0\n",
       "37    0.0\n",
       "36    0.0\n",
       "35    0.0\n",
       "34    0.0\n",
       "33    0.0\n",
       "32    0.0\n",
       "31    0.0\n",
       "29    0.0\n",
       "21    0.0\n",
       "28    0.0\n",
       "27    0.0\n",
       "26    0.0\n",
       "25    0.0\n",
       "24    0.0\n",
       "23    0.0\n",
       "22    0.0\n",
       "0     0.0\n",
       "dtype: float64"
      ]
     },
     "execution_count": 10,
     "metadata": {},
     "output_type": "execute_result"
    }
   ],
   "source": [
    "# row-wise null count percentage\n",
    "round((bike.isnull().sum(axis=1)/len(bike))*100,2).sort_values(ascending=False)"
   ]
  },
  {
   "cell_type": "markdown",
   "metadata": {
    "papermill": {
     "duration": 0.099986,
     "end_time": "2024-01-26T02:51:22.790906",
     "exception": false,
     "start_time": "2024-01-26T02:51:22.690920",
     "status": "completed"
    },
    "tags": []
   },
   "source": [
    "## Finding\n",
    "There are no missing / Null values either in columns or rows"
   ]
  },
  {
   "cell_type": "markdown",
   "metadata": {
    "papermill": {
     "duration": 0.104586,
     "end_time": "2024-01-26T02:51:22.997691",
     "exception": false,
     "start_time": "2024-01-26T02:51:22.893105",
     "status": "completed"
    },
    "tags": []
   },
   "source": [
    "## Duplicate Check"
   ]
  },
  {
   "cell_type": "code",
   "execution_count": 11,
   "metadata": {
    "execution": {
     "iopub.execute_input": "2024-01-26T02:51:23.220547Z",
     "iopub.status.busy": "2024-01-26T02:51:23.219397Z",
     "iopub.status.idle": "2024-01-26T02:51:23.222468Z",
     "shell.execute_reply": "2024-01-26T02:51:23.223050Z",
     "shell.execute_reply.started": "2024-01-26T02:28:51.509561Z"
    },
    "papermill": {
     "duration": 0.125126,
     "end_time": "2024-01-26T02:51:23.223266",
     "exception": false,
     "start_time": "2024-01-26T02:51:23.098140",
     "status": "completed"
    },
    "tags": []
   },
   "outputs": [],
   "source": [
    "bike_dup = bike.copy()\n",
    "\n",
    "# Checking for duplicates and dropping the entire duplicate row if any\n",
    "bike_dup.drop_duplicates(subset=None, inplace=True)"
   ]
  },
  {
   "cell_type": "code",
   "execution_count": 12,
   "metadata": {
    "execution": {
     "iopub.execute_input": "2024-01-26T02:51:23.490774Z",
     "iopub.status.busy": "2024-01-26T02:51:23.489597Z",
     "iopub.status.idle": "2024-01-26T02:51:23.496649Z",
     "shell.execute_reply": "2024-01-26T02:51:23.497400Z",
     "shell.execute_reply.started": "2024-01-26T02:28:51.525356Z"
    },
    "papermill": {
     "duration": 0.169779,
     "end_time": "2024-01-26T02:51:23.497571",
     "exception": false,
     "start_time": "2024-01-26T02:51:23.327792",
     "status": "completed"
    },
    "tags": []
   },
   "outputs": [
    {
     "data": {
      "text/plain": [
       "(40, 13)"
      ]
     },
     "execution_count": 12,
     "metadata": {},
     "output_type": "execute_result"
    }
   ],
   "source": [
    "bike_dup.shape"
   ]
  },
  {
   "cell_type": "code",
   "execution_count": 13,
   "metadata": {
    "execution": {
     "iopub.execute_input": "2024-01-26T02:51:23.706957Z",
     "iopub.status.busy": "2024-01-26T02:51:23.705784Z",
     "iopub.status.idle": "2024-01-26T02:51:23.711941Z",
     "shell.execute_reply": "2024-01-26T02:51:23.712641Z",
     "shell.execute_reply.started": "2024-01-26T02:28:51.534884Z"
    },
    "papermill": {
     "duration": 0.113002,
     "end_time": "2024-01-26T02:51:23.712817",
     "exception": false,
     "start_time": "2024-01-26T02:51:23.599815",
     "status": "completed"
    },
    "tags": []
   },
   "outputs": [
    {
     "data": {
      "text/plain": [
       "(40, 13)"
      ]
     },
     "execution_count": 13,
     "metadata": {},
     "output_type": "execute_result"
    }
   ],
   "source": [
    "bike.shape"
   ]
  },
  {
   "cell_type": "markdown",
   "metadata": {
    "papermill": {
     "duration": 0.104033,
     "end_time": "2024-01-26T02:51:23.919099",
     "exception": false,
     "start_time": "2024-01-26T02:51:23.815066",
     "status": "completed"
    },
    "tags": []
   },
   "source": [
    "### Insights \n",
    "\n",
    "The shape after running the drop duplicate command is same as the original dataframe. \n",
    "\n",
    "Hence we can conclude that there were zero duplicate values in the dataset. "
   ]
  },
  {
   "cell_type": "markdown",
   "metadata": {
    "papermill": {
     "duration": 0.100281,
     "end_time": "2024-01-26T02:51:24.132588",
     "exception": false,
     "start_time": "2024-01-26T02:51:24.032307",
     "status": "completed"
    },
    "tags": []
   },
   "source": [
    "## Data Cleaning\n",
    "\n",
    "Checking value_counts() for entire dataframe. \n",
    "\n",
    "This will help to identify any Unknow/Junk values present in the dataset."
   ]
  },
  {
   "cell_type": "code",
   "execution_count": 14,
   "metadata": {
    "execution": {
     "iopub.execute_input": "2024-01-26T02:51:24.342621Z",
     "iopub.status.busy": "2024-01-26T02:51:24.341697Z",
     "iopub.status.idle": "2024-01-26T02:51:24.347819Z",
     "shell.execute_reply": "2024-01-26T02:51:24.348434Z",
     "shell.execute_reply.started": "2024-01-26T02:28:51.545417Z"
    },
    "papermill": {
     "duration": 0.11495,
     "end_time": "2024-01-26T02:51:24.348627",
     "exception": false,
     "start_time": "2024-01-26T02:51:24.233677",
     "status": "completed"
    },
    "tags": []
   },
   "outputs": [],
   "source": [
    "#Create a copy of the  dataframe, without the 'instant' column, \n",
    "\n",
    "#as this will have unique values, and donot make sense to do a value count on it.\n",
    "\n",
    "bike_dummy=bike.iloc[:,1:16]"
   ]
  },
  {
   "cell_type": "code",
   "execution_count": 15,
   "metadata": {
    "execution": {
     "iopub.execute_input": "2024-01-26T02:51:24.557871Z",
     "iopub.status.busy": "2024-01-26T02:51:24.556995Z",
     "iopub.status.idle": "2024-01-26T02:51:24.596837Z",
     "shell.execute_reply": "2024-01-26T02:51:24.595969Z",
     "shell.execute_reply.started": "2024-01-26T02:28:51.555601Z"
    },
    "papermill": {
     "duration": 0.145489,
     "end_time": "2024-01-26T02:51:24.596982",
     "exception": false,
     "start_time": "2024-01-26T02:51:24.451493",
     "status": "completed"
    },
    "tags": []
   },
   "outputs": [
    {
     "name": "stdout",
     "output_type": "stream",
     "text": [
      "Triwulan II     10\n",
      "Triwulan IV     10\n",
      "Triwulan III    10\n",
      "Triwulan I      10\n",
      "Name: Periode, dtype: int64 \n",
      "\n",
      "\n",
      "\n",
      "0.00    8\n",
      "0.65    3\n",
      "0.50    2\n",
      "0.59    2\n",
      "0.47    2\n",
      "0.46    2\n",
      "0.53    1\n",
      "0.68    1\n",
      "0.67    1\n",
      "0.54    1\n",
      "0.52    1\n",
      "0.24    1\n",
      "0.44    1\n",
      "0.70    1\n",
      "0.55    1\n",
      "0.71    1\n",
      "1.37    1\n",
      "0.26    1\n",
      "0.58    1\n",
      "0.48    1\n",
      "0.37    1\n",
      "0.51    1\n",
      "0.23    1\n",
      "0.56    1\n",
      "0.30    1\n",
      "1.04    1\n",
      "0.27    1\n",
      "Name: Produktivitas Mangga, dtype: int64 \n",
      "\n",
      "\n",
      "\n",
      "0.00    7\n",
      "0.10    5\n",
      "0.25    3\n",
      "0.16    3\n",
      "0.26    2\n",
      "0.15    2\n",
      "0.18    2\n",
      "0.11    2\n",
      "0.13    1\n",
      "0.12    1\n",
      "0.22    1\n",
      "0.19    1\n",
      "0.31    1\n",
      "0.24    1\n",
      "0.47    1\n",
      "0.85    1\n",
      "0.50    1\n",
      "0.17    1\n",
      "0.66    1\n",
      "0.21    1\n",
      "0.14    1\n",
      "0.20    1\n",
      "Name: Produktivitas Jeruk, dtype: int64 \n",
      "\n",
      "\n",
      "\n",
      "30.0    15\n",
      "28.0    12\n",
      "29.0    11\n",
      "31.0     2\n",
      "Name: Max, dtype: int64 \n",
      "\n",
      "\n",
      "\n",
      "25.0    15\n",
      "24.0    12\n",
      "26.0     9\n",
      "23.0     3\n",
      "22.0     1\n",
      "Name: Min, dtype: int64 \n",
      "\n",
      "\n",
      "\n",
      "27.00    6\n",
      "27.67    5\n",
      "28.00    5\n",
      "26.00    5\n",
      "25.67    4\n",
      "26.33    3\n",
      "26.67    3\n",
      "27.33    3\n",
      "25.00    2\n",
      "25.33    2\n",
      "24.33    1\n",
      "28.33    1\n",
      "Name: Tavg, dtype: int64 \n",
      "\n",
      "\n",
      "\n",
      "302.0    2\n",
      "225.7    2\n",
      "179.3    1\n",
      "214.3    1\n",
      "162.3    1\n",
      "306.3    1\n",
      "30.0     1\n",
      "234.3    1\n",
      "221.0    1\n",
      "111.0    1\n",
      "47.0     1\n",
      "130.3    1\n",
      "320.0    1\n",
      "166.0    1\n",
      "297.3    1\n",
      "135.0    1\n",
      "156.0    1\n",
      "187.0    1\n",
      "237.7    1\n",
      "140.7    1\n",
      "83.7     1\n",
      "184.7    1\n",
      "336.3    1\n",
      "236.3    1\n",
      "133.7    1\n",
      "121.3    1\n",
      "141.3    1\n",
      "244.7    1\n",
      "316.3    1\n",
      "78.7     1\n",
      "254.7    1\n",
      "168.3    1\n",
      "209.7    1\n",
      "102.7    1\n",
      "269.3    1\n",
      "137.7    1\n",
      "138.3    1\n",
      "176.0    1\n",
      "Name: Sun Hour, dtype: int64 \n",
      "\n",
      "\n",
      "\n",
      "24    4\n",
      "83    3\n",
      "33    2\n",
      "46    2\n",
      "25    2\n",
      "45    2\n",
      "20    2\n",
      "10    1\n",
      "8     1\n",
      "18    1\n",
      "75    1\n",
      "7     1\n",
      "13    1\n",
      "6     1\n",
      "14    1\n",
      "79    1\n",
      "17    1\n",
      "70    1\n",
      "23    1\n",
      "19    1\n",
      "22    1\n",
      "71    1\n",
      "88    1\n",
      "26    1\n",
      "81    1\n",
      "49    1\n",
      "50    1\n",
      "53    1\n",
      "54    1\n",
      "66    1\n",
      "Name: Sun Day, dtype: int64 \n",
      "\n",
      "\n",
      "\n",
      "20      2\n",
      "319     1\n",
      "152     1\n",
      "214     1\n",
      "405     1\n",
      "84      1\n",
      "2008    1\n",
      "338     1\n",
      "640     1\n",
      "400     1\n",
      "143     1\n",
      "289     1\n",
      "268     1\n",
      "10      1\n",
      "22      1\n",
      "136     1\n",
      "74      1\n",
      "133     1\n",
      "4       1\n",
      "279     1\n",
      "391     1\n",
      "444     1\n",
      "1053    1\n",
      "375     1\n",
      "54      1\n",
      "501     1\n",
      "216     1\n",
      "177     1\n",
      "437     1\n",
      "302     1\n",
      "12      1\n",
      "300     1\n",
      "295     1\n",
      "97      1\n",
      "164     1\n",
      "46      1\n",
      "384     1\n",
      "225     1\n",
      "448     1\n",
      "Name: Curah Hujan, dtype: int64 \n",
      "\n",
      "\n",
      "\n",
      "67     4\n",
      "41     3\n",
      "45     2\n",
      "47     2\n",
      "68     2\n",
      "9      2\n",
      "25     2\n",
      "59     1\n",
      "11     1\n",
      "10     1\n",
      "69     1\n",
      "72     1\n",
      "70     1\n",
      "80     1\n",
      "4      1\n",
      "66     1\n",
      "78     1\n",
      "84     1\n",
      "17     1\n",
      "83     1\n",
      "249    1\n",
      "85     1\n",
      "22     1\n",
      "154    1\n",
      "32     1\n",
      "37     1\n",
      "42     1\n",
      "5      1\n",
      "56     1\n",
      "385    1\n",
      "Name: Hari Hujan, dtype: int64 \n",
      "\n",
      "\n",
      "\n",
      "7.57     2\n",
      "7.93     2\n",
      "7.60     2\n",
      "6.67     1\n",
      "8.57     1\n",
      "6.40     1\n",
      "12.20    1\n",
      "6.33     1\n",
      "8.83     1\n",
      "8.17     1\n",
      "6.17     1\n",
      "6.87     1\n",
      "7.07     1\n",
      "8.93     1\n",
      "7.03     1\n",
      "6.77     1\n",
      "6.47     1\n",
      "9.50     1\n",
      "10.73    1\n",
      "5.67     1\n",
      "9.77     1\n",
      "8.40     1\n",
      "6.27     1\n",
      "6.57     1\n",
      "5.30     1\n",
      "11.43    1\n",
      "6.30     1\n",
      "5.17     1\n",
      "8.10     1\n",
      "5.47     1\n",
      "7.77     1\n",
      "7.33     1\n",
      "5.53     1\n",
      "7.17     1\n",
      "5.57     1\n",
      "6.07     1\n",
      "6.50     1\n",
      "Name: Kecepatan A, dtype: int64 \n",
      "\n",
      "\n",
      "\n",
      "14.8    3\n",
      "10.8    2\n",
      "10.4    2\n",
      "10.3    2\n",
      "12.7    2\n",
      "12.9    2\n",
      "10.5    1\n",
      "16.5    1\n",
      "14.5    1\n",
      "13.9    1\n",
      "15.2    1\n",
      "12.0    1\n",
      "9.1     1\n",
      "9.8     1\n",
      "13.3    1\n",
      "8.6     1\n",
      "8.4     1\n",
      "12.3    1\n",
      "9.5     1\n",
      "14.6    1\n",
      "10.2    1\n",
      "12.6    1\n",
      "11.3    1\n",
      "11.2    1\n",
      "9.7     1\n",
      "8.2     1\n",
      "17.2    1\n",
      "13.4    1\n",
      "9.4     1\n",
      "7.9     1\n",
      "13.6    1\n",
      "12.1    1\n",
      "14.0    1\n",
      "Name: Mx Kec, dtype: int64 \n",
      "\n",
      "\n",
      "\n"
     ]
    }
   ],
   "source": [
    "for col in bike_dummy:\n",
    "    print(bike_dummy[col].value_counts(ascending=False), '\\n\\n\\n')"
   ]
  },
  {
   "cell_type": "markdown",
   "metadata": {
    "papermill": {
     "duration": 0.102497,
     "end_time": "2024-01-26T02:51:24.803337",
     "exception": false,
     "start_time": "2024-01-26T02:51:24.700840",
     "status": "completed"
    },
    "tags": []
   },
   "source": [
    "### Insights \n",
    "There seems to be no Junk/Unknown values in the entire dataset."
   ]
  },
  {
   "cell_type": "markdown",
   "metadata": {
    "papermill": {
     "duration": 0.122466,
     "end_time": "2024-01-26T02:51:25.028317",
     "exception": false,
     "start_time": "2024-01-26T02:51:24.905851",
     "status": "completed"
    },
    "tags": []
   },
   "source": [
    "# Removing redundant & unwanted columns"
   ]
  },
  {
   "cell_type": "code",
   "execution_count": 16,
   "metadata": {
    "execution": {
     "iopub.execute_input": "2024-01-26T02:51:25.261175Z",
     "iopub.status.busy": "2024-01-26T02:51:25.260021Z",
     "iopub.status.idle": "2024-01-26T02:51:25.267139Z",
     "shell.execute_reply": "2024-01-26T02:51:25.267851Z",
     "shell.execute_reply.started": "2024-01-26T02:28:51.595223Z"
    },
    "papermill": {
     "duration": 0.121598,
     "end_time": "2024-01-26T02:51:25.268022",
     "exception": false,
     "start_time": "2024-01-26T02:51:25.146424",
     "status": "completed"
    },
    "tags": []
   },
   "outputs": [
    {
     "data": {
      "text/plain": [
       "Index(['Year', 'Periode', 'Produktivitas Mangga', 'Produktivitas Jeruk', 'Max',\n",
       "       'Min', 'Tavg', 'Sun Hour', 'Sun Day', 'Curah Hujan', 'Hari Hujan',\n",
       "       'Kecepatan A', 'Mx Kec'],\n",
       "      dtype='object')"
      ]
     },
     "execution_count": 16,
     "metadata": {},
     "output_type": "execute_result"
    }
   ],
   "source": [
    "bike.columns"
   ]
  },
  {
   "cell_type": "code",
   "execution_count": 17,
   "metadata": {
    "execution": {
     "iopub.execute_input": "2024-01-26T02:51:25.504796Z",
     "iopub.status.busy": "2024-01-26T02:51:25.503570Z",
     "iopub.status.idle": "2024-01-26T02:51:25.510962Z",
     "shell.execute_reply": "2024-01-26T02:51:25.511660Z",
     "shell.execute_reply.started": "2024-01-26T02:28:51.603551Z"
    },
    "papermill": {
     "duration": 0.120633,
     "end_time": "2024-01-26T02:51:25.511842",
     "exception": false,
     "start_time": "2024-01-26T02:51:25.391209",
     "status": "completed"
    },
    "tags": []
   },
   "outputs": [],
   "source": [
    "bike_new=bike[['Year', 'Periode','Produktivitas Mangga', 'Kecepatan A',\n",
    "       'Mx Kec']]\n"
   ]
  },
  {
   "cell_type": "code",
   "execution_count": 18,
   "metadata": {
    "execution": {
     "iopub.execute_input": "2024-01-26T02:51:25.730680Z",
     "iopub.status.busy": "2024-01-26T02:51:25.729853Z",
     "iopub.status.idle": "2024-01-26T02:51:25.737717Z",
     "shell.execute_reply": "2024-01-26T02:51:25.738676Z",
     "shell.execute_reply.started": "2024-01-26T02:28:51.612944Z"
    },
    "papermill": {
     "duration": 0.11914,
     "end_time": "2024-01-26T02:51:25.738897",
     "exception": false,
     "start_time": "2024-01-26T02:51:25.619757",
     "status": "completed"
    },
    "tags": []
   },
   "outputs": [],
   "source": [
    "bike_new_new=bike[['Produktivitas Mangga', 'Kecepatan A',\n",
    "       'Mx Kec']]"
   ]
  },
  {
   "cell_type": "code",
   "execution_count": 19,
   "metadata": {
    "execution": {
     "iopub.execute_input": "2024-01-26T02:51:25.958806Z",
     "iopub.status.busy": "2024-01-26T02:51:25.957402Z",
     "iopub.status.idle": "2024-01-26T02:51:25.972610Z",
     "shell.execute_reply": "2024-01-26T02:51:25.973249Z",
     "shell.execute_reply.started": "2024-01-26T02:28:51.623868Z"
    },
    "papermill": {
     "duration": 0.13025,
     "end_time": "2024-01-26T02:51:25.973452",
     "exception": false,
     "start_time": "2024-01-26T02:51:25.843202",
     "status": "completed"
    },
    "tags": []
   },
   "outputs": [
    {
     "name": "stdout",
     "output_type": "stream",
     "text": [
      "<class 'pandas.core.frame.DataFrame'>\n",
      "RangeIndex: 40 entries, 0 to 39\n",
      "Data columns (total 5 columns):\n",
      " #   Column                Non-Null Count  Dtype  \n",
      "---  ------                --------------  -----  \n",
      " 0   Year                  40 non-null     int64  \n",
      " 1   Periode               40 non-null     object \n",
      " 2   Produktivitas Mangga  40 non-null     float64\n",
      " 3   Kecepatan A           40 non-null     float64\n",
      " 4   Mx Kec                40 non-null     float64\n",
      "dtypes: float64(3), int64(1), object(1)\n",
      "memory usage: 1.7+ KB\n"
     ]
    }
   ],
   "source": [
    "bike_new.info()"
   ]
  },
  {
   "cell_type": "code",
   "execution_count": 20,
   "metadata": {
    "execution": {
     "iopub.execute_input": "2024-01-26T02:51:26.200489Z",
     "iopub.status.busy": "2024-01-26T02:51:26.199662Z",
     "iopub.status.idle": "2024-01-26T02:51:26.210839Z",
     "shell.execute_reply": "2024-01-26T02:51:26.210014Z",
     "shell.execute_reply.started": "2024-01-26T02:28:51.639088Z"
    },
    "papermill": {
     "duration": 0.128129,
     "end_time": "2024-01-26T02:51:26.210978",
     "exception": false,
     "start_time": "2024-01-26T02:51:26.082849",
     "status": "completed"
    },
    "tags": []
   },
   "outputs": [
    {
     "name": "stdout",
     "output_type": "stream",
     "text": [
      "<class 'pandas.core.frame.DataFrame'>\n",
      "RangeIndex: 40 entries, 0 to 39\n",
      "Data columns (total 3 columns):\n",
      " #   Column                Non-Null Count  Dtype  \n",
      "---  ------                --------------  -----  \n",
      " 0   Produktivitas Mangga  40 non-null     float64\n",
      " 1   Kecepatan A           40 non-null     float64\n",
      " 2   Mx Kec                40 non-null     float64\n",
      "dtypes: float64(3)\n",
      "memory usage: 1.1 KB\n"
     ]
    }
   ],
   "source": [
    "bike_new_new.info()"
   ]
  },
  {
   "cell_type": "markdown",
   "metadata": {
    "papermill": {
     "duration": 0.106437,
     "end_time": "2024-01-26T02:51:26.423676",
     "exception": false,
     "start_time": "2024-01-26T02:51:26.317239",
     "status": "completed"
    },
    "tags": []
   },
   "source": [
    "# Creating Dummy Variables"
   ]
  },
  {
   "cell_type": "markdown",
   "metadata": {
    "papermill": {
     "duration": 0.105879,
     "end_time": "2024-01-26T02:51:26.632870",
     "exception": false,
     "start_time": "2024-01-26T02:51:26.526991",
     "status": "completed"
    },
    "tags": []
   },
   "source": [
    "We will create DUMMY variables for 2 categorical variables 'Year', 'Periode'. \n",
    "- Before creating dummy variables, we will have to convert them into 'category' data types."
   ]
  },
  {
   "cell_type": "code",
   "execution_count": 21,
   "metadata": {
    "execution": {
     "iopub.execute_input": "2024-01-26T02:51:26.852931Z",
     "iopub.status.busy": "2024-01-26T02:51:26.851814Z",
     "iopub.status.idle": "2024-01-26T02:51:26.856151Z",
     "shell.execute_reply": "2024-01-26T02:51:26.856875Z",
     "shell.execute_reply.started": "2024-01-26T02:28:51.653831Z"
    },
    "papermill": {
     "duration": 0.118113,
     "end_time": "2024-01-26T02:51:26.857058",
     "exception": false,
     "start_time": "2024-01-26T02:51:26.738945",
     "status": "completed"
    },
    "tags": []
   },
   "outputs": [
    {
     "name": "stdout",
     "output_type": "stream",
     "text": [
      "<class 'pandas.core.frame.DataFrame'>\n",
      "RangeIndex: 40 entries, 0 to 39\n",
      "Data columns (total 5 columns):\n",
      " #   Column                Non-Null Count  Dtype  \n",
      "---  ------                --------------  -----  \n",
      " 0   Year                  40 non-null     int64  \n",
      " 1   Periode               40 non-null     object \n",
      " 2   Produktivitas Mangga  40 non-null     float64\n",
      " 3   Kecepatan A           40 non-null     float64\n",
      " 4   Mx Kec                40 non-null     float64\n",
      "dtypes: float64(3), int64(1), object(1)\n",
      "memory usage: 1.7+ KB\n"
     ]
    }
   ],
   "source": [
    "# Check the datatypes before convertion\n",
    "bike_new.info()"
   ]
  },
  {
   "cell_type": "code",
   "execution_count": 22,
   "metadata": {
    "execution": {
     "iopub.execute_input": "2024-01-26T02:51:27.081978Z",
     "iopub.status.busy": "2024-01-26T02:51:27.080298Z",
     "iopub.status.idle": "2024-01-26T02:51:27.084144Z",
     "shell.execute_reply": "2024-01-26T02:51:27.083460Z",
     "shell.execute_reply.started": "2024-01-26T02:28:51.667836Z"
    },
    "papermill": {
     "duration": 0.120072,
     "end_time": "2024-01-26T02:51:27.084337",
     "exception": false,
     "start_time": "2024-01-26T02:51:26.964265",
     "status": "completed"
    },
    "tags": []
   },
   "outputs": [],
   "source": [
    "# Convert to 'category' data type\n",
    "\n",
    "bike_new['Year']=bike_new['Year'].astype('category')\n",
    "bike_new['Periode']=bike_new['Periode'].astype('category')"
   ]
  },
  {
   "cell_type": "code",
   "execution_count": 23,
   "metadata": {
    "execution": {
     "iopub.execute_input": "2024-01-26T02:51:27.311511Z",
     "iopub.status.busy": "2024-01-26T02:51:27.310458Z",
     "iopub.status.idle": "2024-01-26T02:51:27.314783Z",
     "shell.execute_reply": "2024-01-26T02:51:27.315736Z",
     "shell.execute_reply.started": "2024-01-26T02:28:51.680157Z"
    },
    "papermill": {
     "duration": 0.123794,
     "end_time": "2024-01-26T02:51:27.315961",
     "exception": false,
     "start_time": "2024-01-26T02:51:27.192167",
     "status": "completed"
    },
    "tags": []
   },
   "outputs": [
    {
     "name": "stdout",
     "output_type": "stream",
     "text": [
      "<class 'pandas.core.frame.DataFrame'>\n",
      "RangeIndex: 40 entries, 0 to 39\n",
      "Data columns (total 5 columns):\n",
      " #   Column                Non-Null Count  Dtype   \n",
      "---  ------                --------------  -----   \n",
      " 0   Year                  40 non-null     category\n",
      " 1   Periode               40 non-null     category\n",
      " 2   Produktivitas Mangga  40 non-null     float64 \n",
      " 3   Kecepatan A           40 non-null     float64 \n",
      " 4   Mx Kec                40 non-null     float64 \n",
      "dtypes: category(2), float64(3)\n",
      "memory usage: 1.7 KB\n"
     ]
    }
   ],
   "source": [
    "bike_new.info()"
   ]
  },
  {
   "cell_type": "code",
   "execution_count": 24,
   "metadata": {
    "execution": {
     "iopub.execute_input": "2024-01-26T02:51:27.553888Z",
     "iopub.status.busy": "2024-01-26T02:51:27.552669Z",
     "iopub.status.idle": "2024-01-26T02:51:27.567452Z",
     "shell.execute_reply": "2024-01-26T02:51:27.566638Z",
     "shell.execute_reply.started": "2024-01-26T02:28:51.696160Z"
    },
    "papermill": {
     "duration": 0.141221,
     "end_time": "2024-01-26T02:51:27.567593",
     "exception": false,
     "start_time": "2024-01-26T02:51:27.426372",
     "status": "completed"
    },
    "tags": []
   },
   "outputs": [
    {
     "name": "stdout",
     "output_type": "stream",
     "text": [
      "<class 'pandas.core.frame.DataFrame'>\n",
      "RangeIndex: 40 entries, 0 to 39\n",
      "Data columns (total 17 columns):\n",
      " #   Column                Non-Null Count  Dtype  \n",
      "---  ------                --------------  -----  \n",
      " 0   Produktivitas Mangga  40 non-null     float64\n",
      " 1   Kecepatan A           40 non-null     float64\n",
      " 2   Mx Kec                40 non-null     float64\n",
      " 3   Year_2012             40 non-null     uint8  \n",
      " 4   Year_2013             40 non-null     uint8  \n",
      " 5   Year_2014             40 non-null     uint8  \n",
      " 6   Year_2015             40 non-null     uint8  \n",
      " 7   Year_2016             40 non-null     uint8  \n",
      " 8   Year_2017             40 non-null     uint8  \n",
      " 9   Year_2018             40 non-null     uint8  \n",
      " 10  Year_2019             40 non-null     uint8  \n",
      " 11  Year_2020             40 non-null     uint8  \n",
      " 12  Year_2021             40 non-null     uint8  \n",
      " 13  Periode_Triwulan I    40 non-null     uint8  \n",
      " 14  Periode_Triwulan II   40 non-null     uint8  \n",
      " 15  Periode_Triwulan III  40 non-null     uint8  \n",
      " 16  Periode_Triwulan IV   40 non-null     uint8  \n",
      "dtypes: float64(3), uint8(14)\n",
      "memory usage: 1.6 KB\n"
     ]
    }
   ],
   "source": [
    "# This code does 3 things:\n",
    "# 1) Create Dummy variable\n",
    "# 2) Drop original variable for which the dummy was created\n",
    "# 3) Drop first dummy variable for each set of dummies created.\n",
    "\n",
    "bike_new = pd.get_dummies(bike_new)\n",
    "bike_new.info()"
   ]
  },
  {
   "cell_type": "code",
   "execution_count": 25,
   "metadata": {
    "execution": {
     "iopub.execute_input": "2024-01-26T02:51:27.794013Z",
     "iopub.status.busy": "2024-01-26T02:51:27.793238Z",
     "iopub.status.idle": "2024-01-26T02:51:27.799115Z",
     "shell.execute_reply": "2024-01-26T02:51:27.798490Z",
     "shell.execute_reply.started": "2024-01-26T02:28:51.724252Z"
    },
    "papermill": {
     "duration": 0.120881,
     "end_time": "2024-01-26T02:51:27.799281",
     "exception": false,
     "start_time": "2024-01-26T02:51:27.678400",
     "status": "completed"
    },
    "tags": []
   },
   "outputs": [
    {
     "data": {
      "text/plain": [
       "(40, 17)"
      ]
     },
     "execution_count": 25,
     "metadata": {},
     "output_type": "execute_result"
    }
   ],
   "source": [
    "bike_new.shape"
   ]
  },
  {
   "cell_type": "markdown",
   "metadata": {
    "papermill": {
     "duration": 0.109689,
     "end_time": "2024-01-26T02:51:28.021711",
     "exception": false,
     "start_time": "2024-01-26T02:51:27.912022",
     "status": "completed"
    },
    "tags": []
   },
   "source": [
    "## SPLITTING THE DATA\n",
    "- Splitting the data to Train and Test: - We will now split the data into TRAIN and TEST (70:30 ratio) \n",
    "- We will use train_test_split method from sklearn package for this"
   ]
  },
  {
   "cell_type": "code",
   "execution_count": 26,
   "metadata": {
    "execution": {
     "iopub.execute_input": "2024-01-26T02:51:28.238126Z",
     "iopub.status.busy": "2024-01-26T02:51:28.237126Z",
     "iopub.status.idle": "2024-01-26T02:51:28.241947Z",
     "shell.execute_reply": "2024-01-26T02:51:28.241165Z",
     "shell.execute_reply.started": "2024-01-26T02:28:51.732033Z"
    },
    "papermill": {
     "duration": 0.115657,
     "end_time": "2024-01-26T02:51:28.242083",
     "exception": false,
     "start_time": "2024-01-26T02:51:28.126426",
     "status": "completed"
    },
    "tags": []
   },
   "outputs": [
    {
     "data": {
      "text/plain": [
       "(40, 3)"
      ]
     },
     "execution_count": 26,
     "metadata": {},
     "output_type": "execute_result"
    }
   ],
   "source": [
    "# Check the shape before spliting\n",
    "\n",
    "bike_new_new.shape"
   ]
  },
  {
   "cell_type": "code",
   "execution_count": 27,
   "metadata": {
    "execution": {
     "iopub.execute_input": "2024-01-26T02:51:28.474123Z",
     "iopub.status.busy": "2024-01-26T02:51:28.473141Z",
     "iopub.status.idle": "2024-01-26T02:51:28.478460Z",
     "shell.execute_reply": "2024-01-26T02:51:28.477367Z",
     "shell.execute_reply.started": "2024-01-26T02:28:51.741808Z"
    },
    "papermill": {
     "duration": 0.125203,
     "end_time": "2024-01-26T02:51:28.478639",
     "exception": false,
     "start_time": "2024-01-26T02:51:28.353436",
     "status": "completed"
    },
    "tags": []
   },
   "outputs": [
    {
     "name": "stdout",
     "output_type": "stream",
     "text": [
      "<class 'pandas.core.frame.DataFrame'>\n",
      "RangeIndex: 40 entries, 0 to 39\n",
      "Data columns (total 3 columns):\n",
      " #   Column                Non-Null Count  Dtype  \n",
      "---  ------                --------------  -----  \n",
      " 0   Produktivitas Mangga  40 non-null     float64\n",
      " 1   Kecepatan A           40 non-null     float64\n",
      " 2   Mx Kec                40 non-null     float64\n",
      "dtypes: float64(3)\n",
      "memory usage: 1.1 KB\n"
     ]
    }
   ],
   "source": [
    "# Check the info before spliting\n",
    "\n",
    "bike_new_new.info()"
   ]
  },
  {
   "cell_type": "code",
   "execution_count": 28,
   "metadata": {
    "execution": {
     "iopub.execute_input": "2024-01-26T02:51:28.706065Z",
     "iopub.status.busy": "2024-01-26T02:51:28.704947Z",
     "iopub.status.idle": "2024-01-26T02:51:28.856054Z",
     "shell.execute_reply": "2024-01-26T02:51:28.855168Z",
     "shell.execute_reply.started": "2024-01-26T02:28:51.756098Z"
    },
    "papermill": {
     "duration": 0.264229,
     "end_time": "2024-01-26T02:51:28.856205",
     "exception": false,
     "start_time": "2024-01-26T02:51:28.591976",
     "status": "completed"
    },
    "tags": []
   },
   "outputs": [],
   "source": [
    "from sklearn.model_selection import train_test_split\n",
    "\n",
    "# We should specify 'random_state' so that the train and test data set always have the same rows, respectively\n",
    "\n",
    "np.random.seed(0)\n",
    "df_train, df_test = train_test_split(bike_new_new, train_size = 0.70, test_size = 0.30, random_state = 333)"
   ]
  },
  {
   "cell_type": "markdown",
   "metadata": {
    "papermill": {
     "duration": 0.113855,
     "end_time": "2024-01-26T02:51:29.080316",
     "exception": false,
     "start_time": "2024-01-26T02:51:28.966461",
     "status": "completed"
    },
    "tags": []
   },
   "source": [
    "\n",
    "- Verify the info and shape of the dataframes after split:"
   ]
  },
  {
   "cell_type": "code",
   "execution_count": 29,
   "metadata": {
    "execution": {
     "iopub.execute_input": "2024-01-26T02:51:29.314537Z",
     "iopub.status.busy": "2024-01-26T02:51:29.313472Z",
     "iopub.status.idle": "2024-01-26T02:51:29.318813Z",
     "shell.execute_reply": "2024-01-26T02:51:29.317998Z",
     "shell.execute_reply.started": "2024-01-26T02:28:51.767812Z"
    },
    "papermill": {
     "duration": 0.125913,
     "end_time": "2024-01-26T02:51:29.318972",
     "exception": false,
     "start_time": "2024-01-26T02:51:29.193059",
     "status": "completed"
    },
    "tags": []
   },
   "outputs": [
    {
     "name": "stdout",
     "output_type": "stream",
     "text": [
      "<class 'pandas.core.frame.DataFrame'>\n",
      "Int64Index: 28 entries, 1 to 12\n",
      "Data columns (total 3 columns):\n",
      " #   Column                Non-Null Count  Dtype  \n",
      "---  ------                --------------  -----  \n",
      " 0   Produktivitas Mangga  28 non-null     float64\n",
      " 1   Kecepatan A           28 non-null     float64\n",
      " 2   Mx Kec                28 non-null     float64\n",
      "dtypes: float64(3)\n",
      "memory usage: 896.0 bytes\n"
     ]
    }
   ],
   "source": [
    "df_train.info()"
   ]
  },
  {
   "cell_type": "code",
   "execution_count": 30,
   "metadata": {
    "execution": {
     "iopub.execute_input": "2024-01-26T02:51:29.541472Z",
     "iopub.status.busy": "2024-01-26T02:51:29.540250Z",
     "iopub.status.idle": "2024-01-26T02:51:29.544628Z",
     "shell.execute_reply": "2024-01-26T02:51:29.545381Z",
     "shell.execute_reply.started": "2024-01-26T02:28:51.781373Z"
    },
    "papermill": {
     "duration": 0.119866,
     "end_time": "2024-01-26T02:51:29.545548",
     "exception": false,
     "start_time": "2024-01-26T02:51:29.425682",
     "status": "completed"
    },
    "tags": []
   },
   "outputs": [
    {
     "data": {
      "text/plain": [
       "(28, 3)"
      ]
     },
     "execution_count": 30,
     "metadata": {},
     "output_type": "execute_result"
    }
   ],
   "source": [
    "df_train.shape"
   ]
  },
  {
   "cell_type": "code",
   "execution_count": 31,
   "metadata": {
    "execution": {
     "iopub.execute_input": "2024-01-26T02:51:29.767919Z",
     "iopub.status.busy": "2024-01-26T02:51:29.766789Z",
     "iopub.status.idle": "2024-01-26T02:51:29.778238Z",
     "shell.execute_reply": "2024-01-26T02:51:29.777469Z",
     "shell.execute_reply.started": "2024-01-26T02:28:51.792489Z"
    },
    "papermill": {
     "duration": 0.12429,
     "end_time": "2024-01-26T02:51:29.778389",
     "exception": false,
     "start_time": "2024-01-26T02:51:29.654099",
     "status": "completed"
    },
    "tags": []
   },
   "outputs": [
    {
     "name": "stdout",
     "output_type": "stream",
     "text": [
      "<class 'pandas.core.frame.DataFrame'>\n",
      "Int64Index: 12 entries, 31 to 0\n",
      "Data columns (total 3 columns):\n",
      " #   Column                Non-Null Count  Dtype  \n",
      "---  ------                --------------  -----  \n",
      " 0   Produktivitas Mangga  12 non-null     float64\n",
      " 1   Kecepatan A           12 non-null     float64\n",
      " 2   Mx Kec                12 non-null     float64\n",
      "dtypes: float64(3)\n",
      "memory usage: 384.0 bytes\n"
     ]
    }
   ],
   "source": [
    "df_test.info()"
   ]
  },
  {
   "cell_type": "code",
   "execution_count": 32,
   "metadata": {
    "execution": {
     "iopub.execute_input": "2024-01-26T02:51:30.008528Z",
     "iopub.status.busy": "2024-01-26T02:51:30.007137Z",
     "iopub.status.idle": "2024-01-26T02:51:30.011514Z",
     "shell.execute_reply": "2024-01-26T02:51:30.012142Z",
     "shell.execute_reply.started": "2024-01-26T02:28:51.804744Z"
    },
    "papermill": {
     "duration": 0.125601,
     "end_time": "2024-01-26T02:51:30.012343",
     "exception": false,
     "start_time": "2024-01-26T02:51:29.886742",
     "status": "completed"
    },
    "tags": []
   },
   "outputs": [
    {
     "data": {
      "text/plain": [
       "(12, 3)"
      ]
     },
     "execution_count": 32,
     "metadata": {},
     "output_type": "execute_result"
    }
   ],
   "source": [
    "df_test.shape"
   ]
  },
  {
   "cell_type": "markdown",
   "metadata": {
    "papermill": {
     "duration": 0.114092,
     "end_time": "2024-01-26T02:51:30.259853",
     "exception": false,
     "start_time": "2024-01-26T02:51:30.145761",
     "status": "completed"
    },
    "tags": []
   },
   "source": [
    "# EXPLORATORY DATA ANALYSIS"
   ]
  },
  {
   "cell_type": "markdown",
   "metadata": {
    "papermill": {
     "duration": 0.111082,
     "end_time": "2024-01-26T02:51:30.481966",
     "exception": false,
     "start_time": "2024-01-26T02:51:30.370884",
     "status": "completed"
    },
    "tags": []
   },
   "source": [
    "\n",
    "- We need to  perform the EDA on TRAINING (df_train) Dataset."
   ]
  },
  {
   "cell_type": "markdown",
   "metadata": {
    "papermill": {
     "duration": 0.108983,
     "end_time": "2024-01-26T02:51:30.701330",
     "exception": false,
     "start_time": "2024-01-26T02:51:30.592347",
     "status": "completed"
    },
    "tags": []
   },
   "source": [
    "## Visualising Numeric Variables\n",
    "Let's make a pairplot of all the numeric variables."
   ]
  },
  {
   "cell_type": "code",
   "execution_count": 33,
   "metadata": {
    "execution": {
     "iopub.execute_input": "2024-01-26T02:51:30.926798Z",
     "iopub.status.busy": "2024-01-26T02:51:30.925927Z",
     "iopub.status.idle": "2024-01-26T02:51:30.936313Z",
     "shell.execute_reply": "2024-01-26T02:51:30.935497Z",
     "shell.execute_reply.started": "2024-01-26T02:28:51.815503Z"
    },
    "papermill": {
     "duration": 0.124053,
     "end_time": "2024-01-26T02:51:30.936466",
     "exception": false,
     "start_time": "2024-01-26T02:51:30.812413",
     "status": "completed"
    },
    "tags": []
   },
   "outputs": [
    {
     "name": "stdout",
     "output_type": "stream",
     "text": [
      "<class 'pandas.core.frame.DataFrame'>\n",
      "Int64Index: 28 entries, 1 to 12\n",
      "Data columns (total 3 columns):\n",
      " #   Column                Non-Null Count  Dtype  \n",
      "---  ------                --------------  -----  \n",
      " 0   Produktivitas Mangga  28 non-null     float64\n",
      " 1   Kecepatan A           28 non-null     float64\n",
      " 2   Mx Kec                28 non-null     float64\n",
      "dtypes: float64(3)\n",
      "memory usage: 896.0 bytes\n"
     ]
    }
   ],
   "source": [
    "df_train.info()"
   ]
  },
  {
   "cell_type": "code",
   "execution_count": 34,
   "metadata": {
    "execution": {
     "iopub.execute_input": "2024-01-26T02:51:31.169076Z",
     "iopub.status.busy": "2024-01-26T02:51:31.167971Z",
     "iopub.status.idle": "2024-01-26T02:51:31.174845Z",
     "shell.execute_reply": "2024-01-26T02:51:31.175405Z",
     "shell.execute_reply.started": "2024-01-26T02:28:51.830945Z"
    },
    "papermill": {
     "duration": 0.122467,
     "end_time": "2024-01-26T02:51:31.175592",
     "exception": false,
     "start_time": "2024-01-26T02:51:31.053125",
     "status": "completed"
    },
    "tags": []
   },
   "outputs": [
    {
     "data": {
      "text/plain": [
       "Index(['Produktivitas Mangga', 'Kecepatan A', 'Mx Kec'], dtype='object')"
      ]
     },
     "execution_count": 34,
     "metadata": {},
     "output_type": "execute_result"
    }
   ],
   "source": [
    "df_train.columns"
   ]
  },
  {
   "cell_type": "code",
   "execution_count": 35,
   "metadata": {
    "execution": {
     "iopub.execute_input": "2024-01-26T02:51:31.406071Z",
     "iopub.status.busy": "2024-01-26T02:51:31.405239Z",
     "iopub.status.idle": "2024-01-26T02:51:34.217672Z",
     "shell.execute_reply": "2024-01-26T02:51:34.216881Z",
     "shell.execute_reply.started": "2024-01-26T02:28:51.841946Z"
    },
    "papermill": {
     "duration": 2.933428,
     "end_time": "2024-01-26T02:51:34.217807",
     "exception": false,
     "start_time": "2024-01-26T02:51:31.284379",
     "status": "completed"
    },
    "tags": []
   },
   "outputs": [
    {
     "data": {
      "image/png": "[encoded data removed]",
      "text/plain": [
       "<Figure size 540x540 with 12 Axes>"
      ]
     },
     "metadata": {
      "needs_background": "light"
     },
     "output_type": "display_data"
    }
   ],
   "source": [
    "# Create a new dataframe of only numeric variables:\n",
    "\n",
    "bike_num=df_train[['Produktivitas Mangga', 'Kecepatan A',\n",
    "       'Mx Kec']]\n",
    "\n",
    "sns.pairplot(bike_num, diag_kind='kde')\n",
    "plt.show()"
   ]
  },
  {
   "cell_type": "markdown",
   "metadata": {
    "papermill": {
     "duration": 0.112772,
     "end_time": "2024-01-26T02:51:34.446946",
     "exception": false,
     "start_time": "2024-01-26T02:51:34.334174",
     "status": "completed"
    },
    "tags": []
   },
   "source": [
    "### Insights\n",
    "- The above Pair-Plot tells us that there is a LINEAR RELATION between 'temp','atemp' and 'cnt' "
   ]
  },
  {
   "cell_type": "markdown",
   "metadata": {
    "papermill": {
     "duration": 0.114729,
     "end_time": "2024-01-26T02:51:34.677921",
     "exception": false,
     "start_time": "2024-01-26T02:51:34.563192",
     "status": "completed"
    },
    "tags": []
   },
   "source": [
    "## Visualising Catagorical Variables"
   ]
  },
  {
   "cell_type": "code",
   "execution_count": 36,
   "metadata": {
    "execution": {
     "iopub.execute_input": "2024-01-26T02:51:34.915443Z",
     "iopub.status.busy": "2024-01-26T02:51:34.914248Z",
     "iopub.status.idle": "2024-01-26T02:51:34.919875Z",
     "shell.execute_reply": "2024-01-26T02:51:34.918677Z",
     "shell.execute_reply.started": "2024-01-26T02:28:54.145658Z"
    },
    "papermill": {
     "duration": 0.129271,
     "end_time": "2024-01-26T02:51:34.920041",
     "exception": false,
     "start_time": "2024-01-26T02:51:34.790770",
     "status": "completed"
    },
    "tags": []
   },
   "outputs": [
    {
     "name": "stdout",
     "output_type": "stream",
     "text": [
      "<class 'pandas.core.frame.DataFrame'>\n",
      "Int64Index: 28 entries, 1 to 12\n",
      "Data columns (total 3 columns):\n",
      " #   Column                Non-Null Count  Dtype  \n",
      "---  ------                --------------  -----  \n",
      " 0   Produktivitas Mangga  28 non-null     float64\n",
      " 1   Kecepatan A           28 non-null     float64\n",
      " 2   Mx Kec                28 non-null     float64\n",
      "dtypes: float64(3)\n",
      "memory usage: 2.1 KB\n"
     ]
    }
   ],
   "source": [
    "df_train.info()"
   ]
  },
  {
   "cell_type": "code",
   "execution_count": 37,
   "metadata": {
    "execution": {
     "iopub.execute_input": "2024-01-26T02:51:35.153601Z",
     "iopub.status.busy": "2024-01-26T02:51:35.152762Z",
     "iopub.status.idle": "2024-01-26T02:51:35.689155Z",
     "shell.execute_reply": "2024-01-26T02:51:35.690164Z",
     "shell.execute_reply.started": "2024-01-26T02:28:54.155280Z"
    },
    "papermill": {
     "duration": 0.655635,
     "end_time": "2024-01-26T02:51:35.690414",
     "exception": false,
     "start_time": "2024-01-26T02:51:35.034779",
     "status": "completed"
    },
    "tags": []
   },
   "outputs": [
    {
     "data": {
      "image/png": "[encoded data removed]",
      "text/plain": [
       "<Figure size 1800x720 with 2 Axes>"
      ]
     },
     "metadata": {
      "needs_background": "light"
     },
     "output_type": "display_data"
    }
   ],
   "source": [
    "# Build boxplot of all categorical variables (before creating dummies) againt the target variable 'cnt' \n",
    "# to see how each of the predictor variable stackup against the target variable.\n",
    "\n",
    "plt.figure(figsize=(25, 10))\n",
    "plt.subplot(2,3,1)\n",
    "sns.boxplot(x = 'Year', y = 'Produktivitas Mangga', data = bike)\n",
    "plt.subplot(2,3,2)\n",
    "sns.boxplot(x = 'Periode', y = 'Produktivitas Mangga', data = bike)\n",
    "plt.show()"
   ]
  },
  {
   "cell_type": "markdown",
   "metadata": {
    "papermill": {
     "duration": 0.1137,
     "end_time": "2024-01-26T02:51:35.920288",
     "exception": false,
     "start_time": "2024-01-26T02:51:35.806588",
     "status": "completed"
    },
    "tags": []
   },
   "source": [
    "## Correlation Matrix"
   ]
  },
  {
   "cell_type": "code",
   "execution_count": 38,
   "metadata": {
    "execution": {
     "iopub.execute_input": "2024-01-26T02:51:36.159642Z",
     "iopub.status.busy": "2024-01-26T02:51:36.158819Z",
     "iopub.status.idle": "2024-01-26T02:51:36.497823Z",
     "shell.execute_reply": "2024-01-26T02:51:36.498466Z",
     "shell.execute_reply.started": "2024-01-26T02:28:54.679273Z"
    },
    "papermill": {
     "duration": 0.458519,
     "end_time": "2024-01-26T02:51:36.498637",
     "exception": false,
     "start_time": "2024-01-26T02:51:36.040118",
     "status": "completed"
    },
    "tags": []
   },
   "outputs": [
    {
     "data": {
      "image/png": "[encoded data removed]",
      "text/plain": [
       "<Figure size 1800x1440 with 2 Axes>"
      ]
     },
     "metadata": {
      "needs_background": "light"
     },
     "output_type": "display_data"
    }
   ],
   "source": [
    "# Let's check the correlation coefficients to see which variables are highly correlated. Note:\n",
    "# here we are considering only those variables (dataframe: bike_new) that were chosen for analysis\n",
    "\n",
    "plt.figure(figsize = (25,20))\n",
    "sns.heatmap(bike_new_new.corr(), annot = True, cmap=\"RdBu\")\n",
    "plt.show()"
   ]
  },
  {
   "cell_type": "markdown",
   "metadata": {
    "papermill": {
     "duration": 0.113132,
     "end_time": "2024-01-26T02:51:36.726828",
     "exception": false,
     "start_time": "2024-01-26T02:51:36.613696",
     "status": "completed"
    },
    "tags": []
   },
   "source": [
    "### Insights:\n",
    " - The heatmap clearly shows which all variable are multicollinear in nature, and which variable have high collinearity with the target variable.\n",
    " - We will refer this map back-and-forth while building the linear model so as to validate different correlated values along with VIF & p-value, for identifying the correct variable to select/eliminate from the model."
   ]
  },
  {
   "cell_type": "markdown",
   "metadata": {
    "papermill": {
     "duration": 0.114481,
     "end_time": "2024-01-26T02:51:36.955520",
     "exception": false,
     "start_time": "2024-01-26T02:51:36.841039",
     "status": "completed"
    },
    "tags": []
   },
   "source": [
    "# RESCALING THE FEATURES"
   ]
  },
  {
   "cell_type": "code",
   "execution_count": 39,
   "metadata": {
    "execution": {
     "iopub.execute_input": "2024-01-26T02:51:37.191823Z",
     "iopub.status.busy": "2024-01-26T02:51:37.191041Z",
     "iopub.status.idle": "2024-01-26T02:51:37.197278Z",
     "shell.execute_reply": "2024-01-26T02:51:37.196587Z",
     "shell.execute_reply.started": "2024-01-26T02:28:55.005846Z"
    },
    "papermill": {
     "duration": 0.124552,
     "end_time": "2024-01-26T02:51:37.197422",
     "exception": false,
     "start_time": "2024-01-26T02:51:37.072870",
     "status": "completed"
    },
    "tags": []
   },
   "outputs": [],
   "source": [
    "from sklearn.preprocessing import MinMaxScaler"
   ]
  },
  {
   "cell_type": "code",
   "execution_count": 40,
   "metadata": {
    "execution": {
     "iopub.execute_input": "2024-01-26T02:51:37.436499Z",
     "iopub.status.busy": "2024-01-26T02:51:37.435703Z",
     "iopub.status.idle": "2024-01-26T02:51:37.439875Z",
     "shell.execute_reply": "2024-01-26T02:51:37.439250Z",
     "shell.execute_reply.started": "2024-01-26T02:28:55.013535Z"
    },
    "papermill": {
     "duration": 0.124167,
     "end_time": "2024-01-26T02:51:37.440018",
     "exception": false,
     "start_time": "2024-01-26T02:51:37.315851",
     "status": "completed"
    },
    "tags": []
   },
   "outputs": [],
   "source": [
    "scaler = MinMaxScaler()"
   ]
  },
  {
   "cell_type": "code",
   "execution_count": 41,
   "metadata": {
    "execution": {
     "iopub.execute_input": "2024-01-26T02:51:37.683479Z",
     "iopub.status.busy": "2024-01-26T02:51:37.682599Z",
     "iopub.status.idle": "2024-01-26T02:51:37.686400Z",
     "shell.execute_reply": "2024-01-26T02:51:37.686988Z",
     "shell.execute_reply.started": "2024-01-26T02:28:55.023606Z"
    },
    "papermill": {
     "duration": 0.130385,
     "end_time": "2024-01-26T02:51:37.687155",
     "exception": false,
     "start_time": "2024-01-26T02:51:37.556770",
     "status": "completed"
    },
    "scrolled": true,
    "tags": []
   },
   "outputs": [
    {
     "data": {
      "text/html": [
       "<div>\n",
       "<style scoped>\n",
       "    .dataframe tbody tr th:only-of-type {\n",
       "        vertical-align: middle;\n",
       "    }\n",
       "\n",
       "    .dataframe tbody tr th {\n",
       "        vertical-align: top;\n",
       "    }\n",
       "\n",
       "    .dataframe thead th {\n",
       "        text-align: right;\n",
       "    }\n",
       "</style>\n",
       "<table border=\"1\" class=\"dataframe\">\n",
       "  <thead>\n",
       "    <tr style=\"text-align: right;\">\n",
       "      <th></th>\n",
       "      <th>Produktivitas Mangga</th>\n",
       "      <th>Kecepatan A</th>\n",
       "      <th>Mx Kec</th>\n",
       "    </tr>\n",
       "  </thead>\n",
       "  <tbody>\n",
       "    <tr>\n",
       "      <th>1</th>\n",
       "      <td>0.00</td>\n",
       "      <td>8.93</td>\n",
       "      <td>14.0</td>\n",
       "    </tr>\n",
       "    <tr>\n",
       "      <th>14</th>\n",
       "      <td>0.56</td>\n",
       "      <td>8.83</td>\n",
       "      <td>13.3</td>\n",
       "    </tr>\n",
       "    <tr>\n",
       "      <th>36</th>\n",
       "      <td>0.26</td>\n",
       "      <td>7.03</td>\n",
       "      <td>10.4</td>\n",
       "    </tr>\n",
       "    <tr>\n",
       "      <th>11</th>\n",
       "      <td>0.53</td>\n",
       "      <td>8.10</td>\n",
       "      <td>13.9</td>\n",
       "    </tr>\n",
       "    <tr>\n",
       "      <th>18</th>\n",
       "      <td>0.54</td>\n",
       "      <td>7.93</td>\n",
       "      <td>12.7</td>\n",
       "    </tr>\n",
       "  </tbody>\n",
       "</table>\n",
       "</div>"
      ],
      "text/plain": [
       "    Produktivitas Mangga  Kecepatan A  Mx Kec\n",
       "1                   0.00         8.93    14.0\n",
       "14                  0.56         8.83    13.3\n",
       "36                  0.26         7.03    10.4\n",
       "11                  0.53         8.10    13.9\n",
       "18                  0.54         7.93    12.7"
      ]
     },
     "execution_count": 41,
     "metadata": {},
     "output_type": "execute_result"
    }
   ],
   "source": [
    "# Checking the values before scaling\n",
    "df_train.head()"
   ]
  },
  {
   "cell_type": "code",
   "execution_count": 42,
   "metadata": {
    "execution": {
     "iopub.execute_input": "2024-01-26T02:51:37.922200Z",
     "iopub.status.busy": "2024-01-26T02:51:37.921431Z",
     "iopub.status.idle": "2024-01-26T02:51:37.928476Z",
     "shell.execute_reply": "2024-01-26T02:51:37.929129Z",
     "shell.execute_reply.started": "2024-01-26T02:28:55.045169Z"
    },
    "papermill": {
     "duration": 0.127084,
     "end_time": "2024-01-26T02:51:37.929354",
     "exception": false,
     "start_time": "2024-01-26T02:51:37.802270",
     "status": "completed"
    },
    "tags": []
   },
   "outputs": [
    {
     "data": {
      "text/plain": [
       "Index(['Produktivitas Mangga', 'Kecepatan A', 'Mx Kec'], dtype='object')"
      ]
     },
     "execution_count": 42,
     "metadata": {},
     "output_type": "execute_result"
    }
   ],
   "source": [
    "df_train.columns"
   ]
  },
  {
   "cell_type": "code",
   "execution_count": 43,
   "metadata": {
    "execution": {
     "iopub.execute_input": "2024-01-26T02:51:38.168004Z",
     "iopub.status.busy": "2024-01-26T02:51:38.167139Z",
     "iopub.status.idle": "2024-01-26T02:51:38.181382Z",
     "shell.execute_reply": "2024-01-26T02:51:38.180734Z",
     "shell.execute_reply.started": "2024-01-26T02:28:55.056646Z"
    },
    "papermill": {
     "duration": 0.134276,
     "end_time": "2024-01-26T02:51:38.181543",
     "exception": false,
     "start_time": "2024-01-26T02:51:38.047267",
     "status": "completed"
    },
    "tags": []
   },
   "outputs": [],
   "source": [
    "# Apply scaler() to all the numeric variables\n",
    "\n",
    "num_vars = ['Produktivitas Mangga', 'Kecepatan A','Mx Kec']\n",
    "\n",
    "df_train[num_vars] = scaler.fit_transform(df_train[num_vars])"
   ]
  },
  {
   "cell_type": "code",
   "execution_count": 44,
   "metadata": {
    "execution": {
     "iopub.execute_input": "2024-01-26T02:51:38.427561Z",
     "iopub.status.busy": "2024-01-26T02:51:38.426680Z",
     "iopub.status.idle": "2024-01-26T02:51:38.430825Z",
     "shell.execute_reply": "2024-01-26T02:51:38.430162Z",
     "shell.execute_reply.started": "2024-01-26T02:28:55.070821Z"
    },
    "papermill": {
     "duration": 0.131686,
     "end_time": "2024-01-26T02:51:38.430958",
     "exception": false,
     "start_time": "2024-01-26T02:51:38.299272",
     "status": "completed"
    },
    "tags": []
   },
   "outputs": [
    {
     "data": {
      "text/html": [
       "<div>\n",
       "<style scoped>\n",
       "    .dataframe tbody tr th:only-of-type {\n",
       "        vertical-align: middle;\n",
       "    }\n",
       "\n",
       "    .dataframe tbody tr th {\n",
       "        vertical-align: top;\n",
       "    }\n",
       "\n",
       "    .dataframe thead th {\n",
       "        text-align: right;\n",
       "    }\n",
       "</style>\n",
       "<table border=\"1\" class=\"dataframe\">\n",
       "  <thead>\n",
       "    <tr style=\"text-align: right;\">\n",
       "      <th></th>\n",
       "      <th>Produktivitas Mangga</th>\n",
       "      <th>Kecepatan A</th>\n",
       "      <th>Mx Kec</th>\n",
       "    </tr>\n",
       "  </thead>\n",
       "  <tbody>\n",
       "    <tr>\n",
       "      <th>1</th>\n",
       "      <td>0.000000</td>\n",
       "      <td>0.817391</td>\n",
       "      <td>0.835616</td>\n",
       "    </tr>\n",
       "    <tr>\n",
       "      <th>14</th>\n",
       "      <td>0.823529</td>\n",
       "      <td>0.795652</td>\n",
       "      <td>0.739726</td>\n",
       "    </tr>\n",
       "    <tr>\n",
       "      <th>36</th>\n",
       "      <td>0.382353</td>\n",
       "      <td>0.404348</td>\n",
       "      <td>0.342466</td>\n",
       "    </tr>\n",
       "    <tr>\n",
       "      <th>11</th>\n",
       "      <td>0.779412</td>\n",
       "      <td>0.636957</td>\n",
       "      <td>0.821918</td>\n",
       "    </tr>\n",
       "    <tr>\n",
       "      <th>18</th>\n",
       "      <td>0.794118</td>\n",
       "      <td>0.600000</td>\n",
       "      <td>0.657534</td>\n",
       "    </tr>\n",
       "  </tbody>\n",
       "</table>\n",
       "</div>"
      ],
      "text/plain": [
       "    Produktivitas Mangga  Kecepatan A    Mx Kec\n",
       "1               0.000000     0.817391  0.835616\n",
       "14              0.823529     0.795652  0.739726\n",
       "36              0.382353     0.404348  0.342466\n",
       "11              0.779412     0.636957  0.821918\n",
       "18              0.794118     0.600000  0.657534"
      ]
     },
     "execution_count": 44,
     "metadata": {},
     "output_type": "execute_result"
    }
   ],
   "source": [
    "# Checking values after scaling\n",
    "df_train.head()"
   ]
  },
  {
   "cell_type": "code",
   "execution_count": 45,
   "metadata": {
    "execution": {
     "iopub.execute_input": "2024-01-26T02:51:38.675774Z",
     "iopub.status.busy": "2024-01-26T02:51:38.674628Z",
     "iopub.status.idle": "2024-01-26T02:51:38.697516Z",
     "shell.execute_reply": "2024-01-26T02:51:38.698140Z",
     "shell.execute_reply.started": "2024-01-26T02:28:55.090610Z"
    },
    "papermill": {
     "duration": 0.146842,
     "end_time": "2024-01-26T02:51:38.698361",
     "exception": false,
     "start_time": "2024-01-26T02:51:38.551519",
     "status": "completed"
    },
    "tags": []
   },
   "outputs": [
    {
     "data": {
      "text/html": [
       "<div>\n",
       "<style scoped>\n",
       "    .dataframe tbody tr th:only-of-type {\n",
       "        vertical-align: middle;\n",
       "    }\n",
       "\n",
       "    .dataframe tbody tr th {\n",
       "        vertical-align: top;\n",
       "    }\n",
       "\n",
       "    .dataframe thead th {\n",
       "        text-align: right;\n",
       "    }\n",
       "</style>\n",
       "<table border=\"1\" class=\"dataframe\">\n",
       "  <thead>\n",
       "    <tr style=\"text-align: right;\">\n",
       "      <th></th>\n",
       "      <th>Produktivitas Mangga</th>\n",
       "      <th>Kecepatan A</th>\n",
       "      <th>Mx Kec</th>\n",
       "    </tr>\n",
       "  </thead>\n",
       "  <tbody>\n",
       "    <tr>\n",
       "      <th>count</th>\n",
       "      <td>28.000000</td>\n",
       "      <td>28.000000</td>\n",
       "      <td>28.000000</td>\n",
       "    </tr>\n",
       "    <tr>\n",
       "      <th>mean</th>\n",
       "      <td>0.526786</td>\n",
       "      <td>0.433773</td>\n",
       "      <td>0.510274</td>\n",
       "    </tr>\n",
       "    <tr>\n",
       "      <th>std</th>\n",
       "      <td>0.376528</td>\n",
       "      <td>0.267461</td>\n",
       "      <td>0.301615</td>\n",
       "    </tr>\n",
       "    <tr>\n",
       "      <th>min</th>\n",
       "      <td>0.000000</td>\n",
       "      <td>0.000000</td>\n",
       "      <td>0.000000</td>\n",
       "    </tr>\n",
       "    <tr>\n",
       "      <th>25%</th>\n",
       "      <td>0.000000</td>\n",
       "      <td>0.244022</td>\n",
       "      <td>0.256849</td>\n",
       "    </tr>\n",
       "    <tr>\n",
       "      <th>50%</th>\n",
       "      <td>0.691176</td>\n",
       "      <td>0.408696</td>\n",
       "      <td>0.520548</td>\n",
       "    </tr>\n",
       "    <tr>\n",
       "      <th>75%</th>\n",
       "      <td>0.801471</td>\n",
       "      <td>0.600000</td>\n",
       "      <td>0.750000</td>\n",
       "    </tr>\n",
       "    <tr>\n",
       "      <th>max</th>\n",
       "      <td>1.000000</td>\n",
       "      <td>1.000000</td>\n",
       "      <td>1.000000</td>\n",
       "    </tr>\n",
       "  </tbody>\n",
       "</table>\n",
       "</div>"
      ],
      "text/plain": [
       "       Produktivitas Mangga  Kecepatan A     Mx Kec\n",
       "count             28.000000    28.000000  28.000000\n",
       "mean               0.526786     0.433773   0.510274\n",
       "std                0.376528     0.267461   0.301615\n",
       "min                0.000000     0.000000   0.000000\n",
       "25%                0.000000     0.244022   0.256849\n",
       "50%                0.691176     0.408696   0.520548\n",
       "75%                0.801471     0.600000   0.750000\n",
       "max                1.000000     1.000000   1.000000"
      ]
     },
     "execution_count": 45,
     "metadata": {},
     "output_type": "execute_result"
    }
   ],
   "source": [
    "df_train.describe()"
   ]
  },
  {
   "cell_type": "markdown",
   "metadata": {
    "papermill": {
     "duration": 0.115361,
     "end_time": "2024-01-26T02:51:38.929692",
     "exception": false,
     "start_time": "2024-01-26T02:51:38.814331",
     "status": "completed"
    },
    "tags": []
   },
   "source": [
    "# BUILDING A LINEAR MODEL"
   ]
  },
  {
   "cell_type": "markdown",
   "metadata": {
    "papermill": {
     "duration": 0.119354,
     "end_time": "2024-01-26T02:51:39.166301",
     "exception": false,
     "start_time": "2024-01-26T02:51:39.046947",
     "status": "completed"
    },
    "tags": []
   },
   "source": [
    "## Dividing into X and Y sets for the model building"
   ]
  },
  {
   "cell_type": "code",
   "execution_count": 46,
   "metadata": {
    "execution": {
     "iopub.execute_input": "2024-01-26T02:51:39.404189Z",
     "iopub.status.busy": "2024-01-26T02:51:39.403403Z",
     "iopub.status.idle": "2024-01-26T02:51:39.409274Z",
     "shell.execute_reply": "2024-01-26T02:51:39.409954Z",
     "shell.execute_reply.started": "2024-01-26T02:28:55.123402Z"
    },
    "papermill": {
     "duration": 0.127039,
     "end_time": "2024-01-26T02:51:39.410126",
     "exception": false,
     "start_time": "2024-01-26T02:51:39.283087",
     "status": "completed"
    },
    "tags": []
   },
   "outputs": [],
   "source": [
    "y_train = df_train.pop('Produktivitas Mangga')\n",
    "X_train = df_train"
   ]
  },
  {
   "cell_type": "markdown",
   "metadata": {
    "papermill": {
     "duration": 0.116111,
     "end_time": "2024-01-26T02:51:39.644577",
     "exception": false,
     "start_time": "2024-01-26T02:51:39.528466",
     "status": "completed"
    },
    "tags": []
   },
   "source": [
    "### RFE\n",
    "Recursive feature elimination: We will be using the **LinearRegression function from SciKit Learn**  for its compatibility with RFE (which is a utility from sklearn)"
   ]
  },
  {
   "cell_type": "code",
   "execution_count": 47,
   "metadata": {
    "execution": {
     "iopub.execute_input": "2024-01-26T02:51:39.879693Z",
     "iopub.status.busy": "2024-01-26T02:51:39.878883Z",
     "iopub.status.idle": "2024-01-26T02:51:40.071720Z",
     "shell.execute_reply": "2024-01-26T02:51:40.070591Z",
     "shell.execute_reply.started": "2024-01-26T02:28:55.131686Z"
    },
    "papermill": {
     "duration": 0.312888,
     "end_time": "2024-01-26T02:51:40.071947",
     "exception": false,
     "start_time": "2024-01-26T02:51:39.759059",
     "status": "completed"
    },
    "tags": []
   },
   "outputs": [],
   "source": [
    "# Importing RFE and LinearRegression\n",
    "from sklearn.feature_selection import RFE\n",
    "from sklearn.linear_model import LinearRegression"
   ]
  },
  {
   "cell_type": "code",
   "execution_count": 48,
   "metadata": {
    "execution": {
     "iopub.execute_input": "2024-01-26T02:51:40.338706Z",
     "iopub.status.busy": "2024-01-26T02:51:40.337733Z",
     "iopub.status.idle": "2024-01-26T02:51:40.373049Z",
     "shell.execute_reply": "2024-01-26T02:51:40.373715Z",
     "shell.execute_reply.started": "2024-01-26T02:28:55.141263Z"
    },
    "papermill": {
     "duration": 0.169097,
     "end_time": "2024-01-26T02:51:40.373890",
     "exception": false,
     "start_time": "2024-01-26T02:51:40.204793",
     "status": "completed"
    },
    "tags": []
   },
   "outputs": [],
   "source": [
    "# Running RFE with the output number of the variable equal to 15\n",
    "lm = LinearRegression()\n",
    "lm.fit(X_train, y_train)\n",
    "\n",
    "rfe = RFE(lm, 15)             # running RFE\n",
    "rfe = rfe.fit(X_train, y_train)"
   ]
  },
  {
   "cell_type": "code",
   "execution_count": 49,
   "metadata": {
    "execution": {
     "iopub.execute_input": "2024-01-26T02:51:40.611588Z",
     "iopub.status.busy": "2024-01-26T02:51:40.610760Z",
     "iopub.status.idle": "2024-01-26T02:51:40.619367Z",
     "shell.execute_reply": "2024-01-26T02:51:40.619999Z",
     "shell.execute_reply.started": "2024-01-26T02:28:55.157395Z"
    },
    "papermill": {
     "duration": 0.130293,
     "end_time": "2024-01-26T02:51:40.620173",
     "exception": false,
     "start_time": "2024-01-26T02:51:40.489880",
     "status": "completed"
    },
    "tags": []
   },
   "outputs": [
    {
     "data": {
      "text/plain": [
       "[('Kecepatan A', True, 1), ('Mx Kec', True, 1)]"
      ]
     },
     "execution_count": 49,
     "metadata": {},
     "output_type": "execute_result"
    }
   ],
   "source": [
    "list(zip(X_train.columns,rfe.support_,rfe.ranking_))"
   ]
  },
  {
   "cell_type": "code",
   "execution_count": 50,
   "metadata": {
    "execution": {
     "iopub.execute_input": "2024-01-26T02:51:40.866376Z",
     "iopub.status.busy": "2024-01-26T02:51:40.865317Z",
     "iopub.status.idle": "2024-01-26T02:51:40.870849Z",
     "shell.execute_reply": "2024-01-26T02:51:40.870018Z",
     "shell.execute_reply.started": "2024-01-26T02:28:55.170779Z"
    },
    "papermill": {
     "duration": 0.133296,
     "end_time": "2024-01-26T02:51:40.871006",
     "exception": false,
     "start_time": "2024-01-26T02:51:40.737710",
     "status": "completed"
    },
    "tags": []
   },
   "outputs": [
    {
     "data": {
      "text/plain": [
       "Index(['Kecepatan A', 'Mx Kec'], dtype='object')"
      ]
     },
     "execution_count": 50,
     "metadata": {},
     "output_type": "execute_result"
    }
   ],
   "source": [
    "col = X_train.columns[rfe.support_]\n",
    "col"
   ]
  },
  {
   "cell_type": "code",
   "execution_count": 51,
   "metadata": {
    "execution": {
     "iopub.execute_input": "2024-01-26T02:51:41.118860Z",
     "iopub.status.busy": "2024-01-26T02:51:41.117781Z",
     "iopub.status.idle": "2024-01-26T02:51:41.122294Z",
     "shell.execute_reply": "2024-01-26T02:51:41.122914Z",
     "shell.execute_reply.started": "2024-01-26T02:28:55.181970Z"
    },
    "papermill": {
     "duration": 0.133473,
     "end_time": "2024-01-26T02:51:41.123096",
     "exception": false,
     "start_time": "2024-01-26T02:51:40.989623",
     "status": "completed"
    },
    "tags": []
   },
   "outputs": [
    {
     "data": {
      "text/plain": [
       "Index([], dtype='object')"
      ]
     },
     "execution_count": 51,
     "metadata": {},
     "output_type": "execute_result"
    }
   ],
   "source": [
    "X_train.columns[~rfe.support_]"
   ]
  },
  {
   "cell_type": "code",
   "execution_count": 52,
   "metadata": {
    "execution": {
     "iopub.execute_input": "2024-01-26T02:51:41.370698Z",
     "iopub.status.busy": "2024-01-26T02:51:41.369541Z",
     "iopub.status.idle": "2024-01-26T02:51:41.373053Z",
     "shell.execute_reply": "2024-01-26T02:51:41.372409Z",
     "shell.execute_reply.started": "2024-01-26T02:28:55.192982Z"
    },
    "papermill": {
     "duration": 0.132573,
     "end_time": "2024-01-26T02:51:41.373198",
     "exception": false,
     "start_time": "2024-01-26T02:51:41.240625",
     "status": "completed"
    },
    "tags": []
   },
   "outputs": [],
   "source": [
    "# Creating X_test dataframe with RFE selected variables\n",
    "X_train_rfe = X_train[col]"
   ]
  },
  {
   "cell_type": "code",
   "execution_count": 53,
   "metadata": {
    "execution": {
     "iopub.execute_input": "2024-01-26T02:51:41.632048Z",
     "iopub.status.busy": "2024-01-26T02:51:41.631177Z",
     "iopub.status.idle": "2024-01-26T02:51:41.635710Z",
     "shell.execute_reply": "2024-01-26T02:51:41.634842Z",
     "shell.execute_reply.started": "2024-01-26T02:28:55.204484Z"
    },
    "papermill": {
     "duration": 0.127701,
     "end_time": "2024-01-26T02:51:41.635867",
     "exception": false,
     "start_time": "2024-01-26T02:51:41.508166",
     "status": "completed"
    },
    "tags": []
   },
   "outputs": [],
   "source": [
    "from scipy import stats\n",
    "import matplotlib.pyplot as plt"
   ]
  },
  {
   "cell_type": "code",
   "execution_count": 54,
   "metadata": {
    "execution": {
     "iopub.execute_input": "2024-01-26T02:51:41.890207Z",
     "iopub.status.busy": "2024-01-26T02:51:41.889405Z",
     "iopub.status.idle": "2024-01-26T02:51:41.894554Z",
     "shell.execute_reply": "2024-01-26T02:51:41.893698Z",
     "shell.execute_reply.started": "2024-01-26T02:28:55.213850Z"
    },
    "papermill": {
     "duration": 0.135802,
     "end_time": "2024-01-26T02:51:41.894699",
     "exception": false,
     "start_time": "2024-01-26T02:51:41.758897",
     "status": "completed"
    },
    "tags": []
   },
   "outputs": [
    {
     "name": "stdout",
     "output_type": "stream",
     "text": [
      "Shapiro-Wilk test statistic: 0.9643611311912537\n",
      "Shapiro-Wilk test p-value: 0.09656678885221481\n"
     ]
    }
   ],
   "source": [
    "statistic, pvalue = stats.shapiro(X_train_rfe)\n",
    "\n",
    "print(\"Shapiro-Wilk test statistic:\", statistic)\n",
    "print(\"Shapiro-Wilk test p-value:\", pvalue)"
   ]
  },
  {
   "cell_type": "markdown",
   "metadata": {
    "papermill": {
     "duration": 0.124911,
     "end_time": "2024-01-26T02:51:42.140366",
     "exception": false,
     "start_time": "2024-01-26T02:51:42.015455",
     "status": "completed"
    },
    "tags": []
   },
   "source": [
    "# Building Linear Model using 'STATS MODEL'"
   ]
  },
  {
   "cell_type": "markdown",
   "metadata": {
    "papermill": {
     "duration": 0.122638,
     "end_time": "2024-01-26T02:51:42.381702",
     "exception": false,
     "start_time": "2024-01-26T02:51:42.259064",
     "status": "completed"
    },
    "tags": []
   },
   "source": [
    "## Model 1"
   ]
  },
  {
   "cell_type": "markdown",
   "metadata": {
    "papermill": {
     "duration": 0.120926,
     "end_time": "2024-01-26T02:51:42.627662",
     "exception": false,
     "start_time": "2024-01-26T02:51:42.506736",
     "status": "completed"
    },
    "tags": []
   },
   "source": [
    "### VIF Check"
   ]
  },
  {
   "cell_type": "code",
   "execution_count": 55,
   "metadata": {
    "execution": {
     "iopub.execute_input": "2024-01-26T02:51:42.875843Z",
     "iopub.status.busy": "2024-01-26T02:51:42.874998Z",
     "iopub.status.idle": "2024-01-26T02:51:43.081815Z",
     "shell.execute_reply": "2024-01-26T02:51:43.081079Z",
     "shell.execute_reply.started": "2024-01-26T02:28:55.224804Z"
    },
    "papermill": {
     "duration": 0.333835,
     "end_time": "2024-01-26T02:51:43.081975",
     "exception": false,
     "start_time": "2024-01-26T02:51:42.748140",
     "status": "completed"
    },
    "tags": []
   },
   "outputs": [
    {
     "data": {
      "text/html": [
       "<div>\n",
       "<style scoped>\n",
       "    .dataframe tbody tr th:only-of-type {\n",
       "        vertical-align: middle;\n",
       "    }\n",
       "\n",
       "    .dataframe tbody tr th {\n",
       "        vertical-align: top;\n",
       "    }\n",
       "\n",
       "    .dataframe thead th {\n",
       "        text-align: right;\n",
       "    }\n",
       "</style>\n",
       "<table border=\"1\" class=\"dataframe\">\n",
       "  <thead>\n",
       "    <tr style=\"text-align: right;\">\n",
       "      <th></th>\n",
       "      <th>Features</th>\n",
       "      <th>VIF</th>\n",
       "    </tr>\n",
       "  </thead>\n",
       "  <tbody>\n",
       "    <tr>\n",
       "      <th>0</th>\n",
       "      <td>Kecepatan A</td>\n",
       "      <td>16.7</td>\n",
       "    </tr>\n",
       "    <tr>\n",
       "      <th>1</th>\n",
       "      <td>Mx Kec</td>\n",
       "      <td>16.7</td>\n",
       "    </tr>\n",
       "  </tbody>\n",
       "</table>\n",
       "</div>"
      ],
      "text/plain": [
       "      Features   VIF\n",
       "0  Kecepatan A  16.7\n",
       "1       Mx Kec  16.7"
      ]
     },
     "execution_count": 55,
     "metadata": {},
     "output_type": "execute_result"
    }
   ],
   "source": [
    "# Check for the VIF values of the feature variables. \n",
    "from statsmodels.stats.outliers_influence import variance_inflation_factor\n",
    "\n",
    "# Create a dataframe that will contain the names of all the feature variables and their respective VIFs\n",
    "vif = pd.DataFrame()\n",
    "vif['Features'] = X_train_rfe.columns\n",
    "vif['VIF'] = [variance_inflation_factor(X_train_rfe.values, i) for i in range(X_train_rfe.shape[1])]\n",
    "vif['VIF'] = round(vif['VIF'], 2)\n",
    "vif = vif.sort_values(by = \"VIF\", ascending = False)\n",
    "vif"
   ]
  },
  {
   "cell_type": "code",
   "execution_count": 56,
   "metadata": {
    "execution": {
     "iopub.execute_input": "2024-01-26T02:51:43.330675Z",
     "iopub.status.busy": "2024-01-26T02:51:43.329894Z",
     "iopub.status.idle": "2024-01-26T02:51:44.049495Z",
     "shell.execute_reply": "2024-01-26T02:51:44.048767Z",
     "shell.execute_reply.started": "2024-01-26T02:28:55.247744Z"
    },
    "papermill": {
     "duration": 0.844809,
     "end_time": "2024-01-26T02:51:44.049642",
     "exception": false,
     "start_time": "2024-01-26T02:51:43.204833",
     "status": "completed"
    },
    "tags": []
   },
   "outputs": [],
   "source": [
    "import statsmodels.api as sm\n",
    "\n",
    "# Add a constant\n",
    "X_train_lm1 = sm.add_constant(X_train_rfe)\n",
    "\n",
    "# Create a first fitted model\n",
    "lr1 = sm.OLS(y_train, X_train_lm1).fit()"
   ]
  },
  {
   "cell_type": "code",
   "execution_count": 57,
   "metadata": {
    "execution": {
     "iopub.execute_input": "2024-01-26T02:51:44.298530Z",
     "iopub.status.busy": "2024-01-26T02:51:44.297236Z",
     "iopub.status.idle": "2024-01-26T02:51:44.302101Z",
     "shell.execute_reply": "2024-01-26T02:51:44.301452Z",
     "shell.execute_reply.started": "2024-01-26T02:28:55.262294Z"
    },
    "papermill": {
     "duration": 0.130325,
     "end_time": "2024-01-26T02:51:44.302255",
     "exception": false,
     "start_time": "2024-01-26T02:51:44.171930",
     "status": "completed"
    },
    "tags": []
   },
   "outputs": [
    {
     "data": {
      "text/plain": [
       "const          0.391064\n",
       "Kecepatan A    0.313259\n",
       "Mx Kec        -0.000317\n",
       "dtype: float64"
      ]
     },
     "execution_count": 57,
     "metadata": {},
     "output_type": "execute_result"
    }
   ],
   "source": [
    "# Check the parameters obtained\n",
    "\n",
    "lr1.params"
   ]
  },
  {
   "cell_type": "code",
   "execution_count": 58,
   "metadata": {
    "execution": {
     "iopub.execute_input": "2024-01-26T02:51:44.560502Z",
     "iopub.status.busy": "2024-01-26T02:51:44.559376Z",
     "iopub.status.idle": "2024-01-26T02:51:44.563742Z",
     "shell.execute_reply": "2024-01-26T02:51:44.564375Z",
     "shell.execute_reply.started": "2024-01-26T02:28:55.276710Z"
    },
    "papermill": {
     "duration": 0.141588,
     "end_time": "2024-01-26T02:51:44.564547",
     "exception": false,
     "start_time": "2024-01-26T02:51:44.422959",
     "status": "completed"
    },
    "tags": []
   },
   "outputs": [
    {
     "name": "stdout",
     "output_type": "stream",
     "text": [
      "                             OLS Regression Results                             \n",
      "================================================================================\n",
      "Dep. Variable:     Produktivitas Mangga   R-squared:                       0.049\n",
      "Model:                              OLS   Adj. R-squared:                 -0.027\n",
      "Method:                   Least Squares   F-statistic:                    0.6498\n",
      "Date:                  Fri, 26 Jan 2024   Prob (F-statistic):              0.531\n",
      "Time:                          02:51:44   Log-Likelihood:                -11.162\n",
      "No. Observations:                    28   AIC:                             28.32\n",
      "Df Residuals:                        25   BIC:                             32.32\n",
      "Df Model:                             2                                         \n",
      "Covariance Type:              nonrobust                                         \n",
      "===============================================================================\n",
      "                  coef    std err          t      P>|t|      [0.025      0.975]\n",
      "-------------------------------------------------------------------------------\n",
      "const           0.3911      0.145      2.697      0.012       0.092       0.690\n",
      "Kecepatan A     0.3133      0.587      0.534      0.598      -0.895       1.521\n",
      "Mx Kec         -0.0003      0.520     -0.001      1.000      -1.072       1.071\n",
      "==============================================================================\n",
      "Omnibus:                        7.173   Durbin-Watson:                   2.306\n",
      "Prob(Omnibus):                  0.028   Jarque-Bera (JB):                2.539\n",
      "Skew:                          -0.373   Prob(JB):                        0.281\n",
      "Kurtosis:                       1.727   Cond. No.                         12.9\n",
      "==============================================================================\n",
      "\n",
      "Warnings:\n",
      "[1] Standard Errors assume that the covariance matrix of the errors is correctly specified.\n"
     ]
    }
   ],
   "source": [
    "# Print a summary of the linear regression model obtained\n",
    "print(lr1.summary())"
   ]
  },
  {
   "cell_type": "markdown",
   "metadata": {
    "papermill": {
     "duration": 0.117604,
     "end_time": "2024-01-26T02:51:44.801099",
     "exception": false,
     "start_time": "2024-01-26T02:51:44.683495",
     "status": "completed"
    },
    "tags": []
   },
   "source": [
    "# Final Model Interpretation"
   ]
  },
  {
   "cell_type": "markdown",
   "metadata": {
    "papermill": {
     "duration": 0.12299,
     "end_time": "2024-01-26T02:51:45.043566",
     "exception": false,
     "start_time": "2024-01-26T02:51:44.920576",
     "status": "completed"
    },
    "tags": []
   },
   "source": [
    "## Hypothesis Testing:"
   ]
  },
  {
   "cell_type": "markdown",
   "metadata": {
    "papermill": {
     "duration": 0.120135,
     "end_time": "2024-01-26T02:51:45.289087",
     "exception": false,
     "start_time": "2024-01-26T02:51:45.168952",
     "status": "completed"
    },
    "tags": []
   },
   "source": [
    "Hypothesis testing states that:\n",
    "- H0:B1=B2=...=Bn=0 \n",
    "- H1:  at least one  Bi!=0"
   ]
  },
  {
   "cell_type": "markdown",
   "metadata": {
    "papermill": {
     "duration": 0.117534,
     "end_time": "2024-01-26T02:51:45.529007",
     "exception": false,
     "start_time": "2024-01-26T02:51:45.411473",
     "status": "completed"
    },
    "tags": []
   },
   "source": [
    "### lr1 model coefficient values"
   ]
  },
  {
   "cell_type": "markdown",
   "metadata": {
    "papermill": {
     "duration": 0.116973,
     "end_time": "2024-01-26T02:51:45.764385",
     "exception": false,
     "start_time": "2024-01-26T02:51:45.647412",
     "status": "completed"
    },
    "tags": []
   },
   "source": [
    "- const 0.3911\n",
    "- Kecepatan Angin Rata2 0.3133\n",
    "- Mx Kecepatan -0.0003"
   ]
  },
  {
   "cell_type": "markdown",
   "metadata": {
    "papermill": {
     "duration": 0.119883,
     "end_time": "2024-01-26T02:51:46.003802",
     "exception": false,
     "start_time": "2024-01-26T02:51:45.883919",
     "status": "completed"
    },
    "tags": []
   },
   "source": [
    "### Insights\n",
    "- From the lr6 model summary, it is evident that all our coefficients are not equal to zerowhich means **We REJECT the NULL HYPOTHESIS**\n",
    "    "
   ]
  },
  {
   "cell_type": "markdown",
   "metadata": {
    "papermill": {
     "duration": 0.122234,
     "end_time": "2024-01-26T02:51:46.247779",
     "exception": false,
     "start_time": "2024-01-26T02:51:46.125545",
     "status": "completed"
    },
    "tags": []
   },
   "source": [
    "### F Statistics"
   ]
  },
  {
   "cell_type": "markdown",
   "metadata": {
    "papermill": {
     "duration": 0.119463,
     "end_time": "2024-01-26T02:51:46.485453",
     "exception": false,
     "start_time": "2024-01-26T02:51:46.365990",
     "status": "completed"
    },
    "tags": []
   },
   "source": [
    "F-Statistics is used for testing the overall significance of the Model: Higher the F-Statistics, more significant the Model is.\n",
    "\n",
    "- F-statistic: 0.6498\n",
    "- Prob (F-statistic): 0.531\n",
    "\n",
    "The F-Statistics value of 0.6498 not great than 1 and the p-value is not '~0.0000' states that the overall model is ***not significant***"
   ]
  },
  {
   "cell_type": "markdown",
   "metadata": {
    "papermill": {
     "duration": 0.119018,
     "end_time": "2024-01-26T02:51:46.724429",
     "exception": false,
     "start_time": "2024-01-26T02:51:46.605411",
     "status": "completed"
    },
    "tags": []
   },
   "source": [
    "## The equation of best fitted surface based on model lr6:"
   ]
  },
  {
   "cell_type": "markdown",
   "metadata": {
    "papermill": {
     "duration": 0.1188,
     "end_time": "2024-01-26T02:51:46.961418",
     "exception": false,
     "start_time": "2024-01-26T02:51:46.842618",
     "status": "completed"
    },
    "tags": []
   },
   "source": [
    "cnt = 0.3911 + (**Kecepatan A** × 0.3133) - (**Maximum Kecepatan** × -0.0003)"
   ]
  },
  {
   "cell_type": "markdown",
   "metadata": {
    "papermill": {
     "duration": 0.125683,
     "end_time": "2024-01-26T02:51:47.213747",
     "exception": false,
     "start_time": "2024-01-26T02:51:47.088064",
     "status": "completed"
    },
    "tags": []
   },
   "source": [
    "## Interpretation of Coefficients:\n",
    "**Kecepatan Angin:** A coefficient value of ‘0.3133’ menunjukkan bahwa setiap nilai variabel kecepatan Angin rata-rata yang bertambah maka akan memberikan pengaruh positive sebesar 30% kepada produktivitas mangga secara tidak langsung.\n",
    "\n",
    "**Maksimum Kecepatan:** A coefficient value of ‘-0.0003’ menunjukkan bahwa setiap nilai variable maksimum kecepatan angin yang bertambah maka akan memberikan dampak negative sebesar 0.003% terhadap produktivitas mangga secara langsung."
   ]
  },
  {
   "cell_type": "markdown",
   "metadata": {
    "papermill": {
     "duration": 0.120407,
     "end_time": "2024-01-26T02:51:47.451953",
     "exception": false,
     "start_time": "2024-01-26T02:51:47.331546",
     "status": "completed"
    },
    "tags": []
   },
   "source": [
    "# ASSUMPTIONS "
   ]
  },
  {
   "cell_type": "markdown",
   "metadata": {
    "papermill": {
     "duration": 0.118783,
     "end_time": "2024-01-26T02:51:47.691704",
     "exception": false,
     "start_time": "2024-01-26T02:51:47.572921",
     "status": "completed"
    },
    "tags": []
   },
   "source": [
    "## Error terms are normally distributed with mean zero (not X, Y)\n",
    "- Residual Analysis Of Training Data"
   ]
  },
  {
   "cell_type": "code",
   "execution_count": 59,
   "metadata": {
    "execution": {
     "iopub.execute_input": "2024-01-26T02:51:47.940057Z",
     "iopub.status.busy": "2024-01-26T02:51:47.938978Z",
     "iopub.status.idle": "2024-01-26T02:51:47.942201Z",
     "shell.execute_reply": "2024-01-26T02:51:47.941588Z",
     "shell.execute_reply.started": "2024-01-26T02:28:55.297377Z"
    },
    "papermill": {
     "duration": 0.127513,
     "end_time": "2024-01-26T02:51:47.942377",
     "exception": false,
     "start_time": "2024-01-26T02:51:47.814864",
     "status": "completed"
    },
    "tags": []
   },
   "outputs": [],
   "source": [
    "y_train_pred = lr1.predict(X_train_lm1)"
   ]
  },
  {
   "cell_type": "code",
   "execution_count": 60,
   "metadata": {
    "execution": {
     "iopub.execute_input": "2024-01-26T02:51:48.198091Z",
     "iopub.status.busy": "2024-01-26T02:51:48.196670Z",
     "iopub.status.idle": "2024-01-26T02:51:48.420120Z",
     "shell.execute_reply": "2024-01-26T02:51:48.419477Z",
     "shell.execute_reply.started": "2024-01-26T02:28:55.307328Z"
    },
    "papermill": {
     "duration": 0.356278,
     "end_time": "2024-01-26T02:51:48.420272",
     "exception": false,
     "start_time": "2024-01-26T02:51:48.063994",
     "status": "completed"
    },
    "tags": []
   },
   "outputs": [
    {
     "data": {
      "text/plain": [
       "Text(0.5, 0, 'Errors')"
      ]
     },
     "execution_count": 60,
     "metadata": {},
     "output_type": "execute_result"
    },
    {
     "data": {
      "image/png": "[encoded data removed]",
      "text/plain": [
       "<Figure size 432x288 with 1 Axes>"
      ]
     },
     "metadata": {
      "needs_background": "light"
     },
     "output_type": "display_data"
    }
   ],
   "source": [
    "res = y_train-y_train_pred\n",
    "# Plot the histogram of the error terms\n",
    "fig = plt.figure()\n",
    "sns.distplot((res), bins = 20)\n",
    "fig.suptitle('Error Terms', fontsize = 20)                  # Plot heading \n",
    "plt.xlabel('Errors', fontsize = 18)                         # X-label"
   ]
  },
  {
   "cell_type": "markdown",
   "metadata": {
    "papermill": {
     "duration": 0.123292,
     "end_time": "2024-01-26T02:51:48.662800",
     "exception": false,
     "start_time": "2024-01-26T02:51:48.539508",
     "status": "completed"
    },
    "tags": []
   },
   "source": [
    "### Insights\n",
    "- From the above histogram, we could see that the Residuals tidak terdistribusi dengan normal."
   ]
  },
  {
   "cell_type": "markdown",
   "metadata": {
    "papermill": {
     "duration": 0.12064,
     "end_time": "2024-01-26T02:51:48.906435",
     "exception": false,
     "start_time": "2024-01-26T02:51:48.785795",
     "status": "completed"
    },
    "tags": []
   },
   "source": [
    "## There is a linear relationship between X and Y"
   ]
  },
  {
   "cell_type": "code",
   "execution_count": 61,
   "metadata": {
    "execution": {
     "iopub.execute_input": "2024-01-26T02:51:49.161842Z",
     "iopub.status.busy": "2024-01-26T02:51:49.160557Z",
     "iopub.status.idle": "2024-01-26T02:51:51.923405Z",
     "shell.execute_reply": "2024-01-26T02:51:51.922668Z",
     "shell.execute_reply.started": "2024-01-26T02:28:55.534905Z"
    },
    "papermill": {
     "duration": 2.896432,
     "end_time": "2024-01-26T02:51:51.923550",
     "exception": false,
     "start_time": "2024-01-26T02:51:49.027118",
     "status": "completed"
    },
    "tags": []
   },
   "outputs": [
    {
     "data": {
      "image/png": "[encoded data removed]",
      "text/plain": [
       "<Figure size 540x540 with 12 Axes>"
      ]
     },
     "metadata": {
      "needs_background": "light"
     },
     "output_type": "display_data"
    }
   ],
   "source": [
    "bike_new=bike_new[['Produktivitas Mangga', 'Kecepatan A','Mx Kec']]\n",
    "\n",
    "sns.pairplot(bike_num, diag_kind='kde')\n",
    "plt.show()"
   ]
  },
  {
   "cell_type": "markdown",
   "metadata": {
    "papermill": {
     "duration": 0.1247,
     "end_time": "2024-01-26T02:51:52.171061",
     "exception": false,
     "start_time": "2024-01-26T02:51:52.046361",
     "status": "completed"
    },
    "tags": []
   },
   "source": [
    "## Insight\n",
    "- Using the pair plot, we could see there is a linear relation between temp and atemp variable with the predictor ‘cnt’."
   ]
  },
  {
   "cell_type": "markdown",
   "metadata": {
    "papermill": {
     "duration": 0.123955,
     "end_time": "2024-01-26T02:51:52.420337",
     "exception": false,
     "start_time": "2024-01-26T02:51:52.296382",
     "status": "completed"
    },
    "tags": []
   },
   "source": [
    "## There is No Multicollinearity between the predictor variables"
   ]
  },
  {
   "cell_type": "code",
   "execution_count": 62,
   "metadata": {
    "execution": {
     "iopub.execute_input": "2024-01-26T02:51:52.679015Z",
     "iopub.status.busy": "2024-01-26T02:51:52.678192Z",
     "iopub.status.idle": "2024-01-26T02:51:52.694974Z",
     "shell.execute_reply": "2024-01-26T02:51:52.694184Z",
     "shell.execute_reply.started": "2024-01-26T02:28:58.191812Z"
    },
    "papermill": {
     "duration": 0.148967,
     "end_time": "2024-01-26T02:51:52.695124",
     "exception": false,
     "start_time": "2024-01-26T02:51:52.546157",
     "status": "completed"
    },
    "tags": []
   },
   "outputs": [
    {
     "data": {
      "text/html": [
       "<div>\n",
       "<style scoped>\n",
       "    .dataframe tbody tr th:only-of-type {\n",
       "        vertical-align: middle;\n",
       "    }\n",
       "\n",
       "    .dataframe tbody tr th {\n",
       "        vertical-align: top;\n",
       "    }\n",
       "\n",
       "    .dataframe thead th {\n",
       "        text-align: right;\n",
       "    }\n",
       "</style>\n",
       "<table border=\"1\" class=\"dataframe\">\n",
       "  <thead>\n",
       "    <tr style=\"text-align: right;\">\n",
       "      <th></th>\n",
       "      <th>Features</th>\n",
       "      <th>VIF</th>\n",
       "    </tr>\n",
       "  </thead>\n",
       "  <tbody>\n",
       "    <tr>\n",
       "      <th>0</th>\n",
       "      <td>Kecepatan A</td>\n",
       "      <td>16.7</td>\n",
       "    </tr>\n",
       "    <tr>\n",
       "      <th>1</th>\n",
       "      <td>Mx Kec</td>\n",
       "      <td>16.7</td>\n",
       "    </tr>\n",
       "  </tbody>\n",
       "</table>\n",
       "</div>"
      ],
      "text/plain": [
       "      Features   VIF\n",
       "0  Kecepatan A  16.7\n",
       "1       Mx Kec  16.7"
      ]
     },
     "execution_count": 62,
     "metadata": {},
     "output_type": "execute_result"
    }
   ],
   "source": [
    "# Check for the VIF values of the feature variables. \n",
    "from statsmodels.stats.outliers_influence import variance_inflation_factor\n",
    "\n",
    "# Create a dataframe that will contain the names of all the feature variables and their respective VIFs\n",
    "vif = pd.DataFrame()\n",
    "vif['Features'] = X_train_rfe.columns\n",
    "vif['VIF'] = [variance_inflation_factor(X_train_rfe.values, i) for i in range(X_train_rfe.shape[1])]\n",
    "vif['VIF'] = round(vif['VIF'], 2)\n",
    "vif = vif.sort_values(by = \"VIF\", ascending = False)\n",
    "vif"
   ]
  },
  {
   "cell_type": "markdown",
   "metadata": {
    "papermill": {
     "duration": 0.125593,
     "end_time": "2024-01-26T02:51:52.944670",
     "exception": false,
     "start_time": "2024-01-26T02:51:52.819077",
     "status": "completed"
    },
    "tags": []
   },
   "source": [
    "## Insight\n",
    "\n",
    " - From the VIF calculation we could find that there is no multicollinearity existing between the predictor variables, as all the values are within permissible range of below 5"
   ]
  },
  {
   "cell_type": "markdown",
   "metadata": {
    "papermill": {
     "duration": 0.126802,
     "end_time": "2024-01-26T02:51:53.193664",
     "exception": false,
     "start_time": "2024-01-26T02:51:53.066862",
     "status": "completed"
    },
    "tags": []
   },
   "source": [
    "# MAKING PREDICTION USING FINAL MODEL\n",
    "\n",
    "Now that we have fitted the model and checked the assumptions, it's time to go ahead and make predictions using the final model (lr6)\n",
    "\n",
    "### Applying the scaling on the test sets"
   ]
  },
  {
   "cell_type": "code",
   "execution_count": 63,
   "metadata": {
    "execution": {
     "iopub.execute_input": "2024-01-26T02:51:53.451031Z",
     "iopub.status.busy": "2024-01-26T02:51:53.450195Z",
     "iopub.status.idle": "2024-01-26T02:51:53.452174Z",
     "shell.execute_reply": "2024-01-26T02:51:53.452838Z",
     "shell.execute_reply.started": "2024-01-26T02:28:58.215921Z"
    },
    "papermill": {
     "duration": 0.136329,
     "end_time": "2024-01-26T02:51:53.453003",
     "exception": false,
     "start_time": "2024-01-26T02:51:53.316674",
     "status": "completed"
    },
    "tags": []
   },
   "outputs": [],
   "source": [
    "# Apply scaler() to all numeric variables in test dataset. Note: we will only use scaler.transform, \n",
    "# as we want to use the metrics that the model learned from the training data to be applied on the test data. \n",
    "# In other words, we want to prevent the information leak from train to test dataset.\n",
    "\n",
    "num_vars = ['Produktivitas Mangga', 'Kecepatan A','Mx Kec']\n",
    "\n",
    "df_test[num_vars] = scaler.transform(df_test[num_vars])"
   ]
  },
  {
   "cell_type": "code",
   "execution_count": 64,
   "metadata": {
    "execution": {
     "iopub.execute_input": "2024-01-26T02:51:53.714530Z",
     "iopub.status.busy": "2024-01-26T02:51:53.713719Z",
     "iopub.status.idle": "2024-01-26T02:51:53.717897Z",
     "shell.execute_reply": "2024-01-26T02:51:53.718633Z",
     "shell.execute_reply.started": "2024-01-26T02:28:58.229338Z"
    },
    "papermill": {
     "duration": 0.141305,
     "end_time": "2024-01-26T02:51:53.718851",
     "exception": false,
     "start_time": "2024-01-26T02:51:53.577546",
     "status": "completed"
    },
    "tags": []
   },
   "outputs": [
    {
     "data": {
      "text/html": [
       "<div>\n",
       "<style scoped>\n",
       "    .dataframe tbody tr th:only-of-type {\n",
       "        vertical-align: middle;\n",
       "    }\n",
       "\n",
       "    .dataframe tbody tr th {\n",
       "        vertical-align: top;\n",
       "    }\n",
       "\n",
       "    .dataframe thead th {\n",
       "        text-align: right;\n",
       "    }\n",
       "</style>\n",
       "<table border=\"1\" class=\"dataframe\">\n",
       "  <thead>\n",
       "    <tr style=\"text-align: right;\">\n",
       "      <th></th>\n",
       "      <th>Produktivitas Mangga</th>\n",
       "      <th>Kecepatan A</th>\n",
       "      <th>Mx Kec</th>\n",
       "    </tr>\n",
       "  </thead>\n",
       "  <tbody>\n",
       "    <tr>\n",
       "      <th>31</th>\n",
       "      <td>0.867647</td>\n",
       "      <td>0.078261</td>\n",
       "      <td>0.164384</td>\n",
       "    </tr>\n",
       "    <tr>\n",
       "      <th>4</th>\n",
       "      <td>0.955882</td>\n",
       "      <td>0.469565</td>\n",
       "      <td>0.561644</td>\n",
       "    </tr>\n",
       "    <tr>\n",
       "      <th>6</th>\n",
       "      <td>0.544118</td>\n",
       "      <td>1.360870</td>\n",
       "      <td>1.178082</td>\n",
       "    </tr>\n",
       "    <tr>\n",
       "      <th>16</th>\n",
       "      <td>0.441176</td>\n",
       "      <td>0.108696</td>\n",
       "      <td>0.328767</td>\n",
       "    </tr>\n",
       "    <tr>\n",
       "      <th>30</th>\n",
       "      <td>1.029412</td>\n",
       "      <td>0.326087</td>\n",
       "      <td>0.342466</td>\n",
       "    </tr>\n",
       "  </tbody>\n",
       "</table>\n",
       "</div>"
      ],
      "text/plain": [
       "    Produktivitas Mangga  Kecepatan A    Mx Kec\n",
       "31              0.867647     0.078261  0.164384\n",
       "4               0.955882     0.469565  0.561644\n",
       "6               0.544118     1.360870  1.178082\n",
       "16              0.441176     0.108696  0.328767\n",
       "30              1.029412     0.326087  0.342466"
      ]
     },
     "execution_count": 64,
     "metadata": {},
     "output_type": "execute_result"
    }
   ],
   "source": [
    "df_test.head()"
   ]
  },
  {
   "cell_type": "code",
   "execution_count": 65,
   "metadata": {
    "execution": {
     "iopub.execute_input": "2024-01-26T02:51:53.977290Z",
     "iopub.status.busy": "2024-01-26T02:51:53.976402Z",
     "iopub.status.idle": "2024-01-26T02:51:53.996367Z",
     "shell.execute_reply": "2024-01-26T02:51:53.995472Z",
     "shell.execute_reply.started": "2024-01-26T02:28:58.248251Z"
    },
    "papermill": {
     "duration": 0.15275,
     "end_time": "2024-01-26T02:51:53.996531",
     "exception": false,
     "start_time": "2024-01-26T02:51:53.843781",
     "status": "completed"
    },
    "tags": []
   },
   "outputs": [
    {
     "data": {
      "text/html": [
       "<div>\n",
       "<style scoped>\n",
       "    .dataframe tbody tr th:only-of-type {\n",
       "        vertical-align: middle;\n",
       "    }\n",
       "\n",
       "    .dataframe tbody tr th {\n",
       "        vertical-align: top;\n",
       "    }\n",
       "\n",
       "    .dataframe thead th {\n",
       "        text-align: right;\n",
       "    }\n",
       "</style>\n",
       "<table border=\"1\" class=\"dataframe\">\n",
       "  <thead>\n",
       "    <tr style=\"text-align: right;\">\n",
       "      <th></th>\n",
       "      <th>Produktivitas Mangga</th>\n",
       "      <th>Kecepatan A</th>\n",
       "      <th>Mx Kec</th>\n",
       "    </tr>\n",
       "  </thead>\n",
       "  <tbody>\n",
       "    <tr>\n",
       "      <th>count</th>\n",
       "      <td>12.000000</td>\n",
       "      <td>12.000000</td>\n",
       "      <td>12.000000</td>\n",
       "    </tr>\n",
       "    <tr>\n",
       "      <th>mean</th>\n",
       "      <td>0.920343</td>\n",
       "      <td>0.627355</td>\n",
       "      <td>0.654110</td>\n",
       "    </tr>\n",
       "    <tr>\n",
       "      <th>std</th>\n",
       "      <td>0.462304</td>\n",
       "      <td>0.491536</td>\n",
       "      <td>0.365624</td>\n",
       "    </tr>\n",
       "    <tr>\n",
       "      <th>min</th>\n",
       "      <td>0.397059</td>\n",
       "      <td>0.078261</td>\n",
       "      <td>0.164384</td>\n",
       "    </tr>\n",
       "    <tr>\n",
       "      <th>25%</th>\n",
       "      <td>0.643382</td>\n",
       "      <td>0.275000</td>\n",
       "      <td>0.339041</td>\n",
       "    </tr>\n",
       "    <tr>\n",
       "      <th>50%</th>\n",
       "      <td>0.838235</td>\n",
       "      <td>0.495652</td>\n",
       "      <td>0.602740</td>\n",
       "    </tr>\n",
       "    <tr>\n",
       "      <th>75%</th>\n",
       "      <td>1.033088</td>\n",
       "      <td>0.856522</td>\n",
       "      <td>0.945205</td>\n",
       "    </tr>\n",
       "    <tr>\n",
       "      <th>max</th>\n",
       "      <td>2.014706</td>\n",
       "      <td>1.528261</td>\n",
       "      <td>1.273973</td>\n",
       "    </tr>\n",
       "  </tbody>\n",
       "</table>\n",
       "</div>"
      ],
      "text/plain": [
       "       Produktivitas Mangga  Kecepatan A     Mx Kec\n",
       "count             12.000000    12.000000  12.000000\n",
       "mean               0.920343     0.627355   0.654110\n",
       "std                0.462304     0.491536   0.365624\n",
       "min                0.397059     0.078261   0.164384\n",
       "25%                0.643382     0.275000   0.339041\n",
       "50%                0.838235     0.495652   0.602740\n",
       "75%                1.033088     0.856522   0.945205\n",
       "max                2.014706     1.528261   1.273973"
      ]
     },
     "execution_count": 65,
     "metadata": {},
     "output_type": "execute_result"
    }
   ],
   "source": [
    "df_test.describe()"
   ]
  },
  {
   "cell_type": "markdown",
   "metadata": {
    "papermill": {
     "duration": 0.123293,
     "end_time": "2024-01-26T02:51:54.247585",
     "exception": false,
     "start_time": "2024-01-26T02:51:54.124292",
     "status": "completed"
    },
    "tags": []
   },
   "source": [
    "### Dividing into X_test and y_test"
   ]
  },
  {
   "cell_type": "code",
   "execution_count": 66,
   "metadata": {
    "execution": {
     "iopub.execute_input": "2024-01-26T02:51:54.510825Z",
     "iopub.status.busy": "2024-01-26T02:51:54.510000Z",
     "iopub.status.idle": "2024-01-26T02:51:54.515052Z",
     "shell.execute_reply": "2024-01-26T02:51:54.514446Z",
     "shell.execute_reply.started": "2024-01-26T02:28:58.276647Z"
    },
    "papermill": {
     "duration": 0.140018,
     "end_time": "2024-01-26T02:51:54.515206",
     "exception": false,
     "start_time": "2024-01-26T02:51:54.375188",
     "status": "completed"
    },
    "tags": []
   },
   "outputs": [
    {
     "name": "stdout",
     "output_type": "stream",
     "text": [
      "<class 'pandas.core.frame.DataFrame'>\n",
      "Int64Index: 12 entries, 31 to 0\n",
      "Data columns (total 2 columns):\n",
      " #   Column       Non-Null Count  Dtype  \n",
      "---  ------       --------------  -----  \n",
      " 0   Kecepatan A  12 non-null     float64\n",
      " 1   Mx Kec       12 non-null     float64\n",
      "dtypes: float64(2)\n",
      "memory usage: 288.0 bytes\n"
     ]
    }
   ],
   "source": [
    "y_test = df_test.pop('Produktivitas Mangga')\n",
    "X_test = df_test\n",
    "X_test.info()"
   ]
  },
  {
   "cell_type": "code",
   "execution_count": 67,
   "metadata": {
    "execution": {
     "iopub.execute_input": "2024-01-26T02:51:54.788933Z",
     "iopub.status.busy": "2024-01-26T02:51:54.788105Z",
     "iopub.status.idle": "2024-01-26T02:51:54.792768Z",
     "shell.execute_reply": "2024-01-26T02:51:54.791886Z",
     "shell.execute_reply.started": "2024-01-26T02:28:58.286656Z"
    },
    "papermill": {
     "duration": 0.148979,
     "end_time": "2024-01-26T02:51:54.792918",
     "exception": false,
     "start_time": "2024-01-26T02:51:54.643939",
     "status": "completed"
    },
    "tags": []
   },
   "outputs": [
    {
     "name": "stdout",
     "output_type": "stream",
     "text": [
      "<class 'pandas.core.frame.DataFrame'>\n",
      "Int64Index: 12 entries, 31 to 0\n",
      "Data columns (total 3 columns):\n",
      " #   Column       Non-Null Count  Dtype  \n",
      "---  ------       --------------  -----  \n",
      " 0   const        12 non-null     float64\n",
      " 1   Kecepatan A  12 non-null     float64\n",
      " 2   Mx Kec       12 non-null     float64\n",
      "dtypes: float64(3)\n",
      "memory usage: 384.0 bytes\n"
     ]
    }
   ],
   "source": [
    "#Selecting the variables that were part of final model.\n",
    "col1=X_train_rfe.columns\n",
    "X_test=X_test[col1]\n",
    "# Adding constant variable to test dataframe\n",
    "X_test_lm1 = sm.add_constant(X_test)\n",
    "X_test_lm1.info()"
   ]
  },
  {
   "cell_type": "code",
   "execution_count": 68,
   "metadata": {
    "execution": {
     "iopub.execute_input": "2024-01-26T02:51:55.064973Z",
     "iopub.status.busy": "2024-01-26T02:51:55.064183Z",
     "iopub.status.idle": "2024-01-26T02:51:55.068526Z",
     "shell.execute_reply": "2024-01-26T02:51:55.067641Z",
     "shell.execute_reply.started": "2024-01-26T02:28:58.307536Z"
    },
    "papermill": {
     "duration": 0.141124,
     "end_time": "2024-01-26T02:51:55.068675",
     "exception": false,
     "start_time": "2024-01-26T02:51:54.927551",
     "status": "completed"
    },
    "tags": []
   },
   "outputs": [],
   "source": [
    "# Making predictions using the final model (lr6)\n",
    "\n",
    "y_pred = lr1.predict(X_test_lm1)"
   ]
  },
  {
   "cell_type": "markdown",
   "metadata": {
    "papermill": {
     "duration": 0.125284,
     "end_time": "2024-01-26T02:51:55.323021",
     "exception": false,
     "start_time": "2024-01-26T02:51:55.197737",
     "status": "completed"
    },
    "tags": []
   },
   "source": [
    "# MODEL EVALUATION"
   ]
  },
  {
   "cell_type": "code",
   "execution_count": 69,
   "metadata": {
    "execution": {
     "iopub.execute_input": "2024-01-26T02:51:55.597948Z",
     "iopub.status.busy": "2024-01-26T02:51:55.594766Z",
     "iopub.status.idle": "2024-01-26T02:51:55.774911Z",
     "shell.execute_reply": "2024-01-26T02:51:55.774123Z",
     "shell.execute_reply.started": "2024-01-26T02:28:58.318391Z"
    },
    "papermill": {
     "duration": 0.324037,
     "end_time": "2024-01-26T02:51:55.775046",
     "exception": false,
     "start_time": "2024-01-26T02:51:55.451009",
     "status": "completed"
    },
    "tags": []
   },
   "outputs": [
    {
     "data": {
      "image/png": "[encoded data removed]",
      "text/plain": [
       "<Figure size 432x288 with 1 Axes>"
      ]
     },
     "metadata": {
      "needs_background": "light"
     },
     "output_type": "display_data"
    }
   ],
   "source": [
    "# Plotting y_test and y_pred to understand the spread\n",
    "\n",
    "fig = plt.figure()\n",
    "plt.scatter(y_test, y_pred, alpha=.5)\n",
    "fig.suptitle('y_test vs y_pred', fontsize = 20)              # Plot heading \n",
    "plt.xlabel('y_test', fontsize = 18)                          # X-label\n",
    "plt.ylabel('y_pred', fontsize = 16) \n",
    "plt.show()"
   ]
  },
  {
   "cell_type": "markdown",
   "metadata": {
    "papermill": {
     "duration": 0.128084,
     "end_time": "2024-01-26T02:51:56.030396",
     "exception": false,
     "start_time": "2024-01-26T02:51:55.902312",
     "status": "completed"
    },
    "tags": []
   },
   "source": [
    " # R^2 Value for TEST"
   ]
  },
  {
   "cell_type": "code",
   "execution_count": 70,
   "metadata": {
    "execution": {
     "iopub.execute_input": "2024-01-26T02:51:56.298181Z",
     "iopub.status.busy": "2024-01-26T02:51:56.297106Z",
     "iopub.status.idle": "2024-01-26T02:51:56.303024Z",
     "shell.execute_reply": "2024-01-26T02:51:56.302205Z",
     "shell.execute_reply.started": "2024-01-26T02:28:58.498201Z"
    },
    "papermill": {
     "duration": 0.141987,
     "end_time": "2024-01-26T02:51:56.303165",
     "exception": false,
     "start_time": "2024-01-26T02:51:56.161178",
     "status": "completed"
    },
    "tags": []
   },
   "outputs": [
    {
     "data": {
      "text/plain": [
       "-1.010385274168939"
      ]
     },
     "execution_count": 70,
     "metadata": {},
     "output_type": "execute_result"
    }
   ],
   "source": [
    "from sklearn.metrics import r2_score\n",
    "r2_score(y_test, y_pred)"
   ]
  },
  {
   "cell_type": "markdown",
   "metadata": {
    "papermill": {
     "duration": 0.138111,
     "end_time": "2024-01-26T02:51:56.567400",
     "exception": false,
     "start_time": "2024-01-26T02:51:56.429289",
     "status": "completed"
    },
    "tags": []
   },
   "source": [
    "## Adjusted R^2 Value for TEST"
   ]
  },
  {
   "cell_type": "code",
   "execution_count": 71,
   "metadata": {
    "execution": {
     "iopub.execute_input": "2024-01-26T02:51:56.859464Z",
     "iopub.status.busy": "2024-01-26T02:51:56.858324Z",
     "iopub.status.idle": "2024-01-26T02:51:56.862193Z",
     "shell.execute_reply": "2024-01-26T02:51:56.861506Z",
     "shell.execute_reply.started": "2024-01-26T02:28:58.507622Z"
    },
    "papermill": {
     "duration": 0.148287,
     "end_time": "2024-01-26T02:51:56.862378",
     "exception": false,
     "start_time": "2024-01-26T02:51:56.714091",
     "status": "completed"
    },
    "tags": []
   },
   "outputs": [],
   "source": [
    "# We already have the value of R^2 (calculated in above step)\n",
    "\n",
    "r2=-1.010385274168938"
   ]
  },
  {
   "cell_type": "code",
   "execution_count": 72,
   "metadata": {
    "execution": {
     "iopub.execute_input": "2024-01-26T02:51:57.144395Z",
     "iopub.status.busy": "2024-01-26T02:51:57.143353Z",
     "iopub.status.idle": "2024-01-26T02:51:57.147603Z",
     "shell.execute_reply": "2024-01-26T02:51:57.148411Z",
     "shell.execute_reply.started": "2024-01-26T02:28:58.516944Z"
    },
    "papermill": {
     "duration": 0.146141,
     "end_time": "2024-01-26T02:51:57.148736",
     "exception": false,
     "start_time": "2024-01-26T02:51:57.002595",
     "status": "completed"
    },
    "tags": []
   },
   "outputs": [
    {
     "data": {
      "text/plain": [
       "(12, 2)"
      ]
     },
     "execution_count": 72,
     "metadata": {},
     "output_type": "execute_result"
    }
   ],
   "source": [
    "# Get the shape of X_test\n",
    "X_test.shape\n"
   ]
  },
  {
   "cell_type": "code",
   "execution_count": 73,
   "metadata": {
    "execution": {
     "iopub.execute_input": "2024-01-26T02:51:57.461479Z",
     "iopub.status.busy": "2024-01-26T02:51:57.460689Z",
     "iopub.status.idle": "2024-01-26T02:51:57.471646Z",
     "shell.execute_reply": "2024-01-26T02:51:57.472262Z",
     "shell.execute_reply.started": "2024-01-26T02:28:58.529691Z"
    },
    "papermill": {
     "duration": 0.147284,
     "end_time": "2024-01-26T02:51:57.472462",
     "exception": false,
     "start_time": "2024-01-26T02:51:57.325178",
     "status": "completed"
    },
    "tags": []
   },
   "outputs": [
    {
     "data": {
      "text/plain": [
       "-1.457137557317591"
      ]
     },
     "execution_count": 73,
     "metadata": {},
     "output_type": "execute_result"
    }
   ],
   "source": [
    "# n is number of rows in X\n",
    "\n",
    "n = X_test.shape[0]\n",
    "\n",
    "\n",
    "# Number of features (predictors, p) is the shape along axis 1\n",
    "p = X_test.shape[1]\n",
    "\n",
    "# We find the Adjusted R-squared using the formula\n",
    "\n",
    "adjusted_r2 = 1-(1-r2)*(n-1)/(n-p-1)\n",
    "adjusted_r2"
   ]
  },
  {
   "cell_type": "markdown",
   "metadata": {
    "papermill": {
     "duration": 0.132806,
     "end_time": "2024-01-26T02:51:57.737138",
     "exception": false,
     "start_time": "2024-01-26T02:51:57.604332",
     "status": "completed"
    },
    "tags": []
   },
   "source": [
    "# Final Result Comparison"
   ]
  },
  {
   "cell_type": "markdown",
   "metadata": {
    "papermill": {
     "duration": 0.127815,
     "end_time": "2024-01-26T02:51:57.996365",
     "exception": false,
     "start_time": "2024-01-26T02:51:57.868550",
     "status": "completed"
    },
    "tags": []
   },
   "source": [
    "- Train R^2 :0.049\n",
    "- Train Adjusted R^2 :-0.027 \n",
    "- Test R^2 :-1.010385274168938\n",
    "- Test Adjusted R^2 :-1.457137557317591 \n",
    "- Model ini belum bisa dikatakan cocok dengan data yang ada. Data yang sedikit juga mempengaruhi hasil dari nilai yang didapat diatas."
   ]
  }
 ],
 "metadata": {
  "kaggle": {
   "accelerator": "none",
   "dataSources": [
    {
     "datasetId": 789011,
     "sourceId": 1355226,
     "sourceType": "datasetVersion"
    },
    {
     "datasetId": 4246041,
     "sourceId": 7327627,
     "sourceType": "datasetVersion"
    }
   ],
   "dockerImageVersionId": 29981,
   "isGpuEnabled": false,
   "isInternetEnabled": true,
   "language": "python",
   "sourceType": "notebook"
  },
  "kernelspec": {
   "display_name": "Python 3",
   "language": "python",
   "name": "python3"
  },
  "language_info": {
   "codemirror_mode": {
    "name": "ipython",
    "version": 3
   },
   "file_extension": ".py",
   "mimetype": "text/x-python",
   "name": "python",
   "nbconvert_exporter": "python",
   "pygments_lexer": "ipython3",
   "version": "3.7.6"
  },
  "papermill": {
   "duration": 46.329976,
   "end_time": "2024-01-26T02:51:59.135503",
   "environment_variables": {},
   "exception": null,
   "input_path": "__notebook__.ipynb",
   "output_path": "__notebook__.ipynb",
   "parameters": {},
   "start_time": "2024-01-26T02:51:12.805527",
   "version": "2.1.0"
  }
 },
 "nbformat": 4,
 "nbformat_minor": 4
}
