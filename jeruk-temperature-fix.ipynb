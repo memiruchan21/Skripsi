{
 "cells": [
  {
   "cell_type": "markdown",
   "metadata": {
    "papermill": {
     "duration": 0.0861,
     "end_time": "2024-01-25T11:57:20.060170",
     "exception": false,
     "start_time": "2024-01-25T11:57:19.974070",
     "status": "completed"
    },
    "tags": []
   },
   "source": [
    "##  Reading and Understanding the Data\n"
   ]
  },
  {
   "cell_type": "code",
   "execution_count": 1,
   "metadata": {
    "execution": {
     "iopub.execute_input": "2024-01-25T11:57:20.234969Z",
     "iopub.status.busy": "2024-01-25T11:57:20.234034Z",
     "iopub.status.idle": "2024-01-25T11:57:20.237080Z",
     "shell.execute_reply": "2024-01-25T11:57:20.236418Z",
     "shell.execute_reply.started": "2024-01-25T10:50:15.740961Z"
    },
    "papermill": {
     "duration": 0.092638,
     "end_time": "2024-01-25T11:57:20.237186",
     "exception": false,
     "start_time": "2024-01-25T11:57:20.144548",
     "status": "completed"
    },
    "tags": []
   },
   "outputs": [],
   "source": [
    "# Supress Warnings\n",
    "\n",
    "import warnings\n",
    "warnings.filterwarnings('ignore')"
   ]
  },
  {
   "cell_type": "code",
   "execution_count": 2,
   "metadata": {
    "execution": {
     "iopub.execute_input": "2024-01-25T11:57:20.415580Z",
     "iopub.status.busy": "2024-01-25T11:57:20.414808Z",
     "iopub.status.idle": "2024-01-25T11:57:21.156553Z",
     "shell.execute_reply": "2024-01-25T11:57:21.155852Z",
     "shell.execute_reply.started": "2024-01-25T10:50:15.755236Z"
    },
    "papermill": {
     "duration": 0.832535,
     "end_time": "2024-01-25T11:57:21.156665",
     "exception": false,
     "start_time": "2024-01-25T11:57:20.324130",
     "status": "completed"
    },
    "tags": []
   },
   "outputs": [],
   "source": [
    "import numpy as np\n",
    "import pandas as pd\n",
    "import matplotlib.pyplot as plt\n",
    "import seaborn as sns\n",
    "%matplotlib inline"
   ]
  },
  {
   "cell_type": "code",
   "execution_count": 3,
   "metadata": {
    "execution": {
     "iopub.execute_input": "2024-01-25T11:57:21.348758Z",
     "iopub.status.busy": "2024-01-25T11:57:21.347733Z",
     "iopub.status.idle": "2024-01-25T11:57:21.363812Z",
     "shell.execute_reply": "2024-01-25T11:57:21.362960Z",
     "shell.execute_reply.started": "2024-01-25T10:50:15.793697Z"
    },
    "papermill": {
     "duration": 0.121934,
     "end_time": "2024-01-25T11:57:21.363962",
     "exception": false,
     "start_time": "2024-01-25T11:57:21.242028",
     "status": "completed"
    },
    "tags": []
   },
   "outputs": [
    {
     "name": "stdout",
     "output_type": "stream",
     "text": [
      "/kaggle/input/bismillahskripsi/Buleleng-Climate - Full (1).csv\n",
      "/kaggle/input/bike-sharing/day.csv\n"
     ]
    }
   ],
   "source": [
    "import os\n",
    "for dirname, _, filenames in os.walk('/kaggle/input'):\n",
    "    for filename in filenames:\n",
    "        print(os.path.join(dirname, filename))"
   ]
  },
  {
   "cell_type": "code",
   "execution_count": 4,
   "metadata": {
    "execution": {
     "iopub.execute_input": "2024-01-25T11:57:21.559768Z",
     "iopub.status.busy": "2024-01-25T11:57:21.559094Z",
     "iopub.status.idle": "2024-01-25T11:57:21.571127Z",
     "shell.execute_reply": "2024-01-25T11:57:21.570450Z",
     "shell.execute_reply.started": "2024-01-25T10:50:15.810758Z"
    },
    "papermill": {
     "duration": 0.111782,
     "end_time": "2024-01-25T11:57:21.571235",
     "exception": false,
     "start_time": "2024-01-25T11:57:21.459453",
     "status": "completed"
    },
    "tags": []
   },
   "outputs": [],
   "source": [
    "bike = pd.read_csv(\"/kaggle/input/bismillahskripsi/Buleleng-Climate - Full (1).csv\")"
   ]
  },
  {
   "cell_type": "code",
   "execution_count": 5,
   "metadata": {
    "execution": {
     "iopub.execute_input": "2024-01-25T11:57:21.766918Z",
     "iopub.status.busy": "2024-01-25T11:57:21.766155Z",
     "iopub.status.idle": "2024-01-25T11:57:21.779565Z",
     "shell.execute_reply": "2024-01-25T11:57:21.778918Z",
     "shell.execute_reply.started": "2024-01-25T10:50:15.839454Z"
    },
    "papermill": {
     "duration": 0.118703,
     "end_time": "2024-01-25T11:57:21.779683",
     "exception": false,
     "start_time": "2024-01-25T11:57:21.660980",
     "status": "completed"
    },
    "tags": []
   },
   "outputs": [
    {
     "data": {
      "text/html": [
       "<div>\n",
       "<style scoped>\n",
       "    .dataframe tbody tr th:only-of-type {\n",
       "        vertical-align: middle;\n",
       "    }\n",
       "\n",
       "    .dataframe tbody tr th {\n",
       "        vertical-align: top;\n",
       "    }\n",
       "\n",
       "    .dataframe thead th {\n",
       "        text-align: right;\n",
       "    }\n",
       "</style>\n",
       "<table border=\"1\" class=\"dataframe\">\n",
       "  <thead>\n",
       "    <tr style=\"text-align: right;\">\n",
       "      <th></th>\n",
       "      <th>Year</th>\n",
       "      <th>Periode</th>\n",
       "      <th>Produktivitas Mangga</th>\n",
       "      <th>Produktivitas Jeruk</th>\n",
       "      <th>Max</th>\n",
       "      <th>Min</th>\n",
       "      <th>Tavg</th>\n",
       "      <th>Sun Hour</th>\n",
       "      <th>Sun Day</th>\n",
       "      <th>Curah Hujan</th>\n",
       "      <th>Hari Hujan</th>\n",
       "      <th>Kecepatan A</th>\n",
       "      <th>Mx Kec</th>\n",
       "    </tr>\n",
       "  </thead>\n",
       "  <tbody>\n",
       "    <tr>\n",
       "      <th>0</th>\n",
       "      <td>2012</td>\n",
       "      <td>Triwulan I</td>\n",
       "      <td>0.46</td>\n",
       "      <td>0.17</td>\n",
       "      <td>28.0</td>\n",
       "      <td>25.0</td>\n",
       "      <td>26.00</td>\n",
       "      <td>78.7</td>\n",
       "      <td>8</td>\n",
       "      <td>501</td>\n",
       "      <td>83</td>\n",
       "      <td>8.17</td>\n",
       "      <td>13.4</td>\n",
       "    </tr>\n",
       "    <tr>\n",
       "      <th>1</th>\n",
       "      <td>2012</td>\n",
       "      <td>Triwulan II</td>\n",
       "      <td>0.00</td>\n",
       "      <td>0.10</td>\n",
       "      <td>28.0</td>\n",
       "      <td>24.0</td>\n",
       "      <td>26.00</td>\n",
       "      <td>237.7</td>\n",
       "      <td>49</td>\n",
       "      <td>164</td>\n",
       "      <td>42</td>\n",
       "      <td>8.93</td>\n",
       "      <td>14.0</td>\n",
       "    </tr>\n",
       "    <tr>\n",
       "      <th>2</th>\n",
       "      <td>2012</td>\n",
       "      <td>Triwulan III</td>\n",
       "      <td>0.27</td>\n",
       "      <td>0.20</td>\n",
       "      <td>28.0</td>\n",
       "      <td>22.0</td>\n",
       "      <td>24.33</td>\n",
       "      <td>336.3</td>\n",
       "      <td>88</td>\n",
       "      <td>10</td>\n",
       "      <td>4</td>\n",
       "      <td>12.20</td>\n",
       "      <td>17.2</td>\n",
       "    </tr>\n",
       "    <tr>\n",
       "      <th>3</th>\n",
       "      <td>2012</td>\n",
       "      <td>Triwulan IV</td>\n",
       "      <td>0.46</td>\n",
       "      <td>0.11</td>\n",
       "      <td>29.0</td>\n",
       "      <td>25.0</td>\n",
       "      <td>27.00</td>\n",
       "      <td>176.0</td>\n",
       "      <td>24</td>\n",
       "      <td>375</td>\n",
       "      <td>68</td>\n",
       "      <td>7.93</td>\n",
       "      <td>13.6</td>\n",
       "    </tr>\n",
       "    <tr>\n",
       "      <th>4</th>\n",
       "      <td>2013</td>\n",
       "      <td>Triwulan I</td>\n",
       "      <td>0.65</td>\n",
       "      <td>0.16</td>\n",
       "      <td>28.0</td>\n",
       "      <td>25.0</td>\n",
       "      <td>27.00</td>\n",
       "      <td>140.7</td>\n",
       "      <td>20</td>\n",
       "      <td>338</td>\n",
       "      <td>70</td>\n",
       "      <td>7.33</td>\n",
       "      <td>12.0</td>\n",
       "    </tr>\n",
       "  </tbody>\n",
       "</table>\n",
       "</div>"
      ],
      "text/plain": [
       "   Year       Periode  Produktivitas Mangga  Produktivitas Jeruk   Max   Min  \\\n",
       "0  2012    Triwulan I                  0.46                 0.17  28.0  25.0   \n",
       "1  2012   Triwulan II                  0.00                 0.10  28.0  24.0   \n",
       "2  2012  Triwulan III                  0.27                 0.20  28.0  22.0   \n",
       "3  2012   Triwulan IV                  0.46                 0.11  29.0  25.0   \n",
       "4  2013    Triwulan I                  0.65                 0.16  28.0  25.0   \n",
       "\n",
       "    Tavg  Sun Hour  Sun Day  Curah Hujan  Hari Hujan  Kecepatan A  Mx Kec  \n",
       "0  26.00      78.7        8          501          83         8.17    13.4  \n",
       "1  26.00     237.7       49          164          42         8.93    14.0  \n",
       "2  24.33     336.3       88           10           4        12.20    17.2  \n",
       "3  27.00     176.0       24          375          68         7.93    13.6  \n",
       "4  27.00     140.7       20          338          70         7.33    12.0  "
      ]
     },
     "execution_count": 5,
     "metadata": {},
     "output_type": "execute_result"
    }
   ],
   "source": [
    "# Check the head of the dataset\n",
    "bike.head()"
   ]
  },
  {
   "cell_type": "code",
   "execution_count": 6,
   "metadata": {
    "execution": {
     "iopub.execute_input": "2024-01-25T11:57:21.970991Z",
     "iopub.status.busy": "2024-01-25T11:57:21.970264Z",
     "iopub.status.idle": "2024-01-25T11:57:21.973268Z",
     "shell.execute_reply": "2024-01-25T11:57:21.973801Z",
     "shell.execute_reply.started": "2024-01-25T10:50:15.858218Z"
    },
    "papermill": {
     "duration": 0.102704,
     "end_time": "2024-01-25T11:57:21.973932",
     "exception": false,
     "start_time": "2024-01-25T11:57:21.871228",
     "status": "completed"
    },
    "tags": []
   },
   "outputs": [
    {
     "name": "stdout",
     "output_type": "stream",
     "text": [
      "<class 'pandas.core.frame.DataFrame'>\n",
      "RangeIndex: 40 entries, 0 to 39\n",
      "Data columns (total 13 columns):\n",
      " #   Column                Non-Null Count  Dtype  \n",
      "---  ------                --------------  -----  \n",
      " 0   Year                  40 non-null     int64  \n",
      " 1   Periode               40 non-null     object \n",
      " 2   Produktivitas Mangga  40 non-null     float64\n",
      " 3   Produktivitas Jeruk   40 non-null     float64\n",
      " 4   Max                   40 non-null     float64\n",
      " 5   Min                   40 non-null     float64\n",
      " 6   Tavg                  40 non-null     float64\n",
      " 7   Sun Hour              40 non-null     float64\n",
      " 8   Sun Day               40 non-null     int64  \n",
      " 9   Curah Hujan           40 non-null     int64  \n",
      " 10  Hari Hujan            40 non-null     int64  \n",
      " 11  Kecepatan A           40 non-null     float64\n",
      " 12  Mx Kec                40 non-null     float64\n",
      "dtypes: float64(8), int64(4), object(1)\n",
      "memory usage: 4.2+ KB\n"
     ]
    }
   ],
   "source": [
    "# Check the descriptive information\n",
    "bike.info()"
   ]
  },
  {
   "cell_type": "code",
   "execution_count": 7,
   "metadata": {
    "execution": {
     "iopub.execute_input": "2024-01-25T11:57:22.160845Z",
     "iopub.status.busy": "2024-01-25T11:57:22.159917Z",
     "iopub.status.idle": "2024-01-25T11:57:22.203295Z",
     "shell.execute_reply": "2024-01-25T11:57:22.202700Z",
     "shell.execute_reply.started": "2024-01-25T10:50:15.873001Z"
    },
    "papermill": {
     "duration": 0.14324,
     "end_time": "2024-01-25T11:57:22.203392",
     "exception": false,
     "start_time": "2024-01-25T11:57:22.060152",
     "status": "completed"
    },
    "tags": []
   },
   "outputs": [
    {
     "data": {
      "text/html": [
       "<div>\n",
       "<style scoped>\n",
       "    .dataframe tbody tr th:only-of-type {\n",
       "        vertical-align: middle;\n",
       "    }\n",
       "\n",
       "    .dataframe tbody tr th {\n",
       "        vertical-align: top;\n",
       "    }\n",
       "\n",
       "    .dataframe thead th {\n",
       "        text-align: right;\n",
       "    }\n",
       "</style>\n",
       "<table border=\"1\" class=\"dataframe\">\n",
       "  <thead>\n",
       "    <tr style=\"text-align: right;\">\n",
       "      <th></th>\n",
       "      <th>Year</th>\n",
       "      <th>Produktivitas Mangga</th>\n",
       "      <th>Produktivitas Jeruk</th>\n",
       "      <th>Max</th>\n",
       "      <th>Min</th>\n",
       "      <th>Tavg</th>\n",
       "      <th>Sun Hour</th>\n",
       "      <th>Sun Day</th>\n",
       "      <th>Curah Hujan</th>\n",
       "      <th>Hari Hujan</th>\n",
       "      <th>Kecepatan A</th>\n",
       "      <th>Mx Kec</th>\n",
       "    </tr>\n",
       "  </thead>\n",
       "  <tbody>\n",
       "    <tr>\n",
       "      <th>count</th>\n",
       "      <td>40.000000</td>\n",
       "      <td>40.0000</td>\n",
       "      <td>40.000000</td>\n",
       "      <td>40.000000</td>\n",
       "      <td>40.000000</td>\n",
       "      <td>40.000000</td>\n",
       "      <td>40.000000</td>\n",
       "      <td>40.00000</td>\n",
       "      <td>40.000000</td>\n",
       "      <td>40.000000</td>\n",
       "      <td>40.000000</td>\n",
       "      <td>40.00000</td>\n",
       "    </tr>\n",
       "    <tr>\n",
       "      <th>mean</th>\n",
       "      <td>2016.500000</td>\n",
       "      <td>0.4385</td>\n",
       "      <td>0.188500</td>\n",
       "      <td>29.175000</td>\n",
       "      <td>24.700000</td>\n",
       "      <td>26.683500</td>\n",
       "      <td>191.615000</td>\n",
       "      <td>40.05000</td>\n",
       "      <td>296.975000</td>\n",
       "      <td>63.725000</td>\n",
       "      <td>7.432500</td>\n",
       "      <td>11.94000</td>\n",
       "    </tr>\n",
       "    <tr>\n",
       "      <th>std</th>\n",
       "      <td>2.908872</td>\n",
       "      <td>0.2978</td>\n",
       "      <td>0.174922</td>\n",
       "      <td>0.930605</td>\n",
       "      <td>0.992278</td>\n",
       "      <td>1.010064</td>\n",
       "      <td>78.482399</td>\n",
       "      <td>25.66645</td>\n",
       "      <td>345.464421</td>\n",
       "      <td>67.614665</td>\n",
       "      <td>1.631161</td>\n",
       "      <td>2.36706</td>\n",
       "    </tr>\n",
       "    <tr>\n",
       "      <th>min</th>\n",
       "      <td>2012.000000</td>\n",
       "      <td>0.0000</td>\n",
       "      <td>0.000000</td>\n",
       "      <td>28.000000</td>\n",
       "      <td>22.000000</td>\n",
       "      <td>24.330000</td>\n",
       "      <td>30.000000</td>\n",
       "      <td>6.00000</td>\n",
       "      <td>4.000000</td>\n",
       "      <td>4.000000</td>\n",
       "      <td>5.170000</td>\n",
       "      <td>7.90000</td>\n",
       "    </tr>\n",
       "    <tr>\n",
       "      <th>25%</th>\n",
       "      <td>2014.000000</td>\n",
       "      <td>0.2550</td>\n",
       "      <td>0.100000</td>\n",
       "      <td>28.000000</td>\n",
       "      <td>24.000000</td>\n",
       "      <td>26.000000</td>\n",
       "      <td>137.025000</td>\n",
       "      <td>20.00000</td>\n",
       "      <td>93.750000</td>\n",
       "      <td>30.250000</td>\n",
       "      <td>6.322500</td>\n",
       "      <td>10.27500</td>\n",
       "    </tr>\n",
       "    <tr>\n",
       "      <th>50%</th>\n",
       "      <td>2016.500000</td>\n",
       "      <td>0.4900</td>\n",
       "      <td>0.160000</td>\n",
       "      <td>29.000000</td>\n",
       "      <td>25.000000</td>\n",
       "      <td>26.835000</td>\n",
       "      <td>182.000000</td>\n",
       "      <td>29.50000</td>\n",
       "      <td>246.500000</td>\n",
       "      <td>51.500000</td>\n",
       "      <td>7.120000</td>\n",
       "      <td>12.05000</td>\n",
       "    </tr>\n",
       "    <tr>\n",
       "      <th>75%</th>\n",
       "      <td>2019.000000</td>\n",
       "      <td>0.5900</td>\n",
       "      <td>0.242500</td>\n",
       "      <td>30.000000</td>\n",
       "      <td>25.000000</td>\n",
       "      <td>27.670000</td>\n",
       "      <td>239.450000</td>\n",
       "      <td>57.00000</td>\n",
       "      <td>385.750000</td>\n",
       "      <td>69.250000</td>\n",
       "      <td>8.117500</td>\n",
       "      <td>13.67500</td>\n",
       "    </tr>\n",
       "    <tr>\n",
       "      <th>max</th>\n",
       "      <td>2021.000000</td>\n",
       "      <td>1.3700</td>\n",
       "      <td>0.850000</td>\n",
       "      <td>31.000000</td>\n",
       "      <td>26.000000</td>\n",
       "      <td>28.330000</td>\n",
       "      <td>336.300000</td>\n",
       "      <td>88.00000</td>\n",
       "      <td>2008.000000</td>\n",
       "      <td>385.000000</td>\n",
       "      <td>12.200000</td>\n",
       "      <td>17.20000</td>\n",
       "    </tr>\n",
       "  </tbody>\n",
       "</table>\n",
       "</div>"
      ],
      "text/plain": [
       "              Year  Produktivitas Mangga  Produktivitas Jeruk        Max  \\\n",
       "count    40.000000               40.0000            40.000000  40.000000   \n",
       "mean   2016.500000                0.4385             0.188500  29.175000   \n",
       "std       2.908872                0.2978             0.174922   0.930605   \n",
       "min    2012.000000                0.0000             0.000000  28.000000   \n",
       "25%    2014.000000                0.2550             0.100000  28.000000   \n",
       "50%    2016.500000                0.4900             0.160000  29.000000   \n",
       "75%    2019.000000                0.5900             0.242500  30.000000   \n",
       "max    2021.000000                1.3700             0.850000  31.000000   \n",
       "\n",
       "             Min       Tavg    Sun Hour   Sun Day  Curah Hujan  Hari Hujan  \\\n",
       "count  40.000000  40.000000   40.000000  40.00000    40.000000   40.000000   \n",
       "mean   24.700000  26.683500  191.615000  40.05000   296.975000   63.725000   \n",
       "std     0.992278   1.010064   78.482399  25.66645   345.464421   67.614665   \n",
       "min    22.000000  24.330000   30.000000   6.00000     4.000000    4.000000   \n",
       "25%    24.000000  26.000000  137.025000  20.00000    93.750000   30.250000   \n",
       "50%    25.000000  26.835000  182.000000  29.50000   246.500000   51.500000   \n",
       "75%    25.000000  27.670000  239.450000  57.00000   385.750000   69.250000   \n",
       "max    26.000000  28.330000  336.300000  88.00000  2008.000000  385.000000   \n",
       "\n",
       "       Kecepatan A    Mx Kec  \n",
       "count    40.000000  40.00000  \n",
       "mean      7.432500  11.94000  \n",
       "std       1.631161   2.36706  \n",
       "min       5.170000   7.90000  \n",
       "25%       6.322500  10.27500  \n",
       "50%       7.120000  12.05000  \n",
       "75%       8.117500  13.67500  \n",
       "max      12.200000  17.20000  "
      ]
     },
     "execution_count": 7,
     "metadata": {},
     "output_type": "execute_result"
    }
   ],
   "source": [
    "bike.describe()"
   ]
  },
  {
   "cell_type": "code",
   "execution_count": 8,
   "metadata": {
    "execution": {
     "iopub.execute_input": "2024-01-25T11:57:22.394393Z",
     "iopub.status.busy": "2024-01-25T11:57:22.393633Z",
     "iopub.status.idle": "2024-01-25T11:57:22.396360Z",
     "shell.execute_reply": "2024-01-25T11:57:22.396881Z",
     "shell.execute_reply.started": "2024-01-25T10:50:15.927977Z"
    },
    "papermill": {
     "duration": 0.099453,
     "end_time": "2024-01-25T11:57:22.397002",
     "exception": false,
     "start_time": "2024-01-25T11:57:22.297549",
     "status": "completed"
    },
    "tags": []
   },
   "outputs": [
    {
     "name": "stdout",
     "output_type": "stream",
     "text": [
      "(40, 13)\n"
     ]
    }
   ],
   "source": [
    "# Check the shape of df\n",
    "\n",
    "print(bike.shape)"
   ]
  },
  {
   "cell_type": "markdown",
   "metadata": {
    "papermill": {
     "duration": 0.086345,
     "end_time": "2024-01-25T11:57:22.572442",
     "exception": false,
     "start_time": "2024-01-25T11:57:22.486097",
     "status": "completed"
    },
    "tags": []
   },
   "source": [
    "## Finding : \n",
    "Dataset has 40 rows and 13 columns.\n",
    "\n",
    "variable 'Sun day', 'Curah Hujan', 'Hari hujan' berbentuk ***int***\n",
    "untuk variable 'Periode' berupa ***string***\n",
    "\n",
    "Selain itu, semua variable berupa ***float***"
   ]
  },
  {
   "cell_type": "markdown",
   "metadata": {
    "papermill": {
     "duration": 0.086551,
     "end_time": "2024-01-25T11:57:22.746515",
     "exception": false,
     "start_time": "2024-01-25T11:57:22.659964",
     "status": "completed"
    },
    "tags": []
   },
   "source": [
    "# DATA QUALITY CHECK"
   ]
  },
  {
   "cell_type": "markdown",
   "metadata": {
    "papermill": {
     "duration": 0.086573,
     "end_time": "2024-01-25T11:57:22.919985",
     "exception": false,
     "start_time": "2024-01-25T11:57:22.833412",
     "status": "completed"
    },
    "tags": []
   },
   "source": [
    "## Check for NULL/MISSING values"
   ]
  },
  {
   "cell_type": "code",
   "execution_count": 9,
   "metadata": {
    "execution": {
     "iopub.execute_input": "2024-01-25T11:57:23.100016Z",
     "iopub.status.busy": "2024-01-25T11:57:23.099347Z",
     "iopub.status.idle": "2024-01-25T11:57:23.118877Z",
     "shell.execute_reply": "2024-01-25T11:57:23.118327Z",
     "shell.execute_reply.started": "2024-01-25T10:50:15.933308Z"
    },
    "papermill": {
     "duration": 0.111653,
     "end_time": "2024-01-25T11:57:23.118985",
     "exception": false,
     "start_time": "2024-01-25T11:57:23.007332",
     "status": "completed"
    },
    "tags": []
   },
   "outputs": [
    {
     "data": {
      "text/plain": [
       "Mx Kec                  0.0\n",
       "Kecepatan A             0.0\n",
       "Hari Hujan              0.0\n",
       "Curah Hujan             0.0\n",
       "Sun Day                 0.0\n",
       "Sun Hour                0.0\n",
       "Tavg                    0.0\n",
       "Min                     0.0\n",
       "Max                     0.0\n",
       "Produktivitas Jeruk     0.0\n",
       "Produktivitas Mangga    0.0\n",
       "Periode                 0.0\n",
       "Year                    0.0\n",
       "dtype: float64"
      ]
     },
     "execution_count": 9,
     "metadata": {},
     "output_type": "execute_result"
    }
   ],
   "source": [
    "# percentage of missing values in each column\n",
    "round(100*(bike.isnull().sum()/len(bike)), 2).sort_values(ascending=False)"
   ]
  },
  {
   "cell_type": "code",
   "execution_count": 10,
   "metadata": {
    "execution": {
     "iopub.execute_input": "2024-01-25T11:57:23.305418Z",
     "iopub.status.busy": "2024-01-25T11:57:23.304744Z",
     "iopub.status.idle": "2024-01-25T11:57:23.308754Z",
     "shell.execute_reply": "2024-01-25T11:57:23.308118Z",
     "shell.execute_reply.started": "2024-01-25T10:50:15.948469Z"
    },
    "papermill": {
     "duration": 0.102525,
     "end_time": "2024-01-25T11:57:23.308856",
     "exception": false,
     "start_time": "2024-01-25T11:57:23.206331",
     "status": "completed"
    },
    "tags": []
   },
   "outputs": [
    {
     "data": {
      "text/plain": [
       "39    0.0\n",
       "38    0.0\n",
       "17    0.0\n",
       "16    0.0\n",
       "15    0.0\n",
       "14    0.0\n",
       "13    0.0\n",
       "12    0.0\n",
       "11    0.0\n",
       "10    0.0\n",
       "9     0.0\n",
       "8     0.0\n",
       "7     0.0\n",
       "6     0.0\n",
       "5     0.0\n",
       "4     0.0\n",
       "3     0.0\n",
       "2     0.0\n",
       "1     0.0\n",
       "18    0.0\n",
       "19    0.0\n",
       "20    0.0\n",
       "30    0.0\n",
       "37    0.0\n",
       "36    0.0\n",
       "35    0.0\n",
       "34    0.0\n",
       "33    0.0\n",
       "32    0.0\n",
       "31    0.0\n",
       "29    0.0\n",
       "21    0.0\n",
       "28    0.0\n",
       "27    0.0\n",
       "26    0.0\n",
       "25    0.0\n",
       "24    0.0\n",
       "23    0.0\n",
       "22    0.0\n",
       "0     0.0\n",
       "dtype: float64"
      ]
     },
     "execution_count": 10,
     "metadata": {},
     "output_type": "execute_result"
    }
   ],
   "source": [
    "# row-wise null count percentage\n",
    "round((bike.isnull().sum(axis=1)/len(bike))*100,2).sort_values(ascending=False)"
   ]
  },
  {
   "cell_type": "markdown",
   "metadata": {
    "papermill": {
     "duration": 0.087265,
     "end_time": "2024-01-25T11:57:23.483926",
     "exception": false,
     "start_time": "2024-01-25T11:57:23.396661",
     "status": "completed"
    },
    "tags": []
   },
   "source": [
    "## Finding\n",
    "There are no missing / Null values either in columns or rows"
   ]
  },
  {
   "cell_type": "markdown",
   "metadata": {
    "papermill": {
     "duration": 0.087291,
     "end_time": "2024-01-25T11:57:23.659393",
     "exception": false,
     "start_time": "2024-01-25T11:57:23.572102",
     "status": "completed"
    },
    "tags": []
   },
   "source": [
    "## Duplicate Check"
   ]
  },
  {
   "cell_type": "code",
   "execution_count": 11,
   "metadata": {
    "execution": {
     "iopub.execute_input": "2024-01-25T11:57:23.886103Z",
     "iopub.status.busy": "2024-01-25T11:57:23.885480Z",
     "iopub.status.idle": "2024-01-25T11:57:23.888390Z",
     "shell.execute_reply": "2024-01-25T11:57:23.887920Z",
     "shell.execute_reply.started": "2024-01-25T10:50:15.963218Z"
    },
    "papermill": {
     "duration": 0.141663,
     "end_time": "2024-01-25T11:57:23.888489",
     "exception": false,
     "start_time": "2024-01-25T11:57:23.746826",
     "status": "completed"
    },
    "tags": []
   },
   "outputs": [],
   "source": [
    "bike_dup = bike.copy()\n",
    "\n",
    "# Checking for duplicates and dropping the entire duplicate row if any\n",
    "bike_dup.drop_duplicates(subset=None, inplace=True)"
   ]
  },
  {
   "cell_type": "code",
   "execution_count": 12,
   "metadata": {
    "execution": {
     "iopub.execute_input": "2024-01-25T11:57:24.068501Z",
     "iopub.status.busy": "2024-01-25T11:57:24.067830Z",
     "iopub.status.idle": "2024-01-25T11:57:24.071350Z",
     "shell.execute_reply": "2024-01-25T11:57:24.070786Z",
     "shell.execute_reply.started": "2024-01-25T10:50:15.982427Z"
    },
    "papermill": {
     "duration": 0.09452,
     "end_time": "2024-01-25T11:57:24.071444",
     "exception": false,
     "start_time": "2024-01-25T11:57:23.976924",
     "status": "completed"
    },
    "tags": []
   },
   "outputs": [
    {
     "data": {
      "text/plain": [
       "(40, 13)"
      ]
     },
     "execution_count": 12,
     "metadata": {},
     "output_type": "execute_result"
    }
   ],
   "source": [
    "bike_dup.shape"
   ]
  },
  {
   "cell_type": "code",
   "execution_count": 13,
   "metadata": {
    "execution": {
     "iopub.execute_input": "2024-01-25T11:57:24.262602Z",
     "iopub.status.busy": "2024-01-25T11:57:24.261446Z",
     "iopub.status.idle": "2024-01-25T11:57:24.265011Z",
     "shell.execute_reply": "2024-01-25T11:57:24.265604Z",
     "shell.execute_reply.started": "2024-01-25T10:50:15.993784Z"
    },
    "papermill": {
     "duration": 0.10677,
     "end_time": "2024-01-25T11:57:24.265744",
     "exception": false,
     "start_time": "2024-01-25T11:57:24.158974",
     "status": "completed"
    },
    "tags": []
   },
   "outputs": [
    {
     "data": {
      "text/plain": [
       "(40, 13)"
      ]
     },
     "execution_count": 13,
     "metadata": {},
     "output_type": "execute_result"
    }
   ],
   "source": [
    "bike.shape"
   ]
  },
  {
   "cell_type": "markdown",
   "metadata": {
    "papermill": {
     "duration": 0.087824,
     "end_time": "2024-01-25T11:57:24.461518",
     "exception": false,
     "start_time": "2024-01-25T11:57:24.373694",
     "status": "completed"
    },
    "tags": []
   },
   "source": [
    "### Insights \n",
    "\n",
    "The shape after running the drop duplicate command is same as the original dataframe. \n",
    "\n",
    "Hence we can conclude that there were zero duplicate values in the dataset. "
   ]
  },
  {
   "cell_type": "markdown",
   "metadata": {
    "papermill": {
     "duration": 0.091673,
     "end_time": "2024-01-25T11:57:24.648621",
     "exception": false,
     "start_time": "2024-01-25T11:57:24.556948",
     "status": "completed"
    },
    "tags": []
   },
   "source": [
    "## Data Cleaning\n",
    "\n",
    "Checking value_counts() for entire dataframe. \n",
    "\n",
    "This will help to identify any Unknow/Junk values present in the dataset."
   ]
  },
  {
   "cell_type": "code",
   "execution_count": 14,
   "metadata": {
    "execution": {
     "iopub.execute_input": "2024-01-25T11:57:24.833287Z",
     "iopub.status.busy": "2024-01-25T11:57:24.832234Z",
     "iopub.status.idle": "2024-01-25T11:57:24.836140Z",
     "shell.execute_reply": "2024-01-25T11:57:24.835285Z",
     "shell.execute_reply.started": "2024-01-25T10:50:16.005437Z"
    },
    "papermill": {
     "duration": 0.099211,
     "end_time": "2024-01-25T11:57:24.836311",
     "exception": false,
     "start_time": "2024-01-25T11:57:24.737100",
     "status": "completed"
    },
    "tags": []
   },
   "outputs": [],
   "source": [
    "#Create a copy of the  dataframe, without the 'instant' column, \n",
    "\n",
    "#as this will have unique values, and donot make sense to do a value count on it.\n",
    "\n",
    "bike_dummy=bike.iloc[:,1:16]"
   ]
  },
  {
   "cell_type": "code",
   "execution_count": 15,
   "metadata": {
    "execution": {
     "iopub.execute_input": "2024-01-25T11:57:25.028938Z",
     "iopub.status.busy": "2024-01-25T11:57:25.026608Z",
     "iopub.status.idle": "2024-01-25T11:57:25.051826Z",
     "shell.execute_reply": "2024-01-25T11:57:25.051214Z",
     "shell.execute_reply.started": "2024-01-25T10:50:16.018575Z"
    },
    "papermill": {
     "duration": 0.121966,
     "end_time": "2024-01-25T11:57:25.051935",
     "exception": false,
     "start_time": "2024-01-25T11:57:24.929969",
     "status": "completed"
    },
    "tags": []
   },
   "outputs": [
    {
     "name": "stdout",
     "output_type": "stream",
     "text": [
      "Triwulan I      10\n",
      "Triwulan II     10\n",
      "Triwulan IV     10\n",
      "Triwulan III    10\n",
      "Name: Periode, dtype: int64 \n",
      "\n",
      "\n",
      "\n",
      "0.00    8\n",
      "0.65    3\n",
      "0.50    2\n",
      "0.59    2\n",
      "0.47    2\n",
      "0.46    2\n",
      "0.53    1\n",
      "0.68    1\n",
      "0.67    1\n",
      "0.54    1\n",
      "0.52    1\n",
      "0.24    1\n",
      "0.44    1\n",
      "0.70    1\n",
      "0.55    1\n",
      "0.71    1\n",
      "1.37    1\n",
      "0.26    1\n",
      "0.58    1\n",
      "0.48    1\n",
      "0.37    1\n",
      "0.51    1\n",
      "0.23    1\n",
      "0.56    1\n",
      "0.30    1\n",
      "1.04    1\n",
      "0.27    1\n",
      "Name: Produktivitas Mangga, dtype: int64 \n",
      "\n",
      "\n",
      "\n",
      "0.00    7\n",
      "0.10    5\n",
      "0.25    3\n",
      "0.16    3\n",
      "0.26    2\n",
      "0.15    2\n",
      "0.18    2\n",
      "0.11    2\n",
      "0.13    1\n",
      "0.12    1\n",
      "0.22    1\n",
      "0.19    1\n",
      "0.31    1\n",
      "0.24    1\n",
      "0.47    1\n",
      "0.85    1\n",
      "0.50    1\n",
      "0.17    1\n",
      "0.66    1\n",
      "0.21    1\n",
      "0.14    1\n",
      "0.20    1\n",
      "Name: Produktivitas Jeruk, dtype: int64 \n",
      "\n",
      "\n",
      "\n",
      "30.0    15\n",
      "28.0    12\n",
      "29.0    11\n",
      "31.0     2\n",
      "Name: Max, dtype: int64 \n",
      "\n",
      "\n",
      "\n",
      "25.0    15\n",
      "24.0    12\n",
      "26.0     9\n",
      "23.0     3\n",
      "22.0     1\n",
      "Name: Min, dtype: int64 \n",
      "\n",
      "\n",
      "\n",
      "27.00    6\n",
      "27.67    5\n",
      "28.00    5\n",
      "26.00    5\n",
      "25.67    4\n",
      "26.33    3\n",
      "26.67    3\n",
      "27.33    3\n",
      "25.00    2\n",
      "25.33    2\n",
      "24.33    1\n",
      "28.33    1\n",
      "Name: Tavg, dtype: int64 \n",
      "\n",
      "\n",
      "\n",
      "302.0    2\n",
      "225.7    2\n",
      "179.3    1\n",
      "214.3    1\n",
      "162.3    1\n",
      "306.3    1\n",
      "30.0     1\n",
      "234.3    1\n",
      "221.0    1\n",
      "111.0    1\n",
      "47.0     1\n",
      "130.3    1\n",
      "320.0    1\n",
      "166.0    1\n",
      "297.3    1\n",
      "135.0    1\n",
      "156.0    1\n",
      "187.0    1\n",
      "237.7    1\n",
      "140.7    1\n",
      "83.7     1\n",
      "184.7    1\n",
      "336.3    1\n",
      "236.3    1\n",
      "133.7    1\n",
      "121.3    1\n",
      "141.3    1\n",
      "244.7    1\n",
      "316.3    1\n",
      "78.7     1\n",
      "254.7    1\n",
      "168.3    1\n",
      "209.7    1\n",
      "102.7    1\n",
      "269.3    1\n",
      "137.7    1\n",
      "138.3    1\n",
      "176.0    1\n",
      "Name: Sun Hour, dtype: int64 \n",
      "\n",
      "\n",
      "\n",
      "24    4\n",
      "83    3\n",
      "33    2\n",
      "46    2\n",
      "25    2\n",
      "45    2\n",
      "20    2\n",
      "10    1\n",
      "8     1\n",
      "18    1\n",
      "75    1\n",
      "7     1\n",
      "13    1\n",
      "6     1\n",
      "14    1\n",
      "79    1\n",
      "17    1\n",
      "70    1\n",
      "23    1\n",
      "19    1\n",
      "22    1\n",
      "71    1\n",
      "88    1\n",
      "26    1\n",
      "81    1\n",
      "49    1\n",
      "50    1\n",
      "53    1\n",
      "54    1\n",
      "66    1\n",
      "Name: Sun Day, dtype: int64 \n",
      "\n",
      "\n",
      "\n",
      "20      2\n",
      "319     1\n",
      "152     1\n",
      "214     1\n",
      "405     1\n",
      "84      1\n",
      "2008    1\n",
      "338     1\n",
      "640     1\n",
      "400     1\n",
      "143     1\n",
      "289     1\n",
      "268     1\n",
      "10      1\n",
      "22      1\n",
      "136     1\n",
      "74      1\n",
      "133     1\n",
      "4       1\n",
      "279     1\n",
      "391     1\n",
      "444     1\n",
      "1053    1\n",
      "375     1\n",
      "54      1\n",
      "501     1\n",
      "216     1\n",
      "177     1\n",
      "437     1\n",
      "302     1\n",
      "12      1\n",
      "300     1\n",
      "295     1\n",
      "97      1\n",
      "164     1\n",
      "46      1\n",
      "384     1\n",
      "225     1\n",
      "448     1\n",
      "Name: Curah Hujan, dtype: int64 \n",
      "\n",
      "\n",
      "\n",
      "67     4\n",
      "41     3\n",
      "45     2\n",
      "47     2\n",
      "68     2\n",
      "9      2\n",
      "25     2\n",
      "59     1\n",
      "11     1\n",
      "10     1\n",
      "69     1\n",
      "72     1\n",
      "70     1\n",
      "80     1\n",
      "4      1\n",
      "66     1\n",
      "78     1\n",
      "84     1\n",
      "17     1\n",
      "83     1\n",
      "249    1\n",
      "85     1\n",
      "22     1\n",
      "154    1\n",
      "32     1\n",
      "37     1\n",
      "42     1\n",
      "5      1\n",
      "56     1\n",
      "385    1\n",
      "Name: Hari Hujan, dtype: int64 \n",
      "\n",
      "\n",
      "\n",
      "7.57     2\n",
      "7.93     2\n",
      "7.60     2\n",
      "6.67     1\n",
      "8.57     1\n",
      "6.40     1\n",
      "12.20    1\n",
      "6.33     1\n",
      "8.83     1\n",
      "8.17     1\n",
      "6.17     1\n",
      "6.87     1\n",
      "7.07     1\n",
      "8.93     1\n",
      "7.03     1\n",
      "6.77     1\n",
      "6.47     1\n",
      "9.50     1\n",
      "10.73    1\n",
      "5.67     1\n",
      "9.77     1\n",
      "8.40     1\n",
      "6.27     1\n",
      "6.57     1\n",
      "5.30     1\n",
      "11.43    1\n",
      "6.30     1\n",
      "5.17     1\n",
      "8.10     1\n",
      "5.47     1\n",
      "7.77     1\n",
      "7.33     1\n",
      "5.53     1\n",
      "7.17     1\n",
      "5.57     1\n",
      "6.07     1\n",
      "6.50     1\n",
      "Name: Kecepatan A, dtype: int64 \n",
      "\n",
      "\n",
      "\n",
      "14.8    3\n",
      "10.8    2\n",
      "10.4    2\n",
      "10.3    2\n",
      "12.7    2\n",
      "12.9    2\n",
      "10.5    1\n",
      "16.5    1\n",
      "14.5    1\n",
      "13.9    1\n",
      "15.2    1\n",
      "12.0    1\n",
      "9.1     1\n",
      "9.8     1\n",
      "13.3    1\n",
      "8.6     1\n",
      "8.4     1\n",
      "12.3    1\n",
      "9.5     1\n",
      "14.6    1\n",
      "10.2    1\n",
      "12.6    1\n",
      "11.3    1\n",
      "11.2    1\n",
      "9.7     1\n",
      "8.2     1\n",
      "17.2    1\n",
      "13.4    1\n",
      "9.4     1\n",
      "7.9     1\n",
      "13.6    1\n",
      "12.1    1\n",
      "14.0    1\n",
      "Name: Mx Kec, dtype: int64 \n",
      "\n",
      "\n",
      "\n"
     ]
    }
   ],
   "source": [
    "for col in bike_dummy:\n",
    "    print(bike_dummy[col].value_counts(ascending=False), '\\n\\n\\n')"
   ]
  },
  {
   "cell_type": "markdown",
   "metadata": {
    "papermill": {
     "duration": 0.098504,
     "end_time": "2024-01-25T11:57:25.239907",
     "exception": false,
     "start_time": "2024-01-25T11:57:25.141403",
     "status": "completed"
    },
    "tags": []
   },
   "source": [
    "### Insights \n",
    "There seems to be no Junk/Unknown values in the entire dataset."
   ]
  },
  {
   "cell_type": "markdown",
   "metadata": {
    "papermill": {
     "duration": 0.089445,
     "end_time": "2024-01-25T11:57:25.420553",
     "exception": false,
     "start_time": "2024-01-25T11:57:25.331108",
     "status": "completed"
    },
    "tags": []
   },
   "source": [
    "# Removing redundant & unwanted columns"
   ]
  },
  {
   "cell_type": "code",
   "execution_count": 16,
   "metadata": {
    "execution": {
     "iopub.execute_input": "2024-01-25T11:57:25.606004Z",
     "iopub.status.busy": "2024-01-25T11:57:25.604849Z",
     "iopub.status.idle": "2024-01-25T11:57:25.608716Z",
     "shell.execute_reply": "2024-01-25T11:57:25.609220Z",
     "shell.execute_reply.started": "2024-01-25T10:50:16.052206Z"
    },
    "papermill": {
     "duration": 0.099383,
     "end_time": "2024-01-25T11:57:25.609343",
     "exception": false,
     "start_time": "2024-01-25T11:57:25.509960",
     "status": "completed"
    },
    "tags": []
   },
   "outputs": [
    {
     "data": {
      "text/plain": [
       "Index(['Year', 'Periode', 'Produktivitas Mangga', 'Produktivitas Jeruk', 'Max',\n",
       "       'Min', 'Tavg', 'Sun Hour', 'Sun Day', 'Curah Hujan', 'Hari Hujan',\n",
       "       'Kecepatan A', 'Mx Kec'],\n",
       "      dtype='object')"
      ]
     },
     "execution_count": 16,
     "metadata": {},
     "output_type": "execute_result"
    }
   ],
   "source": [
    "bike.columns"
   ]
  },
  {
   "cell_type": "code",
   "execution_count": 17,
   "metadata": {
    "execution": {
     "iopub.execute_input": "2024-01-25T11:57:25.794664Z",
     "iopub.status.busy": "2024-01-25T11:57:25.794019Z",
     "iopub.status.idle": "2024-01-25T11:57:25.796743Z",
     "shell.execute_reply": "2024-01-25T11:57:25.796258Z",
     "shell.execute_reply.started": "2024-01-25T10:50:16.059115Z"
    },
    "papermill": {
     "duration": 0.097731,
     "end_time": "2024-01-25T11:57:25.796851",
     "exception": false,
     "start_time": "2024-01-25T11:57:25.699120",
     "status": "completed"
    },
    "tags": []
   },
   "outputs": [],
   "source": [
    "bike_new=bike[['Year', 'Periode','Produktivitas Jeruk', 'Tavg',\n",
    "       'Min', 'Max']]\n"
   ]
  },
  {
   "cell_type": "code",
   "execution_count": 18,
   "metadata": {
    "execution": {
     "iopub.execute_input": "2024-01-25T11:57:25.981028Z",
     "iopub.status.busy": "2024-01-25T11:57:25.980373Z",
     "iopub.status.idle": "2024-01-25T11:57:25.983175Z",
     "shell.execute_reply": "2024-01-25T11:57:25.982573Z",
     "shell.execute_reply.started": "2024-01-25T10:50:16.070235Z"
    },
    "papermill": {
     "duration": 0.097381,
     "end_time": "2024-01-25T11:57:25.983271",
     "exception": false,
     "start_time": "2024-01-25T11:57:25.885890",
     "status": "completed"
    },
    "tags": []
   },
   "outputs": [],
   "source": [
    "bike_new_new=bike[['Produktivitas Jeruk', 'Tavg',\n",
    "       'Min', 'Max']]"
   ]
  },
  {
   "cell_type": "code",
   "execution_count": 19,
   "metadata": {
    "execution": {
     "iopub.execute_input": "2024-01-25T11:57:26.170344Z",
     "iopub.status.busy": "2024-01-25T11:57:26.169739Z",
     "iopub.status.idle": "2024-01-25T11:57:26.172731Z",
     "shell.execute_reply": "2024-01-25T11:57:26.173209Z",
     "shell.execute_reply.started": "2024-01-25T10:50:16.081917Z"
    },
    "papermill": {
     "duration": 0.100786,
     "end_time": "2024-01-25T11:57:26.173333",
     "exception": false,
     "start_time": "2024-01-25T11:57:26.072547",
     "status": "completed"
    },
    "tags": []
   },
   "outputs": [
    {
     "name": "stdout",
     "output_type": "stream",
     "text": [
      "<class 'pandas.core.frame.DataFrame'>\n",
      "RangeIndex: 40 entries, 0 to 39\n",
      "Data columns (total 6 columns):\n",
      " #   Column               Non-Null Count  Dtype  \n",
      "---  ------               --------------  -----  \n",
      " 0   Year                 40 non-null     int64  \n",
      " 1   Periode              40 non-null     object \n",
      " 2   Produktivitas Jeruk  40 non-null     float64\n",
      " 3   Tavg                 40 non-null     float64\n",
      " 4   Min                  40 non-null     float64\n",
      " 5   Max                  40 non-null     float64\n",
      "dtypes: float64(4), int64(1), object(1)\n",
      "memory usage: 2.0+ KB\n"
     ]
    }
   ],
   "source": [
    "bike_new.info()"
   ]
  },
  {
   "cell_type": "code",
   "execution_count": 20,
   "metadata": {
    "execution": {
     "iopub.execute_input": "2024-01-25T11:57:26.361407Z",
     "iopub.status.busy": "2024-01-25T11:57:26.360669Z",
     "iopub.status.idle": "2024-01-25T11:57:26.363835Z",
     "shell.execute_reply": "2024-01-25T11:57:26.364377Z",
     "shell.execute_reply.started": "2024-01-25T10:50:16.096265Z"
    },
    "papermill": {
     "duration": 0.10151,
     "end_time": "2024-01-25T11:57:26.364506",
     "exception": false,
     "start_time": "2024-01-25T11:57:26.262996",
     "status": "completed"
    },
    "tags": []
   },
   "outputs": [
    {
     "name": "stdout",
     "output_type": "stream",
     "text": [
      "<class 'pandas.core.frame.DataFrame'>\n",
      "RangeIndex: 40 entries, 0 to 39\n",
      "Data columns (total 4 columns):\n",
      " #   Column               Non-Null Count  Dtype  \n",
      "---  ------               --------------  -----  \n",
      " 0   Produktivitas Jeruk  40 non-null     float64\n",
      " 1   Tavg                 40 non-null     float64\n",
      " 2   Min                  40 non-null     float64\n",
      " 3   Max                  40 non-null     float64\n",
      "dtypes: float64(4)\n",
      "memory usage: 1.4 KB\n"
     ]
    }
   ],
   "source": [
    "bike_new_new.info()"
   ]
  },
  {
   "cell_type": "markdown",
   "metadata": {
    "papermill": {
     "duration": 0.107488,
     "end_time": "2024-01-25T11:57:26.592485",
     "exception": false,
     "start_time": "2024-01-25T11:57:26.484997",
     "status": "completed"
    },
    "tags": []
   },
   "source": [
    "# Creating Dummy Variables"
   ]
  },
  {
   "cell_type": "markdown",
   "metadata": {
    "papermill": {
     "duration": 0.090588,
     "end_time": "2024-01-25T11:57:26.782473",
     "exception": false,
     "start_time": "2024-01-25T11:57:26.691885",
     "status": "completed"
    },
    "tags": []
   },
   "source": [
    "We will create DUMMY variables for 2 categorical variables 'year', 'periode'\n",
    "- Before creating dummy variables, we will have to convert them into 'category' data types."
   ]
  },
  {
   "cell_type": "code",
   "execution_count": 21,
   "metadata": {
    "execution": {
     "iopub.execute_input": "2024-01-25T11:57:26.972107Z",
     "iopub.status.busy": "2024-01-25T11:57:26.971501Z",
     "iopub.status.idle": "2024-01-25T11:57:26.974647Z",
     "shell.execute_reply": "2024-01-25T11:57:26.975133Z",
     "shell.execute_reply.started": "2024-01-25T10:50:16.109514Z"
    },
    "papermill": {
     "duration": 0.102472,
     "end_time": "2024-01-25T11:57:26.975255",
     "exception": false,
     "start_time": "2024-01-25T11:57:26.872783",
     "status": "completed"
    },
    "tags": []
   },
   "outputs": [
    {
     "name": "stdout",
     "output_type": "stream",
     "text": [
      "<class 'pandas.core.frame.DataFrame'>\n",
      "RangeIndex: 40 entries, 0 to 39\n",
      "Data columns (total 6 columns):\n",
      " #   Column               Non-Null Count  Dtype  \n",
      "---  ------               --------------  -----  \n",
      " 0   Year                 40 non-null     int64  \n",
      " 1   Periode              40 non-null     object \n",
      " 2   Produktivitas Jeruk  40 non-null     float64\n",
      " 3   Tavg                 40 non-null     float64\n",
      " 4   Min                  40 non-null     float64\n",
      " 5   Max                  40 non-null     float64\n",
      "dtypes: float64(4), int64(1), object(1)\n",
      "memory usage: 2.0+ KB\n"
     ]
    }
   ],
   "source": [
    "# Check the datatypes before convertion\n",
    "bike_new.info()"
   ]
  },
  {
   "cell_type": "code",
   "execution_count": 22,
   "metadata": {
    "execution": {
     "iopub.execute_input": "2024-01-25T11:57:27.163267Z",
     "iopub.status.busy": "2024-01-25T11:57:27.162429Z",
     "iopub.status.idle": "2024-01-25T11:57:27.165421Z",
     "shell.execute_reply": "2024-01-25T11:57:27.164808Z",
     "shell.execute_reply.started": "2024-01-25T10:50:16.123563Z"
    },
    "papermill": {
     "duration": 0.100132,
     "end_time": "2024-01-25T11:57:27.165519",
     "exception": false,
     "start_time": "2024-01-25T11:57:27.065387",
     "status": "completed"
    },
    "tags": []
   },
   "outputs": [],
   "source": [
    "# Convert to 'category' data type\n",
    "\n",
    "bike_new['Year']=bike_new['Year'].astype('category')\n",
    "bike_new['Periode']=bike_new['Periode'].astype('category')"
   ]
  },
  {
   "cell_type": "code",
   "execution_count": 23,
   "metadata": {
    "execution": {
     "iopub.execute_input": "2024-01-25T11:57:27.357669Z",
     "iopub.status.busy": "2024-01-25T11:57:27.356992Z",
     "iopub.status.idle": "2024-01-25T11:57:27.359944Z",
     "shell.execute_reply": "2024-01-25T11:57:27.360512Z",
     "shell.execute_reply.started": "2024-01-25T10:50:16.136449Z"
    },
    "papermill": {
     "duration": 0.104591,
     "end_time": "2024-01-25T11:57:27.360670",
     "exception": false,
     "start_time": "2024-01-25T11:57:27.256079",
     "status": "completed"
    },
    "tags": []
   },
   "outputs": [
    {
     "name": "stdout",
     "output_type": "stream",
     "text": [
      "<class 'pandas.core.frame.DataFrame'>\n",
      "RangeIndex: 40 entries, 0 to 39\n",
      "Data columns (total 6 columns):\n",
      " #   Column               Non-Null Count  Dtype   \n",
      "---  ------               --------------  -----   \n",
      " 0   Year                 40 non-null     category\n",
      " 1   Periode              40 non-null     category\n",
      " 2   Produktivitas Jeruk  40 non-null     float64 \n",
      " 3   Tavg                 40 non-null     float64 \n",
      " 4   Min                  40 non-null     float64 \n",
      " 5   Max                  40 non-null     float64 \n",
      "dtypes: category(2), float64(4)\n",
      "memory usage: 2.0 KB\n"
     ]
    }
   ],
   "source": [
    "bike_new.info()"
   ]
  },
  {
   "cell_type": "code",
   "execution_count": 24,
   "metadata": {
    "execution": {
     "iopub.execute_input": "2024-01-25T11:57:27.554510Z",
     "iopub.status.busy": "2024-01-25T11:57:27.553842Z",
     "iopub.status.idle": "2024-01-25T11:57:27.565205Z",
     "shell.execute_reply": "2024-01-25T11:57:27.564605Z",
     "shell.execute_reply.started": "2024-01-25T10:50:16.150771Z"
    },
    "papermill": {
     "duration": 0.114164,
     "end_time": "2024-01-25T11:57:27.565324",
     "exception": false,
     "start_time": "2024-01-25T11:57:27.451160",
     "status": "completed"
    },
    "tags": []
   },
   "outputs": [
    {
     "name": "stdout",
     "output_type": "stream",
     "text": [
      "<class 'pandas.core.frame.DataFrame'>\n",
      "RangeIndex: 40 entries, 0 to 39\n",
      "Data columns (total 18 columns):\n",
      " #   Column                Non-Null Count  Dtype  \n",
      "---  ------                --------------  -----  \n",
      " 0   Produktivitas Jeruk   40 non-null     float64\n",
      " 1   Tavg                  40 non-null     float64\n",
      " 2   Min                   40 non-null     float64\n",
      " 3   Max                   40 non-null     float64\n",
      " 4   Year_2012             40 non-null     uint8  \n",
      " 5   Year_2013             40 non-null     uint8  \n",
      " 6   Year_2014             40 non-null     uint8  \n",
      " 7   Year_2015             40 non-null     uint8  \n",
      " 8   Year_2016             40 non-null     uint8  \n",
      " 9   Year_2017             40 non-null     uint8  \n",
      " 10  Year_2018             40 non-null     uint8  \n",
      " 11  Year_2019             40 non-null     uint8  \n",
      " 12  Year_2020             40 non-null     uint8  \n",
      " 13  Year_2021             40 non-null     uint8  \n",
      " 14  Periode_Triwulan I    40 non-null     uint8  \n",
      " 15  Periode_Triwulan II   40 non-null     uint8  \n",
      " 16  Periode_Triwulan III  40 non-null     uint8  \n",
      " 17  Periode_Triwulan IV   40 non-null     uint8  \n",
      "dtypes: float64(4), uint8(14)\n",
      "memory usage: 1.9 KB\n"
     ]
    }
   ],
   "source": [
    "# This code does 3 things:\n",
    "# 1) Create Dummy variable\n",
    "# 2) Drop original variable for which the dummy was created\n",
    "# 3) Drop first dummy variable for each set of dummies created.\n",
    "\n",
    "bike_new = pd.get_dummies(bike_new)\n",
    "bike_new.info()"
   ]
  },
  {
   "cell_type": "code",
   "execution_count": 25,
   "metadata": {
    "execution": {
     "iopub.execute_input": "2024-01-25T11:57:27.753514Z",
     "iopub.status.busy": "2024-01-25T11:57:27.752730Z",
     "iopub.status.idle": "2024-01-25T11:57:27.757000Z",
     "shell.execute_reply": "2024-01-25T11:57:27.756336Z",
     "shell.execute_reply.started": "2024-01-25T10:50:16.174352Z"
    },
    "papermill": {
     "duration": 0.099879,
     "end_time": "2024-01-25T11:57:27.757105",
     "exception": false,
     "start_time": "2024-01-25T11:57:27.657226",
     "status": "completed"
    },
    "tags": []
   },
   "outputs": [
    {
     "data": {
      "text/plain": [
       "(40, 18)"
      ]
     },
     "execution_count": 25,
     "metadata": {},
     "output_type": "execute_result"
    }
   ],
   "source": [
    "bike_new.shape"
   ]
  },
  {
   "cell_type": "markdown",
   "metadata": {
    "papermill": {
     "duration": 0.091645,
     "end_time": "2024-01-25T11:57:27.940946",
     "exception": false,
     "start_time": "2024-01-25T11:57:27.849301",
     "status": "completed"
    },
    "tags": []
   },
   "source": [
    "## SPLITTING THE DATA\n",
    "- Splitting the data to Train and Test: - We will now split the data into TRAIN and TEST (70:30 ratio) \n",
    "- We will use train_test_split method from sklearn package for this"
   ]
  },
  {
   "cell_type": "code",
   "execution_count": 26,
   "metadata": {
    "execution": {
     "iopub.execute_input": "2024-01-25T11:57:28.128504Z",
     "iopub.status.busy": "2024-01-25T11:57:28.127715Z",
     "iopub.status.idle": "2024-01-25T11:57:28.131693Z",
     "shell.execute_reply": "2024-01-25T11:57:28.131187Z",
     "shell.execute_reply.started": "2024-01-25T10:50:16.185091Z"
    },
    "papermill": {
     "duration": 0.099546,
     "end_time": "2024-01-25T11:57:28.131796",
     "exception": false,
     "start_time": "2024-01-25T11:57:28.032250",
     "status": "completed"
    },
    "tags": []
   },
   "outputs": [
    {
     "data": {
      "text/plain": [
       "(40, 4)"
      ]
     },
     "execution_count": 26,
     "metadata": {},
     "output_type": "execute_result"
    }
   ],
   "source": [
    "# Check the shape before spliting\n",
    "\n",
    "bike_new_new.shape"
   ]
  },
  {
   "cell_type": "code",
   "execution_count": 27,
   "metadata": {
    "execution": {
     "iopub.execute_input": "2024-01-25T11:57:28.324784Z",
     "iopub.status.busy": "2024-01-25T11:57:28.324028Z",
     "iopub.status.idle": "2024-01-25T11:57:28.327609Z",
     "shell.execute_reply": "2024-01-25T11:57:28.326842Z",
     "shell.execute_reply.started": "2024-01-25T10:50:16.196539Z"
    },
    "papermill": {
     "duration": 0.104089,
     "end_time": "2024-01-25T11:57:28.327714",
     "exception": false,
     "start_time": "2024-01-25T11:57:28.223625",
     "status": "completed"
    },
    "tags": []
   },
   "outputs": [
    {
     "name": "stdout",
     "output_type": "stream",
     "text": [
      "<class 'pandas.core.frame.DataFrame'>\n",
      "RangeIndex: 40 entries, 0 to 39\n",
      "Data columns (total 4 columns):\n",
      " #   Column               Non-Null Count  Dtype  \n",
      "---  ------               --------------  -----  \n",
      " 0   Produktivitas Jeruk  40 non-null     float64\n",
      " 1   Tavg                 40 non-null     float64\n",
      " 2   Min                  40 non-null     float64\n",
      " 3   Max                  40 non-null     float64\n",
      "dtypes: float64(4)\n",
      "memory usage: 1.4 KB\n"
     ]
    }
   ],
   "source": [
    "# Check the info before spliting\n",
    "\n",
    "bike_new_new.info()"
   ]
  },
  {
   "cell_type": "code",
   "execution_count": 28,
   "metadata": {
    "execution": {
     "iopub.execute_input": "2024-01-25T11:57:28.521142Z",
     "iopub.status.busy": "2024-01-25T11:57:28.520348Z",
     "iopub.status.idle": "2024-01-25T11:57:28.611089Z",
     "shell.execute_reply": "2024-01-25T11:57:28.610416Z",
     "shell.execute_reply.started": "2024-01-25T10:50:16.210244Z"
    },
    "papermill": {
     "duration": 0.188475,
     "end_time": "2024-01-25T11:57:28.611194",
     "exception": false,
     "start_time": "2024-01-25T11:57:28.422719",
     "status": "completed"
    },
    "tags": []
   },
   "outputs": [],
   "source": [
    "from sklearn.model_selection import train_test_split\n",
    "\n",
    "# We should specify 'random_state' so that the train and test data set always have the same rows, respectively\n",
    "\n",
    "np.random.seed(0)\n",
    "df_train, df_test = train_test_split(bike_new_new, train_size = 0.70, test_size = 0.30, random_state = 333)"
   ]
  },
  {
   "cell_type": "markdown",
   "metadata": {
    "papermill": {
     "duration": 0.092462,
     "end_time": "2024-01-25T11:57:28.797361",
     "exception": false,
     "start_time": "2024-01-25T11:57:28.704899",
     "status": "completed"
    },
    "tags": []
   },
   "source": [
    "\n",
    "- Verify the info and shape of the dataframes after split:"
   ]
  },
  {
   "cell_type": "code",
   "execution_count": 29,
   "metadata": {
    "execution": {
     "iopub.execute_input": "2024-01-25T11:57:28.992867Z",
     "iopub.status.busy": "2024-01-25T11:57:28.992095Z",
     "iopub.status.idle": "2024-01-25T11:57:28.994998Z",
     "shell.execute_reply": "2024-01-25T11:57:28.995491Z",
     "shell.execute_reply.started": "2024-01-25T10:50:16.220982Z"
    },
    "papermill": {
     "duration": 0.105118,
     "end_time": "2024-01-25T11:57:28.995642",
     "exception": false,
     "start_time": "2024-01-25T11:57:28.890524",
     "status": "completed"
    },
    "tags": []
   },
   "outputs": [
    {
     "name": "stdout",
     "output_type": "stream",
     "text": [
      "<class 'pandas.core.frame.DataFrame'>\n",
      "Int64Index: 28 entries, 1 to 12\n",
      "Data columns (total 4 columns):\n",
      " #   Column               Non-Null Count  Dtype  \n",
      "---  ------               --------------  -----  \n",
      " 0   Produktivitas Jeruk  28 non-null     float64\n",
      " 1   Tavg                 28 non-null     float64\n",
      " 2   Min                  28 non-null     float64\n",
      " 3   Max                  28 non-null     float64\n",
      "dtypes: float64(4)\n",
      "memory usage: 1.1 KB\n"
     ]
    }
   ],
   "source": [
    "df_train.info()"
   ]
  },
  {
   "cell_type": "code",
   "execution_count": 30,
   "metadata": {
    "execution": {
     "iopub.execute_input": "2024-01-25T11:57:29.185600Z",
     "iopub.status.busy": "2024-01-25T11:57:29.184628Z",
     "iopub.status.idle": "2024-01-25T11:57:29.188341Z",
     "shell.execute_reply": "2024-01-25T11:57:29.187866Z",
     "shell.execute_reply.started": "2024-01-25T10:50:16.233336Z"
    },
    "papermill": {
     "duration": 0.100247,
     "end_time": "2024-01-25T11:57:29.188440",
     "exception": false,
     "start_time": "2024-01-25T11:57:29.088193",
     "status": "completed"
    },
    "tags": []
   },
   "outputs": [
    {
     "data": {
      "text/plain": [
       "(28, 4)"
      ]
     },
     "execution_count": 30,
     "metadata": {},
     "output_type": "execute_result"
    }
   ],
   "source": [
    "df_train.shape"
   ]
  },
  {
   "cell_type": "code",
   "execution_count": 31,
   "metadata": {
    "execution": {
     "iopub.execute_input": "2024-01-25T11:57:29.399620Z",
     "iopub.status.busy": "2024-01-25T11:57:29.398761Z",
     "iopub.status.idle": "2024-01-25T11:57:29.401975Z",
     "shell.execute_reply": "2024-01-25T11:57:29.402513Z",
     "shell.execute_reply.started": "2024-01-25T10:50:16.245275Z"
    },
    "papermill": {
     "duration": 0.117369,
     "end_time": "2024-01-25T11:57:29.402660",
     "exception": false,
     "start_time": "2024-01-25T11:57:29.285291",
     "status": "completed"
    },
    "tags": []
   },
   "outputs": [
    {
     "name": "stdout",
     "output_type": "stream",
     "text": [
      "<class 'pandas.core.frame.DataFrame'>\n",
      "Int64Index: 12 entries, 31 to 0\n",
      "Data columns (total 4 columns):\n",
      " #   Column               Non-Null Count  Dtype  \n",
      "---  ------               --------------  -----  \n",
      " 0   Produktivitas Jeruk  12 non-null     float64\n",
      " 1   Tavg                 12 non-null     float64\n",
      " 2   Min                  12 non-null     float64\n",
      " 3   Max                  12 non-null     float64\n",
      "dtypes: float64(4)\n",
      "memory usage: 480.0 bytes\n"
     ]
    }
   ],
   "source": [
    "df_test.info()"
   ]
  },
  {
   "cell_type": "code",
   "execution_count": 32,
   "metadata": {
    "execution": {
     "iopub.execute_input": "2024-01-25T11:57:29.614919Z",
     "iopub.status.busy": "2024-01-25T11:57:29.614088Z",
     "iopub.status.idle": "2024-01-25T11:57:29.618363Z",
     "shell.execute_reply": "2024-01-25T11:57:29.617868Z",
     "shell.execute_reply.started": "2024-01-25T10:50:16.258354Z"
    },
    "papermill": {
     "duration": 0.109048,
     "end_time": "2024-01-25T11:57:29.618464",
     "exception": false,
     "start_time": "2024-01-25T11:57:29.509416",
     "status": "completed"
    },
    "tags": []
   },
   "outputs": [
    {
     "data": {
      "text/plain": [
       "(12, 4)"
      ]
     },
     "execution_count": 32,
     "metadata": {},
     "output_type": "execute_result"
    }
   ],
   "source": [
    "df_test.shape"
   ]
  },
  {
   "cell_type": "markdown",
   "metadata": {
    "papermill": {
     "duration": 0.09763,
     "end_time": "2024-01-25T11:57:29.814685",
     "exception": false,
     "start_time": "2024-01-25T11:57:29.717055",
     "status": "completed"
    },
    "tags": []
   },
   "source": [
    "# EXPLORATORY DATA ANALYSIS"
   ]
  },
  {
   "cell_type": "markdown",
   "metadata": {
    "papermill": {
     "duration": 0.094187,
     "end_time": "2024-01-25T11:57:30.004027",
     "exception": false,
     "start_time": "2024-01-25T11:57:29.909840",
     "status": "completed"
    },
    "tags": []
   },
   "source": [
    "\n",
    "- We need to  perform the EDA on TRAINING (df_train) Dataset."
   ]
  },
  {
   "cell_type": "markdown",
   "metadata": {
    "papermill": {
     "duration": 0.093997,
     "end_time": "2024-01-25T11:57:30.191354",
     "exception": false,
     "start_time": "2024-01-25T11:57:30.097357",
     "status": "completed"
    },
    "tags": []
   },
   "source": [
    "## Visualising Numeric Variables\n",
    "Let's make a pairplot of all the numeric variables."
   ]
  },
  {
   "cell_type": "code",
   "execution_count": 33,
   "metadata": {
    "execution": {
     "iopub.execute_input": "2024-01-25T11:57:30.389013Z",
     "iopub.status.busy": "2024-01-25T11:57:30.388309Z",
     "iopub.status.idle": "2024-01-25T11:57:30.391881Z",
     "shell.execute_reply": "2024-01-25T11:57:30.391338Z",
     "shell.execute_reply.started": "2024-01-25T10:50:16.271159Z"
    },
    "papermill": {
     "duration": 0.105204,
     "end_time": "2024-01-25T11:57:30.392000",
     "exception": false,
     "start_time": "2024-01-25T11:57:30.286796",
     "status": "completed"
    },
    "tags": []
   },
   "outputs": [
    {
     "name": "stdout",
     "output_type": "stream",
     "text": [
      "<class 'pandas.core.frame.DataFrame'>\n",
      "Int64Index: 28 entries, 1 to 12\n",
      "Data columns (total 4 columns):\n",
      " #   Column               Non-Null Count  Dtype  \n",
      "---  ------               --------------  -----  \n",
      " 0   Produktivitas Jeruk  28 non-null     float64\n",
      " 1   Tavg                 28 non-null     float64\n",
      " 2   Min                  28 non-null     float64\n",
      " 3   Max                  28 non-null     float64\n",
      "dtypes: float64(4)\n",
      "memory usage: 1.1 KB\n"
     ]
    }
   ],
   "source": [
    "df_train.info()"
   ]
  },
  {
   "cell_type": "code",
   "execution_count": 34,
   "metadata": {
    "execution": {
     "iopub.execute_input": "2024-01-25T11:57:30.585942Z",
     "iopub.status.busy": "2024-01-25T11:57:30.585182Z",
     "iopub.status.idle": "2024-01-25T11:57:30.588621Z",
     "shell.execute_reply": "2024-01-25T11:57:30.589128Z",
     "shell.execute_reply.started": "2024-01-25T10:50:16.289823Z"
    },
    "papermill": {
     "duration": 0.102696,
     "end_time": "2024-01-25T11:57:30.589243",
     "exception": false,
     "start_time": "2024-01-25T11:57:30.486547",
     "status": "completed"
    },
    "tags": []
   },
   "outputs": [
    {
     "data": {
      "text/plain": [
       "Index(['Produktivitas Jeruk', 'Tavg', 'Min', 'Max'], dtype='object')"
      ]
     },
     "execution_count": 34,
     "metadata": {},
     "output_type": "execute_result"
    }
   ],
   "source": [
    "df_train.columns"
   ]
  },
  {
   "cell_type": "code",
   "execution_count": 35,
   "metadata": {
    "execution": {
     "iopub.execute_input": "2024-01-25T11:57:30.787810Z",
     "iopub.status.busy": "2024-01-25T11:57:30.787157Z",
     "iopub.status.idle": "2024-01-25T11:57:34.739400Z",
     "shell.execute_reply": "2024-01-25T11:57:34.739976Z",
     "shell.execute_reply.started": "2024-01-25T10:50:16.297005Z"
    },
    "papermill": {
     "duration": 4.054553,
     "end_time": "2024-01-25T11:57:34.740133",
     "exception": false,
     "start_time": "2024-01-25T11:57:30.685580",
     "status": "completed"
    },
    "tags": []
   },
   "outputs": [
    {
     "data": {
      "image/png": "[encoded data removed]",
      "text/plain": [
       "<Figure size 720x720 with 20 Axes>"
      ]
     },
     "metadata": {
      "needs_background": "light"
     },
     "output_type": "display_data"
    }
   ],
   "source": [
    "# Create a new dataframe of only numeric variables:\n",
    "\n",
    "bike_num=df_train[['Produktivitas Jeruk', 'Tavg',\n",
    "       'Min', 'Max']]\n",
    "\n",
    "sns.pairplot(bike_num, diag_kind='kde')\n",
    "plt.show()"
   ]
  },
  {
   "cell_type": "markdown",
   "metadata": {
    "papermill": {
     "duration": 0.095996,
     "end_time": "2024-01-25T11:57:34.933703",
     "exception": false,
     "start_time": "2024-01-25T11:57:34.837707",
     "status": "completed"
    },
    "tags": []
   },
   "source": [
    "### Insights\n",
    "- The above Pair-Plot tells us that there is a LINEAR RELATION between 'temp','atemp' and 'cnt' "
   ]
  },
  {
   "cell_type": "markdown",
   "metadata": {
    "papermill": {
     "duration": 0.095824,
     "end_time": "2024-01-25T11:57:35.127509",
     "exception": false,
     "start_time": "2024-01-25T11:57:35.031685",
     "status": "completed"
    },
    "tags": []
   },
   "source": [
    "## Visualising Catagorical Variables"
   ]
  },
  {
   "cell_type": "code",
   "execution_count": 36,
   "metadata": {
    "execution": {
     "iopub.execute_input": "2024-01-25T11:57:35.330049Z",
     "iopub.status.busy": "2024-01-25T11:57:35.329366Z",
     "iopub.status.idle": "2024-01-25T11:57:35.332699Z",
     "shell.execute_reply": "2024-01-25T11:57:35.332095Z",
     "shell.execute_reply.started": "2024-01-25T10:50:20.225644Z"
    },
    "papermill": {
     "duration": 0.109006,
     "end_time": "2024-01-25T11:57:35.332804",
     "exception": false,
     "start_time": "2024-01-25T11:57:35.223798",
     "status": "completed"
    },
    "tags": []
   },
   "outputs": [
    {
     "name": "stdout",
     "output_type": "stream",
     "text": [
      "<class 'pandas.core.frame.DataFrame'>\n",
      "Int64Index: 28 entries, 1 to 12\n",
      "Data columns (total 4 columns):\n",
      " #   Column               Non-Null Count  Dtype  \n",
      "---  ------               --------------  -----  \n",
      " 0   Produktivitas Jeruk  28 non-null     float64\n",
      " 1   Tavg                 28 non-null     float64\n",
      " 2   Min                  28 non-null     float64\n",
      " 3   Max                  28 non-null     float64\n",
      "dtypes: float64(4)\n",
      "memory usage: 2.3 KB\n"
     ]
    }
   ],
   "source": [
    "df_train.info()"
   ]
  },
  {
   "cell_type": "code",
   "execution_count": 37,
   "metadata": {
    "execution": {
     "iopub.execute_input": "2024-01-25T11:57:35.541796Z",
     "iopub.status.busy": "2024-01-25T11:57:35.540400Z",
     "iopub.status.idle": "2024-01-25T11:57:35.933043Z",
     "shell.execute_reply": "2024-01-25T11:57:35.932488Z",
     "shell.execute_reply.started": "2024-01-25T10:50:20.235278Z"
    },
    "papermill": {
     "duration": 0.502554,
     "end_time": "2024-01-25T11:57:35.933159",
     "exception": false,
     "start_time": "2024-01-25T11:57:35.430605",
     "status": "completed"
    },
    "tags": []
   },
   "outputs": [
    {
     "data": {
      "image/png": "[encoded data removed]",
      "text/plain": [
       "<Figure size 1800x720 with 2 Axes>"
      ]
     },
     "metadata": {
      "needs_background": "light"
     },
     "output_type": "display_data"
    }
   ],
   "source": [
    "# Build boxplot of all categorical variables (before creating dummies) againt the target variable 'cnt' \n",
    "# to see how each of the predictor variable stackup against the target variable.\n",
    "\n",
    "plt.figure(figsize=(25, 10))\n",
    "plt.subplot(2,3,1)\n",
    "sns.boxplot(x = 'Year', y = 'Produktivitas Jeruk', data = bike)\n",
    "plt.subplot(2,3,2)\n",
    "sns.boxplot(x = 'Periode', y = 'Produktivitas Jeruk', data = bike)\n",
    "plt.show()"
   ]
  },
  {
   "cell_type": "markdown",
   "metadata": {
    "papermill": {
     "duration": 0.097592,
     "end_time": "2024-01-25T11:57:36.129890",
     "exception": false,
     "start_time": "2024-01-25T11:57:36.032298",
     "status": "completed"
    },
    "tags": []
   },
   "source": [
    "### Insights\n",
    "There were 6 categorical variables in the dataset. \n",
    "\n",
    "We used Box plot (refer the fig above) to study their effect on the dependent variable (‘cnt’) . \n",
    "\n",
    "The inference that We could derive were: \n",
    "- **season**: Almost 32% of the bike booking were happening in season3 with a median of over 5000 booking (for the period of 2 years). This was followed by season2 & season4 with 27% & 25% of total booking. This indicates, season can be a good predictor for the dependent variable.\n",
    "\n",
    "- **mnth**: Almost 10% of the bike booking were happening in the months 5,6,7,8 & 9 with a median of over 4000 booking per month. This indicates, mnth has some trend for bookings and can be a good predictor for the dependent variable. \n",
    "- **weathersit**: Almost 67% of the bike booking were happening during ‘weathersit1 with a median of close to 5000 booking (for the period of 2 years). This was followed by weathersit2 with 30% of total booking. This indicates, weathersit does show some trend towards the bike bookings can be a good predictor for the dependent variable.\n",
    "- **holiday**: Almost 97.6% of the bike booking were happening when it is not a holiday which means this data is clearly biased. This indicates, holiday CANNOT be a good predictor for the dependent variable. \n",
    "- **weekday**: weekday variable shows very close trend (between 13.5%-14.8% of total booking on all days of the week) having their independent medians between 4000 to 5000 bookings. This variable can have some or no influence towards the predictor. I will let the model decide if this needs to be added or not.\n",
    "- **workingday**: Almost 69% of the bike booking were happening in ‘workingday’ with a median of close to 5000 booking (for the period of 2 years). This indicates, workingday can be a good predictor for the dependent variable"
   ]
  },
  {
   "cell_type": "markdown",
   "metadata": {
    "papermill": {
     "duration": 0.098306,
     "end_time": "2024-01-25T11:57:36.325414",
     "exception": false,
     "start_time": "2024-01-25T11:57:36.227108",
     "status": "completed"
    },
    "tags": []
   },
   "source": [
    "## Correlation Matrix"
   ]
  },
  {
   "cell_type": "code",
   "execution_count": 38,
   "metadata": {
    "execution": {
     "iopub.execute_input": "2024-01-25T11:57:36.530851Z",
     "iopub.status.busy": "2024-01-25T11:57:36.530130Z",
     "iopub.status.idle": "2024-01-25T11:57:36.828033Z",
     "shell.execute_reply": "2024-01-25T11:57:36.827383Z",
     "shell.execute_reply.started": "2024-01-25T10:50:20.631310Z"
    },
    "papermill": {
     "duration": 0.404728,
     "end_time": "2024-01-25T11:57:36.828144",
     "exception": false,
     "start_time": "2024-01-25T11:57:36.423416",
     "status": "completed"
    },
    "tags": []
   },
   "outputs": [
    {
     "data": {
      "image/png": "[encoded data removed]",
      "text/plain": [
       "<Figure size 1800x1440 with 2 Axes>"
      ]
     },
     "metadata": {
      "needs_background": "light"
     },
     "output_type": "display_data"
    }
   ],
   "source": [
    "# Let's check the correlation coefficients to see which variables are highly correlated. Note:\n",
    "# here we are considering only those variables (dataframe: bike_new) that were chosen for analysis\n",
    "\n",
    "plt.figure(figsize = (25,20))\n",
    "sns.heatmap(bike_new_new.corr(), annot = True, cmap=\"RdBu\")\n",
    "plt.show()"
   ]
  },
  {
   "cell_type": "markdown",
   "metadata": {
    "papermill": {
     "duration": 0.09894,
     "end_time": "2024-01-25T11:57:37.026431",
     "exception": false,
     "start_time": "2024-01-25T11:57:36.927491",
     "status": "completed"
    },
    "tags": []
   },
   "source": [
    "### Insights:\n",
    " - The heatmap clearly shows which all variable are multicollinear in nature, and which variable have high collinearity with the target variable.\n",
    " - We will refer this map back-and-forth while building the linear model so as to validate different correlated values along with VIF & p-value, for identifying the correct variable to select/eliminate from the model."
   ]
  },
  {
   "cell_type": "markdown",
   "metadata": {
    "papermill": {
     "duration": 0.098578,
     "end_time": "2024-01-25T11:57:37.223730",
     "exception": false,
     "start_time": "2024-01-25T11:57:37.125152",
     "status": "completed"
    },
    "tags": []
   },
   "source": [
    "# RESCALING THE FEATURES"
   ]
  },
  {
   "cell_type": "code",
   "execution_count": 39,
   "metadata": {
    "execution": {
     "iopub.execute_input": "2024-01-25T11:57:37.427574Z",
     "iopub.status.busy": "2024-01-25T11:57:37.426645Z",
     "iopub.status.idle": "2024-01-25T11:57:37.429573Z",
     "shell.execute_reply": "2024-01-25T11:57:37.429065Z",
     "shell.execute_reply.started": "2024-01-25T10:50:20.931902Z"
    },
    "papermill": {
     "duration": 0.105816,
     "end_time": "2024-01-25T11:57:37.429681",
     "exception": false,
     "start_time": "2024-01-25T11:57:37.323865",
     "status": "completed"
    },
    "tags": []
   },
   "outputs": [],
   "source": [
    "from sklearn.preprocessing import MinMaxScaler"
   ]
  },
  {
   "cell_type": "code",
   "execution_count": 40,
   "metadata": {
    "execution": {
     "iopub.execute_input": "2024-01-25T11:57:37.633294Z",
     "iopub.status.busy": "2024-01-25T11:57:37.632386Z",
     "iopub.status.idle": "2024-01-25T11:57:37.635357Z",
     "shell.execute_reply": "2024-01-25T11:57:37.634874Z",
     "shell.execute_reply.started": "2024-01-25T10:50:20.937125Z"
    },
    "papermill": {
     "duration": 0.106479,
     "end_time": "2024-01-25T11:57:37.635461",
     "exception": false,
     "start_time": "2024-01-25T11:57:37.528982",
     "status": "completed"
    },
    "tags": []
   },
   "outputs": [],
   "source": [
    "scaler = MinMaxScaler()"
   ]
  },
  {
   "cell_type": "code",
   "execution_count": 41,
   "metadata": {
    "execution": {
     "iopub.execute_input": "2024-01-25T11:57:37.843373Z",
     "iopub.status.busy": "2024-01-25T11:57:37.842721Z",
     "iopub.status.idle": "2024-01-25T11:57:37.846867Z",
     "shell.execute_reply": "2024-01-25T11:57:37.846283Z",
     "shell.execute_reply.started": "2024-01-25T10:50:20.947668Z"
    },
    "papermill": {
     "duration": 0.112743,
     "end_time": "2024-01-25T11:57:37.846963",
     "exception": false,
     "start_time": "2024-01-25T11:57:37.734220",
     "status": "completed"
    },
    "scrolled": true,
    "tags": []
   },
   "outputs": [
    {
     "data": {
      "text/html": [
       "<div>\n",
       "<style scoped>\n",
       "    .dataframe tbody tr th:only-of-type {\n",
       "        vertical-align: middle;\n",
       "    }\n",
       "\n",
       "    .dataframe tbody tr th {\n",
       "        vertical-align: top;\n",
       "    }\n",
       "\n",
       "    .dataframe thead th {\n",
       "        text-align: right;\n",
       "    }\n",
       "</style>\n",
       "<table border=\"1\" class=\"dataframe\">\n",
       "  <thead>\n",
       "    <tr style=\"text-align: right;\">\n",
       "      <th></th>\n",
       "      <th>Produktivitas Jeruk</th>\n",
       "      <th>Tavg</th>\n",
       "      <th>Min</th>\n",
       "      <th>Max</th>\n",
       "    </tr>\n",
       "  </thead>\n",
       "  <tbody>\n",
       "    <tr>\n",
       "      <th>1</th>\n",
       "      <td>0.10</td>\n",
       "      <td>26.00</td>\n",
       "      <td>24.0</td>\n",
       "      <td>28.0</td>\n",
       "    </tr>\n",
       "    <tr>\n",
       "      <th>14</th>\n",
       "      <td>0.16</td>\n",
       "      <td>26.00</td>\n",
       "      <td>24.0</td>\n",
       "      <td>29.0</td>\n",
       "    </tr>\n",
       "    <tr>\n",
       "      <th>36</th>\n",
       "      <td>0.00</td>\n",
       "      <td>25.67</td>\n",
       "      <td>24.0</td>\n",
       "      <td>28.0</td>\n",
       "    </tr>\n",
       "    <tr>\n",
       "      <th>11</th>\n",
       "      <td>0.26</td>\n",
       "      <td>27.00</td>\n",
       "      <td>24.0</td>\n",
       "      <td>30.0</td>\n",
       "    </tr>\n",
       "    <tr>\n",
       "      <th>18</th>\n",
       "      <td>0.25</td>\n",
       "      <td>27.33</td>\n",
       "      <td>25.0</td>\n",
       "      <td>30.0</td>\n",
       "    </tr>\n",
       "  </tbody>\n",
       "</table>\n",
       "</div>"
      ],
      "text/plain": [
       "    Produktivitas Jeruk   Tavg   Min   Max\n",
       "1                  0.10  26.00  24.0  28.0\n",
       "14                 0.16  26.00  24.0  29.0\n",
       "36                 0.00  25.67  24.0  28.0\n",
       "11                 0.26  27.00  24.0  30.0\n",
       "18                 0.25  27.33  25.0  30.0"
      ]
     },
     "execution_count": 41,
     "metadata": {},
     "output_type": "execute_result"
    }
   ],
   "source": [
    "# Checking the values before scaling\n",
    "df_train.head()"
   ]
  },
  {
   "cell_type": "code",
   "execution_count": 42,
   "metadata": {
    "execution": {
     "iopub.execute_input": "2024-01-25T11:57:38.050187Z",
     "iopub.status.busy": "2024-01-25T11:57:38.049325Z",
     "iopub.status.idle": "2024-01-25T11:57:38.052944Z",
     "shell.execute_reply": "2024-01-25T11:57:38.052310Z",
     "shell.execute_reply.started": "2024-01-25T10:50:20.966134Z"
    },
    "papermill": {
     "duration": 0.107002,
     "end_time": "2024-01-25T11:57:38.053047",
     "exception": false,
     "start_time": "2024-01-25T11:57:37.946045",
     "status": "completed"
    },
    "tags": []
   },
   "outputs": [
    {
     "data": {
      "text/plain": [
       "Index(['Produktivitas Jeruk', 'Tavg', 'Min', 'Max'], dtype='object')"
      ]
     },
     "execution_count": 42,
     "metadata": {},
     "output_type": "execute_result"
    }
   ],
   "source": [
    "df_train.columns"
   ]
  },
  {
   "cell_type": "code",
   "execution_count": 43,
   "metadata": {
    "execution": {
     "iopub.execute_input": "2024-01-25T11:57:38.262851Z",
     "iopub.status.busy": "2024-01-25T11:57:38.262249Z",
     "iopub.status.idle": "2024-01-25T11:57:38.265147Z",
     "shell.execute_reply": "2024-01-25T11:57:38.264669Z",
     "shell.execute_reply.started": "2024-01-25T10:50:20.977269Z"
    },
    "papermill": {
     "duration": 0.112474,
     "end_time": "2024-01-25T11:57:38.265263",
     "exception": false,
     "start_time": "2024-01-25T11:57:38.152789",
     "status": "completed"
    },
    "tags": []
   },
   "outputs": [],
   "source": [
    "# Apply scaler() to all the numeric variables\n",
    "\n",
    "num_vars = ['Produktivitas Jeruk', 'Tavg',\n",
    "       'Min', 'Max']\n",
    "\n",
    "df_train[num_vars] = scaler.fit_transform(df_train[num_vars])"
   ]
  },
  {
   "cell_type": "code",
   "execution_count": 44,
   "metadata": {
    "execution": {
     "iopub.execute_input": "2024-01-25T11:57:38.477193Z",
     "iopub.status.busy": "2024-01-25T11:57:38.473591Z",
     "iopub.status.idle": "2024-01-25T11:57:38.480952Z",
     "shell.execute_reply": "2024-01-25T11:57:38.480470Z",
     "shell.execute_reply.started": "2024-01-25T10:50:20.991104Z"
    },
    "papermill": {
     "duration": 0.113573,
     "end_time": "2024-01-25T11:57:38.481052",
     "exception": false,
     "start_time": "2024-01-25T11:57:38.367479",
     "status": "completed"
    },
    "tags": []
   },
   "outputs": [
    {
     "data": {
      "text/html": [
       "<div>\n",
       "<style scoped>\n",
       "    .dataframe tbody tr th:only-of-type {\n",
       "        vertical-align: middle;\n",
       "    }\n",
       "\n",
       "    .dataframe tbody tr th {\n",
       "        vertical-align: top;\n",
       "    }\n",
       "\n",
       "    .dataframe thead th {\n",
       "        text-align: right;\n",
       "    }\n",
       "</style>\n",
       "<table border=\"1\" class=\"dataframe\">\n",
       "  <thead>\n",
       "    <tr style=\"text-align: right;\">\n",
       "      <th></th>\n",
       "      <th>Produktivitas Jeruk</th>\n",
       "      <th>Tavg</th>\n",
       "      <th>Min</th>\n",
       "      <th>Max</th>\n",
       "    </tr>\n",
       "  </thead>\n",
       "  <tbody>\n",
       "    <tr>\n",
       "      <th>1</th>\n",
       "      <td>0.117647</td>\n",
       "      <td>0.333333</td>\n",
       "      <td>0.333333</td>\n",
       "      <td>0.000000</td>\n",
       "    </tr>\n",
       "    <tr>\n",
       "      <th>14</th>\n",
       "      <td>0.188235</td>\n",
       "      <td>0.333333</td>\n",
       "      <td>0.333333</td>\n",
       "      <td>0.333333</td>\n",
       "    </tr>\n",
       "    <tr>\n",
       "      <th>36</th>\n",
       "      <td>0.000000</td>\n",
       "      <td>0.223333</td>\n",
       "      <td>0.333333</td>\n",
       "      <td>0.000000</td>\n",
       "    </tr>\n",
       "    <tr>\n",
       "      <th>11</th>\n",
       "      <td>0.305882</td>\n",
       "      <td>0.666667</td>\n",
       "      <td>0.333333</td>\n",
       "      <td>0.666667</td>\n",
       "    </tr>\n",
       "    <tr>\n",
       "      <th>18</th>\n",
       "      <td>0.294118</td>\n",
       "      <td>0.776667</td>\n",
       "      <td>0.666667</td>\n",
       "      <td>0.666667</td>\n",
       "    </tr>\n",
       "  </tbody>\n",
       "</table>\n",
       "</div>"
      ],
      "text/plain": [
       "    Produktivitas Jeruk      Tavg       Min       Max\n",
       "1              0.117647  0.333333  0.333333  0.000000\n",
       "14             0.188235  0.333333  0.333333  0.333333\n",
       "36             0.000000  0.223333  0.333333  0.000000\n",
       "11             0.305882  0.666667  0.333333  0.666667\n",
       "18             0.294118  0.776667  0.666667  0.666667"
      ]
     },
     "execution_count": 44,
     "metadata": {},
     "output_type": "execute_result"
    }
   ],
   "source": [
    "# Checking values after scaling\n",
    "df_train.head()"
   ]
  },
  {
   "cell_type": "code",
   "execution_count": 45,
   "metadata": {
    "execution": {
     "iopub.execute_input": "2024-01-25T11:57:38.691107Z",
     "iopub.status.busy": "2024-01-25T11:57:38.689021Z",
     "iopub.status.idle": "2024-01-25T11:57:38.707478Z",
     "shell.execute_reply": "2024-01-25T11:57:38.706878Z",
     "shell.execute_reply.started": "2024-01-25T10:50:21.006858Z"
    },
    "papermill": {
     "duration": 0.125716,
     "end_time": "2024-01-25T11:57:38.707606",
     "exception": false,
     "start_time": "2024-01-25T11:57:38.581890",
     "status": "completed"
    },
    "tags": []
   },
   "outputs": [
    {
     "data": {
      "text/html": [
       "<div>\n",
       "<style scoped>\n",
       "    .dataframe tbody tr th:only-of-type {\n",
       "        vertical-align: middle;\n",
       "    }\n",
       "\n",
       "    .dataframe tbody tr th {\n",
       "        vertical-align: top;\n",
       "    }\n",
       "\n",
       "    .dataframe thead th {\n",
       "        text-align: right;\n",
       "    }\n",
       "</style>\n",
       "<table border=\"1\" class=\"dataframe\">\n",
       "  <thead>\n",
       "    <tr style=\"text-align: right;\">\n",
       "      <th></th>\n",
       "      <th>Produktivitas Jeruk</th>\n",
       "      <th>Tavg</th>\n",
       "      <th>Min</th>\n",
       "      <th>Max</th>\n",
       "    </tr>\n",
       "  </thead>\n",
       "  <tbody>\n",
       "    <tr>\n",
       "      <th>count</th>\n",
       "      <td>28.000000</td>\n",
       "      <td>28.000000</td>\n",
       "      <td>28.000000</td>\n",
       "      <td>28.000000</td>\n",
       "    </tr>\n",
       "    <tr>\n",
       "      <th>mean</th>\n",
       "      <td>0.233613</td>\n",
       "      <td>0.547738</td>\n",
       "      <td>0.559524</td>\n",
       "      <td>0.404762</td>\n",
       "    </tr>\n",
       "    <tr>\n",
       "      <th>std</th>\n",
       "      <td>0.232085</td>\n",
       "      <td>0.290092</td>\n",
       "      <td>0.287655</td>\n",
       "      <td>0.277513</td>\n",
       "    </tr>\n",
       "    <tr>\n",
       "      <th>min</th>\n",
       "      <td>0.000000</td>\n",
       "      <td>0.000000</td>\n",
       "      <td>0.000000</td>\n",
       "      <td>0.000000</td>\n",
       "    </tr>\n",
       "    <tr>\n",
       "      <th>25%</th>\n",
       "      <td>0.117647</td>\n",
       "      <td>0.333333</td>\n",
       "      <td>0.333333</td>\n",
       "      <td>0.333333</td>\n",
       "    </tr>\n",
       "    <tr>\n",
       "      <th>50%</th>\n",
       "      <td>0.182353</td>\n",
       "      <td>0.556667</td>\n",
       "      <td>0.666667</td>\n",
       "      <td>0.333333</td>\n",
       "    </tr>\n",
       "    <tr>\n",
       "      <th>75%</th>\n",
       "      <td>0.294118</td>\n",
       "      <td>0.776667</td>\n",
       "      <td>0.666667</td>\n",
       "      <td>0.666667</td>\n",
       "    </tr>\n",
       "    <tr>\n",
       "      <th>max</th>\n",
       "      <td>1.000000</td>\n",
       "      <td>1.000000</td>\n",
       "      <td>1.000000</td>\n",
       "      <td>1.000000</td>\n",
       "    </tr>\n",
       "  </tbody>\n",
       "</table>\n",
       "</div>"
      ],
      "text/plain": [
       "       Produktivitas Jeruk       Tavg        Min        Max\n",
       "count            28.000000  28.000000  28.000000  28.000000\n",
       "mean              0.233613   0.547738   0.559524   0.404762\n",
       "std               0.232085   0.290092   0.287655   0.277513\n",
       "min               0.000000   0.000000   0.000000   0.000000\n",
       "25%               0.117647   0.333333   0.333333   0.333333\n",
       "50%               0.182353   0.556667   0.666667   0.333333\n",
       "75%               0.294118   0.776667   0.666667   0.666667\n",
       "max               1.000000   1.000000   1.000000   1.000000"
      ]
     },
     "execution_count": 45,
     "metadata": {},
     "output_type": "execute_result"
    }
   ],
   "source": [
    "df_train.describe()"
   ]
  },
  {
   "cell_type": "markdown",
   "metadata": {
    "papermill": {
     "duration": 0.100153,
     "end_time": "2024-01-25T11:57:38.908844",
     "exception": false,
     "start_time": "2024-01-25T11:57:38.808691",
     "status": "completed"
    },
    "tags": []
   },
   "source": [
    "# BUILDING A LINEAR MODEL"
   ]
  },
  {
   "cell_type": "markdown",
   "metadata": {
    "papermill": {
     "duration": 0.100398,
     "end_time": "2024-01-25T11:57:39.110423",
     "exception": false,
     "start_time": "2024-01-25T11:57:39.010025",
     "status": "completed"
    },
    "tags": []
   },
   "source": [
    "## Dividing into X and Y sets for the model building"
   ]
  },
  {
   "cell_type": "code",
   "execution_count": 46,
   "metadata": {
    "execution": {
     "iopub.execute_input": "2024-01-25T11:57:39.321459Z",
     "iopub.status.busy": "2024-01-25T11:57:39.320439Z",
     "iopub.status.idle": "2024-01-25T11:57:39.322239Z",
     "shell.execute_reply": "2024-01-25T11:57:39.322776Z",
     "shell.execute_reply.started": "2024-01-25T10:50:21.032699Z"
    },
    "papermill": {
     "duration": 0.11154,
     "end_time": "2024-01-25T11:57:39.322945",
     "exception": false,
     "start_time": "2024-01-25T11:57:39.211405",
     "status": "completed"
    },
    "tags": []
   },
   "outputs": [],
   "source": [
    "y_train = df_train.pop('Produktivitas Jeruk')\n",
    "X_train = df_train"
   ]
  },
  {
   "cell_type": "markdown",
   "metadata": {
    "papermill": {
     "duration": 0.100539,
     "end_time": "2024-01-25T11:57:39.523998",
     "exception": false,
     "start_time": "2024-01-25T11:57:39.423459",
     "status": "completed"
    },
    "tags": []
   },
   "source": [
    "### RFE\n",
    "Recursive feature elimination: We will be using the **LinearRegression function from SciKit Learn**  for its compatibility with RFE (which is a utility from sklearn)"
   ]
  },
  {
   "cell_type": "code",
   "execution_count": 47,
   "metadata": {
    "execution": {
     "iopub.execute_input": "2024-01-25T11:57:39.729816Z",
     "iopub.status.busy": "2024-01-25T11:57:39.729172Z",
     "iopub.status.idle": "2024-01-25T11:57:39.848399Z",
     "shell.execute_reply": "2024-01-25T11:57:39.847898Z",
     "shell.execute_reply.started": "2024-01-25T10:50:21.038348Z"
    },
    "papermill": {
     "duration": 0.223293,
     "end_time": "2024-01-25T11:57:39.848509",
     "exception": false,
     "start_time": "2024-01-25T11:57:39.625216",
     "status": "completed"
    },
    "tags": []
   },
   "outputs": [],
   "source": [
    "# Importing RFE and LinearRegression\n",
    "from sklearn.feature_selection import RFE\n",
    "from sklearn.linear_model import LinearRegression"
   ]
  },
  {
   "cell_type": "code",
   "execution_count": 48,
   "metadata": {
    "execution": {
     "iopub.execute_input": "2024-01-25T11:57:40.079942Z",
     "iopub.status.busy": "2024-01-25T11:57:40.079216Z",
     "iopub.status.idle": "2024-01-25T11:57:40.081996Z",
     "shell.execute_reply": "2024-01-25T11:57:40.081464Z",
     "shell.execute_reply.started": "2024-01-25T10:50:21.048628Z"
    },
    "papermill": {
     "duration": 0.133293,
     "end_time": "2024-01-25T11:57:40.082096",
     "exception": false,
     "start_time": "2024-01-25T11:57:39.948803",
     "status": "completed"
    },
    "tags": []
   },
   "outputs": [],
   "source": [
    "# Running RFE with the output number of the variable equal to 15\n",
    "lm = LinearRegression()\n",
    "lm.fit(X_train, y_train)\n",
    "\n",
    "rfe = RFE(lm, 15)             # running RFE\n",
    "rfe = rfe.fit(X_train, y_train)"
   ]
  },
  {
   "cell_type": "code",
   "execution_count": 49,
   "metadata": {
    "execution": {
     "iopub.execute_input": "2024-01-25T11:57:40.289643Z",
     "iopub.status.busy": "2024-01-25T11:57:40.288828Z",
     "iopub.status.idle": "2024-01-25T11:57:40.292825Z",
     "shell.execute_reply": "2024-01-25T11:57:40.292167Z",
     "shell.execute_reply.started": "2024-01-25T10:50:21.064267Z"
    },
    "papermill": {
     "duration": 0.110115,
     "end_time": "2024-01-25T11:57:40.292952",
     "exception": false,
     "start_time": "2024-01-25T11:57:40.182837",
     "status": "completed"
    },
    "tags": []
   },
   "outputs": [
    {
     "data": {
      "text/plain": [
       "[('Tavg', True, 1), ('Min', True, 1), ('Max', True, 1)]"
      ]
     },
     "execution_count": 49,
     "metadata": {},
     "output_type": "execute_result"
    }
   ],
   "source": [
    "list(zip(X_train.columns,rfe.support_,rfe.ranking_))"
   ]
  },
  {
   "cell_type": "code",
   "execution_count": 50,
   "metadata": {
    "execution": {
     "iopub.execute_input": "2024-01-25T11:57:40.501691Z",
     "iopub.status.busy": "2024-01-25T11:57:40.500851Z",
     "iopub.status.idle": "2024-01-25T11:57:40.504833Z",
     "shell.execute_reply": "2024-01-25T11:57:40.504197Z",
     "shell.execute_reply.started": "2024-01-25T10:50:21.076638Z"
    },
    "papermill": {
     "duration": 0.109067,
     "end_time": "2024-01-25T11:57:40.504935",
     "exception": false,
     "start_time": "2024-01-25T11:57:40.395868",
     "status": "completed"
    },
    "tags": []
   },
   "outputs": [
    {
     "data": {
      "text/plain": [
       "Index(['Tavg', 'Min', 'Max'], dtype='object')"
      ]
     },
     "execution_count": 50,
     "metadata": {},
     "output_type": "execute_result"
    }
   ],
   "source": [
    "col = X_train.columns[rfe.support_]\n",
    "col"
   ]
  },
  {
   "cell_type": "code",
   "execution_count": 51,
   "metadata": {
    "execution": {
     "iopub.execute_input": "2024-01-25T11:57:40.713216Z",
     "iopub.status.busy": "2024-01-25T11:57:40.712223Z",
     "iopub.status.idle": "2024-01-25T11:57:40.716382Z",
     "shell.execute_reply": "2024-01-25T11:57:40.715822Z",
     "shell.execute_reply.started": "2024-01-25T10:50:21.088478Z"
    },
    "papermill": {
     "duration": 0.110364,
     "end_time": "2024-01-25T11:57:40.716479",
     "exception": false,
     "start_time": "2024-01-25T11:57:40.606115",
     "status": "completed"
    },
    "tags": []
   },
   "outputs": [
    {
     "data": {
      "text/plain": [
       "Index([], dtype='object')"
      ]
     },
     "execution_count": 51,
     "metadata": {},
     "output_type": "execute_result"
    }
   ],
   "source": [
    "X_train.columns[~rfe.support_]"
   ]
  },
  {
   "cell_type": "code",
   "execution_count": 52,
   "metadata": {
    "execution": {
     "iopub.execute_input": "2024-01-25T11:57:40.926979Z",
     "iopub.status.busy": "2024-01-25T11:57:40.925999Z",
     "iopub.status.idle": "2024-01-25T11:57:40.928848Z",
     "shell.execute_reply": "2024-01-25T11:57:40.928317Z",
     "shell.execute_reply.started": "2024-01-25T10:50:21.100492Z"
    },
    "papermill": {
     "duration": 0.110745,
     "end_time": "2024-01-25T11:57:40.928957",
     "exception": false,
     "start_time": "2024-01-25T11:57:40.818212",
     "status": "completed"
    },
    "tags": []
   },
   "outputs": [],
   "source": [
    "# Creating X_test dataframe with RFE selected variables\n",
    "X_train_rfe = X_train[col]"
   ]
  },
  {
   "cell_type": "code",
   "execution_count": 53,
   "metadata": {
    "execution": {
     "iopub.execute_input": "2024-01-25T11:57:41.136792Z",
     "iopub.status.busy": "2024-01-25T11:57:41.135853Z",
     "iopub.status.idle": "2024-01-25T11:57:41.138726Z",
     "shell.execute_reply": "2024-01-25T11:57:41.138085Z",
     "shell.execute_reply.started": "2024-01-25T10:50:21.107179Z"
    },
    "papermill": {
     "duration": 0.107924,
     "end_time": "2024-01-25T11:57:41.138829",
     "exception": false,
     "start_time": "2024-01-25T11:57:41.030905",
     "status": "completed"
    },
    "tags": []
   },
   "outputs": [],
   "source": [
    "from scipy import stats\n",
    "import matplotlib.pyplot as plt"
   ]
  },
  {
   "cell_type": "code",
   "execution_count": 54,
   "metadata": {
    "execution": {
     "iopub.execute_input": "2024-01-25T11:57:41.348864Z",
     "iopub.status.busy": "2024-01-25T11:57:41.348230Z",
     "iopub.status.idle": "2024-01-25T11:57:41.351725Z",
     "shell.execute_reply": "2024-01-25T11:57:41.351161Z",
     "shell.execute_reply.started": "2024-01-25T10:50:21.117509Z"
    },
    "papermill": {
     "duration": 0.111091,
     "end_time": "2024-01-25T11:57:41.351825",
     "exception": false,
     "start_time": "2024-01-25T11:57:41.240734",
     "status": "completed"
    },
    "tags": []
   },
   "outputs": [
    {
     "name": "stdout",
     "output_type": "stream",
     "text": [
      "Shapiro-Wilk test statistic: 0.9167323708534241\n",
      "Shapiro-Wilk test p-value: 4.463293953449465e-05\n"
     ]
    }
   ],
   "source": [
    "statistic, pvalue = stats.shapiro(X_train_rfe)\n",
    "\n",
    "print(\"Shapiro-Wilk test statistic:\", statistic)\n",
    "print(\"Shapiro-Wilk test p-value:\", pvalue)"
   ]
  },
  {
   "cell_type": "markdown",
   "metadata": {
    "papermill": {
     "duration": 0.102052,
     "end_time": "2024-01-25T11:57:41.555729",
     "exception": false,
     "start_time": "2024-01-25T11:57:41.453677",
     "status": "completed"
    },
    "tags": []
   },
   "source": [
    "# Building Linear Model using 'STATS MODEL'"
   ]
  },
  {
   "cell_type": "markdown",
   "metadata": {
    "papermill": {
     "duration": 0.102026,
     "end_time": "2024-01-25T11:57:41.762874",
     "exception": false,
     "start_time": "2024-01-25T11:57:41.660848",
     "status": "completed"
    },
    "tags": []
   },
   "source": [
    "## Model 1"
   ]
  },
  {
   "cell_type": "markdown",
   "metadata": {
    "papermill": {
     "duration": 0.101489,
     "end_time": "2024-01-25T11:57:41.966399",
     "exception": false,
     "start_time": "2024-01-25T11:57:41.864910",
     "status": "completed"
    },
    "tags": []
   },
   "source": [
    "### VIF Check"
   ]
  },
  {
   "cell_type": "code",
   "execution_count": 55,
   "metadata": {
    "execution": {
     "iopub.execute_input": "2024-01-25T11:57:42.176958Z",
     "iopub.status.busy": "2024-01-25T11:57:42.176306Z",
     "iopub.status.idle": "2024-01-25T11:57:42.269783Z",
     "shell.execute_reply": "2024-01-25T11:57:42.269149Z",
     "shell.execute_reply.started": "2024-01-25T10:50:21.127742Z"
    },
    "papermill": {
     "duration": 0.20118,
     "end_time": "2024-01-25T11:57:42.269898",
     "exception": false,
     "start_time": "2024-01-25T11:57:42.068718",
     "status": "completed"
    },
    "tags": []
   },
   "outputs": [
    {
     "data": {
      "text/html": [
       "<div>\n",
       "<style scoped>\n",
       "    .dataframe tbody tr th:only-of-type {\n",
       "        vertical-align: middle;\n",
       "    }\n",
       "\n",
       "    .dataframe tbody tr th {\n",
       "        vertical-align: top;\n",
       "    }\n",
       "\n",
       "    .dataframe thead th {\n",
       "        text-align: right;\n",
       "    }\n",
       "</style>\n",
       "<table border=\"1\" class=\"dataframe\">\n",
       "  <thead>\n",
       "    <tr style=\"text-align: right;\">\n",
       "      <th></th>\n",
       "      <th>Features</th>\n",
       "      <th>VIF</th>\n",
       "    </tr>\n",
       "  </thead>\n",
       "  <tbody>\n",
       "    <tr>\n",
       "      <th>0</th>\n",
       "      <td>Tavg</td>\n",
       "      <td>32.56</td>\n",
       "    </tr>\n",
       "    <tr>\n",
       "      <th>1</th>\n",
       "      <td>Min</td>\n",
       "      <td>19.04</td>\n",
       "    </tr>\n",
       "    <tr>\n",
       "      <th>2</th>\n",
       "      <td>Max</td>\n",
       "      <td>6.68</td>\n",
       "    </tr>\n",
       "  </tbody>\n",
       "</table>\n",
       "</div>"
      ],
      "text/plain": [
       "  Features    VIF\n",
       "0     Tavg  32.56\n",
       "1      Min  19.04\n",
       "2      Max   6.68"
      ]
     },
     "execution_count": 55,
     "metadata": {},
     "output_type": "execute_result"
    }
   ],
   "source": [
    "# Check for the VIF values of the feature variables. \n",
    "from statsmodels.stats.outliers_influence import variance_inflation_factor\n",
    "\n",
    "# Create a dataframe that will contain the names of all the feature variables and their respective VIFs\n",
    "vif = pd.DataFrame()\n",
    "vif['Features'] = X_train_rfe.columns\n",
    "vif['VIF'] = [variance_inflation_factor(X_train_rfe.values, i) for i in range(X_train_rfe.shape[1])]\n",
    "vif['VIF'] = round(vif['VIF'], 2)\n",
    "vif = vif.sort_values(by = \"VIF\", ascending = False)\n",
    "vif"
   ]
  },
  {
   "cell_type": "code",
   "execution_count": 56,
   "metadata": {
    "execution": {
     "iopub.execute_input": "2024-01-25T11:57:42.483406Z",
     "iopub.status.busy": "2024-01-25T11:57:42.482786Z",
     "iopub.status.idle": "2024-01-25T11:57:43.006816Z",
     "shell.execute_reply": "2024-01-25T11:57:43.006099Z",
     "shell.execute_reply.started": "2024-01-25T10:50:21.149374Z"
    },
    "papermill": {
     "duration": 0.632279,
     "end_time": "2024-01-25T11:57:43.006935",
     "exception": false,
     "start_time": "2024-01-25T11:57:42.374656",
     "status": "completed"
    },
    "tags": []
   },
   "outputs": [],
   "source": [
    "import statsmodels.api as sm\n",
    "\n",
    "# Add a constant\n",
    "X_train_lm1 = sm.add_constant(X_train_rfe)\n",
    "\n",
    "# Create a first fitted model\n",
    "lr1 = sm.OLS(y_train, X_train_lm1).fit()"
   ]
  },
  {
   "cell_type": "code",
   "execution_count": 57,
   "metadata": {
    "execution": {
     "iopub.execute_input": "2024-01-25T11:57:43.219998Z",
     "iopub.status.busy": "2024-01-25T11:57:43.219246Z",
     "iopub.status.idle": "2024-01-25T11:57:43.223188Z",
     "shell.execute_reply": "2024-01-25T11:57:43.222496Z",
     "shell.execute_reply.started": "2024-01-25T10:50:21.159327Z"
    },
    "papermill": {
     "duration": 0.112529,
     "end_time": "2024-01-25T11:57:43.223309",
     "exception": false,
     "start_time": "2024-01-25T11:57:43.110780",
     "status": "completed"
    },
    "tags": []
   },
   "outputs": [
    {
     "data": {
      "text/plain": [
       "const    0.049589\n",
       "Tavg    -0.242165\n",
       "Min      0.320642\n",
       "Max      0.339113\n",
       "dtype: float64"
      ]
     },
     "execution_count": 57,
     "metadata": {},
     "output_type": "execute_result"
    }
   ],
   "source": [
    "# Check the parameters obtained\n",
    "\n",
    "lr1.params"
   ]
  },
  {
   "cell_type": "code",
   "execution_count": 58,
   "metadata": {
    "execution": {
     "iopub.execute_input": "2024-01-25T11:57:43.449144Z",
     "iopub.status.busy": "2024-01-25T11:57:43.444187Z",
     "iopub.status.idle": "2024-01-25T11:57:43.453134Z",
     "shell.execute_reply": "2024-01-25T11:57:43.452488Z",
     "shell.execute_reply.started": "2024-01-25T10:50:21.170365Z"
    },
    "papermill": {
     "duration": 0.122052,
     "end_time": "2024-01-25T11:57:43.453238",
     "exception": false,
     "start_time": "2024-01-25T11:57:43.331186",
     "status": "completed"
    },
    "tags": []
   },
   "outputs": [
    {
     "name": "stdout",
     "output_type": "stream",
     "text": [
      "                             OLS Regression Results                            \n",
      "===============================================================================\n",
      "Dep. Variable:     Produktivitas Jeruk   R-squared:                       0.165\n",
      "Model:                             OLS   Adj. R-squared:                  0.061\n",
      "Method:                  Least Squares   F-statistic:                     1.582\n",
      "Date:                 Thu, 25 Jan 2024   Prob (F-statistic):              0.220\n",
      "Time:                         11:57:43   Log-Likelihood:                 4.2036\n",
      "No. Observations:                   28   AIC:                           -0.4071\n",
      "Df Residuals:                       24   BIC:                             4.922\n",
      "Df Model:                            3                                         \n",
      "Covariance Type:             nonrobust                                         \n",
      "==============================================================================\n",
      "                 coef    std err          t      P>|t|      [0.025      0.975]\n",
      "------------------------------------------------------------------------------\n",
      "const          0.0496      0.101      0.491      0.628      -0.159       0.258\n",
      "Tavg          -0.2422      0.394     -0.615      0.545      -1.055       0.571\n",
      "Min            0.3206      0.321      0.998      0.328      -0.343       0.984\n",
      "Max            0.3391      0.236      1.437      0.164      -0.148       0.826\n",
      "==============================================================================\n",
      "Omnibus:                       11.754   Durbin-Watson:                   2.101\n",
      "Prob(Omnibus):                  0.003   Jarque-Bera (JB):               10.782\n",
      "Skew:                           1.227   Prob(JB):                      0.00456\n",
      "Kurtosis:                       4.795   Cond. No.                         16.6\n",
      "==============================================================================\n",
      "\n",
      "Warnings:\n",
      "[1] Standard Errors assume that the covariance matrix of the errors is correctly specified.\n"
     ]
    }
   ],
   "source": [
    "# Print a summary of the linear regression model obtained\n",
    "print(lr1.summary())"
   ]
  },
  {
   "cell_type": "markdown",
   "metadata": {
    "papermill": {
     "duration": 0.103483,
     "end_time": "2024-01-25T11:57:43.660508",
     "exception": false,
     "start_time": "2024-01-25T11:57:43.557025",
     "status": "completed"
    },
    "tags": []
   },
   "source": [
    "## Model 2"
   ]
  },
  {
   "cell_type": "markdown",
   "metadata": {
    "papermill": {
     "duration": 0.102949,
     "end_time": "2024-01-25T11:57:43.867094",
     "exception": false,
     "start_time": "2024-01-25T11:57:43.764145",
     "status": "completed"
    },
    "tags": []
   },
   "source": [
    "- Removing the variable 'Min' based on its High p-value & High VIF"
   ]
  },
  {
   "cell_type": "code",
   "execution_count": 59,
   "metadata": {
    "execution": {
     "iopub.execute_input": "2024-01-25T11:57:44.078829Z",
     "iopub.status.busy": "2024-01-25T11:57:44.078159Z",
     "iopub.status.idle": "2024-01-25T11:57:44.080979Z",
     "shell.execute_reply": "2024-01-25T11:57:44.080441Z",
     "shell.execute_reply.started": "2024-01-25T10:50:21.189526Z"
    },
    "papermill": {
     "duration": 0.111015,
     "end_time": "2024-01-25T11:57:44.081085",
     "exception": false,
     "start_time": "2024-01-25T11:57:43.970070",
     "status": "completed"
    },
    "tags": []
   },
   "outputs": [],
   "source": [
    "X_train_new = X_train_rfe.drop(\"Min\", axis = 1)"
   ]
  },
  {
   "cell_type": "markdown",
   "metadata": {
    "papermill": {
     "duration": 0.107422,
     "end_time": "2024-01-25T11:57:44.291671",
     "exception": false,
     "start_time": "2024-01-25T11:57:44.184249",
     "status": "completed"
    },
    "tags": []
   },
   "source": [
    "### VIF Check"
   ]
  },
  {
   "cell_type": "code",
   "execution_count": 60,
   "metadata": {
    "execution": {
     "iopub.execute_input": "2024-01-25T11:57:44.525482Z",
     "iopub.status.busy": "2024-01-25T11:57:44.524555Z",
     "iopub.status.idle": "2024-01-25T11:57:44.536085Z",
     "shell.execute_reply": "2024-01-25T11:57:44.535442Z",
     "shell.execute_reply.started": "2024-01-25T10:50:21.200716Z"
    },
    "papermill": {
     "duration": 0.125233,
     "end_time": "2024-01-25T11:57:44.536210",
     "exception": false,
     "start_time": "2024-01-25T11:57:44.410977",
     "status": "completed"
    },
    "tags": []
   },
   "outputs": [
    {
     "data": {
      "text/html": [
       "<div>\n",
       "<style scoped>\n",
       "    .dataframe tbody tr th:only-of-type {\n",
       "        vertical-align: middle;\n",
       "    }\n",
       "\n",
       "    .dataframe tbody tr th {\n",
       "        vertical-align: top;\n",
       "    }\n",
       "\n",
       "    .dataframe thead th {\n",
       "        text-align: right;\n",
       "    }\n",
       "</style>\n",
       "<table border=\"1\" class=\"dataframe\">\n",
       "  <thead>\n",
       "    <tr style=\"text-align: right;\">\n",
       "      <th></th>\n",
       "      <th>Features</th>\n",
       "      <th>VIF</th>\n",
       "    </tr>\n",
       "  </thead>\n",
       "  <tbody>\n",
       "    <tr>\n",
       "      <th>0</th>\n",
       "      <td>Tavg</td>\n",
       "      <td>5.51</td>\n",
       "    </tr>\n",
       "    <tr>\n",
       "      <th>1</th>\n",
       "      <td>Max</td>\n",
       "      <td>5.51</td>\n",
       "    </tr>\n",
       "  </tbody>\n",
       "</table>\n",
       "</div>"
      ],
      "text/plain": [
       "  Features   VIF\n",
       "0     Tavg  5.51\n",
       "1      Max  5.51"
      ]
     },
     "execution_count": 60,
     "metadata": {},
     "output_type": "execute_result"
    }
   ],
   "source": [
    "# Check for the VIF values of the feature variables. \n",
    "from statsmodels.stats.outliers_influence import variance_inflation_factor\n",
    "\n",
    "# Create a dataframe that will contain the names of all the feature variables and their respective VIFs\n",
    "vif = pd.DataFrame()\n",
    "vif['Features'] = X_train_new.columns\n",
    "vif['VIF'] = [variance_inflation_factor(X_train_new.values, i) for i in range(X_train_new.shape[1])]\n",
    "vif['VIF'] = round(vif['VIF'], 2)\n",
    "vif = vif.sort_values(by = \"VIF\", ascending = False)\n",
    "vif"
   ]
  },
  {
   "cell_type": "code",
   "execution_count": 61,
   "metadata": {
    "execution": {
     "iopub.execute_input": "2024-01-25T11:57:44.754498Z",
     "iopub.status.busy": "2024-01-25T11:57:44.753753Z",
     "iopub.status.idle": "2024-01-25T11:57:44.756654Z",
     "shell.execute_reply": "2024-01-25T11:57:44.757112Z",
     "shell.execute_reply.started": "2024-01-25T10:50:21.221514Z"
    },
    "papermill": {
     "duration": 0.114657,
     "end_time": "2024-01-25T11:57:44.757237",
     "exception": false,
     "start_time": "2024-01-25T11:57:44.642580",
     "status": "completed"
    },
    "tags": []
   },
   "outputs": [],
   "source": [
    "# Add a constant\n",
    "X_train_lm2 = sm.add_constant(X_train_new)\n",
    "\n",
    "# Create a first fitted model\n",
    "lr2 = sm.OLS(y_train, X_train_lm2).fit()"
   ]
  },
  {
   "cell_type": "code",
   "execution_count": 62,
   "metadata": {
    "execution": {
     "iopub.execute_input": "2024-01-25T11:57:44.971931Z",
     "iopub.status.busy": "2024-01-25T11:57:44.971249Z",
     "iopub.status.idle": "2024-01-25T11:57:44.974747Z",
     "shell.execute_reply": "2024-01-25T11:57:44.974118Z",
     "shell.execute_reply.started": "2024-01-25T10:50:21.230304Z"
    },
    "papermill": {
     "duration": 0.113735,
     "end_time": "2024-01-25T11:57:44.974861",
     "exception": false,
     "start_time": "2024-01-25T11:57:44.861126",
     "status": "completed"
    },
    "tags": []
   },
   "outputs": [
    {
     "data": {
      "text/plain": [
       "const    0.088913\n",
       "Tavg     0.097867\n",
       "Max      0.225058\n",
       "dtype: float64"
      ]
     },
     "execution_count": 62,
     "metadata": {},
     "output_type": "execute_result"
    }
   ],
   "source": [
    "# Check the parameters obtained\n",
    "\n",
    "lr2.params"
   ]
  },
  {
   "cell_type": "code",
   "execution_count": 63,
   "metadata": {
    "execution": {
     "iopub.execute_input": "2024-01-25T11:57:45.192356Z",
     "iopub.status.busy": "2024-01-25T11:57:45.190982Z",
     "iopub.status.idle": "2024-01-25T11:57:45.201153Z",
     "shell.execute_reply": "2024-01-25T11:57:45.200563Z",
     "shell.execute_reply.started": "2024-01-25T10:50:21.241642Z"
    },
    "papermill": {
     "duration": 0.121841,
     "end_time": "2024-01-25T11:57:45.201264",
     "exception": false,
     "start_time": "2024-01-25T11:57:45.079423",
     "status": "completed"
    },
    "tags": []
   },
   "outputs": [
    {
     "name": "stdout",
     "output_type": "stream",
     "text": [
      "                             OLS Regression Results                            \n",
      "===============================================================================\n",
      "Dep. Variable:     Produktivitas Jeruk   R-squared:                       0.130\n",
      "Model:                             OLS   Adj. R-squared:                  0.061\n",
      "Method:                  Least Squares   F-statistic:                     1.876\n",
      "Date:                 Thu, 25 Jan 2024   Prob (F-statistic):              0.174\n",
      "Time:                         11:57:45   Log-Likelihood:                 3.6348\n",
      "No. Observations:                   28   AIC:                            -1.270\n",
      "Df Residuals:                       25   BIC:                             2.727\n",
      "Df Model:                            2                                         \n",
      "Covariance Type:             nonrobust                                         \n",
      "==============================================================================\n",
      "                 coef    std err          t      P>|t|      [0.025      0.975]\n",
      "------------------------------------------------------------------------------\n",
      "const          0.0889      0.093      0.956      0.348      -0.103       0.280\n",
      "Tavg           0.0979      0.197      0.496      0.624      -0.309       0.504\n",
      "Max            0.2251      0.206      1.091      0.286      -0.200       0.650\n",
      "==============================================================================\n",
      "Omnibus:                       16.427   Durbin-Watson:                   2.215\n",
      "Prob(Omnibus):                  0.000   Jarque-Bera (JB):               18.115\n",
      "Skew:                           1.557   Prob(JB):                     0.000117\n",
      "Kurtosis:                       5.415   Cond. No.                         7.53\n",
      "==============================================================================\n",
      "\n",
      "Warnings:\n",
      "[1] Standard Errors assume that the covariance matrix of the errors is correctly specified.\n"
     ]
    }
   ],
   "source": [
    "# Print a summary of the linear regression model obtained\n",
    "print(lr2.summary())"
   ]
  },
  {
   "cell_type": "markdown",
   "metadata": {
    "papermill": {
     "duration": 0.107555,
     "end_time": "2024-01-25T11:57:45.418623",
     "exception": false,
     "start_time": "2024-01-25T11:57:45.311068",
     "status": "completed"
    },
    "tags": []
   },
   "source": [
    "- Removing the variable 'mnth_3' based on its High 'p-value'."
   ]
  },
  {
   "cell_type": "markdown",
   "metadata": {
    "papermill": {
     "duration": 0.104102,
     "end_time": "2024-01-25T11:57:45.627155",
     "exception": false,
     "start_time": "2024-01-25T11:57:45.523053",
     "status": "completed"
    },
    "tags": []
   },
   "source": [
    "# Final Model Interpretation"
   ]
  },
  {
   "cell_type": "markdown",
   "metadata": {
    "papermill": {
     "duration": 0.104535,
     "end_time": "2024-01-25T11:57:45.837367",
     "exception": false,
     "start_time": "2024-01-25T11:57:45.732832",
     "status": "completed"
    },
    "tags": []
   },
   "source": [
    "## Hypothesis Testing:"
   ]
  },
  {
   "cell_type": "markdown",
   "metadata": {
    "papermill": {
     "duration": 0.103583,
     "end_time": "2024-01-25T11:57:46.045409",
     "exception": false,
     "start_time": "2024-01-25T11:57:45.941826",
     "status": "completed"
    },
    "tags": []
   },
   "source": [
    "Hypothesis testing states that:\n",
    "- H0:B1=B2=...=Bn=0 \n",
    "- H1:  at least one  Bi!=0"
   ]
  },
  {
   "cell_type": "markdown",
   "metadata": {
    "papermill": {
     "duration": 0.103955,
     "end_time": "2024-01-25T11:57:46.253759",
     "exception": false,
     "start_time": "2024-01-25T11:57:46.149804",
     "status": "completed"
    },
    "tags": []
   },
   "source": [
    "### lr6 model coefficient values"
   ]
  },
  {
   "cell_type": "markdown",
   "metadata": {
    "papermill": {
     "duration": 0.104987,
     "end_time": "2024-01-25T11:57:46.465999",
     "exception": false,
     "start_time": "2024-01-25T11:57:46.361012",
     "status": "completed"
    },
    "tags": []
   },
   "source": [
    "- const 0.0889\n",
    "- Tavg 0.979\n",
    "- Max 0.2251\n"
   ]
  },
  {
   "cell_type": "markdown",
   "metadata": {
    "papermill": {
     "duration": 0.104507,
     "end_time": "2024-01-25T11:57:46.675238",
     "exception": false,
     "start_time": "2024-01-25T11:57:46.570731",
     "status": "completed"
    },
    "tags": []
   },
   "source": [
    "### Insights\n",
    "- From the lr2 model summary, it is evident that all our coefficients are not equal to zerowhich means **We REJECT the NULL HYPOTHESIS**\n",
    "    "
   ]
  },
  {
   "cell_type": "markdown",
   "metadata": {
    "papermill": {
     "duration": 0.103936,
     "end_time": "2024-01-25T11:57:46.885383",
     "exception": false,
     "start_time": "2024-01-25T11:57:46.781447",
     "status": "completed"
    },
    "tags": []
   },
   "source": [
    "### F Statistics"
   ]
  },
  {
   "cell_type": "markdown",
   "metadata": {
    "papermill": {
     "duration": 0.104271,
     "end_time": "2024-01-25T11:57:47.093959",
     "exception": false,
     "start_time": "2024-01-25T11:57:46.989688",
     "status": "completed"
    },
    "tags": []
   },
   "source": [
    "F-Statistics is used for testing the overall significance of the Model: Higher the F-Statistics, more significant the Model is.\n",
    "\n",
    "- F-statistic: 1.876\n",
    "- Prob (F-statistic): 0.174\n",
    "\n",
    "The F-Statistics value of 1.876 (which is greater than 1) and the p-value is not '~0.0000' states that the overall model is ***not significant***"
   ]
  },
  {
   "cell_type": "markdown",
   "metadata": {
    "papermill": {
     "duration": 0.104437,
     "end_time": "2024-01-25T11:57:47.302832",
     "exception": false,
     "start_time": "2024-01-25T11:57:47.198395",
     "status": "completed"
    },
    "tags": []
   },
   "source": [
    "## The equation of best fitted surface based on model lr6:"
   ]
  },
  {
   "cell_type": "markdown",
   "metadata": {
    "papermill": {
     "duration": 0.104199,
     "end_time": "2024-01-25T11:57:47.512336",
     "exception": false,
     "start_time": "2024-01-25T11:57:47.408137",
     "status": "completed"
    },
    "tags": []
   },
   "source": [
    "cnt = 0.0889 + (**Tavg** × 0.979) + (**Max** × 0.2251) "
   ]
  },
  {
   "cell_type": "markdown",
   "metadata": {
    "papermill": {
     "duration": 0.105132,
     "end_time": "2024-01-25T11:57:47.722192",
     "exception": false,
     "start_time": "2024-01-25T11:57:47.617060",
     "status": "completed"
    },
    "tags": []
   },
   "source": [
    "## Interpretation of Coefficients:\n",
    "**Tavg:** A coefficient value of ‘0.979’ Menandakan bahwa setiap rata-rata suhu yang bertambah akan berpengaruh kepada produktivitas jeruk sebesar 90% namun tidak secara langsung.\n",
    "\n",
    "**Max:** A coefficient value of ‘0.2251’ Menandakan bahwa setiap suhu maksimum yang bertambah 20% secara tidak langsung akan berpengaruh kepada produktivitas jeruk.\n"
   ]
  },
  {
   "cell_type": "markdown",
   "metadata": {
    "papermill": {
     "duration": 0.10389,
     "end_time": "2024-01-25T11:57:47.930496",
     "exception": false,
     "start_time": "2024-01-25T11:57:47.826606",
     "status": "completed"
    },
    "tags": []
   },
   "source": [
    "# ASSUMPTIONS "
   ]
  },
  {
   "cell_type": "markdown",
   "metadata": {
    "papermill": {
     "duration": 0.104946,
     "end_time": "2024-01-25T11:57:48.139664",
     "exception": false,
     "start_time": "2024-01-25T11:57:48.034718",
     "status": "completed"
    },
    "tags": []
   },
   "source": [
    "## Error terms are normally distributed with mean zero (not X, Y)\n",
    "- Residual Analysis Of Training Data"
   ]
  },
  {
   "cell_type": "code",
   "execution_count": 64,
   "metadata": {
    "execution": {
     "iopub.execute_input": "2024-01-25T11:57:48.354586Z",
     "iopub.status.busy": "2024-01-25T11:57:48.353883Z",
     "iopub.status.idle": "2024-01-25T11:57:48.356714Z",
     "shell.execute_reply": "2024-01-25T11:57:48.356093Z",
     "shell.execute_reply.started": "2024-01-25T10:50:21.260677Z"
    },
    "papermill": {
     "duration": 0.113001,
     "end_time": "2024-01-25T11:57:48.356813",
     "exception": false,
     "start_time": "2024-01-25T11:57:48.243812",
     "status": "completed"
    },
    "tags": []
   },
   "outputs": [],
   "source": [
    "y_train_pred = lr2.predict(X_train_lm2)"
   ]
  },
  {
   "cell_type": "code",
   "execution_count": 65,
   "metadata": {
    "execution": {
     "iopub.execute_input": "2024-01-25T11:57:48.576605Z",
     "iopub.status.busy": "2024-01-25T11:57:48.571038Z",
     "iopub.status.idle": "2024-01-25T11:57:48.766631Z",
     "shell.execute_reply": "2024-01-25T11:57:48.766056Z",
     "shell.execute_reply.started": "2024-01-25T10:50:21.270498Z"
    },
    "papermill": {
     "duration": 0.305999,
     "end_time": "2024-01-25T11:57:48.766740",
     "exception": false,
     "start_time": "2024-01-25T11:57:48.460741",
     "status": "completed"
    },
    "tags": []
   },
   "outputs": [
    {
     "data": {
      "text/plain": [
       "Text(0.5, 0, 'Errors')"
      ]
     },
     "execution_count": 65,
     "metadata": {},
     "output_type": "execute_result"
    },
    {
     "data": {
      "image/png": "[encoded data removed]",
      "text/plain": [
       "<Figure size 432x288 with 1 Axes>"
      ]
     },
     "metadata": {
      "needs_background": "light"
     },
     "output_type": "display_data"
    }
   ],
   "source": [
    "res = y_train-y_train_pred\n",
    "# Plot the histogram of the error terms\n",
    "fig = plt.figure()\n",
    "sns.distplot((res), bins = 20)\n",
    "fig.suptitle('Error Terms', fontsize = 20)                  # Plot heading \n",
    "plt.xlabel('Errors', fontsize = 18)                         # X-label"
   ]
  },
  {
   "cell_type": "markdown",
   "metadata": {
    "papermill": {
     "duration": 0.105557,
     "end_time": "2024-01-25T11:57:48.979144",
     "exception": false,
     "start_time": "2024-01-25T11:57:48.873587",
     "status": "completed"
    },
    "tags": []
   },
   "source": [
    "### Insights\n",
    "- From the above histogram, we could see that the Residuals tidak terdistribusi secara normal."
   ]
  },
  {
   "cell_type": "markdown",
   "metadata": {
    "papermill": {
     "duration": 0.106351,
     "end_time": "2024-01-25T11:57:49.190391",
     "exception": false,
     "start_time": "2024-01-25T11:57:49.084040",
     "status": "completed"
    },
    "tags": []
   },
   "source": [
    "## There is no linear relationship between X and Y"
   ]
  },
  {
   "cell_type": "code",
   "execution_count": 66,
   "metadata": {
    "execution": {
     "iopub.execute_input": "2024-01-25T11:57:49.414081Z",
     "iopub.status.busy": "2024-01-25T11:57:49.412131Z",
     "iopub.status.idle": "2024-01-25T11:57:53.410019Z",
     "shell.execute_reply": "2024-01-25T11:57:53.410528Z",
     "shell.execute_reply.started": "2024-01-25T10:50:21.472037Z"
    },
    "papermill": {
     "duration": 4.114859,
     "end_time": "2024-01-25T11:57:53.410698",
     "exception": false,
     "start_time": "2024-01-25T11:57:49.295839",
     "status": "completed"
    },
    "tags": []
   },
   "outputs": [
    {
     "data": {
      "image/png": "[encoded data removed]",
      "text/plain": [
       "<Figure size 720x720 with 20 Axes>"
      ]
     },
     "metadata": {
      "needs_background": "light"
     },
     "output_type": "display_data"
    }
   ],
   "source": [
    "bike_new=bike_new[['Produktivitas Jeruk', 'Min', 'Max', 'Tavg']]\n",
    "\n",
    "sns.pairplot(bike_num, diag_kind='kde')\n",
    "plt.show()"
   ]
  },
  {
   "cell_type": "markdown",
   "metadata": {
    "papermill": {
     "duration": 0.108841,
     "end_time": "2024-01-25T11:57:53.629645",
     "exception": false,
     "start_time": "2024-01-25T11:57:53.520804",
     "status": "completed"
    },
    "tags": []
   },
   "source": [
    "## Insight\n",
    "- Using the pair plot, we could see there is a linear relation between temp and atemp variable with the predictor ‘cnt’."
   ]
  },
  {
   "cell_type": "markdown",
   "metadata": {
    "papermill": {
     "duration": 0.108272,
     "end_time": "2024-01-25T11:57:53.848331",
     "exception": false,
     "start_time": "2024-01-25T11:57:53.740059",
     "status": "completed"
    },
    "tags": []
   },
   "source": [
    "## There is No Multicollinearity between the predictor variables"
   ]
  },
  {
   "cell_type": "code",
   "execution_count": 67,
   "metadata": {
    "execution": {
     "iopub.execute_input": "2024-01-25T11:57:54.081795Z",
     "iopub.status.busy": "2024-01-25T11:57:54.080814Z",
     "iopub.status.idle": "2024-01-25T11:57:54.084474Z",
     "shell.execute_reply": "2024-01-25T11:57:54.083999Z",
     "shell.execute_reply.started": "2024-01-25T10:50:25.631442Z"
    },
    "papermill": {
     "duration": 0.12837,
     "end_time": "2024-01-25T11:57:54.084590",
     "exception": false,
     "start_time": "2024-01-25T11:57:53.956220",
     "status": "completed"
    },
    "tags": []
   },
   "outputs": [
    {
     "data": {
      "text/html": [
       "<div>\n",
       "<style scoped>\n",
       "    .dataframe tbody tr th:only-of-type {\n",
       "        vertical-align: middle;\n",
       "    }\n",
       "\n",
       "    .dataframe tbody tr th {\n",
       "        vertical-align: top;\n",
       "    }\n",
       "\n",
       "    .dataframe thead th {\n",
       "        text-align: right;\n",
       "    }\n",
       "</style>\n",
       "<table border=\"1\" class=\"dataframe\">\n",
       "  <thead>\n",
       "    <tr style=\"text-align: right;\">\n",
       "      <th></th>\n",
       "      <th>Features</th>\n",
       "      <th>VIF</th>\n",
       "    </tr>\n",
       "  </thead>\n",
       "  <tbody>\n",
       "    <tr>\n",
       "      <th>0</th>\n",
       "      <td>Tavg</td>\n",
       "      <td>5.51</td>\n",
       "    </tr>\n",
       "    <tr>\n",
       "      <th>1</th>\n",
       "      <td>Max</td>\n",
       "      <td>5.51</td>\n",
       "    </tr>\n",
       "  </tbody>\n",
       "</table>\n",
       "</div>"
      ],
      "text/plain": [
       "  Features   VIF\n",
       "0     Tavg  5.51\n",
       "1      Max  5.51"
      ]
     },
     "execution_count": 67,
     "metadata": {},
     "output_type": "execute_result"
    }
   ],
   "source": [
    "# Check for the VIF values of the feature variables. \n",
    "from statsmodels.stats.outliers_influence import variance_inflation_factor\n",
    "\n",
    "# Create a dataframe that will contain the names of all the feature variables and their respective VIFs\n",
    "vif = pd.DataFrame()\n",
    "vif['Features'] = X_train_new.columns\n",
    "vif['VIF'] = [variance_inflation_factor(X_train_new.values, i) for i in range(X_train_new.shape[1])]\n",
    "vif['VIF'] = round(vif['VIF'], 2)\n",
    "vif = vif.sort_values(by = \"VIF\", ascending = False)\n",
    "vif"
   ]
  },
  {
   "cell_type": "markdown",
   "metadata": {
    "papermill": {
     "duration": 0.118706,
     "end_time": "2024-01-25T11:57:54.315256",
     "exception": false,
     "start_time": "2024-01-25T11:57:54.196550",
     "status": "completed"
    },
    "tags": []
   },
   "source": [
    "## Insight\n",
    "\n",
    " - From the VIF calculation we could find that there is no multicollinearity existing between the predictor variables, as all the values are within permissible range of below 10"
   ]
  },
  {
   "cell_type": "markdown",
   "metadata": {
    "papermill": {
     "duration": 0.108222,
     "end_time": "2024-01-25T11:57:54.545987",
     "exception": false,
     "start_time": "2024-01-25T11:57:54.437765",
     "status": "completed"
    },
    "tags": []
   },
   "source": [
    "# MAKING PREDICTION USING FINAL MODEL\n",
    "\n",
    "Now that we have fitted the model and checked the assumptions, it's time to go ahead and make predictions using the final model (lr6)\n",
    "\n",
    "### Applying the scaling on the test sets"
   ]
  },
  {
   "cell_type": "code",
   "execution_count": 68,
   "metadata": {
    "execution": {
     "iopub.execute_input": "2024-01-25T11:57:54.771897Z",
     "iopub.status.busy": "2024-01-25T11:57:54.771122Z",
     "iopub.status.idle": "2024-01-25T11:57:54.773860Z",
     "shell.execute_reply": "2024-01-25T11:57:54.773241Z",
     "shell.execute_reply.started": "2024-01-25T10:50:25.651046Z"
    },
    "papermill": {
     "duration": 0.119648,
     "end_time": "2024-01-25T11:57:54.773958",
     "exception": false,
     "start_time": "2024-01-25T11:57:54.654310",
     "status": "completed"
    },
    "tags": []
   },
   "outputs": [],
   "source": [
    "# Apply scaler() to all numeric variables in test dataset. Note: we will only use scaler.transform, \n",
    "# as we want to use the metrics that the model learned from the training data to be applied on the test data. \n",
    "# In other words, we want to prevent the information leak from train to test dataset.\n",
    "\n",
    "num_vars = ['Produktivitas Jeruk', 'Min', 'Max', 'Tavg']\n",
    "\n",
    "df_test[num_vars] = scaler.transform(df_test[num_vars])"
   ]
  },
  {
   "cell_type": "code",
   "execution_count": 69,
   "metadata": {
    "execution": {
     "iopub.execute_input": "2024-01-25T11:57:55.001202Z",
     "iopub.status.busy": "2024-01-25T11:57:55.000487Z",
     "iopub.status.idle": "2024-01-25T11:57:55.004176Z",
     "shell.execute_reply": "2024-01-25T11:57:55.003532Z",
     "shell.execute_reply.started": "2024-01-25T10:50:25.668669Z"
    },
    "papermill": {
     "duration": 0.121435,
     "end_time": "2024-01-25T11:57:55.004274",
     "exception": false,
     "start_time": "2024-01-25T11:57:54.882839",
     "status": "completed"
    },
    "tags": []
   },
   "outputs": [
    {
     "data": {
      "text/html": [
       "<div>\n",
       "<style scoped>\n",
       "    .dataframe tbody tr th:only-of-type {\n",
       "        vertical-align: middle;\n",
       "    }\n",
       "\n",
       "    .dataframe tbody tr th {\n",
       "        vertical-align: top;\n",
       "    }\n",
       "\n",
       "    .dataframe thead th {\n",
       "        text-align: right;\n",
       "    }\n",
       "</style>\n",
       "<table border=\"1\" class=\"dataframe\">\n",
       "  <thead>\n",
       "    <tr style=\"text-align: right;\">\n",
       "      <th></th>\n",
       "      <th>Produktivitas Jeruk</th>\n",
       "      <th>Tavg</th>\n",
       "      <th>Min</th>\n",
       "      <th>Max</th>\n",
       "    </tr>\n",
       "  </thead>\n",
       "  <tbody>\n",
       "    <tr>\n",
       "      <th>31</th>\n",
       "      <td>0.552941</td>\n",
       "      <td>-0.110000</td>\n",
       "      <td>0.000000</td>\n",
       "      <td>2.333333</td>\n",
       "    </tr>\n",
       "    <tr>\n",
       "      <th>4</th>\n",
       "      <td>0.188235</td>\n",
       "      <td>-0.333333</td>\n",
       "      <td>0.000000</td>\n",
       "      <td>1.666667</td>\n",
       "    </tr>\n",
       "    <tr>\n",
       "      <th>6</th>\n",
       "      <td>0.141176</td>\n",
       "      <td>-0.776667</td>\n",
       "      <td>-0.333333</td>\n",
       "      <td>1.666667</td>\n",
       "    </tr>\n",
       "    <tr>\n",
       "      <th>16</th>\n",
       "      <td>0.000000</td>\n",
       "      <td>0.000000</td>\n",
       "      <td>0.333333</td>\n",
       "      <td>2.333333</td>\n",
       "    </tr>\n",
       "    <tr>\n",
       "      <th>30</th>\n",
       "      <td>0.164706</td>\n",
       "      <td>-0.776667</td>\n",
       "      <td>-0.333333</td>\n",
       "      <td>1.666667</td>\n",
       "    </tr>\n",
       "  </tbody>\n",
       "</table>\n",
       "</div>"
      ],
      "text/plain": [
       "    Produktivitas Jeruk      Tavg       Min       Max\n",
       "31             0.552941 -0.110000  0.000000  2.333333\n",
       "4              0.188235 -0.333333  0.000000  1.666667\n",
       "6              0.141176 -0.776667 -0.333333  1.666667\n",
       "16             0.000000  0.000000  0.333333  2.333333\n",
       "30             0.164706 -0.776667 -0.333333  1.666667"
      ]
     },
     "execution_count": 69,
     "metadata": {},
     "output_type": "execute_result"
    }
   ],
   "source": [
    "df_test.head()"
   ]
  },
  {
   "cell_type": "code",
   "execution_count": 70,
   "metadata": {
    "execution": {
     "iopub.execute_input": "2024-01-25T11:57:55.235767Z",
     "iopub.status.busy": "2024-01-25T11:57:55.233084Z",
     "iopub.status.idle": "2024-01-25T11:57:55.249179Z",
     "shell.execute_reply": "2024-01-25T11:57:55.248716Z",
     "shell.execute_reply.started": "2024-01-25T10:50:25.685346Z"
    },
    "papermill": {
     "duration": 0.135109,
     "end_time": "2024-01-25T11:57:55.249277",
     "exception": false,
     "start_time": "2024-01-25T11:57:55.114168",
     "status": "completed"
    },
    "tags": []
   },
   "outputs": [
    {
     "data": {
      "text/html": [
       "<div>\n",
       "<style scoped>\n",
       "    .dataframe tbody tr th:only-of-type {\n",
       "        vertical-align: middle;\n",
       "    }\n",
       "\n",
       "    .dataframe tbody tr th {\n",
       "        vertical-align: top;\n",
       "    }\n",
       "\n",
       "    .dataframe thead th {\n",
       "        text-align: right;\n",
       "    }\n",
       "</style>\n",
       "<table border=\"1\" class=\"dataframe\">\n",
       "  <thead>\n",
       "    <tr style=\"text-align: right;\">\n",
       "      <th></th>\n",
       "      <th>Produktivitas Jeruk</th>\n",
       "      <th>Tavg</th>\n",
       "      <th>Min</th>\n",
       "      <th>Max</th>\n",
       "    </tr>\n",
       "  </thead>\n",
       "  <tbody>\n",
       "    <tr>\n",
       "      <th>count</th>\n",
       "      <td>12.000000</td>\n",
       "      <td>12.000000</td>\n",
       "      <td>12.000000</td>\n",
       "      <td>12.000000</td>\n",
       "    </tr>\n",
       "    <tr>\n",
       "      <th>mean</th>\n",
       "      <td>0.194118</td>\n",
       "      <td>-0.407500</td>\n",
       "      <td>-0.083333</td>\n",
       "      <td>2.027778</td>\n",
       "    </tr>\n",
       "    <tr>\n",
       "      <th>std</th>\n",
       "      <td>0.129412</td>\n",
       "      <td>0.440250</td>\n",
       "      <td>0.429352</td>\n",
       "      <td>0.388167</td>\n",
       "    </tr>\n",
       "    <tr>\n",
       "      <th>min</th>\n",
       "      <td>0.000000</td>\n",
       "      <td>-1.223333</td>\n",
       "      <td>-1.000000</td>\n",
       "      <td>1.666667</td>\n",
       "    </tr>\n",
       "    <tr>\n",
       "      <th>25%</th>\n",
       "      <td>0.135294</td>\n",
       "      <td>-0.776667</td>\n",
       "      <td>-0.333333</td>\n",
       "      <td>1.666667</td>\n",
       "    </tr>\n",
       "    <tr>\n",
       "      <th>50%</th>\n",
       "      <td>0.188235</td>\n",
       "      <td>-0.278333</td>\n",
       "      <td>0.000000</td>\n",
       "      <td>2.000000</td>\n",
       "    </tr>\n",
       "    <tr>\n",
       "      <th>75%</th>\n",
       "      <td>0.211765</td>\n",
       "      <td>0.000000</td>\n",
       "      <td>0.333333</td>\n",
       "      <td>2.333333</td>\n",
       "    </tr>\n",
       "    <tr>\n",
       "      <th>max</th>\n",
       "      <td>0.552941</td>\n",
       "      <td>0.110000</td>\n",
       "      <td>0.333333</td>\n",
       "      <td>2.666667</td>\n",
       "    </tr>\n",
       "  </tbody>\n",
       "</table>\n",
       "</div>"
      ],
      "text/plain": [
       "       Produktivitas Jeruk       Tavg        Min        Max\n",
       "count            12.000000  12.000000  12.000000  12.000000\n",
       "mean              0.194118  -0.407500  -0.083333   2.027778\n",
       "std               0.129412   0.440250   0.429352   0.388167\n",
       "min               0.000000  -1.223333  -1.000000   1.666667\n",
       "25%               0.135294  -0.776667  -0.333333   1.666667\n",
       "50%               0.188235  -0.278333   0.000000   2.000000\n",
       "75%               0.211765   0.000000   0.333333   2.333333\n",
       "max               0.552941   0.110000   0.333333   2.666667"
      ]
     },
     "execution_count": 70,
     "metadata": {},
     "output_type": "execute_result"
    }
   ],
   "source": [
    "df_test.describe()"
   ]
  },
  {
   "cell_type": "markdown",
   "metadata": {
    "papermill": {
     "duration": 0.110463,
     "end_time": "2024-01-25T11:57:55.470485",
     "exception": false,
     "start_time": "2024-01-25T11:57:55.360022",
     "status": "completed"
    },
    "tags": []
   },
   "source": [
    "### Dividing into X_test and y_test"
   ]
  },
  {
   "cell_type": "code",
   "execution_count": 71,
   "metadata": {
    "execution": {
     "iopub.execute_input": "2024-01-25T11:57:55.699059Z",
     "iopub.status.busy": "2024-01-25T11:57:55.698347Z",
     "iopub.status.idle": "2024-01-25T11:57:55.701867Z",
     "shell.execute_reply": "2024-01-25T11:57:55.701222Z",
     "shell.execute_reply.started": "2024-01-25T10:50:25.713284Z"
    },
    "papermill": {
     "duration": 0.121224,
     "end_time": "2024-01-25T11:57:55.701969",
     "exception": false,
     "start_time": "2024-01-25T11:57:55.580745",
     "status": "completed"
    },
    "tags": []
   },
   "outputs": [
    {
     "name": "stdout",
     "output_type": "stream",
     "text": [
      "<class 'pandas.core.frame.DataFrame'>\n",
      "Int64Index: 12 entries, 31 to 0\n",
      "Data columns (total 3 columns):\n",
      " #   Column  Non-Null Count  Dtype  \n",
      "---  ------  --------------  -----  \n",
      " 0   Tavg    12 non-null     float64\n",
      " 1   Min     12 non-null     float64\n",
      " 2   Max     12 non-null     float64\n",
      "dtypes: float64(3)\n",
      "memory usage: 384.0 bytes\n"
     ]
    }
   ],
   "source": [
    "y_test = df_test.pop('Produktivitas Jeruk')\n",
    "X_test = df_test\n",
    "X_test.info()"
   ]
  },
  {
   "cell_type": "code",
   "execution_count": 72,
   "metadata": {
    "execution": {
     "iopub.execute_input": "2024-01-25T11:57:55.934349Z",
     "iopub.status.busy": "2024-01-25T11:57:55.933716Z",
     "iopub.status.idle": "2024-01-25T11:57:55.937215Z",
     "shell.execute_reply": "2024-01-25T11:57:55.936604Z",
     "shell.execute_reply.started": "2024-01-25T10:50:25.724354Z"
    },
    "papermill": {
     "duration": 0.124955,
     "end_time": "2024-01-25T11:57:55.937324",
     "exception": false,
     "start_time": "2024-01-25T11:57:55.812369",
     "status": "completed"
    },
    "tags": []
   },
   "outputs": [
    {
     "name": "stdout",
     "output_type": "stream",
     "text": [
      "<class 'pandas.core.frame.DataFrame'>\n",
      "Int64Index: 12 entries, 31 to 0\n",
      "Data columns (total 3 columns):\n",
      " #   Column  Non-Null Count  Dtype  \n",
      "---  ------  --------------  -----  \n",
      " 0   const   12 non-null     float64\n",
      " 1   Tavg    12 non-null     float64\n",
      " 2   Max     12 non-null     float64\n",
      "dtypes: float64(3)\n",
      "memory usage: 384.0 bytes\n"
     ]
    }
   ],
   "source": [
    "#Selecting the variables that were part of final model.\n",
    "col1=X_train_new.columns\n",
    "X_test=X_test[col1]\n",
    "# Adding constant variable to test dataframe\n",
    "X_test_lm2 = sm.add_constant(X_test)\n",
    "X_test_lm2.info()"
   ]
  },
  {
   "cell_type": "code",
   "execution_count": 73,
   "metadata": {
    "execution": {
     "iopub.execute_input": "2024-01-25T11:57:56.161670Z",
     "iopub.status.busy": "2024-01-25T11:57:56.161081Z",
     "iopub.status.idle": "2024-01-25T11:57:56.164365Z",
     "shell.execute_reply": "2024-01-25T11:57:56.163895Z",
     "shell.execute_reply.started": "2024-01-25T10:50:25.741134Z"
    },
    "papermill": {
     "duration": 0.117468,
     "end_time": "2024-01-25T11:57:56.164460",
     "exception": false,
     "start_time": "2024-01-25T11:57:56.046992",
     "status": "completed"
    },
    "tags": []
   },
   "outputs": [],
   "source": [
    "# Making predictions using the final model (lr2)\n",
    "\n",
    "y_pred = lr2.predict(X_test_lm2)"
   ]
  },
  {
   "cell_type": "markdown",
   "metadata": {
    "papermill": {
     "duration": 0.113049,
     "end_time": "2024-01-25T11:57:56.387755",
     "exception": false,
     "start_time": "2024-01-25T11:57:56.274706",
     "status": "completed"
    },
    "tags": []
   },
   "source": [
    "# MODEL EVALUATION"
   ]
  },
  {
   "cell_type": "code",
   "execution_count": 74,
   "metadata": {
    "execution": {
     "iopub.execute_input": "2024-01-25T11:57:56.619887Z",
     "iopub.status.busy": "2024-01-25T11:57:56.619143Z",
     "iopub.status.idle": "2024-01-25T11:57:56.763321Z",
     "shell.execute_reply": "2024-01-25T11:57:56.762716Z",
     "shell.execute_reply.started": "2024-01-25T10:50:25.751129Z"
    },
    "papermill": {
     "duration": 0.265798,
     "end_time": "2024-01-25T11:57:56.763418",
     "exception": false,
     "start_time": "2024-01-25T11:57:56.497620",
     "status": "completed"
    },
    "tags": []
   },
   "outputs": [
    {
     "data": {
      "image/png": "[encoded data removed]",
      "text/plain": [
       "<Figure size 432x288 with 1 Axes>"
      ]
     },
     "metadata": {
      "needs_background": "light"
     },
     "output_type": "display_data"
    }
   ],
   "source": [
    "# Plotting y_test and y_pred to understand the spread\n",
    "\n",
    "fig = plt.figure()\n",
    "plt.scatter(y_test, y_pred, alpha=.5)\n",
    "fig.suptitle('y_test vs y_pred', fontsize = 20)              # Plot heading \n",
    "plt.xlabel('y_test', fontsize = 18)                          # X-label\n",
    "plt.ylabel('y_pred', fontsize = 16) \n",
    "plt.show()"
   ]
  },
  {
   "cell_type": "markdown",
   "metadata": {
    "papermill": {
     "duration": 0.110784,
     "end_time": "2024-01-25T11:57:56.986034",
     "exception": false,
     "start_time": "2024-01-25T11:57:56.875250",
     "status": "completed"
    },
    "tags": []
   },
   "source": [
    " # R^2 Value for TEST"
   ]
  },
  {
   "cell_type": "code",
   "execution_count": 75,
   "metadata": {
    "execution": {
     "iopub.execute_input": "2024-01-25T11:57:57.214383Z",
     "iopub.status.busy": "2024-01-25T11:57:57.213723Z",
     "iopub.status.idle": "2024-01-25T11:57:57.217409Z",
     "shell.execute_reply": "2024-01-25T11:57:57.216758Z",
     "shell.execute_reply.started": "2024-01-25T10:50:25.915384Z"
    },
    "papermill": {
     "duration": 0.120683,
     "end_time": "2024-01-25T11:57:57.217509",
     "exception": false,
     "start_time": "2024-01-25T11:57:57.096826",
     "status": "completed"
    },
    "tags": []
   },
   "outputs": [
    {
     "data": {
      "text/plain": [
       "-7.314981574840848"
      ]
     },
     "execution_count": 75,
     "metadata": {},
     "output_type": "execute_result"
    }
   ],
   "source": [
    "from sklearn.metrics import r2_score\n",
    "r2_score(y_test, y_pred)"
   ]
  },
  {
   "cell_type": "markdown",
   "metadata": {
    "papermill": {
     "duration": 0.112137,
     "end_time": "2024-01-25T11:57:57.443367",
     "exception": false,
     "start_time": "2024-01-25T11:57:57.331230",
     "status": "completed"
    },
    "tags": []
   },
   "source": [
    "## Adjusted R^2 Value for TEST"
   ]
  },
  {
   "cell_type": "code",
   "execution_count": 76,
   "metadata": {
    "execution": {
     "iopub.execute_input": "2024-01-25T11:57:57.671579Z",
     "iopub.status.busy": "2024-01-25T11:57:57.670928Z",
     "iopub.status.idle": "2024-01-25T11:57:57.674090Z",
     "shell.execute_reply": "2024-01-25T11:57:57.673450Z",
     "shell.execute_reply.started": "2024-01-25T10:50:25.923472Z"
    },
    "papermill": {
     "duration": 0.119016,
     "end_time": "2024-01-25T11:57:57.674191",
     "exception": false,
     "start_time": "2024-01-25T11:57:57.555175",
     "status": "completed"
    },
    "tags": []
   },
   "outputs": [],
   "source": [
    "# We already have the value of R^2 (calculated in above step)\n",
    "\n",
    "r2=-7.314981574840848"
   ]
  },
  {
   "cell_type": "code",
   "execution_count": 77,
   "metadata": {
    "execution": {
     "iopub.execute_input": "2024-01-25T11:57:57.902978Z",
     "iopub.status.busy": "2024-01-25T11:57:57.902251Z",
     "iopub.status.idle": "2024-01-25T11:57:57.906379Z",
     "shell.execute_reply": "2024-01-25T11:57:57.905866Z",
     "shell.execute_reply.started": "2024-01-25T10:50:25.932964Z"
    },
    "papermill": {
     "duration": 0.120013,
     "end_time": "2024-01-25T11:57:57.906478",
     "exception": false,
     "start_time": "2024-01-25T11:57:57.786465",
     "status": "completed"
    },
    "tags": []
   },
   "outputs": [
    {
     "data": {
      "text/plain": [
       "(12, 2)"
      ]
     },
     "execution_count": 77,
     "metadata": {},
     "output_type": "execute_result"
    }
   ],
   "source": [
    "# Get the shape of X_test\n",
    "X_test.shape\n"
   ]
  },
  {
   "cell_type": "code",
   "execution_count": 78,
   "metadata": {
    "execution": {
     "iopub.execute_input": "2024-01-25T11:57:58.138751Z",
     "iopub.status.busy": "2024-01-25T11:57:58.137774Z",
     "iopub.status.idle": "2024-01-25T11:57:58.140881Z",
     "shell.execute_reply": "2024-01-25T11:57:58.141375Z",
     "shell.execute_reply.started": "2024-01-25T10:50:25.943943Z"
    },
    "papermill": {
     "duration": 0.122862,
     "end_time": "2024-01-25T11:57:58.141504",
     "exception": false,
     "start_time": "2024-01-25T11:57:58.018642",
     "status": "completed"
    },
    "tags": []
   },
   "outputs": [
    {
     "data": {
      "text/plain": [
       "-9.162755258138814"
      ]
     },
     "execution_count": 78,
     "metadata": {},
     "output_type": "execute_result"
    }
   ],
   "source": [
    "# n is number of rows in X\n",
    "\n",
    "n = X_test.shape[0]\n",
    "\n",
    "\n",
    "# Number of features (predictors, p) is the shape along axis 1\n",
    "p = X_test.shape[1]\n",
    "\n",
    "# We find the Adjusted R-squared using the formula\n",
    "\n",
    "adjusted_r2 = 1-(1-r2)*(n-1)/(n-p-1)\n",
    "adjusted_r2"
   ]
  },
  {
   "cell_type": "markdown",
   "metadata": {
    "papermill": {
     "duration": 0.112748,
     "end_time": "2024-01-25T11:57:58.367473",
     "exception": false,
     "start_time": "2024-01-25T11:57:58.254725",
     "status": "completed"
    },
    "tags": []
   },
   "source": [
    "# Final Result Comparison"
   ]
  },
  {
   "cell_type": "markdown",
   "metadata": {
    "papermill": {
     "duration": 0.114174,
     "end_time": "2024-01-25T11:57:58.596458",
     "exception": false,
     "start_time": "2024-01-25T11:57:58.482284",
     "status": "completed"
    },
    "tags": []
   },
   "source": [
    "- Train R^2 :0.130\n",
    "- Train Adjusted R^2 :0.060 \n",
    "- Test R^2 :-7.31\n",
    "- Test Adjusted R^2 :1.27\n",
    "- Model ini belum bisa dikatakan cocok dengan data yang ada. Data yang sedikit juga mempengaruhi hasil dari nilai yang didapat diatas."
   ]
  }
 ],
 "metadata": {
  "kaggle": {
   "accelerator": "gpu",
   "dataSources": [
    {
     "datasetId": 789011,
     "sourceId": 1355226,
     "sourceType": "datasetVersion"
    },
    {
     "datasetId": 4246041,
     "sourceId": 7327627,
     "sourceType": "datasetVersion"
    }
   ],
   "dockerImageVersionId": 29981,
   "isGpuEnabled": true,
   "isInternetEnabled": true,
   "language": "python",
   "sourceType": "notebook"
  },
  "kernelspec": {
   "display_name": "Python 3",
   "language": "python",
   "name": "python3"
  },
  "language_info": {
   "codemirror_mode": {
    "name": "ipython",
    "version": 3
   },
   "file_extension": ".py",
   "mimetype": "text/x-python",
   "name": "python",
   "nbconvert_exporter": "python",
   "pygments_lexer": "ipython3",
   "version": "3.7.6"
  },
  "papermill": {
   "duration": 42.683668,
   "end_time": "2024-01-25T11:57:58.819565",
   "environment_variables": {},
   "exception": null,
   "input_path": "__notebook__.ipynb",
   "output_path": "__notebook__.ipynb",
   "parameters": {},
   "start_time": "2024-01-25T11:57:16.135897",
   "version": "2.1.0"
  }
 },
 "nbformat": 4,
 "nbformat_minor": 4
}
