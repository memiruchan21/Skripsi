{
 "cells": [
  {
   "cell_type": "markdown",
   "metadata": {
    "papermill": {
     "duration": 0.074865,
     "end_time": "2024-01-26T05:15:51.417603",
     "exception": false,
     "start_time": "2024-01-26T05:15:51.342738",
     "status": "completed"
    },
    "tags": []
   },
   "source": [
    "##  Reading and Understanding the Data\n"
   ]
  },
  {
   "cell_type": "code",
   "execution_count": 1,
   "metadata": {
    "execution": {
     "iopub.execute_input": "2024-01-26T05:15:51.566269Z",
     "iopub.status.busy": "2024-01-26T05:15:51.563519Z",
     "iopub.status.idle": "2024-01-26T05:15:51.570363Z",
     "shell.execute_reply": "2024-01-26T05:15:51.569623Z",
     "shell.execute_reply.started": "2024-01-26T05:11:02.745337Z"
    },
    "papermill": {
     "duration": 0.081155,
     "end_time": "2024-01-26T05:15:51.570523",
     "exception": false,
     "start_time": "2024-01-26T05:15:51.489368",
     "status": "completed"
    },
    "tags": []
   },
   "outputs": [],
   "source": [
    "# Supress Warnings\n",
    "\n",
    "import warnings\n",
    "warnings.filterwarnings('ignore')"
   ]
  },
  {
   "cell_type": "code",
   "execution_count": 2,
   "metadata": {
    "execution": {
     "iopub.execute_input": "2024-01-26T05:15:51.719548Z",
     "iopub.status.busy": "2024-01-26T05:15:51.718777Z",
     "iopub.status.idle": "2024-01-26T05:15:52.785155Z",
     "shell.execute_reply": "2024-01-26T05:15:52.784501Z",
     "shell.execute_reply.started": "2024-01-26T05:11:02.753389Z"
    },
    "papermill": {
     "duration": 1.144458,
     "end_time": "2024-01-26T05:15:52.785312",
     "exception": false,
     "start_time": "2024-01-26T05:15:51.640854",
     "status": "completed"
    },
    "tags": []
   },
   "outputs": [],
   "source": [
    "import numpy as np\n",
    "import pandas as pd\n",
    "import matplotlib.pyplot as plt\n",
    "import seaborn as sns\n",
    "%matplotlib inline"
   ]
  },
  {
   "cell_type": "code",
   "execution_count": 3,
   "metadata": {
    "execution": {
     "iopub.execute_input": "2024-01-26T05:15:52.931389Z",
     "iopub.status.busy": "2024-01-26T05:15:52.930584Z",
     "iopub.status.idle": "2024-01-26T05:15:52.947401Z",
     "shell.execute_reply": "2024-01-26T05:15:52.948144Z",
     "shell.execute_reply.started": "2024-01-26T05:11:02.767615Z"
    },
    "papermill": {
     "duration": 0.092764,
     "end_time": "2024-01-26T05:15:52.948337",
     "exception": false,
     "start_time": "2024-01-26T05:15:52.855573",
     "status": "completed"
    },
    "tags": []
   },
   "outputs": [
    {
     "name": "stdout",
     "output_type": "stream",
     "text": [
      "/kaggle/input/bike-sharing/day.csv\n",
      "/kaggle/input/bismillahskripsi/Buleleng-Climate - Full (1).csv\n"
     ]
    }
   ],
   "source": [
    "import os\n",
    "for dirname, _, filenames in os.walk('/kaggle/input'):\n",
    "    for filename in filenames:\n",
    "        print(os.path.join(dirname, filename))"
   ]
  },
  {
   "cell_type": "code",
   "execution_count": 4,
   "metadata": {
    "execution": {
     "iopub.execute_input": "2024-01-26T05:15:53.096721Z",
     "iopub.status.busy": "2024-01-26T05:15:53.095583Z",
     "iopub.status.idle": "2024-01-26T05:15:53.122931Z",
     "shell.execute_reply": "2024-01-26T05:15:53.122001Z",
     "shell.execute_reply.started": "2024-01-26T05:11:02.782148Z"
    },
    "papermill": {
     "duration": 0.101631,
     "end_time": "2024-01-26T05:15:53.123107",
     "exception": false,
     "start_time": "2024-01-26T05:15:53.021476",
     "status": "completed"
    },
    "tags": []
   },
   "outputs": [],
   "source": [
    "bike = pd.read_csv(\"/kaggle/input/bismillahskripsi/Buleleng-Climate - Full (1).csv\")"
   ]
  },
  {
   "cell_type": "code",
   "execution_count": 5,
   "metadata": {
    "execution": {
     "iopub.execute_input": "2024-01-26T05:15:53.281563Z",
     "iopub.status.busy": "2024-01-26T05:15:53.280803Z",
     "iopub.status.idle": "2024-01-26T05:15:53.294650Z",
     "shell.execute_reply": "2024-01-26T05:15:53.293952Z",
     "shell.execute_reply.started": "2024-01-26T05:11:02.795849Z"
    },
    "papermill": {
     "duration": 0.101238,
     "end_time": "2024-01-26T05:15:53.294810",
     "exception": false,
     "start_time": "2024-01-26T05:15:53.193572",
     "status": "completed"
    },
    "tags": []
   },
   "outputs": [
    {
     "data": {
      "text/html": [
       "<div>\n",
       "<style scoped>\n",
       "    .dataframe tbody tr th:only-of-type {\n",
       "        vertical-align: middle;\n",
       "    }\n",
       "\n",
       "    .dataframe tbody tr th {\n",
       "        vertical-align: top;\n",
       "    }\n",
       "\n",
       "    .dataframe thead th {\n",
       "        text-align: right;\n",
       "    }\n",
       "</style>\n",
       "<table border=\"1\" class=\"dataframe\">\n",
       "  <thead>\n",
       "    <tr style=\"text-align: right;\">\n",
       "      <th></th>\n",
       "      <th>Year</th>\n",
       "      <th>Periode</th>\n",
       "      <th>Produktivitas Mangga</th>\n",
       "      <th>Produktivitas Jeruk</th>\n",
       "      <th>Max</th>\n",
       "      <th>Min</th>\n",
       "      <th>Tavg</th>\n",
       "      <th>Sun Hour</th>\n",
       "      <th>Sun Day</th>\n",
       "      <th>Curah Hujan</th>\n",
       "      <th>Hari Hujan</th>\n",
       "      <th>Kecepatan A</th>\n",
       "      <th>Mx Kec</th>\n",
       "    </tr>\n",
       "  </thead>\n",
       "  <tbody>\n",
       "    <tr>\n",
       "      <th>0</th>\n",
       "      <td>2012</td>\n",
       "      <td>Triwulan I</td>\n",
       "      <td>0.46</td>\n",
       "      <td>0.17</td>\n",
       "      <td>28.0</td>\n",
       "      <td>25.0</td>\n",
       "      <td>26.00</td>\n",
       "      <td>78.7</td>\n",
       "      <td>8</td>\n",
       "      <td>501</td>\n",
       "      <td>83</td>\n",
       "      <td>8.17</td>\n",
       "      <td>13.4</td>\n",
       "    </tr>\n",
       "    <tr>\n",
       "      <th>1</th>\n",
       "      <td>2012</td>\n",
       "      <td>Triwulan II</td>\n",
       "      <td>0.00</td>\n",
       "      <td>0.10</td>\n",
       "      <td>28.0</td>\n",
       "      <td>24.0</td>\n",
       "      <td>26.00</td>\n",
       "      <td>237.7</td>\n",
       "      <td>49</td>\n",
       "      <td>164</td>\n",
       "      <td>42</td>\n",
       "      <td>8.93</td>\n",
       "      <td>14.0</td>\n",
       "    </tr>\n",
       "    <tr>\n",
       "      <th>2</th>\n",
       "      <td>2012</td>\n",
       "      <td>Triwulan III</td>\n",
       "      <td>0.27</td>\n",
       "      <td>0.20</td>\n",
       "      <td>28.0</td>\n",
       "      <td>22.0</td>\n",
       "      <td>24.33</td>\n",
       "      <td>336.3</td>\n",
       "      <td>88</td>\n",
       "      <td>10</td>\n",
       "      <td>4</td>\n",
       "      <td>12.20</td>\n",
       "      <td>17.2</td>\n",
       "    </tr>\n",
       "    <tr>\n",
       "      <th>3</th>\n",
       "      <td>2012</td>\n",
       "      <td>Triwulan IV</td>\n",
       "      <td>0.46</td>\n",
       "      <td>0.11</td>\n",
       "      <td>29.0</td>\n",
       "      <td>25.0</td>\n",
       "      <td>27.00</td>\n",
       "      <td>176.0</td>\n",
       "      <td>24</td>\n",
       "      <td>375</td>\n",
       "      <td>68</td>\n",
       "      <td>7.93</td>\n",
       "      <td>13.6</td>\n",
       "    </tr>\n",
       "    <tr>\n",
       "      <th>4</th>\n",
       "      <td>2013</td>\n",
       "      <td>Triwulan I</td>\n",
       "      <td>0.65</td>\n",
       "      <td>0.16</td>\n",
       "      <td>28.0</td>\n",
       "      <td>25.0</td>\n",
       "      <td>27.00</td>\n",
       "      <td>140.7</td>\n",
       "      <td>20</td>\n",
       "      <td>338</td>\n",
       "      <td>70</td>\n",
       "      <td>7.33</td>\n",
       "      <td>12.0</td>\n",
       "    </tr>\n",
       "  </tbody>\n",
       "</table>\n",
       "</div>"
      ],
      "text/plain": [
       "   Year       Periode  Produktivitas Mangga  Produktivitas Jeruk   Max   Min  \\\n",
       "0  2012    Triwulan I                  0.46                 0.17  28.0  25.0   \n",
       "1  2012   Triwulan II                  0.00                 0.10  28.0  24.0   \n",
       "2  2012  Triwulan III                  0.27                 0.20  28.0  22.0   \n",
       "3  2012   Triwulan IV                  0.46                 0.11  29.0  25.0   \n",
       "4  2013    Triwulan I                  0.65                 0.16  28.0  25.0   \n",
       "\n",
       "    Tavg  Sun Hour  Sun Day  Curah Hujan  Hari Hujan  Kecepatan A  Mx Kec  \n",
       "0  26.00      78.7        8          501          83         8.17    13.4  \n",
       "1  26.00     237.7       49          164          42         8.93    14.0  \n",
       "2  24.33     336.3       88           10           4        12.20    17.2  \n",
       "3  27.00     176.0       24          375          68         7.93    13.6  \n",
       "4  27.00     140.7       20          338          70         7.33    12.0  "
      ]
     },
     "execution_count": 5,
     "metadata": {},
     "output_type": "execute_result"
    }
   ],
   "source": [
    "# Check the head of the dataset\n",
    "bike.head()"
   ]
  },
  {
   "cell_type": "code",
   "execution_count": 6,
   "metadata": {
    "execution": {
     "iopub.execute_input": "2024-01-26T05:15:53.482038Z",
     "iopub.status.busy": "2024-01-26T05:15:53.480871Z",
     "iopub.status.idle": "2024-01-26T05:15:53.498274Z",
     "shell.execute_reply": "2024-01-26T05:15:53.498881Z",
     "shell.execute_reply.started": "2024-01-26T05:11:02.815825Z"
    },
    "papermill": {
     "duration": 0.114569,
     "end_time": "2024-01-26T05:15:53.499126",
     "exception": false,
     "start_time": "2024-01-26T05:15:53.384557",
     "status": "completed"
    },
    "tags": []
   },
   "outputs": [
    {
     "name": "stdout",
     "output_type": "stream",
     "text": [
      "<class 'pandas.core.frame.DataFrame'>\n",
      "RangeIndex: 40 entries, 0 to 39\n",
      "Data columns (total 13 columns):\n",
      " #   Column                Non-Null Count  Dtype  \n",
      "---  ------                --------------  -----  \n",
      " 0   Year                  40 non-null     int64  \n",
      " 1   Periode               40 non-null     object \n",
      " 2   Produktivitas Mangga  40 non-null     float64\n",
      " 3   Produktivitas Jeruk   40 non-null     float64\n",
      " 4   Max                   40 non-null     float64\n",
      " 5   Min                   40 non-null     float64\n",
      " 6   Tavg                  40 non-null     float64\n",
      " 7   Sun Hour              40 non-null     float64\n",
      " 8   Sun Day               40 non-null     int64  \n",
      " 9   Curah Hujan           40 non-null     int64  \n",
      " 10  Hari Hujan            40 non-null     int64  \n",
      " 11  Kecepatan A           40 non-null     float64\n",
      " 12  Mx Kec                40 non-null     float64\n",
      "dtypes: float64(8), int64(4), object(1)\n",
      "memory usage: 4.2+ KB\n"
     ]
    }
   ],
   "source": [
    "# Check the descriptive information\n",
    "bike.info()"
   ]
  },
  {
   "cell_type": "code",
   "execution_count": 7,
   "metadata": {
    "execution": {
     "iopub.execute_input": "2024-01-26T05:15:53.664203Z",
     "iopub.status.busy": "2024-01-26T05:15:53.663244Z",
     "iopub.status.idle": "2024-01-26T05:15:53.732843Z",
     "shell.execute_reply": "2024-01-26T05:15:53.733510Z",
     "shell.execute_reply.started": "2024-01-26T05:11:02.830701Z"
    },
    "papermill": {
     "duration": 0.162732,
     "end_time": "2024-01-26T05:15:53.733712",
     "exception": false,
     "start_time": "2024-01-26T05:15:53.570980",
     "status": "completed"
    },
    "tags": []
   },
   "outputs": [
    {
     "data": {
      "text/html": [
       "<div>\n",
       "<style scoped>\n",
       "    .dataframe tbody tr th:only-of-type {\n",
       "        vertical-align: middle;\n",
       "    }\n",
       "\n",
       "    .dataframe tbody tr th {\n",
       "        vertical-align: top;\n",
       "    }\n",
       "\n",
       "    .dataframe thead th {\n",
       "        text-align: right;\n",
       "    }\n",
       "</style>\n",
       "<table border=\"1\" class=\"dataframe\">\n",
       "  <thead>\n",
       "    <tr style=\"text-align: right;\">\n",
       "      <th></th>\n",
       "      <th>Year</th>\n",
       "      <th>Produktivitas Mangga</th>\n",
       "      <th>Produktivitas Jeruk</th>\n",
       "      <th>Max</th>\n",
       "      <th>Min</th>\n",
       "      <th>Tavg</th>\n",
       "      <th>Sun Hour</th>\n",
       "      <th>Sun Day</th>\n",
       "      <th>Curah Hujan</th>\n",
       "      <th>Hari Hujan</th>\n",
       "      <th>Kecepatan A</th>\n",
       "      <th>Mx Kec</th>\n",
       "    </tr>\n",
       "  </thead>\n",
       "  <tbody>\n",
       "    <tr>\n",
       "      <th>count</th>\n",
       "      <td>40.000000</td>\n",
       "      <td>40.0000</td>\n",
       "      <td>40.000000</td>\n",
       "      <td>40.000000</td>\n",
       "      <td>40.000000</td>\n",
       "      <td>40.000000</td>\n",
       "      <td>40.000000</td>\n",
       "      <td>40.00000</td>\n",
       "      <td>40.000000</td>\n",
       "      <td>40.000000</td>\n",
       "      <td>40.000000</td>\n",
       "      <td>40.00000</td>\n",
       "    </tr>\n",
       "    <tr>\n",
       "      <th>mean</th>\n",
       "      <td>2016.500000</td>\n",
       "      <td>0.4385</td>\n",
       "      <td>0.188500</td>\n",
       "      <td>29.175000</td>\n",
       "      <td>24.700000</td>\n",
       "      <td>26.683500</td>\n",
       "      <td>191.615000</td>\n",
       "      <td>40.05000</td>\n",
       "      <td>296.975000</td>\n",
       "      <td>63.725000</td>\n",
       "      <td>7.432500</td>\n",
       "      <td>11.94000</td>\n",
       "    </tr>\n",
       "    <tr>\n",
       "      <th>std</th>\n",
       "      <td>2.908872</td>\n",
       "      <td>0.2978</td>\n",
       "      <td>0.174922</td>\n",
       "      <td>0.930605</td>\n",
       "      <td>0.992278</td>\n",
       "      <td>1.010064</td>\n",
       "      <td>78.482399</td>\n",
       "      <td>25.66645</td>\n",
       "      <td>345.464421</td>\n",
       "      <td>67.614665</td>\n",
       "      <td>1.631161</td>\n",
       "      <td>2.36706</td>\n",
       "    </tr>\n",
       "    <tr>\n",
       "      <th>min</th>\n",
       "      <td>2012.000000</td>\n",
       "      <td>0.0000</td>\n",
       "      <td>0.000000</td>\n",
       "      <td>28.000000</td>\n",
       "      <td>22.000000</td>\n",
       "      <td>24.330000</td>\n",
       "      <td>30.000000</td>\n",
       "      <td>6.00000</td>\n",
       "      <td>4.000000</td>\n",
       "      <td>4.000000</td>\n",
       "      <td>5.170000</td>\n",
       "      <td>7.90000</td>\n",
       "    </tr>\n",
       "    <tr>\n",
       "      <th>25%</th>\n",
       "      <td>2014.000000</td>\n",
       "      <td>0.2550</td>\n",
       "      <td>0.100000</td>\n",
       "      <td>28.000000</td>\n",
       "      <td>24.000000</td>\n",
       "      <td>26.000000</td>\n",
       "      <td>137.025000</td>\n",
       "      <td>20.00000</td>\n",
       "      <td>93.750000</td>\n",
       "      <td>30.250000</td>\n",
       "      <td>6.322500</td>\n",
       "      <td>10.27500</td>\n",
       "    </tr>\n",
       "    <tr>\n",
       "      <th>50%</th>\n",
       "      <td>2016.500000</td>\n",
       "      <td>0.4900</td>\n",
       "      <td>0.160000</td>\n",
       "      <td>29.000000</td>\n",
       "      <td>25.000000</td>\n",
       "      <td>26.835000</td>\n",
       "      <td>182.000000</td>\n",
       "      <td>29.50000</td>\n",
       "      <td>246.500000</td>\n",
       "      <td>51.500000</td>\n",
       "      <td>7.120000</td>\n",
       "      <td>12.05000</td>\n",
       "    </tr>\n",
       "    <tr>\n",
       "      <th>75%</th>\n",
       "      <td>2019.000000</td>\n",
       "      <td>0.5900</td>\n",
       "      <td>0.242500</td>\n",
       "      <td>30.000000</td>\n",
       "      <td>25.000000</td>\n",
       "      <td>27.670000</td>\n",
       "      <td>239.450000</td>\n",
       "      <td>57.00000</td>\n",
       "      <td>385.750000</td>\n",
       "      <td>69.250000</td>\n",
       "      <td>8.117500</td>\n",
       "      <td>13.67500</td>\n",
       "    </tr>\n",
       "    <tr>\n",
       "      <th>max</th>\n",
       "      <td>2021.000000</td>\n",
       "      <td>1.3700</td>\n",
       "      <td>0.850000</td>\n",
       "      <td>31.000000</td>\n",
       "      <td>26.000000</td>\n",
       "      <td>28.330000</td>\n",
       "      <td>336.300000</td>\n",
       "      <td>88.00000</td>\n",
       "      <td>2008.000000</td>\n",
       "      <td>385.000000</td>\n",
       "      <td>12.200000</td>\n",
       "      <td>17.20000</td>\n",
       "    </tr>\n",
       "  </tbody>\n",
       "</table>\n",
       "</div>"
      ],
      "text/plain": [
       "              Year  Produktivitas Mangga  Produktivitas Jeruk        Max  \\\n",
       "count    40.000000               40.0000            40.000000  40.000000   \n",
       "mean   2016.500000                0.4385             0.188500  29.175000   \n",
       "std       2.908872                0.2978             0.174922   0.930605   \n",
       "min    2012.000000                0.0000             0.000000  28.000000   \n",
       "25%    2014.000000                0.2550             0.100000  28.000000   \n",
       "50%    2016.500000                0.4900             0.160000  29.000000   \n",
       "75%    2019.000000                0.5900             0.242500  30.000000   \n",
       "max    2021.000000                1.3700             0.850000  31.000000   \n",
       "\n",
       "             Min       Tavg    Sun Hour   Sun Day  Curah Hujan  Hari Hujan  \\\n",
       "count  40.000000  40.000000   40.000000  40.00000    40.000000   40.000000   \n",
       "mean   24.700000  26.683500  191.615000  40.05000   296.975000   63.725000   \n",
       "std     0.992278   1.010064   78.482399  25.66645   345.464421   67.614665   \n",
       "min    22.000000  24.330000   30.000000   6.00000     4.000000    4.000000   \n",
       "25%    24.000000  26.000000  137.025000  20.00000    93.750000   30.250000   \n",
       "50%    25.000000  26.835000  182.000000  29.50000   246.500000   51.500000   \n",
       "75%    25.000000  27.670000  239.450000  57.00000   385.750000   69.250000   \n",
       "max    26.000000  28.330000  336.300000  88.00000  2008.000000  385.000000   \n",
       "\n",
       "       Kecepatan A    Mx Kec  \n",
       "count    40.000000  40.00000  \n",
       "mean      7.432500  11.94000  \n",
       "std       1.631161   2.36706  \n",
       "min       5.170000   7.90000  \n",
       "25%       6.322500  10.27500  \n",
       "50%       7.120000  12.05000  \n",
       "75%       8.117500  13.67500  \n",
       "max      12.200000  17.20000  "
      ]
     },
     "execution_count": 7,
     "metadata": {},
     "output_type": "execute_result"
    }
   ],
   "source": [
    "bike.describe()"
   ]
  },
  {
   "cell_type": "code",
   "execution_count": 8,
   "metadata": {
    "execution": {
     "iopub.execute_input": "2024-01-26T05:15:53.884013Z",
     "iopub.status.busy": "2024-01-26T05:15:53.883242Z",
     "iopub.status.idle": "2024-01-26T05:15:53.889592Z",
     "shell.execute_reply": "2024-01-26T05:15:53.889009Z",
     "shell.execute_reply.started": "2024-01-26T05:11:02.888323Z"
    },
    "papermill": {
     "duration": 0.081478,
     "end_time": "2024-01-26T05:15:53.889770",
     "exception": false,
     "start_time": "2024-01-26T05:15:53.808292",
     "status": "completed"
    },
    "tags": []
   },
   "outputs": [
    {
     "name": "stdout",
     "output_type": "stream",
     "text": [
      "(40, 13)\n"
     ]
    }
   ],
   "source": [
    "# Check the shape of df\n",
    "\n",
    "print(bike.shape)"
   ]
  },
  {
   "cell_type": "markdown",
   "metadata": {
    "papermill": {
     "duration": 0.081153,
     "end_time": "2024-01-26T05:15:54.045512",
     "exception": false,
     "start_time": "2024-01-26T05:15:53.964359",
     "status": "completed"
    },
    "tags": []
   },
   "source": [
    "## Finding : \n",
    "Dataset has 40 rows and 13 columns.\n",
    "\n",
    "variable 'Sun day', 'Curah Hujan', 'Hari hujan' berbentuk *int* untuk variable 'Periode' berupa *string*\n",
    "\n",
    "Selain itu, semua variable berupa ***float***"
   ]
  },
  {
   "cell_type": "markdown",
   "metadata": {
    "papermill": {
     "duration": 0.073322,
     "end_time": "2024-01-26T05:15:54.191571",
     "exception": false,
     "start_time": "2024-01-26T05:15:54.118249",
     "status": "completed"
    },
    "tags": []
   },
   "source": [
    "# DATA QUALITY CHECK"
   ]
  },
  {
   "cell_type": "markdown",
   "metadata": {
    "papermill": {
     "duration": 0.071586,
     "end_time": "2024-01-26T05:15:54.335214",
     "exception": false,
     "start_time": "2024-01-26T05:15:54.263628",
     "status": "completed"
    },
    "tags": []
   },
   "source": [
    "## Check for NULL/MISSING values"
   ]
  },
  {
   "cell_type": "code",
   "execution_count": 9,
   "metadata": {
    "execution": {
     "iopub.execute_input": "2024-01-26T05:15:54.496573Z",
     "iopub.status.busy": "2024-01-26T05:15:54.495766Z",
     "iopub.status.idle": "2024-01-26T05:15:54.521414Z",
     "shell.execute_reply": "2024-01-26T05:15:54.522108Z",
     "shell.execute_reply.started": "2024-01-26T05:11:02.894439Z"
    },
    "papermill": {
     "duration": 0.112671,
     "end_time": "2024-01-26T05:15:54.522293",
     "exception": false,
     "start_time": "2024-01-26T05:15:54.409622",
     "status": "completed"
    },
    "tags": []
   },
   "outputs": [
    {
     "data": {
      "text/plain": [
       "Mx Kec                  0.0\n",
       "Kecepatan A             0.0\n",
       "Hari Hujan              0.0\n",
       "Curah Hujan             0.0\n",
       "Sun Day                 0.0\n",
       "Sun Hour                0.0\n",
       "Tavg                    0.0\n",
       "Min                     0.0\n",
       "Max                     0.0\n",
       "Produktivitas Jeruk     0.0\n",
       "Produktivitas Mangga    0.0\n",
       "Periode                 0.0\n",
       "Year                    0.0\n",
       "dtype: float64"
      ]
     },
     "execution_count": 9,
     "metadata": {},
     "output_type": "execute_result"
    }
   ],
   "source": [
    "# percentage of missing values in each column\n",
    "round(100*(bike.isnull().sum()/len(bike)), 2).sort_values(ascending=False)"
   ]
  },
  {
   "cell_type": "code",
   "execution_count": 10,
   "metadata": {
    "execution": {
     "iopub.execute_input": "2024-01-26T05:15:54.682423Z",
     "iopub.status.busy": "2024-01-26T05:15:54.681636Z",
     "iopub.status.idle": "2024-01-26T05:15:54.685528Z",
     "shell.execute_reply": "2024-01-26T05:15:54.686145Z",
     "shell.execute_reply.started": "2024-01-26T05:11:02.910641Z"
    },
    "papermill": {
     "duration": 0.090607,
     "end_time": "2024-01-26T05:15:54.686335",
     "exception": false,
     "start_time": "2024-01-26T05:15:54.595728",
     "status": "completed"
    },
    "tags": []
   },
   "outputs": [
    {
     "data": {
      "text/plain": [
       "39    0.0\n",
       "38    0.0\n",
       "17    0.0\n",
       "16    0.0\n",
       "15    0.0\n",
       "14    0.0\n",
       "13    0.0\n",
       "12    0.0\n",
       "11    0.0\n",
       "10    0.0\n",
       "9     0.0\n",
       "8     0.0\n",
       "7     0.0\n",
       "6     0.0\n",
       "5     0.0\n",
       "4     0.0\n",
       "3     0.0\n",
       "2     0.0\n",
       "1     0.0\n",
       "18    0.0\n",
       "19    0.0\n",
       "20    0.0\n",
       "30    0.0\n",
       "37    0.0\n",
       "36    0.0\n",
       "35    0.0\n",
       "34    0.0\n",
       "33    0.0\n",
       "32    0.0\n",
       "31    0.0\n",
       "29    0.0\n",
       "21    0.0\n",
       "28    0.0\n",
       "27    0.0\n",
       "26    0.0\n",
       "25    0.0\n",
       "24    0.0\n",
       "23    0.0\n",
       "22    0.0\n",
       "0     0.0\n",
       "dtype: float64"
      ]
     },
     "execution_count": 10,
     "metadata": {},
     "output_type": "execute_result"
    }
   ],
   "source": [
    "# row-wise null count percentage\n",
    "round((bike.isnull().sum(axis=1)/len(bike))*100,2).sort_values(ascending=False)"
   ]
  },
  {
   "cell_type": "markdown",
   "metadata": {
    "papermill": {
     "duration": 0.074086,
     "end_time": "2024-01-26T05:15:54.833621",
     "exception": false,
     "start_time": "2024-01-26T05:15:54.759535",
     "status": "completed"
    },
    "tags": []
   },
   "source": [
    "## Finding\n",
    "There are no missing / Null values either in columns or rows"
   ]
  },
  {
   "cell_type": "markdown",
   "metadata": {
    "papermill": {
     "duration": 0.071704,
     "end_time": "2024-01-26T05:15:54.977343",
     "exception": false,
     "start_time": "2024-01-26T05:15:54.905639",
     "status": "completed"
    },
    "tags": []
   },
   "source": [
    "## Duplicate Check"
   ]
  },
  {
   "cell_type": "code",
   "execution_count": 11,
   "metadata": {
    "execution": {
     "iopub.execute_input": "2024-01-26T05:15:55.135199Z",
     "iopub.status.busy": "2024-01-26T05:15:55.134436Z",
     "iopub.status.idle": "2024-01-26T05:15:55.141278Z",
     "shell.execute_reply": "2024-01-26T05:15:55.140590Z",
     "shell.execute_reply.started": "2024-01-26T05:11:02.926334Z"
    },
    "papermill": {
     "duration": 0.091222,
     "end_time": "2024-01-26T05:15:55.141434",
     "exception": false,
     "start_time": "2024-01-26T05:15:55.050212",
     "status": "completed"
    },
    "tags": []
   },
   "outputs": [],
   "source": [
    "bike_dup = bike.copy()\n",
    "\n",
    "# Checking for duplicates and dropping the entire duplicate row if any\n",
    "bike_dup.drop_duplicates(subset=None, inplace=True)"
   ]
  },
  {
   "cell_type": "code",
   "execution_count": 12,
   "metadata": {
    "execution": {
     "iopub.execute_input": "2024-01-26T05:15:55.367332Z",
     "iopub.status.busy": "2024-01-26T05:15:55.366371Z",
     "iopub.status.idle": "2024-01-26T05:15:55.372681Z",
     "shell.execute_reply": "2024-01-26T05:15:55.372070Z",
     "shell.execute_reply.started": "2024-01-26T05:11:02.941407Z"
    },
    "papermill": {
     "duration": 0.159006,
     "end_time": "2024-01-26T05:15:55.372853",
     "exception": false,
     "start_time": "2024-01-26T05:15:55.213847",
     "status": "completed"
    },
    "tags": []
   },
   "outputs": [
    {
     "data": {
      "text/plain": [
       "(40, 13)"
      ]
     },
     "execution_count": 12,
     "metadata": {},
     "output_type": "execute_result"
    }
   ],
   "source": [
    "bike_dup.shape"
   ]
  },
  {
   "cell_type": "code",
   "execution_count": 13,
   "metadata": {
    "execution": {
     "iopub.execute_input": "2024-01-26T05:15:55.526423Z",
     "iopub.status.busy": "2024-01-26T05:15:55.525565Z",
     "iopub.status.idle": "2024-01-26T05:15:55.530918Z",
     "shell.execute_reply": "2024-01-26T05:15:55.530309Z",
     "shell.execute_reply.started": "2024-01-26T05:11:02.956899Z"
    },
    "papermill": {
     "duration": 0.085042,
     "end_time": "2024-01-26T05:15:55.531072",
     "exception": false,
     "start_time": "2024-01-26T05:15:55.446030",
     "status": "completed"
    },
    "tags": []
   },
   "outputs": [
    {
     "data": {
      "text/plain": [
       "(40, 13)"
      ]
     },
     "execution_count": 13,
     "metadata": {},
     "output_type": "execute_result"
    }
   ],
   "source": [
    "bike.shape"
   ]
  },
  {
   "cell_type": "markdown",
   "metadata": {
    "papermill": {
     "duration": 0.07326,
     "end_time": "2024-01-26T05:15:55.680058",
     "exception": false,
     "start_time": "2024-01-26T05:15:55.606798",
     "status": "completed"
    },
    "tags": []
   },
   "source": [
    "### Insights \n",
    "\n",
    "The shape after running the drop duplicate command is same as the original dataframe. \n",
    "\n",
    "Hence we can conclude that there were zero duplicate values in the dataset. "
   ]
  },
  {
   "cell_type": "markdown",
   "metadata": {
    "papermill": {
     "duration": 0.075177,
     "end_time": "2024-01-26T05:15:55.828530",
     "exception": false,
     "start_time": "2024-01-26T05:15:55.753353",
     "status": "completed"
    },
    "tags": []
   },
   "source": [
    "## Data Cleaning\n",
    "\n",
    "Checking value_counts() for entire dataframe. \n",
    "\n",
    "This will help to identify any Unknow/Junk values present in the dataset."
   ]
  },
  {
   "cell_type": "code",
   "execution_count": 14,
   "metadata": {
    "execution": {
     "iopub.execute_input": "2024-01-26T05:15:55.982617Z",
     "iopub.status.busy": "2024-01-26T05:15:55.981829Z",
     "iopub.status.idle": "2024-01-26T05:15:55.985156Z",
     "shell.execute_reply": "2024-01-26T05:15:55.984536Z",
     "shell.execute_reply.started": "2024-01-26T05:11:02.968038Z"
    },
    "papermill": {
     "duration": 0.083163,
     "end_time": "2024-01-26T05:15:55.985309",
     "exception": false,
     "start_time": "2024-01-26T05:15:55.902146",
     "status": "completed"
    },
    "tags": []
   },
   "outputs": [],
   "source": [
    "#Create a copy of the  dataframe, without the 'instant' column, \n",
    "\n",
    "#as this will have unique values, and donot make sense to do a value count on it.\n",
    "\n",
    "bike_dummy=bike.iloc[:,1:16]"
   ]
  },
  {
   "cell_type": "code",
   "execution_count": 15,
   "metadata": {
    "execution": {
     "iopub.execute_input": "2024-01-26T05:15:56.138108Z",
     "iopub.status.busy": "2024-01-26T05:15:56.137296Z",
     "iopub.status.idle": "2024-01-26T05:15:56.172528Z",
     "shell.execute_reply": "2024-01-26T05:15:56.170777Z",
     "shell.execute_reply.started": "2024-01-26T05:11:02.977220Z"
    },
    "papermill": {
     "duration": 0.114322,
     "end_time": "2024-01-26T05:15:56.172796",
     "exception": false,
     "start_time": "2024-01-26T05:15:56.058474",
     "status": "completed"
    },
    "tags": []
   },
   "outputs": [
    {
     "name": "stdout",
     "output_type": "stream",
     "text": [
      "Triwulan III    10\n",
      "Triwulan IV     10\n",
      "Triwulan I      10\n",
      "Triwulan II     10\n",
      "Name: Periode, dtype: int64 \n",
      "\n",
      "\n",
      "\n",
      "0.00    8\n",
      "0.65    3\n",
      "0.50    2\n",
      "0.59    2\n",
      "0.47    2\n",
      "0.46    2\n",
      "0.53    1\n",
      "0.68    1\n",
      "0.67    1\n",
      "0.54    1\n",
      "0.52    1\n",
      "0.24    1\n",
      "0.44    1\n",
      "0.70    1\n",
      "0.55    1\n",
      "0.71    1\n",
      "1.37    1\n",
      "0.26    1\n",
      "0.58    1\n",
      "0.48    1\n",
      "0.37    1\n",
      "0.51    1\n",
      "0.23    1\n",
      "0.56    1\n",
      "0.30    1\n",
      "1.04    1\n",
      "0.27    1\n",
      "Name: Produktivitas Mangga, dtype: int64 \n",
      "\n",
      "\n",
      "\n",
      "0.00    7\n",
      "0.10    5\n",
      "0.25    3\n",
      "0.16    3\n",
      "0.26    2\n",
      "0.15    2\n",
      "0.18    2\n",
      "0.11    2\n",
      "0.13    1\n",
      "0.12    1\n",
      "0.22    1\n",
      "0.19    1\n",
      "0.31    1\n",
      "0.24    1\n",
      "0.47    1\n",
      "0.85    1\n",
      "0.50    1\n",
      "0.17    1\n",
      "0.66    1\n",
      "0.21    1\n",
      "0.14    1\n",
      "0.20    1\n",
      "Name: Produktivitas Jeruk, dtype: int64 \n",
      "\n",
      "\n",
      "\n",
      "30.0    15\n",
      "28.0    12\n",
      "29.0    11\n",
      "31.0     2\n",
      "Name: Max, dtype: int64 \n",
      "\n",
      "\n",
      "\n",
      "25.0    15\n",
      "24.0    12\n",
      "26.0     9\n",
      "23.0     3\n",
      "22.0     1\n",
      "Name: Min, dtype: int64 \n",
      "\n",
      "\n",
      "\n",
      "27.00    6\n",
      "27.67    5\n",
      "28.00    5\n",
      "26.00    5\n",
      "25.67    4\n",
      "26.33    3\n",
      "26.67    3\n",
      "27.33    3\n",
      "25.00    2\n",
      "25.33    2\n",
      "24.33    1\n",
      "28.33    1\n",
      "Name: Tavg, dtype: int64 \n",
      "\n",
      "\n",
      "\n",
      "302.0    2\n",
      "225.7    2\n",
      "179.3    1\n",
      "214.3    1\n",
      "162.3    1\n",
      "306.3    1\n",
      "30.0     1\n",
      "234.3    1\n",
      "221.0    1\n",
      "111.0    1\n",
      "47.0     1\n",
      "130.3    1\n",
      "320.0    1\n",
      "166.0    1\n",
      "297.3    1\n",
      "135.0    1\n",
      "156.0    1\n",
      "187.0    1\n",
      "237.7    1\n",
      "140.7    1\n",
      "83.7     1\n",
      "184.7    1\n",
      "336.3    1\n",
      "236.3    1\n",
      "133.7    1\n",
      "121.3    1\n",
      "141.3    1\n",
      "244.7    1\n",
      "316.3    1\n",
      "78.7     1\n",
      "254.7    1\n",
      "168.3    1\n",
      "209.7    1\n",
      "102.7    1\n",
      "269.3    1\n",
      "137.7    1\n",
      "138.3    1\n",
      "176.0    1\n",
      "Name: Sun Hour, dtype: int64 \n",
      "\n",
      "\n",
      "\n",
      "24    4\n",
      "83    3\n",
      "33    2\n",
      "46    2\n",
      "25    2\n",
      "45    2\n",
      "20    2\n",
      "10    1\n",
      "8     1\n",
      "18    1\n",
      "75    1\n",
      "7     1\n",
      "13    1\n",
      "6     1\n",
      "14    1\n",
      "79    1\n",
      "17    1\n",
      "70    1\n",
      "23    1\n",
      "19    1\n",
      "22    1\n",
      "71    1\n",
      "88    1\n",
      "26    1\n",
      "81    1\n",
      "49    1\n",
      "50    1\n",
      "53    1\n",
      "54    1\n",
      "66    1\n",
      "Name: Sun Day, dtype: int64 \n",
      "\n",
      "\n",
      "\n",
      "20      2\n",
      "319     1\n",
      "152     1\n",
      "214     1\n",
      "405     1\n",
      "84      1\n",
      "2008    1\n",
      "338     1\n",
      "640     1\n",
      "400     1\n",
      "143     1\n",
      "289     1\n",
      "268     1\n",
      "10      1\n",
      "22      1\n",
      "136     1\n",
      "74      1\n",
      "133     1\n",
      "4       1\n",
      "279     1\n",
      "391     1\n",
      "444     1\n",
      "1053    1\n",
      "375     1\n",
      "54      1\n",
      "501     1\n",
      "216     1\n",
      "177     1\n",
      "437     1\n",
      "302     1\n",
      "12      1\n",
      "300     1\n",
      "295     1\n",
      "97      1\n",
      "164     1\n",
      "46      1\n",
      "384     1\n",
      "225     1\n",
      "448     1\n",
      "Name: Curah Hujan, dtype: int64 \n",
      "\n",
      "\n",
      "\n",
      "67     4\n",
      "41     3\n",
      "45     2\n",
      "47     2\n",
      "68     2\n",
      "9      2\n",
      "25     2\n",
      "59     1\n",
      "11     1\n",
      "10     1\n",
      "69     1\n",
      "72     1\n",
      "70     1\n",
      "80     1\n",
      "4      1\n",
      "66     1\n",
      "78     1\n",
      "84     1\n",
      "17     1\n",
      "83     1\n",
      "249    1\n",
      "85     1\n",
      "22     1\n",
      "154    1\n",
      "32     1\n",
      "37     1\n",
      "42     1\n",
      "5      1\n",
      "56     1\n",
      "385    1\n",
      "Name: Hari Hujan, dtype: int64 \n",
      "\n",
      "\n",
      "\n",
      "7.57     2\n",
      "7.93     2\n",
      "7.60     2\n",
      "6.67     1\n",
      "8.57     1\n",
      "6.40     1\n",
      "12.20    1\n",
      "6.33     1\n",
      "8.83     1\n",
      "8.17     1\n",
      "6.17     1\n",
      "6.87     1\n",
      "7.07     1\n",
      "8.93     1\n",
      "7.03     1\n",
      "6.77     1\n",
      "6.47     1\n",
      "9.50     1\n",
      "10.73    1\n",
      "5.67     1\n",
      "9.77     1\n",
      "8.40     1\n",
      "6.27     1\n",
      "6.57     1\n",
      "5.30     1\n",
      "11.43    1\n",
      "6.30     1\n",
      "5.17     1\n",
      "8.10     1\n",
      "5.47     1\n",
      "7.77     1\n",
      "7.33     1\n",
      "5.53     1\n",
      "7.17     1\n",
      "5.57     1\n",
      "6.07     1\n",
      "6.50     1\n",
      "Name: Kecepatan A, dtype: int64 \n",
      "\n",
      "\n",
      "\n",
      "14.8    3\n",
      "10.8    2\n",
      "10.4    2\n",
      "10.3    2\n",
      "12.7    2\n",
      "12.9    2\n",
      "10.5    1\n",
      "16.5    1\n",
      "14.5    1\n",
      "13.9    1\n",
      "15.2    1\n",
      "12.0    1\n",
      "9.1     1\n",
      "9.8     1\n",
      "13.3    1\n",
      "8.6     1\n",
      "8.4     1\n",
      "12.3    1\n",
      "9.5     1\n",
      "14.6    1\n",
      "10.2    1\n",
      "12.6    1\n",
      "11.3    1\n",
      "11.2    1\n",
      "9.7     1\n",
      "8.2     1\n",
      "17.2    1\n",
      "13.4    1\n",
      "9.4     1\n",
      "7.9     1\n",
      "13.6    1\n",
      "12.1    1\n",
      "14.0    1\n",
      "Name: Mx Kec, dtype: int64 \n",
      "\n",
      "\n",
      "\n"
     ]
    }
   ],
   "source": [
    "for col in bike_dummy:\n",
    "    print(bike_dummy[col].value_counts(ascending=False), '\\n\\n\\n')"
   ]
  },
  {
   "cell_type": "markdown",
   "metadata": {
    "papermill": {
     "duration": 0.073011,
     "end_time": "2024-01-26T05:15:56.321839",
     "exception": false,
     "start_time": "2024-01-26T05:15:56.248828",
     "status": "completed"
    },
    "tags": []
   },
   "source": [
    "### Insights \n",
    "There seems to be no Junk/Unknown values in the entire dataset."
   ]
  },
  {
   "cell_type": "markdown",
   "metadata": {
    "papermill": {
     "duration": 0.07326,
     "end_time": "2024-01-26T05:15:56.471507",
     "exception": false,
     "start_time": "2024-01-26T05:15:56.398247",
     "status": "completed"
    },
    "tags": []
   },
   "source": [
    "# Removing redundant & unwanted columns"
   ]
  },
  {
   "cell_type": "code",
   "execution_count": 16,
   "metadata": {
    "execution": {
     "iopub.execute_input": "2024-01-26T05:15:56.626336Z",
     "iopub.status.busy": "2024-01-26T05:15:56.625162Z",
     "iopub.status.idle": "2024-01-26T05:15:56.632049Z",
     "shell.execute_reply": "2024-01-26T05:15:56.632687Z",
     "shell.execute_reply.started": "2024-01-26T05:11:03.017790Z"
    },
    "papermill": {
     "duration": 0.085347,
     "end_time": "2024-01-26T05:15:56.632869",
     "exception": false,
     "start_time": "2024-01-26T05:15:56.547522",
     "status": "completed"
    },
    "tags": []
   },
   "outputs": [
    {
     "data": {
      "text/plain": [
       "Index(['Year', 'Periode', 'Produktivitas Mangga', 'Produktivitas Jeruk', 'Max',\n",
       "       'Min', 'Tavg', 'Sun Hour', 'Sun Day', 'Curah Hujan', 'Hari Hujan',\n",
       "       'Kecepatan A', 'Mx Kec'],\n",
       "      dtype='object')"
      ]
     },
     "execution_count": 16,
     "metadata": {},
     "output_type": "execute_result"
    }
   ],
   "source": [
    "bike.columns"
   ]
  },
  {
   "cell_type": "code",
   "execution_count": 17,
   "metadata": {
    "execution": {
     "iopub.execute_input": "2024-01-26T05:15:56.789704Z",
     "iopub.status.busy": "2024-01-26T05:15:56.788567Z",
     "iopub.status.idle": "2024-01-26T05:15:56.795518Z",
     "shell.execute_reply": "2024-01-26T05:15:56.796134Z",
     "shell.execute_reply.started": "2024-01-26T05:11:03.024688Z"
    },
    "papermill": {
     "duration": 0.086691,
     "end_time": "2024-01-26T05:15:56.796329",
     "exception": false,
     "start_time": "2024-01-26T05:15:56.709638",
     "status": "completed"
    },
    "tags": []
   },
   "outputs": [],
   "source": [
    "bike_new=bike[['Year', 'Periode','Produktivitas Mangga','Sun Hour', 'Sun Day']]\n"
   ]
  },
  {
   "cell_type": "code",
   "execution_count": 18,
   "metadata": {
    "execution": {
     "iopub.execute_input": "2024-01-26T05:15:56.954578Z",
     "iopub.status.busy": "2024-01-26T05:15:56.953449Z",
     "iopub.status.idle": "2024-01-26T05:15:56.960334Z",
     "shell.execute_reply": "2024-01-26T05:15:56.960942Z",
     "shell.execute_reply.started": "2024-01-26T05:11:03.034334Z"
    },
    "papermill": {
     "duration": 0.087386,
     "end_time": "2024-01-26T05:15:56.961125",
     "exception": false,
     "start_time": "2024-01-26T05:15:56.873739",
     "status": "completed"
    },
    "tags": []
   },
   "outputs": [],
   "source": [
    "bike_new_new=bike[['Produktivitas Mangga', 'Sun Hour', 'Sun Day']]"
   ]
  },
  {
   "cell_type": "code",
   "execution_count": 19,
   "metadata": {
    "execution": {
     "iopub.execute_input": "2024-01-26T05:15:57.121206Z",
     "iopub.status.busy": "2024-01-26T05:15:57.120072Z",
     "iopub.status.idle": "2024-01-26T05:15:57.132091Z",
     "shell.execute_reply": "2024-01-26T05:15:57.131326Z",
     "shell.execute_reply.started": "2024-01-26T05:11:03.047425Z"
    },
    "papermill": {
     "duration": 0.091894,
     "end_time": "2024-01-26T05:15:57.132252",
     "exception": false,
     "start_time": "2024-01-26T05:15:57.040358",
     "status": "completed"
    },
    "tags": []
   },
   "outputs": [
    {
     "name": "stdout",
     "output_type": "stream",
     "text": [
      "<class 'pandas.core.frame.DataFrame'>\n",
      "RangeIndex: 40 entries, 0 to 39\n",
      "Data columns (total 5 columns):\n",
      " #   Column                Non-Null Count  Dtype  \n",
      "---  ------                --------------  -----  \n",
      " 0   Year                  40 non-null     int64  \n",
      " 1   Periode               40 non-null     object \n",
      " 2   Produktivitas Mangga  40 non-null     float64\n",
      " 3   Sun Hour              40 non-null     float64\n",
      " 4   Sun Day               40 non-null     int64  \n",
      "dtypes: float64(2), int64(2), object(1)\n",
      "memory usage: 1.7+ KB\n"
     ]
    }
   ],
   "source": [
    "bike_new.info()"
   ]
  },
  {
   "cell_type": "code",
   "execution_count": 20,
   "metadata": {
    "execution": {
     "iopub.execute_input": "2024-01-26T05:15:57.294338Z",
     "iopub.status.busy": "2024-01-26T05:15:57.293342Z",
     "iopub.status.idle": "2024-01-26T05:15:57.297196Z",
     "shell.execute_reply": "2024-01-26T05:15:57.297758Z",
     "shell.execute_reply.started": "2024-01-26T05:11:03.062231Z"
    },
    "papermill": {
     "duration": 0.088566,
     "end_time": "2024-01-26T05:15:57.297947",
     "exception": false,
     "start_time": "2024-01-26T05:15:57.209381",
     "status": "completed"
    },
    "tags": []
   },
   "outputs": [
    {
     "name": "stdout",
     "output_type": "stream",
     "text": [
      "<class 'pandas.core.frame.DataFrame'>\n",
      "RangeIndex: 40 entries, 0 to 39\n",
      "Data columns (total 3 columns):\n",
      " #   Column                Non-Null Count  Dtype  \n",
      "---  ------                --------------  -----  \n",
      " 0   Produktivitas Mangga  40 non-null     float64\n",
      " 1   Sun Hour              40 non-null     float64\n",
      " 2   Sun Day               40 non-null     int64  \n",
      "dtypes: float64(2), int64(1)\n",
      "memory usage: 1.1 KB\n"
     ]
    }
   ],
   "source": [
    "bike_new_new.info()"
   ]
  },
  {
   "cell_type": "markdown",
   "metadata": {
    "papermill": {
     "duration": 0.077207,
     "end_time": "2024-01-26T05:15:57.451961",
     "exception": false,
     "start_time": "2024-01-26T05:15:57.374754",
     "status": "completed"
    },
    "tags": []
   },
   "source": [
    "# Creating Dummy Variables"
   ]
  },
  {
   "cell_type": "markdown",
   "metadata": {
    "papermill": {
     "duration": 0.076927,
     "end_time": "2024-01-26T05:15:57.605463",
     "exception": false,
     "start_time": "2024-01-26T05:15:57.528536",
     "status": "completed"
    },
    "tags": []
   },
   "source": [
    "We will create DUMMY variables for 2 categorical variables 'Year', 'Periode'. \n",
    "- Before creating dummy variables, we will have to convert them into 'category' data types."
   ]
  },
  {
   "cell_type": "code",
   "execution_count": 21,
   "metadata": {
    "execution": {
     "iopub.execute_input": "2024-01-26T05:15:57.766383Z",
     "iopub.status.busy": "2024-01-26T05:15:57.765585Z",
     "iopub.status.idle": "2024-01-26T05:15:57.769382Z",
     "shell.execute_reply": "2024-01-26T05:15:57.770169Z",
     "shell.execute_reply.started": "2024-01-26T05:11:03.075645Z"
    },
    "papermill": {
     "duration": 0.089865,
     "end_time": "2024-01-26T05:15:57.770358",
     "exception": false,
     "start_time": "2024-01-26T05:15:57.680493",
     "status": "completed"
    },
    "tags": []
   },
   "outputs": [
    {
     "name": "stdout",
     "output_type": "stream",
     "text": [
      "<class 'pandas.core.frame.DataFrame'>\n",
      "RangeIndex: 40 entries, 0 to 39\n",
      "Data columns (total 5 columns):\n",
      " #   Column                Non-Null Count  Dtype  \n",
      "---  ------                --------------  -----  \n",
      " 0   Year                  40 non-null     int64  \n",
      " 1   Periode               40 non-null     object \n",
      " 2   Produktivitas Mangga  40 non-null     float64\n",
      " 3   Sun Hour              40 non-null     float64\n",
      " 4   Sun Day               40 non-null     int64  \n",
      "dtypes: float64(2), int64(2), object(1)\n",
      "memory usage: 1.7+ KB\n"
     ]
    }
   ],
   "source": [
    "# Check the datatypes before convertion\n",
    "bike_new.info()"
   ]
  },
  {
   "cell_type": "code",
   "execution_count": 22,
   "metadata": {
    "execution": {
     "iopub.execute_input": "2024-01-26T05:15:57.935438Z",
     "iopub.status.busy": "2024-01-26T05:15:57.934407Z",
     "iopub.status.idle": "2024-01-26T05:15:57.937540Z",
     "shell.execute_reply": "2024-01-26T05:15:57.937012Z",
     "shell.execute_reply.started": "2024-01-26T05:11:03.091569Z"
    },
    "papermill": {
     "duration": 0.088378,
     "end_time": "2024-01-26T05:15:57.937709",
     "exception": false,
     "start_time": "2024-01-26T05:15:57.849331",
     "status": "completed"
    },
    "tags": []
   },
   "outputs": [],
   "source": [
    "# Convert to 'category' data type\n",
    "\n",
    "bike_new['Year']=bike_new['Year'].astype('category')\n",
    "bike_new['Periode']=bike_new['Periode'].astype('category')"
   ]
  },
  {
   "cell_type": "code",
   "execution_count": 23,
   "metadata": {
    "execution": {
     "iopub.execute_input": "2024-01-26T05:15:58.104261Z",
     "iopub.status.busy": "2024-01-26T05:15:58.103497Z",
     "iopub.status.idle": "2024-01-26T05:15:58.110308Z",
     "shell.execute_reply": "2024-01-26T05:15:58.109652Z",
     "shell.execute_reply.started": "2024-01-26T05:11:03.103462Z"
    },
    "papermill": {
     "duration": 0.09611,
     "end_time": "2024-01-26T05:15:58.110443",
     "exception": false,
     "start_time": "2024-01-26T05:15:58.014333",
     "status": "completed"
    },
    "tags": []
   },
   "outputs": [
    {
     "name": "stdout",
     "output_type": "stream",
     "text": [
      "<class 'pandas.core.frame.DataFrame'>\n",
      "RangeIndex: 40 entries, 0 to 39\n",
      "Data columns (total 5 columns):\n",
      " #   Column                Non-Null Count  Dtype   \n",
      "---  ------                --------------  -----   \n",
      " 0   Year                  40 non-null     category\n",
      " 1   Periode               40 non-null     category\n",
      " 2   Produktivitas Mangga  40 non-null     float64 \n",
      " 3   Sun Hour              40 non-null     float64 \n",
      " 4   Sun Day               40 non-null     int64   \n",
      "dtypes: category(2), float64(2), int64(1)\n",
      "memory usage: 1.7 KB\n"
     ]
    }
   ],
   "source": [
    "bike_new.info()"
   ]
  },
  {
   "cell_type": "code",
   "execution_count": 24,
   "metadata": {
    "execution": {
     "iopub.execute_input": "2024-01-26T05:15:58.285158Z",
     "iopub.status.busy": "2024-01-26T05:15:58.284376Z",
     "iopub.status.idle": "2024-01-26T05:15:58.297784Z",
     "shell.execute_reply": "2024-01-26T05:15:58.297177Z",
     "shell.execute_reply.started": "2024-01-26T05:11:03.118613Z"
    },
    "papermill": {
     "duration": 0.109726,
     "end_time": "2024-01-26T05:15:58.297922",
     "exception": false,
     "start_time": "2024-01-26T05:15:58.188196",
     "status": "completed"
    },
    "tags": []
   },
   "outputs": [
    {
     "name": "stdout",
     "output_type": "stream",
     "text": [
      "<class 'pandas.core.frame.DataFrame'>\n",
      "RangeIndex: 40 entries, 0 to 39\n",
      "Data columns (total 17 columns):\n",
      " #   Column                Non-Null Count  Dtype  \n",
      "---  ------                --------------  -----  \n",
      " 0   Produktivitas Mangga  40 non-null     float64\n",
      " 1   Sun Hour              40 non-null     float64\n",
      " 2   Sun Day               40 non-null     int64  \n",
      " 3   Year_2012             40 non-null     uint8  \n",
      " 4   Year_2013             40 non-null     uint8  \n",
      " 5   Year_2014             40 non-null     uint8  \n",
      " 6   Year_2015             40 non-null     uint8  \n",
      " 7   Year_2016             40 non-null     uint8  \n",
      " 8   Year_2017             40 non-null     uint8  \n",
      " 9   Year_2018             40 non-null     uint8  \n",
      " 10  Year_2019             40 non-null     uint8  \n",
      " 11  Year_2020             40 non-null     uint8  \n",
      " 12  Year_2021             40 non-null     uint8  \n",
      " 13  Periode_Triwulan I    40 non-null     uint8  \n",
      " 14  Periode_Triwulan II   40 non-null     uint8  \n",
      " 15  Periode_Triwulan III  40 non-null     uint8  \n",
      " 16  Periode_Triwulan IV   40 non-null     uint8  \n",
      "dtypes: float64(2), int64(1), uint8(14)\n",
      "memory usage: 1.6 KB\n"
     ]
    }
   ],
   "source": [
    "# This code does 3 things:\n",
    "# 1) Create Dummy variable\n",
    "# 2) Drop original variable for which the dummy was created\n",
    "# 3) Drop first dummy variable for each set of dummies created.\n",
    "\n",
    "bike_new = pd.get_dummies(bike_new)\n",
    "bike_new.info()"
   ]
  },
  {
   "cell_type": "code",
   "execution_count": 25,
   "metadata": {
    "execution": {
     "iopub.execute_input": "2024-01-26T05:15:58.457461Z",
     "iopub.status.busy": "2024-01-26T05:15:58.456642Z",
     "iopub.status.idle": "2024-01-26T05:15:58.460832Z",
     "shell.execute_reply": "2024-01-26T05:15:58.460273Z",
     "shell.execute_reply.started": "2024-01-26T05:11:03.142880Z"
    },
    "papermill": {
     "duration": 0.086578,
     "end_time": "2024-01-26T05:15:58.460968",
     "exception": false,
     "start_time": "2024-01-26T05:15:58.374390",
     "status": "completed"
    },
    "tags": []
   },
   "outputs": [
    {
     "data": {
      "text/plain": [
       "(40, 17)"
      ]
     },
     "execution_count": 25,
     "metadata": {},
     "output_type": "execute_result"
    }
   ],
   "source": [
    "bike_new.shape"
   ]
  },
  {
   "cell_type": "markdown",
   "metadata": {
    "papermill": {
     "duration": 0.075831,
     "end_time": "2024-01-26T05:15:58.613311",
     "exception": false,
     "start_time": "2024-01-26T05:15:58.537480",
     "status": "completed"
    },
    "tags": []
   },
   "source": [
    "## SPLITTING THE DATA\n",
    "- Splitting the data to Train and Test: - We will now split the data into TRAIN and TEST (70:30 ratio) \n",
    "- We will use train_test_split method from sklearn package for this"
   ]
  },
  {
   "cell_type": "code",
   "execution_count": 26,
   "metadata": {
    "execution": {
     "iopub.execute_input": "2024-01-26T05:15:58.775148Z",
     "iopub.status.busy": "2024-01-26T05:15:58.774001Z",
     "iopub.status.idle": "2024-01-26T05:15:58.779585Z",
     "shell.execute_reply": "2024-01-26T05:15:58.778989Z",
     "shell.execute_reply.started": "2024-01-26T05:11:03.157332Z"
    },
    "papermill": {
     "duration": 0.089916,
     "end_time": "2024-01-26T05:15:58.779771",
     "exception": false,
     "start_time": "2024-01-26T05:15:58.689855",
     "status": "completed"
    },
    "tags": []
   },
   "outputs": [
    {
     "data": {
      "text/plain": [
       "(40, 3)"
      ]
     },
     "execution_count": 26,
     "metadata": {},
     "output_type": "execute_result"
    }
   ],
   "source": [
    "# Check the shape before spliting\n",
    "\n",
    "bike_new_new.shape"
   ]
  },
  {
   "cell_type": "code",
   "execution_count": 27,
   "metadata": {
    "execution": {
     "iopub.execute_input": "2024-01-26T05:15:58.944071Z",
     "iopub.status.busy": "2024-01-26T05:15:58.943065Z",
     "iopub.status.idle": "2024-01-26T05:15:58.947830Z",
     "shell.execute_reply": "2024-01-26T05:15:58.947110Z",
     "shell.execute_reply.started": "2024-01-26T05:11:03.169687Z"
    },
    "papermill": {
     "duration": 0.091847,
     "end_time": "2024-01-26T05:15:58.947974",
     "exception": false,
     "start_time": "2024-01-26T05:15:58.856127",
     "status": "completed"
    },
    "tags": []
   },
   "outputs": [
    {
     "name": "stdout",
     "output_type": "stream",
     "text": [
      "<class 'pandas.core.frame.DataFrame'>\n",
      "RangeIndex: 40 entries, 0 to 39\n",
      "Data columns (total 3 columns):\n",
      " #   Column                Non-Null Count  Dtype  \n",
      "---  ------                --------------  -----  \n",
      " 0   Produktivitas Mangga  40 non-null     float64\n",
      " 1   Sun Hour              40 non-null     float64\n",
      " 2   Sun Day               40 non-null     int64  \n",
      "dtypes: float64(2), int64(1)\n",
      "memory usage: 1.1 KB\n"
     ]
    }
   ],
   "source": [
    "# Check the info before spliting\n",
    "\n",
    "bike_new_new.info()"
   ]
  },
  {
   "cell_type": "code",
   "execution_count": 28,
   "metadata": {
    "execution": {
     "iopub.execute_input": "2024-01-26T05:15:59.108925Z",
     "iopub.status.busy": "2024-01-26T05:15:59.108140Z",
     "iopub.status.idle": "2024-01-26T05:15:59.245184Z",
     "shell.execute_reply": "2024-01-26T05:15:59.244468Z",
     "shell.execute_reply.started": "2024-01-26T05:11:03.184522Z"
    },
    "papermill": {
     "duration": 0.219235,
     "end_time": "2024-01-26T05:15:59.245335",
     "exception": false,
     "start_time": "2024-01-26T05:15:59.026100",
     "status": "completed"
    },
    "tags": []
   },
   "outputs": [],
   "source": [
    "from sklearn.model_selection import train_test_split\n",
    "\n",
    "# We should specify 'random_state' so that the train and test data set always have the same rows, respectively\n",
    "\n",
    "np.random.seed(0)\n",
    "df_train, df_test = train_test_split(bike_new_new, train_size = 0.70, test_size = 0.30, random_state = 333)"
   ]
  },
  {
   "cell_type": "markdown",
   "metadata": {
    "papermill": {
     "duration": 0.078805,
     "end_time": "2024-01-26T05:15:59.400344",
     "exception": false,
     "start_time": "2024-01-26T05:15:59.321539",
     "status": "completed"
    },
    "tags": []
   },
   "source": [
    "\n",
    "- Verify the info and shape of the dataframes after split:"
   ]
  },
  {
   "cell_type": "code",
   "execution_count": 29,
   "metadata": {
    "execution": {
     "iopub.execute_input": "2024-01-26T05:15:59.567696Z",
     "iopub.status.busy": "2024-01-26T05:15:59.566809Z",
     "iopub.status.idle": "2024-01-26T05:15:59.570627Z",
     "shell.execute_reply": "2024-01-26T05:15:59.571372Z",
     "shell.execute_reply.started": "2024-01-26T05:11:03.196172Z"
    },
    "papermill": {
     "duration": 0.092216,
     "end_time": "2024-01-26T05:15:59.571570",
     "exception": false,
     "start_time": "2024-01-26T05:15:59.479354",
     "status": "completed"
    },
    "tags": []
   },
   "outputs": [
    {
     "name": "stdout",
     "output_type": "stream",
     "text": [
      "<class 'pandas.core.frame.DataFrame'>\n",
      "Int64Index: 28 entries, 1 to 12\n",
      "Data columns (total 3 columns):\n",
      " #   Column                Non-Null Count  Dtype  \n",
      "---  ------                --------------  -----  \n",
      " 0   Produktivitas Mangga  28 non-null     float64\n",
      " 1   Sun Hour              28 non-null     float64\n",
      " 2   Sun Day               28 non-null     int64  \n",
      "dtypes: float64(2), int64(1)\n",
      "memory usage: 896.0 bytes\n"
     ]
    }
   ],
   "source": [
    "df_train.info()"
   ]
  },
  {
   "cell_type": "code",
   "execution_count": 30,
   "metadata": {
    "execution": {
     "iopub.execute_input": "2024-01-26T05:15:59.732582Z",
     "iopub.status.busy": "2024-01-26T05:15:59.731588Z",
     "iopub.status.idle": "2024-01-26T05:15:59.736337Z",
     "shell.execute_reply": "2024-01-26T05:15:59.735610Z",
     "shell.execute_reply.started": "2024-01-26T05:11:03.212118Z"
    },
    "papermill": {
     "duration": 0.087408,
     "end_time": "2024-01-26T05:15:59.736479",
     "exception": false,
     "start_time": "2024-01-26T05:15:59.649071",
     "status": "completed"
    },
    "tags": []
   },
   "outputs": [
    {
     "data": {
      "text/plain": [
       "(28, 3)"
      ]
     },
     "execution_count": 30,
     "metadata": {},
     "output_type": "execute_result"
    }
   ],
   "source": [
    "df_train.shape"
   ]
  },
  {
   "cell_type": "code",
   "execution_count": 31,
   "metadata": {
    "execution": {
     "iopub.execute_input": "2024-01-26T05:15:59.903897Z",
     "iopub.status.busy": "2024-01-26T05:15:59.903022Z",
     "iopub.status.idle": "2024-01-26T05:15:59.906556Z",
     "shell.execute_reply": "2024-01-26T05:15:59.907103Z",
     "shell.execute_reply.started": "2024-01-26T05:11:03.223821Z"
    },
    "papermill": {
     "duration": 0.092217,
     "end_time": "2024-01-26T05:15:59.907293",
     "exception": false,
     "start_time": "2024-01-26T05:15:59.815076",
     "status": "completed"
    },
    "tags": []
   },
   "outputs": [
    {
     "name": "stdout",
     "output_type": "stream",
     "text": [
      "<class 'pandas.core.frame.DataFrame'>\n",
      "Int64Index: 12 entries, 31 to 0\n",
      "Data columns (total 3 columns):\n",
      " #   Column                Non-Null Count  Dtype  \n",
      "---  ------                --------------  -----  \n",
      " 0   Produktivitas Mangga  12 non-null     float64\n",
      " 1   Sun Hour              12 non-null     float64\n",
      " 2   Sun Day               12 non-null     int64  \n",
      "dtypes: float64(2), int64(1)\n",
      "memory usage: 384.0 bytes\n"
     ]
    }
   ],
   "source": [
    "df_test.info()"
   ]
  },
  {
   "cell_type": "code",
   "execution_count": 32,
   "metadata": {
    "execution": {
     "iopub.execute_input": "2024-01-26T05:16:00.074847Z",
     "iopub.status.busy": "2024-01-26T05:16:00.073604Z",
     "iopub.status.idle": "2024-01-26T05:16:00.078424Z",
     "shell.execute_reply": "2024-01-26T05:16:00.077728Z",
     "shell.execute_reply.started": "2024-01-26T05:11:03.238141Z"
    },
    "papermill": {
     "duration": 0.089584,
     "end_time": "2024-01-26T05:16:00.078560",
     "exception": false,
     "start_time": "2024-01-26T05:15:59.988976",
     "status": "completed"
    },
    "tags": []
   },
   "outputs": [
    {
     "data": {
      "text/plain": [
       "(12, 3)"
      ]
     },
     "execution_count": 32,
     "metadata": {},
     "output_type": "execute_result"
    }
   ],
   "source": [
    "df_test.shape"
   ]
  },
  {
   "cell_type": "markdown",
   "metadata": {
    "papermill": {
     "duration": 0.078051,
     "end_time": "2024-01-26T05:16:00.238497",
     "exception": false,
     "start_time": "2024-01-26T05:16:00.160446",
     "status": "completed"
    },
    "tags": []
   },
   "source": [
    "# EXPLORATORY DATA ANALYSIS"
   ]
  },
  {
   "cell_type": "markdown",
   "metadata": {
    "papermill": {
     "duration": 0.078732,
     "end_time": "2024-01-26T05:16:00.396049",
     "exception": false,
     "start_time": "2024-01-26T05:16:00.317317",
     "status": "completed"
    },
    "tags": []
   },
   "source": [
    "\n",
    "- We need to  perform the EDA on TRAINING (df_train) Dataset."
   ]
  },
  {
   "cell_type": "markdown",
   "metadata": {
    "papermill": {
     "duration": 0.07786,
     "end_time": "2024-01-26T05:16:00.552312",
     "exception": false,
     "start_time": "2024-01-26T05:16:00.474452",
     "status": "completed"
    },
    "tags": []
   },
   "source": [
    "## Visualising Numeric Variables\n",
    "Let's make a pairplot of all the numeric variables."
   ]
  },
  {
   "cell_type": "code",
   "execution_count": 33,
   "metadata": {
    "execution": {
     "iopub.execute_input": "2024-01-26T05:16:00.720752Z",
     "iopub.status.busy": "2024-01-26T05:16:00.719803Z",
     "iopub.status.idle": "2024-01-26T05:16:00.723910Z",
     "shell.execute_reply": "2024-01-26T05:16:00.723126Z",
     "shell.execute_reply.started": "2024-01-26T05:11:03.249549Z"
    },
    "papermill": {
     "duration": 0.092672,
     "end_time": "2024-01-26T05:16:00.724059",
     "exception": false,
     "start_time": "2024-01-26T05:16:00.631387",
     "status": "completed"
    },
    "tags": []
   },
   "outputs": [
    {
     "name": "stdout",
     "output_type": "stream",
     "text": [
      "<class 'pandas.core.frame.DataFrame'>\n",
      "Int64Index: 28 entries, 1 to 12\n",
      "Data columns (total 3 columns):\n",
      " #   Column                Non-Null Count  Dtype  \n",
      "---  ------                --------------  -----  \n",
      " 0   Produktivitas Mangga  28 non-null     float64\n",
      " 1   Sun Hour              28 non-null     float64\n",
      " 2   Sun Day               28 non-null     int64  \n",
      "dtypes: float64(2), int64(1)\n",
      "memory usage: 896.0 bytes\n"
     ]
    }
   ],
   "source": [
    "df_train.info()"
   ]
  },
  {
   "cell_type": "code",
   "execution_count": 34,
   "metadata": {
    "execution": {
     "iopub.execute_input": "2024-01-26T05:16:00.891098Z",
     "iopub.status.busy": "2024-01-26T05:16:00.890350Z",
     "iopub.status.idle": "2024-01-26T05:16:00.894842Z",
     "shell.execute_reply": "2024-01-26T05:16:00.894247Z",
     "shell.execute_reply.started": "2024-01-26T05:11:03.263412Z"
    },
    "papermill": {
     "duration": 0.089697,
     "end_time": "2024-01-26T05:16:00.894978",
     "exception": false,
     "start_time": "2024-01-26T05:16:00.805281",
     "status": "completed"
    },
    "tags": []
   },
   "outputs": [
    {
     "data": {
      "text/plain": [
       "Index(['Produktivitas Mangga', 'Sun Hour', 'Sun Day'], dtype='object')"
      ]
     },
     "execution_count": 34,
     "metadata": {},
     "output_type": "execute_result"
    }
   ],
   "source": [
    "df_train.columns"
   ]
  },
  {
   "cell_type": "code",
   "execution_count": 35,
   "metadata": {
    "execution": {
     "iopub.execute_input": "2024-01-26T05:16:01.065976Z",
     "iopub.status.busy": "2024-01-26T05:16:01.064803Z",
     "iopub.status.idle": "2024-01-26T05:16:03.605227Z",
     "shell.execute_reply": "2024-01-26T05:16:03.604493Z",
     "shell.execute_reply.started": "2024-01-26T05:11:03.276022Z"
    },
    "papermill": {
     "duration": 2.629874,
     "end_time": "2024-01-26T05:16:03.605374",
     "exception": false,
     "start_time": "2024-01-26T05:16:00.975500",
     "status": "completed"
    },
    "tags": []
   },
   "outputs": [
    {
     "data": {
      "image/png": "[encoded data removed]",
      "text/plain": [
       "<Figure size 540x540 with 12 Axes>"
      ]
     },
     "metadata": {
      "needs_background": "light"
     },
     "output_type": "display_data"
    }
   ],
   "source": [
    "# Create a new dataframe of only numeric variables:\n",
    "\n",
    "bike_num=df_train[['Produktivitas Mangga', 'Sun Hour', 'Sun Day']]\n",
    "\n",
    "sns.pairplot(bike_num, diag_kind='kde')\n",
    "plt.show()"
   ]
  },
  {
   "cell_type": "markdown",
   "metadata": {
    "papermill": {
     "duration": 0.0802,
     "end_time": "2024-01-26T05:16:03.768938",
     "exception": false,
     "start_time": "2024-01-26T05:16:03.688738",
     "status": "completed"
    },
    "tags": []
   },
   "source": [
    "### Insights\n",
    "- The above Pair-Plot tells us that there is a LINEAR RELATION between 'temp','atemp' and 'cnt' "
   ]
  },
  {
   "cell_type": "markdown",
   "metadata": {
    "papermill": {
     "duration": 0.079891,
     "end_time": "2024-01-26T05:16:03.929867",
     "exception": false,
     "start_time": "2024-01-26T05:16:03.849976",
     "status": "completed"
    },
    "tags": []
   },
   "source": [
    "## Visualising Catagorical Variables"
   ]
  },
  {
   "cell_type": "code",
   "execution_count": 36,
   "metadata": {
    "execution": {
     "iopub.execute_input": "2024-01-26T05:16:04.105381Z",
     "iopub.status.busy": "2024-01-26T05:16:04.104565Z",
     "iopub.status.idle": "2024-01-26T05:16:04.108642Z",
     "shell.execute_reply": "2024-01-26T05:16:04.107963Z",
     "shell.execute_reply.started": "2024-01-26T05:11:05.366949Z"
    },
    "papermill": {
     "duration": 0.094435,
     "end_time": "2024-01-26T05:16:04.108797",
     "exception": false,
     "start_time": "2024-01-26T05:16:04.014362",
     "status": "completed"
    },
    "tags": []
   },
   "outputs": [
    {
     "name": "stdout",
     "output_type": "stream",
     "text": [
      "<class 'pandas.core.frame.DataFrame'>\n",
      "Int64Index: 28 entries, 1 to 12\n",
      "Data columns (total 3 columns):\n",
      " #   Column                Non-Null Count  Dtype  \n",
      "---  ------                --------------  -----  \n",
      " 0   Produktivitas Mangga  28 non-null     float64\n",
      " 1   Sun Hour              28 non-null     float64\n",
      " 2   Sun Day               28 non-null     int64  \n",
      "dtypes: float64(2), int64(1)\n",
      "memory usage: 2.1 KB\n"
     ]
    }
   ],
   "source": [
    "df_train.info()"
   ]
  },
  {
   "cell_type": "code",
   "execution_count": 37,
   "metadata": {
    "execution": {
     "iopub.execute_input": "2024-01-26T05:16:04.294478Z",
     "iopub.status.busy": "2024-01-26T05:16:04.289143Z",
     "iopub.status.idle": "2024-01-26T05:16:04.746343Z",
     "shell.execute_reply": "2024-01-26T05:16:04.745594Z",
     "shell.execute_reply.started": "2024-01-26T05:11:05.376303Z"
    },
    "papermill": {
     "duration": 0.553673,
     "end_time": "2024-01-26T05:16:04.746502",
     "exception": false,
     "start_time": "2024-01-26T05:16:04.192829",
     "status": "completed"
    },
    "tags": []
   },
   "outputs": [
    {
     "data": {
      "image/png": "[encoded data removed]",
      "text/plain": [
       "<Figure size 1800x720 with 2 Axes>"
      ]
     },
     "metadata": {
      "needs_background": "light"
     },
     "output_type": "display_data"
    }
   ],
   "source": [
    "# Build boxplot of all categorical variables (before creating dummies) againt the target variable 'cnt' \n",
    "# to see how each of the predictor variable stackup against the target variable.\n",
    "\n",
    "plt.figure(figsize=(25, 10))\n",
    "plt.subplot(2,3,1)\n",
    "sns.boxplot(x = 'Year', y = 'Produktivitas Mangga', data = bike)\n",
    "plt.subplot(2,3,2)\n",
    "sns.boxplot(x = 'Periode', y = 'Produktivitas Mangga', data = bike)\n",
    "plt.show()"
   ]
  },
  {
   "cell_type": "markdown",
   "metadata": {
    "papermill": {
     "duration": 0.081616,
     "end_time": "2024-01-26T05:16:04.912477",
     "exception": false,
     "start_time": "2024-01-26T05:16:04.830861",
     "status": "completed"
    },
    "tags": []
   },
   "source": [
    "## Correlation Matrix"
   ]
  },
  {
   "cell_type": "code",
   "execution_count": 38,
   "metadata": {
    "execution": {
     "iopub.execute_input": "2024-01-26T05:16:05.096960Z",
     "iopub.status.busy": "2024-01-26T05:16:05.094966Z",
     "iopub.status.idle": "2024-01-26T05:16:05.410803Z",
     "shell.execute_reply": "2024-01-26T05:16:05.409996Z",
     "shell.execute_reply.started": "2024-01-26T05:11:05.919974Z"
    },
    "papermill": {
     "duration": 0.416267,
     "end_time": "2024-01-26T05:16:05.410954",
     "exception": false,
     "start_time": "2024-01-26T05:16:04.994687",
     "status": "completed"
    },
    "tags": []
   },
   "outputs": [
    {
     "data": {
      "image/png": "[encoded data removed]",
      "text/plain": [
       "<Figure size 1800x1440 with 2 Axes>"
      ]
     },
     "metadata": {
      "needs_background": "light"
     },
     "output_type": "display_data"
    }
   ],
   "source": [
    "# Let's check the correlation coefficients to see which variables are highly correlated. Note:\n",
    "# here we are considering only those variables (dataframe: bike_new) that were chosen for analysis\n",
    "\n",
    "plt.figure(figsize = (25,20))\n",
    "sns.heatmap(bike_new_new.corr(), annot = True, cmap=\"RdBu\")\n",
    "plt.show()"
   ]
  },
  {
   "cell_type": "markdown",
   "metadata": {
    "papermill": {
     "duration": 0.083941,
     "end_time": "2024-01-26T05:16:05.581087",
     "exception": false,
     "start_time": "2024-01-26T05:16:05.497146",
     "status": "completed"
    },
    "tags": []
   },
   "source": [
    "### Insights:\n",
    " - The heatmap clearly shows which all variable are multicollinear in nature, and which variable have high collinearity with the target variable.\n",
    " - We will refer this map back-and-forth while building the linear model so as to validate different correlated values along with VIF & p-value, for identifying the correct variable to select/eliminate from the model."
   ]
  },
  {
   "cell_type": "markdown",
   "metadata": {
    "papermill": {
     "duration": 0.084626,
     "end_time": "2024-01-26T05:16:05.750580",
     "exception": false,
     "start_time": "2024-01-26T05:16:05.665954",
     "status": "completed"
    },
    "tags": []
   },
   "source": [
    "# RESCALING THE FEATURES"
   ]
  },
  {
   "cell_type": "code",
   "execution_count": 39,
   "metadata": {
    "execution": {
     "iopub.execute_input": "2024-01-26T05:16:05.922399Z",
     "iopub.status.busy": "2024-01-26T05:16:05.921657Z",
     "iopub.status.idle": "2024-01-26T05:16:05.924613Z",
     "shell.execute_reply": "2024-01-26T05:16:05.924020Z",
     "shell.execute_reply.started": "2024-01-26T05:11:06.185053Z"
    },
    "papermill": {
     "duration": 0.091187,
     "end_time": "2024-01-26T05:16:05.924768",
     "exception": false,
     "start_time": "2024-01-26T05:16:05.833581",
     "status": "completed"
    },
    "tags": []
   },
   "outputs": [],
   "source": [
    "from sklearn.preprocessing import MinMaxScaler"
   ]
  },
  {
   "cell_type": "code",
   "execution_count": 40,
   "metadata": {
    "execution": {
     "iopub.execute_input": "2024-01-26T05:16:06.097156Z",
     "iopub.status.busy": "2024-01-26T05:16:06.096410Z",
     "iopub.status.idle": "2024-01-26T05:16:06.100621Z",
     "shell.execute_reply": "2024-01-26T05:16:06.099956Z",
     "shell.execute_reply.started": "2024-01-26T05:11:06.190431Z"
    },
    "papermill": {
     "duration": 0.093101,
     "end_time": "2024-01-26T05:16:06.100836",
     "exception": false,
     "start_time": "2024-01-26T05:16:06.007735",
     "status": "completed"
    },
    "tags": []
   },
   "outputs": [],
   "source": [
    "scaler = MinMaxScaler()"
   ]
  },
  {
   "cell_type": "code",
   "execution_count": 41,
   "metadata": {
    "execution": {
     "iopub.execute_input": "2024-01-26T05:16:06.281644Z",
     "iopub.status.busy": "2024-01-26T05:16:06.280559Z",
     "iopub.status.idle": "2024-01-26T05:16:06.285956Z",
     "shell.execute_reply": "2024-01-26T05:16:06.285277Z",
     "shell.execute_reply.started": "2024-01-26T05:11:06.202855Z"
    },
    "papermill": {
     "duration": 0.100235,
     "end_time": "2024-01-26T05:16:06.286097",
     "exception": false,
     "start_time": "2024-01-26T05:16:06.185862",
     "status": "completed"
    },
    "scrolled": true,
    "tags": []
   },
   "outputs": [
    {
     "data": {
      "text/html": [
       "<div>\n",
       "<style scoped>\n",
       "    .dataframe tbody tr th:only-of-type {\n",
       "        vertical-align: middle;\n",
       "    }\n",
       "\n",
       "    .dataframe tbody tr th {\n",
       "        vertical-align: top;\n",
       "    }\n",
       "\n",
       "    .dataframe thead th {\n",
       "        text-align: right;\n",
       "    }\n",
       "</style>\n",
       "<table border=\"1\" class=\"dataframe\">\n",
       "  <thead>\n",
       "    <tr style=\"text-align: right;\">\n",
       "      <th></th>\n",
       "      <th>Produktivitas Mangga</th>\n",
       "      <th>Sun Hour</th>\n",
       "      <th>Sun Day</th>\n",
       "    </tr>\n",
       "  </thead>\n",
       "  <tbody>\n",
       "    <tr>\n",
       "      <th>1</th>\n",
       "      <td>0.00</td>\n",
       "      <td>237.7</td>\n",
       "      <td>49</td>\n",
       "    </tr>\n",
       "    <tr>\n",
       "      <th>14</th>\n",
       "      <td>0.56</td>\n",
       "      <td>306.3</td>\n",
       "      <td>83</td>\n",
       "    </tr>\n",
       "    <tr>\n",
       "      <th>36</th>\n",
       "      <td>0.26</td>\n",
       "      <td>30.0</td>\n",
       "      <td>6</td>\n",
       "    </tr>\n",
       "    <tr>\n",
       "      <th>11</th>\n",
       "      <td>0.53</td>\n",
       "      <td>187.0</td>\n",
       "      <td>25</td>\n",
       "    </tr>\n",
       "    <tr>\n",
       "      <th>18</th>\n",
       "      <td>0.54</td>\n",
       "      <td>225.7</td>\n",
       "      <td>45</td>\n",
       "    </tr>\n",
       "  </tbody>\n",
       "</table>\n",
       "</div>"
      ],
      "text/plain": [
       "    Produktivitas Mangga  Sun Hour  Sun Day\n",
       "1                   0.00     237.7       49\n",
       "14                  0.56     306.3       83\n",
       "36                  0.26      30.0        6\n",
       "11                  0.53     187.0       25\n",
       "18                  0.54     225.7       45"
      ]
     },
     "execution_count": 41,
     "metadata": {},
     "output_type": "execute_result"
    }
   ],
   "source": [
    "# Checking the values before scaling\n",
    "df_train.head()"
   ]
  },
  {
   "cell_type": "code",
   "execution_count": 42,
   "metadata": {
    "execution": {
     "iopub.execute_input": "2024-01-26T05:16:06.465529Z",
     "iopub.status.busy": "2024-01-26T05:16:06.464808Z",
     "iopub.status.idle": "2024-01-26T05:16:06.469148Z",
     "shell.execute_reply": "2024-01-26T05:16:06.468461Z",
     "shell.execute_reply.started": "2024-01-26T05:11:06.220892Z"
    },
    "papermill": {
     "duration": 0.097086,
     "end_time": "2024-01-26T05:16:06.469283",
     "exception": false,
     "start_time": "2024-01-26T05:16:06.372197",
     "status": "completed"
    },
    "tags": []
   },
   "outputs": [
    {
     "data": {
      "text/plain": [
       "Index(['Produktivitas Mangga', 'Sun Hour', 'Sun Day'], dtype='object')"
      ]
     },
     "execution_count": 42,
     "metadata": {},
     "output_type": "execute_result"
    }
   ],
   "source": [
    "df_train.columns"
   ]
  },
  {
   "cell_type": "code",
   "execution_count": 43,
   "metadata": {
    "execution": {
     "iopub.execute_input": "2024-01-26T05:16:06.653566Z",
     "iopub.status.busy": "2024-01-26T05:16:06.652758Z",
     "iopub.status.idle": "2024-01-26T05:16:06.656094Z",
     "shell.execute_reply": "2024-01-26T05:16:06.655393Z",
     "shell.execute_reply.started": "2024-01-26T05:11:06.232020Z"
    },
    "papermill": {
     "duration": 0.102802,
     "end_time": "2024-01-26T05:16:06.656276",
     "exception": false,
     "start_time": "2024-01-26T05:16:06.553474",
     "status": "completed"
    },
    "tags": []
   },
   "outputs": [],
   "source": [
    "# Apply scaler() to all the numeric variables\n",
    "\n",
    "num_vars = ['Produktivitas Mangga', 'Sun Hour', 'Sun Day']\n",
    "\n",
    "df_train[num_vars] = scaler.fit_transform(df_train[num_vars])"
   ]
  },
  {
   "cell_type": "code",
   "execution_count": 44,
   "metadata": {
    "execution": {
     "iopub.execute_input": "2024-01-26T05:16:06.839495Z",
     "iopub.status.busy": "2024-01-26T05:16:06.838641Z",
     "iopub.status.idle": "2024-01-26T05:16:06.843223Z",
     "shell.execute_reply": "2024-01-26T05:16:06.842478Z",
     "shell.execute_reply.started": "2024-01-26T05:11:06.248489Z"
    },
    "papermill": {
     "duration": 0.101222,
     "end_time": "2024-01-26T05:16:06.843367",
     "exception": false,
     "start_time": "2024-01-26T05:16:06.742145",
     "status": "completed"
    },
    "tags": []
   },
   "outputs": [
    {
     "data": {
      "text/html": [
       "<div>\n",
       "<style scoped>\n",
       "    .dataframe tbody tr th:only-of-type {\n",
       "        vertical-align: middle;\n",
       "    }\n",
       "\n",
       "    .dataframe tbody tr th {\n",
       "        vertical-align: top;\n",
       "    }\n",
       "\n",
       "    .dataframe thead th {\n",
       "        text-align: right;\n",
       "    }\n",
       "</style>\n",
       "<table border=\"1\" class=\"dataframe\">\n",
       "  <thead>\n",
       "    <tr style=\"text-align: right;\">\n",
       "      <th></th>\n",
       "      <th>Produktivitas Mangga</th>\n",
       "      <th>Sun Hour</th>\n",
       "      <th>Sun Day</th>\n",
       "    </tr>\n",
       "  </thead>\n",
       "  <tbody>\n",
       "    <tr>\n",
       "      <th>1</th>\n",
       "      <td>0.000000</td>\n",
       "      <td>0.716207</td>\n",
       "      <td>0.558442</td>\n",
       "    </tr>\n",
       "    <tr>\n",
       "      <th>14</th>\n",
       "      <td>0.823529</td>\n",
       "      <td>0.952759</td>\n",
       "      <td>1.000000</td>\n",
       "    </tr>\n",
       "    <tr>\n",
       "      <th>36</th>\n",
       "      <td>0.382353</td>\n",
       "      <td>0.000000</td>\n",
       "      <td>0.000000</td>\n",
       "    </tr>\n",
       "    <tr>\n",
       "      <th>11</th>\n",
       "      <td>0.779412</td>\n",
       "      <td>0.541379</td>\n",
       "      <td>0.246753</td>\n",
       "    </tr>\n",
       "    <tr>\n",
       "      <th>18</th>\n",
       "      <td>0.794118</td>\n",
       "      <td>0.674828</td>\n",
       "      <td>0.506494</td>\n",
       "    </tr>\n",
       "  </tbody>\n",
       "</table>\n",
       "</div>"
      ],
      "text/plain": [
       "    Produktivitas Mangga  Sun Hour   Sun Day\n",
       "1               0.000000  0.716207  0.558442\n",
       "14              0.823529  0.952759  1.000000\n",
       "36              0.382353  0.000000  0.000000\n",
       "11              0.779412  0.541379  0.246753\n",
       "18              0.794118  0.674828  0.506494"
      ]
     },
     "execution_count": 44,
     "metadata": {},
     "output_type": "execute_result"
    }
   ],
   "source": [
    "# Checking values after scaling\n",
    "df_train.head()"
   ]
  },
  {
   "cell_type": "code",
   "execution_count": 45,
   "metadata": {
    "execution": {
     "iopub.execute_input": "2024-01-26T05:16:07.029470Z",
     "iopub.status.busy": "2024-01-26T05:16:07.028727Z",
     "iopub.status.idle": "2024-01-26T05:16:07.045441Z",
     "shell.execute_reply": "2024-01-26T05:16:07.044772Z",
     "shell.execute_reply.started": "2024-01-26T05:11:06.272291Z"
    },
    "papermill": {
     "duration": 0.115105,
     "end_time": "2024-01-26T05:16:07.045606",
     "exception": false,
     "start_time": "2024-01-26T05:16:06.930501",
     "status": "completed"
    },
    "tags": []
   },
   "outputs": [
    {
     "data": {
      "text/html": [
       "<div>\n",
       "<style scoped>\n",
       "    .dataframe tbody tr th:only-of-type {\n",
       "        vertical-align: middle;\n",
       "    }\n",
       "\n",
       "    .dataframe tbody tr th {\n",
       "        vertical-align: top;\n",
       "    }\n",
       "\n",
       "    .dataframe thead th {\n",
       "        text-align: right;\n",
       "    }\n",
       "</style>\n",
       "<table border=\"1\" class=\"dataframe\">\n",
       "  <thead>\n",
       "    <tr style=\"text-align: right;\">\n",
       "      <th></th>\n",
       "      <th>Produktivitas Mangga</th>\n",
       "      <th>Sun Hour</th>\n",
       "      <th>Sun Day</th>\n",
       "    </tr>\n",
       "  </thead>\n",
       "  <tbody>\n",
       "    <tr>\n",
       "      <th>count</th>\n",
       "      <td>28.000000</td>\n",
       "      <td>28.000000</td>\n",
       "      <td>28.000000</td>\n",
       "    </tr>\n",
       "    <tr>\n",
       "      <th>mean</th>\n",
       "      <td>0.526786</td>\n",
       "      <td>0.522167</td>\n",
       "      <td>0.432746</td>\n",
       "    </tr>\n",
       "    <tr>\n",
       "      <th>std</th>\n",
       "      <td>0.376528</td>\n",
       "      <td>0.258896</td>\n",
       "      <td>0.310042</td>\n",
       "    </tr>\n",
       "    <tr>\n",
       "      <th>min</th>\n",
       "      <td>0.000000</td>\n",
       "      <td>0.000000</td>\n",
       "      <td>0.000000</td>\n",
       "    </tr>\n",
       "    <tr>\n",
       "      <th>25%</th>\n",
       "      <td>0.000000</td>\n",
       "      <td>0.354655</td>\n",
       "      <td>0.201299</td>\n",
       "    </tr>\n",
       "    <tr>\n",
       "      <th>50%</th>\n",
       "      <td>0.691176</td>\n",
       "      <td>0.509138</td>\n",
       "      <td>0.376623</td>\n",
       "    </tr>\n",
       "    <tr>\n",
       "      <th>75%</th>\n",
       "      <td>0.801471</td>\n",
       "      <td>0.706207</td>\n",
       "      <td>0.613636</td>\n",
       "    </tr>\n",
       "    <tr>\n",
       "      <th>max</th>\n",
       "      <td>1.000000</td>\n",
       "      <td>1.000000</td>\n",
       "      <td>1.000000</td>\n",
       "    </tr>\n",
       "  </tbody>\n",
       "</table>\n",
       "</div>"
      ],
      "text/plain": [
       "       Produktivitas Mangga   Sun Hour    Sun Day\n",
       "count             28.000000  28.000000  28.000000\n",
       "mean               0.526786   0.522167   0.432746\n",
       "std                0.376528   0.258896   0.310042\n",
       "min                0.000000   0.000000   0.000000\n",
       "25%                0.000000   0.354655   0.201299\n",
       "50%                0.691176   0.509138   0.376623\n",
       "75%                0.801471   0.706207   0.613636\n",
       "max                1.000000   1.000000   1.000000"
      ]
     },
     "execution_count": 45,
     "metadata": {},
     "output_type": "execute_result"
    }
   ],
   "source": [
    "df_train.describe()"
   ]
  },
  {
   "cell_type": "markdown",
   "metadata": {
    "papermill": {
     "duration": 0.088626,
     "end_time": "2024-01-26T05:16:07.221939",
     "exception": false,
     "start_time": "2024-01-26T05:16:07.133313",
     "status": "completed"
    },
    "tags": []
   },
   "source": [
    "# BUILDING A LINEAR MODEL"
   ]
  },
  {
   "cell_type": "markdown",
   "metadata": {
    "papermill": {
     "duration": 0.086641,
     "end_time": "2024-01-26T05:16:07.393953",
     "exception": false,
     "start_time": "2024-01-26T05:16:07.307312",
     "status": "completed"
    },
    "tags": []
   },
   "source": [
    "## Dividing into X and Y sets for the model building"
   ]
  },
  {
   "cell_type": "code",
   "execution_count": 46,
   "metadata": {
    "execution": {
     "iopub.execute_input": "2024-01-26T05:16:07.570248Z",
     "iopub.status.busy": "2024-01-26T05:16:07.569478Z",
     "iopub.status.idle": "2024-01-26T05:16:07.575140Z",
     "shell.execute_reply": "2024-01-26T05:16:07.575759Z",
     "shell.execute_reply.started": "2024-01-26T05:11:06.297520Z"
    },
    "papermill": {
     "duration": 0.094404,
     "end_time": "2024-01-26T05:16:07.575946",
     "exception": false,
     "start_time": "2024-01-26T05:16:07.481542",
     "status": "completed"
    },
    "tags": []
   },
   "outputs": [],
   "source": [
    "y_train = df_train.pop('Produktivitas Mangga')\n",
    "X_train = df_train"
   ]
  },
  {
   "cell_type": "markdown",
   "metadata": {
    "papermill": {
     "duration": 0.084253,
     "end_time": "2024-01-26T05:16:07.745241",
     "exception": false,
     "start_time": "2024-01-26T05:16:07.660988",
     "status": "completed"
    },
    "tags": []
   },
   "source": [
    "### RFE\n",
    "Recursive feature elimination: We will be using the **LinearRegression function from SciKit Learn**  for its compatibility with RFE (which is a utility from sklearn)"
   ]
  },
  {
   "cell_type": "code",
   "execution_count": 47,
   "metadata": {
    "execution": {
     "iopub.execute_input": "2024-01-26T05:16:07.924081Z",
     "iopub.status.busy": "2024-01-26T05:16:07.923329Z",
     "iopub.status.idle": "2024-01-26T05:16:08.105397Z",
     "shell.execute_reply": "2024-01-26T05:16:08.106008Z",
     "shell.execute_reply.started": "2024-01-26T05:11:06.303991Z"
    },
    "papermill": {
     "duration": 0.273603,
     "end_time": "2024-01-26T05:16:08.106226",
     "exception": false,
     "start_time": "2024-01-26T05:16:07.832623",
     "status": "completed"
    },
    "tags": []
   },
   "outputs": [],
   "source": [
    "# Importing RFE and LinearRegression\n",
    "from sklearn.feature_selection import RFE\n",
    "from sklearn.linear_model import LinearRegression"
   ]
  },
  {
   "cell_type": "code",
   "execution_count": 48,
   "metadata": {
    "execution": {
     "iopub.execute_input": "2024-01-26T05:16:08.295412Z",
     "iopub.status.busy": "2024-01-26T05:16:08.294491Z",
     "iopub.status.idle": "2024-01-26T05:16:08.322369Z",
     "shell.execute_reply": "2024-01-26T05:16:08.321585Z",
     "shell.execute_reply.started": "2024-01-26T05:11:06.312813Z"
    },
    "papermill": {
     "duration": 0.12956,
     "end_time": "2024-01-26T05:16:08.322517",
     "exception": false,
     "start_time": "2024-01-26T05:16:08.192957",
     "status": "completed"
    },
    "tags": []
   },
   "outputs": [],
   "source": [
    "# Running RFE with the output number of the variable equal to 15\n",
    "lm = LinearRegression()\n",
    "lm.fit(X_train, y_train)\n",
    "\n",
    "rfe = RFE(lm, 15)             # running RFE\n",
    "rfe = rfe.fit(X_train, y_train)"
   ]
  },
  {
   "cell_type": "code",
   "execution_count": 49,
   "metadata": {
    "execution": {
     "iopub.execute_input": "2024-01-26T05:16:08.507633Z",
     "iopub.status.busy": "2024-01-26T05:16:08.506576Z",
     "iopub.status.idle": "2024-01-26T05:16:08.511882Z",
     "shell.execute_reply": "2024-01-26T05:16:08.511113Z",
     "shell.execute_reply.started": "2024-01-26T05:11:06.327917Z"
    },
    "papermill": {
     "duration": 0.100084,
     "end_time": "2024-01-26T05:16:08.512040",
     "exception": false,
     "start_time": "2024-01-26T05:16:08.411956",
     "status": "completed"
    },
    "tags": []
   },
   "outputs": [
    {
     "data": {
      "text/plain": [
       "[('Sun Hour', True, 1), ('Sun Day', True, 1)]"
      ]
     },
     "execution_count": 49,
     "metadata": {},
     "output_type": "execute_result"
    }
   ],
   "source": [
    "list(zip(X_train.columns,rfe.support_,rfe.ranking_))"
   ]
  },
  {
   "cell_type": "code",
   "execution_count": 50,
   "metadata": {
    "execution": {
     "iopub.execute_input": "2024-01-26T05:16:08.696616Z",
     "iopub.status.busy": "2024-01-26T05:16:08.695443Z",
     "iopub.status.idle": "2024-01-26T05:16:08.703981Z",
     "shell.execute_reply": "2024-01-26T05:16:08.703380Z",
     "shell.execute_reply.started": "2024-01-26T05:11:06.340072Z"
    },
    "papermill": {
     "duration": 0.102969,
     "end_time": "2024-01-26T05:16:08.704181",
     "exception": false,
     "start_time": "2024-01-26T05:16:08.601212",
     "status": "completed"
    },
    "tags": []
   },
   "outputs": [
    {
     "data": {
      "text/plain": [
       "Index(['Sun Hour', 'Sun Day'], dtype='object')"
      ]
     },
     "execution_count": 50,
     "metadata": {},
     "output_type": "execute_result"
    }
   ],
   "source": [
    "col = X_train.columns[rfe.support_]\n",
    "col"
   ]
  },
  {
   "cell_type": "code",
   "execution_count": 51,
   "metadata": {
    "execution": {
     "iopub.execute_input": "2024-01-26T05:16:08.883657Z",
     "iopub.status.busy": "2024-01-26T05:16:08.882550Z",
     "iopub.status.idle": "2024-01-26T05:16:08.889521Z",
     "shell.execute_reply": "2024-01-26T05:16:08.890134Z",
     "shell.execute_reply.started": "2024-01-26T05:11:06.352385Z"
    },
    "papermill": {
     "duration": 0.099125,
     "end_time": "2024-01-26T05:16:08.890318",
     "exception": false,
     "start_time": "2024-01-26T05:16:08.791193",
     "status": "completed"
    },
    "tags": []
   },
   "outputs": [
    {
     "data": {
      "text/plain": [
       "Index([], dtype='object')"
      ]
     },
     "execution_count": 51,
     "metadata": {},
     "output_type": "execute_result"
    }
   ],
   "source": [
    "X_train.columns[~rfe.support_]"
   ]
  },
  {
   "cell_type": "code",
   "execution_count": 52,
   "metadata": {
    "execution": {
     "iopub.execute_input": "2024-01-26T05:16:09.070502Z",
     "iopub.status.busy": "2024-01-26T05:16:09.069336Z",
     "iopub.status.idle": "2024-01-26T05:16:09.076153Z",
     "shell.execute_reply": "2024-01-26T05:16:09.076729Z",
     "shell.execute_reply.started": "2024-01-26T05:11:06.364331Z"
    },
    "papermill": {
     "duration": 0.096452,
     "end_time": "2024-01-26T05:16:09.076948",
     "exception": false,
     "start_time": "2024-01-26T05:16:08.980496",
     "status": "completed"
    },
    "tags": []
   },
   "outputs": [],
   "source": [
    "# Creating X_test dataframe with RFE selected variables\n",
    "X_train_rfe = X_train[col]"
   ]
  },
  {
   "cell_type": "code",
   "execution_count": 53,
   "metadata": {
    "execution": {
     "iopub.execute_input": "2024-01-26T05:16:09.260015Z",
     "iopub.status.busy": "2024-01-26T05:16:09.258889Z",
     "iopub.status.idle": "2024-01-26T05:16:09.264470Z",
     "shell.execute_reply": "2024-01-26T05:16:09.263907Z",
     "shell.execute_reply.started": "2024-01-26T05:11:06.375605Z"
    },
    "papermill": {
     "duration": 0.094671,
     "end_time": "2024-01-26T05:16:09.264616",
     "exception": false,
     "start_time": "2024-01-26T05:16:09.169945",
     "status": "completed"
    },
    "tags": []
   },
   "outputs": [],
   "source": [
    "from scipy import stats\n",
    "import matplotlib.pyplot as plt"
   ]
  },
  {
   "cell_type": "code",
   "execution_count": 54,
   "metadata": {
    "execution": {
     "iopub.execute_input": "2024-01-26T05:16:09.447612Z",
     "iopub.status.busy": "2024-01-26T05:16:09.446780Z",
     "iopub.status.idle": "2024-01-26T05:16:09.453512Z",
     "shell.execute_reply": "2024-01-26T05:16:09.451923Z",
     "shell.execute_reply.started": "2024-01-26T05:11:06.387033Z"
    },
    "papermill": {
     "duration": 0.102532,
     "end_time": "2024-01-26T05:16:09.453732",
     "exception": false,
     "start_time": "2024-01-26T05:16:09.351200",
     "status": "completed"
    },
    "tags": []
   },
   "outputs": [
    {
     "name": "stdout",
     "output_type": "stream",
     "text": [
      "Shapiro-Wilk test statistic: 0.961925745010376\n",
      "Shapiro-Wilk test p-value: 0.07447139918804169\n"
     ]
    }
   ],
   "source": [
    "statistic, pvalue = stats.shapiro(X_train_rfe)\n",
    "\n",
    "print(\"Shapiro-Wilk test statistic:\", statistic)\n",
    "print(\"Shapiro-Wilk test p-value:\", pvalue)"
   ]
  },
  {
   "cell_type": "markdown",
   "metadata": {
    "papermill": {
     "duration": 0.093426,
     "end_time": "2024-01-26T05:16:09.641703",
     "exception": false,
     "start_time": "2024-01-26T05:16:09.548277",
     "status": "completed"
    },
    "tags": []
   },
   "source": [
    "# Building Linear Model using 'STATS MODEL'"
   ]
  },
  {
   "cell_type": "markdown",
   "metadata": {
    "papermill": {
     "duration": 0.088612,
     "end_time": "2024-01-26T05:16:09.818885",
     "exception": false,
     "start_time": "2024-01-26T05:16:09.730273",
     "status": "completed"
    },
    "tags": []
   },
   "source": [
    "## Model 1"
   ]
  },
  {
   "cell_type": "markdown",
   "metadata": {
    "papermill": {
     "duration": 0.08717,
     "end_time": "2024-01-26T05:16:09.994319",
     "exception": false,
     "start_time": "2024-01-26T05:16:09.907149",
     "status": "completed"
    },
    "tags": []
   },
   "source": [
    "### VIF Check"
   ]
  },
  {
   "cell_type": "code",
   "execution_count": 55,
   "metadata": {
    "execution": {
     "iopub.execute_input": "2024-01-26T05:16:10.175755Z",
     "iopub.status.busy": "2024-01-26T05:16:10.174878Z",
     "iopub.status.idle": "2024-01-26T05:16:10.308199Z",
     "shell.execute_reply": "2024-01-26T05:16:10.307423Z",
     "shell.execute_reply.started": "2024-01-26T05:11:06.399492Z"
    },
    "papermill": {
     "duration": 0.223711,
     "end_time": "2024-01-26T05:16:10.308345",
     "exception": false,
     "start_time": "2024-01-26T05:16:10.084634",
     "status": "completed"
    },
    "tags": []
   },
   "outputs": [
    {
     "data": {
      "text/html": [
       "<div>\n",
       "<style scoped>\n",
       "    .dataframe tbody tr th:only-of-type {\n",
       "        vertical-align: middle;\n",
       "    }\n",
       "\n",
       "    .dataframe tbody tr th {\n",
       "        vertical-align: top;\n",
       "    }\n",
       "\n",
       "    .dataframe thead th {\n",
       "        text-align: right;\n",
       "    }\n",
       "</style>\n",
       "<table border=\"1\" class=\"dataframe\">\n",
       "  <thead>\n",
       "    <tr style=\"text-align: right;\">\n",
       "      <th></th>\n",
       "      <th>Features</th>\n",
       "      <th>VIF</th>\n",
       "    </tr>\n",
       "  </thead>\n",
       "  <tbody>\n",
       "    <tr>\n",
       "      <th>0</th>\n",
       "      <td>Sun Hour</td>\n",
       "      <td>7.97</td>\n",
       "    </tr>\n",
       "    <tr>\n",
       "      <th>1</th>\n",
       "      <td>Sun Day</td>\n",
       "      <td>7.97</td>\n",
       "    </tr>\n",
       "  </tbody>\n",
       "</table>\n",
       "</div>"
      ],
      "text/plain": [
       "   Features   VIF\n",
       "0  Sun Hour  7.97\n",
       "1   Sun Day  7.97"
      ]
     },
     "execution_count": 55,
     "metadata": {},
     "output_type": "execute_result"
    }
   ],
   "source": [
    "# Check for the VIF values of the feature variables. \n",
    "from statsmodels.stats.outliers_influence import variance_inflation_factor\n",
    "\n",
    "# Create a dataframe that will contain the names of all the feature variables and their respective VIFs\n",
    "vif = pd.DataFrame()\n",
    "vif['Features'] = X_train_rfe.columns\n",
    "vif['VIF'] = [variance_inflation_factor(X_train_rfe.values, i) for i in range(X_train_rfe.shape[1])]\n",
    "vif['VIF'] = round(vif['VIF'], 2)\n",
    "vif = vif.sort_values(by = \"VIF\", ascending = False)\n",
    "vif"
   ]
  },
  {
   "cell_type": "code",
   "execution_count": 56,
   "metadata": {
    "execution": {
     "iopub.execute_input": "2024-01-26T05:16:10.498934Z",
     "iopub.status.busy": "2024-01-26T05:16:10.498163Z",
     "iopub.status.idle": "2024-01-26T05:16:11.124415Z",
     "shell.execute_reply": "2024-01-26T05:16:11.123729Z",
     "shell.execute_reply.started": "2024-01-26T05:11:06.420472Z"
    },
    "papermill": {
     "duration": 0.721764,
     "end_time": "2024-01-26T05:16:11.124578",
     "exception": false,
     "start_time": "2024-01-26T05:16:10.402814",
     "status": "completed"
    },
    "tags": []
   },
   "outputs": [],
   "source": [
    "import statsmodels.api as sm\n",
    "\n",
    "# Add a constant\n",
    "X_train_lm1 = sm.add_constant(X_train_rfe)\n",
    "\n",
    "# Create a first fitted model\n",
    "lr1 = sm.OLS(y_train, X_train_lm1).fit()"
   ]
  },
  {
   "cell_type": "code",
   "execution_count": 57,
   "metadata": {
    "execution": {
     "iopub.execute_input": "2024-01-26T05:16:11.309009Z",
     "iopub.status.busy": "2024-01-26T05:16:11.307855Z",
     "iopub.status.idle": "2024-01-26T05:16:11.317356Z",
     "shell.execute_reply": "2024-01-26T05:16:11.316712Z",
     "shell.execute_reply.started": "2024-01-26T05:11:06.432956Z"
    },
    "papermill": {
     "duration": 0.101033,
     "end_time": "2024-01-26T05:16:11.317509",
     "exception": false,
     "start_time": "2024-01-26T05:16:11.216476",
     "status": "completed"
    },
    "tags": []
   },
   "outputs": [
    {
     "data": {
      "text/plain": [
       "const       0.550655\n",
       "Sun Hour   -0.072510\n",
       "Sun Day     0.032336\n",
       "dtype: float64"
      ]
     },
     "execution_count": 57,
     "metadata": {},
     "output_type": "execute_result"
    }
   ],
   "source": [
    "# Check the parameters obtained\n",
    "\n",
    "lr1.params"
   ]
  },
  {
   "cell_type": "code",
   "execution_count": 58,
   "metadata": {
    "execution": {
     "iopub.execute_input": "2024-01-26T05:16:11.506290Z",
     "iopub.status.busy": "2024-01-26T05:16:11.505117Z",
     "iopub.status.idle": "2024-01-26T05:16:11.520261Z",
     "shell.execute_reply": "2024-01-26T05:16:11.519558Z",
     "shell.execute_reply.started": "2024-01-26T05:11:06.444931Z"
    },
    "papermill": {
     "duration": 0.112272,
     "end_time": "2024-01-26T05:16:11.520412",
     "exception": false,
     "start_time": "2024-01-26T05:16:11.408140",
     "status": "completed"
    },
    "tags": []
   },
   "outputs": [
    {
     "name": "stdout",
     "output_type": "stream",
     "text": [
      "                             OLS Regression Results                             \n",
      "================================================================================\n",
      "Dep. Variable:     Produktivitas Mangga   R-squared:                       0.001\n",
      "Model:                              OLS   Adj. R-squared:                 -0.079\n",
      "Method:                   Least Squares   F-statistic:                   0.01362\n",
      "Date:                  Fri, 26 Jan 2024   Prob (F-statistic):              0.986\n",
      "Time:                          05:16:11   Log-Likelihood:                -11.857\n",
      "No. Observations:                    28   AIC:                             29.71\n",
      "Df Residuals:                        25   BIC:                             33.71\n",
      "Df Model:                             2                                         \n",
      "Covariance Type:              nonrobust                                         \n",
      "==============================================================================\n",
      "                 coef    std err          t      P>|t|      [0.025      0.975]\n",
      "------------------------------------------------------------------------------\n",
      "const          0.5507      0.171      3.225      0.003       0.199       0.902\n",
      "Sun Hour      -0.0725      0.478     -0.152      0.881      -1.056       0.911\n",
      "Sun Day        0.0323      0.399      0.081      0.936      -0.789       0.854\n",
      "==============================================================================\n",
      "Omnibus:                       11.493   Durbin-Watson:                   2.409\n",
      "Prob(Omnibus):                  0.003   Jarque-Bera (JB):                3.240\n",
      "Skew:                          -0.445   Prob(JB):                        0.198\n",
      "Kurtosis:                       1.591   Cond. No.                         9.90\n",
      "==============================================================================\n",
      "\n",
      "Warnings:\n",
      "[1] Standard Errors assume that the covariance matrix of the errors is correctly specified.\n"
     ]
    }
   ],
   "source": [
    "# Print a summary of the linear regression model obtained\n",
    "print(lr1.summary())"
   ]
  },
  {
   "cell_type": "markdown",
   "metadata": {
    "papermill": {
     "duration": 0.095922,
     "end_time": "2024-01-26T05:16:11.709536",
     "exception": false,
     "start_time": "2024-01-26T05:16:11.613614",
     "status": "completed"
    },
    "tags": []
   },
   "source": [
    "## Hypothesis Testing:"
   ]
  },
  {
   "cell_type": "markdown",
   "metadata": {
    "papermill": {
     "duration": 0.093997,
     "end_time": "2024-01-26T05:16:11.895658",
     "exception": false,
     "start_time": "2024-01-26T05:16:11.801661",
     "status": "completed"
    },
    "tags": []
   },
   "source": [
    "Hypothesis testing states that:\n",
    "- H0:B1=B2=...=Bn=0 \n",
    "- H1:  at least one  Bi!=0"
   ]
  },
  {
   "cell_type": "markdown",
   "metadata": {
    "papermill": {
     "duration": 0.096955,
     "end_time": "2024-01-26T05:16:12.086878",
     "exception": false,
     "start_time": "2024-01-26T05:16:11.989923",
     "status": "completed"
    },
    "tags": []
   },
   "source": [
    "### lr6 model coefficient values"
   ]
  },
  {
   "cell_type": "markdown",
   "metadata": {
    "papermill": {
     "duration": 0.092606,
     "end_time": "2024-01-26T05:16:12.270060",
     "exception": false,
     "start_time": "2024-01-26T05:16:12.177454",
     "status": "completed"
    },
    "tags": []
   },
   "source": [
    "- const 0.5507\n",
    "- Sun Hour -0.0725      \n",
    "- Sun Day 0.0323"
   ]
  },
  {
   "cell_type": "markdown",
   "metadata": {
    "papermill": {
     "duration": 0.093436,
     "end_time": "2024-01-26T05:16:12.456590",
     "exception": false,
     "start_time": "2024-01-26T05:16:12.363154",
     "status": "completed"
    },
    "tags": []
   },
   "source": [
    "### Insights\n",
    "- From the lr6 model summary, it is evident that all our coefficients are not equal to zerowhich means **We REJECT the NULL HYPOTHESIS**\n",
    "    "
   ]
  },
  {
   "cell_type": "markdown",
   "metadata": {
    "papermill": {
     "duration": 0.091471,
     "end_time": "2024-01-26T05:16:12.638073",
     "exception": false,
     "start_time": "2024-01-26T05:16:12.546602",
     "status": "completed"
    },
    "tags": []
   },
   "source": [
    "### F Statistics"
   ]
  },
  {
   "cell_type": "markdown",
   "metadata": {
    "papermill": {
     "duration": 0.089127,
     "end_time": "2024-01-26T05:16:12.819065",
     "exception": false,
     "start_time": "2024-01-26T05:16:12.729938",
     "status": "completed"
    },
    "tags": []
   },
   "source": [
    "F-Statistics is used for testing the overall significance of the Model: Higher the F-Statistics, more significant the Model is.\n",
    "\n",
    "- F-statistic: 0.01362\n",
    "- Prob (F-statistic): 0.986\n",
    "\n",
    "The F-Statistics value of 0.01362 is not greater than 1 and the p-value is not '~0.0000' states that the overall model is not significant"
   ]
  },
  {
   "cell_type": "markdown",
   "metadata": {
    "papermill": {
     "duration": 0.089792,
     "end_time": "2024-01-26T05:16:12.995966",
     "exception": false,
     "start_time": "2024-01-26T05:16:12.906174",
     "status": "completed"
    },
    "tags": []
   },
   "source": [
    "## The equation of best fitted surface based on model lr1:"
   ]
  },
  {
   "cell_type": "markdown",
   "metadata": {
    "papermill": {
     "duration": 0.089802,
     "end_time": "2024-01-26T05:16:13.177940",
     "exception": false,
     "start_time": "2024-01-26T05:16:13.088138",
     "status": "completed"
    },
    "tags": []
   },
   "source": [
    "cnt = 0.084143 - (**Sun Hour** × -0.0725) + (**Sun Day** × 0.0323)"
   ]
  },
  {
   "cell_type": "markdown",
   "metadata": {
    "papermill": {
     "duration": 0.092937,
     "end_time": "2024-01-26T05:16:13.362336",
     "exception": false,
     "start_time": "2024-01-26T05:16:13.269399",
     "status": "completed"
    },
    "tags": []
   },
   "source": [
    "## Interpretation of Coefficients:\n",
    "**Sun Hour:** A coefficient value of ‘-0.0725’ menunjukkan bahwa setiap nilai variable yang bertambah akan berdampak negative sebesar 7 % terhadap produktivitas mangga secara tidak langsung.\n",
    "\n",
    "**Sun Day:** A coefficient value of ‘0.0320’ menunjukkan bahwa setiap nilai variable yang bertambah akan berdampak negative sebesar 3% terhadap produktivitas mangga secara tidak langsung."
   ]
  },
  {
   "cell_type": "markdown",
   "metadata": {
    "papermill": {
     "duration": 0.096578,
     "end_time": "2024-01-26T05:16:13.568634",
     "exception": false,
     "start_time": "2024-01-26T05:16:13.472056",
     "status": "completed"
    },
    "tags": []
   },
   "source": [
    "# ASSUMPTIONS "
   ]
  },
  {
   "cell_type": "markdown",
   "metadata": {
    "papermill": {
     "duration": 0.088703,
     "end_time": "2024-01-26T05:16:13.751039",
     "exception": false,
     "start_time": "2024-01-26T05:16:13.662336",
     "status": "completed"
    },
    "tags": []
   },
   "source": [
    "## Error terms are normally distributed with mean zero (not X, Y)\n",
    "- Residual Analysis Of Training Data"
   ]
  },
  {
   "cell_type": "code",
   "execution_count": 59,
   "metadata": {
    "execution": {
     "iopub.execute_input": "2024-01-26T05:16:13.938442Z",
     "iopub.status.busy": "2024-01-26T05:16:13.937333Z",
     "iopub.status.idle": "2024-01-26T05:16:13.940934Z",
     "shell.execute_reply": "2024-01-26T05:16:13.940339Z",
     "shell.execute_reply.started": "2024-01-26T05:11:06.462753Z"
    },
    "papermill": {
     "duration": 0.099506,
     "end_time": "2024-01-26T05:16:13.941088",
     "exception": false,
     "start_time": "2024-01-26T05:16:13.841582",
     "status": "completed"
    },
    "tags": []
   },
   "outputs": [],
   "source": [
    "y_train_pred = lr1.predict(X_train_lm1)"
   ]
  },
  {
   "cell_type": "code",
   "execution_count": 60,
   "metadata": {
    "execution": {
     "iopub.execute_input": "2024-01-26T05:16:14.145777Z",
     "iopub.status.busy": "2024-01-26T05:16:14.138888Z",
     "iopub.status.idle": "2024-01-26T05:16:14.345524Z",
     "shell.execute_reply": "2024-01-26T05:16:14.344838Z",
     "shell.execute_reply.started": "2024-01-26T05:11:06.473268Z"
    },
    "papermill": {
     "duration": 0.309475,
     "end_time": "2024-01-26T05:16:14.345687",
     "exception": false,
     "start_time": "2024-01-26T05:16:14.036212",
     "status": "completed"
    },
    "tags": []
   },
   "outputs": [
    {
     "data": {
      "text/plain": [
       "Text(0.5, 0, 'Errors')"
      ]
     },
     "execution_count": 60,
     "metadata": {},
     "output_type": "execute_result"
    },
    {
     "data": {
      "image/png": "[encoded data removed]",
      "text/plain": [
       "<Figure size 432x288 with 1 Axes>"
      ]
     },
     "metadata": {
      "needs_background": "light"
     },
     "output_type": "display_data"
    }
   ],
   "source": [
    "res = y_train-y_train_pred\n",
    "# Plot the histogram of the error terms\n",
    "fig = plt.figure()\n",
    "sns.distplot((res), bins = 20)\n",
    "fig.suptitle('Error Terms', fontsize = 20)                  # Plot heading \n",
    "plt.xlabel('Errors', fontsize = 18)                         # X-label"
   ]
  },
  {
   "cell_type": "markdown",
   "metadata": {
    "papermill": {
     "duration": 0.089332,
     "end_time": "2024-01-26T05:16:14.526488",
     "exception": false,
     "start_time": "2024-01-26T05:16:14.437156",
     "status": "completed"
    },
    "tags": []
   },
   "source": [
    "### Insights\n",
    "- From the above histogram, we could see that the Residuals are normally distributed. Hence our assumption for Linear Regression is valid."
   ]
  },
  {
   "cell_type": "markdown",
   "metadata": {
    "papermill": {
     "duration": 0.092949,
     "end_time": "2024-01-26T05:16:14.710377",
     "exception": false,
     "start_time": "2024-01-26T05:16:14.617428",
     "status": "completed"
    },
    "tags": []
   },
   "source": [
    "## There is a linear relationship between X and Y"
   ]
  },
  {
   "cell_type": "code",
   "execution_count": 61,
   "metadata": {
    "execution": {
     "iopub.execute_input": "2024-01-26T05:16:14.905335Z",
     "iopub.status.busy": "2024-01-26T05:16:14.904440Z",
     "iopub.status.idle": "2024-01-26T05:16:17.507584Z",
     "shell.execute_reply": "2024-01-26T05:16:17.506522Z",
     "shell.execute_reply.started": "2024-01-26T05:11:06.653467Z"
    },
    "papermill": {
     "duration": 2.707054,
     "end_time": "2024-01-26T05:16:17.507785",
     "exception": false,
     "start_time": "2024-01-26T05:16:14.800731",
     "status": "completed"
    },
    "tags": []
   },
   "outputs": [
    {
     "data": {
      "image/png": "[encoded data removed]",
      "text/plain": [
       "<Figure size 540x540 with 12 Axes>"
      ]
     },
     "metadata": {
      "needs_background": "light"
     },
     "output_type": "display_data"
    }
   ],
   "source": [
    "bike_new=bike_new[['Produktivitas Mangga', 'Sun Hour', 'Sun Day']]\n",
    "\n",
    "sns.pairplot(bike_num, diag_kind='kde')\n",
    "plt.show()"
   ]
  },
  {
   "cell_type": "markdown",
   "metadata": {
    "papermill": {
     "duration": 0.09272,
     "end_time": "2024-01-26T05:16:17.691657",
     "exception": false,
     "start_time": "2024-01-26T05:16:17.598937",
     "status": "completed"
    },
    "tags": []
   },
   "source": [
    "## Insight\n",
    "- Using the pair plot, we could see there is a linear relation between temp and atemp variable with the predictor ‘cnt’."
   ]
  },
  {
   "cell_type": "markdown",
   "metadata": {
    "papermill": {
     "duration": 0.089532,
     "end_time": "2024-01-26T05:16:17.871146",
     "exception": false,
     "start_time": "2024-01-26T05:16:17.781614",
     "status": "completed"
    },
    "tags": []
   },
   "source": [
    "## There is No Multicollinearity between the predictor variables"
   ]
  },
  {
   "cell_type": "code",
   "execution_count": 62,
   "metadata": {
    "execution": {
     "iopub.execute_input": "2024-01-26T05:16:18.066559Z",
     "iopub.status.busy": "2024-01-26T05:16:18.065643Z",
     "iopub.status.idle": "2024-01-26T05:16:18.079448Z",
     "shell.execute_reply": "2024-01-26T05:16:18.079994Z",
     "shell.execute_reply.started": "2024-01-26T05:11:08.842440Z"
    },
    "papermill": {
     "duration": 0.118511,
     "end_time": "2024-01-26T05:16:18.080195",
     "exception": false,
     "start_time": "2024-01-26T05:16:17.961684",
     "status": "completed"
    },
    "tags": []
   },
   "outputs": [
    {
     "data": {
      "text/html": [
       "<div>\n",
       "<style scoped>\n",
       "    .dataframe tbody tr th:only-of-type {\n",
       "        vertical-align: middle;\n",
       "    }\n",
       "\n",
       "    .dataframe tbody tr th {\n",
       "        vertical-align: top;\n",
       "    }\n",
       "\n",
       "    .dataframe thead th {\n",
       "        text-align: right;\n",
       "    }\n",
       "</style>\n",
       "<table border=\"1\" class=\"dataframe\">\n",
       "  <thead>\n",
       "    <tr style=\"text-align: right;\">\n",
       "      <th></th>\n",
       "      <th>Features</th>\n",
       "      <th>VIF</th>\n",
       "    </tr>\n",
       "  </thead>\n",
       "  <tbody>\n",
       "    <tr>\n",
       "      <th>0</th>\n",
       "      <td>Sun Hour</td>\n",
       "      <td>7.97</td>\n",
       "    </tr>\n",
       "    <tr>\n",
       "      <th>1</th>\n",
       "      <td>Sun Day</td>\n",
       "      <td>7.97</td>\n",
       "    </tr>\n",
       "  </tbody>\n",
       "</table>\n",
       "</div>"
      ],
      "text/plain": [
       "   Features   VIF\n",
       "0  Sun Hour  7.97\n",
       "1   Sun Day  7.97"
      ]
     },
     "execution_count": 62,
     "metadata": {},
     "output_type": "execute_result"
    }
   ],
   "source": [
    "# Check for the VIF values of the feature variables. \n",
    "from statsmodels.stats.outliers_influence import variance_inflation_factor\n",
    "\n",
    "# Create a dataframe that will contain the names of all the feature variables and their respective VIFs\n",
    "vif = pd.DataFrame()\n",
    "vif['Features'] = X_train_rfe.columns\n",
    "vif['VIF'] = [variance_inflation_factor(X_train_rfe.values, i) for i in range(X_train_rfe.shape[1])]\n",
    "vif['VIF'] = round(vif['VIF'], 2)\n",
    "vif = vif.sort_values(by = \"VIF\", ascending = False)\n",
    "vif"
   ]
  },
  {
   "cell_type": "markdown",
   "metadata": {
    "papermill": {
     "duration": 0.091335,
     "end_time": "2024-01-26T05:16:18.262128",
     "exception": false,
     "start_time": "2024-01-26T05:16:18.170793",
     "status": "completed"
    },
    "tags": []
   },
   "source": [
    "## Insight\n",
    "\n",
    " - From the VIF calculation we could find that there is no multicollinearity existing between the predictor variables, as all the values are within permissible range of below 5"
   ]
  },
  {
   "cell_type": "markdown",
   "metadata": {
    "papermill": {
     "duration": 0.092812,
     "end_time": "2024-01-26T05:16:18.449990",
     "exception": false,
     "start_time": "2024-01-26T05:16:18.357178",
     "status": "completed"
    },
    "tags": []
   },
   "source": [
    "# MAKING PREDICTION USING FINAL MODEL\n",
    "\n",
    "Now that we have fitted the model and checked the assumptions, it's time to go ahead and make predictions using the final model (lr6)\n",
    "\n",
    "### Applying the scaling on the test sets"
   ]
  },
  {
   "cell_type": "code",
   "execution_count": 63,
   "metadata": {
    "execution": {
     "iopub.execute_input": "2024-01-26T05:16:18.640307Z",
     "iopub.status.busy": "2024-01-26T05:16:18.639528Z",
     "iopub.status.idle": "2024-01-26T05:16:18.651739Z",
     "shell.execute_reply": "2024-01-26T05:16:18.650982Z",
     "shell.execute_reply.started": "2024-01-26T05:11:08.863710Z"
    },
    "papermill": {
     "duration": 0.107972,
     "end_time": "2024-01-26T05:16:18.651893",
     "exception": false,
     "start_time": "2024-01-26T05:16:18.543921",
     "status": "completed"
    },
    "tags": []
   },
   "outputs": [],
   "source": [
    "# Apply scaler() to all numeric variables in test dataset. Note: we will only use scaler.transform, \n",
    "# as we want to use the metrics that the model learned from the training data to be applied on the test data. \n",
    "# In other words, we want to prevent the information leak from train to test dataset.\n",
    "\n",
    "num_vars = ['Produktivitas Mangga', 'Sun Hour', 'Sun Day']\n",
    "\n",
    "df_test[num_vars] = scaler.transform(df_test[num_vars])"
   ]
  },
  {
   "cell_type": "code",
   "execution_count": 64,
   "metadata": {
    "execution": {
     "iopub.execute_input": "2024-01-26T05:16:18.842182Z",
     "iopub.status.busy": "2024-01-26T05:16:18.841371Z",
     "iopub.status.idle": "2024-01-26T05:16:18.856319Z",
     "shell.execute_reply": "2024-01-26T05:16:18.856976Z",
     "shell.execute_reply.started": "2024-01-26T05:11:08.879194Z"
    },
    "papermill": {
     "duration": 0.114306,
     "end_time": "2024-01-26T05:16:18.857175",
     "exception": false,
     "start_time": "2024-01-26T05:16:18.742869",
     "status": "completed"
    },
    "tags": []
   },
   "outputs": [
    {
     "data": {
      "text/html": [
       "<div>\n",
       "<style scoped>\n",
       "    .dataframe tbody tr th:only-of-type {\n",
       "        vertical-align: middle;\n",
       "    }\n",
       "\n",
       "    .dataframe tbody tr th {\n",
       "        vertical-align: top;\n",
       "    }\n",
       "\n",
       "    .dataframe thead th {\n",
       "        text-align: right;\n",
       "    }\n",
       "</style>\n",
       "<table border=\"1\" class=\"dataframe\">\n",
       "  <thead>\n",
       "    <tr style=\"text-align: right;\">\n",
       "      <th></th>\n",
       "      <th>Produktivitas Mangga</th>\n",
       "      <th>Sun Hour</th>\n",
       "      <th>Sun Day</th>\n",
       "    </tr>\n",
       "  </thead>\n",
       "  <tbody>\n",
       "    <tr>\n",
       "      <th>31</th>\n",
       "      <td>0.867647</td>\n",
       "      <td>0.740345</td>\n",
       "      <td>0.350649</td>\n",
       "    </tr>\n",
       "    <tr>\n",
       "      <th>4</th>\n",
       "      <td>0.955882</td>\n",
       "      <td>0.381724</td>\n",
       "      <td>0.181818</td>\n",
       "    </tr>\n",
       "    <tr>\n",
       "      <th>6</th>\n",
       "      <td>0.544118</td>\n",
       "      <td>0.921724</td>\n",
       "      <td>0.896104</td>\n",
       "    </tr>\n",
       "    <tr>\n",
       "      <th>16</th>\n",
       "      <td>0.441176</td>\n",
       "      <td>0.362069</td>\n",
       "      <td>0.090909</td>\n",
       "    </tr>\n",
       "    <tr>\n",
       "      <th>30</th>\n",
       "      <td>1.029412</td>\n",
       "      <td>0.987241</td>\n",
       "      <td>0.974026</td>\n",
       "    </tr>\n",
       "  </tbody>\n",
       "</table>\n",
       "</div>"
      ],
      "text/plain": [
       "    Produktivitas Mangga  Sun Hour   Sun Day\n",
       "31              0.867647  0.740345  0.350649\n",
       "4               0.955882  0.381724  0.181818\n",
       "6               0.544118  0.921724  0.896104\n",
       "16              0.441176  0.362069  0.090909\n",
       "30              1.029412  0.987241  0.974026"
      ]
     },
     "execution_count": 64,
     "metadata": {},
     "output_type": "execute_result"
    }
   ],
   "source": [
    "df_test.head()"
   ]
  },
  {
   "cell_type": "code",
   "execution_count": 65,
   "metadata": {
    "execution": {
     "iopub.execute_input": "2024-01-26T05:16:19.046724Z",
     "iopub.status.busy": "2024-01-26T05:16:19.045882Z",
     "iopub.status.idle": "2024-01-26T05:16:19.068222Z",
     "shell.execute_reply": "2024-01-26T05:16:19.068918Z",
     "shell.execute_reply.started": "2024-01-26T05:11:08.896388Z"
    },
    "papermill": {
     "duration": 0.117814,
     "end_time": "2024-01-26T05:16:19.069107",
     "exception": false,
     "start_time": "2024-01-26T05:16:18.951293",
     "status": "completed"
    },
    "tags": []
   },
   "outputs": [
    {
     "data": {
      "text/html": [
       "<div>\n",
       "<style scoped>\n",
       "    .dataframe tbody tr th:only-of-type {\n",
       "        vertical-align: middle;\n",
       "    }\n",
       "\n",
       "    .dataframe tbody tr th {\n",
       "        vertical-align: top;\n",
       "    }\n",
       "\n",
       "    .dataframe thead th {\n",
       "        text-align: right;\n",
       "    }\n",
       "</style>\n",
       "<table border=\"1\" class=\"dataframe\">\n",
       "  <thead>\n",
       "    <tr style=\"text-align: right;\">\n",
       "      <th></th>\n",
       "      <th>Produktivitas Mangga</th>\n",
       "      <th>Sun Hour</th>\n",
       "      <th>Sun Day</th>\n",
       "    </tr>\n",
       "  </thead>\n",
       "  <tbody>\n",
       "    <tr>\n",
       "      <th>count</th>\n",
       "      <td>12.000000</td>\n",
       "      <td>12.000000</td>\n",
       "      <td>12.000000</td>\n",
       "    </tr>\n",
       "    <tr>\n",
       "      <th>mean</th>\n",
       "      <td>0.920343</td>\n",
       "      <td>0.639253</td>\n",
       "      <td>0.464286</td>\n",
       "    </tr>\n",
       "    <tr>\n",
       "      <th>std</th>\n",
       "      <td>0.462304</td>\n",
       "      <td>0.290998</td>\n",
       "      <td>0.396520</td>\n",
       "    </tr>\n",
       "    <tr>\n",
       "      <th>min</th>\n",
       "      <td>0.397059</td>\n",
       "      <td>0.167931</td>\n",
       "      <td>0.025974</td>\n",
       "    </tr>\n",
       "    <tr>\n",
       "      <th>25%</th>\n",
       "      <td>0.643382</td>\n",
       "      <td>0.383276</td>\n",
       "      <td>0.172078</td>\n",
       "    </tr>\n",
       "    <tr>\n",
       "      <th>50%</th>\n",
       "      <td>0.838235</td>\n",
       "      <td>0.627586</td>\n",
       "      <td>0.305195</td>\n",
       "    </tr>\n",
       "    <tr>\n",
       "      <th>75%</th>\n",
       "      <td>1.033088</td>\n",
       "      <td>0.925776</td>\n",
       "      <td>0.915584</td>\n",
       "    </tr>\n",
       "    <tr>\n",
       "      <th>max</th>\n",
       "      <td>2.014706</td>\n",
       "      <td>1.056207</td>\n",
       "      <td>1.064935</td>\n",
       "    </tr>\n",
       "  </tbody>\n",
       "</table>\n",
       "</div>"
      ],
      "text/plain": [
       "       Produktivitas Mangga   Sun Hour    Sun Day\n",
       "count             12.000000  12.000000  12.000000\n",
       "mean               0.920343   0.639253   0.464286\n",
       "std                0.462304   0.290998   0.396520\n",
       "min                0.397059   0.167931   0.025974\n",
       "25%                0.643382   0.383276   0.172078\n",
       "50%                0.838235   0.627586   0.305195\n",
       "75%                1.033088   0.925776   0.915584\n",
       "max                2.014706   1.056207   1.064935"
      ]
     },
     "execution_count": 65,
     "metadata": {},
     "output_type": "execute_result"
    }
   ],
   "source": [
    "df_test.describe()"
   ]
  },
  {
   "cell_type": "markdown",
   "metadata": {
    "papermill": {
     "duration": 0.094197,
     "end_time": "2024-01-26T05:16:19.256610",
     "exception": false,
     "start_time": "2024-01-26T05:16:19.162413",
     "status": "completed"
    },
    "tags": []
   },
   "source": [
    "### Dividing into X_test and y_test"
   ]
  },
  {
   "cell_type": "code",
   "execution_count": 66,
   "metadata": {
    "execution": {
     "iopub.execute_input": "2024-01-26T05:16:19.446235Z",
     "iopub.status.busy": "2024-01-26T05:16:19.445195Z",
     "iopub.status.idle": "2024-01-26T05:16:19.456851Z",
     "shell.execute_reply": "2024-01-26T05:16:19.456193Z",
     "shell.execute_reply.started": "2024-01-26T05:11:08.923560Z"
    },
    "papermill": {
     "duration": 0.106242,
     "end_time": "2024-01-26T05:16:19.457020",
     "exception": false,
     "start_time": "2024-01-26T05:16:19.350778",
     "status": "completed"
    },
    "tags": []
   },
   "outputs": [
    {
     "name": "stdout",
     "output_type": "stream",
     "text": [
      "<class 'pandas.core.frame.DataFrame'>\n",
      "Int64Index: 12 entries, 31 to 0\n",
      "Data columns (total 2 columns):\n",
      " #   Column    Non-Null Count  Dtype  \n",
      "---  ------    --------------  -----  \n",
      " 0   Sun Hour  12 non-null     float64\n",
      " 1   Sun Day   12 non-null     float64\n",
      "dtypes: float64(2)\n",
      "memory usage: 288.0 bytes\n"
     ]
    }
   ],
   "source": [
    "y_test = df_test.pop('Produktivitas Mangga')\n",
    "X_test = df_test\n",
    "X_test.info()"
   ]
  },
  {
   "cell_type": "code",
   "execution_count": 67,
   "metadata": {
    "execution": {
     "iopub.execute_input": "2024-01-26T05:16:19.652394Z",
     "iopub.status.busy": "2024-01-26T05:16:19.651595Z",
     "iopub.status.idle": "2024-01-26T05:16:19.665513Z",
     "shell.execute_reply": "2024-01-26T05:16:19.666251Z",
     "shell.execute_reply.started": "2024-01-26T05:11:08.936850Z"
    },
    "papermill": {
     "duration": 0.114638,
     "end_time": "2024-01-26T05:16:19.666440",
     "exception": false,
     "start_time": "2024-01-26T05:16:19.551802",
     "status": "completed"
    },
    "tags": []
   },
   "outputs": [
    {
     "name": "stdout",
     "output_type": "stream",
     "text": [
      "<class 'pandas.core.frame.DataFrame'>\n",
      "Int64Index: 12 entries, 31 to 0\n",
      "Data columns (total 3 columns):\n",
      " #   Column    Non-Null Count  Dtype  \n",
      "---  ------    --------------  -----  \n",
      " 0   const     12 non-null     float64\n",
      " 1   Sun Hour  12 non-null     float64\n",
      " 2   Sun Day   12 non-null     float64\n",
      "dtypes: float64(3)\n",
      "memory usage: 384.0 bytes\n"
     ]
    }
   ],
   "source": [
    "#Selecting the variables that were part of final model.\n",
    "col1=X_train_rfe.columns\n",
    "X_test=X_test[col1]\n",
    "# Adding constant variable to test dataframe\n",
    "X_test_lm1 = sm.add_constant(X_test)\n",
    "X_test_lm1.info()"
   ]
  },
  {
   "cell_type": "code",
   "execution_count": 68,
   "metadata": {
    "execution": {
     "iopub.execute_input": "2024-01-26T05:16:19.861485Z",
     "iopub.status.busy": "2024-01-26T05:16:19.860731Z",
     "iopub.status.idle": "2024-01-26T05:16:19.863253Z",
     "shell.execute_reply": "2024-01-26T05:16:19.863783Z",
     "shell.execute_reply.started": "2024-01-26T05:11:08.953791Z"
    },
    "papermill": {
     "duration": 0.102205,
     "end_time": "2024-01-26T05:16:19.863956",
     "exception": false,
     "start_time": "2024-01-26T05:16:19.761751",
     "status": "completed"
    },
    "tags": []
   },
   "outputs": [],
   "source": [
    "# Making predictions using the final model (lr6)\n",
    "\n",
    "y_pred = lr1.predict(X_test_lm1)"
   ]
  },
  {
   "cell_type": "markdown",
   "metadata": {
    "papermill": {
     "duration": 0.092237,
     "end_time": "2024-01-26T05:16:20.050275",
     "exception": false,
     "start_time": "2024-01-26T05:16:19.958038",
     "status": "completed"
    },
    "tags": []
   },
   "source": [
    "# MODEL EVALUATION"
   ]
  },
  {
   "cell_type": "code",
   "execution_count": 69,
   "metadata": {
    "execution": {
     "iopub.execute_input": "2024-01-26T05:16:20.239206Z",
     "iopub.status.busy": "2024-01-26T05:16:20.238382Z",
     "iopub.status.idle": "2024-01-26T05:16:20.419898Z",
     "shell.execute_reply": "2024-01-26T05:16:20.420393Z",
     "shell.execute_reply.started": "2024-01-26T05:11:08.964881Z"
    },
    "papermill": {
     "duration": 0.277566,
     "end_time": "2024-01-26T05:16:20.420578",
     "exception": false,
     "start_time": "2024-01-26T05:16:20.143012",
     "status": "completed"
    },
    "tags": []
   },
   "outputs": [
    {
     "data": {
      "image/png": "[encoded data removed]",
      "text/plain": [
       "<Figure size 432x288 with 1 Axes>"
      ]
     },
     "metadata": {
      "needs_background": "light"
     },
     "output_type": "display_data"
    }
   ],
   "source": [
    "# Plotting y_test and y_pred to understand the spread\n",
    "\n",
    "fig = plt.figure()\n",
    "plt.scatter(y_test, y_pred, alpha=.5)\n",
    "fig.suptitle('y_test vs y_pred', fontsize = 20)              # Plot heading \n",
    "plt.xlabel('y_test', fontsize = 18)                          # X-label\n",
    "plt.ylabel('y_pred', fontsize = 16) \n",
    "plt.show()"
   ]
  },
  {
   "cell_type": "markdown",
   "metadata": {
    "papermill": {
     "duration": 0.093371,
     "end_time": "2024-01-26T05:16:20.612797",
     "exception": false,
     "start_time": "2024-01-26T05:16:20.519426",
     "status": "completed"
    },
    "tags": []
   },
   "source": [
    " # R^2 Value for TEST"
   ]
  },
  {
   "cell_type": "code",
   "execution_count": 70,
   "metadata": {
    "execution": {
     "iopub.execute_input": "2024-01-26T05:16:20.807938Z",
     "iopub.status.busy": "2024-01-26T05:16:20.807106Z",
     "iopub.status.idle": "2024-01-26T05:16:20.813907Z",
     "shell.execute_reply": "2024-01-26T05:16:20.814446Z",
     "shell.execute_reply.started": "2024-01-26T05:11:09.145453Z"
    },
    "papermill": {
     "duration": 0.106029,
     "end_time": "2024-01-26T05:16:20.814640",
     "exception": false,
     "start_time": "2024-01-26T05:16:20.708611",
     "status": "completed"
    },
    "tags": []
   },
   "outputs": [
    {
     "data": {
      "text/plain": [
       "-0.8131921969133642"
      ]
     },
     "execution_count": 70,
     "metadata": {},
     "output_type": "execute_result"
    }
   ],
   "source": [
    "from sklearn.metrics import r2_score\n",
    "r2_score(y_test, y_pred)"
   ]
  },
  {
   "cell_type": "markdown",
   "metadata": {
    "papermill": {
     "duration": 0.096097,
     "end_time": "2024-01-26T05:16:21.005203",
     "exception": false,
     "start_time": "2024-01-26T05:16:20.909106",
     "status": "completed"
    },
    "tags": []
   },
   "source": [
    "## Adjusted R^2 Value for TEST"
   ]
  },
  {
   "cell_type": "code",
   "execution_count": 71,
   "metadata": {
    "execution": {
     "iopub.execute_input": "2024-01-26T05:16:21.204979Z",
     "iopub.status.busy": "2024-01-26T05:16:21.204202Z",
     "iopub.status.idle": "2024-01-26T05:16:21.208453Z",
     "shell.execute_reply": "2024-01-26T05:16:21.209154Z",
     "shell.execute_reply.started": "2024-01-26T05:11:09.154851Z"
    },
    "papermill": {
     "duration": 0.108809,
     "end_time": "2024-01-26T05:16:21.209376",
     "exception": false,
     "start_time": "2024-01-26T05:16:21.100567",
     "status": "completed"
    },
    "tags": []
   },
   "outputs": [],
   "source": [
    "# We already have the value of R^2 (calculated in above step)\n",
    "\n",
    "r2=1.2194723226718907"
   ]
  },
  {
   "cell_type": "code",
   "execution_count": 72,
   "metadata": {
    "execution": {
     "iopub.execute_input": "2024-01-26T05:16:21.409314Z",
     "iopub.status.busy": "2024-01-26T05:16:21.408518Z",
     "iopub.status.idle": "2024-01-26T05:16:21.415055Z",
     "shell.execute_reply": "2024-01-26T05:16:21.414460Z",
     "shell.execute_reply.started": "2024-01-26T05:11:09.165270Z"
    },
    "papermill": {
     "duration": 0.108478,
     "end_time": "2024-01-26T05:16:21.415239",
     "exception": false,
     "start_time": "2024-01-26T05:16:21.306761",
     "status": "completed"
    },
    "tags": []
   },
   "outputs": [
    {
     "data": {
      "text/plain": [
       "(12, 2)"
      ]
     },
     "execution_count": 72,
     "metadata": {},
     "output_type": "execute_result"
    }
   ],
   "source": [
    "# Get the shape of X_test\n",
    "X_test.shape\n"
   ]
  },
  {
   "cell_type": "code",
   "execution_count": 73,
   "metadata": {
    "execution": {
     "iopub.execute_input": "2024-01-26T05:16:21.613318Z",
     "iopub.status.busy": "2024-01-26T05:16:21.612260Z",
     "iopub.status.idle": "2024-01-26T05:16:21.617382Z",
     "shell.execute_reply": "2024-01-26T05:16:21.616784Z",
     "shell.execute_reply.started": "2024-01-26T05:11:09.178108Z"
    },
    "papermill": {
     "duration": 0.106437,
     "end_time": "2024-01-26T05:16:21.617524",
     "exception": false,
     "start_time": "2024-01-26T05:16:21.511087",
     "status": "completed"
    },
    "tags": []
   },
   "outputs": [
    {
     "data": {
      "text/plain": [
       "1.2682439499323108"
      ]
     },
     "execution_count": 73,
     "metadata": {},
     "output_type": "execute_result"
    }
   ],
   "source": [
    "# n is number of rows in X\n",
    "\n",
    "n = X_test.shape[0]\n",
    "\n",
    "\n",
    "# Number of features (predictors, p) is the shape along axis 1\n",
    "p = X_test.shape[1]\n",
    "\n",
    "# We find the Adjusted R-squared using the formula\n",
    "\n",
    "adjusted_r2 = 1-(1-r2)*(n-1)/(n-p-1)\n",
    "adjusted_r2"
   ]
  },
  {
   "cell_type": "markdown",
   "metadata": {
    "papermill": {
     "duration": 0.09333,
     "end_time": "2024-01-26T05:16:21.867355",
     "exception": false,
     "start_time": "2024-01-26T05:16:21.774025",
     "status": "completed"
    },
    "tags": []
   },
   "source": [
    "# Final Result Comparison"
   ]
  },
  {
   "cell_type": "markdown",
   "metadata": {
    "papermill": {
     "duration": 0.096366,
     "end_time": "2024-01-26T05:16:22.059214",
     "exception": false,
     "start_time": "2024-01-26T05:16:21.962848",
     "status": "completed"
    },
    "tags": []
   },
   "source": [
    "- Train R^2 :0.001\n",
    "- Train Adjusted R^2 :-0.079 \n",
    "- Test R^2 :-0.8131921969133633\n",
    "- Test Adjusted R^2 :1.2682439499323108 \n",
    "- Model ini belum bisa dikatakan cocok dengan data yang ada. Data yang sedikit juga mempengaruhi hasil dari nilai yang didapat diatas."
   ]
  },
  {
   "cell_type": "markdown",
   "metadata": {
    "papermill": {
     "duration": 0.094655,
     "end_time": "2024-01-26T05:16:22.249051",
     "exception": false,
     "start_time": "2024-01-26T05:16:22.154396",
     "status": "completed"
    },
    "tags": []
   },
   "source": [
    "# FINAL REPORT"
   ]
  }
 ],
 "metadata": {
  "kaggle": {
   "accelerator": "none",
   "dataSources": [
    {
     "datasetId": 789011,
     "sourceId": 1355226,
     "sourceType": "datasetVersion"
    },
    {
     "datasetId": 4246041,
     "sourceId": 7327627,
     "sourceType": "datasetVersion"
    }
   ],
   "dockerImageVersionId": 29981,
   "isGpuEnabled": false,
   "isInternetEnabled": true,
   "language": "python",
   "sourceType": "notebook"
  },
  "kernelspec": {
   "display_name": "Python 3",
   "language": "python",
   "name": "python3"
  },
  "language_info": {
   "codemirror_mode": {
    "name": "ipython",
    "version": 3
   },
   "file_extension": ".py",
   "mimetype": "text/x-python",
   "name": "python",
   "nbconvert_exporter": "python",
   "pygments_lexer": "ipython3",
   "version": "3.7.6"
  },
  "papermill": {
   "duration": 36.014329,
   "end_time": "2024-01-26T05:16:22.452389",
   "environment_variables": {},
   "exception": null,
   "input_path": "__notebook__.ipynb",
   "output_path": "__notebook__.ipynb",
   "parameters": {},
   "start_time": "2024-01-26T05:15:46.438060",
   "version": "2.1.0"
  }
 },
 "nbformat": 4,
 "nbformat_minor": 4
}
